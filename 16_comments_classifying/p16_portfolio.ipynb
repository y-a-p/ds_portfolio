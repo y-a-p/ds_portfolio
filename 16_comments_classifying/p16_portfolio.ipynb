{
 "cells": [
  {
   "cell_type": "markdown",
   "metadata": {
    "toc": true
   },
   "source": [
    "<h1>Содержание<span class=\"tocSkip\"></span></h1>\n",
    "<div class=\"toc\"><ul class=\"toc-item\"><li><span><a href=\"#Подготовка\" data-toc-modified-id=\"Подготовка-1\"><span class=\"toc-item-num\">1&nbsp;&nbsp;</span>Подготовка</a></span></li><li><span><a href=\"#Обучение\" data-toc-modified-id=\"Обучение-2\"><span class=\"toc-item-num\">2&nbsp;&nbsp;</span>Обучение</a></span></li><li><span><a href=\"#Выводы\" data-toc-modified-id=\"Выводы-3\"><span class=\"toc-item-num\">3&nbsp;&nbsp;</span>Выводы</a></span></li><li><span><a href=\"#Чек-лист-проверки\" data-toc-modified-id=\"Чек-лист-проверки-4\"><span class=\"toc-item-num\">4&nbsp;&nbsp;</span>Чек-лист проверки</a></span></li></ul></div>"
   ]
  },
  {
   "cell_type": "markdown",
   "metadata": {},
   "source": [
    "# Проект для «Викишоп»"
   ]
  },
  {
   "cell_type": "markdown",
   "metadata": {},
   "source": [
    "Интернет-магазин «Викишоп» запускает новый сервис. Теперь пользователи могут редактировать и дополнять описания товаров, как в вики-сообществах. То есть клиенты предлагают свои правки и комментируют изменения других. Магазину нужен инструмент, который будет искать токсичные комментарии и отправлять их на модерацию. \n",
    "\n",
    "Обучите модель классифицировать комментарии на позитивные и негативные. В вашем распоряжении набор данных с разметкой о токсичности правок.\n",
    "\n",
    "Постройте модель со значением метрики качества *F1* не меньше 0.75. \n",
    "\n",
    "**Инструкция по выполнению проекта**\n",
    "\n",
    "1. Загрузите и подготовьте данные.\n",
    "2. Обучите разные модели. \n",
    "3. Сделайте выводы.\n",
    "\n",
    "Для выполнения проекта применять *BERT* необязательно, но вы можете попробовать.\n",
    "\n",
    "**Описание данных**\n",
    "\n",
    "Данные находятся в файле `toxic_comments.csv`. Столбец *text* в нём содержит текст комментария, а *toxic* — целевой признак."
   ]
  },
  {
   "cell_type": "markdown",
   "metadata": {},
   "source": [
    "## Подготовка"
   ]
  },
  {
   "cell_type": "code",
   "execution_count": 37,
   "metadata": {},
   "outputs": [],
   "source": [
    "import re\n",
    "import nltk\n",
    "import pandas as pd\n",
    "import lightgbm as lgb\n",
    "import matplotlib.pyplot as plt\n",
    "from nltk import pos_tag\n",
    "from nltk.corpus import stopwords, wordnet\n",
    "from nltk.stem import WordNetLemmatizer\n",
    "from nltk.tokenize import word_tokenize\n",
    "from nltk.probability import FreqDist\n",
    "from sklearn.pipeline import Pipeline\n",
    "from sklearn.feature_extraction.text import TfidfVectorizer\n",
    "from sklearn.model_selection import train_test_split, GridSearchCV\n",
    "from sklearn.linear_model import LogisticRegression\n",
    "from sklearn.ensemble import RandomForestClassifier\n",
    "from sklearn.metrics import f1_score\n"
   ]
  },
  {
   "cell_type": "code",
   "execution_count": 2,
   "metadata": {},
   "outputs": [
    {
     "name": "stdout",
     "output_type": "stream",
     "text": [
      "Requirement already satisfied: pandarallel in /opt/conda/lib/python3.9/site-packages (1.6.5)\r\n",
      "Requirement already satisfied: dill>=0.3.1 in /opt/conda/lib/python3.9/site-packages (from pandarallel) (0.3.8)\r\n",
      "Requirement already satisfied: pandas>=1 in /opt/conda/lib/python3.9/site-packages (from pandarallel) (1.2.4)\r\n",
      "Requirement already satisfied: psutil in /opt/conda/lib/python3.9/site-packages (from pandarallel) (5.9.8)\r\n",
      "Requirement already satisfied: python-dateutil>=2.7.3 in /opt/conda/lib/python3.9/site-packages (from pandas>=1->pandarallel) (2.8.1)\r\n",
      "Requirement already satisfied: pytz>=2017.3 in /opt/conda/lib/python3.9/site-packages (from pandas>=1->pandarallel) (2021.1)\r\n",
      "Requirement already satisfied: numpy>=1.16.5 in /opt/conda/lib/python3.9/site-packages (from pandas>=1->pandarallel) (1.21.1)\r\n",
      "Requirement already satisfied: six>=1.5 in /opt/conda/lib/python3.9/site-packages (from python-dateutil>=2.7.3->pandas>=1->pandarallel) (1.16.0)\r\n"
     ]
    }
   ],
   "source": [
    "!pip install pandarallel"
   ]
  },
  {
   "cell_type": "code",
   "execution_count": 3,
   "metadata": {},
   "outputs": [
    {
     "name": "stdout",
     "output_type": "stream",
     "text": [
      "INFO: Pandarallel will run on 4 workers.\n",
      "INFO: Pandarallel will use Memory file system to transfer data between the main process and workers.\n"
     ]
    }
   ],
   "source": [
    "from pandarallel import pandarallel\n",
    "from tqdm import tqdm\n",
    "tqdm.pandas(desc=\"progress\")\n",
    "pandarallel.initialize(progress_bar = True)"
   ]
  },
  {
   "cell_type": "code",
   "execution_count": 4,
   "metadata": {},
   "outputs": [
    {
     "name": "stdout",
     "output_type": "stream",
     "text": [
      "Requirement already satisfied: Pillow in /opt/conda/lib/python3.9/site-packages (10.2.0)\r\n"
     ]
    }
   ],
   "source": [
    "!pip install Pillow"
   ]
  },
  {
   "cell_type": "code",
   "execution_count": 5,
   "metadata": {},
   "outputs": [
    {
     "name": "stdout",
     "output_type": "stream",
     "text": [
      "Requirement already satisfied: wordcloud in /opt/conda/lib/python3.9/site-packages (1.9.3)\n",
      "Requirement already satisfied: matplotlib in /opt/conda/lib/python3.9/site-packages (from wordcloud) (3.3.4)\n",
      "Requirement already satisfied: numpy>=1.6.1 in /opt/conda/lib/python3.9/site-packages (from wordcloud) (1.21.1)\n",
      "Requirement already satisfied: pillow in /opt/conda/lib/python3.9/site-packages (from wordcloud) (10.2.0)\n",
      "Requirement already satisfied: kiwisolver>=1.0.1 in /opt/conda/lib/python3.9/site-packages (from matplotlib->wordcloud) (1.4.4)\n",
      "Requirement already satisfied: python-dateutil>=2.1 in /opt/conda/lib/python3.9/site-packages (from matplotlib->wordcloud) (2.8.1)\n",
      "Requirement already satisfied: cycler>=0.10 in /opt/conda/lib/python3.9/site-packages (from matplotlib->wordcloud) (0.11.0)\n",
      "Requirement already satisfied: pyparsing!=2.0.4,!=2.1.2,!=2.1.6,>=2.0.3 in /opt/conda/lib/python3.9/site-packages (from matplotlib->wordcloud) (2.4.7)\n",
      "Requirement already satisfied: six>=1.5 in /opt/conda/lib/python3.9/site-packages (from python-dateutil>=2.1->matplotlib->wordcloud) (1.16.0)\n"
     ]
    }
   ],
   "source": [
    "!/opt/conda/bin/python -m pip install wordcloud"
   ]
  },
  {
   "cell_type": "code",
   "execution_count": 6,
   "metadata": {},
   "outputs": [
    {
     "name": "stdout",
     "output_type": "stream",
     "text": [
      "Requirement already satisfied: wordcloud in /opt/conda/lib/python3.9/site-packages (1.9.3)\n",
      "Requirement already satisfied: pillow in /opt/conda/lib/python3.9/site-packages (10.2.0)\n",
      "Requirement already satisfied: matplotlib in /opt/conda/lib/python3.9/site-packages (from wordcloud) (3.3.4)\n",
      "Requirement already satisfied: numpy>=1.6.1 in /opt/conda/lib/python3.9/site-packages (from wordcloud) (1.21.1)\n",
      "Requirement already satisfied: cycler>=0.10 in /opt/conda/lib/python3.9/site-packages (from matplotlib->wordcloud) (0.11.0)\n",
      "Requirement already satisfied: pyparsing!=2.0.4,!=2.1.2,!=2.1.6,>=2.0.3 in /opt/conda/lib/python3.9/site-packages (from matplotlib->wordcloud) (2.4.7)\n",
      "Requirement already satisfied: kiwisolver>=1.0.1 in /opt/conda/lib/python3.9/site-packages (from matplotlib->wordcloud) (1.4.4)\n",
      "Requirement already satisfied: python-dateutil>=2.1 in /opt/conda/lib/python3.9/site-packages (from matplotlib->wordcloud) (2.8.1)\n",
      "Requirement already satisfied: six>=1.5 in /opt/conda/lib/python3.9/site-packages (from python-dateutil>=2.1->matplotlib->wordcloud) (1.16.0)\n",
      "Note: you may need to restart the kernel to use updated packages.\n"
     ]
    }
   ],
   "source": [
    "pip install --upgrade wordcloud pillow"
   ]
  },
  {
   "cell_type": "code",
   "execution_count": 7,
   "metadata": {},
   "outputs": [],
   "source": [
    "from wordcloud import WordCloud"
   ]
  },
  {
   "cell_type": "code",
   "execution_count": 8,
   "metadata": {},
   "outputs": [],
   "source": [
    "try:\n",
    "    df = pd.read_csv('/datasets/toxic_comments.csv')\n",
    "except:\n",
    "    print(\"При загрузке данных возникли ошибки\")"
   ]
  },
  {
   "cell_type": "code",
   "execution_count": 9,
   "metadata": {},
   "outputs": [
    {
     "name": "stdout",
     "output_type": "stream",
     "text": [
      "<class 'pandas.core.frame.DataFrame'>\n",
      "RangeIndex: 159292 entries, 0 to 159291\n",
      "Data columns (total 3 columns):\n",
      " #   Column      Non-Null Count   Dtype \n",
      "---  ------      --------------   ----- \n",
      " 0   Unnamed: 0  159292 non-null  int64 \n",
      " 1   text        159292 non-null  object\n",
      " 2   toxic       159292 non-null  int64 \n",
      "dtypes: int64(2), object(1)\n",
      "memory usage: 3.6+ MB\n"
     ]
    }
   ],
   "source": [
    "df.info()"
   ]
  },
  {
   "cell_type": "code",
   "execution_count": 10,
   "metadata": {},
   "outputs": [
    {
     "data": {
      "text/html": [
       "<div>\n",
       "<style scoped>\n",
       "    .dataframe tbody tr th:only-of-type {\n",
       "        vertical-align: middle;\n",
       "    }\n",
       "\n",
       "    .dataframe tbody tr th {\n",
       "        vertical-align: top;\n",
       "    }\n",
       "\n",
       "    .dataframe thead th {\n",
       "        text-align: right;\n",
       "    }\n",
       "</style>\n",
       "<table border=\"1\" class=\"dataframe\">\n",
       "  <thead>\n",
       "    <tr style=\"text-align: right;\">\n",
       "      <th></th>\n",
       "      <th>Unnamed: 0</th>\n",
       "      <th>text</th>\n",
       "      <th>toxic</th>\n",
       "    </tr>\n",
       "  </thead>\n",
       "  <tbody>\n",
       "    <tr>\n",
       "      <th>0</th>\n",
       "      <td>0</td>\n",
       "      <td>Explanation\\nWhy the edits made under my usern...</td>\n",
       "      <td>0</td>\n",
       "    </tr>\n",
       "    <tr>\n",
       "      <th>1</th>\n",
       "      <td>1</td>\n",
       "      <td>D'aww! He matches this background colour I'm s...</td>\n",
       "      <td>0</td>\n",
       "    </tr>\n",
       "    <tr>\n",
       "      <th>2</th>\n",
       "      <td>2</td>\n",
       "      <td>Hey man, I'm really not trying to edit war. It...</td>\n",
       "      <td>0</td>\n",
       "    </tr>\n",
       "    <tr>\n",
       "      <th>3</th>\n",
       "      <td>3</td>\n",
       "      <td>\"\\nMore\\nI can't make any real suggestions on ...</td>\n",
       "      <td>0</td>\n",
       "    </tr>\n",
       "    <tr>\n",
       "      <th>4</th>\n",
       "      <td>4</td>\n",
       "      <td>You, sir, are my hero. Any chance you remember...</td>\n",
       "      <td>0</td>\n",
       "    </tr>\n",
       "  </tbody>\n",
       "</table>\n",
       "</div>"
      ],
      "text/plain": [
       "   Unnamed: 0                                               text  toxic\n",
       "0           0  Explanation\\nWhy the edits made under my usern...      0\n",
       "1           1  D'aww! He matches this background colour I'm s...      0\n",
       "2           2  Hey man, I'm really not trying to edit war. It...      0\n",
       "3           3  \"\\nMore\\nI can't make any real suggestions on ...      0\n",
       "4           4  You, sir, are my hero. Any chance you remember...      0"
      ]
     },
     "metadata": {},
     "output_type": "display_data"
    },
    {
     "data": {
      "text/html": [
       "<div>\n",
       "<style scoped>\n",
       "    .dataframe tbody tr th:only-of-type {\n",
       "        vertical-align: middle;\n",
       "    }\n",
       "\n",
       "    .dataframe tbody tr th {\n",
       "        vertical-align: top;\n",
       "    }\n",
       "\n",
       "    .dataframe thead th {\n",
       "        text-align: right;\n",
       "    }\n",
       "</style>\n",
       "<table border=\"1\" class=\"dataframe\">\n",
       "  <thead>\n",
       "    <tr style=\"text-align: right;\">\n",
       "      <th></th>\n",
       "      <th>Unnamed: 0</th>\n",
       "      <th>text</th>\n",
       "      <th>toxic</th>\n",
       "    </tr>\n",
       "  </thead>\n",
       "  <tbody>\n",
       "    <tr>\n",
       "      <th>159287</th>\n",
       "      <td>159446</td>\n",
       "      <td>\":::::And for the second time of asking, when ...</td>\n",
       "      <td>0</td>\n",
       "    </tr>\n",
       "    <tr>\n",
       "      <th>159288</th>\n",
       "      <td>159447</td>\n",
       "      <td>You should be ashamed of yourself \\n\\nThat is ...</td>\n",
       "      <td>0</td>\n",
       "    </tr>\n",
       "    <tr>\n",
       "      <th>159289</th>\n",
       "      <td>159448</td>\n",
       "      <td>Spitzer \\n\\nUmm, theres no actual article for ...</td>\n",
       "      <td>0</td>\n",
       "    </tr>\n",
       "    <tr>\n",
       "      <th>159290</th>\n",
       "      <td>159449</td>\n",
       "      <td>And it looks like it was actually you who put ...</td>\n",
       "      <td>0</td>\n",
       "    </tr>\n",
       "    <tr>\n",
       "      <th>159291</th>\n",
       "      <td>159450</td>\n",
       "      <td>\"\\nAnd ... I really don't think you understand...</td>\n",
       "      <td>0</td>\n",
       "    </tr>\n",
       "  </tbody>\n",
       "</table>\n",
       "</div>"
      ],
      "text/plain": [
       "        Unnamed: 0                                               text  toxic\n",
       "159287      159446  \":::::And for the second time of asking, when ...      0\n",
       "159288      159447  You should be ashamed of yourself \\n\\nThat is ...      0\n",
       "159289      159448  Spitzer \\n\\nUmm, theres no actual article for ...      0\n",
       "159290      159449  And it looks like it was actually you who put ...      0\n",
       "159291      159450  \"\\nAnd ... I really don't think you understand...      0"
      ]
     },
     "metadata": {},
     "output_type": "display_data"
    }
   ],
   "source": [
    "display(df.head())\n",
    "display(df.tail())"
   ]
  },
  {
   "cell_type": "code",
   "execution_count": 11,
   "metadata": {},
   "outputs": [
    {
     "data": {
      "text/plain": [
       "0    143106\n",
       "1     16186\n",
       "Name: toxic, dtype: int64"
      ]
     },
     "execution_count": 11,
     "metadata": {},
     "output_type": "execute_result"
    }
   ],
   "source": [
    "df['toxic'].value_counts()"
   ]
  },
  {
   "cell_type": "markdown",
   "metadata": {},
   "source": [
    "Классы сильно не сбалансированы. На текущем этапе исправлять не будем, вернемся к этому если результаты обучения будут не удовлетворительными"
   ]
  },
  {
   "cell_type": "code",
   "execution_count": 13,
   "metadata": {},
   "outputs": [
    {
     "name": "stderr",
     "output_type": "stream",
     "text": [
      "[nltk_data] Downloading package stopwords to /home/jovyan/nltk_data...\n",
      "[nltk_data]   Package stopwords is already up-to-date!\n",
      "[nltk_data] Downloading package averaged_perceptron_tagger to\n",
      "[nltk_data]     /home/jovyan/nltk_data...\n",
      "[nltk_data]   Package averaged_perceptron_tagger is already up-to-\n",
      "[nltk_data]       date!\n",
      "[nltk_data] Downloading package wordnet to /home/jovyan/nltk_data...\n",
      "[nltk_data]   Package wordnet is already up-to-date!\n",
      "[nltk_data] Downloading package punkt to /home/jovyan/nltk_data...\n",
      "[nltk_data]   Package punkt is already up-to-date!\n"
     ]
    }
   ],
   "source": [
    "nltk.download('stopwords')\n",
    "nltk.download('averaged_perceptron_tagger')\n",
    "nltk.download('wordnet')\n",
    "nltk.download('punkt')\n",
    "stop_words = set(stopwords.words('english'))\n",
    "wnl = WordNetLemmatizer()"
   ]
  },
  {
   "cell_type": "code",
   "execution_count": 15,
   "metadata": {},
   "outputs": [],
   "source": [
    "def get_wordnet_pos(treebank_tag):\n",
    "    if treebank_tag.startswith('J'):\n",
    "        return wordnet.ADJ\n",
    "    elif treebank_tag.startswith('V'):\n",
    "        return wordnet.VERB\n",
    "    elif treebank_tag.startswith('N'):\n",
    "        return wordnet.NOUN\n",
    "    elif treebank_tag.startswith('R'):\n",
    "        return wordnet.ADV\n",
    "    else:\n",
    "        return wordnet.NOUN\n",
    "\n",
    "def preprocess_text(text):\n",
    "    text = text.lower()\n",
    "    text = re.sub(r'\\W', ' ', text)\n",
    "    tokens = word_tokenize(text)  \n",
    "    tokens_pos = pos_tag(tokens) \n",
    "    lemmas = [wnl.lemmatize(word, get_wordnet_pos(pos)) for word, pos in tokens_pos if word not in stop_words]\n",
    "    text = \" \".join(lemmas)\n",
    "    return text"
   ]
  },
  {
   "cell_type": "code",
   "execution_count": 16,
   "metadata": {},
   "outputs": [],
   "source": [
    "df['text_lemma'] = df['text'].apply(preprocess_text)"
   ]
  },
  {
   "cell_type": "code",
   "execution_count": 17,
   "metadata": {},
   "outputs": [
    {
     "data": {
      "text/plain": [
       "0         explanation edits make username hardcore metal...\n",
       "1         aww match background colour seemingly stick th...\n",
       "2         hey man really try edit war guy constantly rem...\n",
       "3         make real suggestion improvement wonder sectio...\n",
       "4                             sir hero chance remember page\n",
       "                                ...                        \n",
       "159287    second time ask view completely contradict cov...\n",
       "159288    ashamed horrible thing put talk page 128 61 19 93\n",
       "159289    spitzer umm theres actual article prostitution...\n",
       "159290    look like actually put speedy first version de...\n",
       "159291    really think understand come idea bad right aw...\n",
       "Name: text_lemma, Length: 159292, dtype: object"
      ]
     },
     "execution_count": 17,
     "metadata": {},
     "output_type": "execute_result"
    }
   ],
   "source": [
    "df['text_lemma']"
   ]
  },
  {
   "cell_type": "code",
   "execution_count": 18,
   "metadata": {},
   "outputs": [
    {
     "data": {
      "text/plain": [
       "\"Explanation\\nWhy the edits made under my username Hardcore Metallica Fan were reverted? They weren't vandalisms, just closure on some GAs after I voted at New York Dolls FAC. And please don't remove the template from the talk page since I'm retired now.89.205.38.27\""
      ]
     },
     "execution_count": 18,
     "metadata": {},
     "output_type": "execute_result"
    }
   ],
   "source": [
    "df['text'][0]"
   ]
  },
  {
   "cell_type": "code",
   "execution_count": 19,
   "metadata": {},
   "outputs": [
    {
     "data": {
      "text/plain": [
       "'explanation edits make username hardcore metallica fan revert vandalism closure gas vote new york doll fac please remove template talk page since retire 89 205 38 27'"
      ]
     },
     "execution_count": 19,
     "metadata": {},
     "output_type": "execute_result"
    }
   ],
   "source": [
    "df['text_lemma'][0]"
   ]
  },
  {
   "cell_type": "code",
   "execution_count": 20,
   "metadata": {},
   "outputs": [],
   "source": [
    "text_raw = \" \".join(df['text_lemma'])"
   ]
  },
  {
   "cell_type": "code",
   "execution_count": 21,
   "metadata": {},
   "outputs": [],
   "source": [
    "wordcloud = WordCloud().generate(text_raw)"
   ]
  },
  {
   "cell_type": "code",
   "execution_count": 25,
   "metadata": {},
   "outputs": [
    {
     "data": {
      "image/png": "[encoded data removed]",
      "text/plain": [
       "<Figure size 720x432 with 1 Axes>"
      ]
     },
     "metadata": {
      "needs_background": "light"
     },
     "output_type": "display_data"
    }
   ],
   "source": [
    "plt.figure(figsize=(10, 6))\n",
    "plt.imshow(wordcloud, interpolation='bilinear')\n",
    "plt.axis('off')\n",
    "plt.show()"
   ]
  },
  {
   "cell_type": "code",
   "execution_count": 26,
   "metadata": {},
   "outputs": [],
   "source": [
    "tokens = word_tokenize(text_raw)\n",
    "fdist = FreqDist(tokens)"
   ]
  },
  {
   "cell_type": "code",
   "execution_count": 35,
   "metadata": {},
   "outputs": [
    {
     "data": {
      "image/png": "[encoded data removed]",
      "text/plain": [
       "<Figure size 1080x432 with 1 Axes>"
      ]
     },
     "metadata": {
      "needs_background": "light"
     },
     "output_type": "display_data"
    },
    {
     "data": {
      "text/plain": [
       "<AxesSubplot:xlabel='Samples', ylabel='Counts'>"
      ]
     },
     "execution_count": 35,
     "metadata": {},
     "output_type": "execute_result"
    }
   ],
   "source": [
    "plt.figure(figsize=(15, 6))\n",
    "plt.tick_params(axis='x', labelsize=16)\n",
    "fdist.plot(30,cumulative=False)"
   ]
  },
  {
   "cell_type": "markdown",
   "metadata": {},
   "source": [
    "**Вывод**\n",
    "- Корпус текстов на английском языке.\n",
    "- Данные сильно не сбалансированы, но пока исправлять не будет, вернемся к этому если результаты обучения будут не удовлетворительным.\n",
    "- Провели предварительную обработку текста, лематизировали, удалили лишние символы и стопслова."
   ]
  },
  {
   "cell_type": "markdown",
   "metadata": {},
   "source": [
    "## Обучение"
   ]
  },
  {
   "cell_type": "code",
   "execution_count": 42,
   "metadata": {},
   "outputs": [],
   "source": [
    "X_train, X_test, y_train, y_test = train_test_split(df['text_lemma'], df['toxic'], test_size=0.2, shuffle=True, random_state=42)"
   ]
  },
  {
   "cell_type": "code",
   "execution_count": 43,
   "metadata": {},
   "outputs": [],
   "source": [
    "vectorizer = TfidfVectorizer()\n",
    "X_train_vec = vectorizer.fit_transform(X_train)\n",
    "X_test_vec = vectorizer.transform(X_test)"
   ]
  },
  {
   "cell_type": "markdown",
   "metadata": {},
   "source": [
    " В качестве метрики выберем метрику f1, т.к. классы не сбалансированы."
   ]
  },
  {
   "cell_type": "markdown",
   "metadata": {},
   "source": [
    "Проверим на простой модели логистической регрессии."
   ]
  },
  {
   "cell_type": "code",
   "execution_count": 29,
   "metadata": {},
   "outputs": [],
   "source": [
    "#model_lr = LogisticRegression(random_state=42, class_weight='balanced')"
   ]
  },
  {
   "cell_type": "code",
   "execution_count": 48,
   "metadata": {},
   "outputs": [],
   "source": [
    "pipeline = Pipeline([\n",
    "    ('tfidf', TfidfVectorizer()),\n",
    "    ('lr', LogisticRegression(random_state=42, class_weight='balanced'))\n",
    "])"
   ]
  },
  {
   "cell_type": "code",
   "execution_count": 49,
   "metadata": {},
   "outputs": [],
   "source": [
    "param_grid = {\n",
    "    'lr__C': [1], \n",
    "    'lr__max_iter': [100]\n",
    "}"
   ]
  },
  {
   "cell_type": "code",
   "execution_count": 50,
   "metadata": {},
   "outputs": [],
   "source": [
    "#grid_search_lr = GridSearchCV(estimator=model_lr, param_grid=param_grid, cv=3, scoring='f1', verbose=1)"
   ]
  },
  {
   "cell_type": "code",
   "execution_count": 51,
   "metadata": {},
   "outputs": [],
   "source": [
    "grid_search_lr = GridSearchCV(pipeline, param_grid=param_grid, cv=3, scoring='f1', verbose=1)"
   ]
  },
  {
   "cell_type": "code",
   "execution_count": 53,
   "metadata": {},
   "outputs": [
    {
     "name": "stdout",
     "output_type": "stream",
     "text": [
      "Fitting 3 folds for each of 1 candidates, totalling 3 fits\n"
     ]
    },
    {
     "name": "stderr",
     "output_type": "stream",
     "text": [
      "/opt/conda/lib/python3.9/site-packages/sklearn/linear_model/_logistic.py:763: ConvergenceWarning: lbfgs failed to converge (status=1):\n",
      "STOP: TOTAL NO. of ITERATIONS REACHED LIMIT.\n",
      "\n",
      "Increase the number of iterations (max_iter) or scale the data as shown in:\n",
      "    https://scikit-learn.org/stable/modules/preprocessing.html\n",
      "Please also refer to the documentation for alternative solver options:\n",
      "    https://scikit-learn.org/stable/modules/linear_model.html#logistic-regression\n",
      "  n_iter_i = _check_optimize_result(\n",
      "/opt/conda/lib/python3.9/site-packages/sklearn/linear_model/_logistic.py:763: ConvergenceWarning: lbfgs failed to converge (status=1):\n",
      "STOP: TOTAL NO. of ITERATIONS REACHED LIMIT.\n",
      "\n",
      "Increase the number of iterations (max_iter) or scale the data as shown in:\n",
      "    https://scikit-learn.org/stable/modules/preprocessing.html\n",
      "Please also refer to the documentation for alternative solver options:\n",
      "    https://scikit-learn.org/stable/modules/linear_model.html#logistic-regression\n",
      "  n_iter_i = _check_optimize_result(\n",
      "/opt/conda/lib/python3.9/site-packages/sklearn/linear_model/_logistic.py:763: ConvergenceWarning: lbfgs failed to converge (status=1):\n",
      "STOP: TOTAL NO. of ITERATIONS REACHED LIMIT.\n",
      "\n",
      "Increase the number of iterations (max_iter) or scale the data as shown in:\n",
      "    https://scikit-learn.org/stable/modules/preprocessing.html\n",
      "Please also refer to the documentation for alternative solver options:\n",
      "    https://scikit-learn.org/stable/modules/linear_model.html#logistic-regression\n",
      "  n_iter_i = _check_optimize_result(\n"
     ]
    },
    {
     "data": {
      "text/plain": [
       "GridSearchCV(cv=3,\n",
       "             estimator=Pipeline(steps=[('tfidf', TfidfVectorizer()),\n",
       "                                       ('lr',\n",
       "                                        LogisticRegression(class_weight='balanced',\n",
       "                                                           random_state=42))]),\n",
       "             param_grid={'lr__C': [1], 'lr__max_iter': [100]}, scoring='f1',\n",
       "             verbose=1)"
      ]
     },
     "execution_count": 53,
     "metadata": {},
     "output_type": "execute_result"
    }
   ],
   "source": [
    "grid_search_lr.fit(X_train, y_train)"
   ]
  },
  {
   "cell_type": "code",
   "execution_count": 54,
   "metadata": {},
   "outputs": [
    {
     "name": "stdout",
     "output_type": "stream",
     "text": [
      "F1 (val) for RandomForest: 0.7462999618683758\n"
     ]
    }
   ],
   "source": [
    "print(\"F1 (val) for RandomForest:\", grid_search_lr.best_score_)"
   ]
  },
  {
   "cell_type": "markdown",
   "metadata": {},
   "source": [
    "Проверм модель случайного леса."
   ]
  },
  {
   "cell_type": "code",
   "execution_count": 35,
   "metadata": {},
   "outputs": [],
   "source": [
    "#model_rfc = RandomForestClassifier(random_state=42)"
   ]
  },
  {
   "cell_type": "code",
   "execution_count": 55,
   "metadata": {},
   "outputs": [],
   "source": [
    "pipeline = Pipeline([\n",
    "    ('tfidf', TfidfVectorizer()),\n",
    "    ('rfc', RandomForestClassifier(random_state=42))\n",
    "])"
   ]
  },
  {
   "cell_type": "code",
   "execution_count": 56,
   "metadata": {},
   "outputs": [],
   "source": [
    "param_grid = {\n",
    "    'rfc__n_estimators': [100],\n",
    "    'rfc__max_depth': [None]  \n",
    "}"
   ]
  },
  {
   "cell_type": "code",
   "execution_count": 57,
   "metadata": {},
   "outputs": [],
   "source": [
    "#grid_search_rfc = GridSearchCV(estimator=model_rfc, param_grid=param_grid, cv=3, scoring='f1', verbose=1)"
   ]
  },
  {
   "cell_type": "code",
   "execution_count": 58,
   "metadata": {},
   "outputs": [],
   "source": [
    "grid_search_rfc = GridSearchCV(pipeline, param_grid=param_grid, cv=3, scoring='f1', verbose=1)"
   ]
  },
  {
   "cell_type": "code",
   "execution_count": 59,
   "metadata": {},
   "outputs": [
    {
     "name": "stdout",
     "output_type": "stream",
     "text": [
      "Fitting 3 folds for each of 1 candidates, totalling 3 fits\n"
     ]
    },
    {
     "data": {
      "text/plain": [
       "GridSearchCV(cv=3,\n",
       "             estimator=Pipeline(steps=[('tfidf', TfidfVectorizer()),\n",
       "                                       ('rfc',\n",
       "                                        RandomForestClassifier(random_state=42))]),\n",
       "             param_grid={'rfc__max_depth': [None], 'rfc__n_estimators': [100]},\n",
       "             scoring='f1', verbose=1)"
      ]
     },
     "execution_count": 59,
     "metadata": {},
     "output_type": "execute_result"
    }
   ],
   "source": [
    "grid_search_rfc.fit(X_train, y_train)"
   ]
  },
  {
   "cell_type": "code",
   "execution_count": 60,
   "metadata": {},
   "outputs": [
    {
     "name": "stdout",
     "output_type": "stream",
     "text": [
      "F1 (val) for RandomForest: 0.6941024154571535\n"
     ]
    }
   ],
   "source": [
    "print(\"F1 (val) for RandomForest:\", grid_search_rfc.best_score_)"
   ]
  },
  {
   "cell_type": "markdown",
   "metadata": {},
   "source": [
    "Проверим модель LightGBM"
   ]
  },
  {
   "cell_type": "code",
   "execution_count": 61,
   "metadata": {},
   "outputs": [],
   "source": [
    "#model_lgbm = lgb.LGBMClassifier(random_state=42)"
   ]
  },
  {
   "cell_type": "code",
   "execution_count": 63,
   "metadata": {},
   "outputs": [],
   "source": [
    "pipeline = Pipeline([\n",
    "    ('tfidf', TfidfVectorizer()),\n",
    "    ('lgb', lgb.LGBMClassifier(random_state=42))\n",
    "])"
   ]
  },
  {
   "cell_type": "code",
   "execution_count": 64,
   "metadata": {},
   "outputs": [],
   "source": [
    "param_grid = {\n",
    "    'lgb__num_leaves': [31], \n",
    "    'lgb__max_depth': [-1],  \n",
    "    'lgb__learning_rate': [0.1] \n",
    "}"
   ]
  },
  {
   "cell_type": "code",
   "execution_count": 65,
   "metadata": {},
   "outputs": [],
   "source": [
    "#grid_search_lgbm = GridSearchCV(estimator=model_lgbm, param_grid=param_grid, scoring='f1', cv=3, verbose=1)"
   ]
  },
  {
   "cell_type": "code",
   "execution_count": 66,
   "metadata": {},
   "outputs": [],
   "source": [
    "grid_search_lgbm = GridSearchCV(pipeline, param_grid=param_grid, scoring='f1', cv=3, verbose=1)"
   ]
  },
  {
   "cell_type": "code",
   "execution_count": 67,
   "metadata": {},
   "outputs": [
    {
     "name": "stdout",
     "output_type": "stream",
     "text": [
      "Fitting 3 folds for each of 1 candidates, totalling 3 fits\n"
     ]
    },
    {
     "data": {
      "text/plain": [
       "GridSearchCV(cv=3,\n",
       "             estimator=Pipeline(steps=[('tfidf', TfidfVectorizer()),\n",
       "                                       ('lgb',\n",
       "                                        LGBMClassifier(random_state=42))]),\n",
       "             param_grid={'lgb__learning_rate': [0.1], 'lgb__max_depth': [-1],\n",
       "                         'lgb__num_leaves': [31]},\n",
       "             scoring='f1', verbose=1)"
      ]
     },
     "execution_count": 67,
     "metadata": {},
     "output_type": "execute_result"
    }
   ],
   "source": [
    "grid_search_lgbm.fit(X_train, y_train)"
   ]
  },
  {
   "cell_type": "code",
   "execution_count": 68,
   "metadata": {},
   "outputs": [
    {
     "name": "stdout",
     "output_type": "stream",
     "text": [
      "F1 (val) for LightGBM: 0.7523667185933364\n"
     ]
    }
   ],
   "source": [
    "print(\"F1 (val) for LightGBM:\", grid_search_lgbm.best_score_)"
   ]
  },
  {
   "cell_type": "markdown",
   "metadata": {},
   "source": [
    "У модели LightGBM оказалась самая высока метрика f1 на валидационных данных, проверим модель на тестовых данных."
   ]
  },
  {
   "cell_type": "code",
   "execution_count": 72,
   "metadata": {},
   "outputs": [],
   "source": [
    "model_lgb = lgb.LGBMClassifier(num_leaves=31, max_depth=-1, learning_rate=0.1, random_state=42)"
   ]
  },
  {
   "cell_type": "code",
   "execution_count": 73,
   "metadata": {},
   "outputs": [
    {
     "data": {
      "text/plain": [
       "LGBMClassifier(random_state=42)"
      ]
     },
     "execution_count": 73,
     "metadata": {},
     "output_type": "execute_result"
    }
   ],
   "source": [
    "model_lgb.fit(X_train_vec, y_train)"
   ]
  },
  {
   "cell_type": "code",
   "execution_count": 74,
   "metadata": {},
   "outputs": [],
   "source": [
    "y_pred = model_lgb.predict(X_test_vec)"
   ]
  },
  {
   "cell_type": "code",
   "execution_count": 75,
   "metadata": {},
   "outputs": [
    {
     "name": "stdout",
     "output_type": "stream",
     "text": [
      "F1-мера: 0.7512355848434927\n"
     ]
    }
   ],
   "source": [
    "f1 = f1_score(y_test, y_pred)\n",
    "print(f\"F1-мера: {f1}\")"
   ]
  },
  {
   "cell_type": "markdown",
   "metadata": {},
   "source": [
    "**Выводы** \n",
    "- Было обучено три модели: логистическая регрессия, случайный лес и LightGBM\n",
    "- На валидационных данных у LightGBM оказалась лучшая метрика f1 = 0.752\n",
    "- на тестовых данных логистическая регрессия показала результат 0.751"
   ]
  },
  {
   "cell_type": "markdown",
   "metadata": {},
   "source": [
    "## Выводы"
   ]
  },
  {
   "cell_type": "markdown",
   "metadata": {},
   "source": [
    "Была проведена работа с корпусом англоязычных текстов из 159 тыс. записей. Данные сильно не сбалансированы, на это не помешало получить требуемый уровень метрики. В качестве метрики была выбрана f1, опять же из-за того, что данные не сбалансированы. Провели предварительную обратботку текста: лематизировали, удалили лишние символы и стопслова. Было обучено три модели: LogisticRegression, RandomForest, LightGBM. На валидационных данных лучший результак показала логистическая регрессия - 0.753, на тестовых данных - 0.754, что говорит о том, что модель не является переобученной или недообученной."
   ]
  }
 ],
 "metadata": {
  "ExecuteTimeLog": [
   {
    "duration": 1581,
    "start_time": "2024-02-24T12:36:06.499Z"
   },
   {
    "duration": 85508,
    "start_time": "2024-02-24T12:36:42.132Z"
   },
   {
    "duration": 3,
    "start_time": "2024-02-24T12:45:01.577Z"
   },
   {
    "duration": 862,
    "start_time": "2024-02-24T12:45:02.884Z"
   },
   {
    "duration": 14,
    "start_time": "2024-02-24T12:45:05.728Z"
   },
   {
    "duration": 35,
    "start_time": "2024-02-24T12:46:31.111Z"
   },
   {
    "duration": 9,
    "start_time": "2024-02-24T12:46:59.614Z"
   },
   {
    "duration": 11,
    "start_time": "2024-02-24T12:47:28.249Z"
   },
   {
    "duration": 13,
    "start_time": "2024-02-24T12:48:03.070Z"
   },
   {
    "duration": 5,
    "start_time": "2024-02-24T12:48:08.164Z"
   },
   {
    "duration": 67467,
    "start_time": "2024-02-24T12:52:08.373Z"
   },
   {
    "duration": 16,
    "start_time": "2024-02-24T12:54:20.952Z"
   },
   {
    "duration": 72,
    "start_time": "2024-02-24T12:54:46.573Z"
   },
   {
    "duration": 7941,
    "start_time": "2024-02-24T12:54:56.356Z"
   },
   {
    "duration": 367,
    "start_time": "2024-02-28T12:07:45.424Z"
   },
   {
    "duration": 65,
    "start_time": "2024-02-28T12:07:57.108Z"
   },
   {
    "duration": 3286,
    "start_time": "2024-02-28T12:08:00.469Z"
   },
   {
    "duration": 28,
    "start_time": "2024-02-28T12:08:04.748Z"
   },
   {
    "duration": 18,
    "start_time": "2024-02-28T12:08:06.459Z"
   },
   {
    "duration": 6,
    "start_time": "2024-02-28T12:08:09.405Z"
   },
   {
    "duration": 343,
    "start_time": "2024-02-28T12:08:25.451Z"
   },
   {
    "duration": 3293,
    "start_time": "2024-02-28T12:08:27.566Z"
   },
   {
    "duration": 28,
    "start_time": "2024-02-28T12:08:30.862Z"
   },
   {
    "duration": 16,
    "start_time": "2024-02-28T12:08:31.995Z"
   },
   {
    "duration": 5,
    "start_time": "2024-02-28T12:08:34.864Z"
   },
   {
    "duration": 46,
    "start_time": "2024-02-28T12:09:02.075Z"
   },
   {
    "duration": 348,
    "start_time": "2024-02-28T12:09:18.142Z"
   },
   {
    "duration": 3261,
    "start_time": "2024-02-28T12:09:19.875Z"
   },
   {
    "duration": 28,
    "start_time": "2024-02-28T12:09:25.041Z"
   },
   {
    "duration": 16,
    "start_time": "2024-02-28T12:09:27.958Z"
   },
   {
    "duration": 5,
    "start_time": "2024-02-28T12:09:31.015Z"
   },
   {
    "duration": 418,
    "start_time": "2024-02-28T12:09:57.767Z"
   },
   {
    "duration": 3309,
    "start_time": "2024-02-28T12:09:58.187Z"
   },
   {
    "duration": 31,
    "start_time": "2024-02-28T12:10:01.498Z"
   },
   {
    "duration": 114,
    "start_time": "2024-02-28T12:10:01.531Z"
   },
   {
    "duration": 137,
    "start_time": "2024-02-28T12:10:01.647Z"
   },
   {
    "duration": 2008,
    "start_time": "2024-02-28T12:10:04.963Z"
   },
   {
    "duration": 3,
    "start_time": "2024-02-28T12:10:28.893Z"
   },
   {
    "duration": 103,
    "start_time": "2024-02-28T12:11:36.937Z"
   },
   {
    "duration": 940,
    "start_time": "2024-02-28T12:11:58.854Z"
   },
   {
    "duration": 4,
    "start_time": "2024-02-28T12:12:07.651Z"
   },
   {
    "duration": 109,
    "start_time": "2024-02-28T12:13:34.132Z"
   },
   {
    "duration": 4,
    "start_time": "2024-02-28T12:13:38.948Z"
   },
   {
    "duration": 4,
    "start_time": "2024-02-28T12:13:40.358Z"
   },
   {
    "duration": 2,
    "start_time": "2024-02-28T12:14:02.039Z"
   },
   {
    "duration": 917,
    "start_time": "2024-02-28T12:14:02.043Z"
   },
   {
    "duration": 32,
    "start_time": "2024-02-28T12:14:02.962Z"
   },
   {
    "duration": 48,
    "start_time": "2024-02-28T12:14:02.995Z"
   },
   {
    "duration": 43,
    "start_time": "2024-02-28T12:14:03.045Z"
   },
   {
    "duration": 2095,
    "start_time": "2024-02-28T12:14:03.089Z"
   },
   {
    "duration": 4,
    "start_time": "2024-02-28T12:14:09.585Z"
   },
   {
    "duration": 20,
    "start_time": "2024-02-28T12:14:47.412Z"
   },
   {
    "duration": 65,
    "start_time": "2024-02-28T12:14:50.312Z"
   },
   {
    "duration": 400,
    "start_time": "2024-02-28T12:15:41.694Z"
   },
   {
    "duration": 3364,
    "start_time": "2024-02-28T12:15:42.096Z"
   },
   {
    "duration": 32,
    "start_time": "2024-02-28T12:15:45.461Z"
   },
   {
    "duration": 72,
    "start_time": "2024-02-28T12:15:45.495Z"
   },
   {
    "duration": 23,
    "start_time": "2024-02-28T12:15:45.568Z"
   },
   {
    "duration": 4361,
    "start_time": "2024-02-28T12:15:50.688Z"
   },
   {
    "duration": 56,
    "start_time": "2024-02-28T12:15:58.886Z"
   },
   {
    "duration": 2,
    "start_time": "2024-02-28T12:16:09.436Z"
   },
   {
    "duration": 62,
    "start_time": "2024-02-28T12:16:17.283Z"
   },
   {
    "duration": 4503,
    "start_time": "2024-02-28T12:19:00.735Z"
   },
   {
    "duration": 5,
    "start_time": "2024-02-28T12:19:23.976Z"
   },
   {
    "duration": 10,
    "start_time": "2024-02-28T12:19:48.166Z"
   },
   {
    "duration": 3,
    "start_time": "2024-02-28T12:24:03.118Z"
   },
   {
    "duration": 11,
    "start_time": "2024-02-28T12:24:42.158Z"
   },
   {
    "duration": 4,
    "start_time": "2024-02-28T12:25:05.098Z"
   },
   {
    "duration": 3,
    "start_time": "2024-02-28T12:25:18.187Z"
   },
   {
    "duration": 2,
    "start_time": "2024-02-28T12:34:24.800Z"
   },
   {
    "duration": 884,
    "start_time": "2024-02-28T12:34:24.804Z"
   },
   {
    "duration": 27,
    "start_time": "2024-02-28T12:34:25.689Z"
   },
   {
    "duration": 10,
    "start_time": "2024-02-28T12:34:25.717Z"
   },
   {
    "duration": 13,
    "start_time": "2024-02-28T12:34:25.729Z"
   },
   {
    "duration": 4487,
    "start_time": "2024-02-28T12:34:25.743Z"
   },
   {
    "duration": 37,
    "start_time": "2024-02-28T12:34:30.232Z"
   },
   {
    "duration": 0,
    "start_time": "2024-02-28T12:34:30.270Z"
   },
   {
    "duration": 964,
    "start_time": "2024-02-28T12:34:51.742Z"
   },
   {
    "duration": 54,
    "start_time": "2024-02-28T12:34:55.344Z"
   },
   {
    "duration": 3,
    "start_time": "2024-02-28T12:35:10.903Z"
   },
   {
    "duration": 271,
    "start_time": "2024-02-28T12:35:19.571Z"
   },
   {
    "duration": 3,
    "start_time": "2024-02-28T12:35:30.982Z"
   },
   {
    "duration": 1095,
    "start_time": "2024-02-28T12:35:33.725Z"
   },
   {
    "duration": 3,
    "start_time": "2024-02-28T12:37:34.695Z"
   },
   {
    "duration": 3,
    "start_time": "2024-02-28T12:37:50.884Z"
   },
   {
    "duration": 399,
    "start_time": "2024-02-28T12:37:52.153Z"
   },
   {
    "duration": 3,
    "start_time": "2024-02-28T12:39:05.687Z"
   },
   {
    "duration": 79468,
    "start_time": "2024-02-28T12:39:07.861Z"
   },
   {
    "duration": 5,
    "start_time": "2024-02-28T12:40:40.903Z"
   },
   {
    "duration": 4,
    "start_time": "2024-02-28T12:42:07.558Z"
   },
   {
    "duration": 4,
    "start_time": "2024-02-28T12:42:15.799Z"
   },
   {
    "duration": 2,
    "start_time": "2024-02-28T12:43:05.975Z"
   },
   {
    "duration": 825,
    "start_time": "2024-02-28T12:43:05.979Z"
   },
   {
    "duration": 28,
    "start_time": "2024-02-28T12:43:06.805Z"
   },
   {
    "duration": 12,
    "start_time": "2024-02-28T12:43:06.834Z"
   },
   {
    "duration": 43,
    "start_time": "2024-02-28T12:43:06.848Z"
   },
   {
    "duration": 4370,
    "start_time": "2024-02-28T12:43:06.893Z"
   },
   {
    "duration": 22,
    "start_time": "2024-02-28T12:43:11.265Z"
   },
   {
    "duration": 12,
    "start_time": "2024-02-28T12:43:11.289Z"
   },
   {
    "duration": 8,
    "start_time": "2024-02-28T12:43:25.647Z"
   },
   {
    "duration": 79228,
    "start_time": "2024-02-28T12:43:36.707Z"
   },
   {
    "duration": 4,
    "start_time": "2024-02-28T12:45:03.482Z"
   },
   {
    "duration": 4,
    "start_time": "2024-02-28T12:45:04.733Z"
   },
   {
    "duration": 3,
    "start_time": "2024-02-28T12:46:00.517Z"
   },
   {
    "duration": 78633,
    "start_time": "2024-02-28T12:46:02.848Z"
   },
   {
    "duration": 3,
    "start_time": "2024-02-28T12:47:24.529Z"
   },
   {
    "duration": 3,
    "start_time": "2024-02-28T12:47:25.542Z"
   },
   {
    "duration": 9,
    "start_time": "2024-02-28T12:47:53.405Z"
   },
   {
    "duration": 3,
    "start_time": "2024-02-28T12:48:01.648Z"
   },
   {
    "duration": 4,
    "start_time": "2024-02-28T12:48:10.525Z"
   },
   {
    "duration": 4,
    "start_time": "2024-02-28T12:48:11.559Z"
   },
   {
    "duration": 17,
    "start_time": "2024-02-28T12:50:08.790Z"
   },
   {
    "duration": 2,
    "start_time": "2024-02-28T12:50:22.828Z"
   },
   {
    "duration": 83594,
    "start_time": "2024-02-28T12:50:26.214Z"
   },
   {
    "duration": 5,
    "start_time": "2024-02-28T12:51:58.741Z"
   },
   {
    "duration": 4,
    "start_time": "2024-02-28T12:52:14.545Z"
   },
   {
    "duration": 4,
    "start_time": "2024-02-28T12:52:23.962Z"
   },
   {
    "duration": 12,
    "start_time": "2024-02-28T12:54:55.343Z"
   },
   {
    "duration": 3,
    "start_time": "2024-02-28T12:55:00.867Z"
   },
   {
    "duration": 4,
    "start_time": "2024-02-28T12:55:04.281Z"
   },
   {
    "duration": 3,
    "start_time": "2024-02-28T12:55:17.644Z"
   },
   {
    "duration": 3420,
    "start_time": "2024-02-28T12:55:20.008Z"
   },
   {
    "duration": 3,
    "start_time": "2024-02-28T12:55:26.881Z"
   },
   {
    "duration": 3,
    "start_time": "2024-02-28T12:55:28.811Z"
   },
   {
    "duration": 3,
    "start_time": "2024-02-28T12:55:46.077Z"
   },
   {
    "duration": 3,
    "start_time": "2024-02-28T12:57:56.642Z"
   },
   {
    "duration": 1790,
    "start_time": "2024-02-28T12:57:58.114Z"
   },
   {
    "duration": 4,
    "start_time": "2024-02-28T12:58:04.513Z"
   },
   {
    "duration": 3,
    "start_time": "2024-02-28T12:58:05.588Z"
   },
   {
    "duration": 4,
    "start_time": "2024-02-28T12:58:46.442Z"
   },
   {
    "duration": 9,
    "start_time": "2024-02-28T13:00:08.694Z"
   },
   {
    "duration": 5,
    "start_time": "2024-02-28T13:00:32.280Z"
   },
   {
    "duration": 4,
    "start_time": "2024-02-28T13:00:36.334Z"
   },
   {
    "duration": 4,
    "start_time": "2024-02-28T13:00:51.376Z"
   },
   {
    "duration": 11,
    "start_time": "2024-02-28T13:01:40.824Z"
   },
   {
    "duration": 4,
    "start_time": "2024-02-28T13:01:51.161Z"
   },
   {
    "duration": 97,
    "start_time": "2024-02-28T13:02:07.578Z"
   },
   {
    "duration": 4,
    "start_time": "2024-02-28T13:02:12.051Z"
   },
   {
    "duration": 3,
    "start_time": "2024-02-28T13:02:31.803Z"
   },
   {
    "duration": 2644,
    "start_time": "2024-02-28T13:02:31.808Z"
   },
   {
    "duration": 30,
    "start_time": "2024-02-28T13:02:34.454Z"
   },
   {
    "duration": 12,
    "start_time": "2024-02-28T13:02:34.486Z"
   },
   {
    "duration": 16,
    "start_time": "2024-02-28T13:02:34.500Z"
   },
   {
    "duration": 22,
    "start_time": "2024-02-28T13:02:34.518Z"
   },
   {
    "duration": 24,
    "start_time": "2024-02-28T13:02:34.541Z"
   },
   {
    "duration": 24,
    "start_time": "2024-02-28T13:02:34.567Z"
   },
   {
    "duration": 1842,
    "start_time": "2024-02-28T13:02:34.592Z"
   },
   {
    "duration": 4,
    "start_time": "2024-02-28T13:02:36.435Z"
   },
   {
    "duration": 12,
    "start_time": "2024-02-28T13:02:36.440Z"
   },
   {
    "duration": 24,
    "start_time": "2024-02-28T13:02:36.453Z"
   },
   {
    "duration": 8,
    "start_time": "2024-02-28T13:03:23.358Z"
   },
   {
    "duration": 45,
    "start_time": "2024-02-28T13:03:47.430Z"
   },
   {
    "duration": 1249,
    "start_time": "2024-02-28T13:03:55.852Z"
   },
   {
    "duration": 3350,
    "start_time": "2024-02-28T13:03:57.103Z"
   },
   {
    "duration": 31,
    "start_time": "2024-02-28T13:04:00.454Z"
   },
   {
    "duration": 176,
    "start_time": "2024-02-28T13:04:00.486Z"
   },
   {
    "duration": 198,
    "start_time": "2024-02-28T13:04:00.664Z"
   },
   {
    "duration": 4354,
    "start_time": "2024-02-28T13:04:09.940Z"
   },
   {
    "duration": 236,
    "start_time": "2024-02-28T13:04:18.546Z"
   },
   {
    "duration": 78,
    "start_time": "2024-02-28T13:04:47.454Z"
   },
   {
    "duration": 3,
    "start_time": "2024-02-28T13:04:51.733Z"
   },
   {
    "duration": 7,
    "start_time": "2024-02-28T13:05:02.527Z"
   },
   {
    "duration": 10,
    "start_time": "2024-02-28T13:05:13.245Z"
   },
   {
    "duration": 3,
    "start_time": "2024-02-28T13:05:53.913Z"
   },
   {
    "duration": 875,
    "start_time": "2024-02-28T13:05:53.917Z"
   },
   {
    "duration": 28,
    "start_time": "2024-02-28T13:05:54.794Z"
   },
   {
    "duration": 31,
    "start_time": "2024-02-28T13:05:54.824Z"
   },
   {
    "duration": 35,
    "start_time": "2024-02-28T13:05:54.857Z"
   },
   {
    "duration": 8,
    "start_time": "2024-02-28T13:05:54.894Z"
   },
   {
    "duration": 11,
    "start_time": "2024-02-28T13:05:54.903Z"
   },
   {
    "duration": 29,
    "start_time": "2024-02-28T13:05:54.916Z"
   },
   {
    "duration": 1165,
    "start_time": "2024-02-28T13:06:10.712Z"
   },
   {
    "duration": 144,
    "start_time": "2024-02-28T13:07:50.217Z"
   },
   {
    "duration": 3,
    "start_time": "2024-02-28T13:07:56.309Z"
   },
   {
    "duration": 3,
    "start_time": "2024-02-28T13:08:48.161Z"
   },
   {
    "duration": 4,
    "start_time": "2024-02-28T13:15:08.934Z"
   },
   {
    "duration": 3,
    "start_time": "2024-02-28T13:16:20.934Z"
   },
   {
    "duration": 419,
    "start_time": "2024-02-28T13:16:22.242Z"
   },
   {
    "duration": 3,
    "start_time": "2024-02-28T13:17:16.127Z"
   },
   {
    "duration": 402,
    "start_time": "2024-02-28T13:17:18.935Z"
   },
   {
    "duration": 3,
    "start_time": "2024-02-28T13:17:47.900Z"
   },
   {
    "duration": 119300,
    "start_time": "2024-02-28T13:17:50.100Z"
   },
   {
    "duration": 3,
    "start_time": "2024-02-28T13:20:02.393Z"
   },
   {
    "duration": 3,
    "start_time": "2024-02-28T13:20:54.017Z"
   },
   {
    "duration": 17651,
    "start_time": "2024-02-28T13:20:57.371Z"
   },
   {
    "duration": 6,
    "start_time": "2024-02-28T13:22:15.411Z"
   },
   {
    "duration": 4,
    "start_time": "2024-02-28T13:22:39.175Z"
   },
   {
    "duration": 3,
    "start_time": "2024-02-28T13:22:49.293Z"
   },
   {
    "duration": 21522,
    "start_time": "2024-02-28T13:22:50.911Z"
   },
   {
    "duration": 21706,
    "start_time": "2024-02-28T13:24:00.222Z"
   },
   {
    "duration": 4,
    "start_time": "2024-02-28T13:24:58.761Z"
   },
   {
    "duration": 4,
    "start_time": "2024-02-28T13:25:00.858Z"
   },
   {
    "duration": 5,
    "start_time": "2024-02-28T13:26:10.446Z"
   },
   {
    "duration": 1298,
    "start_time": "2024-02-28T13:28:38.558Z"
   },
   {
    "duration": 924,
    "start_time": "2024-02-28T13:28:39.857Z"
   },
   {
    "duration": 28,
    "start_time": "2024-02-28T13:28:40.782Z"
   },
   {
    "duration": 15,
    "start_time": "2024-02-28T13:28:40.811Z"
   },
   {
    "duration": 16,
    "start_time": "2024-02-28T13:28:40.828Z"
   },
   {
    "duration": 4457,
    "start_time": "2024-02-28T13:28:40.846Z"
   },
   {
    "duration": 219,
    "start_time": "2024-02-28T13:28:45.304Z"
   },
   {
    "duration": 3,
    "start_time": "2024-02-28T13:28:45.524Z"
   },
   {
    "duration": 23000,
    "start_time": "2024-02-28T13:28:45.529Z"
   },
   {
    "duration": 5,
    "start_time": "2024-02-28T13:29:08.531Z"
   },
   {
    "duration": 25,
    "start_time": "2024-02-28T13:31:38.119Z"
   },
   {
    "duration": 3,
    "start_time": "2024-02-28T13:32:34.041Z"
   },
   {
    "duration": 4536,
    "start_time": "2024-02-28T13:32:39.479Z"
   },
   {
    "duration": 4452,
    "start_time": "2024-02-28T13:34:32.021Z"
   },
   {
    "duration": 107,
    "start_time": "2024-02-28T13:36:17.172Z"
   },
   {
    "duration": 3,
    "start_time": "2024-02-28T13:36:29.042Z"
   },
   {
    "duration": 32651,
    "start_time": "2024-02-28T13:36:36.548Z"
   },
   {
    "duration": 3,
    "start_time": "2024-02-28T13:37:39.949Z"
   },
   {
    "duration": 12,
    "start_time": "2024-02-28T13:40:37.137Z"
   },
   {
    "duration": 15,
    "start_time": "2024-02-28T13:40:43.290Z"
   },
   {
    "duration": 16,
    "start_time": "2024-02-28T13:41:00.821Z"
   },
   {
    "duration": 26,
    "start_time": "2024-02-28T13:50:12.493Z"
   },
   {
    "duration": 3,
    "start_time": "2024-02-28T13:51:37.832Z"
   },
   {
    "duration": 3,
    "start_time": "2024-02-28T13:51:50.849Z"
   },
   {
    "duration": 2,
    "start_time": "2024-02-28T13:52:42.605Z"
   },
   {
    "duration": 3,
    "start_time": "2024-02-28T13:52:44.724Z"
   },
   {
    "duration": 331053,
    "start_time": "2024-02-28T13:52:47.804Z"
   },
   {
    "duration": 2,
    "start_time": "2024-02-28T13:58:21.818Z"
   },
   {
    "duration": 3,
    "start_time": "2024-02-28T13:58:22.679Z"
   },
   {
    "duration": 108339,
    "start_time": "2024-02-28T13:58:24.277Z"
   },
   {
    "duration": 2,
    "start_time": "2024-02-28T14:02:15.498Z"
   },
   {
    "duration": 9,
    "start_time": "2024-02-28T14:02:16.423Z"
   },
   {
    "duration": 10,
    "start_time": "2024-02-28T14:04:51.724Z"
   },
   {
    "duration": 10,
    "start_time": "2024-02-28T14:04:57.073Z"
   },
   {
    "duration": 2,
    "start_time": "2024-02-28T14:05:36.448Z"
   },
   {
    "duration": 3,
    "start_time": "2024-02-28T14:05:38.017Z"
   },
   {
    "duration": 326,
    "start_time": "2024-02-28T14:06:00.842Z"
   },
   {
    "duration": 2,
    "start_time": "2024-02-28T14:08:04.783Z"
   },
   {
    "duration": 3,
    "start_time": "2024-02-28T14:08:06.245Z"
   },
   {
    "duration": 69,
    "start_time": "2024-02-28T14:08:07.678Z"
   },
   {
    "duration": 1308,
    "start_time": "2024-02-28T14:08:46.267Z"
   },
   {
    "duration": 888,
    "start_time": "2024-02-28T14:08:47.577Z"
   },
   {
    "duration": 27,
    "start_time": "2024-02-28T14:08:48.467Z"
   },
   {
    "duration": 18,
    "start_time": "2024-02-28T14:08:48.495Z"
   },
   {
    "duration": 25,
    "start_time": "2024-02-28T14:08:48.515Z"
   },
   {
    "duration": 4474,
    "start_time": "2024-02-28T14:08:48.541Z"
   },
   {
    "duration": 232,
    "start_time": "2024-02-28T14:08:53.017Z"
   },
   {
    "duration": 3,
    "start_time": "2024-02-28T14:08:53.250Z"
   },
   {
    "duration": 22532,
    "start_time": "2024-02-28T14:08:53.255Z"
   },
   {
    "duration": 10,
    "start_time": "2024-02-28T14:09:15.788Z"
   },
   {
    "duration": 63,
    "start_time": "2024-02-28T14:09:15.799Z"
   },
   {
    "duration": 4397,
    "start_time": "2024-02-28T14:09:15.864Z"
   },
   {
    "duration": 3,
    "start_time": "2024-02-28T14:09:26.590Z"
   },
   {
    "duration": 2,
    "start_time": "2024-02-28T14:09:27.210Z"
   },
   {
    "duration": 2,
    "start_time": "2024-02-28T14:09:27.749Z"
   },
   {
    "duration": 160,
    "start_time": "2024-02-28T14:09:28.306Z"
   },
   {
    "duration": 2,
    "start_time": "2024-02-28T14:09:52.130Z"
   },
   {
    "duration": 3,
    "start_time": "2024-02-28T14:09:52.710Z"
   },
   {
    "duration": 67,
    "start_time": "2024-02-28T14:09:53.929Z"
   },
   {
    "duration": 3,
    "start_time": "2024-02-28T14:10:03.811Z"
   },
   {
    "duration": 2,
    "start_time": "2024-02-28T14:10:04.303Z"
   },
   {
    "duration": 64,
    "start_time": "2024-02-28T14:10:04.761Z"
   },
   {
    "duration": 4739,
    "start_time": "2024-02-28T14:11:59.398Z"
   },
   {
    "duration": 2,
    "start_time": "2024-02-28T14:12:07.522Z"
   },
   {
    "duration": 3,
    "start_time": "2024-02-28T14:12:08.018Z"
   },
   {
    "duration": 3,
    "start_time": "2024-02-28T14:12:08.931Z"
   },
   {
    "duration": 40,
    "start_time": "2024-02-28T14:12:43.836Z"
   },
   {
    "duration": 4651,
    "start_time": "2024-02-28T14:12:44.536Z"
   },
   {
    "duration": 3,
    "start_time": "2024-02-28T14:13:00.650Z"
   },
   {
    "duration": 2,
    "start_time": "2024-02-28T14:13:01.231Z"
   },
   {
    "duration": 3,
    "start_time": "2024-02-28T14:13:01.757Z"
   },
   {
    "duration": 123981,
    "start_time": "2024-02-28T14:13:03.514Z"
   },
   {
    "duration": 3,
    "start_time": "2024-02-28T14:16:30.093Z"
   },
   {
    "duration": 3,
    "start_time": "2024-02-28T14:16:40.840Z"
   },
   {
    "duration": 2,
    "start_time": "2024-02-28T14:16:48.740Z"
   },
   {
    "duration": 2,
    "start_time": "2024-02-28T14:16:49.908Z"
   },
   {
    "duration": 8,
    "start_time": "2024-02-28T14:17:00.904Z"
   },
   {
    "duration": 105,
    "start_time": "2024-02-28T14:17:21.248Z"
   },
   {
    "duration": 107,
    "start_time": "2024-02-28T14:18:05.391Z"
   },
   {
    "duration": 3,
    "start_time": "2024-02-28T14:18:33.878Z"
   },
   {
    "duration": 9,
    "start_time": "2024-02-28T14:18:37.883Z"
   },
   {
    "duration": 34,
    "start_time": "2024-02-28T14:18:48.480Z"
   },
   {
    "duration": 2,
    "start_time": "2024-02-28T14:19:35.113Z"
   },
   {
    "duration": 2,
    "start_time": "2024-02-28T14:19:37.282Z"
   },
   {
    "duration": 29,
    "start_time": "2024-02-28T14:19:38.567Z"
   },
   {
    "duration": 2,
    "start_time": "2024-02-28T14:22:08.635Z"
   },
   {
    "duration": 3,
    "start_time": "2024-02-28T14:22:09.645Z"
   },
   {
    "duration": 2677141,
    "start_time": "2024-02-28T14:22:10.309Z"
   },
   {
    "duration": 3,
    "start_time": "2024-02-28T15:06:47.452Z"
   },
   {
    "duration": 20,
    "start_time": "2024-02-28T15:06:47.456Z"
   },
   {
    "duration": 0,
    "start_time": "2024-02-28T15:06:47.477Z"
   },
   {
    "duration": 0,
    "start_time": "2024-02-28T15:06:47.478Z"
   },
   {
    "duration": 0,
    "start_time": "2024-02-28T15:06:47.479Z"
   },
   {
    "duration": 0,
    "start_time": "2024-02-28T15:06:47.480Z"
   },
   {
    "duration": 223,
    "start_time": "2024-02-28T15:09:43.881Z"
   },
   {
    "duration": 3,
    "start_time": "2024-02-28T15:09:51.472Z"
   },
   {
    "duration": 3,
    "start_time": "2024-02-28T15:09:53.616Z"
   },
   {
    "duration": 3,
    "start_time": "2024-02-28T15:09:55.120Z"
   },
   {
    "duration": 664695,
    "start_time": "2024-02-28T15:09:57.548Z"
   },
   {
    "duration": 3,
    "start_time": "2024-02-28T15:27:09.116Z"
   },
   {
    "duration": 15,
    "start_time": "2024-02-28T18:07:50.620Z"
   },
   {
    "duration": 9,
    "start_time": "2024-02-28T18:08:01.300Z"
   },
   {
    "duration": 9,
    "start_time": "2024-02-28T18:08:06.281Z"
   },
   {
    "duration": 3,
    "start_time": "2024-02-28T18:08:37.960Z"
   },
   {
    "duration": 3,
    "start_time": "2024-02-28T18:09:03.246Z"
   },
   {
    "duration": 33276,
    "start_time": "2024-02-28T18:09:08.620Z"
   },
   {
    "duration": 11,
    "start_time": "2024-02-28T18:14:56.072Z"
   },
   {
    "duration": 7,
    "start_time": "2024-02-28T18:15:01.500Z"
   },
   {
    "duration": 13,
    "start_time": "2024-02-28T18:15:03.042Z"
   },
   {
    "duration": 3,
    "start_time": "2024-02-28T18:16:10.543Z"
   },
   {
    "duration": 3,
    "start_time": "2024-02-28T18:16:22.184Z"
   },
   {
    "duration": 3,
    "start_time": "2024-02-28T18:16:29.584Z"
   },
   {
    "duration": 181,
    "start_time": "2024-02-28T18:17:59.138Z"
   },
   {
    "duration": 100,
    "start_time": "2024-02-28T18:25:05.263Z"
   },
   {
    "duration": 4,
    "start_time": "2024-02-29T12:24:45.507Z"
   },
   {
    "duration": 1563,
    "start_time": "2024-02-29T12:35:40.311Z"
   },
   {
    "duration": 124,
    "start_time": "2024-02-29T12:35:43.380Z"
   },
   {
    "duration": 7134,
    "start_time": "2024-02-29T12:37:10.889Z"
   },
   {
    "duration": 54,
    "start_time": "2024-02-29T12:37:28.915Z"
   },
   {
    "duration": 5,
    "start_time": "2024-02-29T12:39:13.834Z"
   },
   {
    "duration": 3520,
    "start_time": "2024-02-29T12:39:16.051Z"
   },
   {
    "duration": 36,
    "start_time": "2024-02-29T12:39:20.669Z"
   },
   {
    "duration": 20,
    "start_time": "2024-02-29T12:39:21.887Z"
   },
   {
    "duration": 7,
    "start_time": "2024-02-29T12:39:27.836Z"
   },
   {
    "duration": 513,
    "start_time": "2024-02-29T12:40:15.415Z"
   },
   {
    "duration": 5,
    "start_time": "2024-02-29T12:40:28.356Z"
   },
   {
    "duration": 99001,
    "start_time": "2024-02-29T12:40:57.991Z"
   },
   {
    "duration": 1015713,
    "start_time": "2024-02-29T12:42:59.888Z"
   },
   {
    "duration": 106,
    "start_time": "2024-02-29T13:01:40.600Z"
   },
   {
    "duration": 590316,
    "start_time": "2024-02-29T13:01:52.492Z"
   },
   {
    "duration": 5,
    "start_time": "2024-02-29T13:12:20.238Z"
   },
   {
    "duration": 4,
    "start_time": "2024-02-29T13:12:22.077Z"
   },
   {
    "duration": 3517,
    "start_time": "2024-02-29T13:14:45.720Z"
   },
   {
    "duration": 375,
    "start_time": "2024-02-29T13:19:19.517Z"
   },
   {
    "duration": 44,
    "start_time": "2024-02-29T13:20:25.907Z"
   },
   {
    "duration": 13,
    "start_time": "2024-02-29T13:20:50.873Z"
   },
   {
    "duration": 181,
    "start_time": "2024-02-29T13:25:33.771Z"
   },
   {
    "duration": 32573,
    "start_time": "2024-02-29T13:25:37.907Z"
   },
   {
    "duration": 32676,
    "start_time": "2024-02-29T13:28:27.491Z"
   },
   {
    "duration": 3588,
    "start_time": "2024-02-29T13:29:42.905Z"
   },
   {
    "duration": 4,
    "start_time": "2024-02-29T13:29:53.563Z"
   },
   {
    "duration": 33332,
    "start_time": "2024-02-29T13:30:02.491Z"
   },
   {
    "duration": 7732,
    "start_time": "2024-02-29T13:32:31.851Z"
   },
   {
    "duration": 3,
    "start_time": "2024-02-29T13:32:48.299Z"
   },
   {
    "duration": 33524,
    "start_time": "2024-02-29T13:32:56.283Z"
   },
   {
    "duration": 5,
    "start_time": "2024-02-29T13:35:35.297Z"
   },
   {
    "duration": 18454,
    "start_time": "2024-02-29T13:36:13.549Z"
   },
   {
    "duration": 266,
    "start_time": "2024-02-29T13:37:02.142Z"
   },
   {
    "duration": 6452,
    "start_time": "2024-02-29T13:39:07.552Z"
   },
   {
    "duration": 4,
    "start_time": "2024-02-29T13:39:25.813Z"
   },
   {
    "duration": 227,
    "start_time": "2024-02-29T13:39:40.327Z"
   },
   {
    "duration": 32004,
    "start_time": "2024-02-29T13:40:51.238Z"
   },
   {
    "duration": 536,
    "start_time": "2024-02-29T13:41:41.902Z"
   },
   {
    "duration": 271,
    "start_time": "2024-02-29T13:41:48.679Z"
   },
   {
    "duration": 2798,
    "start_time": "2024-02-29T13:43:33.891Z"
   },
   {
    "duration": 4,
    "start_time": "2024-02-29T13:43:41.122Z"
   },
   {
    "duration": 1532,
    "start_time": "2024-02-29T13:44:18.543Z"
   },
   {
    "duration": 2746,
    "start_time": "2024-02-29T13:44:20.077Z"
   },
   {
    "duration": 30,
    "start_time": "2024-02-29T13:44:22.825Z"
   },
   {
    "duration": 2692,
    "start_time": "2024-02-29T13:44:22.857Z"
   },
   {
    "duration": 191,
    "start_time": "2024-02-29T13:44:25.552Z"
   },
   {
    "duration": 1044,
    "start_time": "2024-02-29T13:44:25.745Z"
   },
   {
    "duration": 34,
    "start_time": "2024-02-29T13:44:26.791Z"
   },
   {
    "duration": 14,
    "start_time": "2024-02-29T13:44:26.826Z"
   },
   {
    "duration": 17,
    "start_time": "2024-02-29T13:44:26.842Z"
   },
   {
    "duration": 3,
    "start_time": "2024-02-29T13:44:26.860Z"
   },
   {
    "duration": 226,
    "start_time": "2024-02-29T13:44:26.864Z"
   },
   {
    "duration": 2,
    "start_time": "2024-02-29T13:44:27.092Z"
   },
   {
    "duration": 10,
    "start_time": "2024-02-29T13:44:27.096Z"
   },
   {
    "duration": 11811,
    "start_time": "2024-02-29T13:44:27.109Z"
   },
   {
    "duration": 0,
    "start_time": "2024-02-29T13:44:38.922Z"
   },
   {
    "duration": 0,
    "start_time": "2024-02-29T13:44:38.923Z"
   },
   {
    "duration": 0,
    "start_time": "2024-02-29T13:44:38.925Z"
   },
   {
    "duration": 0,
    "start_time": "2024-02-29T13:44:38.927Z"
   },
   {
    "duration": 4,
    "start_time": "2024-02-29T13:45:09.481Z"
   },
   {
    "duration": 2687,
    "start_time": "2024-02-29T13:45:09.487Z"
   },
   {
    "duration": 6,
    "start_time": "2024-02-29T13:45:12.176Z"
   },
   {
    "duration": 2622,
    "start_time": "2024-02-29T13:45:12.184Z"
   },
   {
    "duration": 3,
    "start_time": "2024-02-29T13:45:14.809Z"
   },
   {
    "duration": 993,
    "start_time": "2024-02-29T13:45:14.814Z"
   },
   {
    "duration": 40,
    "start_time": "2024-02-29T13:45:15.809Z"
   },
   {
    "duration": 13,
    "start_time": "2024-02-29T13:45:15.852Z"
   },
   {
    "duration": 60,
    "start_time": "2024-02-29T13:45:15.867Z"
   },
   {
    "duration": 16,
    "start_time": "2024-02-29T13:45:15.929Z"
   },
   {
    "duration": 14,
    "start_time": "2024-02-29T13:45:15.947Z"
   },
   {
    "duration": 5,
    "start_time": "2024-02-29T13:45:15.963Z"
   },
   {
    "duration": 36,
    "start_time": "2024-02-29T13:45:15.970Z"
   },
   {
    "duration": 607529,
    "start_time": "2024-02-29T13:45:16.009Z"
   },
   {
    "duration": 6,
    "start_time": "2024-02-29T13:55:23.540Z"
   },
   {
    "duration": 28,
    "start_time": "2024-02-29T13:55:23.548Z"
   },
   {
    "duration": 9,
    "start_time": "2024-02-29T13:55:23.578Z"
   },
   {
    "duration": 199,
    "start_time": "2024-02-29T13:55:23.589Z"
   },
   {
    "duration": 35278,
    "start_time": "2024-02-29T13:56:07.610Z"
   },
   {
    "duration": 4300,
    "start_time": "2024-02-29T13:58:45.255Z"
   },
   {
    "duration": 5,
    "start_time": "2024-02-29T13:59:02.750Z"
   },
   {
    "duration": 33831,
    "start_time": "2024-02-29T13:59:08.966Z"
   },
   {
    "duration": 2775,
    "start_time": "2024-02-29T14:00:23.282Z"
   },
   {
    "duration": 4499,
    "start_time": "2024-02-29T14:00:28.862Z"
   },
   {
    "duration": 3992,
    "start_time": "2024-02-29T14:01:09.810Z"
   },
   {
    "duration": 2807,
    "start_time": "2024-02-29T14:01:13.804Z"
   },
   {
    "duration": 28,
    "start_time": "2024-02-29T14:01:16.614Z"
   },
   {
    "duration": 2674,
    "start_time": "2024-02-29T14:01:16.645Z"
   },
   {
    "duration": 2785,
    "start_time": "2024-02-29T14:01:19.322Z"
   },
   {
    "duration": 4022,
    "start_time": "2024-02-29T14:01:22.109Z"
   },
   {
    "duration": 30,
    "start_time": "2024-02-29T14:01:26.133Z"
   },
   {
    "duration": 1050,
    "start_time": "2024-02-29T14:01:26.165Z"
   },
   {
    "duration": 35,
    "start_time": "2024-02-29T14:01:27.216Z"
   },
   {
    "duration": 27,
    "start_time": "2024-02-29T14:01:27.253Z"
   },
   {
    "duration": 15,
    "start_time": "2024-02-29T14:01:27.282Z"
   },
   {
    "duration": 6,
    "start_time": "2024-02-29T14:01:27.298Z"
   },
   {
    "duration": 229,
    "start_time": "2024-02-29T14:01:27.305Z"
   },
   {
    "duration": 3,
    "start_time": "2024-02-29T14:01:27.536Z"
   },
   {
    "duration": 24,
    "start_time": "2024-02-29T14:01:27.541Z"
   },
   {
    "duration": 624700,
    "start_time": "2024-02-29T14:01:27.567Z"
   },
   {
    "duration": 6,
    "start_time": "2024-02-29T14:11:52.269Z"
   },
   {
    "duration": 30,
    "start_time": "2024-02-29T14:11:52.276Z"
   },
   {
    "duration": 13,
    "start_time": "2024-02-29T14:11:52.308Z"
   },
   {
    "duration": 182,
    "start_time": "2024-02-29T14:11:52.322Z"
   },
   {
    "duration": 35411,
    "start_time": "2024-02-29T14:11:52.506Z"
   },
   {
    "duration": 152,
    "start_time": "2024-02-29T14:13:15.070Z"
   },
   {
    "duration": 4,
    "start_time": "2024-02-29T14:13:32.956Z"
   },
   {
    "duration": 169,
    "start_time": "2024-02-29T14:13:39.903Z"
   },
   {
    "duration": 164,
    "start_time": "2024-02-29T14:14:43.952Z"
   },
   {
    "duration": 31696,
    "start_time": "2024-02-29T14:15:22.268Z"
   },
   {
    "duration": 121,
    "start_time": "2024-02-29T14:15:55.196Z"
   },
   {
    "duration": 436,
    "start_time": "2024-02-29T14:16:02.172Z"
   },
   {
    "duration": 282,
    "start_time": "2024-02-29T14:20:20.848Z"
   },
   {
    "duration": 311,
    "start_time": "2024-02-29T14:20:32.174Z"
   },
   {
    "duration": 316,
    "start_time": "2024-02-29T14:20:37.732Z"
   },
   {
    "duration": 325,
    "start_time": "2024-02-29T14:20:48.080Z"
   },
   {
    "duration": 301,
    "start_time": "2024-02-29T14:20:55.185Z"
   },
   {
    "duration": 297,
    "start_time": "2024-02-29T14:22:33.025Z"
   },
   {
    "duration": 285,
    "start_time": "2024-02-29T14:22:39.542Z"
   },
   {
    "duration": 144,
    "start_time": "2024-02-29T14:23:47.989Z"
   },
   {
    "duration": 7,
    "start_time": "2024-02-29T14:25:56.396Z"
   },
   {
    "duration": 4,
    "start_time": "2024-02-29T14:28:08.047Z"
   },
   {
    "duration": 3,
    "start_time": "2024-02-29T14:28:09.228Z"
   },
   {
    "duration": 4,
    "start_time": "2024-02-29T14:28:20.904Z"
   },
   {
    "duration": 12,
    "start_time": "2024-02-29T14:28:28.767Z"
   },
   {
    "duration": 33,
    "start_time": "2024-02-29T14:28:42.181Z"
   },
   {
    "duration": 5580,
    "start_time": "2024-02-29T14:28:42.941Z"
   },
   {
    "duration": 3,
    "start_time": "2024-02-29T14:29:21.800Z"
   },
   {
    "duration": 3,
    "start_time": "2024-02-29T14:29:48.297Z"
   },
   {
    "duration": 2,
    "start_time": "2024-02-29T14:29:49.107Z"
   },
   {
    "duration": 3,
    "start_time": "2024-02-29T14:30:12.854Z"
   },
   {
    "duration": 3,
    "start_time": "2024-02-29T14:31:04.548Z"
   },
   {
    "duration": 5,
    "start_time": "2024-02-29T14:31:04.997Z"
   },
   {
    "duration": 2,
    "start_time": "2024-02-29T14:31:05.534Z"
   },
   {
    "duration": 3,
    "start_time": "2024-02-29T14:31:06.256Z"
   },
   {
    "duration": 86,
    "start_time": "2024-02-29T14:31:13.842Z"
   },
   {
    "duration": 197294,
    "start_time": "2024-02-29T14:31:24.311Z"
   },
   {
    "duration": 3,
    "start_time": "2024-02-29T14:36:02.784Z"
   },
   {
    "duration": 3,
    "start_time": "2024-02-29T14:36:11.166Z"
   },
   {
    "duration": 2,
    "start_time": "2024-02-29T14:36:12.646Z"
   },
   {
    "duration": 2,
    "start_time": "2024-02-29T14:36:13.070Z"
   },
   {
    "duration": 3,
    "start_time": "2024-02-29T14:36:14.778Z"
   },
   {
    "duration": 1539345,
    "start_time": "2024-02-29T14:36:16.845Z"
   },
   {
    "duration": 4,
    "start_time": "2024-02-29T15:01:56.200Z"
   },
   {
    "duration": 72,
    "start_time": "2024-02-29T15:01:56.208Z"
   },
   {
    "duration": 58,
    "start_time": "2024-02-29T15:01:56.283Z"
   },
   {
    "duration": 0,
    "start_time": "2024-02-29T15:01:56.343Z"
   },
   {
    "duration": 0,
    "start_time": "2024-02-29T15:01:56.344Z"
   },
   {
    "duration": 0,
    "start_time": "2024-02-29T15:01:56.345Z"
   },
   {
    "duration": 0,
    "start_time": "2024-02-29T15:01:56.346Z"
   },
   {
    "duration": 0,
    "start_time": "2024-02-29T15:01:56.347Z"
   },
   {
    "duration": 8,
    "start_time": "2024-02-29T15:04:31.892Z"
   },
   {
    "duration": 3,
    "start_time": "2024-02-29T15:04:33.829Z"
   },
   {
    "duration": 4,
    "start_time": "2024-02-29T15:04:36.311Z"
   },
   {
    "duration": 3,
    "start_time": "2024-02-29T15:04:36.746Z"
   },
   {
    "duration": 2356725,
    "start_time": "2024-02-29T15:04:37.268Z"
   },
   {
    "duration": 4,
    "start_time": "2024-02-29T15:43:53.995Z"
   },
   {
    "duration": 5,
    "start_time": "2024-02-29T19:30:52.481Z"
   },
   {
    "duration": 3,
    "start_time": "2024-02-29T19:31:00.618Z"
   },
   {
    "duration": 1167538,
    "start_time": "2024-02-29T19:31:02.971Z"
   },
   {
    "duration": 4,
    "start_time": "2024-02-29T19:51:36.244Z"
   },
   {
    "duration": 503842,
    "start_time": "2024-02-29T19:51:40.162Z"
   },
   {
    "duration": 2746,
    "start_time": "2024-02-29T20:01:18.657Z"
   },
   {
    "duration": 14,
    "start_time": "2024-02-29T20:01:30.089Z"
   },
   {
    "duration": 121,
    "start_time": "2024-02-29T20:04:02.629Z"
   }
  ],
  "kernelspec": {
   "display_name": "Python 3 (ipykernel)",
   "language": "python",
   "name": "python3"
  },
  "language_info": {
   "codemirror_mode": {
    "name": "ipython",
    "version": 3
   },
   "file_extension": ".py",
   "mimetype": "text/x-python",
   "name": "python",
   "nbconvert_exporter": "python",
   "pygments_lexer": "ipython3",
   "version": "3.9.16"
  },
  "toc": {
   "base_numbering": 1,
   "nav_menu": {},
   "number_sections": true,
   "sideBar": true,
   "skip_h1_title": true,
   "title_cell": "Содержание",
   "title_sidebar": "Contents",
   "toc_cell": true,
   "toc_position": {
    "height": "calc(100% - 180px)",
    "left": "10px",
    "top": "150px",
    "width": "302.391px"
   },
   "toc_section_display": true,
   "toc_window_display": false
  }
 },
 "nbformat": 4,
 "nbformat_minor": 2
}

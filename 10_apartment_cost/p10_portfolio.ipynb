{
 "cells": [
  {
   "cell_type": "markdown",
   "id": "b5bc02d9",
   "metadata": {
    "toc": true
   },
   "source": [
    "<h1>Table of Contents<span class=\"tocSkip\"></span></h1>\n",
    "<div class=\"toc\"><ul class=\"toc-item\"><li><span><a href=\"#Подготовка-данных\" data-toc-modified-id=\"Подготовка-данных-1\"><span class=\"toc-item-num\">1&nbsp;&nbsp;</span>Подготовка данных</a></span></li><li><span><a href=\"#Обучение-моделей\" data-toc-modified-id=\"Обучение-моделей-2\"><span class=\"toc-item-num\">2&nbsp;&nbsp;</span>Обучение моделей</a></span></li><li><span><a href=\"#Анализ-результатов\" data-toc-modified-id=\"Анализ-результатов-3\"><span class=\"toc-item-num\">3&nbsp;&nbsp;</span>Анализ результатов</a></span></li></ul></div>"
   ]
  },
  {
   "cell_type": "markdown",
   "id": "GEqQaHzsZ_bA",
   "metadata": {
    "id": "GEqQaHzsZ_bA"
   },
   "source": [
    "# Предсказание стоимости жилья\n",
    "\n",
    "В проекте нужно обучить модель линейной регрессии на данных о жилье в Калифорнии в 1990 году. На основе данных нужно предсказать медианную стоимость дома в жилом массиве. Необходимо обучите модель и сделайте предсказания на тестовой выборке. Для оценки качества модели используются метрики RMSE, MAE и R2."
   ]
  },
  {
   "cell_type": "markdown",
   "id": "3a0f4912",
   "metadata": {},
   "source": [
    "**Описание датасета:**<br>\n",
    "\n",
    "`longitude` — широта;<br>\n",
    "`latitude` — долгота;<br>\n",
    "`housing_median_age` — медианный возраст жителей жилого массива;<br>\n",
    "`total_rooms` — общее количество комнат в домах жилого массива;<br>\n",
    "`total_bedrooms` — общее количество спален в домах жилого массива;<br>\n",
    "`population` — количество человек, которые проживают в жилом массиве;<br>\n",
    "`households` — количество домовладений в жилом массиве;<br>\n",
    "`median_income` — медианный доход жителей жилого массива;<br>\n",
    "`median_house_value` — медианная стоимость дома в жилом массиве;<br>\n",
    "`ocean_proximity` — близость к океану.<br>"
   ]
  },
  {
   "cell_type": "markdown",
   "id": "53871372",
   "metadata": {
    "id": "53871372"
   },
   "source": [
    "## Подготовка данных"
   ]
  },
  {
   "cell_type": "code",
   "execution_count": 1,
   "id": "df92e3ec",
   "metadata": {
    "id": "df92e3ec"
   },
   "outputs": [],
   "source": [
    "import pandas as pd \n",
    "import numpy as np\n",
    "\n",
    "import pyspark\n",
    "from pyspark.sql import SparkSession\n",
    "from pyspark.sql.types import *\n",
    "import pyspark.sql.functions as F\n",
    "from pyspark.sql.functions import col,isnan,when,count\n",
    "from pyspark.sql.functions import round\n",
    "\n",
    "from pyspark.ml.feature import StringIndexer, VectorAssembler, StandardScaler\n",
    "from pyspark.ml.regression import LinearRegression\n",
    "from pyspark.ml.evaluation import RegressionEvaluator\n",
    "from pyspark.mllib.evaluation import RegressionMetrics\n",
    "\n",
    "pyspark_version = pyspark.__version__\n",
    "if int(pyspark_version[:1]) == 3:\n",
    "    from pyspark.ml.feature import OneHotEncoder    \n",
    "elif int(pyspark_version[:1]) == 2:\n",
    "    from pyspark.ml.feature import OneHotEncodeEstimator"
   ]
  },
  {
   "cell_type": "code",
   "execution_count": 2,
   "id": "7484978e",
   "metadata": {},
   "outputs": [],
   "source": [
    "RANDOM_SEED = 12345"
   ]
  },
  {
   "cell_type": "markdown",
   "id": "1d6b3299",
   "metadata": {},
   "source": [
    "**Инициализируем локальную Spark-сессию.**"
   ]
  },
  {
   "cell_type": "code",
   "execution_count": 3,
   "id": "9579a045",
   "metadata": {
    "scrolled": true
   },
   "outputs": [],
   "source": [
    "spark = SparkSession.builder \\\n",
    "                    .master(\"local\") \\\n",
    "                    .appName(\"Housing\") \\\n",
    "                    .getOrCreate()"
   ]
  },
  {
   "cell_type": "markdown",
   "id": "cfc74f15",
   "metadata": {},
   "source": [
    "**Читаем содержимое файла.**"
   ]
  },
  {
   "cell_type": "code",
   "execution_count": 4,
   "id": "b09b664d",
   "metadata": {},
   "outputs": [
    {
     "name": "stderr",
     "output_type": "stream",
     "text": [
      "                                                                                \r"
     ]
    }
   ],
   "source": [
    "df = spark.read.option('header', 'true').csv('/datasets/housing.csv', inferSchema = True)"
   ]
  },
  {
   "cell_type": "code",
   "execution_count": 5,
   "id": "0f99dfce",
   "metadata": {},
   "outputs": [
    {
     "name": "stdout",
     "output_type": "stream",
     "text": [
      "+---------+--------+------------------+-----------+--------------+----------+----------+-------------+------------------+---------------+\n",
      "|longitude|latitude|housing_median_age|total_rooms|total_bedrooms|population|households|median_income|median_house_value|ocean_proximity|\n",
      "+---------+--------+------------------+-----------+--------------+----------+----------+-------------+------------------+---------------+\n",
      "|  -122.23|   37.88|              41.0|      880.0|         129.0|     322.0|     126.0|       8.3252|          452600.0|       NEAR BAY|\n",
      "|  -122.22|   37.86|              21.0|     7099.0|        1106.0|    2401.0|    1138.0|       8.3014|          358500.0|       NEAR BAY|\n",
      "|  -122.24|   37.85|              52.0|     1467.0|         190.0|     496.0|     177.0|       7.2574|          352100.0|       NEAR BAY|\n",
      "|  -122.25|   37.85|              52.0|     1274.0|         235.0|     558.0|     219.0|       5.6431|          341300.0|       NEAR BAY|\n",
      "|  -122.25|   37.85|              52.0|     1627.0|         280.0|     565.0|     259.0|       3.8462|          342200.0|       NEAR BAY|\n",
      "+---------+--------+------------------+-----------+--------------+----------+----------+-------------+------------------+---------------+\n",
      "only showing top 5 rows\n",
      "\n"
     ]
    }
   ],
   "source": [
    "df.show(5)"
   ]
  },
  {
   "cell_type": "markdown",
   "id": "cbbe05ad",
   "metadata": {},
   "source": [
    "**Типы данных колонок датасета.**"
   ]
  },
  {
   "cell_type": "code",
   "execution_count": 6,
   "id": "42d6a7bb",
   "metadata": {},
   "outputs": [
    {
     "name": "stdout",
     "output_type": "stream",
     "text": [
      "root\n",
      " |-- longitude: double (nullable = true)\n",
      " |-- latitude: double (nullable = true)\n",
      " |-- housing_median_age: double (nullable = true)\n",
      " |-- total_rooms: double (nullable = true)\n",
      " |-- total_bedrooms: double (nullable = true)\n",
      " |-- population: double (nullable = true)\n",
      " |-- households: double (nullable = true)\n",
      " |-- median_income: double (nullable = true)\n",
      " |-- median_house_value: double (nullable = true)\n",
      " |-- ocean_proximity: string (nullable = true)\n",
      "\n"
     ]
    }
   ],
   "source": [
    "df.printSchema() "
   ]
  },
  {
   "cell_type": "markdown",
   "id": "a2a394b4",
   "metadata": {},
   "source": [
    "Исключим из датасета столбцы `longitude` и `latitude`."
   ]
  },
  {
   "cell_type": "markdown",
   "id": "57f14f4c",
   "metadata": {},
   "source": [
    "Изменим форматы столбцов."
   ]
  },
  {
   "cell_type": "code",
   "execution_count": 8,
   "id": "74c2dbd0",
   "metadata": {},
   "outputs": [
    {
     "name": "stderr",
     "output_type": "stream",
     "text": [
      "                                                                                \r"
     ]
    },
    {
     "data": {
      "text/html": [
       "<div>\n",
       "<style scoped>\n",
       "    .dataframe tbody tr th:only-of-type {\n",
       "        vertical-align: middle;\n",
       "    }\n",
       "\n",
       "    .dataframe tbody tr th {\n",
       "        vertical-align: top;\n",
       "    }\n",
       "\n",
       "    .dataframe thead th {\n",
       "        text-align: right;\n",
       "    }\n",
       "</style>\n",
       "<table border=\"1\" class=\"dataframe\">\n",
       "  <thead>\n",
       "    <tr style=\"text-align: right;\">\n",
       "      <th></th>\n",
       "      <th>summary</th>\n",
       "      <th>median_income</th>\n",
       "    </tr>\n",
       "  </thead>\n",
       "  <tbody>\n",
       "    <tr>\n",
       "      <th>0</th>\n",
       "      <td>count</td>\n",
       "      <td>20640</td>\n",
       "    </tr>\n",
       "    <tr>\n",
       "      <th>1</th>\n",
       "      <td>mean</td>\n",
       "      <td>3.8706710029070246</td>\n",
       "    </tr>\n",
       "    <tr>\n",
       "      <th>2</th>\n",
       "      <td>stddev</td>\n",
       "      <td>1.899821717945263</td>\n",
       "    </tr>\n",
       "    <tr>\n",
       "      <th>3</th>\n",
       "      <td>min</td>\n",
       "      <td>0.4999</td>\n",
       "    </tr>\n",
       "    <tr>\n",
       "      <th>4</th>\n",
       "      <td>max</td>\n",
       "      <td>15.0001</td>\n",
       "    </tr>\n",
       "  </tbody>\n",
       "</table>\n",
       "</div>"
      ],
      "text/plain": [
       "  summary       median_income\n",
       "0   count               20640\n",
       "1    mean  3.8706710029070246\n",
       "2  stddev   1.899821717945263\n",
       "3     min              0.4999\n",
       "4     max             15.0001"
      ]
     },
     "execution_count": 8,
     "metadata": {},
     "output_type": "execute_result"
    }
   ],
   "source": [
    "df.select('median_income').describe().toPandas()"
   ]
  },
  {
   "cell_type": "code",
   "execution_count": 9,
   "id": "3f3321bb",
   "metadata": {},
   "outputs": [
    {
     "name": "stdout",
     "output_type": "stream",
     "text": [
      "root\n",
      " |-- longitude: integer (nullable = true)\n",
      " |-- latitude: integer (nullable = true)\n",
      " |-- housing_median_age: integer (nullable = true)\n",
      " |-- total_rooms: integer (nullable = true)\n",
      " |-- total_bedrooms: integer (nullable = true)\n",
      " |-- population: integer (nullable = true)\n",
      " |-- households: integer (nullable = true)\n",
      " |-- median_income: double (nullable = true)\n",
      " |-- median_house_value: integer (nullable = true)\n",
      " |-- ocean_proximity: string (nullable = true)\n",
      "\n"
     ]
    }
   ],
   "source": [
    "exclude = ['ocean_proximity', 'median_income']\n",
    "selected_columns = [col for col in df.columns if col not in exclude]\n",
    "for column in selected_columns:\n",
    "    df = df.withColumn(column, F.col(column).cast(IntegerType()))\n",
    "df.printSchema() "
   ]
  },
  {
   "cell_type": "markdown",
   "id": "243478f1",
   "metadata": {},
   "source": [
    "Проверим дубликаты."
   ]
  },
  {
   "cell_type": "code",
   "execution_count": 10,
   "id": "be4fb728",
   "metadata": {
    "scrolled": true
   },
   "outputs": [
    {
     "name": "stdout",
     "output_type": "stream",
     "text": [
      "Количество записей в изначальном датасете: 20640\n"
     ]
    },
    {
     "name": "stderr",
     "output_type": "stream",
     "text": [
      "[Stage 8:===================================================>   (186 + 1) / 200]\r"
     ]
    },
    {
     "name": "stdout",
     "output_type": "stream",
     "text": [
      "Количество уникальных записей: 20640\n"
     ]
    },
    {
     "name": "stderr",
     "output_type": "stream",
     "text": [
      "                                                                                \r"
     ]
    }
   ],
   "source": [
    "print('Количество записей в изначальном датасете:', df.count())\n",
    "print('Количество уникальных записей:', df.distinct().count())"
   ]
  },
  {
   "cell_type": "markdown",
   "id": "d22c8782",
   "metadata": {},
   "source": [
    "Дубликаты отсутсвуют."
   ]
  },
  {
   "cell_type": "markdown",
   "id": "6c8bff3e",
   "metadata": {},
   "source": [
    "Проверим пропуски."
   ]
  },
  {
   "cell_type": "code",
   "execution_count": 11,
   "id": "23a982b6",
   "metadata": {},
   "outputs": [
    {
     "name": "stdout",
     "output_type": "stream",
     "text": [
      "longitude 0\n",
      "latitude 0\n",
      "housing_median_age 0\n",
      "total_rooms 0\n",
      "total_bedrooms 207\n",
      "population 0\n",
      "households 0\n",
      "median_income 0\n",
      "median_house_value 0\n",
      "ocean_proximity 0\n"
     ]
    }
   ],
   "source": [
    "columns = df.columns\n",
    "for column in columns:\n",
    "    check_col = F.col(column).isNull()\n",
    "    print(column, df.filter(check_col).count())"
   ]
  },
  {
   "cell_type": "code",
   "execution_count": 12,
   "id": "5766c9aa",
   "metadata": {},
   "outputs": [
    {
     "name": "stdout",
     "output_type": "stream",
     "text": [
      "longitude 0\n",
      "latitude 0\n",
      "housing_median_age 0\n",
      "total_rooms 0\n",
      "total_bedrooms 0\n",
      "population 0\n",
      "households 0\n",
      "median_income 0\n",
      "median_house_value 0\n",
      "ocean_proximity 0\n"
     ]
    }
   ],
   "source": [
    "columns = df.columns\n",
    "for column in columns:\n",
    "    check_col = df.filter(isnan(col(column)))\n",
    "    print(column, check_col.count())"
   ]
  },
  {
   "cell_type": "markdown",
   "id": "dd2541cb",
   "metadata": {},
   "source": [
    "Заменим пропуски на средние значения."
   ]
  },
  {
   "cell_type": "code",
   "execution_count": 13,
   "id": "78c2629d",
   "metadata": {},
   "outputs": [
    {
     "name": "stdout",
     "output_type": "stream",
     "text": [
      "total_bedrooms 0\n"
     ]
    }
   ],
   "source": [
    "mean = np.round(df.select(F.mean('total_bedrooms')).collect()[0][0])\n",
    "df = df.na.fill({'total_bedrooms': mean})\n",
    "print('total_bedrooms', df.filter(F.col('total_bedrooms').isNull()).count())"
   ]
  },
  {
   "cell_type": "markdown",
   "id": "ca0e7869",
   "metadata": {},
   "source": [
    "Создадим столбцы с дополнительными признаками."
   ]
  },
  {
   "cell_type": "code",
   "execution_count": 14,
   "id": "0210db11",
   "metadata": {},
   "outputs": [],
   "source": [
    "df = df.withColumn('rooms_per_household', round(F.col('total_rooms')/ F.col('households'),4))\n",
    "df = df.withColumn('population_in_household', round(F.col('population') / F.col('households'),4))\n",
    "df = df.withColumn('bedroom_index', round(F.col('total_bedrooms') / F.col('total_rooms'),4))"
   ]
  },
  {
   "cell_type": "code",
   "execution_count": 15,
   "id": "940d18f6",
   "metadata": {},
   "outputs": [
    {
     "name": "stdout",
     "output_type": "stream",
     "text": [
      "+---------+--------+------------------+-----------+--------------+----------+----------+-------------+------------------+---------------+-------------------+-----------------------+-------------+\n",
      "|longitude|latitude|housing_median_age|total_rooms|total_bedrooms|population|households|median_income|median_house_value|ocean_proximity|rooms_per_household|population_in_household|bedroom_index|\n",
      "+---------+--------+------------------+-----------+--------------+----------+----------+-------------+------------------+---------------+-------------------+-----------------------+-------------+\n",
      "|     -122|      37|                41|        880|           129|       322|       126|       8.3252|            452600|       NEAR BAY|             6.9841|                 2.5556|       0.1466|\n",
      "|     -122|      37|                21|       7099|          1106|      2401|      1138|       8.3014|            358500|       NEAR BAY|             6.2381|                 2.1098|       0.1558|\n",
      "|     -122|      37|                52|       1467|           190|       496|       177|       7.2574|            352100|       NEAR BAY|             8.2881|                 2.8023|       0.1295|\n",
      "|     -122|      37|                52|       1274|           235|       558|       219|       5.6431|            341300|       NEAR BAY|             5.8174|                 2.5479|       0.1845|\n",
      "|     -122|      37|                52|       1627|           280|       565|       259|       3.8462|            342200|       NEAR BAY|             6.2819|                 2.1815|       0.1721|\n",
      "+---------+--------+------------------+-----------+--------------+----------+----------+-------------+------------------+---------------+-------------------+-----------------------+-------------+\n",
      "only showing top 5 rows\n",
      "\n"
     ]
    }
   ],
   "source": [
    "df.show(5)"
   ]
  },
  {
   "cell_type": "code",
   "execution_count": 16,
   "id": "5b36f1d2",
   "metadata": {},
   "outputs": [
    {
     "name": "stdout",
     "output_type": "stream",
     "text": [
      "root\n",
      " |-- longitude: integer (nullable = true)\n",
      " |-- latitude: integer (nullable = true)\n",
      " |-- housing_median_age: integer (nullable = true)\n",
      " |-- total_rooms: integer (nullable = true)\n",
      " |-- total_bedrooms: integer (nullable = true)\n",
      " |-- population: integer (nullable = true)\n",
      " |-- households: integer (nullable = true)\n",
      " |-- median_income: double (nullable = true)\n",
      " |-- median_house_value: integer (nullable = true)\n",
      " |-- ocean_proximity: string (nullable = true)\n",
      " |-- rooms_per_household: double (nullable = true)\n",
      " |-- population_in_household: double (nullable = true)\n",
      " |-- bedroom_index: double (nullable = true)\n",
      "\n"
     ]
    }
   ],
   "source": [
    "df.printSchema() "
   ]
  },
  {
   "cell_type": "markdown",
   "id": "b29841d1",
   "metadata": {},
   "source": [
    "Разделим призанки на категориальные, числовые и таргет."
   ]
  },
  {
   "cell_type": "code",
   "execution_count": 17,
   "id": "8b4a3760",
   "metadata": {},
   "outputs": [],
   "source": [
    "categorical_cols = ['ocean_proximity']\n",
    "numerical_cols  = ['housing_median_age',\n",
    "                   'total_rooms', \n",
    "                   'total_bedrooms',\n",
    "                   'population',\n",
    "                   'households',\n",
    "                   'median_income',\n",
    "                   'rooms_per_household',\n",
    "                   'population_in_household',\n",
    "                   'bedroom_index'\n",
    "                  ]\n",
    "target = 'median_house_value' "
   ]
  },
  {
   "cell_type": "markdown",
   "id": "16d24c13",
   "metadata": {},
   "source": [
    "Разделим выборки."
   ]
  },
  {
   "cell_type": "code",
   "execution_count": 18,
   "id": "4b58d481",
   "metadata": {},
   "outputs": [
    {
     "name": "stderr",
     "output_type": "stream",
     "text": [
      "[Stage 57:>                                                         (0 + 1) / 1]\r"
     ]
    },
    {
     "name": "stdout",
     "output_type": "stream",
     "text": [
      "16431 4209\n"
     ]
    },
    {
     "name": "stderr",
     "output_type": "stream",
     "text": [
      "                                                                                \r"
     ]
    }
   ],
   "source": [
    "train_data, test_data = df.randomSplit([.8,.2], seed=RANDOM_SEED)\n",
    "print(train_data.count(), test_data.count()) "
   ]
  },
  {
   "cell_type": "markdown",
   "id": "d7eabc5a",
   "metadata": {},
   "source": [
    " Трансформируем категориальный признак в числовое представление. "
   ]
  },
  {
   "cell_type": "code",
   "execution_count": 19,
   "id": "aceac31b",
   "metadata": {
    "scrolled": false
   },
   "outputs": [
    {
     "name": "stderr",
     "output_type": "stream",
     "text": [
      "                                                                                \r"
     ]
    },
    {
     "name": "stdout",
     "output_type": "stream",
     "text": [
      "+---------------+-------------------+\n",
      "|ocean_proximity|ocean_proximity_idx|\n",
      "+---------------+-------------------+\n",
      "|     NEAR OCEAN|                2.0|\n",
      "|     NEAR OCEAN|                2.0|\n",
      "|     NEAR OCEAN|                2.0|\n",
      "+---------------+-------------------+\n",
      "only showing top 3 rows\n",
      "\n",
      "+---------------+-------------------+\n",
      "|ocean_proximity|ocean_proximity_idx|\n",
      "+---------------+-------------------+\n",
      "|     NEAR OCEAN|                2.0|\n",
      "|     NEAR OCEAN|                2.0|\n",
      "|     NEAR OCEAN|                2.0|\n",
      "+---------------+-------------------+\n",
      "only showing top 3 rows\n",
      "\n"
     ]
    }
   ],
   "source": [
    "indexer = StringIndexer(inputCols=categorical_cols, \n",
    "                        outputCols=[c+'_idx' for c in categorical_cols]) \n",
    "ind = indexer.fit(train_data)\n",
    "\n",
    "train_data = ind.transform(train_data)\n",
    "test_data = ind.transform(test_data)\n",
    "\n",
    "cols = [c for c in train_data.columns for i in categorical_cols if (c.startswith(i))]\n",
    "train_data.select(cols).show(3) \n",
    "\n",
    "cols = [c for c in test_data.columns for i in categorical_cols if (c.startswith(i))]\n",
    "test_data.select(cols).show(3) "
   ]
  },
  {
   "cell_type": "markdown",
   "id": "8bba2b68",
   "metadata": {},
   "source": [
    "Создадим OHE-кодирование."
   ]
  },
  {
   "cell_type": "code",
   "execution_count": 20,
   "id": "8a7a44e8",
   "metadata": {},
   "outputs": [
    {
     "name": "stdout",
     "output_type": "stream",
     "text": [
      "+---------------+-------------------+-------------------+\n",
      "|ocean_proximity|ocean_proximity_idx|ocean_proximity_ohe|\n",
      "+---------------+-------------------+-------------------+\n",
      "|     NEAR OCEAN|                2.0|      (4,[2],[1.0])|\n",
      "|     NEAR OCEAN|                2.0|      (4,[2],[1.0])|\n",
      "|     NEAR OCEAN|                2.0|      (4,[2],[1.0])|\n",
      "+---------------+-------------------+-------------------+\n",
      "only showing top 3 rows\n",
      "\n",
      "+---------------+-------------------+-------------------+\n",
      "|ocean_proximity|ocean_proximity_idx|ocean_proximity_ohe|\n",
      "+---------------+-------------------+-------------------+\n",
      "|     NEAR OCEAN|                2.0|      (4,[2],[1.0])|\n",
      "|     NEAR OCEAN|                2.0|      (4,[2],[1.0])|\n",
      "|     NEAR OCEAN|                2.0|      (4,[2],[1.0])|\n",
      "+---------------+-------------------+-------------------+\n",
      "only showing top 3 rows\n",
      "\n"
     ]
    }
   ],
   "source": [
    "encoder = OneHotEncoder(inputCols=[c+'_idx' for c in categorical_cols],\n",
    "                        outputCols=[c+'_ohe' for c in categorical_cols])\n",
    "enc = encoder.fit(train_data)\n",
    "\n",
    "train_data = enc.transform(train_data)\n",
    "test_data = enc.transform(test_data)\n",
    "\n",
    "cols = [c for c in train_data.columns for i in categorical_cols if (c.startswith(i))]\n",
    "train_data.select(cols).show(3) \n",
    "\n",
    "cols = [c for c in test_data.columns for i in categorical_cols if (c.startswith(i))]\n",
    "test_data.select(cols).show(3) "
   ]
  },
  {
   "cell_type": "code",
   "execution_count": 21,
   "id": "79107743",
   "metadata": {},
   "outputs": [],
   "source": [
    "categorical_assembler = \\\n",
    "        VectorAssembler(inputCols=[c+'_ohe' for c in categorical_cols],\n",
    "                                        outputCol=\"categorical_features\")\n",
    "train_data = categorical_assembler.transform(train_data)\n",
    "test_data = categorical_assembler.transform(test_data)"
   ]
  },
  {
   "cell_type": "markdown",
   "id": "8907235a",
   "metadata": {},
   "source": [
    "Трансформируем числовые признаки."
   ]
  },
  {
   "cell_type": "code",
   "execution_count": 22,
   "id": "69bd4509",
   "metadata": {},
   "outputs": [
    {
     "name": "stderr",
     "output_type": "stream",
     "text": [
      "                                                                                \r"
     ]
    }
   ],
   "source": [
    "numerical_assembler = VectorAssembler(inputCols=numerical_cols, outputCol=\"numerical_features\")\n",
    "train_data = numerical_assembler.transform(train_data)\n",
    "test_data = numerical_assembler.transform(test_data)\n",
    "\n",
    "standardScaler = StandardScaler(inputCol='numerical_features', outputCol=\"numerical_features_scaled\")\n",
    "sclr = standardScaler.fit(train_data)\n",
    "train_data = sclr.transform(train_data)\n",
    "test_data = sclr.transform(test_data)"
   ]
  },
  {
   "cell_type": "code",
   "execution_count": 23,
   "id": "601447c2",
   "metadata": {
    "scrolled": true
   },
   "outputs": [
    {
     "data": {
      "text/plain": [
       "['longitude',\n",
       " 'latitude',\n",
       " 'housing_median_age',\n",
       " 'total_rooms',\n",
       " 'total_bedrooms',\n",
       " 'population',\n",
       " 'households',\n",
       " 'median_income',\n",
       " 'median_house_value',\n",
       " 'ocean_proximity',\n",
       " 'rooms_per_household',\n",
       " 'population_in_household',\n",
       " 'bedroom_index',\n",
       " 'ocean_proximity_idx',\n",
       " 'ocean_proximity_ohe',\n",
       " 'categorical_features',\n",
       " 'numerical_features',\n",
       " 'numerical_features_scaled']"
      ]
     },
     "execution_count": 23,
     "metadata": {},
     "output_type": "execute_result"
    }
   ],
   "source": [
    "train_data.columns"
   ]
  },
  {
   "cell_type": "code",
   "execution_count": 24,
   "id": "5c17faa6",
   "metadata": {},
   "outputs": [
    {
     "name": "stderr",
     "output_type": "stream",
     "text": [
      "                                                                                \r"
     ]
    },
    {
     "name": "stdout",
     "output_type": "stream",
     "text": [
      "+--------------------+-------------------------+\n",
      "|categorical_features|numerical_features_scaled|\n",
      "+--------------------+-------------------------+\n",
      "|       (4,[2],[1.0])|     [0.95175529883372...|\n",
      "|       (4,[2],[1.0])|     [0.95175529883372...|\n",
      "|       (4,[2],[1.0])|     [1.03106824040320...|\n",
      "+--------------------+-------------------------+\n",
      "only showing top 3 rows\n",
      "\n",
      "+--------------------+-------------------------+\n",
      "|categorical_features|numerical_features_scaled|\n",
      "+--------------------+-------------------------+\n",
      "|       (4,[2],[1.0])|     [1.34832000668110...|\n",
      "|       (4,[2],[1.0])|     [1.82419765609797...|\n",
      "|       (4,[2],[1.0])|     [1.82419765609797...|\n",
      "+--------------------+-------------------------+\n",
      "only showing top 3 rows\n",
      "\n"
     ]
    }
   ],
   "source": [
    "all_features = ['categorical_features','numerical_features_scaled']\n",
    "\n",
    "final_assembler = VectorAssembler(inputCols=all_features, \n",
    "                                  outputCol=\"features\") \n",
    "train_data = final_assembler.transform(train_data)\n",
    "test_data = final_assembler.transform(test_data)\n",
    "\n",
    "train_data.select(all_features).show(3) \n",
    "test_data.select(all_features).show(3) "
   ]
  },
  {
   "cell_type": "markdown",
   "id": "7012fb32",
   "metadata": {},
   "source": [
    "**Вывод**"
   ]
  },
  {
   "cell_type": "markdown",
   "id": "f373150d",
   "metadata": {},
   "source": [
    "- в датасете отсутсвуют  дубликаты\n",
    "- 207 пропущенных значение в столбце `total_bedrooms` заменены на среднее значение\n",
    "- удалены столбцы с широтой и долготой\n",
    "- добавлены столбцы с дополнительными признаками: `rooms_per_household`, `population_in_household`, `bedroom_index`\n",
    "- произвели трансформацию категориальных и числовых признаков"
   ]
  },
  {
   "cell_type": "markdown",
   "id": "9f0a82f3",
   "metadata": {
    "id": "9f0a82f3"
   },
   "source": [
    "## Обучение моделей"
   ]
  },
  {
   "cell_type": "markdown",
   "id": "eef24878",
   "metadata": {},
   "source": [
    "Разделим выборки."
   ]
  },
  {
   "cell_type": "code",
   "execution_count": 25,
   "id": "bddb08c4",
   "metadata": {
    "id": "bddb08c4",
    "scrolled": false
   },
   "outputs": [],
   "source": [
    "train_data, test_data = df.randomSplit([.8,.2], seed=RANDOM_SEED)\n",
    "print(train_data.count(), test_data.count()) "
   ]
  },
  {
   "cell_type": "markdown",
   "id": "7afcc43f",
   "metadata": {},
   "source": [
    "Обучим модель на всех признаках."
   ]
  },
  {
   "cell_type": "code",
   "execution_count": 26,
   "id": "f44ceaac",
   "metadata": {
    "scrolled": true
   },
   "outputs": [
    {
     "name": "stderr",
     "output_type": "stream",
     "text": [
      "23/03/25 10:56:07 WARN Instrumentation: [89e0db79] regParam is zero, which might cause numerical instability and overfitting.\n",
      "23/03/25 10:56:08 WARN BLAS: Failed to load implementation from: com.github.fommil.netlib.NativeSystemBLAS\n",
      "23/03/25 10:56:08 WARN BLAS: Failed to load implementation from: com.github.fommil.netlib.NativeRefBLAS\n",
      "23/03/25 10:56:09 WARN LAPACK: Failed to load implementation from: com.github.fommil.netlib.NativeSystemLAPACK\n",
      "23/03/25 10:56:09 WARN LAPACK: Failed to load implementation from: com.github.fommil.netlib.NativeRefLAPACK\n",
      "                                                                                \r"
     ]
    }
   ],
   "source": [
    "lr_all = LinearRegression(labelCol=target, featuresCol='features')\n",
    "model_all= lr_all.fit(train_data) "
   ]
  },
  {
   "cell_type": "markdown",
   "id": "1e51aee2",
   "metadata": {},
   "source": [
    "Обучим модель только на числовых признаках."
   ]
  },
  {
   "cell_type": "code",
   "execution_count": 27,
   "id": "190ff56f",
   "metadata": {
    "scrolled": true
   },
   "outputs": [
    {
     "name": "stderr",
     "output_type": "stream",
     "text": [
      "23/03/25 10:56:12 WARN Instrumentation: [7b668689] regParam is zero, which might cause numerical instability and overfitting.\n",
      "                                                                                \r"
     ]
    }
   ],
   "source": [
    "lr_num = LinearRegression(labelCol=target, featuresCol='numerical_features_scaled')\n",
    "model_num = lr_num.fit(train_data) \n"
   ]
  },
  {
   "cell_type": "markdown",
   "id": "8abcc7bc",
   "metadata": {},
   "source": [
    "**Вывод**"
   ]
  },
  {
   "cell_type": "markdown",
   "id": "ee52eaa5",
   "metadata": {},
   "source": [
    "- обучили две модели Линейной регрессии: на всех признаках (категориальные и числовые), и только на числовых."
   ]
  },
  {
   "cell_type": "markdown",
   "id": "757fd103",
   "metadata": {
    "id": "757fd103"
   },
   "source": [
    "## Анализ результатов"
   ]
  },
  {
   "cell_type": "markdown",
   "id": "c4d987ff",
   "metadata": {},
   "source": [
    "Получим предсказания для модели, обученной на всех признаках (числовых и категориальных)."
   ]
  },
  {
   "cell_type": "code",
   "execution_count": 28,
   "id": "b080f74f",
   "metadata": {},
   "outputs": [],
   "source": [
    "predictions_all = model_all.transform(test_data)"
   ]
  },
  {
   "cell_type": "markdown",
   "id": "7d1f49a2",
   "metadata": {},
   "source": [
    "Рассчитаем метрики."
   ]
  },
  {
   "cell_type": "code",
   "execution_count": 29,
   "id": "4ff21981",
   "metadata": {},
   "outputs": [
    {
     "name": "stdout",
     "output_type": "stream",
     "text": [
      "RMSE (все призанки) = 67049.601153\n",
      "MAE (все призанки) = 48903.774295\n",
      "R2 (все призанки) = 0.650634\n"
     ]
    }
   ],
   "source": [
    "evaluator = RegressionEvaluator(labelCol=target, predictionCol=\"prediction\", metricName=\"rmse\")\n",
    "rmse = evaluator.evaluate(predictions_all)\n",
    "print(\"RMSE (все призанки) = %f\" % rmse)\n",
    "\n",
    "evaluator = RegressionEvaluator(labelCol=target, predictionCol=\"prediction\", metricName=\"mae\")\n",
    "mae = evaluator.evaluate(predictions_all)\n",
    "print(\"MAE (все призанки) = %f\" % mae)\n",
    "\n",
    "evaluator = RegressionEvaluator(labelCol=target, predictionCol=\"prediction\", metricName=\"r2\")\n",
    "r2 = evaluator.evaluate(predictions_all)\n",
    "print(\"R2 (все призанки) = %f\" % r2)"
   ]
  },
  {
   "cell_type": "markdown",
   "id": "d3bdb79f",
   "metadata": {},
   "source": [
    "Получим предсказания для модели, обученной только на числовых признаках."
   ]
  },
  {
   "cell_type": "code",
   "execution_count": 30,
   "id": "f351d3de",
   "metadata": {},
   "outputs": [],
   "source": [
    "predictions_num = model_num.transform(test_data)"
   ]
  },
  {
   "cell_type": "markdown",
   "id": "a6f5615f",
   "metadata": {},
   "source": [
    "Рассчитаем метрики."
   ]
  },
  {
   "cell_type": "code",
   "execution_count": 31,
   "id": "50f24946",
   "metadata": {
    "scrolled": true
   },
   "outputs": [
    {
     "name": "stdout",
     "output_type": "stream",
     "text": [
      "RMSE (числовые признаки) = 72744.280699\n",
      "MAE (числовые признаки) = 53644.787947\n",
      "R2 (числовые признаки)= 0.588769\n"
     ]
    }
   ],
   "source": [
    "evaluator = RegressionEvaluator(labelCol='median_house_value', predictionCol=\"prediction\", metricName=\"rmse\")\n",
    "rmse = evaluator.evaluate(predictions_num)\n",
    "print(\"RMSE (числовые признаки) = %f\" % rmse)\n",
    "\n",
    "evaluator = RegressionEvaluator(labelCol='median_house_value', predictionCol=\"prediction\", metricName=\"mae\")\n",
    "mae = evaluator.evaluate(predictions_num)\n",
    "print(\"MAE (числовые признаки) = %f\" % mae)\n",
    "\n",
    "evaluator = RegressionEvaluator(labelCol='median_house_value', predictionCol=\"prediction\", metricName=\"r2\")\n",
    "r2 = evaluator.evaluate(predictions_num)\n",
    "print(\"R2 (числовые признаки)= %f\" % r2)"
   ]
  },
  {
   "cell_type": "markdown",
   "id": "8ee38b26",
   "metadata": {},
   "source": [
    "**Вывод**"
   ]
  },
  {
   "cell_type": "markdown",
   "id": "0290dc04",
   "metadata": {},
   "source": [
    "- модель, обученная на всех признаках (категориальных и чесловых) показала лучшие результаты:<br>\n",
    "\n",
    "    RMSE = 67049.601153<br>\n",
    "    MAE = 48903.774295<br>\n",
    "    R2 = 0.650634<br>"
   ]
  },
  {
   "cell_type": "code",
   "execution_count": 32,
   "id": "836e2998",
   "metadata": {},
   "outputs": [],
   "source": [
    "spark.stop()"
   ]
  }
 ],
 "metadata": {
  "ExecuteTimeLog": [
   {
    "duration": 728,
    "start_time": "2023-03-22T08:50:02.375Z"
   },
   {
    "duration": 3,
    "start_time": "2023-03-22T08:50:29.087Z"
   },
   {
    "duration": 26596,
    "start_time": "2023-03-22T08:51:42.971Z"
   },
   {
    "duration": 115,
    "start_time": "2023-03-22T08:56:04.134Z"
   },
   {
    "duration": 101,
    "start_time": "2023-03-22T08:56:58.865Z"
   },
   {
    "duration": 16,
    "start_time": "2023-03-22T08:58:18.491Z"
   },
   {
    "duration": 64,
    "start_time": "2023-03-22T09:10:28.498Z"
   },
   {
    "duration": 465,
    "start_time": "2023-03-22T09:14:02.518Z"
   },
   {
    "duration": 283,
    "start_time": "2023-03-22T09:14:24.874Z"
   },
   {
    "duration": 158,
    "start_time": "2023-03-22T09:14:59.824Z"
   },
   {
    "duration": 91,
    "start_time": "2023-03-22T09:22:06.533Z"
   },
   {
    "duration": 1213,
    "start_time": "2023-03-22T09:22:17.750Z"
   },
   {
    "duration": 415,
    "start_time": "2023-03-22T09:22:55.348Z"
   },
   {
    "duration": 8166,
    "start_time": "2023-03-22T09:23:20.603Z"
   },
   {
    "duration": 8,
    "start_time": "2023-03-22T09:26:57.251Z"
   },
   {
    "duration": 14,
    "start_time": "2023-03-22T09:27:06.300Z"
   },
   {
    "duration": 5,
    "start_time": "2023-03-22T09:27:43.171Z"
   },
   {
    "duration": 39,
    "start_time": "2023-03-22T09:27:50.151Z"
   },
   {
    "duration": 19,
    "start_time": "2023-03-22T09:28:07.014Z"
   },
   {
    "duration": 2987,
    "start_time": "2023-03-22T09:29:40.162Z"
   },
   {
    "duration": 145,
    "start_time": "2023-03-22T09:31:55.564Z"
   },
   {
    "duration": 3133,
    "start_time": "2023-03-22T09:32:02.320Z"
   },
   {
    "duration": 533,
    "start_time": "2023-03-22T09:39:52.517Z"
   },
   {
    "duration": 9,
    "start_time": "2023-03-22T09:43:11.973Z"
   },
   {
    "duration": 567,
    "start_time": "2023-03-22T09:43:16.784Z"
   },
   {
    "duration": 463,
    "start_time": "2023-03-22T09:43:29.906Z"
   },
   {
    "duration": 308,
    "start_time": "2023-03-22T09:43:50.860Z"
   },
   {
    "duration": 109,
    "start_time": "2023-03-22T09:48:09.045Z"
   },
   {
    "duration": 318,
    "start_time": "2023-03-22T09:48:21.024Z"
   },
   {
    "duration": 21,
    "start_time": "2023-03-22T09:50:24.565Z"
   },
   {
    "duration": 257,
    "start_time": "2023-03-22T09:50:28.185Z"
   },
   {
    "duration": 15,
    "start_time": "2023-03-22T09:51:14.778Z"
   },
   {
    "duration": 11,
    "start_time": "2023-03-22T09:51:36.087Z"
   },
   {
    "duration": 38,
    "start_time": "2023-03-22T09:51:54.354Z"
   },
   {
    "duration": 332,
    "start_time": "2023-03-22T09:51:58.454Z"
   },
   {
    "duration": 4,
    "start_time": "2023-03-22T09:52:18.790Z"
   },
   {
    "duration": 3,
    "start_time": "2023-03-22T09:52:20.823Z"
   },
   {
    "duration": 5,
    "start_time": "2023-03-22T09:52:23.439Z"
   },
   {
    "duration": 626,
    "start_time": "2023-03-22T09:52:34.748Z"
   },
   {
    "duration": 229,
    "start_time": "2023-03-22T09:52:49.515Z"
   },
   {
    "duration": 763,
    "start_time": "2023-03-22T09:55:27.826Z"
   },
   {
    "duration": 3,
    "start_time": "2023-03-22T09:55:28.592Z"
   },
   {
    "duration": 16675,
    "start_time": "2023-03-22T09:55:28.597Z"
   },
   {
    "duration": 11892,
    "start_time": "2023-03-22T09:55:45.276Z"
   },
   {
    "duration": 1083,
    "start_time": "2023-03-22T09:55:57.170Z"
   },
   {
    "duration": 87,
    "start_time": "2023-03-22T09:55:58.255Z"
   },
   {
    "duration": 199,
    "start_time": "2023-03-22T09:55:58.346Z"
   },
   {
    "duration": 320,
    "start_time": "2023-03-22T09:55:58.547Z"
   },
   {
    "duration": 11308,
    "start_time": "2023-03-22T09:55:58.869Z"
   },
   {
    "duration": 3704,
    "start_time": "2023-03-22T09:56:10.241Z"
   },
   {
    "duration": 3323,
    "start_time": "2023-03-22T09:56:13.947Z"
   },
   {
    "duration": 879,
    "start_time": "2023-03-22T09:56:17.273Z"
   },
   {
    "duration": 80,
    "start_time": "2023-03-22T09:56:18.155Z"
   },
   {
    "duration": 0,
    "start_time": "2023-03-22T09:56:18.237Z"
   },
   {
    "duration": 85,
    "start_time": "2023-03-22T09:56:38.101Z"
   },
   {
    "duration": 12,
    "start_time": "2023-03-22T10:02:22.976Z"
   },
   {
    "duration": 6,
    "start_time": "2023-03-22T10:03:23.791Z"
   },
   {
    "duration": 71,
    "start_time": "2023-03-22T10:03:30.976Z"
   },
   {
    "duration": 119,
    "start_time": "2023-03-22T10:04:21.131Z"
   },
   {
    "duration": 417,
    "start_time": "2023-03-22T10:04:24.443Z"
   },
   {
    "duration": 214,
    "start_time": "2023-03-22T10:10:19.127Z"
   },
   {
    "duration": 4,
    "start_time": "2023-03-22T10:15:42.692Z"
   },
   {
    "duration": 3,
    "start_time": "2023-03-22T10:18:15.704Z"
   },
   {
    "duration": 1568,
    "start_time": "2023-03-22T10:19:23.954Z"
   },
   {
    "duration": 104,
    "start_time": "2023-03-22T10:20:30.236Z"
   },
   {
    "duration": 873,
    "start_time": "2023-03-22T10:22:38.590Z"
   },
   {
    "duration": 50,
    "start_time": "2023-03-22T10:24:19.672Z"
   },
   {
    "duration": 464,
    "start_time": "2023-03-22T10:24:37.697Z"
   },
   {
    "duration": 1466,
    "start_time": "2023-03-22T10:29:16.087Z"
   },
   {
    "duration": 16,
    "start_time": "2023-03-22T10:29:27.474Z"
   },
   {
    "duration": 512,
    "start_time": "2023-03-22T10:31:25.544Z"
   },
   {
    "duration": 3918,
    "start_time": "2023-03-22T10:53:35.550Z"
   },
   {
    "duration": 13,
    "start_time": "2023-03-22T10:54:48.707Z"
   },
   {
    "duration": 12,
    "start_time": "2023-03-22T10:55:08.596Z"
   },
   {
    "duration": 6,
    "start_time": "2023-03-22T10:56:54.180Z"
   },
   {
    "duration": 5576,
    "start_time": "2023-03-22T10:57:03.178Z"
   },
   {
    "duration": 20,
    "start_time": "2023-03-22T10:59:20.384Z"
   },
   {
    "duration": 38,
    "start_time": "2023-03-22T16:04:22.717Z"
   },
   {
    "duration": 26,
    "start_time": "2023-03-22T16:08:37.240Z"
   },
   {
    "duration": 5,
    "start_time": "2023-03-22T16:08:55.903Z"
   },
   {
    "duration": 1686,
    "start_time": "2023-03-22T16:17:27.674Z"
   },
   {
    "duration": 804,
    "start_time": "2023-03-22T16:20:09.862Z"
   },
   {
    "duration": 884,
    "start_time": "2023-03-22T16:20:26.264Z"
   },
   {
    "duration": 2188,
    "start_time": "2023-03-22T16:29:45.038Z"
   },
   {
    "duration": 1511,
    "start_time": "2023-03-22T16:29:53.318Z"
   },
   {
    "duration": 1692,
    "start_time": "2023-03-22T16:30:11.088Z"
   },
   {
    "duration": 1207,
    "start_time": "2023-03-22T16:30:41.476Z"
   },
   {
    "duration": 1890,
    "start_time": "2023-03-22T16:31:18.021Z"
   },
   {
    "duration": 75,
    "start_time": "2023-03-22T16:31:44.366Z"
   },
   {
    "duration": 91,
    "start_time": "2023-03-22T16:31:48.329Z"
   },
   {
    "duration": 123,
    "start_time": "2023-03-22T16:31:55.344Z"
   },
   {
    "duration": 2185,
    "start_time": "2023-03-22T16:33:01.827Z"
   },
   {
    "duration": 1721,
    "start_time": "2023-03-22T16:33:11.191Z"
   },
   {
    "duration": 2903,
    "start_time": "2023-03-22T16:48:03.339Z"
   },
   {
    "duration": 47,
    "start_time": "2023-03-22T16:48:22.531Z"
   },
   {
    "duration": 1723,
    "start_time": "2023-03-22T16:48:45.492Z"
   },
   {
    "duration": 145,
    "start_time": "2023-03-22T16:49:18.081Z"
   },
   {
    "duration": 11,
    "start_time": "2023-03-22T16:55:22.484Z"
   },
   {
    "duration": 1833,
    "start_time": "2023-03-22T16:57:45.832Z"
   },
   {
    "duration": 21,
    "start_time": "2023-03-22T16:58:06.923Z"
   },
   {
    "duration": 1845,
    "start_time": "2023-03-22T16:58:19.817Z"
   },
   {
    "duration": 1550,
    "start_time": "2023-03-22T16:58:32.371Z"
   },
   {
    "duration": 20,
    "start_time": "2023-03-22T16:59:30.801Z"
   },
   {
    "duration": 1467,
    "start_time": "2023-03-22T16:59:34.784Z"
   },
   {
    "duration": 2228,
    "start_time": "2023-03-22T17:00:03.938Z"
   },
   {
    "duration": 81,
    "start_time": "2023-03-22T17:07:25.978Z"
   },
   {
    "duration": 15,
    "start_time": "2023-03-22T17:08:08.087Z"
   },
   {
    "duration": 1512,
    "start_time": "2023-03-22T17:14:15.944Z"
   },
   {
    "duration": 1152,
    "start_time": "2023-03-22T17:16:46.370Z"
   },
   {
    "duration": 1466,
    "start_time": "2023-03-22T17:17:36.867Z"
   },
   {
    "duration": 1592,
    "start_time": "2023-03-22T17:17:58.689Z"
   },
   {
    "duration": 3548,
    "start_time": "2023-03-22T17:18:21.725Z"
   },
   {
    "duration": 38,
    "start_time": "2023-03-22T17:18:36.612Z"
   },
   {
    "duration": 2566,
    "start_time": "2023-03-22T17:18:38.924Z"
   },
   {
    "duration": 2958,
    "start_time": "2023-03-22T17:29:28.830Z"
   },
   {
    "duration": 29,
    "start_time": "2023-03-22T17:30:13.635Z"
   },
   {
    "duration": 1678,
    "start_time": "2023-03-22T17:31:03.735Z"
   },
   {
    "duration": 1495,
    "start_time": "2023-03-22T17:31:36.621Z"
   },
   {
    "duration": 2187,
    "start_time": "2023-03-22T17:31:57.725Z"
   },
   {
    "duration": 22,
    "start_time": "2023-03-22T17:32:10.483Z"
   },
   {
    "duration": 2480,
    "start_time": "2023-03-22T17:33:17.531Z"
   },
   {
    "duration": 1738,
    "start_time": "2023-03-22T17:38:32.567Z"
   },
   {
    "duration": 117,
    "start_time": "2023-03-22T17:40:00.121Z"
   },
   {
    "duration": 140,
    "start_time": "2023-03-22T17:42:06.233Z"
   },
   {
    "duration": 822,
    "start_time": "2023-03-22T17:42:48.130Z"
   },
   {
    "duration": 6,
    "start_time": "2023-03-22T17:42:48.954Z"
   },
   {
    "duration": 18182,
    "start_time": "2023-03-22T17:42:48.967Z"
   },
   {
    "duration": 13645,
    "start_time": "2023-03-22T17:43:07.151Z"
   },
   {
    "duration": 1088,
    "start_time": "2023-03-22T17:43:20.798Z"
   },
   {
    "duration": 77,
    "start_time": "2023-03-22T17:43:21.888Z"
   },
   {
    "duration": 199,
    "start_time": "2023-03-22T17:43:21.967Z"
   },
   {
    "duration": 524,
    "start_time": "2023-03-22T17:43:22.168Z"
   },
   {
    "duration": 13195,
    "start_time": "2023-03-22T17:43:22.694Z"
   },
   {
    "duration": 4007,
    "start_time": "2023-03-22T17:43:35.892Z"
   },
   {
    "duration": 3580,
    "start_time": "2023-03-22T17:43:39.901Z"
   },
   {
    "duration": 822,
    "start_time": "2023-03-22T17:43:43.482Z"
   },
   {
    "duration": 0,
    "start_time": "2023-03-22T17:43:44.307Z"
   },
   {
    "duration": 0,
    "start_time": "2023-03-22T17:43:44.308Z"
   },
   {
    "duration": 0,
    "start_time": "2023-03-22T17:43:44.310Z"
   },
   {
    "duration": 0,
    "start_time": "2023-03-22T17:43:44.312Z"
   },
   {
    "duration": 0,
    "start_time": "2023-03-22T17:43:44.318Z"
   },
   {
    "duration": 0,
    "start_time": "2023-03-22T17:43:44.319Z"
   },
   {
    "duration": 0,
    "start_time": "2023-03-22T17:43:44.320Z"
   },
   {
    "duration": 0,
    "start_time": "2023-03-22T17:43:44.322Z"
   },
   {
    "duration": 0,
    "start_time": "2023-03-22T17:43:44.323Z"
   },
   {
    "duration": 0,
    "start_time": "2023-03-22T17:43:44.325Z"
   },
   {
    "duration": 0,
    "start_time": "2023-03-22T17:43:44.326Z"
   },
   {
    "duration": 0,
    "start_time": "2023-03-22T17:43:44.328Z"
   },
   {
    "duration": 0,
    "start_time": "2023-03-22T17:43:44.329Z"
   },
   {
    "duration": 0,
    "start_time": "2023-03-22T17:43:44.330Z"
   },
   {
    "duration": 0,
    "start_time": "2023-03-22T17:43:44.331Z"
   },
   {
    "duration": 0,
    "start_time": "2023-03-22T17:43:44.333Z"
   },
   {
    "duration": 1,
    "start_time": "2023-03-22T17:43:44.343Z"
   },
   {
    "duration": 628,
    "start_time": "2023-03-22T17:45:03.321Z"
   },
   {
    "duration": 862,
    "start_time": "2023-03-22T17:45:24.974Z"
   },
   {
    "duration": 31,
    "start_time": "2023-03-22T17:45:25.838Z"
   },
   {
    "duration": 19509,
    "start_time": "2023-03-22T17:45:25.883Z"
   },
   {
    "duration": 12252,
    "start_time": "2023-03-22T17:45:45.394Z"
   },
   {
    "duration": 1044,
    "start_time": "2023-03-22T17:45:57.649Z"
   },
   {
    "duration": 54,
    "start_time": "2023-03-22T17:45:58.741Z"
   },
   {
    "duration": 400,
    "start_time": "2023-03-22T17:45:58.800Z"
   },
   {
    "duration": 352,
    "start_time": "2023-03-22T17:45:59.201Z"
   },
   {
    "duration": 12317,
    "start_time": "2023-03-22T17:45:59.555Z"
   },
   {
    "duration": 5525,
    "start_time": "2023-03-22T17:46:11.874Z"
   },
   {
    "duration": 3868,
    "start_time": "2023-03-22T17:46:17.401Z"
   },
   {
    "duration": 929,
    "start_time": "2023-03-22T17:46:21.272Z"
   },
   {
    "duration": 179,
    "start_time": "2023-03-22T17:46:22.203Z"
   },
   {
    "duration": 487,
    "start_time": "2023-03-22T17:46:22.386Z"
   },
   {
    "duration": 9,
    "start_time": "2023-03-22T17:46:22.875Z"
   },
   {
    "duration": 22,
    "start_time": "2023-03-22T17:46:22.886Z"
   },
   {
    "duration": 2551,
    "start_time": "2023-03-22T17:46:22.911Z"
   },
   {
    "duration": 820,
    "start_time": "2023-03-22T17:46:25.465Z"
   },
   {
    "duration": 174,
    "start_time": "2023-03-22T17:46:26.287Z"
   },
   {
    "duration": 2307,
    "start_time": "2023-03-22T17:46:26.463Z"
   },
   {
    "duration": 29,
    "start_time": "2023-03-22T17:46:28.772Z"
   },
   {
    "duration": 942,
    "start_time": "2023-03-22T17:46:28.843Z"
   },
   {
    "duration": 4811,
    "start_time": "2023-03-22T17:46:29.786Z"
   },
   {
    "duration": 6758,
    "start_time": "2023-03-22T17:46:34.642Z"
   },
   {
    "duration": 4887,
    "start_time": "2023-03-22T17:46:41.404Z"
   },
   {
    "duration": 97,
    "start_time": "2023-03-22T17:46:46.292Z"
   },
   {
    "duration": 4394,
    "start_time": "2023-03-22T17:46:46.397Z"
   },
   {
    "duration": 100,
    "start_time": "2023-03-22T17:46:50.794Z"
   },
   {
    "duration": 3336,
    "start_time": "2023-03-22T17:46:50.896Z"
   },
   {
    "duration": 483,
    "start_time": "2023-03-22T17:48:31.989Z"
   },
   {
    "duration": 814,
    "start_time": "2023-03-23T14:26:40.376Z"
   },
   {
    "duration": 3,
    "start_time": "2023-03-23T14:26:41.193Z"
   },
   {
    "duration": 19830,
    "start_time": "2023-03-23T14:26:41.198Z"
   },
   {
    "duration": 9222,
    "start_time": "2023-03-23T14:27:01.030Z"
   },
   {
    "duration": 889,
    "start_time": "2023-03-23T14:27:10.256Z"
   },
   {
    "duration": 77,
    "start_time": "2023-03-23T14:27:11.146Z"
   },
   {
    "duration": 203,
    "start_time": "2023-03-23T14:27:11.225Z"
   },
   {
    "duration": 150,
    "start_time": "2023-03-23T14:27:11.430Z"
   },
   {
    "duration": 0,
    "start_time": "2023-03-23T14:27:11.583Z"
   },
   {
    "duration": 0,
    "start_time": "2023-03-23T14:27:11.584Z"
   },
   {
    "duration": 0,
    "start_time": "2023-03-23T14:27:11.585Z"
   },
   {
    "duration": 0,
    "start_time": "2023-03-23T14:27:11.586Z"
   },
   {
    "duration": 0,
    "start_time": "2023-03-23T14:27:11.587Z"
   },
   {
    "duration": 0,
    "start_time": "2023-03-23T14:27:11.588Z"
   },
   {
    "duration": 0,
    "start_time": "2023-03-23T14:27:11.590Z"
   },
   {
    "duration": 0,
    "start_time": "2023-03-23T14:27:11.591Z"
   },
   {
    "duration": 0,
    "start_time": "2023-03-23T14:27:11.592Z"
   },
   {
    "duration": 0,
    "start_time": "2023-03-23T14:27:11.593Z"
   },
   {
    "duration": 0,
    "start_time": "2023-03-23T14:27:11.595Z"
   },
   {
    "duration": 0,
    "start_time": "2023-03-23T14:27:11.596Z"
   },
   {
    "duration": 0,
    "start_time": "2023-03-23T14:27:11.597Z"
   },
   {
    "duration": 0,
    "start_time": "2023-03-23T14:27:11.624Z"
   },
   {
    "duration": 0,
    "start_time": "2023-03-23T14:27:11.625Z"
   },
   {
    "duration": 0,
    "start_time": "2023-03-23T14:27:11.627Z"
   },
   {
    "duration": 0,
    "start_time": "2023-03-23T14:27:11.628Z"
   },
   {
    "duration": 0,
    "start_time": "2023-03-23T14:27:11.630Z"
   },
   {
    "duration": 0,
    "start_time": "2023-03-23T14:27:11.631Z"
   },
   {
    "duration": 0,
    "start_time": "2023-03-23T14:27:11.633Z"
   },
   {
    "duration": 0,
    "start_time": "2023-03-23T14:27:11.634Z"
   },
   {
    "duration": 0,
    "start_time": "2023-03-23T14:27:11.635Z"
   },
   {
    "duration": 0,
    "start_time": "2023-03-23T14:27:11.637Z"
   },
   {
    "duration": 1647,
    "start_time": "2023-03-23T14:27:28.196Z"
   },
   {
    "duration": 769,
    "start_time": "2023-03-23T14:29:41.497Z"
   },
   {
    "duration": 3,
    "start_time": "2023-03-23T14:29:42.268Z"
   },
   {
    "duration": 15768,
    "start_time": "2023-03-23T14:29:42.272Z"
   },
   {
    "duration": 9899,
    "start_time": "2023-03-23T14:29:58.043Z"
   },
   {
    "duration": 1002,
    "start_time": "2023-03-23T14:30:07.946Z"
   },
   {
    "duration": 75,
    "start_time": "2023-03-23T14:30:08.950Z"
   },
   {
    "duration": 198,
    "start_time": "2023-03-23T14:30:09.027Z"
   },
   {
    "duration": 2003,
    "start_time": "2023-03-23T14:30:09.227Z"
   },
   {
    "duration": 229,
    "start_time": "2023-03-23T14:30:11.233Z"
   },
   {
    "duration": 8576,
    "start_time": "2023-03-23T14:30:11.464Z"
   },
   {
    "duration": 3621,
    "start_time": "2023-03-23T14:30:20.042Z"
   },
   {
    "duration": 3160,
    "start_time": "2023-03-23T14:30:23.665Z"
   },
   {
    "duration": 705,
    "start_time": "2023-03-23T14:30:26.827Z"
   },
   {
    "duration": 114,
    "start_time": "2023-03-23T14:30:27.536Z"
   },
   {
    "duration": 330,
    "start_time": "2023-03-23T14:30:27.652Z"
   },
   {
    "duration": 5,
    "start_time": "2023-03-23T14:30:28.024Z"
   },
   {
    "duration": 4,
    "start_time": "2023-03-23T14:30:28.031Z"
   },
   {
    "duration": 2050,
    "start_time": "2023-03-23T14:30:28.037Z"
   },
   {
    "duration": 757,
    "start_time": "2023-03-23T14:30:30.089Z"
   },
   {
    "duration": 104,
    "start_time": "2023-03-23T14:30:30.848Z"
   },
   {
    "duration": 1973,
    "start_time": "2023-03-23T14:30:30.955Z"
   },
   {
    "duration": 9,
    "start_time": "2023-03-23T14:30:32.930Z"
   },
   {
    "duration": 533,
    "start_time": "2023-03-23T14:30:32.941Z"
   },
   {
    "duration": 3713,
    "start_time": "2023-03-23T14:30:33.524Z"
   },
   {
    "duration": 5292,
    "start_time": "2023-03-23T14:30:37.239Z"
   },
   {
    "duration": 4228,
    "start_time": "2023-03-23T14:30:42.534Z"
   },
   {
    "duration": 87,
    "start_time": "2023-03-23T14:30:46.764Z"
   },
   {
    "duration": 2790,
    "start_time": "2023-03-23T14:30:46.855Z"
   },
   {
    "duration": 85,
    "start_time": "2023-03-23T14:30:49.648Z"
   },
   {
    "duration": 3047,
    "start_time": "2023-03-23T14:30:49.735Z"
   },
   {
    "duration": 367,
    "start_time": "2023-03-23T14:30:52.784Z"
   },
   {
    "duration": 115,
    "start_time": "2023-03-23T15:28:44.612Z"
   },
   {
    "duration": 870,
    "start_time": "2023-03-24T07:37:00.214Z"
   },
   {
    "duration": 3,
    "start_time": "2023-03-24T07:37:01.087Z"
   },
   {
    "duration": 19276,
    "start_time": "2023-03-24T07:37:01.093Z"
   },
   {
    "duration": 13108,
    "start_time": "2023-03-24T07:37:20.374Z"
   },
   {
    "duration": 1060,
    "start_time": "2023-03-24T07:37:33.485Z"
   },
   {
    "duration": 24,
    "start_time": "2023-03-24T07:37:34.546Z"
   },
   {
    "duration": 10,
    "start_time": "2023-03-24T07:37:34.572Z"
   },
   {
    "duration": 2557,
    "start_time": "2023-03-24T07:37:34.586Z"
   },
   {
    "duration": 420,
    "start_time": "2023-03-24T07:37:37.150Z"
   },
   {
    "duration": 11777,
    "start_time": "2023-03-24T07:37:37.571Z"
   },
   {
    "duration": 4212,
    "start_time": "2023-03-24T07:37:49.353Z"
   },
   {
    "duration": 4010,
    "start_time": "2023-03-24T07:37:53.566Z"
   },
   {
    "duration": 774,
    "start_time": "2023-03-24T07:37:57.580Z"
   },
   {
    "duration": 200,
    "start_time": "2023-03-24T07:37:58.369Z"
   },
   {
    "duration": 503,
    "start_time": "2023-03-24T07:37:58.573Z"
   },
   {
    "duration": 4,
    "start_time": "2023-03-24T07:37:59.079Z"
   },
   {
    "duration": 25,
    "start_time": "2023-03-24T07:37:59.085Z"
   },
   {
    "duration": 2323,
    "start_time": "2023-03-24T07:37:59.112Z"
   },
   {
    "duration": 935,
    "start_time": "2023-03-24T07:38:01.438Z"
   },
   {
    "duration": 94,
    "start_time": "2023-03-24T07:38:02.375Z"
   },
   {
    "duration": 2291,
    "start_time": "2023-03-24T07:38:02.474Z"
   },
   {
    "duration": 14,
    "start_time": "2023-03-24T07:38:04.767Z"
   },
   {
    "duration": 524,
    "start_time": "2023-03-24T07:38:04.842Z"
   },
   {
    "duration": 4968,
    "start_time": "2023-03-24T07:38:05.375Z"
   },
   {
    "duration": 6224,
    "start_time": "2023-03-24T07:38:10.344Z"
   },
   {
    "duration": 5421,
    "start_time": "2023-03-24T07:38:16.572Z"
   },
   {
    "duration": 64,
    "start_time": "2023-03-24T07:38:21.996Z"
   },
   {
    "duration": 3877,
    "start_time": "2023-03-24T07:38:22.063Z"
   },
   {
    "duration": 53,
    "start_time": "2023-03-24T07:38:25.942Z"
   },
   {
    "duration": 3492,
    "start_time": "2023-03-24T07:38:25.998Z"
   },
   {
    "duration": 391,
    "start_time": "2023-03-24T07:38:29.492Z"
   },
   {
    "duration": 834,
    "start_time": "2023-03-24T07:55:21.464Z"
   },
   {
    "duration": 3,
    "start_time": "2023-03-24T07:55:22.300Z"
   },
   {
    "duration": 18842,
    "start_time": "2023-03-24T07:55:22.304Z"
   },
   {
    "duration": 13207,
    "start_time": "2023-03-24T07:55:41.150Z"
   },
   {
    "duration": 1013,
    "start_time": "2023-03-24T07:55:54.359Z"
   },
   {
    "duration": 74,
    "start_time": "2023-03-24T07:55:55.375Z"
   },
   {
    "duration": 4,
    "start_time": "2023-03-24T07:55:55.451Z"
   },
   {
    "duration": 2886,
    "start_time": "2023-03-24T07:55:55.457Z"
   },
   {
    "duration": 496,
    "start_time": "2023-03-24T07:55:58.350Z"
   },
   {
    "duration": 11918,
    "start_time": "2023-03-24T07:55:58.851Z"
   },
   {
    "duration": 4903,
    "start_time": "2023-03-24T07:56:10.771Z"
   },
   {
    "duration": 3974,
    "start_time": "2023-03-24T07:56:15.676Z"
   },
   {
    "duration": 701,
    "start_time": "2023-03-24T07:56:19.652Z"
   },
   {
    "duration": 8,
    "start_time": "2023-03-24T07:56:20.355Z"
   },
   {
    "duration": 469,
    "start_time": "2023-03-24T07:56:20.365Z"
   },
   {
    "duration": 15,
    "start_time": "2023-03-24T07:56:20.836Z"
   },
   {
    "duration": 32,
    "start_time": "2023-03-24T07:56:20.854Z"
   },
   {
    "duration": 2074,
    "start_time": "2023-03-24T07:56:20.888Z"
   },
   {
    "duration": 806,
    "start_time": "2023-03-24T07:56:22.964Z"
   },
   {
    "duration": 122,
    "start_time": "2023-03-24T07:56:23.772Z"
   },
   {
    "duration": 489,
    "start_time": "2023-03-24T07:56:23.942Z"
   },
   {
    "duration": 0,
    "start_time": "2023-03-24T07:56:24.433Z"
   },
   {
    "duration": 0,
    "start_time": "2023-03-24T07:56:24.435Z"
   },
   {
    "duration": 0,
    "start_time": "2023-03-24T07:56:24.437Z"
   },
   {
    "duration": 0,
    "start_time": "2023-03-24T07:56:24.439Z"
   },
   {
    "duration": 0,
    "start_time": "2023-03-24T07:56:24.442Z"
   },
   {
    "duration": 0,
    "start_time": "2023-03-24T07:56:24.444Z"
   },
   {
    "duration": 0,
    "start_time": "2023-03-24T07:56:24.445Z"
   },
   {
    "duration": 0,
    "start_time": "2023-03-24T07:56:24.447Z"
   },
   {
    "duration": 0,
    "start_time": "2023-03-24T07:56:24.449Z"
   },
   {
    "duration": 0,
    "start_time": "2023-03-24T07:56:24.451Z"
   },
   {
    "duration": 908,
    "start_time": "2023-03-24T07:58:15.218Z"
   },
   {
    "duration": 4,
    "start_time": "2023-03-24T07:58:16.150Z"
   },
   {
    "duration": 19931,
    "start_time": "2023-03-24T07:58:16.157Z"
   },
   {
    "duration": 12748,
    "start_time": "2023-03-24T07:58:36.093Z"
   },
   {
    "duration": 1008,
    "start_time": "2023-03-24T07:58:48.845Z"
   },
   {
    "duration": 97,
    "start_time": "2023-03-24T07:58:49.855Z"
   },
   {
    "duration": 14,
    "start_time": "2023-03-24T07:58:49.959Z"
   },
   {
    "duration": 2903,
    "start_time": "2023-03-24T07:58:49.975Z"
   },
   {
    "duration": 420,
    "start_time": "2023-03-24T07:58:52.880Z"
   },
   {
    "duration": 11641,
    "start_time": "2023-03-24T07:58:53.304Z"
   },
   {
    "duration": 5010,
    "start_time": "2023-03-24T07:59:04.948Z"
   },
   {
    "duration": 3984,
    "start_time": "2023-03-24T07:59:09.960Z"
   },
   {
    "duration": 910,
    "start_time": "2023-03-24T07:59:13.946Z"
   },
   {
    "duration": 4,
    "start_time": "2023-03-24T07:59:14.878Z"
   },
   {
    "duration": 517,
    "start_time": "2023-03-24T07:59:14.884Z"
   },
   {
    "duration": 5,
    "start_time": "2023-03-24T07:59:15.403Z"
   },
   {
    "duration": 16,
    "start_time": "2023-03-24T07:59:15.410Z"
   },
   {
    "duration": 2398,
    "start_time": "2023-03-24T07:59:15.428Z"
   },
   {
    "duration": 814,
    "start_time": "2023-03-24T07:59:17.844Z"
   },
   {
    "duration": 86,
    "start_time": "2023-03-24T07:59:18.659Z"
   },
   {
    "duration": 1828,
    "start_time": "2023-03-24T07:59:18.751Z"
   },
   {
    "duration": 56,
    "start_time": "2023-03-24T07:59:20.586Z"
   },
   {
    "duration": 599,
    "start_time": "2023-03-24T07:59:20.644Z"
   },
   {
    "duration": 4128,
    "start_time": "2023-03-24T07:59:21.247Z"
   },
   {
    "duration": 5765,
    "start_time": "2023-03-24T07:59:25.377Z"
   },
   {
    "duration": 4110,
    "start_time": "2023-03-24T07:59:31.150Z"
   },
   {
    "duration": 32,
    "start_time": "2023-03-24T07:59:35.262Z"
   },
   {
    "duration": 2750,
    "start_time": "2023-03-24T07:59:35.342Z"
   },
   {
    "duration": 34,
    "start_time": "2023-03-24T07:59:38.140Z"
   },
   {
    "duration": 2602,
    "start_time": "2023-03-24T07:59:38.176Z"
   },
   {
    "duration": 305,
    "start_time": "2023-03-24T07:59:40.781Z"
   },
   {
    "duration": 78,
    "start_time": "2023-03-24T08:19:44.083Z"
   },
   {
    "duration": 842,
    "start_time": "2023-03-24T08:20:18.551Z"
   },
   {
    "duration": 3,
    "start_time": "2023-03-24T08:20:19.396Z"
   },
   {
    "duration": 18373,
    "start_time": "2023-03-24T08:20:19.401Z"
   },
   {
    "duration": 12380,
    "start_time": "2023-03-24T08:20:37.777Z"
   },
   {
    "duration": 896,
    "start_time": "2023-03-24T08:20:50.161Z"
   },
   {
    "duration": 19,
    "start_time": "2023-03-24T08:20:51.058Z"
   },
   {
    "duration": 10,
    "start_time": "2023-03-24T08:20:51.079Z"
   },
   {
    "duration": 2320,
    "start_time": "2023-03-24T08:20:51.148Z"
   },
   {
    "duration": 418,
    "start_time": "2023-03-24T08:20:53.471Z"
   },
   {
    "duration": 10614,
    "start_time": "2023-03-24T08:20:53.941Z"
   },
   {
    "duration": 4793,
    "start_time": "2023-03-24T08:21:04.556Z"
   },
   {
    "duration": 3718,
    "start_time": "2023-03-24T08:21:09.351Z"
   },
   {
    "duration": 870,
    "start_time": "2023-03-24T08:21:13.072Z"
   },
   {
    "duration": 125,
    "start_time": "2023-03-24T08:21:13.948Z"
   },
   {
    "duration": 444,
    "start_time": "2023-03-24T08:21:14.144Z"
   },
   {
    "duration": 5,
    "start_time": "2023-03-24T08:21:14.642Z"
   },
   {
    "duration": 15,
    "start_time": "2023-03-24T08:21:14.649Z"
   },
   {
    "duration": 2457,
    "start_time": "2023-03-24T08:21:14.667Z"
   },
   {
    "duration": 833,
    "start_time": "2023-03-24T08:21:17.142Z"
   },
   {
    "duration": 120,
    "start_time": "2023-03-24T08:21:17.977Z"
   },
   {
    "duration": 1842,
    "start_time": "2023-03-24T08:21:18.099Z"
   },
   {
    "duration": 15,
    "start_time": "2023-03-24T08:21:19.943Z"
   },
   {
    "duration": 606,
    "start_time": "2023-03-24T08:21:19.960Z"
   },
   {
    "duration": 5096,
    "start_time": "2023-03-24T08:21:20.569Z"
   },
   {
    "duration": 5804,
    "start_time": "2023-03-24T08:21:25.667Z"
   },
   {
    "duration": 3807,
    "start_time": "2023-03-24T08:21:31.473Z"
   },
   {
    "duration": 39,
    "start_time": "2023-03-24T08:21:35.341Z"
   },
   {
    "duration": 2784,
    "start_time": "2023-03-24T08:21:35.383Z"
   },
   {
    "duration": 99,
    "start_time": "2023-03-24T08:21:38.169Z"
   },
   {
    "duration": 2876,
    "start_time": "2023-03-24T08:21:38.271Z"
   },
   {
    "duration": 242,
    "start_time": "2023-03-24T08:21:41.148Z"
   },
   {
    "duration": 740,
    "start_time": "2023-03-24T08:25:22.848Z"
   },
   {
    "duration": 3,
    "start_time": "2023-03-24T08:25:23.590Z"
   },
   {
    "duration": 18002,
    "start_time": "2023-03-24T08:25:23.641Z"
   },
   {
    "duration": 11303,
    "start_time": "2023-03-24T08:25:41.646Z"
   },
   {
    "duration": 1004,
    "start_time": "2023-03-24T08:25:52.953Z"
   },
   {
    "duration": 83,
    "start_time": "2023-03-24T08:25:53.959Z"
   },
   {
    "duration": 4,
    "start_time": "2023-03-24T08:25:54.044Z"
   },
   {
    "duration": 2418,
    "start_time": "2023-03-24T08:25:54.050Z"
   },
   {
    "duration": 489,
    "start_time": "2023-03-24T08:25:56.470Z"
   },
   {
    "duration": 10892,
    "start_time": "2023-03-24T08:25:56.962Z"
   },
   {
    "duration": 4405,
    "start_time": "2023-03-24T08:26:07.856Z"
   },
   {
    "duration": 3613,
    "start_time": "2023-03-24T08:26:12.263Z"
   },
   {
    "duration": 672,
    "start_time": "2023-03-24T08:26:15.878Z"
   },
   {
    "duration": 187,
    "start_time": "2023-03-24T08:26:16.562Z"
   },
   {
    "duration": 492,
    "start_time": "2023-03-24T08:26:16.751Z"
   },
   {
    "duration": 5,
    "start_time": "2023-03-24T08:26:17.245Z"
   },
   {
    "duration": 40,
    "start_time": "2023-03-24T08:26:17.252Z"
   },
   {
    "duration": 2025,
    "start_time": "2023-03-24T08:26:17.342Z"
   },
   {
    "duration": 773,
    "start_time": "2023-03-24T08:26:19.369Z"
   },
   {
    "duration": 120,
    "start_time": "2023-03-24T08:26:20.145Z"
   },
   {
    "duration": 2076,
    "start_time": "2023-03-24T08:26:20.268Z"
   },
   {
    "duration": 12,
    "start_time": "2023-03-24T08:26:22.346Z"
   },
   {
    "duration": 608,
    "start_time": "2023-03-24T08:26:22.361Z"
   },
   {
    "duration": 4787,
    "start_time": "2023-03-24T08:26:22.972Z"
   },
   {
    "duration": 4696,
    "start_time": "2023-03-24T08:26:27.760Z"
   },
   {
    "duration": 4115,
    "start_time": "2023-03-24T08:26:32.459Z"
   },
   {
    "duration": 97,
    "start_time": "2023-03-24T08:26:36.576Z"
   },
   {
    "duration": 3393,
    "start_time": "2023-03-24T08:26:36.676Z"
   },
   {
    "duration": 80,
    "start_time": "2023-03-24T08:26:40.071Z"
   },
   {
    "duration": 3212,
    "start_time": "2023-03-24T08:26:40.153Z"
   },
   {
    "duration": 782,
    "start_time": "2023-03-24T08:26:43.367Z"
   },
   {
    "duration": 6,
    "start_time": "2023-03-25T05:23:26.358Z"
   },
   {
    "duration": 3,
    "start_time": "2023-03-25T05:23:26.424Z"
   },
   {
    "duration": 412,
    "start_time": "2023-03-25T05:23:26.429Z"
   },
   {
    "duration": 437,
    "start_time": "2023-03-25T05:23:26.844Z"
   },
   {
    "duration": 196,
    "start_time": "2023-03-25T05:23:27.284Z"
   },
   {
    "duration": 4,
    "start_time": "2023-03-25T05:23:27.483Z"
   },
   {
    "duration": 24,
    "start_time": "2023-03-25T05:23:27.488Z"
   },
   {
    "duration": 540,
    "start_time": "2023-03-25T05:23:27.514Z"
   },
   {
    "duration": 197,
    "start_time": "2023-03-25T05:23:28.056Z"
   },
   {
    "duration": 4790,
    "start_time": "2023-03-25T05:23:28.255Z"
   },
   {
    "duration": 1703,
    "start_time": "2023-03-25T05:23:33.046Z"
   },
   {
    "duration": 1972,
    "start_time": "2023-03-25T05:23:34.751Z"
   },
   {
    "duration": 253,
    "start_time": "2023-03-25T05:23:36.724Z"
   },
   {
    "duration": 92,
    "start_time": "2023-03-25T05:23:36.979Z"
   },
   {
    "duration": 167,
    "start_time": "2023-03-25T05:23:37.074Z"
   },
   {
    "duration": 4,
    "start_time": "2023-03-25T05:23:37.243Z"
   },
   {
    "duration": 23,
    "start_time": "2023-03-25T05:23:37.249Z"
   },
   {
    "duration": 992,
    "start_time": "2023-03-25T05:23:40.161Z"
   },
   {
    "duration": 465,
    "start_time": "2023-03-25T05:24:47.636Z"
   },
   {
    "duration": 16,
    "start_time": "2023-03-25T05:25:29.227Z"
   },
   {
    "duration": 610,
    "start_time": "2023-03-25T05:26:31.570Z"
   },
   {
    "duration": 106,
    "start_time": "2023-03-25T05:26:42.924Z"
   },
   {
    "duration": 5,
    "start_time": "2023-03-25T05:26:55.860Z"
   },
   {
    "duration": 13,
    "start_time": "2023-03-25T05:26:55.867Z"
   },
   {
    "duration": 11,
    "start_time": "2023-03-25T05:26:55.882Z"
   },
   {
    "duration": 357,
    "start_time": "2023-03-25T05:26:55.896Z"
   },
   {
    "duration": 187,
    "start_time": "2023-03-25T05:26:56.255Z"
   },
   {
    "duration": 3,
    "start_time": "2023-03-25T05:26:56.444Z"
   },
   {
    "duration": 6,
    "start_time": "2023-03-25T05:26:56.449Z"
   },
   {
    "duration": 233,
    "start_time": "2023-03-25T05:26:56.456Z"
   },
   {
    "duration": 153,
    "start_time": "2023-03-25T05:26:56.691Z"
   },
   {
    "duration": 3315,
    "start_time": "2023-03-25T05:26:56.847Z"
   },
   {
    "duration": 1788,
    "start_time": "2023-03-25T05:27:00.165Z"
   },
   {
    "duration": 1670,
    "start_time": "2023-03-25T05:27:01.955Z"
   },
   {
    "duration": 256,
    "start_time": "2023-03-25T05:27:03.627Z"
   },
   {
    "duration": 38,
    "start_time": "2023-03-25T05:27:03.942Z"
   },
   {
    "duration": 136,
    "start_time": "2023-03-25T05:27:03.983Z"
   },
   {
    "duration": 4,
    "start_time": "2023-03-25T05:27:04.120Z"
   },
   {
    "duration": 22,
    "start_time": "2023-03-25T05:27:04.125Z"
   },
   {
    "duration": 962,
    "start_time": "2023-03-25T05:27:04.148Z"
   },
   {
    "duration": 1157,
    "start_time": "2023-03-25T05:27:08.149Z"
   },
   {
    "duration": 9,
    "start_time": "2023-03-25T05:28:22.196Z"
   },
   {
    "duration": 8,
    "start_time": "2023-03-25T05:30:48.946Z"
   },
   {
    "duration": 172,
    "start_time": "2023-03-25T05:33:16.621Z"
   },
   {
    "duration": 5,
    "start_time": "2023-03-25T05:33:39.956Z"
   },
   {
    "duration": 9,
    "start_time": "2023-03-25T05:33:39.963Z"
   },
   {
    "duration": 7,
    "start_time": "2023-03-25T05:33:39.974Z"
   },
   {
    "duration": 234,
    "start_time": "2023-03-25T05:33:39.982Z"
   },
   {
    "duration": 122,
    "start_time": "2023-03-25T05:33:40.219Z"
   },
   {
    "duration": 5,
    "start_time": "2023-03-25T05:33:40.343Z"
   },
   {
    "duration": 6,
    "start_time": "2023-03-25T05:33:40.350Z"
   },
   {
    "duration": 170,
    "start_time": "2023-03-25T05:33:40.358Z"
   },
   {
    "duration": 56,
    "start_time": "2023-03-25T05:33:40.530Z"
   },
   {
    "duration": 3761,
    "start_time": "2023-03-25T05:33:40.589Z"
   },
   {
    "duration": 2320,
    "start_time": "2023-03-25T05:33:44.351Z"
   },
   {
    "duration": 2501,
    "start_time": "2023-03-25T05:33:46.673Z"
   },
   {
    "duration": 299,
    "start_time": "2023-03-25T05:33:49.177Z"
   },
   {
    "duration": 32,
    "start_time": "2023-03-25T05:33:49.540Z"
   },
   {
    "duration": 216,
    "start_time": "2023-03-25T05:33:49.574Z"
   },
   {
    "duration": 51,
    "start_time": "2023-03-25T05:33:49.792Z"
   },
   {
    "duration": 3,
    "start_time": "2023-03-25T05:33:49.844Z"
   },
   {
    "duration": 1113,
    "start_time": "2023-03-25T05:33:49.848Z"
   },
   {
    "duration": 1192,
    "start_time": "2023-03-25T05:33:50.963Z"
   },
   {
    "duration": 134,
    "start_time": "2023-03-25T05:34:11.468Z"
   },
   {
    "duration": 161,
    "start_time": "2023-03-25T05:34:41.445Z"
   },
   {
    "duration": 763,
    "start_time": "2023-03-25T05:36:27.022Z"
   },
   {
    "duration": 2,
    "start_time": "2023-03-25T05:36:27.787Z"
   },
   {
    "duration": 16864,
    "start_time": "2023-03-25T05:36:27.791Z"
   },
   {
    "duration": 10718,
    "start_time": "2023-03-25T05:36:44.658Z"
   },
   {
    "duration": 871,
    "start_time": "2023-03-25T05:36:55.378Z"
   },
   {
    "duration": 15,
    "start_time": "2023-03-25T05:36:56.251Z"
   },
   {
    "duration": 5,
    "start_time": "2023-03-25T05:36:56.268Z"
   },
   {
    "duration": 2028,
    "start_time": "2023-03-25T05:36:56.342Z"
   },
   {
    "duration": 390,
    "start_time": "2023-03-25T05:36:58.373Z"
   },
   {
    "duration": 10195,
    "start_time": "2023-03-25T05:36:58.767Z"
   },
   {
    "duration": 5193,
    "start_time": "2023-03-25T05:37:08.966Z"
   },
   {
    "duration": 4386,
    "start_time": "2023-03-25T05:37:14.161Z"
   },
   {
    "duration": 719,
    "start_time": "2023-03-25T05:37:18.549Z"
   },
   {
    "duration": 189,
    "start_time": "2023-03-25T05:37:19.270Z"
   },
   {
    "duration": 507,
    "start_time": "2023-03-25T05:37:19.462Z"
   },
   {
    "duration": 5,
    "start_time": "2023-03-25T05:37:19.972Z"
   },
   {
    "duration": 19,
    "start_time": "2023-03-25T05:37:20.043Z"
   },
   {
    "duration": 2285,
    "start_time": "2023-03-25T05:37:20.065Z"
   },
   {
    "duration": 2847,
    "start_time": "2023-03-25T05:37:22.352Z"
   },
   {
    "duration": 262,
    "start_time": "2023-03-25T05:37:32.298Z"
   },
   {
    "duration": 108,
    "start_time": "2023-03-25T05:38:15.316Z"
   },
   {
    "duration": 880,
    "start_time": "2023-03-25T05:40:44.388Z"
   },
   {
    "duration": 1125,
    "start_time": "2023-03-25T05:40:48.864Z"
   },
   {
    "duration": 392,
    "start_time": "2023-03-25T05:41:33.043Z"
   },
   {
    "duration": 130,
    "start_time": "2023-03-25T05:43:41.104Z"
   },
   {
    "duration": 763,
    "start_time": "2023-03-25T05:44:24.922Z"
   },
   {
    "duration": 2,
    "start_time": "2023-03-25T05:44:25.688Z"
   },
   {
    "duration": 16680,
    "start_time": "2023-03-25T05:44:25.691Z"
   },
   {
    "duration": 10573,
    "start_time": "2023-03-25T05:44:42.374Z"
   },
   {
    "duration": 926,
    "start_time": "2023-03-25T05:44:52.949Z"
   },
   {
    "duration": 90,
    "start_time": "2023-03-25T05:44:53.877Z"
   },
   {
    "duration": 4,
    "start_time": "2023-03-25T05:44:53.970Z"
   },
   {
    "duration": 2401,
    "start_time": "2023-03-25T05:44:53.976Z"
   },
   {
    "duration": 394,
    "start_time": "2023-03-25T05:44:56.379Z"
   },
   {
    "duration": 9465,
    "start_time": "2023-03-25T05:44:56.775Z"
   },
   {
    "duration": 3921,
    "start_time": "2023-03-25T05:45:06.242Z"
   },
   {
    "duration": 3592,
    "start_time": "2023-03-25T05:45:10.165Z"
   },
   {
    "duration": 690,
    "start_time": "2023-03-25T05:45:13.759Z"
   },
   {
    "duration": 125,
    "start_time": "2023-03-25T05:45:14.453Z"
   },
   {
    "duration": 474,
    "start_time": "2023-03-25T05:45:14.581Z"
   },
   {
    "duration": 5,
    "start_time": "2023-03-25T05:45:15.057Z"
   },
   {
    "duration": 80,
    "start_time": "2023-03-25T05:45:15.064Z"
   },
   {
    "duration": 2226,
    "start_time": "2023-03-25T05:45:15.147Z"
   },
   {
    "duration": 2515,
    "start_time": "2023-03-25T05:45:17.440Z"
   },
   {
    "duration": 693,
    "start_time": "2023-03-25T05:45:59.394Z"
   },
   {
    "duration": 2,
    "start_time": "2023-03-25T05:46:00.089Z"
   },
   {
    "duration": 16670,
    "start_time": "2023-03-25T05:46:00.093Z"
   },
   {
    "duration": 9905,
    "start_time": "2023-03-25T05:46:16.766Z"
   },
   {
    "duration": 895,
    "start_time": "2023-03-25T05:46:26.673Z"
   },
   {
    "duration": 82,
    "start_time": "2023-03-25T05:46:27.570Z"
   },
   {
    "duration": 3,
    "start_time": "2023-03-25T05:46:27.655Z"
   },
   {
    "duration": 2034,
    "start_time": "2023-03-25T05:46:27.660Z"
   },
   {
    "duration": 340,
    "start_time": "2023-03-25T05:46:29.742Z"
   },
   {
    "duration": 9304,
    "start_time": "2023-03-25T05:46:30.144Z"
   },
   {
    "duration": 4098,
    "start_time": "2023-03-25T05:46:39.450Z"
   },
   {
    "duration": 3398,
    "start_time": "2023-03-25T05:46:43.550Z"
   },
   {
    "duration": 716,
    "start_time": "2023-03-25T05:46:46.950Z"
   },
   {
    "duration": 192,
    "start_time": "2023-03-25T05:46:47.668Z"
   },
   {
    "duration": 409,
    "start_time": "2023-03-25T05:46:47.863Z"
   },
   {
    "duration": 4,
    "start_time": "2023-03-25T05:46:48.275Z"
   },
   {
    "duration": 69,
    "start_time": "2023-03-25T05:46:48.281Z"
   },
   {
    "duration": 2312,
    "start_time": "2023-03-25T05:46:48.352Z"
   },
   {
    "duration": 2806,
    "start_time": "2023-03-25T05:46:50.667Z"
   },
   {
    "duration": 32,
    "start_time": "2023-03-25T05:47:04.125Z"
   },
   {
    "duration": 528,
    "start_time": "2023-03-25T05:47:18.564Z"
   },
   {
    "duration": 756,
    "start_time": "2023-03-25T05:56:36.122Z"
   },
   {
    "duration": 786,
    "start_time": "2023-03-25T05:56:43.327Z"
   },
   {
    "duration": 844,
    "start_time": "2023-03-25T05:56:53.729Z"
   },
   {
    "duration": 1854,
    "start_time": "2023-03-25T05:56:56.725Z"
   },
   {
    "duration": 1250,
    "start_time": "2023-03-25T05:58:45.582Z"
   },
   {
    "duration": 699,
    "start_time": "2023-03-25T06:00:22.701Z"
   },
   {
    "duration": 1426,
    "start_time": "2023-03-25T06:00:28.431Z"
   },
   {
    "duration": 1312,
    "start_time": "2023-03-25T06:01:01.391Z"
   },
   {
    "duration": 112,
    "start_time": "2023-03-25T06:02:12.349Z"
   },
   {
    "duration": 1632,
    "start_time": "2023-03-25T06:04:55.747Z"
   },
   {
    "duration": 1349,
    "start_time": "2023-03-25T06:06:18.391Z"
   },
   {
    "duration": 687,
    "start_time": "2023-03-25T06:06:41.797Z"
   },
   {
    "duration": 3,
    "start_time": "2023-03-25T06:06:42.486Z"
   },
   {
    "duration": 16294,
    "start_time": "2023-03-25T06:06:42.490Z"
   },
   {
    "duration": 10584,
    "start_time": "2023-03-25T06:06:58.787Z"
   },
   {
    "duration": 880,
    "start_time": "2023-03-25T06:07:09.374Z"
   },
   {
    "duration": 89,
    "start_time": "2023-03-25T06:07:10.256Z"
   },
   {
    "duration": 3,
    "start_time": "2023-03-25T06:07:10.348Z"
   },
   {
    "duration": 2100,
    "start_time": "2023-03-25T06:07:10.353Z"
   },
   {
    "duration": 328,
    "start_time": "2023-03-25T06:07:12.455Z"
   },
   {
    "duration": 9304,
    "start_time": "2023-03-25T06:07:12.843Z"
   },
   {
    "duration": 4191,
    "start_time": "2023-03-25T06:07:22.150Z"
   },
   {
    "duration": 2935,
    "start_time": "2023-03-25T06:07:26.343Z"
   },
   {
    "duration": 592,
    "start_time": "2023-03-25T06:07:29.280Z"
   },
   {
    "duration": 180,
    "start_time": "2023-03-25T06:07:29.874Z"
   },
   {
    "duration": 306,
    "start_time": "2023-03-25T06:07:30.056Z"
   },
   {
    "duration": 3,
    "start_time": "2023-03-25T06:07:30.364Z"
   },
   {
    "duration": 174,
    "start_time": "2023-03-25T06:07:30.369Z"
   },
   {
    "duration": 2205,
    "start_time": "2023-03-25T06:07:30.544Z"
   },
   {
    "duration": 3603,
    "start_time": "2023-03-25T06:07:32.751Z"
   },
   {
    "duration": 1704,
    "start_time": "2023-03-25T06:07:36.356Z"
   },
   {
    "duration": 178,
    "start_time": "2023-03-25T06:07:38.063Z"
   },
   {
    "duration": 1715,
    "start_time": "2023-03-25T06:07:38.244Z"
   },
   {
    "duration": 8,
    "start_time": "2023-03-25T06:07:39.961Z"
   },
   {
    "duration": 1699,
    "start_time": "2023-03-25T06:07:39.971Z"
   },
   {
    "duration": 2,
    "start_time": "2023-03-25T06:07:41.672Z"
   },
   {
    "duration": 3469,
    "start_time": "2023-03-25T06:07:41.675Z"
   },
   {
    "duration": 2397,
    "start_time": "2023-03-25T06:07:45.147Z"
   },
   {
    "duration": 19,
    "start_time": "2023-03-25T06:07:47.548Z"
   },
   {
    "duration": 1893,
    "start_time": "2023-03-25T06:07:47.570Z"
   },
   {
    "duration": 76,
    "start_time": "2023-03-25T06:07:49.465Z"
   },
   {
    "duration": 1663,
    "start_time": "2023-03-25T06:07:49.543Z"
   },
   {
    "duration": 653,
    "start_time": "2023-03-25T06:07:51.208Z"
   },
   {
    "duration": 158,
    "start_time": "2023-03-25T06:09:21.853Z"
   },
   {
    "duration": 83,
    "start_time": "2023-03-25T06:13:06.196Z"
   },
   {
    "duration": 933,
    "start_time": "2023-03-25T10:54:48.938Z"
   },
   {
    "duration": 4,
    "start_time": "2023-03-25T10:54:49.874Z"
   },
   {
    "duration": 19820,
    "start_time": "2023-03-25T10:54:49.880Z"
   },
   {
    "duration": 13903,
    "start_time": "2023-03-25T10:55:09.706Z"
   },
   {
    "duration": 1242,
    "start_time": "2023-03-25T10:55:23.612Z"
   },
   {
    "duration": 67,
    "start_time": "2023-03-25T10:55:24.857Z"
   },
   {
    "duration": 71,
    "start_time": "2023-03-25T10:55:24.926Z"
   },
   {
    "duration": 3141,
    "start_time": "2023-03-25T10:55:24.999Z"
   },
   {
    "duration": 487,
    "start_time": "2023-03-25T10:55:28.143Z"
   },
   {
    "duration": 12083,
    "start_time": "2023-03-25T10:55:28.632Z"
   },
   {
    "duration": 4803,
    "start_time": "2023-03-25T10:55:40.733Z"
   },
   {
    "duration": 4464,
    "start_time": "2023-03-25T10:55:45.539Z"
   },
   {
    "duration": 826,
    "start_time": "2023-03-25T10:55:50.006Z"
   },
   {
    "duration": 186,
    "start_time": "2023-03-25T10:55:50.848Z"
   },
   {
    "duration": 566,
    "start_time": "2023-03-25T10:55:51.036Z"
   },
   {
    "duration": 16,
    "start_time": "2023-03-25T10:55:51.604Z"
   },
   {
    "duration": 31,
    "start_time": "2023-03-25T10:55:51.623Z"
   },
   {
    "duration": 2852,
    "start_time": "2023-03-25T10:55:51.656Z"
   },
   {
    "duration": 4244,
    "start_time": "2023-03-25T10:55:54.510Z"
   },
   {
    "duration": 2479,
    "start_time": "2023-03-25T10:55:58.756Z"
   },
   {
    "duration": 259,
    "start_time": "2023-03-25T10:56:01.238Z"
   },
   {
    "duration": 2706,
    "start_time": "2023-03-25T10:56:01.499Z"
   },
   {
    "duration": 13,
    "start_time": "2023-03-25T10:56:04.207Z"
   },
   {
    "duration": 2172,
    "start_time": "2023-03-25T10:56:04.222Z"
   },
   {
    "duration": 11,
    "start_time": "2023-03-25T10:56:06.396Z"
   },
   {
    "duration": 5781,
    "start_time": "2023-03-25T10:56:06.411Z"
   },
   {
    "duration": 2939,
    "start_time": "2023-03-25T10:56:12.195Z"
   },
   {
    "duration": 82,
    "start_time": "2023-03-25T10:56:15.136Z"
   },
   {
    "duration": 2297,
    "start_time": "2023-03-25T10:56:15.220Z"
   },
   {
    "duration": 77,
    "start_time": "2023-03-25T10:56:17.519Z"
   },
   {
    "duration": 2023,
    "start_time": "2023-03-25T10:56:17.598Z"
   },
   {
    "duration": 397,
    "start_time": "2023-03-25T10:56:19.624Z"
   }
  ],
  "colab": {
   "name": "PySparkSprint.ipynb",
   "provenance": []
  },
  "kernelspec": {
   "display_name": "Python 3 (ipykernel)",
   "language": "python",
   "name": "python3"
  },
  "language_info": {
   "codemirror_mode": {
    "name": "ipython",
    "version": 3
   },
   "file_extension": ".py",
   "mimetype": "text/x-python",
   "name": "python",
   "nbconvert_exporter": "python",
   "pygments_lexer": "ipython3",
   "version": "3.9.16"
  },
  "toc": {
   "base_numbering": 1,
   "nav_menu": {},
   "number_sections": true,
   "sideBar": true,
   "skip_h1_title": true,
   "title_cell": "Table of Contents",
   "title_sidebar": "Contents",
   "toc_cell": true,
   "toc_position": {
    "height": "calc(100% - 180px)",
    "left": "10px",
    "top": "150px",
    "width": "165px"
   },
   "toc_section_display": true,
   "toc_window_display": true
  }
 },
 "nbformat": 4,
 "nbformat_minor": 5
}

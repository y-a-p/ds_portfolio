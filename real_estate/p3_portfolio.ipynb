{
 "cells": [
  {
   "cell_type": "markdown",
   "metadata": {
    "toc": true
   },
   "source": [
    "<h1>Содержание<span class=\"tocSkip\"></span></h1>\n",
    "<div class=\"toc\"><ul class=\"toc-item\"><li><span><a href=\"#Изучение-данных-из-файла\" data-toc-modified-id=\"Изучение-данных-из-файла-1\"><span class=\"toc-item-num\">1&nbsp;&nbsp;</span>Изучение данных из файла</a></span><ul class=\"toc-item\"><li><span><a href=\"#Вывод\" data-toc-modified-id=\"Вывод-1.1\"><span class=\"toc-item-num\">1.1&nbsp;&nbsp;</span>Вывод</a></span></li></ul></li><li><span><a href=\"#Предобработка-данных\" data-toc-modified-id=\"Предобработка-данных-2\"><span class=\"toc-item-num\">2&nbsp;&nbsp;</span>Предобработка данных</a></span><ul class=\"toc-item\"><li><span><a href=\"#Переименование-столбца\" data-toc-modified-id=\"Переименование-столбца-2.1\"><span class=\"toc-item-num\">2.1&nbsp;&nbsp;</span>Переименование столбца</a></span></li><li><span><a href=\"#Исследование-пропусков\" data-toc-modified-id=\"Исследование-пропусков-2.2\"><span class=\"toc-item-num\">2.2&nbsp;&nbsp;</span>Исследование пропусков</a></span></li><li><span><a href=\"#Изменение-типов-данных\" data-toc-modified-id=\"Изменение-типов-данных-2.3\"><span class=\"toc-item-num\">2.3&nbsp;&nbsp;</span>Изменение типов данных</a></span></li><li><span><a href=\"#Исправление-данных\" data-toc-modified-id=\"Исправление-данных-2.4\"><span class=\"toc-item-num\">2.4&nbsp;&nbsp;</span>Исправление данных</a></span></li></ul></li><li><span><a href=\"#Расчёты-и-добавление-результатов-в-таблицу\" data-toc-modified-id=\"Расчёты-и-добавление-результатов-в-таблицу-3\"><span class=\"toc-item-num\">3&nbsp;&nbsp;</span>Расчёты и добавление результатов в таблицу</a></span><ul class=\"toc-item\"><li><ul class=\"toc-item\"><li><span><a href=\"#Расчет-стоимости-квадратного-метра\" data-toc-modified-id=\"Расчет-стоимости-квадратного-метра-3.0.1\"><span class=\"toc-item-num\">3.0.1&nbsp;&nbsp;</span>Расчет стоимости квадратного метра</a></span></li><li><span><a href=\"#Обработаем-дату/время-время-публикации-объявления\" data-toc-modified-id=\"Обработаем-дату/время-время-публикации-объявления-3.0.2\"><span class=\"toc-item-num\">3.0.2&nbsp;&nbsp;</span>Обработаем дату/время время публикации объявления</a></span></li><li><span><a href=\"#Категоризация-этажа\" data-toc-modified-id=\"Категоризация-этажа-3.0.3\"><span class=\"toc-item-num\">3.0.3&nbsp;&nbsp;</span>Категоризация этажа</a></span></li><li><span><a href=\"#Соотношение-площадей\" data-toc-modified-id=\"Соотношение-площадей-3.0.4\"><span class=\"toc-item-num\">3.0.4&nbsp;&nbsp;</span>Соотношение площадей</a></span></li></ul></li></ul></li><li><span><a href=\"#Исследовательский-анализ-данных\" data-toc-modified-id=\"Исследовательский-анализ-данных-4\"><span class=\"toc-item-num\">4&nbsp;&nbsp;</span>Исследовательский анализ данных</a></span></li><li><span><a href=\"#Общий-вывод\" data-toc-modified-id=\"Общий-вывод-5\"><span class=\"toc-item-num\">5&nbsp;&nbsp;</span>Общий вывод</a></span></li></ul></div>"
   ]
  },
  {
   "cell_type": "markdown",
   "metadata": {},
   "source": [
    "# Исследование объявлений о продаже квартир\n",
    "\n",
    "В вашем распоряжении данные сервиса Яндекc Недвижимость — архив объявлений о продаже квартир в Санкт-Петербурге и соседних населённых пунктах за несколько лет. Нужно научиться определять рыночную стоимость объектов недвижимости. Ваша задача — установить параметры. Это позволит построить автоматизированную систему: она отследит аномалии и мошенническую деятельность. \n",
    "\n",
    "По каждой квартире на продажу доступны два вида данных. Первые вписаны пользователем, вторые получены автоматически на основе картографических данных. Например, расстояние до центра, аэропорта, ближайшего парка и водоёма. "
   ]
  },
  {
   "cell_type": "markdown",
   "metadata": {},
   "source": [
    "`airports_nearest` — расстояние до ближайшего аэропорта в метрах (м)<br>\n",
    "`balcony` — число балконов<br>\n",
    "`ceiling_height` — высота потолков (м)<br>\n",
    "`cityCenters_nearest` — расстояние до центра города (м)<br>\n",
    "`days_exposition` — сколько дней было размещено объявление (от публикации до снятия)<br>\n",
    "`first_day_exposition` — дата публикации<br>\n",
    "`floor` — этаж<br>\n",
    "`floors_total` — всего этажей в доме<br>\n",
    "`is_apartment` — апартаменты (булев тип)<br>\n",
    "`kitchen_area` — площадь кухни в квадратных метрах (м²)<br>\n",
    "`last_price` — цена на момент снятия с публикации<br>\n",
    "`living_area` — жилая площадь в квадратных метрах (м²)<br>\n",
    "`locality_name` — название населённого пункта<br>\n",
    "`open_plan` — свободная планировка (булев тип)<br>\n",
    "`parks_around3000` — число парков в радиусе 3 км<br>\n",
    "`parks_nearest` — расстояние до ближайшего парка (м)<br>\n",
    "`ponds_around3000` — число водоёмов в радиусе 3 км<br>\n",
    "`ponds_nearest` — расстояние до ближайшего водоёма (м)<br>\n",
    "`rooms` — число комнат<br>\n",
    "`studio` — квартира-студия (булев тип)<br>\n",
    "`total_area` — площадь квартиры в квадратных метрах (м²)<br>\n",
    "`total_images` — число фотографий квартиры в объявлении<br>"
   ]
  },
  {
   "cell_type": "markdown",
   "metadata": {},
   "source": [
    "Первым этапом изучим данные, проанализируем пропуски и исправим их там, где это возможно, изменим формат столбцов с которыми будем работать."
   ]
  },
  {
   "cell_type": "markdown",
   "metadata": {},
   "source": [
    "Вторым этапом добавим всомогательные расчеты:\n",
    "* цена квадратного метра\n",
    "* день недели, месяц и год публикации объявления\n",
    "* этаж квартиры; варианты — первый, последний, другой\n",
    "* соотношение жилой и общей площади, а также отношение площади кухни к общей"
   ]
  },
  {
   "cell_type": "markdown",
   "metadata": {},
   "source": [
    "Определим характеристики типовой квартиры находящейся в продаже и время, требуемое для продажи."
   ]
  },
  {
   "cell_type": "markdown",
   "metadata": {},
   "source": [
    "Далее изучим какие факторы влияют на стоимость квартиры в целом в Ленинградской области и в центре Санкт-Петербурга:\n",
    "* площадь квартры\n",
    "* число комнат\n",
    "* высота потолков\n",
    "* этаж (первый, последний, другой)\n",
    "* время продажи: день, месяц, год"
   ]
  },
  {
   "cell_type": "markdown",
   "metadata": {},
   "source": [
    "Проверим в каких городах чаще всего продают квартиры и как в них отличаются стоимости квартир."
   ]
  },
  {
   "cell_type": "markdown",
   "metadata": {},
   "source": [
    "## Изучение данных из файла"
   ]
  },
  {
   "cell_type": "markdown",
   "metadata": {},
   "source": [
    "Прочитаем файл и посмотрим основную информацию."
   ]
  },
  {
   "cell_type": "code",
   "execution_count": 13,
   "metadata": {},
   "outputs": [],
   "source": [
    "import pandas as pd\n",
    "import math\n",
    "import matplotlib.pyplot as plt\n",
    "import numpy as np"
   ]
  },
  {
   "cell_type": "code",
   "execution_count": 14,
   "metadata": {},
   "outputs": [],
   "source": [
    "df = pd.read_csv('/datasets/real_estate_data.csv', sep='\\t')"
   ]
  },
  {
   "cell_type": "code",
   "execution_count": 15,
   "metadata": {},
   "outputs": [
    {
     "name": "stdout",
     "output_type": "stream",
     "text": [
      "<class 'pandas.core.frame.DataFrame'>\n",
      "RangeIndex: 23699 entries, 0 to 23698\n",
      "Data columns (total 22 columns):\n",
      " #   Column                Non-Null Count  Dtype  \n",
      "---  ------                --------------  -----  \n",
      " 0   total_images          23699 non-null  int64  \n",
      " 1   last_price            23699 non-null  float64\n",
      " 2   total_area            23699 non-null  float64\n",
      " 3   first_day_exposition  23699 non-null  object \n",
      " 4   rooms                 23699 non-null  int64  \n",
      " 5   ceiling_height        14504 non-null  float64\n",
      " 6   floors_total          23613 non-null  float64\n",
      " 7   living_area           21796 non-null  float64\n",
      " 8   floor                 23699 non-null  int64  \n",
      " 9   is_apartment          2775 non-null   object \n",
      " 10  studio                23699 non-null  bool   \n",
      " 11  open_plan             23699 non-null  bool   \n",
      " 12  kitchen_area          21421 non-null  float64\n",
      " 13  balcony               12180 non-null  float64\n",
      " 14  locality_name         23650 non-null  object \n",
      " 15  airports_nearest      18157 non-null  float64\n",
      " 16  cityCenters_nearest   18180 non-null  float64\n",
      " 17  parks_around3000      18181 non-null  float64\n",
      " 18  parks_nearest         8079 non-null   float64\n",
      " 19  ponds_around3000      18181 non-null  float64\n",
      " 20  ponds_nearest         9110 non-null   float64\n",
      " 21  days_exposition       20518 non-null  float64\n",
      "dtypes: bool(2), float64(14), int64(3), object(3)\n",
      "memory usage: 3.7+ MB\n"
     ]
    }
   ],
   "source": [
    "df.info()"
   ]
  },
  {
   "cell_type": "code",
   "execution_count": 16,
   "metadata": {},
   "outputs": [
    {
     "data": {
      "text/html": [
       "<div>\n",
       "<style scoped>\n",
       "    .dataframe tbody tr th:only-of-type {\n",
       "        vertical-align: middle;\n",
       "    }\n",
       "\n",
       "    .dataframe tbody tr th {\n",
       "        vertical-align: top;\n",
       "    }\n",
       "\n",
       "    .dataframe thead th {\n",
       "        text-align: right;\n",
       "    }\n",
       "</style>\n",
       "<table border=\"1\" class=\"dataframe\">\n",
       "  <thead>\n",
       "    <tr style=\"text-align: right;\">\n",
       "      <th></th>\n",
       "      <th>total_images</th>\n",
       "      <th>last_price</th>\n",
       "      <th>total_area</th>\n",
       "      <th>first_day_exposition</th>\n",
       "      <th>rooms</th>\n",
       "      <th>ceiling_height</th>\n",
       "      <th>floors_total</th>\n",
       "      <th>living_area</th>\n",
       "      <th>floor</th>\n",
       "      <th>is_apartment</th>\n",
       "      <th>studio</th>\n",
       "      <th>open_plan</th>\n",
       "      <th>kitchen_area</th>\n",
       "      <th>balcony</th>\n",
       "      <th>locality_name</th>\n",
       "      <th>airports_nearest</th>\n",
       "      <th>cityCenters_nearest</th>\n",
       "      <th>parks_around3000</th>\n",
       "      <th>parks_nearest</th>\n",
       "      <th>ponds_around3000</th>\n",
       "      <th>ponds_nearest</th>\n",
       "      <th>days_exposition</th>\n",
       "    </tr>\n",
       "  </thead>\n",
       "  <tbody>\n",
       "    <tr>\n",
       "      <th>0</th>\n",
       "      <td>20</td>\n",
       "      <td>13000000.0</td>\n",
       "      <td>108.00</td>\n",
       "      <td>2019-03-07T00:00:00</td>\n",
       "      <td>3</td>\n",
       "      <td>2.70</td>\n",
       "      <td>16.0</td>\n",
       "      <td>51.0</td>\n",
       "      <td>8</td>\n",
       "      <td>NaN</td>\n",
       "      <td>False</td>\n",
       "      <td>False</td>\n",
       "      <td>25.00</td>\n",
       "      <td>NaN</td>\n",
       "      <td>Санкт-Петербург</td>\n",
       "      <td>18863.0</td>\n",
       "      <td>16028.0</td>\n",
       "      <td>1.0</td>\n",
       "      <td>482.0</td>\n",
       "      <td>2.0</td>\n",
       "      <td>755.0</td>\n",
       "      <td>NaN</td>\n",
       "    </tr>\n",
       "    <tr>\n",
       "      <th>1</th>\n",
       "      <td>7</td>\n",
       "      <td>3350000.0</td>\n",
       "      <td>40.40</td>\n",
       "      <td>2018-12-04T00:00:00</td>\n",
       "      <td>1</td>\n",
       "      <td>NaN</td>\n",
       "      <td>11.0</td>\n",
       "      <td>18.6</td>\n",
       "      <td>1</td>\n",
       "      <td>NaN</td>\n",
       "      <td>False</td>\n",
       "      <td>False</td>\n",
       "      <td>11.00</td>\n",
       "      <td>2.0</td>\n",
       "      <td>посёлок Шушары</td>\n",
       "      <td>12817.0</td>\n",
       "      <td>18603.0</td>\n",
       "      <td>0.0</td>\n",
       "      <td>NaN</td>\n",
       "      <td>0.0</td>\n",
       "      <td>NaN</td>\n",
       "      <td>81.0</td>\n",
       "    </tr>\n",
       "    <tr>\n",
       "      <th>2</th>\n",
       "      <td>10</td>\n",
       "      <td>5196000.0</td>\n",
       "      <td>56.00</td>\n",
       "      <td>2015-08-20T00:00:00</td>\n",
       "      <td>2</td>\n",
       "      <td>NaN</td>\n",
       "      <td>5.0</td>\n",
       "      <td>34.3</td>\n",
       "      <td>4</td>\n",
       "      <td>NaN</td>\n",
       "      <td>False</td>\n",
       "      <td>False</td>\n",
       "      <td>8.30</td>\n",
       "      <td>0.0</td>\n",
       "      <td>Санкт-Петербург</td>\n",
       "      <td>21741.0</td>\n",
       "      <td>13933.0</td>\n",
       "      <td>1.0</td>\n",
       "      <td>90.0</td>\n",
       "      <td>2.0</td>\n",
       "      <td>574.0</td>\n",
       "      <td>558.0</td>\n",
       "    </tr>\n",
       "    <tr>\n",
       "      <th>3</th>\n",
       "      <td>0</td>\n",
       "      <td>64900000.0</td>\n",
       "      <td>159.00</td>\n",
       "      <td>2015-07-24T00:00:00</td>\n",
       "      <td>3</td>\n",
       "      <td>NaN</td>\n",
       "      <td>14.0</td>\n",
       "      <td>NaN</td>\n",
       "      <td>9</td>\n",
       "      <td>NaN</td>\n",
       "      <td>False</td>\n",
       "      <td>False</td>\n",
       "      <td>NaN</td>\n",
       "      <td>0.0</td>\n",
       "      <td>Санкт-Петербург</td>\n",
       "      <td>28098.0</td>\n",
       "      <td>6800.0</td>\n",
       "      <td>2.0</td>\n",
       "      <td>84.0</td>\n",
       "      <td>3.0</td>\n",
       "      <td>234.0</td>\n",
       "      <td>424.0</td>\n",
       "    </tr>\n",
       "    <tr>\n",
       "      <th>4</th>\n",
       "      <td>2</td>\n",
       "      <td>10000000.0</td>\n",
       "      <td>100.00</td>\n",
       "      <td>2018-06-19T00:00:00</td>\n",
       "      <td>2</td>\n",
       "      <td>3.03</td>\n",
       "      <td>14.0</td>\n",
       "      <td>32.0</td>\n",
       "      <td>13</td>\n",
       "      <td>NaN</td>\n",
       "      <td>False</td>\n",
       "      <td>False</td>\n",
       "      <td>41.00</td>\n",
       "      <td>NaN</td>\n",
       "      <td>Санкт-Петербург</td>\n",
       "      <td>31856.0</td>\n",
       "      <td>8098.0</td>\n",
       "      <td>2.0</td>\n",
       "      <td>112.0</td>\n",
       "      <td>1.0</td>\n",
       "      <td>48.0</td>\n",
       "      <td>121.0</td>\n",
       "    </tr>\n",
       "    <tr>\n",
       "      <th>...</th>\n",
       "      <td>...</td>\n",
       "      <td>...</td>\n",
       "      <td>...</td>\n",
       "      <td>...</td>\n",
       "      <td>...</td>\n",
       "      <td>...</td>\n",
       "      <td>...</td>\n",
       "      <td>...</td>\n",
       "      <td>...</td>\n",
       "      <td>...</td>\n",
       "      <td>...</td>\n",
       "      <td>...</td>\n",
       "      <td>...</td>\n",
       "      <td>...</td>\n",
       "      <td>...</td>\n",
       "      <td>...</td>\n",
       "      <td>...</td>\n",
       "      <td>...</td>\n",
       "      <td>...</td>\n",
       "      <td>...</td>\n",
       "      <td>...</td>\n",
       "      <td>...</td>\n",
       "    </tr>\n",
       "    <tr>\n",
       "      <th>23694</th>\n",
       "      <td>9</td>\n",
       "      <td>9700000.0</td>\n",
       "      <td>133.81</td>\n",
       "      <td>2017-03-21T00:00:00</td>\n",
       "      <td>3</td>\n",
       "      <td>3.70</td>\n",
       "      <td>5.0</td>\n",
       "      <td>73.3</td>\n",
       "      <td>3</td>\n",
       "      <td>NaN</td>\n",
       "      <td>False</td>\n",
       "      <td>False</td>\n",
       "      <td>13.83</td>\n",
       "      <td>NaN</td>\n",
       "      <td>Санкт-Петербург</td>\n",
       "      <td>24665.0</td>\n",
       "      <td>4232.0</td>\n",
       "      <td>1.0</td>\n",
       "      <td>796.0</td>\n",
       "      <td>3.0</td>\n",
       "      <td>381.0</td>\n",
       "      <td>NaN</td>\n",
       "    </tr>\n",
       "    <tr>\n",
       "      <th>23695</th>\n",
       "      <td>14</td>\n",
       "      <td>3100000.0</td>\n",
       "      <td>59.00</td>\n",
       "      <td>2018-01-15T00:00:00</td>\n",
       "      <td>3</td>\n",
       "      <td>NaN</td>\n",
       "      <td>5.0</td>\n",
       "      <td>38.0</td>\n",
       "      <td>4</td>\n",
       "      <td>NaN</td>\n",
       "      <td>False</td>\n",
       "      <td>False</td>\n",
       "      <td>8.50</td>\n",
       "      <td>NaN</td>\n",
       "      <td>Тосно</td>\n",
       "      <td>NaN</td>\n",
       "      <td>NaN</td>\n",
       "      <td>NaN</td>\n",
       "      <td>NaN</td>\n",
       "      <td>NaN</td>\n",
       "      <td>NaN</td>\n",
       "      <td>45.0</td>\n",
       "    </tr>\n",
       "    <tr>\n",
       "      <th>23696</th>\n",
       "      <td>18</td>\n",
       "      <td>2500000.0</td>\n",
       "      <td>56.70</td>\n",
       "      <td>2018-02-11T00:00:00</td>\n",
       "      <td>2</td>\n",
       "      <td>NaN</td>\n",
       "      <td>3.0</td>\n",
       "      <td>29.7</td>\n",
       "      <td>1</td>\n",
       "      <td>NaN</td>\n",
       "      <td>False</td>\n",
       "      <td>False</td>\n",
       "      <td>NaN</td>\n",
       "      <td>NaN</td>\n",
       "      <td>село Рождествено</td>\n",
       "      <td>NaN</td>\n",
       "      <td>NaN</td>\n",
       "      <td>NaN</td>\n",
       "      <td>NaN</td>\n",
       "      <td>NaN</td>\n",
       "      <td>NaN</td>\n",
       "      <td>NaN</td>\n",
       "    </tr>\n",
       "    <tr>\n",
       "      <th>23697</th>\n",
       "      <td>13</td>\n",
       "      <td>11475000.0</td>\n",
       "      <td>76.75</td>\n",
       "      <td>2017-03-28T00:00:00</td>\n",
       "      <td>2</td>\n",
       "      <td>3.00</td>\n",
       "      <td>17.0</td>\n",
       "      <td>NaN</td>\n",
       "      <td>12</td>\n",
       "      <td>NaN</td>\n",
       "      <td>False</td>\n",
       "      <td>False</td>\n",
       "      <td>23.30</td>\n",
       "      <td>2.0</td>\n",
       "      <td>Санкт-Петербург</td>\n",
       "      <td>39140.0</td>\n",
       "      <td>10364.0</td>\n",
       "      <td>2.0</td>\n",
       "      <td>173.0</td>\n",
       "      <td>3.0</td>\n",
       "      <td>196.0</td>\n",
       "      <td>602.0</td>\n",
       "    </tr>\n",
       "    <tr>\n",
       "      <th>23698</th>\n",
       "      <td>4</td>\n",
       "      <td>1350000.0</td>\n",
       "      <td>32.30</td>\n",
       "      <td>2017-07-21T00:00:00</td>\n",
       "      <td>1</td>\n",
       "      <td>2.50</td>\n",
       "      <td>5.0</td>\n",
       "      <td>12.3</td>\n",
       "      <td>1</td>\n",
       "      <td>NaN</td>\n",
       "      <td>False</td>\n",
       "      <td>False</td>\n",
       "      <td>9.00</td>\n",
       "      <td>NaN</td>\n",
       "      <td>поселок Новый Учхоз</td>\n",
       "      <td>NaN</td>\n",
       "      <td>NaN</td>\n",
       "      <td>NaN</td>\n",
       "      <td>NaN</td>\n",
       "      <td>NaN</td>\n",
       "      <td>NaN</td>\n",
       "      <td>NaN</td>\n",
       "    </tr>\n",
       "  </tbody>\n",
       "</table>\n",
       "<p>23699 rows × 22 columns</p>\n",
       "</div>"
      ],
      "text/plain": [
       "       total_images  last_price  total_area first_day_exposition  rooms  \\\n",
       "0                20  13000000.0      108.00  2019-03-07T00:00:00      3   \n",
       "1                 7   3350000.0       40.40  2018-12-04T00:00:00      1   \n",
       "2                10   5196000.0       56.00  2015-08-20T00:00:00      2   \n",
       "3                 0  64900000.0      159.00  2015-07-24T00:00:00      3   \n",
       "4                 2  10000000.0      100.00  2018-06-19T00:00:00      2   \n",
       "...             ...         ...         ...                  ...    ...   \n",
       "23694             9   9700000.0      133.81  2017-03-21T00:00:00      3   \n",
       "23695            14   3100000.0       59.00  2018-01-15T00:00:00      3   \n",
       "23696            18   2500000.0       56.70  2018-02-11T00:00:00      2   \n",
       "23697            13  11475000.0       76.75  2017-03-28T00:00:00      2   \n",
       "23698             4   1350000.0       32.30  2017-07-21T00:00:00      1   \n",
       "\n",
       "       ceiling_height  floors_total  living_area  floor is_apartment  studio  \\\n",
       "0                2.70          16.0         51.0      8          NaN   False   \n",
       "1                 NaN          11.0         18.6      1          NaN   False   \n",
       "2                 NaN           5.0         34.3      4          NaN   False   \n",
       "3                 NaN          14.0          NaN      9          NaN   False   \n",
       "4                3.03          14.0         32.0     13          NaN   False   \n",
       "...               ...           ...          ...    ...          ...     ...   \n",
       "23694            3.70           5.0         73.3      3          NaN   False   \n",
       "23695             NaN           5.0         38.0      4          NaN   False   \n",
       "23696             NaN           3.0         29.7      1          NaN   False   \n",
       "23697            3.00          17.0          NaN     12          NaN   False   \n",
       "23698            2.50           5.0         12.3      1          NaN   False   \n",
       "\n",
       "       open_plan  kitchen_area  balcony        locality_name  \\\n",
       "0          False         25.00      NaN      Санкт-Петербург   \n",
       "1          False         11.00      2.0       посёлок Шушары   \n",
       "2          False          8.30      0.0      Санкт-Петербург   \n",
       "3          False           NaN      0.0      Санкт-Петербург   \n",
       "4          False         41.00      NaN      Санкт-Петербург   \n",
       "...          ...           ...      ...                  ...   \n",
       "23694      False         13.83      NaN      Санкт-Петербург   \n",
       "23695      False          8.50      NaN                Тосно   \n",
       "23696      False           NaN      NaN     село Рождествено   \n",
       "23697      False         23.30      2.0      Санкт-Петербург   \n",
       "23698      False          9.00      NaN  поселок Новый Учхоз   \n",
       "\n",
       "       airports_nearest  cityCenters_nearest  parks_around3000  parks_nearest  \\\n",
       "0               18863.0              16028.0               1.0          482.0   \n",
       "1               12817.0              18603.0               0.0            NaN   \n",
       "2               21741.0              13933.0               1.0           90.0   \n",
       "3               28098.0               6800.0               2.0           84.0   \n",
       "4               31856.0               8098.0               2.0          112.0   \n",
       "...                 ...                  ...               ...            ...   \n",
       "23694           24665.0               4232.0               1.0          796.0   \n",
       "23695               NaN                  NaN               NaN            NaN   \n",
       "23696               NaN                  NaN               NaN            NaN   \n",
       "23697           39140.0              10364.0               2.0          173.0   \n",
       "23698               NaN                  NaN               NaN            NaN   \n",
       "\n",
       "       ponds_around3000  ponds_nearest  days_exposition  \n",
       "0                   2.0          755.0              NaN  \n",
       "1                   0.0            NaN             81.0  \n",
       "2                   2.0          574.0            558.0  \n",
       "3                   3.0          234.0            424.0  \n",
       "4                   1.0           48.0            121.0  \n",
       "...                 ...            ...              ...  \n",
       "23694               3.0          381.0              NaN  \n",
       "23695               NaN            NaN             45.0  \n",
       "23696               NaN            NaN              NaN  \n",
       "23697               3.0          196.0            602.0  \n",
       "23698               NaN            NaN              NaN  \n",
       "\n",
       "[23699 rows x 22 columns]"
      ]
     },
     "execution_count": 16,
     "metadata": {},
     "output_type": "execute_result"
    }
   ],
   "source": [
    "pd.set_option('display.max_columns', 50) \n",
    "df"
   ]
  },
  {
   "cell_type": "code",
   "execution_count": 17,
   "metadata": {},
   "outputs": [
    {
     "data": {
      "text/html": [
       "<div>\n",
       "<style scoped>\n",
       "    .dataframe tbody tr th:only-of-type {\n",
       "        vertical-align: middle;\n",
       "    }\n",
       "\n",
       "    .dataframe tbody tr th {\n",
       "        vertical-align: top;\n",
       "    }\n",
       "\n",
       "    .dataframe thead th {\n",
       "        text-align: right;\n",
       "    }\n",
       "</style>\n",
       "<table border=\"1\" class=\"dataframe\">\n",
       "  <thead>\n",
       "    <tr style=\"text-align: right;\">\n",
       "      <th></th>\n",
       "      <th>total_images</th>\n",
       "      <th>last_price</th>\n",
       "      <th>total_area</th>\n",
       "      <th>rooms</th>\n",
       "      <th>ceiling_height</th>\n",
       "      <th>floors_total</th>\n",
       "      <th>living_area</th>\n",
       "      <th>floor</th>\n",
       "      <th>kitchen_area</th>\n",
       "      <th>balcony</th>\n",
       "      <th>airports_nearest</th>\n",
       "      <th>cityCenters_nearest</th>\n",
       "      <th>parks_around3000</th>\n",
       "      <th>parks_nearest</th>\n",
       "      <th>ponds_around3000</th>\n",
       "      <th>ponds_nearest</th>\n",
       "      <th>days_exposition</th>\n",
       "    </tr>\n",
       "  </thead>\n",
       "  <tbody>\n",
       "    <tr>\n",
       "      <th>count</th>\n",
       "      <td>23699.000000</td>\n",
       "      <td>2.369900e+04</td>\n",
       "      <td>23699.000000</td>\n",
       "      <td>23699.000000</td>\n",
       "      <td>14504.000000</td>\n",
       "      <td>23613.000000</td>\n",
       "      <td>21796.000000</td>\n",
       "      <td>23699.000000</td>\n",
       "      <td>21421.000000</td>\n",
       "      <td>12180.000000</td>\n",
       "      <td>18157.000000</td>\n",
       "      <td>18180.000000</td>\n",
       "      <td>18181.000000</td>\n",
       "      <td>8079.000000</td>\n",
       "      <td>18181.000000</td>\n",
       "      <td>9110.000000</td>\n",
       "      <td>20518.000000</td>\n",
       "    </tr>\n",
       "    <tr>\n",
       "      <th>mean</th>\n",
       "      <td>9.858475</td>\n",
       "      <td>6.541549e+06</td>\n",
       "      <td>60.348651</td>\n",
       "      <td>2.070636</td>\n",
       "      <td>2.771499</td>\n",
       "      <td>10.673824</td>\n",
       "      <td>34.457852</td>\n",
       "      <td>5.892358</td>\n",
       "      <td>10.569807</td>\n",
       "      <td>1.150082</td>\n",
       "      <td>28793.672193</td>\n",
       "      <td>14191.277833</td>\n",
       "      <td>0.611408</td>\n",
       "      <td>490.804555</td>\n",
       "      <td>0.770255</td>\n",
       "      <td>517.980900</td>\n",
       "      <td>180.888634</td>\n",
       "    </tr>\n",
       "    <tr>\n",
       "      <th>std</th>\n",
       "      <td>5.682529</td>\n",
       "      <td>1.088701e+07</td>\n",
       "      <td>35.654083</td>\n",
       "      <td>1.078405</td>\n",
       "      <td>1.261056</td>\n",
       "      <td>6.597173</td>\n",
       "      <td>22.030445</td>\n",
       "      <td>4.885249</td>\n",
       "      <td>5.905438</td>\n",
       "      <td>1.071300</td>\n",
       "      <td>12630.880622</td>\n",
       "      <td>8608.386210</td>\n",
       "      <td>0.802074</td>\n",
       "      <td>342.317995</td>\n",
       "      <td>0.938346</td>\n",
       "      <td>277.720643</td>\n",
       "      <td>219.727988</td>\n",
       "    </tr>\n",
       "    <tr>\n",
       "      <th>min</th>\n",
       "      <td>0.000000</td>\n",
       "      <td>1.219000e+04</td>\n",
       "      <td>12.000000</td>\n",
       "      <td>0.000000</td>\n",
       "      <td>1.000000</td>\n",
       "      <td>1.000000</td>\n",
       "      <td>2.000000</td>\n",
       "      <td>1.000000</td>\n",
       "      <td>1.300000</td>\n",
       "      <td>0.000000</td>\n",
       "      <td>0.000000</td>\n",
       "      <td>181.000000</td>\n",
       "      <td>0.000000</td>\n",
       "      <td>1.000000</td>\n",
       "      <td>0.000000</td>\n",
       "      <td>13.000000</td>\n",
       "      <td>1.000000</td>\n",
       "    </tr>\n",
       "    <tr>\n",
       "      <th>25%</th>\n",
       "      <td>6.000000</td>\n",
       "      <td>3.400000e+06</td>\n",
       "      <td>40.000000</td>\n",
       "      <td>1.000000</td>\n",
       "      <td>2.520000</td>\n",
       "      <td>5.000000</td>\n",
       "      <td>18.600000</td>\n",
       "      <td>2.000000</td>\n",
       "      <td>7.000000</td>\n",
       "      <td>0.000000</td>\n",
       "      <td>18585.000000</td>\n",
       "      <td>9238.000000</td>\n",
       "      <td>0.000000</td>\n",
       "      <td>288.000000</td>\n",
       "      <td>0.000000</td>\n",
       "      <td>294.000000</td>\n",
       "      <td>45.000000</td>\n",
       "    </tr>\n",
       "    <tr>\n",
       "      <th>50%</th>\n",
       "      <td>9.000000</td>\n",
       "      <td>4.650000e+06</td>\n",
       "      <td>52.000000</td>\n",
       "      <td>2.000000</td>\n",
       "      <td>2.650000</td>\n",
       "      <td>9.000000</td>\n",
       "      <td>30.000000</td>\n",
       "      <td>4.000000</td>\n",
       "      <td>9.100000</td>\n",
       "      <td>1.000000</td>\n",
       "      <td>26726.000000</td>\n",
       "      <td>13098.500000</td>\n",
       "      <td>0.000000</td>\n",
       "      <td>455.000000</td>\n",
       "      <td>1.000000</td>\n",
       "      <td>502.000000</td>\n",
       "      <td>95.000000</td>\n",
       "    </tr>\n",
       "    <tr>\n",
       "      <th>75%</th>\n",
       "      <td>14.000000</td>\n",
       "      <td>6.800000e+06</td>\n",
       "      <td>69.900000</td>\n",
       "      <td>3.000000</td>\n",
       "      <td>2.800000</td>\n",
       "      <td>16.000000</td>\n",
       "      <td>42.300000</td>\n",
       "      <td>8.000000</td>\n",
       "      <td>12.000000</td>\n",
       "      <td>2.000000</td>\n",
       "      <td>37273.000000</td>\n",
       "      <td>16293.000000</td>\n",
       "      <td>1.000000</td>\n",
       "      <td>612.000000</td>\n",
       "      <td>1.000000</td>\n",
       "      <td>729.000000</td>\n",
       "      <td>232.000000</td>\n",
       "    </tr>\n",
       "    <tr>\n",
       "      <th>max</th>\n",
       "      <td>50.000000</td>\n",
       "      <td>7.630000e+08</td>\n",
       "      <td>900.000000</td>\n",
       "      <td>19.000000</td>\n",
       "      <td>100.000000</td>\n",
       "      <td>60.000000</td>\n",
       "      <td>409.700000</td>\n",
       "      <td>33.000000</td>\n",
       "      <td>112.000000</td>\n",
       "      <td>5.000000</td>\n",
       "      <td>84869.000000</td>\n",
       "      <td>65968.000000</td>\n",
       "      <td>3.000000</td>\n",
       "      <td>3190.000000</td>\n",
       "      <td>3.000000</td>\n",
       "      <td>1344.000000</td>\n",
       "      <td>1580.000000</td>\n",
       "    </tr>\n",
       "  </tbody>\n",
       "</table>\n",
       "</div>"
      ],
      "text/plain": [
       "       total_images    last_price    total_area         rooms  ceiling_height  \\\n",
       "count  23699.000000  2.369900e+04  23699.000000  23699.000000    14504.000000   \n",
       "mean       9.858475  6.541549e+06     60.348651      2.070636        2.771499   \n",
       "std        5.682529  1.088701e+07     35.654083      1.078405        1.261056   \n",
       "min        0.000000  1.219000e+04     12.000000      0.000000        1.000000   \n",
       "25%        6.000000  3.400000e+06     40.000000      1.000000        2.520000   \n",
       "50%        9.000000  4.650000e+06     52.000000      2.000000        2.650000   \n",
       "75%       14.000000  6.800000e+06     69.900000      3.000000        2.800000   \n",
       "max       50.000000  7.630000e+08    900.000000     19.000000      100.000000   \n",
       "\n",
       "       floors_total   living_area         floor  kitchen_area       balcony  \\\n",
       "count  23613.000000  21796.000000  23699.000000  21421.000000  12180.000000   \n",
       "mean      10.673824     34.457852      5.892358     10.569807      1.150082   \n",
       "std        6.597173     22.030445      4.885249      5.905438      1.071300   \n",
       "min        1.000000      2.000000      1.000000      1.300000      0.000000   \n",
       "25%        5.000000     18.600000      2.000000      7.000000      0.000000   \n",
       "50%        9.000000     30.000000      4.000000      9.100000      1.000000   \n",
       "75%       16.000000     42.300000      8.000000     12.000000      2.000000   \n",
       "max       60.000000    409.700000     33.000000    112.000000      5.000000   \n",
       "\n",
       "       airports_nearest  cityCenters_nearest  parks_around3000  parks_nearest  \\\n",
       "count      18157.000000         18180.000000      18181.000000    8079.000000   \n",
       "mean       28793.672193         14191.277833          0.611408     490.804555   \n",
       "std        12630.880622          8608.386210          0.802074     342.317995   \n",
       "min            0.000000           181.000000          0.000000       1.000000   \n",
       "25%        18585.000000          9238.000000          0.000000     288.000000   \n",
       "50%        26726.000000         13098.500000          0.000000     455.000000   \n",
       "75%        37273.000000         16293.000000          1.000000     612.000000   \n",
       "max        84869.000000         65968.000000          3.000000    3190.000000   \n",
       "\n",
       "       ponds_around3000  ponds_nearest  days_exposition  \n",
       "count      18181.000000    9110.000000     20518.000000  \n",
       "mean           0.770255     517.980900       180.888634  \n",
       "std            0.938346     277.720643       219.727988  \n",
       "min            0.000000      13.000000         1.000000  \n",
       "25%            0.000000     294.000000        45.000000  \n",
       "50%            1.000000     502.000000        95.000000  \n",
       "75%            1.000000     729.000000       232.000000  \n",
       "max            3.000000    1344.000000      1580.000000  "
      ]
     },
     "execution_count": 17,
     "metadata": {},
     "output_type": "execute_result"
    }
   ],
   "source": [
    "df.describe()"
   ]
  },
  {
   "cell_type": "markdown",
   "metadata": {},
   "source": [
    "### Вывод"
   ]
  },
  {
   "cell_type": "markdown",
   "metadata": {},
   "source": [
    "1. Переименовать столбец<br>\n",
    "`cityCenters_nearest` - привести к змеиному регистру<br>\n",
    "<br>\n",
    "2. Ислледовать пропуски в этих столбцах<br>\n",
    "`ceiling_height` - для анализа требуется, но данных для заполнения не хватает<br>\n",
    "`floors_total`- обработать пропуски<br>\n",
    "`living_area`- обработать пропуски<br>\n",
    "`is_apartment` - для анализа не требуется<br>\n",
    "`kitchen_area`- обработать пропуски<br>\n",
    "`balcony`- для анализа не требуется<br>\n",
    "`locality_name` - для анализа требуется, но данных для заполнения не хватает<br>\n",
    "`airports_nearest` - для анализа не требуется<br>\n",
    "`cityCenters_nearest` - для анализа не требуется<br>\n",
    "`parks_around3000` - для анализа не требуется<br>\n",
    "`parks_nearest`- для анализа не требуется<br>\n",
    "`ponds_around3000`- для анализа не требуется<br>\n",
    "`ponds_nearest`- для анализа не требуется<br>\n",
    "`days_exposition`- для анализа требуется, но данных для заполнения не хватает<br>\n",
    "<br>\n",
    "3. Изменить формат столбцов<br>\n",
    "`first_day_exposition` - дата/время<br>\n",
    "`floors_total` - целочисленный<br>\n",
    "<br>\n",
    "4. Более детально посмотреть на подозрительные значения в столбцах:<br>\n",
    "`ceiling_height`- значение 100<br>\n"
   ]
  },
  {
   "cell_type": "markdown",
   "metadata": {},
   "source": [
    "## Предобработка данных"
   ]
  },
  {
   "cell_type": "markdown",
   "metadata": {},
   "source": [
    "### Переименование столбца"
   ]
  },
  {
   "cell_type": "markdown",
   "metadata": {},
   "source": [
    "Переименуем столбец `cityCenters_nearest` в `city_сenters_nearest` "
   ]
  },
  {
   "cell_type": "code",
   "execution_count": 18,
   "metadata": {},
   "outputs": [],
   "source": [
    "df = df.rename(columns={'cityCenters_nearest': 'city_сenters_nearest'})"
   ]
  },
  {
   "cell_type": "markdown",
   "metadata": {},
   "source": [
    "Проверим"
   ]
  },
  {
   "cell_type": "code",
   "execution_count": 19,
   "metadata": {
    "scrolled": true
   },
   "outputs": [
    {
     "name": "stdout",
     "output_type": "stream",
     "text": [
      "<class 'pandas.core.frame.DataFrame'>\n",
      "RangeIndex: 23699 entries, 0 to 23698\n",
      "Data columns (total 22 columns):\n",
      " #   Column                Non-Null Count  Dtype  \n",
      "---  ------                --------------  -----  \n",
      " 0   total_images          23699 non-null  int64  \n",
      " 1   last_price            23699 non-null  float64\n",
      " 2   total_area            23699 non-null  float64\n",
      " 3   first_day_exposition  23699 non-null  object \n",
      " 4   rooms                 23699 non-null  int64  \n",
      " 5   ceiling_height        14504 non-null  float64\n",
      " 6   floors_total          23613 non-null  float64\n",
      " 7   living_area           21796 non-null  float64\n",
      " 8   floor                 23699 non-null  int64  \n",
      " 9   is_apartment          2775 non-null   object \n",
      " 10  studio                23699 non-null  bool   \n",
      " 11  open_plan             23699 non-null  bool   \n",
      " 12  kitchen_area          21421 non-null  float64\n",
      " 13  balcony               12180 non-null  float64\n",
      " 14  locality_name         23650 non-null  object \n",
      " 15  airports_nearest      18157 non-null  float64\n",
      " 16  city_сenters_nearest  18180 non-null  float64\n",
      " 17  parks_around3000      18181 non-null  float64\n",
      " 18  parks_nearest         8079 non-null   float64\n",
      " 19  ponds_around3000      18181 non-null  float64\n",
      " 20  ponds_nearest         9110 non-null   float64\n",
      " 21  days_exposition       20518 non-null  float64\n",
      "dtypes: bool(2), float64(14), int64(3), object(3)\n",
      "memory usage: 3.7+ MB\n"
     ]
    }
   ],
   "source": [
    "df.info()"
   ]
  },
  {
   "cell_type": "markdown",
   "metadata": {},
   "source": [
    "### Исследование пропусков"
   ]
  },
  {
   "cell_type": "markdown",
   "metadata": {},
   "source": [
    "Узнаем процент пропусков в столбцах с пропусками"
   ]
  },
  {
   "cell_type": "code",
   "execution_count": 20,
   "metadata": {},
   "outputs": [
    {
     "data": {
      "text/plain": [
       "[['ceiling_height', 38.8],\n",
       " ['floors_total', 0.36],\n",
       " ['living_area', 8.03],\n",
       " ['is_apartment', 88.29],\n",
       " ['kitchen_area', 9.61],\n",
       " ['balcony', 48.61],\n",
       " ['locality_name', 0.21],\n",
       " ['airports_nearest', 23.38],\n",
       " ['city_сenters_nearest', 23.29],\n",
       " ['parks_around3000', 23.28],\n",
       " ['parks_nearest', 65.91],\n",
       " ['ponds_around3000', 23.28],\n",
       " ['ponds_nearest', 61.56],\n",
       " ['days_exposition', 13.42]]"
      ]
     },
     "execution_count": 20,
     "metadata": {},
     "output_type": "execute_result"
    }
   ],
   "source": [
    "isna_columns = []\n",
    "for i in df.columns:\n",
    "    if df[i].isna().sum() > 0:\n",
    "        isna_columns.append([i,(df[i].isna().sum() * 100 /len(df)).round(2)])\n",
    "isna_columns\n",
    "        "
   ]
  },
  {
   "cell_type": "markdown",
   "metadata": {},
   "source": [
    "Бросается в глаза большой процент пропусков в поле `is_apartment`. Нужно задать вопрос разработчикам - нет ли ошибки в выгрузке, или же это поле не является обязательным для заполнения."
   ]
  },
  {
   "cell_type": "markdown",
   "metadata": {},
   "source": [
    "В столбце `floors_total` пропуски в строках, которые составляют меньше процента от всех данных. Заполним их медианным значением для каждого значения 'floor', у которого есть пропуск в `floors_total`."
   ]
  },
  {
   "cell_type": "code",
   "execution_count": 10,
   "metadata": {},
   "outputs": [],
   "source": [
    "df['floors_total'] = df['floors_total'].fillna(df.groupby('floor')['floors_total'].transform(\"median\"))"
   ]
  },
  {
   "cell_type": "markdown",
   "metadata": {},
   "source": [
    " Проверим"
   ]
  },
  {
   "cell_type": "code",
   "execution_count": 25,
   "metadata": {
    "scrolled": true
   },
   "outputs": [
    {
     "data": {
      "text/plain": [
       "0"
      ]
     },
     "execution_count": 25,
     "metadata": {},
     "output_type": "execute_result"
    }
   ],
   "source": [
    "df['floors_total'].isna().sum()"
   ]
  },
  {
   "cell_type": "markdown",
   "metadata": {},
   "source": [
    "Заполним пропуски в `living_area`. Будем заполнять медианным значениям для схожих квартир с такой же площадью и количеством комнат. Для этого разобъем все квартиры по категориям площади с шагом 30м2: до 30, от 30 и до 60, и т.д. Для схожих квартир по параметрам \"категория площади\" и количество комнат, посчитаем медианное значение жилой площади. Шаг 30 подобран экспериментальным путем, так, чтобы при минимальном значение позволял исправить максимальное количество пропусков."
   ]
  },
  {
   "cell_type": "code",
   "execution_count": 13,
   "metadata": {},
   "outputs": [],
   "source": [
    "def area_type(row):\n",
    "    total_area = row['total_area']\n",
    "    for i in range(0, math.ceil(df['total_area'].max()+30), 30):\n",
    "        if  0 <= (i - math.ceil(total_area)) < 30: \n",
    "            return i         \n",
    "df['area_type'] = df.apply(area_type,axis=1)"
   ]
  },
  {
   "cell_type": "code",
   "execution_count": 14,
   "metadata": {},
   "outputs": [],
   "source": [
    "df['living_area'] = df['living_area'].fillna(df.groupby(['area_type', 'rooms'])['living_area'].transform(\"median\"))"
   ]
  },
  {
   "cell_type": "markdown",
   "metadata": {},
   "source": [
    "Проверим, сколько осталось пропусков"
   ]
  },
  {
   "cell_type": "code",
   "execution_count": 15,
   "metadata": {},
   "outputs": [
    {
     "data": {
      "text/plain": [
       "10"
      ]
     },
     "execution_count": 15,
     "metadata": {},
     "output_type": "execute_result"
    }
   ],
   "source": [
    "df['living_area'].isna().sum()"
   ]
  },
  {
   "cell_type": "markdown",
   "metadata": {},
   "source": [
    "Исправим это пропуск медианным значением жилой площади только по категории площади квартиры, без учета количества комнат."
   ]
  },
  {
   "cell_type": "code",
   "execution_count": 16,
   "metadata": {},
   "outputs": [],
   "source": [
    "df['living_area'] = df['living_area'].fillna(df.groupby(['area_type'])['living_area'].transform(\"median\"))"
   ]
  },
  {
   "cell_type": "markdown",
   "metadata": {},
   "source": [
    "Проверим"
   ]
  },
  {
   "cell_type": "code",
   "execution_count": 17,
   "metadata": {},
   "outputs": [
    {
     "data": {
      "text/plain": [
       "0"
      ]
     },
     "execution_count": 17,
     "metadata": {},
     "output_type": "execute_result"
    }
   ],
   "source": [
    "df['living_area'].isna().sum()"
   ]
  },
  {
   "cell_type": "markdown",
   "metadata": {},
   "source": [
    "Применим схожий подход для заполнения пропусков в `kitchen_area`\n"
   ]
  },
  {
   "cell_type": "code",
   "execution_count": 18,
   "metadata": {},
   "outputs": [],
   "source": [
    "df['kitchen_area'] = df['kitchen_area'].fillna(df.groupby(['area_type', 'rooms'])['kitchen_area'].transform(\"median\"))"
   ]
  },
  {
   "cell_type": "code",
   "execution_count": 19,
   "metadata": {},
   "outputs": [
    {
     "data": {
      "text/plain": [
       "205"
      ]
     },
     "execution_count": 19,
     "metadata": {},
     "output_type": "execute_result"
    }
   ],
   "source": [
    "df['kitchen_area'].isna().sum()"
   ]
  },
  {
   "cell_type": "markdown",
   "metadata": {},
   "source": [
    "Исправим эти пропуски медианным значением площади кухни только по категории площади квартиры, без учета количества комнат."
   ]
  },
  {
   "cell_type": "code",
   "execution_count": 20,
   "metadata": {},
   "outputs": [],
   "source": [
    "df['kitchen_area'] = df['kitchen_area'].fillna(df.groupby(['area_type'])['kitchen_area'].transform(\"median\"))"
   ]
  },
  {
   "cell_type": "markdown",
   "metadata": {},
   "source": [
    "Проверим"
   ]
  },
  {
   "cell_type": "code",
   "execution_count": 21,
   "metadata": {
    "scrolled": true
   },
   "outputs": [
    {
     "data": {
      "text/plain": [
       "0"
      ]
     },
     "execution_count": 21,
     "metadata": {},
     "output_type": "execute_result"
    }
   ],
   "source": [
    "df['kitchen_area'].isna().sum()"
   ]
  },
  {
   "cell_type": "markdown",
   "metadata": {},
   "source": [
    "По 39% объявлений не заполнена высота потолков. Исключить такие объявления из анализа мы не можем, т.к. существенно сократит объем выборки, но и заполнить эти пропуски тоже не можем, т.к. недостаточно для этого данных."
   ]
  },
  {
   "cell_type": "markdown",
   "metadata": {},
   "source": [
    "### Изменение типов данных"
   ]
  },
  {
   "cell_type": "markdown",
   "metadata": {},
   "source": [
    "Приведем формат столбца `first_day_exposition` в формат даты/времени\n"
   ]
  },
  {
   "cell_type": "code",
   "execution_count": 22,
   "metadata": {},
   "outputs": [],
   "source": [
    "df['first_day_exposition'] = pd.to_datetime(df['first_day_exposition'], format='%Y-%m-%dT%H:%M:%S')"
   ]
  },
  {
   "cell_type": "markdown",
   "metadata": {},
   "source": [
    " Приведем формат столбца `floors_total` к целочисленному"
   ]
  },
  {
   "cell_type": "code",
   "execution_count": 23,
   "metadata": {},
   "outputs": [],
   "source": [
    "df['floors_total'] = df['floors_total'].astype('int')"
   ]
  },
  {
   "cell_type": "markdown",
   "metadata": {},
   "source": [
    "Проверим"
   ]
  },
  {
   "cell_type": "code",
   "execution_count": 24,
   "metadata": {},
   "outputs": [
    {
     "name": "stdout",
     "output_type": "stream",
     "text": [
      "<class 'pandas.core.frame.DataFrame'>\n",
      "RangeIndex: 23699 entries, 0 to 23698\n",
      "Data columns (total 23 columns):\n",
      " #   Column                Non-Null Count  Dtype         \n",
      "---  ------                --------------  -----         \n",
      " 0   total_images          23699 non-null  int64         \n",
      " 1   last_price            23699 non-null  float64       \n",
      " 2   total_area            23699 non-null  float64       \n",
      " 3   first_day_exposition  23699 non-null  datetime64[ns]\n",
      " 4   rooms                 23699 non-null  int64         \n",
      " 5   ceiling_height        14504 non-null  float64       \n",
      " 6   floors_total          23699 non-null  int64         \n",
      " 7   living_area           23699 non-null  float64       \n",
      " 8   floor                 23699 non-null  int64         \n",
      " 9   is_apartment          2775 non-null   object        \n",
      " 10  studio                23699 non-null  bool          \n",
      " 11  open_plan             23699 non-null  bool          \n",
      " 12  kitchen_area          23699 non-null  float64       \n",
      " 13  balcony               12180 non-null  float64       \n",
      " 14  locality_name         23650 non-null  object        \n",
      " 15  airports_nearest      18157 non-null  float64       \n",
      " 16  city_сenters_nearest  18180 non-null  float64       \n",
      " 17  parks_around3000      18181 non-null  float64       \n",
      " 18  parks_nearest         8079 non-null   float64       \n",
      " 19  ponds_around3000      18181 non-null  float64       \n",
      " 20  ponds_nearest         9110 non-null   float64       \n",
      " 21  days_exposition       20518 non-null  float64       \n",
      " 22  area_type             23699 non-null  int64         \n",
      "dtypes: bool(2), datetime64[ns](1), float64(13), int64(5), object(2)\n",
      "memory usage: 3.8+ MB\n"
     ]
    }
   ],
   "source": [
    "df.info()"
   ]
  },
  {
   "cell_type": "markdown",
   "metadata": {},
   "source": [
    "### Исправление данных"
   ]
  },
  {
   "cell_type": "markdown",
   "metadata": {},
   "source": [
    "Посмотрим более внимательно на кватиры с высотой потолка больше 15 метров"
   ]
  },
  {
   "cell_type": "code",
   "execution_count": 25,
   "metadata": {},
   "outputs": [
    {
     "data": {
      "text/html": [
       "<div>\n",
       "<style scoped>\n",
       "    .dataframe tbody tr th:only-of-type {\n",
       "        vertical-align: middle;\n",
       "    }\n",
       "\n",
       "    .dataframe tbody tr th {\n",
       "        vertical-align: top;\n",
       "    }\n",
       "\n",
       "    .dataframe thead th {\n",
       "        text-align: right;\n",
       "    }\n",
       "</style>\n",
       "<table border=\"1\" class=\"dataframe\">\n",
       "  <thead>\n",
       "    <tr style=\"text-align: right;\">\n",
       "      <th></th>\n",
       "      <th>total_images</th>\n",
       "      <th>last_price</th>\n",
       "      <th>total_area</th>\n",
       "      <th>first_day_exposition</th>\n",
       "      <th>rooms</th>\n",
       "      <th>ceiling_height</th>\n",
       "      <th>floors_total</th>\n",
       "      <th>living_area</th>\n",
       "      <th>floor</th>\n",
       "      <th>is_apartment</th>\n",
       "      <th>studio</th>\n",
       "      <th>open_plan</th>\n",
       "      <th>kitchen_area</th>\n",
       "      <th>balcony</th>\n",
       "      <th>locality_name</th>\n",
       "      <th>airports_nearest</th>\n",
       "      <th>city_сenters_nearest</th>\n",
       "      <th>parks_around3000</th>\n",
       "      <th>parks_nearest</th>\n",
       "      <th>ponds_around3000</th>\n",
       "      <th>ponds_nearest</th>\n",
       "      <th>days_exposition</th>\n",
       "      <th>area_type</th>\n",
       "    </tr>\n",
       "  </thead>\n",
       "  <tbody>\n",
       "    <tr>\n",
       "      <th>355</th>\n",
       "      <td>17</td>\n",
       "      <td>3600000.0</td>\n",
       "      <td>55.2</td>\n",
       "      <td>2018-07-12</td>\n",
       "      <td>2</td>\n",
       "      <td>25.0</td>\n",
       "      <td>5</td>\n",
       "      <td>32.0</td>\n",
       "      <td>2</td>\n",
       "      <td>False</td>\n",
       "      <td>False</td>\n",
       "      <td>False</td>\n",
       "      <td>7.9</td>\n",
       "      <td>2.0</td>\n",
       "      <td>Гатчина</td>\n",
       "      <td>NaN</td>\n",
       "      <td>NaN</td>\n",
       "      <td>NaN</td>\n",
       "      <td>NaN</td>\n",
       "      <td>NaN</td>\n",
       "      <td>NaN</td>\n",
       "      <td>259.0</td>\n",
       "      <td>60</td>\n",
       "    </tr>\n",
       "    <tr>\n",
       "      <th>3148</th>\n",
       "      <td>14</td>\n",
       "      <td>2900000.0</td>\n",
       "      <td>75.0</td>\n",
       "      <td>2018-11-12</td>\n",
       "      <td>3</td>\n",
       "      <td>32.0</td>\n",
       "      <td>3</td>\n",
       "      <td>53.0</td>\n",
       "      <td>2</td>\n",
       "      <td>NaN</td>\n",
       "      <td>False</td>\n",
       "      <td>False</td>\n",
       "      <td>8.0</td>\n",
       "      <td>NaN</td>\n",
       "      <td>Волхов</td>\n",
       "      <td>NaN</td>\n",
       "      <td>NaN</td>\n",
       "      <td>NaN</td>\n",
       "      <td>NaN</td>\n",
       "      <td>NaN</td>\n",
       "      <td>NaN</td>\n",
       "      <td>NaN</td>\n",
       "      <td>90</td>\n",
       "    </tr>\n",
       "    <tr>\n",
       "      <th>4643</th>\n",
       "      <td>0</td>\n",
       "      <td>4300000.0</td>\n",
       "      <td>45.0</td>\n",
       "      <td>2018-02-01</td>\n",
       "      <td>2</td>\n",
       "      <td>25.0</td>\n",
       "      <td>9</td>\n",
       "      <td>30.0</td>\n",
       "      <td>2</td>\n",
       "      <td>NaN</td>\n",
       "      <td>False</td>\n",
       "      <td>False</td>\n",
       "      <td>7.0</td>\n",
       "      <td>1.0</td>\n",
       "      <td>Санкт-Петербург</td>\n",
       "      <td>12016.0</td>\n",
       "      <td>13256.0</td>\n",
       "      <td>1.0</td>\n",
       "      <td>658.0</td>\n",
       "      <td>1.0</td>\n",
       "      <td>331.0</td>\n",
       "      <td>181.0</td>\n",
       "      <td>60</td>\n",
       "    </tr>\n",
       "    <tr>\n",
       "      <th>4876</th>\n",
       "      <td>7</td>\n",
       "      <td>3000000.0</td>\n",
       "      <td>25.0</td>\n",
       "      <td>2017-09-27</td>\n",
       "      <td>0</td>\n",
       "      <td>27.0</td>\n",
       "      <td>25</td>\n",
       "      <td>17.0</td>\n",
       "      <td>17</td>\n",
       "      <td>NaN</td>\n",
       "      <td>False</td>\n",
       "      <td>True</td>\n",
       "      <td>6.0</td>\n",
       "      <td>2.0</td>\n",
       "      <td>посёлок Мурино</td>\n",
       "      <td>NaN</td>\n",
       "      <td>NaN</td>\n",
       "      <td>NaN</td>\n",
       "      <td>NaN</td>\n",
       "      <td>NaN</td>\n",
       "      <td>NaN</td>\n",
       "      <td>28.0</td>\n",
       "      <td>30</td>\n",
       "    </tr>\n",
       "    <tr>\n",
       "      <th>5076</th>\n",
       "      <td>0</td>\n",
       "      <td>3850000.0</td>\n",
       "      <td>30.5</td>\n",
       "      <td>2018-10-03</td>\n",
       "      <td>1</td>\n",
       "      <td>24.0</td>\n",
       "      <td>5</td>\n",
       "      <td>19.5</td>\n",
       "      <td>1</td>\n",
       "      <td>True</td>\n",
       "      <td>False</td>\n",
       "      <td>False</td>\n",
       "      <td>5.5</td>\n",
       "      <td>NaN</td>\n",
       "      <td>Санкт-Петербург</td>\n",
       "      <td>29686.0</td>\n",
       "      <td>8389.0</td>\n",
       "      <td>3.0</td>\n",
       "      <td>397.0</td>\n",
       "      <td>1.0</td>\n",
       "      <td>578.0</td>\n",
       "      <td>7.0</td>\n",
       "      <td>60</td>\n",
       "    </tr>\n",
       "    <tr>\n",
       "      <th>5246</th>\n",
       "      <td>0</td>\n",
       "      <td>2500000.0</td>\n",
       "      <td>54.0</td>\n",
       "      <td>2017-10-13</td>\n",
       "      <td>2</td>\n",
       "      <td>27.0</td>\n",
       "      <td>5</td>\n",
       "      <td>30.0</td>\n",
       "      <td>3</td>\n",
       "      <td>NaN</td>\n",
       "      <td>False</td>\n",
       "      <td>False</td>\n",
       "      <td>9.0</td>\n",
       "      <td>2.0</td>\n",
       "      <td>деревня Мины</td>\n",
       "      <td>NaN</td>\n",
       "      <td>NaN</td>\n",
       "      <td>NaN</td>\n",
       "      <td>NaN</td>\n",
       "      <td>NaN</td>\n",
       "      <td>NaN</td>\n",
       "      <td>540.0</td>\n",
       "      <td>60</td>\n",
       "    </tr>\n",
       "    <tr>\n",
       "      <th>5669</th>\n",
       "      <td>4</td>\n",
       "      <td>4400000.0</td>\n",
       "      <td>50.0</td>\n",
       "      <td>2017-08-08</td>\n",
       "      <td>2</td>\n",
       "      <td>26.0</td>\n",
       "      <td>9</td>\n",
       "      <td>21.3</td>\n",
       "      <td>3</td>\n",
       "      <td>NaN</td>\n",
       "      <td>False</td>\n",
       "      <td>False</td>\n",
       "      <td>7.0</td>\n",
       "      <td>2.0</td>\n",
       "      <td>Санкт-Петербург</td>\n",
       "      <td>28981.0</td>\n",
       "      <td>10912.0</td>\n",
       "      <td>1.0</td>\n",
       "      <td>305.0</td>\n",
       "      <td>0.0</td>\n",
       "      <td>NaN</td>\n",
       "      <td>267.0</td>\n",
       "      <td>60</td>\n",
       "    </tr>\n",
       "    <tr>\n",
       "      <th>5807</th>\n",
       "      <td>17</td>\n",
       "      <td>8150000.0</td>\n",
       "      <td>80.0</td>\n",
       "      <td>2019-01-09</td>\n",
       "      <td>2</td>\n",
       "      <td>27.0</td>\n",
       "      <td>36</td>\n",
       "      <td>41.0</td>\n",
       "      <td>13</td>\n",
       "      <td>NaN</td>\n",
       "      <td>False</td>\n",
       "      <td>False</td>\n",
       "      <td>12.0</td>\n",
       "      <td>5.0</td>\n",
       "      <td>Санкт-Петербург</td>\n",
       "      <td>18732.0</td>\n",
       "      <td>20444.0</td>\n",
       "      <td>0.0</td>\n",
       "      <td>NaN</td>\n",
       "      <td>3.0</td>\n",
       "      <td>80.0</td>\n",
       "      <td>38.0</td>\n",
       "      <td>90</td>\n",
       "    </tr>\n",
       "    <tr>\n",
       "      <th>6246</th>\n",
       "      <td>6</td>\n",
       "      <td>3300000.0</td>\n",
       "      <td>44.4</td>\n",
       "      <td>2019-03-25</td>\n",
       "      <td>2</td>\n",
       "      <td>25.0</td>\n",
       "      <td>5</td>\n",
       "      <td>31.3</td>\n",
       "      <td>5</td>\n",
       "      <td>NaN</td>\n",
       "      <td>False</td>\n",
       "      <td>False</td>\n",
       "      <td>5.7</td>\n",
       "      <td>NaN</td>\n",
       "      <td>Кронштадт</td>\n",
       "      <td>68923.0</td>\n",
       "      <td>50649.0</td>\n",
       "      <td>1.0</td>\n",
       "      <td>417.0</td>\n",
       "      <td>2.0</td>\n",
       "      <td>73.0</td>\n",
       "      <td>NaN</td>\n",
       "      <td>60</td>\n",
       "    </tr>\n",
       "    <tr>\n",
       "      <th>9379</th>\n",
       "      <td>5</td>\n",
       "      <td>3950000.0</td>\n",
       "      <td>42.0</td>\n",
       "      <td>2017-03-26</td>\n",
       "      <td>3</td>\n",
       "      <td>25.0</td>\n",
       "      <td>5</td>\n",
       "      <td>30.0</td>\n",
       "      <td>2</td>\n",
       "      <td>NaN</td>\n",
       "      <td>False</td>\n",
       "      <td>False</td>\n",
       "      <td>5.2</td>\n",
       "      <td>NaN</td>\n",
       "      <td>Санкт-Петербург</td>\n",
       "      <td>11647.0</td>\n",
       "      <td>13581.0</td>\n",
       "      <td>0.0</td>\n",
       "      <td>NaN</td>\n",
       "      <td>0.0</td>\n",
       "      <td>NaN</td>\n",
       "      <td>NaN</td>\n",
       "      <td>60</td>\n",
       "    </tr>\n",
       "    <tr>\n",
       "      <th>10773</th>\n",
       "      <td>8</td>\n",
       "      <td>3800000.0</td>\n",
       "      <td>58.0</td>\n",
       "      <td>2017-10-13</td>\n",
       "      <td>2</td>\n",
       "      <td>27.0</td>\n",
       "      <td>10</td>\n",
       "      <td>30.1</td>\n",
       "      <td>3</td>\n",
       "      <td>False</td>\n",
       "      <td>False</td>\n",
       "      <td>False</td>\n",
       "      <td>8.1</td>\n",
       "      <td>2.0</td>\n",
       "      <td>посёлок Мурино</td>\n",
       "      <td>NaN</td>\n",
       "      <td>NaN</td>\n",
       "      <td>NaN</td>\n",
       "      <td>NaN</td>\n",
       "      <td>NaN</td>\n",
       "      <td>NaN</td>\n",
       "      <td>71.0</td>\n",
       "      <td>60</td>\n",
       "    </tr>\n",
       "    <tr>\n",
       "      <th>11285</th>\n",
       "      <td>0</td>\n",
       "      <td>1950000.0</td>\n",
       "      <td>37.0</td>\n",
       "      <td>2019-03-20</td>\n",
       "      <td>1</td>\n",
       "      <td>25.0</td>\n",
       "      <td>5</td>\n",
       "      <td>17.0</td>\n",
       "      <td>4</td>\n",
       "      <td>False</td>\n",
       "      <td>False</td>\n",
       "      <td>False</td>\n",
       "      <td>9.0</td>\n",
       "      <td>2.0</td>\n",
       "      <td>Луга</td>\n",
       "      <td>NaN</td>\n",
       "      <td>NaN</td>\n",
       "      <td>NaN</td>\n",
       "      <td>NaN</td>\n",
       "      <td>NaN</td>\n",
       "      <td>NaN</td>\n",
       "      <td>18.0</td>\n",
       "      <td>60</td>\n",
       "    </tr>\n",
       "    <tr>\n",
       "      <th>14382</th>\n",
       "      <td>9</td>\n",
       "      <td>1700000.0</td>\n",
       "      <td>35.0</td>\n",
       "      <td>2015-12-04</td>\n",
       "      <td>1</td>\n",
       "      <td>25.0</td>\n",
       "      <td>5</td>\n",
       "      <td>20.0</td>\n",
       "      <td>2</td>\n",
       "      <td>False</td>\n",
       "      <td>False</td>\n",
       "      <td>False</td>\n",
       "      <td>8.0</td>\n",
       "      <td>1.0</td>\n",
       "      <td>поселок Новый Свет</td>\n",
       "      <td>NaN</td>\n",
       "      <td>NaN</td>\n",
       "      <td>NaN</td>\n",
       "      <td>NaN</td>\n",
       "      <td>NaN</td>\n",
       "      <td>NaN</td>\n",
       "      <td>206.0</td>\n",
       "      <td>60</td>\n",
       "    </tr>\n",
       "    <tr>\n",
       "      <th>17496</th>\n",
       "      <td>15</td>\n",
       "      <td>6700000.0</td>\n",
       "      <td>92.9</td>\n",
       "      <td>2019-02-19</td>\n",
       "      <td>3</td>\n",
       "      <td>20.0</td>\n",
       "      <td>17</td>\n",
       "      <td>53.2</td>\n",
       "      <td>14</td>\n",
       "      <td>NaN</td>\n",
       "      <td>False</td>\n",
       "      <td>False</td>\n",
       "      <td>12.0</td>\n",
       "      <td>5.0</td>\n",
       "      <td>Санкт-Петербург</td>\n",
       "      <td>16295.0</td>\n",
       "      <td>15092.0</td>\n",
       "      <td>1.0</td>\n",
       "      <td>967.0</td>\n",
       "      <td>0.0</td>\n",
       "      <td>NaN</td>\n",
       "      <td>NaN</td>\n",
       "      <td>120</td>\n",
       "    </tr>\n",
       "    <tr>\n",
       "      <th>17857</th>\n",
       "      <td>1</td>\n",
       "      <td>3900000.0</td>\n",
       "      <td>56.0</td>\n",
       "      <td>2017-12-22</td>\n",
       "      <td>3</td>\n",
       "      <td>27.0</td>\n",
       "      <td>5</td>\n",
       "      <td>33.0</td>\n",
       "      <td>4</td>\n",
       "      <td>False</td>\n",
       "      <td>False</td>\n",
       "      <td>False</td>\n",
       "      <td>6.1</td>\n",
       "      <td>NaN</td>\n",
       "      <td>Санкт-Петербург</td>\n",
       "      <td>41030.0</td>\n",
       "      <td>15543.0</td>\n",
       "      <td>0.0</td>\n",
       "      <td>NaN</td>\n",
       "      <td>0.0</td>\n",
       "      <td>NaN</td>\n",
       "      <td>73.0</td>\n",
       "      <td>60</td>\n",
       "    </tr>\n",
       "    <tr>\n",
       "      <th>18545</th>\n",
       "      <td>6</td>\n",
       "      <td>3750000.0</td>\n",
       "      <td>43.0</td>\n",
       "      <td>2019-03-18</td>\n",
       "      <td>2</td>\n",
       "      <td>25.0</td>\n",
       "      <td>5</td>\n",
       "      <td>29.0</td>\n",
       "      <td>3</td>\n",
       "      <td>False</td>\n",
       "      <td>False</td>\n",
       "      <td>False</td>\n",
       "      <td>7.9</td>\n",
       "      <td>NaN</td>\n",
       "      <td>Санкт-Петербург</td>\n",
       "      <td>27054.0</td>\n",
       "      <td>8033.0</td>\n",
       "      <td>1.0</td>\n",
       "      <td>540.0</td>\n",
       "      <td>0.0</td>\n",
       "      <td>NaN</td>\n",
       "      <td>12.0</td>\n",
       "      <td>60</td>\n",
       "    </tr>\n",
       "    <tr>\n",
       "      <th>20478</th>\n",
       "      <td>11</td>\n",
       "      <td>8000000.0</td>\n",
       "      <td>45.0</td>\n",
       "      <td>2017-07-18</td>\n",
       "      <td>1</td>\n",
       "      <td>27.0</td>\n",
       "      <td>4</td>\n",
       "      <td>22.0</td>\n",
       "      <td>2</td>\n",
       "      <td>NaN</td>\n",
       "      <td>False</td>\n",
       "      <td>False</td>\n",
       "      <td>10.0</td>\n",
       "      <td>1.0</td>\n",
       "      <td>Санкт-Петербург</td>\n",
       "      <td>18975.0</td>\n",
       "      <td>3246.0</td>\n",
       "      <td>0.0</td>\n",
       "      <td>NaN</td>\n",
       "      <td>3.0</td>\n",
       "      <td>449.0</td>\n",
       "      <td>429.0</td>\n",
       "      <td>60</td>\n",
       "    </tr>\n",
       "    <tr>\n",
       "      <th>20507</th>\n",
       "      <td>12</td>\n",
       "      <td>5950000.0</td>\n",
       "      <td>60.0</td>\n",
       "      <td>2018-02-19</td>\n",
       "      <td>2</td>\n",
       "      <td>22.6</td>\n",
       "      <td>14</td>\n",
       "      <td>35.0</td>\n",
       "      <td>11</td>\n",
       "      <td>NaN</td>\n",
       "      <td>False</td>\n",
       "      <td>False</td>\n",
       "      <td>13.0</td>\n",
       "      <td>1.0</td>\n",
       "      <td>Санкт-Петербург</td>\n",
       "      <td>27028.0</td>\n",
       "      <td>12570.0</td>\n",
       "      <td>0.0</td>\n",
       "      <td>NaN</td>\n",
       "      <td>0.0</td>\n",
       "      <td>NaN</td>\n",
       "      <td>40.0</td>\n",
       "      <td>60</td>\n",
       "    </tr>\n",
       "    <tr>\n",
       "      <th>21377</th>\n",
       "      <td>19</td>\n",
       "      <td>4900000.0</td>\n",
       "      <td>42.0</td>\n",
       "      <td>2017-04-18</td>\n",
       "      <td>1</td>\n",
       "      <td>27.5</td>\n",
       "      <td>24</td>\n",
       "      <td>37.7</td>\n",
       "      <td>19</td>\n",
       "      <td>False</td>\n",
       "      <td>False</td>\n",
       "      <td>False</td>\n",
       "      <td>11.0</td>\n",
       "      <td>2.0</td>\n",
       "      <td>Санкт-Петербург</td>\n",
       "      <td>42742.0</td>\n",
       "      <td>9760.0</td>\n",
       "      <td>0.0</td>\n",
       "      <td>NaN</td>\n",
       "      <td>0.0</td>\n",
       "      <td>NaN</td>\n",
       "      <td>61.0</td>\n",
       "      <td>60</td>\n",
       "    </tr>\n",
       "    <tr>\n",
       "      <th>21824</th>\n",
       "      <td>20</td>\n",
       "      <td>2450000.0</td>\n",
       "      <td>44.0</td>\n",
       "      <td>2019-02-12</td>\n",
       "      <td>2</td>\n",
       "      <td>27.0</td>\n",
       "      <td>2</td>\n",
       "      <td>38.0</td>\n",
       "      <td>2</td>\n",
       "      <td>False</td>\n",
       "      <td>False</td>\n",
       "      <td>False</td>\n",
       "      <td>8.6</td>\n",
       "      <td>2.0</td>\n",
       "      <td>городской поселок Большая Ижора</td>\n",
       "      <td>NaN</td>\n",
       "      <td>NaN</td>\n",
       "      <td>NaN</td>\n",
       "      <td>NaN</td>\n",
       "      <td>NaN</td>\n",
       "      <td>NaN</td>\n",
       "      <td>NaN</td>\n",
       "      <td>60</td>\n",
       "    </tr>\n",
       "    <tr>\n",
       "      <th>22336</th>\n",
       "      <td>19</td>\n",
       "      <td>9999000.0</td>\n",
       "      <td>92.4</td>\n",
       "      <td>2019-04-05</td>\n",
       "      <td>2</td>\n",
       "      <td>32.0</td>\n",
       "      <td>6</td>\n",
       "      <td>55.5</td>\n",
       "      <td>5</td>\n",
       "      <td>False</td>\n",
       "      <td>False</td>\n",
       "      <td>False</td>\n",
       "      <td>16.5</td>\n",
       "      <td>4.0</td>\n",
       "      <td>Санкт-Петербург</td>\n",
       "      <td>18838.0</td>\n",
       "      <td>3506.0</td>\n",
       "      <td>0.0</td>\n",
       "      <td>NaN</td>\n",
       "      <td>3.0</td>\n",
       "      <td>511.0</td>\n",
       "      <td>NaN</td>\n",
       "      <td>120</td>\n",
       "    </tr>\n",
       "    <tr>\n",
       "      <th>22869</th>\n",
       "      <td>0</td>\n",
       "      <td>15000000.0</td>\n",
       "      <td>25.0</td>\n",
       "      <td>2018-07-25</td>\n",
       "      <td>1</td>\n",
       "      <td>100.0</td>\n",
       "      <td>5</td>\n",
       "      <td>14.0</td>\n",
       "      <td>5</td>\n",
       "      <td>True</td>\n",
       "      <td>False</td>\n",
       "      <td>False</td>\n",
       "      <td>11.0</td>\n",
       "      <td>5.0</td>\n",
       "      <td>Санкт-Петербург</td>\n",
       "      <td>34963.0</td>\n",
       "      <td>8283.0</td>\n",
       "      <td>1.0</td>\n",
       "      <td>223.0</td>\n",
       "      <td>3.0</td>\n",
       "      <td>30.0</td>\n",
       "      <td>19.0</td>\n",
       "      <td>30</td>\n",
       "    </tr>\n",
       "    <tr>\n",
       "      <th>22938</th>\n",
       "      <td>14</td>\n",
       "      <td>4000000.0</td>\n",
       "      <td>98.0</td>\n",
       "      <td>2018-03-15</td>\n",
       "      <td>4</td>\n",
       "      <td>27.0</td>\n",
       "      <td>2</td>\n",
       "      <td>73.0</td>\n",
       "      <td>2</td>\n",
       "      <td>True</td>\n",
       "      <td>False</td>\n",
       "      <td>False</td>\n",
       "      <td>9.0</td>\n",
       "      <td>1.0</td>\n",
       "      <td>деревня Нижняя</td>\n",
       "      <td>NaN</td>\n",
       "      <td>NaN</td>\n",
       "      <td>NaN</td>\n",
       "      <td>NaN</td>\n",
       "      <td>NaN</td>\n",
       "      <td>NaN</td>\n",
       "      <td>27.0</td>\n",
       "      <td>120</td>\n",
       "    </tr>\n",
       "  </tbody>\n",
       "</table>\n",
       "</div>"
      ],
      "text/plain": [
       "       total_images  last_price  total_area first_day_exposition  rooms  \\\n",
       "355              17   3600000.0        55.2           2018-07-12      2   \n",
       "3148             14   2900000.0        75.0           2018-11-12      3   \n",
       "4643              0   4300000.0        45.0           2018-02-01      2   \n",
       "4876              7   3000000.0        25.0           2017-09-27      0   \n",
       "5076              0   3850000.0        30.5           2018-10-03      1   \n",
       "5246              0   2500000.0        54.0           2017-10-13      2   \n",
       "5669              4   4400000.0        50.0           2017-08-08      2   \n",
       "5807             17   8150000.0        80.0           2019-01-09      2   \n",
       "6246              6   3300000.0        44.4           2019-03-25      2   \n",
       "9379              5   3950000.0        42.0           2017-03-26      3   \n",
       "10773             8   3800000.0        58.0           2017-10-13      2   \n",
       "11285             0   1950000.0        37.0           2019-03-20      1   \n",
       "14382             9   1700000.0        35.0           2015-12-04      1   \n",
       "17496            15   6700000.0        92.9           2019-02-19      3   \n",
       "17857             1   3900000.0        56.0           2017-12-22      3   \n",
       "18545             6   3750000.0        43.0           2019-03-18      2   \n",
       "20478            11   8000000.0        45.0           2017-07-18      1   \n",
       "20507            12   5950000.0        60.0           2018-02-19      2   \n",
       "21377            19   4900000.0        42.0           2017-04-18      1   \n",
       "21824            20   2450000.0        44.0           2019-02-12      2   \n",
       "22336            19   9999000.0        92.4           2019-04-05      2   \n",
       "22869             0  15000000.0        25.0           2018-07-25      1   \n",
       "22938            14   4000000.0        98.0           2018-03-15      4   \n",
       "\n",
       "       ceiling_height  floors_total  living_area  floor is_apartment  studio  \\\n",
       "355              25.0             5         32.0      2        False   False   \n",
       "3148             32.0             3         53.0      2          NaN   False   \n",
       "4643             25.0             9         30.0      2          NaN   False   \n",
       "4876             27.0            25         17.0     17          NaN   False   \n",
       "5076             24.0             5         19.5      1         True   False   \n",
       "5246             27.0             5         30.0      3          NaN   False   \n",
       "5669             26.0             9         21.3      3          NaN   False   \n",
       "5807             27.0            36         41.0     13          NaN   False   \n",
       "6246             25.0             5         31.3      5          NaN   False   \n",
       "9379             25.0             5         30.0      2          NaN   False   \n",
       "10773            27.0            10         30.1      3        False   False   \n",
       "11285            25.0             5         17.0      4        False   False   \n",
       "14382            25.0             5         20.0      2        False   False   \n",
       "17496            20.0            17         53.2     14          NaN   False   \n",
       "17857            27.0             5         33.0      4        False   False   \n",
       "18545            25.0             5         29.0      3        False   False   \n",
       "20478            27.0             4         22.0      2          NaN   False   \n",
       "20507            22.6            14         35.0     11          NaN   False   \n",
       "21377            27.5            24         37.7     19        False   False   \n",
       "21824            27.0             2         38.0      2        False   False   \n",
       "22336            32.0             6         55.5      5        False   False   \n",
       "22869           100.0             5         14.0      5         True   False   \n",
       "22938            27.0             2         73.0      2         True   False   \n",
       "\n",
       "       open_plan  kitchen_area  balcony                    locality_name  \\\n",
       "355        False           7.9      2.0                          Гатчина   \n",
       "3148       False           8.0      NaN                           Волхов   \n",
       "4643       False           7.0      1.0                  Санкт-Петербург   \n",
       "4876        True           6.0      2.0                   посёлок Мурино   \n",
       "5076       False           5.5      NaN                  Санкт-Петербург   \n",
       "5246       False           9.0      2.0                     деревня Мины   \n",
       "5669       False           7.0      2.0                  Санкт-Петербург   \n",
       "5807       False          12.0      5.0                  Санкт-Петербург   \n",
       "6246       False           5.7      NaN                        Кронштадт   \n",
       "9379       False           5.2      NaN                  Санкт-Петербург   \n",
       "10773      False           8.1      2.0                   посёлок Мурино   \n",
       "11285      False           9.0      2.0                             Луга   \n",
       "14382      False           8.0      1.0               поселок Новый Свет   \n",
       "17496      False          12.0      5.0                  Санкт-Петербург   \n",
       "17857      False           6.1      NaN                  Санкт-Петербург   \n",
       "18545      False           7.9      NaN                  Санкт-Петербург   \n",
       "20478      False          10.0      1.0                  Санкт-Петербург   \n",
       "20507      False          13.0      1.0                  Санкт-Петербург   \n",
       "21377      False          11.0      2.0                  Санкт-Петербург   \n",
       "21824      False           8.6      2.0  городской поселок Большая Ижора   \n",
       "22336      False          16.5      4.0                  Санкт-Петербург   \n",
       "22869      False          11.0      5.0                  Санкт-Петербург   \n",
       "22938      False           9.0      1.0                   деревня Нижняя   \n",
       "\n",
       "       airports_nearest  city_сenters_nearest  parks_around3000  \\\n",
       "355                 NaN                   NaN               NaN   \n",
       "3148                NaN                   NaN               NaN   \n",
       "4643            12016.0               13256.0               1.0   \n",
       "4876                NaN                   NaN               NaN   \n",
       "5076            29686.0                8389.0               3.0   \n",
       "5246                NaN                   NaN               NaN   \n",
       "5669            28981.0               10912.0               1.0   \n",
       "5807            18732.0               20444.0               0.0   \n",
       "6246            68923.0               50649.0               1.0   \n",
       "9379            11647.0               13581.0               0.0   \n",
       "10773               NaN                   NaN               NaN   \n",
       "11285               NaN                   NaN               NaN   \n",
       "14382               NaN                   NaN               NaN   \n",
       "17496           16295.0               15092.0               1.0   \n",
       "17857           41030.0               15543.0               0.0   \n",
       "18545           27054.0                8033.0               1.0   \n",
       "20478           18975.0                3246.0               0.0   \n",
       "20507           27028.0               12570.0               0.0   \n",
       "21377           42742.0                9760.0               0.0   \n",
       "21824               NaN                   NaN               NaN   \n",
       "22336           18838.0                3506.0               0.0   \n",
       "22869           34963.0                8283.0               1.0   \n",
       "22938               NaN                   NaN               NaN   \n",
       "\n",
       "       parks_nearest  ponds_around3000  ponds_nearest  days_exposition  \\\n",
       "355              NaN               NaN            NaN            259.0   \n",
       "3148             NaN               NaN            NaN              NaN   \n",
       "4643           658.0               1.0          331.0            181.0   \n",
       "4876             NaN               NaN            NaN             28.0   \n",
       "5076           397.0               1.0          578.0              7.0   \n",
       "5246             NaN               NaN            NaN            540.0   \n",
       "5669           305.0               0.0            NaN            267.0   \n",
       "5807             NaN               3.0           80.0             38.0   \n",
       "6246           417.0               2.0           73.0              NaN   \n",
       "9379             NaN               0.0            NaN              NaN   \n",
       "10773            NaN               NaN            NaN             71.0   \n",
       "11285            NaN               NaN            NaN             18.0   \n",
       "14382            NaN               NaN            NaN            206.0   \n",
       "17496          967.0               0.0            NaN              NaN   \n",
       "17857            NaN               0.0            NaN             73.0   \n",
       "18545          540.0               0.0            NaN             12.0   \n",
       "20478            NaN               3.0          449.0            429.0   \n",
       "20507            NaN               0.0            NaN             40.0   \n",
       "21377            NaN               0.0            NaN             61.0   \n",
       "21824            NaN               NaN            NaN              NaN   \n",
       "22336            NaN               3.0          511.0              NaN   \n",
       "22869          223.0               3.0           30.0             19.0   \n",
       "22938            NaN               NaN            NaN             27.0   \n",
       "\n",
       "       area_type  \n",
       "355           60  \n",
       "3148          90  \n",
       "4643          60  \n",
       "4876          30  \n",
       "5076          60  \n",
       "5246          60  \n",
       "5669          60  \n",
       "5807          90  \n",
       "6246          60  \n",
       "9379          60  \n",
       "10773         60  \n",
       "11285         60  \n",
       "14382         60  \n",
       "17496        120  \n",
       "17857         60  \n",
       "18545         60  \n",
       "20478         60  \n",
       "20507         60  \n",
       "21377         60  \n",
       "21824         60  \n",
       "22336        120  \n",
       "22869         30  \n",
       "22938        120  "
      ]
     },
     "execution_count": 25,
     "metadata": {},
     "output_type": "execute_result"
    }
   ],
   "source": [
    "df[df['ceiling_height'] > 15]"
   ]
  },
  {
   "cell_type": "markdown",
   "metadata": {},
   "source": [
    "Можно предположить, что при вводе значения позникла ошибка и в результате которой значение стало больше нужно в 10 раз. Разделим эти значения на 10"
   ]
  },
  {
   "cell_type": "code",
   "execution_count": 26,
   "metadata": {},
   "outputs": [],
   "source": [
    "df.loc[df['ceiling_height'] > 15, 'ceiling_height'] = df.loc[df['ceiling_height'] > 15, 'ceiling_height'] / 10"
   ]
  },
  {
   "cell_type": "code",
   "execution_count": 27,
   "metadata": {
    "scrolled": true
   },
   "outputs": [
    {
     "data": {
      "text/html": [
       "<div>\n",
       "<style scoped>\n",
       "    .dataframe tbody tr th:only-of-type {\n",
       "        vertical-align: middle;\n",
       "    }\n",
       "\n",
       "    .dataframe tbody tr th {\n",
       "        vertical-align: top;\n",
       "    }\n",
       "\n",
       "    .dataframe thead th {\n",
       "        text-align: right;\n",
       "    }\n",
       "</style>\n",
       "<table border=\"1\" class=\"dataframe\">\n",
       "  <thead>\n",
       "    <tr style=\"text-align: right;\">\n",
       "      <th></th>\n",
       "      <th>total_images</th>\n",
       "      <th>last_price</th>\n",
       "      <th>total_area</th>\n",
       "      <th>first_day_exposition</th>\n",
       "      <th>rooms</th>\n",
       "      <th>ceiling_height</th>\n",
       "      <th>floors_total</th>\n",
       "      <th>living_area</th>\n",
       "      <th>floor</th>\n",
       "      <th>is_apartment</th>\n",
       "      <th>studio</th>\n",
       "      <th>open_plan</th>\n",
       "      <th>kitchen_area</th>\n",
       "      <th>balcony</th>\n",
       "      <th>locality_name</th>\n",
       "      <th>airports_nearest</th>\n",
       "      <th>city_сenters_nearest</th>\n",
       "      <th>parks_around3000</th>\n",
       "      <th>parks_nearest</th>\n",
       "      <th>ponds_around3000</th>\n",
       "      <th>ponds_nearest</th>\n",
       "      <th>days_exposition</th>\n",
       "      <th>area_type</th>\n",
       "    </tr>\n",
       "  </thead>\n",
       "  <tbody>\n",
       "  </tbody>\n",
       "</table>\n",
       "</div>"
      ],
      "text/plain": [
       "Empty DataFrame\n",
       "Columns: [total_images, last_price, total_area, first_day_exposition, rooms, ceiling_height, floors_total, living_area, floor, is_apartment, studio, open_plan, kitchen_area, balcony, locality_name, airports_nearest, city_сenters_nearest, parks_around3000, parks_nearest, ponds_around3000, ponds_nearest, days_exposition, area_type]\n",
       "Index: []"
      ]
     },
     "execution_count": 27,
     "metadata": {},
     "output_type": "execute_result"
    }
   ],
   "source": [
    "df[df['ceiling_height'] > 15]"
   ]
  },
  {
   "cell_type": "markdown",
   "metadata": {},
   "source": [
    "## Расчёты и добавление результатов в таблицу"
   ]
  },
  {
   "cell_type": "markdown",
   "metadata": {},
   "source": [
    "#### Расчет стоимости квадратного метра"
   ]
  },
  {
   "cell_type": "markdown",
   "metadata": {},
   "source": [
    "Расчитаем стоимость квадратного метра"
   ]
  },
  {
   "cell_type": "code",
   "execution_count": 28,
   "metadata": {},
   "outputs": [],
   "source": [
    "df['square_meter_cost'] = df['last_price'] / df['total_area']"
   ]
  },
  {
   "cell_type": "markdown",
   "metadata": {},
   "source": [
    "#### Обработаем дату/время время публикации объявления"
   ]
  },
  {
   "cell_type": "markdown",
   "metadata": {},
   "source": [
    "Добавим в таблицу день недели, месяц и год публикации объявления"
   ]
  },
  {
   "cell_type": "code",
   "execution_count": 29,
   "metadata": {},
   "outputs": [],
   "source": [
    "df['publication_week_day'] = df['first_day_exposition'].dt.weekday"
   ]
  },
  {
   "cell_type": "code",
   "execution_count": 30,
   "metadata": {},
   "outputs": [],
   "source": [
    "df['publication_month'] = df['first_day_exposition'].dt.month"
   ]
  },
  {
   "cell_type": "code",
   "execution_count": 31,
   "metadata": {},
   "outputs": [],
   "source": [
    "df['publication_year'] = df['first_day_exposition'].dt.year"
   ]
  },
  {
   "cell_type": "markdown",
   "metadata": {},
   "source": [
    "#### Категоризация этажа"
   ]
  },
  {
   "cell_type": "markdown",
   "metadata": {},
   "source": [
    "Добавим в таблицу: этаж квартиры — первый (1), последний(0), другой(2)"
   ]
  },
  {
   "cell_type": "code",
   "execution_count": 33,
   "metadata": {},
   "outputs": [],
   "source": [
    "def floor_type(row):\n",
    "    floors_total = row['floors_total']\n",
    "    floor = row['floor']\n",
    "    \n",
    "    if floor == 1:\n",
    "        return 'первый'\n",
    "    \n",
    "    if floor == floors_total:\n",
    "        return 'последний'\n",
    "    \n",
    "    return 'другой'\n",
    "\n",
    "df['floor_type'] = df.apply(floor_type, axis=1) "
   ]
  },
  {
   "cell_type": "markdown",
   "metadata": {},
   "source": [
    "Проверим"
   ]
  },
  {
   "cell_type": "code",
   "execution_count": 34,
   "metadata": {},
   "outputs": [
    {
     "data": {
      "text/html": [
       "<div>\n",
       "<style scoped>\n",
       "    .dataframe tbody tr th:only-of-type {\n",
       "        vertical-align: middle;\n",
       "    }\n",
       "\n",
       "    .dataframe tbody tr th {\n",
       "        vertical-align: top;\n",
       "    }\n",
       "\n",
       "    .dataframe thead th {\n",
       "        text-align: right;\n",
       "    }\n",
       "</style>\n",
       "<table border=\"1\" class=\"dataframe\">\n",
       "  <thead>\n",
       "    <tr style=\"text-align: right;\">\n",
       "      <th></th>\n",
       "      <th>floors_total</th>\n",
       "      <th>floor</th>\n",
       "      <th>floor_type</th>\n",
       "    </tr>\n",
       "  </thead>\n",
       "  <tbody>\n",
       "    <tr>\n",
       "      <th>0</th>\n",
       "      <td>16</td>\n",
       "      <td>8</td>\n",
       "      <td>другой</td>\n",
       "    </tr>\n",
       "    <tr>\n",
       "      <th>1</th>\n",
       "      <td>11</td>\n",
       "      <td>1</td>\n",
       "      <td>первый</td>\n",
       "    </tr>\n",
       "    <tr>\n",
       "      <th>2</th>\n",
       "      <td>5</td>\n",
       "      <td>4</td>\n",
       "      <td>другой</td>\n",
       "    </tr>\n",
       "    <tr>\n",
       "      <th>3</th>\n",
       "      <td>14</td>\n",
       "      <td>9</td>\n",
       "      <td>другой</td>\n",
       "    </tr>\n",
       "    <tr>\n",
       "      <th>4</th>\n",
       "      <td>14</td>\n",
       "      <td>13</td>\n",
       "      <td>другой</td>\n",
       "    </tr>\n",
       "    <tr>\n",
       "      <th>5</th>\n",
       "      <td>12</td>\n",
       "      <td>5</td>\n",
       "      <td>другой</td>\n",
       "    </tr>\n",
       "    <tr>\n",
       "      <th>6</th>\n",
       "      <td>26</td>\n",
       "      <td>6</td>\n",
       "      <td>другой</td>\n",
       "    </tr>\n",
       "    <tr>\n",
       "      <th>7</th>\n",
       "      <td>24</td>\n",
       "      <td>22</td>\n",
       "      <td>другой</td>\n",
       "    </tr>\n",
       "    <tr>\n",
       "      <th>8</th>\n",
       "      <td>27</td>\n",
       "      <td>26</td>\n",
       "      <td>другой</td>\n",
       "    </tr>\n",
       "    <tr>\n",
       "      <th>9</th>\n",
       "      <td>9</td>\n",
       "      <td>7</td>\n",
       "      <td>другой</td>\n",
       "    </tr>\n",
       "    <tr>\n",
       "      <th>10</th>\n",
       "      <td>12</td>\n",
       "      <td>3</td>\n",
       "      <td>другой</td>\n",
       "    </tr>\n",
       "    <tr>\n",
       "      <th>12</th>\n",
       "      <td>5</td>\n",
       "      <td>5</td>\n",
       "      <td>последний</td>\n",
       "    </tr>\n",
       "    <tr>\n",
       "      <th>14</th>\n",
       "      <td>6</td>\n",
       "      <td>1</td>\n",
       "      <td>первый</td>\n",
       "    </tr>\n",
       "    <tr>\n",
       "      <th>15</th>\n",
       "      <td>14</td>\n",
       "      <td>5</td>\n",
       "      <td>другой</td>\n",
       "    </tr>\n",
       "    <tr>\n",
       "      <th>16</th>\n",
       "      <td>5</td>\n",
       "      <td>1</td>\n",
       "      <td>первый</td>\n",
       "    </tr>\n",
       "    <tr>\n",
       "      <th>17</th>\n",
       "      <td>17</td>\n",
       "      <td>7</td>\n",
       "      <td>другой</td>\n",
       "    </tr>\n",
       "    <tr>\n",
       "      <th>18</th>\n",
       "      <td>5</td>\n",
       "      <td>2</td>\n",
       "      <td>другой</td>\n",
       "    </tr>\n",
       "    <tr>\n",
       "      <th>20</th>\n",
       "      <td>27</td>\n",
       "      <td>11</td>\n",
       "      <td>другой</td>\n",
       "    </tr>\n",
       "    <tr>\n",
       "      <th>22</th>\n",
       "      <td>25</td>\n",
       "      <td>15</td>\n",
       "      <td>другой</td>\n",
       "    </tr>\n",
       "    <tr>\n",
       "      <th>23</th>\n",
       "      <td>9</td>\n",
       "      <td>9</td>\n",
       "      <td>последний</td>\n",
       "    </tr>\n",
       "  </tbody>\n",
       "</table>\n",
       "</div>"
      ],
      "text/plain": [
       "    floors_total  floor floor_type\n",
       "0             16      8     другой\n",
       "1             11      1     первый\n",
       "2              5      4     другой\n",
       "3             14      9     другой\n",
       "4             14     13     другой\n",
       "5             12      5     другой\n",
       "6             26      6     другой\n",
       "7             24     22     другой\n",
       "8             27     26     другой\n",
       "9              9      7     другой\n",
       "10            12      3     другой\n",
       "12             5      5  последний\n",
       "14             6      1     первый\n",
       "15            14      5     другой\n",
       "16             5      1     первый\n",
       "17            17      7     другой\n",
       "18             5      2     другой\n",
       "20            27     11     другой\n",
       "22            25     15     другой\n",
       "23             9      9  последний"
      ]
     },
     "execution_count": 34,
     "metadata": {},
     "output_type": "execute_result"
    }
   ],
   "source": [
    "df[['floors_total', 'floor', 'floor_type']].drop_duplicates().head(20)"
   ]
  },
  {
   "cell_type": "markdown",
   "metadata": {},
   "source": [
    "#### Соотношение площадей"
   ]
  },
  {
   "cell_type": "markdown",
   "metadata": {},
   "source": [
    " Добавим в таблицу соотношение жилой и общей площади, а также отношение площади кухни к общей"
   ]
  },
  {
   "cell_type": "code",
   "execution_count": 35,
   "metadata": {},
   "outputs": [],
   "source": [
    "df['living_to_all_area'] = df['living_area'] / df['total_area']\n",
    "df['kitchen_to_all_area'] = df['kitchen_area'] / df['total_area']"
   ]
  },
  {
   "cell_type": "markdown",
   "metadata": {},
   "source": [
    "## Исследовательский анализ данных"
   ]
  },
  {
   "cell_type": "markdown",
   "metadata": {},
   "source": [
    " Исследуем параметры: площадь, цена, число комнат, высота потолков"
   ]
  },
  {
   "cell_type": "code",
   "execution_count": 36,
   "metadata": {
    "scrolled": true
   },
   "outputs": [
    {
     "data": {
      "text/html": [
       "<div>\n",
       "<style scoped>\n",
       "    .dataframe tbody tr th:only-of-type {\n",
       "        vertical-align: middle;\n",
       "    }\n",
       "\n",
       "    .dataframe tbody tr th {\n",
       "        vertical-align: top;\n",
       "    }\n",
       "\n",
       "    .dataframe thead th {\n",
       "        text-align: right;\n",
       "    }\n",
       "</style>\n",
       "<table border=\"1\" class=\"dataframe\">\n",
       "  <thead>\n",
       "    <tr style=\"text-align: right;\">\n",
       "      <th></th>\n",
       "      <th>total_area</th>\n",
       "      <th>last_price</th>\n",
       "      <th>rooms</th>\n",
       "      <th>ceiling_height</th>\n",
       "    </tr>\n",
       "  </thead>\n",
       "  <tbody>\n",
       "    <tr>\n",
       "      <th>count</th>\n",
       "      <td>23699.000000</td>\n",
       "      <td>2.369900e+04</td>\n",
       "      <td>23699.000000</td>\n",
       "      <td>14504.000000</td>\n",
       "    </tr>\n",
       "    <tr>\n",
       "      <th>mean</th>\n",
       "      <td>60.348651</td>\n",
       "      <td>6.541549e+06</td>\n",
       "      <td>2.070636</td>\n",
       "      <td>2.729608</td>\n",
       "    </tr>\n",
       "    <tr>\n",
       "      <th>std</th>\n",
       "      <td>35.654083</td>\n",
       "      <td>1.088701e+07</td>\n",
       "      <td>1.078405</td>\n",
       "      <td>0.319850</td>\n",
       "    </tr>\n",
       "    <tr>\n",
       "      <th>min</th>\n",
       "      <td>12.000000</td>\n",
       "      <td>1.219000e+04</td>\n",
       "      <td>0.000000</td>\n",
       "      <td>1.000000</td>\n",
       "    </tr>\n",
       "    <tr>\n",
       "      <th>25%</th>\n",
       "      <td>40.000000</td>\n",
       "      <td>3.400000e+06</td>\n",
       "      <td>1.000000</td>\n",
       "      <td>2.510000</td>\n",
       "    </tr>\n",
       "    <tr>\n",
       "      <th>50%</th>\n",
       "      <td>52.000000</td>\n",
       "      <td>4.650000e+06</td>\n",
       "      <td>2.000000</td>\n",
       "      <td>2.650000</td>\n",
       "    </tr>\n",
       "    <tr>\n",
       "      <th>75%</th>\n",
       "      <td>69.900000</td>\n",
       "      <td>6.800000e+06</td>\n",
       "      <td>3.000000</td>\n",
       "      <td>2.800000</td>\n",
       "    </tr>\n",
       "    <tr>\n",
       "      <th>max</th>\n",
       "      <td>900.000000</td>\n",
       "      <td>7.630000e+08</td>\n",
       "      <td>19.000000</td>\n",
       "      <td>14.000000</td>\n",
       "    </tr>\n",
       "  </tbody>\n",
       "</table>\n",
       "</div>"
      ],
      "text/plain": [
       "         total_area    last_price         rooms  ceiling_height\n",
       "count  23699.000000  2.369900e+04  23699.000000    14504.000000\n",
       "mean      60.348651  6.541549e+06      2.070636        2.729608\n",
       "std       35.654083  1.088701e+07      1.078405        0.319850\n",
       "min       12.000000  1.219000e+04      0.000000        1.000000\n",
       "25%       40.000000  3.400000e+06      1.000000        2.510000\n",
       "50%       52.000000  4.650000e+06      2.000000        2.650000\n",
       "75%       69.900000  6.800000e+06      3.000000        2.800000\n",
       "max      900.000000  7.630000e+08     19.000000       14.000000"
      ]
     },
     "execution_count": 36,
     "metadata": {},
     "output_type": "execute_result"
    }
   ],
   "source": [
    "df[['total_area','last_price', 'rooms', 'ceiling_height']].describe()"
   ]
  },
  {
   "cell_type": "markdown",
   "metadata": {},
   "source": [
    "Типовой квартирой для продажи является двух комнатные квартиры площадью 52м2 за 4,6 млн рублей с высотой потолков 2.65"
   ]
  },
  {
   "cell_type": "markdown",
   "metadata": {},
   "source": [
    "Построим гистограму для площади квартиры"
   ]
  },
  {
   "cell_type": "code",
   "execution_count": 37,
   "metadata": {},
   "outputs": [
    {
     "data": {
      "text/plain": [
       "<AxesSubplot:>"
      ]
     },
     "execution_count": 37,
     "metadata": {},
     "output_type": "execute_result"
    },
    {
     "data": {
      "image/png": "[encoded data removed]",
      "text/plain": [
       "<Figure size 432x288 with 1 Axes>"
      ]
     },
     "metadata": {
      "needs_background": "light"
     },
     "output_type": "display_data"
    }
   ],
   "source": [
    "df['total_area'].hist(bins=15, range=(10,120))"
   ]
  },
  {
   "cell_type": "code",
   "execution_count": 38,
   "metadata": {
    "scrolled": true
   },
   "outputs": [
    {
     "data": {
      "text/plain": [
       "<AxesSubplot:>"
      ]
     },
     "execution_count": 38,
     "metadata": {},
     "output_type": "execute_result"
    },
    {
     "data": {
      "image/png": "[encoded data removed]",
      "text/plain": [
       "<Figure size 432x288 with 1 Axes>"
      ]
     },
     "metadata": {
      "needs_background": "light"
     },
     "output_type": "display_data"
    }
   ],
   "source": [
    "plt.ylim(0,200)\n",
    "df.boxplot(column='total_area')"
   ]
  },
  {
   "cell_type": "markdown",
   "metadata": {},
   "source": [
    "Распределение отличается от нормального, с двумя пиками в райне 40 и 60 метров. Для анализа можем отбросить значения меньше 20 и больше 150."
   ]
  },
  {
   "cell_type": "markdown",
   "metadata": {},
   "source": [
    "Построим гистограмму для стоимости квартиры"
   ]
  },
  {
   "cell_type": "code",
   "execution_count": 39,
   "metadata": {},
   "outputs": [
    {
     "data": {
      "text/plain": [
       "<AxesSubplot:>"
      ]
     },
     "execution_count": 39,
     "metadata": {},
     "output_type": "execute_result"
    },
    {
     "data": {
      "image/png": "[encoded data removed]",
      "text/plain": [
       "<Figure size 432x288 with 1 Axes>"
      ]
     },
     "metadata": {
      "needs_background": "light"
     },
     "output_type": "display_data"
    }
   ],
   "source": [
    "df['last_price'].hist(bins=50, range=(0,16000000))"
   ]
  },
  {
   "cell_type": "code",
   "execution_count": 40,
   "metadata": {},
   "outputs": [
    {
     "data": {
      "text/plain": [
       "<AxesSubplot:>"
      ]
     },
     "execution_count": 40,
     "metadata": {},
     "output_type": "execute_result"
    },
    {
     "data": {
      "image/png": "[encoded data removed]",
      "text/plain": [
       "<Figure size 432x288 with 1 Axes>"
      ]
     },
     "metadata": {
      "needs_background": "light"
     },
     "output_type": "display_data"
    }
   ],
   "source": [
    "plt.ylim(0,20000000)\n",
    "df.boxplot(column='last_price')"
   ]
  },
  {
   "cell_type": "markdown",
   "metadata": {},
   "source": [
    "Распределение похоже на нормальное. Из анализа можно исключить квартры стоимостью меньше 100000 и больше 20000000"
   ]
  },
  {
   "cell_type": "code",
   "execution_count": 41,
   "metadata": {},
   "outputs": [
    {
     "data": {
      "text/plain": [
       "<AxesSubplot:>"
      ]
     },
     "execution_count": 41,
     "metadata": {},
     "output_type": "execute_result"
    },
    {
     "data": {
      "image/png": "[encoded data removed]",
      "text/plain": [
       "<Figure size 432x288 with 1 Axes>"
      ]
     },
     "metadata": {
      "needs_background": "light"
     },
     "output_type": "display_data"
    }
   ],
   "source": [
    "df['rooms'].hist(bins=20, range=(0,10))"
   ]
  },
  {
   "cell_type": "markdown",
   "metadata": {},
   "source": [
    "Самые популярные кватиры  - 1 и 2 двух комнатые. Из анализа можно исключить квартиры с количеством комнат больше 6"
   ]
  },
  {
   "cell_type": "markdown",
   "metadata": {},
   "source": [
    "Построим гистограму для высоты потолков"
   ]
  },
  {
   "cell_type": "code",
   "execution_count": 42,
   "metadata": {},
   "outputs": [
    {
     "data": {
      "text/plain": [
       "<AxesSubplot:>"
      ]
     },
     "execution_count": 42,
     "metadata": {},
     "output_type": "execute_result"
    },
    {
     "data": {
      "image/png": "[encoded data removed]",
      "text/plain": [
       "<Figure size 432x288 with 1 Axes>"
      ]
     },
     "metadata": {
      "needs_background": "light"
     },
     "output_type": "display_data"
    }
   ],
   "source": [
    "df['ceiling_height'].hist(bins=20, range=(2,3.5))"
   ]
  },
  {
   "cell_type": "markdown",
   "metadata": {},
   "source": [
    "Нужно учитывать, что  по 38% квартир высота потолков не заполнена. Поэтому данные могут быть искажены. Самые популярные предложения квартир с высостой потолков - около 2,5 метра. "
   ]
  },
  {
   "cell_type": "code",
   "execution_count": 43,
   "metadata": {},
   "outputs": [
    {
     "data": {
      "text/plain": [
       "<AxesSubplot:>"
      ]
     },
     "execution_count": 43,
     "metadata": {},
     "output_type": "execute_result"
    },
    {
     "data": {
      "image/png": "[encoded data removed]",
      "text/plain": [
       "<Figure size 432x288 with 1 Axes>"
      ]
     },
     "metadata": {
      "needs_background": "light"
     },
     "output_type": "display_data"
    }
   ],
   "source": [
    "plt.ylim(0,5)\n",
    "df.boxplot(column=['ceiling_height'])"
   ]
  },
  {
   "cell_type": "markdown",
   "metadata": {},
   "source": [
    "Проверим сколько времени занимает продажа квартиры"
   ]
  },
  {
   "cell_type": "code",
   "execution_count": 44,
   "metadata": {
    "scrolled": true
   },
   "outputs": [
    {
     "data": {
      "text/plain": [
       "count    20518.000000\n",
       "mean       180.888634\n",
       "std        219.727988\n",
       "min          1.000000\n",
       "25%         45.000000\n",
       "50%         95.000000\n",
       "75%        232.000000\n",
       "max       1580.000000\n",
       "Name: days_exposition, dtype: float64"
      ]
     },
     "execution_count": 44,
     "metadata": {},
     "output_type": "execute_result"
    }
   ],
   "source": [
    "df['days_exposition'].describe()"
   ]
  },
  {
   "cell_type": "code",
   "execution_count": 45,
   "metadata": {},
   "outputs": [
    {
     "data": {
      "text/plain": [
       "<AxesSubplot:>"
      ]
     },
     "execution_count": 45,
     "metadata": {},
     "output_type": "execute_result"
    },
    {
     "data": {
      "image/png": "[encoded data removed]",
      "text/plain": [
       "<Figure size 432x288 with 1 Axes>"
      ]
     },
     "metadata": {
      "needs_background": "light"
     },
     "output_type": "display_data"
    }
   ],
   "source": [
    "df['days_exposition'].hist(bins=30, range=(50,800))"
   ]
  },
  {
   "cell_type": "code",
   "execution_count": 46,
   "metadata": {
    "scrolled": true
   },
   "outputs": [
    {
     "data": {
      "text/plain": [
       "<AxesSubplot:>"
      ]
     },
     "execution_count": 46,
     "metadata": {},
     "output_type": "execute_result"
    },
    {
     "data": {
      "image/png": "[encoded data removed]",
      "text/plain": [
       "<Figure size 432x288 with 1 Axes>"
      ]
     },
     "metadata": {
      "needs_background": "light"
     },
     "output_type": "display_data"
    }
   ],
   "source": [
    "plt.ylim(0,800)\n",
    "df.boxplot(column=['days_exposition'])"
   ]
  },
  {
   "cell_type": "code",
   "execution_count": 47,
   "metadata": {},
   "outputs": [
    {
     "data": {
      "text/plain": [
       "<AxesSubplot:>"
      ]
     },
     "execution_count": 47,
     "metadata": {},
     "output_type": "execute_result"
    },
    {
     "data": {
      "image/png": "[encoded data removed]",
      "text/plain": [
       "<Figure size 432x288 with 1 Axes>"
      ]
     },
     "metadata": {
      "needs_background": "light"
     },
     "output_type": "display_data"
    }
   ],
   "source": [
    "df['days_exposition'].hist(bins=20, range=(0,60))"
   ]
  },
  {
   "cell_type": "markdown",
   "metadata": {},
   "source": [
    "Обычное время продажи составляет до 500 дней, чаще всего от около двух месяцев. Можно сказать, что если квартира была продана в первые два месяца то это быстрая продажа, продажи свыше 600 дней можно считать выбросами."
   ]
  },
  {
   "cell_type": "markdown",
   "metadata": {},
   "source": [
    "Отберем данные без выбросов"
   ]
  },
  {
   "cell_type": "code",
   "execution_count": 48,
   "metadata": {},
   "outputs": [],
   "source": [
    "df_good = df.query('(20 <= total_area <= 150) & (100000 <= last_price <= 20000000) & (rooms <= 6)  & (days_exposition <= 600)')"
   ]
  },
  {
   "cell_type": "markdown",
   "metadata": {},
   "source": [
    "Проверим какой процент исключили"
   ]
  },
  {
   "cell_type": "code",
   "execution_count": 49,
   "metadata": {
    "scrolled": true
   },
   "outputs": [
    {
     "data": {
      "text/plain": [
       "0.7899489429933753"
      ]
     },
     "execution_count": 49,
     "metadata": {},
     "output_type": "execute_result"
    }
   ],
   "source": [
    "len(df_good)/len(df)"
   ]
  },
  {
   "cell_type": "markdown",
   "metadata": {},
   "source": [
    "Проверим зависимость цены от квадратного метра, числа комнат, этажа (первого или последнего), удалённости от центра. Также проверим зависимость от даты размещения: дня недели, месяца и года."
   ]
  },
  {
   "cell_type": "code",
   "execution_count": 51,
   "metadata": {},
   "outputs": [
    {
     "data": {
      "text/plain": [
       "0.7541290958735082"
      ]
     },
     "execution_count": 51,
     "metadata": {},
     "output_type": "execute_result"
    }
   ],
   "source": [
    "df_good['last_price'].corr(df_good['total_area'])"
   ]
  },
  {
   "cell_type": "code",
   "execution_count": 52,
   "metadata": {},
   "outputs": [
    {
     "data": {
      "text/plain": [
       "<AxesSubplot:xlabel='total_area', ylabel='last_price'>"
      ]
     },
     "execution_count": 52,
     "metadata": {},
     "output_type": "execute_result"
    },
    {
     "data": {
      "image/png": "[encoded data removed]",
      "text/plain": [
       "<Figure size 432x288 with 1 Axes>"
      ]
     },
     "metadata": {
      "needs_background": "light"
     },
     "output_type": "display_data"
    }
   ],
   "source": [
    "df_good.plot(kind='scatter', y='last_price', x='total_area', alpha=0.4, grid=True)"
   ]
  },
  {
   "cell_type": "markdown",
   "metadata": {},
   "source": [
    "Видим прямую зависимость между площадью квартиры и ее стоимость. При это разброс цен для квартир больше 90 кв.м. значительно увеличивается."
   ]
  },
  {
   "cell_type": "code",
   "execution_count": 53,
   "metadata": {},
   "outputs": [
    {
     "data": {
      "text/plain": [
       "0.4774128979818787"
      ]
     },
     "execution_count": 53,
     "metadata": {},
     "output_type": "execute_result"
    }
   ],
   "source": [
    "df_good['last_price'].corr(df_good['rooms'])"
   ]
  },
  {
   "cell_type": "code",
   "execution_count": 54,
   "metadata": {},
   "outputs": [
    {
     "data": {
      "text/plain": [
       "<AxesSubplot:xlabel='rooms', ylabel='last_price'>"
      ]
     },
     "execution_count": 54,
     "metadata": {},
     "output_type": "execute_result"
    },
    {
     "data": {
      "image/png": "[encoded data removed]",
      "text/plain": [
       "<Figure size 432x288 with 1 Axes>"
      ]
     },
     "metadata": {
      "needs_background": "light"
     },
     "output_type": "display_data"
    }
   ],
   "source": [
    "df_good.plot(kind='scatter', y='last_price', x='rooms', alpha=0.4, grid=True, ylim=(0,25000000))"
   ]
  },
  {
   "cell_type": "markdown",
   "metadata": {},
   "source": [
    "Есть небольшая взаимосвязь количества комнат и стоимостью квартиры, но при этом при увеличении количества комнат увеличивается и разброс цен."
   ]
  },
  {
   "cell_type": "code",
   "execution_count": 56,
   "metadata": {},
   "outputs": [
    {
     "data": {
      "text/plain": [
       "<AxesSubplot:xlabel='floor_type'>"
      ]
     },
     "execution_count": 56,
     "metadata": {},
     "output_type": "execute_result"
    },
    {
     "data": {
      "image/png": "[encoded data removed]",
      "text/plain": [
       "<Figure size 576x360 with 1 Axes>"
      ]
     },
     "metadata": {
      "needs_background": "light"
     },
     "output_type": "display_data"
    }
   ],
   "source": [
    "(df_good\n",
    "    .pivot_table(index='floor_type', values='last_price', aggfunc='median')\n",
    "    .plot(kind='bar', grid=True, figsize=(8, 5))\n",
    ")"
   ]
  },
  {
   "cell_type": "markdown",
   "metadata": {},
   "source": [
    "Первый и последние этажи дешевли других этажей, при этом первые этажи дешевле последних."
   ]
  },
  {
   "cell_type": "markdown",
   "metadata": {},
   "source": [
    "Для оценки связи цены квартиры и расстояния до центра, добавим категорию \"расстояние до центра в километрах с шагом 5 км\""
   ]
  },
  {
   "cell_type": "code",
   "execution_count": 58,
   "metadata": {
    "scrolled": true
   },
   "outputs": [
    {
     "name": "stderr",
     "output_type": "stream",
     "text": [
      "/tmp/ipykernel_154/3116239787.py:9: SettingWithCopyWarning: \n",
      "A value is trying to be set on a copy of a slice from a DataFrame.\n",
      "Try using .loc[row_indexer,col_indexer] = value instead\n",
      "\n",
      "See the caveats in the documentation: https://pandas.pydata.org/pandas-docs/stable/user_guide/indexing.html#returning-a-view-versus-a-copy\n",
      "  df_good['center_5km'] = df_good.apply(center_5km, axis=1)\n"
     ]
    }
   ],
   "source": [
    "def center_5km(row):\n",
    "    city_сenters_nearest = row['city_сenters_nearest']\n",
    "    for i in range(0, math.ceil(df['city_сenters_nearest'].max()+5000), 5000):\n",
    "        try:\n",
    "            if  0 <= (i - math.ceil(city_сenters_nearest)) < 5000: \n",
    "                return i/1000\n",
    "        except:\n",
    "            pass\n",
    "df_good['center_5km'] = df_good.apply(center_5km, axis=1)"
   ]
  },
  {
   "cell_type": "code",
   "execution_count": 60,
   "metadata": {},
   "outputs": [
    {
     "data": {
      "text/plain": [
       "<AxesSubplot:xlabel='center_5km'>"
      ]
     },
     "execution_count": 60,
     "metadata": {},
     "output_type": "execute_result"
    },
    {
     "data": {
      "image/png": "[encoded data removed]",
      "text/plain": [
       "<Figure size 720x360 with 1 Axes>"
      ]
     },
     "metadata": {
      "needs_background": "light"
     },
     "output_type": "display_data"
    }
   ],
   "source": [
    "(df_good\n",
    "    .pivot_table(index='center_5km', values='last_price', aggfunc='median')\n",
    "    .plot(kind='bar', grid=True, figsize=(10, 5))\n",
    ")"
   ]
  },
  {
   "cell_type": "markdown",
   "metadata": {},
   "source": [
    "Видим снижение цены с увеличеним расстояния до цента. Самые дорогие квартиры - в радиусе 10 км до центра."
   ]
  },
  {
   "cell_type": "code",
   "execution_count": 62,
   "metadata": {},
   "outputs": [
    {
     "data": {
      "text/plain": [
       "<AxesSubplot:xlabel='publication_week_day'>"
      ]
     },
     "execution_count": 62,
     "metadata": {},
     "output_type": "execute_result"
    },
    {
     "data": {
      "image/png": "[encoded data removed]",
      "text/plain": [
       "<Figure size 360x576 with 1 Axes>"
      ]
     },
     "metadata": {
      "needs_background": "light"
     },
     "output_type": "display_data"
    }
   ],
   "source": [
    "(df_good\n",
    "    .pivot_table(index='publication_week_day', values='last_price', aggfunc='median')\n",
    "    .plot(kind='bar', grid=True, figsize=(5, 8))\n",
    ")"
   ]
  },
  {
   "cell_type": "markdown",
   "metadata": {},
   "source": [
    "У квартир в объявлениях размещенных во вторник, четверг и субботы, более высокая стоимость, чем у объявлениях, размещенных в другие дни."
   ]
  },
  {
   "cell_type": "code",
   "execution_count": 64,
   "metadata": {},
   "outputs": [
    {
     "data": {
      "text/plain": [
       "<AxesSubplot:xlabel='publication_month'>"
      ]
     },
     "execution_count": 64,
     "metadata": {},
     "output_type": "execute_result"
    },
    {
     "data": {
      "image/png": "[encoded data removed]",
      "text/plain": [
       "<Figure size 288x504 with 1 Axes>"
      ]
     },
     "metadata": {
      "needs_background": "light"
     },
     "output_type": "display_data"
    }
   ],
   "source": [
    "(df_good\n",
    "    .pivot_table(index='publication_month', values='last_price', aggfunc='median')\n",
    "    .plot(kind='bar', grid=True, figsize=(4, 7))\n",
    ")"
   ]
  },
  {
   "cell_type": "markdown",
   "metadata": {},
   "source": [
    "Чаше всего квартиры продают в апреле, сентябре и ноябре. Летом сезонный спад продаж."
   ]
  },
  {
   "cell_type": "code",
   "execution_count": 66,
   "metadata": {},
   "outputs": [
    {
     "data": {
      "text/plain": [
       "<AxesSubplot:xlabel='publication_year'>"
      ]
     },
     "execution_count": 66,
     "metadata": {},
     "output_type": "execute_result"
    },
    {
     "data": {
      "image/png": "[encoded data removed]",
      "text/plain": [
       "<Figure size 288x432 with 1 Axes>"
      ]
     },
     "metadata": {
      "needs_background": "light"
     },
     "output_type": "display_data"
    }
   ],
   "source": [
    "(df_good\n",
    "    .pivot_table(index='publication_year', values='last_price', aggfunc='median')\n",
    "    .plot(kind='bar', grid=True, figsize=(4, 6))\n",
    ")"
   ]
  },
  {
   "cell_type": "markdown",
   "metadata": {},
   "source": [
    "Самые высокие цены на квартиры были в 2014 году, после чего наступил спад и стагнация до 2018 года, в 2019 цены на квартиры немного подросли."
   ]
  },
  {
   "cell_type": "markdown",
   "metadata": {},
   "source": [
    "Результат оказался ожидаем - стоимость квартиры в большей степени зависит от плащиди и количества комнат. Для квартир площадью более 90 кв.м разброс цен значительно увеличивается.<br>\n",
    "\n",
    "Количество комнат влияет на стомость, но только если к квартире две комнаты или меньше.<br>\n",
    "\n",
    "Первый и последние этажи дешевли других этажей, при этом первые жтажи дешевле последних.<br>\n",
    "\n",
    "Также есть обратная зависимость от растояния до центра - чем меньше расстояние до центра, тем выше цена. Самые дорогие квартиры находятся на расстоянии 10 км от центра.<br>\n",
    "\n",
    "У квартир в объявлениях размещенных во вторник, четверг и субботы, более высокая стоимость, чем у объявлениях, размещенных в другие дни.<br>\n",
    "\n",
    "Чаше всего квартиры продают в апреле, сентябре и ноябре. Летом сезонный спад продаж.<br>\n",
    "\n",
    "Самые высокие цены на квартиры были в 2014 году, после чего наступил спад и стагнация до 2018 года, в 2019 цены на квартиры немного подросли.<br>"
   ]
  },
  {
   "cell_type": "markdown",
   "metadata": {},
   "source": [
    "Выберем 10 населённых пунктов с наибольшим числом объявлений. Посчитаем среднюю цену квадратного метра в этих населённых пунктах. Выделим населённые пункты с самой высокой и низкой стоимостью жилья."
   ]
  },
  {
   "cell_type": "code",
   "execution_count": 67,
   "metadata": {},
   "outputs": [],
   "source": [
    "posts = df_good.groupby('locality_name')['locality_name'].count().sort_values(ascending=False).head(10)"
   ]
  },
  {
   "cell_type": "code",
   "execution_count": 70,
   "metadata": {},
   "outputs": [
    {
     "data": {
      "text/plain": [
       "<AxesSubplot:xlabel='locality_name'>"
      ]
     },
     "execution_count": 70,
     "metadata": {},
     "output_type": "execute_result"
    },
    {
     "data": {
      "image/png": "[encoded data removed]",
      "text/plain": [
       "<Figure size 432x288 with 1 Axes>"
      ]
     },
     "metadata": {
      "needs_background": "light"
     },
     "output_type": "display_data"
    }
   ],
   "source": [
    "(df_good\n",
    "     .query('locality_name in @posts.index')\n",
    "     .groupby('locality_name')['square_meter_cost'].mean()\n",
    "     .sort_values(ascending=False)\n",
    "     .plot(kind='bar')   \n",
    ")"
   ]
  },
  {
   "cell_type": "markdown",
   "metadata": {},
   "source": [
    "Самые высокие цены в Санкт_Петербурге, а низкие - в Выборге"
   ]
  },
  {
   "cell_type": "markdown",
   "metadata": {},
   "source": [
    "Изучим предложения квартир: для каждой квартиры есть информация о расстоянии до центра. Выделим квартиры в Санкт-Петербурге (locality_name).Выясним, какая область входит в центр. Создадим столбец с расстоянием до центра в километрах: округлим до целых значений. После этого посчитаем среднюю цену для каждого километра. Построим график: он должен показывать, как цена зависит от удалённости от центра. Определим границу, где график сильно меняется — это и будет центральная зона."
   ]
  },
  {
   "cell_type": "code",
   "execution_count": 71,
   "metadata": {},
   "outputs": [],
   "source": [
    "df_sp = df_good[df_good['locality_name'] == \"Санкт-Петербург\"]"
   ]
  },
  {
   "cell_type": "code",
   "execution_count": 72,
   "metadata": {},
   "outputs": [],
   "source": [
    "df_sp = df_sp[df_sp['city_сenters_nearest'].isna() == False]"
   ]
  },
  {
   "cell_type": "code",
   "execution_count": 74,
   "metadata": {},
   "outputs": [],
   "source": [
    "df_sp['center_km'] = (df_sp['city_сenters_nearest'] / 1000).round(0)"
   ]
  },
  {
   "cell_type": "code",
   "execution_count": 75,
   "metadata": {},
   "outputs": [
    {
     "data": {
      "text/plain": [
       "<AxesSubplot:xlabel='center_km'>"
      ]
     },
     "execution_count": 75,
     "metadata": {},
     "output_type": "execute_result"
    },
    {
     "data": {
      "image/png": "[encoded data removed]",
      "text/plain": [
       "<Figure size 360x360 with 1 Axes>"
      ]
     },
     "metadata": {
      "needs_background": "light"
     },
     "output_type": "display_data"
    }
   ],
   "source": [
    "df_sp.groupby('center_km')['square_meter_cost'].mean().plot( xlim=(0, 15),  grid=True, figsize=(5, 5))"
   ]
  },
  {
   "cell_type": "markdown",
   "metadata": {},
   "source": [
    "График меняется в районе 9 км."
   ]
  },
  {
   "cell_type": "markdown",
   "metadata": {},
   "source": [
    "Выделим сегмент квартир в центре. Проанализируем эту территорию и изучим следующие параметры: площадь, цена, число комнат, высота потолков. Также выделитм факторы, которые влияют на стоимость квартиры (число комнат, этаж, удалённость от центра, дата размещения объявления). "
   ]
  },
  {
   "cell_type": "code",
   "execution_count": 76,
   "metadata": {},
   "outputs": [],
   "source": [
    "df_sp_center = df_sp[(df_sp['center_km']<=9) & (df_sp['locality_name'] == 'Санкт-Петербург')]\n"
   ]
  },
  {
   "cell_type": "code",
   "execution_count": 77,
   "metadata": {},
   "outputs": [
    {
     "data": {
      "text/html": [
       "<div>\n",
       "<style scoped>\n",
       "    .dataframe tbody tr th:only-of-type {\n",
       "        vertical-align: middle;\n",
       "    }\n",
       "\n",
       "    .dataframe tbody tr th {\n",
       "        vertical-align: top;\n",
       "    }\n",
       "\n",
       "    .dataframe thead th {\n",
       "        text-align: right;\n",
       "    }\n",
       "</style>\n",
       "<table border=\"1\" class=\"dataframe\">\n",
       "  <thead>\n",
       "    <tr style=\"text-align: right;\">\n",
       "      <th></th>\n",
       "      <th>total_area</th>\n",
       "      <th>last_price</th>\n",
       "      <th>rooms</th>\n",
       "      <th>ceiling_height</th>\n",
       "    </tr>\n",
       "  </thead>\n",
       "  <tbody>\n",
       "    <tr>\n",
       "      <th>count</th>\n",
       "      <td>3093.000000</td>\n",
       "      <td>3.093000e+03</td>\n",
       "      <td>3093.000000</td>\n",
       "      <td>1904.000000</td>\n",
       "    </tr>\n",
       "    <tr>\n",
       "      <th>mean</th>\n",
       "      <td>67.815487</td>\n",
       "      <td>8.048750e+06</td>\n",
       "      <td>2.324281</td>\n",
       "      <td>2.962862</td>\n",
       "    </tr>\n",
       "    <tr>\n",
       "      <th>std</th>\n",
       "      <td>26.086553</td>\n",
       "      <td>3.591219e+06</td>\n",
       "      <td>1.019814</td>\n",
       "      <td>0.382691</td>\n",
       "    </tr>\n",
       "    <tr>\n",
       "      <th>min</th>\n",
       "      <td>20.000000</td>\n",
       "      <td>1.600000e+06</td>\n",
       "      <td>0.000000</td>\n",
       "      <td>2.400000</td>\n",
       "    </tr>\n",
       "    <tr>\n",
       "      <th>25%</th>\n",
       "      <td>46.300000</td>\n",
       "      <td>5.390000e+06</td>\n",
       "      <td>2.000000</td>\n",
       "      <td>2.700000</td>\n",
       "    </tr>\n",
       "    <tr>\n",
       "      <th>50%</th>\n",
       "      <td>64.000000</td>\n",
       "      <td>7.300000e+06</td>\n",
       "      <td>2.000000</td>\n",
       "      <td>3.000000</td>\n",
       "    </tr>\n",
       "    <tr>\n",
       "      <th>75%</th>\n",
       "      <td>84.680000</td>\n",
       "      <td>9.983000e+06</td>\n",
       "      <td>3.000000</td>\n",
       "      <td>3.150000</td>\n",
       "    </tr>\n",
       "    <tr>\n",
       "      <th>max</th>\n",
       "      <td>150.000000</td>\n",
       "      <td>2.000000e+07</td>\n",
       "      <td>6.000000</td>\n",
       "      <td>10.000000</td>\n",
       "    </tr>\n",
       "  </tbody>\n",
       "</table>\n",
       "</div>"
      ],
      "text/plain": [
       "        total_area    last_price        rooms  ceiling_height\n",
       "count  3093.000000  3.093000e+03  3093.000000     1904.000000\n",
       "mean     67.815487  8.048750e+06     2.324281        2.962862\n",
       "std      26.086553  3.591219e+06     1.019814        0.382691\n",
       "min      20.000000  1.600000e+06     0.000000        2.400000\n",
       "25%      46.300000  5.390000e+06     2.000000        2.700000\n",
       "50%      64.000000  7.300000e+06     2.000000        3.000000\n",
       "75%      84.680000  9.983000e+06     3.000000        3.150000\n",
       "max     150.000000  2.000000e+07     6.000000       10.000000"
      ]
     },
     "execution_count": 77,
     "metadata": {},
     "output_type": "execute_result"
    }
   ],
   "source": [
    "df_sp_center[['total_area','last_price','rooms','ceiling_height']].describe()"
   ]
  },
  {
   "cell_type": "markdown",
   "metadata": {},
   "source": [
    "Судя по мединным значениям типа квартира в центре - трехкомнатная, площадью 85 кв, с высотой потолков 3.2 м, стоимстью 7.3 млн. рублей. Приэтом судя по стандартному отклонению стоимость сильно варьируется."
   ]
  },
  {
   "cell_type": "code",
   "execution_count": 78,
   "metadata": {},
   "outputs": [
    {
     "data": {
      "text/plain": [
       "<AxesSubplot:>"
      ]
     },
     "execution_count": 78,
     "metadata": {},
     "output_type": "execute_result"
    },
    {
     "data": {
      "image/png": "[encoded data removed]",
      "text/plain": [
       "<Figure size 432x288 with 1 Axes>"
      ]
     },
     "metadata": {
      "needs_background": "light"
     },
     "output_type": "display_data"
    }
   ],
   "source": [
    "df_sp_center['total_area'].hist(bins=15, range=(10,120))"
   ]
  },
  {
   "cell_type": "code",
   "execution_count": 79,
   "metadata": {
    "scrolled": true
   },
   "outputs": [
    {
     "data": {
      "text/plain": [
       "<AxesSubplot:>"
      ]
     },
     "execution_count": 79,
     "metadata": {},
     "output_type": "execute_result"
    },
    {
     "data": {
      "image/png": "[encoded data removed]",
      "text/plain": [
       "<Figure size 432x288 with 1 Axes>"
      ]
     },
     "metadata": {
      "needs_background": "light"
     },
     "output_type": "display_data"
    }
   ],
   "source": [
    "plt.ylim(0,175)\n",
    "df_sp_center.boxplot(column='total_area')"
   ]
  },
  {
   "cell_type": "markdown",
   "metadata": {},
   "source": [
    "В центре Петербурга самые популярные предоложения на квартиры площадью около 40 и 60 кв.м, что сопоставимо со всеми предложениями."
   ]
  },
  {
   "cell_type": "code",
   "execution_count": 80,
   "metadata": {},
   "outputs": [
    {
     "data": {
      "text/plain": [
       "<AxesSubplot:>"
      ]
     },
     "execution_count": 80,
     "metadata": {},
     "output_type": "execute_result"
    },
    {
     "data": {
      "image/png": "[encoded data removed]",
      "text/plain": [
       "<Figure size 432x288 with 1 Axes>"
      ]
     },
     "metadata": {
      "needs_background": "light"
     },
     "output_type": "display_data"
    }
   ],
   "source": [
    "df_sp_center['last_price'].hist(bins=30, range=(0,20000000))"
   ]
  },
  {
   "cell_type": "code",
   "execution_count": 81,
   "metadata": {
    "scrolled": true
   },
   "outputs": [
    {
     "data": {
      "text/plain": [
       "<AxesSubplot:>"
      ]
     },
     "execution_count": 81,
     "metadata": {},
     "output_type": "execute_result"
    },
    {
     "data": {
      "image/png": "[encoded data removed]",
      "text/plain": [
       "<Figure size 432x288 with 1 Axes>"
      ]
     },
     "metadata": {
      "needs_background": "light"
     },
     "output_type": "display_data"
    }
   ],
   "source": [
    "plt.ylim(0,20000000)\n",
    "df.boxplot(column='last_price')"
   ]
  },
  {
   "cell_type": "markdown",
   "metadata": {},
   "source": [
    "Самые популярные предложения в центре Петербурга на квартиры стоимость от 5 до 7,5 млн. рублей."
   ]
  },
  {
   "cell_type": "code",
   "execution_count": 82,
   "metadata": {},
   "outputs": [
    {
     "data": {
      "text/plain": [
       "<AxesSubplot:>"
      ]
     },
     "execution_count": 82,
     "metadata": {},
     "output_type": "execute_result"
    },
    {
     "data": {
      "image/png": "[encoded data removed]",
      "text/plain": [
       "<Figure size 432x288 with 1 Axes>"
      ]
     },
     "metadata": {
      "needs_background": "light"
     },
     "output_type": "display_data"
    }
   ],
   "source": [
    "df_sp_center['rooms'].hist(bins=20, range=(0,10))"
   ]
  },
  {
   "cell_type": "markdown",
   "metadata": {},
   "source": [
    "В центре Петербурга самые популярные 2х и 3х комнатные квартиры."
   ]
  },
  {
   "cell_type": "code",
   "execution_count": 83,
   "metadata": {},
   "outputs": [
    {
     "data": {
      "text/plain": [
       "<AxesSubplot:>"
      ]
     },
     "execution_count": 83,
     "metadata": {},
     "output_type": "execute_result"
    },
    {
     "data": {
      "image/png": "[encoded data removed]",
      "text/plain": [
       "<Figure size 432x288 with 1 Axes>"
      ]
     },
     "metadata": {
      "needs_background": "light"
     },
     "output_type": "display_data"
    }
   ],
   "source": [
    "df_sp_center['ceiling_height'].hist(bins=20, range=(2,3.5))"
   ]
  },
  {
   "cell_type": "markdown",
   "metadata": {},
   "source": [
    "В центре Петербугра самые популярные предложения квартир с высотой потолков около 3 метров."
   ]
  },
  {
   "cell_type": "code",
   "execution_count": 84,
   "metadata": {},
   "outputs": [
    {
     "data": {
      "text/plain": [
       "0.7385029091201717"
      ]
     },
     "execution_count": 84,
     "metadata": {},
     "output_type": "execute_result"
    }
   ],
   "source": [
    "df_sp_center['last_price'].corr(df_sp_center['total_area'])"
   ]
  },
  {
   "cell_type": "code",
   "execution_count": 85,
   "metadata": {},
   "outputs": [
    {
     "data": {
      "text/plain": [
       "<AxesSubplot:xlabel='total_area', ylabel='last_price'>"
      ]
     },
     "execution_count": 85,
     "metadata": {},
     "output_type": "execute_result"
    },
    {
     "data": {
      "image/png": "[encoded data removed]",
      "text/plain": [
       "<Figure size 432x288 with 1 Axes>"
      ]
     },
     "metadata": {
      "needs_background": "light"
     },
     "output_type": "display_data"
    }
   ],
   "source": [
    "df_sp_center.plot(kind='scatter', y='last_price', x='total_area', alpha=0.4, grid=True)"
   ]
  },
  {
   "cell_type": "code",
   "execution_count": 86,
   "metadata": {
    "scrolled": true
   },
   "outputs": [
    {
     "data": {
      "text/plain": [
       "0.4730461793358198"
      ]
     },
     "execution_count": 86,
     "metadata": {},
     "output_type": "execute_result"
    }
   ],
   "source": [
    "df_sp_center['last_price'].corr(df_sp_center['rooms'])"
   ]
  },
  {
   "cell_type": "code",
   "execution_count": 87,
   "metadata": {},
   "outputs": [
    {
     "data": {
      "text/plain": [
       "<AxesSubplot:xlabel='rooms', ylabel='last_price'>"
      ]
     },
     "execution_count": 87,
     "metadata": {},
     "output_type": "execute_result"
    },
    {
     "data": {
      "image/png": "[encoded data removed]",
      "text/plain": [
       "<Figure size 432x288 with 1 Axes>"
      ]
     },
     "metadata": {
      "needs_background": "light"
     },
     "output_type": "display_data"
    }
   ],
   "source": [
    "df_sp_center.plot(kind='scatter', y='last_price', x='rooms', alpha=0.4, grid=True, ylim=(0,25000000))"
   ]
  },
  {
   "cell_type": "markdown",
   "metadata": {},
   "source": [
    "Есть небольшая взаимосвязь количества комнат и стоимостью квартиры, но при этом при увеличении количества комнат увеличивается и разброс цен"
   ]
  },
  {
   "cell_type": "code",
   "execution_count": 88,
   "metadata": {},
   "outputs": [
    {
     "data": {
      "text/plain": [
       "array([[<AxesSubplot:xlabel='last_price', ylabel='last_price'>,\n",
       "        <AxesSubplot:xlabel='total_area', ylabel='last_price'>,\n",
       "        <AxesSubplot:xlabel='rooms', ylabel='last_price'>],\n",
       "       [<AxesSubplot:xlabel='last_price', ylabel='total_area'>,\n",
       "        <AxesSubplot:xlabel='total_area', ylabel='total_area'>,\n",
       "        <AxesSubplot:xlabel='rooms', ylabel='total_area'>],\n",
       "       [<AxesSubplot:xlabel='last_price', ylabel='rooms'>,\n",
       "        <AxesSubplot:xlabel='total_area', ylabel='rooms'>,\n",
       "        <AxesSubplot:xlabel='rooms', ylabel='rooms'>]], dtype=object)"
      ]
     },
     "execution_count": 88,
     "metadata": {},
     "output_type": "execute_result"
    },
    {
     "data": {
      "image/png": "[encoded data removed]",
      "text/plain": [
       "<Figure size 432x288 with 9 Axes>"
      ]
     },
     "metadata": {
      "needs_background": "light"
     },
     "output_type": "display_data"
    }
   ],
   "source": [
    "df_sp_center_matrix =df_sp_center[['last_price', 'total_area','rooms']]\n",
    "pd.plotting.scatter_matrix(df_sp_center_matrix)"
   ]
  },
  {
   "cell_type": "code",
   "execution_count": 90,
   "metadata": {},
   "outputs": [
    {
     "data": {
      "text/plain": [
       "<AxesSubplot:>"
      ]
     },
     "execution_count": 90,
     "metadata": {},
     "output_type": "execute_result"
    },
    {
     "data": {
      "image/png": "[encoded data removed]",
      "text/plain": [
       "<Figure size 432x288 with 1 Axes>"
      ]
     },
     "metadata": {
      "needs_background": "light"
     },
     "output_type": "display_data"
    }
   ],
   "source": [
    "plt.ylim(0,550)\n",
    "df_sp_center.boxplot(column=['days_exposition'])"
   ]
  },
  {
   "cell_type": "code",
   "execution_count": 91,
   "metadata": {},
   "outputs": [
    {
     "data": {
      "text/plain": [
       "<AxesSubplot:>"
      ]
     },
     "execution_count": 91,
     "metadata": {},
     "output_type": "execute_result"
    },
    {
     "data": {
      "image/png": "[encoded data removed]",
      "text/plain": [
       "<Figure size 432x288 with 1 Axes>"
      ]
     },
     "metadata": {
      "needs_background": "light"
     },
     "output_type": "display_data"
    }
   ],
   "source": [
    "df_sp_center['days_exposition'].hist(bins=20, range=(0,60))"
   ]
  },
  {
   "cell_type": "markdown",
   "metadata": {},
   "source": [
    "Скорость  продаж квартир в центре Петербурга сопоставима с общей скоростью по рынку."
   ]
  },
  {
   "cell_type": "code",
   "execution_count": 93,
   "metadata": {},
   "outputs": [
    {
     "data": {
      "text/plain": [
       "<AxesSubplot:xlabel='floor_type'>"
      ]
     },
     "execution_count": 93,
     "metadata": {},
     "output_type": "execute_result"
    },
    {
     "data": {
      "image/png": "[encoded data removed]",
      "text/plain": [
       "<Figure size 576x360 with 1 Axes>"
      ]
     },
     "metadata": {
      "needs_background": "light"
     },
     "output_type": "display_data"
    }
   ],
   "source": [
    "(df_sp_center\n",
    "    .pivot_table(index='floor_type', values='last_price', aggfunc='median')\n",
    "    .plot(kind='bar', grid=True, figsize=(8, 5))\n",
    ")"
   ]
  },
  {
   "cell_type": "markdown",
   "metadata": {},
   "source": [
    "Первый и последние этажи дешевли других этажей, при этом первые этажи дешевле последних."
   ]
  },
  {
   "cell_type": "code",
   "execution_count": 95,
   "metadata": {},
   "outputs": [
    {
     "data": {
      "text/plain": [
       "<AxesSubplot:xlabel='center_km'>"
      ]
     },
     "execution_count": 95,
     "metadata": {},
     "output_type": "execute_result"
    },
    {
     "data": {
      "image/png": "[encoded data removed]",
      "text/plain": [
       "<Figure size 576x360 with 1 Axes>"
      ]
     },
     "metadata": {
      "needs_background": "light"
     },
     "output_type": "display_data"
    }
   ],
   "source": [
    "(df_sp_center\n",
    "    .pivot_table(index='center_km', values='last_price', aggfunc='median')\n",
    "    .plot(kind='bar', grid=True, figsize=(8, 5))\n",
    ")"
   ]
  },
  {
   "cell_type": "markdown",
   "metadata": {},
   "source": [
    "В центре Петербурга самые дешевые квартиры находятся на расстоянии 3 км от центра."
   ]
  },
  {
   "cell_type": "code",
   "execution_count": 97,
   "metadata": {},
   "outputs": [
    {
     "data": {
      "text/plain": [
       "<AxesSubplot:xlabel='publication_week_day'>"
      ]
     },
     "execution_count": 97,
     "metadata": {},
     "output_type": "execute_result"
    },
    {
     "data": {
      "image/png": "[encoded data removed]",
      "text/plain": [
       "<Figure size 360x576 with 1 Axes>"
      ]
     },
     "metadata": {
      "needs_background": "light"
     },
     "output_type": "display_data"
    }
   ],
   "source": [
    "(df_sp_center\n",
    "    .pivot_table(index='publication_week_day', values='last_price', aggfunc='median')\n",
    "    .plot(kind='bar', grid=True, figsize=(5, 8))\n",
    ")"
   ]
  },
  {
   "cell_type": "markdown",
   "metadata": {},
   "source": [
    "В центре Петербурга самые дорогие квартиры продаются по воскресеньям"
   ]
  },
  {
   "cell_type": "code",
   "execution_count": 99,
   "metadata": {},
   "outputs": [
    {
     "data": {
      "text/plain": [
       "<AxesSubplot:xlabel='publication_month'>"
      ]
     },
     "execution_count": 99,
     "metadata": {},
     "output_type": "execute_result"
    },
    {
     "data": {
      "image/png": "[encoded data removed]",
      "text/plain": [
       "<Figure size 288x504 with 1 Axes>"
      ]
     },
     "metadata": {
      "needs_background": "light"
     },
     "output_type": "display_data"
    }
   ],
   "source": [
    "(df_sp_center\n",
    "    .pivot_table(index='publication_month', values='last_price', aggfunc='median')\n",
    "    .plot(kind='bar', grid=True, figsize=(4, 7))\n",
    ")"
   ]
  },
  {
   "cell_type": "markdown",
   "metadata": {},
   "source": [
    "В центре Петербурга наблюдается рост цен на квартиры с апреля по сентябрь, что не типично для рынка в целом. В октябре и декабре наблюдается спад, как в целом по рынку."
   ]
  },
  {
   "cell_type": "code",
   "execution_count": 101,
   "metadata": {},
   "outputs": [
    {
     "data": {
      "text/plain": [
       "<AxesSubplot:xlabel='publication_year'>"
      ]
     },
     "execution_count": 101,
     "metadata": {},
     "output_type": "execute_result"
    },
    {
     "data": {
      "image/png": "[encoded data removed]",
      "text/plain": [
       "<Figure size 288x432 with 1 Axes>"
      ]
     },
     "metadata": {
      "needs_background": "light"
     },
     "output_type": "display_data"
    }
   ],
   "source": [
    "(df_sp_center\n",
    "    .pivot_table(index='publication_year', values='last_price', aggfunc='median')\n",
    "    .plot(kind='bar', grid=True, figsize=(4, 6))\n",
    ")"
   ]
  },
  {
   "cell_type": "markdown",
   "metadata": {},
   "source": [
    "После максимальных цен в 2014, в 2015 был спад с последующим небольши ростом в 2016 году, после чего цены постепенно снижаются."
   ]
  },
  {
   "cell_type": "markdown",
   "metadata": {},
   "source": [
    "## Общий вывод"
   ]
  },
  {
   "cell_type": "markdown",
   "metadata": {},
   "source": [
    "Вывод в первой версии работы:\n",
    "На стоимость квартиры влияет расстояние до центра, площадь и количество комнат. При этом количество комнат в большей степени влияет на квартиры, отдаленые от центра. "
   ]
  },
  {
   "cell_type": "markdown",
   "metadata": {},
   "source": [
    "При исследовании данных обнаружены пропуски в цледующих полях:\n",
    "* `ceiling_height`  - 39%\n",
    "* `floors_total` - 0.4%\n",
    "* `living_area` - 8%\n",
    "* `kitchen_area` - 9.6%\n",
    "* `is_apartment` - 88%\n",
    "* `balcony` - 48.61%\n",
    "* `locality_name` - 0.2%\n",
    "* `airports_nearest` - 23%\n",
    "* `city_сenters_nearest` - 23%\n",
    "* `parks_around3000` - 23%\n",
    "* `parks_nearest` - 66%\n",
    "* `ponds_around3000` - 23%\n",
    "* `ponds_nearest` - 62%\n",
    "* `days_exposition` - 13%\n",
    "\n",
    "Пропуски в полях `floors_total`, `living_area`, `kitchen_area` были заменены на медианные значения.<br>\n",
    "\n",
    "Из-за большого количество пропусков данных о высоте потолка (39%) результаты анализа могут быть искажены."
   ]
  },
  {
   "cell_type": "markdown",
   "metadata": {},
   "source": [
    "Для 23 квартир высота потолков была указана больше 20 метров, эти значения разделили на 10."
   ]
  },
  {
   "cell_type": "markdown",
   "metadata": {},
   "source": [
    "Среди 10 город с самым большим количеством объявлений, самые высокие цены за кв.м. в Санкт-Петербурге (100 тыс. рублей за кв.м), а самые низкие в Выборге (60 тыс. рублей)"
   ]
  },
  {
   "cell_type": "markdown",
   "metadata": {},
   "source": [
    "По графику изменения стоимости квартиры в зависимости от центра определили центр Санкт-Петербурга - 9 км."
   ]
  },
  {
   "cell_type": "markdown",
   "metadata": {},
   "source": [
    "Характеристики типовой квартиры для продажи: две комнатны, площадь 52м2, стоимостью 4,6 млн рублей, с высотой потолков 2.65 м."
   ]
  },
  {
   "cell_type": "markdown",
   "metadata": {},
   "source": [
    "В центре Петербурга картина немного иная: двух или трех комнатная, площадью 85 кв, с высотой потолков 3.2 м, стоимстью 7.3 млн. рублей. "
   ]
  },
  {
   "cell_type": "markdown",
   "metadata": {},
   "source": [
    "На стоимость квартиры влияет этаж - первые и последние этажи более дешевые."
   ]
  },
  {
   "cell_type": "markdown",
   "metadata": {},
   "source": [
    "На стоимость квартиры влияет площадь квартиры, при этом для квартир площадью более 90 кв. метров, значительно увеличивается разброс цен."
   ]
  },
  {
   "cell_type": "markdown",
   "metadata": {},
   "source": [
    "Также есть обратная зависимость от растояния до центра - чем меньше расстояние до центра, тем выше цена."
   ]
  },
  {
   "cell_type": "markdown",
   "metadata": {},
   "source": [
    "Есть небольшая взаимосвязь количества комнат и стоимостью квартиры, но при этом при увеличении количества комнат увеличивается и разброс цен"
   ]
  },
  {
   "cell_type": "markdown",
   "metadata": {},
   "source": [
    "В 2014 на рынке недвижимости наблюдались самые высокие цены, после чего в 2015 последовал спад. И если в целом на рынке наблюдалась стогнация до 2019 года, то продажи квартир в центре Петербурга показали небольшой рост в 2016 году с последющим спадом."
   ]
  },
  {
   "cell_type": "markdown",
   "metadata": {},
   "source": [
    "Среднее время продажи квартиры составляет 2 месяца."
   ]
  },
  {
   "cell_type": "markdown",
   "metadata": {},
   "source": [
    "Динамика продаж квартир в целом на рынке и центре Петербурга различается. Если на рынке в летний период наблюдаетс спад, то центре Петербурга - рост количества предложений. Март, октябрь и декабрь отличаются низким количеством предложений по продаже квартир."
   ]
  },
  {
   "cell_type": "markdown",
   "metadata": {},
   "source": [
    "У квартир в объявлениях, размещенных во вторник, четверг и субботы, более высокая стоимость, чем у объявлениях, размещенных в другие дни. При этом для квартир  в центре Петербурга картина иная: наиболее высокие цены у квартир, выставленных на продажу в суботу и воскресенье. \n"
   ]
  }
 ],
 "metadata": {
  "ExecuteTimeLog": [
   {
    "duration": 409,
    "start_time": "2022-06-08T11:32:51.257Z"
   },
   {
    "duration": 130,
    "start_time": "2022-06-08T11:33:17.230Z"
   },
   {
    "duration": 6,
    "start_time": "2022-06-08T11:33:26.596Z"
   },
   {
    "duration": 28,
    "start_time": "2022-06-08T11:36:03.598Z"
   },
   {
    "duration": 81,
    "start_time": "2022-06-08T11:36:22.600Z"
   },
   {
    "duration": 6,
    "start_time": "2022-06-08T11:36:25.334Z"
   },
   {
    "duration": 96,
    "start_time": "2022-06-08T11:36:34.912Z"
   },
   {
    "duration": 6,
    "start_time": "2022-06-08T11:36:37.690Z"
   },
   {
    "duration": 78,
    "start_time": "2022-06-08T11:37:10.984Z"
   },
   {
    "duration": 5,
    "start_time": "2022-06-08T11:37:14.164Z"
   },
   {
    "duration": 32,
    "start_time": "2022-06-08T11:37:25.830Z"
   },
   {
    "duration": 77,
    "start_time": "2022-06-08T11:38:06.301Z"
   },
   {
    "duration": 5,
    "start_time": "2022-06-08T11:38:09.414Z"
   },
   {
    "duration": 5,
    "start_time": "2022-06-08T11:42:29.514Z"
   },
   {
    "duration": 14,
    "start_time": "2022-06-08T11:42:39.630Z"
   },
   {
    "duration": 7,
    "start_time": "2022-06-08T11:46:32.977Z"
   },
   {
    "duration": 75,
    "start_time": "2022-06-08T11:46:58.979Z"
   },
   {
    "duration": 6,
    "start_time": "2022-06-08T11:47:01.211Z"
   },
   {
    "duration": 6,
    "start_time": "2022-06-08T11:47:16.326Z"
   },
   {
    "duration": 79,
    "start_time": "2022-06-08T11:48:09.752Z"
   },
   {
    "duration": 80,
    "start_time": "2022-06-08T11:48:11.085Z"
   },
   {
    "duration": 80,
    "start_time": "2022-06-08T11:48:13.132Z"
   },
   {
    "duration": 6,
    "start_time": "2022-06-08T11:48:14.812Z"
   },
   {
    "duration": 82,
    "start_time": "2022-06-08T11:49:04.317Z"
   },
   {
    "duration": 7,
    "start_time": "2022-06-08T11:49:06.235Z"
   },
   {
    "duration": 2,
    "start_time": "2022-06-08T11:49:20.010Z"
   },
   {
    "duration": 80,
    "start_time": "2022-06-08T11:49:22.972Z"
   },
   {
    "duration": 7,
    "start_time": "2022-06-08T11:49:25.055Z"
   },
   {
    "duration": 86,
    "start_time": "2022-06-08T11:50:53.961Z"
   },
   {
    "duration": 7,
    "start_time": "2022-06-08T11:50:59.850Z"
   },
   {
    "duration": 92,
    "start_time": "2022-06-08T11:55:12.307Z"
   },
   {
    "duration": 50,
    "start_time": "2022-06-08T11:55:14.436Z"
   },
   {
    "duration": 26,
    "start_time": "2022-06-08T11:56:05.613Z"
   },
   {
    "duration": 14,
    "start_time": "2022-06-08T11:56:26.167Z"
   },
   {
    "duration": 50,
    "start_time": "2022-06-08T12:03:27.420Z"
   },
   {
    "duration": 31,
    "start_time": "2022-06-08T12:08:05.479Z"
   },
   {
    "duration": 77,
    "start_time": "2022-06-08T12:08:15.910Z"
   },
   {
    "duration": 72,
    "start_time": "2022-06-08T12:21:03.520Z"
   },
   {
    "duration": 8,
    "start_time": "2022-06-08T12:21:11.915Z"
   },
   {
    "duration": 5,
    "start_time": "2022-06-08T12:21:35.350Z"
   },
   {
    "duration": 2,
    "start_time": "2022-06-08T12:42:13.412Z"
   },
   {
    "duration": 4,
    "start_time": "2022-06-08T12:44:22.744Z"
   },
   {
    "duration": 5,
    "start_time": "2022-06-08T12:44:24.019Z"
   },
   {
    "duration": 5,
    "start_time": "2022-06-08T12:44:29.007Z"
   },
   {
    "duration": 14,
    "start_time": "2022-06-08T12:45:11.596Z"
   },
   {
    "duration": 4,
    "start_time": "2022-06-08T12:46:55.185Z"
   },
   {
    "duration": 5,
    "start_time": "2022-06-08T12:47:13.767Z"
   },
   {
    "duration": 5,
    "start_time": "2022-06-08T12:47:52.037Z"
   },
   {
    "duration": 40,
    "start_time": "2022-06-08T12:48:25.148Z"
   },
   {
    "duration": 175,
    "start_time": "2022-06-08T12:54:45.060Z"
   },
   {
    "duration": 5,
    "start_time": "2022-06-08T12:56:46.891Z"
   },
   {
    "duration": 38,
    "start_time": "2022-06-08T12:57:44.418Z"
   },
   {
    "duration": 33,
    "start_time": "2022-06-08T13:02:57.942Z"
   },
   {
    "duration": 31,
    "start_time": "2022-06-08T13:06:05.194Z"
   },
   {
    "duration": 7,
    "start_time": "2022-06-08T13:07:42.974Z"
   },
   {
    "duration": 4,
    "start_time": "2022-06-08T13:07:50.931Z"
   },
   {
    "duration": 5,
    "start_time": "2022-06-08T13:09:12.239Z"
   },
   {
    "duration": 4,
    "start_time": "2022-06-08T13:09:32.844Z"
   },
   {
    "duration": 37,
    "start_time": "2022-06-08T13:14:56.196Z"
   },
   {
    "duration": 441,
    "start_time": "2022-06-08T13:17:39.960Z"
   },
   {
    "duration": 10,
    "start_time": "2022-06-08T13:17:46.301Z"
   },
   {
    "duration": 35,
    "start_time": "2022-06-08T13:21:22.082Z"
   },
   {
    "duration": 5,
    "start_time": "2022-06-08T13:21:44.935Z"
   },
   {
    "duration": 36,
    "start_time": "2022-06-08T13:22:20.411Z"
   },
   {
    "duration": 36,
    "start_time": "2022-06-08T13:23:41.361Z"
   },
   {
    "duration": 425,
    "start_time": "2022-06-08T13:23:47.173Z"
   },
   {
    "duration": 443,
    "start_time": "2022-06-08T13:23:57.652Z"
   },
   {
    "duration": 7,
    "start_time": "2022-06-08T13:24:04.862Z"
   },
   {
    "duration": 5,
    "start_time": "2022-06-08T13:27:22.105Z"
   },
   {
    "duration": 32,
    "start_time": "2022-06-08T13:28:36.817Z"
   },
   {
    "duration": 30,
    "start_time": "2022-06-08T13:30:49.125Z"
   },
   {
    "duration": 4,
    "start_time": "2022-06-08T13:31:32.814Z"
   },
   {
    "duration": 12,
    "start_time": "2022-06-08T13:33:21.844Z"
   },
   {
    "duration": 28,
    "start_time": "2022-06-08T13:37:28.374Z"
   },
   {
    "duration": 36,
    "start_time": "2022-06-08T13:39:40.779Z"
   },
   {
    "duration": 96,
    "start_time": "2022-06-08T13:40:20.500Z"
   },
   {
    "duration": 28,
    "start_time": "2022-06-08T13:42:36.457Z"
   },
   {
    "duration": 28,
    "start_time": "2022-06-08T13:42:59.961Z"
   },
   {
    "duration": 28,
    "start_time": "2022-06-08T13:43:09.604Z"
   },
   {
    "duration": 43,
    "start_time": "2022-06-08T13:43:23.161Z"
   },
   {
    "duration": 23,
    "start_time": "2022-06-08T13:45:32.241Z"
   },
   {
    "duration": 16,
    "start_time": "2022-06-08T13:45:43.354Z"
   },
   {
    "duration": 2,
    "start_time": "2022-06-08T13:46:07.948Z"
   },
   {
    "duration": 87,
    "start_time": "2022-06-08T13:46:07.953Z"
   },
   {
    "duration": 16,
    "start_time": "2022-06-08T13:46:08.042Z"
   },
   {
    "duration": 49,
    "start_time": "2022-06-08T13:46:08.060Z"
   },
   {
    "duration": 99,
    "start_time": "2022-06-08T13:46:08.111Z"
   },
   {
    "duration": 3,
    "start_time": "2022-06-08T13:46:08.212Z"
   },
   {
    "duration": 26,
    "start_time": "2022-06-08T13:46:08.216Z"
   },
   {
    "duration": 31,
    "start_time": "2022-06-08T13:46:08.244Z"
   },
   {
    "duration": 0,
    "start_time": "2022-06-08T13:46:08.277Z"
   },
   {
    "duration": 0,
    "start_time": "2022-06-08T13:46:08.278Z"
   },
   {
    "duration": 0,
    "start_time": "2022-06-08T13:46:08.279Z"
   },
   {
    "duration": 0,
    "start_time": "2022-06-08T13:46:08.280Z"
   },
   {
    "duration": 0,
    "start_time": "2022-06-08T13:46:08.282Z"
   },
   {
    "duration": 0,
    "start_time": "2022-06-08T13:46:08.283Z"
   },
   {
    "duration": 0,
    "start_time": "2022-06-08T13:46:08.284Z"
   },
   {
    "duration": 0,
    "start_time": "2022-06-08T13:46:08.285Z"
   },
   {
    "duration": 0,
    "start_time": "2022-06-08T13:46:08.286Z"
   },
   {
    "duration": 16,
    "start_time": "2022-06-08T13:46:15.247Z"
   },
   {
    "duration": 55,
    "start_time": "2022-06-09T08:15:51.753Z"
   },
   {
    "duration": 58,
    "start_time": "2022-06-09T08:18:06.909Z"
   },
   {
    "duration": 431,
    "start_time": "2022-06-09T08:18:16.435Z"
   },
   {
    "duration": 400,
    "start_time": "2022-06-09T08:18:16.868Z"
   },
   {
    "duration": 16,
    "start_time": "2022-06-09T08:18:17.270Z"
   },
   {
    "duration": 70,
    "start_time": "2022-06-09T08:18:17.288Z"
   },
   {
    "duration": 106,
    "start_time": "2022-06-09T08:18:17.360Z"
   },
   {
    "duration": 4,
    "start_time": "2022-06-09T08:18:17.468Z"
   },
   {
    "duration": 17,
    "start_time": "2022-06-09T08:18:17.473Z"
   },
   {
    "duration": 14,
    "start_time": "2022-06-09T08:18:17.491Z"
   },
   {
    "duration": 0,
    "start_time": "2022-06-09T08:18:17.507Z"
   },
   {
    "duration": 0,
    "start_time": "2022-06-09T08:18:17.508Z"
   },
   {
    "duration": 28,
    "start_time": "2022-06-09T08:22:15.045Z"
   },
   {
    "duration": 331,
    "start_time": "2022-06-09T08:24:29.644Z"
   },
   {
    "duration": 232,
    "start_time": "2022-06-09T08:24:48.038Z"
   },
   {
    "duration": 245,
    "start_time": "2022-06-09T08:26:02.833Z"
   },
   {
    "duration": 459,
    "start_time": "2022-06-09T08:27:06.914Z"
   },
   {
    "duration": 239,
    "start_time": "2022-06-09T08:27:36.218Z"
   },
   {
    "duration": 46,
    "start_time": "2022-06-09T08:27:41.810Z"
   },
   {
    "duration": 280,
    "start_time": "2022-06-09T08:27:44.838Z"
   },
   {
    "duration": 18,
    "start_time": "2022-06-09T08:28:03.013Z"
   },
   {
    "duration": 80,
    "start_time": "2022-06-09T08:28:13.945Z"
   },
   {
    "duration": 29,
    "start_time": "2022-06-09T08:28:25.324Z"
   },
   {
    "duration": 8,
    "start_time": "2022-06-09T08:31:46.549Z"
   },
   {
    "duration": 20,
    "start_time": "2022-06-09T08:33:04.525Z"
   },
   {
    "duration": 11,
    "start_time": "2022-06-09T08:35:03.597Z"
   },
   {
    "duration": 228,
    "start_time": "2022-06-09T08:36:35.650Z"
   },
   {
    "duration": 6,
    "start_time": "2022-06-09T08:41:08.350Z"
   },
   {
    "duration": 6,
    "start_time": "2022-06-09T08:41:32.170Z"
   },
   {
    "duration": 7,
    "start_time": "2022-06-09T08:41:40.880Z"
   },
   {
    "duration": 80,
    "start_time": "2022-06-09T08:41:52.884Z"
   },
   {
    "duration": 16,
    "start_time": "2022-06-09T08:42:46.819Z"
   },
   {
    "duration": 4,
    "start_time": "2022-06-09T08:42:52.174Z"
   },
   {
    "duration": 83,
    "start_time": "2022-06-09T08:43:10.180Z"
   },
   {
    "duration": 64,
    "start_time": "2022-06-09T08:48:46.694Z"
   },
   {
    "duration": 5,
    "start_time": "2022-06-09T08:51:36.482Z"
   },
   {
    "duration": 5,
    "start_time": "2022-06-09T08:52:08.131Z"
   },
   {
    "duration": 8,
    "start_time": "2022-06-09T08:52:52.885Z"
   },
   {
    "duration": 7,
    "start_time": "2022-06-09T08:53:04.228Z"
   },
   {
    "duration": 11,
    "start_time": "2022-06-09T08:53:08.162Z"
   },
   {
    "duration": 82,
    "start_time": "2022-06-09T08:56:24.758Z"
   },
   {
    "duration": 4,
    "start_time": "2022-06-09T08:58:27.012Z"
   },
   {
    "duration": 116,
    "start_time": "2022-06-09T08:58:27.024Z"
   },
   {
    "duration": 15,
    "start_time": "2022-06-09T08:58:27.143Z"
   },
   {
    "duration": 81,
    "start_time": "2022-06-09T08:58:27.160Z"
   },
   {
    "duration": 86,
    "start_time": "2022-06-09T08:58:27.242Z"
   },
   {
    "duration": 8,
    "start_time": "2022-06-09T08:58:27.331Z"
   },
   {
    "duration": 22,
    "start_time": "2022-06-09T08:58:27.341Z"
   },
   {
    "duration": 39,
    "start_time": "2022-06-09T08:58:27.364Z"
   },
   {
    "duration": 22,
    "start_time": "2022-06-09T08:58:27.407Z"
   },
   {
    "duration": 13,
    "start_time": "2022-06-09T08:58:27.430Z"
   },
   {
    "duration": 7,
    "start_time": "2022-06-09T08:58:27.445Z"
   },
   {
    "duration": 8,
    "start_time": "2022-06-09T08:58:27.454Z"
   },
   {
    "duration": 6,
    "start_time": "2022-06-09T08:58:27.463Z"
   },
   {
    "duration": 5,
    "start_time": "2022-06-09T08:58:27.471Z"
   },
   {
    "duration": 65,
    "start_time": "2022-06-09T08:58:27.479Z"
   },
   {
    "duration": 394,
    "start_time": "2022-06-09T08:59:24.635Z"
   },
   {
    "duration": 410,
    "start_time": "2022-06-09T08:59:29.646Z"
   },
   {
    "duration": 388,
    "start_time": "2022-06-09T08:59:43.691Z"
   },
   {
    "duration": 478,
    "start_time": "2022-06-09T09:00:10.874Z"
   },
   {
    "duration": 217,
    "start_time": "2022-06-09T09:00:18.616Z"
   },
   {
    "duration": 13,
    "start_time": "2022-06-09T09:00:37.955Z"
   },
   {
    "duration": 5,
    "start_time": "2022-06-09T09:01:23.873Z"
   },
   {
    "duration": 5,
    "start_time": "2022-06-09T09:02:24.721Z"
   },
   {
    "duration": 33,
    "start_time": "2022-06-09T09:07:08.363Z"
   },
   {
    "duration": 70,
    "start_time": "2022-06-09T09:07:20.215Z"
   },
   {
    "duration": 483,
    "start_time": "2022-06-09T09:07:27.246Z"
   },
   {
    "duration": 95,
    "start_time": "2022-06-09T09:07:37.421Z"
   },
   {
    "duration": 65,
    "start_time": "2022-06-09T09:08:45.969Z"
   },
   {
    "duration": 6,
    "start_time": "2022-06-09T09:17:50.648Z"
   },
   {
    "duration": 518,
    "start_time": "2022-06-09T09:17:53.226Z"
   },
   {
    "duration": 13,
    "start_time": "2022-06-09T09:18:30.832Z"
   },
   {
    "duration": 114,
    "start_time": "2022-06-09T09:18:42.043Z"
   },
   {
    "duration": 57,
    "start_time": "2022-06-09T09:19:33.136Z"
   },
   {
    "duration": 21,
    "start_time": "2022-06-09T09:19:40.090Z"
   },
   {
    "duration": 548,
    "start_time": "2022-06-09T09:20:49.829Z"
   },
   {
    "duration": 5,
    "start_time": "2022-06-09T09:20:55.752Z"
   },
   {
    "duration": 48,
    "start_time": "2022-06-09T09:31:18.678Z"
   },
   {
    "duration": 396,
    "start_time": "2022-06-09T09:31:27.617Z"
   },
   {
    "duration": 16,
    "start_time": "2022-06-09T09:32:58.619Z"
   },
   {
    "duration": 31,
    "start_time": "2022-06-09T09:34:04.664Z"
   },
   {
    "duration": 660,
    "start_time": "2022-06-09T09:34:08.996Z"
   },
   {
    "duration": 12,
    "start_time": "2022-06-09T09:34:24.247Z"
   },
   {
    "duration": 10,
    "start_time": "2022-06-09T09:35:16.767Z"
   },
   {
    "duration": 4,
    "start_time": "2022-06-09T09:35:29.456Z"
   },
   {
    "duration": 46,
    "start_time": "2022-06-09T09:35:41.934Z"
   },
   {
    "duration": 20,
    "start_time": "2022-06-09T09:36:14.459Z"
   },
   {
    "duration": 17,
    "start_time": "2022-06-09T09:36:49.722Z"
   },
   {
    "duration": 11,
    "start_time": "2022-06-09T09:37:11.721Z"
   },
   {
    "duration": 11,
    "start_time": "2022-06-09T09:37:36.540Z"
   },
   {
    "duration": 11,
    "start_time": "2022-06-09T09:38:36.680Z"
   },
   {
    "duration": 37,
    "start_time": "2022-06-09T09:38:52.270Z"
   },
   {
    "duration": 11,
    "start_time": "2022-06-09T09:40:09.426Z"
   },
   {
    "duration": 548,
    "start_time": "2022-06-09T09:40:26.107Z"
   },
   {
    "duration": 578,
    "start_time": "2022-06-09T09:47:59.912Z"
   },
   {
    "duration": 17,
    "start_time": "2022-06-09T09:48:09.069Z"
   },
   {
    "duration": 10,
    "start_time": "2022-06-09T09:48:18.432Z"
   },
   {
    "duration": 11,
    "start_time": "2022-06-09T09:48:35.052Z"
   },
   {
    "duration": 15,
    "start_time": "2022-06-09T09:48:38.883Z"
   },
   {
    "duration": 15,
    "start_time": "2022-06-09T09:48:55.452Z"
   },
   {
    "duration": 10,
    "start_time": "2022-06-09T09:51:55.120Z"
   },
   {
    "duration": 24,
    "start_time": "2022-06-09T09:52:17.767Z"
   },
   {
    "duration": 6,
    "start_time": "2022-06-09T09:52:25.474Z"
   },
   {
    "duration": 125,
    "start_time": "2022-06-09T09:52:25.481Z"
   },
   {
    "duration": 19,
    "start_time": "2022-06-09T09:52:25.612Z"
   },
   {
    "duration": 44,
    "start_time": "2022-06-09T09:52:25.633Z"
   },
   {
    "duration": 86,
    "start_time": "2022-06-09T09:52:25.678Z"
   },
   {
    "duration": 4,
    "start_time": "2022-06-09T09:52:25.766Z"
   },
   {
    "duration": 47,
    "start_time": "2022-06-09T09:52:25.771Z"
   },
   {
    "duration": 42,
    "start_time": "2022-06-09T09:52:25.822Z"
   },
   {
    "duration": 65,
    "start_time": "2022-06-09T09:52:25.865Z"
   },
   {
    "duration": 13,
    "start_time": "2022-06-09T09:52:25.935Z"
   },
   {
    "duration": 12,
    "start_time": "2022-06-09T09:52:25.949Z"
   },
   {
    "duration": 12,
    "start_time": "2022-06-09T09:52:25.963Z"
   },
   {
    "duration": 35,
    "start_time": "2022-06-09T09:52:25.977Z"
   },
   {
    "duration": 12,
    "start_time": "2022-06-09T09:52:26.014Z"
   },
   {
    "duration": 39,
    "start_time": "2022-06-09T09:52:26.031Z"
   },
   {
    "duration": 25,
    "start_time": "2022-06-09T09:52:26.073Z"
   },
   {
    "duration": 36,
    "start_time": "2022-06-09T09:52:26.108Z"
   },
   {
    "duration": 77,
    "start_time": "2022-06-09T09:52:26.146Z"
   },
   {
    "duration": 343,
    "start_time": "2022-06-09T09:52:26.225Z"
   },
   {
    "duration": 34,
    "start_time": "2022-06-09T09:52:26.570Z"
   },
   {
    "duration": 524,
    "start_time": "2022-06-09T09:57:34.334Z"
   },
   {
    "duration": 54,
    "start_time": "2022-06-09T09:57:48.867Z"
   },
   {
    "duration": 450,
    "start_time": "2022-06-09T09:59:10.832Z"
   },
   {
    "duration": 15,
    "start_time": "2022-06-09T09:59:17.825Z"
   },
   {
    "duration": 141,
    "start_time": "2022-06-09T10:19:51.649Z"
   },
   {
    "duration": 94,
    "start_time": "2022-06-09T10:20:04.252Z"
   },
   {
    "duration": 481,
    "start_time": "2022-06-09T10:20:08.377Z"
   },
   {
    "duration": 16,
    "start_time": "2022-06-09T10:20:32.056Z"
   },
   {
    "duration": 4,
    "start_time": "2022-06-09T10:28:18.480Z"
   },
   {
    "duration": 27,
    "start_time": "2022-06-09T10:28:53.957Z"
   },
   {
    "duration": 213,
    "start_time": "2022-06-09T10:34:24.310Z"
   },
   {
    "duration": 10,
    "start_time": "2022-06-09T10:58:14.105Z"
   },
   {
    "duration": 8,
    "start_time": "2022-06-09T10:59:40.844Z"
   },
   {
    "duration": 5,
    "start_time": "2022-06-09T11:00:08.503Z"
   },
   {
    "duration": 6,
    "start_time": "2022-06-09T11:09:01.884Z"
   },
   {
    "duration": 6,
    "start_time": "2022-06-09T11:09:03.509Z"
   },
   {
    "duration": 4,
    "start_time": "2022-06-09T11:09:10.947Z"
   },
   {
    "duration": 9,
    "start_time": "2022-06-09T11:26:17.248Z"
   },
   {
    "duration": 3,
    "start_time": "2022-06-09T11:28:40.163Z"
   },
   {
    "duration": 456,
    "start_time": "2022-06-09T11:28:53.300Z"
   },
   {
    "duration": 10,
    "start_time": "2022-06-09T11:29:04.053Z"
   },
   {
    "duration": 39,
    "start_time": "2022-06-09T11:30:12.020Z"
   },
   {
    "duration": 5139,
    "start_time": "2022-06-09T11:32:46.417Z"
   },
   {
    "duration": 41,
    "start_time": "2022-06-09T11:32:58.687Z"
   },
   {
    "duration": 8313,
    "start_time": "2022-06-09T11:34:10.010Z"
   },
   {
    "duration": 6479,
    "start_time": "2022-06-09T11:35:48.913Z"
   },
   {
    "duration": 58,
    "start_time": "2022-06-09T11:35:55.454Z"
   },
   {
    "duration": 23,
    "start_time": "2022-06-09T11:38:37.110Z"
   },
   {
    "duration": 11080,
    "start_time": "2022-06-09T11:38:43.612Z"
   },
   {
    "duration": 51,
    "start_time": "2022-06-09T11:38:56.465Z"
   },
   {
    "duration": 28699,
    "start_time": "2022-06-09T11:39:58.098Z"
   },
   {
    "duration": 31437,
    "start_time": "2022-06-09T11:41:05.288Z"
   },
   {
    "duration": 29351,
    "start_time": "2022-06-09T11:42:57.400Z"
   },
   {
    "duration": 69,
    "start_time": "2022-06-09T11:43:26.753Z"
   },
   {
    "duration": 43348,
    "start_time": "2022-06-09T11:44:47.925Z"
   },
   {
    "duration": 67,
    "start_time": "2022-06-09T11:45:31.276Z"
   },
   {
    "duration": 16,
    "start_time": "2022-06-09T11:47:07.853Z"
   },
   {
    "duration": 10,
    "start_time": "2022-06-09T11:47:14.425Z"
   },
   {
    "duration": 6,
    "start_time": "2022-06-09T11:47:16.963Z"
   },
   {
    "duration": 36961,
    "start_time": "2022-06-09T11:48:05.370Z"
   },
   {
    "duration": 40,
    "start_time": "2022-06-09T11:48:42.333Z"
   },
   {
    "duration": 38198,
    "start_time": "2022-06-09T11:49:43.847Z"
   },
   {
    "duration": 62,
    "start_time": "2022-06-09T11:50:22.047Z"
   },
   {
    "duration": 27,
    "start_time": "2022-06-09T11:50:49.791Z"
   },
   {
    "duration": 7,
    "start_time": "2022-06-09T11:50:52.054Z"
   },
   {
    "duration": 36227,
    "start_time": "2022-06-09T11:51:05.528Z"
   },
   {
    "duration": 69,
    "start_time": "2022-06-09T11:51:41.758Z"
   },
   {
    "duration": 7,
    "start_time": "2022-06-09T11:51:49.476Z"
   },
   {
    "duration": 6,
    "start_time": "2022-06-09T11:51:51.569Z"
   },
   {
    "duration": 37554,
    "start_time": "2022-06-09T11:53:10.533Z"
   },
   {
    "duration": 58,
    "start_time": "2022-06-09T11:53:48.089Z"
   },
   {
    "duration": 9,
    "start_time": "2022-06-09T11:54:01.178Z"
   },
   {
    "duration": 14,
    "start_time": "2022-06-09T11:54:03.410Z"
   },
   {
    "duration": 47,
    "start_time": "2022-06-09T11:54:37.914Z"
   },
   {
    "duration": 36617,
    "start_time": "2022-06-09T11:55:13.424Z"
   },
   {
    "duration": 8,
    "start_time": "2022-06-09T11:55:50.043Z"
   },
   {
    "duration": 7,
    "start_time": "2022-06-09T11:55:53.488Z"
   },
   {
    "duration": 33697,
    "start_time": "2022-06-09T11:56:06.273Z"
   },
   {
    "duration": 28,
    "start_time": "2022-06-09T11:56:39.971Z"
   },
   {
    "duration": 5,
    "start_time": "2022-06-09T11:56:42.257Z"
   },
   {
    "duration": 31435,
    "start_time": "2022-06-09T11:56:51.040Z"
   },
   {
    "duration": 21,
    "start_time": "2022-06-09T11:57:22.477Z"
   },
   {
    "duration": 5,
    "start_time": "2022-06-09T11:57:25.825Z"
   },
   {
    "duration": 33348,
    "start_time": "2022-06-09T11:57:38.260Z"
   },
   {
    "duration": 7,
    "start_time": "2022-06-09T11:58:11.616Z"
   },
   {
    "duration": 5,
    "start_time": "2022-06-09T11:58:13.606Z"
   },
   {
    "duration": 31489,
    "start_time": "2022-06-09T11:58:23.433Z"
   },
   {
    "duration": 5,
    "start_time": "2022-06-09T11:58:54.924Z"
   },
   {
    "duration": 5,
    "start_time": "2022-06-09T11:58:57.029Z"
   },
   {
    "duration": 31463,
    "start_time": "2022-06-09T11:59:18.684Z"
   },
   {
    "duration": 7,
    "start_time": "2022-06-09T11:59:50.149Z"
   },
   {
    "duration": 5,
    "start_time": "2022-06-09T11:59:52.177Z"
   },
   {
    "duration": 36516,
    "start_time": "2022-06-09T12:00:11.468Z"
   },
   {
    "duration": 14,
    "start_time": "2022-06-09T12:00:47.995Z"
   },
   {
    "duration": 4,
    "start_time": "2022-06-09T12:01:18.773Z"
   },
   {
    "duration": 9,
    "start_time": "2022-06-09T12:01:21.098Z"
   },
   {
    "duration": 6,
    "start_time": "2022-06-09T12:01:23.062Z"
   },
   {
    "duration": 35894,
    "start_time": "2022-06-09T12:01:27.985Z"
   },
   {
    "duration": 20,
    "start_time": "2022-06-09T12:02:03.881Z"
   },
   {
    "duration": 5,
    "start_time": "2022-06-09T12:02:06.143Z"
   },
   {
    "duration": 5,
    "start_time": "2022-06-09T12:02:08.929Z"
   },
   {
    "duration": 2,
    "start_time": "2022-06-09T12:02:21.053Z"
   },
   {
    "duration": 114,
    "start_time": "2022-06-09T12:02:21.057Z"
   },
   {
    "duration": 22,
    "start_time": "2022-06-09T12:02:21.174Z"
   },
   {
    "duration": 58,
    "start_time": "2022-06-09T12:02:21.200Z"
   },
   {
    "duration": 87,
    "start_time": "2022-06-09T12:02:21.260Z"
   },
   {
    "duration": 4,
    "start_time": "2022-06-09T12:02:21.349Z"
   },
   {
    "duration": 20,
    "start_time": "2022-06-09T12:02:21.354Z"
   },
   {
    "duration": 45,
    "start_time": "2022-06-09T12:02:21.376Z"
   },
   {
    "duration": 45,
    "start_time": "2022-06-09T12:02:21.423Z"
   },
   {
    "duration": 4,
    "start_time": "2022-06-09T12:02:21.470Z"
   },
   {
    "duration": 42,
    "start_time": "2022-06-09T12:02:21.477Z"
   },
   {
    "duration": 39605,
    "start_time": "2022-06-09T12:02:21.522Z"
   },
   {
    "duration": 47,
    "start_time": "2022-06-09T12:03:01.129Z"
   },
   {
    "duration": 21,
    "start_time": "2022-06-09T12:03:01.179Z"
   },
   {
    "duration": 49,
    "start_time": "2022-06-09T12:03:01.203Z"
   },
   {
    "duration": 42,
    "start_time": "2022-06-09T12:03:01.254Z"
   },
   {
    "duration": 39,
    "start_time": "2022-06-09T12:03:01.301Z"
   },
   {
    "duration": 303,
    "start_time": "2022-06-09T12:03:01.342Z"
   },
   {
    "duration": 0,
    "start_time": "2022-06-09T12:03:01.647Z"
   },
   {
    "duration": 0,
    "start_time": "2022-06-09T12:03:01.648Z"
   },
   {
    "duration": 0,
    "start_time": "2022-06-09T12:03:01.649Z"
   },
   {
    "duration": 0,
    "start_time": "2022-06-09T12:03:01.650Z"
   },
   {
    "duration": 0,
    "start_time": "2022-06-09T12:03:01.651Z"
   },
   {
    "duration": 0,
    "start_time": "2022-06-09T12:03:01.652Z"
   },
   {
    "duration": 0,
    "start_time": "2022-06-09T12:03:01.653Z"
   },
   {
    "duration": 0,
    "start_time": "2022-06-09T12:03:01.654Z"
   },
   {
    "duration": 0,
    "start_time": "2022-06-09T12:03:01.656Z"
   },
   {
    "duration": 0,
    "start_time": "2022-06-09T12:03:01.657Z"
   },
   {
    "duration": 34268,
    "start_time": "2022-06-09T12:03:31.081Z"
   },
   {
    "duration": 8,
    "start_time": "2022-06-09T12:04:05.352Z"
   },
   {
    "duration": 5,
    "start_time": "2022-06-09T12:04:08.050Z"
   },
   {
    "duration": 35926,
    "start_time": "2022-06-09T12:04:52.805Z"
   },
   {
    "duration": 7,
    "start_time": "2022-06-09T12:05:28.732Z"
   },
   {
    "duration": 5,
    "start_time": "2022-06-09T12:05:30.565Z"
   },
   {
    "duration": 35041,
    "start_time": "2022-06-09T12:05:48.595Z"
   },
   {
    "duration": 19825,
    "start_time": "2022-06-09T12:06:46.085Z"
   },
   {
    "duration": 7,
    "start_time": "2022-06-09T12:07:05.914Z"
   },
   {
    "duration": 6,
    "start_time": "2022-06-09T12:07:34.035Z"
   },
   {
    "duration": 5,
    "start_time": "2022-06-09T12:07:41.573Z"
   },
   {
    "duration": 20276,
    "start_time": "2022-06-09T12:07:58.430Z"
   },
   {
    "duration": 7,
    "start_time": "2022-06-09T12:08:21.661Z"
   },
   {
    "duration": 6,
    "start_time": "2022-06-09T12:08:23.818Z"
   },
   {
    "duration": 15,
    "start_time": "2022-06-09T12:08:25.892Z"
   },
   {
    "duration": 5,
    "start_time": "2022-06-09T12:08:27.748Z"
   },
   {
    "duration": 19399,
    "start_time": "2022-06-09T12:08:45.467Z"
   },
   {
    "duration": 11,
    "start_time": "2022-06-09T12:09:06.489Z"
   },
   {
    "duration": 23,
    "start_time": "2022-06-09T12:09:09.225Z"
   },
   {
    "duration": 6,
    "start_time": "2022-06-09T12:09:11.341Z"
   },
   {
    "duration": 5,
    "start_time": "2022-06-09T12:09:13.163Z"
   },
   {
    "duration": 34,
    "start_time": "2022-06-09T12:09:28.078Z"
   },
   {
    "duration": 19329,
    "start_time": "2022-06-09T12:14:30.562Z"
   },
   {
    "duration": 8,
    "start_time": "2022-06-09T12:14:53.465Z"
   },
   {
    "duration": 5,
    "start_time": "2022-06-09T12:14:55.778Z"
   },
   {
    "duration": 6,
    "start_time": "2022-06-09T12:14:57.946Z"
   },
   {
    "duration": 5,
    "start_time": "2022-06-09T12:14:59.781Z"
   },
   {
    "duration": 19921,
    "start_time": "2022-06-09T12:15:10.963Z"
   },
   {
    "duration": 9,
    "start_time": "2022-06-09T12:15:40.453Z"
   },
   {
    "duration": 6,
    "start_time": "2022-06-09T12:15:42.523Z"
   },
   {
    "duration": 6,
    "start_time": "2022-06-09T12:15:44.850Z"
   },
   {
    "duration": 6,
    "start_time": "2022-06-09T12:15:46.661Z"
   },
   {
    "duration": 34,
    "start_time": "2022-06-09T12:15:49.952Z"
   },
   {
    "duration": 17333,
    "start_time": "2022-06-09T12:16:23.845Z"
   },
   {
    "duration": 7,
    "start_time": "2022-06-09T12:16:41.179Z"
   },
   {
    "duration": 5,
    "start_time": "2022-06-09T12:16:44.381Z"
   },
   {
    "duration": 6,
    "start_time": "2022-06-09T12:16:47.346Z"
   },
   {
    "duration": 7,
    "start_time": "2022-06-09T12:16:49.396Z"
   },
   {
    "duration": 30,
    "start_time": "2022-06-09T12:21:38.462Z"
   },
   {
    "duration": 44,
    "start_time": "2022-06-09T12:23:03.416Z"
   },
   {
    "duration": 8,
    "start_time": "2022-06-09T12:23:43.842Z"
   },
   {
    "duration": 19,
    "start_time": "2022-06-09T12:24:17.496Z"
   },
   {
    "duration": 10,
    "start_time": "2022-06-09T12:24:38.316Z"
   },
   {
    "duration": 7,
    "start_time": "2022-06-09T12:30:04.355Z"
   },
   {
    "duration": 6,
    "start_time": "2022-06-09T12:30:05.613Z"
   },
   {
    "duration": 4,
    "start_time": "2022-06-09T12:30:22.575Z"
   },
   {
    "duration": 36,
    "start_time": "2022-06-09T12:33:19.638Z"
   },
   {
    "duration": 5,
    "start_time": "2022-06-09T12:35:15.941Z"
   },
   {
    "duration": 567,
    "start_time": "2022-06-09T12:50:34.318Z"
   },
   {
    "duration": 17,
    "start_time": "2022-06-09T12:50:43.794Z"
   },
   {
    "duration": 26,
    "start_time": "2022-06-09T12:51:05.740Z"
   },
   {
    "duration": 902,
    "start_time": "2022-06-09T12:51:11.640Z"
   },
   {
    "duration": 30,
    "start_time": "2022-06-09T12:51:19.980Z"
   },
   {
    "duration": 49,
    "start_time": "2022-06-09T12:53:53.558Z"
   },
   {
    "duration": 37,
    "start_time": "2022-06-09T12:54:05.810Z"
   },
   {
    "duration": 59,
    "start_time": "2022-06-09T12:55:28.892Z"
   },
   {
    "duration": 47,
    "start_time": "2022-06-09T12:55:45.107Z"
   },
   {
    "duration": 7,
    "start_time": "2022-06-09T13:02:28.575Z"
   },
   {
    "duration": 50,
    "start_time": "2022-06-09T13:02:34.682Z"
   },
   {
    "duration": 57,
    "start_time": "2022-06-09T13:04:49.277Z"
   },
   {
    "duration": 27,
    "start_time": "2022-06-09T13:05:22.814Z"
   },
   {
    "duration": 20,
    "start_time": "2022-06-09T13:06:37.757Z"
   },
   {
    "duration": 7,
    "start_time": "2022-06-09T13:07:51.812Z"
   },
   {
    "duration": 15,
    "start_time": "2022-06-09T13:08:16.650Z"
   },
   {
    "duration": 36,
    "start_time": "2022-06-09T13:08:49.950Z"
   },
   {
    "duration": 24,
    "start_time": "2022-06-09T13:08:58.417Z"
   },
   {
    "duration": 24,
    "start_time": "2022-06-09T13:16:50.452Z"
   },
   {
    "duration": 25,
    "start_time": "2022-06-09T13:18:37.515Z"
   },
   {
    "duration": 37,
    "start_time": "2022-06-09T13:19:30.816Z"
   },
   {
    "duration": 28,
    "start_time": "2022-06-09T13:21:42.354Z"
   },
   {
    "duration": 48,
    "start_time": "2022-06-09T13:26:12.681Z"
   },
   {
    "duration": 31,
    "start_time": "2022-06-09T13:29:45.817Z"
   },
   {
    "duration": 577,
    "start_time": "2022-06-09T13:31:26.764Z"
   },
   {
    "duration": 152,
    "start_time": "2022-06-09T13:31:43.256Z"
   },
   {
    "duration": 187,
    "start_time": "2022-06-09T13:31:46.950Z"
   },
   {
    "duration": 305,
    "start_time": "2022-06-09T13:31:54.752Z"
   },
   {
    "duration": 906,
    "start_time": "2022-06-09T13:32:01.498Z"
   },
   {
    "duration": 189,
    "start_time": "2022-06-09T13:32:06.092Z"
   },
   {
    "duration": 200,
    "start_time": "2022-06-09T13:33:11.716Z"
   },
   {
    "duration": 191,
    "start_time": "2022-06-09T13:33:45.689Z"
   },
   {
    "duration": 130,
    "start_time": "2022-06-09T13:34:20.950Z"
   },
   {
    "duration": 185,
    "start_time": "2022-06-09T13:34:34.851Z"
   },
   {
    "duration": 862,
    "start_time": "2022-06-09T13:34:40.074Z"
   },
   {
    "duration": 1568,
    "start_time": "2022-06-09T13:34:50.594Z"
   },
   {
    "duration": 53,
    "start_time": "2022-06-09T13:35:16.793Z"
   },
   {
    "duration": 1577,
    "start_time": "2022-06-09T13:35:21.156Z"
   },
   {
    "duration": 1672,
    "start_time": "2022-06-09T13:35:30.062Z"
   },
   {
    "duration": 236,
    "start_time": "2022-06-09T13:35:36.554Z"
   },
   {
    "duration": 503,
    "start_time": "2022-06-09T13:35:42.046Z"
   },
   {
    "duration": 66,
    "start_time": "2022-06-09T13:42:50.591Z"
   },
   {
    "duration": 781,
    "start_time": "2022-06-09T13:42:56.651Z"
   },
   {
    "duration": 343,
    "start_time": "2022-06-09T13:42:57.434Z"
   },
   {
    "duration": 28,
    "start_time": "2022-06-09T13:42:57.779Z"
   },
   {
    "duration": 50,
    "start_time": "2022-06-09T13:42:57.809Z"
   },
   {
    "duration": 74,
    "start_time": "2022-06-09T13:42:57.862Z"
   },
   {
    "duration": 4,
    "start_time": "2022-06-09T13:42:57.938Z"
   },
   {
    "duration": 17,
    "start_time": "2022-06-09T13:42:57.943Z"
   },
   {
    "duration": 16,
    "start_time": "2022-06-09T13:42:57.962Z"
   },
   {
    "duration": 56,
    "start_time": "2022-06-09T13:42:58.002Z"
   },
   {
    "duration": 5,
    "start_time": "2022-06-09T13:42:58.060Z"
   },
   {
    "duration": 18148,
    "start_time": "2022-06-09T13:42:58.067Z"
   },
   {
    "duration": 10,
    "start_time": "2022-06-09T13:43:16.220Z"
   },
   {
    "duration": 6,
    "start_time": "2022-06-09T13:43:16.231Z"
   },
   {
    "duration": 7,
    "start_time": "2022-06-09T13:43:16.241Z"
   },
   {
    "duration": 5,
    "start_time": "2022-06-09T13:43:16.250Z"
   },
   {
    "duration": 8,
    "start_time": "2022-06-09T13:43:16.257Z"
   },
   {
    "duration": 6,
    "start_time": "2022-06-09T13:43:16.267Z"
   },
   {
    "duration": 28,
    "start_time": "2022-06-09T13:43:16.302Z"
   },
   {
    "duration": 6,
    "start_time": "2022-06-09T13:43:16.332Z"
   },
   {
    "duration": 10,
    "start_time": "2022-06-09T13:43:16.340Z"
   },
   {
    "duration": 9,
    "start_time": "2022-06-09T13:43:16.351Z"
   },
   {
    "duration": 59,
    "start_time": "2022-06-09T13:43:16.362Z"
   },
   {
    "duration": 8,
    "start_time": "2022-06-09T13:43:16.422Z"
   },
   {
    "duration": 19,
    "start_time": "2022-06-09T13:43:16.431Z"
   },
   {
    "duration": 73,
    "start_time": "2022-06-09T13:43:16.451Z"
   },
   {
    "duration": 0,
    "start_time": "2022-06-09T13:43:16.526Z"
   },
   {
    "duration": 0,
    "start_time": "2022-06-09T13:43:16.527Z"
   },
   {
    "duration": 0,
    "start_time": "2022-06-09T13:43:16.528Z"
   },
   {
    "duration": 0,
    "start_time": "2022-06-09T13:43:16.529Z"
   },
   {
    "duration": 0,
    "start_time": "2022-06-09T13:43:16.531Z"
   },
   {
    "duration": 0,
    "start_time": "2022-06-09T13:43:16.532Z"
   },
   {
    "duration": 0,
    "start_time": "2022-06-09T13:43:16.533Z"
   },
   {
    "duration": 0,
    "start_time": "2022-06-09T13:43:16.534Z"
   },
   {
    "duration": 0,
    "start_time": "2022-06-09T13:43:16.535Z"
   },
   {
    "duration": 0,
    "start_time": "2022-06-09T13:43:16.537Z"
   },
   {
    "duration": 0,
    "start_time": "2022-06-09T13:43:16.537Z"
   },
   {
    "duration": 0,
    "start_time": "2022-06-09T13:43:16.539Z"
   },
   {
    "duration": 33,
    "start_time": "2022-06-09T13:43:26.955Z"
   },
   {
    "duration": 533,
    "start_time": "2022-06-09T13:43:30.893Z"
   },
   {
    "duration": 132,
    "start_time": "2022-06-09T13:43:33.718Z"
   },
   {
    "duration": 151,
    "start_time": "2022-06-09T13:43:40.610Z"
   },
   {
    "duration": 186,
    "start_time": "2022-06-09T13:43:44.605Z"
   },
   {
    "duration": 37,
    "start_time": "2022-06-09T13:45:47.093Z"
   },
   {
    "duration": 23,
    "start_time": "2022-06-09T13:45:53.301Z"
   },
   {
    "duration": 192,
    "start_time": "2022-06-09T13:46:01.942Z"
   },
   {
    "duration": 164,
    "start_time": "2022-06-09T13:46:11.965Z"
   },
   {
    "duration": 151,
    "start_time": "2022-06-09T13:46:17.692Z"
   },
   {
    "duration": 136,
    "start_time": "2022-06-09T13:46:23.120Z"
   },
   {
    "duration": 157,
    "start_time": "2022-06-09T13:46:31.189Z"
   },
   {
    "duration": 152,
    "start_time": "2022-06-09T13:46:46.491Z"
   },
   {
    "duration": 146,
    "start_time": "2022-06-09T13:47:01.135Z"
   },
   {
    "duration": 172,
    "start_time": "2022-06-09T13:47:08.757Z"
   },
   {
    "duration": 168,
    "start_time": "2022-06-09T13:47:16.794Z"
   },
   {
    "duration": 9,
    "start_time": "2022-06-09T13:48:50.715Z"
   },
   {
    "duration": 82,
    "start_time": "2022-06-09T13:48:53.588Z"
   },
   {
    "duration": 20,
    "start_time": "2022-06-09T13:49:07.250Z"
   },
   {
    "duration": 198,
    "start_time": "2022-06-09T13:49:14.970Z"
   },
   {
    "duration": 239,
    "start_time": "2022-06-09T13:52:43.245Z"
   },
   {
    "duration": 159,
    "start_time": "2022-06-09T13:52:53.950Z"
   },
   {
    "duration": 169,
    "start_time": "2022-06-09T13:53:11.610Z"
   },
   {
    "duration": 160,
    "start_time": "2022-06-09T13:53:22.712Z"
   },
   {
    "duration": 165,
    "start_time": "2022-06-09T13:53:28.014Z"
   },
   {
    "duration": 165,
    "start_time": "2022-06-09T13:53:33.988Z"
   },
   {
    "duration": 161,
    "start_time": "2022-06-09T13:53:36.093Z"
   },
   {
    "duration": 162,
    "start_time": "2022-06-09T13:53:45.127Z"
   },
   {
    "duration": 161,
    "start_time": "2022-06-09T13:53:52.930Z"
   },
   {
    "duration": 169,
    "start_time": "2022-06-09T13:54:01.454Z"
   },
   {
    "duration": 181,
    "start_time": "2022-06-09T13:54:04.941Z"
   },
   {
    "duration": 282,
    "start_time": "2022-06-09T13:54:09.358Z"
   },
   {
    "duration": 141,
    "start_time": "2022-06-09T13:54:15.319Z"
   },
   {
    "duration": 147,
    "start_time": "2022-06-09T13:54:18.619Z"
   },
   {
    "duration": 232,
    "start_time": "2022-06-09T13:54:28.845Z"
   },
   {
    "duration": 181,
    "start_time": "2022-06-09T13:54:36.838Z"
   },
   {
    "duration": 201,
    "start_time": "2022-06-09T13:54:42.919Z"
   },
   {
    "duration": 280,
    "start_time": "2022-06-09T13:54:52.380Z"
   },
   {
    "duration": 198,
    "start_time": "2022-06-09T13:55:06.889Z"
   },
   {
    "duration": 187,
    "start_time": "2022-06-09T13:55:14.789Z"
   },
   {
    "duration": 414,
    "start_time": "2022-06-09T13:55:18.714Z"
   },
   {
    "duration": 251,
    "start_time": "2022-06-09T13:55:52.727Z"
   },
   {
    "duration": 203,
    "start_time": "2022-06-09T13:56:00.016Z"
   },
   {
    "duration": 228,
    "start_time": "2022-06-09T13:57:38.031Z"
   },
   {
    "duration": 215,
    "start_time": "2022-06-09T13:58:05.192Z"
   },
   {
    "duration": 152,
    "start_time": "2022-06-09T13:58:17.552Z"
   },
   {
    "duration": 200,
    "start_time": "2022-06-09T13:58:25.127Z"
   },
   {
    "duration": 155,
    "start_time": "2022-06-09T13:58:33.691Z"
   },
   {
    "duration": 133,
    "start_time": "2022-06-09T13:58:50.320Z"
   },
   {
    "duration": 261,
    "start_time": "2022-06-09T13:59:04.216Z"
   },
   {
    "duration": 135,
    "start_time": "2022-06-09T13:59:07.043Z"
   },
   {
    "duration": 131,
    "start_time": "2022-06-09T13:59:13.718Z"
   },
   {
    "duration": 155,
    "start_time": "2022-06-09T13:59:16.547Z"
   },
   {
    "duration": 186,
    "start_time": "2022-06-09T13:59:19.992Z"
   },
   {
    "duration": 150,
    "start_time": "2022-06-09T13:59:23.821Z"
   },
   {
    "duration": 198,
    "start_time": "2022-06-09T13:59:26.621Z"
   },
   {
    "duration": 160,
    "start_time": "2022-06-09T13:59:31.020Z"
   },
   {
    "duration": 11,
    "start_time": "2022-06-09T14:00:58.445Z"
   },
   {
    "duration": 217,
    "start_time": "2022-06-09T14:01:03.566Z"
   },
   {
    "duration": 141,
    "start_time": "2022-06-09T14:01:15.209Z"
   },
   {
    "duration": 196,
    "start_time": "2022-06-09T14:01:21.929Z"
   },
   {
    "duration": 250,
    "start_time": "2022-06-09T14:01:29.093Z"
   },
   {
    "duration": 190,
    "start_time": "2022-06-09T14:01:37.580Z"
   },
   {
    "duration": 207,
    "start_time": "2022-06-09T14:01:44.834Z"
   },
   {
    "duration": 418,
    "start_time": "2022-06-09T14:01:54.420Z"
   },
   {
    "duration": 154,
    "start_time": "2022-06-09T14:02:10.093Z"
   },
   {
    "duration": 49,
    "start_time": "2022-06-09T14:05:50.169Z"
   },
   {
    "duration": 29,
    "start_time": "2022-06-09T14:06:09.222Z"
   },
   {
    "duration": 9,
    "start_time": "2022-06-09T14:07:52.147Z"
   },
   {
    "duration": 157,
    "start_time": "2022-06-09T14:08:35.217Z"
   },
   {
    "duration": 248,
    "start_time": "2022-06-09T14:08:43.010Z"
   },
   {
    "duration": 127,
    "start_time": "2022-06-09T14:08:56.110Z"
   },
   {
    "duration": 145,
    "start_time": "2022-06-09T14:09:04.914Z"
   },
   {
    "duration": 11,
    "start_time": "2022-06-09T14:11:23.732Z"
   },
   {
    "duration": 10,
    "start_time": "2022-06-09T14:11:39.258Z"
   },
   {
    "duration": 153,
    "start_time": "2022-06-09T14:16:59.660Z"
   },
   {
    "duration": 194,
    "start_time": "2022-06-09T14:17:10.165Z"
   },
   {
    "duration": 282,
    "start_time": "2022-06-09T14:17:24.661Z"
   },
   {
    "duration": 299,
    "start_time": "2022-06-09T14:17:42.470Z"
   },
   {
    "duration": 7,
    "start_time": "2022-06-10T09:34:18.527Z"
   },
   {
    "duration": 10,
    "start_time": "2022-06-10T09:37:56.855Z"
   },
   {
    "duration": 21,
    "start_time": "2022-06-10T09:38:34.311Z"
   },
   {
    "duration": 164,
    "start_time": "2022-06-10T09:38:38.468Z"
   },
   {
    "duration": 133,
    "start_time": "2022-06-10T09:38:46.507Z"
   },
   {
    "duration": 250,
    "start_time": "2022-06-10T09:38:50.734Z"
   },
   {
    "duration": 473,
    "start_time": "2022-06-10T09:39:00.737Z"
   },
   {
    "duration": 224,
    "start_time": "2022-06-10T09:39:19.295Z"
   },
   {
    "duration": 223,
    "start_time": "2022-06-10T09:39:38.817Z"
   },
   {
    "duration": 174,
    "start_time": "2022-06-10T09:39:47.000Z"
   },
   {
    "duration": 262,
    "start_time": "2022-06-10T09:39:59.063Z"
   },
   {
    "duration": 230,
    "start_time": "2022-06-10T09:40:08.981Z"
   },
   {
    "duration": 168,
    "start_time": "2022-06-10T09:40:18.246Z"
   },
   {
    "duration": 166,
    "start_time": "2022-06-10T09:40:34.947Z"
   },
   {
    "duration": 169,
    "start_time": "2022-06-10T09:41:04.417Z"
   },
   {
    "duration": 192,
    "start_time": "2022-06-10T09:41:12.328Z"
   },
   {
    "duration": 175,
    "start_time": "2022-06-10T09:41:24.544Z"
   },
   {
    "duration": 196,
    "start_time": "2022-06-10T09:41:49.482Z"
   },
   {
    "duration": 142,
    "start_time": "2022-06-10T09:42:22.909Z"
   },
   {
    "duration": 208,
    "start_time": "2022-06-10T09:42:32.154Z"
   },
   {
    "duration": 233,
    "start_time": "2022-06-10T09:42:49.774Z"
   },
   {
    "duration": 210,
    "start_time": "2022-06-10T09:43:01.147Z"
   },
   {
    "duration": 292,
    "start_time": "2022-06-10T09:43:08.925Z"
   },
   {
    "duration": 196,
    "start_time": "2022-06-10T09:43:18.513Z"
   },
   {
    "duration": 11,
    "start_time": "2022-06-10T09:46:42.386Z"
   },
   {
    "duration": 357,
    "start_time": "2022-06-10T09:48:19.856Z"
   },
   {
    "duration": 130,
    "start_time": "2022-06-10T09:48:46.986Z"
   },
   {
    "duration": 177,
    "start_time": "2022-06-10T09:50:49.969Z"
   },
   {
    "duration": 167,
    "start_time": "2022-06-10T09:51:07.118Z"
   },
   {
    "duration": 133,
    "start_time": "2022-06-10T09:51:11.534Z"
   },
   {
    "duration": 139,
    "start_time": "2022-06-10T09:51:16.911Z"
   },
   {
    "duration": 164,
    "start_time": "2022-06-10T09:52:01.594Z"
   },
   {
    "duration": 120,
    "start_time": "2022-06-10T09:52:15.428Z"
   },
   {
    "duration": 156,
    "start_time": "2022-06-10T09:52:21.557Z"
   },
   {
    "duration": 153,
    "start_time": "2022-06-10T09:52:58.585Z"
   },
   {
    "duration": 162,
    "start_time": "2022-06-10T09:53:09.368Z"
   },
   {
    "duration": 168,
    "start_time": "2022-06-10T09:53:15.769Z"
   },
   {
    "duration": 151,
    "start_time": "2022-06-10T09:53:19.324Z"
   },
   {
    "duration": 155,
    "start_time": "2022-06-10T09:53:33.577Z"
   },
   {
    "duration": 128,
    "start_time": "2022-06-10T09:53:51.336Z"
   },
   {
    "duration": 153,
    "start_time": "2022-06-10T09:53:57.655Z"
   },
   {
    "duration": 202,
    "start_time": "2022-06-10T09:54:14.089Z"
   },
   {
    "duration": 169,
    "start_time": "2022-06-10T09:54:20.768Z"
   },
   {
    "duration": 152,
    "start_time": "2022-06-10T09:54:31.606Z"
   },
   {
    "duration": 154,
    "start_time": "2022-06-10T09:54:44.071Z"
   },
   {
    "duration": 128,
    "start_time": "2022-06-10T09:55:02.234Z"
   },
   {
    "duration": 141,
    "start_time": "2022-06-10T09:55:20.467Z"
   },
   {
    "duration": 189,
    "start_time": "2022-06-10T09:57:27.167Z"
   },
   {
    "duration": 181,
    "start_time": "2022-06-10T09:57:43.199Z"
   },
   {
    "duration": 192,
    "start_time": "2022-06-10T09:57:46.438Z"
   },
   {
    "duration": 195,
    "start_time": "2022-06-10T09:58:02.112Z"
   },
   {
    "duration": 167,
    "start_time": "2022-06-10T09:59:02.651Z"
   },
   {
    "duration": 171,
    "start_time": "2022-06-10T09:59:09.693Z"
   },
   {
    "duration": 454,
    "start_time": "2022-06-10T09:59:17.731Z"
   },
   {
    "duration": 160,
    "start_time": "2022-06-10T10:00:05.206Z"
   },
   {
    "duration": 185,
    "start_time": "2022-06-10T10:02:31.440Z"
   },
   {
    "duration": 226,
    "start_time": "2022-06-10T10:02:35.214Z"
   },
   {
    "duration": 213,
    "start_time": "2022-06-10T10:02:48.755Z"
   },
   {
    "duration": 203,
    "start_time": "2022-06-10T10:02:54.311Z"
   },
   {
    "duration": 142,
    "start_time": "2022-06-10T10:03:01.542Z"
   },
   {
    "duration": 172,
    "start_time": "2022-06-10T10:03:09.557Z"
   },
   {
    "duration": 145,
    "start_time": "2022-06-10T10:03:12.298Z"
   },
   {
    "duration": 163,
    "start_time": "2022-06-10T10:03:16.530Z"
   },
   {
    "duration": 134,
    "start_time": "2022-06-10T10:03:21.653Z"
   },
   {
    "duration": 198,
    "start_time": "2022-06-10T10:03:29.486Z"
   },
   {
    "duration": 151,
    "start_time": "2022-06-10T10:03:33.172Z"
   },
   {
    "duration": 203,
    "start_time": "2022-06-10T10:03:47.675Z"
   },
   {
    "duration": 162,
    "start_time": "2022-06-10T10:03:51.255Z"
   },
   {
    "duration": 208,
    "start_time": "2022-06-10T10:03:58.470Z"
   },
   {
    "duration": 198,
    "start_time": "2022-06-10T10:04:01.944Z"
   },
   {
    "duration": 171,
    "start_time": "2022-06-10T10:04:05.738Z"
   },
   {
    "duration": 154,
    "start_time": "2022-06-10T10:04:12.498Z"
   },
   {
    "duration": 118,
    "start_time": "2022-06-10T10:04:40.323Z"
   },
   {
    "duration": 3,
    "start_time": "2022-06-10T10:05:17.915Z"
   },
   {
    "duration": 8,
    "start_time": "2022-06-10T10:06:07.348Z"
   },
   {
    "duration": 3,
    "start_time": "2022-06-10T10:06:24.378Z"
   },
   {
    "duration": 153,
    "start_time": "2022-06-10T10:06:30.726Z"
   },
   {
    "duration": 105,
    "start_time": "2022-06-10T10:06:37.713Z"
   },
   {
    "duration": 101,
    "start_time": "2022-06-10T10:12:34.532Z"
   },
   {
    "duration": 110,
    "start_time": "2022-06-10T10:12:42.247Z"
   },
   {
    "duration": 101,
    "start_time": "2022-06-10T10:12:51.360Z"
   },
   {
    "duration": 125,
    "start_time": "2022-06-10T10:13:25.488Z"
   },
   {
    "duration": 96,
    "start_time": "2022-06-10T10:13:27.744Z"
   },
   {
    "duration": 115,
    "start_time": "2022-06-10T10:13:31.710Z"
   },
   {
    "duration": 136,
    "start_time": "2022-06-10T10:15:41.191Z"
   },
   {
    "duration": 121,
    "start_time": "2022-06-10T10:15:44.205Z"
   },
   {
    "duration": 144,
    "start_time": "2022-06-10T10:15:54.994Z"
   },
   {
    "duration": 160,
    "start_time": "2022-06-10T10:15:57.961Z"
   },
   {
    "duration": 121,
    "start_time": "2022-06-10T10:16:00.562Z"
   },
   {
    "duration": 121,
    "start_time": "2022-06-10T10:17:47.030Z"
   },
   {
    "duration": 129,
    "start_time": "2022-06-10T10:17:58.119Z"
   },
   {
    "duration": 10,
    "start_time": "2022-06-10T10:18:18.732Z"
   },
   {
    "duration": 117,
    "start_time": "2022-06-10T10:18:43.432Z"
   },
   {
    "duration": 143,
    "start_time": "2022-06-10T10:19:28.686Z"
   },
   {
    "duration": 148,
    "start_time": "2022-06-10T10:20:21.157Z"
   },
   {
    "duration": 142,
    "start_time": "2022-06-10T10:20:23.585Z"
   },
   {
    "duration": 140,
    "start_time": "2022-06-10T10:21:50.184Z"
   },
   {
    "duration": 95,
    "start_time": "2022-06-10T10:23:11.574Z"
   },
   {
    "duration": 132,
    "start_time": "2022-06-10T10:23:15.609Z"
   },
   {
    "duration": 3,
    "start_time": "2022-06-10T10:23:27.016Z"
   },
   {
    "duration": 214,
    "start_time": "2022-06-10T10:25:20.240Z"
   },
   {
    "duration": 123,
    "start_time": "2022-06-10T10:28:19.680Z"
   },
   {
    "duration": 136,
    "start_time": "2022-06-10T10:29:28.706Z"
   },
   {
    "duration": 146,
    "start_time": "2022-06-10T10:29:35.724Z"
   },
   {
    "duration": 12,
    "start_time": "2022-06-10T10:31:43.514Z"
   },
   {
    "duration": 11,
    "start_time": "2022-06-10T10:32:18.970Z"
   },
   {
    "duration": 409,
    "start_time": "2022-06-10T10:32:39.010Z"
   },
   {
    "duration": 9,
    "start_time": "2022-06-10T10:32:40.815Z"
   },
   {
    "duration": 8,
    "start_time": "2022-06-10T10:32:48.184Z"
   },
   {
    "duration": 9,
    "start_time": "2022-06-10T10:32:49.858Z"
   },
   {
    "duration": 9,
    "start_time": "2022-06-10T10:32:56.266Z"
   },
   {
    "duration": 11,
    "start_time": "2022-06-10T10:32:58.021Z"
   },
   {
    "duration": 9,
    "start_time": "2022-06-10T10:33:02.280Z"
   },
   {
    "duration": 9,
    "start_time": "2022-06-10T10:33:04.578Z"
   },
   {
    "duration": 50,
    "start_time": "2022-06-10T10:34:30.917Z"
   },
   {
    "duration": 9,
    "start_time": "2022-06-10T10:34:41.822Z"
   },
   {
    "duration": 9,
    "start_time": "2022-06-10T10:34:46.871Z"
   },
   {
    "duration": 28,
    "start_time": "2022-06-10T10:36:57.850Z"
   },
   {
    "duration": 24,
    "start_time": "2022-06-10T10:37:24.257Z"
   },
   {
    "duration": 11,
    "start_time": "2022-06-10T10:37:29.284Z"
   },
   {
    "duration": 9,
    "start_time": "2022-06-10T10:37:41.273Z"
   },
   {
    "duration": 16,
    "start_time": "2022-06-10T10:38:02.489Z"
   },
   {
    "duration": 8,
    "start_time": "2022-06-10T10:38:04.473Z"
   },
   {
    "duration": 11,
    "start_time": "2022-06-10T10:38:10.806Z"
   },
   {
    "duration": 9,
    "start_time": "2022-06-10T10:38:12.928Z"
   },
   {
    "duration": 36,
    "start_time": "2022-06-10T10:38:48.153Z"
   },
   {
    "duration": 12,
    "start_time": "2022-06-10T10:39:14.381Z"
   },
   {
    "duration": 9,
    "start_time": "2022-06-10T10:39:16.716Z"
   },
   {
    "duration": 11,
    "start_time": "2022-06-10T10:39:24.753Z"
   },
   {
    "duration": 8,
    "start_time": "2022-06-10T10:39:26.507Z"
   },
   {
    "duration": 4,
    "start_time": "2022-06-10T10:42:03.259Z"
   },
   {
    "duration": 10,
    "start_time": "2022-06-10T10:43:37.882Z"
   },
   {
    "duration": 5,
    "start_time": "2022-06-10T10:43:39.724Z"
   },
   {
    "duration": 10,
    "start_time": "2022-06-10T10:43:43.480Z"
   },
   {
    "duration": 11,
    "start_time": "2022-06-10T10:43:46.082Z"
   },
   {
    "duration": 5,
    "start_time": "2022-06-10T10:43:47.912Z"
   },
   {
    "duration": 10,
    "start_time": "2022-06-10T10:43:52.476Z"
   },
   {
    "duration": 11,
    "start_time": "2022-06-10T10:43:57.850Z"
   },
   {
    "duration": 4,
    "start_time": "2022-06-10T10:43:59.557Z"
   },
   {
    "duration": 12,
    "start_time": "2022-06-10T10:44:06.269Z"
   },
   {
    "duration": 4,
    "start_time": "2022-06-10T10:44:07.975Z"
   },
   {
    "duration": 9,
    "start_time": "2022-06-10T10:44:15.406Z"
   },
   {
    "duration": 5,
    "start_time": "2022-06-10T10:44:16.957Z"
   },
   {
    "duration": 10,
    "start_time": "2022-06-10T10:44:25.882Z"
   },
   {
    "duration": 5,
    "start_time": "2022-06-10T10:44:28.456Z"
   },
   {
    "duration": 6,
    "start_time": "2022-06-10T10:44:44.058Z"
   },
   {
    "duration": 10,
    "start_time": "2022-06-10T10:44:49.380Z"
   },
   {
    "duration": 8,
    "start_time": "2022-06-10T10:44:51.102Z"
   },
   {
    "duration": 11,
    "start_time": "2022-06-10T10:44:56.263Z"
   },
   {
    "duration": 11,
    "start_time": "2022-06-10T10:44:58.293Z"
   },
   {
    "duration": 5,
    "start_time": "2022-06-10T10:45:02.707Z"
   },
   {
    "duration": 11,
    "start_time": "2022-06-10T10:45:09.804Z"
   },
   {
    "duration": 4,
    "start_time": "2022-06-10T10:45:11.337Z"
   },
   {
    "duration": 10,
    "start_time": "2022-06-10T10:45:16.048Z"
   },
   {
    "duration": 9,
    "start_time": "2022-06-10T10:45:17.494Z"
   },
   {
    "duration": 13,
    "start_time": "2022-06-10T10:45:20.703Z"
   },
   {
    "duration": 5,
    "start_time": "2022-06-10T10:45:22.786Z"
   },
   {
    "duration": 10,
    "start_time": "2022-06-10T10:45:31.041Z"
   },
   {
    "duration": 4,
    "start_time": "2022-06-10T10:45:33.005Z"
   },
   {
    "duration": 4,
    "start_time": "2022-06-10T10:45:41.849Z"
   },
   {
    "duration": 13,
    "start_time": "2022-06-10T10:45:54.597Z"
   },
   {
    "duration": 4,
    "start_time": "2022-06-10T10:45:56.316Z"
   },
   {
    "duration": 14,
    "start_time": "2022-06-10T10:46:02.440Z"
   },
   {
    "duration": 4,
    "start_time": "2022-06-10T10:46:04.732Z"
   },
   {
    "duration": 16,
    "start_time": "2022-06-10T10:46:19.282Z"
   },
   {
    "duration": 15,
    "start_time": "2022-06-10T10:46:20.894Z"
   },
   {
    "duration": 10,
    "start_time": "2022-06-10T10:46:24.579Z"
   },
   {
    "duration": 4,
    "start_time": "2022-06-10T10:46:26.264Z"
   },
   {
    "duration": 14,
    "start_time": "2022-06-10T10:46:30.005Z"
   },
   {
    "duration": 5,
    "start_time": "2022-06-10T10:46:31.784Z"
   },
   {
    "duration": 10,
    "start_time": "2022-06-10T10:46:39.733Z"
   },
   {
    "duration": 5,
    "start_time": "2022-06-10T10:46:42.272Z"
   },
   {
    "duration": 10,
    "start_time": "2022-06-10T10:48:22.254Z"
   },
   {
    "duration": 4,
    "start_time": "2022-06-10T10:48:24.781Z"
   },
   {
    "duration": 4,
    "start_time": "2022-06-10T11:08:50.744Z"
   },
   {
    "duration": 459,
    "start_time": "2022-06-10T11:09:00.077Z"
   },
   {
    "duration": 3,
    "start_time": "2022-06-10T11:09:17.711Z"
   },
   {
    "duration": 101,
    "start_time": "2022-06-10T11:09:17.716Z"
   },
   {
    "duration": 17,
    "start_time": "2022-06-10T11:09:17.819Z"
   },
   {
    "duration": 72,
    "start_time": "2022-06-10T11:09:17.838Z"
   },
   {
    "duration": 72,
    "start_time": "2022-06-10T11:09:17.913Z"
   },
   {
    "duration": 8,
    "start_time": "2022-06-10T11:09:17.987Z"
   },
   {
    "duration": 25,
    "start_time": "2022-06-10T11:09:17.996Z"
   },
   {
    "duration": 18,
    "start_time": "2022-06-10T11:09:18.023Z"
   },
   {
    "duration": 69,
    "start_time": "2022-06-10T11:09:18.043Z"
   },
   {
    "duration": 4,
    "start_time": "2022-06-10T11:09:18.114Z"
   },
   {
    "duration": 18501,
    "start_time": "2022-06-10T11:09:18.122Z"
   },
   {
    "duration": 8,
    "start_time": "2022-06-10T11:09:36.625Z"
   },
   {
    "duration": 9,
    "start_time": "2022-06-10T11:09:36.635Z"
   },
   {
    "duration": 12,
    "start_time": "2022-06-10T11:09:36.648Z"
   },
   {
    "duration": 27,
    "start_time": "2022-06-10T11:09:36.662Z"
   },
   {
    "duration": 32,
    "start_time": "2022-06-10T11:09:36.695Z"
   },
   {
    "duration": 6,
    "start_time": "2022-06-10T11:09:36.728Z"
   },
   {
    "duration": 10,
    "start_time": "2022-06-10T11:09:36.736Z"
   },
   {
    "duration": 6,
    "start_time": "2022-06-10T11:09:36.748Z"
   },
   {
    "duration": 12,
    "start_time": "2022-06-10T11:09:36.755Z"
   },
   {
    "duration": 9,
    "start_time": "2022-06-10T11:09:36.769Z"
   },
   {
    "duration": 49,
    "start_time": "2022-06-10T11:09:36.780Z"
   },
   {
    "duration": 5,
    "start_time": "2022-06-10T11:09:36.831Z"
   },
   {
    "duration": 18,
    "start_time": "2022-06-10T11:09:36.838Z"
   },
   {
    "duration": 449,
    "start_time": "2022-06-10T11:09:36.857Z"
   },
   {
    "duration": 0,
    "start_time": "2022-06-10T11:09:37.309Z"
   },
   {
    "duration": 0,
    "start_time": "2022-06-10T11:09:37.310Z"
   },
   {
    "duration": 0,
    "start_time": "2022-06-10T11:09:37.311Z"
   },
   {
    "duration": 0,
    "start_time": "2022-06-10T11:09:37.313Z"
   },
   {
    "duration": 0,
    "start_time": "2022-06-10T11:09:37.314Z"
   },
   {
    "duration": 0,
    "start_time": "2022-06-10T11:09:37.316Z"
   },
   {
    "duration": 0,
    "start_time": "2022-06-10T11:09:37.317Z"
   },
   {
    "duration": 0,
    "start_time": "2022-06-10T11:09:37.318Z"
   },
   {
    "duration": 0,
    "start_time": "2022-06-10T11:09:37.319Z"
   },
   {
    "duration": 0,
    "start_time": "2022-06-10T11:09:37.320Z"
   },
   {
    "duration": 0,
    "start_time": "2022-06-10T11:09:37.322Z"
   },
   {
    "duration": 0,
    "start_time": "2022-06-10T11:09:37.323Z"
   },
   {
    "duration": 0,
    "start_time": "2022-06-10T11:09:37.325Z"
   },
   {
    "duration": 0,
    "start_time": "2022-06-10T11:09:37.327Z"
   },
   {
    "duration": 0,
    "start_time": "2022-06-10T11:09:37.328Z"
   },
   {
    "duration": 0,
    "start_time": "2022-06-10T11:09:37.329Z"
   },
   {
    "duration": 0,
    "start_time": "2022-06-10T11:09:37.331Z"
   },
   {
    "duration": 0,
    "start_time": "2022-06-10T11:09:37.332Z"
   },
   {
    "duration": 0,
    "start_time": "2022-06-10T11:09:37.333Z"
   },
   {
    "duration": 0,
    "start_time": "2022-06-10T11:09:37.334Z"
   },
   {
    "duration": 0,
    "start_time": "2022-06-10T11:09:37.336Z"
   },
   {
    "duration": 0,
    "start_time": "2022-06-10T11:09:37.337Z"
   },
   {
    "duration": 0,
    "start_time": "2022-06-10T11:09:37.339Z"
   },
   {
    "duration": 0,
    "start_time": "2022-06-10T11:09:37.340Z"
   },
   {
    "duration": 0,
    "start_time": "2022-06-10T11:09:37.341Z"
   },
   {
    "duration": 415,
    "start_time": "2022-06-10T11:10:49.444Z"
   },
   {
    "duration": 434,
    "start_time": "2022-06-10T11:11:42.502Z"
   },
   {
    "duration": 15,
    "start_time": "2022-06-10T11:12:15.309Z"
   },
   {
    "duration": 6,
    "start_time": "2022-06-10T11:12:48.975Z"
   },
   {
    "duration": 15,
    "start_time": "2022-06-10T11:13:05.107Z"
   },
   {
    "duration": 16,
    "start_time": "2022-06-10T11:13:36.759Z"
   },
   {
    "duration": 13,
    "start_time": "2022-06-10T11:13:46.853Z"
   },
   {
    "duration": 6,
    "start_time": "2022-06-10T11:13:59.493Z"
   },
   {
    "duration": 7,
    "start_time": "2022-06-10T11:14:29.605Z"
   },
   {
    "duration": 14,
    "start_time": "2022-06-10T11:14:38.644Z"
   },
   {
    "duration": 3,
    "start_time": "2022-06-10T11:15:08.476Z"
   },
   {
    "duration": 105,
    "start_time": "2022-06-10T11:15:08.481Z"
   },
   {
    "duration": 21,
    "start_time": "2022-06-10T11:15:08.588Z"
   },
   {
    "duration": 49,
    "start_time": "2022-06-10T11:15:08.611Z"
   },
   {
    "duration": 84,
    "start_time": "2022-06-10T11:15:08.662Z"
   },
   {
    "duration": 4,
    "start_time": "2022-06-10T11:15:08.747Z"
   },
   {
    "duration": 20,
    "start_time": "2022-06-10T11:15:08.753Z"
   },
   {
    "duration": 36,
    "start_time": "2022-06-10T11:15:08.775Z"
   },
   {
    "duration": 54,
    "start_time": "2022-06-10T11:15:08.813Z"
   },
   {
    "duration": 5,
    "start_time": "2022-06-10T11:15:08.869Z"
   },
   {
    "duration": 17481,
    "start_time": "2022-06-10T11:15:08.877Z"
   },
   {
    "duration": 7,
    "start_time": "2022-06-10T11:15:26.360Z"
   },
   {
    "duration": 10,
    "start_time": "2022-06-10T11:15:26.369Z"
   },
   {
    "duration": 22,
    "start_time": "2022-06-10T11:15:26.381Z"
   },
   {
    "duration": 17,
    "start_time": "2022-06-10T11:15:26.407Z"
   },
   {
    "duration": 28,
    "start_time": "2022-06-10T11:15:26.426Z"
   },
   {
    "duration": 5,
    "start_time": "2022-06-10T11:15:26.456Z"
   },
   {
    "duration": 6,
    "start_time": "2022-06-10T11:15:26.463Z"
   },
   {
    "duration": 5,
    "start_time": "2022-06-10T11:15:26.470Z"
   },
   {
    "duration": 10,
    "start_time": "2022-06-10T11:15:26.477Z"
   },
   {
    "duration": 35,
    "start_time": "2022-06-10T11:15:26.488Z"
   },
   {
    "duration": 53,
    "start_time": "2022-06-10T11:15:26.525Z"
   },
   {
    "duration": 7,
    "start_time": "2022-06-10T11:15:26.580Z"
   },
   {
    "duration": 26,
    "start_time": "2022-06-10T11:15:26.588Z"
   },
   {
    "duration": 435,
    "start_time": "2022-06-10T11:15:26.616Z"
   },
   {
    "duration": 0,
    "start_time": "2022-06-10T11:15:27.053Z"
   },
   {
    "duration": 0,
    "start_time": "2022-06-10T11:15:27.054Z"
   },
   {
    "duration": 0,
    "start_time": "2022-06-10T11:15:27.055Z"
   },
   {
    "duration": 0,
    "start_time": "2022-06-10T11:15:27.056Z"
   },
   {
    "duration": 0,
    "start_time": "2022-06-10T11:15:27.058Z"
   },
   {
    "duration": 0,
    "start_time": "2022-06-10T11:15:27.059Z"
   },
   {
    "duration": 0,
    "start_time": "2022-06-10T11:15:27.060Z"
   },
   {
    "duration": 0,
    "start_time": "2022-06-10T11:15:27.061Z"
   },
   {
    "duration": 0,
    "start_time": "2022-06-10T11:15:27.062Z"
   },
   {
    "duration": 0,
    "start_time": "2022-06-10T11:15:27.063Z"
   },
   {
    "duration": 0,
    "start_time": "2022-06-10T11:15:27.064Z"
   },
   {
    "duration": 0,
    "start_time": "2022-06-10T11:15:27.065Z"
   },
   {
    "duration": 0,
    "start_time": "2022-06-10T11:15:27.067Z"
   },
   {
    "duration": 0,
    "start_time": "2022-06-10T11:15:27.069Z"
   },
   {
    "duration": 0,
    "start_time": "2022-06-10T11:15:27.070Z"
   },
   {
    "duration": 0,
    "start_time": "2022-06-10T11:15:27.072Z"
   },
   {
    "duration": 0,
    "start_time": "2022-06-10T11:15:27.073Z"
   },
   {
    "duration": 0,
    "start_time": "2022-06-10T11:15:27.074Z"
   },
   {
    "duration": 0,
    "start_time": "2022-06-10T11:15:27.075Z"
   },
   {
    "duration": 0,
    "start_time": "2022-06-10T11:15:27.077Z"
   },
   {
    "duration": 0,
    "start_time": "2022-06-10T11:15:27.078Z"
   },
   {
    "duration": 0,
    "start_time": "2022-06-10T11:15:27.079Z"
   },
   {
    "duration": 0,
    "start_time": "2022-06-10T11:15:27.080Z"
   },
   {
    "duration": 0,
    "start_time": "2022-06-10T11:15:27.081Z"
   },
   {
    "duration": 3,
    "start_time": "2022-06-10T11:15:47.781Z"
   },
   {
    "duration": 94,
    "start_time": "2022-06-10T11:15:49.823Z"
   },
   {
    "duration": 14,
    "start_time": "2022-06-10T11:15:51.175Z"
   },
   {
    "duration": 6,
    "start_time": "2022-06-10T11:16:04.728Z"
   },
   {
    "duration": 8,
    "start_time": "2022-06-10T11:16:52.560Z"
   },
   {
    "duration": 36,
    "start_time": "2022-06-10T11:17:03.447Z"
   },
   {
    "duration": 4,
    "start_time": "2022-06-10T11:17:23.426Z"
   },
   {
    "duration": 18,
    "start_time": "2022-06-10T11:17:26.575Z"
   },
   {
    "duration": 11,
    "start_time": "2022-06-10T11:17:49.403Z"
   },
   {
    "duration": 3,
    "start_time": "2022-06-10T11:18:09.843Z"
   },
   {
    "duration": 96,
    "start_time": "2022-06-10T11:18:11.449Z"
   },
   {
    "duration": 15,
    "start_time": "2022-06-10T11:18:12.975Z"
   },
   {
    "duration": 43,
    "start_time": "2022-06-10T11:18:16.252Z"
   },
   {
    "duration": 95,
    "start_time": "2022-06-10T11:18:18.909Z"
   },
   {
    "duration": 5,
    "start_time": "2022-06-10T11:18:56.384Z"
   },
   {
    "duration": 17,
    "start_time": "2022-06-10T11:18:58.203Z"
   },
   {
    "duration": 48,
    "start_time": "2022-06-10T11:19:10.259Z"
   },
   {
    "duration": 7,
    "start_time": "2022-06-10T11:19:13.190Z"
   },
   {
    "duration": 18024,
    "start_time": "2022-06-10T11:19:15.363Z"
   },
   {
    "duration": 15,
    "start_time": "2022-06-10T11:19:33.388Z"
   },
   {
    "duration": 5,
    "start_time": "2022-06-10T11:19:34.428Z"
   },
   {
    "duration": 6,
    "start_time": "2022-06-10T11:19:36.711Z"
   },
   {
    "duration": 5,
    "start_time": "2022-06-10T11:19:38.724Z"
   },
   {
    "duration": 7,
    "start_time": "2022-06-10T11:19:40.780Z"
   },
   {
    "duration": 5,
    "start_time": "2022-06-10T11:19:42.274Z"
   },
   {
    "duration": 7,
    "start_time": "2022-06-10T11:19:43.912Z"
   },
   {
    "duration": 5,
    "start_time": "2022-06-10T11:19:46.112Z"
   },
   {
    "duration": 8,
    "start_time": "2022-06-10T11:19:51.478Z"
   },
   {
    "duration": 6,
    "start_time": "2022-06-10T11:19:52.958Z"
   },
   {
    "duration": 21,
    "start_time": "2022-06-10T11:20:01.584Z"
   },
   {
    "duration": 44,
    "start_time": "2022-06-10T11:20:10.208Z"
   },
   {
    "duration": 6,
    "start_time": "2022-06-10T11:20:13.725Z"
   },
   {
    "duration": 16,
    "start_time": "2022-06-10T11:20:15.816Z"
   },
   {
    "duration": 5,
    "start_time": "2022-06-10T11:20:18.282Z"
   },
   {
    "duration": 5,
    "start_time": "2022-06-10T11:20:21.381Z"
   },
   {
    "duration": 6,
    "start_time": "2022-06-10T11:20:24.931Z"
   },
   {
    "duration": 6,
    "start_time": "2022-06-10T11:20:26.453Z"
   },
   {
    "duration": 7,
    "start_time": "2022-06-10T11:20:28.100Z"
   },
   {
    "duration": 45,
    "start_time": "2022-06-10T11:20:29.605Z"
   },
   {
    "duration": 289,
    "start_time": "2022-06-10T11:20:33.442Z"
   },
   {
    "duration": 15,
    "start_time": "2022-06-10T11:20:36.723Z"
   },
   {
    "duration": 6,
    "start_time": "2022-06-10T11:20:42.777Z"
   },
   {
    "duration": 28,
    "start_time": "2022-06-10T11:20:46.307Z"
   },
   {
    "duration": 129,
    "start_time": "2022-06-10T11:20:50.133Z"
   },
   {
    "duration": 115,
    "start_time": "2022-06-10T11:20:53.475Z"
   },
   {
    "duration": 214,
    "start_time": "2022-06-10T11:20:58.030Z"
   },
   {
    "duration": 139,
    "start_time": "2022-06-10T11:21:00.488Z"
   },
   {
    "duration": 166,
    "start_time": "2022-06-10T11:21:03.084Z"
   },
   {
    "duration": 165,
    "start_time": "2022-06-10T11:21:05.692Z"
   },
   {
    "duration": 112,
    "start_time": "2022-06-10T11:21:07.813Z"
   },
   {
    "duration": 9,
    "start_time": "2022-06-10T11:21:10.248Z"
   },
   {
    "duration": 164,
    "start_time": "2022-06-10T11:21:12.501Z"
   },
   {
    "duration": 124,
    "start_time": "2022-06-10T11:21:14.630Z"
   },
   {
    "duration": 142,
    "start_time": "2022-06-10T11:21:16.868Z"
   },
   {
    "duration": 11,
    "start_time": "2022-06-10T11:21:19.444Z"
   },
   {
    "duration": 4,
    "start_time": "2022-06-10T11:21:21.735Z"
   },
   {
    "duration": 6,
    "start_time": "2022-06-10T11:21:24.037Z"
   },
   {
    "duration": 7,
    "start_time": "2022-06-10T11:21:58.264Z"
   },
   {
    "duration": 6,
    "start_time": "2022-06-10T11:22:14.253Z"
   },
   {
    "duration": 175,
    "start_time": "2022-06-10T11:22:37.605Z"
   },
   {
    "duration": 339,
    "start_time": "2022-06-10T11:22:48.818Z"
   },
   {
    "duration": 306,
    "start_time": "2022-06-10T11:24:13.112Z"
   },
   {
    "duration": 13,
    "start_time": "2022-06-10T11:24:18.259Z"
   },
   {
    "duration": 161,
    "start_time": "2022-06-10T11:24:40.626Z"
   },
   {
    "duration": 11,
    "start_time": "2022-06-10T11:24:56.826Z"
   },
   {
    "duration": 9,
    "start_time": "2022-06-10T11:25:02.797Z"
   },
   {
    "duration": 6,
    "start_time": "2022-06-10T11:25:58.122Z"
   },
   {
    "duration": 5,
    "start_time": "2022-06-10T11:27:03.579Z"
   },
   {
    "duration": 7,
    "start_time": "2022-06-10T11:27:18.211Z"
   },
   {
    "duration": 6,
    "start_time": "2022-06-10T11:27:34.820Z"
   },
   {
    "duration": 5,
    "start_time": "2022-06-10T11:28:45.640Z"
   },
   {
    "duration": 9,
    "start_time": "2022-06-10T11:34:00.107Z"
   },
   {
    "duration": 8,
    "start_time": "2022-06-10T11:34:03.010Z"
   },
   {
    "duration": 8,
    "start_time": "2022-06-10T11:34:16.718Z"
   },
   {
    "duration": 8,
    "start_time": "2022-06-10T11:34:35.107Z"
   },
   {
    "duration": 8,
    "start_time": "2022-06-10T11:34:39.379Z"
   },
   {
    "duration": 6,
    "start_time": "2022-06-10T11:36:09.787Z"
   },
   {
    "duration": 7,
    "start_time": "2022-06-10T11:36:21.155Z"
   },
   {
    "duration": 3,
    "start_time": "2022-06-10T11:41:40.966Z"
   },
   {
    "duration": 8,
    "start_time": "2022-06-10T11:41:54.423Z"
   },
   {
    "duration": 24,
    "start_time": "2022-06-10T11:42:01.501Z"
   },
   {
    "duration": 28,
    "start_time": "2022-06-10T11:42:23.585Z"
   },
   {
    "duration": 7,
    "start_time": "2022-06-10T11:50:26.572Z"
   },
   {
    "duration": 17,
    "start_time": "2022-06-10T11:50:36.246Z"
   },
   {
    "duration": 16,
    "start_time": "2022-06-10T11:51:23.420Z"
   },
   {
    "duration": 26,
    "start_time": "2022-06-10T11:54:19.947Z"
   },
   {
    "duration": 15,
    "start_time": "2022-06-10T11:54:28.286Z"
   },
   {
    "duration": 9,
    "start_time": "2022-06-10T11:55:04.348Z"
   },
   {
    "duration": 7,
    "start_time": "2022-06-10T11:55:21.509Z"
   },
   {
    "duration": 9,
    "start_time": "2022-06-10T11:56:20.612Z"
   },
   {
    "duration": 9,
    "start_time": "2022-06-10T11:56:33.424Z"
   },
   {
    "duration": 6,
    "start_time": "2022-06-10T11:56:45.416Z"
   },
   {
    "duration": 10,
    "start_time": "2022-06-10T11:58:00.815Z"
   },
   {
    "duration": 10,
    "start_time": "2022-06-10T12:00:41.029Z"
   },
   {
    "duration": 3,
    "start_time": "2022-06-10T12:01:03.075Z"
   },
   {
    "duration": 6,
    "start_time": "2022-06-10T12:01:09.253Z"
   },
   {
    "duration": 7,
    "start_time": "2022-06-10T12:01:28.509Z"
   },
   {
    "duration": 5,
    "start_time": "2022-06-10T12:01:38.044Z"
   },
   {
    "duration": 9,
    "start_time": "2022-06-10T12:01:51.917Z"
   },
   {
    "duration": 4,
    "start_time": "2022-06-10T12:03:09.551Z"
   },
   {
    "duration": 3,
    "start_time": "2022-06-10T12:03:16.977Z"
   },
   {
    "duration": 105,
    "start_time": "2022-06-10T12:03:16.983Z"
   },
   {
    "duration": 20,
    "start_time": "2022-06-10T12:03:17.090Z"
   },
   {
    "duration": 42,
    "start_time": "2022-06-10T12:03:17.112Z"
   },
   {
    "duration": 88,
    "start_time": "2022-06-10T12:03:17.155Z"
   },
   {
    "duration": 4,
    "start_time": "2022-06-10T12:03:17.246Z"
   },
   {
    "duration": 16,
    "start_time": "2022-06-10T12:03:17.252Z"
   },
   {
    "duration": 42,
    "start_time": "2022-06-10T12:03:17.269Z"
   },
   {
    "duration": 48,
    "start_time": "2022-06-10T12:03:17.313Z"
   },
   {
    "duration": 5,
    "start_time": "2022-06-10T12:03:17.363Z"
   },
   {
    "duration": 17873,
    "start_time": "2022-06-10T12:03:17.370Z"
   },
   {
    "duration": 8,
    "start_time": "2022-06-10T12:03:35.245Z"
   },
   {
    "duration": 8,
    "start_time": "2022-06-10T12:03:35.255Z"
   },
   {
    "duration": 12,
    "start_time": "2022-06-10T12:03:35.264Z"
   },
   {
    "duration": 11,
    "start_time": "2022-06-10T12:03:35.294Z"
   },
   {
    "duration": 15,
    "start_time": "2022-06-10T12:03:35.307Z"
   },
   {
    "duration": 8,
    "start_time": "2022-06-10T12:03:35.323Z"
   },
   {
    "duration": 11,
    "start_time": "2022-06-10T12:03:35.333Z"
   },
   {
    "duration": 8,
    "start_time": "2022-06-10T12:03:35.346Z"
   },
   {
    "duration": 22,
    "start_time": "2022-06-10T12:03:35.356Z"
   },
   {
    "duration": 19,
    "start_time": "2022-06-10T12:03:35.380Z"
   },
   {
    "duration": 21,
    "start_time": "2022-06-10T12:03:35.403Z"
   },
   {
    "duration": 43,
    "start_time": "2022-06-10T12:03:35.426Z"
   },
   {
    "duration": 6,
    "start_time": "2022-06-10T12:03:35.470Z"
   },
   {
    "duration": 35,
    "start_time": "2022-06-10T12:03:35.478Z"
   },
   {
    "duration": 7,
    "start_time": "2022-06-10T12:03:35.516Z"
   },
   {
    "duration": 20,
    "start_time": "2022-06-10T12:03:35.525Z"
   },
   {
    "duration": 15,
    "start_time": "2022-06-10T12:03:35.547Z"
   },
   {
    "duration": 7,
    "start_time": "2022-06-10T12:03:35.564Z"
   },
   {
    "duration": 56,
    "start_time": "2022-06-10T12:03:35.573Z"
   },
   {
    "duration": 344,
    "start_time": "2022-06-10T12:03:35.630Z"
   },
   {
    "duration": 11,
    "start_time": "2022-06-10T12:03:35.976Z"
   },
   {
    "duration": 11,
    "start_time": "2022-06-10T12:03:36.000Z"
   },
   {
    "duration": 42,
    "start_time": "2022-06-10T12:03:36.013Z"
   },
   {
    "duration": 0,
    "start_time": "2022-06-10T12:03:36.057Z"
   },
   {
    "duration": 0,
    "start_time": "2022-06-10T12:03:36.059Z"
   },
   {
    "duration": 0,
    "start_time": "2022-06-10T12:03:36.060Z"
   },
   {
    "duration": 0,
    "start_time": "2022-06-10T12:03:36.062Z"
   },
   {
    "duration": 0,
    "start_time": "2022-06-10T12:03:36.063Z"
   },
   {
    "duration": 0,
    "start_time": "2022-06-10T12:03:36.065Z"
   },
   {
    "duration": 0,
    "start_time": "2022-06-10T12:03:36.066Z"
   },
   {
    "duration": 0,
    "start_time": "2022-06-10T12:03:36.068Z"
   },
   {
    "duration": 0,
    "start_time": "2022-06-10T12:03:36.069Z"
   },
   {
    "duration": 0,
    "start_time": "2022-06-10T12:03:36.070Z"
   },
   {
    "duration": 0,
    "start_time": "2022-06-10T12:03:36.072Z"
   },
   {
    "duration": 0,
    "start_time": "2022-06-10T12:03:36.073Z"
   },
   {
    "duration": 0,
    "start_time": "2022-06-10T12:03:36.074Z"
   },
   {
    "duration": 0,
    "start_time": "2022-06-10T12:03:36.075Z"
   },
   {
    "duration": 0,
    "start_time": "2022-06-10T12:03:36.077Z"
   },
   {
    "duration": 0,
    "start_time": "2022-06-10T12:03:36.078Z"
   },
   {
    "duration": 0,
    "start_time": "2022-06-10T12:03:36.079Z"
   },
   {
    "duration": 0,
    "start_time": "2022-06-10T12:03:36.080Z"
   },
   {
    "duration": 0,
    "start_time": "2022-06-10T12:03:36.081Z"
   },
   {
    "duration": 0,
    "start_time": "2022-06-10T12:03:36.082Z"
   },
   {
    "duration": 0,
    "start_time": "2022-06-10T12:03:36.084Z"
   },
   {
    "duration": 0,
    "start_time": "2022-06-10T12:03:36.098Z"
   },
   {
    "duration": 0,
    "start_time": "2022-06-10T12:03:36.098Z"
   },
   {
    "duration": 0,
    "start_time": "2022-06-10T12:03:36.099Z"
   },
   {
    "duration": 5,
    "start_time": "2022-06-10T12:03:45.612Z"
   },
   {
    "duration": 5,
    "start_time": "2022-06-10T12:03:54.441Z"
   },
   {
    "duration": 4,
    "start_time": "2022-06-10T12:04:33.141Z"
   },
   {
    "duration": 7,
    "start_time": "2022-06-10T12:04:40.998Z"
   },
   {
    "duration": 37,
    "start_time": "2022-06-10T12:04:44.734Z"
   },
   {
    "duration": 15,
    "start_time": "2022-06-10T12:05:19.012Z"
   },
   {
    "duration": 9,
    "start_time": "2022-06-10T12:05:22.106Z"
   },
   {
    "duration": 9,
    "start_time": "2022-06-10T12:05:24.154Z"
   },
   {
    "duration": 6,
    "start_time": "2022-06-10T12:05:28.415Z"
   },
   {
    "duration": 8,
    "start_time": "2022-06-10T12:06:05.539Z"
   },
   {
    "duration": 5,
    "start_time": "2022-06-10T12:06:23.333Z"
   },
   {
    "duration": 5,
    "start_time": "2022-06-10T12:13:22.934Z"
   },
   {
    "duration": 5,
    "start_time": "2022-06-10T12:13:26.070Z"
   },
   {
    "duration": 48,
    "start_time": "2022-06-10T12:13:30.791Z"
   },
   {
    "duration": 6,
    "start_time": "2022-06-10T12:15:56.210Z"
   },
   {
    "duration": 6,
    "start_time": "2022-06-10T12:16:24.938Z"
   },
   {
    "duration": 25,
    "start_time": "2022-06-10T12:16:42.514Z"
   },
   {
    "duration": 5,
    "start_time": "2022-06-10T12:17:13.309Z"
   },
   {
    "duration": 4,
    "start_time": "2022-06-10T12:17:14.383Z"
   },
   {
    "duration": 10,
    "start_time": "2022-06-10T12:18:10.070Z"
   },
   {
    "duration": 8,
    "start_time": "2022-06-10T12:18:37.749Z"
   },
   {
    "duration": 11,
    "start_time": "2022-06-10T12:19:08.505Z"
   },
   {
    "duration": 9,
    "start_time": "2022-06-10T12:23:20.149Z"
   },
   {
    "duration": 51,
    "start_time": "2022-06-10T12:23:30.264Z"
   },
   {
    "duration": 173,
    "start_time": "2022-06-10T12:26:49.714Z"
   },
   {
    "duration": 209,
    "start_time": "2022-06-10T12:27:01.320Z"
   },
   {
    "duration": 237,
    "start_time": "2022-06-10T12:27:12.381Z"
   },
   {
    "duration": 42,
    "start_time": "2022-06-10T12:28:12.278Z"
   },
   {
    "duration": 186,
    "start_time": "2022-06-10T12:28:18.336Z"
   },
   {
    "duration": 209,
    "start_time": "2022-06-10T12:28:47.376Z"
   },
   {
    "duration": 189,
    "start_time": "2022-06-10T12:28:56.685Z"
   },
   {
    "duration": 203,
    "start_time": "2022-06-10T12:29:03.653Z"
   },
   {
    "duration": 196,
    "start_time": "2022-06-10T12:29:07.717Z"
   },
   {
    "duration": 213,
    "start_time": "2022-06-10T12:29:14.757Z"
   },
   {
    "duration": 229,
    "start_time": "2022-06-10T12:30:00.392Z"
   },
   {
    "duration": 254,
    "start_time": "2022-06-10T12:31:45.384Z"
   },
   {
    "duration": 225,
    "start_time": "2022-06-10T12:31:52.118Z"
   },
   {
    "duration": 43,
    "start_time": "2022-06-10T12:32:09.607Z"
   },
   {
    "duration": 405,
    "start_time": "2022-06-10T12:33:45.548Z"
   },
   {
    "duration": 23,
    "start_time": "2022-06-10T12:33:55.288Z"
   },
   {
    "duration": 20,
    "start_time": "2022-06-10T12:34:04.687Z"
   },
   {
    "duration": 15,
    "start_time": "2022-06-10T12:34:24.855Z"
   },
   {
    "duration": 229,
    "start_time": "2022-06-10T12:37:35.910Z"
   },
   {
    "duration": 21,
    "start_time": "2022-06-10T12:38:28.455Z"
   },
   {
    "duration": 36,
    "start_time": "2022-06-10T12:40:23.951Z"
   },
   {
    "duration": 12,
    "start_time": "2022-06-10T12:42:48.126Z"
   },
   {
    "duration": 7,
    "start_time": "2022-06-10T12:42:58.614Z"
   },
   {
    "duration": 26,
    "start_time": "2022-06-10T12:43:15.318Z"
   },
   {
    "duration": 498,
    "start_time": "2022-06-10T12:43:22.238Z"
   },
   {
    "duration": 45,
    "start_time": "2022-06-10T12:43:45.890Z"
   },
   {
    "duration": 5,
    "start_time": "2022-06-10T12:44:27.581Z"
   },
   {
    "duration": 8,
    "start_time": "2022-06-10T12:44:33.424Z"
   },
   {
    "duration": 6,
    "start_time": "2022-06-10T12:44:35.033Z"
   },
   {
    "duration": 306,
    "start_time": "2022-06-10T12:44:45.633Z"
   },
   {
    "duration": 420,
    "start_time": "2022-06-10T12:46:09.508Z"
   },
   {
    "duration": 12,
    "start_time": "2022-06-10T12:46:19.879Z"
   },
   {
    "duration": 213,
    "start_time": "2022-06-10T12:46:34.338Z"
   },
   {
    "duration": 18,
    "start_time": "2022-06-10T12:46:46.811Z"
   },
   {
    "duration": 37,
    "start_time": "2022-06-10T12:47:58.450Z"
   },
   {
    "duration": 42,
    "start_time": "2022-06-10T12:48:19.229Z"
   },
   {
    "duration": 15,
    "start_time": "2022-06-10T12:48:49.004Z"
   },
   {
    "duration": 221,
    "start_time": "2022-06-10T12:51:07.868Z"
   },
   {
    "duration": 230,
    "start_time": "2022-06-10T12:51:31.556Z"
   },
   {
    "duration": 42,
    "start_time": "2022-06-10T12:52:15.986Z"
   },
   {
    "duration": 229,
    "start_time": "2022-06-10T12:52:20.557Z"
   },
   {
    "duration": 196,
    "start_time": "2022-06-10T12:52:35.751Z"
   },
   {
    "duration": 226,
    "start_time": "2022-06-10T12:52:45.394Z"
   },
   {
    "duration": 23,
    "start_time": "2022-06-10T12:53:27.887Z"
   },
   {
    "duration": 7,
    "start_time": "2022-06-10T12:56:31.837Z"
   },
   {
    "duration": 16,
    "start_time": "2022-06-10T12:57:03.092Z"
   },
   {
    "duration": 222,
    "start_time": "2022-06-10T12:57:04.792Z"
   },
   {
    "duration": 46,
    "start_time": "2022-06-10T12:58:32.576Z"
   },
   {
    "duration": 40,
    "start_time": "2022-06-10T12:59:15.113Z"
   },
   {
    "duration": 45,
    "start_time": "2022-06-10T12:59:23.011Z"
   },
   {
    "duration": 9,
    "start_time": "2022-06-10T13:01:59.812Z"
   },
   {
    "duration": 10,
    "start_time": "2022-06-10T13:02:07.248Z"
   },
   {
    "duration": 8,
    "start_time": "2022-06-10T13:02:28.528Z"
   },
   {
    "duration": 6,
    "start_time": "2022-06-10T13:02:34.435Z"
   },
   {
    "duration": 4,
    "start_time": "2022-06-10T13:03:16.427Z"
   },
   {
    "duration": 38,
    "start_time": "2022-06-10T13:03:20.832Z"
   },
   {
    "duration": 6,
    "start_time": "2022-06-10T13:03:32.021Z"
   },
   {
    "duration": 6,
    "start_time": "2022-06-10T13:03:51.105Z"
   },
   {
    "duration": 288,
    "start_time": "2022-06-10T13:04:48.538Z"
   },
   {
    "duration": 5,
    "start_time": "2022-06-10T13:05:04.896Z"
   },
   {
    "duration": 14,
    "start_time": "2022-06-10T13:05:10.596Z"
   },
   {
    "duration": 4,
    "start_time": "2022-06-10T13:05:22.343Z"
   },
   {
    "duration": 5,
    "start_time": "2022-06-10T13:05:37.021Z"
   },
   {
    "duration": 12,
    "start_time": "2022-06-10T13:05:43.152Z"
   },
   {
    "duration": 8,
    "start_time": "2022-06-10T13:06:21.428Z"
   },
   {
    "duration": 22,
    "start_time": "2022-06-10T13:06:35.787Z"
   },
   {
    "duration": 17,
    "start_time": "2022-06-10T13:07:19.567Z"
   },
   {
    "duration": 14,
    "start_time": "2022-06-10T13:07:25.221Z"
   },
   {
    "duration": 12,
    "start_time": "2022-06-10T13:07:55.602Z"
   },
   {
    "duration": 15,
    "start_time": "2022-06-10T13:07:58.289Z"
   },
   {
    "duration": 15,
    "start_time": "2022-06-10T13:08:03.360Z"
   },
   {
    "duration": 13,
    "start_time": "2022-06-10T13:08:09.325Z"
   },
   {
    "duration": 13,
    "start_time": "2022-06-10T13:08:48.792Z"
   },
   {
    "duration": 68,
    "start_time": "2022-06-10T13:10:28.138Z"
   },
   {
    "duration": 174,
    "start_time": "2022-06-10T13:10:34.835Z"
   },
   {
    "duration": 216,
    "start_time": "2022-06-10T13:11:33.241Z"
   },
   {
    "duration": 557,
    "start_time": "2022-06-10T13:11:42.308Z"
   },
   {
    "duration": 184,
    "start_time": "2022-06-10T13:18:39.102Z"
   },
   {
    "duration": 182,
    "start_time": "2022-06-10T13:18:49.136Z"
   },
   {
    "duration": 4,
    "start_time": "2022-06-10T13:21:11.912Z"
   },
   {
    "duration": 4,
    "start_time": "2022-06-10T13:21:19.957Z"
   },
   {
    "duration": 14,
    "start_time": "2022-06-10T13:22:42.614Z"
   },
   {
    "duration": 11,
    "start_time": "2022-06-10T13:23:04.350Z"
   },
   {
    "duration": 11,
    "start_time": "2022-06-10T13:23:21.131Z"
   },
   {
    "duration": 11,
    "start_time": "2022-06-10T13:23:46.608Z"
   },
   {
    "duration": 4,
    "start_time": "2022-06-10T13:24:50.908Z"
   },
   {
    "duration": 7,
    "start_time": "2022-06-10T13:24:58.127Z"
   },
   {
    "duration": 46,
    "start_time": "2022-06-10T13:25:05.364Z"
   },
   {
    "duration": 22,
    "start_time": "2022-06-10T13:25:29.326Z"
   },
   {
    "duration": 6,
    "start_time": "2022-06-10T13:30:26.471Z"
   },
   {
    "duration": 10,
    "start_time": "2022-06-10T13:30:34.593Z"
   },
   {
    "duration": 6,
    "start_time": "2022-06-10T13:30:40.437Z"
   },
   {
    "duration": 6,
    "start_time": "2022-06-10T13:30:45.770Z"
   },
   {
    "duration": 6,
    "start_time": "2022-06-10T13:30:54.973Z"
   },
   {
    "duration": 5,
    "start_time": "2022-06-10T13:31:00.577Z"
   },
   {
    "duration": 5,
    "start_time": "2022-06-10T13:31:05.678Z"
   },
   {
    "duration": 4,
    "start_time": "2022-06-10T13:38:39.258Z"
   },
   {
    "duration": 10,
    "start_time": "2022-06-10T13:38:40.999Z"
   },
   {
    "duration": 6,
    "start_time": "2022-06-10T13:38:42.377Z"
   },
   {
    "duration": 9,
    "start_time": "2022-06-10T13:38:44.512Z"
   },
   {
    "duration": 36,
    "start_time": "2022-06-10T13:38:49.518Z"
   },
   {
    "duration": 6,
    "start_time": "2022-06-10T13:39:40.510Z"
   },
   {
    "duration": 24,
    "start_time": "2022-06-10T13:39:43.757Z"
   },
   {
    "duration": 127,
    "start_time": "2022-06-10T13:39:55.540Z"
   },
   {
    "duration": 126,
    "start_time": "2022-06-10T13:39:59.774Z"
   },
   {
    "duration": 223,
    "start_time": "2022-06-10T13:40:05.662Z"
   },
   {
    "duration": 148,
    "start_time": "2022-06-10T13:40:08.070Z"
   },
   {
    "duration": 148,
    "start_time": "2022-06-10T13:40:14.734Z"
   },
   {
    "duration": 161,
    "start_time": "2022-06-10T13:40:21.483Z"
   },
   {
    "duration": 114,
    "start_time": "2022-06-10T13:40:40.253Z"
   },
   {
    "duration": 10,
    "start_time": "2022-06-10T13:40:42.962Z"
   },
   {
    "duration": 146,
    "start_time": "2022-06-10T13:40:47.801Z"
   },
   {
    "duration": 130,
    "start_time": "2022-06-10T13:40:51.696Z"
   },
   {
    "duration": 146,
    "start_time": "2022-06-10T13:40:54.993Z"
   },
   {
    "duration": 4,
    "start_time": "2022-06-10T13:42:12.516Z"
   },
   {
    "duration": 10,
    "start_time": "2022-06-10T13:42:22.794Z"
   },
   {
    "duration": 5,
    "start_time": "2022-06-10T13:42:24.422Z"
   },
   {
    "duration": 6,
    "start_time": "2022-06-10T13:42:26.113Z"
   },
   {
    "duration": 6,
    "start_time": "2022-06-10T13:42:28.493Z"
   },
   {
    "duration": 6,
    "start_time": "2022-06-10T13:42:30.457Z"
   },
   {
    "duration": 8,
    "start_time": "2022-06-10T13:42:32.092Z"
   },
   {
    "duration": 6,
    "start_time": "2022-06-10T13:42:34.653Z"
   },
   {
    "duration": 8,
    "start_time": "2022-06-10T13:43:20.454Z"
   },
   {
    "duration": 9,
    "start_time": "2022-06-10T13:43:22.454Z"
   },
   {
    "duration": 5,
    "start_time": "2022-06-10T13:43:24.147Z"
   },
   {
    "duration": 4,
    "start_time": "2022-06-10T13:43:25.723Z"
   },
   {
    "duration": 166,
    "start_time": "2022-06-10T13:43:27.670Z"
   },
   {
    "duration": 7,
    "start_time": "2022-06-10T13:43:34.941Z"
   },
   {
    "duration": 25,
    "start_time": "2022-06-10T13:43:37.688Z"
   },
   {
    "duration": 6,
    "start_time": "2022-06-10T13:43:44.952Z"
   },
   {
    "duration": 6,
    "start_time": "2022-06-10T13:43:47.172Z"
   },
   {
    "duration": 5,
    "start_time": "2022-06-10T13:43:49.419Z"
   },
   {
    "duration": 7,
    "start_time": "2022-06-10T13:43:51.505Z"
   },
   {
    "duration": 5,
    "start_time": "2022-06-10T13:43:53.481Z"
   },
   {
    "duration": 6,
    "start_time": "2022-06-10T13:43:55.175Z"
   },
   {
    "duration": 5,
    "start_time": "2022-06-10T13:43:56.708Z"
   },
   {
    "duration": 777,
    "start_time": "2022-06-10T14:28:35.295Z"
   },
   {
    "duration": 150,
    "start_time": "2022-06-10T14:28:36.074Z"
   },
   {
    "duration": 17,
    "start_time": "2022-06-10T14:28:36.226Z"
   },
   {
    "duration": 55,
    "start_time": "2022-06-10T14:28:36.245Z"
   },
   {
    "duration": 78,
    "start_time": "2022-06-10T14:28:36.301Z"
   },
   {
    "duration": 4,
    "start_time": "2022-06-10T14:28:36.381Z"
   },
   {
    "duration": 37,
    "start_time": "2022-06-10T14:28:36.387Z"
   },
   {
    "duration": 25,
    "start_time": "2022-06-10T14:28:36.426Z"
   },
   {
    "duration": 63,
    "start_time": "2022-06-10T14:28:36.453Z"
   },
   {
    "duration": 5,
    "start_time": "2022-06-10T14:28:36.520Z"
   },
   {
    "duration": 18304,
    "start_time": "2022-06-10T14:28:36.527Z"
   },
   {
    "duration": 9,
    "start_time": "2022-06-10T14:28:54.840Z"
   },
   {
    "duration": 11,
    "start_time": "2022-06-10T14:28:54.851Z"
   },
   {
    "duration": 7,
    "start_time": "2022-06-10T14:28:54.864Z"
   },
   {
    "duration": 19,
    "start_time": "2022-06-10T14:28:54.873Z"
   },
   {
    "duration": 14,
    "start_time": "2022-06-10T14:28:54.894Z"
   },
   {
    "duration": 6,
    "start_time": "2022-06-10T14:28:54.910Z"
   },
   {
    "duration": 16,
    "start_time": "2022-06-10T14:28:54.917Z"
   },
   {
    "duration": 4,
    "start_time": "2022-06-10T14:28:54.935Z"
   },
   {
    "duration": 10,
    "start_time": "2022-06-10T14:28:54.941Z"
   },
   {
    "duration": 9,
    "start_time": "2022-06-10T14:28:54.953Z"
   },
   {
    "duration": 16,
    "start_time": "2022-06-10T14:28:54.964Z"
   },
   {
    "duration": 49,
    "start_time": "2022-06-10T14:28:54.982Z"
   },
   {
    "duration": 26,
    "start_time": "2022-06-10T14:28:55.033Z"
   },
   {
    "duration": 15,
    "start_time": "2022-06-10T14:28:55.061Z"
   },
   {
    "duration": 5,
    "start_time": "2022-06-10T14:28:55.078Z"
   },
   {
    "duration": 10,
    "start_time": "2022-06-10T14:28:55.085Z"
   },
   {
    "duration": 6,
    "start_time": "2022-06-10T14:28:55.100Z"
   },
   {
    "duration": 6,
    "start_time": "2022-06-10T14:28:55.108Z"
   },
   {
    "duration": 76,
    "start_time": "2022-06-10T14:28:55.116Z"
   },
   {
    "duration": 299,
    "start_time": "2022-06-10T14:28:55.194Z"
   },
   {
    "duration": 12,
    "start_time": "2022-06-10T14:28:55.494Z"
   },
   {
    "duration": 4,
    "start_time": "2022-06-10T14:28:55.508Z"
   },
   {
    "duration": 45,
    "start_time": "2022-06-10T14:28:55.514Z"
   },
   {
    "duration": 146,
    "start_time": "2022-06-10T14:28:55.561Z"
   },
   {
    "duration": 180,
    "start_time": "2022-06-10T14:28:55.708Z"
   },
   {
    "duration": 219,
    "start_time": "2022-06-10T14:28:55.890Z"
   },
   {
    "duration": 130,
    "start_time": "2022-06-10T14:28:56.110Z"
   },
   {
    "duration": 171,
    "start_time": "2022-06-10T14:28:56.242Z"
   },
   {
    "duration": 173,
    "start_time": "2022-06-10T14:28:56.415Z"
   },
   {
    "duration": 129,
    "start_time": "2022-06-10T14:28:56.590Z"
   },
   {
    "duration": 11,
    "start_time": "2022-06-10T14:28:56.721Z"
   },
   {
    "duration": 190,
    "start_time": "2022-06-10T14:28:56.734Z"
   },
   {
    "duration": 136,
    "start_time": "2022-06-10T14:28:56.926Z"
   },
   {
    "duration": 155,
    "start_time": "2022-06-10T14:28:57.064Z"
   },
   {
    "duration": 13,
    "start_time": "2022-06-10T14:28:57.220Z"
   },
   {
    "duration": 3,
    "start_time": "2022-06-10T14:28:57.235Z"
   },
   {
    "duration": 19,
    "start_time": "2022-06-10T14:28:57.240Z"
   },
   {
    "duration": 4,
    "start_time": "2022-06-10T14:28:57.261Z"
   },
   {
    "duration": 9,
    "start_time": "2022-06-10T14:28:57.267Z"
   },
   {
    "duration": 15,
    "start_time": "2022-06-10T14:28:57.277Z"
   },
   {
    "duration": 8,
    "start_time": "2022-06-10T14:28:57.294Z"
   },
   {
    "duration": 8,
    "start_time": "2022-06-10T14:28:57.304Z"
   },
   {
    "duration": 6,
    "start_time": "2022-06-10T14:28:57.314Z"
   },
   {
    "duration": 39,
    "start_time": "2022-06-10T14:28:57.322Z"
   },
   {
    "duration": 7,
    "start_time": "2022-06-10T14:28:57.363Z"
   },
   {
    "duration": 13,
    "start_time": "2022-06-10T14:28:57.372Z"
   },
   {
    "duration": 13,
    "start_time": "2022-06-10T14:28:57.387Z"
   },
   {
    "duration": 32,
    "start_time": "2022-06-10T14:28:57.402Z"
   },
   {
    "duration": 6,
    "start_time": "2022-06-10T14:28:57.436Z"
   },
   {
    "duration": 8,
    "start_time": "2022-06-10T14:28:57.444Z"
   },
   {
    "duration": 202,
    "start_time": "2022-06-10T14:28:57.454Z"
   },
   {
    "duration": 108,
    "start_time": "2022-06-10T14:28:57.658Z"
   },
   {
    "duration": 0,
    "start_time": "2022-06-10T14:28:57.768Z"
   },
   {
    "duration": 0,
    "start_time": "2022-06-10T14:28:57.771Z"
   },
   {
    "duration": 0,
    "start_time": "2022-06-10T14:28:57.773Z"
   },
   {
    "duration": 0,
    "start_time": "2022-06-10T14:28:57.774Z"
   },
   {
    "duration": 0,
    "start_time": "2022-06-10T14:28:57.775Z"
   },
   {
    "duration": 0,
    "start_time": "2022-06-10T14:28:57.776Z"
   },
   {
    "duration": 0,
    "start_time": "2022-06-10T14:28:57.777Z"
   },
   {
    "duration": 0,
    "start_time": "2022-06-10T14:28:57.778Z"
   },
   {
    "duration": 676,
    "start_time": "2022-06-10T14:30:26.637Z"
   },
   {
    "duration": 103,
    "start_time": "2022-06-10T14:30:27.315Z"
   },
   {
    "duration": 16,
    "start_time": "2022-06-10T14:30:27.420Z"
   },
   {
    "duration": 61,
    "start_time": "2022-06-10T14:30:27.439Z"
   },
   {
    "duration": 86,
    "start_time": "2022-06-10T14:30:27.502Z"
   },
   {
    "duration": 5,
    "start_time": "2022-06-10T14:30:27.590Z"
   },
   {
    "duration": 53,
    "start_time": "2022-06-10T14:30:27.596Z"
   },
   {
    "duration": 20,
    "start_time": "2022-06-10T14:30:27.651Z"
   },
   {
    "duration": 51,
    "start_time": "2022-06-10T14:30:27.673Z"
   },
   {
    "duration": 5,
    "start_time": "2022-06-10T14:30:27.728Z"
   },
   {
    "duration": 18564,
    "start_time": "2022-06-10T14:30:27.735Z"
   },
   {
    "duration": 8,
    "start_time": "2022-06-10T14:30:46.302Z"
   },
   {
    "duration": 8,
    "start_time": "2022-06-10T14:30:46.312Z"
   },
   {
    "duration": 7,
    "start_time": "2022-06-10T14:30:46.322Z"
   },
   {
    "duration": 8,
    "start_time": "2022-06-10T14:30:46.330Z"
   },
   {
    "duration": 23,
    "start_time": "2022-06-10T14:30:46.340Z"
   },
   {
    "duration": 7,
    "start_time": "2022-06-10T14:30:46.364Z"
   },
   {
    "duration": 8,
    "start_time": "2022-06-10T14:30:46.372Z"
   },
   {
    "duration": 7,
    "start_time": "2022-06-10T14:30:46.381Z"
   },
   {
    "duration": 8,
    "start_time": "2022-06-10T14:30:46.390Z"
   },
   {
    "duration": 9,
    "start_time": "2022-06-10T14:30:46.399Z"
   },
   {
    "duration": 14,
    "start_time": "2022-06-10T14:30:46.410Z"
   },
   {
    "duration": 68,
    "start_time": "2022-06-10T14:30:46.426Z"
   },
   {
    "duration": 6,
    "start_time": "2022-06-10T14:30:46.495Z"
   },
   {
    "duration": 16,
    "start_time": "2022-06-10T14:30:46.502Z"
   },
   {
    "duration": 8,
    "start_time": "2022-06-10T14:30:46.520Z"
   },
   {
    "duration": 29,
    "start_time": "2022-06-10T14:30:46.529Z"
   },
   {
    "duration": 6,
    "start_time": "2022-06-10T14:30:46.562Z"
   },
   {
    "duration": 7,
    "start_time": "2022-06-10T14:30:46.569Z"
   },
   {
    "duration": 47,
    "start_time": "2022-06-10T14:30:46.578Z"
   },
   {
    "duration": 310,
    "start_time": "2022-06-10T14:30:46.627Z"
   },
   {
    "duration": 12,
    "start_time": "2022-06-10T14:30:46.939Z"
   },
   {
    "duration": 6,
    "start_time": "2022-06-10T14:30:46.959Z"
   },
   {
    "duration": 46,
    "start_time": "2022-06-10T14:30:46.967Z"
   },
   {
    "duration": 152,
    "start_time": "2022-06-10T14:30:47.015Z"
   },
   {
    "duration": 168,
    "start_time": "2022-06-10T14:30:47.169Z"
   },
   {
    "duration": 220,
    "start_time": "2022-06-10T14:30:47.338Z"
   },
   {
    "duration": 140,
    "start_time": "2022-06-10T14:30:47.560Z"
   },
   {
    "duration": 168,
    "start_time": "2022-06-10T14:30:47.701Z"
   },
   {
    "duration": 176,
    "start_time": "2022-06-10T14:30:47.871Z"
   },
   {
    "duration": 130,
    "start_time": "2022-06-10T14:30:48.049Z"
   },
   {
    "duration": 11,
    "start_time": "2022-06-10T14:30:48.181Z"
   },
   {
    "duration": 179,
    "start_time": "2022-06-10T14:30:48.194Z"
   },
   {
    "duration": 140,
    "start_time": "2022-06-10T14:30:48.375Z"
   },
   {
    "duration": 155,
    "start_time": "2022-06-10T14:30:48.517Z"
   },
   {
    "duration": 14,
    "start_time": "2022-06-10T14:30:48.675Z"
   },
   {
    "duration": 4,
    "start_time": "2022-06-10T14:30:48.690Z"
   },
   {
    "duration": 7,
    "start_time": "2022-06-10T14:30:48.696Z"
   },
   {
    "duration": 8,
    "start_time": "2022-06-10T14:30:48.705Z"
   },
   {
    "duration": 9,
    "start_time": "2022-06-10T14:30:48.715Z"
   },
   {
    "duration": 34,
    "start_time": "2022-06-10T14:30:48.726Z"
   },
   {
    "duration": 5,
    "start_time": "2022-06-10T14:30:48.762Z"
   },
   {
    "duration": 7,
    "start_time": "2022-06-10T14:30:48.768Z"
   },
   {
    "duration": 5,
    "start_time": "2022-06-10T14:30:48.777Z"
   },
   {
    "duration": 7,
    "start_time": "2022-06-10T14:30:48.784Z"
   },
   {
    "duration": 22,
    "start_time": "2022-06-10T14:30:48.793Z"
   },
   {
    "duration": 30,
    "start_time": "2022-06-10T14:30:48.817Z"
   },
   {
    "duration": 24,
    "start_time": "2022-06-10T14:30:48.849Z"
   },
   {
    "duration": 17,
    "start_time": "2022-06-10T14:30:48.875Z"
   },
   {
    "duration": 13,
    "start_time": "2022-06-10T14:30:48.894Z"
   },
   {
    "duration": 9,
    "start_time": "2022-06-10T14:30:48.909Z"
   },
   {
    "duration": 191,
    "start_time": "2022-06-10T14:30:48.920Z"
   },
   {
    "duration": 100,
    "start_time": "2022-06-10T14:30:49.114Z"
   },
   {
    "duration": 0,
    "start_time": "2022-06-10T14:30:49.216Z"
   },
   {
    "duration": 0,
    "start_time": "2022-06-10T14:30:49.217Z"
   },
   {
    "duration": 0,
    "start_time": "2022-06-10T14:30:49.218Z"
   },
   {
    "duration": 0,
    "start_time": "2022-06-10T14:30:49.219Z"
   },
   {
    "duration": 0,
    "start_time": "2022-06-10T14:30:49.221Z"
   },
   {
    "duration": 0,
    "start_time": "2022-06-10T14:30:49.222Z"
   },
   {
    "duration": 0,
    "start_time": "2022-06-10T14:30:49.223Z"
   },
   {
    "duration": 0,
    "start_time": "2022-06-10T14:30:49.224Z"
   },
   {
    "duration": 699,
    "start_time": "2022-06-10T14:39:08.086Z"
   },
   {
    "duration": 100,
    "start_time": "2022-06-10T14:39:08.787Z"
   },
   {
    "duration": 21,
    "start_time": "2022-06-10T14:39:08.889Z"
   },
   {
    "duration": 76,
    "start_time": "2022-06-10T14:39:08.913Z"
   },
   {
    "duration": 120,
    "start_time": "2022-06-10T14:39:08.991Z"
   },
   {
    "duration": 6,
    "start_time": "2022-06-10T14:39:09.116Z"
   },
   {
    "duration": 28,
    "start_time": "2022-06-10T14:39:09.124Z"
   },
   {
    "duration": 25,
    "start_time": "2022-06-10T14:39:09.154Z"
   },
   {
    "duration": 75,
    "start_time": "2022-06-10T14:39:09.181Z"
   },
   {
    "duration": 6,
    "start_time": "2022-06-10T14:39:09.260Z"
   },
   {
    "duration": 17805,
    "start_time": "2022-06-10T14:39:09.268Z"
   },
   {
    "duration": 9,
    "start_time": "2022-06-10T14:39:27.075Z"
   },
   {
    "duration": 13,
    "start_time": "2022-06-10T14:39:27.086Z"
   },
   {
    "duration": 13,
    "start_time": "2022-06-10T14:39:27.101Z"
   },
   {
    "duration": 7,
    "start_time": "2022-06-10T14:39:27.116Z"
   },
   {
    "duration": 9,
    "start_time": "2022-06-10T14:39:27.125Z"
   },
   {
    "duration": 7,
    "start_time": "2022-06-10T14:39:27.136Z"
   },
   {
    "duration": 7,
    "start_time": "2022-06-10T14:39:27.144Z"
   },
   {
    "duration": 7,
    "start_time": "2022-06-10T14:39:27.153Z"
   },
   {
    "duration": 50,
    "start_time": "2022-06-10T14:39:27.161Z"
   },
   {
    "duration": 8,
    "start_time": "2022-06-10T14:39:27.213Z"
   },
   {
    "duration": 15,
    "start_time": "2022-06-10T14:39:27.223Z"
   },
   {
    "duration": 68,
    "start_time": "2022-06-10T14:39:27.240Z"
   },
   {
    "duration": 7,
    "start_time": "2022-06-10T14:39:27.310Z"
   },
   {
    "duration": 21,
    "start_time": "2022-06-10T14:39:27.318Z"
   },
   {
    "duration": 9,
    "start_time": "2022-06-10T14:39:27.341Z"
   },
   {
    "duration": 10,
    "start_time": "2022-06-10T14:39:27.352Z"
   },
   {
    "duration": 6,
    "start_time": "2022-06-10T14:39:27.366Z"
   },
   {
    "duration": 27,
    "start_time": "2022-06-10T14:39:27.374Z"
   },
   {
    "duration": 51,
    "start_time": "2022-06-10T14:39:27.402Z"
   },
   {
    "duration": 315,
    "start_time": "2022-06-10T14:39:27.455Z"
   },
   {
    "duration": 12,
    "start_time": "2022-06-10T14:39:27.772Z"
   },
   {
    "duration": 13,
    "start_time": "2022-06-10T14:39:27.794Z"
   },
   {
    "duration": 35,
    "start_time": "2022-06-10T14:39:27.813Z"
   },
   {
    "duration": 173,
    "start_time": "2022-06-10T14:39:27.849Z"
   },
   {
    "duration": 183,
    "start_time": "2022-06-10T14:39:28.024Z"
   },
   {
    "duration": 226,
    "start_time": "2022-06-10T14:39:28.209Z"
   },
   {
    "duration": 139,
    "start_time": "2022-06-10T14:39:28.437Z"
   },
   {
    "duration": 168,
    "start_time": "2022-06-10T14:39:28.579Z"
   },
   {
    "duration": 262,
    "start_time": "2022-06-10T14:39:28.750Z"
   },
   {
    "duration": 155,
    "start_time": "2022-06-10T14:39:29.014Z"
   },
   {
    "duration": 30,
    "start_time": "2022-06-10T14:39:29.171Z"
   },
   {
    "duration": 224,
    "start_time": "2022-06-10T14:39:29.203Z"
   },
   {
    "duration": 139,
    "start_time": "2022-06-10T14:39:29.429Z"
   },
   {
    "duration": 190,
    "start_time": "2022-06-10T14:39:29.570Z"
   },
   {
    "duration": 14,
    "start_time": "2022-06-10T14:39:29.762Z"
   },
   {
    "duration": 4,
    "start_time": "2022-06-10T14:39:29.778Z"
   },
   {
    "duration": 8,
    "start_time": "2022-06-10T14:39:29.795Z"
   },
   {
    "duration": 18,
    "start_time": "2022-06-10T14:39:29.804Z"
   },
   {
    "duration": 7,
    "start_time": "2022-06-10T14:39:29.824Z"
   },
   {
    "duration": 7,
    "start_time": "2022-06-10T14:39:29.832Z"
   },
   {
    "duration": 6,
    "start_time": "2022-06-10T14:39:29.841Z"
   },
   {
    "duration": 6,
    "start_time": "2022-06-10T14:39:29.849Z"
   },
   {
    "duration": 6,
    "start_time": "2022-06-10T14:39:29.857Z"
   },
   {
    "duration": 20,
    "start_time": "2022-06-10T14:39:29.895Z"
   },
   {
    "duration": 6,
    "start_time": "2022-06-10T14:39:29.917Z"
   },
   {
    "duration": 7,
    "start_time": "2022-06-10T14:39:29.925Z"
   },
   {
    "duration": 11,
    "start_time": "2022-06-10T14:39:29.933Z"
   },
   {
    "duration": 12,
    "start_time": "2022-06-10T14:39:29.946Z"
   },
   {
    "duration": 5,
    "start_time": "2022-06-10T14:39:29.961Z"
   },
   {
    "duration": 12,
    "start_time": "2022-06-10T14:39:29.968Z"
   },
   {
    "duration": 207,
    "start_time": "2022-06-10T14:39:29.982Z"
   },
   {
    "duration": 129,
    "start_time": "2022-06-10T14:39:30.200Z"
   },
   {
    "duration": 0,
    "start_time": "2022-06-10T14:39:30.331Z"
   },
   {
    "duration": 1,
    "start_time": "2022-06-10T14:39:30.332Z"
   },
   {
    "duration": 0,
    "start_time": "2022-06-10T14:39:30.334Z"
   },
   {
    "duration": 1,
    "start_time": "2022-06-10T14:39:30.335Z"
   },
   {
    "duration": 0,
    "start_time": "2022-06-10T14:39:30.337Z"
   },
   {
    "duration": 0,
    "start_time": "2022-06-10T14:39:30.339Z"
   },
   {
    "duration": 0,
    "start_time": "2022-06-10T14:39:30.340Z"
   },
   {
    "duration": 0,
    "start_time": "2022-06-10T14:39:30.342Z"
   },
   {
    "duration": 47,
    "start_time": "2022-06-11T08:55:29.900Z"
   },
   {
    "duration": 5,
    "start_time": "2022-06-11T08:55:35.886Z"
   },
   {
    "duration": 721,
    "start_time": "2022-06-11T08:55:49.579Z"
   },
   {
    "duration": 347,
    "start_time": "2022-06-11T08:55:55.650Z"
   },
   {
    "duration": 15,
    "start_time": "2022-06-11T08:55:57.883Z"
   },
   {
    "duration": 32,
    "start_time": "2022-06-11T08:56:01.080Z"
   },
   {
    "duration": 28,
    "start_time": "2022-06-11T08:59:11.205Z"
   },
   {
    "duration": 5,
    "start_time": "2022-06-11T08:59:54.868Z"
   },
   {
    "duration": 13,
    "start_time": "2022-06-11T08:59:57.510Z"
   },
   {
    "duration": 21,
    "start_time": "2022-06-11T09:00:02.717Z"
   },
   {
    "duration": 72,
    "start_time": "2022-06-11T09:00:20.511Z"
   },
   {
    "duration": 4,
    "start_time": "2022-06-11T09:00:23.494Z"
   },
   {
    "duration": 17,
    "start_time": "2022-06-11T09:01:26.943Z"
   },
   {
    "duration": 4,
    "start_time": "2022-06-11T09:01:34.372Z"
   },
   {
    "duration": 19,
    "start_time": "2022-06-11T09:16:03.393Z"
   },
   {
    "duration": 66,
    "start_time": "2022-06-11T09:22:44.035Z"
   },
   {
    "duration": 222,
    "start_time": "2022-06-11T09:26:12.362Z"
   },
   {
    "duration": 6,
    "start_time": "2022-06-11T09:26:16.282Z"
   },
   {
    "duration": 2,
    "start_time": "2022-06-11T09:26:26.974Z"
   },
   {
    "duration": 101,
    "start_time": "2022-06-11T09:26:26.980Z"
   },
   {
    "duration": 14,
    "start_time": "2022-06-11T09:26:27.083Z"
   },
   {
    "duration": 45,
    "start_time": "2022-06-11T09:26:27.098Z"
   },
   {
    "duration": 65,
    "start_time": "2022-06-11T09:26:27.145Z"
   },
   {
    "duration": 26,
    "start_time": "2022-06-11T09:26:27.211Z"
   },
   {
    "duration": 14,
    "start_time": "2022-06-11T09:26:27.240Z"
   },
   {
    "duration": 16,
    "start_time": "2022-06-11T09:26:27.255Z"
   },
   {
    "duration": 2,
    "start_time": "2022-06-11T09:26:27.273Z"
   },
   {
    "duration": 37,
    "start_time": "2022-06-11T09:27:07.201Z"
   },
   {
    "duration": 32,
    "start_time": "2022-06-11T09:27:22.290Z"
   },
   {
    "duration": 35,
    "start_time": "2022-06-11T09:27:27.535Z"
   },
   {
    "duration": 249,
    "start_time": "2022-06-11T09:27:37.566Z"
   },
   {
    "duration": 5,
    "start_time": "2022-06-11T09:27:39.691Z"
   },
   {
    "duration": 257,
    "start_time": "2022-06-11T09:27:50.431Z"
   },
   {
    "duration": 5,
    "start_time": "2022-06-11T09:27:54.113Z"
   },
   {
    "duration": 5,
    "start_time": "2022-06-11T09:28:27.996Z"
   },
   {
    "duration": 3,
    "start_time": "2022-06-11T09:28:33.506Z"
   },
   {
    "duration": 109,
    "start_time": "2022-06-11T09:28:33.511Z"
   },
   {
    "duration": 25,
    "start_time": "2022-06-11T09:28:33.622Z"
   },
   {
    "duration": 53,
    "start_time": "2022-06-11T09:28:33.649Z"
   },
   {
    "duration": 104,
    "start_time": "2022-06-11T09:28:33.704Z"
   },
   {
    "duration": 4,
    "start_time": "2022-06-11T09:28:33.810Z"
   },
   {
    "duration": 51,
    "start_time": "2022-06-11T09:28:33.816Z"
   },
   {
    "duration": 24,
    "start_time": "2022-06-11T09:28:33.868Z"
   },
   {
    "duration": 6,
    "start_time": "2022-06-11T09:28:33.893Z"
   },
   {
    "duration": 19,
    "start_time": "2022-06-11T09:28:33.900Z"
   },
   {
    "duration": 7,
    "start_time": "2022-06-11T09:32:03.043Z"
   },
   {
    "duration": 28,
    "start_time": "2022-06-11T10:03:01.439Z"
   },
   {
    "duration": 28,
    "start_time": "2022-06-11T10:06:00.056Z"
   },
   {
    "duration": 298,
    "start_time": "2022-06-11T10:08:00.474Z"
   },
   {
    "duration": 5,
    "start_time": "2022-06-11T10:08:05.765Z"
   },
   {
    "duration": 6,
    "start_time": "2022-06-11T10:09:18.755Z"
   },
   {
    "duration": 31,
    "start_time": "2022-06-11T10:09:30.785Z"
   },
   {
    "duration": 3,
    "start_time": "2022-06-11T10:09:41.744Z"
   },
   {
    "duration": 97,
    "start_time": "2022-06-11T10:09:41.750Z"
   },
   {
    "duration": 15,
    "start_time": "2022-06-11T10:09:41.848Z"
   },
   {
    "duration": 34,
    "start_time": "2022-06-11T10:09:41.865Z"
   },
   {
    "duration": 87,
    "start_time": "2022-06-11T10:09:41.901Z"
   },
   {
    "duration": 4,
    "start_time": "2022-06-11T10:09:41.990Z"
   },
   {
    "duration": 15,
    "start_time": "2022-06-11T10:09:41.995Z"
   },
   {
    "duration": 38,
    "start_time": "2022-06-11T10:09:42.011Z"
   },
   {
    "duration": 3,
    "start_time": "2022-06-11T10:09:42.051Z"
   },
   {
    "duration": 9,
    "start_time": "2022-06-11T10:09:42.055Z"
   },
   {
    "duration": 9,
    "start_time": "2022-06-11T10:09:42.066Z"
   },
   {
    "duration": 40,
    "start_time": "2022-06-11T10:09:42.077Z"
   },
   {
    "duration": 2786,
    "start_time": "2022-06-11T10:11:27.310Z"
   },
   {
    "duration": 2861,
    "start_time": "2022-06-11T10:11:45.306Z"
   },
   {
    "duration": 13,
    "start_time": "2022-06-11T10:12:14.905Z"
   },
   {
    "duration": 13,
    "start_time": "2022-06-11T10:13:22.209Z"
   },
   {
    "duration": 7,
    "start_time": "2022-06-11T10:13:31.074Z"
   },
   {
    "duration": 8,
    "start_time": "2022-06-11T10:14:11.322Z"
   },
   {
    "duration": 8,
    "start_time": "2022-06-11T10:14:19.799Z"
   },
   {
    "duration": 8,
    "start_time": "2022-06-11T10:14:30.983Z"
   },
   {
    "duration": 8,
    "start_time": "2022-06-11T10:14:42.816Z"
   },
   {
    "duration": 12,
    "start_time": "2022-06-11T10:16:20.825Z"
   },
   {
    "duration": 28,
    "start_time": "2022-06-11T10:17:05.414Z"
   },
   {
    "duration": 9,
    "start_time": "2022-06-11T10:18:56.291Z"
   },
   {
    "duration": 8,
    "start_time": "2022-06-11T10:19:09.854Z"
   },
   {
    "duration": 15,
    "start_time": "2022-06-11T10:20:48.884Z"
   },
   {
    "duration": 18,
    "start_time": "2022-06-11T10:21:17.625Z"
   },
   {
    "duration": 15,
    "start_time": "2022-06-11T10:21:31.150Z"
   },
   {
    "duration": 16,
    "start_time": "2022-06-11T10:22:38.456Z"
   },
   {
    "duration": 357,
    "start_time": "2022-06-11T10:33:59.646Z"
   },
   {
    "duration": 389,
    "start_time": "2022-06-11T10:34:10.759Z"
   },
   {
    "duration": 6,
    "start_time": "2022-06-11T10:34:51.983Z"
   },
   {
    "duration": 105,
    "start_time": "2022-06-11T10:34:51.991Z"
   },
   {
    "duration": 35,
    "start_time": "2022-06-11T10:34:52.098Z"
   },
   {
    "duration": 32,
    "start_time": "2022-06-11T10:34:52.135Z"
   },
   {
    "duration": 100,
    "start_time": "2022-06-11T10:34:52.169Z"
   },
   {
    "duration": 4,
    "start_time": "2022-06-11T10:34:52.270Z"
   },
   {
    "duration": 20,
    "start_time": "2022-06-11T10:34:52.275Z"
   },
   {
    "duration": 17,
    "start_time": "2022-06-11T10:34:52.297Z"
   },
   {
    "duration": 22,
    "start_time": "2022-06-11T10:34:52.316Z"
   },
   {
    "duration": 18,
    "start_time": "2022-06-11T10:34:52.340Z"
   },
   {
    "duration": 12,
    "start_time": "2022-06-11T10:34:52.360Z"
   },
   {
    "duration": 36,
    "start_time": "2022-06-11T10:34:52.374Z"
   },
   {
    "duration": 376,
    "start_time": "2022-06-11T10:34:52.412Z"
   },
   {
    "duration": 0,
    "start_time": "2022-06-11T10:34:52.790Z"
   },
   {
    "duration": 0,
    "start_time": "2022-06-11T10:34:52.792Z"
   },
   {
    "duration": 0,
    "start_time": "2022-06-11T10:34:52.792Z"
   },
   {
    "duration": 0,
    "start_time": "2022-06-11T10:34:52.794Z"
   },
   {
    "duration": 0,
    "start_time": "2022-06-11T10:34:52.795Z"
   },
   {
    "duration": 0,
    "start_time": "2022-06-11T10:34:52.795Z"
   },
   {
    "duration": 0,
    "start_time": "2022-06-11T10:34:52.796Z"
   },
   {
    "duration": 0,
    "start_time": "2022-06-11T10:34:52.797Z"
   },
   {
    "duration": 0,
    "start_time": "2022-06-11T10:34:52.798Z"
   },
   {
    "duration": 0,
    "start_time": "2022-06-11T10:34:52.799Z"
   },
   {
    "duration": 0,
    "start_time": "2022-06-11T10:34:52.800Z"
   },
   {
    "duration": 0,
    "start_time": "2022-06-11T10:34:52.801Z"
   },
   {
    "duration": 0,
    "start_time": "2022-06-11T10:34:52.802Z"
   },
   {
    "duration": 0,
    "start_time": "2022-06-11T10:34:52.803Z"
   },
   {
    "duration": 0,
    "start_time": "2022-06-11T10:34:52.804Z"
   },
   {
    "duration": 0,
    "start_time": "2022-06-11T10:34:52.805Z"
   },
   {
    "duration": 0,
    "start_time": "2022-06-11T10:34:52.806Z"
   },
   {
    "duration": 0,
    "start_time": "2022-06-11T10:34:52.807Z"
   },
   {
    "duration": 0,
    "start_time": "2022-06-11T10:34:52.808Z"
   },
   {
    "duration": 0,
    "start_time": "2022-06-11T10:34:52.809Z"
   },
   {
    "duration": 0,
    "start_time": "2022-06-11T10:34:52.809Z"
   },
   {
    "duration": 0,
    "start_time": "2022-06-11T10:34:52.810Z"
   },
   {
    "duration": 0,
    "start_time": "2022-06-11T10:34:52.811Z"
   },
   {
    "duration": 0,
    "start_time": "2022-06-11T10:34:52.812Z"
   },
   {
    "duration": 0,
    "start_time": "2022-06-11T10:34:52.813Z"
   },
   {
    "duration": 0,
    "start_time": "2022-06-11T10:34:52.813Z"
   },
   {
    "duration": 0,
    "start_time": "2022-06-11T10:34:52.814Z"
   },
   {
    "duration": 0,
    "start_time": "2022-06-11T10:34:52.815Z"
   },
   {
    "duration": 0,
    "start_time": "2022-06-11T10:34:52.816Z"
   },
   {
    "duration": 0,
    "start_time": "2022-06-11T10:34:52.817Z"
   },
   {
    "duration": 0,
    "start_time": "2022-06-11T10:34:52.818Z"
   },
   {
    "duration": 0,
    "start_time": "2022-06-11T10:34:52.819Z"
   },
   {
    "duration": 0,
    "start_time": "2022-06-11T10:34:52.820Z"
   },
   {
    "duration": 0,
    "start_time": "2022-06-11T10:34:52.821Z"
   },
   {
    "duration": 0,
    "start_time": "2022-06-11T10:34:52.822Z"
   },
   {
    "duration": 0,
    "start_time": "2022-06-11T10:34:52.823Z"
   },
   {
    "duration": 0,
    "start_time": "2022-06-11T10:34:52.824Z"
   },
   {
    "duration": 0,
    "start_time": "2022-06-11T10:34:52.825Z"
   },
   {
    "duration": 0,
    "start_time": "2022-06-11T10:34:52.826Z"
   },
   {
    "duration": 0,
    "start_time": "2022-06-11T10:34:52.830Z"
   },
   {
    "duration": 0,
    "start_time": "2022-06-11T10:34:52.831Z"
   },
   {
    "duration": 0,
    "start_time": "2022-06-11T10:34:52.833Z"
   },
   {
    "duration": 0,
    "start_time": "2022-06-11T10:34:52.834Z"
   },
   {
    "duration": 0,
    "start_time": "2022-06-11T10:34:52.835Z"
   },
   {
    "duration": 0,
    "start_time": "2022-06-11T10:34:52.836Z"
   },
   {
    "duration": 0,
    "start_time": "2022-06-11T10:34:52.838Z"
   },
   {
    "duration": 0,
    "start_time": "2022-06-11T10:34:52.839Z"
   },
   {
    "duration": 0,
    "start_time": "2022-06-11T10:34:52.840Z"
   },
   {
    "duration": 0,
    "start_time": "2022-06-11T10:34:52.841Z"
   },
   {
    "duration": 0,
    "start_time": "2022-06-11T10:34:52.843Z"
   },
   {
    "duration": 0,
    "start_time": "2022-06-11T10:34:52.844Z"
   },
   {
    "duration": 0,
    "start_time": "2022-06-11T10:34:52.847Z"
   },
   {
    "duration": 0,
    "start_time": "2022-06-11T10:34:52.849Z"
   },
   {
    "duration": 0,
    "start_time": "2022-06-11T10:34:52.850Z"
   },
   {
    "duration": 0,
    "start_time": "2022-06-11T10:34:52.851Z"
   },
   {
    "duration": 0,
    "start_time": "2022-06-11T10:34:52.852Z"
   },
   {
    "duration": 0,
    "start_time": "2022-06-11T10:34:52.853Z"
   },
   {
    "duration": 0,
    "start_time": "2022-06-11T10:34:52.854Z"
   },
   {
    "duration": 0,
    "start_time": "2022-06-11T10:34:52.855Z"
   },
   {
    "duration": 0,
    "start_time": "2022-06-11T10:34:52.856Z"
   },
   {
    "duration": 0,
    "start_time": "2022-06-11T10:34:52.857Z"
   },
   {
    "duration": 0,
    "start_time": "2022-06-11T10:34:52.858Z"
   },
   {
    "duration": 0,
    "start_time": "2022-06-11T10:34:52.859Z"
   },
   {
    "duration": 2,
    "start_time": "2022-06-11T10:35:05.709Z"
   },
   {
    "duration": 99,
    "start_time": "2022-06-11T10:35:05.715Z"
   },
   {
    "duration": 23,
    "start_time": "2022-06-11T10:35:05.815Z"
   },
   {
    "duration": 32,
    "start_time": "2022-06-11T10:35:05.840Z"
   },
   {
    "duration": 74,
    "start_time": "2022-06-11T10:35:05.874Z"
   },
   {
    "duration": 4,
    "start_time": "2022-06-11T10:35:05.950Z"
   },
   {
    "duration": 32,
    "start_time": "2022-06-11T10:35:05.955Z"
   },
   {
    "duration": 25,
    "start_time": "2022-06-11T10:35:05.989Z"
   },
   {
    "duration": 2,
    "start_time": "2022-06-11T10:35:06.016Z"
   },
   {
    "duration": 52,
    "start_time": "2022-06-11T10:35:06.020Z"
   },
   {
    "duration": 6,
    "start_time": "2022-06-11T10:35:06.074Z"
   },
   {
    "duration": 38,
    "start_time": "2022-06-11T10:35:06.081Z"
   },
   {
    "duration": 391,
    "start_time": "2022-06-11T10:35:10.002Z"
   },
   {
    "duration": 5,
    "start_time": "2022-06-11T10:36:04.504Z"
   },
   {
    "duration": 14,
    "start_time": "2022-06-11T10:36:11.944Z"
   },
   {
    "duration": 3,
    "start_time": "2022-06-11T10:38:18.112Z"
   },
   {
    "duration": 96,
    "start_time": "2022-06-11T10:38:18.116Z"
   },
   {
    "duration": 24,
    "start_time": "2022-06-11T10:38:18.214Z"
   },
   {
    "duration": 30,
    "start_time": "2022-06-11T10:38:18.240Z"
   },
   {
    "duration": 69,
    "start_time": "2022-06-11T10:38:18.271Z"
   },
   {
    "duration": 4,
    "start_time": "2022-06-11T10:38:18.342Z"
   },
   {
    "duration": 14,
    "start_time": "2022-06-11T10:38:18.347Z"
   },
   {
    "duration": 16,
    "start_time": "2022-06-11T10:38:18.363Z"
   },
   {
    "duration": 3,
    "start_time": "2022-06-11T10:38:18.380Z"
   },
   {
    "duration": 8,
    "start_time": "2022-06-11T10:38:18.384Z"
   },
   {
    "duration": 37,
    "start_time": "2022-06-11T10:38:18.394Z"
   },
   {
    "duration": 37,
    "start_time": "2022-06-11T10:38:18.438Z"
   },
   {
    "duration": 2,
    "start_time": "2022-06-11T10:38:18.476Z"
   },
   {
    "duration": 219,
    "start_time": "2022-06-11T10:38:22.781Z"
   },
   {
    "duration": 5,
    "start_time": "2022-06-11T10:39:01.521Z"
   },
   {
    "duration": 25,
    "start_time": "2022-06-11T10:39:38.831Z"
   },
   {
    "duration": 27,
    "start_time": "2022-06-11T10:39:58.445Z"
   },
   {
    "duration": 19,
    "start_time": "2022-06-11T10:40:03.634Z"
   },
   {
    "duration": 24,
    "start_time": "2022-06-11T10:40:08.913Z"
   },
   {
    "duration": 8,
    "start_time": "2022-06-11T10:40:43.309Z"
   },
   {
    "duration": 3,
    "start_time": "2022-06-11T10:52:26.400Z"
   },
   {
    "duration": 96,
    "start_time": "2022-06-11T10:52:26.411Z"
   },
   {
    "duration": 12,
    "start_time": "2022-06-11T10:52:26.509Z"
   },
   {
    "duration": 30,
    "start_time": "2022-06-11T10:52:26.523Z"
   },
   {
    "duration": 73,
    "start_time": "2022-06-11T10:52:26.555Z"
   },
   {
    "duration": 3,
    "start_time": "2022-06-11T10:52:26.630Z"
   },
   {
    "duration": 19,
    "start_time": "2022-06-11T10:52:26.635Z"
   },
   {
    "duration": 17,
    "start_time": "2022-06-11T10:52:26.655Z"
   },
   {
    "duration": 3,
    "start_time": "2022-06-11T10:52:26.673Z"
   },
   {
    "duration": 12,
    "start_time": "2022-06-11T10:52:26.678Z"
   },
   {
    "duration": 5,
    "start_time": "2022-06-11T10:52:26.692Z"
   },
   {
    "duration": 46,
    "start_time": "2022-06-11T10:52:26.699Z"
   },
   {
    "duration": 2,
    "start_time": "2022-06-11T10:52:26.747Z"
   },
   {
    "duration": 29,
    "start_time": "2022-06-11T10:52:29.628Z"
   },
   {
    "duration": 35,
    "start_time": "2022-06-11T11:00:09.647Z"
   },
   {
    "duration": 27,
    "start_time": "2022-06-11T11:00:58.604Z"
   },
   {
    "duration": 29,
    "start_time": "2022-06-11T11:01:20.523Z"
   },
   {
    "duration": 6237,
    "start_time": "2022-06-11T11:03:44.539Z"
   },
   {
    "duration": 41,
    "start_time": "2022-06-11T11:06:03.492Z"
   },
   {
    "duration": 31,
    "start_time": "2022-06-11T11:06:48.207Z"
   },
   {
    "duration": 41,
    "start_time": "2022-06-11T11:08:21.907Z"
   },
   {
    "duration": 242,
    "start_time": "2022-06-11T11:21:38.083Z"
   },
   {
    "duration": 223,
    "start_time": "2022-06-11T11:21:48.004Z"
   },
   {
    "duration": 240,
    "start_time": "2022-06-11T11:22:18.207Z"
   },
   {
    "duration": 245,
    "start_time": "2022-06-11T11:22:34.497Z"
   },
   {
    "duration": 4,
    "start_time": "2022-06-11T11:24:45.126Z"
   },
   {
    "duration": 88,
    "start_time": "2022-06-11T11:24:45.132Z"
   },
   {
    "duration": 13,
    "start_time": "2022-06-11T11:24:45.222Z"
   },
   {
    "duration": 46,
    "start_time": "2022-06-11T11:24:45.237Z"
   },
   {
    "duration": 85,
    "start_time": "2022-06-11T11:24:45.285Z"
   },
   {
    "duration": 4,
    "start_time": "2022-06-11T11:24:45.371Z"
   },
   {
    "duration": 17,
    "start_time": "2022-06-11T11:24:45.376Z"
   },
   {
    "duration": 16,
    "start_time": "2022-06-11T11:24:45.395Z"
   },
   {
    "duration": 16,
    "start_time": "2022-06-11T11:24:45.413Z"
   },
   {
    "duration": 7,
    "start_time": "2022-06-11T11:24:45.431Z"
   },
   {
    "duration": 8,
    "start_time": "2022-06-11T11:24:45.440Z"
   },
   {
    "duration": 38,
    "start_time": "2022-06-11T11:24:45.450Z"
   },
   {
    "duration": 7,
    "start_time": "2022-06-11T11:24:45.490Z"
   },
   {
    "duration": 27,
    "start_time": "2022-06-11T11:25:23.368Z"
   },
   {
    "duration": 234,
    "start_time": "2022-06-11T11:25:32.276Z"
   },
   {
    "duration": 35,
    "start_time": "2022-06-11T11:33:11.264Z"
   },
   {
    "duration": 31,
    "start_time": "2022-06-11T11:33:53.569Z"
   },
   {
    "duration": 244,
    "start_time": "2022-06-11T11:34:09.074Z"
   },
   {
    "duration": 3,
    "start_time": "2022-06-11T11:34:25.595Z"
   },
   {
    "duration": 96,
    "start_time": "2022-06-11T11:34:25.602Z"
   },
   {
    "duration": 15,
    "start_time": "2022-06-11T11:34:25.700Z"
   },
   {
    "duration": 42,
    "start_time": "2022-06-11T11:34:25.716Z"
   },
   {
    "duration": 79,
    "start_time": "2022-06-11T11:34:25.760Z"
   },
   {
    "duration": 4,
    "start_time": "2022-06-11T11:34:25.841Z"
   },
   {
    "duration": 20,
    "start_time": "2022-06-11T11:34:25.846Z"
   },
   {
    "duration": 17,
    "start_time": "2022-06-11T11:34:25.868Z"
   },
   {
    "duration": 3,
    "start_time": "2022-06-11T11:34:25.887Z"
   },
   {
    "duration": 9,
    "start_time": "2022-06-11T11:34:25.892Z"
   },
   {
    "duration": 25,
    "start_time": "2022-06-11T11:34:25.903Z"
   },
   {
    "duration": 30,
    "start_time": "2022-06-11T11:34:25.930Z"
   },
   {
    "duration": 8,
    "start_time": "2022-06-11T11:34:25.962Z"
   },
   {
    "duration": 10,
    "start_time": "2022-06-11T11:35:39.148Z"
   },
   {
    "duration": 235,
    "start_time": "2022-06-11T11:43:58.066Z"
   },
   {
    "duration": 331,
    "start_time": "2022-06-11T11:44:15.641Z"
   },
   {
    "duration": 196,
    "start_time": "2022-06-11T11:44:26.205Z"
   },
   {
    "duration": 176,
    "start_time": "2022-06-11T11:44:32.984Z"
   },
   {
    "duration": 342,
    "start_time": "2022-06-11T11:44:43.841Z"
   },
   {
    "duration": 7,
    "start_time": "2022-06-11T11:45:48.855Z"
   },
   {
    "duration": 6,
    "start_time": "2022-06-11T11:45:58.694Z"
   },
   {
    "duration": 6,
    "start_time": "2022-06-11T11:46:05.515Z"
   },
   {
    "duration": 6,
    "start_time": "2022-06-11T11:47:33.499Z"
   },
   {
    "duration": 5,
    "start_time": "2022-06-11T11:47:48.879Z"
   },
   {
    "duration": 6,
    "start_time": "2022-06-11T11:48:00.368Z"
   },
   {
    "duration": 265,
    "start_time": "2022-06-11T11:48:04.751Z"
   },
   {
    "duration": 6,
    "start_time": "2022-06-11T11:48:09.631Z"
   },
   {
    "duration": 234,
    "start_time": "2022-06-11T11:48:44.282Z"
   },
   {
    "duration": 6,
    "start_time": "2022-06-11T11:48:47.465Z"
   },
   {
    "duration": 31,
    "start_time": "2022-06-11T11:48:59.775Z"
   },
   {
    "duration": 50,
    "start_time": "2022-06-11T11:49:20.843Z"
   },
   {
    "duration": 32,
    "start_time": "2022-06-11T11:49:44.583Z"
   },
   {
    "duration": 33,
    "start_time": "2022-06-11T11:50:14.411Z"
   },
   {
    "duration": 33,
    "start_time": "2022-06-11T11:50:19.576Z"
   },
   {
    "duration": 4,
    "start_time": "2022-06-11T11:51:35.570Z"
   },
   {
    "duration": 90,
    "start_time": "2022-06-11T11:51:35.576Z"
   },
   {
    "duration": 35,
    "start_time": "2022-06-11T11:51:35.668Z"
   },
   {
    "duration": 43,
    "start_time": "2022-06-11T11:51:35.705Z"
   },
   {
    "duration": 104,
    "start_time": "2022-06-11T11:51:35.751Z"
   },
   {
    "duration": 5,
    "start_time": "2022-06-11T11:51:35.857Z"
   },
   {
    "duration": 21,
    "start_time": "2022-06-11T11:51:35.863Z"
   },
   {
    "duration": 18,
    "start_time": "2022-06-11T11:51:35.886Z"
   },
   {
    "duration": 22,
    "start_time": "2022-06-11T11:51:35.906Z"
   },
   {
    "duration": 8,
    "start_time": "2022-06-11T11:51:35.930Z"
   },
   {
    "duration": 14,
    "start_time": "2022-06-11T11:51:35.940Z"
   },
   {
    "duration": 46,
    "start_time": "2022-06-11T11:51:35.957Z"
   },
   {
    "duration": 3,
    "start_time": "2022-06-11T11:51:36.004Z"
   },
   {
    "duration": 25,
    "start_time": "2022-06-11T11:51:36.008Z"
   },
   {
    "duration": 280,
    "start_time": "2022-06-11T11:52:21.619Z"
   },
   {
    "duration": 41,
    "start_time": "2022-06-11T11:52:51.501Z"
   },
   {
    "duration": 30,
    "start_time": "2022-06-11T11:53:09.195Z"
   },
   {
    "duration": 225,
    "start_time": "2022-06-11T11:57:08.625Z"
   },
   {
    "duration": 5,
    "start_time": "2022-06-11T11:57:13.016Z"
   },
   {
    "duration": 219,
    "start_time": "2022-06-11T11:57:53.075Z"
   },
   {
    "duration": 5,
    "start_time": "2022-06-11T11:57:57.818Z"
   },
   {
    "duration": 40,
    "start_time": "2022-06-11T11:58:38.754Z"
   },
   {
    "duration": 146,
    "start_time": "2022-06-11T11:59:34.919Z"
   },
   {
    "duration": 5,
    "start_time": "2022-06-11T11:59:39.002Z"
   },
   {
    "duration": 6,
    "start_time": "2022-06-11T12:12:25.062Z"
   },
   {
    "duration": 30077,
    "start_time": "2022-06-11T12:12:53.382Z"
   },
   {
    "duration": 714,
    "start_time": "2022-06-11T14:44:00.834Z"
   },
   {
    "duration": 326,
    "start_time": "2022-06-11T14:44:01.550Z"
   },
   {
    "duration": 18,
    "start_time": "2022-06-11T14:44:01.877Z"
   },
   {
    "duration": 45,
    "start_time": "2022-06-11T14:44:01.896Z"
   },
   {
    "duration": 86,
    "start_time": "2022-06-11T14:44:01.943Z"
   },
   {
    "duration": 5,
    "start_time": "2022-06-11T14:44:02.031Z"
   },
   {
    "duration": 25,
    "start_time": "2022-06-11T14:44:02.039Z"
   },
   {
    "duration": 16,
    "start_time": "2022-06-11T14:44:02.066Z"
   },
   {
    "duration": 3,
    "start_time": "2022-06-11T14:44:02.084Z"
   },
   {
    "duration": 26,
    "start_time": "2022-06-11T14:44:02.088Z"
   },
   {
    "duration": 6,
    "start_time": "2022-06-11T14:44:14.797Z"
   },
   {
    "duration": 4,
    "start_time": "2022-06-11T14:44:20.478Z"
   },
   {
    "duration": 7,
    "start_time": "2022-06-11T14:44:39.359Z"
   },
   {
    "duration": 91,
    "start_time": "2022-06-11T14:54:23.368Z"
   },
   {
    "duration": 32,
    "start_time": "2022-06-11T14:54:54.739Z"
   },
   {
    "duration": 2314,
    "start_time": "2022-06-11T14:56:08.564Z"
   },
   {
    "duration": 36,
    "start_time": "2022-06-11T14:56:27.981Z"
   },
   {
    "duration": 2,
    "start_time": "2022-06-11T14:58:11.797Z"
   },
   {
    "duration": 7,
    "start_time": "2022-06-11T14:58:26.592Z"
   },
   {
    "duration": 5,
    "start_time": "2022-06-11T14:58:28.234Z"
   },
   {
    "duration": 6,
    "start_time": "2022-06-11T14:58:32.879Z"
   },
   {
    "duration": 4,
    "start_time": "2022-06-11T14:58:43.809Z"
   },
   {
    "duration": 8,
    "start_time": "2022-06-11T14:58:46.985Z"
   },
   {
    "duration": 4,
    "start_time": "2022-06-11T14:58:48.690Z"
   },
   {
    "duration": 5,
    "start_time": "2022-06-11T14:59:53.565Z"
   },
   {
    "duration": 5,
    "start_time": "2022-06-11T14:59:55.941Z"
   },
   {
    "duration": 8,
    "start_time": "2022-06-11T15:00:09.964Z"
   },
   {
    "duration": 5,
    "start_time": "2022-06-11T15:00:12.878Z"
   },
   {
    "duration": 15,
    "start_time": "2022-06-11T15:00:19.495Z"
   },
   {
    "duration": 56,
    "start_time": "2022-06-11T15:00:57.424Z"
   },
   {
    "duration": 6,
    "start_time": "2022-06-11T15:01:02.095Z"
   },
   {
    "duration": 10,
    "start_time": "2022-06-11T15:01:04.179Z"
   },
   {
    "duration": 4,
    "start_time": "2022-06-11T15:01:11.333Z"
   },
   {
    "duration": 6,
    "start_time": "2022-06-11T15:01:13.298Z"
   },
   {
    "duration": 5,
    "start_time": "2022-06-11T15:01:15.733Z"
   },
   {
    "duration": 6,
    "start_time": "2022-06-11T15:01:17.355Z"
   },
   {
    "duration": 33,
    "start_time": "2022-06-11T15:01:20.426Z"
   },
   {
    "duration": 824,
    "start_time": "2022-06-12T08:00:42.934Z"
   },
   {
    "duration": 327,
    "start_time": "2022-06-12T08:00:43.760Z"
   },
   {
    "duration": 21,
    "start_time": "2022-06-12T08:00:44.089Z"
   },
   {
    "duration": 44,
    "start_time": "2022-06-12T08:00:44.113Z"
   },
   {
    "duration": 84,
    "start_time": "2022-06-12T08:00:44.159Z"
   },
   {
    "duration": 4,
    "start_time": "2022-06-12T08:00:44.245Z"
   },
   {
    "duration": 15,
    "start_time": "2022-06-12T08:00:44.251Z"
   },
   {
    "duration": 41,
    "start_time": "2022-06-12T08:00:44.268Z"
   },
   {
    "duration": 2,
    "start_time": "2022-06-12T08:00:44.311Z"
   },
   {
    "duration": 8,
    "start_time": "2022-06-12T08:00:44.317Z"
   },
   {
    "duration": 5,
    "start_time": "2022-06-12T08:00:44.327Z"
   },
   {
    "duration": 5,
    "start_time": "2022-06-12T08:00:44.333Z"
   },
   {
    "duration": 2648,
    "start_time": "2022-06-12T08:00:44.340Z"
   },
   {
    "duration": 16,
    "start_time": "2022-06-12T08:00:46.990Z"
   },
   {
    "duration": 6,
    "start_time": "2022-06-12T08:00:47.010Z"
   },
   {
    "duration": 8,
    "start_time": "2022-06-12T08:00:47.018Z"
   },
   {
    "duration": 4,
    "start_time": "2022-06-12T08:00:47.028Z"
   },
   {
    "duration": 6,
    "start_time": "2022-06-12T08:00:47.034Z"
   },
   {
    "duration": 18,
    "start_time": "2022-06-12T08:00:47.041Z"
   },
   {
    "duration": 10,
    "start_time": "2022-06-12T08:00:47.060Z"
   },
   {
    "duration": 11,
    "start_time": "2022-06-12T08:00:47.071Z"
   },
   {
    "duration": 31,
    "start_time": "2022-06-12T08:00:47.083Z"
   },
   {
    "duration": 6,
    "start_time": "2022-06-12T08:00:47.116Z"
   },
   {
    "duration": 14,
    "start_time": "2022-06-12T08:00:47.124Z"
   },
   {
    "duration": 37,
    "start_time": "2022-06-12T08:00:47.139Z"
   },
   {
    "duration": 5,
    "start_time": "2022-06-12T08:00:47.177Z"
   },
   {
    "duration": 25,
    "start_time": "2022-06-12T08:00:47.184Z"
   },
   {
    "duration": 4,
    "start_time": "2022-06-12T08:00:47.213Z"
   },
   {
    "duration": 8,
    "start_time": "2022-06-12T08:00:47.218Z"
   },
   {
    "duration": 5,
    "start_time": "2022-06-12T08:00:47.227Z"
   },
   {
    "duration": 5,
    "start_time": "2022-06-12T08:00:47.234Z"
   },
   {
    "duration": 35,
    "start_time": "2022-06-12T08:00:47.240Z"
   },
   {
    "duration": 287,
    "start_time": "2022-06-12T08:00:47.295Z"
   },
   {
    "duration": 24,
    "start_time": "2022-06-12T08:00:47.583Z"
   },
   {
    "duration": 5,
    "start_time": "2022-06-12T08:00:47.609Z"
   },
   {
    "duration": 3,
    "start_time": "2022-06-12T08:09:04.546Z"
   },
   {
    "duration": 93,
    "start_time": "2022-06-12T08:09:07.308Z"
   },
   {
    "duration": 19,
    "start_time": "2022-06-12T08:09:10.049Z"
   },
   {
    "duration": 32,
    "start_time": "2022-06-12T08:09:13.609Z"
   },
   {
    "duration": 42,
    "start_time": "2022-06-12T08:09:16.288Z"
   },
   {
    "duration": 78,
    "start_time": "2022-06-12T08:09:20.983Z"
   },
   {
    "duration": 4,
    "start_time": "2022-06-12T08:09:32.317Z"
   },
   {
    "duration": 14,
    "start_time": "2022-06-12T08:09:34.459Z"
   },
   {
    "duration": 18,
    "start_time": "2022-06-12T08:09:41.748Z"
   },
   {
    "duration": 24,
    "start_time": "2022-06-12T08:09:44.050Z"
   },
   {
    "duration": 2,
    "start_time": "2022-06-12T08:09:59.779Z"
   },
   {
    "duration": 6,
    "start_time": "2022-06-12T08:10:01.606Z"
   },
   {
    "duration": 12,
    "start_time": "2022-06-12T08:10:03.896Z"
   },
   {
    "duration": 2,
    "start_time": "2022-06-12T08:10:15.737Z"
   },
   {
    "duration": 2771,
    "start_time": "2022-06-12T08:10:17.802Z"
   },
   {
    "duration": 7,
    "start_time": "2022-06-12T08:10:23.368Z"
   },
   {
    "duration": 5,
    "start_time": "2022-06-12T08:10:25.324Z"
   },
   {
    "duration": 5,
    "start_time": "2022-06-12T08:10:28.031Z"
   },
   {
    "duration": 6,
    "start_time": "2022-06-12T08:10:29.938Z"
   },
   {
    "duration": 11,
    "start_time": "2022-06-12T08:10:32.994Z"
   },
   {
    "duration": 5,
    "start_time": "2022-06-12T08:10:34.783Z"
   },
   {
    "duration": 6,
    "start_time": "2022-06-12T08:10:39.884Z"
   },
   {
    "duration": 5,
    "start_time": "2022-06-12T08:10:42.762Z"
   },
   {
    "duration": 8,
    "start_time": "2022-06-12T08:10:47.271Z"
   },
   {
    "duration": 6,
    "start_time": "2022-06-12T08:10:50.712Z"
   },
   {
    "duration": 14,
    "start_time": "2022-06-12T08:10:53.426Z"
   },
   {
    "duration": 58,
    "start_time": "2022-06-12T08:10:56.971Z"
   },
   {
    "duration": 6,
    "start_time": "2022-06-12T08:11:02.359Z"
   },
   {
    "duration": 10,
    "start_time": "2022-06-12T08:11:04.110Z"
   },
   {
    "duration": 4,
    "start_time": "2022-06-12T08:11:06.862Z"
   },
   {
    "duration": 7,
    "start_time": "2022-06-12T08:11:08.938Z"
   },
   {
    "duration": 7,
    "start_time": "2022-06-12T08:11:10.443Z"
   },
   {
    "duration": 6,
    "start_time": "2022-06-12T08:11:12.121Z"
   },
   {
    "duration": 37,
    "start_time": "2022-06-12T08:11:14.145Z"
   },
   {
    "duration": 338,
    "start_time": "2022-06-12T08:16:32.101Z"
   },
   {
    "duration": 13,
    "start_time": "2022-06-12T08:16:56.113Z"
   },
   {
    "duration": 11,
    "start_time": "2022-06-12T08:16:58.899Z"
   },
   {
    "duration": 32,
    "start_time": "2022-06-12T08:17:37.697Z"
   },
   {
    "duration": 180,
    "start_time": "2022-06-12T08:17:46.031Z"
   },
   {
    "duration": 122,
    "start_time": "2022-06-12T08:19:25.119Z"
   },
   {
    "duration": 138,
    "start_time": "2022-06-12T08:19:42.533Z"
   },
   {
    "duration": 146,
    "start_time": "2022-06-12T08:19:56.682Z"
   },
   {
    "duration": 279,
    "start_time": "2022-06-12T08:22:49.594Z"
   },
   {
    "duration": 131,
    "start_time": "2022-06-12T08:25:14.617Z"
   },
   {
    "duration": 150,
    "start_time": "2022-06-12T08:25:21.922Z"
   },
   {
    "duration": 188,
    "start_time": "2022-06-12T08:25:37.582Z"
   },
   {
    "duration": 154,
    "start_time": "2022-06-12T08:25:42.265Z"
   },
   {
    "duration": 155,
    "start_time": "2022-06-12T08:25:49.171Z"
   },
   {
    "duration": 147,
    "start_time": "2022-06-12T08:25:59.613Z"
   },
   {
    "duration": 173,
    "start_time": "2022-06-12T08:26:36.134Z"
   },
   {
    "duration": 181,
    "start_time": "2022-06-12T08:26:50.577Z"
   },
   {
    "duration": 113,
    "start_time": "2022-06-12T08:26:56.510Z"
   },
   {
    "duration": 124,
    "start_time": "2022-06-12T08:27:12.842Z"
   },
   {
    "duration": 130,
    "start_time": "2022-06-12T08:27:19.119Z"
   },
   {
    "duration": 12,
    "start_time": "2022-06-12T08:27:43.009Z"
   },
   {
    "duration": 188,
    "start_time": "2022-06-12T08:27:46.639Z"
   },
   {
    "duration": 162,
    "start_time": "2022-06-12T08:27:49.967Z"
   },
   {
    "duration": 230,
    "start_time": "2022-06-12T08:28:06.214Z"
   },
   {
    "duration": 168,
    "start_time": "2022-06-12T08:28:17.461Z"
   },
   {
    "duration": 14,
    "start_time": "2022-06-12T08:29:25.262Z"
   },
   {
    "duration": 5,
    "start_time": "2022-06-12T08:29:26.960Z"
   },
   {
    "duration": 5,
    "start_time": "2022-06-12T08:32:06.937Z"
   },
   {
    "duration": 6,
    "start_time": "2022-06-12T08:32:08.772Z"
   },
   {
    "duration": 205,
    "start_time": "2022-06-12T08:33:11.816Z"
   },
   {
    "duration": 228,
    "start_time": "2022-06-12T08:33:57.461Z"
   },
   {
    "duration": 272,
    "start_time": "2022-06-12T08:34:10.789Z"
   },
   {
    "duration": 190,
    "start_time": "2022-06-12T08:34:24.469Z"
   },
   {
    "duration": 252,
    "start_time": "2022-06-12T08:34:29.165Z"
   },
   {
    "duration": 224,
    "start_time": "2022-06-12T08:36:14.473Z"
   },
   {
    "duration": 203,
    "start_time": "2022-06-12T08:36:31.458Z"
   },
   {
    "duration": 168,
    "start_time": "2022-06-12T08:37:27.175Z"
   },
   {
    "duration": 189,
    "start_time": "2022-06-12T08:37:46.423Z"
   },
   {
    "duration": 200,
    "start_time": "2022-06-12T08:37:52.400Z"
   },
   {
    "duration": 209,
    "start_time": "2022-06-12T08:37:56.557Z"
   },
   {
    "duration": 230,
    "start_time": "2022-06-12T08:38:08.784Z"
   },
   {
    "duration": 285,
    "start_time": "2022-06-12T08:38:16.161Z"
   },
   {
    "duration": 200,
    "start_time": "2022-06-12T08:38:22.278Z"
   },
   {
    "duration": 3,
    "start_time": "2022-06-12T08:42:04.700Z"
   },
   {
    "duration": 35,
    "start_time": "2022-06-12T08:44:38.045Z"
   },
   {
    "duration": 168,
    "start_time": "2022-06-12T08:44:47.576Z"
   },
   {
    "duration": 135,
    "start_time": "2022-06-12T08:45:08.187Z"
   },
   {
    "duration": 134,
    "start_time": "2022-06-12T08:45:27.706Z"
   },
   {
    "duration": 135,
    "start_time": "2022-06-12T08:45:35.731Z"
   },
   {
    "duration": 132,
    "start_time": "2022-06-12T08:45:43.953Z"
   },
   {
    "duration": 11,
    "start_time": "2022-06-12T08:46:40.070Z"
   },
   {
    "duration": 3,
    "start_time": "2022-06-12T08:47:10.557Z"
   },
   {
    "duration": 3,
    "start_time": "2022-06-12T08:47:22.379Z"
   },
   {
    "duration": 167,
    "start_time": "2022-06-12T08:47:45.709Z"
   },
   {
    "duration": 104931,
    "start_time": "2022-06-12T08:48:08.459Z"
   },
   {
    "duration": 192,
    "start_time": "2022-06-12T08:52:15.657Z"
   },
   {
    "duration": 38,
    "start_time": "2022-06-12T08:52:49.137Z"
   },
   {
    "duration": 5818,
    "start_time": "2022-06-12T08:52:58.212Z"
   },
   {
    "duration": 3,
    "start_time": "2022-06-12T08:53:57.213Z"
   },
   {
    "duration": 108,
    "start_time": "2022-06-12T08:53:57.219Z"
   },
   {
    "duration": 17,
    "start_time": "2022-06-12T08:53:57.330Z"
   },
   {
    "duration": 73,
    "start_time": "2022-06-12T08:53:57.349Z"
   },
   {
    "duration": 98,
    "start_time": "2022-06-12T08:53:57.424Z"
   },
   {
    "duration": 5,
    "start_time": "2022-06-12T08:53:57.524Z"
   },
   {
    "duration": 18,
    "start_time": "2022-06-12T08:53:57.530Z"
   },
   {
    "duration": 20,
    "start_time": "2022-06-12T08:53:57.550Z"
   },
   {
    "duration": 11,
    "start_time": "2022-06-12T08:53:57.596Z"
   },
   {
    "duration": 13,
    "start_time": "2022-06-12T08:53:57.609Z"
   },
   {
    "duration": 6,
    "start_time": "2022-06-12T08:53:57.625Z"
   },
   {
    "duration": 6,
    "start_time": "2022-06-12T08:53:57.632Z"
   },
   {
    "duration": 3273,
    "start_time": "2022-06-12T08:53:57.640Z"
   },
   {
    "duration": 8,
    "start_time": "2022-06-12T08:54:00.915Z"
   },
   {
    "duration": 16,
    "start_time": "2022-06-12T08:54:00.924Z"
   },
   {
    "duration": 16,
    "start_time": "2022-06-12T08:54:00.941Z"
   },
   {
    "duration": 15,
    "start_time": "2022-06-12T08:54:00.959Z"
   },
   {
    "duration": 50,
    "start_time": "2022-06-12T08:54:00.976Z"
   },
   {
    "duration": 14,
    "start_time": "2022-06-12T08:54:01.028Z"
   },
   {
    "duration": 23,
    "start_time": "2022-06-12T08:54:01.044Z"
   },
   {
    "duration": 53,
    "start_time": "2022-06-12T08:54:01.069Z"
   },
   {
    "duration": 49,
    "start_time": "2022-06-12T08:54:01.124Z"
   },
   {
    "duration": 45,
    "start_time": "2022-06-12T08:54:01.174Z"
   },
   {
    "duration": 56,
    "start_time": "2022-06-12T08:54:01.221Z"
   },
   {
    "duration": 67,
    "start_time": "2022-06-12T08:54:01.279Z"
   },
   {
    "duration": 6,
    "start_time": "2022-06-12T08:54:01.348Z"
   },
   {
    "duration": 27,
    "start_time": "2022-06-12T08:54:01.356Z"
   },
   {
    "duration": 12,
    "start_time": "2022-06-12T08:54:01.384Z"
   },
   {
    "duration": 25,
    "start_time": "2022-06-12T08:54:01.404Z"
   },
   {
    "duration": 23,
    "start_time": "2022-06-12T08:54:01.431Z"
   },
   {
    "duration": 22,
    "start_time": "2022-06-12T08:54:01.456Z"
   },
   {
    "duration": 60,
    "start_time": "2022-06-12T08:54:01.480Z"
   },
   {
    "duration": 325,
    "start_time": "2022-06-12T08:54:01.542Z"
   },
   {
    "duration": 15,
    "start_time": "2022-06-12T08:54:01.869Z"
   },
   {
    "duration": 30,
    "start_time": "2022-06-12T08:54:01.894Z"
   },
   {
    "duration": 47,
    "start_time": "2022-06-12T08:54:01.926Z"
   },
   {
    "duration": 176,
    "start_time": "2022-06-12T08:54:01.974Z"
   },
   {
    "duration": 162,
    "start_time": "2022-06-12T08:54:02.152Z"
   },
   {
    "duration": 241,
    "start_time": "2022-06-12T08:54:02.317Z"
   },
   {
    "duration": 156,
    "start_time": "2022-06-12T08:54:02.560Z"
   },
   {
    "duration": 170,
    "start_time": "2022-06-12T08:54:02.717Z"
   },
   {
    "duration": 181,
    "start_time": "2022-06-12T08:54:02.889Z"
   },
   {
    "duration": 140,
    "start_time": "2022-06-12T08:54:03.072Z"
   },
   {
    "duration": 14,
    "start_time": "2022-06-12T08:54:03.215Z"
   },
   {
    "duration": 187,
    "start_time": "2022-06-12T08:54:03.231Z"
   },
   {
    "duration": 146,
    "start_time": "2022-06-12T08:54:03.420Z"
   },
   {
    "duration": 163,
    "start_time": "2022-06-12T08:54:03.568Z"
   },
   {
    "duration": 12,
    "start_time": "2022-06-12T08:54:03.733Z"
   },
   {
    "duration": 17,
    "start_time": "2022-06-12T08:54:03.747Z"
   },
   {
    "duration": 19,
    "start_time": "2022-06-12T08:54:03.765Z"
   },
   {
    "duration": 249,
    "start_time": "2022-06-12T08:54:03.785Z"
   },
   {
    "duration": 7,
    "start_time": "2022-06-12T08:54:04.035Z"
   },
   {
    "duration": 231,
    "start_time": "2022-06-12T08:54:04.044Z"
   },
   {
    "duration": 3,
    "start_time": "2022-06-12T08:54:04.277Z"
   },
   {
    "duration": 171,
    "start_time": "2022-06-12T08:54:04.282Z"
   },
   {
    "duration": 3,
    "start_time": "2022-06-12T08:54:04.454Z"
   },
   {
    "duration": 5498,
    "start_time": "2022-06-12T08:54:08.320Z"
   },
   {
    "duration": 44,
    "start_time": "2022-06-12T08:54:13.821Z"
   },
   {
    "duration": 5588,
    "start_time": "2022-06-12T08:54:35.402Z"
   },
   {
    "duration": 55,
    "start_time": "2022-06-12T08:55:14.485Z"
   },
   {
    "duration": 5513,
    "start_time": "2022-06-12T08:55:23.985Z"
   },
   {
    "duration": 5503,
    "start_time": "2022-06-12T08:55:38.106Z"
   },
   {
    "duration": 5914,
    "start_time": "2022-06-12T08:55:57.392Z"
   },
   {
    "duration": 4436,
    "start_time": "2022-06-12T08:56:27.377Z"
   },
   {
    "duration": 4,
    "start_time": "2022-06-12T08:56:44.083Z"
   },
   {
    "duration": 126,
    "start_time": "2022-06-12T08:56:44.089Z"
   },
   {
    "duration": 18,
    "start_time": "2022-06-12T08:56:44.217Z"
   },
   {
    "duration": 74,
    "start_time": "2022-06-12T08:56:44.237Z"
   },
   {
    "duration": 92,
    "start_time": "2022-06-12T08:56:44.313Z"
   },
   {
    "duration": 7,
    "start_time": "2022-06-12T08:56:44.412Z"
   },
   {
    "duration": 25,
    "start_time": "2022-06-12T08:56:44.421Z"
   },
   {
    "duration": 46,
    "start_time": "2022-06-12T08:56:44.448Z"
   },
   {
    "duration": 9,
    "start_time": "2022-06-12T08:56:44.498Z"
   },
   {
    "duration": 12,
    "start_time": "2022-06-12T08:56:44.513Z"
   },
   {
    "duration": 6,
    "start_time": "2022-06-12T08:56:44.527Z"
   },
   {
    "duration": 7,
    "start_time": "2022-06-12T08:56:44.534Z"
   },
   {
    "duration": 2969,
    "start_time": "2022-06-12T08:56:44.543Z"
   },
   {
    "duration": 8,
    "start_time": "2022-06-12T08:56:47.514Z"
   },
   {
    "duration": 9,
    "start_time": "2022-06-12T08:56:47.524Z"
   },
   {
    "duration": 9,
    "start_time": "2022-06-12T08:56:47.535Z"
   },
   {
    "duration": 9,
    "start_time": "2022-06-12T08:56:47.545Z"
   },
   {
    "duration": 10,
    "start_time": "2022-06-12T08:56:47.555Z"
   },
   {
    "duration": 19,
    "start_time": "2022-06-12T08:56:47.567Z"
   },
   {
    "duration": 35,
    "start_time": "2022-06-12T08:56:47.587Z"
   },
   {
    "duration": 31,
    "start_time": "2022-06-12T08:56:47.624Z"
   },
   {
    "duration": 25,
    "start_time": "2022-06-12T08:56:47.657Z"
   },
   {
    "duration": 32,
    "start_time": "2022-06-12T08:56:47.684Z"
   },
   {
    "duration": 36,
    "start_time": "2022-06-12T08:56:47.720Z"
   },
   {
    "duration": 50,
    "start_time": "2022-06-12T08:56:47.757Z"
   },
   {
    "duration": 5,
    "start_time": "2022-06-12T08:56:47.809Z"
   },
   {
    "duration": 25,
    "start_time": "2022-06-12T08:56:47.816Z"
   },
   {
    "duration": 11,
    "start_time": "2022-06-12T08:56:47.842Z"
   },
   {
    "duration": 21,
    "start_time": "2022-06-12T08:56:47.855Z"
   },
   {
    "duration": 11,
    "start_time": "2022-06-12T08:56:47.878Z"
   },
   {
    "duration": 25,
    "start_time": "2022-06-12T08:56:47.890Z"
   },
   {
    "duration": 53,
    "start_time": "2022-06-12T08:56:47.917Z"
   },
   {
    "duration": 305,
    "start_time": "2022-06-12T08:56:47.972Z"
   },
   {
    "duration": 31,
    "start_time": "2022-06-12T08:56:48.280Z"
   },
   {
    "duration": 6,
    "start_time": "2022-06-12T08:56:48.313Z"
   },
   {
    "duration": 37,
    "start_time": "2022-06-12T08:56:48.320Z"
   },
   {
    "duration": 148,
    "start_time": "2022-06-12T08:56:48.360Z"
   },
   {
    "duration": 148,
    "start_time": "2022-06-12T08:56:48.510Z"
   },
   {
    "duration": 242,
    "start_time": "2022-06-12T08:56:48.660Z"
   },
   {
    "duration": 181,
    "start_time": "2022-06-12T08:56:48.904Z"
   },
   {
    "duration": 200,
    "start_time": "2022-06-12T08:56:49.087Z"
   },
   {
    "duration": 203,
    "start_time": "2022-06-12T08:56:49.294Z"
   },
   {
    "duration": 123,
    "start_time": "2022-06-12T08:56:49.500Z"
   },
   {
    "duration": 10,
    "start_time": "2022-06-12T08:56:49.625Z"
   },
   {
    "duration": 729,
    "start_time": "2022-06-12T08:56:49.637Z"
   },
   {
    "duration": 157,
    "start_time": "2022-06-12T08:56:50.368Z"
   },
   {
    "duration": 158,
    "start_time": "2022-06-12T08:56:50.527Z"
   },
   {
    "duration": 22,
    "start_time": "2022-06-12T08:56:50.687Z"
   },
   {
    "duration": 20,
    "start_time": "2022-06-12T08:56:50.712Z"
   },
   {
    "duration": 15,
    "start_time": "2022-06-12T08:56:50.734Z"
   },
   {
    "duration": 226,
    "start_time": "2022-06-12T08:56:50.750Z"
   },
   {
    "duration": 7,
    "start_time": "2022-06-12T08:56:50.977Z"
   },
   {
    "duration": 201,
    "start_time": "2022-06-12T08:56:50.997Z"
   },
   {
    "duration": 4,
    "start_time": "2022-06-12T08:56:51.200Z"
   },
   {
    "duration": 175,
    "start_time": "2022-06-12T08:56:51.208Z"
   },
   {
    "duration": 2,
    "start_time": "2022-06-12T08:56:51.385Z"
   },
   {
    "duration": 4590,
    "start_time": "2022-06-12T08:56:54.234Z"
   },
   {
    "duration": 4260,
    "start_time": "2022-06-12T08:57:04.432Z"
   },
   {
    "duration": 46,
    "start_time": "2022-06-12T08:57:25.341Z"
   },
   {
    "duration": 3987,
    "start_time": "2022-06-12T08:57:49.431Z"
   },
   {
    "duration": 100,
    "start_time": "2022-06-12T08:58:16.363Z"
   },
   {
    "duration": 4143,
    "start_time": "2022-06-12T08:58:29.633Z"
   },
   {
    "duration": 3915,
    "start_time": "2022-06-12T08:58:39.467Z"
   },
   {
    "duration": 3,
    "start_time": "2022-06-12T08:58:51.356Z"
   },
   {
    "duration": 98,
    "start_time": "2022-06-12T08:58:51.361Z"
   },
   {
    "duration": 33,
    "start_time": "2022-06-12T08:58:51.461Z"
   },
   {
    "duration": 45,
    "start_time": "2022-06-12T08:58:51.500Z"
   },
   {
    "duration": 96,
    "start_time": "2022-06-12T08:58:51.547Z"
   },
   {
    "duration": 5,
    "start_time": "2022-06-12T08:58:51.645Z"
   },
   {
    "duration": 20,
    "start_time": "2022-06-12T08:58:51.652Z"
   },
   {
    "duration": 42,
    "start_time": "2022-06-12T08:58:51.674Z"
   },
   {
    "duration": 3,
    "start_time": "2022-06-12T08:58:51.718Z"
   },
   {
    "duration": 9,
    "start_time": "2022-06-12T08:58:51.723Z"
   },
   {
    "duration": 6,
    "start_time": "2022-06-12T08:58:51.735Z"
   },
   {
    "duration": 5,
    "start_time": "2022-06-12T08:58:51.742Z"
   },
   {
    "duration": 2704,
    "start_time": "2022-06-12T08:58:51.749Z"
   },
   {
    "duration": 7,
    "start_time": "2022-06-12T08:58:54.455Z"
   },
   {
    "duration": 9,
    "start_time": "2022-06-12T08:58:54.464Z"
   },
   {
    "duration": 7,
    "start_time": "2022-06-12T08:58:54.475Z"
   },
   {
    "duration": 11,
    "start_time": "2022-06-12T08:58:54.496Z"
   },
   {
    "duration": 10,
    "start_time": "2022-06-12T08:58:54.510Z"
   },
   {
    "duration": 4,
    "start_time": "2022-06-12T08:58:54.522Z"
   },
   {
    "duration": 8,
    "start_time": "2022-06-12T08:58:54.528Z"
   },
   {
    "duration": 7,
    "start_time": "2022-06-12T08:58:54.537Z"
   },
   {
    "duration": 9,
    "start_time": "2022-06-12T08:58:54.545Z"
   },
   {
    "duration": 5,
    "start_time": "2022-06-12T08:58:54.556Z"
   },
   {
    "duration": 14,
    "start_time": "2022-06-12T08:58:54.562Z"
   },
   {
    "duration": 46,
    "start_time": "2022-06-12T08:58:54.594Z"
   },
   {
    "duration": 5,
    "start_time": "2022-06-12T08:58:54.642Z"
   },
   {
    "duration": 13,
    "start_time": "2022-06-12T08:58:54.648Z"
   },
   {
    "duration": 6,
    "start_time": "2022-06-12T08:58:54.662Z"
   },
   {
    "duration": 26,
    "start_time": "2022-06-12T08:58:54.671Z"
   },
   {
    "duration": 8,
    "start_time": "2022-06-12T08:58:54.700Z"
   },
   {
    "duration": 11,
    "start_time": "2022-06-12T08:58:54.711Z"
   },
   {
    "duration": 40,
    "start_time": "2022-06-12T08:58:54.724Z"
   },
   {
    "duration": 305,
    "start_time": "2022-06-12T08:58:54.766Z"
   },
   {
    "duration": 26,
    "start_time": "2022-06-12T08:58:55.073Z"
   },
   {
    "duration": 5,
    "start_time": "2022-06-12T08:58:55.107Z"
   },
   {
    "duration": 28,
    "start_time": "2022-06-12T08:58:55.114Z"
   },
   {
    "duration": 134,
    "start_time": "2022-06-12T08:58:55.143Z"
   },
   {
    "duration": 138,
    "start_time": "2022-06-12T08:58:55.279Z"
   },
   {
    "duration": 214,
    "start_time": "2022-06-12T08:58:55.419Z"
   },
   {
    "duration": 133,
    "start_time": "2022-06-12T08:58:55.635Z"
   },
   {
    "duration": 156,
    "start_time": "2022-06-12T08:58:55.770Z"
   },
   {
    "duration": 167,
    "start_time": "2022-06-12T08:58:55.927Z"
   },
   {
    "duration": 117,
    "start_time": "2022-06-12T08:58:56.095Z"
   },
   {
    "duration": 10,
    "start_time": "2022-06-12T08:58:56.213Z"
   },
   {
    "duration": 186,
    "start_time": "2022-06-12T08:58:56.224Z"
   },
   {
    "duration": 128,
    "start_time": "2022-06-12T08:58:56.413Z"
   },
   {
    "duration": 162,
    "start_time": "2022-06-12T08:58:56.542Z"
   },
   {
    "duration": 13,
    "start_time": "2022-06-12T08:58:56.705Z"
   },
   {
    "duration": 10,
    "start_time": "2022-06-12T08:58:56.719Z"
   },
   {
    "duration": 7,
    "start_time": "2022-06-12T08:58:56.730Z"
   },
   {
    "duration": 229,
    "start_time": "2022-06-12T08:58:56.738Z"
   },
   {
    "duration": 6,
    "start_time": "2022-06-12T08:58:56.968Z"
   },
   {
    "duration": 178,
    "start_time": "2022-06-12T08:58:56.976Z"
   },
   {
    "duration": 3,
    "start_time": "2022-06-12T08:58:57.155Z"
   },
   {
    "duration": 148,
    "start_time": "2022-06-12T08:58:57.159Z"
   },
   {
    "duration": 3,
    "start_time": "2022-06-12T08:58:57.309Z"
   },
   {
    "duration": 4204,
    "start_time": "2022-06-12T08:58:59.365Z"
   },
   {
    "duration": 25,
    "start_time": "2022-06-12T08:59:40.749Z"
   },
   {
    "duration": 3955,
    "start_time": "2022-06-12T08:59:43.501Z"
   },
   {
    "duration": 4043,
    "start_time": "2022-06-12T08:59:52.139Z"
   },
   {
    "duration": 3,
    "start_time": "2022-06-12T09:01:16.456Z"
   },
   {
    "duration": 105,
    "start_time": "2022-06-12T09:01:16.461Z"
   },
   {
    "duration": 37,
    "start_time": "2022-06-12T09:01:16.567Z"
   },
   {
    "duration": 34,
    "start_time": "2022-06-12T09:01:16.607Z"
   },
   {
    "duration": 106,
    "start_time": "2022-06-12T09:01:16.643Z"
   },
   {
    "duration": 6,
    "start_time": "2022-06-12T09:01:16.751Z"
   },
   {
    "duration": 17,
    "start_time": "2022-06-12T09:01:16.758Z"
   },
   {
    "duration": 25,
    "start_time": "2022-06-12T09:01:16.795Z"
   },
   {
    "duration": 3,
    "start_time": "2022-06-12T09:01:16.823Z"
   },
   {
    "duration": 10,
    "start_time": "2022-06-12T09:01:16.828Z"
   },
   {
    "duration": 5,
    "start_time": "2022-06-12T09:01:16.840Z"
   },
   {
    "duration": 5,
    "start_time": "2022-06-12T09:01:16.847Z"
   },
   {
    "duration": 2750,
    "start_time": "2022-06-12T09:01:16.854Z"
   },
   {
    "duration": 7,
    "start_time": "2022-06-12T09:01:19.609Z"
   },
   {
    "duration": 7,
    "start_time": "2022-06-12T09:01:19.618Z"
   },
   {
    "duration": 7,
    "start_time": "2022-06-12T09:01:19.626Z"
   },
   {
    "duration": 8,
    "start_time": "2022-06-12T09:01:19.635Z"
   },
   {
    "duration": 7,
    "start_time": "2022-06-12T09:01:19.644Z"
   },
   {
    "duration": 6,
    "start_time": "2022-06-12T09:01:19.653Z"
   },
   {
    "duration": 5,
    "start_time": "2022-06-12T09:01:19.660Z"
   },
   {
    "duration": 4,
    "start_time": "2022-06-12T09:01:19.667Z"
   },
   {
    "duration": 30,
    "start_time": "2022-06-12T09:01:19.673Z"
   },
   {
    "duration": 4,
    "start_time": "2022-06-12T09:01:19.709Z"
   },
   {
    "duration": 15,
    "start_time": "2022-06-12T09:01:19.717Z"
   },
   {
    "duration": 37,
    "start_time": "2022-06-12T09:01:19.734Z"
   },
   {
    "duration": 25,
    "start_time": "2022-06-12T09:01:19.773Z"
   },
   {
    "duration": 23,
    "start_time": "2022-06-12T09:01:19.800Z"
   },
   {
    "duration": 7,
    "start_time": "2022-06-12T09:01:19.825Z"
   },
   {
    "duration": 9,
    "start_time": "2022-06-12T09:01:19.834Z"
   },
   {
    "duration": 8,
    "start_time": "2022-06-12T09:01:19.844Z"
   },
   {
    "duration": 5,
    "start_time": "2022-06-12T09:01:19.854Z"
   },
   {
    "duration": 56,
    "start_time": "2022-06-12T09:01:19.861Z"
   },
   {
    "duration": 309,
    "start_time": "2022-06-12T09:01:19.920Z"
   },
   {
    "duration": 16,
    "start_time": "2022-06-12T09:01:20.231Z"
   },
   {
    "duration": 6,
    "start_time": "2022-06-12T09:01:20.249Z"
   },
   {
    "duration": 45,
    "start_time": "2022-06-12T09:01:20.257Z"
   },
   {
    "duration": 129,
    "start_time": "2022-06-12T09:01:20.304Z"
   },
   {
    "duration": 123,
    "start_time": "2022-06-12T09:01:20.435Z"
   },
   {
    "duration": 242,
    "start_time": "2022-06-12T09:01:20.559Z"
   },
   {
    "duration": 138,
    "start_time": "2022-06-12T09:01:20.804Z"
   },
   {
    "duration": 166,
    "start_time": "2022-06-12T09:01:20.944Z"
   },
   {
    "duration": 157,
    "start_time": "2022-06-12T09:01:21.112Z"
   },
   {
    "duration": 108,
    "start_time": "2022-06-12T09:01:21.270Z"
   },
   {
    "duration": 29,
    "start_time": "2022-06-12T09:01:21.380Z"
   },
   {
    "duration": 159,
    "start_time": "2022-06-12T09:01:21.411Z"
   },
   {
    "duration": 138,
    "start_time": "2022-06-12T09:01:21.572Z"
   },
   {
    "duration": 145,
    "start_time": "2022-06-12T09:01:21.712Z"
   },
   {
    "duration": 10,
    "start_time": "2022-06-12T09:01:21.858Z"
   },
   {
    "duration": 3,
    "start_time": "2022-06-12T09:01:21.870Z"
   },
   {
    "duration": 22,
    "start_time": "2022-06-12T09:01:21.875Z"
   },
   {
    "duration": 223,
    "start_time": "2022-06-12T09:01:21.899Z"
   },
   {
    "duration": 6,
    "start_time": "2022-06-12T09:01:22.123Z"
   },
   {
    "duration": 193,
    "start_time": "2022-06-12T09:01:22.130Z"
   },
   {
    "duration": 2,
    "start_time": "2022-06-12T09:01:22.325Z"
   },
   {
    "duration": 152,
    "start_time": "2022-06-12T09:01:22.329Z"
   },
   {
    "duration": 2,
    "start_time": "2022-06-12T09:01:22.483Z"
   },
   {
    "duration": 4123,
    "start_time": "2022-06-12T09:01:26.834Z"
   },
   {
    "duration": 49,
    "start_time": "2022-06-12T09:01:33.173Z"
   },
   {
    "duration": 207,
    "start_time": "2022-06-12T09:03:53.068Z"
   },
   {
    "duration": 200,
    "start_time": "2022-06-12T09:04:08.022Z"
   },
   {
    "duration": 144,
    "start_time": "2022-06-12T09:05:53.722Z"
   },
   {
    "duration": 146,
    "start_time": "2022-06-12T09:06:06.036Z"
   },
   {
    "duration": 152,
    "start_time": "2022-06-12T09:06:15.122Z"
   },
   {
    "duration": 138,
    "start_time": "2022-06-12T09:06:56.451Z"
   },
   {
    "duration": 215,
    "start_time": "2022-06-12T09:08:24.910Z"
   },
   {
    "duration": 773,
    "start_time": "2022-06-12T09:08:50.965Z"
   },
   {
    "duration": 191,
    "start_time": "2022-06-12T09:08:55.940Z"
   },
   {
    "duration": 221,
    "start_time": "2022-06-12T09:10:31.690Z"
   },
   {
    "duration": 166,
    "start_time": "2022-06-12T09:10:38.129Z"
   },
   {
    "duration": 8,
    "start_time": "2022-06-12T09:19:17.033Z"
   },
   {
    "duration": 5,
    "start_time": "2022-06-12T09:19:23.834Z"
   },
   {
    "duration": 6,
    "start_time": "2022-06-12T09:19:59.309Z"
   },
   {
    "duration": 8,
    "start_time": "2022-06-12T09:20:04.185Z"
   },
   {
    "duration": 10,
    "start_time": "2022-06-12T09:25:35.049Z"
   },
   {
    "duration": 16,
    "start_time": "2022-06-12T09:26:22.573Z"
   },
   {
    "duration": 8,
    "start_time": "2022-06-12T09:26:28.512Z"
   },
   {
    "duration": 19,
    "start_time": "2022-06-12T09:27:44.214Z"
   },
   {
    "duration": 126,
    "start_time": "2022-06-12T09:27:57.340Z"
   },
   {
    "duration": 182,
    "start_time": "2022-06-12T09:28:10.618Z"
   },
   {
    "duration": 177,
    "start_time": "2022-06-12T09:28:34.847Z"
   },
   {
    "duration": 161,
    "start_time": "2022-06-12T09:28:45.922Z"
   },
   {
    "duration": 175,
    "start_time": "2022-06-12T09:30:50.154Z"
   },
   {
    "duration": 8,
    "start_time": "2022-06-12T09:32:23.743Z"
   },
   {
    "duration": 12,
    "start_time": "2022-06-12T09:32:30.227Z"
   },
   {
    "duration": 4,
    "start_time": "2022-06-12T09:32:36.235Z"
   },
   {
    "duration": 5,
    "start_time": "2022-06-12T09:32:41.090Z"
   },
   {
    "duration": 191,
    "start_time": "2022-06-12T09:32:44.360Z"
   },
   {
    "duration": 205,
    "start_time": "2022-06-12T09:32:56.022Z"
   },
   {
    "duration": 137,
    "start_time": "2022-06-12T09:33:46.723Z"
   },
   {
    "duration": 150,
    "start_time": "2022-06-12T09:34:10.567Z"
   },
   {
    "duration": 153,
    "start_time": "2022-06-12T09:34:31.246Z"
   },
   {
    "duration": 391,
    "start_time": "2022-06-12T09:36:25.124Z"
   },
   {
    "duration": 822,
    "start_time": "2022-06-12T09:38:23.143Z"
   },
   {
    "duration": 9,
    "start_time": "2022-06-12T09:39:17.566Z"
   },
   {
    "duration": 11,
    "start_time": "2022-06-12T09:39:21.086Z"
   },
   {
    "duration": 4,
    "start_time": "2022-06-12T09:39:22.830Z"
   },
   {
    "duration": 5,
    "start_time": "2022-06-12T09:39:24.646Z"
   },
   {
    "duration": 147,
    "start_time": "2022-06-12T09:39:26.993Z"
   },
   {
    "duration": 388,
    "start_time": "2022-06-12T09:39:55.107Z"
   },
   {
    "duration": 4,
    "start_time": "2022-06-12T09:40:46.671Z"
   },
   {
    "duration": 150,
    "start_time": "2022-06-12T09:40:48.275Z"
   },
   {
    "duration": 137,
    "start_time": "2022-06-12T09:40:54.910Z"
   },
   {
    "duration": 427,
    "start_time": "2022-06-12T09:41:01.432Z"
   },
   {
    "duration": 6,
    "start_time": "2022-06-12T09:41:11.818Z"
   },
   {
    "duration": 119,
    "start_time": "2022-06-12T09:41:11.826Z"
   },
   {
    "duration": 16,
    "start_time": "2022-06-12T09:41:11.946Z"
   },
   {
    "duration": 65,
    "start_time": "2022-06-12T09:41:11.963Z"
   },
   {
    "duration": 91,
    "start_time": "2022-06-12T09:41:12.031Z"
   },
   {
    "duration": 5,
    "start_time": "2022-06-12T09:41:12.123Z"
   },
   {
    "duration": 26,
    "start_time": "2022-06-12T09:41:12.131Z"
   },
   {
    "duration": 23,
    "start_time": "2022-06-12T09:41:12.160Z"
   },
   {
    "duration": 14,
    "start_time": "2022-06-12T09:41:12.195Z"
   },
   {
    "duration": 16,
    "start_time": "2022-06-12T09:41:12.212Z"
   },
   {
    "duration": 31,
    "start_time": "2022-06-12T09:41:12.231Z"
   },
   {
    "duration": 17,
    "start_time": "2022-06-12T09:41:12.264Z"
   },
   {
    "duration": 3044,
    "start_time": "2022-06-12T09:41:12.283Z"
   },
   {
    "duration": 8,
    "start_time": "2022-06-12T09:41:15.330Z"
   },
   {
    "duration": 8,
    "start_time": "2022-06-12T09:41:15.339Z"
   },
   {
    "duration": 6,
    "start_time": "2022-06-12T09:41:15.349Z"
   },
   {
    "duration": 13,
    "start_time": "2022-06-12T09:41:15.356Z"
   },
   {
    "duration": 33,
    "start_time": "2022-06-12T09:41:15.371Z"
   },
   {
    "duration": 16,
    "start_time": "2022-06-12T09:41:15.406Z"
   },
   {
    "duration": 9,
    "start_time": "2022-06-12T09:41:15.428Z"
   },
   {
    "duration": 14,
    "start_time": "2022-06-12T09:41:15.438Z"
   },
   {
    "duration": 10,
    "start_time": "2022-06-12T09:41:15.454Z"
   },
   {
    "duration": 6,
    "start_time": "2022-06-12T09:41:15.466Z"
   },
   {
    "duration": 19,
    "start_time": "2022-06-12T09:41:15.473Z"
   },
   {
    "duration": 57,
    "start_time": "2022-06-12T09:41:15.493Z"
   },
   {
    "duration": 6,
    "start_time": "2022-06-12T09:41:15.552Z"
   },
   {
    "duration": 15,
    "start_time": "2022-06-12T09:41:15.559Z"
   },
   {
    "duration": 8,
    "start_time": "2022-06-12T09:41:15.576Z"
   },
   {
    "duration": 19,
    "start_time": "2022-06-12T09:41:15.586Z"
   },
   {
    "duration": 25,
    "start_time": "2022-06-12T09:41:15.613Z"
   },
   {
    "duration": 7,
    "start_time": "2022-06-12T09:41:15.640Z"
   },
   {
    "duration": 78,
    "start_time": "2022-06-12T09:41:15.649Z"
   },
   {
    "duration": 324,
    "start_time": "2022-06-12T09:41:15.729Z"
   },
   {
    "duration": 15,
    "start_time": "2022-06-12T09:41:16.055Z"
   },
   {
    "duration": 5,
    "start_time": "2022-06-12T09:41:16.072Z"
   },
   {
    "duration": 49,
    "start_time": "2022-06-12T09:41:16.078Z"
   },
   {
    "duration": 148,
    "start_time": "2022-06-12T09:41:16.129Z"
   },
   {
    "duration": 156,
    "start_time": "2022-06-12T09:41:16.279Z"
   },
   {
    "duration": 235,
    "start_time": "2022-06-12T09:41:16.437Z"
   },
   {
    "duration": 162,
    "start_time": "2022-06-12T09:41:16.675Z"
   },
   {
    "duration": 176,
    "start_time": "2022-06-12T09:41:16.843Z"
   },
   {
    "duration": 164,
    "start_time": "2022-06-12T09:41:17.021Z"
   },
   {
    "duration": 130,
    "start_time": "2022-06-12T09:41:17.187Z"
   },
   {
    "duration": 12,
    "start_time": "2022-06-12T09:41:17.319Z"
   },
   {
    "duration": 201,
    "start_time": "2022-06-12T09:41:17.333Z"
   },
   {
    "duration": 150,
    "start_time": "2022-06-12T09:41:17.536Z"
   },
   {
    "duration": 171,
    "start_time": "2022-06-12T09:41:17.688Z"
   },
   {
    "duration": 12,
    "start_time": "2022-06-12T09:41:17.861Z"
   },
   {
    "duration": 4,
    "start_time": "2022-06-12T09:41:17.875Z"
   },
   {
    "duration": 27,
    "start_time": "2022-06-12T09:41:17.881Z"
   },
   {
    "duration": 237,
    "start_time": "2022-06-12T09:41:17.916Z"
   },
   {
    "duration": 6,
    "start_time": "2022-06-12T09:41:18.155Z"
   },
   {
    "duration": 217,
    "start_time": "2022-06-12T09:41:18.162Z"
   },
   {
    "duration": 3,
    "start_time": "2022-06-12T09:41:18.381Z"
   },
   {
    "duration": 163,
    "start_time": "2022-06-12T09:41:18.386Z"
   },
   {
    "duration": 3,
    "start_time": "2022-06-12T09:41:18.550Z"
   },
   {
    "duration": 4207,
    "start_time": "2022-06-12T09:41:18.555Z"
   },
   {
    "duration": 242,
    "start_time": "2022-06-12T09:41:22.765Z"
   },
   {
    "duration": 6,
    "start_time": "2022-06-12T09:41:23.010Z"
   },
   {
    "duration": 159,
    "start_time": "2022-06-12T09:41:23.024Z"
   },
   {
    "duration": 2,
    "start_time": "2022-06-12T09:41:23.185Z"
   },
   {
    "duration": 222,
    "start_time": "2022-06-12T09:41:23.206Z"
   },
   {
    "duration": 3,
    "start_time": "2022-06-12T09:41:23.430Z"
   },
   {
    "duration": 191,
    "start_time": "2022-06-12T09:41:23.434Z"
   },
   {
    "duration": 9,
    "start_time": "2022-06-12T09:41:23.631Z"
   },
   {
    "duration": 15,
    "start_time": "2022-06-12T09:41:23.642Z"
   },
   {
    "duration": 10,
    "start_time": "2022-06-12T09:41:23.659Z"
   },
   {
    "duration": 178,
    "start_time": "2022-06-12T09:41:23.671Z"
   },
   {
    "duration": 7,
    "start_time": "2022-06-12T09:41:27.929Z"
   },
   {
    "duration": 13,
    "start_time": "2022-06-12T09:41:30.500Z"
   },
   {
    "duration": 13,
    "start_time": "2022-06-12T09:41:33.093Z"
   },
   {
    "duration": 153,
    "start_time": "2022-06-12T09:41:34.652Z"
   },
   {
    "duration": 9,
    "start_time": "2022-06-12T09:42:10.857Z"
   },
   {
    "duration": 7,
    "start_time": "2022-06-12T09:42:14.621Z"
   },
   {
    "duration": 25,
    "start_time": "2022-06-12T09:42:44.616Z"
   },
   {
    "duration": 7,
    "start_time": "2022-06-12T09:42:58.156Z"
   },
   {
    "duration": 7,
    "start_time": "2022-06-12T09:43:16.854Z"
   },
   {
    "duration": 10,
    "start_time": "2022-06-12T09:47:23.393Z"
   },
   {
    "duration": 586,
    "start_time": "2022-06-12T09:48:01.693Z"
   },
   {
    "duration": 194,
    "start_time": "2022-06-12T09:52:03.856Z"
   },
   {
    "duration": 139,
    "start_time": "2022-06-12T09:55:10.849Z"
   },
   {
    "duration": 118,
    "start_time": "2022-06-12T09:58:27.108Z"
   },
   {
    "duration": 104,
    "start_time": "2022-06-12T09:58:37.367Z"
   },
   {
    "duration": 139,
    "start_time": "2022-06-12T09:58:49.905Z"
   },
   {
    "duration": 132,
    "start_time": "2022-06-12T09:58:56.846Z"
   },
   {
    "duration": 267,
    "start_time": "2022-06-12T10:00:54.055Z"
   },
   {
    "duration": 223,
    "start_time": "2022-06-12T10:01:04.143Z"
   },
   {
    "duration": 136,
    "start_time": "2022-06-12T10:01:33.195Z"
   },
   {
    "duration": 197,
    "start_time": "2022-06-12T10:03:09.393Z"
   },
   {
    "duration": 199,
    "start_time": "2022-06-12T10:03:14.135Z"
   },
   {
    "duration": 168,
    "start_time": "2022-06-12T10:05:39.129Z"
   },
   {
    "duration": 200,
    "start_time": "2022-06-12T10:07:00.065Z"
   },
   {
    "duration": 175,
    "start_time": "2022-06-12T10:09:36.258Z"
   },
   {
    "duration": 121,
    "start_time": "2022-06-12T10:13:35.119Z"
   },
   {
    "duration": 104,
    "start_time": "2022-06-12T10:13:49.547Z"
   },
   {
    "duration": 28,
    "start_time": "2022-06-12T10:14:37.625Z"
   },
   {
    "duration": 177,
    "start_time": "2022-06-12T10:14:39.555Z"
   },
   {
    "duration": 3,
    "start_time": "2022-06-12T10:17:13.173Z"
   },
   {
    "duration": 3,
    "start_time": "2022-06-12T10:17:31.678Z"
   },
   {
    "duration": 164,
    "start_time": "2022-06-12T10:18:57.079Z"
   },
   {
    "duration": 165,
    "start_time": "2022-06-12T10:20:13.424Z"
   },
   {
    "duration": 181,
    "start_time": "2022-06-12T10:20:50.165Z"
   },
   {
    "duration": 189,
    "start_time": "2022-06-12T10:21:07.852Z"
   },
   {
    "duration": 171,
    "start_time": "2022-06-12T10:22:20.524Z"
   },
   {
    "duration": 21,
    "start_time": "2022-06-12T10:22:32.453Z"
   },
   {
    "duration": 149,
    "start_time": "2022-06-12T10:23:22.927Z"
   },
   {
    "duration": 160,
    "start_time": "2022-06-12T10:23:33.513Z"
   },
   {
    "duration": 11,
    "start_time": "2022-06-12T10:25:23.136Z"
   },
   {
    "duration": 205,
    "start_time": "2022-06-12T10:25:26.825Z"
   },
   {
    "duration": 175,
    "start_time": "2022-06-12T10:29:12.864Z"
   },
   {
    "duration": 100,
    "start_time": "2022-06-12T10:44:29.281Z"
   },
   {
    "duration": 32,
    "start_time": "2022-06-12T10:51:45.370Z"
   },
   {
    "duration": 12,
    "start_time": "2022-06-12T11:01:34.171Z"
   },
   {
    "duration": 633,
    "start_time": "2022-06-12T11:02:02.710Z"
   },
   {
    "duration": 102,
    "start_time": "2022-06-12T11:02:03.345Z"
   },
   {
    "duration": 15,
    "start_time": "2022-06-12T11:02:03.449Z"
   },
   {
    "duration": 51,
    "start_time": "2022-06-12T11:02:03.466Z"
   },
   {
    "duration": 91,
    "start_time": "2022-06-12T11:02:03.518Z"
   },
   {
    "duration": 4,
    "start_time": "2022-06-12T11:02:03.611Z"
   },
   {
    "duration": 18,
    "start_time": "2022-06-12T11:02:03.617Z"
   },
   {
    "duration": 17,
    "start_time": "2022-06-12T11:02:03.637Z"
   },
   {
    "duration": 2,
    "start_time": "2022-06-12T11:02:03.655Z"
   },
   {
    "duration": 7,
    "start_time": "2022-06-12T11:02:03.660Z"
   },
   {
    "duration": 31,
    "start_time": "2022-06-12T11:02:03.669Z"
   },
   {
    "duration": 12,
    "start_time": "2022-06-12T11:02:03.702Z"
   },
   {
    "duration": 2696,
    "start_time": "2022-06-12T11:02:03.715Z"
   },
   {
    "duration": 7,
    "start_time": "2022-06-12T11:02:06.413Z"
   },
   {
    "duration": 6,
    "start_time": "2022-06-12T11:02:06.421Z"
   },
   {
    "duration": 6,
    "start_time": "2022-06-12T11:02:06.428Z"
   },
   {
    "duration": 4,
    "start_time": "2022-06-12T11:02:06.436Z"
   },
   {
    "duration": 7,
    "start_time": "2022-06-12T11:02:06.442Z"
   },
   {
    "duration": 6,
    "start_time": "2022-06-12T11:02:06.451Z"
   },
   {
    "duration": 8,
    "start_time": "2022-06-12T11:02:06.458Z"
   },
   {
    "duration": 31,
    "start_time": "2022-06-12T11:02:06.468Z"
   },
   {
    "duration": 10,
    "start_time": "2022-06-12T11:02:06.506Z"
   },
   {
    "duration": 7,
    "start_time": "2022-06-12T11:02:06.518Z"
   },
   {
    "duration": 24,
    "start_time": "2022-06-12T11:02:06.527Z"
   },
   {
    "duration": 56,
    "start_time": "2022-06-12T11:02:06.553Z"
   },
   {
    "duration": 5,
    "start_time": "2022-06-12T11:02:06.611Z"
   },
   {
    "duration": 16,
    "start_time": "2022-06-12T11:02:06.618Z"
   },
   {
    "duration": 4,
    "start_time": "2022-06-12T11:02:06.638Z"
   },
   {
    "duration": 13,
    "start_time": "2022-06-12T11:02:06.643Z"
   },
   {
    "duration": 6,
    "start_time": "2022-06-12T11:02:06.657Z"
   },
   {
    "duration": 6,
    "start_time": "2022-06-12T11:02:06.664Z"
   },
   {
    "duration": 53,
    "start_time": "2022-06-12T11:02:06.672Z"
   },
   {
    "duration": 345,
    "start_time": "2022-06-12T11:02:06.727Z"
   },
   {
    "duration": 14,
    "start_time": "2022-06-12T11:02:07.073Z"
   },
   {
    "duration": 10,
    "start_time": "2022-06-12T11:02:07.098Z"
   },
   {
    "duration": 31,
    "start_time": "2022-06-12T11:02:07.110Z"
   },
   {
    "duration": 142,
    "start_time": "2022-06-12T11:02:07.143Z"
   },
   {
    "duration": 185,
    "start_time": "2022-06-12T11:02:07.287Z"
   },
   {
    "duration": 216,
    "start_time": "2022-06-12T11:02:07.474Z"
   },
   {
    "duration": 136,
    "start_time": "2022-06-12T11:02:07.696Z"
   },
   {
    "duration": 183,
    "start_time": "2022-06-12T11:02:07.834Z"
   },
   {
    "duration": 181,
    "start_time": "2022-06-12T11:02:08.018Z"
   },
   {
    "duration": 109,
    "start_time": "2022-06-12T11:02:08.202Z"
   },
   {
    "duration": 9,
    "start_time": "2022-06-12T11:02:08.313Z"
   },
   {
    "duration": 186,
    "start_time": "2022-06-12T11:02:08.324Z"
   },
   {
    "duration": 127,
    "start_time": "2022-06-12T11:02:08.512Z"
   },
   {
    "duration": 139,
    "start_time": "2022-06-12T11:02:08.641Z"
   },
   {
    "duration": 26,
    "start_time": "2022-06-12T11:02:08.782Z"
   },
   {
    "duration": 9,
    "start_time": "2022-06-12T11:02:08.810Z"
   },
   {
    "duration": 9,
    "start_time": "2022-06-12T11:02:08.820Z"
   },
   {
    "duration": 315,
    "start_time": "2022-06-12T11:02:08.830Z"
   },
   {
    "duration": 6,
    "start_time": "2022-06-12T11:02:09.147Z"
   },
   {
    "duration": 274,
    "start_time": "2022-06-12T11:02:09.156Z"
   },
   {
    "duration": 3,
    "start_time": "2022-06-12T11:02:09.432Z"
   },
   {
    "duration": 147,
    "start_time": "2022-06-12T11:02:09.436Z"
   },
   {
    "duration": 19,
    "start_time": "2022-06-12T11:02:09.585Z"
   },
   {
    "duration": 4047,
    "start_time": "2022-06-12T11:02:09.606Z"
   },
   {
    "duration": 226,
    "start_time": "2022-06-12T11:02:13.655Z"
   },
   {
    "duration": 3,
    "start_time": "2022-06-12T11:02:13.882Z"
   },
   {
    "duration": 171,
    "start_time": "2022-06-12T11:02:13.893Z"
   },
   {
    "duration": 3,
    "start_time": "2022-06-12T11:02:14.066Z"
   },
   {
    "duration": 187,
    "start_time": "2022-06-12T11:02:14.070Z"
   },
   {
    "duration": 3,
    "start_time": "2022-06-12T11:02:14.259Z"
   },
   {
    "duration": 170,
    "start_time": "2022-06-12T11:02:14.264Z"
   },
   {
    "duration": 6,
    "start_time": "2022-06-12T11:02:14.436Z"
   },
   {
    "duration": 5,
    "start_time": "2022-06-12T11:02:14.443Z"
   },
   {
    "duration": 6,
    "start_time": "2022-06-12T11:02:14.450Z"
   },
   {
    "duration": 178,
    "start_time": "2022-06-12T11:02:14.458Z"
   },
   {
    "duration": 7,
    "start_time": "2022-06-12T11:02:14.638Z"
   },
   {
    "duration": 16,
    "start_time": "2022-06-12T11:02:14.646Z"
   },
   {
    "duration": 5,
    "start_time": "2022-06-12T11:02:14.664Z"
   },
   {
    "duration": 8,
    "start_time": "2022-06-12T11:02:14.670Z"
   },
   {
    "duration": 157,
    "start_time": "2022-06-12T11:02:14.680Z"
   },
   {
    "duration": 9,
    "start_time": "2022-06-12T11:02:14.839Z"
   },
   {
    "duration": 22,
    "start_time": "2022-06-12T11:02:14.850Z"
   },
   {
    "duration": 173,
    "start_time": "2022-06-12T11:02:14.873Z"
   },
   {
    "duration": 208,
    "start_time": "2022-06-12T11:02:15.047Z"
   },
   {
    "duration": 189,
    "start_time": "2022-06-12T11:02:15.257Z"
   },
   {
    "duration": 133,
    "start_time": "2022-06-12T11:02:15.447Z"
   },
   {
    "duration": 146,
    "start_time": "2022-06-12T11:02:15.582Z"
   },
   {
    "duration": 158,
    "start_time": "2022-06-12T11:02:15.730Z"
   },
   {
    "duration": 14,
    "start_time": "2022-06-12T11:02:15.894Z"
   },
   {
    "duration": 178,
    "start_time": "2022-06-12T11:02:15.910Z"
   },
   {
    "duration": 16,
    "start_time": "2022-06-12T11:02:16.090Z"
   },
   {
    "duration": 139,
    "start_time": "2022-06-12T11:02:16.108Z"
   },
   {
    "duration": 504,
    "start_time": "2022-06-12T11:02:16.249Z"
   },
   {
    "duration": 110,
    "start_time": "2022-06-12T11:02:16.756Z"
   },
   {
    "duration": 258,
    "start_time": "2022-06-12T11:02:16.867Z"
   },
   {
    "duration": 3,
    "start_time": "2022-06-12T11:02:17.127Z"
   },
   {
    "duration": 174,
    "start_time": "2022-06-12T11:02:17.131Z"
   },
   {
    "duration": 4,
    "start_time": "2022-06-12T11:02:17.308Z"
   },
   {
    "duration": 173,
    "start_time": "2022-06-12T11:02:17.314Z"
   },
   {
    "duration": 6,
    "start_time": "2022-06-12T11:02:17.488Z"
   },
   {
    "duration": 178,
    "start_time": "2022-06-12T11:02:17.495Z"
   },
   {
    "duration": 3,
    "start_time": "2022-06-12T11:02:17.675Z"
   },
   {
    "duration": 205,
    "start_time": "2022-06-12T11:02:17.679Z"
   },
   {
    "duration": 3,
    "start_time": "2022-06-12T11:02:17.886Z"
   },
   {
    "duration": 147,
    "start_time": "2022-06-12T11:02:17.894Z"
   },
   {
    "duration": 3,
    "start_time": "2022-06-12T11:04:37.171Z"
   },
   {
    "duration": 105,
    "start_time": "2022-06-12T11:04:37.175Z"
   },
   {
    "duration": 26,
    "start_time": "2022-06-12T11:04:37.282Z"
   },
   {
    "duration": 36,
    "start_time": "2022-06-12T11:04:37.310Z"
   },
   {
    "duration": 83,
    "start_time": "2022-06-12T11:04:37.348Z"
   },
   {
    "duration": 5,
    "start_time": "2022-06-12T11:04:37.432Z"
   },
   {
    "duration": 21,
    "start_time": "2022-06-12T11:04:37.438Z"
   },
   {
    "duration": 43,
    "start_time": "2022-06-12T11:04:37.460Z"
   },
   {
    "duration": 4,
    "start_time": "2022-06-12T11:04:37.506Z"
   },
   {
    "duration": 11,
    "start_time": "2022-06-12T11:04:37.511Z"
   },
   {
    "duration": 5,
    "start_time": "2022-06-12T11:04:37.525Z"
   },
   {
    "duration": 4,
    "start_time": "2022-06-12T11:04:37.531Z"
   },
   {
    "duration": 2771,
    "start_time": "2022-06-12T11:04:37.537Z"
   },
   {
    "duration": 7,
    "start_time": "2022-06-12T11:04:40.310Z"
   },
   {
    "duration": 12,
    "start_time": "2022-06-12T11:04:40.319Z"
   },
   {
    "duration": 7,
    "start_time": "2022-06-12T11:04:40.332Z"
   },
   {
    "duration": 5,
    "start_time": "2022-06-12T11:04:40.340Z"
   },
   {
    "duration": 8,
    "start_time": "2022-06-12T11:04:40.346Z"
   },
   {
    "duration": 4,
    "start_time": "2022-06-12T11:04:40.356Z"
   },
   {
    "duration": 15,
    "start_time": "2022-06-12T11:04:40.362Z"
   },
   {
    "duration": 6,
    "start_time": "2022-06-12T11:04:40.398Z"
   },
   {
    "duration": 21,
    "start_time": "2022-06-12T11:04:40.407Z"
   },
   {
    "duration": 7,
    "start_time": "2022-06-12T11:04:40.430Z"
   },
   {
    "duration": 18,
    "start_time": "2022-06-12T11:04:40.439Z"
   },
   {
    "duration": 16,
    "start_time": "2022-06-12T11:04:44.693Z"
   },
   {
    "duration": 46,
    "start_time": "2022-06-12T11:04:51.394Z"
   },
   {
    "duration": 32,
    "start_time": "2022-06-12T11:10:52.538Z"
   },
   {
    "duration": 36,
    "start_time": "2022-06-12T11:15:38.092Z"
   },
   {
    "duration": 50,
    "start_time": "2022-06-12T11:19:17.949Z"
   },
   {
    "duration": 40,
    "start_time": "2022-06-12T11:25:17.478Z"
   },
   {
    "duration": 639,
    "start_time": "2022-06-12T17:54:15.018Z"
   },
   {
    "duration": 94,
    "start_time": "2022-06-12T17:54:15.659Z"
   },
   {
    "duration": 14,
    "start_time": "2022-06-12T17:54:15.755Z"
   },
   {
    "duration": 33,
    "start_time": "2022-06-12T17:54:15.771Z"
   },
   {
    "duration": 78,
    "start_time": "2022-06-12T17:54:15.805Z"
   },
   {
    "duration": 4,
    "start_time": "2022-06-12T17:54:15.885Z"
   },
   {
    "duration": 19,
    "start_time": "2022-06-12T17:54:15.890Z"
   },
   {
    "duration": 17,
    "start_time": "2022-06-12T17:54:15.911Z"
   },
   {
    "duration": 3,
    "start_time": "2022-06-12T17:54:15.929Z"
   },
   {
    "duration": 29,
    "start_time": "2022-06-12T17:54:15.935Z"
   },
   {
    "duration": 5,
    "start_time": "2022-06-12T17:54:15.966Z"
   },
   {
    "duration": 4,
    "start_time": "2022-06-12T17:54:15.973Z"
   },
   {
    "duration": 2633,
    "start_time": "2022-06-12T17:54:15.978Z"
   },
   {
    "duration": 8,
    "start_time": "2022-06-12T17:54:18.612Z"
   },
   {
    "duration": 8,
    "start_time": "2022-06-12T17:54:18.621Z"
   },
   {
    "duration": 9,
    "start_time": "2022-06-12T17:54:18.631Z"
   },
   {
    "duration": 7,
    "start_time": "2022-06-12T17:54:18.642Z"
   },
   {
    "duration": 19,
    "start_time": "2022-06-12T17:54:18.650Z"
   },
   {
    "duration": 7,
    "start_time": "2022-06-12T17:54:18.670Z"
   },
   {
    "duration": 13,
    "start_time": "2022-06-12T17:54:18.679Z"
   },
   {
    "duration": 4,
    "start_time": "2022-06-12T17:54:18.693Z"
   },
   {
    "duration": 8,
    "start_time": "2022-06-12T17:54:18.699Z"
   },
   {
    "duration": 5,
    "start_time": "2022-06-12T17:54:18.708Z"
   },
   {
    "duration": 15,
    "start_time": "2022-06-12T17:54:18.715Z"
   },
   {
    "duration": 59,
    "start_time": "2022-06-12T17:54:18.731Z"
   },
   {
    "duration": 5,
    "start_time": "2022-06-12T17:54:18.792Z"
   },
   {
    "duration": 15,
    "start_time": "2022-06-12T17:54:18.798Z"
   },
   {
    "duration": 3,
    "start_time": "2022-06-12T17:54:18.818Z"
   },
   {
    "duration": 14,
    "start_time": "2022-06-12T17:54:18.823Z"
   },
   {
    "duration": 25,
    "start_time": "2022-06-12T17:54:18.840Z"
   },
   {
    "duration": 6,
    "start_time": "2022-06-12T17:54:18.868Z"
   },
   {
    "duration": 47,
    "start_time": "2022-06-12T17:54:18.877Z"
   },
   {
    "duration": 316,
    "start_time": "2022-06-12T17:54:18.927Z"
   },
   {
    "duration": 20,
    "start_time": "2022-06-12T17:54:19.245Z"
   },
   {
    "duration": 5,
    "start_time": "2022-06-12T17:54:19.266Z"
   },
   {
    "duration": 38,
    "start_time": "2022-06-12T17:54:19.272Z"
   },
   {
    "duration": 130,
    "start_time": "2022-06-12T17:54:19.312Z"
   },
   {
    "duration": 176,
    "start_time": "2022-06-12T17:54:19.443Z"
   },
   {
    "duration": 199,
    "start_time": "2022-06-12T17:54:19.620Z"
   },
   {
    "duration": 123,
    "start_time": "2022-06-12T17:54:19.820Z"
   },
   {
    "duration": 157,
    "start_time": "2022-06-12T17:54:19.945Z"
   },
   {
    "duration": 170,
    "start_time": "2022-06-12T17:54:20.103Z"
   },
   {
    "duration": 107,
    "start_time": "2022-06-12T17:54:20.275Z"
   },
   {
    "duration": 10,
    "start_time": "2022-06-12T17:54:20.384Z"
   },
   {
    "duration": 153,
    "start_time": "2022-06-12T17:54:20.396Z"
   },
   {
    "duration": 131,
    "start_time": "2022-06-12T17:54:20.550Z"
   },
   {
    "duration": 134,
    "start_time": "2022-06-12T17:54:20.683Z"
   },
   {
    "duration": 11,
    "start_time": "2022-06-12T17:54:20.818Z"
   },
   {
    "duration": 4,
    "start_time": "2022-06-12T17:54:20.831Z"
   },
   {
    "duration": 7,
    "start_time": "2022-06-12T17:54:20.836Z"
   },
   {
    "duration": 242,
    "start_time": "2022-06-12T17:54:20.845Z"
   },
   {
    "duration": 5,
    "start_time": "2022-06-12T17:54:21.089Z"
   },
   {
    "duration": 227,
    "start_time": "2022-06-12T17:54:21.096Z"
   },
   {
    "duration": 2,
    "start_time": "2022-06-12T17:54:21.325Z"
   },
   {
    "duration": 136,
    "start_time": "2022-06-12T17:54:21.329Z"
   },
   {
    "duration": 3,
    "start_time": "2022-06-12T17:54:21.466Z"
   },
   {
    "duration": 3924,
    "start_time": "2022-06-12T17:54:21.470Z"
   },
   {
    "duration": 217,
    "start_time": "2022-06-12T17:54:25.396Z"
   },
   {
    "duration": 2,
    "start_time": "2022-06-12T17:54:25.615Z"
   },
   {
    "duration": 155,
    "start_time": "2022-06-12T17:54:25.619Z"
   },
   {
    "duration": 2,
    "start_time": "2022-06-12T17:54:25.778Z"
   },
   {
    "duration": 172,
    "start_time": "2022-06-12T17:54:25.783Z"
   },
   {
    "duration": 2,
    "start_time": "2022-06-12T17:54:25.957Z"
   },
   {
    "duration": 154,
    "start_time": "2022-06-12T17:54:25.965Z"
   },
   {
    "duration": 7,
    "start_time": "2022-06-12T17:54:26.121Z"
   },
   {
    "duration": 7,
    "start_time": "2022-06-12T17:54:26.129Z"
   },
   {
    "duration": 9,
    "start_time": "2022-06-12T17:54:26.138Z"
   },
   {
    "duration": 165,
    "start_time": "2022-06-12T17:54:26.148Z"
   },
   {
    "duration": 7,
    "start_time": "2022-06-12T17:54:26.315Z"
   },
   {
    "duration": 7,
    "start_time": "2022-06-12T17:54:26.323Z"
   },
   {
    "duration": 3,
    "start_time": "2022-06-12T17:54:26.331Z"
   },
   {
    "duration": 8,
    "start_time": "2022-06-12T17:54:26.336Z"
   },
   {
    "duration": 138,
    "start_time": "2022-06-12T17:54:26.365Z"
   },
   {
    "duration": 9,
    "start_time": "2022-06-12T17:54:26.504Z"
   },
   {
    "duration": 19,
    "start_time": "2022-06-12T17:54:26.514Z"
   },
   {
    "duration": 152,
    "start_time": "2022-06-12T17:54:26.535Z"
   },
   {
    "duration": 229,
    "start_time": "2022-06-12T17:54:26.688Z"
   },
   {
    "duration": 212,
    "start_time": "2022-06-12T17:54:26.918Z"
   },
   {
    "duration": 140,
    "start_time": "2022-06-12T17:54:27.131Z"
   },
   {
    "duration": 158,
    "start_time": "2022-06-12T17:54:27.273Z"
   },
   {
    "duration": 178,
    "start_time": "2022-06-12T17:54:27.434Z"
   },
   {
    "duration": 6,
    "start_time": "2022-06-12T17:54:27.618Z"
   },
   {
    "duration": 191,
    "start_time": "2022-06-12T17:54:27.626Z"
   },
   {
    "duration": 5,
    "start_time": "2022-06-12T17:54:27.819Z"
   },
   {
    "duration": 166,
    "start_time": "2022-06-12T17:54:27.826Z"
   },
   {
    "duration": 527,
    "start_time": "2022-06-12T17:54:27.994Z"
   },
   {
    "duration": 111,
    "start_time": "2022-06-12T17:54:28.523Z"
   },
   {
    "duration": 266,
    "start_time": "2022-06-12T17:54:28.636Z"
   },
   {
    "duration": 4,
    "start_time": "2022-06-12T17:54:28.904Z"
   },
   {
    "duration": 192,
    "start_time": "2022-06-12T17:54:28.910Z"
   },
   {
    "duration": 2,
    "start_time": "2022-06-12T17:54:29.105Z"
   },
   {
    "duration": 181,
    "start_time": "2022-06-12T17:54:29.110Z"
   },
   {
    "duration": 3,
    "start_time": "2022-06-12T17:54:29.293Z"
   },
   {
    "duration": 168,
    "start_time": "2022-06-12T17:54:29.298Z"
   },
   {
    "duration": 3,
    "start_time": "2022-06-12T17:54:29.468Z"
   },
   {
    "duration": 194,
    "start_time": "2022-06-12T17:54:29.473Z"
   },
   {
    "duration": 2,
    "start_time": "2022-06-12T17:54:29.669Z"
   },
   {
    "duration": 150,
    "start_time": "2022-06-12T17:54:29.673Z"
   },
   {
    "duration": 20,
    "start_time": "2022-06-12T18:12:04.685Z"
   },
   {
    "duration": 559,
    "start_time": "2022-06-12T18:13:11.017Z"
   },
   {
    "duration": 99,
    "start_time": "2022-06-12T18:13:11.578Z"
   },
   {
    "duration": 16,
    "start_time": "2022-06-12T18:13:11.679Z"
   },
   {
    "duration": 69,
    "start_time": "2022-06-12T18:13:11.697Z"
   },
   {
    "duration": 73,
    "start_time": "2022-06-12T18:13:11.768Z"
   },
   {
    "duration": 21,
    "start_time": "2022-06-12T18:13:11.843Z"
   },
   {
    "duration": 16,
    "start_time": "2022-06-12T18:13:11.866Z"
   },
   {
    "duration": 19,
    "start_time": "2022-06-12T18:13:11.884Z"
   },
   {
    "duration": 3,
    "start_time": "2022-06-12T18:13:11.904Z"
   },
   {
    "duration": 12,
    "start_time": "2022-06-12T18:13:11.909Z"
   },
   {
    "duration": 7,
    "start_time": "2022-06-12T18:13:11.923Z"
   },
   {
    "duration": 2,
    "start_time": "2022-06-12T18:13:11.965Z"
   },
   {
    "duration": 2804,
    "start_time": "2022-06-12T18:13:11.969Z"
   },
   {
    "duration": 6,
    "start_time": "2022-06-12T18:13:14.775Z"
   },
   {
    "duration": 6,
    "start_time": "2022-06-12T18:13:14.783Z"
   },
   {
    "duration": 7,
    "start_time": "2022-06-12T18:13:14.791Z"
   },
   {
    "duration": 12,
    "start_time": "2022-06-12T18:13:14.799Z"
   },
   {
    "duration": 12,
    "start_time": "2022-06-12T18:13:14.812Z"
   },
   {
    "duration": 8,
    "start_time": "2022-06-12T18:13:14.825Z"
   },
   {
    "duration": 34,
    "start_time": "2022-06-12T18:13:14.835Z"
   },
   {
    "duration": 4,
    "start_time": "2022-06-12T18:13:14.871Z"
   },
   {
    "duration": 8,
    "start_time": "2022-06-12T18:13:14.877Z"
   },
   {
    "duration": 6,
    "start_time": "2022-06-12T18:13:14.886Z"
   },
   {
    "duration": 14,
    "start_time": "2022-06-12T18:13:14.893Z"
   },
   {
    "duration": 68,
    "start_time": "2022-06-12T18:13:14.908Z"
   },
   {
    "duration": 5,
    "start_time": "2022-06-12T18:13:14.978Z"
   },
   {
    "duration": 11,
    "start_time": "2022-06-12T18:13:14.984Z"
   },
   {
    "duration": 19,
    "start_time": "2022-06-12T18:13:15.000Z"
   },
   {
    "duration": 9,
    "start_time": "2022-06-12T18:13:15.021Z"
   },
   {
    "duration": 6,
    "start_time": "2022-06-12T18:13:15.032Z"
   },
   {
    "duration": 26,
    "start_time": "2022-06-12T18:13:15.040Z"
   },
   {
    "duration": 39,
    "start_time": "2022-06-12T18:13:15.068Z"
   },
   {
    "duration": 288,
    "start_time": "2022-06-12T18:13:15.109Z"
   },
   {
    "duration": 13,
    "start_time": "2022-06-12T18:13:15.399Z"
   },
   {
    "duration": 6,
    "start_time": "2022-06-12T18:13:15.414Z"
   },
   {
    "duration": 45,
    "start_time": "2022-06-12T18:13:15.422Z"
   },
   {
    "duration": 145,
    "start_time": "2022-06-12T18:13:15.468Z"
   },
   {
    "duration": 180,
    "start_time": "2022-06-12T18:13:15.615Z"
   },
   {
    "duration": 203,
    "start_time": "2022-06-12T18:13:15.797Z"
   },
   {
    "duration": 135,
    "start_time": "2022-06-12T18:13:16.002Z"
   },
   {
    "duration": 158,
    "start_time": "2022-06-12T18:13:16.139Z"
   },
   {
    "duration": 162,
    "start_time": "2022-06-12T18:13:16.299Z"
   },
   {
    "duration": 112,
    "start_time": "2022-06-12T18:13:16.464Z"
   },
   {
    "duration": 10,
    "start_time": "2022-06-12T18:13:16.579Z"
   },
   {
    "duration": 174,
    "start_time": "2022-06-12T18:13:16.591Z"
   },
   {
    "duration": 130,
    "start_time": "2022-06-12T18:13:16.766Z"
   },
   {
    "duration": 142,
    "start_time": "2022-06-12T18:13:16.898Z"
   },
   {
    "duration": 23,
    "start_time": "2022-06-12T18:13:17.042Z"
   },
   {
    "duration": 4,
    "start_time": "2022-06-12T18:13:17.067Z"
   },
   {
    "duration": 19,
    "start_time": "2022-06-12T18:13:17.073Z"
   },
   {
    "duration": 13,
    "start_time": "2022-06-12T18:13:17.094Z"
   },
   {
    "duration": 258,
    "start_time": "2022-06-12T18:13:17.109Z"
   },
   {
    "duration": 6,
    "start_time": "2022-06-12T18:13:17.369Z"
   },
   {
    "duration": 295,
    "start_time": "2022-06-12T18:13:17.377Z"
   },
   {
    "duration": 3,
    "start_time": "2022-06-12T18:13:17.676Z"
   },
   {
    "duration": 158,
    "start_time": "2022-06-12T18:13:17.681Z"
   },
   {
    "duration": 3,
    "start_time": "2022-06-12T18:13:17.841Z"
   },
   {
    "duration": 5344,
    "start_time": "2022-06-12T18:13:17.846Z"
   },
   {
    "duration": 5,
    "start_time": "2022-06-12T18:13:23.192Z"
   },
   {
    "duration": 224,
    "start_time": "2022-06-12T18:13:23.200Z"
   },
   {
    "duration": 2,
    "start_time": "2022-06-12T18:13:23.426Z"
   },
   {
    "duration": 180,
    "start_time": "2022-06-12T18:13:23.430Z"
   },
   {
    "duration": 3,
    "start_time": "2022-06-12T18:13:23.612Z"
   },
   {
    "duration": 266,
    "start_time": "2022-06-12T18:13:23.617Z"
   },
   {
    "duration": 3,
    "start_time": "2022-06-12T18:13:23.885Z"
   },
   {
    "duration": 159,
    "start_time": "2022-06-12T18:13:23.890Z"
   },
   {
    "duration": 13,
    "start_time": "2022-06-12T18:13:24.051Z"
   },
   {
    "duration": 5,
    "start_time": "2022-06-12T18:13:24.066Z"
   },
   {
    "duration": 18,
    "start_time": "2022-06-12T18:13:24.073Z"
   },
   {
    "duration": 162,
    "start_time": "2022-06-12T18:13:24.093Z"
   },
   {
    "duration": 8,
    "start_time": "2022-06-12T18:13:24.257Z"
   },
   {
    "duration": 7,
    "start_time": "2022-06-12T18:13:24.267Z"
   },
   {
    "duration": 6,
    "start_time": "2022-06-12T18:13:24.275Z"
   },
   {
    "duration": 13,
    "start_time": "2022-06-12T18:13:24.283Z"
   },
   {
    "duration": 137,
    "start_time": "2022-06-12T18:13:24.298Z"
   },
   {
    "duration": 8,
    "start_time": "2022-06-12T18:13:24.437Z"
   },
   {
    "duration": 34,
    "start_time": "2022-06-12T18:13:24.447Z"
   },
   {
    "duration": 176,
    "start_time": "2022-06-12T18:13:24.482Z"
   },
   {
    "duration": 180,
    "start_time": "2022-06-12T18:13:24.665Z"
   },
   {
    "duration": 173,
    "start_time": "2022-06-12T18:13:24.847Z"
   },
   {
    "duration": 143,
    "start_time": "2022-06-12T18:13:25.021Z"
   },
   {
    "duration": 136,
    "start_time": "2022-06-12T18:13:25.170Z"
   },
   {
    "duration": 158,
    "start_time": "2022-06-12T18:13:25.308Z"
   },
   {
    "duration": 6,
    "start_time": "2022-06-12T18:13:25.468Z"
   },
   {
    "duration": 206,
    "start_time": "2022-06-12T18:13:25.475Z"
   },
   {
    "duration": 7,
    "start_time": "2022-06-12T18:13:25.683Z"
   },
   {
    "duration": 154,
    "start_time": "2022-06-12T18:13:25.691Z"
   },
   {
    "duration": 500,
    "start_time": "2022-06-12T18:13:25.847Z"
   },
   {
    "duration": 101,
    "start_time": "2022-06-12T18:13:26.350Z"
   },
   {
    "duration": 282,
    "start_time": "2022-06-12T18:13:26.453Z"
   },
   {
    "duration": 3,
    "start_time": "2022-06-12T18:13:26.737Z"
   },
   {
    "duration": 165,
    "start_time": "2022-06-12T18:13:26.742Z"
   },
   {
    "duration": 2,
    "start_time": "2022-06-12T18:13:26.910Z"
   },
   {
    "duration": 194,
    "start_time": "2022-06-12T18:13:26.916Z"
   },
   {
    "duration": 2,
    "start_time": "2022-06-12T18:13:27.112Z"
   },
   {
    "duration": 188,
    "start_time": "2022-06-12T18:13:27.116Z"
   },
   {
    "duration": 2,
    "start_time": "2022-06-12T18:13:27.306Z"
   },
   {
    "duration": 232,
    "start_time": "2022-06-12T18:13:27.310Z"
   },
   {
    "duration": 2,
    "start_time": "2022-06-12T18:13:27.544Z"
   },
   {
    "duration": 145,
    "start_time": "2022-06-12T18:13:27.548Z"
   },
   {
    "duration": 598,
    "start_time": "2022-06-12T18:16:33.608Z"
   },
   {
    "duration": 95,
    "start_time": "2022-06-12T18:16:34.208Z"
   },
   {
    "duration": 13,
    "start_time": "2022-06-12T18:16:34.305Z"
   },
   {
    "duration": 49,
    "start_time": "2022-06-12T18:16:34.320Z"
   },
   {
    "duration": 69,
    "start_time": "2022-06-12T18:16:34.371Z"
   },
   {
    "duration": 5,
    "start_time": "2022-06-12T18:16:34.441Z"
   },
   {
    "duration": 14,
    "start_time": "2022-06-12T18:16:34.465Z"
   },
   {
    "duration": 17,
    "start_time": "2022-06-12T18:16:34.481Z"
   },
   {
    "duration": 22,
    "start_time": "2022-06-12T18:16:34.499Z"
   },
   {
    "duration": 11,
    "start_time": "2022-06-12T18:16:34.523Z"
   },
   {
    "duration": 18,
    "start_time": "2022-06-12T18:16:34.536Z"
   },
   {
    "duration": 31,
    "start_time": "2022-06-12T18:16:34.556Z"
   },
   {
    "duration": 2491,
    "start_time": "2022-06-12T18:16:34.589Z"
   },
   {
    "duration": 6,
    "start_time": "2022-06-12T18:16:37.082Z"
   },
   {
    "duration": 8,
    "start_time": "2022-06-12T18:16:37.089Z"
   },
   {
    "duration": 6,
    "start_time": "2022-06-12T18:16:37.099Z"
   },
   {
    "duration": 5,
    "start_time": "2022-06-12T18:16:37.106Z"
   },
   {
    "duration": 10,
    "start_time": "2022-06-12T18:16:37.113Z"
   },
   {
    "duration": 4,
    "start_time": "2022-06-12T18:16:37.124Z"
   },
   {
    "duration": 5,
    "start_time": "2022-06-12T18:16:37.130Z"
   },
   {
    "duration": 29,
    "start_time": "2022-06-12T18:16:37.137Z"
   },
   {
    "duration": 7,
    "start_time": "2022-06-12T18:16:37.168Z"
   },
   {
    "duration": 9,
    "start_time": "2022-06-12T18:16:37.176Z"
   },
   {
    "duration": 15,
    "start_time": "2022-06-12T18:16:37.186Z"
   },
   {
    "duration": 35,
    "start_time": "2022-06-12T18:16:37.203Z"
   },
   {
    "duration": 26,
    "start_time": "2022-06-12T18:16:37.240Z"
   },
   {
    "duration": 10,
    "start_time": "2022-06-12T18:16:37.268Z"
   },
   {
    "duration": 4,
    "start_time": "2022-06-12T18:16:37.281Z"
   },
   {
    "duration": 10,
    "start_time": "2022-06-12T18:16:37.287Z"
   },
   {
    "duration": 5,
    "start_time": "2022-06-12T18:16:37.299Z"
   },
   {
    "duration": 7,
    "start_time": "2022-06-12T18:16:37.305Z"
   },
   {
    "duration": 65,
    "start_time": "2022-06-12T18:16:37.313Z"
   },
   {
    "duration": 314,
    "start_time": "2022-06-12T18:16:37.380Z"
   },
   {
    "duration": 14,
    "start_time": "2022-06-12T18:16:37.696Z"
   },
   {
    "duration": 4,
    "start_time": "2022-06-12T18:16:37.712Z"
   },
   {
    "duration": 30,
    "start_time": "2022-06-12T18:16:37.718Z"
   },
   {
    "duration": 143,
    "start_time": "2022-06-12T18:16:37.765Z"
   },
   {
    "duration": 163,
    "start_time": "2022-06-12T18:16:37.910Z"
   },
   {
    "duration": 205,
    "start_time": "2022-06-12T18:16:38.074Z"
   },
   {
    "duration": 120,
    "start_time": "2022-06-12T18:16:38.280Z"
   },
   {
    "duration": 140,
    "start_time": "2022-06-12T18:16:38.401Z"
   },
   {
    "duration": 149,
    "start_time": "2022-06-12T18:16:38.542Z"
   },
   {
    "duration": 106,
    "start_time": "2022-06-12T18:16:38.692Z"
   },
   {
    "duration": 8,
    "start_time": "2022-06-12T18:16:38.800Z"
   },
   {
    "duration": 357,
    "start_time": "2022-06-12T18:16:38.809Z"
   },
   {
    "duration": 216,
    "start_time": "2022-06-12T18:16:39.168Z"
   },
   {
    "duration": 293,
    "start_time": "2022-06-12T18:16:39.386Z"
   },
   {
    "duration": 13,
    "start_time": "2022-06-12T18:16:39.681Z"
   },
   {
    "duration": 11,
    "start_time": "2022-06-12T18:16:39.696Z"
   },
   {
    "duration": 73,
    "start_time": "2022-06-12T18:16:39.709Z"
   },
   {
    "duration": 5,
    "start_time": "2022-06-12T18:16:39.784Z"
   },
   {
    "duration": 429,
    "start_time": "2022-06-12T18:16:39.790Z"
   },
   {
    "duration": 47,
    "start_time": "2022-06-12T18:16:40.221Z"
   },
   {
    "duration": 431,
    "start_time": "2022-06-12T18:16:40.269Z"
   },
   {
    "duration": 3,
    "start_time": "2022-06-12T18:16:40.701Z"
   },
   {
    "duration": 143,
    "start_time": "2022-06-12T18:16:40.705Z"
   },
   {
    "duration": 2,
    "start_time": "2022-06-12T18:16:40.850Z"
   },
   {
    "duration": 3820,
    "start_time": "2022-06-12T18:16:40.854Z"
   },
   {
    "duration": 4,
    "start_time": "2022-06-12T18:16:44.676Z"
   },
   {
    "duration": 201,
    "start_time": "2022-06-12T18:16:44.682Z"
   },
   {
    "duration": 2,
    "start_time": "2022-06-12T18:16:44.885Z"
   },
   {
    "duration": 148,
    "start_time": "2022-06-12T18:16:44.888Z"
   },
   {
    "duration": 3,
    "start_time": "2022-06-12T18:16:45.038Z"
   },
   {
    "duration": 168,
    "start_time": "2022-06-12T18:16:45.043Z"
   },
   {
    "duration": 2,
    "start_time": "2022-06-12T18:16:45.213Z"
   },
   {
    "duration": 159,
    "start_time": "2022-06-12T18:16:45.217Z"
   },
   {
    "duration": 17,
    "start_time": "2022-06-12T18:16:45.378Z"
   },
   {
    "duration": 7,
    "start_time": "2022-06-12T18:16:45.397Z"
   },
   {
    "duration": 5,
    "start_time": "2022-06-12T18:16:45.405Z"
   },
   {
    "duration": 162,
    "start_time": "2022-06-12T18:16:45.411Z"
   },
   {
    "duration": 5,
    "start_time": "2022-06-12T18:16:45.575Z"
   },
   {
    "duration": 16,
    "start_time": "2022-06-12T18:16:45.582Z"
   },
   {
    "duration": 2,
    "start_time": "2022-06-12T18:16:45.600Z"
   },
   {
    "duration": 6,
    "start_time": "2022-06-12T18:16:45.603Z"
   },
   {
    "duration": 131,
    "start_time": "2022-06-12T18:16:45.611Z"
   },
   {
    "duration": 7,
    "start_time": "2022-06-12T18:16:45.744Z"
   },
   {
    "duration": 27,
    "start_time": "2022-06-12T18:16:45.753Z"
   },
   {
    "duration": 142,
    "start_time": "2022-06-12T18:16:45.782Z"
   },
   {
    "duration": 183,
    "start_time": "2022-06-12T18:16:45.926Z"
   },
   {
    "duration": 170,
    "start_time": "2022-06-12T18:16:46.111Z"
   },
   {
    "duration": 122,
    "start_time": "2022-06-12T18:16:46.283Z"
   },
   {
    "duration": 133,
    "start_time": "2022-06-12T18:16:46.412Z"
   },
   {
    "duration": 160,
    "start_time": "2022-06-12T18:16:46.547Z"
   },
   {
    "duration": 5,
    "start_time": "2022-06-12T18:16:46.708Z"
   },
   {
    "duration": 170,
    "start_time": "2022-06-12T18:16:46.714Z"
   },
   {
    "duration": 5,
    "start_time": "2022-06-12T18:16:46.886Z"
   },
   {
    "duration": 139,
    "start_time": "2022-06-12T18:16:46.892Z"
   },
   {
    "duration": 495,
    "start_time": "2022-06-12T18:16:47.033Z"
   },
   {
    "duration": 610,
    "start_time": "2022-06-12T18:16:47.529Z"
   },
   {
    "duration": 100,
    "start_time": "2022-06-12T18:16:48.141Z"
   },
   {
    "duration": 157,
    "start_time": "2022-06-12T18:16:48.243Z"
   },
   {
    "duration": 2,
    "start_time": "2022-06-12T18:16:48.402Z"
   },
   {
    "duration": 144,
    "start_time": "2022-06-12T18:16:48.405Z"
   },
   {
    "duration": 2,
    "start_time": "2022-06-12T18:16:48.551Z"
   },
   {
    "duration": 160,
    "start_time": "2022-06-12T18:16:48.565Z"
   },
   {
    "duration": 2,
    "start_time": "2022-06-12T18:16:48.727Z"
   },
   {
    "duration": 187,
    "start_time": "2022-06-12T18:16:48.730Z"
   },
   {
    "duration": 2,
    "start_time": "2022-06-12T18:16:48.919Z"
   },
   {
    "duration": 229,
    "start_time": "2022-06-12T18:16:48.923Z"
   },
   {
    "duration": 3,
    "start_time": "2022-06-12T18:16:49.153Z"
   },
   {
    "duration": 139,
    "start_time": "2022-06-12T18:16:49.164Z"
   },
   {
    "duration": 877,
    "start_time": "2022-06-21T09:01:23.202Z"
   },
   {
    "duration": 363,
    "start_time": "2022-06-21T09:01:24.081Z"
   },
   {
    "duration": 16,
    "start_time": "2022-06-21T09:01:24.446Z"
   },
   {
    "duration": 35,
    "start_time": "2022-06-21T09:01:24.464Z"
   },
   {
    "duration": 78,
    "start_time": "2022-06-21T09:01:24.500Z"
   },
   {
    "duration": 5,
    "start_time": "2022-06-21T09:01:24.580Z"
   },
   {
    "duration": 20,
    "start_time": "2022-06-21T09:01:24.587Z"
   },
   {
    "duration": 43,
    "start_time": "2022-06-21T09:01:24.609Z"
   },
   {
    "duration": 3,
    "start_time": "2022-06-21T09:01:24.654Z"
   },
   {
    "duration": 5,
    "start_time": "2022-06-21T09:01:42.815Z"
   },
   {
    "duration": 2,
    "start_time": "2022-06-21T09:04:41.519Z"
   },
   {
    "duration": 4,
    "start_time": "2022-06-21T09:05:03.490Z"
   },
   {
    "duration": 3,
    "start_time": "2022-06-21T09:05:38.373Z"
   },
   {
    "duration": 109,
    "start_time": "2022-06-21T09:05:38.380Z"
   },
   {
    "duration": 13,
    "start_time": "2022-06-21T09:05:38.491Z"
   },
   {
    "duration": 58,
    "start_time": "2022-06-21T09:05:38.505Z"
   },
   {
    "duration": 71,
    "start_time": "2022-06-21T09:05:38.564Z"
   },
   {
    "duration": 7,
    "start_time": "2022-06-21T09:05:38.640Z"
   },
   {
    "duration": 25,
    "start_time": "2022-06-21T09:05:38.650Z"
   },
   {
    "duration": 17,
    "start_time": "2022-06-21T09:05:38.677Z"
   },
   {
    "duration": 2,
    "start_time": "2022-06-21T09:05:38.696Z"
   },
   {
    "duration": 203,
    "start_time": "2022-06-21T09:05:41.847Z"
   },
   {
    "duration": 4,
    "start_time": "2022-06-21T09:05:45.599Z"
   },
   {
    "duration": 379,
    "start_time": "2022-06-21T09:06:56.565Z"
   },
   {
    "duration": 5,
    "start_time": "2022-06-21T09:07:00.304Z"
   }
  ],
  "kernelspec": {
   "display_name": "Python 3 (ipykernel)",
   "language": "python",
   "name": "python3"
  },
  "language_info": {
   "codemirror_mode": {
    "name": "ipython",
    "version": 3
   },
   "file_extension": ".py",
   "mimetype": "text/x-python",
   "name": "python",
   "nbconvert_exporter": "python",
   "pygments_lexer": "ipython3",
   "version": "3.10.9"
  },
  "toc": {
   "base_numbering": 1,
   "nav_menu": {},
   "number_sections": true,
   "sideBar": true,
   "skip_h1_title": true,
   "title_cell": "Содержание",
   "title_sidebar": "Contents",
   "toc_cell": true,
   "toc_position": {
    "height": "calc(100% - 180px)",
    "left": "10px",
    "top": "150px",
    "width": "231px"
   },
   "toc_section_display": true,
   "toc_window_display": true
  }
 },
 "nbformat": 4,
 "nbformat_minor": 4
}

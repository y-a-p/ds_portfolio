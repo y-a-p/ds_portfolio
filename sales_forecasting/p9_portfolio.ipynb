{
 "cells": [
  {
   "cell_type": "markdown",
   "metadata": {},
   "source": [
    "<div class=\"alert alert-info\">\n",
    "<h2> Комментарий студента v0<a class=\"tocSkip\"></h2>\n",
    "\n",
    "Привет! Если у тебя будут желтые комментарии, но не будет красных, пожалуйста, верни работу на доработку, чтобы я смог внести исправления для повторной проверки и/или задать уточняющие вопросы.\n",
    "</div>"
   ]
  },
  {
   "cell_type": "markdown",
   "metadata": {},
   "source": [
    "<div class=\"alert alert-info\">\n",
    "<h2> Комментарий студента v1<a class=\"tocSkip\"></h2>\n",
    "\n",
    "!!! Логистическая регрессия у мения общитывалась 6 часов !!!\n",
    "\n",
    "</div>"
   ]
  },
  {
   "cell_type": "markdown",
   "metadata": {},
   "source": [
    "<div style=\"padding: 30px 25px; border: 2px #6495ed solid\">\n",
    "    \n",
    "<b>Еще раз привет!</b>\n",
    "\n",
    "Спасибо, что доделал работу, оформление комментариев остается тем же, только обозначим номер итерации: v2\n",
    "    \n",
    "При большом количестве данных модели действительно могут обучаться часами, это вполне нормально :) Но если подбор занимает такое неадекватное количество времени, то можно закомментировать ячейку с подбором и ниже обучить вручную модель с теми гиперпараметрами, которые были подобраны ранее\n",
    "    \n",
    "</div>"
   ]
  },
  {
   "cell_type": "code",
   "execution_count": null,
   "metadata": {},
   "outputs": [],
   "source": []
  },
  {
   "cell_type": "markdown",
   "metadata": {},
   "source": [
    "<div style=\"padding: 30px 25px; border: 2px #6495ed solid\">\n",
    "    \n",
    "<b>Привет, Юрий!</b>\n",
    "\n",
    "Меня зовут Алексей Косенко, и я буду проверять твой проект. Прошу прощения за долгое ожидание\n",
    "    \n",
    "Договорились, я верну работу в любом случае :)\n",
    "    \n",
    "Предлагаю общаться на «<b>ты</b>», но если это неудобно — обязательно сообщи об этом.\n",
    "    \n",
    "Ниже ты увидишь мои комментарии, выделенные разным цветом:\n",
    "    \n",
    "<div class=\"alert alert-success\">\n",
    "<h2>Комментарий ревьюера<a class=\"tocSkip\"></a></h2>\n",
    "\n",
    "<b>Отлично!</b> ✔️: все ок, продолжай в том же духе :)\n",
    "\n",
    "</div>\n",
    "<div class=\"alert alert-warning\">\n",
    "<h2>Комментарий ревьюера<a class=\"tocSkip\"></a></h2>\n",
    "    \n",
    "<b>Есть совет</b> ⚠️: так выделены некритичные замечания или советы, которые смогут улучшить твой проект.\n",
    "\n",
    "</div>\n",
    "<div class=\"alert alert-danger\">\n",
    "<h2>Комментарий ревьюера<a class=\"tocSkip\"></a></h2>\n",
    "\n",
    "<b>Нужно доработать</b> ❌: так выделены важные замечания — без их исправления проект не может быть принят.\n",
    "    \n",
    "</div>\n",
    "\n",
    "Будет здорово, если ты будешь участвовать в диалоге, а свои вопросы, комментарии и изменения в проекте тоже будешь выделять, например, вот так:\n",
    "    \n",
    "<div class=\"alert alert-info\">\n",
    "    <b>Комментарий студента:</b> твой комментарий\n",
    "</div>\n",
    "    \n",
    "Пожалуйста, не перемещай и не удаляй мои комментарии, это усложнит повторную проверку.\n",
    "    \n",
    "</div>"
   ]
  },
  {
   "cell_type": "markdown",
   "metadata": {},
   "source": [
    "# Прогнозирование оттока клиентов в сети отелей «Как в гостях»"
   ]
  },
  {
   "cell_type": "markdown",
   "metadata": {},
   "source": [
    "## Описание проекта"
   ]
  },
  {
   "cell_type": "markdown",
   "metadata": {},
   "source": [
    "Заказчик этого исследования — сеть отелей «Как в гостях».<br>\n",
    "\n",
    "Чтобы привлечь клиентов, эта сеть отелей добавила на свой сайт возможность забронировать номер без предоплаты. Однако если клиент отменял бронирование, то компания терпела убытки. Сотрудники отеля могли, например, закупить продукты к приезду гостя или просто не успеть найти другого клиента.\n",
    "\n",
    "Чтобы решить эту проблему, нужно разработать систему, которая предсказывает отказ от брони. Если модель покажет, что бронь будет отменена, то клиенту предлагается внести депозит. Размер депозита — 80% от стоимости номера за одни сутки и затрат на разовую уборку. Деньги будут списаны со счёта клиента, если он всё же отменит бронь."
   ]
  },
  {
   "cell_type": "markdown",
   "metadata": {},
   "source": [
    "Прибыль отеля — это разница между стоимостью номера за все ночи и затраты на обслуживание: как при подготовке номера, так и при проживании постояльца. "
   ]
  },
  {
   "cell_type": "markdown",
   "metadata": {},
   "source": [
    "Убытки отеля в случае отмены брони номера — это стоимость одной уборки и одной ночи с учётом сезонного коэффициента."
   ]
  },
  {
   "cell_type": "markdown",
   "metadata": {},
   "source": [
    "На разработку системы прогнозирования заложен бюджет — 400 000. При этом необходимо учесть, что внедрение модели должно окупиться за тестовый период. Затраты на разработку должны быть меньше той выручки, которую система принесёт компании."
   ]
  },
  {
   "cell_type": "markdown",
   "metadata": {},
   "source": [
    "В отеле есть несколько типов номеров.<br>\n",
    "В зависимости от типа номера назначается стоимость за одну ночь.<br>\n",
    "Есть также затраты на уборку. Если клиент снял номер надолго, то убираются каждые два дня.<br>\n",
    "\n",
    "Стоимость номеров отеля:\n",
    "* категория A: за ночь — 1 000, разовое обслуживание — 400;\n",
    "* категория B: за ночь — 800, разовое обслуживание — 350;\n",
    "* категория C: за ночь — 600, разовое обслуживание — 350;\n",
    "* категория D: за ночь — 550, разовое обслуживание — 150;\n",
    "* категория E: за ночь — 500, разовое обслуживание — 150;\n",
    "* категория F: за ночь — 450, разовое обслуживание — 150;\n",
    "* категория G: за ночь — 350, разовое обслуживание — 150.<br>\n",
    "\n",
    "В ценовой политике отеля используются сезонные коэффициенты: весной и осенью цены повышаются на 20%, летом — на 40%."
   ]
  },
  {
   "cell_type": "markdown",
   "metadata": {},
   "source": [
    "## Описание данных"
   ]
  },
  {
   "cell_type": "markdown",
   "metadata": {},
   "source": [
    "Пути к файлам:<br>\n",
    " * `/datasets/hotel_train.csv` — данные для обучения модели<br>\n",
    " * `/datasets/hotel_test.csv` — данные для тестирования модели"
   ]
  },
  {
   "cell_type": "markdown",
   "metadata": {},
   "source": [
    "В таблицах `hotel_train` и `hotel_test` содержатся одинаковые столбцы:<br>\n",
    "\n",
    "`id` — номер записи;<br>\n",
    "`adult`  — количество взрослых постояльцев;<br>\n",
    "`arrival_date_year` — год заезда;<br>\n",
    "`arrival_date_month` — месяц заезда;<br>\n",
    "`arrival_date_week_number` — неделя заезда;<br>\n",
    "`arrival_date_day_of_month` — день заезда;<br>\n",
    "`babies` — количество младенцев;<br>\n",
    "`booking_changes` — количество изменений параметров заказа;<br>\n",
    "`children` — количество детей от 3 до 14 лет;<br>\n",
    "`country` — гражданство постояльца;<br>\n",
    "\n",
    "`customer_type`  — тип заказчика:<br>\n",
    "* `Contract` — договор с юридическим лицом;<br>\n",
    "* `Group` — групповой заезд;<br>\n",
    "* `Transient` — не связано с договором или групповым заездом;<br>\n",
    "* `Transient-party` — не связано с договором или групповым заездом, но связано с бронированием типа  Transient.<br>\n",
    " \n",
    "`days_in_waiting_list` — сколько дней заказ ожидал подтверждения;<br>\n",
    "`distribution_channel` — канал дистрибуции заказа;<br>\n",
    "`is_canceled` — отмена заказа;<br>\n",
    "`is_repeated_guest` — признак того, что гость бронирует номер второй раз;<br>\n",
    "`lead_time` — количество дней между датой бронирования и датой прибытия;<br>\n",
    "\n",
    "`meal` — опции заказа:<br>\n",
    "* `SC` — нет дополнительных опций;<br>\n",
    "* `BB` — включён завтрак;<br>\n",
    "* `HB` — включён завтрак и обед;<br>\n",
    "* `FB` — включён завтрак, обед и ужин.<br>\n",
    " \n",
    "`previous_bookings_not_canceled` — количество подтверждённых заказов у клиента;<br>\n",
    "`previous_cancellations` — количество отменённых заказов у клиента;<br>\n",
    "`required_car_parking_spaces` — необходимость места для автомобиля;<br>\n",
    "`reserved_room_type`  — тип забронированной комнаты;<br>\n",
    "`stays_in_weekend_nights` — количество ночей в выходные дни;<br>\n",
    "`stays_in_week_nights` — количество ночей в будние дни;<br>\n",
    "`total_nights` — общее количество ночей;<br>\n",
    "`total_of_special_requests` — количество специальных отметок.<br>\n",
    "\n"
   ]
  },
  {
   "cell_type": "markdown",
   "metadata": {},
   "source": [
    "<div class=\"alert alert-success\">\n",
    "<h2>Комментарий ревьюера<a class=\"tocSkip\"></a></h2>\n",
    "    \n",
    "**Отлично!** ✔️: молодец, что оформляешь описание!</div>"
   ]
  },
  {
   "cell_type": "markdown",
   "metadata": {},
   "source": [
    "## Шаг 1. Откройте файлы с данными"
   ]
  },
  {
   "cell_type": "code",
   "execution_count": 2,
   "metadata": {},
   "outputs": [],
   "source": [
    "import pandas as pd\n",
    "import numpy as np\n",
    "import matplotlib.pyplot as plt\n",
    "from sklearn.model_selection import train_test_split\n",
    "from sklearn.utils import shuffle\n",
    "from tqdm import tqdm\n",
    "import itertools\n",
    "from sklearn.metrics import f1_score\n",
    "from sklearn.tree import DecisionTreeClassifier\n",
    "from sklearn.ensemble import RandomForestClassifier\n",
    "from sklearn.linear_model import LogisticRegression\n",
    "from sklearn.metrics import roc_auc_score\n",
    "from sklearn.metrics import roc_curve \n",
    "import seaborn as sns\n",
    "from sklearn.preprocessing import OrdinalEncoder \n",
    "from sklearn.preprocessing import StandardScaler\n",
    "from sklearn.model_selection import cross_val_score"
   ]
  },
  {
   "cell_type": "code",
   "execution_count": 3,
   "metadata": {},
   "outputs": [],
   "source": [
    "try:\n",
    "    df_train = pd.read_csv('/datasets/hotel_train.csv')\n",
    "    df_test = pd.read_csv('/datasets/hotel_test.csv')\n",
    "except:\n",
    "    print('При чтение файла возникал ошибка')"
   ]
  },
  {
   "cell_type": "code",
   "execution_count": 4,
   "metadata": {},
   "outputs": [],
   "source": [
    "pd.set_option('display.max_columns', None)"
   ]
  },
  {
   "cell_type": "markdown",
   "metadata": {},
   "source": [
    "## Шаг 2. Предобработка и исследовательский анализ данных"
   ]
  },
  {
   "cell_type": "markdown",
   "metadata": {},
   "source": [
    "**Изучим общую информацию о представленных данных.**"
   ]
  },
  {
   "cell_type": "markdown",
   "metadata": {},
   "source": [
    "<b>Train"
   ]
  },
  {
   "cell_type": "code",
   "execution_count": 5,
   "metadata": {
    "scrolled": false
   },
   "outputs": [
    {
     "data": {
      "text/html": [
       "<div>\n",
       "<style scoped>\n",
       "    .dataframe tbody tr th:only-of-type {\n",
       "        vertical-align: middle;\n",
       "    }\n",
       "\n",
       "    .dataframe tbody tr th {\n",
       "        vertical-align: top;\n",
       "    }\n",
       "\n",
       "    .dataframe thead th {\n",
       "        text-align: right;\n",
       "    }\n",
       "</style>\n",
       "<table border=\"1\" class=\"dataframe\">\n",
       "  <thead>\n",
       "    <tr style=\"text-align: right;\">\n",
       "      <th></th>\n",
       "      <th>id</th>\n",
       "      <th>is_canceled</th>\n",
       "      <th>lead_time</th>\n",
       "      <th>arrival_date_year</th>\n",
       "      <th>arrival_date_month</th>\n",
       "      <th>arrival_date_week_number</th>\n",
       "      <th>arrival_date_day_of_month</th>\n",
       "      <th>stays_in_weekend_nights</th>\n",
       "      <th>stays_in_week_nights</th>\n",
       "      <th>adults</th>\n",
       "      <th>children</th>\n",
       "      <th>babies</th>\n",
       "      <th>meal</th>\n",
       "      <th>country</th>\n",
       "      <th>distribution_channel</th>\n",
       "      <th>is_repeated_guest</th>\n",
       "      <th>previous_cancellations</th>\n",
       "      <th>previous_bookings_not_canceled</th>\n",
       "      <th>reserved_room_type</th>\n",
       "      <th>booking_changes</th>\n",
       "      <th>days_in_waiting_list</th>\n",
       "      <th>customer_type</th>\n",
       "      <th>required_car_parking_spaces</th>\n",
       "      <th>total_of_special_requests</th>\n",
       "      <th>total_nights</th>\n",
       "    </tr>\n",
       "  </thead>\n",
       "  <tbody>\n",
       "    <tr>\n",
       "      <th>0</th>\n",
       "      <td>0</td>\n",
       "      <td>0</td>\n",
       "      <td>7.0</td>\n",
       "      <td>2015</td>\n",
       "      <td>July</td>\n",
       "      <td>27</td>\n",
       "      <td>1</td>\n",
       "      <td>0</td>\n",
       "      <td>1</td>\n",
       "      <td>1.0</td>\n",
       "      <td>0.0</td>\n",
       "      <td>0.0</td>\n",
       "      <td>BB</td>\n",
       "      <td>GBR</td>\n",
       "      <td>Direct</td>\n",
       "      <td>0</td>\n",
       "      <td>0</td>\n",
       "      <td>0</td>\n",
       "      <td>A</td>\n",
       "      <td>0</td>\n",
       "      <td>0</td>\n",
       "      <td>Transient</td>\n",
       "      <td>0</td>\n",
       "      <td>0</td>\n",
       "      <td>1</td>\n",
       "    </tr>\n",
       "    <tr>\n",
       "      <th>1</th>\n",
       "      <td>1</td>\n",
       "      <td>0</td>\n",
       "      <td>14.0</td>\n",
       "      <td>2015</td>\n",
       "      <td>July</td>\n",
       "      <td>27</td>\n",
       "      <td>1</td>\n",
       "      <td>0</td>\n",
       "      <td>2</td>\n",
       "      <td>2.0</td>\n",
       "      <td>0.0</td>\n",
       "      <td>0.0</td>\n",
       "      <td>BB</td>\n",
       "      <td>GBR</td>\n",
       "      <td>TA/TO</td>\n",
       "      <td>0</td>\n",
       "      <td>0</td>\n",
       "      <td>0</td>\n",
       "      <td>A</td>\n",
       "      <td>0</td>\n",
       "      <td>0</td>\n",
       "      <td>Transient</td>\n",
       "      <td>0</td>\n",
       "      <td>1</td>\n",
       "      <td>2</td>\n",
       "    </tr>\n",
       "    <tr>\n",
       "      <th>2</th>\n",
       "      <td>2</td>\n",
       "      <td>0</td>\n",
       "      <td>0.0</td>\n",
       "      <td>2015</td>\n",
       "      <td>July</td>\n",
       "      <td>27</td>\n",
       "      <td>1</td>\n",
       "      <td>0</td>\n",
       "      <td>2</td>\n",
       "      <td>2.0</td>\n",
       "      <td>0.0</td>\n",
       "      <td>0.0</td>\n",
       "      <td>BB</td>\n",
       "      <td>PRT</td>\n",
       "      <td>Direct</td>\n",
       "      <td>0</td>\n",
       "      <td>0</td>\n",
       "      <td>0</td>\n",
       "      <td>C</td>\n",
       "      <td>0</td>\n",
       "      <td>0</td>\n",
       "      <td>Transient</td>\n",
       "      <td>0</td>\n",
       "      <td>0</td>\n",
       "      <td>2</td>\n",
       "    </tr>\n",
       "    <tr>\n",
       "      <th>3</th>\n",
       "      <td>3</td>\n",
       "      <td>0</td>\n",
       "      <td>9.0</td>\n",
       "      <td>2015</td>\n",
       "      <td>July</td>\n",
       "      <td>27</td>\n",
       "      <td>1</td>\n",
       "      <td>0</td>\n",
       "      <td>2</td>\n",
       "      <td>2.0</td>\n",
       "      <td>0.0</td>\n",
       "      <td>0.0</td>\n",
       "      <td>FB</td>\n",
       "      <td>PRT</td>\n",
       "      <td>Direct</td>\n",
       "      <td>0</td>\n",
       "      <td>0</td>\n",
       "      <td>0</td>\n",
       "      <td>C</td>\n",
       "      <td>0</td>\n",
       "      <td>0</td>\n",
       "      <td>Transient</td>\n",
       "      <td>0</td>\n",
       "      <td>1</td>\n",
       "      <td>2</td>\n",
       "    </tr>\n",
       "    <tr>\n",
       "      <th>4</th>\n",
       "      <td>4</td>\n",
       "      <td>1</td>\n",
       "      <td>85.0</td>\n",
       "      <td>2015</td>\n",
       "      <td>July</td>\n",
       "      <td>27</td>\n",
       "      <td>1</td>\n",
       "      <td>0</td>\n",
       "      <td>3</td>\n",
       "      <td>2.0</td>\n",
       "      <td>0.0</td>\n",
       "      <td>0.0</td>\n",
       "      <td>BB</td>\n",
       "      <td>PRT</td>\n",
       "      <td>TA/TO</td>\n",
       "      <td>0</td>\n",
       "      <td>0</td>\n",
       "      <td>0</td>\n",
       "      <td>A</td>\n",
       "      <td>0</td>\n",
       "      <td>0</td>\n",
       "      <td>Transient</td>\n",
       "      <td>0</td>\n",
       "      <td>1</td>\n",
       "      <td>3</td>\n",
       "    </tr>\n",
       "  </tbody>\n",
       "</table>\n",
       "</div>"
      ],
      "text/plain": [
       "   id  is_canceled  lead_time  arrival_date_year arrival_date_month  \\\n",
       "0   0            0        7.0               2015               July   \n",
       "1   1            0       14.0               2015               July   \n",
       "2   2            0        0.0               2015               July   \n",
       "3   3            0        9.0               2015               July   \n",
       "4   4            1       85.0               2015               July   \n",
       "\n",
       "   arrival_date_week_number  arrival_date_day_of_month  \\\n",
       "0                        27                          1   \n",
       "1                        27                          1   \n",
       "2                        27                          1   \n",
       "3                        27                          1   \n",
       "4                        27                          1   \n",
       "\n",
       "   stays_in_weekend_nights  stays_in_week_nights  adults  children  babies  \\\n",
       "0                        0                     1     1.0       0.0     0.0   \n",
       "1                        0                     2     2.0       0.0     0.0   \n",
       "2                        0                     2     2.0       0.0     0.0   \n",
       "3                        0                     2     2.0       0.0     0.0   \n",
       "4                        0                     3     2.0       0.0     0.0   \n",
       "\n",
       "        meal country distribution_channel  is_repeated_guest  \\\n",
       "0  BB            GBR               Direct                  0   \n",
       "1  BB            GBR                TA/TO                  0   \n",
       "2  BB            PRT               Direct                  0   \n",
       "3  FB            PRT               Direct                  0   \n",
       "4  BB            PRT                TA/TO                  0   \n",
       "\n",
       "   previous_cancellations  previous_bookings_not_canceled reserved_room_type  \\\n",
       "0                       0                               0   A                  \n",
       "1                       0                               0   A                  \n",
       "2                       0                               0   C                  \n",
       "3                       0                               0   C                  \n",
       "4                       0                               0   A                  \n",
       "\n",
       "   booking_changes  days_in_waiting_list customer_type  \\\n",
       "0                0                     0     Transient   \n",
       "1                0                     0     Transient   \n",
       "2                0                     0     Transient   \n",
       "3                0                     0     Transient   \n",
       "4                0                     0     Transient   \n",
       "\n",
       "   required_car_parking_spaces  total_of_special_requests  total_nights  \n",
       "0                            0                          0             1  \n",
       "1                            0                          1             2  \n",
       "2                            0                          0             2  \n",
       "3                            0                          1             2  \n",
       "4                            0                          1             3  "
      ]
     },
     "execution_count": 5,
     "metadata": {},
     "output_type": "execute_result"
    }
   ],
   "source": [
    "df_train.head()"
   ]
  },
  {
   "cell_type": "code",
   "execution_count": 6,
   "metadata": {
    "scrolled": false
   },
   "outputs": [
    {
     "name": "stdout",
     "output_type": "stream",
     "text": [
      "<class 'pandas.core.frame.DataFrame'>\n",
      "RangeIndex: 65229 entries, 0 to 65228\n",
      "Data columns (total 25 columns):\n",
      " #   Column                          Non-Null Count  Dtype  \n",
      "---  ------                          --------------  -----  \n",
      " 0   id                              65229 non-null  int64  \n",
      " 1   is_canceled                     65229 non-null  int64  \n",
      " 2   lead_time                       65229 non-null  float64\n",
      " 3   arrival_date_year               65229 non-null  int64  \n",
      " 4   arrival_date_month              65229 non-null  object \n",
      " 5   arrival_date_week_number        65229 non-null  int64  \n",
      " 6   arrival_date_day_of_month       65229 non-null  int64  \n",
      " 7   stays_in_weekend_nights         65229 non-null  int64  \n",
      " 8   stays_in_week_nights            65229 non-null  int64  \n",
      " 9   adults                          65229 non-null  float64\n",
      " 10  children                        65229 non-null  float64\n",
      " 11  babies                          65229 non-null  float64\n",
      " 12  meal                            65229 non-null  object \n",
      " 13  country                         65229 non-null  object \n",
      " 14  distribution_channel            65229 non-null  object \n",
      " 15  is_repeated_guest               65229 non-null  int64  \n",
      " 16  previous_cancellations          65229 non-null  int64  \n",
      " 17  previous_bookings_not_canceled  65229 non-null  int64  \n",
      " 18  reserved_room_type              65229 non-null  object \n",
      " 19  booking_changes                 65229 non-null  int64  \n",
      " 20  days_in_waiting_list            65229 non-null  int64  \n",
      " 21  customer_type                   65229 non-null  object \n",
      " 22  required_car_parking_spaces     65229 non-null  int64  \n",
      " 23  total_of_special_requests       65229 non-null  int64  \n",
      " 24  total_nights                    65229 non-null  int64  \n",
      "dtypes: float64(4), int64(15), object(6)\n",
      "memory usage: 12.4+ MB\n"
     ]
    }
   ],
   "source": [
    "df_train.info()"
   ]
  },
  {
   "cell_type": "code",
   "execution_count": 7,
   "metadata": {
    "scrolled": true
   },
   "outputs": [
    {
     "data": {
      "text/html": [
       "<div>\n",
       "<style scoped>\n",
       "    .dataframe tbody tr th:only-of-type {\n",
       "        vertical-align: middle;\n",
       "    }\n",
       "\n",
       "    .dataframe tbody tr th {\n",
       "        vertical-align: top;\n",
       "    }\n",
       "\n",
       "    .dataframe thead th {\n",
       "        text-align: right;\n",
       "    }\n",
       "</style>\n",
       "<table border=\"1\" class=\"dataframe\">\n",
       "  <thead>\n",
       "    <tr style=\"text-align: right;\">\n",
       "      <th></th>\n",
       "      <th>count</th>\n",
       "      <th>mean</th>\n",
       "      <th>std</th>\n",
       "      <th>min</th>\n",
       "      <th>25%</th>\n",
       "      <th>50%</th>\n",
       "      <th>75%</th>\n",
       "      <th>max</th>\n",
       "    </tr>\n",
       "  </thead>\n",
       "  <tbody>\n",
       "    <tr>\n",
       "      <th>id</th>\n",
       "      <td>65229.0</td>\n",
       "      <td>43544.069172</td>\n",
       "      <td>25614.858971</td>\n",
       "      <td>0.0</td>\n",
       "      <td>19108.0</td>\n",
       "      <td>40554.0</td>\n",
       "      <td>67414.0</td>\n",
       "      <td>84121.0</td>\n",
       "    </tr>\n",
       "    <tr>\n",
       "      <th>is_canceled</th>\n",
       "      <td>65229.0</td>\n",
       "      <td>0.368609</td>\n",
       "      <td>0.482431</td>\n",
       "      <td>0.0</td>\n",
       "      <td>0.0</td>\n",
       "      <td>0.0</td>\n",
       "      <td>1.0</td>\n",
       "      <td>1.0</td>\n",
       "    </tr>\n",
       "    <tr>\n",
       "      <th>lead_time</th>\n",
       "      <td>65229.0</td>\n",
       "      <td>96.337917</td>\n",
       "      <td>96.127545</td>\n",
       "      <td>0.0</td>\n",
       "      <td>17.0</td>\n",
       "      <td>64.0</td>\n",
       "      <td>151.0</td>\n",
       "      <td>374.0</td>\n",
       "    </tr>\n",
       "    <tr>\n",
       "      <th>arrival_date_year</th>\n",
       "      <td>65229.0</td>\n",
       "      <td>2015.719021</td>\n",
       "      <td>0.449481</td>\n",
       "      <td>2015.0</td>\n",
       "      <td>2015.0</td>\n",
       "      <td>2016.0</td>\n",
       "      <td>2016.0</td>\n",
       "      <td>2016.0</td>\n",
       "    </tr>\n",
       "    <tr>\n",
       "      <th>arrival_date_week_number</th>\n",
       "      <td>65229.0</td>\n",
       "      <td>31.339772</td>\n",
       "      <td>13.464024</td>\n",
       "      <td>1.0</td>\n",
       "      <td>21.0</td>\n",
       "      <td>34.0</td>\n",
       "      <td>42.0</td>\n",
       "      <td>53.0</td>\n",
       "    </tr>\n",
       "    <tr>\n",
       "      <th>arrival_date_day_of_month</th>\n",
       "      <td>65229.0</td>\n",
       "      <td>15.847813</td>\n",
       "      <td>8.748182</td>\n",
       "      <td>1.0</td>\n",
       "      <td>8.0</td>\n",
       "      <td>16.0</td>\n",
       "      <td>23.0</td>\n",
       "      <td>31.0</td>\n",
       "    </tr>\n",
       "    <tr>\n",
       "      <th>stays_in_weekend_nights</th>\n",
       "      <td>65229.0</td>\n",
       "      <td>0.825185</td>\n",
       "      <td>0.853477</td>\n",
       "      <td>0.0</td>\n",
       "      <td>0.0</td>\n",
       "      <td>1.0</td>\n",
       "      <td>2.0</td>\n",
       "      <td>4.0</td>\n",
       "    </tr>\n",
       "    <tr>\n",
       "      <th>stays_in_week_nights</th>\n",
       "      <td>65229.0</td>\n",
       "      <td>2.224793</td>\n",
       "      <td>1.354992</td>\n",
       "      <td>0.0</td>\n",
       "      <td>1.0</td>\n",
       "      <td>2.0</td>\n",
       "      <td>3.0</td>\n",
       "      <td>6.0</td>\n",
       "    </tr>\n",
       "    <tr>\n",
       "      <th>adults</th>\n",
       "      <td>65229.0</td>\n",
       "      <td>1.836576</td>\n",
       "      <td>0.480245</td>\n",
       "      <td>0.0</td>\n",
       "      <td>2.0</td>\n",
       "      <td>2.0</td>\n",
       "      <td>2.0</td>\n",
       "      <td>4.0</td>\n",
       "    </tr>\n",
       "    <tr>\n",
       "      <th>children</th>\n",
       "      <td>65229.0</td>\n",
       "      <td>0.074890</td>\n",
       "      <td>0.334243</td>\n",
       "      <td>0.0</td>\n",
       "      <td>0.0</td>\n",
       "      <td>0.0</td>\n",
       "      <td>0.0</td>\n",
       "      <td>3.0</td>\n",
       "    </tr>\n",
       "    <tr>\n",
       "      <th>babies</th>\n",
       "      <td>65229.0</td>\n",
       "      <td>0.007236</td>\n",
       "      <td>0.098790</td>\n",
       "      <td>0.0</td>\n",
       "      <td>0.0</td>\n",
       "      <td>0.0</td>\n",
       "      <td>0.0</td>\n",
       "      <td>10.0</td>\n",
       "    </tr>\n",
       "    <tr>\n",
       "      <th>is_repeated_guest</th>\n",
       "      <td>65229.0</td>\n",
       "      <td>0.027151</td>\n",
       "      <td>0.162523</td>\n",
       "      <td>0.0</td>\n",
       "      <td>0.0</td>\n",
       "      <td>0.0</td>\n",
       "      <td>0.0</td>\n",
       "      <td>1.0</td>\n",
       "    </tr>\n",
       "    <tr>\n",
       "      <th>previous_cancellations</th>\n",
       "      <td>65229.0</td>\n",
       "      <td>0.128915</td>\n",
       "      <td>0.965326</td>\n",
       "      <td>0.0</td>\n",
       "      <td>0.0</td>\n",
       "      <td>0.0</td>\n",
       "      <td>0.0</td>\n",
       "      <td>26.0</td>\n",
       "    </tr>\n",
       "    <tr>\n",
       "      <th>previous_bookings_not_canceled</th>\n",
       "      <td>65229.0</td>\n",
       "      <td>0.107713</td>\n",
       "      <td>1.326638</td>\n",
       "      <td>0.0</td>\n",
       "      <td>0.0</td>\n",
       "      <td>0.0</td>\n",
       "      <td>0.0</td>\n",
       "      <td>58.0</td>\n",
       "    </tr>\n",
       "    <tr>\n",
       "      <th>booking_changes</th>\n",
       "      <td>65229.0</td>\n",
       "      <td>0.194269</td>\n",
       "      <td>0.593838</td>\n",
       "      <td>0.0</td>\n",
       "      <td>0.0</td>\n",
       "      <td>0.0</td>\n",
       "      <td>0.0</td>\n",
       "      <td>17.0</td>\n",
       "    </tr>\n",
       "    <tr>\n",
       "      <th>days_in_waiting_list</th>\n",
       "      <td>65229.0</td>\n",
       "      <td>3.334422</td>\n",
       "      <td>18.239606</td>\n",
       "      <td>0.0</td>\n",
       "      <td>0.0</td>\n",
       "      <td>0.0</td>\n",
       "      <td>0.0</td>\n",
       "      <td>259.0</td>\n",
       "    </tr>\n",
       "    <tr>\n",
       "      <th>required_car_parking_spaces</th>\n",
       "      <td>65229.0</td>\n",
       "      <td>0.056647</td>\n",
       "      <td>0.232094</td>\n",
       "      <td>0.0</td>\n",
       "      <td>0.0</td>\n",
       "      <td>0.0</td>\n",
       "      <td>0.0</td>\n",
       "      <td>3.0</td>\n",
       "    </tr>\n",
       "    <tr>\n",
       "      <th>total_of_special_requests</th>\n",
       "      <td>65229.0</td>\n",
       "      <td>0.512763</td>\n",
       "      <td>0.752590</td>\n",
       "      <td>0.0</td>\n",
       "      <td>0.0</td>\n",
       "      <td>0.0</td>\n",
       "      <td>1.0</td>\n",
       "      <td>5.0</td>\n",
       "    </tr>\n",
       "    <tr>\n",
       "      <th>total_nights</th>\n",
       "      <td>65229.0</td>\n",
       "      <td>3.049978</td>\n",
       "      <td>1.738108</td>\n",
       "      <td>1.0</td>\n",
       "      <td>2.0</td>\n",
       "      <td>3.0</td>\n",
       "      <td>4.0</td>\n",
       "      <td>10.0</td>\n",
       "    </tr>\n",
       "  </tbody>\n",
       "</table>\n",
       "</div>"
      ],
      "text/plain": [
       "                                  count          mean           std     min  \\\n",
       "id                              65229.0  43544.069172  25614.858971     0.0   \n",
       "is_canceled                     65229.0      0.368609      0.482431     0.0   \n",
       "lead_time                       65229.0     96.337917     96.127545     0.0   \n",
       "arrival_date_year               65229.0   2015.719021      0.449481  2015.0   \n",
       "arrival_date_week_number        65229.0     31.339772     13.464024     1.0   \n",
       "arrival_date_day_of_month       65229.0     15.847813      8.748182     1.0   \n",
       "stays_in_weekend_nights         65229.0      0.825185      0.853477     0.0   \n",
       "stays_in_week_nights            65229.0      2.224793      1.354992     0.0   \n",
       "adults                          65229.0      1.836576      0.480245     0.0   \n",
       "children                        65229.0      0.074890      0.334243     0.0   \n",
       "babies                          65229.0      0.007236      0.098790     0.0   \n",
       "is_repeated_guest               65229.0      0.027151      0.162523     0.0   \n",
       "previous_cancellations          65229.0      0.128915      0.965326     0.0   \n",
       "previous_bookings_not_canceled  65229.0      0.107713      1.326638     0.0   \n",
       "booking_changes                 65229.0      0.194269      0.593838     0.0   \n",
       "days_in_waiting_list            65229.0      3.334422     18.239606     0.0   \n",
       "required_car_parking_spaces     65229.0      0.056647      0.232094     0.0   \n",
       "total_of_special_requests       65229.0      0.512763      0.752590     0.0   \n",
       "total_nights                    65229.0      3.049978      1.738108     1.0   \n",
       "\n",
       "                                    25%      50%      75%      max  \n",
       "id                              19108.0  40554.0  67414.0  84121.0  \n",
       "is_canceled                         0.0      0.0      1.0      1.0  \n",
       "lead_time                          17.0     64.0    151.0    374.0  \n",
       "arrival_date_year                2015.0   2016.0   2016.0   2016.0  \n",
       "arrival_date_week_number           21.0     34.0     42.0     53.0  \n",
       "arrival_date_day_of_month           8.0     16.0     23.0     31.0  \n",
       "stays_in_weekend_nights             0.0      1.0      2.0      4.0  \n",
       "stays_in_week_nights                1.0      2.0      3.0      6.0  \n",
       "adults                              2.0      2.0      2.0      4.0  \n",
       "children                            0.0      0.0      0.0      3.0  \n",
       "babies                              0.0      0.0      0.0     10.0  \n",
       "is_repeated_guest                   0.0      0.0      0.0      1.0  \n",
       "previous_cancellations              0.0      0.0      0.0     26.0  \n",
       "previous_bookings_not_canceled      0.0      0.0      0.0     58.0  \n",
       "booking_changes                     0.0      0.0      0.0     17.0  \n",
       "days_in_waiting_list                0.0      0.0      0.0    259.0  \n",
       "required_car_parking_spaces         0.0      0.0      0.0      3.0  \n",
       "total_of_special_requests           0.0      0.0      1.0      5.0  \n",
       "total_nights                        2.0      3.0      4.0     10.0  "
      ]
     },
     "execution_count": 7,
     "metadata": {},
     "output_type": "execute_result"
    }
   ],
   "source": [
    "df_train.describe().T"
   ]
  },
  {
   "cell_type": "code",
   "execution_count": 8,
   "metadata": {
    "scrolled": true
   },
   "outputs": [
    {
     "data": {
      "text/plain": [
       "id                                65229\n",
       "is_canceled                           2\n",
       "lead_time                           369\n",
       "arrival_date_year                     2\n",
       "arrival_date_month                   12\n",
       "arrival_date_week_number             53\n",
       "arrival_date_day_of_month            31\n",
       "stays_in_weekend_nights               5\n",
       "stays_in_week_nights                  7\n",
       "adults                                5\n",
       "children                              4\n",
       "babies                                5\n",
       "meal                                  5\n",
       "country                             155\n",
       "distribution_channel                  4\n",
       "is_repeated_guest                     2\n",
       "previous_cancellations               15\n",
       "previous_bookings_not_canceled       58\n",
       "reserved_room_type                    7\n",
       "booking_changes                      16\n",
       "days_in_waiting_list                 97\n",
       "customer_type                         4\n",
       "required_car_parking_spaces           4\n",
       "total_of_special_requests             6\n",
       "total_nights                         10\n",
       "dtype: int64"
      ]
     },
     "execution_count": 8,
     "metadata": {},
     "output_type": "execute_result"
    }
   ],
   "source": [
    "df_train.nunique()"
   ]
  },
  {
   "cell_type": "code",
   "execution_count": 9,
   "metadata": {
    "scrolled": true
   },
   "outputs": [
    {
     "data": {
      "text/plain": [
       "0"
      ]
     },
     "execution_count": 9,
     "metadata": {},
     "output_type": "execute_result"
    }
   ],
   "source": [
    "df_train.duplicated().sum()"
   ]
  },
  {
   "cell_type": "code",
   "execution_count": 10,
   "metadata": {},
   "outputs": [
    {
     "data": {
      "text/plain": [
       "21377"
      ]
     },
     "execution_count": 10,
     "metadata": {},
     "output_type": "execute_result"
    }
   ],
   "source": [
    "df_train.drop('id', axis = 1).duplicated().sum()"
   ]
  },
  {
   "cell_type": "markdown",
   "metadata": {},
   "source": [
    "В данных `train` очевидных ошибок не обнаружено. В выборке 65229 записей без пропусков и дубликатов. Если при проверке на дубли не учитывать поле `id`, то задублинорованными будет 21377 записей."
   ]
  },
  {
   "cell_type": "markdown",
   "metadata": {},
   "source": [
    "<div class=\"alert alert-warning\">\n",
    "<h2>Комментарий ревьюера<a class=\"tocSkip\"></a></h2>\n",
    "    \n",
    "**Есть совет** ⚠️: верно, но так как после удаления id дубликаты могут привести к переобучению моделей(особенно при использовании кросс-валидации), то правильнее будет их обработать</div>"
   ]
  },
  {
   "cell_type": "markdown",
   "metadata": {},
   "source": [
    "<div class=\"alert alert-info\">\n",
    "    <b>Комментарий студента v1:</b> Подскажи, пожалуйста, какую обработку ты имеешь в виду? Мне приходит на ум только удаление дубликатов. Но во-первых, мы не знаем природу этих дубликатов - возможно это действительно разные записи, с одинаковыми характиристиками. Во-вторых, тогда нам придется удалить треть записей, мне кажется это достаточно много.\n",
    "</div>"
   ]
  },
  {
   "cell_type": "markdown",
   "metadata": {},
   "source": [
    "<div class=\"alert alert-warning\">\n",
    "<h2>Комментарий ревьюера v2<a class=\"tocSkip\"></a></h2>\n",
    "    \n",
    "**Есть совет** ⚠️: верно, под обработкой в этом случае я имел в виду удаление. В реальных проектах, конечно, нужно было бы поизучать подробнее природу этих дубликатов и проконсультироваться с коллегами по их поводу, но так как такой возможности у нас нет, то придется разбираться самим. Сам факт наличия уникального ID не подтверждает уникальность реального бронирования :) Во-первых, мы не знаем, все ли признаки, которые есть в бронировании, до нас дошли в виде csv файла. Во-вторых, это может быть просто технической ошибкой при записи или выгрузке. В-третьих, не стоит забывать про человеческий фактор: например, сами клиенты могли случайно забронировать номер дважды. А вообще в данных довольно много признаков, позволяющих довольно точно идентифицировать бронирование(день приезда, гражданство и тип заказчика, количество забронированных ночей, дата бронирования(lead time), дополнительные параметры заказа и т.д.), поэтому это больше похоже на техническую ошибку? и я бы в этом случае их удалял, чтобы избежать переобучения, так итоговая оценка будет честнее, даже несмотря на то, что мы теряем ощутимую часть данных. Но в общем случае обязательно нужно разбираться подробнее</div>"
   ]
  },
  {
   "cell_type": "markdown",
   "metadata": {},
   "source": [
    "<b>Test"
   ]
  },
  {
   "cell_type": "code",
   "execution_count": 11,
   "metadata": {},
   "outputs": [
    {
     "data": {
      "text/html": [
       "<div>\n",
       "<style scoped>\n",
       "    .dataframe tbody tr th:only-of-type {\n",
       "        vertical-align: middle;\n",
       "    }\n",
       "\n",
       "    .dataframe tbody tr th {\n",
       "        vertical-align: top;\n",
       "    }\n",
       "\n",
       "    .dataframe thead th {\n",
       "        text-align: right;\n",
       "    }\n",
       "</style>\n",
       "<table border=\"1\" class=\"dataframe\">\n",
       "  <thead>\n",
       "    <tr style=\"text-align: right;\">\n",
       "      <th></th>\n",
       "      <th>id</th>\n",
       "      <th>is_canceled</th>\n",
       "      <th>lead_time</th>\n",
       "      <th>arrival_date_year</th>\n",
       "      <th>arrival_date_month</th>\n",
       "      <th>arrival_date_week_number</th>\n",
       "      <th>arrival_date_day_of_month</th>\n",
       "      <th>stays_in_weekend_nights</th>\n",
       "      <th>stays_in_week_nights</th>\n",
       "      <th>adults</th>\n",
       "      <th>children</th>\n",
       "      <th>babies</th>\n",
       "      <th>meal</th>\n",
       "      <th>country</th>\n",
       "      <th>distribution_channel</th>\n",
       "      <th>is_repeated_guest</th>\n",
       "      <th>previous_cancellations</th>\n",
       "      <th>previous_bookings_not_canceled</th>\n",
       "      <th>reserved_room_type</th>\n",
       "      <th>booking_changes</th>\n",
       "      <th>days_in_waiting_list</th>\n",
       "      <th>customer_type</th>\n",
       "      <th>required_car_parking_spaces</th>\n",
       "      <th>total_of_special_requests</th>\n",
       "      <th>total_nights</th>\n",
       "    </tr>\n",
       "  </thead>\n",
       "  <tbody>\n",
       "    <tr>\n",
       "      <th>0</th>\n",
       "      <td>6086</td>\n",
       "      <td>1</td>\n",
       "      <td>74.0</td>\n",
       "      <td>2017</td>\n",
       "      <td>January</td>\n",
       "      <td>1</td>\n",
       "      <td>1</td>\n",
       "      <td>1</td>\n",
       "      <td>0</td>\n",
       "      <td>2.0</td>\n",
       "      <td>0.0</td>\n",
       "      <td>0.0</td>\n",
       "      <td>BB</td>\n",
       "      <td>PRT</td>\n",
       "      <td>TA/TO</td>\n",
       "      <td>0</td>\n",
       "      <td>0</td>\n",
       "      <td>0</td>\n",
       "      <td>A</td>\n",
       "      <td>0</td>\n",
       "      <td>0</td>\n",
       "      <td>Transient</td>\n",
       "      <td>0</td>\n",
       "      <td>0</td>\n",
       "      <td>1</td>\n",
       "    </tr>\n",
       "    <tr>\n",
       "      <th>1</th>\n",
       "      <td>6087</td>\n",
       "      <td>1</td>\n",
       "      <td>62.0</td>\n",
       "      <td>2017</td>\n",
       "      <td>January</td>\n",
       "      <td>1</td>\n",
       "      <td>1</td>\n",
       "      <td>2</td>\n",
       "      <td>2</td>\n",
       "      <td>2.0</td>\n",
       "      <td>0.0</td>\n",
       "      <td>0.0</td>\n",
       "      <td>BB</td>\n",
       "      <td>AUT</td>\n",
       "      <td>TA/TO</td>\n",
       "      <td>0</td>\n",
       "      <td>0</td>\n",
       "      <td>0</td>\n",
       "      <td>A</td>\n",
       "      <td>0</td>\n",
       "      <td>0</td>\n",
       "      <td>Transient</td>\n",
       "      <td>0</td>\n",
       "      <td>1</td>\n",
       "      <td>4</td>\n",
       "    </tr>\n",
       "    <tr>\n",
       "      <th>2</th>\n",
       "      <td>6088</td>\n",
       "      <td>1</td>\n",
       "      <td>62.0</td>\n",
       "      <td>2017</td>\n",
       "      <td>January</td>\n",
       "      <td>1</td>\n",
       "      <td>1</td>\n",
       "      <td>2</td>\n",
       "      <td>2</td>\n",
       "      <td>2.0</td>\n",
       "      <td>0.0</td>\n",
       "      <td>0.0</td>\n",
       "      <td>BB</td>\n",
       "      <td>AUT</td>\n",
       "      <td>TA/TO</td>\n",
       "      <td>0</td>\n",
       "      <td>0</td>\n",
       "      <td>0</td>\n",
       "      <td>A</td>\n",
       "      <td>0</td>\n",
       "      <td>0</td>\n",
       "      <td>Transient</td>\n",
       "      <td>0</td>\n",
       "      <td>1</td>\n",
       "      <td>4</td>\n",
       "    </tr>\n",
       "    <tr>\n",
       "      <th>3</th>\n",
       "      <td>6089</td>\n",
       "      <td>1</td>\n",
       "      <td>71.0</td>\n",
       "      <td>2017</td>\n",
       "      <td>January</td>\n",
       "      <td>1</td>\n",
       "      <td>1</td>\n",
       "      <td>2</td>\n",
       "      <td>2</td>\n",
       "      <td>1.0</td>\n",
       "      <td>0.0</td>\n",
       "      <td>0.0</td>\n",
       "      <td>BB</td>\n",
       "      <td>PRT</td>\n",
       "      <td>TA/TO</td>\n",
       "      <td>0</td>\n",
       "      <td>0</td>\n",
       "      <td>0</td>\n",
       "      <td>A</td>\n",
       "      <td>0</td>\n",
       "      <td>0</td>\n",
       "      <td>Transient</td>\n",
       "      <td>0</td>\n",
       "      <td>1</td>\n",
       "      <td>4</td>\n",
       "    </tr>\n",
       "    <tr>\n",
       "      <th>4</th>\n",
       "      <td>6090</td>\n",
       "      <td>1</td>\n",
       "      <td>172.0</td>\n",
       "      <td>2017</td>\n",
       "      <td>January</td>\n",
       "      <td>1</td>\n",
       "      <td>1</td>\n",
       "      <td>2</td>\n",
       "      <td>5</td>\n",
       "      <td>2.0</td>\n",
       "      <td>0.0</td>\n",
       "      <td>0.0</td>\n",
       "      <td>BB</td>\n",
       "      <td>BEL</td>\n",
       "      <td>TA/TO</td>\n",
       "      <td>0</td>\n",
       "      <td>0</td>\n",
       "      <td>0</td>\n",
       "      <td>A</td>\n",
       "      <td>0</td>\n",
       "      <td>0</td>\n",
       "      <td>Transient</td>\n",
       "      <td>0</td>\n",
       "      <td>0</td>\n",
       "      <td>7</td>\n",
       "    </tr>\n",
       "  </tbody>\n",
       "</table>\n",
       "</div>"
      ],
      "text/plain": [
       "     id  is_canceled  lead_time  arrival_date_year arrival_date_month  \\\n",
       "0  6086            1       74.0               2017            January   \n",
       "1  6087            1       62.0               2017            January   \n",
       "2  6088            1       62.0               2017            January   \n",
       "3  6089            1       71.0               2017            January   \n",
       "4  6090            1      172.0               2017            January   \n",
       "\n",
       "   arrival_date_week_number  arrival_date_day_of_month  \\\n",
       "0                         1                          1   \n",
       "1                         1                          1   \n",
       "2                         1                          1   \n",
       "3                         1                          1   \n",
       "4                         1                          1   \n",
       "\n",
       "   stays_in_weekend_nights  stays_in_week_nights  adults  children  babies  \\\n",
       "0                        1                     0     2.0       0.0     0.0   \n",
       "1                        2                     2     2.0       0.0     0.0   \n",
       "2                        2                     2     2.0       0.0     0.0   \n",
       "3                        2                     2     1.0       0.0     0.0   \n",
       "4                        2                     5     2.0       0.0     0.0   \n",
       "\n",
       "        meal country distribution_channel  is_repeated_guest  \\\n",
       "0  BB            PRT                TA/TO                  0   \n",
       "1  BB            AUT                TA/TO                  0   \n",
       "2  BB            AUT                TA/TO                  0   \n",
       "3  BB            PRT                TA/TO                  0   \n",
       "4  BB            BEL                TA/TO                  0   \n",
       "\n",
       "   previous_cancellations  previous_bookings_not_canceled reserved_room_type  \\\n",
       "0                       0                               0   A                  \n",
       "1                       0                               0   A                  \n",
       "2                       0                               0   A                  \n",
       "3                       0                               0   A                  \n",
       "4                       0                               0   A                  \n",
       "\n",
       "   booking_changes  days_in_waiting_list customer_type  \\\n",
       "0                0                     0     Transient   \n",
       "1                0                     0     Transient   \n",
       "2                0                     0     Transient   \n",
       "3                0                     0     Transient   \n",
       "4                0                     0     Transient   \n",
       "\n",
       "   required_car_parking_spaces  total_of_special_requests  total_nights  \n",
       "0                            0                          0             1  \n",
       "1                            0                          1             4  \n",
       "2                            0                          1             4  \n",
       "3                            0                          1             4  \n",
       "4                            0                          0             7  "
      ]
     },
     "execution_count": 11,
     "metadata": {},
     "output_type": "execute_result"
    }
   ],
   "source": [
    "df_test.head()"
   ]
  },
  {
   "cell_type": "code",
   "execution_count": 12,
   "metadata": {},
   "outputs": [
    {
     "name": "stdout",
     "output_type": "stream",
     "text": [
      "<class 'pandas.core.frame.DataFrame'>\n",
      "RangeIndex: 32412 entries, 0 to 32411\n",
      "Data columns (total 25 columns):\n",
      " #   Column                          Non-Null Count  Dtype  \n",
      "---  ------                          --------------  -----  \n",
      " 0   id                              32412 non-null  int64  \n",
      " 1   is_canceled                     32412 non-null  int64  \n",
      " 2   lead_time                       32412 non-null  float64\n",
      " 3   arrival_date_year               32412 non-null  int64  \n",
      " 4   arrival_date_month              32412 non-null  object \n",
      " 5   arrival_date_week_number        32412 non-null  int64  \n",
      " 6   arrival_date_day_of_month       32412 non-null  int64  \n",
      " 7   stays_in_weekend_nights         32412 non-null  int64  \n",
      " 8   stays_in_week_nights            32412 non-null  int64  \n",
      " 9   adults                          32412 non-null  float64\n",
      " 10  children                        32412 non-null  float64\n",
      " 11  babies                          32412 non-null  float64\n",
      " 12  meal                            32412 non-null  object \n",
      " 13  country                         32412 non-null  object \n",
      " 14  distribution_channel            32412 non-null  object \n",
      " 15  is_repeated_guest               32412 non-null  int64  \n",
      " 16  previous_cancellations          32412 non-null  int64  \n",
      " 17  previous_bookings_not_canceled  32412 non-null  int64  \n",
      " 18  reserved_room_type              32412 non-null  object \n",
      " 19  booking_changes                 32412 non-null  int64  \n",
      " 20  days_in_waiting_list            32412 non-null  int64  \n",
      " 21  customer_type                   32412 non-null  object \n",
      " 22  required_car_parking_spaces     32412 non-null  int64  \n",
      " 23  total_of_special_requests       32412 non-null  int64  \n",
      " 24  total_nights                    32412 non-null  int64  \n",
      "dtypes: float64(4), int64(15), object(6)\n",
      "memory usage: 6.2+ MB\n"
     ]
    }
   ],
   "source": [
    "df_test.info()"
   ]
  },
  {
   "cell_type": "code",
   "execution_count": 13,
   "metadata": {},
   "outputs": [
    {
     "data": {
      "text/html": [
       "<div>\n",
       "<style scoped>\n",
       "    .dataframe tbody tr th:only-of-type {\n",
       "        vertical-align: middle;\n",
       "    }\n",
       "\n",
       "    .dataframe tbody tr th {\n",
       "        vertical-align: top;\n",
       "    }\n",
       "\n",
       "    .dataframe thead th {\n",
       "        text-align: right;\n",
       "    }\n",
       "</style>\n",
       "<table border=\"1\" class=\"dataframe\">\n",
       "  <thead>\n",
       "    <tr style=\"text-align: right;\">\n",
       "      <th></th>\n",
       "      <th>count</th>\n",
       "      <th>mean</th>\n",
       "      <th>std</th>\n",
       "      <th>min</th>\n",
       "      <th>25%</th>\n",
       "      <th>50%</th>\n",
       "      <th>75%</th>\n",
       "      <th>max</th>\n",
       "    </tr>\n",
       "  </thead>\n",
       "  <tbody>\n",
       "    <tr>\n",
       "      <th>id</th>\n",
       "      <td>32412.0</td>\n",
       "      <td>60131.505183</td>\n",
       "      <td>29953.586177</td>\n",
       "      <td>6086.0</td>\n",
       "      <td>45291.75</td>\n",
       "      <td>53394.5</td>\n",
       "      <td>89800.25</td>\n",
       "      <td>97903.0</td>\n",
       "    </tr>\n",
       "    <tr>\n",
       "      <th>is_canceled</th>\n",
       "      <td>32412.0</td>\n",
       "      <td>0.388467</td>\n",
       "      <td>0.487409</td>\n",
       "      <td>0.0</td>\n",
       "      <td>0.00</td>\n",
       "      <td>0.0</td>\n",
       "      <td>1.00</td>\n",
       "      <td>1.0</td>\n",
       "    </tr>\n",
       "    <tr>\n",
       "      <th>lead_time</th>\n",
       "      <td>32412.0</td>\n",
       "      <td>97.587869</td>\n",
       "      <td>86.507146</td>\n",
       "      <td>0.0</td>\n",
       "      <td>23.00</td>\n",
       "      <td>76.0</td>\n",
       "      <td>155.00</td>\n",
       "      <td>373.0</td>\n",
       "    </tr>\n",
       "    <tr>\n",
       "      <th>arrival_date_year</th>\n",
       "      <td>32412.0</td>\n",
       "      <td>2017.000000</td>\n",
       "      <td>0.000000</td>\n",
       "      <td>2017.0</td>\n",
       "      <td>2017.00</td>\n",
       "      <td>2017.0</td>\n",
       "      <td>2017.00</td>\n",
       "      <td>2017.0</td>\n",
       "    </tr>\n",
       "    <tr>\n",
       "      <th>arrival_date_week_number</th>\n",
       "      <td>32412.0</td>\n",
       "      <td>17.804054</td>\n",
       "      <td>9.177384</td>\n",
       "      <td>1.0</td>\n",
       "      <td>10.00</td>\n",
       "      <td>18.0</td>\n",
       "      <td>25.00</td>\n",
       "      <td>35.0</td>\n",
       "    </tr>\n",
       "    <tr>\n",
       "      <th>arrival_date_day_of_month</th>\n",
       "      <td>32412.0</td>\n",
       "      <td>15.656948</td>\n",
       "      <td>8.766429</td>\n",
       "      <td>1.0</td>\n",
       "      <td>8.00</td>\n",
       "      <td>15.5</td>\n",
       "      <td>23.00</td>\n",
       "      <td>31.0</td>\n",
       "    </tr>\n",
       "    <tr>\n",
       "      <th>stays_in_weekend_nights</th>\n",
       "      <td>32412.0</td>\n",
       "      <td>0.867888</td>\n",
       "      <td>0.853394</td>\n",
       "      <td>0.0</td>\n",
       "      <td>0.00</td>\n",
       "      <td>1.0</td>\n",
       "      <td>2.00</td>\n",
       "      <td>4.0</td>\n",
       "    </tr>\n",
       "    <tr>\n",
       "      <th>stays_in_week_nights</th>\n",
       "      <td>32412.0</td>\n",
       "      <td>2.340090</td>\n",
       "      <td>1.375170</td>\n",
       "      <td>0.0</td>\n",
       "      <td>1.00</td>\n",
       "      <td>2.0</td>\n",
       "      <td>3.00</td>\n",
       "      <td>6.0</td>\n",
       "    </tr>\n",
       "    <tr>\n",
       "      <th>adults</th>\n",
       "      <td>32412.0</td>\n",
       "      <td>1.858602</td>\n",
       "      <td>0.489341</td>\n",
       "      <td>0.0</td>\n",
       "      <td>2.00</td>\n",
       "      <td>2.0</td>\n",
       "      <td>2.00</td>\n",
       "      <td>4.0</td>\n",
       "    </tr>\n",
       "    <tr>\n",
       "      <th>children</th>\n",
       "      <td>32412.0</td>\n",
       "      <td>0.083765</td>\n",
       "      <td>0.343470</td>\n",
       "      <td>0.0</td>\n",
       "      <td>0.00</td>\n",
       "      <td>0.0</td>\n",
       "      <td>0.00</td>\n",
       "      <td>3.0</td>\n",
       "    </tr>\n",
       "    <tr>\n",
       "      <th>babies</th>\n",
       "      <td>32412.0</td>\n",
       "      <td>0.005523</td>\n",
       "      <td>0.075757</td>\n",
       "      <td>0.0</td>\n",
       "      <td>0.00</td>\n",
       "      <td>0.0</td>\n",
       "      <td>0.00</td>\n",
       "      <td>2.0</td>\n",
       "    </tr>\n",
       "    <tr>\n",
       "      <th>is_repeated_guest</th>\n",
       "      <td>32412.0</td>\n",
       "      <td>0.031377</td>\n",
       "      <td>0.174338</td>\n",
       "      <td>0.0</td>\n",
       "      <td>0.00</td>\n",
       "      <td>0.0</td>\n",
       "      <td>0.00</td>\n",
       "      <td>1.0</td>\n",
       "    </tr>\n",
       "    <tr>\n",
       "      <th>previous_cancellations</th>\n",
       "      <td>32412.0</td>\n",
       "      <td>0.011601</td>\n",
       "      <td>0.180473</td>\n",
       "      <td>0.0</td>\n",
       "      <td>0.00</td>\n",
       "      <td>0.0</td>\n",
       "      <td>0.00</td>\n",
       "      <td>6.0</td>\n",
       "    </tr>\n",
       "    <tr>\n",
       "      <th>previous_bookings_not_canceled</th>\n",
       "      <td>32412.0</td>\n",
       "      <td>0.171418</td>\n",
       "      <td>1.875170</td>\n",
       "      <td>0.0</td>\n",
       "      <td>0.00</td>\n",
       "      <td>0.0</td>\n",
       "      <td>0.00</td>\n",
       "      <td>72.0</td>\n",
       "    </tr>\n",
       "    <tr>\n",
       "      <th>booking_changes</th>\n",
       "      <td>32412.0</td>\n",
       "      <td>0.216741</td>\n",
       "      <td>0.640551</td>\n",
       "      <td>0.0</td>\n",
       "      <td>0.00</td>\n",
       "      <td>0.0</td>\n",
       "      <td>0.00</td>\n",
       "      <td>18.0</td>\n",
       "    </tr>\n",
       "    <tr>\n",
       "      <th>days_in_waiting_list</th>\n",
       "      <td>32412.0</td>\n",
       "      <td>0.262341</td>\n",
       "      <td>4.733027</td>\n",
       "      <td>0.0</td>\n",
       "      <td>0.00</td>\n",
       "      <td>0.0</td>\n",
       "      <td>0.00</td>\n",
       "      <td>223.0</td>\n",
       "    </tr>\n",
       "    <tr>\n",
       "      <th>required_car_parking_spaces</th>\n",
       "      <td>32412.0</td>\n",
       "      <td>0.046248</td>\n",
       "      <td>0.219367</td>\n",
       "      <td>0.0</td>\n",
       "      <td>0.00</td>\n",
       "      <td>0.0</td>\n",
       "      <td>0.00</td>\n",
       "      <td>8.0</td>\n",
       "    </tr>\n",
       "    <tr>\n",
       "      <th>total_of_special_requests</th>\n",
       "      <td>32412.0</td>\n",
       "      <td>0.657781</td>\n",
       "      <td>0.834341</td>\n",
       "      <td>0.0</td>\n",
       "      <td>0.00</td>\n",
       "      <td>0.0</td>\n",
       "      <td>1.00</td>\n",
       "      <td>5.0</td>\n",
       "    </tr>\n",
       "    <tr>\n",
       "      <th>total_nights</th>\n",
       "      <td>32412.0</td>\n",
       "      <td>3.207979</td>\n",
       "      <td>1.738683</td>\n",
       "      <td>1.0</td>\n",
       "      <td>2.00</td>\n",
       "      <td>3.0</td>\n",
       "      <td>4.00</td>\n",
       "      <td>10.0</td>\n",
       "    </tr>\n",
       "  </tbody>\n",
       "</table>\n",
       "</div>"
      ],
      "text/plain": [
       "                                  count          mean           std     min  \\\n",
       "id                              32412.0  60131.505183  29953.586177  6086.0   \n",
       "is_canceled                     32412.0      0.388467      0.487409     0.0   \n",
       "lead_time                       32412.0     97.587869     86.507146     0.0   \n",
       "arrival_date_year               32412.0   2017.000000      0.000000  2017.0   \n",
       "arrival_date_week_number        32412.0     17.804054      9.177384     1.0   \n",
       "arrival_date_day_of_month       32412.0     15.656948      8.766429     1.0   \n",
       "stays_in_weekend_nights         32412.0      0.867888      0.853394     0.0   \n",
       "stays_in_week_nights            32412.0      2.340090      1.375170     0.0   \n",
       "adults                          32412.0      1.858602      0.489341     0.0   \n",
       "children                        32412.0      0.083765      0.343470     0.0   \n",
       "babies                          32412.0      0.005523      0.075757     0.0   \n",
       "is_repeated_guest               32412.0      0.031377      0.174338     0.0   \n",
       "previous_cancellations          32412.0      0.011601      0.180473     0.0   \n",
       "previous_bookings_not_canceled  32412.0      0.171418      1.875170     0.0   \n",
       "booking_changes                 32412.0      0.216741      0.640551     0.0   \n",
       "days_in_waiting_list            32412.0      0.262341      4.733027     0.0   \n",
       "required_car_parking_spaces     32412.0      0.046248      0.219367     0.0   \n",
       "total_of_special_requests       32412.0      0.657781      0.834341     0.0   \n",
       "total_nights                    32412.0      3.207979      1.738683     1.0   \n",
       "\n",
       "                                     25%      50%       75%      max  \n",
       "id                              45291.75  53394.5  89800.25  97903.0  \n",
       "is_canceled                         0.00      0.0      1.00      1.0  \n",
       "lead_time                          23.00     76.0    155.00    373.0  \n",
       "arrival_date_year                2017.00   2017.0   2017.00   2017.0  \n",
       "arrival_date_week_number           10.00     18.0     25.00     35.0  \n",
       "arrival_date_day_of_month           8.00     15.5     23.00     31.0  \n",
       "stays_in_weekend_nights             0.00      1.0      2.00      4.0  \n",
       "stays_in_week_nights                1.00      2.0      3.00      6.0  \n",
       "adults                              2.00      2.0      2.00      4.0  \n",
       "children                            0.00      0.0      0.00      3.0  \n",
       "babies                              0.00      0.0      0.00      2.0  \n",
       "is_repeated_guest                   0.00      0.0      0.00      1.0  \n",
       "previous_cancellations              0.00      0.0      0.00      6.0  \n",
       "previous_bookings_not_canceled      0.00      0.0      0.00     72.0  \n",
       "booking_changes                     0.00      0.0      0.00     18.0  \n",
       "days_in_waiting_list                0.00      0.0      0.00    223.0  \n",
       "required_car_parking_spaces         0.00      0.0      0.00      8.0  \n",
       "total_of_special_requests           0.00      0.0      1.00      5.0  \n",
       "total_nights                        2.00      3.0      4.00     10.0  "
      ]
     },
     "execution_count": 13,
     "metadata": {},
     "output_type": "execute_result"
    }
   ],
   "source": [
    "df_test.describe().T"
   ]
  },
  {
   "cell_type": "code",
   "execution_count": 14,
   "metadata": {},
   "outputs": [
    {
     "data": {
      "text/plain": [
       "id                                32412\n",
       "is_canceled                           2\n",
       "lead_time                           368\n",
       "arrival_date_year                     1\n",
       "arrival_date_month                    8\n",
       "arrival_date_week_number             35\n",
       "arrival_date_day_of_month            31\n",
       "stays_in_weekend_nights               5\n",
       "stays_in_week_nights                  7\n",
       "adults                                5\n",
       "children                              4\n",
       "babies                                3\n",
       "meal                                  5\n",
       "country                             143\n",
       "distribution_channel                  4\n",
       "is_repeated_guest                     2\n",
       "previous_cancellations                7\n",
       "previous_bookings_not_canceled       46\n",
       "reserved_room_type                    7\n",
       "booking_changes                      15\n",
       "days_in_waiting_list                 75\n",
       "customer_type                         4\n",
       "required_car_parking_spaces           5\n",
       "total_of_special_requests             6\n",
       "total_nights                         10\n",
       "dtype: int64"
      ]
     },
     "execution_count": 14,
     "metadata": {},
     "output_type": "execute_result"
    }
   ],
   "source": [
    "df_test.nunique()"
   ]
  },
  {
   "cell_type": "code",
   "execution_count": 15,
   "metadata": {},
   "outputs": [
    {
     "data": {
      "text/plain": [
       "0"
      ]
     },
     "execution_count": 15,
     "metadata": {},
     "output_type": "execute_result"
    }
   ],
   "source": [
    "df_test.duplicated().sum()"
   ]
  },
  {
   "cell_type": "code",
   "execution_count": 16,
   "metadata": {},
   "outputs": [
    {
     "data": {
      "text/plain": [
       "7717"
      ]
     },
     "execution_count": 16,
     "metadata": {},
     "output_type": "execute_result"
    }
   ],
   "source": [
    "df_test.drop('id', axis = 1).duplicated().sum()"
   ]
  },
  {
   "cell_type": "markdown",
   "metadata": {},
   "source": [
    "В данных `test` очевидных ошибок не обнаружено. В выборке 32412 записей без пропусков и дубликатов. Если при проверке на дубли не учитывать поле id, то задублинорованными будет 21377 записей."
   ]
  },
  {
   "cell_type": "markdown",
   "metadata": {},
   "source": [
    "**Изучим более детально значения в столбцах**."
   ]
  },
  {
   "cell_type": "markdown",
   "metadata": {},
   "source": [
    "`id`"
   ]
  },
  {
   "cell_type": "markdown",
   "metadata": {},
   "source": [
    "Данное поле не понадобится, поэтому сразу удалим."
   ]
  },
  {
   "cell_type": "code",
   "execution_count": 17,
   "metadata": {
    "scrolled": true
   },
   "outputs": [],
   "source": [
    "df_train = df_train.drop('id', axis = 1)\n",
    "df_test = df_test.drop('id', axis = 1)"
   ]
  },
  {
   "cell_type": "markdown",
   "metadata": {},
   "source": [
    "`is_canceled`"
   ]
  },
  {
   "cell_type": "code",
   "execution_count": 18,
   "metadata": {},
   "outputs": [
    {
     "data": {
      "text/plain": [
       "0    0.631391\n",
       "1    0.368609\n",
       "Name: is_canceled, dtype: float64"
      ]
     },
     "execution_count": 18,
     "metadata": {},
     "output_type": "execute_result"
    }
   ],
   "source": [
    " df_train['is_canceled'].value_counts(normalize=True)"
   ]
  },
  {
   "cell_type": "markdown",
   "metadata": {},
   "source": [
    "Целевой признак `is_canceled` не сбалансирован, это нужно будет учесть при обучении модели."
   ]
  },
  {
   "cell_type": "markdown",
   "metadata": {},
   "source": [
    "<div class=\"alert alert-success\">\n",
    "<h2>Комментарий ревьюера<a class=\"tocSkip\"></a></h2>\n",
    "    \n",
    "**Отлично!** ✔️: здорово, что изучаешь соотношение классов!</div>"
   ]
  },
  {
   "cell_type": "code",
   "execution_count": 19,
   "metadata": {},
   "outputs": [
    {
     "data": {
      "text/plain": [
       "0    0.611533\n",
       "1    0.388467\n",
       "Name: is_canceled, dtype: float64"
      ]
     },
     "execution_count": 19,
     "metadata": {},
     "output_type": "execute_result"
    }
   ],
   "source": [
    "df_test['is_canceled'].value_counts(normalize=True)"
   ]
  },
  {
   "cell_type": "markdown",
   "metadata": {},
   "source": [
    "`lead_time`"
   ]
  },
  {
   "cell_type": "code",
   "execution_count": 20,
   "metadata": {},
   "outputs": [
    {
     "data": {
      "text/plain": [
       "<AxesSubplot:>"
      ]
     },
     "execution_count": 20,
     "metadata": {},
     "output_type": "execute_result"
    },
    {
     "data": {
      "image/png": "[encoded data removed]",
      "text/plain": [
       "<Figure size 432x288 with 1 Axes>"
      ]
     },
     "metadata": {
      "needs_background": "light"
     },
     "output_type": "display_data"
    }
   ],
   "source": [
    "df_train['lead_time'].hist()"
   ]
  },
  {
   "cell_type": "code",
   "execution_count": 21,
   "metadata": {},
   "outputs": [
    {
     "data": {
      "text/plain": [
       "<AxesSubplot:>"
      ]
     },
     "execution_count": 21,
     "metadata": {},
     "output_type": "execute_result"
    },
    {
     "data": {
      "image/png": "[encoded data removed]",
      "text/plain": [
       "<Figure size 432x288 with 1 Axes>"
      ]
     },
     "metadata": {
      "needs_background": "light"
     },
     "output_type": "display_data"
    }
   ],
   "source": [
    "df_test['lead_time'].hist()"
   ]
  },
  {
   "cell_type": "markdown",
   "metadata": {},
   "source": [
    "`arrival_date_year` "
   ]
  },
  {
   "cell_type": "markdown",
   "metadata": {},
   "source": [
    "Данное поле не пригодится в обучении модели, поэтому удалим."
   ]
  },
  {
   "cell_type": "code",
   "execution_count": 22,
   "metadata": {},
   "outputs": [],
   "source": [
    "df_train = df_train.drop('arrival_date_year', axis = 1)\n",
    "df_test = df_test.drop('arrival_date_year', axis = 1)"
   ]
  },
  {
   "cell_type": "markdown",
   "metadata": {},
   "source": [
    "<div class=\"alert alert-success\">\n",
    "<h2>Комментарий ревьюера<a class=\"tocSkip\"></a></h2>\n",
    "    \n",
    "**Отлично!** ✔️: согласен, ведь модели не придется делать предсказаний для прошлых лет</div>"
   ]
  },
  {
   "cell_type": "markdown",
   "metadata": {},
   "source": [
    "`arrival_date_month`"
   ]
  },
  {
   "cell_type": "code",
   "execution_count": 23,
   "metadata": {
    "scrolled": true
   },
   "outputs": [
    {
     "data": {
      "text/plain": [
       "array(['July', 'August', 'September', 'October', 'November', 'December',\n",
       "       'January', 'February', 'March', 'April', 'May', 'June'],\n",
       "      dtype=object)"
      ]
     },
     "execution_count": 23,
     "metadata": {},
     "output_type": "execute_result"
    }
   ],
   "source": [
    "df_train['arrival_date_month'].unique()"
   ]
  },
  {
   "cell_type": "code",
   "execution_count": 24,
   "metadata": {},
   "outputs": [
    {
     "data": {
      "text/plain": [
       "array(['January', 'February', 'March', 'April', 'May', 'June', 'July',\n",
       "       'August'], dtype=object)"
      ]
     },
     "execution_count": 24,
     "metadata": {},
     "output_type": "execute_result"
    }
   ],
   "source": [
    "df_test['arrival_date_month'].unique()"
   ]
  },
  {
   "cell_type": "markdown",
   "metadata": {},
   "source": [
    "`arrival_dat_week_number`"
   ]
  },
  {
   "cell_type": "code",
   "execution_count": 25,
   "metadata": {
    "scrolled": true
   },
   "outputs": [
    {
     "data": {
      "text/plain": [
       "array([27, 28, 29, 30, 31, 32, 33, 34, 35, 36, 37, 38, 39, 40, 41, 42, 43,\n",
       "       44, 45, 46, 47, 48, 49, 50, 51, 52, 53,  1,  2,  3,  4,  5,  6,  7,\n",
       "        8,  9, 10, 11, 12, 13, 14, 15, 16, 17, 18, 19, 20, 21, 22, 23, 24,\n",
       "       25, 26])"
      ]
     },
     "execution_count": 25,
     "metadata": {},
     "output_type": "execute_result"
    }
   ],
   "source": [
    "df_train['arrival_date_week_number'].unique()"
   ]
  },
  {
   "cell_type": "code",
   "execution_count": 26,
   "metadata": {},
   "outputs": [
    {
     "data": {
      "text/plain": [
       "array([ 1,  2,  3,  4,  5,  6,  7,  8,  9, 10, 11, 12, 13, 14, 15, 16, 17,\n",
       "       18, 19, 20, 21, 22, 23, 24, 25, 26, 27, 28, 29, 30, 31, 32, 33, 34,\n",
       "       35])"
      ]
     },
     "execution_count": 26,
     "metadata": {},
     "output_type": "execute_result"
    }
   ],
   "source": [
    "df_test['arrival_date_week_number'].unique()"
   ]
  },
  {
   "cell_type": "markdown",
   "metadata": {},
   "source": [
    "`arrival_date_day_of_month`"
   ]
  },
  {
   "cell_type": "code",
   "execution_count": 27,
   "metadata": {
    "scrolled": true
   },
   "outputs": [
    {
     "data": {
      "text/plain": [
       "array([ 1,  2,  3,  4,  5,  6,  7,  8,  9, 10, 11, 12, 13, 14, 15, 16, 17,\n",
       "       18, 19, 20, 21, 22, 23, 24, 25, 26, 27, 28, 29, 30, 31])"
      ]
     },
     "execution_count": 27,
     "metadata": {},
     "output_type": "execute_result"
    }
   ],
   "source": [
    "df_train['arrival_date_day_of_month'].unique()"
   ]
  },
  {
   "cell_type": "code",
   "execution_count": 28,
   "metadata": {},
   "outputs": [
    {
     "data": {
      "text/plain": [
       "array([ 1,  2,  3,  4,  5,  6,  7,  8,  9, 11, 12, 13, 14, 16, 17, 19, 20,\n",
       "       21, 22, 23, 24, 25, 26, 27, 28, 29, 30, 31, 10, 15, 18])"
      ]
     },
     "execution_count": 28,
     "metadata": {},
     "output_type": "execute_result"
    }
   ],
   "source": [
    "df_test['arrival_date_day_of_month'].unique()"
   ]
  },
  {
   "cell_type": "markdown",
   "metadata": {},
   "source": [
    "`stays_in_weekend_nights`"
   ]
  },
  {
   "cell_type": "code",
   "execution_count": 29,
   "metadata": {},
   "outputs": [
    {
     "data": {
      "text/plain": [
       "array([0, 2, 1, 4, 3])"
      ]
     },
     "execution_count": 29,
     "metadata": {},
     "output_type": "execute_result"
    }
   ],
   "source": [
    "df_train['stays_in_weekend_nights'].unique()"
   ]
  },
  {
   "cell_type": "code",
   "execution_count": 30,
   "metadata": {},
   "outputs": [
    {
     "data": {
      "text/plain": [
       "array([1, 2, 0, 4, 3])"
      ]
     },
     "execution_count": 30,
     "metadata": {},
     "output_type": "execute_result"
    }
   ],
   "source": [
    "df_test['stays_in_weekend_nights'].unique()"
   ]
  },
  {
   "cell_type": "markdown",
   "metadata": {},
   "source": [
    "`stays_in_week_nights`"
   ]
  },
  {
   "cell_type": "code",
   "execution_count": 31,
   "metadata": {},
   "outputs": [
    {
     "data": {
      "text/plain": [
       "array([1, 2, 3, 4, 5, 6, 0])"
      ]
     },
     "execution_count": 31,
     "metadata": {},
     "output_type": "execute_result"
    }
   ],
   "source": [
    "df_train['stays_in_week_nights'].unique()"
   ]
  },
  {
   "cell_type": "code",
   "execution_count": 32,
   "metadata": {},
   "outputs": [
    {
     "data": {
      "text/plain": [
       "array([1, 2, 0, 4, 3])"
      ]
     },
     "execution_count": 32,
     "metadata": {},
     "output_type": "execute_result"
    }
   ],
   "source": [
    "df_test['stays_in_weekend_nights'].unique()"
   ]
  },
  {
   "cell_type": "markdown",
   "metadata": {},
   "source": [
    "`adults`"
   ]
  },
  {
   "cell_type": "code",
   "execution_count": 33,
   "metadata": {
    "scrolled": true
   },
   "outputs": [
    {
     "data": {
      "text/plain": [
       "array([1., 2., 3., 4., 0.])"
      ]
     },
     "execution_count": 33,
     "metadata": {},
     "output_type": "execute_result"
    }
   ],
   "source": [
    "df_train['adults'].unique()"
   ]
  },
  {
   "cell_type": "code",
   "execution_count": 34,
   "metadata": {},
   "outputs": [
    {
     "data": {
      "text/plain": [
       "array([2., 1., 3., 4., 0.])"
      ]
     },
     "execution_count": 34,
     "metadata": {},
     "output_type": "execute_result"
    }
   ],
   "source": [
    "df_test['adults'].unique()"
   ]
  },
  {
   "cell_type": "code",
   "execution_count": 35,
   "metadata": {
    "scrolled": true
   },
   "outputs": [
    {
     "data": {
      "text/html": [
       "<div>\n",
       "<style scoped>\n",
       "    .dataframe tbody tr th:only-of-type {\n",
       "        vertical-align: middle;\n",
       "    }\n",
       "\n",
       "    .dataframe tbody tr th {\n",
       "        vertical-align: top;\n",
       "    }\n",
       "\n",
       "    .dataframe thead th {\n",
       "        text-align: right;\n",
       "    }\n",
       "</style>\n",
       "<table border=\"1\" class=\"dataframe\">\n",
       "  <thead>\n",
       "    <tr style=\"text-align: right;\">\n",
       "      <th></th>\n",
       "      <th>is_canceled</th>\n",
       "      <th>lead_time</th>\n",
       "      <th>arrival_date_month</th>\n",
       "      <th>arrival_date_week_number</th>\n",
       "      <th>arrival_date_day_of_month</th>\n",
       "      <th>stays_in_weekend_nights</th>\n",
       "      <th>stays_in_week_nights</th>\n",
       "      <th>adults</th>\n",
       "      <th>children</th>\n",
       "      <th>babies</th>\n",
       "      <th>meal</th>\n",
       "      <th>country</th>\n",
       "      <th>distribution_channel</th>\n",
       "      <th>is_repeated_guest</th>\n",
       "      <th>previous_cancellations</th>\n",
       "      <th>previous_bookings_not_canceled</th>\n",
       "      <th>reserved_room_type</th>\n",
       "      <th>booking_changes</th>\n",
       "      <th>days_in_waiting_list</th>\n",
       "      <th>customer_type</th>\n",
       "      <th>required_car_parking_spaces</th>\n",
       "      <th>total_of_special_requests</th>\n",
       "      <th>total_nights</th>\n",
       "    </tr>\n",
       "  </thead>\n",
       "  <tbody>\n",
       "    <tr>\n",
       "      <th>22534</th>\n",
       "      <td>0</td>\n",
       "      <td>6.0</td>\n",
       "      <td>December</td>\n",
       "      <td>51</td>\n",
       "      <td>18</td>\n",
       "      <td>0</td>\n",
       "      <td>1</td>\n",
       "      <td>0.0</td>\n",
       "      <td>2.0</td>\n",
       "      <td>1.0</td>\n",
       "      <td>BB</td>\n",
       "      <td>PRT</td>\n",
       "      <td>TA/TO</td>\n",
       "      <td>0</td>\n",
       "      <td>0</td>\n",
       "      <td>0</td>\n",
       "      <td>B</td>\n",
       "      <td>0</td>\n",
       "      <td>0</td>\n",
       "      <td>Transient-Party</td>\n",
       "      <td>0</td>\n",
       "      <td>2</td>\n",
       "      <td>1</td>\n",
       "    </tr>\n",
       "    <tr>\n",
       "      <th>44049</th>\n",
       "      <td>1</td>\n",
       "      <td>22.0</td>\n",
       "      <td>December</td>\n",
       "      <td>50</td>\n",
       "      <td>9</td>\n",
       "      <td>1</td>\n",
       "      <td>4</td>\n",
       "      <td>0.0</td>\n",
       "      <td>2.0</td>\n",
       "      <td>1.0</td>\n",
       "      <td>BB</td>\n",
       "      <td>PRT</td>\n",
       "      <td>Direct</td>\n",
       "      <td>0</td>\n",
       "      <td>0</td>\n",
       "      <td>0</td>\n",
       "      <td>B</td>\n",
       "      <td>1</td>\n",
       "      <td>0</td>\n",
       "      <td>Transient</td>\n",
       "      <td>0</td>\n",
       "      <td>1</td>\n",
       "      <td>5</td>\n",
       "    </tr>\n",
       "    <tr>\n",
       "      <th>52923</th>\n",
       "      <td>0</td>\n",
       "      <td>14.0</td>\n",
       "      <td>June</td>\n",
       "      <td>24</td>\n",
       "      <td>9</td>\n",
       "      <td>0</td>\n",
       "      <td>3</td>\n",
       "      <td>0.0</td>\n",
       "      <td>2.0</td>\n",
       "      <td>1.0</td>\n",
       "      <td>BB</td>\n",
       "      <td>ITA</td>\n",
       "      <td>TA/TO</td>\n",
       "      <td>0</td>\n",
       "      <td>0</td>\n",
       "      <td>0</td>\n",
       "      <td>B</td>\n",
       "      <td>2</td>\n",
       "      <td>0</td>\n",
       "      <td>Transient</td>\n",
       "      <td>0</td>\n",
       "      <td>2</td>\n",
       "      <td>3</td>\n",
       "    </tr>\n",
       "  </tbody>\n",
       "</table>\n",
       "</div>"
      ],
      "text/plain": [
       "       is_canceled  lead_time arrival_date_month  arrival_date_week_number  \\\n",
       "22534            0        6.0           December                        51   \n",
       "44049            1       22.0           December                        50   \n",
       "52923            0       14.0               June                        24   \n",
       "\n",
       "       arrival_date_day_of_month  stays_in_weekend_nights  \\\n",
       "22534                         18                        0   \n",
       "44049                          9                        1   \n",
       "52923                          9                        0   \n",
       "\n",
       "       stays_in_week_nights  adults  children  babies       meal country  \\\n",
       "22534                     1     0.0       2.0     1.0  BB            PRT   \n",
       "44049                     4     0.0       2.0     1.0  BB            PRT   \n",
       "52923                     3     0.0       2.0     1.0  BB            ITA   \n",
       "\n",
       "      distribution_channel  is_repeated_guest  previous_cancellations  \\\n",
       "22534                TA/TO                  0                       0   \n",
       "44049               Direct                  0                       0   \n",
       "52923                TA/TO                  0                       0   \n",
       "\n",
       "       previous_bookings_not_canceled reserved_room_type  booking_changes  \\\n",
       "22534                               0   B                               0   \n",
       "44049                               0   B                               1   \n",
       "52923                               0   B                               2   \n",
       "\n",
       "       days_in_waiting_list    customer_type  required_car_parking_spaces  \\\n",
       "22534                     0  Transient-Party                            0   \n",
       "44049                     0        Transient                            0   \n",
       "52923                     0        Transient                            0   \n",
       "\n",
       "       total_of_special_requests  total_nights  \n",
       "22534                          2             1  \n",
       "44049                          1             5  \n",
       "52923                          2             3  "
      ]
     },
     "execution_count": 35,
     "metadata": {},
     "output_type": "execute_result"
    }
   ],
   "source": [
    "df_train[(df_train['adults'] == 0) & (df_train['babies'] > 0)]"
   ]
  },
  {
   "cell_type": "code",
   "execution_count": 36,
   "metadata": {},
   "outputs": [
    {
     "data": {
      "text/html": [
       "<div>\n",
       "<style scoped>\n",
       "    .dataframe tbody tr th:only-of-type {\n",
       "        vertical-align: middle;\n",
       "    }\n",
       "\n",
       "    .dataframe tbody tr th {\n",
       "        vertical-align: top;\n",
       "    }\n",
       "\n",
       "    .dataframe thead th {\n",
       "        text-align: right;\n",
       "    }\n",
       "</style>\n",
       "<table border=\"1\" class=\"dataframe\">\n",
       "  <thead>\n",
       "    <tr style=\"text-align: right;\">\n",
       "      <th></th>\n",
       "      <th>is_canceled</th>\n",
       "      <th>lead_time</th>\n",
       "      <th>arrival_date_month</th>\n",
       "      <th>arrival_date_week_number</th>\n",
       "      <th>arrival_date_day_of_month</th>\n",
       "      <th>stays_in_weekend_nights</th>\n",
       "      <th>stays_in_week_nights</th>\n",
       "      <th>adults</th>\n",
       "      <th>children</th>\n",
       "      <th>babies</th>\n",
       "      <th>meal</th>\n",
       "      <th>country</th>\n",
       "      <th>distribution_channel</th>\n",
       "      <th>is_repeated_guest</th>\n",
       "      <th>previous_cancellations</th>\n",
       "      <th>previous_bookings_not_canceled</th>\n",
       "      <th>reserved_room_type</th>\n",
       "      <th>booking_changes</th>\n",
       "      <th>days_in_waiting_list</th>\n",
       "      <th>customer_type</th>\n",
       "      <th>required_car_parking_spaces</th>\n",
       "      <th>total_of_special_requests</th>\n",
       "      <th>total_nights</th>\n",
       "    </tr>\n",
       "  </thead>\n",
       "  <tbody>\n",
       "  </tbody>\n",
       "</table>\n",
       "</div>"
      ],
      "text/plain": [
       "Empty DataFrame\n",
       "Columns: [is_canceled, lead_time, arrival_date_month, arrival_date_week_number, arrival_date_day_of_month, stays_in_weekend_nights, stays_in_week_nights, adults, children, babies, meal, country, distribution_channel, is_repeated_guest, previous_cancellations, previous_bookings_not_canceled, reserved_room_type, booking_changes, days_in_waiting_list, customer_type, required_car_parking_spaces, total_of_special_requests, total_nights]\n",
       "Index: []"
      ]
     },
     "execution_count": 36,
     "metadata": {},
     "output_type": "execute_result"
    }
   ],
   "source": [
    "df_test[(df_test['adults'] == 0) & (df_test['babies'] > 0)]"
   ]
  },
  {
   "cell_type": "markdown",
   "metadata": {},
   "source": [
    "В таблице `train` есть три записи без взрослых, но с младенцами. Похоже на ошибку, исключим эти записи из таблицы."
   ]
  },
  {
   "cell_type": "code",
   "execution_count": 37,
   "metadata": {},
   "outputs": [],
   "source": [
    "df_train = df_train[(df_train['adults'] != 0) | (df_train['babies'] == 0)]"
   ]
  },
  {
   "cell_type": "markdown",
   "metadata": {},
   "source": [
    "<div class=\"alert alert-warning\">\n",
    "<h2>Комментарий ревьюера<a class=\"tocSkip\"></a></h2>\n",
    "    \n",
    "**Есть совет** ⚠️: окей, но детям без взрослых сдать номер не могут, поэтому все бронирования без взрослых похожи на аномалии</div>"
   ]
  },
  {
   "cell_type": "markdown",
   "metadata": {},
   "source": [
    "<div class=\"alert alert-info\">\n",
    "    <b>Комментарий студента v1:</b> Я думал об этом, и даже специально погуглил. Например, в России дети с 14 до 18 могут жить в гостинице одни без взрослого, поэтому не стал удалять. https://yandex.ru/search/?text=%D0%BC%D0%BE%D0%B6%D0%B5%D1%82+%D0%BB%D0%B8+%D1%80%D0%B5%D0%B1%D0%B5%D0%BD%D0%BE%D0%BA+%D1%81%D0%BD%D1%8F%D1%82%D1%8C+%D0%BD%D0%BE%D0%BC%D0%B5%D1%80+%D0%B1%D0%B5%D0%B7+%D0%B2%D0%B7%D1%80%D0%BE%D1%81%D0%BB%D0%BE%D0%B3%D0%BE&lr=115746 \n",
    "</div>"
   ]
  },
  {
   "cell_type": "markdown",
   "metadata": {},
   "source": [
    "<div class=\"alert alert-warning\">\n",
    "<h2>Комментарий ревьюера v2<a class=\"tocSkip\"></a></h2>\n",
    "    \n",
    "**Есть совет** ⚠️: верно, но согласно описанию данных, в поле `children` указано количество детей до 14 лет, а они без взрослых снять номер уже не могут. А подростки с 14 до 18, вероятно, считаются уже взрослыми</div>"
   ]
  },
  {
   "cell_type": "markdown",
   "metadata": {},
   "source": [
    "`children`"
   ]
  },
  {
   "cell_type": "code",
   "execution_count": 38,
   "metadata": {},
   "outputs": [
    {
     "data": {
      "text/plain": [
       "array([0., 1., 2., 3.])"
      ]
     },
     "execution_count": 38,
     "metadata": {},
     "output_type": "execute_result"
    }
   ],
   "source": [
    "df_train['children'].unique()"
   ]
  },
  {
   "cell_type": "code",
   "execution_count": 39,
   "metadata": {},
   "outputs": [
    {
     "data": {
      "text/plain": [
       "array([0., 2., 1., 3.])"
      ]
     },
     "execution_count": 39,
     "metadata": {},
     "output_type": "execute_result"
    }
   ],
   "source": [
    "df_test['children'].unique()"
   ]
  },
  {
   "cell_type": "markdown",
   "metadata": {},
   "source": [
    "`babies`"
   ]
  },
  {
   "cell_type": "code",
   "execution_count": 40,
   "metadata": {},
   "outputs": [
    {
     "data": {
      "text/plain": [
       "array([ 0.,  1.,  2., 10.,  9.])"
      ]
     },
     "execution_count": 40,
     "metadata": {},
     "output_type": "execute_result"
    }
   ],
   "source": [
    "df_train['babies'].unique()"
   ]
  },
  {
   "cell_type": "code",
   "execution_count": 41,
   "metadata": {},
   "outputs": [
    {
     "data": {
      "text/plain": [
       "array([0., 1., 2.])"
      ]
     },
     "execution_count": 41,
     "metadata": {},
     "output_type": "execute_result"
    }
   ],
   "source": [
    "df_test['babies'].unique()"
   ]
  },
  {
   "cell_type": "code",
   "execution_count": 42,
   "metadata": {
    "scrolled": true
   },
   "outputs": [
    {
     "data": {
      "text/html": [
       "<div>\n",
       "<style scoped>\n",
       "    .dataframe tbody tr th:only-of-type {\n",
       "        vertical-align: middle;\n",
       "    }\n",
       "\n",
       "    .dataframe tbody tr th {\n",
       "        vertical-align: top;\n",
       "    }\n",
       "\n",
       "    .dataframe thead th {\n",
       "        text-align: right;\n",
       "    }\n",
       "</style>\n",
       "<table border=\"1\" class=\"dataframe\">\n",
       "  <thead>\n",
       "    <tr style=\"text-align: right;\">\n",
       "      <th></th>\n",
       "      <th>is_canceled</th>\n",
       "      <th>lead_time</th>\n",
       "      <th>arrival_date_month</th>\n",
       "      <th>arrival_date_week_number</th>\n",
       "      <th>arrival_date_day_of_month</th>\n",
       "      <th>stays_in_weekend_nights</th>\n",
       "      <th>stays_in_week_nights</th>\n",
       "      <th>adults</th>\n",
       "      <th>children</th>\n",
       "      <th>babies</th>\n",
       "      <th>meal</th>\n",
       "      <th>country</th>\n",
       "      <th>distribution_channel</th>\n",
       "      <th>is_repeated_guest</th>\n",
       "      <th>previous_cancellations</th>\n",
       "      <th>previous_bookings_not_canceled</th>\n",
       "      <th>reserved_room_type</th>\n",
       "      <th>booking_changes</th>\n",
       "      <th>days_in_waiting_list</th>\n",
       "      <th>customer_type</th>\n",
       "      <th>required_car_parking_spaces</th>\n",
       "      <th>total_of_special_requests</th>\n",
       "      <th>total_nights</th>\n",
       "    </tr>\n",
       "  </thead>\n",
       "  <tbody>\n",
       "    <tr>\n",
       "      <th>22995</th>\n",
       "      <td>0</td>\n",
       "      <td>37.0</td>\n",
       "      <td>January</td>\n",
       "      <td>3</td>\n",
       "      <td>12</td>\n",
       "      <td>0</td>\n",
       "      <td>2</td>\n",
       "      <td>2.0</td>\n",
       "      <td>0.0</td>\n",
       "      <td>10.0</td>\n",
       "      <td>BB</td>\n",
       "      <td>PRT</td>\n",
       "      <td>TA/TO</td>\n",
       "      <td>0</td>\n",
       "      <td>0</td>\n",
       "      <td>0</td>\n",
       "      <td>D</td>\n",
       "      <td>1</td>\n",
       "      <td>0</td>\n",
       "      <td>Transient</td>\n",
       "      <td>0</td>\n",
       "      <td>1</td>\n",
       "      <td>2</td>\n",
       "    </tr>\n",
       "    <tr>\n",
       "      <th>41528</th>\n",
       "      <td>0</td>\n",
       "      <td>11.0</td>\n",
       "      <td>October</td>\n",
       "      <td>42</td>\n",
       "      <td>11</td>\n",
       "      <td>2</td>\n",
       "      <td>1</td>\n",
       "      <td>1.0</td>\n",
       "      <td>0.0</td>\n",
       "      <td>9.0</td>\n",
       "      <td>BB</td>\n",
       "      <td>GBR</td>\n",
       "      <td>Corporate</td>\n",
       "      <td>0</td>\n",
       "      <td>0</td>\n",
       "      <td>0</td>\n",
       "      <td>A</td>\n",
       "      <td>1</td>\n",
       "      <td>0</td>\n",
       "      <td>Transient-Party</td>\n",
       "      <td>0</td>\n",
       "      <td>0</td>\n",
       "      <td>3</td>\n",
       "    </tr>\n",
       "  </tbody>\n",
       "</table>\n",
       "</div>"
      ],
      "text/plain": [
       "       is_canceled  lead_time arrival_date_month  arrival_date_week_number  \\\n",
       "22995            0       37.0            January                         3   \n",
       "41528            0       11.0            October                        42   \n",
       "\n",
       "       arrival_date_day_of_month  stays_in_weekend_nights  \\\n",
       "22995                         12                        0   \n",
       "41528                         11                        2   \n",
       "\n",
       "       stays_in_week_nights  adults  children  babies       meal country  \\\n",
       "22995                     2     2.0       0.0    10.0  BB            PRT   \n",
       "41528                     1     1.0       0.0     9.0  BB            GBR   \n",
       "\n",
       "      distribution_channel  is_repeated_guest  previous_cancellations  \\\n",
       "22995                TA/TO                  0                       0   \n",
       "41528            Corporate                  0                       0   \n",
       "\n",
       "       previous_bookings_not_canceled reserved_room_type  booking_changes  \\\n",
       "22995                               0   D                               1   \n",
       "41528                               0   A                               1   \n",
       "\n",
       "       days_in_waiting_list    customer_type  required_car_parking_spaces  \\\n",
       "22995                     0        Transient                            0   \n",
       "41528                     0  Transient-Party                            0   \n",
       "\n",
       "       total_of_special_requests  total_nights  \n",
       "22995                          1             2  \n",
       "41528                          0             3  "
      ]
     },
     "execution_count": 42,
     "metadata": {},
     "output_type": "execute_result"
    }
   ],
   "source": [
    "df_train[df_train['babies'] > 2]"
   ]
  },
  {
   "cell_type": "markdown",
   "metadata": {},
   "source": [
    "В таблице `train` есть две записи с количеством младенцев 9 и 10. Похоже на ошибку в данных, поэтому удалим эти записи."
   ]
  },
  {
   "cell_type": "code",
   "execution_count": 43,
   "metadata": {},
   "outputs": [],
   "source": [
    "df_train = df_train[df_train['babies'] <= 2]"
   ]
  },
  {
   "cell_type": "code",
   "execution_count": 44,
   "metadata": {},
   "outputs": [
    {
     "data": {
      "text/html": [
       "<div>\n",
       "<style scoped>\n",
       "    .dataframe tbody tr th:only-of-type {\n",
       "        vertical-align: middle;\n",
       "    }\n",
       "\n",
       "    .dataframe tbody tr th {\n",
       "        vertical-align: top;\n",
       "    }\n",
       "\n",
       "    .dataframe thead th {\n",
       "        text-align: right;\n",
       "    }\n",
       "</style>\n",
       "<table border=\"1\" class=\"dataframe\">\n",
       "  <thead>\n",
       "    <tr style=\"text-align: right;\">\n",
       "      <th></th>\n",
       "      <th>is_canceled</th>\n",
       "      <th>lead_time</th>\n",
       "      <th>arrival_date_month</th>\n",
       "      <th>arrival_date_week_number</th>\n",
       "      <th>arrival_date_day_of_month</th>\n",
       "      <th>stays_in_weekend_nights</th>\n",
       "      <th>stays_in_week_nights</th>\n",
       "      <th>adults</th>\n",
       "      <th>children</th>\n",
       "      <th>babies</th>\n",
       "      <th>meal</th>\n",
       "      <th>country</th>\n",
       "      <th>distribution_channel</th>\n",
       "      <th>is_repeated_guest</th>\n",
       "      <th>previous_cancellations</th>\n",
       "      <th>previous_bookings_not_canceled</th>\n",
       "      <th>reserved_room_type</th>\n",
       "      <th>booking_changes</th>\n",
       "      <th>days_in_waiting_list</th>\n",
       "      <th>customer_type</th>\n",
       "      <th>required_car_parking_spaces</th>\n",
       "      <th>total_of_special_requests</th>\n",
       "      <th>total_nights</th>\n",
       "    </tr>\n",
       "  </thead>\n",
       "  <tbody>\n",
       "    <tr>\n",
       "      <th>7390</th>\n",
       "      <td>0</td>\n",
       "      <td>174.0</td>\n",
       "      <td>September</td>\n",
       "      <td>36</td>\n",
       "      <td>2</td>\n",
       "      <td>1</td>\n",
       "      <td>4</td>\n",
       "      <td>2.0</td>\n",
       "      <td>0.0</td>\n",
       "      <td>2.0</td>\n",
       "      <td>HB</td>\n",
       "      <td>PRT</td>\n",
       "      <td>Direct</td>\n",
       "      <td>0</td>\n",
       "      <td>0</td>\n",
       "      <td>0</td>\n",
       "      <td>C</td>\n",
       "      <td>1</td>\n",
       "      <td>0</td>\n",
       "      <td>Transient</td>\n",
       "      <td>1</td>\n",
       "      <td>2</td>\n",
       "      <td>5</td>\n",
       "    </tr>\n",
       "    <tr>\n",
       "      <th>15516</th>\n",
       "      <td>0</td>\n",
       "      <td>47.0</td>\n",
       "      <td>November</td>\n",
       "      <td>45</td>\n",
       "      <td>5</td>\n",
       "      <td>2</td>\n",
       "      <td>2</td>\n",
       "      <td>2.0</td>\n",
       "      <td>0.0</td>\n",
       "      <td>2.0</td>\n",
       "      <td>HB</td>\n",
       "      <td>GBR</td>\n",
       "      <td>TA/TO</td>\n",
       "      <td>0</td>\n",
       "      <td>0</td>\n",
       "      <td>0</td>\n",
       "      <td>A</td>\n",
       "      <td>1</td>\n",
       "      <td>0</td>\n",
       "      <td>Transient</td>\n",
       "      <td>0</td>\n",
       "      <td>5</td>\n",
       "      <td>4</td>\n",
       "    </tr>\n",
       "    <tr>\n",
       "      <th>56050</th>\n",
       "      <td>0</td>\n",
       "      <td>4.0</td>\n",
       "      <td>July</td>\n",
       "      <td>31</td>\n",
       "      <td>27</td>\n",
       "      <td>0</td>\n",
       "      <td>4</td>\n",
       "      <td>2.0</td>\n",
       "      <td>0.0</td>\n",
       "      <td>2.0</td>\n",
       "      <td>BB</td>\n",
       "      <td>DNK</td>\n",
       "      <td>TA/TO</td>\n",
       "      <td>0</td>\n",
       "      <td>0</td>\n",
       "      <td>0</td>\n",
       "      <td>D</td>\n",
       "      <td>2</td>\n",
       "      <td>0</td>\n",
       "      <td>Transient</td>\n",
       "      <td>0</td>\n",
       "      <td>2</td>\n",
       "      <td>4</td>\n",
       "    </tr>\n",
       "  </tbody>\n",
       "</table>\n",
       "</div>"
      ],
      "text/plain": [
       "       is_canceled  lead_time arrival_date_month  arrival_date_week_number  \\\n",
       "7390             0      174.0          September                        36   \n",
       "15516            0       47.0           November                        45   \n",
       "56050            0        4.0               July                        31   \n",
       "\n",
       "       arrival_date_day_of_month  stays_in_weekend_nights  \\\n",
       "7390                           2                        1   \n",
       "15516                          5                        2   \n",
       "56050                         27                        0   \n",
       "\n",
       "       stays_in_week_nights  adults  children  babies       meal country  \\\n",
       "7390                      4     2.0       0.0     2.0  HB            PRT   \n",
       "15516                     2     2.0       0.0     2.0  HB            GBR   \n",
       "56050                     4     2.0       0.0     2.0  BB            DNK   \n",
       "\n",
       "      distribution_channel  is_repeated_guest  previous_cancellations  \\\n",
       "7390                Direct                  0                       0   \n",
       "15516                TA/TO                  0                       0   \n",
       "56050                TA/TO                  0                       0   \n",
       "\n",
       "       previous_bookings_not_canceled reserved_room_type  booking_changes  \\\n",
       "7390                                0   C                               1   \n",
       "15516                               0   A                               1   \n",
       "56050                               0   D                               2   \n",
       "\n",
       "       days_in_waiting_list customer_type  required_car_parking_spaces  \\\n",
       "7390                      0     Transient                            1   \n",
       "15516                     0     Transient                            0   \n",
       "56050                     0     Transient                            0   \n",
       "\n",
       "       total_of_special_requests  total_nights  \n",
       "7390                           2             5  \n",
       "15516                          5             4  \n",
       "56050                          2             4  "
      ]
     },
     "execution_count": 44,
     "metadata": {},
     "output_type": "execute_result"
    }
   ],
   "source": [
    "df_train[df_train['babies'] > 1]"
   ]
  },
  {
   "cell_type": "markdown",
   "metadata": {},
   "source": [
    "<div class=\"alert alert-warning\">\n",
    "<h2>Комментарий ревьюера<a class=\"tocSkip\"></a></h2>\n",
    "    \n",
    "**Есть совет** ⚠️: все так, но если внимательно изучить признак, то можно заметить, что бронирований с 2 младенцами тоже слишком мало, чтобы использовать их для прогноза, такие записи тоже лучше удалить или приравнять к 1. Тогда признак можно переименовать, например, в `has_babies`, чтобы обозначить его теперь уже бинарную природу</div>"
   ]
  },
  {
   "cell_type": "markdown",
   "metadata": {},
   "source": [
    "<div class=\"alert alert-info\">\n",
    "    <b>Комментарий студента v1:</b> Спасибо за совет! Ниже добавил замену значения 2 на единицу.\n",
    "</div>"
   ]
  },
  {
   "cell_type": "markdown",
   "metadata": {},
   "source": [
    "<div class=\"alert alert-success\">\n",
    "<h2>Комментарий ревьюера v2<a class=\"tocSkip\"></a></h2>\n",
    "    \n",
    "**Отлично!** ✔️: 👍</div>"
   ]
  },
  {
   "cell_type": "code",
   "execution_count": 45,
   "metadata": {},
   "outputs": [],
   "source": [
    "df_train.loc[df_train['babies'] > 1, 'babies'] = 1"
   ]
  },
  {
   "cell_type": "code",
   "execution_count": 46,
   "metadata": {},
   "outputs": [],
   "source": [
    "df_test.loc[df_test['babies'] > 1, 'babies'] = 1"
   ]
  },
  {
   "cell_type": "markdown",
   "metadata": {},
   "source": [
    "`meal`"
   ]
  },
  {
   "cell_type": "code",
   "execution_count": 47,
   "metadata": {},
   "outputs": [
    {
     "data": {
      "text/plain": [
       "array(['BB       ', 'FB       ', 'HB       ', 'SC       ', 'SC'],\n",
       "      dtype=object)"
      ]
     },
     "execution_count": 47,
     "metadata": {},
     "output_type": "execute_result"
    }
   ],
   "source": [
    "df_train['meal'].unique()"
   ]
  },
  {
   "cell_type": "code",
   "execution_count": 48,
   "metadata": {},
   "outputs": [
    {
     "data": {
      "text/plain": [
       "array(['BB       ', 'HB       ', 'SC', 'FB       ', 'SC       '],\n",
       "      dtype=object)"
      ]
     },
     "execution_count": 48,
     "metadata": {},
     "output_type": "execute_result"
    }
   ],
   "source": [
    "df_test['meal'].unique()"
   ]
  },
  {
   "cell_type": "markdown",
   "metadata": {},
   "source": [
    "В поле `meal` встречаются неявные дубликаты из разницы в количестве пробелов. Удалим пробелы в этом столбце."
   ]
  },
  {
   "cell_type": "code",
   "execution_count": 49,
   "metadata": {},
   "outputs": [],
   "source": [
    "df_train['meal'] = df_train['meal'].str.strip()\n",
    "df_test['meal'] = df_test['meal'].str.strip()"
   ]
  },
  {
   "cell_type": "markdown",
   "metadata": {},
   "source": [
    "<div class=\"alert alert-success\">\n",
    "<h2>Комментарий ревьюера<a class=\"tocSkip\"></a></h2>\n",
    "    \n",
    "**Отлично!** ✔️: хорошо, что заметил лишние пробелы!</div>"
   ]
  },
  {
   "cell_type": "markdown",
   "metadata": {},
   "source": [
    "`country`"
   ]
  },
  {
   "cell_type": "code",
   "execution_count": 50,
   "metadata": {
    "scrolled": true
   },
   "outputs": [
    {
     "data": {
      "text/plain": [
       "array(['GBR', 'PRT', 'ESP', 'IRL', 'FRA', 'ROU', 'NOR', 'USA', 'DEU',\n",
       "       'BEL', 'CHE', 'CN', 'GRC', 'NLD', 'ARG', 'RUS', 'SWE', 'POL',\n",
       "       'EST', 'CZE', 'ITA', 'FIN', 'DNK', 'MOZ', 'BWA', 'LUX', 'BRA',\n",
       "       'SVN', 'ALB', 'CHN', 'MEX', 'MAR', 'SMR', 'LVA', 'CHL', 'AUT',\n",
       "       'LTU', 'TUR', 'ISR', 'IND', 'CYM', 'AUS', 'CPV', 'ZWE', 'DZA',\n",
       "       'KOR', 'CRI', 'HUN', 'TUN', 'ARE', 'HRV', 'HKG', 'IRN', 'GIB',\n",
       "       'JEY', 'URY', 'ZAF', 'COL', 'GGY', 'KWT', 'CYP', 'KAZ', 'THA',\n",
       "       'DOM', 'NGA', 'BLR', 'VEN', 'UKR', 'ARM', 'JPN', 'LKA', 'MYS',\n",
       "       'BIH', 'MUS', 'OMN', 'SUR', 'JAM', 'BGR', 'CIV', 'SRB', 'JOR',\n",
       "       'SYR', 'PHL', 'PRI', 'SGP', 'BDI', 'LBN', 'AGO', 'VNM', 'AZE',\n",
       "       'PLW', 'NZL', 'EGY', 'MDV', 'CMR', 'MLT', 'SVK', 'MWI', 'STP',\n",
       "       'TWN', 'IDN', 'SEN', 'PER', 'SAU', 'KNA', 'ETH', 'ECU', 'IRQ',\n",
       "       'AND', 'HND', 'PAK', 'GEO', 'ZMB', 'QAT', 'KHM', 'MCO', 'BGD',\n",
       "       'ISL', 'UZB', 'IMN', 'TJK', 'NIC', 'BEN', 'MAC', 'VGB', 'TZA',\n",
       "       'GAB', 'MKD', 'TMP', 'GLP', 'KEN', 'LIE', 'MMR', 'PAN', 'BFA',\n",
       "       'LBY', 'GNB', 'MLI', 'BHR', 'NAM', 'BOL', 'SYC', 'PRY', 'BRB',\n",
       "       'ABW', 'SLV', 'DMA', 'CUB', 'PYF', 'UGA', 'GUY', 'LCA', 'ATA',\n",
       "       'RWA', 'MNE'], dtype=object)"
      ]
     },
     "execution_count": 50,
     "metadata": {},
     "output_type": "execute_result"
    }
   ],
   "source": [
    "df_train['country'].unique()"
   ]
  },
  {
   "cell_type": "code",
   "execution_count": 51,
   "metadata": {
    "scrolled": true
   },
   "outputs": [
    {
     "data": {
      "text/plain": [
       "array(['PRT', 'AUT', 'BEL', 'DEU', 'BRA', 'GBR', 'ESP', 'FRA', 'ITA',\n",
       "       'LUX', 'CHE', 'EST', 'NGA', 'IRL', 'CN', 'POL', 'AUS', 'NLD',\n",
       "       'KOR', 'ROU', 'USA', 'CHL', 'DNK', 'FIN', 'RUS', 'SWE', 'HUN',\n",
       "       'HRV', 'MDV', 'ZAF', 'ISR', 'NOR', 'CHN', 'ARE', 'MAR', 'COL',\n",
       "       'FJI', 'LVA', 'LBN', 'PHL', 'HKG', 'SYC', 'GIB', 'AGO', 'MYS',\n",
       "       'MDG', 'IDN', 'LTU', 'ISL', 'TUR', 'ARG', 'JPN', 'SVN', 'SVK',\n",
       "       'BGR', 'CAF', 'JAM', 'UZB', 'UKR', 'IND', 'CZE', 'URY', 'NZL',\n",
       "       'NPL', 'SRB', 'CPV', 'IRN', 'KAZ', 'BHS', 'SUR', 'CUB', 'PAK',\n",
       "       'MAC', 'CYP', 'JOR', 'GRC', 'KWT', 'TWN', 'VNM', 'SGP', 'DOM',\n",
       "       'VEN', 'SEN', 'BLR', 'TZA', 'LIE', 'GNB', 'SAU', 'DZA', 'PER',\n",
       "       'AZE', 'EGY', 'ETH', 'KEN', 'THA', 'MLT', 'ECU', 'AND', 'IMN',\n",
       "       'BHR', 'TUN', 'MNE', 'MEX', 'BEN', 'MOZ', 'UMI', 'JEY', 'MYT',\n",
       "       'QAT', 'BGD', 'GAB', 'CIV', 'ZWE', 'GTM', 'ALB', 'GHA', 'ATA',\n",
       "       'ASM', 'PAN', 'CRI', 'MCO', 'MUS', 'SYR', 'TGO', 'IRQ', 'LKA',\n",
       "       'BIH', 'PRY', 'MRT', 'ABW', 'NCL', 'STP', 'KIR', 'SDN', 'PRI',\n",
       "       'ATF', 'CMR', 'TJK', 'LBY', 'SLE', 'SLV', 'LAO', 'FRO'],\n",
       "      dtype=object)"
      ]
     },
     "execution_count": 51,
     "metadata": {},
     "output_type": "execute_result"
    }
   ],
   "source": [
    "df_test['country'].unique()"
   ]
  },
  {
   "cell_type": "markdown",
   "metadata": {},
   "source": [
    "`distribution_channel`"
   ]
  },
  {
   "cell_type": "code",
   "execution_count": 52,
   "metadata": {},
   "outputs": [
    {
     "data": {
      "text/plain": [
       "array(['Direct', 'TA/TO', 'Corporate', 'GDS'], dtype=object)"
      ]
     },
     "execution_count": 52,
     "metadata": {},
     "output_type": "execute_result"
    }
   ],
   "source": [
    "df_train['distribution_channel'].unique()"
   ]
  },
  {
   "cell_type": "code",
   "execution_count": 53,
   "metadata": {},
   "outputs": [
    {
     "data": {
      "text/plain": [
       "array(['TA/TO', 'Direct', 'Corporate', 'GDS'], dtype=object)"
      ]
     },
     "execution_count": 53,
     "metadata": {},
     "output_type": "execute_result"
    }
   ],
   "source": [
    "df_test['distribution_channel'].unique()"
   ]
  },
  {
   "cell_type": "markdown",
   "metadata": {},
   "source": [
    "`is_repeated_guest`"
   ]
  },
  {
   "cell_type": "code",
   "execution_count": 54,
   "metadata": {},
   "outputs": [
    {
     "data": {
      "text/plain": [
       "array([0, 1])"
      ]
     },
     "execution_count": 54,
     "metadata": {},
     "output_type": "execute_result"
    }
   ],
   "source": [
    "df_train['is_repeated_guest'].unique()"
   ]
  },
  {
   "cell_type": "code",
   "execution_count": 55,
   "metadata": {
    "scrolled": true
   },
   "outputs": [
    {
     "data": {
      "text/plain": [
       "array([0, 1])"
      ]
     },
     "execution_count": 55,
     "metadata": {},
     "output_type": "execute_result"
    }
   ],
   "source": [
    "df_test['is_repeated_guest'].unique()"
   ]
  },
  {
   "cell_type": "markdown",
   "metadata": {},
   "source": [
    "`previous_cancellations`"
   ]
  },
  {
   "cell_type": "code",
   "execution_count": 56,
   "metadata": {},
   "outputs": [
    {
     "data": {
      "text/plain": [
       "array([ 0,  1,  2,  3, 26, 25, 14, 24, 19,  4,  5, 21,  6, 13, 11])"
      ]
     },
     "execution_count": 56,
     "metadata": {},
     "output_type": "execute_result"
    }
   ],
   "source": [
    "df_train['previous_cancellations'].unique()"
   ]
  },
  {
   "cell_type": "code",
   "execution_count": 57,
   "metadata": {
    "scrolled": true
   },
   "outputs": [
    {
     "data": {
      "text/plain": [
       "array([0, 1, 2, 3, 4, 5, 6])"
      ]
     },
     "execution_count": 57,
     "metadata": {},
     "output_type": "execute_result"
    }
   ],
   "source": [
    "df_test['previous_cancellations'].unique()"
   ]
  },
  {
   "cell_type": "markdown",
   "metadata": {},
   "source": [
    "`previous_bookings_not_canceled`"
   ]
  },
  {
   "cell_type": "code",
   "execution_count": 58,
   "metadata": {},
   "outputs": [
    {
     "data": {
      "text/plain": [
       "array([ 0,  1,  2,  3,  4,  5,  6, 10, 12, 13, 15, 21,  7,  9,  8, 11, 14,\n",
       "       18, 22, 16, 17, 19, 20, 23, 24, 26, 27, 28, 29, 30, 31, 32, 33, 34,\n",
       "       35, 36, 37, 38, 39, 40, 41, 42, 43, 44, 45, 47, 48, 49, 50, 51, 52,\n",
       "       53, 54, 55, 56, 57, 58, 25])"
      ]
     },
     "execution_count": 58,
     "metadata": {},
     "output_type": "execute_result"
    }
   ],
   "source": [
    "df_train['previous_bookings_not_canceled'].unique()"
   ]
  },
  {
   "cell_type": "code",
   "execution_count": 59,
   "metadata": {
    "scrolled": true
   },
   "outputs": [
    {
     "data": {
      "text/plain": [
       "array([ 0,  3,  2,  5,  6,  7,  8, 10, 11, 12,  4,  1,  9, 25, 27, 28, 30,\n",
       "       13, 14, 23, 24, 26, 16, 15, 17, 18, 58, 59, 60, 61, 62, 63, 64, 65,\n",
       "       66, 67, 68, 69, 70, 71, 72, 19, 29, 20, 21, 22])"
      ]
     },
     "execution_count": 59,
     "metadata": {},
     "output_type": "execute_result"
    }
   ],
   "source": [
    "df_test['previous_bookings_not_canceled'].unique()"
   ]
  },
  {
   "cell_type": "markdown",
   "metadata": {},
   "source": [
    "`reserved_room_type`"
   ]
  },
  {
   "cell_type": "code",
   "execution_count": 60,
   "metadata": {},
   "outputs": [
    {
     "data": {
      "text/plain": [
       "array(['A               ', 'C               ', 'D               ',\n",
       "       'E               ', 'G               ', 'F               ',\n",
       "       'B               '], dtype=object)"
      ]
     },
     "execution_count": 60,
     "metadata": {},
     "output_type": "execute_result"
    }
   ],
   "source": [
    "df_train['reserved_room_type'].unique()"
   ]
  },
  {
   "cell_type": "code",
   "execution_count": 61,
   "metadata": {},
   "outputs": [
    {
     "data": {
      "text/plain": [
       "array(['A               ', 'E               ', 'G               ',\n",
       "       'D               ', 'F               ', 'C               ',\n",
       "       'B               '], dtype=object)"
      ]
     },
     "execution_count": 61,
     "metadata": {},
     "output_type": "execute_result"
    }
   ],
   "source": [
    "df_test['reserved_room_type'].unique()"
   ]
  },
  {
   "cell_type": "markdown",
   "metadata": {},
   "source": [
    "Удалим лишние пробелы в поле `reserved_room_type`"
   ]
  },
  {
   "cell_type": "code",
   "execution_count": 62,
   "metadata": {},
   "outputs": [],
   "source": [
    "df_train['reserved_room_type'] = df_train['reserved_room_type'].str.strip()\n",
    "df_test['reserved_room_type'] = df_test['reserved_room_type'].str.strip()"
   ]
  },
  {
   "cell_type": "markdown",
   "metadata": {},
   "source": [
    "`booking_changes`"
   ]
  },
  {
   "cell_type": "code",
   "execution_count": 63,
   "metadata": {},
   "outputs": [
    {
     "data": {
      "text/plain": [
       "array([ 0,  1,  3,  2,  4,  5,  6, 10, 16,  7,  9, 13,  8, 14, 15, 17])"
      ]
     },
     "execution_count": 63,
     "metadata": {},
     "output_type": "execute_result"
    }
   ],
   "source": [
    "df_train['booking_changes'].unique()"
   ]
  },
  {
   "cell_type": "code",
   "execution_count": 64,
   "metadata": {},
   "outputs": [
    {
     "data": {
      "text/plain": [
       "array([ 0,  1,  2,  3,  4,  6,  5,  7, 18, 15, 16, 14,  8, 11, 10])"
      ]
     },
     "execution_count": 64,
     "metadata": {},
     "output_type": "execute_result"
    }
   ],
   "source": [
    "df_test['booking_changes'].unique()"
   ]
  },
  {
   "cell_type": "markdown",
   "metadata": {},
   "source": [
    "`days_in_waiting_list`"
   ]
  },
  {
   "cell_type": "code",
   "execution_count": 65,
   "metadata": {},
   "outputs": [
    {
     "data": {
      "text/plain": [
       "<AxesSubplot:>"
      ]
     },
     "execution_count": 65,
     "metadata": {},
     "output_type": "execute_result"
    },
    {
     "data": {
      "image/png": "[encoded data removed]",
      "text/plain": [
       "<Figure size 432x288 with 1 Axes>"
      ]
     },
     "metadata": {
      "needs_background": "light"
     },
     "output_type": "display_data"
    }
   ],
   "source": [
    "df_train['days_in_waiting_list'].hist()"
   ]
  },
  {
   "cell_type": "code",
   "execution_count": 66,
   "metadata": {
    "scrolled": true
   },
   "outputs": [
    {
     "data": {
      "text/plain": [
       "<AxesSubplot:>"
      ]
     },
     "execution_count": 66,
     "metadata": {},
     "output_type": "execute_result"
    },
    {
     "data": {
      "image/png": "[encoded data removed]",
      "text/plain": [
       "<Figure size 432x288 with 1 Axes>"
      ]
     },
     "metadata": {
      "needs_background": "light"
     },
     "output_type": "display_data"
    }
   ],
   "source": [
    "df_test['days_in_waiting_list'].hist()"
   ]
  },
  {
   "cell_type": "markdown",
   "metadata": {},
   "source": [
    "`customer_type`"
   ]
  },
  {
   "cell_type": "code",
   "execution_count": 67,
   "metadata": {
    "scrolled": true
   },
   "outputs": [
    {
     "data": {
      "text/plain": [
       "array(['Transient', 'Contract', 'Transient-Party', 'Group'], dtype=object)"
      ]
     },
     "execution_count": 67,
     "metadata": {},
     "output_type": "execute_result"
    }
   ],
   "source": [
    "df_train['customer_type'].unique()"
   ]
  },
  {
   "cell_type": "code",
   "execution_count": 68,
   "metadata": {},
   "outputs": [
    {
     "data": {
      "text/plain": [
       "array(['Transient', 'Transient-Party', 'Contract', 'Group'], dtype=object)"
      ]
     },
     "execution_count": 68,
     "metadata": {},
     "output_type": "execute_result"
    }
   ],
   "source": [
    "df_test['customer_type'].unique()"
   ]
  },
  {
   "cell_type": "markdown",
   "metadata": {},
   "source": [
    "`required_car_parking_spaces`"
   ]
  },
  {
   "cell_type": "code",
   "execution_count": 69,
   "metadata": {
    "scrolled": true
   },
   "outputs": [
    {
     "data": {
      "text/plain": [
       "array([0, 1, 2, 3])"
      ]
     },
     "execution_count": 69,
     "metadata": {},
     "output_type": "execute_result"
    }
   ],
   "source": [
    "df_train['required_car_parking_spaces'].unique()"
   ]
  },
  {
   "cell_type": "code",
   "execution_count": 70,
   "metadata": {},
   "outputs": [
    {
     "data": {
      "text/plain": [
       "array([0, 1, 2, 8, 3])"
      ]
     },
     "execution_count": 70,
     "metadata": {},
     "output_type": "execute_result"
    }
   ],
   "source": [
    "df_test['required_car_parking_spaces'].unique()"
   ]
  },
  {
   "cell_type": "markdown",
   "metadata": {},
   "source": [
    "`total_of_special_requests`"
   ]
  },
  {
   "cell_type": "code",
   "execution_count": 71,
   "metadata": {
    "scrolled": true
   },
   "outputs": [
    {
     "data": {
      "text/plain": [
       "array([0, 1, 3, 2, 4, 5])"
      ]
     },
     "execution_count": 71,
     "metadata": {},
     "output_type": "execute_result"
    }
   ],
   "source": [
    "df_train['total_of_special_requests'].unique()"
   ]
  },
  {
   "cell_type": "code",
   "execution_count": 72,
   "metadata": {
    "scrolled": true
   },
   "outputs": [
    {
     "data": {
      "text/plain": [
       "array([0, 1, 2, 3, 4, 5])"
      ]
     },
     "execution_count": 72,
     "metadata": {},
     "output_type": "execute_result"
    }
   ],
   "source": [
    "df_test['total_of_special_requests'].unique()"
   ]
  },
  {
   "cell_type": "markdown",
   "metadata": {},
   "source": [
    "`total_nights`"
   ]
  },
  {
   "cell_type": "code",
   "execution_count": 73,
   "metadata": {
    "scrolled": true
   },
   "outputs": [
    {
     "data": {
      "text/plain": [
       "array([ 1,  2,  3,  4,  6,  7,  5,  8, 10,  9])"
      ]
     },
     "execution_count": 73,
     "metadata": {},
     "output_type": "execute_result"
    }
   ],
   "source": [
    "df_train['total_nights'].unique()"
   ]
  },
  {
   "cell_type": "code",
   "execution_count": 74,
   "metadata": {},
   "outputs": [
    {
     "data": {
      "text/plain": [
       "array([ 1,  4,  7,  2,  5,  6,  3,  8,  9, 10])"
      ]
     },
     "execution_count": 74,
     "metadata": {},
     "output_type": "execute_result"
    }
   ],
   "source": [
    "df_test['total_nights'].unique()"
   ]
  },
  {
   "cell_type": "markdown",
   "metadata": {},
   "source": [
    "В поле `total_nights` содержится сумма полей `stays_in_weekend_nights` и `stays_in_week_nights`, поэтому для дальнейшего обучения моделей это полей удалим."
   ]
  },
  {
   "cell_type": "markdown",
   "metadata": {},
   "source": [
    "Перед удалением проверим, что это действительно так."
   ]
  },
  {
   "cell_type": "code",
   "execution_count": 75,
   "metadata": {},
   "outputs": [
    {
     "data": {
      "text/html": [
       "<div>\n",
       "<style scoped>\n",
       "    .dataframe tbody tr th:only-of-type {\n",
       "        vertical-align: middle;\n",
       "    }\n",
       "\n",
       "    .dataframe tbody tr th {\n",
       "        vertical-align: top;\n",
       "    }\n",
       "\n",
       "    .dataframe thead th {\n",
       "        text-align: right;\n",
       "    }\n",
       "</style>\n",
       "<table border=\"1\" class=\"dataframe\">\n",
       "  <thead>\n",
       "    <tr style=\"text-align: right;\">\n",
       "      <th></th>\n",
       "      <th>is_canceled</th>\n",
       "      <th>lead_time</th>\n",
       "      <th>arrival_date_month</th>\n",
       "      <th>arrival_date_week_number</th>\n",
       "      <th>arrival_date_day_of_month</th>\n",
       "      <th>stays_in_weekend_nights</th>\n",
       "      <th>stays_in_week_nights</th>\n",
       "      <th>adults</th>\n",
       "      <th>children</th>\n",
       "      <th>babies</th>\n",
       "      <th>meal</th>\n",
       "      <th>country</th>\n",
       "      <th>distribution_channel</th>\n",
       "      <th>is_repeated_guest</th>\n",
       "      <th>previous_cancellations</th>\n",
       "      <th>previous_bookings_not_canceled</th>\n",
       "      <th>reserved_room_type</th>\n",
       "      <th>booking_changes</th>\n",
       "      <th>days_in_waiting_list</th>\n",
       "      <th>customer_type</th>\n",
       "      <th>required_car_parking_spaces</th>\n",
       "      <th>total_of_special_requests</th>\n",
       "      <th>total_nights</th>\n",
       "    </tr>\n",
       "  </thead>\n",
       "  <tbody>\n",
       "  </tbody>\n",
       "</table>\n",
       "</div>"
      ],
      "text/plain": [
       "Empty DataFrame\n",
       "Columns: [is_canceled, lead_time, arrival_date_month, arrival_date_week_number, arrival_date_day_of_month, stays_in_weekend_nights, stays_in_week_nights, adults, children, babies, meal, country, distribution_channel, is_repeated_guest, previous_cancellations, previous_bookings_not_canceled, reserved_room_type, booking_changes, days_in_waiting_list, customer_type, required_car_parking_spaces, total_of_special_requests, total_nights]\n",
       "Index: []"
      ]
     },
     "execution_count": 75,
     "metadata": {},
     "output_type": "execute_result"
    }
   ],
   "source": [
    "df_train[df_train['total_nights'] != df_train['stays_in_weekend_nights'] + df_train['stays_in_week_nights']]"
   ]
  },
  {
   "cell_type": "code",
   "execution_count": 76,
   "metadata": {},
   "outputs": [
    {
     "data": {
      "text/html": [
       "<div>\n",
       "<style scoped>\n",
       "    .dataframe tbody tr th:only-of-type {\n",
       "        vertical-align: middle;\n",
       "    }\n",
       "\n",
       "    .dataframe tbody tr th {\n",
       "        vertical-align: top;\n",
       "    }\n",
       "\n",
       "    .dataframe thead th {\n",
       "        text-align: right;\n",
       "    }\n",
       "</style>\n",
       "<table border=\"1\" class=\"dataframe\">\n",
       "  <thead>\n",
       "    <tr style=\"text-align: right;\">\n",
       "      <th></th>\n",
       "      <th>is_canceled</th>\n",
       "      <th>lead_time</th>\n",
       "      <th>arrival_date_month</th>\n",
       "      <th>arrival_date_week_number</th>\n",
       "      <th>arrival_date_day_of_month</th>\n",
       "      <th>stays_in_weekend_nights</th>\n",
       "      <th>stays_in_week_nights</th>\n",
       "      <th>adults</th>\n",
       "      <th>children</th>\n",
       "      <th>babies</th>\n",
       "      <th>meal</th>\n",
       "      <th>country</th>\n",
       "      <th>distribution_channel</th>\n",
       "      <th>is_repeated_guest</th>\n",
       "      <th>previous_cancellations</th>\n",
       "      <th>previous_bookings_not_canceled</th>\n",
       "      <th>reserved_room_type</th>\n",
       "      <th>booking_changes</th>\n",
       "      <th>days_in_waiting_list</th>\n",
       "      <th>customer_type</th>\n",
       "      <th>required_car_parking_spaces</th>\n",
       "      <th>total_of_special_requests</th>\n",
       "      <th>total_nights</th>\n",
       "    </tr>\n",
       "  </thead>\n",
       "  <tbody>\n",
       "  </tbody>\n",
       "</table>\n",
       "</div>"
      ],
      "text/plain": [
       "Empty DataFrame\n",
       "Columns: [is_canceled, lead_time, arrival_date_month, arrival_date_week_number, arrival_date_day_of_month, stays_in_weekend_nights, stays_in_week_nights, adults, children, babies, meal, country, distribution_channel, is_repeated_guest, previous_cancellations, previous_bookings_not_canceled, reserved_room_type, booking_changes, days_in_waiting_list, customer_type, required_car_parking_spaces, total_of_special_requests, total_nights]\n",
       "Index: []"
      ]
     },
     "execution_count": 76,
     "metadata": {},
     "output_type": "execute_result"
    }
   ],
   "source": [
    "df_test[df_test['total_nights'] != df_test['stays_in_weekend_nights'] + df_test['stays_in_week_nights']]"
   ]
  },
  {
   "cell_type": "code",
   "execution_count": 77,
   "metadata": {},
   "outputs": [],
   "source": [
    "df_train = df_train.drop('total_nights', axis = 1)\n",
    "df_test = df_test.drop('total_nights', axis = 1)"
   ]
  },
  {
   "cell_type": "markdown",
   "metadata": {},
   "source": [
    "<div class=\"alert alert-warning\">\n",
    "<h2>Комментарий ревьюера<a class=\"tocSkip\"></a></h2>\n",
    "    \n",
    "**Есть совет** ⚠️: судя по описанию, `total_nights` — это действительно сумма `stays_in_week_nights` и `stays_in_weekend_nights`, но перед удалением нужно проверить, выполняется ли это условие для всех бронирований</div>"
   ]
  },
  {
   "cell_type": "markdown",
   "metadata": {},
   "source": [
    "<div class=\"alert alert-info\">\n",
    "    <b>Комментарий студента v1:</b> Спасибо за замечание, добавил проверку перед удалением. \n",
    "</div>"
   ]
  },
  {
   "cell_type": "markdown",
   "metadata": {},
   "source": [
    "<div class=\"alert alert-success\">\n",
    "<h2>Комментарий ревьюера v2<a class=\"tocSkip\"></a></h2>\n",
    "    \n",
    "**Отлично!** ✔️: 👍</div>"
   ]
  },
  {
   "cell_type": "markdown",
   "metadata": {},
   "source": [
    "**Выводы**"
   ]
  },
  {
   "cell_type": "markdown",
   "metadata": {},
   "source": [
    "* Целевой признак `is_canceled` несбалансирован. <br>\n",
    "\n",
    "* Были удалены столбцы `id`, `arrival_date_year`, `total_nights`.<br>\n",
    "\n",
    "* В столбцах `meal` и `reserved_room_typ` были удалены лишние пробелы. <br>\n",
    "\n",
    "* Были удалены записи: \n",
    " - три записи без взрослых, но с младенцами\n",
    " - две записи с количеством младенцев 9 и 10\n",
    " "
   ]
  },
  {
   "cell_type": "markdown",
   "metadata": {},
   "source": [
    "## Шаг 3. Разработка модели ML"
   ]
  },
  {
   "cell_type": "markdown",
   "metadata": {},
   "source": [
    "Разделим данные на Признаки и Целевой признак"
   ]
  },
  {
   "cell_type": "code",
   "execution_count": 181,
   "metadata": {},
   "outputs": [],
   "source": [
    "df_train = df_train.reset_index(drop=True)\n",
    "df_test = df_test.reset_index(drop=True)"
   ]
  },
  {
   "cell_type": "code",
   "execution_count": 182,
   "metadata": {},
   "outputs": [],
   "source": [
    "features_train = df_train.drop(['is_canceled'], axis=1)\n",
    "target_train = df_train['is_canceled']"
   ]
  },
  {
   "cell_type": "code",
   "execution_count": 183,
   "metadata": {},
   "outputs": [],
   "source": [
    "features_test = df_test.drop(['is_canceled'], axis=1)\n",
    "target_test = df_test['is_canceled']"
   ]
  },
  {
   "cell_type": "markdown",
   "metadata": {},
   "source": [
    "Разделим данные для разных моделей"
   ]
  },
  {
   "cell_type": "code",
   "execution_count": 184,
   "metadata": {},
   "outputs": [],
   "source": [
    "features_train_lr = features_train\n",
    "features_test_lr = features_test\n",
    "features_train_trs = features_train\n",
    "features_test_trs = features_test"
   ]
  },
  {
   "cell_type": "markdown",
   "metadata": {},
   "source": [
    "Масштабируем данные для логистической регрессии"
   ]
  },
  {
   "cell_type": "code",
   "execution_count": 187,
   "metadata": {},
   "outputs": [],
   "source": [
    "numeric = ['adults', 'arrival_date_day_of_month', 'arrival_date_week_number', 'booking_changes', 'children', 'days_in_waiting_list', 'lead_time', 'previous_bookings_not_canceled', 'previous_cancellations', 'required_car_parking_spaces', 'stays_in_week_nights', 'stays_in_weekend_nights', 'total_of_special_requests']\n",
    "pd.options.mode.chained_assignment = None\n",
    "scaler = StandardScaler()\n",
    "\n",
    "scaler.fit(features_train_lr[numeric]) \n",
    "features_train_lr[numeric] = scaler.transform(features_train_lr[numeric])\n",
    "features_test_lr[numeric] = scaler.transform(features_test_lr[numeric])"
   ]
  },
  {
   "cell_type": "markdown",
   "metadata": {},
   "source": [
    "Применим метод кодирования ohe  для логистической регрессии."
   ]
  },
  {
   "cell_type": "code",
   "execution_count": 188,
   "metadata": {},
   "outputs": [],
   "source": [
    "features_train_lr = pd.get_dummies(features_train_lr, drop_first=True)\n",
    "features_test_lr = pd.get_dummies(features_test_lr, drop_first=True)"
   ]
  },
  {
   "cell_type": "markdown",
   "metadata": {},
   "source": [
    "Применим метод кодирования oe для деревьев."
   ]
  },
  {
   "cell_type": "code",
   "execution_count": 189,
   "metadata": {},
   "outputs": [],
   "source": [
    "features_all = pd.concat([features_train, features_test]).reset_index(drop=True)\n",
    "\n",
    "encoder = OrdinalEncoder() \n",
    "encoder.fit(features_all)\n",
    "\n",
    "features_train, features_test = features_all.loc[:65223], features_all.loc[65224:]\n",
    "features_train.reset_index(drop=True)\n",
    "features_test.reset_index(drop=True)\n",
    "\n",
    "features_train_trs = encoder.transform(features_train)\n",
    "features_train_trs = pd.DataFrame(encoder.transform(features_train), columns=features_train.columns)\n",
    "features_test_trs = encoder.transform(features_test)\n",
    "features_test_trs = pd.DataFrame(encoder.transform(features_test), columns=features_test.columns)"
   ]
  },
  {
   "cell_type": "markdown",
   "metadata": {},
   "source": [
    "<div class=\"alert alert-warning\">\n",
    "<h2>Комментарий ревьюера<a class=\"tocSkip\"></a></h2>\n",
    "    \n",
    "**Есть совет** ⚠️: вообще для «деревянных» моделей лучше использовать порядковое кодирование, так как они заметно быстрее обучаются на меньшем количестве признаков и не теряют в качестве, есть <a href=\"https://medium.com/data-design/visiting-categorical-features-and-encoding-in-decision-trees-53400fa65931\" target=\"blank_\">шикарная статья</a> на эту тему. Но для линейных моделей(в том числе логистической регрессии) порядковое кодирование не подходит, потому что задает приоритет признакам, которого в природе данных нет. Тогда, например, значение 10^2 в признаке X для них будет важнее, чем значение 10^1, а это далеко не всегда верное утверждение. Поэтому для них лучше использовать OHE.\n",
    "    \n",
    "Также для «деревянных» моделей масштабирование совсем не обязательно, <a href=\"https://towardsdatascience.com/how-data-normalization-affects-your-random-forest-algorithm-fbc6753b4ddf\" target=\"blank_\">тут</a> можно почитать про это подробнее. Но для линейных моделей наоборот, может заметно улучшить метрики\n",
    "    \n",
    "Тогда у тебя получится разная предобработка для разных моделей, это вполне нормально, тут могут помочь пайплайны, они особенно полезны как раз в подобных случаях\n",
    "    \n",
    "Подробнее про пайплайны:\n",
    "* https://scikit-learn.org/stable/modules/generated/sklearn.pipeline.Pipeline.html\n",
    "* https://scikit-learn.org/stable/modules/compose.html\n",
    "* https://towardsdatascience.com/how-to-use-sklearn-pipelines-for-ridiculously-neat-code-a61ab66ca90d</div>"
   ]
  },
  {
   "cell_type": "markdown",
   "metadata": {},
   "source": [
    "<div class=\"alert alert-info\">\n",
    "    <b>Комментарий студента v1:</b> Спасибо! Добавил кодирование ohe и масштабирование для логистической регрессии, и кодирование oe для деревьев.\n",
    " </div>"
   ]
  },
  {
   "cell_type": "markdown",
   "metadata": {},
   "source": [
    "<div class=\"alert alert-warning\">\n",
    "<h2>Комментарий ревьюера v2<a class=\"tocSkip\"></a></h2>\n",
    "    \n",
    "**Есть совет** ⚠️: окей, но правильнее обучать кодировщик только на обучающей выборке, а трансформировать уже все, аналогично масштабированию, чтобы избежать утечки данных. Тогда вместо get_dummies можно использовать <a href=\"https://scikit-learn.org/stable/modules/generated/sklearn.preprocessing.OneHotEncoder.html\" target=\"blank_\">OneHotEncoder</a>, подробнее про различия можно почитать <a href=\"https://albertum.medium.com/preprocessing-onehotencoder-vs-pandas-get-dummies-3de1f3d77dcc\" target=\"blank_\">здесь</a>\n",
    "\n",
    "Обрати внимание, что в следующих проектах это будет считаться критичной ошибкой\n",
    "\n",
    "Но при таком подходе может возникнуть проблема в случае, когда в каком-либо признаке в выборках будет разный набор категорий. Для того, чтобы обработать этот случай при использовании OHE можно применить как раз OneHotEncoder c параметром `handle_unknown=\"ignore\"`. А если в тестовой выборке встретятся категории, которых нет в обучающей выборке, то параметр handle_unknown выставит им нулевые значения. С порядковым кодированием примерно аналогичная ситуация, но для <a href=\"https://scikit-learn.org/stable/modules/generated/sklearn.preprocessing.OrdinalEncoder.html\" target=\"blank_\">OrdinalEncoder</a> подойдет параметр `handle_unknown=\"use_encoded_value\"`, который присвоит всем неизвестным категориям значение из параметра `unknown_value`, которое можно задать самостоятельно\n",
    "    \n",
    "А обучение кодировщика сразу на общей выборке может привести к утечке данных: для новых категорий выделятся отдельные столбцы, про которые не должно быть информации на этапе обучения, из-за чего метрики могут быть смещены</div>"
   ]
  },
  {
   "cell_type": "markdown",
   "metadata": {},
   "source": [
    "ТЕКСТ ИЗ ПЕРВОЙ ВЕРСИИ. Разделим выборки на учебные  валидационные, при разделении данных применем стратификацию."
   ]
  },
  {
   "cell_type": "code",
   "execution_count": 85,
   "metadata": {},
   "outputs": [],
   "source": [
    "#features_train, features_valid, target_train, target_valid = train_test_split(\n",
    "#   features, target, test_size=0.25, random_state=12345, stratify=target)"
   ]
  },
  {
   "cell_type": "markdown",
   "metadata": {},
   "source": [
    "<div class=\"alert alert-danger\">\n",
    "<h2>Комментарий ревьюера<a class=\"tocSkip\"></a></h2>\n",
    "\n",
    "**Нужно доработать** ❌: в этом проекте не нужно разбивать выборки на подвыборки: обучающая и тестовая выборки у тебя уже есть, а валидационная выборка нам не нужна, потому что все метрики нужно рассчитывать на кросс-валидации</div>"
   ]
  },
  {
   "cell_type": "markdown",
   "metadata": {},
   "source": [
    "<div class=\"alert alert-info\">\n",
    "    <b>Комментарий студента v1:</b> Убрал разбиение на подвыборки. Добавил кросс-валидацию. Первый раз ей пользуюсь, проверь, пожалуйста, всё ли правильно я понял и сделал.\n",
    " </div>"
   ]
  },
  {
   "cell_type": "markdown",
   "metadata": {},
   "source": [
    "<div class=\"alert alert-success\">\n",
    "<h2>Комментарий ревьюера v2<a class=\"tocSkip\"></a></h2>\n",
    "    \n",
    "**Отлично!** ✔️: все верно :) Но для того, чтобы не подбирать гиперпараметры вручную, можно использовать GridSearchCV: по сути, это тот же подбор гиперпараметров в цикле, только в более удобной форме. Еще у GridSearchCV есть огромное преимущество — это встроенная кросс-валидация. Метрику, по которой будут подбираться гиперпараметры, можно также задать параметром scoring, а результирующую метрику можно получить с помощью свойства best_score_\n",
    "\n",
    "Подробнее про GridSearch:\n",
    "* https://scikit-learn.org/stable/modules/generated/sklearn.model_selection.GridSearchCV.html\n",
    "* https://towardsdatascience.com/cross-validation-and-grid-search-efa64b127c1b\n",
    "* https://vc.ru/ml/147132-kak-avtomaticheski-podobrat-parametry-dlya-modeli-mashinnogo-obucheniya-ispolzuem-gridsearchcv</div>"
   ]
  },
  {
   "cell_type": "markdown",
   "metadata": {},
   "source": [
    "ТЕКСТ ИЗ ПЕРВОЙ ВЕРСИИ. Увеличим выборку с редким классом 1"
   ]
  },
  {
   "cell_type": "code",
   "execution_count": 86,
   "metadata": {},
   "outputs": [],
   "source": [
    "#def upsample(features, target, repeat):\n",
    "    \n",
    "#    features_zeros = features[target == 0]\n",
    "#    features_ones = features[target == 1]\n",
    "#    target_zeros = target[target == 0]\n",
    "#    target_ones = target[target == 1]\n",
    "\n",
    "#    features_upsampled = pd.concat([features_zeros] + [features_ones] * repeat)\n",
    "#    target_upsampled = pd.concat([target_zeros] + [target_ones] * repeat)\n",
    "    \n",
    "#    features_upsampled, target_upsampled = shuffle(\n",
    "#        features_upsampled, target_upsampled, random_state=12345)\n",
    "    \n",
    "#    return features_upsampled, target_upsampled\n",
    "\n",
    "#features_train, target_train = upsample(features_train, target_train, 2)"
   ]
  },
  {
   "cell_type": "code",
   "execution_count": 87,
   "metadata": {},
   "outputs": [],
   "source": [
    "# target_train.value_counts(normalize=True)"
   ]
  },
  {
   "cell_type": "markdown",
   "metadata": {},
   "source": [
    "<div class=\"alert alert-warning\">\n",
    "<h2>Комментарий ревьюера<a class=\"tocSkip\"></a></h2>\n",
    "    \n",
    "**Есть совет** ⚠️: сразу хочу обратить твое внимание на то, что на upsample/downsample выборках нельзя проводить кросс-валидацию, потому что модель может заметно переобучиться, <a href=\"https://datascience.xyz/practice/kak-delat-kross-validaciju-pri-apsemplinge-dannyh.html\" target=\"blank_\">здесь</a> можно почитать про это подробнее. Тут лучшей стратегией будет либо использовать другой способ борьбы с дисбалансом, либо реализовать собственную кросс-валидацию, либо попробовать другие инструменты, как описано в статье</div>"
   ]
  },
  {
   "cell_type": "markdown",
   "metadata": {},
   "source": [
    "<div class=\"alert alert-info\">\n",
    "    <b>Комментарий студента v1:</b> Спасибо! Исключил upsample\n",
    " </div>"
   ]
  },
  {
   "cell_type": "markdown",
   "metadata": {},
   "source": [
    "<div class=\"alert alert-success\">\n",
    "<h2>Комментарий ревьюера v2<a class=\"tocSkip\"></a></h2>\n",
    "    \n",
    "**Отлично!** ✔️: 👍</div>"
   ]
  },
  {
   "cell_type": "markdown",
   "metadata": {},
   "source": [
    "Комментарий студента v1: Спасибо! Исключил upsample"
   ]
  },
  {
   "cell_type": "markdown",
   "metadata": {},
   "source": [
    "**Выбор метрики для оценки модели.**<br>\n",
    "\n",
    "* С точки зрения прибыли, лучшей метрикой будет recall - т.к. она позволяет максимизириовать точноть верных ответов, приэтом, снизив ложнонегатвные ответы (расходы компании).<br> \n",
    "* С другой стороны, нужно следить, за тем, чтобы ложно-позитивных ответов не было много, т.к. (гипотеза) это может привести к том, что клиенты будут реже бронировать из-за необходимости вносить депозит.<br>\n",
    "\n",
    "Чтобы учесть оба этих фактора выберим f1."
   ]
  },
  {
   "cell_type": "markdown",
   "metadata": {},
   "source": [
    "**RandomForestClassifier**"
   ]
  },
  {
   "cell_type": "markdown",
   "metadata": {},
   "source": [
    "<div class=\"alert alert-danger\">\n",
    "<h2>Комментарий ревьюера<a class=\"tocSkip\"></a></h2>\n",
    "\n",
    "**Нужно доработать** ❌: перед обучением моделей обязательно нужно выбрать основную метрику для их оценки и аргументировать свой выбор, исходя из бизнес-задачи, это очень важная часть проекта</div>"
   ]
  },
  {
   "cell_type": "markdown",
   "metadata": {},
   "source": [
    "<div class=\"alert alert-info\">\n",
    "    <b>Комментарий студента v1:</b> Добавил в строчке выше.\n",
    " </div>"
   ]
  },
  {
   "cell_type": "markdown",
   "metadata": {},
   "source": [
    "<div class=\"alert alert-warning\">\n",
    "<h2>Комментарий ревьюера v2<a class=\"tocSkip\"></a></h2>\n",
    "    \n",
    "**Есть совет** ⚠️: ты абсолютно верно отмечаешь, что депозит для «надежных» клиентов может их отпугнуть, тогда стоит попробовать компенсировать это не метрикой, а экспериментом. Для этого можно попробовать проверить такой сценарий, назовем его худшим: пусть половина случайных клиентов из тех, с кого модель предложит взять депозит(вне зависимости от факта отмены), откажутся от услуг. Если сможешь расчитать выручку в таком случае, будет очень наглядно, стоит ли внедрять модель</div>"
   ]
  },
  {
   "cell_type": "code",
   "execution_count": 191,
   "metadata": {
    "scrolled": true
   },
   "outputs": [
    {
     "name": "stderr",
     "output_type": "stream",
     "text": [
      "648it [05:55,  1.82it/s]"
     ]
    },
    {
     "name": "stdout",
     "output_type": "stream",
     "text": [
      "\n",
      "F1 score \"Случайный лес\": 0.65056\n",
      "Параметры:\n",
      "max_depth = 4\n",
      "n_estimators = 6\n",
      "min_samples_split=2\n",
      "min_samples_leaf = 2\n"
     ]
    },
    {
     "name": "stderr",
     "output_type": "stream",
     "text": [
      "\n"
     ]
    }
   ],
   "source": [
    "rfc_best_model_f1 = None\n",
    "rfc_best_params_f1 = 0\n",
    "rfc_best_result_f1 = 0\n",
    "\n",
    "for params in tqdm(itertools.product(range(1,13),range(1,10),range(2,5), range(1,3))):\n",
    "    depth, est, min_s_s, min_s_l = params\n",
    "    rfc_model = RandomForestClassifier(\n",
    "        random_state=12345,\n",
    "        class_weight='balanced',        \n",
    "        max_depth=depth,\n",
    "        n_estimators=est,\n",
    "        min_samples_split=min_s_s, \n",
    "        min_samples_leaf=min_s_l\n",
    "    )\n",
    "    result_f1 = cross_val_score(rfc_model, features_train_trs, target_train, cv=5, scoring='f1').mean()  \n",
    "    \n",
    "    if result_f1 > rfc_best_result_f1:\n",
    "        rfc_best_model_f1 = rfc_model\n",
    "        rfc_best_result_f1 = result_f1\n",
    "        rfc_best_params_f1 = params\n",
    "        \n",
    "print(f'\\nF1 score \"Случайный лес\": {np.round(rfc_best_result_f1,5)}')\n",
    "print(f'Параметры:\\nmax_depth = {rfc_best_params_f1[0]}\\nn_estimators = {rfc_best_params_f1[1]}\\nmin_samples_split={rfc_best_params_f1[2]}\\nmin_samples_leaf = {rfc_best_params_f1[3]}')"
   ]
  },
  {
   "cell_type": "markdown",
   "metadata": {},
   "source": [
    "**DecisionTreeClassifier**"
   ]
  },
  {
   "cell_type": "code",
   "execution_count": 192,
   "metadata": {
    "scrolled": true
   },
   "outputs": [
    {
     "name": "stderr",
     "output_type": "stream",
     "text": [
      "200it [01:28,  2.27it/s]"
     ]
    },
    {
     "name": "stdout",
     "output_type": "stream",
     "text": [
      "\n",
      "F1 score \"Дерево решений\": 0.63268\n",
      "Параметры:\n",
      "max_depth = 3\n",
      "min_samples_leaf = 1\n",
      "min_samples_split=2\n"
     ]
    },
    {
     "name": "stderr",
     "output_type": "stream",
     "text": [
      "\n"
     ]
    }
   ],
   "source": [
    "dtc_best_model_f1 = None\n",
    "dtc_best_params_f1 = 0\n",
    "dtc_best_result_f1 = 0\n",
    "\n",
    "for params in tqdm(itertools.product(range(1,11),range(1,11),range(2,4))):\n",
    "    depth, leaf, split = params\n",
    "    dtc_model = DecisionTreeClassifier(\n",
    "        random_state=12345, \n",
    "        max_depth=depth,\n",
    "        min_samples_leaf=leaf, \n",
    "        min_samples_split=split\n",
    "    )\n",
    "    \n",
    "    result_f1 = cross_val_score(dtc_model, features_train_trs, target_train, cv=5, scoring='f1').mean()  \n",
    "    \n",
    "    if result_f1 > dtc_best_result_f1:\n",
    "        dtc_best_model_f1 = dtc_model\n",
    "        dtc_best_result_f1 = result_f1\n",
    "        dtc_best_params_f1 = params\n",
    "        \n",
    "print(f'\\nF1 score \"Дерево решений\": {np.round(dtc_best_result_f1,5)}')\n",
    "print(f'Параметры:\\nmax_depth = {dtc_best_params_f1[0]}\\nmin_samples_leaf = {dtc_best_params_f1[1]}\\nmin_samples_split={dtc_best_params_f1[2]}')"
   ]
  },
  {
   "cell_type": "markdown",
   "metadata": {},
   "source": [
    "! Следующая ячейка считалась 6 часов !"
   ]
  },
  {
   "cell_type": "markdown",
   "metadata": {},
   "source": [
    "**LogisticRegression**"
   ]
  },
  {
   "cell_type": "code",
   "execution_count": 98,
   "metadata": {},
   "outputs": [
    {
     "name": "stderr",
     "output_type": "stream",
     "text": [
      "/opt/conda/lib/python3.9/site-packages/sklearn/utils/optimize.py:202: ConvergenceWarning: newton-cg failed to converge. Increase the number of iterations.\n",
      "  warnings.warn(\"newton-cg failed to converge. Increase the \"\n",
      "/opt/conda/lib/python3.9/site-packages/sklearn/utils/optimize.py:202: ConvergenceWarning: newton-cg failed to converge. Increase the number of iterations.\n",
      "  warnings.warn(\"newton-cg failed to converge. Increase the \"\n",
      "/opt/conda/lib/python3.9/site-packages/sklearn/utils/optimize.py:202: ConvergenceWarning: newton-cg failed to converge. Increase the number of iterations.\n",
      "  warnings.warn(\"newton-cg failed to converge. Increase the \"\n",
      "/opt/conda/lib/python3.9/site-packages/sklearn/utils/optimize.py:202: ConvergenceWarning: newton-cg failed to converge. Increase the number of iterations.\n",
      "  warnings.warn(\"newton-cg failed to converge. Increase the \"\n",
      "/opt/conda/lib/python3.9/site-packages/sklearn/utils/optimize.py:202: ConvergenceWarning: newton-cg failed to converge. Increase the number of iterations.\n",
      "  warnings.warn(\"newton-cg failed to converge. Increase the \"\n",
      "/opt/conda/lib/python3.9/site-packages/sklearn/linear_model/_logistic.py:763: ConvergenceWarning: lbfgs failed to converge (status=1):\n",
      "STOP: TOTAL NO. of ITERATIONS REACHED LIMIT.\n",
      "\n",
      "Increase the number of iterations (max_iter) or scale the data as shown in:\n",
      "    https://scikit-learn.org/stable/modules/preprocessing.html\n",
      "Please also refer to the documentation for alternative solver options:\n",
      "    https://scikit-learn.org/stable/modules/linear_model.html#logistic-regression\n",
      "  n_iter_i = _check_optimize_result(\n",
      "/opt/conda/lib/python3.9/site-packages/sklearn/linear_model/_logistic.py:763: ConvergenceWarning: lbfgs failed to converge (status=1):\n",
      "STOP: TOTAL NO. of ITERATIONS REACHED LIMIT.\n",
      "\n",
      "Increase the number of iterations (max_iter) or scale the data as shown in:\n",
      "    https://scikit-learn.org/stable/modules/preprocessing.html\n",
      "Please also refer to the documentation for alternative solver options:\n",
      "    https://scikit-learn.org/stable/modules/linear_model.html#logistic-regression\n",
      "  n_iter_i = _check_optimize_result(\n",
      "/opt/conda/lib/python3.9/site-packages/sklearn/linear_model/_logistic.py:763: ConvergenceWarning: lbfgs failed to converge (status=1):\n",
      "STOP: TOTAL NO. of ITERATIONS REACHED LIMIT.\n",
      "\n",
      "Increase the number of iterations (max_iter) or scale the data as shown in:\n",
      "    https://scikit-learn.org/stable/modules/preprocessing.html\n",
      "Please also refer to the documentation for alternative solver options:\n",
      "    https://scikit-learn.org/stable/modules/linear_model.html#logistic-regression\n",
      "  n_iter_i = _check_optimize_result(\n",
      "/opt/conda/lib/python3.9/site-packages/sklearn/linear_model/_logistic.py:763: ConvergenceWarning: lbfgs failed to converge (status=1):\n",
      "STOP: TOTAL NO. of ITERATIONS REACHED LIMIT.\n",
      "\n",
      "Increase the number of iterations (max_iter) or scale the data as shown in:\n",
      "    https://scikit-learn.org/stable/modules/preprocessing.html\n",
      "Please also refer to the documentation for alternative solver options:\n",
      "    https://scikit-learn.org/stable/modules/linear_model.html#logistic-regression\n",
      "  n_iter_i = _check_optimize_result(\n",
      "/opt/conda/lib/python3.9/site-packages/sklearn/linear_model/_logistic.py:763: ConvergenceWarning: lbfgs failed to converge (status=1):\n",
      "STOP: TOTAL NO. of ITERATIONS REACHED LIMIT.\n",
      "\n",
      "Increase the number of iterations (max_iter) or scale the data as shown in:\n",
      "    https://scikit-learn.org/stable/modules/preprocessing.html\n",
      "Please also refer to the documentation for alternative solver options:\n",
      "    https://scikit-learn.org/stable/modules/linear_model.html#logistic-regression\n",
      "  n_iter_i = _check_optimize_result(\n",
      "/opt/conda/lib/python3.9/site-packages/sklearn/linear_model/_logistic.py:763: ConvergenceWarning: lbfgs failed to converge (status=1):\n",
      "STOP: TOTAL NO. of ITERATIONS REACHED LIMIT.\n",
      "\n",
      "Increase the number of iterations (max_iter) or scale the data as shown in:\n",
      "    https://scikit-learn.org/stable/modules/preprocessing.html\n",
      "Please also refer to the documentation for alternative solver options:\n",
      "    https://scikit-learn.org/stable/modules/linear_model.html#logistic-regression\n",
      "  n_iter_i = _check_optimize_result(\n",
      "/opt/conda/lib/python3.9/site-packages/sklearn/linear_model/_logistic.py:763: ConvergenceWarning: lbfgs failed to converge (status=1):\n",
      "STOP: TOTAL NO. of ITERATIONS REACHED LIMIT.\n",
      "\n",
      "Increase the number of iterations (max_iter) or scale the data as shown in:\n",
      "    https://scikit-learn.org/stable/modules/preprocessing.html\n",
      "Please also refer to the documentation for alternative solver options:\n",
      "    https://scikit-learn.org/stable/modules/linear_model.html#logistic-regression\n",
      "  n_iter_i = _check_optimize_result(\n",
      "/opt/conda/lib/python3.9/site-packages/sklearn/linear_model/_logistic.py:763: ConvergenceWarning: lbfgs failed to converge (status=1):\n",
      "STOP: TOTAL NO. of ITERATIONS REACHED LIMIT.\n",
      "\n",
      "Increase the number of iterations (max_iter) or scale the data as shown in:\n",
      "    https://scikit-learn.org/stable/modules/preprocessing.html\n",
      "Please also refer to the documentation for alternative solver options:\n",
      "    https://scikit-learn.org/stable/modules/linear_model.html#logistic-regression\n",
      "  n_iter_i = _check_optimize_result(\n",
      "/opt/conda/lib/python3.9/site-packages/sklearn/linear_model/_sag.py:328: ConvergenceWarning: The max_iter was reached which means the coef_ did not converge\n",
      "  warnings.warn(\"The max_iter was reached which means \"\n",
      "/opt/conda/lib/python3.9/site-packages/sklearn/linear_model/_sag.py:328: ConvergenceWarning: The max_iter was reached which means the coef_ did not converge\n",
      "  warnings.warn(\"The max_iter was reached which means \"\n",
      "/opt/conda/lib/python3.9/site-packages/sklearn/linear_model/_sag.py:328: ConvergenceWarning: The max_iter was reached which means the coef_ did not converge\n",
      "  warnings.warn(\"The max_iter was reached which means \"\n",
      "/opt/conda/lib/python3.9/site-packages/sklearn/linear_model/_sag.py:328: ConvergenceWarning: The max_iter was reached which means the coef_ did not converge\n",
      "  warnings.warn(\"The max_iter was reached which means \"\n",
      "/opt/conda/lib/python3.9/site-packages/sklearn/linear_model/_sag.py:328: ConvergenceWarning: The max_iter was reached which means the coef_ did not converge\n",
      "  warnings.warn(\"The max_iter was reached which means \"\n",
      "/opt/conda/lib/python3.9/site-packages/sklearn/linear_model/_sag.py:328: ConvergenceWarning: The max_iter was reached which means the coef_ did not converge\n",
      "  warnings.warn(\"The max_iter was reached which means \"\n",
      "/opt/conda/lib/python3.9/site-packages/sklearn/linear_model/_sag.py:328: ConvergenceWarning: The max_iter was reached which means the coef_ did not converge\n",
      "  warnings.warn(\"The max_iter was reached which means \"\n",
      "/opt/conda/lib/python3.9/site-packages/sklearn/linear_model/_sag.py:328: ConvergenceWarning: The max_iter was reached which means the coef_ did not converge\n",
      "  warnings.warn(\"The max_iter was reached which means \"\n",
      "/opt/conda/lib/python3.9/site-packages/sklearn/linear_model/_sag.py:328: ConvergenceWarning: The max_iter was reached which means the coef_ did not converge\n",
      "  warnings.warn(\"The max_iter was reached which means \"\n",
      "/opt/conda/lib/python3.9/site-packages/sklearn/linear_model/_sag.py:328: ConvergenceWarning: The max_iter was reached which means the coef_ did not converge\n",
      "  warnings.warn(\"The max_iter was reached which means \"\n",
      "/opt/conda/lib/python3.9/site-packages/sklearn/linear_model/_sag.py:328: ConvergenceWarning: The max_iter was reached which means the coef_ did not converge\n",
      "  warnings.warn(\"The max_iter was reached which means \"\n",
      "/opt/conda/lib/python3.9/site-packages/sklearn/linear_model/_sag.py:328: ConvergenceWarning: The max_iter was reached which means the coef_ did not converge\n",
      "  warnings.warn(\"The max_iter was reached which means \"\n",
      "/opt/conda/lib/python3.9/site-packages/sklearn/linear_model/_sag.py:328: ConvergenceWarning: The max_iter was reached which means the coef_ did not converge\n",
      "  warnings.warn(\"The max_iter was reached which means \"\n",
      "/opt/conda/lib/python3.9/site-packages/sklearn/linear_model/_sag.py:328: ConvergenceWarning: The max_iter was reached which means the coef_ did not converge\n",
      "  warnings.warn(\"The max_iter was reached which means \"\n",
      "/opt/conda/lib/python3.9/site-packages/sklearn/linear_model/_sag.py:328: ConvergenceWarning: The max_iter was reached which means the coef_ did not converge\n",
      "  warnings.warn(\"The max_iter was reached which means \"\n",
      "/opt/conda/lib/python3.9/site-packages/sklearn/linear_model/_sag.py:328: ConvergenceWarning: The max_iter was reached which means the coef_ did not converge\n",
      "  warnings.warn(\"The max_iter was reached which means \"\n",
      "/opt/conda/lib/python3.9/site-packages/sklearn/linear_model/_sag.py:328: ConvergenceWarning: The max_iter was reached which means the coef_ did not converge\n",
      "  warnings.warn(\"The max_iter was reached which means \"\n",
      "/opt/conda/lib/python3.9/site-packages/sklearn/linear_model/_sag.py:328: ConvergenceWarning: The max_iter was reached which means the coef_ did not converge\n",
      "  warnings.warn(\"The max_iter was reached which means \"\n",
      "/opt/conda/lib/python3.9/site-packages/sklearn/linear_model/_sag.py:328: ConvergenceWarning: The max_iter was reached which means the coef_ did not converge\n",
      "  warnings.warn(\"The max_iter was reached which means \"\n",
      "/opt/conda/lib/python3.9/site-packages/sklearn/linear_model/_sag.py:328: ConvergenceWarning: The max_iter was reached which means the coef_ did not converge\n",
      "  warnings.warn(\"The max_iter was reached which means \"\n",
      "/opt/conda/lib/python3.9/site-packages/sklearn/linear_model/_sag.py:328: ConvergenceWarning: The max_iter was reached which means the coef_ did not converge\n",
      "  warnings.warn(\"The max_iter was reached which means \"\n",
      "/opt/conda/lib/python3.9/site-packages/sklearn/linear_model/_sag.py:328: ConvergenceWarning: The max_iter was reached which means the coef_ did not converge\n",
      "  warnings.warn(\"The max_iter was reached which means \"\n",
      "/opt/conda/lib/python3.9/site-packages/sklearn/linear_model/_sag.py:328: ConvergenceWarning: The max_iter was reached which means the coef_ did not converge\n",
      "  warnings.warn(\"The max_iter was reached which means \"\n",
      "/opt/conda/lib/python3.9/site-packages/sklearn/linear_model/_sag.py:328: ConvergenceWarning: The max_iter was reached which means the coef_ did not converge\n",
      "  warnings.warn(\"The max_iter was reached which means \"\n",
      "/opt/conda/lib/python3.9/site-packages/sklearn/linear_model/_sag.py:328: ConvergenceWarning: The max_iter was reached which means the coef_ did not converge\n",
      "  warnings.warn(\"The max_iter was reached which means \"\n",
      "/opt/conda/lib/python3.9/site-packages/sklearn/linear_model/_sag.py:328: ConvergenceWarning: The max_iter was reached which means the coef_ did not converge\n",
      "  warnings.warn(\"The max_iter was reached which means \"\n",
      "/opt/conda/lib/python3.9/site-packages/sklearn/linear_model/_sag.py:328: ConvergenceWarning: The max_iter was reached which means the coef_ did not converge\n",
      "  warnings.warn(\"The max_iter was reached which means \"\n",
      "/opt/conda/lib/python3.9/site-packages/sklearn/linear_model/_sag.py:328: ConvergenceWarning: The max_iter was reached which means the coef_ did not converge\n",
      "  warnings.warn(\"The max_iter was reached which means \"\n",
      "/opt/conda/lib/python3.9/site-packages/sklearn/linear_model/_sag.py:328: ConvergenceWarning: The max_iter was reached which means the coef_ did not converge\n",
      "  warnings.warn(\"The max_iter was reached which means \"\n",
      "/opt/conda/lib/python3.9/site-packages/sklearn/linear_model/_sag.py:328: ConvergenceWarning: The max_iter was reached which means the coef_ did not converge\n",
      "  warnings.warn(\"The max_iter was reached which means \"\n"
     ]
    },
    {
     "name": "stdout",
     "output_type": "stream",
     "text": [
      "\n",
      "F1 score \"Логистической регрессии\": 0.54154\n",
      "Параметры:\n",
      "solver = sag\n",
      "penalty = l2\n"
     ]
    }
   ],
   "source": [
    "lr_best_model_f1 = None\n",
    "lr_best_params_f1 = 0\n",
    "lr_best_result_f1 = 0\n",
    "\n",
    "# словарь для перебора параметров\n",
    "params = {'newton-cg' : ['l2','none'], 'lbfgs': ['l2','none'], 'sag': ['l2','none'], 'saga': ['elasticnet', 'l1', 'l2', 'none'], 'liblinear': ['l1','l2']}\n",
    "\n",
    "for slvr in params:\n",
    "    for pnlt in params[slvr]:\n",
    "        l1_rt=None\n",
    "        if pnlt == 'elasticnet':\n",
    "            l1_rt = 0.5\n",
    "        lr_model = LogisticRegression(\n",
    "            random_state=12345,\n",
    "            class_weight='balanced',\n",
    "            solver=slvr, \n",
    "            penalty=pnlt, \n",
    "            l1_ratio=l1_rt, \n",
    "            max_iter=300\n",
    "        )\n",
    "        \n",
    "        result_f1 = cross_val_score(lr_model, features_train_lr, target_train, cv=5, scoring='f1').mean()  \n",
    "       \n",
    "        if result_f1 > lr_best_result_f1:\n",
    "            lr_best_model_f1 = lr_model\n",
    "            lr_best_result_f1 = result_f1\n",
    "            lr_best_params_f1 = [slvr, pnlt]\n",
    "                  \n",
    "print(f'\\nF1 score \"Логистической регрессии\": {np.round(lr_best_result_f1,5)}')\n",
    "print(f'Параметры:\\nsolver = {lr_best_params_f1[0]}\\npenalty = {lr_best_params_f1[1]}')\n"
   ]
  },
  {
   "cell_type": "markdown",
   "metadata": {},
   "source": [
    "Протестируем модель Случайного леса с лучшим показателем метрики f1."
   ]
  },
  {
   "cell_type": "code",
   "execution_count": 193,
   "metadata": {},
   "outputs": [
    {
     "data": {
      "text/plain": [
       "(32412, 21)"
      ]
     },
     "execution_count": 193,
     "metadata": {},
     "output_type": "execute_result"
    }
   ],
   "source": [
    "features_test_trs.shape"
   ]
  },
  {
   "cell_type": "code",
   "execution_count": 198,
   "metadata": {},
   "outputs": [
    {
     "name": "stdout",
     "output_type": "stream",
     "text": [
      "\n",
      "F1 score \"Случайный лес\": 0.52797\n",
      "\n",
      "ROC score \"Случайный лес\": 0.77483\n"
     ]
    }
   ],
   "source": [
    "rfc_model = RandomForestClassifier(\n",
    "        random_state=12345, \n",
    "        max_depth=4,\n",
    "        n_estimators=6,\n",
    "        min_samples_split=2, \n",
    "        min_samples_leaf=2\n",
    "        )\n",
    "\n",
    "rfc_model.fit(features_train_trs, target_train)\n",
    "\n",
    "predictions = rfc_model.predict(features_test_trs)\n",
    "    \n",
    "result_f1 = f1_score(target_test, predictions)\n",
    "probabilities_valid = rfc_model.predict_proba(features_test_trs)\n",
    "probabilities_one_valid = probabilities_valid[:, 1]\n",
    "result_roc = roc_auc_score(target_test, probabilities_one_valid)\n",
    "   \n",
    "print(f'\\nF1 score \"Случайный лес\": {np.round(result_f1,5)}')\n",
    "print(f'\\nROC score \"Случайный лес\": {np.round(result_roc,5)}')"
   ]
  },
  {
   "cell_type": "markdown",
   "metadata": {},
   "source": [
    "Построим график кривой ROC"
   ]
  },
  {
   "cell_type": "code",
   "execution_count": 199,
   "metadata": {
    "scrolled": true
   },
   "outputs": [
    {
     "data": {
      "image/png": "[encoded data removed]",
      "text/plain": [
       "<Figure size 432x288 with 1 Axes>"
      ]
     },
     "metadata": {
      "needs_background": "light"
     },
     "output_type": "display_data"
    }
   ],
   "source": [
    "fpr, tpr, thresholds = roc_curve(target_test, probabilities_one_valid) \n",
    "\n",
    "plt.figure()\n",
    "plt.plot(fpr, tpr)\n",
    "plt.plot([0, 1], [0, 1], linestyle='--')\n",
    "\n",
    "plt.xlim([0.0, 1.0])\n",
    "plt.ylim([0.0, 1.0])\n",
    "\n",
    "plt.xlabel('False Positive Rate')\n",
    "plt.ylabel('True Positive Rate')\n",
    "\n",
    "plt.title('ROC-кривая')\n",
    "\n",
    "plt.show()"
   ]
  },
  {
   "cell_type": "markdown",
   "metadata": {},
   "source": [
    "**Вывод**<br>\n",
    "При исследовании данных было установлено, что классы в целевом признаке не сбалансированы. Были исследованы модели \"Случайного леса\", \"Дерева решений\" и \"Логистической регрессии\" по метрике F1. Наилучшие результаты показали модели \"Случайного леса\". Для улучшения качества модели логистической регресси была применена категоризация данных методом ohe и масштабирование. Для деревьев была применина категоризация данныз методом oe. Модели обучались с перезвешиванием класса. На тестовых данных значение метрки F1 составило 0.52797."
   ]
  },
  {
   "cell_type": "markdown",
   "metadata": {},
   "source": [
    "<div class=\"alert alert-success\">\n",
    "<h2>Комментарий ревьюера<a class=\"tocSkip\"></a></h2>\n",
    "    \n",
    "**Отлично!** ✔️: в остальном с обучением моделей все верно :)</div>"
   ]
  },
  {
   "cell_type": "markdown",
   "metadata": {},
   "source": [
    "## Шаг 4. Формулировка ML-задачи на основе бизнес-задачи"
   ]
  },
  {
   "cell_type": "markdown",
   "metadata": {},
   "source": [
    "Создадим словари для стоимости номера за одну ночь, уборки, а также сезонных коэффициентов"
   ]
  },
  {
   "cell_type": "code",
   "execution_count": 200,
   "metadata": {},
   "outputs": [],
   "source": [
    "cost_night = {'A': 1000, 'B': 800, 'C': 600, 'D': 550, 'E': 500, 'F': 450, 'G': 350}\n",
    "cost_service = {'A': 400, 'B': 350, 'C': 350, 'D': 150, 'E': 150, 'F': 450, 'G': 150}\n",
    "rate_season = {'January': 1, 'February': 1, 'March': 1.2, 'April': 1.2, 'May': 1.2, 'June': 1.4,\n",
    "               'July': 1.4, 'August': 1.4, 'September': 1.2, 'October': 1.2, 'November': 1.2, 'December': 1}"
   ]
  },
  {
   "cell_type": "markdown",
   "metadata": {},
   "source": [
    "Добавим эти данные в наши датасеты"
   ]
  },
  {
   "cell_type": "code",
   "execution_count": 201,
   "metadata": {},
   "outputs": [],
   "source": [
    "df_test['cost_night'] = df_test['reserved_room_type'].map(cost_night)\n",
    "df_test['cost_service'] = df_test['reserved_room_type'].map(cost_service)\n",
    "df_test['rate_season'] = df_test['arrival_date_month'].map(rate_season)"
   ]
  },
  {
   "cell_type": "markdown",
   "metadata": {},
   "source": [
    "Добавим данные о предсказанных отменах "
   ]
  },
  {
   "cell_type": "code",
   "execution_count": 202,
   "metadata": {},
   "outputs": [],
   "source": [
    "df_test['prediction'] = predictions"
   ]
  },
  {
   "cell_type": "markdown",
   "metadata": {},
   "source": [
    "Расчитаем прибыль отеля без учета предсказаний модели"
   ]
  },
  {
   "cell_type": "code",
   "execution_count": 203,
   "metadata": {},
   "outputs": [],
   "source": [
    "df_test.loc[df_test['is_canceled'] == 0, 'income_before'] = df_test['cost_night'] * df_test['rate_season'] * (df_test['stays_in_weekend_nights'] + df_test['stays_in_week_nights']) \n",
    "df_test.loc[df_test['is_canceled'] == 0, 'expenses_before'] = df_test['cost_service'] * (1 + (df_test['stays_in_weekend_nights'] + df_test['stays_in_week_nights']) // 2) \n",
    "df_test.loc[df_test['is_canceled'] == 1, 'income_before'] = 0\n",
    "df_test.loc[df_test['is_canceled'] == 1, 'expenses_before'] = df_test['cost_service'] + (df_test['cost_night']) * df_test['rate_season']\n",
    "df_test['profit_before'] = df_test['income_before'] - df_test['expenses_before']"
   ]
  },
  {
   "cell_type": "code",
   "execution_count": 204,
   "metadata": {},
   "outputs": [
    {
     "name": "stdout",
     "output_type": "stream",
     "text": [
      "До внедрения модели чистая прибыль составила 32288620.0\n"
     ]
    }
   ],
   "source": [
    "print('До внедрения модели чистая прибыль составила {}'.format(df_test['profit_before'].sum()))"
   ]
  },
  {
   "cell_type": "markdown",
   "metadata": {},
   "source": [
    "Расчитаем прибыль после внедрения модели"
   ]
  },
  {
   "cell_type": "code",
   "execution_count": 205,
   "metadata": {},
   "outputs": [],
   "source": [
    "df_test.loc[(df_test['is_canceled'] + df_test['prediction']) == 2, 'profit_after'] = df_test['profit_before'] * 0.2\n",
    "df_test.loc[(df_test['is_canceled'] + df_test['prediction']) != 2, 'profit_after'] = df_test['profit_before']"
   ]
  },
  {
   "cell_type": "code",
   "execution_count": 206,
   "metadata": {
    "scrolled": true
   },
   "outputs": [
    {
     "name": "stdout",
     "output_type": "stream",
     "text": [
      "После внедрения модели чистая прибыль составила 38214796.0\n"
     ]
    }
   ],
   "source": [
    "print('После внедрения модели чистая прибыль составила {}'.format(df_test['profit_after'].sum()))"
   ]
  },
  {
   "cell_type": "markdown",
   "metadata": {},
   "source": [
    " **Вывод**<br>\n",
    "  Внедрение модели предсказания отказов клиентов совместно с введением депозита позволит увеличить прибыль отеля на 5.9 млн, что заведомо превышает бюджет, заложенный на разработку модели.\n",
    "  "
   ]
  },
  {
   "cell_type": "markdown",
   "metadata": {},
   "source": [
    "<div class=\"alert alert-success\">\n",
    "<h2>Комментарий ревьюера<a class=\"tocSkip\"></a></h2>\n",
    "    \n",
    "**Отлично!** ✔️: прибыль до и после внедрения модели рассчитана верно!</div>"
   ]
  },
  {
   "cell_type": "markdown",
   "metadata": {},
   "source": [
    "## Шаг 5. Опишите портрет «ненадёжного» клиента"
   ]
  },
  {
   "cell_type": "markdown",
   "metadata": {},
   "source": [
    "Для составления портрета ненадежного клиента выведим значимые признаки, которые выделила модель, а также посмотрим на коррекляцию признаков."
   ]
  },
  {
   "cell_type": "code",
   "execution_count": 208,
   "metadata": {},
   "outputs": [
    {
     "data": {
      "image/png": "[encoded data removed]",
      "text/plain": [
       "<Figure size 432x288 with 1 Axes>"
      ]
     },
     "metadata": {
      "needs_background": "light"
     },
     "output_type": "display_data"
    }
   ],
   "source": [
    "pd.Series(rfc_model.feature_importances_, features_train_trs.columns).nlargest(15).plot(kind='barh')\n",
    "plt.title('Важность признаков')\n",
    "plt.xlabel('Важность')\n",
    "plt.ylabel('Признаки')\n",
    "plt.tight_layout()\n",
    "plt.show()"
   ]
  },
  {
   "cell_type": "markdown",
   "metadata": {},
   "source": [
    "<div class=\"alert alert-success\">\n",
    "<h2>Комментарий ревьюера<a class=\"tocSkip\"></a></h2>\n",
    "    \n",
    "**Отлично!** ✔️: круто, что знаешь про важность признаков!</div>"
   ]
  },
  {
   "cell_type": "code",
   "execution_count": null,
   "metadata": {},
   "outputs": [],
   "source": [
    "plt.figure(figsize=(15, 13))\n",
    "\n",
    "sns.heatmap(df_train.corr(), linewidth=2, annot=True)\n",
    "\n",
    "plt.show()"
   ]
  },
  {
   "cell_type": "markdown",
   "metadata": {},
   "source": [
    "Выделим наиболее зачимые признаки, вляющие на отмены:<br>\n",
    " * `lead_time` — количество дней между датой бронирования и датой прибытия;<br>\n",
    " * `total_of_special_requests` — количество специальных отметок.<br>\n",
    " * `country` — гражданство постояльца;<br>\n",
    " * `previous_cancellations` — количество отменённых заказов у клиента;<br>\n",
    " * `booking_changes` — количество изменений параметров заказа;<br>\n",
    " * `customer_type`  — тип заказчика:<br>\n",
    " * `required_car_parking_spaces` — необходимость места для автомобиля;<br>\n",
    " \n",
    " Дополнительно исследуем:\n",
    " * `arrival_date_month`\n",
    " * `meal`\n",
    " * `distibution_channel`\n",
    " * `reserved_room_type`"
   ]
  },
  {
   "cell_type": "markdown",
   "metadata": {},
   "source": [
    "`lead_time`"
   ]
  },
  {
   "cell_type": "code",
   "execution_count": 209,
   "metadata": {
    "scrolled": true
   },
   "outputs": [
    {
     "data": {
      "text/plain": [
       "lead_time\n",
       "False    0.233327\n",
       "True     0.497248\n",
       "Name: is_canceled, dtype: float64"
      ]
     },
     "execution_count": 209,
     "metadata": {},
     "output_type": "execute_result"
    }
   ],
   "source": [
    "df_train.groupby(df_train['lead_time']>60)['is_canceled'].mean()"
   ]
  },
  {
   "cell_type": "markdown",
   "metadata": {},
   "source": [
    "Если номер бронируется больше чем за два месяца до отмены, т.е. с вероятностью 50% бронь будет отменена."
   ]
  },
  {
   "cell_type": "markdown",
   "metadata": {},
   "source": [
    "`total_of_special_requests`"
   ]
  },
  {
   "cell_type": "code",
   "execution_count": 210,
   "metadata": {
    "scrolled": true
   },
   "outputs": [
    {
     "data": {
      "text/plain": [
       "total_of_special_requests\n",
       "False    0.184980\n",
       "True     0.479493\n",
       "Name: is_canceled, dtype: float64"
      ]
     },
     "execution_count": 210,
     "metadata": {},
     "output_type": "execute_result"
    }
   ],
   "source": [
    "df_train.groupby(df_train['total_of_special_requests']==0)['is_canceled'].mean()"
   ]
  },
  {
   "cell_type": "markdown",
   "metadata": {},
   "source": [
    "Если номер бронируется без дополнительных отметок, т.е. с вероятностью 48% бронь будет отменена."
   ]
  },
  {
   "cell_type": "markdown",
   "metadata": {},
   "source": [
    "`previous_cancellations`"
   ]
  },
  {
   "cell_type": "code",
   "execution_count": 211,
   "metadata": {},
   "outputs": [
    {
     "data": {
      "text/plain": [
       "previous_cancellations\n",
       "False    0.957077\n",
       "True     0.312943\n",
       "Name: is_canceled, dtype: float64"
      ]
     },
     "execution_count": 211,
     "metadata": {},
     "output_type": "execute_result"
    }
   ],
   "source": [
    "df_train.groupby(df_train['previous_cancellations']==0)['is_canceled'].mean()"
   ]
  },
  {
   "cell_type": "markdown",
   "metadata": {},
   "source": [
    "Если у клиента уже были отмены, т.е. с вероятностью близкой к 100% бронь будет отменена."
   ]
  },
  {
   "cell_type": "markdown",
   "metadata": {},
   "source": [
    "`booking_changes`"
   ]
  },
  {
   "cell_type": "code",
   "execution_count": 212,
   "metadata": {
    "scrolled": false
   },
   "outputs": [
    {
     "data": {
      "text/plain": [
       "booking_changes\n",
       "False    0.146955\n",
       "True     0.404242\n",
       "Name: is_canceled, dtype: float64"
      ]
     },
     "execution_count": 212,
     "metadata": {},
     "output_type": "execute_result"
    }
   ],
   "source": [
    "df_train.groupby(df_train['booking_changes']==0)['is_canceled'].mean()"
   ]
  },
  {
   "cell_type": "markdown",
   "metadata": {},
   "source": [
    "Если клиент не вносил изменения в бронь, т.е. с вероятностью 40% бронь будет отменена."
   ]
  },
  {
   "cell_type": "markdown",
   "metadata": {},
   "source": [
    "`customer_type`"
   ]
  },
  {
   "cell_type": "code",
   "execution_count": 213,
   "metadata": {
    "scrolled": true
   },
   "outputs": [
    {
     "data": {
      "text/plain": [
       "customer_type\n",
       "Contract           0.396941\n",
       "Group              0.083624\n",
       "Transient          0.396043\n",
       "Transient-Party    0.294174\n",
       "Name: is_canceled, dtype: float64"
      ]
     },
     "execution_count": 213,
     "metadata": {},
     "output_type": "execute_result"
    }
   ],
   "source": [
    "df_train.groupby(df_train['customer_type'])['is_canceled'].mean()"
   ]
  },
  {
   "cell_type": "markdown",
   "metadata": {},
   "source": [
    "Клиенты с типом `Contract` и `Transient`, отменят бронь с вероятностью 40%."
   ]
  },
  {
   "cell_type": "markdown",
   "metadata": {},
   "source": [
    "`required_car_parking_spaces`"
   ]
  },
  {
   "cell_type": "code",
   "execution_count": 214,
   "metadata": {},
   "outputs": [
    {
     "data": {
      "text/plain": [
       "required_car_parking_spaces\n",
       "0    0.390676\n",
       "1    0.000000\n",
       "2    0.000000\n",
       "3    0.000000\n",
       "Name: is_canceled, dtype: float64"
      ]
     },
     "execution_count": 214,
     "metadata": {},
     "output_type": "execute_result"
    }
   ],
   "source": [
    "df_train.groupby(df_train['required_car_parking_spaces'])['is_canceled'].mean()"
   ]
  },
  {
   "cell_type": "markdown",
   "metadata": {},
   "source": [
    "Клиенты, которые не заказывают парковочные места, отменяют бронь с вероятностью 40%."
   ]
  },
  {
   "cell_type": "markdown",
   "metadata": {},
   "source": [
    "`country`"
   ]
  },
  {
   "cell_type": "code",
   "execution_count": 226,
   "metadata": {
    "scrolled": true
   },
   "outputs": [
    {
     "data": {
      "text/plain": [
       "<AxesSubplot:xlabel='country'>"
      ]
     },
     "execution_count": 226,
     "metadata": {},
     "output_type": "execute_result"
    },
    {
     "data": {
      "image/png": "[encoded data removed]",
      "text/plain": [
       "<Figure size 1440x576 with 1 Axes>"
      ]
     },
     "metadata": {
      "needs_background": "light"
     },
     "output_type": "display_data"
    }
   ],
   "source": [
    "df_train.groupby(df_train['country'])['is_canceled'].count().sort_values().tail(10).plot.bar(legend=1, figsize=(20,8), fontsize=30)"
   ]
  },
  {
   "cell_type": "code",
   "execution_count": 228,
   "metadata": {
    "scrolled": false
   },
   "outputs": [
    {
     "data": {
      "text/plain": [
       "<AxesSubplot:xlabel='country'>"
      ]
     },
     "execution_count": 228,
     "metadata": {},
     "output_type": "execute_result"
    },
    {
     "data": {
      "image/png": "[encoded data removed]",
      "text/plain": [
       "<Figure size 2160x1080 with 1 Axes>"
      ]
     },
     "metadata": {
      "needs_background": "light"
     },
     "output_type": "display_data"
    }
   ],
   "source": [
    "df_train.groupby(df_train['country'])['is_canceled'].mean().sort_values().tail(30).plot.bar(legend=1, figsize=(30,15), fontsize=30)"
   ]
  },
  {
   "cell_type": "markdown",
   "metadata": {},
   "source": [
    "Среди значимых признаков, влияющих на отмены модель выделила клиентов из Португалии и Франции, но видимо это произошло из-за того, что клиенты из этих стран чаще других бронируют номера. Очевидных взаимосвязей страны и вероятность отмены не выявлено."
   ]
  },
  {
   "cell_type": "markdown",
   "metadata": {},
   "source": [
    "<div class=\"alert alert-warning\">\n",
    "<h2>Комментарий ревьюера<a class=\"tocSkip\"></a></h2>\n",
    "    \n",
    "**Есть совет** ⚠️: для большей наглядности можно попробовать отобразить только самые популярные страны, например, топ-30</div>"
   ]
  },
  {
   "cell_type": "markdown",
   "metadata": {},
   "source": [
    "<div class=\"alert alert-info\">\n",
    "    <b>Комментарий студента v1:</b> Добавил вывод tail(30)\n",
    " </div>"
   ]
  },
  {
   "cell_type": "markdown",
   "metadata": {},
   "source": [
    "<div class=\"alert alert-warning\">\n",
    "<h2>Комментарий ревьюера v2<a class=\"tocSkip\"></a></h2>\n",
    "    \n",
    "**Есть совет** ⚠️: не совсем, вывод tail в этом случае покажет 30 стран с самой высокой долей отмен, а нам важнее посмотреть на долю оттока в 30 самых популярных странах, то есть с наибольшим количеством бронирований. Для этого можно попробовать построить, например, сводную таблицу:\n",
    "    \n",
    "    countries = df.pivot_table(index='country', values='is_canceled', aggfunc=['mean','count'])\\\n",
    "    countries.columns = ['mean', 'count']\n",
    "    countries = countries.sort_values(by='count', ascending=False)[:20]\n",
    "</div>"
   ]
  },
  {
   "cell_type": "markdown",
   "metadata": {},
   "source": [
    "`arrival_date_month`"
   ]
  },
  {
   "cell_type": "code",
   "execution_count": 229,
   "metadata": {},
   "outputs": [
    {
     "data": {
      "text/plain": [
       "arrival_date_month\n",
       "April        0.392590\n",
       "August       0.388889\n",
       "December     0.347953\n",
       "February     0.351995\n",
       "January      0.257536\n",
       "July         0.388423\n",
       "June         0.414556\n",
       "March        0.307859\n",
       "May          0.357708\n",
       "November     0.316612\n",
       "October      0.385347\n",
       "September    0.397062\n",
       "Name: is_canceled, dtype: float64"
      ]
     },
     "execution_count": 229,
     "metadata": {},
     "output_type": "execute_result"
    }
   ],
   "source": [
    "df_train.groupby(df_train['arrival_date_month'])['is_canceled'].mean()"
   ]
  },
  {
   "cell_type": "markdown",
   "metadata": {},
   "source": [
    "C точки зрения даты приезда, клиенты которые бронируют номера на январь отменяют бронь реже других."
   ]
  },
  {
   "cell_type": "markdown",
   "metadata": {},
   "source": [
    "`meal`"
   ]
  },
  {
   "cell_type": "code",
   "execution_count": 230,
   "metadata": {
    "scrolled": true
   },
   "outputs": [
    {
     "data": {
      "text/plain": [
       "meal\n",
       "BB    0.366285\n",
       "FB    0.689579\n",
       "HB    0.385080\n",
       "SC    0.343755\n",
       "Name: is_canceled, dtype: float64"
      ]
     },
     "execution_count": 230,
     "metadata": {},
     "output_type": "execute_result"
    }
   ],
   "source": [
    "df_train.groupby(df_train['meal'])['is_canceled'].mean()"
   ]
  },
  {
   "cell_type": "markdown",
   "metadata": {},
   "source": [
    "Если клиент заказал питание FB, то м вероятностью 70% отменит заказ."
   ]
  },
  {
   "cell_type": "markdown",
   "metadata": {},
   "source": [
    "`distributon_channel`"
   ]
  },
  {
   "cell_type": "code",
   "execution_count": 231,
   "metadata": {
    "scrolled": true
   },
   "outputs": [
    {
     "data": {
      "text/plain": [
       "distribution_channel\n",
       "Corporate    0.217425\n",
       "Direct       0.173234\n",
       "GDS          0.191919\n",
       "TA/TO        0.404143\n",
       "Name: is_canceled, dtype: float64"
      ]
     },
     "execution_count": 231,
     "metadata": {},
     "output_type": "execute_result"
    }
   ],
   "source": [
    "df_train.groupby(df_train['distribution_channel'])['is_canceled'].mean()"
   ]
  },
  {
   "cell_type": "markdown",
   "metadata": {},
   "source": [
    "Клиенты, чью заказы поступили по каналу дистрибуции TA/TO, отменяют бронь в 40% случаев."
   ]
  },
  {
   "cell_type": "markdown",
   "metadata": {},
   "source": [
    "`reserved_room_type`"
   ]
  },
  {
   "cell_type": "code",
   "execution_count": 232,
   "metadata": {
    "scrolled": true
   },
   "outputs": [
    {
     "data": {
      "text/plain": [
       "reserved_room_type\n",
       "A    0.390535\n",
       "B    0.303384\n",
       "C    0.188596\n",
       "D    0.305881\n",
       "E    0.248366\n",
       "F    0.286892\n",
       "G    0.322635\n",
       "Name: is_canceled, dtype: float64"
      ]
     },
     "execution_count": 232,
     "metadata": {},
     "output_type": "execute_result"
    }
   ],
   "source": [
    "df_train.groupby(df_train['reserved_room_type'])['is_canceled'].mean()"
   ]
  },
  {
   "cell_type": "markdown",
   "metadata": {},
   "source": [
    "Если клиент забронировал номера типа А, то отмена брони будет с вероятностью 40%"
   ]
  },
  {
   "cell_type": "markdown",
   "metadata": {},
   "source": [
    "**Вывод**<br>\n",
    "\n",
    "По результатам исследования, портрет ненадежного клиента выглядит следующим образом:\n",
    "* он бронирует номер больше чем за 2 месяца\n",
    "* при бронирование у клиент нет дополнительных пожеланий\n",
    "* ранее он уже отменял брони\n",
    "* ему не нужны парковочные места\n",
    "* клиент относится к типу клиентов \"Transient\" или \"Contract\"\n",
    "* клиент заказ питание FB\n",
    "* заявка на бронирование поступила по каналу дистрибуции каналу TA/TO\n",
    "* тип номера А"
   ]
  },
  {
   "cell_type": "markdown",
   "metadata": {},
   "source": [
    "<div class=\"alert alert-success\">\n",
    "<h2>Комментарий ревьюера<a class=\"tocSkip\"></a></h2>\n",
    "    \n",
    "**Отлично!** ✔️: классный получился портрет!</div>"
   ]
  },
  {
   "cell_type": "markdown",
   "metadata": {},
   "source": [
    "## Шаг 6. Напишите общий вывод"
   ]
  },
  {
   "cell_type": "markdown",
   "metadata": {},
   "source": [
    "##### * Предоставленные данные не содержали существенных ошибок. <br>\n",
    "<br>\n",
    "* Был выявлен дисбаланс целевого признака (отмена брони в 40% случаев).<br>\n",
    "<br>\n",
    "*  Было обучено 3 модели: RandomForestClassifier, DecisionTreeClassifier, LogisticRegresion. По метрике  f1 была выбрана модель RandomForestTree с метрикой f1 = 0.52797 на тестовых данных<br>\n",
    "<br>\n",
    "* Внедрение модели позволит увеличить прибыль на 5.9 млн, что превышает затраты на внедрение модели.<br>\n",
    "<br>\n",
    "* Был составлен портрет ненадежного клиента:\n",
    "    * он бронирует номер больше чем за 2 месяца\n",
    "    * при бронирование у клиент нет дополнительных пожеланий\n",
    "    * ранее он уже отменял брони\n",
    "    * ему не нужны парковочные места\n",
    "    * клиент относится к типу клиентов \"Transient\" или \"Contract\"\n",
    "    * клиент заказ питание FB\n",
    "    * заявка на бронирование поступила по каналу дистрибуции каналу TA/TO\n",
    "    * тип номера А\n"
   ]
  },
  {
   "cell_type": "markdown",
   "metadata": {},
   "source": [
    "<div style=\"padding: 20px 25px; border: 2px #6495ed solid\">\n",
    "    \n",
    "<h2 style=\"color: #87187D\">Итоговый комментарий ревьюера<a class=\"tocSkip\"></a></h2>\n",
    "\n",
    "Чистый и структурированный проект, спасибо, такие всегда приятно проверять!\n",
    "\n",
    "Но тебе обязательно нужно обратить внимание на следующее:\n",
    "* валидационную выборку выделять не нужно, так как в этом проекте все метрики(кроме финального тестирования) необходимо рассчитывать на кросс-валидации;\n",
    "* выбери основную метрику и аргументируй свой выбор: подходящих метрик тут может быть несколько, но по сути основная задача с точки зрения ML — это минимизировать количество ложноотрицательных ответов. Но если разобраться, то и бизнес-метрика вполне может быть основной метрикой для оценки моделей, здорово, если у тебя получится это реализовать;\n",
    "\n",
    "Остальные комментарии можно найти в проекте. Готов ответить на любые вопросы :)\n",
    "\n",
    "<b>Жду доработанный проект на повторное ревью! Удачи!</b>\n",
    "        \n",
    "</div>"
   ]
  },
  {
   "cell_type": "markdown",
   "metadata": {},
   "source": [
    "<div class=\"alert alert-info\">\n",
    "<h2> Комментарий студента v1<a class=\"tocSkip\"></h2>\n",
    "\n",
    "Алексей, спасибо за проверку проекта! А также за предложения и дополнительные ссылки, я их себе пометил, буду изучать.\n",
    "Постарался учесть все твои замечания. Основной вопрос у меня остается про дубли - каким образом их можно было бы обработать?\n",
    "\n",
    "Буду благодарен за советы общего характера - на что обратить внимание, что еще можно учесть. Например, на чтобы ты обратил внимание в первую очередь, если бы ты был моим руководителем и я прислал тебе такой проект )\n",
    "\n",
    "</div>"
   ]
  },
  {
   "cell_type": "markdown",
   "metadata": {},
   "source": [
    "<div style=\"padding: 20px 25px; border: 2px #6495ed solid\">\n",
    "    \n",
    "<h2 style=\"color: #87187D\">Итоговый комментарий ревьюера v2<a class=\"tocSkip\"></a></h2>\n",
    "\n",
    "Теперь то, что нужно, молодец!\n",
    "    \n",
    "Про дубликаты ответил в начале :) А в первую очередь в твоем проекте я бы обратил внимание на кодирование категориальных признаков, про которое я писал выше: важно запомнить, что любые виды предобработки(кодирование, масштабирование, метод главных компонент и т.д.) обучаются только на обучающей выборке, а трансформируются уже обе. Также очень рекомендую разобраться с пайплайнами, если будет время, очень удобный инструмент :)\n",
    "\n",
    "Ну а так как все критичные замечания исправлены, то теперь я могу принять твою работу\n",
    "\n",
    "<b>Успехов в обучении!</b>\n",
    "        \n",
    "</div>"
   ]
  },
  {
   "cell_type": "code",
   "execution_count": null,
   "metadata": {},
   "outputs": [],
   "source": []
  }
 ],
 "metadata": {
  "ExecuteTimeLog": [
   {
    "duration": 406,
    "start_time": "2023-01-11T08:36:02.314Z"
   },
   {
    "duration": 24,
    "start_time": "2023-01-11T08:38:27.852Z"
   },
   {
    "duration": 349,
    "start_time": "2023-01-11T08:39:16.575Z"
   },
   {
    "duration": 30,
    "start_time": "2023-01-11T09:04:16.335Z"
   },
   {
    "duration": 3,
    "start_time": "2023-01-11T09:04:47.636Z"
   },
   {
    "duration": 16,
    "start_time": "2023-01-11T09:04:50.454Z"
   },
   {
    "duration": 25,
    "start_time": "2023-01-11T09:05:31.286Z"
   },
   {
    "duration": 25,
    "start_time": "2023-01-11T09:08:09.234Z"
   },
   {
    "duration": 87,
    "start_time": "2023-01-11T09:08:21.210Z"
   },
   {
    "duration": 75,
    "start_time": "2023-01-11T09:08:32.052Z"
   },
   {
    "duration": 54,
    "start_time": "2023-01-11T09:11:46.766Z"
   },
   {
    "duration": 47,
    "start_time": "2023-01-11T09:14:13.385Z"
   },
   {
    "duration": 55,
    "start_time": "2023-01-11T09:15:58.634Z"
   },
   {
    "duration": 16,
    "start_time": "2023-01-11T09:16:17.964Z"
   },
   {
    "duration": 68,
    "start_time": "2023-01-11T09:16:23.834Z"
   },
   {
    "duration": 54,
    "start_time": "2023-01-11T09:16:51.591Z"
   },
   {
    "duration": 62,
    "start_time": "2023-01-11T09:39:50.477Z"
   },
   {
    "duration": 17,
    "start_time": "2023-01-11T09:41:03.153Z"
   },
   {
    "duration": 21,
    "start_time": "2023-01-11T09:41:12.846Z"
   },
   {
    "duration": 69,
    "start_time": "2023-01-11T09:41:28.544Z"
   },
   {
    "duration": 34,
    "start_time": "2023-01-11T09:41:41.170Z"
   },
   {
    "duration": 33,
    "start_time": "2023-01-11T09:41:53.931Z"
   },
   {
    "duration": 45,
    "start_time": "2023-01-11T09:41:58.417Z"
   },
   {
    "duration": 60,
    "start_time": "2023-01-11T09:42:44.035Z"
   },
   {
    "duration": 15,
    "start_time": "2023-01-11T10:00:38.051Z"
   },
   {
    "duration": 73,
    "start_time": "2023-01-11T10:00:44.958Z"
   },
   {
    "duration": 18,
    "start_time": "2023-01-11T10:01:07.347Z"
   },
   {
    "duration": 938,
    "start_time": "2023-01-11T10:01:55.376Z"
   },
   {
    "duration": 458,
    "start_time": "2023-01-11T10:02:16.849Z"
   },
   {
    "duration": 1231,
    "start_time": "2023-01-11T10:02:52.050Z"
   },
   {
    "duration": 964,
    "start_time": "2023-01-11T10:06:05.346Z"
   },
   {
    "duration": 1402,
    "start_time": "2023-01-11T10:06:08.353Z"
   },
   {
    "duration": 7,
    "start_time": "2023-01-11T10:06:25.572Z"
   },
   {
    "duration": 11,
    "start_time": "2023-01-11T10:06:44.224Z"
   },
   {
    "duration": 62,
    "start_time": "2023-01-11T10:08:02.542Z"
   },
   {
    "duration": 6,
    "start_time": "2023-01-11T10:08:20.485Z"
   },
   {
    "duration": 7,
    "start_time": "2023-01-11T10:09:07.351Z"
   },
   {
    "duration": 13,
    "start_time": "2023-01-11T10:09:15.042Z"
   },
   {
    "duration": 5863,
    "start_time": "2023-01-11T10:14:31.542Z"
   },
   {
    "duration": 10,
    "start_time": "2023-01-11T10:15:04.255Z"
   },
   {
    "duration": 168,
    "start_time": "2023-01-11T10:20:20.232Z"
   },
   {
    "duration": 140,
    "start_time": "2023-01-11T10:20:41.249Z"
   },
   {
    "duration": 220,
    "start_time": "2023-01-11T10:21:24.164Z"
   },
   {
    "duration": 155,
    "start_time": "2023-01-11T10:21:30.543Z"
   },
   {
    "duration": 105,
    "start_time": "2023-01-11T10:26:37.266Z"
   },
   {
    "duration": 9,
    "start_time": "2023-01-11T10:26:41.487Z"
   },
   {
    "duration": 150,
    "start_time": "2023-01-11T10:28:14.686Z"
   },
   {
    "duration": 10,
    "start_time": "2023-01-11T10:30:19.667Z"
   },
   {
    "duration": 50,
    "start_time": "2023-01-11T10:30:58.654Z"
   },
   {
    "duration": 7,
    "start_time": "2023-01-11T10:31:28.358Z"
   },
   {
    "duration": 12,
    "start_time": "2023-01-11T10:31:37.291Z"
   },
   {
    "duration": 7,
    "start_time": "2023-01-11T10:31:46.569Z"
   },
   {
    "duration": 913,
    "start_time": "2023-01-11T10:32:51.791Z"
   },
   {
    "duration": 5,
    "start_time": "2023-01-11T10:33:04.203Z"
   },
   {
    "duration": 4,
    "start_time": "2023-01-11T10:33:18.109Z"
   },
   {
    "duration": 8,
    "start_time": "2023-01-11T10:33:48.870Z"
   },
   {
    "duration": 9,
    "start_time": "2023-01-11T10:33:52.059Z"
   },
   {
    "duration": 8,
    "start_time": "2023-01-11T10:34:23.198Z"
   },
   {
    "duration": 4,
    "start_time": "2023-01-11T10:34:37.248Z"
   },
   {
    "duration": 10,
    "start_time": "2023-01-11T10:34:46.350Z"
   },
   {
    "duration": 5,
    "start_time": "2023-01-11T10:34:51.969Z"
   },
   {
    "duration": 13,
    "start_time": "2023-01-11T10:35:10.750Z"
   },
   {
    "duration": 7,
    "start_time": "2023-01-11T10:35:18.179Z"
   },
   {
    "duration": 11,
    "start_time": "2023-01-11T10:35:26.816Z"
   },
   {
    "duration": 4,
    "start_time": "2023-01-11T10:35:32.196Z"
   },
   {
    "duration": 89,
    "start_time": "2023-01-11T10:36:36.499Z"
   },
   {
    "duration": 4,
    "start_time": "2023-01-11T10:37:03.111Z"
   },
   {
    "duration": 59,
    "start_time": "2023-01-11T10:39:26.184Z"
   },
   {
    "duration": 59,
    "start_time": "2023-01-11T10:39:52.805Z"
   },
   {
    "duration": 4,
    "start_time": "2023-01-11T10:40:08.854Z"
   },
   {
    "duration": 65,
    "start_time": "2023-01-11T10:41:20.761Z"
   },
   {
    "duration": 57,
    "start_time": "2023-01-11T10:41:23.237Z"
   },
   {
    "duration": 5,
    "start_time": "2023-01-11T10:41:44.142Z"
   },
   {
    "duration": 6,
    "start_time": "2023-01-11T10:41:55.840Z"
   },
   {
    "duration": 74,
    "start_time": "2023-01-11T10:43:00.100Z"
   },
   {
    "duration": 8,
    "start_time": "2023-01-11T10:43:27.323Z"
   },
   {
    "duration": 36,
    "start_time": "2023-01-11T10:44:15.548Z"
   },
   {
    "duration": 62,
    "start_time": "2023-01-11T10:46:00.347Z"
   },
   {
    "duration": 4,
    "start_time": "2023-01-11T10:46:18.048Z"
   },
   {
    "duration": 52,
    "start_time": "2023-01-11T10:46:52.548Z"
   },
   {
    "duration": 69,
    "start_time": "2023-01-11T10:46:59.115Z"
   },
   {
    "duration": 4,
    "start_time": "2023-01-11T10:47:16.336Z"
   },
   {
    "duration": 54,
    "start_time": "2023-01-11T11:02:14.437Z"
   },
   {
    "duration": 7,
    "start_time": "2023-01-11T11:02:19.713Z"
   },
   {
    "duration": 212,
    "start_time": "2023-01-11T11:02:26.112Z"
   },
   {
    "duration": 40,
    "start_time": "2023-01-11T11:02:39.677Z"
   },
   {
    "duration": 227,
    "start_time": "2023-01-11T11:02:51.330Z"
   },
   {
    "duration": 10,
    "start_time": "2023-01-11T11:03:06.168Z"
   },
   {
    "duration": 11,
    "start_time": "2023-01-11T11:03:20.833Z"
   },
   {
    "duration": 18,
    "start_time": "2023-01-11T11:07:04.737Z"
   },
   {
    "duration": 140,
    "start_time": "2023-01-11T11:08:12.336Z"
   },
   {
    "duration": 8,
    "start_time": "2023-01-11T11:08:28.928Z"
   },
   {
    "duration": 5,
    "start_time": "2023-01-11T11:08:56.977Z"
   },
   {
    "duration": 4,
    "start_time": "2023-01-11T11:09:16.785Z"
   },
   {
    "duration": 5,
    "start_time": "2023-01-11T11:09:35.694Z"
   },
   {
    "duration": 5,
    "start_time": "2023-01-11T11:09:48.464Z"
   },
   {
    "duration": 5,
    "start_time": "2023-01-11T11:10:03.135Z"
   },
   {
    "duration": 11,
    "start_time": "2023-01-11T11:10:28.161Z"
   },
   {
    "duration": 82,
    "start_time": "2023-01-11T11:15:33.637Z"
   },
   {
    "duration": 20,
    "start_time": "2023-01-11T11:15:37.213Z"
   },
   {
    "duration": 41,
    "start_time": "2023-01-11T11:15:44.915Z"
   },
   {
    "duration": 14,
    "start_time": "2023-01-11T11:16:16.591Z"
   },
   {
    "duration": 7,
    "start_time": "2023-01-11T11:16:41.118Z"
   },
   {
    "duration": 8,
    "start_time": "2023-01-11T11:16:49.827Z"
   },
   {
    "duration": 4,
    "start_time": "2023-01-11T11:16:52.766Z"
   },
   {
    "duration": 5,
    "start_time": "2023-01-11T11:17:37.511Z"
   },
   {
    "duration": 64,
    "start_time": "2023-01-11T11:17:55.280Z"
   },
   {
    "duration": 6,
    "start_time": "2023-01-11T11:18:13.616Z"
   },
   {
    "duration": 17,
    "start_time": "2023-01-11T11:19:02.137Z"
   },
   {
    "duration": 16,
    "start_time": "2023-01-11T11:20:20.788Z"
   },
   {
    "duration": 9,
    "start_time": "2023-01-11T11:20:44.049Z"
   },
   {
    "duration": 7,
    "start_time": "2023-01-11T11:21:27.192Z"
   },
   {
    "duration": 8,
    "start_time": "2023-01-11T11:21:53.634Z"
   },
   {
    "duration": 66,
    "start_time": "2023-01-11T11:23:30.584Z"
   },
   {
    "duration": 34,
    "start_time": "2023-01-11T11:24:34.351Z"
   },
   {
    "duration": 17,
    "start_time": "2023-01-11T11:24:59.245Z"
   },
   {
    "duration": 19,
    "start_time": "2023-01-11T11:25:38.865Z"
   },
   {
    "duration": 9,
    "start_time": "2023-01-11T11:26:51.483Z"
   },
   {
    "duration": 18,
    "start_time": "2023-01-11T11:27:43.119Z"
   },
   {
    "duration": 12,
    "start_time": "2023-01-11T11:28:51.425Z"
   },
   {
    "duration": 7,
    "start_time": "2023-01-11T11:29:08.559Z"
   },
   {
    "duration": 50,
    "start_time": "2023-01-11T11:29:36.073Z"
   },
   {
    "duration": 5,
    "start_time": "2023-01-11T11:29:55.586Z"
   },
   {
    "duration": 7,
    "start_time": "2023-01-11T11:30:30.739Z"
   },
   {
    "duration": 53,
    "start_time": "2023-01-11T11:30:55.115Z"
   },
   {
    "duration": 5,
    "start_time": "2023-01-11T11:31:26.629Z"
   },
   {
    "duration": 5,
    "start_time": "2023-01-11T11:31:43.210Z"
   },
   {
    "duration": 62,
    "start_time": "2023-01-11T11:32:13.573Z"
   },
   {
    "duration": 4,
    "start_time": "2023-01-11T11:32:39.072Z"
   },
   {
    "duration": 15,
    "start_time": "2023-01-11T11:32:59.319Z"
   },
   {
    "duration": 5,
    "start_time": "2023-01-11T11:33:07.039Z"
   },
   {
    "duration": 88,
    "start_time": "2023-01-11T11:33:59.713Z"
   },
   {
    "duration": 7,
    "start_time": "2023-01-11T11:34:18.679Z"
   },
   {
    "duration": 6,
    "start_time": "2023-01-11T11:34:38.678Z"
   },
   {
    "duration": 59,
    "start_time": "2023-01-11T11:35:20.457Z"
   },
   {
    "duration": 4,
    "start_time": "2023-01-11T11:35:38.088Z"
   },
   {
    "duration": 4,
    "start_time": "2023-01-11T11:36:00.480Z"
   },
   {
    "duration": 19,
    "start_time": "2023-01-11T11:36:37.819Z"
   },
   {
    "duration": 151,
    "start_time": "2023-01-11T11:36:51.646Z"
   },
   {
    "duration": 17,
    "start_time": "2023-01-11T11:37:35.620Z"
   },
   {
    "duration": 13,
    "start_time": "2023-01-11T11:37:42.828Z"
   },
   {
    "duration": 0,
    "start_time": "2023-01-11T11:39:07.845Z"
   },
   {
    "duration": 54,
    "start_time": "2023-01-11T11:39:52.694Z"
   },
   {
    "duration": 632,
    "start_time": "2023-01-11T11:40:08.047Z"
   },
   {
    "duration": 408,
    "start_time": "2023-01-11T11:40:08.681Z"
   },
   {
    "duration": 3,
    "start_time": "2023-01-11T11:40:09.090Z"
   },
   {
    "duration": 23,
    "start_time": "2023-01-11T11:40:09.095Z"
   },
   {
    "duration": 34,
    "start_time": "2023-01-11T11:40:09.119Z"
   },
   {
    "duration": 94,
    "start_time": "2023-01-11T11:40:09.155Z"
   },
   {
    "duration": 56,
    "start_time": "2023-01-11T11:40:09.251Z"
   },
   {
    "duration": 71,
    "start_time": "2023-01-11T11:40:09.309Z"
   },
   {
    "duration": 88,
    "start_time": "2023-01-11T11:40:09.382Z"
   },
   {
    "duration": 16,
    "start_time": "2023-01-11T11:40:09.474Z"
   },
   {
    "duration": 44,
    "start_time": "2023-01-11T11:40:09.492Z"
   },
   {
    "duration": 74,
    "start_time": "2023-01-11T11:40:09.538Z"
   },
   {
    "duration": 45,
    "start_time": "2023-01-11T11:40:09.615Z"
   },
   {
    "duration": 27,
    "start_time": "2023-01-11T11:40:09.662Z"
   },
   {
    "duration": 61,
    "start_time": "2023-01-11T11:40:09.691Z"
   },
   {
    "duration": 13,
    "start_time": "2023-01-11T11:40:09.753Z"
   },
   {
    "duration": 11,
    "start_time": "2023-01-11T11:40:09.768Z"
   },
   {
    "duration": 7,
    "start_time": "2023-01-11T11:40:09.782Z"
   },
   {
    "duration": 173,
    "start_time": "2023-01-11T11:40:09.790Z"
   },
   {
    "duration": 156,
    "start_time": "2023-01-11T11:40:09.965Z"
   },
   {
    "duration": 22,
    "start_time": "2023-01-11T11:40:10.122Z"
   },
   {
    "duration": 15,
    "start_time": "2023-01-11T11:40:10.148Z"
   },
   {
    "duration": 6,
    "start_time": "2023-01-11T11:40:10.164Z"
   },
   {
    "duration": 5,
    "start_time": "2023-01-11T11:40:10.172Z"
   },
   {
    "duration": 4,
    "start_time": "2023-01-11T11:40:10.179Z"
   },
   {
    "duration": 39,
    "start_time": "2023-01-11T11:40:10.185Z"
   },
   {
    "duration": 8,
    "start_time": "2023-01-11T11:40:10.225Z"
   },
   {
    "duration": 9,
    "start_time": "2023-01-11T11:40:10.239Z"
   },
   {
    "duration": 12,
    "start_time": "2023-01-11T11:40:10.249Z"
   },
   {
    "duration": 7,
    "start_time": "2023-01-11T11:40:10.263Z"
   },
   {
    "duration": 6,
    "start_time": "2023-01-11T11:40:10.272Z"
   },
   {
    "duration": 8,
    "start_time": "2023-01-11T11:40:10.279Z"
   },
   {
    "duration": 36,
    "start_time": "2023-01-11T11:40:10.289Z"
   },
   {
    "duration": 25,
    "start_time": "2023-01-11T11:40:10.326Z"
   },
   {
    "duration": 9,
    "start_time": "2023-01-11T11:40:10.353Z"
   },
   {
    "duration": 12,
    "start_time": "2023-01-11T11:40:10.364Z"
   },
   {
    "duration": 5,
    "start_time": "2023-01-11T11:40:10.378Z"
   },
   {
    "duration": 5,
    "start_time": "2023-01-11T11:40:10.384Z"
   },
   {
    "duration": 44,
    "start_time": "2023-01-11T11:40:10.391Z"
   },
   {
    "duration": 9,
    "start_time": "2023-01-11T11:40:10.438Z"
   },
   {
    "duration": 18,
    "start_time": "2023-01-11T11:40:10.449Z"
   },
   {
    "duration": 96,
    "start_time": "2023-01-11T11:40:10.469Z"
   },
   {
    "duration": 0,
    "start_time": "2023-01-11T11:40:10.567Z"
   },
   {
    "duration": 0,
    "start_time": "2023-01-11T11:40:10.569Z"
   },
   {
    "duration": 0,
    "start_time": "2023-01-11T11:40:10.570Z"
   },
   {
    "duration": 0,
    "start_time": "2023-01-11T11:40:10.571Z"
   },
   {
    "duration": 0,
    "start_time": "2023-01-11T11:40:10.572Z"
   },
   {
    "duration": 0,
    "start_time": "2023-01-11T11:40:10.573Z"
   },
   {
    "duration": 0,
    "start_time": "2023-01-11T11:40:10.574Z"
   },
   {
    "duration": 0,
    "start_time": "2023-01-11T11:40:10.576Z"
   },
   {
    "duration": 0,
    "start_time": "2023-01-11T11:40:10.578Z"
   },
   {
    "duration": 0,
    "start_time": "2023-01-11T11:40:10.579Z"
   },
   {
    "duration": 0,
    "start_time": "2023-01-11T11:40:10.580Z"
   },
   {
    "duration": 0,
    "start_time": "2023-01-11T11:40:10.581Z"
   },
   {
    "duration": 0,
    "start_time": "2023-01-11T11:40:10.582Z"
   },
   {
    "duration": 0,
    "start_time": "2023-01-11T11:40:10.583Z"
   },
   {
    "duration": 0,
    "start_time": "2023-01-11T11:40:10.584Z"
   },
   {
    "duration": 0,
    "start_time": "2023-01-11T11:40:10.586Z"
   },
   {
    "duration": 0,
    "start_time": "2023-01-11T11:40:10.622Z"
   },
   {
    "duration": 0,
    "start_time": "2023-01-11T11:40:10.623Z"
   },
   {
    "duration": 0,
    "start_time": "2023-01-11T11:40:10.627Z"
   },
   {
    "duration": 10,
    "start_time": "2023-01-11T11:40:30.547Z"
   },
   {
    "duration": 630,
    "start_time": "2023-01-11T11:40:41.042Z"
   },
   {
    "duration": 231,
    "start_time": "2023-01-11T11:40:41.673Z"
   },
   {
    "duration": 3,
    "start_time": "2023-01-11T11:40:41.906Z"
   },
   {
    "duration": 34,
    "start_time": "2023-01-11T11:40:41.912Z"
   },
   {
    "duration": 33,
    "start_time": "2023-01-11T11:40:41.948Z"
   },
   {
    "duration": 99,
    "start_time": "2023-01-11T11:40:41.982Z"
   },
   {
    "duration": 77,
    "start_time": "2023-01-11T11:40:42.083Z"
   },
   {
    "duration": 76,
    "start_time": "2023-01-11T11:40:42.162Z"
   },
   {
    "duration": 59,
    "start_time": "2023-01-11T11:40:42.240Z"
   },
   {
    "duration": 30,
    "start_time": "2023-01-11T11:40:42.301Z"
   },
   {
    "duration": 26,
    "start_time": "2023-01-11T11:40:42.333Z"
   },
   {
    "duration": 80,
    "start_time": "2023-01-11T11:40:42.361Z"
   },
   {
    "duration": 34,
    "start_time": "2023-01-11T11:40:42.442Z"
   },
   {
    "duration": 63,
    "start_time": "2023-01-11T11:40:42.478Z"
   },
   {
    "duration": 33,
    "start_time": "2023-01-11T11:40:42.543Z"
   },
   {
    "duration": 15,
    "start_time": "2023-01-11T11:40:42.577Z"
   },
   {
    "duration": 44,
    "start_time": "2023-01-11T11:40:42.594Z"
   },
   {
    "duration": 32,
    "start_time": "2023-01-11T11:40:42.640Z"
   },
   {
    "duration": 193,
    "start_time": "2023-01-11T11:40:42.673Z"
   },
   {
    "duration": 132,
    "start_time": "2023-01-11T11:40:42.868Z"
   },
   {
    "duration": 30,
    "start_time": "2023-01-11T11:40:43.002Z"
   },
   {
    "duration": 15,
    "start_time": "2023-01-11T11:40:43.036Z"
   },
   {
    "duration": 15,
    "start_time": "2023-01-11T11:40:43.053Z"
   },
   {
    "duration": 15,
    "start_time": "2023-01-11T11:40:43.070Z"
   },
   {
    "duration": 16,
    "start_time": "2023-01-11T11:40:43.087Z"
   },
   {
    "duration": 6,
    "start_time": "2023-01-11T11:40:43.105Z"
   },
   {
    "duration": 17,
    "start_time": "2023-01-11T11:40:43.113Z"
   },
   {
    "duration": 7,
    "start_time": "2023-01-11T11:40:43.135Z"
   },
   {
    "duration": 7,
    "start_time": "2023-01-11T11:40:43.144Z"
   },
   {
    "duration": 13,
    "start_time": "2023-01-11T11:40:43.152Z"
   },
   {
    "duration": 8,
    "start_time": "2023-01-11T11:40:43.167Z"
   },
   {
    "duration": 17,
    "start_time": "2023-01-11T11:40:43.177Z"
   },
   {
    "duration": 8,
    "start_time": "2023-01-11T11:40:43.195Z"
   },
   {
    "duration": 47,
    "start_time": "2023-01-11T11:40:43.205Z"
   },
   {
    "duration": 18,
    "start_time": "2023-01-11T11:40:43.253Z"
   },
   {
    "duration": 12,
    "start_time": "2023-01-11T11:40:43.273Z"
   },
   {
    "duration": 6,
    "start_time": "2023-01-11T11:40:43.287Z"
   },
   {
    "duration": 9,
    "start_time": "2023-01-11T11:40:43.294Z"
   },
   {
    "duration": 8,
    "start_time": "2023-01-11T11:40:43.321Z"
   },
   {
    "duration": 28,
    "start_time": "2023-01-11T11:40:43.331Z"
   },
   {
    "duration": 20,
    "start_time": "2023-01-11T11:40:43.361Z"
   },
   {
    "duration": 13,
    "start_time": "2023-01-11T11:40:43.383Z"
   },
   {
    "duration": 8,
    "start_time": "2023-01-11T11:40:43.398Z"
   },
   {
    "duration": 15,
    "start_time": "2023-01-11T11:40:43.408Z"
   },
   {
    "duration": 43,
    "start_time": "2023-01-11T11:40:43.425Z"
   },
   {
    "duration": 15,
    "start_time": "2023-01-11T11:40:43.470Z"
   },
   {
    "duration": 21,
    "start_time": "2023-01-11T11:40:43.487Z"
   },
   {
    "duration": 18,
    "start_time": "2023-01-11T11:40:43.510Z"
   },
   {
    "duration": 23,
    "start_time": "2023-01-11T11:40:43.529Z"
   },
   {
    "duration": 13,
    "start_time": "2023-01-11T11:40:43.554Z"
   },
   {
    "duration": 10,
    "start_time": "2023-01-11T11:40:43.569Z"
   },
   {
    "duration": 6,
    "start_time": "2023-01-11T11:40:43.580Z"
   },
   {
    "duration": 18,
    "start_time": "2023-01-11T11:40:43.588Z"
   },
   {
    "duration": 51,
    "start_time": "2023-01-11T11:40:43.607Z"
   },
   {
    "duration": 0,
    "start_time": "2023-01-11T11:40:43.660Z"
   },
   {
    "duration": 0,
    "start_time": "2023-01-11T11:40:43.661Z"
   },
   {
    "duration": 0,
    "start_time": "2023-01-11T11:40:43.663Z"
   },
   {
    "duration": 0,
    "start_time": "2023-01-11T11:40:43.664Z"
   },
   {
    "duration": 0,
    "start_time": "2023-01-11T11:40:43.665Z"
   },
   {
    "duration": 0,
    "start_time": "2023-01-11T11:40:43.666Z"
   },
   {
    "duration": 0,
    "start_time": "2023-01-11T11:40:43.667Z"
   },
   {
    "duration": 584,
    "start_time": "2023-01-11T11:40:57.879Z"
   },
   {
    "duration": 261,
    "start_time": "2023-01-11T11:40:58.465Z"
   },
   {
    "duration": 11,
    "start_time": "2023-01-11T11:40:58.728Z"
   },
   {
    "duration": 38,
    "start_time": "2023-01-11T11:40:58.742Z"
   },
   {
    "duration": 26,
    "start_time": "2023-01-11T11:40:58.783Z"
   },
   {
    "duration": 92,
    "start_time": "2023-01-11T11:40:58.811Z"
   },
   {
    "duration": 108,
    "start_time": "2023-01-11T11:40:58.905Z"
   },
   {
    "duration": 80,
    "start_time": "2023-01-11T11:40:59.015Z"
   },
   {
    "duration": 86,
    "start_time": "2023-01-11T11:40:59.097Z"
   },
   {
    "duration": 47,
    "start_time": "2023-01-11T11:40:59.187Z"
   },
   {
    "duration": 59,
    "start_time": "2023-01-11T11:40:59.236Z"
   },
   {
    "duration": 76,
    "start_time": "2023-01-11T11:40:59.297Z"
   },
   {
    "duration": 35,
    "start_time": "2023-01-11T11:40:59.375Z"
   },
   {
    "duration": 47,
    "start_time": "2023-01-11T11:40:59.412Z"
   },
   {
    "duration": 30,
    "start_time": "2023-01-11T11:40:59.460Z"
   },
   {
    "duration": 43,
    "start_time": "2023-01-11T11:40:59.492Z"
   },
   {
    "duration": 22,
    "start_time": "2023-01-11T11:40:59.537Z"
   },
   {
    "duration": 6,
    "start_time": "2023-01-11T11:40:59.561Z"
   },
   {
    "duration": 181,
    "start_time": "2023-01-11T11:40:59.569Z"
   },
   {
    "duration": 169,
    "start_time": "2023-01-11T11:40:59.752Z"
   },
   {
    "duration": 26,
    "start_time": "2023-01-11T11:40:59.923Z"
   },
   {
    "duration": 10,
    "start_time": "2023-01-11T11:40:59.951Z"
   },
   {
    "duration": 8,
    "start_time": "2023-01-11T11:40:59.962Z"
   },
   {
    "duration": 10,
    "start_time": "2023-01-11T11:40:59.971Z"
   },
   {
    "duration": 11,
    "start_time": "2023-01-11T11:40:59.983Z"
   },
   {
    "duration": 25,
    "start_time": "2023-01-11T11:40:59.996Z"
   },
   {
    "duration": 14,
    "start_time": "2023-01-11T11:41:00.023Z"
   },
   {
    "duration": 6,
    "start_time": "2023-01-11T11:41:00.044Z"
   },
   {
    "duration": 11,
    "start_time": "2023-01-11T11:41:00.052Z"
   },
   {
    "duration": 21,
    "start_time": "2023-01-11T11:41:00.064Z"
   },
   {
    "duration": 13,
    "start_time": "2023-01-11T11:41:00.087Z"
   },
   {
    "duration": 37,
    "start_time": "2023-01-11T11:41:00.101Z"
   },
   {
    "duration": 13,
    "start_time": "2023-01-11T11:41:00.140Z"
   },
   {
    "duration": 32,
    "start_time": "2023-01-11T11:41:00.155Z"
   },
   {
    "duration": 61,
    "start_time": "2023-01-11T11:41:00.188Z"
   },
   {
    "duration": 46,
    "start_time": "2023-01-11T11:41:00.251Z"
   },
   {
    "duration": 32,
    "start_time": "2023-01-11T11:41:00.299Z"
   },
   {
    "duration": 21,
    "start_time": "2023-01-11T11:41:00.335Z"
   },
   {
    "duration": 31,
    "start_time": "2023-01-11T11:41:00.357Z"
   },
   {
    "duration": 31,
    "start_time": "2023-01-11T11:41:00.390Z"
   },
   {
    "duration": 65,
    "start_time": "2023-01-11T11:41:00.422Z"
   },
   {
    "duration": 45,
    "start_time": "2023-01-11T11:41:00.489Z"
   },
   {
    "duration": 14,
    "start_time": "2023-01-11T11:41:00.536Z"
   },
   {
    "duration": 20,
    "start_time": "2023-01-11T11:41:00.551Z"
   },
   {
    "duration": 38,
    "start_time": "2023-01-11T11:41:00.573Z"
   },
   {
    "duration": 36,
    "start_time": "2023-01-11T11:41:00.613Z"
   },
   {
    "duration": 37,
    "start_time": "2023-01-11T11:41:00.651Z"
   },
   {
    "duration": 50,
    "start_time": "2023-01-11T11:41:00.690Z"
   },
   {
    "duration": 52,
    "start_time": "2023-01-11T11:41:00.742Z"
   },
   {
    "duration": 42,
    "start_time": "2023-01-11T11:41:00.796Z"
   },
   {
    "duration": 34,
    "start_time": "2023-01-11T11:41:00.839Z"
   },
   {
    "duration": 45,
    "start_time": "2023-01-11T11:41:00.875Z"
   },
   {
    "duration": 39,
    "start_time": "2023-01-11T11:41:00.926Z"
   },
   {
    "duration": 42,
    "start_time": "2023-01-11T11:41:00.967Z"
   },
   {
    "duration": 63,
    "start_time": "2023-01-11T11:41:01.011Z"
   },
   {
    "duration": 38,
    "start_time": "2023-01-11T11:41:01.076Z"
   },
   {
    "duration": 86,
    "start_time": "2023-01-11T11:41:01.116Z"
   },
   {
    "duration": 39,
    "start_time": "2023-01-11T11:41:01.203Z"
   },
   {
    "duration": 23,
    "start_time": "2023-01-11T11:41:01.245Z"
   },
   {
    "duration": 33,
    "start_time": "2023-01-11T11:41:01.270Z"
   },
   {
    "duration": 0,
    "start_time": "2023-01-11T11:45:17.721Z"
   },
   {
    "duration": 126,
    "start_time": "2023-01-11T11:45:20.139Z"
   },
   {
    "duration": 121,
    "start_time": "2023-01-11T11:45:43.990Z"
   },
   {
    "duration": 64,
    "start_time": "2023-01-11T11:46:08.800Z"
   },
   {
    "duration": 53,
    "start_time": "2023-01-11T11:46:11.141Z"
   },
   {
    "duration": 7,
    "start_time": "2023-01-11T11:46:29.112Z"
   },
   {
    "duration": 7,
    "start_time": "2023-01-11T11:46:39.337Z"
   },
   {
    "duration": 52,
    "start_time": "2023-01-11T11:47:08.620Z"
   },
   {
    "duration": 46,
    "start_time": "2023-01-11T11:47:32.066Z"
   },
   {
    "duration": 5,
    "start_time": "2023-01-11T11:47:46.439Z"
   },
   {
    "duration": 6,
    "start_time": "2023-01-11T11:47:57.989Z"
   },
   {
    "duration": 10,
    "start_time": "2023-01-11T11:48:28.539Z"
   },
   {
    "duration": 661,
    "start_time": "2023-01-11T11:49:03.798Z"
   },
   {
    "duration": 245,
    "start_time": "2023-01-11T11:49:04.461Z"
   },
   {
    "duration": 3,
    "start_time": "2023-01-11T11:49:04.708Z"
   },
   {
    "duration": 47,
    "start_time": "2023-01-11T11:49:04.713Z"
   },
   {
    "duration": 41,
    "start_time": "2023-01-11T11:49:04.761Z"
   },
   {
    "duration": 82,
    "start_time": "2023-01-11T11:49:04.804Z"
   },
   {
    "duration": 76,
    "start_time": "2023-01-11T11:49:04.887Z"
   },
   {
    "duration": 76,
    "start_time": "2023-01-11T11:49:04.964Z"
   },
   {
    "duration": 53,
    "start_time": "2023-01-11T11:49:05.042Z"
   },
   {
    "duration": 32,
    "start_time": "2023-01-11T11:49:05.098Z"
   },
   {
    "duration": 36,
    "start_time": "2023-01-11T11:49:05.131Z"
   },
   {
    "duration": 68,
    "start_time": "2023-01-11T11:49:05.169Z"
   },
   {
    "duration": 41,
    "start_time": "2023-01-11T11:49:05.239Z"
   },
   {
    "duration": 53,
    "start_time": "2023-01-11T11:49:05.282Z"
   },
   {
    "duration": 33,
    "start_time": "2023-01-11T11:49:05.337Z"
   },
   {
    "duration": 23,
    "start_time": "2023-01-11T11:49:05.372Z"
   },
   {
    "duration": 65,
    "start_time": "2023-01-11T11:49:05.397Z"
   },
   {
    "duration": 21,
    "start_time": "2023-01-11T11:49:05.464Z"
   },
   {
    "duration": 203,
    "start_time": "2023-01-11T11:49:05.487Z"
   },
   {
    "duration": 150,
    "start_time": "2023-01-11T11:49:05.691Z"
   },
   {
    "duration": 16,
    "start_time": "2023-01-11T11:49:05.842Z"
   },
   {
    "duration": 19,
    "start_time": "2023-01-11T11:49:05.860Z"
   },
   {
    "duration": 15,
    "start_time": "2023-01-11T11:49:05.881Z"
   },
   {
    "duration": 17,
    "start_time": "2023-01-11T11:49:05.898Z"
   },
   {
    "duration": 41,
    "start_time": "2023-01-11T11:49:05.917Z"
   },
   {
    "duration": 16,
    "start_time": "2023-01-11T11:49:05.960Z"
   },
   {
    "duration": 24,
    "start_time": "2023-01-11T11:49:05.978Z"
   },
   {
    "duration": 12,
    "start_time": "2023-01-11T11:49:06.006Z"
   },
   {
    "duration": 36,
    "start_time": "2023-01-11T11:49:06.020Z"
   },
   {
    "duration": 20,
    "start_time": "2023-01-11T11:49:06.058Z"
   },
   {
    "duration": 17,
    "start_time": "2023-01-11T11:49:06.080Z"
   },
   {
    "duration": 13,
    "start_time": "2023-01-11T11:49:06.099Z"
   },
   {
    "duration": 7,
    "start_time": "2023-01-11T11:49:06.113Z"
   },
   {
    "duration": 42,
    "start_time": "2023-01-11T11:49:06.121Z"
   },
   {
    "duration": 25,
    "start_time": "2023-01-11T11:49:06.165Z"
   },
   {
    "duration": 17,
    "start_time": "2023-01-11T11:49:06.192Z"
   },
   {
    "duration": 7,
    "start_time": "2023-01-11T11:49:06.211Z"
   },
   {
    "duration": 22,
    "start_time": "2023-01-11T11:49:06.220Z"
   },
   {
    "duration": 33,
    "start_time": "2023-01-11T11:49:06.244Z"
   },
   {
    "duration": 7,
    "start_time": "2023-01-11T11:49:06.279Z"
   },
   {
    "duration": 23,
    "start_time": "2023-01-11T11:49:06.288Z"
   },
   {
    "duration": 37,
    "start_time": "2023-01-11T11:49:06.313Z"
   },
   {
    "duration": 20,
    "start_time": "2023-01-11T11:49:06.352Z"
   },
   {
    "duration": 25,
    "start_time": "2023-01-11T11:49:06.374Z"
   },
   {
    "duration": 54,
    "start_time": "2023-01-11T11:49:06.402Z"
   },
   {
    "duration": 41,
    "start_time": "2023-01-11T11:49:06.458Z"
   },
   {
    "duration": 51,
    "start_time": "2023-01-11T11:49:06.501Z"
   },
   {
    "duration": 50,
    "start_time": "2023-01-11T11:49:06.553Z"
   },
   {
    "duration": 9,
    "start_time": "2023-01-11T11:49:06.605Z"
   },
   {
    "duration": 27,
    "start_time": "2023-01-11T11:49:06.616Z"
   },
   {
    "duration": 6,
    "start_time": "2023-01-11T11:49:06.645Z"
   },
   {
    "duration": 11,
    "start_time": "2023-01-11T11:49:06.653Z"
   },
   {
    "duration": 9,
    "start_time": "2023-01-11T11:49:06.665Z"
   },
   {
    "duration": 7,
    "start_time": "2023-01-11T11:49:06.675Z"
   },
   {
    "duration": 6,
    "start_time": "2023-01-11T11:49:06.684Z"
   },
   {
    "duration": 7,
    "start_time": "2023-01-11T11:49:06.692Z"
   },
   {
    "duration": 26,
    "start_time": "2023-01-11T11:49:06.721Z"
   },
   {
    "duration": 18,
    "start_time": "2023-01-11T11:49:06.749Z"
   },
   {
    "duration": 13,
    "start_time": "2023-01-11T11:49:06.768Z"
   },
   {
    "duration": 12,
    "start_time": "2023-01-11T11:49:06.783Z"
   },
   {
    "duration": 142,
    "start_time": "2023-01-11T11:49:06.797Z"
   },
   {
    "duration": 131,
    "start_time": "2023-01-11T11:49:06.940Z"
   },
   {
    "duration": 11,
    "start_time": "2023-01-11T11:49:07.074Z"
   },
   {
    "duration": 7,
    "start_time": "2023-01-11T11:49:07.087Z"
   },
   {
    "duration": 40,
    "start_time": "2023-01-11T11:49:07.096Z"
   },
   {
    "duration": 10,
    "start_time": "2023-01-11T11:49:07.138Z"
   },
   {
    "duration": 16,
    "start_time": "2023-01-11T11:49:07.150Z"
   },
   {
    "duration": 5,
    "start_time": "2023-01-11T11:50:04.878Z"
   },
   {
    "duration": 5,
    "start_time": "2023-01-11T11:50:15.819Z"
   },
   {
    "duration": 60,
    "start_time": "2023-01-11T11:50:41.027Z"
   },
   {
    "duration": 17,
    "start_time": "2023-01-11T11:51:05.819Z"
   },
   {
    "duration": 5,
    "start_time": "2023-01-11T11:51:10.736Z"
   },
   {
    "duration": 5,
    "start_time": "2023-01-11T11:51:21.403Z"
   },
   {
    "duration": 85,
    "start_time": "2023-01-11T14:17:45.486Z"
   },
   {
    "duration": 65,
    "start_time": "2023-01-11T14:18:37.655Z"
   },
   {
    "duration": 819,
    "start_time": "2023-01-11T14:18:54.323Z"
   },
   {
    "duration": 827,
    "start_time": "2023-01-11T14:18:55.144Z"
   },
   {
    "duration": 4,
    "start_time": "2023-01-11T14:18:55.973Z"
   },
   {
    "duration": 55,
    "start_time": "2023-01-11T14:18:55.980Z"
   },
   {
    "duration": 25,
    "start_time": "2023-01-11T14:18:56.037Z"
   },
   {
    "duration": 96,
    "start_time": "2023-01-11T14:18:56.064Z"
   },
   {
    "duration": 70,
    "start_time": "2023-01-11T14:18:56.161Z"
   },
   {
    "duration": 53,
    "start_time": "2023-01-11T14:18:56.233Z"
   },
   {
    "duration": 70,
    "start_time": "2023-01-11T14:18:56.288Z"
   },
   {
    "duration": 19,
    "start_time": "2023-01-11T14:18:56.361Z"
   },
   {
    "duration": 33,
    "start_time": "2023-01-11T14:18:56.382Z"
   },
   {
    "duration": 76,
    "start_time": "2023-01-11T14:18:56.417Z"
   },
   {
    "duration": 38,
    "start_time": "2023-01-11T14:18:56.495Z"
   },
   {
    "duration": 29,
    "start_time": "2023-01-11T14:18:56.535Z"
   },
   {
    "duration": 47,
    "start_time": "2023-01-11T14:18:56.566Z"
   },
   {
    "duration": 14,
    "start_time": "2023-01-11T14:18:56.615Z"
   },
   {
    "duration": 26,
    "start_time": "2023-01-11T14:18:56.631Z"
   },
   {
    "duration": 32,
    "start_time": "2023-01-11T14:18:56.658Z"
   },
   {
    "duration": 163,
    "start_time": "2023-01-11T14:18:56.692Z"
   },
   {
    "duration": 160,
    "start_time": "2023-01-11T14:18:56.857Z"
   },
   {
    "duration": 14,
    "start_time": "2023-01-11T14:18:57.019Z"
   },
   {
    "duration": 35,
    "start_time": "2023-01-11T14:18:57.035Z"
   },
   {
    "duration": 20,
    "start_time": "2023-01-11T14:18:57.072Z"
   },
   {
    "duration": 34,
    "start_time": "2023-01-11T14:18:57.093Z"
   },
   {
    "duration": 21,
    "start_time": "2023-01-11T14:18:57.129Z"
   },
   {
    "duration": 30,
    "start_time": "2023-01-11T14:18:57.151Z"
   },
   {
    "duration": 33,
    "start_time": "2023-01-11T14:18:57.182Z"
   },
   {
    "duration": 25,
    "start_time": "2023-01-11T14:18:57.218Z"
   },
   {
    "duration": 37,
    "start_time": "2023-01-11T14:18:57.245Z"
   },
   {
    "duration": 23,
    "start_time": "2023-01-11T14:18:57.284Z"
   },
   {
    "duration": 39,
    "start_time": "2023-01-11T14:18:57.309Z"
   },
   {
    "duration": 31,
    "start_time": "2023-01-11T14:18:57.350Z"
   },
   {
    "duration": 27,
    "start_time": "2023-01-11T14:18:57.383Z"
   },
   {
    "duration": 39,
    "start_time": "2023-01-11T14:18:57.412Z"
   },
   {
    "duration": 15,
    "start_time": "2023-01-11T14:18:57.454Z"
   },
   {
    "duration": 19,
    "start_time": "2023-01-11T14:18:57.471Z"
   },
   {
    "duration": 14,
    "start_time": "2023-01-11T14:18:57.492Z"
   },
   {
    "duration": 30,
    "start_time": "2023-01-11T14:18:57.508Z"
   },
   {
    "duration": 25,
    "start_time": "2023-01-11T14:18:57.540Z"
   },
   {
    "duration": 29,
    "start_time": "2023-01-11T14:18:57.567Z"
   },
   {
    "duration": 29,
    "start_time": "2023-01-11T14:18:57.598Z"
   },
   {
    "duration": 30,
    "start_time": "2023-01-11T14:18:57.629Z"
   },
   {
    "duration": 24,
    "start_time": "2023-01-11T14:18:57.661Z"
   },
   {
    "duration": 25,
    "start_time": "2023-01-11T14:18:57.687Z"
   },
   {
    "duration": 54,
    "start_time": "2023-01-11T14:18:57.713Z"
   },
   {
    "duration": 14,
    "start_time": "2023-01-11T14:18:57.768Z"
   },
   {
    "duration": 31,
    "start_time": "2023-01-11T14:18:57.784Z"
   },
   {
    "duration": 19,
    "start_time": "2023-01-11T14:18:57.817Z"
   },
   {
    "duration": 23,
    "start_time": "2023-01-11T14:18:57.838Z"
   },
   {
    "duration": 27,
    "start_time": "2023-01-11T14:18:57.863Z"
   },
   {
    "duration": 27,
    "start_time": "2023-01-11T14:18:57.892Z"
   },
   {
    "duration": 22,
    "start_time": "2023-01-11T14:18:57.921Z"
   },
   {
    "duration": 30,
    "start_time": "2023-01-11T14:18:57.945Z"
   },
   {
    "duration": 32,
    "start_time": "2023-01-11T14:18:57.976Z"
   },
   {
    "duration": 26,
    "start_time": "2023-01-11T14:18:58.010Z"
   },
   {
    "duration": 31,
    "start_time": "2023-01-11T14:18:58.038Z"
   },
   {
    "duration": 23,
    "start_time": "2023-01-11T14:18:58.071Z"
   },
   {
    "duration": 33,
    "start_time": "2023-01-11T14:18:58.096Z"
   },
   {
    "duration": 17,
    "start_time": "2023-01-11T14:18:58.131Z"
   },
   {
    "duration": 28,
    "start_time": "2023-01-11T14:18:58.150Z"
   },
   {
    "duration": 157,
    "start_time": "2023-01-11T14:18:58.179Z"
   },
   {
    "duration": 136,
    "start_time": "2023-01-11T14:18:58.338Z"
   },
   {
    "duration": 7,
    "start_time": "2023-01-11T14:18:58.476Z"
   },
   {
    "duration": 16,
    "start_time": "2023-01-11T14:18:58.485Z"
   },
   {
    "duration": 39,
    "start_time": "2023-01-11T14:18:58.503Z"
   },
   {
    "duration": 21,
    "start_time": "2023-01-11T14:18:58.544Z"
   },
   {
    "duration": 32,
    "start_time": "2023-01-11T14:18:58.567Z"
   },
   {
    "duration": 37,
    "start_time": "2023-01-11T14:18:58.601Z"
   },
   {
    "duration": 36,
    "start_time": "2023-01-11T14:18:58.640Z"
   },
   {
    "duration": 20,
    "start_time": "2023-01-11T14:18:58.678Z"
   },
   {
    "duration": 25,
    "start_time": "2023-01-11T14:18:58.700Z"
   },
   {
    "duration": 28,
    "start_time": "2023-01-11T14:23:16.505Z"
   },
   {
    "duration": 69,
    "start_time": "2023-01-11T14:25:13.611Z"
   },
   {
    "duration": 6,
    "start_time": "2023-01-11T15:08:34.690Z"
   },
   {
    "duration": 6,
    "start_time": "2023-01-11T15:10:14.553Z"
   },
   {
    "duration": 8,
    "start_time": "2023-01-11T15:15:28.786Z"
   },
   {
    "duration": 17,
    "start_time": "2023-01-11T15:15:48.139Z"
   },
   {
    "duration": 27,
    "start_time": "2023-01-11T15:17:45.304Z"
   },
   {
    "duration": 92,
    "start_time": "2023-01-11T15:32:41.086Z"
   },
   {
    "duration": 21,
    "start_time": "2023-01-11T15:32:47.729Z"
   },
   {
    "duration": 68,
    "start_time": "2023-01-11T15:33:15.801Z"
   },
   {
    "duration": 136,
    "start_time": "2023-01-11T15:33:56.747Z"
   },
   {
    "duration": 87,
    "start_time": "2023-01-11T15:34:56.523Z"
   },
   {
    "duration": 9,
    "start_time": "2023-01-11T15:35:59.282Z"
   },
   {
    "duration": 649,
    "start_time": "2023-01-11T15:36:22.703Z"
   },
   {
    "duration": 43,
    "start_time": "2023-01-11T15:36:37.412Z"
   },
   {
    "duration": 18,
    "start_time": "2023-01-11T15:37:21.527Z"
   },
   {
    "duration": 76,
    "start_time": "2023-01-11T15:37:42.314Z"
   },
   {
    "duration": 93,
    "start_time": "2023-01-11T15:51:08.966Z"
   },
   {
    "duration": 89,
    "start_time": "2023-01-11T15:52:13.262Z"
   },
   {
    "duration": 4,
    "start_time": "2023-01-11T15:53:57.237Z"
   },
   {
    "duration": 239,
    "start_time": "2023-01-11T15:54:04.044Z"
   },
   {
    "duration": 1478,
    "start_time": "2023-01-11T15:54:47.149Z"
   },
   {
    "duration": 5,
    "start_time": "2023-01-11T15:55:22.589Z"
   },
   {
    "duration": 7,
    "start_time": "2023-01-11T15:55:35.035Z"
   },
   {
    "duration": 128,
    "start_time": "2023-01-11T15:55:47.213Z"
   },
   {
    "duration": 4,
    "start_time": "2023-01-11T15:55:49.933Z"
   },
   {
    "duration": 7,
    "start_time": "2023-01-11T15:55:53.232Z"
   },
   {
    "duration": 66,
    "start_time": "2023-01-11T15:56:01.511Z"
   },
   {
    "duration": 6,
    "start_time": "2023-01-11T15:56:03.674Z"
   },
   {
    "duration": 33,
    "start_time": "2023-01-11T15:56:12.522Z"
   },
   {
    "duration": 68,
    "start_time": "2023-01-11T15:56:20.045Z"
   },
   {
    "duration": 6,
    "start_time": "2023-01-11T15:56:27.731Z"
   },
   {
    "duration": 33,
    "start_time": "2023-01-11T15:56:43.022Z"
   },
   {
    "duration": 33,
    "start_time": "2023-01-11T15:56:48.465Z"
   },
   {
    "duration": 76,
    "start_time": "2023-01-11T15:56:51.689Z"
   },
   {
    "duration": 6,
    "start_time": "2023-01-11T15:56:54.183Z"
   },
   {
    "duration": 68,
    "start_time": "2023-01-11T15:57:14.078Z"
   },
   {
    "duration": 6,
    "start_time": "2023-01-11T15:57:16.185Z"
   },
   {
    "duration": 12,
    "start_time": "2023-01-11T16:00:47.564Z"
   },
   {
    "duration": 11,
    "start_time": "2023-01-11T16:01:35.600Z"
   },
   {
    "duration": 7,
    "start_time": "2023-01-11T16:01:43.304Z"
   },
   {
    "duration": 12,
    "start_time": "2023-01-11T16:01:54.367Z"
   },
   {
    "duration": 4,
    "start_time": "2023-01-11T16:02:11.558Z"
   },
   {
    "duration": 16,
    "start_time": "2023-01-11T16:02:16.149Z"
   },
   {
    "duration": 47,
    "start_time": "2023-01-11T16:02:39.547Z"
   },
   {
    "duration": 187178,
    "start_time": "2023-01-11T16:02:51.664Z"
   },
   {
    "duration": 187069,
    "start_time": "2023-01-11T16:07:58.804Z"
   },
   {
    "duration": 4,
    "start_time": "2023-01-11T16:26:07.632Z"
   },
   {
    "duration": 187648,
    "start_time": "2023-01-11T16:26:17.892Z"
   },
   {
    "duration": 15,
    "start_time": "2023-01-11T16:32:36.217Z"
   },
   {
    "duration": 78319,
    "start_time": "2023-01-11T16:32:53.242Z"
   },
   {
    "duration": 528062,
    "start_time": "2023-01-11T16:36:08.458Z"
   },
   {
    "duration": 3577141,
    "start_time": "2023-01-11T16:46:18.874Z"
   },
   {
    "duration": 10,
    "start_time": "2023-01-11T17:53:43.824Z"
   },
   {
    "duration": 11,
    "start_time": "2023-01-11T17:53:50.524Z"
   },
   {
    "duration": 6,
    "start_time": "2023-01-11T17:55:48.726Z"
   },
   {
    "duration": 34,
    "start_time": "2023-01-11T17:56:41.612Z"
   },
   {
    "duration": 31,
    "start_time": "2023-01-11T17:57:13.857Z"
   },
   {
    "duration": 32,
    "start_time": "2023-01-11T17:58:47.365Z"
   },
   {
    "duration": 20,
    "start_time": "2023-01-11T17:59:10.314Z"
   },
   {
    "duration": 62,
    "start_time": "2023-01-11T17:59:54.401Z"
   },
   {
    "duration": 6,
    "start_time": "2023-01-11T18:02:47.726Z"
   },
   {
    "duration": 58,
    "start_time": "2023-01-11T18:03:01.515Z"
   },
   {
    "duration": 16,
    "start_time": "2023-01-11T18:03:14.290Z"
   },
   {
    "duration": 8,
    "start_time": "2023-01-11T18:03:20.306Z"
   },
   {
    "duration": 59,
    "start_time": "2023-01-11T18:03:27.678Z"
   },
   {
    "duration": 20,
    "start_time": "2023-01-11T18:05:08.588Z"
   },
   {
    "duration": 164,
    "start_time": "2023-01-11T18:05:34.249Z"
   },
   {
    "duration": 20,
    "start_time": "2023-01-11T18:06:41.689Z"
   },
   {
    "duration": 162,
    "start_time": "2023-01-11T18:06:52.743Z"
   },
   {
    "duration": 62,
    "start_time": "2023-01-11T18:07:28.282Z"
   },
   {
    "duration": 10,
    "start_time": "2023-01-11T18:08:29.163Z"
   },
   {
    "duration": 4,
    "start_time": "2023-01-11T18:08:31.928Z"
   },
   {
    "duration": 7,
    "start_time": "2023-01-11T18:08:48.910Z"
   },
   {
    "duration": 55,
    "start_time": "2023-01-11T18:08:52.722Z"
   },
   {
    "duration": 3,
    "start_time": "2023-01-11T18:08:55.268Z"
   },
   {
    "duration": 47,
    "start_time": "2023-01-11T18:09:15.011Z"
   },
   {
    "duration": 4,
    "start_time": "2023-01-11T18:10:17.556Z"
   },
   {
    "duration": 5,
    "start_time": "2023-01-11T18:10:25.092Z"
   },
   {
    "duration": 7,
    "start_time": "2023-01-11T18:10:41.068Z"
   },
   {
    "duration": 5,
    "start_time": "2023-01-11T18:10:43.125Z"
   },
   {
    "duration": 5,
    "start_time": "2023-01-11T18:10:45.164Z"
   },
   {
    "duration": 5,
    "start_time": "2023-01-11T18:10:48.837Z"
   },
   {
    "duration": 81,
    "start_time": "2023-01-11T18:13:52.958Z"
   },
   {
    "duration": 86,
    "start_time": "2023-01-11T18:13:57.356Z"
   },
   {
    "duration": 5,
    "start_time": "2023-01-11T18:14:29.005Z"
   },
   {
    "duration": 290,
    "start_time": "2023-01-11T18:14:29.128Z"
   },
   {
    "duration": 3,
    "start_time": "2023-01-11T18:14:29.420Z"
   },
   {
    "duration": 23,
    "start_time": "2023-01-11T18:14:29.424Z"
   },
   {
    "duration": 27,
    "start_time": "2023-01-11T18:14:29.448Z"
   },
   {
    "duration": 97,
    "start_time": "2023-01-11T18:14:29.477Z"
   },
   {
    "duration": 69,
    "start_time": "2023-01-11T18:14:29.576Z"
   },
   {
    "duration": 50,
    "start_time": "2023-01-11T18:14:29.647Z"
   },
   {
    "duration": 59,
    "start_time": "2023-01-11T18:14:29.698Z"
   },
   {
    "duration": 17,
    "start_time": "2023-01-11T18:14:29.759Z"
   },
   {
    "duration": 38,
    "start_time": "2023-01-11T18:14:29.778Z"
   },
   {
    "duration": 70,
    "start_time": "2023-01-11T18:14:29.818Z"
   },
   {
    "duration": 50,
    "start_time": "2023-01-11T18:14:29.889Z"
   },
   {
    "duration": 39,
    "start_time": "2023-01-11T18:14:29.941Z"
   },
   {
    "duration": 47,
    "start_time": "2023-01-11T18:14:29.983Z"
   },
   {
    "duration": 10,
    "start_time": "2023-01-11T18:14:30.031Z"
   },
   {
    "duration": 20,
    "start_time": "2023-01-11T18:14:30.042Z"
   },
   {
    "duration": 9,
    "start_time": "2023-01-11T18:14:30.064Z"
   },
   {
    "duration": 160,
    "start_time": "2023-01-11T18:14:30.075Z"
   },
   {
    "duration": 178,
    "start_time": "2023-01-11T18:14:30.237Z"
   },
   {
    "duration": 13,
    "start_time": "2023-01-11T18:14:30.417Z"
   },
   {
    "duration": 28,
    "start_time": "2023-01-11T18:14:30.434Z"
   },
   {
    "duration": 48,
    "start_time": "2023-01-11T18:14:30.465Z"
   },
   {
    "duration": 30,
    "start_time": "2023-01-11T18:14:30.515Z"
   },
   {
    "duration": 54,
    "start_time": "2023-01-11T18:14:30.547Z"
   },
   {
    "duration": 26,
    "start_time": "2023-01-11T18:14:30.603Z"
   },
   {
    "duration": 37,
    "start_time": "2023-01-11T18:14:30.631Z"
   },
   {
    "duration": 30,
    "start_time": "2023-01-11T18:14:30.670Z"
   },
   {
    "duration": 22,
    "start_time": "2023-01-11T18:14:30.702Z"
   },
   {
    "duration": 36,
    "start_time": "2023-01-11T18:14:30.726Z"
   },
   {
    "duration": 17,
    "start_time": "2023-01-11T18:14:30.764Z"
   },
   {
    "duration": 28,
    "start_time": "2023-01-11T18:14:30.783Z"
   },
   {
    "duration": 19,
    "start_time": "2023-01-11T18:14:30.814Z"
   },
   {
    "duration": 42,
    "start_time": "2023-01-11T18:14:30.836Z"
   },
   {
    "duration": 33,
    "start_time": "2023-01-11T18:14:30.879Z"
   },
   {
    "duration": 32,
    "start_time": "2023-01-11T18:14:30.914Z"
   },
   {
    "duration": 23,
    "start_time": "2023-01-11T18:14:30.948Z"
   },
   {
    "duration": 23,
    "start_time": "2023-01-11T18:14:30.973Z"
   },
   {
    "duration": 75,
    "start_time": "2023-01-11T18:14:30.998Z"
   },
   {
    "duration": 32,
    "start_time": "2023-01-11T18:14:31.075Z"
   },
   {
    "duration": 47,
    "start_time": "2023-01-11T18:14:31.109Z"
   },
   {
    "duration": 39,
    "start_time": "2023-01-11T18:14:31.162Z"
   },
   {
    "duration": 55,
    "start_time": "2023-01-11T18:14:31.203Z"
   },
   {
    "duration": 18,
    "start_time": "2023-01-11T18:14:31.260Z"
   },
   {
    "duration": 72,
    "start_time": "2023-01-11T18:14:31.280Z"
   },
   {
    "duration": 7,
    "start_time": "2023-01-11T18:14:31.354Z"
   },
   {
    "duration": 27,
    "start_time": "2023-01-11T18:14:31.363Z"
   },
   {
    "duration": 23,
    "start_time": "2023-01-11T18:14:31.392Z"
   },
   {
    "duration": 21,
    "start_time": "2023-01-11T18:14:31.416Z"
   },
   {
    "duration": 20,
    "start_time": "2023-01-11T18:14:31.439Z"
   },
   {
    "duration": 11,
    "start_time": "2023-01-11T18:14:31.461Z"
   },
   {
    "duration": 7,
    "start_time": "2023-01-11T18:14:31.474Z"
   },
   {
    "duration": 21,
    "start_time": "2023-01-11T18:14:31.482Z"
   },
   {
    "duration": 32,
    "start_time": "2023-01-11T18:14:31.504Z"
   },
   {
    "duration": 18,
    "start_time": "2023-01-11T18:14:31.538Z"
   },
   {
    "duration": 19,
    "start_time": "2023-01-11T18:14:31.559Z"
   },
   {
    "duration": 17,
    "start_time": "2023-01-11T18:14:31.580Z"
   },
   {
    "duration": 34,
    "start_time": "2023-01-11T18:14:31.599Z"
   },
   {
    "duration": 4,
    "start_time": "2023-01-11T18:14:31.635Z"
   },
   {
    "duration": 8,
    "start_time": "2023-01-11T18:14:31.641Z"
   },
   {
    "duration": 146,
    "start_time": "2023-01-11T18:14:31.651Z"
   },
   {
    "duration": 161,
    "start_time": "2023-01-11T18:14:31.800Z"
   },
   {
    "duration": 9,
    "start_time": "2023-01-11T18:14:31.964Z"
   },
   {
    "duration": 25,
    "start_time": "2023-01-11T18:14:31.975Z"
   },
   {
    "duration": 19,
    "start_time": "2023-01-11T18:14:32.002Z"
   },
   {
    "duration": 12,
    "start_time": "2023-01-11T18:14:32.023Z"
   },
   {
    "duration": 16,
    "start_time": "2023-01-11T18:14:32.037Z"
   },
   {
    "duration": 10,
    "start_time": "2023-01-11T18:14:32.056Z"
   },
   {
    "duration": 32,
    "start_time": "2023-01-11T18:14:32.068Z"
   },
   {
    "duration": 18,
    "start_time": "2023-01-11T18:14:32.102Z"
   },
   {
    "duration": 28,
    "start_time": "2023-01-11T18:14:32.122Z"
   },
   {
    "duration": 17,
    "start_time": "2023-01-11T18:14:32.152Z"
   },
   {
    "duration": 7,
    "start_time": "2023-01-11T18:14:32.171Z"
   },
   {
    "duration": 94,
    "start_time": "2023-01-11T18:14:32.180Z"
   },
   {
    "duration": 4,
    "start_time": "2023-01-11T18:14:32.276Z"
   },
   {
    "duration": 4,
    "start_time": "2023-01-11T18:14:49.077Z"
   },
   {
    "duration": 9,
    "start_time": "2023-01-11T18:14:57.880Z"
   },
   {
    "duration": 7,
    "start_time": "2023-01-11T18:14:59.692Z"
   },
   {
    "duration": 82,
    "start_time": "2023-01-11T18:15:02.205Z"
   },
   {
    "duration": 40,
    "start_time": "2023-01-11T18:15:05.253Z"
   },
   {
    "duration": 63,
    "start_time": "2023-01-11T18:15:07.467Z"
   },
   {
    "duration": 85,
    "start_time": "2023-01-11T18:15:10.202Z"
   },
   {
    "duration": 6,
    "start_time": "2023-01-11T18:15:12.874Z"
   },
   {
    "duration": 176471,
    "start_time": "2023-01-11T18:15:18.100Z"
   },
   {
    "duration": 77492,
    "start_time": "2023-01-11T18:18:50.594Z"
   },
   {
    "duration": 60,
    "start_time": "2023-01-11T18:21:19.880Z"
   },
   {
    "duration": 4,
    "start_time": "2023-01-11T18:22:03.684Z"
   },
   {
    "duration": 5,
    "start_time": "2023-01-11T18:22:10.456Z"
   },
   {
    "duration": 4,
    "start_time": "2023-01-11T18:22:36.113Z"
   },
   {
    "duration": 235,
    "start_time": "2023-01-11T18:22:36.120Z"
   },
   {
    "duration": 3,
    "start_time": "2023-01-11T18:22:36.357Z"
   },
   {
    "duration": 19,
    "start_time": "2023-01-11T18:22:36.362Z"
   },
   {
    "duration": 32,
    "start_time": "2023-01-11T18:22:36.384Z"
   },
   {
    "duration": 95,
    "start_time": "2023-01-11T18:22:36.418Z"
   },
   {
    "duration": 54,
    "start_time": "2023-01-11T18:22:36.515Z"
   },
   {
    "duration": 59,
    "start_time": "2023-01-11T18:22:36.571Z"
   },
   {
    "duration": 48,
    "start_time": "2023-01-11T18:22:36.632Z"
   },
   {
    "duration": 46,
    "start_time": "2023-01-11T18:22:36.682Z"
   },
   {
    "duration": 29,
    "start_time": "2023-01-11T18:22:36.731Z"
   },
   {
    "duration": 89,
    "start_time": "2023-01-11T18:22:36.762Z"
   },
   {
    "duration": 34,
    "start_time": "2023-01-11T18:22:36.853Z"
   },
   {
    "duration": 48,
    "start_time": "2023-01-11T18:22:36.891Z"
   },
   {
    "duration": 45,
    "start_time": "2023-01-11T18:22:36.942Z"
   },
   {
    "duration": 28,
    "start_time": "2023-01-11T18:22:36.989Z"
   },
   {
    "duration": 8,
    "start_time": "2023-01-11T18:22:37.019Z"
   },
   {
    "duration": 12,
    "start_time": "2023-01-11T18:22:37.029Z"
   },
   {
    "duration": 152,
    "start_time": "2023-01-11T18:22:37.043Z"
   },
   {
    "duration": 149,
    "start_time": "2023-01-11T18:22:37.197Z"
   },
   {
    "duration": 16,
    "start_time": "2023-01-11T18:22:37.348Z"
   },
   {
    "duration": 14,
    "start_time": "2023-01-11T18:22:37.365Z"
   },
   {
    "duration": 6,
    "start_time": "2023-01-11T18:22:37.381Z"
   },
   {
    "duration": 6,
    "start_time": "2023-01-11T18:22:37.412Z"
   },
   {
    "duration": 9,
    "start_time": "2023-01-11T18:22:37.420Z"
   },
   {
    "duration": 21,
    "start_time": "2023-01-11T18:22:37.431Z"
   },
   {
    "duration": 5,
    "start_time": "2023-01-11T18:22:37.454Z"
   },
   {
    "duration": 9,
    "start_time": "2023-01-11T18:22:37.461Z"
   },
   {
    "duration": 11,
    "start_time": "2023-01-11T18:22:37.472Z"
   },
   {
    "duration": 28,
    "start_time": "2023-01-11T18:22:37.485Z"
   },
   {
    "duration": 5,
    "start_time": "2023-01-11T18:22:37.516Z"
   },
   {
    "duration": 13,
    "start_time": "2023-01-11T18:22:37.523Z"
   },
   {
    "duration": 12,
    "start_time": "2023-01-11T18:22:37.537Z"
   },
   {
    "duration": 25,
    "start_time": "2023-01-11T18:22:37.551Z"
   },
   {
    "duration": 39,
    "start_time": "2023-01-11T18:22:37.578Z"
   },
   {
    "duration": 17,
    "start_time": "2023-01-11T18:22:37.619Z"
   },
   {
    "duration": 5,
    "start_time": "2023-01-11T18:22:37.639Z"
   },
   {
    "duration": 9,
    "start_time": "2023-01-11T18:22:37.646Z"
   },
   {
    "duration": 8,
    "start_time": "2023-01-11T18:22:37.656Z"
   },
   {
    "duration": 4,
    "start_time": "2023-01-11T18:22:37.666Z"
   },
   {
    "duration": 41,
    "start_time": "2023-01-11T18:22:37.675Z"
   },
   {
    "duration": 12,
    "start_time": "2023-01-11T18:22:37.717Z"
   },
   {
    "duration": 8,
    "start_time": "2023-01-11T18:22:37.730Z"
   },
   {
    "duration": 7,
    "start_time": "2023-01-11T18:22:37.740Z"
   },
   {
    "duration": 32,
    "start_time": "2023-01-11T18:22:37.749Z"
   },
   {
    "duration": 37,
    "start_time": "2023-01-11T18:22:37.782Z"
   },
   {
    "duration": 8,
    "start_time": "2023-01-11T18:22:37.820Z"
   },
   {
    "duration": 8,
    "start_time": "2023-01-11T18:22:37.830Z"
   },
   {
    "duration": 9,
    "start_time": "2023-01-11T18:22:37.839Z"
   },
   {
    "duration": 8,
    "start_time": "2023-01-11T18:22:37.850Z"
   },
   {
    "duration": 6,
    "start_time": "2023-01-11T18:22:37.860Z"
   },
   {
    "duration": 8,
    "start_time": "2023-01-11T18:22:37.868Z"
   },
   {
    "duration": 5,
    "start_time": "2023-01-11T18:22:37.913Z"
   },
   {
    "duration": 11,
    "start_time": "2023-01-11T18:22:37.921Z"
   },
   {
    "duration": 5,
    "start_time": "2023-01-11T18:22:37.934Z"
   },
   {
    "duration": 19,
    "start_time": "2023-01-11T18:22:37.941Z"
   },
   {
    "duration": 8,
    "start_time": "2023-01-11T18:22:37.962Z"
   },
   {
    "duration": 49,
    "start_time": "2023-01-11T18:22:37.972Z"
   },
   {
    "duration": 5,
    "start_time": "2023-01-11T18:22:38.023Z"
   },
   {
    "duration": 13,
    "start_time": "2023-01-11T18:22:38.029Z"
   },
   {
    "duration": 161,
    "start_time": "2023-01-11T18:22:38.044Z"
   },
   {
    "duration": 163,
    "start_time": "2023-01-11T18:22:38.207Z"
   },
   {
    "duration": 10,
    "start_time": "2023-01-11T18:22:38.373Z"
   },
   {
    "duration": 15,
    "start_time": "2023-01-11T18:22:38.386Z"
   },
   {
    "duration": 7,
    "start_time": "2023-01-11T18:22:38.412Z"
   },
   {
    "duration": 10,
    "start_time": "2023-01-11T18:22:38.422Z"
   },
   {
    "duration": 16,
    "start_time": "2023-01-11T18:22:38.434Z"
   },
   {
    "duration": 15,
    "start_time": "2023-01-11T18:22:38.453Z"
   },
   {
    "duration": 14,
    "start_time": "2023-01-11T18:22:38.470Z"
   },
   {
    "duration": 6,
    "start_time": "2023-01-11T18:22:38.486Z"
   },
   {
    "duration": 27,
    "start_time": "2023-01-11T18:22:38.495Z"
   },
   {
    "duration": 8,
    "start_time": "2023-01-11T18:22:49.589Z"
   },
   {
    "duration": 7,
    "start_time": "2023-01-11T18:22:50.758Z"
   },
   {
    "duration": 4,
    "start_time": "2023-01-11T18:23:00.840Z"
   },
   {
    "duration": 4,
    "start_time": "2023-01-11T18:23:09.513Z"
   },
   {
    "duration": 4,
    "start_time": "2023-01-11T18:23:19.268Z"
   },
   {
    "duration": 5,
    "start_time": "2023-01-11T18:23:39.584Z"
   },
   {
    "duration": 76,
    "start_time": "2023-01-11T18:23:52.410Z"
   },
   {
    "duration": 52,
    "start_time": "2023-01-11T18:23:54.117Z"
   },
   {
    "duration": 6,
    "start_time": "2023-01-11T18:23:56.380Z"
   },
   {
    "duration": 8,
    "start_time": "2023-01-11T18:31:01.990Z"
   },
   {
    "duration": 6,
    "start_time": "2023-01-11T18:31:03.593Z"
   },
   {
    "duration": 5,
    "start_time": "2023-01-11T18:31:05.575Z"
   },
   {
    "duration": 48,
    "start_time": "2023-01-11T18:31:09.514Z"
   },
   {
    "duration": 51,
    "start_time": "2023-01-11T18:31:11.494Z"
   },
   {
    "duration": 7,
    "start_time": "2023-01-11T18:31:13.417Z"
   },
   {
    "duration": 54,
    "start_time": "2023-01-11T18:31:16.013Z"
   },
   {
    "duration": 50,
    "start_time": "2023-01-12T07:41:16.262Z"
   },
   {
    "duration": 1517,
    "start_time": "2023-01-12T07:43:02.255Z"
   },
   {
    "duration": 375,
    "start_time": "2023-01-12T07:43:03.774Z"
   },
   {
    "duration": 3,
    "start_time": "2023-01-12T07:43:04.151Z"
   },
   {
    "duration": 27,
    "start_time": "2023-01-12T07:43:04.157Z"
   },
   {
    "duration": 26,
    "start_time": "2023-01-12T07:43:04.186Z"
   },
   {
    "duration": 88,
    "start_time": "2023-01-12T07:43:04.215Z"
   },
   {
    "duration": 60,
    "start_time": "2023-01-12T07:43:04.312Z"
   },
   {
    "duration": 72,
    "start_time": "2023-01-12T07:43:04.374Z"
   },
   {
    "duration": 64,
    "start_time": "2023-01-12T07:43:04.448Z"
   },
   {
    "duration": 17,
    "start_time": "2023-01-12T07:43:04.515Z"
   },
   {
    "duration": 21,
    "start_time": "2023-01-12T07:43:04.533Z"
   },
   {
    "duration": 80,
    "start_time": "2023-01-12T07:43:04.555Z"
   },
   {
    "duration": 35,
    "start_time": "2023-01-12T07:43:04.637Z"
   },
   {
    "duration": 42,
    "start_time": "2023-01-12T07:43:04.673Z"
   },
   {
    "duration": 30,
    "start_time": "2023-01-12T07:43:04.717Z"
   },
   {
    "duration": 13,
    "start_time": "2023-01-12T07:43:04.748Z"
   },
   {
    "duration": 12,
    "start_time": "2023-01-12T07:43:04.763Z"
   },
   {
    "duration": 8,
    "start_time": "2023-01-12T07:43:04.777Z"
   },
   {
    "duration": 197,
    "start_time": "2023-01-12T07:43:04.787Z"
   },
   {
    "duration": 152,
    "start_time": "2023-01-12T07:43:04.985Z"
   },
   {
    "duration": 16,
    "start_time": "2023-01-12T07:43:05.139Z"
   },
   {
    "duration": 18,
    "start_time": "2023-01-12T07:43:05.156Z"
   },
   {
    "duration": 8,
    "start_time": "2023-01-12T07:43:05.175Z"
   },
   {
    "duration": 9,
    "start_time": "2023-01-12T07:43:05.184Z"
   },
   {
    "duration": 10,
    "start_time": "2023-01-12T07:43:05.194Z"
   },
   {
    "duration": 4,
    "start_time": "2023-01-12T07:43:05.212Z"
   },
   {
    "duration": 9,
    "start_time": "2023-01-12T07:43:05.218Z"
   },
   {
    "duration": 10,
    "start_time": "2023-01-12T07:43:05.231Z"
   },
   {
    "duration": 6,
    "start_time": "2023-01-12T07:43:05.243Z"
   },
   {
    "duration": 9,
    "start_time": "2023-01-12T07:43:05.250Z"
   },
   {
    "duration": 7,
    "start_time": "2023-01-12T07:43:05.261Z"
   },
   {
    "duration": 12,
    "start_time": "2023-01-12T07:43:05.269Z"
   },
   {
    "duration": 6,
    "start_time": "2023-01-12T07:43:05.283Z"
   },
   {
    "duration": 32,
    "start_time": "2023-01-12T07:43:05.291Z"
   },
   {
    "duration": 10,
    "start_time": "2023-01-12T07:43:05.325Z"
   },
   {
    "duration": 24,
    "start_time": "2023-01-12T07:43:05.337Z"
   },
   {
    "duration": 5,
    "start_time": "2023-01-12T07:43:05.363Z"
   },
   {
    "duration": 9,
    "start_time": "2023-01-12T07:43:05.369Z"
   },
   {
    "duration": 13,
    "start_time": "2023-01-12T07:43:05.379Z"
   },
   {
    "duration": 20,
    "start_time": "2023-01-12T07:43:05.393Z"
   },
   {
    "duration": 16,
    "start_time": "2023-01-12T07:43:05.414Z"
   },
   {
    "duration": 16,
    "start_time": "2023-01-12T07:43:05.432Z"
   },
   {
    "duration": 14,
    "start_time": "2023-01-12T07:43:05.449Z"
   },
   {
    "duration": 14,
    "start_time": "2023-01-12T07:43:05.464Z"
   },
   {
    "duration": 40,
    "start_time": "2023-01-12T07:43:05.480Z"
   },
   {
    "duration": 7,
    "start_time": "2023-01-12T07:43:05.522Z"
   },
   {
    "duration": 9,
    "start_time": "2023-01-12T07:43:05.530Z"
   },
   {
    "duration": 10,
    "start_time": "2023-01-12T07:43:05.540Z"
   },
   {
    "duration": 11,
    "start_time": "2023-01-12T07:43:05.552Z"
   },
   {
    "duration": 8,
    "start_time": "2023-01-12T07:43:05.565Z"
   },
   {
    "duration": 16,
    "start_time": "2023-01-12T07:43:05.575Z"
   },
   {
    "duration": 21,
    "start_time": "2023-01-12T07:43:05.593Z"
   },
   {
    "duration": 3,
    "start_time": "2023-01-12T07:43:05.616Z"
   },
   {
    "duration": 7,
    "start_time": "2023-01-12T07:43:05.621Z"
   },
   {
    "duration": 9,
    "start_time": "2023-01-12T07:43:05.630Z"
   },
   {
    "duration": 17,
    "start_time": "2023-01-12T07:43:05.641Z"
   },
   {
    "duration": 6,
    "start_time": "2023-01-12T07:43:05.660Z"
   },
   {
    "duration": 46,
    "start_time": "2023-01-12T07:43:05.668Z"
   },
   {
    "duration": 8,
    "start_time": "2023-01-12T07:43:05.715Z"
   },
   {
    "duration": 4,
    "start_time": "2023-01-12T07:43:05.725Z"
   },
   {
    "duration": 149,
    "start_time": "2023-01-12T07:43:05.731Z"
   },
   {
    "duration": 144,
    "start_time": "2023-01-12T07:43:05.882Z"
   },
   {
    "duration": 7,
    "start_time": "2023-01-12T07:43:06.028Z"
   },
   {
    "duration": 16,
    "start_time": "2023-01-12T07:43:06.037Z"
   },
   {
    "duration": 5,
    "start_time": "2023-01-12T07:43:06.055Z"
   },
   {
    "duration": 11,
    "start_time": "2023-01-12T07:43:06.062Z"
   },
   {
    "duration": 8,
    "start_time": "2023-01-12T07:43:06.075Z"
   },
   {
    "duration": 7,
    "start_time": "2023-01-12T07:43:06.084Z"
   },
   {
    "duration": 22,
    "start_time": "2023-01-12T07:43:06.093Z"
   },
   {
    "duration": 6,
    "start_time": "2023-01-12T07:43:06.117Z"
   },
   {
    "duration": 17,
    "start_time": "2023-01-12T07:43:06.124Z"
   },
   {
    "duration": 4,
    "start_time": "2023-01-12T07:43:25.550Z"
   },
   {
    "duration": 71,
    "start_time": "2023-01-12T07:43:38.536Z"
   },
   {
    "duration": 4,
    "start_time": "2023-01-12T07:43:42.338Z"
   },
   {
    "duration": 39,
    "start_time": "2023-01-12T07:44:37.366Z"
   },
   {
    "duration": 38,
    "start_time": "2023-01-12T07:44:58.469Z"
   },
   {
    "duration": 132,
    "start_time": "2023-01-12T07:45:39.522Z"
   },
   {
    "duration": 11,
    "start_time": "2023-01-12T07:46:29.611Z"
   },
   {
    "duration": 10,
    "start_time": "2023-01-12T07:47:30.923Z"
   },
   {
    "duration": 3,
    "start_time": "2023-01-12T07:47:42.947Z"
   },
   {
    "duration": 3,
    "start_time": "2023-01-12T07:47:54.377Z"
   },
   {
    "duration": 31,
    "start_time": "2023-01-12T07:48:12.662Z"
   },
   {
    "duration": 26,
    "start_time": "2023-01-12T07:48:15.597Z"
   },
   {
    "duration": 204,
    "start_time": "2023-01-12T07:48:18.404Z"
   },
   {
    "duration": 4,
    "start_time": "2023-01-12T07:48:20.350Z"
   },
   {
    "duration": 4,
    "start_time": "2023-01-12T07:48:22.498Z"
   },
   {
    "duration": 5,
    "start_time": "2023-01-12T07:49:18.196Z"
   },
   {
    "duration": 37,
    "start_time": "2023-01-12T07:49:24.833Z"
   },
   {
    "duration": 25,
    "start_time": "2023-01-12T07:49:33.803Z"
   },
   {
    "duration": 152,
    "start_time": "2023-01-12T07:49:36.643Z"
   },
   {
    "duration": 11,
    "start_time": "2023-01-12T07:50:21.052Z"
   },
   {
    "duration": 4,
    "start_time": "2023-01-12T07:50:30.329Z"
   },
   {
    "duration": 7,
    "start_time": "2023-01-12T07:51:02.528Z"
   },
   {
    "duration": 15,
    "start_time": "2023-01-12T07:52:40.164Z"
   },
   {
    "duration": 5,
    "start_time": "2023-01-12T07:52:42.395Z"
   },
   {
    "duration": 33,
    "start_time": "2023-01-12T07:52:46.003Z"
   },
   {
    "duration": 24,
    "start_time": "2023-01-12T07:52:48.276Z"
   },
   {
    "duration": 130,
    "start_time": "2023-01-12T07:52:52.755Z"
   },
   {
    "duration": 3,
    "start_time": "2023-01-12T07:53:04.264Z"
   },
   {
    "duration": 8,
    "start_time": "2023-01-12T07:53:07.192Z"
   },
   {
    "duration": 70,
    "start_time": "2023-01-12T07:53:58.055Z"
   },
   {
    "duration": 86,
    "start_time": "2023-01-12T07:54:02.810Z"
   },
   {
    "duration": 7,
    "start_time": "2023-01-12T07:54:05.030Z"
   },
   {
    "duration": 189141,
    "start_time": "2023-01-12T07:54:07.715Z"
   },
   {
    "duration": 83863,
    "start_time": "2023-01-12T07:57:28.520Z"
   },
   {
    "duration": 154,
    "start_time": "2023-01-12T07:59:23.169Z"
   },
   {
    "duration": 84,
    "start_time": "2023-01-12T07:59:39.476Z"
   },
   {
    "duration": 88,
    "start_time": "2023-01-12T07:59:46.586Z"
   },
   {
    "duration": 12,
    "start_time": "2023-01-12T08:01:30.961Z"
   },
   {
    "duration": 10,
    "start_time": "2023-01-12T08:01:32.259Z"
   },
   {
    "duration": 6,
    "start_time": "2023-01-12T08:01:36.162Z"
   },
   {
    "duration": 29,
    "start_time": "2023-01-12T08:01:36.906Z"
   },
   {
    "duration": 21,
    "start_time": "2023-01-12T08:01:37.384Z"
   },
   {
    "duration": 49,
    "start_time": "2023-01-12T08:01:37.803Z"
   },
   {
    "duration": 3,
    "start_time": "2023-01-12T08:01:38.233Z"
   },
   {
    "duration": 8,
    "start_time": "2023-01-12T08:01:39.821Z"
   },
   {
    "duration": 34,
    "start_time": "2023-01-12T08:01:44.203Z"
   },
   {
    "duration": 41,
    "start_time": "2023-01-12T08:01:47.698Z"
   },
   {
    "duration": 6,
    "start_time": "2023-01-12T08:01:48.451Z"
   },
   {
    "duration": 119934,
    "start_time": "2023-01-12T08:01:51.573Z"
   },
   {
    "duration": 51,
    "start_time": "2023-01-12T08:04:00.489Z"
   },
   {
    "duration": 12,
    "start_time": "2023-01-12T08:05:40.835Z"
   },
   {
    "duration": 9,
    "start_time": "2023-01-12T08:05:43.765Z"
   },
   {
    "duration": 5,
    "start_time": "2023-01-12T08:05:45.516Z"
   },
   {
    "duration": 28,
    "start_time": "2023-01-12T08:05:48.425Z"
   },
   {
    "duration": 22,
    "start_time": "2023-01-12T08:05:49.669Z"
   },
   {
    "duration": 52,
    "start_time": "2023-01-12T08:05:51.294Z"
   },
   {
    "duration": 8,
    "start_time": "2023-01-12T08:05:52.259Z"
   },
   {
    "duration": 10,
    "start_time": "2023-01-12T08:05:53.303Z"
   },
   {
    "duration": 46,
    "start_time": "2023-01-12T08:05:56.345Z"
   },
   {
    "duration": 34,
    "start_time": "2023-01-12T08:05:58.402Z"
   },
   {
    "duration": 111995,
    "start_time": "2023-01-12T08:06:01.393Z"
   },
   {
    "duration": 50,
    "start_time": "2023-01-12T08:08:00.756Z"
   },
   {
    "duration": 5,
    "start_time": "2023-01-12T08:08:19.442Z"
   },
   {
    "duration": 269,
    "start_time": "2023-01-12T08:08:19.450Z"
   },
   {
    "duration": 4,
    "start_time": "2023-01-12T08:08:19.721Z"
   },
   {
    "duration": 26,
    "start_time": "2023-01-12T08:08:19.728Z"
   },
   {
    "duration": 39,
    "start_time": "2023-01-12T08:08:19.756Z"
   },
   {
    "duration": 90,
    "start_time": "2023-01-12T08:08:19.797Z"
   },
   {
    "duration": 68,
    "start_time": "2023-01-12T08:08:19.890Z"
   },
   {
    "duration": 59,
    "start_time": "2023-01-12T08:08:19.960Z"
   },
   {
    "duration": 78,
    "start_time": "2023-01-12T08:08:20.021Z"
   },
   {
    "duration": 26,
    "start_time": "2023-01-12T08:08:20.113Z"
   },
   {
    "duration": 29,
    "start_time": "2023-01-12T08:08:20.142Z"
   },
   {
    "duration": 84,
    "start_time": "2023-01-12T08:08:20.173Z"
   },
   {
    "duration": 35,
    "start_time": "2023-01-12T08:08:20.258Z"
   },
   {
    "duration": 45,
    "start_time": "2023-01-12T08:08:20.294Z"
   },
   {
    "duration": 31,
    "start_time": "2023-01-12T08:08:20.340Z"
   },
   {
    "duration": 11,
    "start_time": "2023-01-12T08:08:20.373Z"
   },
   {
    "duration": 8,
    "start_time": "2023-01-12T08:08:20.412Z"
   },
   {
    "duration": 7,
    "start_time": "2023-01-12T08:08:20.423Z"
   },
   {
    "duration": 157,
    "start_time": "2023-01-12T08:08:20.432Z"
   },
   {
    "duration": 165,
    "start_time": "2023-01-12T08:08:20.590Z"
   },
   {
    "duration": 11,
    "start_time": "2023-01-12T08:08:20.757Z"
   },
   {
    "duration": 9,
    "start_time": "2023-01-12T08:08:20.771Z"
   },
   {
    "duration": 14,
    "start_time": "2023-01-12T08:08:20.781Z"
   },
   {
    "duration": 5,
    "start_time": "2023-01-12T08:08:20.813Z"
   },
   {
    "duration": 10,
    "start_time": "2023-01-12T08:08:20.820Z"
   },
   {
    "duration": 8,
    "start_time": "2023-01-12T08:08:20.833Z"
   },
   {
    "duration": 9,
    "start_time": "2023-01-12T08:08:20.843Z"
   },
   {
    "duration": 12,
    "start_time": "2023-01-12T08:08:20.856Z"
   },
   {
    "duration": 9,
    "start_time": "2023-01-12T08:08:20.870Z"
   },
   {
    "duration": 18,
    "start_time": "2023-01-12T08:08:20.880Z"
   },
   {
    "duration": 5,
    "start_time": "2023-01-12T08:08:20.913Z"
   },
   {
    "duration": 21,
    "start_time": "2023-01-12T08:08:20.920Z"
   },
   {
    "duration": 6,
    "start_time": "2023-01-12T08:08:20.944Z"
   },
   {
    "duration": 19,
    "start_time": "2023-01-12T08:08:20.952Z"
   },
   {
    "duration": 25,
    "start_time": "2023-01-12T08:08:20.972Z"
   },
   {
    "duration": 23,
    "start_time": "2023-01-12T08:08:20.999Z"
   },
   {
    "duration": 6,
    "start_time": "2023-01-12T08:08:21.024Z"
   },
   {
    "duration": 9,
    "start_time": "2023-01-12T08:08:21.031Z"
   },
   {
    "duration": 7,
    "start_time": "2023-01-12T08:08:21.042Z"
   },
   {
    "duration": 10,
    "start_time": "2023-01-12T08:08:21.051Z"
   },
   {
    "duration": 28,
    "start_time": "2023-01-12T08:08:21.062Z"
   },
   {
    "duration": 27,
    "start_time": "2023-01-12T08:08:21.091Z"
   },
   {
    "duration": 14,
    "start_time": "2023-01-12T08:08:21.120Z"
   },
   {
    "duration": 15,
    "start_time": "2023-01-12T08:08:21.135Z"
   },
   {
    "duration": 40,
    "start_time": "2023-01-12T08:08:21.152Z"
   },
   {
    "duration": 21,
    "start_time": "2023-01-12T08:08:21.194Z"
   },
   {
    "duration": 8,
    "start_time": "2023-01-12T08:08:21.216Z"
   },
   {
    "duration": 14,
    "start_time": "2023-01-12T08:08:21.225Z"
   },
   {
    "duration": 9,
    "start_time": "2023-01-12T08:08:21.241Z"
   },
   {
    "duration": 8,
    "start_time": "2023-01-12T08:08:21.252Z"
   },
   {
    "duration": 8,
    "start_time": "2023-01-12T08:08:21.261Z"
   },
   {
    "duration": 8,
    "start_time": "2023-01-12T08:08:21.271Z"
   },
   {
    "duration": 32,
    "start_time": "2023-01-12T08:08:21.281Z"
   },
   {
    "duration": 6,
    "start_time": "2023-01-12T08:08:21.315Z"
   },
   {
    "duration": 9,
    "start_time": "2023-01-12T08:08:21.323Z"
   },
   {
    "duration": 20,
    "start_time": "2023-01-12T08:08:21.334Z"
   },
   {
    "duration": 12,
    "start_time": "2023-01-12T08:08:21.357Z"
   },
   {
    "duration": 51,
    "start_time": "2023-01-12T08:08:21.371Z"
   },
   {
    "duration": 4,
    "start_time": "2023-01-12T08:08:21.424Z"
   },
   {
    "duration": 10,
    "start_time": "2023-01-12T08:08:21.430Z"
   },
   {
    "duration": 152,
    "start_time": "2023-01-12T08:08:21.441Z"
   },
   {
    "duration": 136,
    "start_time": "2023-01-12T08:08:21.595Z"
   },
   {
    "duration": 7,
    "start_time": "2023-01-12T08:08:21.733Z"
   },
   {
    "duration": 8,
    "start_time": "2023-01-12T08:08:21.742Z"
   },
   {
    "duration": 5,
    "start_time": "2023-01-12T08:08:21.752Z"
   },
   {
    "duration": 6,
    "start_time": "2023-01-12T08:08:21.759Z"
   },
   {
    "duration": 6,
    "start_time": "2023-01-12T08:08:21.767Z"
   },
   {
    "duration": 43,
    "start_time": "2023-01-12T08:08:21.775Z"
   },
   {
    "duration": 6,
    "start_time": "2023-01-12T08:08:21.820Z"
   },
   {
    "duration": 6,
    "start_time": "2023-01-12T08:08:21.828Z"
   },
   {
    "duration": 15,
    "start_time": "2023-01-12T08:08:21.836Z"
   },
   {
    "duration": 11,
    "start_time": "2023-01-12T08:08:26.519Z"
   },
   {
    "duration": 5,
    "start_time": "2023-01-12T08:08:26.934Z"
   },
   {
    "duration": 31,
    "start_time": "2023-01-12T08:08:28.650Z"
   },
   {
    "duration": 21,
    "start_time": "2023-01-12T08:08:29.186Z"
   },
   {
    "duration": 134,
    "start_time": "2023-01-12T08:08:29.626Z"
   },
   {
    "duration": 4,
    "start_time": "2023-01-12T08:08:30.052Z"
   },
   {
    "duration": 10,
    "start_time": "2023-01-12T08:08:30.713Z"
   },
   {
    "duration": 63,
    "start_time": "2023-01-12T08:08:34.622Z"
   },
   {
    "duration": 87,
    "start_time": "2023-01-12T08:08:37.549Z"
   },
   {
    "duration": 193336,
    "start_time": "2023-01-12T08:08:40.576Z"
   },
   {
    "duration": 81476,
    "start_time": "2023-01-12T08:11:57.539Z"
   },
   {
    "duration": 4,
    "start_time": "2023-01-12T08:13:37.485Z"
   },
   {
    "duration": 175,
    "start_time": "2023-01-12T08:13:48.612Z"
   },
   {
    "duration": 78,
    "start_time": "2023-01-12T08:14:15.510Z"
   },
   {
    "duration": 70,
    "start_time": "2023-01-12T08:14:22.936Z"
   },
   {
    "duration": 140,
    "start_time": "2023-01-12T08:14:33.388Z"
   },
   {
    "duration": 134,
    "start_time": "2023-01-12T08:14:39.064Z"
   },
   {
    "duration": 150,
    "start_time": "2023-01-12T08:14:42.920Z"
   },
   {
    "duration": 4,
    "start_time": "2023-01-12T08:15:03.213Z"
   },
   {
    "duration": 4,
    "start_time": "2023-01-12T08:15:11.647Z"
   },
   {
    "duration": 4,
    "start_time": "2023-01-12T08:15:42.314Z"
   },
   {
    "duration": 9,
    "start_time": "2023-01-12T08:15:48.478Z"
   },
   {
    "duration": 6,
    "start_time": "2023-01-12T08:15:56.511Z"
   },
   {
    "duration": 161,
    "start_time": "2023-01-12T08:16:28.352Z"
   },
   {
    "duration": 150,
    "start_time": "2023-01-12T08:16:33.352Z"
   },
   {
    "duration": 130,
    "start_time": "2023-01-12T08:17:02.967Z"
   },
   {
    "duration": 162,
    "start_time": "2023-01-12T08:21:25.952Z"
   },
   {
    "duration": 3,
    "start_time": "2023-01-12T08:38:47.837Z"
   },
   {
    "duration": 16,
    "start_time": "2023-01-12T08:38:49.709Z"
   },
   {
    "duration": 19,
    "start_time": "2023-01-12T08:38:54.791Z"
   },
   {
    "duration": 4,
    "start_time": "2023-01-12T08:42:39.835Z"
   },
   {
    "duration": 21,
    "start_time": "2023-01-12T08:42:41.946Z"
   },
   {
    "duration": 74,
    "start_time": "2023-01-12T08:51:35.783Z"
   },
   {
    "duration": 49,
    "start_time": "2023-01-12T08:52:05.890Z"
   },
   {
    "duration": 55,
    "start_time": "2023-01-12T08:52:20.699Z"
   },
   {
    "duration": 86,
    "start_time": "2023-01-12T08:52:48.975Z"
   },
   {
    "duration": 60,
    "start_time": "2023-01-12T08:53:51.972Z"
   },
   {
    "duration": 14,
    "start_time": "2023-01-12T08:54:07.327Z"
   },
   {
    "duration": 1126,
    "start_time": "2023-01-12T08:55:48.641Z"
   },
   {
    "duration": 16,
    "start_time": "2023-01-12T08:57:03.863Z"
   },
   {
    "duration": 8,
    "start_time": "2023-01-12T08:57:41.743Z"
   },
   {
    "duration": 21,
    "start_time": "2023-01-12T09:00:34.952Z"
   },
   {
    "duration": 20,
    "start_time": "2023-01-12T09:00:45.776Z"
   },
   {
    "duration": 15,
    "start_time": "2023-01-12T09:00:59.560Z"
   },
   {
    "duration": 15,
    "start_time": "2023-01-12T09:01:15.082Z"
   },
   {
    "duration": 5,
    "start_time": "2023-01-12T09:01:31.085Z"
   },
   {
    "duration": 24,
    "start_time": "2023-01-12T09:06:18.267Z"
   },
   {
    "duration": 6,
    "start_time": "2023-01-12T09:06:20.606Z"
   },
   {
    "duration": 18,
    "start_time": "2023-01-12T09:06:23.698Z"
   },
   {
    "duration": 5,
    "start_time": "2023-01-12T09:06:25.736Z"
   },
   {
    "duration": 24,
    "start_time": "2023-01-12T09:06:42.936Z"
   },
   {
    "duration": 57,
    "start_time": "2023-01-12T09:08:18.335Z"
   },
   {
    "duration": 17,
    "start_time": "2023-01-12T09:08:23.547Z"
   },
   {
    "duration": 5,
    "start_time": "2023-01-12T09:08:25.639Z"
   },
   {
    "duration": 15,
    "start_time": "2023-01-12T09:16:00.335Z"
   },
   {
    "duration": 5,
    "start_time": "2023-01-12T09:16:05.058Z"
   },
   {
    "duration": 16,
    "start_time": "2023-01-12T09:18:34.207Z"
   },
   {
    "duration": 5,
    "start_time": "2023-01-12T09:18:36.255Z"
   },
   {
    "duration": 4,
    "start_time": "2023-01-12T09:19:38.372Z"
   },
   {
    "duration": 46,
    "start_time": "2023-01-12T09:28:35.905Z"
   },
   {
    "duration": 1180,
    "start_time": "2023-01-12T09:30:03.738Z"
   },
   {
    "duration": 7,
    "start_time": "2023-01-12T09:30:14.256Z"
   },
   {
    "duration": 19,
    "start_time": "2023-01-12T09:30:16.605Z"
   },
   {
    "duration": 5,
    "start_time": "2023-01-12T09:30:18.769Z"
   },
   {
    "duration": 5,
    "start_time": "2023-01-12T09:30:45.008Z"
   },
   {
    "duration": 3,
    "start_time": "2023-01-12T09:31:05.546Z"
   },
   {
    "duration": 15,
    "start_time": "2023-01-12T09:31:07.833Z"
   },
   {
    "duration": 4,
    "start_time": "2023-01-12T09:31:10.013Z"
   },
   {
    "duration": 6,
    "start_time": "2023-01-12T09:31:24.776Z"
   },
   {
    "duration": 4,
    "start_time": "2023-01-12T09:31:29.436Z"
   },
   {
    "duration": 10,
    "start_time": "2023-01-12T09:33:00.000Z"
   },
   {
    "duration": 4,
    "start_time": "2023-01-12T09:33:02.136Z"
   },
   {
    "duration": 407,
    "start_time": "2023-01-12T09:45:13.492Z"
   },
   {
    "duration": 450,
    "start_time": "2023-01-12T09:45:49.500Z"
   },
   {
    "duration": 348,
    "start_time": "2023-01-12T09:46:03.930Z"
   },
   {
    "duration": 53,
    "start_time": "2023-01-12T09:47:54.587Z"
   },
   {
    "duration": 13,
    "start_time": "2023-01-12T09:48:30.573Z"
   },
   {
    "duration": 149,
    "start_time": "2023-01-12T09:48:59.769Z"
   },
   {
    "duration": 23,
    "start_time": "2023-01-12T09:49:15.046Z"
   },
   {
    "duration": 1984,
    "start_time": "2023-01-12T09:49:29.352Z"
   },
   {
    "duration": 150,
    "start_time": "2023-01-12T10:07:31.537Z"
   },
   {
    "duration": 740,
    "start_time": "2023-01-12T10:08:53.549Z"
   },
   {
    "duration": 378,
    "start_time": "2023-01-12T10:09:14.167Z"
   },
   {
    "duration": 136,
    "start_time": "2023-01-12T10:10:49.725Z"
   },
   {
    "duration": 12,
    "start_time": "2023-01-12T10:11:00.385Z"
   },
   {
    "duration": 11,
    "start_time": "2023-01-12T10:11:05.391Z"
   },
   {
    "duration": 11,
    "start_time": "2023-01-12T10:18:46.376Z"
   },
   {
    "duration": 5744,
    "start_time": "2023-01-12T10:19:39.428Z"
   },
   {
    "duration": 142,
    "start_time": "2023-01-12T10:19:53.887Z"
   },
   {
    "duration": 142,
    "start_time": "2023-01-12T10:21:19.387Z"
   },
   {
    "duration": 128,
    "start_time": "2023-01-12T10:21:28.372Z"
   },
   {
    "duration": 141,
    "start_time": "2023-01-12T10:21:36.297Z"
   },
   {
    "duration": 183,
    "start_time": "2023-01-12T10:21:42.390Z"
   },
   {
    "duration": 158,
    "start_time": "2023-01-12T10:21:54.124Z"
   },
   {
    "duration": 133,
    "start_time": "2023-01-12T10:22:09.889Z"
   },
   {
    "duration": 119,
    "start_time": "2023-01-12T10:22:18.253Z"
   },
   {
    "duration": 364,
    "start_time": "2023-01-12T10:22:23.132Z"
   },
   {
    "duration": 132,
    "start_time": "2023-01-12T10:22:32.363Z"
   },
   {
    "duration": 126,
    "start_time": "2023-01-12T10:22:37.060Z"
   },
   {
    "duration": 140,
    "start_time": "2023-01-12T10:22:42.581Z"
   },
   {
    "duration": 173,
    "start_time": "2023-01-12T10:22:46.811Z"
   },
   {
    "duration": 160,
    "start_time": "2023-01-12T10:22:52.642Z"
   },
   {
    "duration": 9,
    "start_time": "2023-01-12T10:23:37.710Z"
   },
   {
    "duration": 9,
    "start_time": "2023-01-12T10:24:15.242Z"
   },
   {
    "duration": 12,
    "start_time": "2023-01-12T10:24:42.440Z"
   },
   {
    "duration": 13,
    "start_time": "2023-01-12T10:24:49.390Z"
   },
   {
    "duration": 10,
    "start_time": "2023-01-12T10:24:57.243Z"
   },
   {
    "duration": 9,
    "start_time": "2023-01-12T10:25:00.390Z"
   },
   {
    "duration": 12,
    "start_time": "2023-01-12T10:25:05.056Z"
   },
   {
    "duration": 13,
    "start_time": "2023-01-12T10:33:26.471Z"
   },
   {
    "duration": 9,
    "start_time": "2023-01-12T10:33:51.674Z"
   },
   {
    "duration": 61,
    "start_time": "2023-01-12T10:34:36.395Z"
   },
   {
    "duration": 10,
    "start_time": "2023-01-12T10:35:25.936Z"
   },
   {
    "duration": 12,
    "start_time": "2023-01-12T10:35:36.480Z"
   },
   {
    "duration": 7,
    "start_time": "2023-01-12T10:35:47.418Z"
   },
   {
    "duration": 9,
    "start_time": "2023-01-12T10:35:58.707Z"
   },
   {
    "duration": 48,
    "start_time": "2023-01-12T10:36:54.872Z"
   },
   {
    "duration": 51,
    "start_time": "2023-01-12T10:37:40.740Z"
   },
   {
    "duration": 8,
    "start_time": "2023-01-12T10:37:46.375Z"
   },
   {
    "duration": 10,
    "start_time": "2023-01-12T10:38:00.544Z"
   },
   {
    "duration": 9,
    "start_time": "2023-01-12T10:38:07.312Z"
   },
   {
    "duration": 50,
    "start_time": "2023-01-12T10:38:17.793Z"
   },
   {
    "duration": 8,
    "start_time": "2023-01-12T10:38:23.135Z"
   },
   {
    "duration": 53,
    "start_time": "2023-01-12T10:39:57.507Z"
   },
   {
    "duration": 9,
    "start_time": "2023-01-12T10:40:44.132Z"
   },
   {
    "duration": 10,
    "start_time": "2023-01-12T10:41:04.606Z"
   },
   {
    "duration": 9,
    "start_time": "2023-01-12T10:41:18.422Z"
   },
   {
    "duration": 93,
    "start_time": "2023-01-12T10:42:10.224Z"
   },
   {
    "duration": 10,
    "start_time": "2023-01-12T10:42:41.890Z"
   },
   {
    "duration": 95,
    "start_time": "2023-01-12T10:47:04.219Z"
   },
   {
    "duration": 81,
    "start_time": "2023-01-12T10:47:08.851Z"
   },
   {
    "duration": 7,
    "start_time": "2023-01-12T10:49:43.799Z"
   },
   {
    "duration": 10,
    "start_time": "2023-01-12T10:49:43.808Z"
   },
   {
    "duration": 11,
    "start_time": "2023-01-12T10:49:59.092Z"
   },
   {
    "duration": 7,
    "start_time": "2023-01-12T10:50:04.048Z"
   },
   {
    "duration": 60,
    "start_time": "2023-01-12T10:50:39.203Z"
   },
   {
    "duration": 16,
    "start_time": "2023-01-12T10:51:33.370Z"
   },
   {
    "duration": 11,
    "start_time": "2023-01-12T10:52:02.321Z"
   },
   {
    "duration": 11,
    "start_time": "2023-01-12T10:52:21.668Z"
   },
   {
    "duration": 132,
    "start_time": "2023-01-12T10:52:44.184Z"
   },
   {
    "duration": 137,
    "start_time": "2023-01-12T10:52:50.937Z"
   },
   {
    "duration": 115,
    "start_time": "2023-01-12T10:53:18.904Z"
   },
   {
    "duration": 93,
    "start_time": "2023-01-12T10:53:23.219Z"
   },
   {
    "duration": 36,
    "start_time": "2023-01-12T10:53:28.313Z"
   },
   {
    "duration": 128,
    "start_time": "2023-01-12T10:53:55.713Z"
   },
   {
    "duration": 32,
    "start_time": "2023-01-12T10:54:31.389Z"
   },
   {
    "duration": 148,
    "start_time": "2023-01-12T10:55:42.040Z"
   },
   {
    "duration": 16,
    "start_time": "2023-01-12T10:56:11.418Z"
   },
   {
    "duration": 1964,
    "start_time": "2023-01-12T10:56:19.444Z"
   },
   {
    "duration": 15,
    "start_time": "2023-01-12T10:56:39.273Z"
   },
   {
    "duration": 2015,
    "start_time": "2023-01-12T10:56:45.205Z"
   },
   {
    "duration": 2119,
    "start_time": "2023-01-12T10:57:45.082Z"
   },
   {
    "duration": 2429,
    "start_time": "2023-01-12T10:58:28.229Z"
   },
   {
    "duration": 2044,
    "start_time": "2023-01-12T10:58:38.501Z"
   },
   {
    "duration": 2039,
    "start_time": "2023-01-12T10:58:58.079Z"
   },
   {
    "duration": 2107,
    "start_time": "2023-01-12T10:59:10.413Z"
   },
   {
    "duration": 2147,
    "start_time": "2023-01-12T11:00:15.908Z"
   },
   {
    "duration": 2387,
    "start_time": "2023-01-12T11:01:03.484Z"
   },
   {
    "duration": 48,
    "start_time": "2023-01-12T11:03:22.409Z"
   },
   {
    "duration": 2074,
    "start_time": "2023-01-12T11:03:51.824Z"
   },
   {
    "duration": 50,
    "start_time": "2023-01-12T11:13:11.419Z"
   },
   {
    "duration": 75,
    "start_time": "2023-01-12T11:18:47.403Z"
   },
   {
    "duration": 11,
    "start_time": "2023-01-12T11:19:58.001Z"
   },
   {
    "duration": 118,
    "start_time": "2023-01-12T11:21:30.455Z"
   },
   {
    "duration": 10,
    "start_time": "2023-01-12T11:21:59.994Z"
   },
   {
    "duration": 34,
    "start_time": "2023-01-12T11:24:36.586Z"
   },
   {
    "duration": 9,
    "start_time": "2023-01-12T11:25:18.812Z"
   },
   {
    "duration": 91,
    "start_time": "2023-01-12T11:26:16.319Z"
   },
   {
    "duration": 77,
    "start_time": "2023-01-12T11:27:53.327Z"
   },
   {
    "duration": 793,
    "start_time": "2023-01-12T11:28:19.434Z"
   },
   {
    "duration": 10,
    "start_time": "2023-01-12T11:28:27.042Z"
   },
   {
    "duration": 53,
    "start_time": "2023-01-12T11:29:32.678Z"
   },
   {
    "duration": 10,
    "start_time": "2023-01-12T11:30:53.188Z"
   },
   {
    "duration": 43,
    "start_time": "2023-01-12T11:31:46.335Z"
   },
   {
    "duration": 1531,
    "start_time": "2023-01-12T11:41:53.580Z"
   },
   {
    "duration": 234,
    "start_time": "2023-01-12T11:41:55.113Z"
   },
   {
    "duration": 3,
    "start_time": "2023-01-12T11:41:55.348Z"
   },
   {
    "duration": 24,
    "start_time": "2023-01-12T11:41:55.353Z"
   },
   {
    "duration": 38,
    "start_time": "2023-01-12T11:41:55.378Z"
   },
   {
    "duration": 80,
    "start_time": "2023-01-12T11:41:55.418Z"
   },
   {
    "duration": 78,
    "start_time": "2023-01-12T11:41:55.500Z"
   },
   {
    "duration": 65,
    "start_time": "2023-01-12T11:41:55.580Z"
   },
   {
    "duration": 67,
    "start_time": "2023-01-12T11:41:55.646Z"
   },
   {
    "duration": 21,
    "start_time": "2023-01-12T11:41:55.716Z"
   },
   {
    "duration": 22,
    "start_time": "2023-01-12T11:41:55.739Z"
   },
   {
    "duration": 87,
    "start_time": "2023-01-12T11:41:55.763Z"
   },
   {
    "duration": 34,
    "start_time": "2023-01-12T11:41:55.852Z"
   },
   {
    "duration": 44,
    "start_time": "2023-01-12T11:41:55.888Z"
   },
   {
    "duration": 29,
    "start_time": "2023-01-12T11:41:55.934Z"
   },
   {
    "duration": 13,
    "start_time": "2023-01-12T11:41:55.964Z"
   },
   {
    "duration": 12,
    "start_time": "2023-01-12T11:41:55.980Z"
   },
   {
    "duration": 23,
    "start_time": "2023-01-12T11:41:55.994Z"
   },
   {
    "duration": 195,
    "start_time": "2023-01-12T11:41:56.018Z"
   },
   {
    "duration": 139,
    "start_time": "2023-01-12T11:41:56.215Z"
   },
   {
    "duration": 17,
    "start_time": "2023-01-12T11:41:56.356Z"
   },
   {
    "duration": 17,
    "start_time": "2023-01-12T11:41:56.374Z"
   },
   {
    "duration": 21,
    "start_time": "2023-01-12T11:41:56.393Z"
   },
   {
    "duration": 5,
    "start_time": "2023-01-12T11:41:56.416Z"
   },
   {
    "duration": 13,
    "start_time": "2023-01-12T11:41:56.423Z"
   },
   {
    "duration": 10,
    "start_time": "2023-01-12T11:41:56.438Z"
   },
   {
    "duration": 13,
    "start_time": "2023-01-12T11:41:56.450Z"
   },
   {
    "duration": 8,
    "start_time": "2023-01-12T11:41:56.468Z"
   },
   {
    "duration": 19,
    "start_time": "2023-01-12T11:41:56.477Z"
   },
   {
    "duration": 22,
    "start_time": "2023-01-12T11:41:56.498Z"
   },
   {
    "duration": 10,
    "start_time": "2023-01-12T11:41:56.522Z"
   },
   {
    "duration": 10,
    "start_time": "2023-01-12T11:41:56.534Z"
   },
   {
    "duration": 6,
    "start_time": "2023-01-12T11:41:56.546Z"
   },
   {
    "duration": 21,
    "start_time": "2023-01-12T11:41:56.554Z"
   },
   {
    "duration": 41,
    "start_time": "2023-01-12T11:41:56.577Z"
   },
   {
    "duration": 12,
    "start_time": "2023-01-12T11:41:56.620Z"
   },
   {
    "duration": 5,
    "start_time": "2023-01-12T11:41:56.634Z"
   },
   {
    "duration": 5,
    "start_time": "2023-01-12T11:41:56.641Z"
   },
   {
    "duration": 5,
    "start_time": "2023-01-12T11:41:56.648Z"
   },
   {
    "duration": 9,
    "start_time": "2023-01-12T11:41:56.655Z"
   },
   {
    "duration": 18,
    "start_time": "2023-01-12T11:41:56.665Z"
   },
   {
    "duration": 36,
    "start_time": "2023-01-12T11:41:56.684Z"
   },
   {
    "duration": 18,
    "start_time": "2023-01-12T11:41:56.721Z"
   },
   {
    "duration": 7,
    "start_time": "2023-01-12T11:41:56.741Z"
   },
   {
    "duration": 41,
    "start_time": "2023-01-12T11:41:56.750Z"
   },
   {
    "duration": 20,
    "start_time": "2023-01-12T11:41:56.793Z"
   },
   {
    "duration": 6,
    "start_time": "2023-01-12T11:41:56.815Z"
   },
   {
    "duration": 11,
    "start_time": "2023-01-12T11:41:56.822Z"
   },
   {
    "duration": 8,
    "start_time": "2023-01-12T11:41:56.835Z"
   },
   {
    "duration": 6,
    "start_time": "2023-01-12T11:41:56.844Z"
   },
   {
    "duration": 5,
    "start_time": "2023-01-12T11:41:56.852Z"
   },
   {
    "duration": 11,
    "start_time": "2023-01-12T11:41:56.859Z"
   },
   {
    "duration": 41,
    "start_time": "2023-01-12T11:41:56.872Z"
   },
   {
    "duration": 5,
    "start_time": "2023-01-12T11:41:56.916Z"
   },
   {
    "duration": 11,
    "start_time": "2023-01-12T11:41:56.922Z"
   },
   {
    "duration": 11,
    "start_time": "2023-01-12T11:41:56.935Z"
   },
   {
    "duration": 6,
    "start_time": "2023-01-12T11:41:56.947Z"
   },
   {
    "duration": 28,
    "start_time": "2023-01-12T11:41:56.955Z"
   },
   {
    "duration": 30,
    "start_time": "2023-01-12T11:41:56.985Z"
   },
   {
    "duration": 6,
    "start_time": "2023-01-12T11:41:57.017Z"
   },
   {
    "duration": 157,
    "start_time": "2023-01-12T11:41:57.025Z"
   },
   {
    "duration": 214,
    "start_time": "2023-01-12T11:41:57.184Z"
   },
   {
    "duration": 14,
    "start_time": "2023-01-12T11:41:57.400Z"
   },
   {
    "duration": 6,
    "start_time": "2023-01-12T11:41:57.416Z"
   },
   {
    "duration": 5,
    "start_time": "2023-01-12T11:41:57.424Z"
   },
   {
    "duration": 5,
    "start_time": "2023-01-12T11:41:57.431Z"
   },
   {
    "duration": 7,
    "start_time": "2023-01-12T11:41:57.438Z"
   },
   {
    "duration": 10,
    "start_time": "2023-01-12T11:41:57.447Z"
   },
   {
    "duration": 10,
    "start_time": "2023-01-12T11:41:57.458Z"
   },
   {
    "duration": 43,
    "start_time": "2023-01-12T11:41:57.470Z"
   },
   {
    "duration": 14,
    "start_time": "2023-01-12T11:41:57.514Z"
   },
   {
    "duration": 14,
    "start_time": "2023-01-12T11:41:57.530Z"
   },
   {
    "duration": 5,
    "start_time": "2023-01-12T11:41:57.546Z"
   },
   {
    "duration": 60,
    "start_time": "2023-01-12T11:41:57.552Z"
   },
   {
    "duration": 30,
    "start_time": "2023-01-12T11:41:57.614Z"
   },
   {
    "duration": 144,
    "start_time": "2023-01-12T11:41:57.646Z"
   },
   {
    "duration": 4,
    "start_time": "2023-01-12T11:41:57.792Z"
   },
   {
    "duration": 30,
    "start_time": "2023-01-12T11:41:57.798Z"
   },
   {
    "duration": 77,
    "start_time": "2023-01-12T11:41:57.830Z"
   },
   {
    "duration": 87,
    "start_time": "2023-01-12T11:41:57.909Z"
   },
   {
    "duration": 16,
    "start_time": "2023-01-12T11:41:57.998Z"
   },
   {
    "duration": 186378,
    "start_time": "2023-01-12T11:41:58.020Z"
   },
   {
    "duration": 81763,
    "start_time": "2023-01-12T11:45:04.400Z"
   },
   {
    "duration": 3660055,
    "start_time": "2023-01-12T11:46:26.165Z"
   },
   {
    "duration": 264,
    "start_time": "2023-01-12T12:47:26.231Z"
   },
   {
    "duration": 175,
    "start_time": "2023-01-12T12:47:26.497Z"
   },
   {
    "duration": 5,
    "start_time": "2023-01-12T12:47:26.674Z"
   },
   {
    "duration": 42,
    "start_time": "2023-01-12T12:47:26.681Z"
   },
   {
    "duration": 38,
    "start_time": "2023-01-12T12:47:26.725Z"
   },
   {
    "duration": 38,
    "start_time": "2023-01-12T12:47:26.765Z"
   },
   {
    "duration": 13,
    "start_time": "2023-01-12T12:47:26.805Z"
   },
   {
    "duration": 35,
    "start_time": "2023-01-12T12:47:26.820Z"
   },
   {
    "duration": 6,
    "start_time": "2023-01-12T12:47:26.858Z"
   },
   {
    "duration": 379,
    "start_time": "2023-01-12T12:47:26.866Z"
   },
   {
    "duration": 2049,
    "start_time": "2023-01-12T12:47:27.247Z"
   },
   {
    "duration": 10,
    "start_time": "2023-01-12T12:47:29.298Z"
   },
   {
    "duration": 31,
    "start_time": "2023-01-12T12:47:29.310Z"
   },
   {
    "duration": 36,
    "start_time": "2023-01-12T12:47:29.343Z"
   },
   {
    "duration": 30,
    "start_time": "2023-01-12T12:47:29.382Z"
   },
   {
    "duration": 36,
    "start_time": "2023-01-12T12:47:29.415Z"
   },
   {
    "duration": 40,
    "start_time": "2023-01-12T12:47:29.453Z"
   },
   {
    "duration": 2370,
    "start_time": "2023-01-12T12:47:29.495Z"
   },
   {
    "duration": 2121,
    "start_time": "2023-01-12T12:47:31.867Z"
   },
   {
    "duration": 12,
    "start_time": "2023-01-12T12:47:33.989Z"
   },
   {
    "duration": 19,
    "start_time": "2023-01-12T12:47:34.002Z"
   },
   {
    "duration": 15,
    "start_time": "2023-01-12T12:47:34.022Z"
   },
   {
    "duration": 10,
    "start_time": "2023-01-12T12:47:34.038Z"
   },
   {
    "duration": 50,
    "start_time": "2023-01-12T12:56:26.138Z"
   },
   {
    "duration": 44,
    "start_time": "2023-01-12T12:56:44.049Z"
   },
   {
    "duration": 52,
    "start_time": "2023-01-13T15:11:12.798Z"
   },
   {
    "duration": 57,
    "start_time": "2023-01-13T15:14:12.204Z"
   },
   {
    "duration": 43,
    "start_time": "2023-01-13T15:17:13.862Z"
   },
   {
    "duration": 1562,
    "start_time": "2023-01-13T15:17:22.205Z"
   },
   {
    "duration": 405,
    "start_time": "2023-01-13T15:17:23.769Z"
   },
   {
    "duration": 3,
    "start_time": "2023-01-13T15:17:24.176Z"
   },
   {
    "duration": 27,
    "start_time": "2023-01-13T15:17:24.181Z"
   },
   {
    "duration": 24,
    "start_time": "2023-01-13T15:17:24.210Z"
   },
   {
    "duration": 86,
    "start_time": "2023-01-13T15:17:24.235Z"
   },
   {
    "duration": 56,
    "start_time": "2023-01-13T15:17:24.323Z"
   },
   {
    "duration": 67,
    "start_time": "2023-01-13T15:17:24.381Z"
   },
   {
    "duration": 50,
    "start_time": "2023-01-13T15:17:24.450Z"
   },
   {
    "duration": 15,
    "start_time": "2023-01-13T15:17:24.513Z"
   },
   {
    "duration": 21,
    "start_time": "2023-01-13T15:17:24.529Z"
   },
   {
    "duration": 75,
    "start_time": "2023-01-13T15:17:24.551Z"
   },
   {
    "duration": 34,
    "start_time": "2023-01-13T15:17:24.627Z"
   },
   {
    "duration": 26,
    "start_time": "2023-01-13T15:17:24.663Z"
   },
   {
    "duration": 46,
    "start_time": "2023-01-13T15:17:24.691Z"
   },
   {
    "duration": 13,
    "start_time": "2023-01-13T15:17:24.738Z"
   },
   {
    "duration": 18,
    "start_time": "2023-01-13T15:17:24.753Z"
   },
   {
    "duration": 10,
    "start_time": "2023-01-13T15:17:24.772Z"
   },
   {
    "duration": 180,
    "start_time": "2023-01-13T15:17:24.783Z"
   },
   {
    "duration": 140,
    "start_time": "2023-01-13T15:17:24.965Z"
   },
   {
    "duration": 18,
    "start_time": "2023-01-13T15:17:25.106Z"
   },
   {
    "duration": 13,
    "start_time": "2023-01-13T15:17:25.125Z"
   },
   {
    "duration": 13,
    "start_time": "2023-01-13T15:17:25.139Z"
   },
   {
    "duration": 7,
    "start_time": "2023-01-13T15:17:25.153Z"
   },
   {
    "duration": 14,
    "start_time": "2023-01-13T15:17:25.161Z"
   },
   {
    "duration": 8,
    "start_time": "2023-01-13T15:17:25.176Z"
   },
   {
    "duration": 9,
    "start_time": "2023-01-13T15:17:25.185Z"
   },
   {
    "duration": 4,
    "start_time": "2023-01-13T15:17:25.212Z"
   },
   {
    "duration": 8,
    "start_time": "2023-01-13T15:17:25.218Z"
   },
   {
    "duration": 6,
    "start_time": "2023-01-13T15:17:25.227Z"
   },
   {
    "duration": 84,
    "start_time": "2023-01-13T15:17:25.235Z"
   },
   {
    "duration": 7,
    "start_time": "2023-01-13T15:17:25.321Z"
   },
   {
    "duration": 5,
    "start_time": "2023-01-13T15:17:25.330Z"
   },
   {
    "duration": 18,
    "start_time": "2023-01-13T15:17:25.337Z"
   },
   {
    "duration": 9,
    "start_time": "2023-01-13T15:17:25.357Z"
   },
   {
    "duration": 44,
    "start_time": "2023-01-13T15:17:25.368Z"
   },
   {
    "duration": 5,
    "start_time": "2023-01-13T15:17:25.414Z"
   },
   {
    "duration": 14,
    "start_time": "2023-01-13T15:17:25.421Z"
   },
   {
    "duration": 7,
    "start_time": "2023-01-13T15:17:25.436Z"
   },
   {
    "duration": 8,
    "start_time": "2023-01-13T15:17:25.444Z"
   },
   {
    "duration": 20,
    "start_time": "2023-01-13T15:17:25.454Z"
   },
   {
    "duration": 13,
    "start_time": "2023-01-13T15:17:25.475Z"
   },
   {
    "duration": 29,
    "start_time": "2023-01-13T15:17:25.489Z"
   },
   {
    "duration": 6,
    "start_time": "2023-01-13T15:17:25.520Z"
   },
   {
    "duration": 33,
    "start_time": "2023-01-13T15:17:25.528Z"
   },
   {
    "duration": 7,
    "start_time": "2023-01-13T15:17:25.562Z"
   },
   {
    "duration": 6,
    "start_time": "2023-01-13T15:17:25.570Z"
   },
   {
    "duration": 38,
    "start_time": "2023-01-13T15:17:25.577Z"
   },
   {
    "duration": 7,
    "start_time": "2023-01-13T15:17:25.616Z"
   },
   {
    "duration": 6,
    "start_time": "2023-01-13T15:17:25.625Z"
   },
   {
    "duration": 4,
    "start_time": "2023-01-13T15:17:25.633Z"
   },
   {
    "duration": 7,
    "start_time": "2023-01-13T15:17:25.639Z"
   },
   {
    "duration": 5,
    "start_time": "2023-01-13T15:17:25.648Z"
   },
   {
    "duration": 10,
    "start_time": "2023-01-13T15:17:25.655Z"
   },
   {
    "duration": 5,
    "start_time": "2023-01-13T15:17:25.667Z"
   },
   {
    "duration": 39,
    "start_time": "2023-01-13T15:17:25.674Z"
   },
   {
    "duration": 6,
    "start_time": "2023-01-13T15:17:25.715Z"
   },
   {
    "duration": 27,
    "start_time": "2023-01-13T15:17:25.723Z"
   },
   {
    "duration": 5,
    "start_time": "2023-01-13T15:17:25.752Z"
   },
   {
    "duration": 8,
    "start_time": "2023-01-13T15:17:25.759Z"
   },
   {
    "duration": 157,
    "start_time": "2023-01-13T15:17:25.769Z"
   },
   {
    "duration": 140,
    "start_time": "2023-01-13T15:17:25.928Z"
   },
   {
    "duration": 7,
    "start_time": "2023-01-13T15:17:26.070Z"
   },
   {
    "duration": 9,
    "start_time": "2023-01-13T15:17:26.079Z"
   },
   {
    "duration": 23,
    "start_time": "2023-01-13T15:17:26.090Z"
   },
   {
    "duration": 5,
    "start_time": "2023-01-13T15:17:26.115Z"
   },
   {
    "duration": 8,
    "start_time": "2023-01-13T15:17:26.122Z"
   },
   {
    "duration": 13,
    "start_time": "2023-01-13T15:17:26.132Z"
   },
   {
    "duration": 8,
    "start_time": "2023-01-13T15:17:26.147Z"
   },
   {
    "duration": 5,
    "start_time": "2023-01-13T15:17:26.157Z"
   },
   {
    "duration": 70,
    "start_time": "2023-01-13T15:17:29.855Z"
   },
   {
    "duration": 11,
    "start_time": "2023-01-13T15:17:39.996Z"
   },
   {
    "duration": 13,
    "start_time": "2023-01-13T15:18:08.441Z"
   },
   {
    "duration": 11,
    "start_time": "2023-01-13T15:18:14.424Z"
   },
   {
    "duration": 15,
    "start_time": "2023-01-13T15:39:54.812Z"
   },
   {
    "duration": 30,
    "start_time": "2023-01-13T15:40:26.282Z"
   },
   {
    "duration": 18,
    "start_time": "2023-01-13T15:40:38.822Z"
   },
   {
    "duration": 10,
    "start_time": "2023-01-13T15:51:14.354Z"
   },
   {
    "duration": 5,
    "start_time": "2023-01-13T15:51:17.957Z"
   },
   {
    "duration": 10,
    "start_time": "2023-01-13T15:51:27.432Z"
   },
   {
    "duration": 5,
    "start_time": "2023-01-13T15:51:43.383Z"
   },
   {
    "duration": 10,
    "start_time": "2023-01-13T16:09:15.342Z"
   },
   {
    "duration": 4,
    "start_time": "2023-01-13T16:09:23.560Z"
   },
   {
    "duration": 290,
    "start_time": "2023-01-13T16:09:23.566Z"
   },
   {
    "duration": 4,
    "start_time": "2023-01-13T16:09:23.857Z"
   },
   {
    "duration": 22,
    "start_time": "2023-01-13T16:09:23.862Z"
   },
   {
    "duration": 43,
    "start_time": "2023-01-13T16:09:23.886Z"
   },
   {
    "duration": 110,
    "start_time": "2023-01-13T16:09:23.931Z"
   },
   {
    "duration": 56,
    "start_time": "2023-01-13T16:09:24.043Z"
   },
   {
    "duration": 49,
    "start_time": "2023-01-13T16:09:24.112Z"
   },
   {
    "duration": 77,
    "start_time": "2023-01-13T16:09:24.162Z"
   },
   {
    "duration": 19,
    "start_time": "2023-01-13T16:09:24.243Z"
   },
   {
    "duration": 25,
    "start_time": "2023-01-13T16:09:24.264Z"
   },
   {
    "duration": 65,
    "start_time": "2023-01-13T16:09:24.313Z"
   },
   {
    "duration": 45,
    "start_time": "2023-01-13T16:09:24.380Z"
   },
   {
    "duration": 26,
    "start_time": "2023-01-13T16:09:24.427Z"
   },
   {
    "duration": 27,
    "start_time": "2023-01-13T16:09:24.455Z"
   },
   {
    "duration": 34,
    "start_time": "2023-01-13T16:09:24.484Z"
   },
   {
    "duration": 12,
    "start_time": "2023-01-13T16:09:24.519Z"
   },
   {
    "duration": 8,
    "start_time": "2023-01-13T16:09:24.533Z"
   },
   {
    "duration": 189,
    "start_time": "2023-01-13T16:09:24.543Z"
   },
   {
    "duration": 182,
    "start_time": "2023-01-13T16:09:24.734Z"
   },
   {
    "duration": 15,
    "start_time": "2023-01-13T16:09:24.918Z"
   },
   {
    "duration": 13,
    "start_time": "2023-01-13T16:09:24.935Z"
   },
   {
    "duration": 8,
    "start_time": "2023-01-13T16:09:24.950Z"
   },
   {
    "duration": 11,
    "start_time": "2023-01-13T16:09:24.960Z"
   },
   {
    "duration": 6,
    "start_time": "2023-01-13T16:09:24.973Z"
   },
   {
    "duration": 37,
    "start_time": "2023-01-13T16:09:24.981Z"
   },
   {
    "duration": 7,
    "start_time": "2023-01-13T16:09:25.020Z"
   },
   {
    "duration": 5,
    "start_time": "2023-01-13T16:09:25.032Z"
   },
   {
    "duration": 5,
    "start_time": "2023-01-13T16:09:25.039Z"
   },
   {
    "duration": 7,
    "start_time": "2023-01-13T16:09:25.046Z"
   },
   {
    "duration": 6,
    "start_time": "2023-01-13T16:09:25.055Z"
   },
   {
    "duration": 50,
    "start_time": "2023-01-13T16:09:25.064Z"
   },
   {
    "duration": 6,
    "start_time": "2023-01-13T16:09:25.115Z"
   },
   {
    "duration": 20,
    "start_time": "2023-01-13T16:09:25.123Z"
   },
   {
    "duration": 11,
    "start_time": "2023-01-13T16:09:25.144Z"
   },
   {
    "duration": 21,
    "start_time": "2023-01-13T16:09:25.157Z"
   },
   {
    "duration": 36,
    "start_time": "2023-01-13T16:09:25.180Z"
   },
   {
    "duration": 7,
    "start_time": "2023-01-13T16:09:25.218Z"
   },
   {
    "duration": 7,
    "start_time": "2023-01-13T16:09:25.227Z"
   },
   {
    "duration": 6,
    "start_time": "2023-01-13T16:09:25.236Z"
   },
   {
    "duration": 19,
    "start_time": "2023-01-13T16:09:25.244Z"
   },
   {
    "duration": 63,
    "start_time": "2023-01-13T16:09:25.264Z"
   },
   {
    "duration": 25,
    "start_time": "2023-01-13T16:09:25.329Z"
   },
   {
    "duration": 6,
    "start_time": "2023-01-13T16:09:25.356Z"
   },
   {
    "duration": 5,
    "start_time": "2023-01-13T16:09:25.364Z"
   },
   {
    "duration": 13,
    "start_time": "2023-01-13T16:09:25.371Z"
   },
   {
    "duration": 9,
    "start_time": "2023-01-13T16:09:25.411Z"
   },
   {
    "duration": 37,
    "start_time": "2023-01-13T16:09:25.422Z"
   },
   {
    "duration": 7,
    "start_time": "2023-01-13T16:09:25.461Z"
   },
   {
    "duration": 44,
    "start_time": "2023-01-13T16:09:25.470Z"
   },
   {
    "duration": 8,
    "start_time": "2023-01-13T16:09:25.515Z"
   },
   {
    "duration": 9,
    "start_time": "2023-01-13T16:09:25.525Z"
   },
   {
    "duration": 5,
    "start_time": "2023-01-13T16:09:25.536Z"
   },
   {
    "duration": 15,
    "start_time": "2023-01-13T16:09:25.543Z"
   },
   {
    "duration": 54,
    "start_time": "2023-01-13T16:09:25.559Z"
   },
   {
    "duration": 5,
    "start_time": "2023-01-13T16:09:25.615Z"
   },
   {
    "duration": 7,
    "start_time": "2023-01-13T16:09:25.622Z"
   },
   {
    "duration": 7,
    "start_time": "2023-01-13T16:09:25.631Z"
   },
   {
    "duration": 9,
    "start_time": "2023-01-13T16:09:25.640Z"
   },
   {
    "duration": 6,
    "start_time": "2023-01-13T16:09:25.651Z"
   },
   {
    "duration": 82,
    "start_time": "2023-01-13T16:09:25.659Z"
   },
   {
    "duration": 5,
    "start_time": "2023-01-13T16:09:25.743Z"
   },
   {
    "duration": 5,
    "start_time": "2023-01-13T16:09:25.750Z"
   },
   {
    "duration": 205,
    "start_time": "2023-01-13T16:09:25.757Z"
   },
   {
    "duration": 154,
    "start_time": "2023-01-13T16:09:25.963Z"
   },
   {
    "duration": 8,
    "start_time": "2023-01-13T16:09:26.118Z"
   },
   {
    "duration": 6,
    "start_time": "2023-01-13T16:09:26.128Z"
   },
   {
    "duration": 5,
    "start_time": "2023-01-13T16:09:26.135Z"
   },
   {
    "duration": 10,
    "start_time": "2023-01-13T16:09:26.142Z"
   },
   {
    "duration": 8,
    "start_time": "2023-01-13T16:09:26.153Z"
   },
   {
    "duration": 49,
    "start_time": "2023-01-13T16:09:26.163Z"
   },
   {
    "duration": 5,
    "start_time": "2023-01-13T16:09:26.215Z"
   },
   {
    "duration": 14,
    "start_time": "2023-01-13T16:09:26.222Z"
   },
   {
    "duration": 11,
    "start_time": "2023-01-13T16:09:26.238Z"
   },
   {
    "duration": 11,
    "start_time": "2023-01-13T16:09:26.251Z"
   },
   {
    "duration": 57,
    "start_time": "2023-01-13T16:09:26.264Z"
   },
   {
    "duration": 21,
    "start_time": "2023-01-13T16:09:26.324Z"
   },
   {
    "duration": 14,
    "start_time": "2023-01-13T16:09:26.347Z"
   },
   {
    "duration": 64,
    "start_time": "2023-01-13T16:09:26.363Z"
   },
   {
    "duration": 45,
    "start_time": "2023-01-13T16:09:26.430Z"
   },
   {
    "duration": 136,
    "start_time": "2023-01-13T16:09:28.481Z"
   },
   {
    "duration": 49,
    "start_time": "2023-01-13T16:09:52.979Z"
   },
   {
    "duration": 5,
    "start_time": "2023-01-13T16:11:36.247Z"
   },
   {
    "duration": 411,
    "start_time": "2023-01-13T16:11:44.695Z"
   },
   {
    "duration": 4,
    "start_time": "2023-01-13T16:13:58.259Z"
   },
   {
    "duration": 10,
    "start_time": "2023-01-13T16:17:38.016Z"
   },
   {
    "duration": 17,
    "start_time": "2023-01-13T16:17:41.987Z"
   },
   {
    "duration": 43,
    "start_time": "2023-01-13T16:17:45.362Z"
   },
   {
    "duration": 688,
    "start_time": "2023-01-13T16:18:29.303Z"
   },
   {
    "duration": 31,
    "start_time": "2023-01-13T16:21:10.697Z"
   },
   {
    "duration": 26,
    "start_time": "2023-01-13T16:21:14.781Z"
   },
   {
    "duration": 30,
    "start_time": "2023-01-13T16:21:30.679Z"
   },
   {
    "duration": 3,
    "start_time": "2023-01-13T16:25:10.064Z"
   },
   {
    "duration": 39,
    "start_time": "2023-01-13T16:25:15.280Z"
   },
   {
    "duration": 33,
    "start_time": "2023-01-13T16:27:23.543Z"
   },
   {
    "duration": 204,
    "start_time": "2023-01-13T16:27:33.532Z"
   },
   {
    "duration": 103,
    "start_time": "2023-01-13T16:27:42.154Z"
   },
   {
    "duration": 125,
    "start_time": "2023-01-13T16:28:00.887Z"
   },
   {
    "duration": 440,
    "start_time": "2023-01-13T16:28:05.319Z"
   },
   {
    "duration": 11,
    "start_time": "2023-01-13T16:32:53.097Z"
   },
   {
    "duration": 2,
    "start_time": "2023-01-13T16:32:55.698Z"
   },
   {
    "duration": 186,
    "start_time": "2023-01-13T16:32:57.435Z"
   },
   {
    "duration": 121,
    "start_time": "2023-01-13T16:33:18.087Z"
   },
   {
    "duration": 412,
    "start_time": "2023-01-13T16:33:30.589Z"
   },
   {
    "duration": 60,
    "start_time": "2023-01-13T16:34:11.629Z"
   },
   {
    "duration": 11,
    "start_time": "2023-01-13T16:34:19.395Z"
   },
   {
    "duration": 5,
    "start_time": "2023-01-13T16:34:20.553Z"
   },
   {
    "duration": 31,
    "start_time": "2023-01-13T16:34:23.002Z"
   },
   {
    "duration": 27,
    "start_time": "2023-01-13T16:34:25.165Z"
   },
   {
    "duration": 2,
    "start_time": "2023-01-13T16:34:27.396Z"
   },
   {
    "duration": 189,
    "start_time": "2023-01-13T16:34:28.813Z"
   },
   {
    "duration": 131,
    "start_time": "2023-01-13T16:34:31.115Z"
   },
   {
    "duration": 58,
    "start_time": "2023-01-13T16:34:34.688Z"
   },
   {
    "duration": 286,
    "start_time": "2023-01-13T16:35:19.715Z"
   },
   {
    "duration": 56,
    "start_time": "2023-01-13T16:37:02.605Z"
   },
   {
    "duration": 10,
    "start_time": "2023-01-13T16:38:34.495Z"
   },
   {
    "duration": 9,
    "start_time": "2023-01-13T16:38:51.479Z"
   },
   {
    "duration": 4,
    "start_time": "2023-01-13T16:38:53.120Z"
   },
   {
    "duration": 31,
    "start_time": "2023-01-13T16:38:55.072Z"
   },
   {
    "duration": 24,
    "start_time": "2023-01-13T16:38:56.747Z"
   },
   {
    "duration": 3,
    "start_time": "2023-01-13T16:38:58.468Z"
   },
   {
    "duration": 49,
    "start_time": "2023-01-13T16:39:01.052Z"
   },
   {
    "duration": 10,
    "start_time": "2023-01-13T16:40:43.721Z"
   },
   {
    "duration": 4,
    "start_time": "2023-01-13T16:40:45.121Z"
   },
   {
    "duration": 30,
    "start_time": "2023-01-13T16:40:47.041Z"
   },
   {
    "duration": 21,
    "start_time": "2023-01-13T16:40:48.131Z"
   },
   {
    "duration": 3,
    "start_time": "2023-01-13T16:40:50.594Z"
   },
   {
    "duration": 146,
    "start_time": "2023-01-13T16:40:56.237Z"
   },
   {
    "duration": 46,
    "start_time": "2023-01-13T16:41:04.995Z"
   },
   {
    "duration": 36,
    "start_time": "2023-01-13T16:41:34.025Z"
   },
   {
    "duration": 3,
    "start_time": "2023-01-13T16:41:49.312Z"
   },
   {
    "duration": 10,
    "start_time": "2023-01-13T16:42:10.672Z"
   },
   {
    "duration": 5,
    "start_time": "2023-01-13T16:42:11.989Z"
   },
   {
    "duration": 33,
    "start_time": "2023-01-13T16:42:13.524Z"
   },
   {
    "duration": 24,
    "start_time": "2023-01-13T16:42:15.185Z"
   },
   {
    "duration": 3,
    "start_time": "2023-01-13T16:42:17.541Z"
   },
   {
    "duration": 132,
    "start_time": "2023-01-13T16:42:22.114Z"
   },
   {
    "duration": 311,
    "start_time": "2023-01-13T16:42:34.196Z"
   },
   {
    "duration": 287,
    "start_time": "2023-01-13T16:44:11.749Z"
   },
   {
    "duration": 10,
    "start_time": "2023-01-13T16:44:18.821Z"
   },
   {
    "duration": 5,
    "start_time": "2023-01-13T16:44:20.148Z"
   },
   {
    "duration": 29,
    "start_time": "2023-01-13T16:44:21.971Z"
   },
   {
    "duration": 23,
    "start_time": "2023-01-13T16:44:23.848Z"
   },
   {
    "duration": 3,
    "start_time": "2023-01-13T16:44:26.521Z"
   },
   {
    "duration": 48,
    "start_time": "2023-01-13T16:44:30.883Z"
   },
   {
    "duration": 9,
    "start_time": "2023-01-13T16:44:42.822Z"
   },
   {
    "duration": 4,
    "start_time": "2023-01-13T16:44:44.144Z"
   },
   {
    "duration": 31,
    "start_time": "2023-01-13T16:44:48.206Z"
   },
   {
    "duration": 22,
    "start_time": "2023-01-13T16:44:49.963Z"
   },
   {
    "duration": 3,
    "start_time": "2023-01-13T16:44:56.853Z"
   },
   {
    "duration": 46,
    "start_time": "2023-01-13T16:45:05.716Z"
   },
   {
    "duration": 9,
    "start_time": "2023-01-13T16:52:18.518Z"
   },
   {
    "duration": 7,
    "start_time": "2023-01-13T16:52:26.987Z"
   },
   {
    "duration": 7,
    "start_time": "2023-01-13T16:52:28.148Z"
   },
   {
    "duration": 10,
    "start_time": "2023-01-13T16:54:25.543Z"
   },
   {
    "duration": 10,
    "start_time": "2023-01-13T16:54:26.959Z"
   },
   {
    "duration": 10,
    "start_time": "2023-01-13T16:54:28.346Z"
   },
   {
    "duration": 3,
    "start_time": "2023-01-13T16:54:30.212Z"
   },
   {
    "duration": 75,
    "start_time": "2023-01-13T16:55:13.640Z"
   },
   {
    "duration": 10,
    "start_time": "2023-01-13T16:57:30.586Z"
   },
   {
    "duration": 8,
    "start_time": "2023-01-13T16:57:32.580Z"
   },
   {
    "duration": 11,
    "start_time": "2023-01-13T16:57:34.093Z"
   },
   {
    "duration": 11,
    "start_time": "2023-01-13T16:58:15.853Z"
   },
   {
    "duration": 8,
    "start_time": "2023-01-13T16:58:17.331Z"
   },
   {
    "duration": 10,
    "start_time": "2023-01-13T16:58:19.264Z"
   },
   {
    "duration": 4,
    "start_time": "2023-01-13T16:58:21.283Z"
   },
   {
    "duration": 73,
    "start_time": "2023-01-13T16:58:44.077Z"
   },
   {
    "duration": 111,
    "start_time": "2023-01-13T16:59:02.023Z"
   },
   {
    "duration": 274,
    "start_time": "2023-01-13T17:00:05.149Z"
   },
   {
    "duration": 10,
    "start_time": "2023-01-13T17:00:15.449Z"
   },
   {
    "duration": 9,
    "start_time": "2023-01-13T17:00:16.767Z"
   },
   {
    "duration": 8,
    "start_time": "2023-01-13T17:00:18.532Z"
   },
   {
    "duration": 4,
    "start_time": "2023-01-13T17:00:19.840Z"
   },
   {
    "duration": 45,
    "start_time": "2023-01-13T17:00:27.190Z"
   },
   {
    "duration": 11,
    "start_time": "2023-01-13T17:01:44.051Z"
   },
   {
    "duration": 9,
    "start_time": "2023-01-13T17:01:46.004Z"
   },
   {
    "duration": 8,
    "start_time": "2023-01-13T17:01:47.501Z"
   },
   {
    "duration": 4,
    "start_time": "2023-01-13T17:01:49.260Z"
   },
   {
    "duration": 263,
    "start_time": "2023-01-13T17:01:51.164Z"
   },
   {
    "duration": 155,
    "start_time": "2023-01-13T17:02:02.046Z"
   },
   {
    "duration": 204,
    "start_time": "2023-01-13T17:03:54.813Z"
   },
   {
    "duration": 312,
    "start_time": "2023-01-13T17:04:51.978Z"
   },
   {
    "duration": 562,
    "start_time": "2023-01-13T17:05:39.863Z"
   },
   {
    "duration": 3,
    "start_time": "2023-01-13T17:05:56.604Z"
   },
   {
    "duration": 262,
    "start_time": "2023-01-13T17:05:57.998Z"
   },
   {
    "duration": 167,
    "start_time": "2023-01-13T17:06:00.762Z"
   },
   {
    "duration": 562,
    "start_time": "2023-01-13T17:06:02.572Z"
   },
   {
    "duration": 10,
    "start_time": "2023-01-13T17:06:51.201Z"
   },
   {
    "duration": 9,
    "start_time": "2023-01-13T17:06:52.063Z"
   },
   {
    "duration": 9,
    "start_time": "2023-01-13T17:06:52.809Z"
   },
   {
    "duration": 3,
    "start_time": "2023-01-13T17:06:55.316Z"
   },
   {
    "duration": 259,
    "start_time": "2023-01-13T17:07:00.084Z"
   },
   {
    "duration": 171,
    "start_time": "2023-01-13T17:07:02.841Z"
   },
   {
    "duration": 512,
    "start_time": "2023-01-13T17:07:05.093Z"
   },
   {
    "duration": 57,
    "start_time": "2023-01-13T17:15:06.616Z"
   },
   {
    "duration": 2,
    "start_time": "2023-01-13T17:15:11.188Z"
   },
   {
    "duration": 4,
    "start_time": "2023-01-13T17:18:33.738Z"
   },
   {
    "duration": 1405,
    "start_time": "2023-01-13T17:41:28.789Z"
   },
   {
    "duration": 219,
    "start_time": "2023-01-13T17:41:30.196Z"
   },
   {
    "duration": 3,
    "start_time": "2023-01-13T17:41:30.417Z"
   },
   {
    "duration": 34,
    "start_time": "2023-01-13T17:41:30.422Z"
   },
   {
    "duration": 26,
    "start_time": "2023-01-13T17:41:30.458Z"
   },
   {
    "duration": 98,
    "start_time": "2023-01-13T17:41:30.486Z"
   },
   {
    "duration": 71,
    "start_time": "2023-01-13T17:41:30.586Z"
   },
   {
    "duration": 63,
    "start_time": "2023-01-13T17:41:30.659Z"
   },
   {
    "duration": 56,
    "start_time": "2023-01-13T17:41:30.724Z"
   },
   {
    "duration": 35,
    "start_time": "2023-01-13T17:41:30.783Z"
   },
   {
    "duration": 34,
    "start_time": "2023-01-13T17:41:30.819Z"
   },
   {
    "duration": 70,
    "start_time": "2023-01-13T17:41:30.854Z"
   },
   {
    "duration": 33,
    "start_time": "2023-01-13T17:41:30.925Z"
   },
   {
    "duration": 27,
    "start_time": "2023-01-13T17:41:30.959Z"
   },
   {
    "duration": 51,
    "start_time": "2023-01-13T17:41:30.988Z"
   },
   {
    "duration": 12,
    "start_time": "2023-01-13T17:41:31.041Z"
   },
   {
    "duration": 31,
    "start_time": "2023-01-13T17:41:31.055Z"
   },
   {
    "duration": 17,
    "start_time": "2023-01-13T17:41:31.087Z"
   },
   {
    "duration": 152,
    "start_time": "2023-01-13T17:41:31.106Z"
   },
   {
    "duration": 138,
    "start_time": "2023-01-13T17:41:31.260Z"
   },
   {
    "duration": 25,
    "start_time": "2023-01-13T17:41:31.399Z"
   },
   {
    "duration": 21,
    "start_time": "2023-01-13T17:41:31.426Z"
   },
   {
    "duration": 37,
    "start_time": "2023-01-13T17:41:31.449Z"
   },
   {
    "duration": 45,
    "start_time": "2023-01-13T17:41:31.488Z"
   },
   {
    "duration": 13,
    "start_time": "2023-01-13T17:41:31.535Z"
   },
   {
    "duration": 18,
    "start_time": "2023-01-13T17:41:31.550Z"
   },
   {
    "duration": 17,
    "start_time": "2023-01-13T17:41:31.569Z"
   },
   {
    "duration": 10,
    "start_time": "2023-01-13T17:41:31.591Z"
   },
   {
    "duration": 15,
    "start_time": "2023-01-13T17:41:31.603Z"
   },
   {
    "duration": 26,
    "start_time": "2023-01-13T17:41:31.620Z"
   },
   {
    "duration": 27,
    "start_time": "2023-01-13T17:41:31.648Z"
   },
   {
    "duration": 17,
    "start_time": "2023-01-13T17:41:31.677Z"
   },
   {
    "duration": 11,
    "start_time": "2023-01-13T17:41:31.696Z"
   },
   {
    "duration": 27,
    "start_time": "2023-01-13T17:41:31.709Z"
   },
   {
    "duration": 13,
    "start_time": "2023-01-13T17:41:31.738Z"
   },
   {
    "duration": 12,
    "start_time": "2023-01-13T17:41:31.752Z"
   },
   {
    "duration": 6,
    "start_time": "2023-01-13T17:41:31.766Z"
   },
   {
    "duration": 31,
    "start_time": "2023-01-13T17:41:31.774Z"
   },
   {
    "duration": 9,
    "start_time": "2023-01-13T17:41:31.808Z"
   },
   {
    "duration": 33,
    "start_time": "2023-01-13T17:41:31.819Z"
   },
   {
    "duration": 18,
    "start_time": "2023-01-13T17:41:31.854Z"
   },
   {
    "duration": 21,
    "start_time": "2023-01-13T17:41:31.874Z"
   },
   {
    "duration": 25,
    "start_time": "2023-01-13T17:41:31.897Z"
   },
   {
    "duration": 14,
    "start_time": "2023-01-13T17:41:31.924Z"
   },
   {
    "duration": 6,
    "start_time": "2023-01-13T17:41:31.940Z"
   },
   {
    "duration": 11,
    "start_time": "2023-01-13T17:41:31.947Z"
   },
   {
    "duration": 9,
    "start_time": "2023-01-13T17:41:31.959Z"
   },
   {
    "duration": 44,
    "start_time": "2023-01-13T17:41:31.969Z"
   },
   {
    "duration": 8,
    "start_time": "2023-01-13T17:41:32.015Z"
   },
   {
    "duration": 14,
    "start_time": "2023-01-13T17:41:32.024Z"
   },
   {
    "duration": 9,
    "start_time": "2023-01-13T17:41:32.040Z"
   },
   {
    "duration": 11,
    "start_time": "2023-01-13T17:41:32.050Z"
   },
   {
    "duration": 13,
    "start_time": "2023-01-13T17:41:32.063Z"
   },
   {
    "duration": 10,
    "start_time": "2023-01-13T17:41:32.078Z"
   },
   {
    "duration": 28,
    "start_time": "2023-01-13T17:41:32.090Z"
   },
   {
    "duration": 5,
    "start_time": "2023-01-13T17:41:32.120Z"
   },
   {
    "duration": 10,
    "start_time": "2023-01-13T17:41:32.126Z"
   },
   {
    "duration": 9,
    "start_time": "2023-01-13T17:41:32.138Z"
   },
   {
    "duration": 10,
    "start_time": "2023-01-13T17:41:32.149Z"
   },
   {
    "duration": 13,
    "start_time": "2023-01-13T17:41:32.161Z"
   },
   {
    "duration": 57,
    "start_time": "2023-01-13T17:41:32.175Z"
   },
   {
    "duration": 4,
    "start_time": "2023-01-13T17:41:32.234Z"
   },
   {
    "duration": 10,
    "start_time": "2023-01-13T17:41:32.240Z"
   },
   {
    "duration": 150,
    "start_time": "2023-01-13T17:41:32.252Z"
   },
   {
    "duration": 222,
    "start_time": "2023-01-13T17:41:32.404Z"
   },
   {
    "duration": 7,
    "start_time": "2023-01-13T17:41:32.628Z"
   },
   {
    "duration": 7,
    "start_time": "2023-01-13T17:41:32.637Z"
   },
   {
    "duration": 10,
    "start_time": "2023-01-13T17:41:32.646Z"
   },
   {
    "duration": 6,
    "start_time": "2023-01-13T17:41:32.658Z"
   },
   {
    "duration": 8,
    "start_time": "2023-01-13T17:41:32.666Z"
   },
   {
    "duration": 6,
    "start_time": "2023-01-13T17:41:32.712Z"
   },
   {
    "duration": 7,
    "start_time": "2023-01-13T17:41:32.720Z"
   },
   {
    "duration": 6,
    "start_time": "2023-01-13T17:41:32.729Z"
   },
   {
    "duration": 12,
    "start_time": "2023-01-13T17:41:32.737Z"
   },
   {
    "duration": 10,
    "start_time": "2023-01-13T17:41:32.750Z"
   },
   {
    "duration": 60,
    "start_time": "2023-01-13T17:41:32.763Z"
   },
   {
    "duration": 18,
    "start_time": "2023-01-13T17:41:32.825Z"
   },
   {
    "duration": 12,
    "start_time": "2023-01-13T17:41:32.845Z"
   },
   {
    "duration": 12,
    "start_time": "2023-01-13T17:41:32.859Z"
   },
   {
    "duration": 9,
    "start_time": "2023-01-13T17:41:32.872Z"
   },
   {
    "duration": 278,
    "start_time": "2023-01-13T17:41:32.882Z"
   },
   {
    "duration": 172,
    "start_time": "2023-01-13T17:41:33.165Z"
   },
   {
    "duration": 534,
    "start_time": "2023-01-13T17:41:33.339Z"
   },
   {
    "duration": 2,
    "start_time": "2023-01-13T17:41:33.875Z"
   },
   {
    "duration": 7,
    "start_time": "2023-01-13T17:41:33.879Z"
   },
   {
    "duration": 8,
    "start_time": "2023-01-13T17:41:33.887Z"
   },
   {
    "duration": 133,
    "start_time": "2023-01-13T17:41:33.897Z"
   },
   {
    "duration": 0,
    "start_time": "2023-01-13T17:41:34.031Z"
   },
   {
    "duration": 0,
    "start_time": "2023-01-13T17:41:34.033Z"
   },
   {
    "duration": 0,
    "start_time": "2023-01-13T17:41:34.033Z"
   },
   {
    "duration": 0,
    "start_time": "2023-01-13T17:41:34.034Z"
   },
   {
    "duration": 0,
    "start_time": "2023-01-13T17:41:34.036Z"
   },
   {
    "duration": 0,
    "start_time": "2023-01-13T17:41:34.036Z"
   },
   {
    "duration": 0,
    "start_time": "2023-01-13T17:41:34.038Z"
   },
   {
    "duration": 0,
    "start_time": "2023-01-13T17:41:34.039Z"
   },
   {
    "duration": 0,
    "start_time": "2023-01-13T17:41:34.040Z"
   },
   {
    "duration": 0,
    "start_time": "2023-01-13T17:41:34.041Z"
   },
   {
    "duration": 0,
    "start_time": "2023-01-13T17:41:34.042Z"
   },
   {
    "duration": 0,
    "start_time": "2023-01-13T17:41:34.043Z"
   },
   {
    "duration": 0,
    "start_time": "2023-01-13T17:41:34.044Z"
   },
   {
    "duration": 0,
    "start_time": "2023-01-13T17:41:34.045Z"
   },
   {
    "duration": 0,
    "start_time": "2023-01-13T17:41:34.046Z"
   },
   {
    "duration": 0,
    "start_time": "2023-01-13T17:41:34.047Z"
   },
   {
    "duration": 0,
    "start_time": "2023-01-13T17:41:34.048Z"
   },
   {
    "duration": 0,
    "start_time": "2023-01-13T17:41:34.049Z"
   },
   {
    "duration": 0,
    "start_time": "2023-01-13T17:41:34.050Z"
   },
   {
    "duration": 0,
    "start_time": "2023-01-13T17:41:34.051Z"
   },
   {
    "duration": 0,
    "start_time": "2023-01-13T17:41:34.051Z"
   },
   {
    "duration": 0,
    "start_time": "2023-01-13T17:41:34.052Z"
   },
   {
    "duration": 0,
    "start_time": "2023-01-13T17:41:34.053Z"
   },
   {
    "duration": 0,
    "start_time": "2023-01-13T17:41:34.054Z"
   },
   {
    "duration": 0,
    "start_time": "2023-01-13T17:41:34.055Z"
   },
   {
    "duration": 5,
    "start_time": "2023-01-13T17:41:50.327Z"
   },
   {
    "duration": 225,
    "start_time": "2023-01-13T17:41:50.334Z"
   },
   {
    "duration": 3,
    "start_time": "2023-01-13T17:41:50.561Z"
   },
   {
    "duration": 23,
    "start_time": "2023-01-13T17:41:50.567Z"
   },
   {
    "duration": 43,
    "start_time": "2023-01-13T17:41:50.592Z"
   },
   {
    "duration": 100,
    "start_time": "2023-01-13T17:41:50.637Z"
   },
   {
    "duration": 57,
    "start_time": "2023-01-13T17:41:50.739Z"
   },
   {
    "duration": 66,
    "start_time": "2023-01-13T17:41:50.797Z"
   },
   {
    "duration": 67,
    "start_time": "2023-01-13T17:41:50.865Z"
   },
   {
    "duration": 18,
    "start_time": "2023-01-13T17:41:50.935Z"
   },
   {
    "duration": 20,
    "start_time": "2023-01-13T17:41:50.954Z"
   },
   {
    "duration": 94,
    "start_time": "2023-01-13T17:41:50.975Z"
   },
   {
    "duration": 49,
    "start_time": "2023-01-13T17:41:51.070Z"
   },
   {
    "duration": 27,
    "start_time": "2023-01-13T17:41:51.121Z"
   },
   {
    "duration": 29,
    "start_time": "2023-01-13T17:41:51.150Z"
   },
   {
    "duration": 36,
    "start_time": "2023-01-13T17:41:51.181Z"
   },
   {
    "duration": 8,
    "start_time": "2023-01-13T17:41:51.219Z"
   },
   {
    "duration": 7,
    "start_time": "2023-01-13T17:41:51.229Z"
   },
   {
    "duration": 159,
    "start_time": "2023-01-13T17:41:51.238Z"
   },
   {
    "duration": 149,
    "start_time": "2023-01-13T17:41:51.398Z"
   },
   {
    "duration": 14,
    "start_time": "2023-01-13T17:41:51.549Z"
   },
   {
    "duration": 11,
    "start_time": "2023-01-13T17:41:51.564Z"
   },
   {
    "duration": 8,
    "start_time": "2023-01-13T17:41:51.578Z"
   },
   {
    "duration": 6,
    "start_time": "2023-01-13T17:41:51.613Z"
   },
   {
    "duration": 8,
    "start_time": "2023-01-13T17:41:51.621Z"
   },
   {
    "duration": 7,
    "start_time": "2023-01-13T17:41:51.631Z"
   },
   {
    "duration": 10,
    "start_time": "2023-01-13T17:41:51.639Z"
   },
   {
    "duration": 6,
    "start_time": "2023-01-13T17:41:51.655Z"
   },
   {
    "duration": 8,
    "start_time": "2023-01-13T17:41:51.662Z"
   },
   {
    "duration": 5,
    "start_time": "2023-01-13T17:41:51.713Z"
   },
   {
    "duration": 19,
    "start_time": "2023-01-13T17:41:51.719Z"
   },
   {
    "duration": 10,
    "start_time": "2023-01-13T17:41:51.740Z"
   },
   {
    "duration": 6,
    "start_time": "2023-01-13T17:41:51.751Z"
   },
   {
    "duration": 21,
    "start_time": "2023-01-13T17:41:51.759Z"
   },
   {
    "duration": 33,
    "start_time": "2023-01-13T17:41:51.782Z"
   },
   {
    "duration": 12,
    "start_time": "2023-01-13T17:41:51.817Z"
   },
   {
    "duration": 5,
    "start_time": "2023-01-13T17:41:51.831Z"
   },
   {
    "duration": 10,
    "start_time": "2023-01-13T17:41:51.837Z"
   },
   {
    "duration": 11,
    "start_time": "2023-01-13T17:41:51.848Z"
   },
   {
    "duration": 4,
    "start_time": "2023-01-13T17:41:51.861Z"
   },
   {
    "duration": 49,
    "start_time": "2023-01-13T17:41:51.867Z"
   },
   {
    "duration": 10,
    "start_time": "2023-01-13T17:41:51.917Z"
   },
   {
    "duration": 17,
    "start_time": "2023-01-13T17:41:51.929Z"
   },
   {
    "duration": 6,
    "start_time": "2023-01-13T17:41:51.947Z"
   },
   {
    "duration": 5,
    "start_time": "2023-01-13T17:41:51.955Z"
   },
   {
    "duration": 10,
    "start_time": "2023-01-13T17:41:51.962Z"
   },
   {
    "duration": 41,
    "start_time": "2023-01-13T17:41:51.974Z"
   },
   {
    "duration": 35,
    "start_time": "2023-01-13T17:41:52.017Z"
   },
   {
    "duration": 8,
    "start_time": "2023-01-13T17:41:52.053Z"
   },
   {
    "duration": 7,
    "start_time": "2023-01-13T17:41:52.063Z"
   },
   {
    "duration": 47,
    "start_time": "2023-01-13T17:41:52.072Z"
   },
   {
    "duration": 7,
    "start_time": "2023-01-13T17:41:52.121Z"
   },
   {
    "duration": 8,
    "start_time": "2023-01-13T17:41:52.130Z"
   },
   {
    "duration": 6,
    "start_time": "2023-01-13T17:41:52.140Z"
   },
   {
    "duration": 8,
    "start_time": "2023-01-13T17:41:52.148Z"
   },
   {
    "duration": 5,
    "start_time": "2023-01-13T17:41:52.158Z"
   },
   {
    "duration": 5,
    "start_time": "2023-01-13T17:41:52.213Z"
   },
   {
    "duration": 6,
    "start_time": "2023-01-13T17:41:52.219Z"
   },
   {
    "duration": 8,
    "start_time": "2023-01-13T17:41:52.227Z"
   },
   {
    "duration": 7,
    "start_time": "2023-01-13T17:41:52.237Z"
   },
   {
    "duration": 76,
    "start_time": "2023-01-13T17:41:52.246Z"
   },
   {
    "duration": 6,
    "start_time": "2023-01-13T17:41:52.323Z"
   },
   {
    "duration": 7,
    "start_time": "2023-01-13T17:41:52.331Z"
   },
   {
    "duration": 155,
    "start_time": "2023-01-13T17:41:52.339Z"
   },
   {
    "duration": 136,
    "start_time": "2023-01-13T17:41:52.496Z"
   },
   {
    "duration": 8,
    "start_time": "2023-01-13T17:41:52.634Z"
   },
   {
    "duration": 8,
    "start_time": "2023-01-13T17:41:52.643Z"
   },
   {
    "duration": 6,
    "start_time": "2023-01-13T17:41:52.653Z"
   },
   {
    "duration": 10,
    "start_time": "2023-01-13T17:41:52.660Z"
   },
   {
    "duration": 41,
    "start_time": "2023-01-13T17:41:52.672Z"
   },
   {
    "duration": 8,
    "start_time": "2023-01-13T17:41:52.715Z"
   },
   {
    "duration": 6,
    "start_time": "2023-01-13T17:41:52.724Z"
   },
   {
    "duration": 10,
    "start_time": "2023-01-13T17:41:52.731Z"
   },
   {
    "duration": 11,
    "start_time": "2023-01-13T17:41:52.743Z"
   },
   {
    "duration": 10,
    "start_time": "2023-01-13T17:41:52.755Z"
   },
   {
    "duration": 47,
    "start_time": "2023-01-13T17:41:52.766Z"
   },
   {
    "duration": 9,
    "start_time": "2023-01-13T17:41:52.815Z"
   },
   {
    "duration": 8,
    "start_time": "2023-01-13T17:41:52.826Z"
   },
   {
    "duration": 13,
    "start_time": "2023-01-13T17:41:52.835Z"
   },
   {
    "duration": 3,
    "start_time": "2023-01-13T17:41:52.850Z"
   },
   {
    "duration": 276,
    "start_time": "2023-01-13T17:41:52.855Z"
   },
   {
    "duration": 155,
    "start_time": "2023-01-13T17:41:53.136Z"
   },
   {
    "duration": 515,
    "start_time": "2023-01-13T17:41:53.293Z"
   },
   {
    "duration": 2,
    "start_time": "2023-01-13T17:41:53.810Z"
   },
   {
    "duration": 7,
    "start_time": "2023-01-13T17:41:53.814Z"
   },
   {
    "duration": 6,
    "start_time": "2023-01-13T17:41:53.822Z"
   },
   {
    "duration": 170,
    "start_time": "2023-01-13T17:42:27.242Z"
   },
   {
    "duration": 376137,
    "start_time": "2023-01-13T17:43:07.531Z"
   },
   {
    "duration": 90194,
    "start_time": "2023-01-13T17:55:19.623Z"
   },
   {
    "duration": 47,
    "start_time": "2023-01-14T07:26:40.084Z"
   },
   {
    "duration": 1483,
    "start_time": "2023-01-14T07:26:58.276Z"
   },
   {
    "duration": 541,
    "start_time": "2023-01-14T07:26:59.761Z"
   },
   {
    "duration": 5,
    "start_time": "2023-01-14T07:27:00.303Z"
   },
   {
    "duration": 35,
    "start_time": "2023-01-14T07:27:00.309Z"
   },
   {
    "duration": 27,
    "start_time": "2023-01-14T07:27:00.345Z"
   },
   {
    "duration": 82,
    "start_time": "2023-01-14T07:27:00.373Z"
   },
   {
    "duration": 64,
    "start_time": "2023-01-14T07:27:00.457Z"
   },
   {
    "duration": 52,
    "start_time": "2023-01-14T07:27:00.523Z"
   },
   {
    "duration": 61,
    "start_time": "2023-01-14T07:27:00.576Z"
   },
   {
    "duration": 15,
    "start_time": "2023-01-14T07:27:00.639Z"
   },
   {
    "duration": 22,
    "start_time": "2023-01-14T07:27:00.655Z"
   },
   {
    "duration": 78,
    "start_time": "2023-01-14T07:27:00.678Z"
   },
   {
    "duration": 34,
    "start_time": "2023-01-14T07:27:00.758Z"
   },
   {
    "duration": 40,
    "start_time": "2023-01-14T07:27:00.793Z"
   },
   {
    "duration": 27,
    "start_time": "2023-01-14T07:27:00.834Z"
   },
   {
    "duration": 12,
    "start_time": "2023-01-14T07:27:00.863Z"
   },
   {
    "duration": 33,
    "start_time": "2023-01-14T07:27:00.877Z"
   },
   {
    "duration": 28,
    "start_time": "2023-01-14T07:27:00.912Z"
   },
   {
    "duration": 162,
    "start_time": "2023-01-14T07:27:00.941Z"
   },
   {
    "duration": 132,
    "start_time": "2023-01-14T07:27:01.104Z"
   },
   {
    "duration": 17,
    "start_time": "2023-01-14T07:27:01.237Z"
   },
   {
    "duration": 38,
    "start_time": "2023-01-14T07:27:01.255Z"
   },
   {
    "duration": 24,
    "start_time": "2023-01-14T07:27:01.295Z"
   },
   {
    "duration": 56,
    "start_time": "2023-01-14T07:27:01.321Z"
   },
   {
    "duration": 15,
    "start_time": "2023-01-14T07:27:01.379Z"
   },
   {
    "duration": 22,
    "start_time": "2023-01-14T07:27:01.395Z"
   },
   {
    "duration": 11,
    "start_time": "2023-01-14T07:27:01.419Z"
   },
   {
    "duration": 26,
    "start_time": "2023-01-14T07:27:01.434Z"
   },
   {
    "duration": 39,
    "start_time": "2023-01-14T07:27:01.461Z"
   },
   {
    "duration": 19,
    "start_time": "2023-01-14T07:27:01.502Z"
   },
   {
    "duration": 24,
    "start_time": "2023-01-14T07:27:01.522Z"
   },
   {
    "duration": 26,
    "start_time": "2023-01-14T07:27:01.547Z"
   },
   {
    "duration": 25,
    "start_time": "2023-01-14T07:27:01.575Z"
   },
   {
    "duration": 45,
    "start_time": "2023-01-14T07:27:01.602Z"
   },
   {
    "duration": 18,
    "start_time": "2023-01-14T07:27:01.649Z"
   },
   {
    "duration": 25,
    "start_time": "2023-01-14T07:27:01.668Z"
   },
   {
    "duration": 13,
    "start_time": "2023-01-14T07:27:01.694Z"
   },
   {
    "duration": 22,
    "start_time": "2023-01-14T07:27:01.708Z"
   },
   {
    "duration": 39,
    "start_time": "2023-01-14T07:27:01.731Z"
   },
   {
    "duration": 20,
    "start_time": "2023-01-14T07:27:01.772Z"
   },
   {
    "duration": 29,
    "start_time": "2023-01-14T07:27:01.794Z"
   },
   {
    "duration": 9,
    "start_time": "2023-01-14T07:27:01.825Z"
   },
   {
    "duration": 25,
    "start_time": "2023-01-14T07:27:01.835Z"
   },
   {
    "duration": 25,
    "start_time": "2023-01-14T07:27:01.861Z"
   },
   {
    "duration": 18,
    "start_time": "2023-01-14T07:27:01.888Z"
   },
   {
    "duration": 11,
    "start_time": "2023-01-14T07:27:01.908Z"
   },
   {
    "duration": 8,
    "start_time": "2023-01-14T07:27:01.920Z"
   },
   {
    "duration": 37,
    "start_time": "2023-01-14T07:27:01.929Z"
   },
   {
    "duration": 7,
    "start_time": "2023-01-14T07:27:01.967Z"
   },
   {
    "duration": 15,
    "start_time": "2023-01-14T07:27:01.975Z"
   },
   {
    "duration": 8,
    "start_time": "2023-01-14T07:27:01.992Z"
   },
   {
    "duration": 20,
    "start_time": "2023-01-14T07:27:02.002Z"
   },
   {
    "duration": 5,
    "start_time": "2023-01-14T07:27:02.023Z"
   },
   {
    "duration": 8,
    "start_time": "2023-01-14T07:27:02.029Z"
   },
   {
    "duration": 6,
    "start_time": "2023-01-14T07:27:02.039Z"
   },
   {
    "duration": 8,
    "start_time": "2023-01-14T07:27:02.046Z"
   },
   {
    "duration": 7,
    "start_time": "2023-01-14T07:27:02.056Z"
   },
   {
    "duration": 7,
    "start_time": "2023-01-14T07:27:02.064Z"
   },
   {
    "duration": 8,
    "start_time": "2023-01-14T07:27:02.073Z"
   },
   {
    "duration": 39,
    "start_time": "2023-01-14T07:27:02.083Z"
   },
   {
    "duration": 27,
    "start_time": "2023-01-14T07:27:02.124Z"
   },
   {
    "duration": 9,
    "start_time": "2023-01-14T07:27:02.153Z"
   },
   {
    "duration": 13,
    "start_time": "2023-01-14T07:27:02.163Z"
   },
   {
    "duration": 151,
    "start_time": "2023-01-14T07:27:02.177Z"
   },
   {
    "duration": 207,
    "start_time": "2023-01-14T07:27:02.329Z"
   },
   {
    "duration": 7,
    "start_time": "2023-01-14T07:27:02.538Z"
   },
   {
    "duration": 9,
    "start_time": "2023-01-14T07:27:02.547Z"
   },
   {
    "duration": 9,
    "start_time": "2023-01-14T07:27:02.558Z"
   },
   {
    "duration": 15,
    "start_time": "2023-01-14T07:27:02.569Z"
   },
   {
    "duration": 10,
    "start_time": "2023-01-14T07:27:02.586Z"
   },
   {
    "duration": 24,
    "start_time": "2023-01-14T07:27:02.597Z"
   },
   {
    "duration": 8,
    "start_time": "2023-01-14T07:27:02.623Z"
   },
   {
    "duration": 6,
    "start_time": "2023-01-14T07:27:02.632Z"
   },
   {
    "duration": 11,
    "start_time": "2023-01-14T07:27:02.640Z"
   },
   {
    "duration": 16,
    "start_time": "2023-01-14T07:27:02.652Z"
   },
   {
    "duration": 13,
    "start_time": "2023-01-14T07:27:02.669Z"
   },
   {
    "duration": 14,
    "start_time": "2023-01-14T07:27:02.684Z"
   },
   {
    "duration": 26,
    "start_time": "2023-01-14T07:27:02.700Z"
   },
   {
    "duration": 13,
    "start_time": "2023-01-14T07:27:02.728Z"
   },
   {
    "duration": 7,
    "start_time": "2023-01-14T07:27:02.743Z"
   },
   {
    "duration": 315,
    "start_time": "2023-01-14T07:27:02.752Z"
   },
   {
    "duration": 176,
    "start_time": "2023-01-14T07:27:03.072Z"
   },
   {
    "duration": 556,
    "start_time": "2023-01-14T07:27:03.250Z"
   },
   {
    "duration": 2,
    "start_time": "2023-01-14T07:27:03.808Z"
   },
   {
    "duration": 10,
    "start_time": "2023-01-14T07:27:03.812Z"
   },
   {
    "duration": 5,
    "start_time": "2023-01-14T07:27:03.824Z"
   },
   {
    "duration": 353,
    "start_time": "2023-01-14T07:27:39.782Z"
   },
   {
    "duration": 560,
    "start_time": "2023-01-14T07:27:52.116Z"
   },
   {
    "duration": 385,
    "start_time": "2023-01-14T07:28:03.743Z"
   },
   {
    "duration": 544,
    "start_time": "2023-01-14T07:28:10.219Z"
   },
   {
    "duration": 361,
    "start_time": "2023-01-14T07:28:38.407Z"
   },
   {
    "duration": 472,
    "start_time": "2023-01-14T07:28:51.842Z"
   },
   {
    "duration": 251,
    "start_time": "2023-01-14T07:28:59.533Z"
   },
   {
    "duration": 373,
    "start_time": "2023-01-14T07:29:16.741Z"
   },
   {
    "duration": 4,
    "start_time": "2023-01-14T07:30:49.860Z"
   },
   {
    "duration": 17453699,
    "start_time": "2023-01-14T07:31:42.025Z"
   },
   {
    "duration": 390094,
    "start_time": "2023-01-14T13:17:52.145Z"
   },
   {
    "duration": 95879,
    "start_time": "2023-01-14T13:24:45.694Z"
   },
   {
    "duration": 79,
    "start_time": "2023-01-14T13:27:39.534Z"
   },
   {
    "duration": 11,
    "start_time": "2023-01-14T13:29:05.077Z"
   },
   {
    "duration": 12,
    "start_time": "2023-01-14T13:29:45.171Z"
   },
   {
    "duration": 58,
    "start_time": "2023-01-14T13:33:52.095Z"
   },
   {
    "duration": 13,
    "start_time": "2023-01-14T13:34:05.886Z"
   },
   {
    "duration": 146,
    "start_time": "2023-01-14T13:34:50.524Z"
   },
   {
    "duration": 3,
    "start_time": "2023-01-14T13:36:00.946Z"
   },
   {
    "duration": 105,
    "start_time": "2023-01-14T13:36:06.814Z"
   },
   {
    "duration": 122,
    "start_time": "2023-01-14T13:36:16.748Z"
   },
   {
    "duration": 132,
    "start_time": "2023-01-14T13:36:27.392Z"
   },
   {
    "duration": 132,
    "start_time": "2023-01-14T13:36:59.366Z"
   },
   {
    "duration": 145,
    "start_time": "2023-01-14T13:37:29.435Z"
   },
   {
    "duration": 7,
    "start_time": "2023-01-14T13:37:59.206Z"
   },
   {
    "duration": 3,
    "start_time": "2023-01-14T13:38:09.317Z"
   },
   {
    "duration": 177,
    "start_time": "2023-01-14T13:38:24.454Z"
   },
   {
    "duration": 106,
    "start_time": "2023-01-14T13:38:28.649Z"
   },
   {
    "duration": 278,
    "start_time": "2023-01-14T13:38:30.285Z"
   },
   {
    "duration": 9,
    "start_time": "2023-01-14T13:38:52.804Z"
   },
   {
    "duration": 9,
    "start_time": "2023-01-14T13:38:54.697Z"
   },
   {
    "duration": 6,
    "start_time": "2023-01-14T13:39:08.446Z"
   },
   {
    "duration": 3,
    "start_time": "2023-01-14T13:39:38.875Z"
   },
   {
    "duration": 192,
    "start_time": "2023-01-14T13:39:41.628Z"
   },
   {
    "duration": 110,
    "start_time": "2023-01-14T13:39:43.303Z"
   },
   {
    "duration": 276,
    "start_time": "2023-01-14T13:39:46.769Z"
   },
   {
    "duration": 163,
    "start_time": "2023-01-14T13:40:44.266Z"
   },
   {
    "duration": 276,
    "start_time": "2023-01-14T13:40:56.451Z"
   },
   {
    "duration": 280,
    "start_time": "2023-01-14T13:41:05.076Z"
   },
   {
    "duration": 368,
    "start_time": "2023-01-14T13:43:35.698Z"
   },
   {
    "duration": 557,
    "start_time": "2023-01-14T13:43:56.742Z"
   },
   {
    "duration": 288,
    "start_time": "2023-01-14T13:44:40.268Z"
   },
   {
    "duration": 489,
    "start_time": "2023-01-14T13:48:37.862Z"
   },
   {
    "duration": 27,
    "start_time": "2023-01-14T13:48:55.623Z"
   },
   {
    "duration": 294,
    "start_time": "2023-01-14T13:58:49.027Z"
   },
   {
    "duration": 318,
    "start_time": "2023-01-14T14:02:19.129Z"
   },
   {
    "duration": 8,
    "start_time": "2023-01-14T14:02:49.260Z"
   },
   {
    "duration": 9,
    "start_time": "2023-01-14T14:02:50.313Z"
   },
   {
    "duration": 7,
    "start_time": "2023-01-14T14:02:51.610Z"
   },
   {
    "duration": 4,
    "start_time": "2023-01-14T14:02:55.143Z"
   },
   {
    "duration": 198,
    "start_time": "2023-01-14T14:02:57.410Z"
   },
   {
    "duration": 118,
    "start_time": "2023-01-14T14:03:03.355Z"
   },
   {
    "duration": 322,
    "start_time": "2023-01-14T14:03:05.696Z"
   },
   {
    "duration": 18,
    "start_time": "2023-01-14T14:03:23.875Z"
   },
   {
    "duration": 9,
    "start_time": "2023-01-14T14:04:04.213Z"
   },
   {
    "duration": 9,
    "start_time": "2023-01-14T14:04:05.643Z"
   },
   {
    "duration": 7,
    "start_time": "2023-01-14T14:04:07.072Z"
   },
   {
    "duration": 4,
    "start_time": "2023-01-14T14:04:09.027Z"
   },
   {
    "duration": 16,
    "start_time": "2023-01-14T14:04:13.999Z"
   },
   {
    "duration": 291,
    "start_time": "2023-01-14T14:04:29.819Z"
   },
   {
    "duration": 18,
    "start_time": "2023-01-14T14:04:33.119Z"
   },
   {
    "duration": 52,
    "start_time": "2023-01-14T14:16:30.481Z"
   },
   {
    "duration": 5,
    "start_time": "2023-01-14T14:16:55.824Z"
   },
   {
    "duration": 4,
    "start_time": "2023-01-14T14:17:02.280Z"
   },
   {
    "duration": 107,
    "start_time": "2023-01-14T14:19:46.793Z"
   },
   {
    "duration": 399,
    "start_time": "2023-01-14T14:19:57.901Z"
   },
   {
    "duration": 9,
    "start_time": "2023-01-14T14:20:43.783Z"
   },
   {
    "duration": 7,
    "start_time": "2023-01-14T14:20:44.873Z"
   },
   {
    "duration": 5,
    "start_time": "2023-01-14T14:20:46.004Z"
   },
   {
    "duration": 7,
    "start_time": "2023-01-14T14:20:47.938Z"
   },
   {
    "duration": 210,
    "start_time": "2023-01-14T14:20:49.713Z"
   },
   {
    "duration": 128,
    "start_time": "2023-01-14T14:20:51.606Z"
   },
   {
    "duration": 4,
    "start_time": "2023-01-14T14:20:53.492Z"
   },
   {
    "duration": 6,
    "start_time": "2023-01-14T14:21:02.211Z"
   },
   {
    "duration": 368,
    "start_time": "2023-01-14T14:21:19.241Z"
   },
   {
    "duration": 6,
    "start_time": "2023-01-14T14:21:24.546Z"
   },
   {
    "duration": 35,
    "start_time": "2023-01-14T14:21:58.119Z"
   },
   {
    "duration": 413,
    "start_time": "2023-01-14T14:22:30.681Z"
   },
   {
    "duration": 501,
    "start_time": "2023-01-14T14:22:35.794Z"
   },
   {
    "duration": 9,
    "start_time": "2023-01-14T14:22:57.144Z"
   },
   {
    "duration": 8,
    "start_time": "2023-01-14T14:22:58.814Z"
   },
   {
    "duration": 7,
    "start_time": "2023-01-14T14:23:00.452Z"
   },
   {
    "duration": 6,
    "start_time": "2023-01-14T14:23:01.547Z"
   },
   {
    "duration": 219,
    "start_time": "2023-01-14T14:23:02.955Z"
   },
   {
    "duration": 114,
    "start_time": "2023-01-14T14:23:05.574Z"
   },
   {
    "duration": 656,
    "start_time": "2023-01-14T14:23:08.999Z"
   },
   {
    "duration": 354884,
    "start_time": "2023-01-14T14:23:31.941Z"
   },
   {
    "duration": 89179,
    "start_time": "2023-01-14T14:29:31.557Z"
   },
   {
    "duration": 159,
    "start_time": "2023-01-14T14:31:40.740Z"
   },
   {
    "duration": 131,
    "start_time": "2023-01-14T14:31:56.363Z"
   },
   {
    "duration": 4,
    "start_time": "2023-01-14T14:32:25.653Z"
   },
   {
    "duration": 4,
    "start_time": "2023-01-14T14:32:39.059Z"
   },
   {
    "duration": 9,
    "start_time": "2023-01-14T14:33:32.546Z"
   },
   {
    "duration": 7,
    "start_time": "2023-01-14T14:33:34.373Z"
   },
   {
    "duration": 6,
    "start_time": "2023-01-14T14:33:35.378Z"
   },
   {
    "duration": 4,
    "start_time": "2023-01-14T14:33:39.776Z"
   },
   {
    "duration": 24,
    "start_time": "2023-01-14T14:33:43.176Z"
   },
   {
    "duration": 3,
    "start_time": "2023-01-14T14:33:47.237Z"
   },
   {
    "duration": 238,
    "start_time": "2023-01-14T14:33:55.428Z"
   },
   {
    "duration": 109,
    "start_time": "2023-01-14T14:33:57.332Z"
   },
   {
    "duration": 423,
    "start_time": "2023-01-14T14:34:08.923Z"
   },
   {
    "duration": 4,
    "start_time": "2023-01-14T14:34:16.232Z"
   },
   {
    "duration": 355325,
    "start_time": "2023-01-14T14:34:25.290Z"
   },
   {
    "duration": 88256,
    "start_time": "2023-01-14T14:40:58.725Z"
   },
   {
    "duration": 4,
    "start_time": "2023-01-14T14:42:39.897Z"
   },
   {
    "duration": 119,
    "start_time": "2023-01-14T14:42:42.387Z"
   },
   {
    "duration": 185,
    "start_time": "2023-01-14T14:43:02.707Z"
   },
   {
    "duration": 141,
    "start_time": "2023-01-14T14:43:06.099Z"
   },
   {
    "duration": 151,
    "start_time": "2023-01-14T14:43:10.285Z"
   },
   {
    "duration": 144,
    "start_time": "2023-01-14T14:43:17.664Z"
   },
   {
    "duration": 117,
    "start_time": "2023-01-14T14:43:26.532Z"
   },
   {
    "duration": 4,
    "start_time": "2023-01-14T14:46:23.966Z"
   },
   {
    "duration": 11,
    "start_time": "2023-01-14T14:46:25.782Z"
   },
   {
    "duration": 4,
    "start_time": "2023-01-14T14:46:30.752Z"
   },
   {
    "duration": 14,
    "start_time": "2023-01-14T14:46:33.569Z"
   },
   {
    "duration": 3,
    "start_time": "2023-01-14T14:46:37.149Z"
   },
   {
    "duration": 8,
    "start_time": "2023-01-14T14:46:43.432Z"
   },
   {
    "duration": 4,
    "start_time": "2023-01-14T14:46:46.334Z"
   },
   {
    "duration": 11,
    "start_time": "2023-01-14T14:47:30.806Z"
   },
   {
    "duration": 287,
    "start_time": "2023-01-14T14:47:53.721Z"
   },
   {
    "duration": 8,
    "start_time": "2023-01-14T14:48:07.848Z"
   },
   {
    "duration": 9,
    "start_time": "2023-01-14T14:48:11.620Z"
   },
   {
    "duration": 9,
    "start_time": "2023-01-14T14:48:13.433Z"
   },
   {
    "duration": 9,
    "start_time": "2023-01-14T14:48:17.351Z"
   },
   {
    "duration": 10,
    "start_time": "2023-01-14T14:48:19.247Z"
   },
   {
    "duration": 7,
    "start_time": "2023-01-14T14:48:23.203Z"
   },
   {
    "duration": 221,
    "start_time": "2023-01-14T14:48:46.653Z"
   },
   {
    "duration": 347,
    "start_time": "2023-01-14T14:49:00.060Z"
   },
   {
    "duration": 264,
    "start_time": "2023-01-14T14:49:36.005Z"
   },
   {
    "duration": 213,
    "start_time": "2023-01-14T14:50:22.151Z"
   },
   {
    "duration": 262,
    "start_time": "2023-01-14T14:51:34.955Z"
   },
   {
    "duration": 279,
    "start_time": "2023-01-14T14:51:41.138Z"
   },
   {
    "duration": 254,
    "start_time": "2023-01-14T14:51:58.326Z"
   },
   {
    "duration": 229,
    "start_time": "2023-01-14T14:52:07.988Z"
   },
   {
    "duration": 212,
    "start_time": "2023-01-14T14:52:14.523Z"
   },
   {
    "duration": 175,
    "start_time": "2023-01-14T14:52:20.008Z"
   },
   {
    "duration": 244,
    "start_time": "2023-01-14T14:52:26.771Z"
   },
   {
    "duration": 202,
    "start_time": "2023-01-14T14:52:36.398Z"
   },
   {
    "duration": 372,
    "start_time": "2023-01-14T14:52:51.860Z"
   },
   {
    "duration": 380,
    "start_time": "2023-01-14T14:52:56.816Z"
   },
   {
    "duration": 10,
    "start_time": "2023-01-14T14:53:23.589Z"
   },
   {
    "duration": 10,
    "start_time": "2023-01-14T14:53:28.799Z"
   },
   {
    "duration": 11,
    "start_time": "2023-01-14T14:53:31.508Z"
   },
   {
    "duration": 10,
    "start_time": "2023-01-14T14:53:33.378Z"
   },
   {
    "duration": 52,
    "start_time": "2023-01-14T14:57:53.937Z"
   },
   {
    "duration": 41,
    "start_time": "2023-01-14T14:59:10.618Z"
   }
  ],
  "kernelspec": {
   "display_name": "Python 3 (ipykernel)",
   "language": "python",
   "name": "python3"
  },
  "language_info": {
   "codemirror_mode": {
    "name": "ipython",
    "version": 3
   },
   "file_extension": ".py",
   "mimetype": "text/x-python",
   "name": "python",
   "nbconvert_exporter": "python",
   "pygments_lexer": "ipython3",
   "version": "3.9.5"
  },
  "toc": {
   "base_numbering": 1,
   "nav_menu": {},
   "number_sections": true,
   "sideBar": true,
   "skip_h1_title": true,
   "title_cell": "Table of Contents",
   "title_sidebar": "Contents",
   "toc_cell": false,
   "toc_position": {
    "height": "calc(100% - 180px)",
    "left": "10px",
    "top": "150px",
    "width": "165px"
   },
   "toc_section_display": true,
   "toc_window_display": true
  }
 },
 "nbformat": 4,
 "nbformat_minor": 2
}

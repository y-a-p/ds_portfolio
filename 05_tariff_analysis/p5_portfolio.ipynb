{
 "cells": [
  {
   "cell_type": "markdown",
   "metadata": {
    "toc": true
   },
   "source": [
    "<h1>Table of Contents<span class=\"tocSkip\"></span></h1>\n",
    "<div class=\"toc\"><ul class=\"toc-item\"><li><span><a href=\"#Обзор-исследования\" data-toc-modified-id=\"Обзор-исследования-1\"><span class=\"toc-item-num\">1&nbsp;&nbsp;</span>Обзор исследования</a></span></li><li><span><a href=\"#Исследование-данных\" data-toc-modified-id=\"Исследование-данных-2\"><span class=\"toc-item-num\">2&nbsp;&nbsp;</span>Исследование данных</a></span></li><li><span><a href=\"#Подготовка-данных\" data-toc-modified-id=\"Подготовка-данных-3\"><span class=\"toc-item-num\">3&nbsp;&nbsp;</span>Подготовка данных</a></span><ul class=\"toc-item\"><li><span><a href=\"#Приведение-данных-к-нужным-типам\" data-toc-modified-id=\"Приведение-данных-к-нужным-типам-3.1\"><span class=\"toc-item-num\">3.1&nbsp;&nbsp;</span>Приведение данных к нужным типам</a></span></li><li><span><a href=\"#Исправление-ошибок\" data-toc-modified-id=\"Исправление-ошибок-3.2\"><span class=\"toc-item-num\">3.2&nbsp;&nbsp;</span>Исправление ошибок</a></span></li><li><span><a href=\"#Проверка-на-наличие-дубликатов\" data-toc-modified-id=\"Проверка-на-наличие-дубликатов-3.3\"><span class=\"toc-item-num\">3.3&nbsp;&nbsp;</span>Проверка на наличие дубликатов</a></span></li><li><span><a href=\"#Расчет-дополнительных-полей\" data-toc-modified-id=\"Расчет-дополнительных-полей-3.4\"><span class=\"toc-item-num\">3.4&nbsp;&nbsp;</span>Расчет дополнительных полей</a></span><ul class=\"toc-item\"><li><span><a href=\"#Добавим-в-таблицы-столбец-с-номером-Месяца\" data-toc-modified-id=\"Добавим-в-таблицы-столбец-с-номером-Месяца-3.4.1\"><span class=\"toc-item-num\">3.4.1&nbsp;&nbsp;</span>Добавим в таблицы столбец с номером Месяца</a></span></li><li><span><a href=\"#Округлим-минуты-и-объем-интернет-трафика\" data-toc-modified-id=\"Округлим-минуты-и-объем-интернет-трафика-3.4.2\"><span class=\"toc-item-num\">3.4.2&nbsp;&nbsp;</span>Округлим минуты и объем интернет трафика</a></span></li><li><span><a href=\"#Агрегация-данных\" data-toc-modified-id=\"Агрегация-данных-3.4.3\"><span class=\"toc-item-num\">3.4.3&nbsp;&nbsp;</span>Агрегация данных</a></span></li><li><span><a href=\"#Расчет-выручки\" data-toc-modified-id=\"Расчет-выручки-3.4.4\"><span class=\"toc-item-num\">3.4.4&nbsp;&nbsp;</span>Расчет выручки</a></span></li></ul></li></ul></li><li><span><a href=\"#Анализ-данных\" data-toc-modified-id=\"Анализ-данных-4\"><span class=\"toc-item-num\">4&nbsp;&nbsp;</span>Анализ данных</a></span></li><li><span><a href=\"#Проверка-гипотез\" data-toc-modified-id=\"Проверка-гипотез-5\"><span class=\"toc-item-num\">5&nbsp;&nbsp;</span>Проверка гипотез</a></span></li><li><span><a href=\"#Вывод\" data-toc-modified-id=\"Вывод-6\"><span class=\"toc-item-num\">6&nbsp;&nbsp;</span>Вывод</a></span></li></ul></div>"
   ]
  },
  {
   "cell_type": "markdown",
   "metadata": {},
   "source": [
    "# Определение перспективного тарифа для телеком-компании"
   ]
  },
  {
   "cell_type": "markdown",
   "metadata": {},
   "source": [
    "##  Обзор исследования"
   ]
  },
  {
   "cell_type": "markdown",
   "metadata": {},
   "source": [
    "Заказчик исследования «Мегалайн» — федеральный оператор сотовой связи. Клиентам предлагают два тарифных плана: «Смарт» и «Ультра». Чтобы скорректировать рекламный бюджет, коммерческий департамент хочет понять, какой тариф приносит больше денег.\n",
    "\n",
    "Предстоит сделать предварительный анализ тарифов на небольшой выборке клиентов. В нашем распоряжении данные 500 пользователей «Мегалайна»: кто они, откуда, каким тарифом пользуются, сколько звонков и сообщений каждый отправил за 2018 год. Нужно проанализировать поведение клиентов и сделать вывод — какой тариф лучше."
   ]
  },
  {
   "cell_type": "markdown",
   "metadata": {},
   "source": [
    "**Описание тарифов:**\n",
    "\n",
    "**Тариф «Смарт»**\n",
    "* Ежемесячная плата: 550 рублей\n",
    "* Включено 500 минут разговора, 50 сообщений и 15 Гб интернет-трафика\n",
    "* Стоимость услуг сверх тарифного пакета:<br>\n",
    "    минута разговора: 3 рубля<br>\n",
    "    сообщение: 3 рубля<br>\n",
    "* 1 Гб интернет-трафика: 200 рублей\n",
    "\n",
    "**Тариф «Ультра»**\n",
    "\n",
    "* Ежемесячная плата: 1950 рублей\n",
    "* Включено 3000 минут разговора, 1000 сообщений и 30 Гб интернет-трафика\n",
    "* Стоимость услуг сверх тарифного пакета:<br>\n",
    "    минута разговора: 1 рубль<br>\n",
    "    сообщение: 1 рубль<br>\n",
    "* 1 Гб интернет-трафика: 150 рублей"
   ]
  },
  {
   "cell_type": "markdown",
   "metadata": {},
   "source": [
    "**Примечание**\n",
    "\n",
    "* «Мегалайн» всегда округляет секунды до минут, а мегабайты — до гигабайт. \n",
    "\n",
    "* Каждый звонок округляется отдельно: даже если он длился всего 1 секунду, будет засчитан как 1 минута.\n",
    "\n",
    "* Для веб-трафика отдельные сессии не считаются. Вместо этого общая сумма за месяц округляется в бо́льшую сторону. Если абонент использует 1025 мегабайт в этом месяце, с него возьмут плату за 2 гигабайта. \n",
    "\n",
    "* Неиспользованные за предыдущий месяц звонки, смс, интернет на следующий месяц не переносятся.\n"
   ]
  },
  {
   "cell_type": "markdown",
   "metadata": {},
   "source": [
    "## Исследование данных"
   ]
  },
  {
   "cell_type": "code",
   "execution_count": null,
   "metadata": {},
   "outputs": [],
   "source": [
    "import pandas as pd\n",
    "import numpy as np\n",
    "import matplotlib.pyplot as plt \n",
    "from scipy import stats as st"
   ]
  },
  {
   "cell_type": "markdown",
   "metadata": {},
   "source": [
    "Путь к файлам:\n",
    "* /datasets/calls.csv\n",
    "* /datasets/internet.csv\n",
    "* /datasets/messages.csv\n",
    "* /datasets/tariffs.csv\n",
    "* /datasets/users.csv"
   ]
  },
  {
   "cell_type": "code",
   "execution_count": 2,
   "metadata": {},
   "outputs": [],
   "source": [
    "try:\n",
    "    df_calls = pd.read_csv('/datasets/calls.csv')\n",
    "    df_internet = pd.read_csv('/datasets/internet.csv')\n",
    "    df_messages = pd.read_csv('/datasets/messages.csv')\n",
    "    df_tariffs = pd.read_csv('/datasets/tariffs.csv')\n",
    "    df_users = pd.read_csv('/datasets/users.csv')\n",
    "except:\n",
    "    print('При чтение файлов в датафрейм возникли ошибки')"
   ]
  },
  {
   "cell_type": "markdown",
   "metadata": {},
   "source": [
    "**Таблица `calls` (информация о звонках):** \n",
    "* `id` — уникальный номер звонка\n",
    "* `call_date` — дата звонка\n",
    "* `duration` — длительность звонка в минутах\n",
    "* `user_id` — идентификатор пользователя, сделавшего звонок\n",
    "\n",
    "**Таблица `internet` (информация об интернет-сессиях):**\n",
    "* `id` — уникальный номер сессии\n",
    "* `mb_used` — объём потраченного за сессию интернет-трафика (в мегабайтах)\n",
    "* `session_date` — дата интернет-сессии\n",
    "* `user_id` — идентификатор пользователя\n",
    "\n",
    "**Таблица `messages` (информация о сообщениях):**\n",
    "* `id` — уникальный номер сообщения\n",
    "* `message_date` — дата сообщения\n",
    "* `user_id` — идентификатор пользователя, отправившего сообщение\n",
    "\n",
    "**Таблица `tariffs` (информация о тарифах):**\n",
    "* `tariff_name` — название тарифа\n",
    "* `rub_monthly_fee` — ежемесячная абонентская плата в рублях\n",
    "* `minutes_included` — количество минут разговора в месяц, включённых в абонентскую плату\n",
    "* `messages_included` — количество сообщений в месяц, включённых в абонентскую плату\n",
    "* `mb_per_month_included` — объём интернет-трафика, включённого в абонентскую плату (в мегабайтах)\n",
    "* `rub_per_minute` — стоимость минуты разговора сверх тарифного пакета (например, если в тарифе 100 минут разговора в месяц, то со 101 минуты будет взиматься плата)\n",
    "* `rub_per_message` — стоимость отправки сообщения сверх тарифного пакета\n",
    "* `rub_per_gb` — стоимость дополнительного гигабайта интернет-трафика сверх тарифного пакета (1 гигабайт = 1024 мегабайта)\n",
    "\n",
    "**Таблица users (информация о пользователях):**\n",
    "* `user_id` — уникальный идентификатор пользователя\n",
    "* `first_name` — имя пользователя\n",
    "* `last_name` — фамилия пользователя\n",
    "* `age` — возраст пользователя (годы)\n",
    "* `reg_date` — дата подключения тарифа (день, месяц, год)\n",
    "* `churn_date` — дата прекращения пользования тарифом (если значение пропущено, то тариф ещё действовал на момент выгрузки данных)\n",
    "* `city` — город проживания пользователя\n",
    "* `tariff` — название тарифного плана"
   ]
  },
  {
   "cell_type": "markdown",
   "metadata": {},
   "source": [
    "## Подготовка данных"
   ]
  },
  {
   "cell_type": "markdown",
   "metadata": {},
   "source": [
    "### Приведение данных к нужным типам"
   ]
  },
  {
   "cell_type": "markdown",
   "metadata": {},
   "source": [
    "Приведем поля, содержащие дату, к в формату даты."
   ]
  },
  {
   "cell_type": "code",
   "execution_count": 3,
   "metadata": {},
   "outputs": [],
   "source": [
    "df_calls['call_date'] = pd.to_datetime(\n",
    "    df_calls['call_date'], format='%Y-%m-%d')\n",
    "\n",
    "df_internet['session_date'] = pd.to_datetime(\n",
    "    df_internet['session_date'], format='%Y-%m-%d')\n",
    "\n",
    "df_messages['message_date'] = pd.to_datetime(\n",
    "    df_messages['message_date'], format='%Y-%m-%d')\n",
    "\n",
    "df_users['reg_date'] = pd.to_datetime(\n",
    "    df_users['reg_date'], format='%Y-%m-%d')\n",
    "\n",
    "df_users['churn_date'] = pd.to_datetime(\n",
    "    df_users['churn_date'], format='%Y-%m-%d')"
   ]
  },
  {
   "cell_type": "markdown",
   "metadata": {},
   "source": [
    "### Исправление ошибок"
   ]
  },
  {
   "cell_type": "markdown",
   "metadata": {},
   "source": [
    "В таблице `internet` удалим колонку `Unnamed: 0`"
   ]
  },
  {
   "cell_type": "code",
   "execution_count": 4,
   "metadata": {},
   "outputs": [
    {
     "data": {
      "text/html": [
       "<div>\n",
       "<style scoped>\n",
       "    .dataframe tbody tr th:only-of-type {\n",
       "        vertical-align: middle;\n",
       "    }\n",
       "\n",
       "    .dataframe tbody tr th {\n",
       "        vertical-align: top;\n",
       "    }\n",
       "\n",
       "    .dataframe thead th {\n",
       "        text-align: right;\n",
       "    }\n",
       "</style>\n",
       "<table border=\"1\" class=\"dataframe\">\n",
       "  <thead>\n",
       "    <tr style=\"text-align: right;\">\n",
       "      <th></th>\n",
       "      <th>Unnamed: 0</th>\n",
       "      <th>id</th>\n",
       "      <th>mb_used</th>\n",
       "      <th>session_date</th>\n",
       "      <th>user_id</th>\n",
       "    </tr>\n",
       "  </thead>\n",
       "  <tbody>\n",
       "    <tr>\n",
       "      <th>0</th>\n",
       "      <td>0</td>\n",
       "      <td>1000_0</td>\n",
       "      <td>112.95</td>\n",
       "      <td>2018-11-25</td>\n",
       "      <td>1000</td>\n",
       "    </tr>\n",
       "    <tr>\n",
       "      <th>1</th>\n",
       "      <td>1</td>\n",
       "      <td>1000_1</td>\n",
       "      <td>1052.81</td>\n",
       "      <td>2018-09-07</td>\n",
       "      <td>1000</td>\n",
       "    </tr>\n",
       "    <tr>\n",
       "      <th>2</th>\n",
       "      <td>2</td>\n",
       "      <td>1000_2</td>\n",
       "      <td>1197.26</td>\n",
       "      <td>2018-06-25</td>\n",
       "      <td>1000</td>\n",
       "    </tr>\n",
       "    <tr>\n",
       "      <th>3</th>\n",
       "      <td>3</td>\n",
       "      <td>1000_3</td>\n",
       "      <td>550.27</td>\n",
       "      <td>2018-08-22</td>\n",
       "      <td>1000</td>\n",
       "    </tr>\n",
       "    <tr>\n",
       "      <th>4</th>\n",
       "      <td>4</td>\n",
       "      <td>1000_4</td>\n",
       "      <td>302.56</td>\n",
       "      <td>2018-09-24</td>\n",
       "      <td>1000</td>\n",
       "    </tr>\n",
       "    <tr>\n",
       "      <th>...</th>\n",
       "      <td>...</td>\n",
       "      <td>...</td>\n",
       "      <td>...</td>\n",
       "      <td>...</td>\n",
       "      <td>...</td>\n",
       "    </tr>\n",
       "    <tr>\n",
       "      <th>149391</th>\n",
       "      <td>149391</td>\n",
       "      <td>1499_152</td>\n",
       "      <td>318.90</td>\n",
       "      <td>2018-10-03</td>\n",
       "      <td>1499</td>\n",
       "    </tr>\n",
       "    <tr>\n",
       "      <th>149392</th>\n",
       "      <td>149392</td>\n",
       "      <td>1499_153</td>\n",
       "      <td>490.13</td>\n",
       "      <td>2018-12-14</td>\n",
       "      <td>1499</td>\n",
       "    </tr>\n",
       "    <tr>\n",
       "      <th>149393</th>\n",
       "      <td>149393</td>\n",
       "      <td>1499_154</td>\n",
       "      <td>0.00</td>\n",
       "      <td>2018-10-27</td>\n",
       "      <td>1499</td>\n",
       "    </tr>\n",
       "    <tr>\n",
       "      <th>149394</th>\n",
       "      <td>149394</td>\n",
       "      <td>1499_155</td>\n",
       "      <td>1246.32</td>\n",
       "      <td>2018-11-26</td>\n",
       "      <td>1499</td>\n",
       "    </tr>\n",
       "    <tr>\n",
       "      <th>149395</th>\n",
       "      <td>149395</td>\n",
       "      <td>1499_156</td>\n",
       "      <td>544.37</td>\n",
       "      <td>2018-10-26</td>\n",
       "      <td>1499</td>\n",
       "    </tr>\n",
       "  </tbody>\n",
       "</table>\n",
       "<p>149396 rows × 5 columns</p>\n",
       "</div>"
      ],
      "text/plain": [
       "        Unnamed: 0        id  mb_used session_date  user_id\n",
       "0                0    1000_0   112.95   2018-11-25     1000\n",
       "1                1    1000_1  1052.81   2018-09-07     1000\n",
       "2                2    1000_2  1197.26   2018-06-25     1000\n",
       "3                3    1000_3   550.27   2018-08-22     1000\n",
       "4                4    1000_4   302.56   2018-09-24     1000\n",
       "...            ...       ...      ...          ...      ...\n",
       "149391      149391  1499_152   318.90   2018-10-03     1499\n",
       "149392      149392  1499_153   490.13   2018-12-14     1499\n",
       "149393      149393  1499_154     0.00   2018-10-27     1499\n",
       "149394      149394  1499_155  1246.32   2018-11-26     1499\n",
       "149395      149395  1499_156   544.37   2018-10-26     1499\n",
       "\n",
       "[149396 rows x 5 columns]"
      ]
     },
     "execution_count": 4,
     "metadata": {},
     "output_type": "execute_result"
    }
   ],
   "source": [
    "df_internet"
   ]
  },
  {
   "cell_type": "code",
   "execution_count": 5,
   "metadata": {
    "scrolled": false
   },
   "outputs": [
    {
     "data": {
      "text/plain": [
       "0              0\n",
       "1              1\n",
       "2              2\n",
       "3              3\n",
       "4              4\n",
       "           ...  \n",
       "149391    149391\n",
       "149392    149392\n",
       "149393    149393\n",
       "149394    149394\n",
       "149395    149395\n",
       "Name: Unnamed: 0, Length: 149396, dtype: int64"
      ]
     },
     "execution_count": 5,
     "metadata": {},
     "output_type": "execute_result"
    }
   ],
   "source": [
    "df_internet.pop('Unnamed: 0')"
   ]
  },
  {
   "cell_type": "code",
   "execution_count": 6,
   "metadata": {},
   "outputs": [
    {
     "data": {
      "text/html": [
       "<div>\n",
       "<style scoped>\n",
       "    .dataframe tbody tr th:only-of-type {\n",
       "        vertical-align: middle;\n",
       "    }\n",
       "\n",
       "    .dataframe tbody tr th {\n",
       "        vertical-align: top;\n",
       "    }\n",
       "\n",
       "    .dataframe thead th {\n",
       "        text-align: right;\n",
       "    }\n",
       "</style>\n",
       "<table border=\"1\" class=\"dataframe\">\n",
       "  <thead>\n",
       "    <tr style=\"text-align: right;\">\n",
       "      <th></th>\n",
       "      <th>id</th>\n",
       "      <th>mb_used</th>\n",
       "      <th>session_date</th>\n",
       "      <th>user_id</th>\n",
       "    </tr>\n",
       "  </thead>\n",
       "  <tbody>\n",
       "    <tr>\n",
       "      <th>0</th>\n",
       "      <td>1000_0</td>\n",
       "      <td>112.95</td>\n",
       "      <td>2018-11-25</td>\n",
       "      <td>1000</td>\n",
       "    </tr>\n",
       "    <tr>\n",
       "      <th>1</th>\n",
       "      <td>1000_1</td>\n",
       "      <td>1052.81</td>\n",
       "      <td>2018-09-07</td>\n",
       "      <td>1000</td>\n",
       "    </tr>\n",
       "    <tr>\n",
       "      <th>2</th>\n",
       "      <td>1000_2</td>\n",
       "      <td>1197.26</td>\n",
       "      <td>2018-06-25</td>\n",
       "      <td>1000</td>\n",
       "    </tr>\n",
       "    <tr>\n",
       "      <th>3</th>\n",
       "      <td>1000_3</td>\n",
       "      <td>550.27</td>\n",
       "      <td>2018-08-22</td>\n",
       "      <td>1000</td>\n",
       "    </tr>\n",
       "    <tr>\n",
       "      <th>4</th>\n",
       "      <td>1000_4</td>\n",
       "      <td>302.56</td>\n",
       "      <td>2018-09-24</td>\n",
       "      <td>1000</td>\n",
       "    </tr>\n",
       "    <tr>\n",
       "      <th>...</th>\n",
       "      <td>...</td>\n",
       "      <td>...</td>\n",
       "      <td>...</td>\n",
       "      <td>...</td>\n",
       "    </tr>\n",
       "    <tr>\n",
       "      <th>149391</th>\n",
       "      <td>1499_152</td>\n",
       "      <td>318.90</td>\n",
       "      <td>2018-10-03</td>\n",
       "      <td>1499</td>\n",
       "    </tr>\n",
       "    <tr>\n",
       "      <th>149392</th>\n",
       "      <td>1499_153</td>\n",
       "      <td>490.13</td>\n",
       "      <td>2018-12-14</td>\n",
       "      <td>1499</td>\n",
       "    </tr>\n",
       "    <tr>\n",
       "      <th>149393</th>\n",
       "      <td>1499_154</td>\n",
       "      <td>0.00</td>\n",
       "      <td>2018-10-27</td>\n",
       "      <td>1499</td>\n",
       "    </tr>\n",
       "    <tr>\n",
       "      <th>149394</th>\n",
       "      <td>1499_155</td>\n",
       "      <td>1246.32</td>\n",
       "      <td>2018-11-26</td>\n",
       "      <td>1499</td>\n",
       "    </tr>\n",
       "    <tr>\n",
       "      <th>149395</th>\n",
       "      <td>1499_156</td>\n",
       "      <td>544.37</td>\n",
       "      <td>2018-10-26</td>\n",
       "      <td>1499</td>\n",
       "    </tr>\n",
       "  </tbody>\n",
       "</table>\n",
       "<p>149396 rows × 4 columns</p>\n",
       "</div>"
      ],
      "text/plain": [
       "              id  mb_used session_date  user_id\n",
       "0         1000_0   112.95   2018-11-25     1000\n",
       "1         1000_1  1052.81   2018-09-07     1000\n",
       "2         1000_2  1197.26   2018-06-25     1000\n",
       "3         1000_3   550.27   2018-08-22     1000\n",
       "4         1000_4   302.56   2018-09-24     1000\n",
       "...          ...      ...          ...      ...\n",
       "149391  1499_152   318.90   2018-10-03     1499\n",
       "149392  1499_153   490.13   2018-12-14     1499\n",
       "149393  1499_154     0.00   2018-10-27     1499\n",
       "149394  1499_155  1246.32   2018-11-26     1499\n",
       "149395  1499_156   544.37   2018-10-26     1499\n",
       "\n",
       "[149396 rows x 4 columns]"
      ]
     },
     "execution_count": 6,
     "metadata": {},
     "output_type": "execute_result"
    }
   ],
   "source": [
    "df_internet"
   ]
  },
  {
   "cell_type": "markdown",
   "metadata": {},
   "source": [
    "### Проверка на наличие дубликатов"
   ]
  },
  {
   "cell_type": "code",
   "execution_count": null,
   "metadata": {},
   "outputs": [
    {
     "data": {
      "text/plain": [
       "0"
      ]
     },
     "execution_count": 7,
     "metadata": {},
     "output_type": "execute_result"
    }
   ],
   "source": [
    "df_calls.duplicated().sum()"
   ]
  },
  {
   "cell_type": "code",
   "execution_count": 8,
   "metadata": {},
   "outputs": [
    {
     "data": {
      "text/plain": [
       "0"
      ]
     },
     "execution_count": 8,
     "metadata": {},
     "output_type": "execute_result"
    }
   ],
   "source": [
    "df_messages.duplicated().sum()"
   ]
  },
  {
   "cell_type": "code",
   "execution_count": 9,
   "metadata": {},
   "outputs": [
    {
     "data": {
      "text/plain": [
       "0"
      ]
     },
     "execution_count": 9,
     "metadata": {},
     "output_type": "execute_result"
    }
   ],
   "source": [
    "df_internet.duplicated().sum()"
   ]
  },
  {
   "cell_type": "code",
   "execution_count": 10,
   "metadata": {},
   "outputs": [
    {
     "data": {
      "text/plain": [
       "0"
      ]
     },
     "execution_count": 10,
     "metadata": {},
     "output_type": "execute_result"
    }
   ],
   "source": [
    "df_users.duplicated().sum()"
   ]
  },
  {
   "cell_type": "markdown",
   "metadata": {},
   "source": [
    "Дубликатов нет"
   ]
  },
  {
   "cell_type": "markdown",
   "metadata": {},
   "source": [
    "### Расчет дополнительных полей"
   ]
  },
  {
   "cell_type": "markdown",
   "metadata": {},
   "source": [
    "#### Добавим в таблицы столбец с номером Месяца"
   ]
  },
  {
   "cell_type": "code",
   "execution_count": null,
   "metadata": {},
   "outputs": [],
   "source": [
    "df_calls['call_date_m'] = df_calls['call_date'].dt.month\n",
    "\n",
    "df_internet['session_date_m'] = df_internet['session_date'].dt.month\n",
    "\n",
    "df_messages['message_date_m'] = df_messages['message_date'].dt.month\n",
    "\n",
    "df_users['reg_date_m'] = df_users['reg_date'].dt.month\n",
    "\n",
    "df_users['churn_date_m'] = df_users['churn_date'].dt.month"
   ]
  },
  {
   "cell_type": "markdown",
   "metadata": {},
   "source": [
    "####  Округлим минуты и объем интернет трафика"
   ]
  },
  {
   "cell_type": "markdown",
   "metadata": {},
   "source": [
    "1. Округлим минуты:"
   ]
  },
  {
   "cell_type": "code",
   "execution_count": 12,
   "metadata": {},
   "outputs": [],
   "source": [
    "df_calls['duration_rnd'] = df_calls['duration'].apply(np.ceil)\n",
    "# без apply\n",
    "# df_calls['duration_rnd'] = np.ceil(df_calls['duration'])\n"
   ]
  },
  {
   "cell_type": "code",
   "execution_count": 13,
   "metadata": {
    "scrolled": true
   },
   "outputs": [
    {
     "data": {
      "text/html": [
       "<div>\n",
       "<style scoped>\n",
       "    .dataframe tbody tr th:only-of-type {\n",
       "        vertical-align: middle;\n",
       "    }\n",
       "\n",
       "    .dataframe tbody tr th {\n",
       "        vertical-align: top;\n",
       "    }\n",
       "\n",
       "    .dataframe thead th {\n",
       "        text-align: right;\n",
       "    }\n",
       "</style>\n",
       "<table border=\"1\" class=\"dataframe\">\n",
       "  <thead>\n",
       "    <tr style=\"text-align: right;\">\n",
       "      <th></th>\n",
       "      <th>id</th>\n",
       "      <th>call_date</th>\n",
       "      <th>duration</th>\n",
       "      <th>user_id</th>\n",
       "      <th>call_date_m</th>\n",
       "      <th>duration_rnd</th>\n",
       "    </tr>\n",
       "  </thead>\n",
       "  <tbody>\n",
       "    <tr>\n",
       "      <th>0</th>\n",
       "      <td>1000_0</td>\n",
       "      <td>2018-07-25</td>\n",
       "      <td>0.00</td>\n",
       "      <td>1000</td>\n",
       "      <td>7</td>\n",
       "      <td>0.0</td>\n",
       "    </tr>\n",
       "    <tr>\n",
       "      <th>1</th>\n",
       "      <td>1000_1</td>\n",
       "      <td>2018-08-17</td>\n",
       "      <td>0.00</td>\n",
       "      <td>1000</td>\n",
       "      <td>8</td>\n",
       "      <td>0.0</td>\n",
       "    </tr>\n",
       "    <tr>\n",
       "      <th>2</th>\n",
       "      <td>1000_2</td>\n",
       "      <td>2018-06-11</td>\n",
       "      <td>2.85</td>\n",
       "      <td>1000</td>\n",
       "      <td>6</td>\n",
       "      <td>3.0</td>\n",
       "    </tr>\n",
       "    <tr>\n",
       "      <th>3</th>\n",
       "      <td>1000_3</td>\n",
       "      <td>2018-09-21</td>\n",
       "      <td>13.80</td>\n",
       "      <td>1000</td>\n",
       "      <td>9</td>\n",
       "      <td>14.0</td>\n",
       "    </tr>\n",
       "    <tr>\n",
       "      <th>4</th>\n",
       "      <td>1000_4</td>\n",
       "      <td>2018-12-15</td>\n",
       "      <td>5.18</td>\n",
       "      <td>1000</td>\n",
       "      <td>12</td>\n",
       "      <td>6.0</td>\n",
       "    </tr>\n",
       "    <tr>\n",
       "      <th>...</th>\n",
       "      <td>...</td>\n",
       "      <td>...</td>\n",
       "      <td>...</td>\n",
       "      <td>...</td>\n",
       "      <td>...</td>\n",
       "      <td>...</td>\n",
       "    </tr>\n",
       "    <tr>\n",
       "      <th>202602</th>\n",
       "      <td>1499_215</td>\n",
       "      <td>2018-12-26</td>\n",
       "      <td>0.76</td>\n",
       "      <td>1499</td>\n",
       "      <td>12</td>\n",
       "      <td>1.0</td>\n",
       "    </tr>\n",
       "    <tr>\n",
       "      <th>202603</th>\n",
       "      <td>1499_216</td>\n",
       "      <td>2018-10-18</td>\n",
       "      <td>18.83</td>\n",
       "      <td>1499</td>\n",
       "      <td>10</td>\n",
       "      <td>19.0</td>\n",
       "    </tr>\n",
       "    <tr>\n",
       "      <th>202604</th>\n",
       "      <td>1499_217</td>\n",
       "      <td>2018-11-10</td>\n",
       "      <td>10.81</td>\n",
       "      <td>1499</td>\n",
       "      <td>11</td>\n",
       "      <td>11.0</td>\n",
       "    </tr>\n",
       "    <tr>\n",
       "      <th>202605</th>\n",
       "      <td>1499_218</td>\n",
       "      <td>2018-10-06</td>\n",
       "      <td>4.27</td>\n",
       "      <td>1499</td>\n",
       "      <td>10</td>\n",
       "      <td>5.0</td>\n",
       "    </tr>\n",
       "    <tr>\n",
       "      <th>202606</th>\n",
       "      <td>1499_219</td>\n",
       "      <td>2018-12-14</td>\n",
       "      <td>19.62</td>\n",
       "      <td>1499</td>\n",
       "      <td>12</td>\n",
       "      <td>20.0</td>\n",
       "    </tr>\n",
       "  </tbody>\n",
       "</table>\n",
       "<p>202607 rows × 6 columns</p>\n",
       "</div>"
      ],
      "text/plain": [
       "              id  call_date  duration  user_id  call_date_m  duration_rnd\n",
       "0         1000_0 2018-07-25      0.00     1000            7           0.0\n",
       "1         1000_1 2018-08-17      0.00     1000            8           0.0\n",
       "2         1000_2 2018-06-11      2.85     1000            6           3.0\n",
       "3         1000_3 2018-09-21     13.80     1000            9          14.0\n",
       "4         1000_4 2018-12-15      5.18     1000           12           6.0\n",
       "...          ...        ...       ...      ...          ...           ...\n",
       "202602  1499_215 2018-12-26      0.76     1499           12           1.0\n",
       "202603  1499_216 2018-10-18     18.83     1499           10          19.0\n",
       "202604  1499_217 2018-11-10     10.81     1499           11          11.0\n",
       "202605  1499_218 2018-10-06      4.27     1499           10           5.0\n",
       "202606  1499_219 2018-12-14     19.62     1499           12          20.0\n",
       "\n",
       "[202607 rows x 6 columns]"
      ]
     },
     "execution_count": 13,
     "metadata": {},
     "output_type": "execute_result"
    }
   ],
   "source": [
    "df_calls"
   ]
  },
  {
   "cell_type": "code",
   "execution_count": 14,
   "metadata": {},
   "outputs": [
    {
     "data": {
      "text/html": [
       "<div>\n",
       "<style scoped>\n",
       "    .dataframe tbody tr th:only-of-type {\n",
       "        vertical-align: middle;\n",
       "    }\n",
       "\n",
       "    .dataframe tbody tr th {\n",
       "        vertical-align: top;\n",
       "    }\n",
       "\n",
       "    .dataframe thead th {\n",
       "        text-align: right;\n",
       "    }\n",
       "</style>\n",
       "<table border=\"1\" class=\"dataframe\">\n",
       "  <thead>\n",
       "    <tr style=\"text-align: right;\">\n",
       "      <th></th>\n",
       "      <th>id</th>\n",
       "      <th>mb_used</th>\n",
       "      <th>session_date</th>\n",
       "      <th>user_id</th>\n",
       "      <th>session_date_m</th>\n",
       "    </tr>\n",
       "  </thead>\n",
       "  <tbody>\n",
       "    <tr>\n",
       "      <th>0</th>\n",
       "      <td>1000_0</td>\n",
       "      <td>112.95</td>\n",
       "      <td>2018-11-25</td>\n",
       "      <td>1000</td>\n",
       "      <td>11</td>\n",
       "    </tr>\n",
       "    <tr>\n",
       "      <th>1</th>\n",
       "      <td>1000_1</td>\n",
       "      <td>1052.81</td>\n",
       "      <td>2018-09-07</td>\n",
       "      <td>1000</td>\n",
       "      <td>9</td>\n",
       "    </tr>\n",
       "    <tr>\n",
       "      <th>2</th>\n",
       "      <td>1000_2</td>\n",
       "      <td>1197.26</td>\n",
       "      <td>2018-06-25</td>\n",
       "      <td>1000</td>\n",
       "      <td>6</td>\n",
       "    </tr>\n",
       "    <tr>\n",
       "      <th>3</th>\n",
       "      <td>1000_3</td>\n",
       "      <td>550.27</td>\n",
       "      <td>2018-08-22</td>\n",
       "      <td>1000</td>\n",
       "      <td>8</td>\n",
       "    </tr>\n",
       "    <tr>\n",
       "      <th>4</th>\n",
       "      <td>1000_4</td>\n",
       "      <td>302.56</td>\n",
       "      <td>2018-09-24</td>\n",
       "      <td>1000</td>\n",
       "      <td>9</td>\n",
       "    </tr>\n",
       "    <tr>\n",
       "      <th>...</th>\n",
       "      <td>...</td>\n",
       "      <td>...</td>\n",
       "      <td>...</td>\n",
       "      <td>...</td>\n",
       "      <td>...</td>\n",
       "    </tr>\n",
       "    <tr>\n",
       "      <th>149391</th>\n",
       "      <td>1499_152</td>\n",
       "      <td>318.90</td>\n",
       "      <td>2018-10-03</td>\n",
       "      <td>1499</td>\n",
       "      <td>10</td>\n",
       "    </tr>\n",
       "    <tr>\n",
       "      <th>149392</th>\n",
       "      <td>1499_153</td>\n",
       "      <td>490.13</td>\n",
       "      <td>2018-12-14</td>\n",
       "      <td>1499</td>\n",
       "      <td>12</td>\n",
       "    </tr>\n",
       "    <tr>\n",
       "      <th>149393</th>\n",
       "      <td>1499_154</td>\n",
       "      <td>0.00</td>\n",
       "      <td>2018-10-27</td>\n",
       "      <td>1499</td>\n",
       "      <td>10</td>\n",
       "    </tr>\n",
       "    <tr>\n",
       "      <th>149394</th>\n",
       "      <td>1499_155</td>\n",
       "      <td>1246.32</td>\n",
       "      <td>2018-11-26</td>\n",
       "      <td>1499</td>\n",
       "      <td>11</td>\n",
       "    </tr>\n",
       "    <tr>\n",
       "      <th>149395</th>\n",
       "      <td>1499_156</td>\n",
       "      <td>544.37</td>\n",
       "      <td>2018-10-26</td>\n",
       "      <td>1499</td>\n",
       "      <td>10</td>\n",
       "    </tr>\n",
       "  </tbody>\n",
       "</table>\n",
       "<p>149396 rows × 5 columns</p>\n",
       "</div>"
      ],
      "text/plain": [
       "              id  mb_used session_date  user_id  session_date_m\n",
       "0         1000_0   112.95   2018-11-25     1000              11\n",
       "1         1000_1  1052.81   2018-09-07     1000               9\n",
       "2         1000_2  1197.26   2018-06-25     1000               6\n",
       "3         1000_3   550.27   2018-08-22     1000               8\n",
       "4         1000_4   302.56   2018-09-24     1000               9\n",
       "...          ...      ...          ...      ...             ...\n",
       "149391  1499_152   318.90   2018-10-03     1499              10\n",
       "149392  1499_153   490.13   2018-12-14     1499              12\n",
       "149393  1499_154     0.00   2018-10-27     1499              10\n",
       "149394  1499_155  1246.32   2018-11-26     1499              11\n",
       "149395  1499_156   544.37   2018-10-26     1499              10\n",
       "\n",
       "[149396 rows x 5 columns]"
      ]
     },
     "execution_count": 14,
     "metadata": {},
     "output_type": "execute_result"
    }
   ],
   "source": [
    "df_internet"
   ]
  },
  {
   "cell_type": "markdown",
   "metadata": {},
   "source": [
    "2. Округлим интернет траффик"
   ]
  },
  {
   "cell_type": "code",
   "execution_count": 15,
   "metadata": {
    "scrolled": true
   },
   "outputs": [
    {
     "data": {
      "text/html": [
       "<div>\n",
       "<style scoped>\n",
       "    .dataframe tbody tr th:only-of-type {\n",
       "        vertical-align: middle;\n",
       "    }\n",
       "\n",
       "    .dataframe tbody tr th {\n",
       "        vertical-align: top;\n",
       "    }\n",
       "\n",
       "    .dataframe thead th {\n",
       "        text-align: right;\n",
       "    }\n",
       "</style>\n",
       "<table border=\"1\" class=\"dataframe\">\n",
       "  <thead>\n",
       "    <tr style=\"text-align: right;\">\n",
       "      <th></th>\n",
       "      <th>user_id</th>\n",
       "      <th>session_date_m</th>\n",
       "      <th>mb_used</th>\n",
       "    </tr>\n",
       "  </thead>\n",
       "  <tbody>\n",
       "    <tr>\n",
       "      <th>0</th>\n",
       "      <td>1000</td>\n",
       "      <td>5</td>\n",
       "      <td>3.0</td>\n",
       "    </tr>\n",
       "    <tr>\n",
       "      <th>1</th>\n",
       "      <td>1000</td>\n",
       "      <td>6</td>\n",
       "      <td>23.0</td>\n",
       "    </tr>\n",
       "    <tr>\n",
       "      <th>2</th>\n",
       "      <td>1000</td>\n",
       "      <td>7</td>\n",
       "      <td>14.0</td>\n",
       "    </tr>\n",
       "    <tr>\n",
       "      <th>3</th>\n",
       "      <td>1000</td>\n",
       "      <td>8</td>\n",
       "      <td>14.0</td>\n",
       "    </tr>\n",
       "    <tr>\n",
       "      <th>4</th>\n",
       "      <td>1000</td>\n",
       "      <td>9</td>\n",
       "      <td>15.0</td>\n",
       "    </tr>\n",
       "    <tr>\n",
       "      <th>...</th>\n",
       "      <td>...</td>\n",
       "      <td>...</td>\n",
       "      <td>...</td>\n",
       "    </tr>\n",
       "    <tr>\n",
       "      <th>3198</th>\n",
       "      <td>1498</td>\n",
       "      <td>10</td>\n",
       "      <td>21.0</td>\n",
       "    </tr>\n",
       "    <tr>\n",
       "      <th>3199</th>\n",
       "      <td>1499</td>\n",
       "      <td>9</td>\n",
       "      <td>2.0</td>\n",
       "    </tr>\n",
       "    <tr>\n",
       "      <th>3200</th>\n",
       "      <td>1499</td>\n",
       "      <td>10</td>\n",
       "      <td>18.0</td>\n",
       "    </tr>\n",
       "    <tr>\n",
       "      <th>3201</th>\n",
       "      <td>1499</td>\n",
       "      <td>11</td>\n",
       "      <td>18.0</td>\n",
       "    </tr>\n",
       "    <tr>\n",
       "      <th>3202</th>\n",
       "      <td>1499</td>\n",
       "      <td>12</td>\n",
       "      <td>13.0</td>\n",
       "    </tr>\n",
       "  </tbody>\n",
       "</table>\n",
       "<p>3203 rows × 3 columns</p>\n",
       "</div>"
      ],
      "text/plain": [
       "      user_id  session_date_m  mb_used\n",
       "0        1000               5      3.0\n",
       "1        1000               6     23.0\n",
       "2        1000               7     14.0\n",
       "3        1000               8     14.0\n",
       "4        1000               9     15.0\n",
       "...       ...             ...      ...\n",
       "3198     1498              10     21.0\n",
       "3199     1499               9      2.0\n",
       "3200     1499              10     18.0\n",
       "3201     1499              11     18.0\n",
       "3202     1499              12     13.0\n",
       "\n",
       "[3203 rows x 3 columns]"
      ]
     },
     "execution_count": 15,
     "metadata": {},
     "output_type": "execute_result"
    }
   ],
   "source": [
    "df_internet_grouped = (df_internet.groupby(['user_id','session_date_m'])['mb_used'].sum() / 1024).apply(np.ceil).reset_index()\n",
    "df_internet_grouped"
   ]
  },
  {
   "cell_type": "code",
   "execution_count": 16,
   "metadata": {},
   "outputs": [
    {
     "data": {
      "text/html": [
       "<div>\n",
       "<style scoped>\n",
       "    .dataframe tbody tr th:only-of-type {\n",
       "        vertical-align: middle;\n",
       "    }\n",
       "\n",
       "    .dataframe tbody tr th {\n",
       "        vertical-align: top;\n",
       "    }\n",
       "\n",
       "    .dataframe thead th {\n",
       "        text-align: right;\n",
       "    }\n",
       "</style>\n",
       "<table border=\"1\" class=\"dataframe\">\n",
       "  <thead>\n",
       "    <tr style=\"text-align: right;\">\n",
       "      <th></th>\n",
       "      <th>user_id</th>\n",
       "      <th>month</th>\n",
       "      <th>gb_used</th>\n",
       "    </tr>\n",
       "  </thead>\n",
       "  <tbody>\n",
       "    <tr>\n",
       "      <th>0</th>\n",
       "      <td>1000</td>\n",
       "      <td>5</td>\n",
       "      <td>3.0</td>\n",
       "    </tr>\n",
       "    <tr>\n",
       "      <th>1</th>\n",
       "      <td>1000</td>\n",
       "      <td>6</td>\n",
       "      <td>23.0</td>\n",
       "    </tr>\n",
       "    <tr>\n",
       "      <th>2</th>\n",
       "      <td>1000</td>\n",
       "      <td>7</td>\n",
       "      <td>14.0</td>\n",
       "    </tr>\n",
       "    <tr>\n",
       "      <th>3</th>\n",
       "      <td>1000</td>\n",
       "      <td>8</td>\n",
       "      <td>14.0</td>\n",
       "    </tr>\n",
       "    <tr>\n",
       "      <th>4</th>\n",
       "      <td>1000</td>\n",
       "      <td>9</td>\n",
       "      <td>15.0</td>\n",
       "    </tr>\n",
       "    <tr>\n",
       "      <th>...</th>\n",
       "      <td>...</td>\n",
       "      <td>...</td>\n",
       "      <td>...</td>\n",
       "    </tr>\n",
       "    <tr>\n",
       "      <th>3198</th>\n",
       "      <td>1498</td>\n",
       "      <td>10</td>\n",
       "      <td>21.0</td>\n",
       "    </tr>\n",
       "    <tr>\n",
       "      <th>3199</th>\n",
       "      <td>1499</td>\n",
       "      <td>9</td>\n",
       "      <td>2.0</td>\n",
       "    </tr>\n",
       "    <tr>\n",
       "      <th>3200</th>\n",
       "      <td>1499</td>\n",
       "      <td>10</td>\n",
       "      <td>18.0</td>\n",
       "    </tr>\n",
       "    <tr>\n",
       "      <th>3201</th>\n",
       "      <td>1499</td>\n",
       "      <td>11</td>\n",
       "      <td>18.0</td>\n",
       "    </tr>\n",
       "    <tr>\n",
       "      <th>3202</th>\n",
       "      <td>1499</td>\n",
       "      <td>12</td>\n",
       "      <td>13.0</td>\n",
       "    </tr>\n",
       "  </tbody>\n",
       "</table>\n",
       "<p>3203 rows × 3 columns</p>\n",
       "</div>"
      ],
      "text/plain": [
       "      user_id  month  gb_used\n",
       "0        1000      5      3.0\n",
       "1        1000      6     23.0\n",
       "2        1000      7     14.0\n",
       "3        1000      8     14.0\n",
       "4        1000      9     15.0\n",
       "...       ...    ...      ...\n",
       "3198     1498     10     21.0\n",
       "3199     1499      9      2.0\n",
       "3200     1499     10     18.0\n",
       "3201     1499     11     18.0\n",
       "3202     1499     12     13.0\n",
       "\n",
       "[3203 rows x 3 columns]"
      ]
     },
     "execution_count": 16,
     "metadata": {},
     "output_type": "execute_result"
    }
   ],
   "source": [
    "df_internet_grouped = df_internet_grouped.rename(columns={'session_date_m': 'month', 'mb_used': 'gb_used'})\n",
    "df_internet_grouped"
   ]
  },
  {
   "cell_type": "markdown",
   "metadata": {},
   "source": [
    "####  Агрегация данных"
   ]
  },
  {
   "cell_type": "markdown",
   "metadata": {},
   "source": [
    "Для каждого клиента в разрезе месяцов определим:\n",
    "* количество и длительность звонков\n",
    "* количество сообщений\n",
    "* объем интернет трафика"
   ]
  },
  {
   "cell_type": "code",
   "execution_count": 17,
   "metadata": {},
   "outputs": [
    {
     "data": {
      "text/html": [
       "<div>\n",
       "<style scoped>\n",
       "    .dataframe tbody tr th:only-of-type {\n",
       "        vertical-align: middle;\n",
       "    }\n",
       "\n",
       "    .dataframe tbody tr th {\n",
       "        vertical-align: top;\n",
       "    }\n",
       "\n",
       "    .dataframe thead th {\n",
       "        text-align: right;\n",
       "    }\n",
       "</style>\n",
       "<table border=\"1\" class=\"dataframe\">\n",
       "  <thead>\n",
       "    <tr style=\"text-align: right;\">\n",
       "      <th></th>\n",
       "      <th>user_id</th>\n",
       "      <th>call_date_m</th>\n",
       "      <th>count</th>\n",
       "      <th>sum</th>\n",
       "    </tr>\n",
       "  </thead>\n",
       "  <tbody>\n",
       "    <tr>\n",
       "      <th>0</th>\n",
       "      <td>1000</td>\n",
       "      <td>5</td>\n",
       "      <td>17</td>\n",
       "      <td>159.0</td>\n",
       "    </tr>\n",
       "    <tr>\n",
       "      <th>1</th>\n",
       "      <td>1000</td>\n",
       "      <td>6</td>\n",
       "      <td>28</td>\n",
       "      <td>172.0</td>\n",
       "    </tr>\n",
       "    <tr>\n",
       "      <th>2</th>\n",
       "      <td>1000</td>\n",
       "      <td>7</td>\n",
       "      <td>41</td>\n",
       "      <td>340.0</td>\n",
       "    </tr>\n",
       "    <tr>\n",
       "      <th>3</th>\n",
       "      <td>1000</td>\n",
       "      <td>8</td>\n",
       "      <td>42</td>\n",
       "      <td>408.0</td>\n",
       "    </tr>\n",
       "    <tr>\n",
       "      <th>4</th>\n",
       "      <td>1000</td>\n",
       "      <td>9</td>\n",
       "      <td>46</td>\n",
       "      <td>466.0</td>\n",
       "    </tr>\n",
       "    <tr>\n",
       "      <th>...</th>\n",
       "      <td>...</td>\n",
       "      <td>...</td>\n",
       "      <td>...</td>\n",
       "      <td>...</td>\n",
       "    </tr>\n",
       "    <tr>\n",
       "      <th>3163</th>\n",
       "      <td>1498</td>\n",
       "      <td>10</td>\n",
       "      <td>30</td>\n",
       "      <td>247.0</td>\n",
       "    </tr>\n",
       "    <tr>\n",
       "      <th>3164</th>\n",
       "      <td>1499</td>\n",
       "      <td>9</td>\n",
       "      <td>8</td>\n",
       "      <td>70.0</td>\n",
       "    </tr>\n",
       "    <tr>\n",
       "      <th>3165</th>\n",
       "      <td>1499</td>\n",
       "      <td>10</td>\n",
       "      <td>44</td>\n",
       "      <td>449.0</td>\n",
       "    </tr>\n",
       "    <tr>\n",
       "      <th>3166</th>\n",
       "      <td>1499</td>\n",
       "      <td>11</td>\n",
       "      <td>62</td>\n",
       "      <td>612.0</td>\n",
       "    </tr>\n",
       "    <tr>\n",
       "      <th>3167</th>\n",
       "      <td>1499</td>\n",
       "      <td>12</td>\n",
       "      <td>56</td>\n",
       "      <td>492.0</td>\n",
       "    </tr>\n",
       "  </tbody>\n",
       "</table>\n",
       "<p>3168 rows × 4 columns</p>\n",
       "</div>"
      ],
      "text/plain": [
       "      user_id  call_date_m  count    sum\n",
       "0        1000            5     17  159.0\n",
       "1        1000            6     28  172.0\n",
       "2        1000            7     41  340.0\n",
       "3        1000            8     42  408.0\n",
       "4        1000            9     46  466.0\n",
       "...       ...          ...    ...    ...\n",
       "3163     1498           10     30  247.0\n",
       "3164     1499            9      8   70.0\n",
       "3165     1499           10     44  449.0\n",
       "3166     1499           11     62  612.0\n",
       "3167     1499           12     56  492.0\n",
       "\n",
       "[3168 rows x 4 columns]"
      ]
     },
     "execution_count": 17,
     "metadata": {},
     "output_type": "execute_result"
    }
   ],
   "source": [
    "df_calls_grouped = df_calls[df_calls['duration'] > 0].groupby(['user_id','call_date_m'])['duration_rnd'].agg({'count', 'sum'}).reset_index()\n",
    "df_calls_grouped"
   ]
  },
  {
   "cell_type": "code",
   "execution_count": 18,
   "metadata": {},
   "outputs": [
    {
     "data": {
      "text/html": [
       "<div>\n",
       "<style scoped>\n",
       "    .dataframe tbody tr th:only-of-type {\n",
       "        vertical-align: middle;\n",
       "    }\n",
       "\n",
       "    .dataframe tbody tr th {\n",
       "        vertical-align: top;\n",
       "    }\n",
       "\n",
       "    .dataframe thead th {\n",
       "        text-align: right;\n",
       "    }\n",
       "</style>\n",
       "<table border=\"1\" class=\"dataframe\">\n",
       "  <thead>\n",
       "    <tr style=\"text-align: right;\">\n",
       "      <th></th>\n",
       "      <th>user_id</th>\n",
       "      <th>month</th>\n",
       "      <th>call_count</th>\n",
       "      <th>call_sum</th>\n",
       "    </tr>\n",
       "  </thead>\n",
       "  <tbody>\n",
       "    <tr>\n",
       "      <th>0</th>\n",
       "      <td>1000</td>\n",
       "      <td>5</td>\n",
       "      <td>17</td>\n",
       "      <td>159.0</td>\n",
       "    </tr>\n",
       "    <tr>\n",
       "      <th>1</th>\n",
       "      <td>1000</td>\n",
       "      <td>6</td>\n",
       "      <td>28</td>\n",
       "      <td>172.0</td>\n",
       "    </tr>\n",
       "    <tr>\n",
       "      <th>2</th>\n",
       "      <td>1000</td>\n",
       "      <td>7</td>\n",
       "      <td>41</td>\n",
       "      <td>340.0</td>\n",
       "    </tr>\n",
       "    <tr>\n",
       "      <th>3</th>\n",
       "      <td>1000</td>\n",
       "      <td>8</td>\n",
       "      <td>42</td>\n",
       "      <td>408.0</td>\n",
       "    </tr>\n",
       "    <tr>\n",
       "      <th>4</th>\n",
       "      <td>1000</td>\n",
       "      <td>9</td>\n",
       "      <td>46</td>\n",
       "      <td>466.0</td>\n",
       "    </tr>\n",
       "    <tr>\n",
       "      <th>...</th>\n",
       "      <td>...</td>\n",
       "      <td>...</td>\n",
       "      <td>...</td>\n",
       "      <td>...</td>\n",
       "    </tr>\n",
       "    <tr>\n",
       "      <th>3163</th>\n",
       "      <td>1498</td>\n",
       "      <td>10</td>\n",
       "      <td>30</td>\n",
       "      <td>247.0</td>\n",
       "    </tr>\n",
       "    <tr>\n",
       "      <th>3164</th>\n",
       "      <td>1499</td>\n",
       "      <td>9</td>\n",
       "      <td>8</td>\n",
       "      <td>70.0</td>\n",
       "    </tr>\n",
       "    <tr>\n",
       "      <th>3165</th>\n",
       "      <td>1499</td>\n",
       "      <td>10</td>\n",
       "      <td>44</td>\n",
       "      <td>449.0</td>\n",
       "    </tr>\n",
       "    <tr>\n",
       "      <th>3166</th>\n",
       "      <td>1499</td>\n",
       "      <td>11</td>\n",
       "      <td>62</td>\n",
       "      <td>612.0</td>\n",
       "    </tr>\n",
       "    <tr>\n",
       "      <th>3167</th>\n",
       "      <td>1499</td>\n",
       "      <td>12</td>\n",
       "      <td>56</td>\n",
       "      <td>492.0</td>\n",
       "    </tr>\n",
       "  </tbody>\n",
       "</table>\n",
       "<p>3168 rows × 4 columns</p>\n",
       "</div>"
      ],
      "text/plain": [
       "      user_id  month  call_count  call_sum\n",
       "0        1000      5          17     159.0\n",
       "1        1000      6          28     172.0\n",
       "2        1000      7          41     340.0\n",
       "3        1000      8          42     408.0\n",
       "4        1000      9          46     466.0\n",
       "...       ...    ...         ...       ...\n",
       "3163     1498     10          30     247.0\n",
       "3164     1499      9           8      70.0\n",
       "3165     1499     10          44     449.0\n",
       "3166     1499     11          62     612.0\n",
       "3167     1499     12          56     492.0\n",
       "\n",
       "[3168 rows x 4 columns]"
      ]
     },
     "execution_count": 18,
     "metadata": {},
     "output_type": "execute_result"
    }
   ],
   "source": [
    "df_calls_grouped = df_calls_grouped.rename(columns={'sum': 'call_sum', 'count': 'call_count', 'call_date_m': 'month'})\n",
    "df_calls_grouped"
   ]
  },
  {
   "cell_type": "code",
   "execution_count": 19,
   "metadata": {},
   "outputs": [
    {
     "data": {
      "text/html": [
       "<div>\n",
       "<style scoped>\n",
       "    .dataframe tbody tr th:only-of-type {\n",
       "        vertical-align: middle;\n",
       "    }\n",
       "\n",
       "    .dataframe tbody tr th {\n",
       "        vertical-align: top;\n",
       "    }\n",
       "\n",
       "    .dataframe thead th {\n",
       "        text-align: right;\n",
       "    }\n",
       "</style>\n",
       "<table border=\"1\" class=\"dataframe\">\n",
       "  <thead>\n",
       "    <tr style=\"text-align: right;\">\n",
       "      <th></th>\n",
       "      <th>user_id</th>\n",
       "      <th>message_date_m</th>\n",
       "      <th>id</th>\n",
       "    </tr>\n",
       "  </thead>\n",
       "  <tbody>\n",
       "    <tr>\n",
       "      <th>0</th>\n",
       "      <td>1000</td>\n",
       "      <td>5</td>\n",
       "      <td>22</td>\n",
       "    </tr>\n",
       "    <tr>\n",
       "      <th>1</th>\n",
       "      <td>1000</td>\n",
       "      <td>6</td>\n",
       "      <td>60</td>\n",
       "    </tr>\n",
       "    <tr>\n",
       "      <th>2</th>\n",
       "      <td>1000</td>\n",
       "      <td>7</td>\n",
       "      <td>75</td>\n",
       "    </tr>\n",
       "    <tr>\n",
       "      <th>3</th>\n",
       "      <td>1000</td>\n",
       "      <td>8</td>\n",
       "      <td>81</td>\n",
       "    </tr>\n",
       "    <tr>\n",
       "      <th>4</th>\n",
       "      <td>1000</td>\n",
       "      <td>9</td>\n",
       "      <td>57</td>\n",
       "    </tr>\n",
       "    <tr>\n",
       "      <th>...</th>\n",
       "      <td>...</td>\n",
       "      <td>...</td>\n",
       "      <td>...</td>\n",
       "    </tr>\n",
       "    <tr>\n",
       "      <th>2712</th>\n",
       "      <td>1498</td>\n",
       "      <td>10</td>\n",
       "      <td>42</td>\n",
       "    </tr>\n",
       "    <tr>\n",
       "      <th>2713</th>\n",
       "      <td>1499</td>\n",
       "      <td>9</td>\n",
       "      <td>11</td>\n",
       "    </tr>\n",
       "    <tr>\n",
       "      <th>2714</th>\n",
       "      <td>1499</td>\n",
       "      <td>10</td>\n",
       "      <td>48</td>\n",
       "    </tr>\n",
       "    <tr>\n",
       "      <th>2715</th>\n",
       "      <td>1499</td>\n",
       "      <td>11</td>\n",
       "      <td>59</td>\n",
       "    </tr>\n",
       "    <tr>\n",
       "      <th>2716</th>\n",
       "      <td>1499</td>\n",
       "      <td>12</td>\n",
       "      <td>66</td>\n",
       "    </tr>\n",
       "  </tbody>\n",
       "</table>\n",
       "<p>2717 rows × 3 columns</p>\n",
       "</div>"
      ],
      "text/plain": [
       "      user_id  message_date_m  id\n",
       "0        1000               5  22\n",
       "1        1000               6  60\n",
       "2        1000               7  75\n",
       "3        1000               8  81\n",
       "4        1000               9  57\n",
       "...       ...             ...  ..\n",
       "2712     1498              10  42\n",
       "2713     1499               9  11\n",
       "2714     1499              10  48\n",
       "2715     1499              11  59\n",
       "2716     1499              12  66\n",
       "\n",
       "[2717 rows x 3 columns]"
      ]
     },
     "execution_count": 19,
     "metadata": {},
     "output_type": "execute_result"
    }
   ],
   "source": [
    "df_messages_grouped = df_messages.groupby(['user_id','message_date_m'])['id'].count().reset_index()\n",
    "df_messages_grouped"
   ]
  },
  {
   "cell_type": "code",
   "execution_count": 20,
   "metadata": {},
   "outputs": [
    {
     "data": {
      "text/html": [
       "<div>\n",
       "<style scoped>\n",
       "    .dataframe tbody tr th:only-of-type {\n",
       "        vertical-align: middle;\n",
       "    }\n",
       "\n",
       "    .dataframe tbody tr th {\n",
       "        vertical-align: top;\n",
       "    }\n",
       "\n",
       "    .dataframe thead th {\n",
       "        text-align: right;\n",
       "    }\n",
       "</style>\n",
       "<table border=\"1\" class=\"dataframe\">\n",
       "  <thead>\n",
       "    <tr style=\"text-align: right;\">\n",
       "      <th></th>\n",
       "      <th>user_id</th>\n",
       "      <th>month</th>\n",
       "      <th>message_count</th>\n",
       "    </tr>\n",
       "  </thead>\n",
       "  <tbody>\n",
       "    <tr>\n",
       "      <th>0</th>\n",
       "      <td>1000</td>\n",
       "      <td>5</td>\n",
       "      <td>22</td>\n",
       "    </tr>\n",
       "    <tr>\n",
       "      <th>1</th>\n",
       "      <td>1000</td>\n",
       "      <td>6</td>\n",
       "      <td>60</td>\n",
       "    </tr>\n",
       "    <tr>\n",
       "      <th>2</th>\n",
       "      <td>1000</td>\n",
       "      <td>7</td>\n",
       "      <td>75</td>\n",
       "    </tr>\n",
       "    <tr>\n",
       "      <th>3</th>\n",
       "      <td>1000</td>\n",
       "      <td>8</td>\n",
       "      <td>81</td>\n",
       "    </tr>\n",
       "    <tr>\n",
       "      <th>4</th>\n",
       "      <td>1000</td>\n",
       "      <td>9</td>\n",
       "      <td>57</td>\n",
       "    </tr>\n",
       "    <tr>\n",
       "      <th>...</th>\n",
       "      <td>...</td>\n",
       "      <td>...</td>\n",
       "      <td>...</td>\n",
       "    </tr>\n",
       "    <tr>\n",
       "      <th>2712</th>\n",
       "      <td>1498</td>\n",
       "      <td>10</td>\n",
       "      <td>42</td>\n",
       "    </tr>\n",
       "    <tr>\n",
       "      <th>2713</th>\n",
       "      <td>1499</td>\n",
       "      <td>9</td>\n",
       "      <td>11</td>\n",
       "    </tr>\n",
       "    <tr>\n",
       "      <th>2714</th>\n",
       "      <td>1499</td>\n",
       "      <td>10</td>\n",
       "      <td>48</td>\n",
       "    </tr>\n",
       "    <tr>\n",
       "      <th>2715</th>\n",
       "      <td>1499</td>\n",
       "      <td>11</td>\n",
       "      <td>59</td>\n",
       "    </tr>\n",
       "    <tr>\n",
       "      <th>2716</th>\n",
       "      <td>1499</td>\n",
       "      <td>12</td>\n",
       "      <td>66</td>\n",
       "    </tr>\n",
       "  </tbody>\n",
       "</table>\n",
       "<p>2717 rows × 3 columns</p>\n",
       "</div>"
      ],
      "text/plain": [
       "      user_id  month  message_count\n",
       "0        1000      5             22\n",
       "1        1000      6             60\n",
       "2        1000      7             75\n",
       "3        1000      8             81\n",
       "4        1000      9             57\n",
       "...       ...    ...            ...\n",
       "2712     1498     10             42\n",
       "2713     1499      9             11\n",
       "2714     1499     10             48\n",
       "2715     1499     11             59\n",
       "2716     1499     12             66\n",
       "\n",
       "[2717 rows x 3 columns]"
      ]
     },
     "execution_count": 20,
     "metadata": {},
     "output_type": "execute_result"
    }
   ],
   "source": [
    "df_messages_grouped = df_messages_grouped.rename(columns={'id': 'message_count', 'message_date_m': 'month'})\n",
    "df_messages_grouped"
   ]
  },
  {
   "cell_type": "markdown",
   "metadata": {},
   "source": [
    "Объеденим сгруппированные данные по звонкам, сообщениям и интернет трафику в одну таблицу."
   ]
  },
  {
   "cell_type": "code",
   "execution_count": 21,
   "metadata": {},
   "outputs": [
    {
     "data": {
      "text/html": [
       "<div>\n",
       "<style scoped>\n",
       "    .dataframe tbody tr th:only-of-type {\n",
       "        vertical-align: middle;\n",
       "    }\n",
       "\n",
       "    .dataframe tbody tr th {\n",
       "        vertical-align: top;\n",
       "    }\n",
       "\n",
       "    .dataframe thead th {\n",
       "        text-align: right;\n",
       "    }\n",
       "</style>\n",
       "<table border=\"1\" class=\"dataframe\">\n",
       "  <thead>\n",
       "    <tr style=\"text-align: right;\">\n",
       "      <th></th>\n",
       "      <th>user_id</th>\n",
       "      <th>month</th>\n",
       "      <th>call_count</th>\n",
       "      <th>call_sum</th>\n",
       "      <th>message_count</th>\n",
       "    </tr>\n",
       "  </thead>\n",
       "  <tbody>\n",
       "    <tr>\n",
       "      <th>0</th>\n",
       "      <td>1000</td>\n",
       "      <td>5</td>\n",
       "      <td>17.0</td>\n",
       "      <td>159.0</td>\n",
       "      <td>22.0</td>\n",
       "    </tr>\n",
       "    <tr>\n",
       "      <th>1</th>\n",
       "      <td>1000</td>\n",
       "      <td>6</td>\n",
       "      <td>28.0</td>\n",
       "      <td>172.0</td>\n",
       "      <td>60.0</td>\n",
       "    </tr>\n",
       "    <tr>\n",
       "      <th>2</th>\n",
       "      <td>1000</td>\n",
       "      <td>7</td>\n",
       "      <td>41.0</td>\n",
       "      <td>340.0</td>\n",
       "      <td>75.0</td>\n",
       "    </tr>\n",
       "    <tr>\n",
       "      <th>3</th>\n",
       "      <td>1000</td>\n",
       "      <td>8</td>\n",
       "      <td>42.0</td>\n",
       "      <td>408.0</td>\n",
       "      <td>81.0</td>\n",
       "    </tr>\n",
       "    <tr>\n",
       "      <th>4</th>\n",
       "      <td>1000</td>\n",
       "      <td>9</td>\n",
       "      <td>46.0</td>\n",
       "      <td>466.0</td>\n",
       "      <td>57.0</td>\n",
       "    </tr>\n",
       "    <tr>\n",
       "      <th>...</th>\n",
       "      <td>...</td>\n",
       "      <td>...</td>\n",
       "      <td>...</td>\n",
       "      <td>...</td>\n",
       "      <td>...</td>\n",
       "    </tr>\n",
       "    <tr>\n",
       "      <th>3167</th>\n",
       "      <td>1489</td>\n",
       "      <td>8</td>\n",
       "      <td>NaN</td>\n",
       "      <td>NaN</td>\n",
       "      <td>17.0</td>\n",
       "    </tr>\n",
       "    <tr>\n",
       "      <th>3167</th>\n",
       "      <td>1489</td>\n",
       "      <td>9</td>\n",
       "      <td>NaN</td>\n",
       "      <td>NaN</td>\n",
       "      <td>32.0</td>\n",
       "    </tr>\n",
       "    <tr>\n",
       "      <th>3167</th>\n",
       "      <td>1489</td>\n",
       "      <td>10</td>\n",
       "      <td>NaN</td>\n",
       "      <td>NaN</td>\n",
       "      <td>21.0</td>\n",
       "    </tr>\n",
       "    <tr>\n",
       "      <th>3167</th>\n",
       "      <td>1489</td>\n",
       "      <td>11</td>\n",
       "      <td>NaN</td>\n",
       "      <td>NaN</td>\n",
       "      <td>20.0</td>\n",
       "    </tr>\n",
       "    <tr>\n",
       "      <th>3167</th>\n",
       "      <td>1489</td>\n",
       "      <td>12</td>\n",
       "      <td>NaN</td>\n",
       "      <td>NaN</td>\n",
       "      <td>35.0</td>\n",
       "    </tr>\n",
       "  </tbody>\n",
       "</table>\n",
       "<p>3212 rows × 5 columns</p>\n",
       "</div>"
      ],
      "text/plain": [
       "      user_id  month  call_count  call_sum  message_count\n",
       "0        1000      5        17.0     159.0           22.0\n",
       "1        1000      6        28.0     172.0           60.0\n",
       "2        1000      7        41.0     340.0           75.0\n",
       "3        1000      8        42.0     408.0           81.0\n",
       "4        1000      9        46.0     466.0           57.0\n",
       "...       ...    ...         ...       ...            ...\n",
       "3167     1489      8         NaN       NaN           17.0\n",
       "3167     1489      9         NaN       NaN           32.0\n",
       "3167     1489     10         NaN       NaN           21.0\n",
       "3167     1489     11         NaN       NaN           20.0\n",
       "3167     1489     12         NaN       NaN           35.0\n",
       "\n",
       "[3212 rows x 5 columns]"
      ]
     },
     "execution_count": 21,
     "metadata": {},
     "output_type": "execute_result"
    }
   ],
   "source": [
    "df_calls_messages = df_calls_grouped.join(df_messages_grouped.set_index(['user_id','month']), on=['user_id','month'], how='outer')\n",
    "df_calls_messages"
   ]
  },
  {
   "cell_type": "code",
   "execution_count": 22,
   "metadata": {},
   "outputs": [],
   "source": [
    "df_grouped = df_calls_messages.join(df_internet_grouped.set_index(['user_id','month']), on=['user_id','month'], how='outer')"
   ]
  },
  {
   "cell_type": "code",
   "execution_count": 23,
   "metadata": {},
   "outputs": [
    {
     "data": {
      "text/html": [
       "<div>\n",
       "<style scoped>\n",
       "    .dataframe tbody tr th:only-of-type {\n",
       "        vertical-align: middle;\n",
       "    }\n",
       "\n",
       "    .dataframe tbody tr th {\n",
       "        vertical-align: top;\n",
       "    }\n",
       "\n",
       "    .dataframe thead th {\n",
       "        text-align: right;\n",
       "    }\n",
       "</style>\n",
       "<table border=\"1\" class=\"dataframe\">\n",
       "  <thead>\n",
       "    <tr style=\"text-align: right;\">\n",
       "      <th></th>\n",
       "      <th>user_id</th>\n",
       "      <th>month</th>\n",
       "      <th>call_count</th>\n",
       "      <th>call_sum</th>\n",
       "      <th>message_count</th>\n",
       "      <th>gb_used</th>\n",
       "    </tr>\n",
       "  </thead>\n",
       "  <tbody>\n",
       "    <tr>\n",
       "      <th>0</th>\n",
       "      <td>1000</td>\n",
       "      <td>5</td>\n",
       "      <td>17.0</td>\n",
       "      <td>159.0</td>\n",
       "      <td>22.0</td>\n",
       "      <td>3.0</td>\n",
       "    </tr>\n",
       "    <tr>\n",
       "      <th>1</th>\n",
       "      <td>1000</td>\n",
       "      <td>6</td>\n",
       "      <td>28.0</td>\n",
       "      <td>172.0</td>\n",
       "      <td>60.0</td>\n",
       "      <td>23.0</td>\n",
       "    </tr>\n",
       "    <tr>\n",
       "      <th>2</th>\n",
       "      <td>1000</td>\n",
       "      <td>7</td>\n",
       "      <td>41.0</td>\n",
       "      <td>340.0</td>\n",
       "      <td>75.0</td>\n",
       "      <td>14.0</td>\n",
       "    </tr>\n",
       "    <tr>\n",
       "      <th>3</th>\n",
       "      <td>1000</td>\n",
       "      <td>8</td>\n",
       "      <td>42.0</td>\n",
       "      <td>408.0</td>\n",
       "      <td>81.0</td>\n",
       "      <td>14.0</td>\n",
       "    </tr>\n",
       "    <tr>\n",
       "      <th>4</th>\n",
       "      <td>1000</td>\n",
       "      <td>9</td>\n",
       "      <td>46.0</td>\n",
       "      <td>466.0</td>\n",
       "      <td>57.0</td>\n",
       "      <td>15.0</td>\n",
       "    </tr>\n",
       "    <tr>\n",
       "      <th>...</th>\n",
       "      <td>...</td>\n",
       "      <td>...</td>\n",
       "      <td>...</td>\n",
       "      <td>...</td>\n",
       "      <td>...</td>\n",
       "      <td>...</td>\n",
       "    </tr>\n",
       "    <tr>\n",
       "      <th>3163</th>\n",
       "      <td>1498</td>\n",
       "      <td>10</td>\n",
       "      <td>30.0</td>\n",
       "      <td>247.0</td>\n",
       "      <td>42.0</td>\n",
       "      <td>21.0</td>\n",
       "    </tr>\n",
       "    <tr>\n",
       "      <th>3164</th>\n",
       "      <td>1499</td>\n",
       "      <td>9</td>\n",
       "      <td>8.0</td>\n",
       "      <td>70.0</td>\n",
       "      <td>11.0</td>\n",
       "      <td>2.0</td>\n",
       "    </tr>\n",
       "    <tr>\n",
       "      <th>3165</th>\n",
       "      <td>1499</td>\n",
       "      <td>10</td>\n",
       "      <td>44.0</td>\n",
       "      <td>449.0</td>\n",
       "      <td>48.0</td>\n",
       "      <td>18.0</td>\n",
       "    </tr>\n",
       "    <tr>\n",
       "      <th>3166</th>\n",
       "      <td>1499</td>\n",
       "      <td>11</td>\n",
       "      <td>62.0</td>\n",
       "      <td>612.0</td>\n",
       "      <td>59.0</td>\n",
       "      <td>18.0</td>\n",
       "    </tr>\n",
       "    <tr>\n",
       "      <th>3167</th>\n",
       "      <td>1499</td>\n",
       "      <td>12</td>\n",
       "      <td>56.0</td>\n",
       "      <td>492.0</td>\n",
       "      <td>66.0</td>\n",
       "      <td>13.0</td>\n",
       "    </tr>\n",
       "  </tbody>\n",
       "</table>\n",
       "<p>3214 rows × 6 columns</p>\n",
       "</div>"
      ],
      "text/plain": [
       "      user_id  month  call_count  call_sum  message_count  gb_used\n",
       "0        1000      5        17.0     159.0           22.0      3.0\n",
       "1        1000      6        28.0     172.0           60.0     23.0\n",
       "2        1000      7        41.0     340.0           75.0     14.0\n",
       "3        1000      8        42.0     408.0           81.0     14.0\n",
       "4        1000      9        46.0     466.0           57.0     15.0\n",
       "...       ...    ...         ...       ...            ...      ...\n",
       "3163     1498     10        30.0     247.0           42.0     21.0\n",
       "3164     1499      9         8.0      70.0           11.0      2.0\n",
       "3165     1499     10        44.0     449.0           48.0     18.0\n",
       "3166     1499     11        62.0     612.0           59.0     18.0\n",
       "3167     1499     12        56.0     492.0           66.0     13.0\n",
       "\n",
       "[3214 rows x 6 columns]"
      ]
     },
     "execution_count": 23,
     "metadata": {},
     "output_type": "execute_result"
    }
   ],
   "source": [
    "df_grouped = df_grouped.sort_values(by=['user_id','month'], ascending=True)\n",
    "df_grouped = df_grouped.fillna(0)\n",
    "df_grouped"
   ]
  },
  {
   "cell_type": "markdown",
   "metadata": {},
   "source": [
    "Проверим корректность объединения таблиц."
   ]
  },
  {
   "cell_type": "code",
   "execution_count": 24,
   "metadata": {},
   "outputs": [
    {
     "data": {
      "text/plain": [
       "call_sum         1450301.0\n",
       "message_count     123036.0\n",
       "gb_used            55599.0\n",
       "dtype: float64"
      ]
     },
     "execution_count": 24,
     "metadata": {},
     "output_type": "execute_result"
    }
   ],
   "source": [
    "df_grouped[['call_sum', 'message_count','gb_used']].sum()"
   ]
  },
  {
   "cell_type": "code",
   "execution_count": 25,
   "metadata": {},
   "outputs": [
    {
     "data": {
      "text/plain": [
       "1450301.0"
      ]
     },
     "execution_count": 25,
     "metadata": {},
     "output_type": "execute_result"
    }
   ],
   "source": [
    "df_calls_grouped['call_sum'].sum()"
   ]
  },
  {
   "cell_type": "code",
   "execution_count": 26,
   "metadata": {},
   "outputs": [
    {
     "data": {
      "text/plain": [
       "123036"
      ]
     },
     "execution_count": 26,
     "metadata": {},
     "output_type": "execute_result"
    }
   ],
   "source": [
    "df_messages_grouped['message_count'].sum()"
   ]
  },
  {
   "cell_type": "code",
   "execution_count": 27,
   "metadata": {},
   "outputs": [
    {
     "data": {
      "text/plain": [
       "55599.0"
      ]
     },
     "execution_count": 27,
     "metadata": {},
     "output_type": "execute_result"
    }
   ],
   "source": [
    "df_internet_grouped['gb_used'].sum()"
   ]
  },
  {
   "cell_type": "markdown",
   "metadata": {},
   "source": [
    "#### Расчет выручки"
   ]
  },
  {
   "cell_type": "markdown",
   "metadata": {},
   "source": [
    "Добавим в сгруппированную таблицу параметры тарифов"
   ]
  },
  {
   "cell_type": "code",
   "execution_count": 28,
   "metadata": {
    "scrolled": true
   },
   "outputs": [
    {
     "data": {
      "text/html": [
       "<div>\n",
       "<style scoped>\n",
       "    .dataframe tbody tr th:only-of-type {\n",
       "        vertical-align: middle;\n",
       "    }\n",
       "\n",
       "    .dataframe tbody tr th {\n",
       "        vertical-align: top;\n",
       "    }\n",
       "\n",
       "    .dataframe thead th {\n",
       "        text-align: right;\n",
       "    }\n",
       "</style>\n",
       "<table border=\"1\" class=\"dataframe\">\n",
       "  <thead>\n",
       "    <tr style=\"text-align: right;\">\n",
       "      <th></th>\n",
       "      <th>user_id</th>\n",
       "      <th>month</th>\n",
       "      <th>call_count</th>\n",
       "      <th>call_sum</th>\n",
       "      <th>message_count</th>\n",
       "      <th>gb_used</th>\n",
       "      <th>tariff</th>\n",
       "    </tr>\n",
       "  </thead>\n",
       "  <tbody>\n",
       "    <tr>\n",
       "      <th>0</th>\n",
       "      <td>1000</td>\n",
       "      <td>5</td>\n",
       "      <td>17.0</td>\n",
       "      <td>159.0</td>\n",
       "      <td>22.0</td>\n",
       "      <td>3.0</td>\n",
       "      <td>ultra</td>\n",
       "    </tr>\n",
       "    <tr>\n",
       "      <th>1</th>\n",
       "      <td>1000</td>\n",
       "      <td>6</td>\n",
       "      <td>28.0</td>\n",
       "      <td>172.0</td>\n",
       "      <td>60.0</td>\n",
       "      <td>23.0</td>\n",
       "      <td>ultra</td>\n",
       "    </tr>\n",
       "    <tr>\n",
       "      <th>2</th>\n",
       "      <td>1000</td>\n",
       "      <td>7</td>\n",
       "      <td>41.0</td>\n",
       "      <td>340.0</td>\n",
       "      <td>75.0</td>\n",
       "      <td>14.0</td>\n",
       "      <td>ultra</td>\n",
       "    </tr>\n",
       "    <tr>\n",
       "      <th>3</th>\n",
       "      <td>1000</td>\n",
       "      <td>8</td>\n",
       "      <td>42.0</td>\n",
       "      <td>408.0</td>\n",
       "      <td>81.0</td>\n",
       "      <td>14.0</td>\n",
       "      <td>ultra</td>\n",
       "    </tr>\n",
       "    <tr>\n",
       "      <th>4</th>\n",
       "      <td>1000</td>\n",
       "      <td>9</td>\n",
       "      <td>46.0</td>\n",
       "      <td>466.0</td>\n",
       "      <td>57.0</td>\n",
       "      <td>15.0</td>\n",
       "      <td>ultra</td>\n",
       "    </tr>\n",
       "    <tr>\n",
       "      <th>...</th>\n",
       "      <td>...</td>\n",
       "      <td>...</td>\n",
       "      <td>...</td>\n",
       "      <td>...</td>\n",
       "      <td>...</td>\n",
       "      <td>...</td>\n",
       "      <td>...</td>\n",
       "    </tr>\n",
       "    <tr>\n",
       "      <th>3209</th>\n",
       "      <td>1498</td>\n",
       "      <td>10</td>\n",
       "      <td>30.0</td>\n",
       "      <td>247.0</td>\n",
       "      <td>42.0</td>\n",
       "      <td>21.0</td>\n",
       "      <td>smart</td>\n",
       "    </tr>\n",
       "    <tr>\n",
       "      <th>3210</th>\n",
       "      <td>1499</td>\n",
       "      <td>9</td>\n",
       "      <td>8.0</td>\n",
       "      <td>70.0</td>\n",
       "      <td>11.0</td>\n",
       "      <td>2.0</td>\n",
       "      <td>smart</td>\n",
       "    </tr>\n",
       "    <tr>\n",
       "      <th>3211</th>\n",
       "      <td>1499</td>\n",
       "      <td>10</td>\n",
       "      <td>44.0</td>\n",
       "      <td>449.0</td>\n",
       "      <td>48.0</td>\n",
       "      <td>18.0</td>\n",
       "      <td>smart</td>\n",
       "    </tr>\n",
       "    <tr>\n",
       "      <th>3212</th>\n",
       "      <td>1499</td>\n",
       "      <td>11</td>\n",
       "      <td>62.0</td>\n",
       "      <td>612.0</td>\n",
       "      <td>59.0</td>\n",
       "      <td>18.0</td>\n",
       "      <td>smart</td>\n",
       "    </tr>\n",
       "    <tr>\n",
       "      <th>3213</th>\n",
       "      <td>1499</td>\n",
       "      <td>12</td>\n",
       "      <td>56.0</td>\n",
       "      <td>492.0</td>\n",
       "      <td>66.0</td>\n",
       "      <td>13.0</td>\n",
       "      <td>smart</td>\n",
       "    </tr>\n",
       "  </tbody>\n",
       "</table>\n",
       "<p>3214 rows × 7 columns</p>\n",
       "</div>"
      ],
      "text/plain": [
       "      user_id  month  call_count  call_sum  message_count  gb_used tariff\n",
       "0        1000      5        17.0     159.0           22.0      3.0  ultra\n",
       "1        1000      6        28.0     172.0           60.0     23.0  ultra\n",
       "2        1000      7        41.0     340.0           75.0     14.0  ultra\n",
       "3        1000      8        42.0     408.0           81.0     14.0  ultra\n",
       "4        1000      9        46.0     466.0           57.0     15.0  ultra\n",
       "...       ...    ...         ...       ...            ...      ...    ...\n",
       "3209     1498     10        30.0     247.0           42.0     21.0  smart\n",
       "3210     1499      9         8.0      70.0           11.0      2.0  smart\n",
       "3211     1499     10        44.0     449.0           48.0     18.0  smart\n",
       "3212     1499     11        62.0     612.0           59.0     18.0  smart\n",
       "3213     1499     12        56.0     492.0           66.0     13.0  smart\n",
       "\n",
       "[3214 rows x 7 columns]"
      ]
     },
     "execution_count": 28,
     "metadata": {},
     "output_type": "execute_result"
    }
   ],
   "source": [
    "df_grouped = df_grouped.merge(df_users[['user_id','tariff']], on='user_id', how='left')\n",
    "df_grouped"
   ]
  },
  {
   "cell_type": "code",
   "execution_count": 29,
   "metadata": {},
   "outputs": [
    {
     "data": {
      "text/html": [
       "<div>\n",
       "<style scoped>\n",
       "    .dataframe tbody tr th:only-of-type {\n",
       "        vertical-align: middle;\n",
       "    }\n",
       "\n",
       "    .dataframe tbody tr th {\n",
       "        vertical-align: top;\n",
       "    }\n",
       "\n",
       "    .dataframe thead th {\n",
       "        text-align: right;\n",
       "    }\n",
       "</style>\n",
       "<table border=\"1\" class=\"dataframe\">\n",
       "  <thead>\n",
       "    <tr style=\"text-align: right;\">\n",
       "      <th></th>\n",
       "      <th>messages_included</th>\n",
       "      <th>mb_per_month_included</th>\n",
       "      <th>minutes_included</th>\n",
       "      <th>rub_monthly_fee</th>\n",
       "      <th>rub_per_gb</th>\n",
       "      <th>rub_per_message</th>\n",
       "      <th>rub_per_minute</th>\n",
       "      <th>tariff</th>\n",
       "    </tr>\n",
       "  </thead>\n",
       "  <tbody>\n",
       "    <tr>\n",
       "      <th>0</th>\n",
       "      <td>50</td>\n",
       "      <td>15360</td>\n",
       "      <td>500</td>\n",
       "      <td>550</td>\n",
       "      <td>200</td>\n",
       "      <td>3</td>\n",
       "      <td>3</td>\n",
       "      <td>smart</td>\n",
       "    </tr>\n",
       "    <tr>\n",
       "      <th>1</th>\n",
       "      <td>1000</td>\n",
       "      <td>30720</td>\n",
       "      <td>3000</td>\n",
       "      <td>1950</td>\n",
       "      <td>150</td>\n",
       "      <td>1</td>\n",
       "      <td>1</td>\n",
       "      <td>ultra</td>\n",
       "    </tr>\n",
       "  </tbody>\n",
       "</table>\n",
       "</div>"
      ],
      "text/plain": [
       "   messages_included  mb_per_month_included  minutes_included  \\\n",
       "0                 50                  15360               500   \n",
       "1               1000                  30720              3000   \n",
       "\n",
       "   rub_monthly_fee  rub_per_gb  rub_per_message  rub_per_minute tariff  \n",
       "0              550         200                3               3  smart  \n",
       "1             1950         150                1               1  ultra  "
      ]
     },
     "execution_count": 29,
     "metadata": {},
     "output_type": "execute_result"
    }
   ],
   "source": [
    "df_tariffs = df_tariffs.rename(columns={'tariff_name': 'tariff'})\n",
    "df_tariffs"
   ]
  },
  {
   "cell_type": "code",
   "execution_count": 30,
   "metadata": {
    "scrolled": true
   },
   "outputs": [
    {
     "data": {
      "text/html": [
       "<div>\n",
       "<style scoped>\n",
       "    .dataframe tbody tr th:only-of-type {\n",
       "        vertical-align: middle;\n",
       "    }\n",
       "\n",
       "    .dataframe tbody tr th {\n",
       "        vertical-align: top;\n",
       "    }\n",
       "\n",
       "    .dataframe thead th {\n",
       "        text-align: right;\n",
       "    }\n",
       "</style>\n",
       "<table border=\"1\" class=\"dataframe\">\n",
       "  <thead>\n",
       "    <tr style=\"text-align: right;\">\n",
       "      <th></th>\n",
       "      <th>user_id</th>\n",
       "      <th>month</th>\n",
       "      <th>call_count</th>\n",
       "      <th>call_sum</th>\n",
       "      <th>message_count</th>\n",
       "      <th>gb_used</th>\n",
       "      <th>tariff</th>\n",
       "      <th>messages_included</th>\n",
       "      <th>mb_per_month_included</th>\n",
       "      <th>minutes_included</th>\n",
       "      <th>rub_monthly_fee</th>\n",
       "      <th>rub_per_gb</th>\n",
       "      <th>rub_per_message</th>\n",
       "      <th>rub_per_minute</th>\n",
       "    </tr>\n",
       "  </thead>\n",
       "  <tbody>\n",
       "    <tr>\n",
       "      <th>0</th>\n",
       "      <td>1000</td>\n",
       "      <td>5</td>\n",
       "      <td>17.0</td>\n",
       "      <td>159.0</td>\n",
       "      <td>22.0</td>\n",
       "      <td>3.0</td>\n",
       "      <td>ultra</td>\n",
       "      <td>1000</td>\n",
       "      <td>30720</td>\n",
       "      <td>3000</td>\n",
       "      <td>1950</td>\n",
       "      <td>150</td>\n",
       "      <td>1</td>\n",
       "      <td>1</td>\n",
       "    </tr>\n",
       "    <tr>\n",
       "      <th>1</th>\n",
       "      <td>1000</td>\n",
       "      <td>6</td>\n",
       "      <td>28.0</td>\n",
       "      <td>172.0</td>\n",
       "      <td>60.0</td>\n",
       "      <td>23.0</td>\n",
       "      <td>ultra</td>\n",
       "      <td>1000</td>\n",
       "      <td>30720</td>\n",
       "      <td>3000</td>\n",
       "      <td>1950</td>\n",
       "      <td>150</td>\n",
       "      <td>1</td>\n",
       "      <td>1</td>\n",
       "    </tr>\n",
       "    <tr>\n",
       "      <th>2</th>\n",
       "      <td>1000</td>\n",
       "      <td>7</td>\n",
       "      <td>41.0</td>\n",
       "      <td>340.0</td>\n",
       "      <td>75.0</td>\n",
       "      <td>14.0</td>\n",
       "      <td>ultra</td>\n",
       "      <td>1000</td>\n",
       "      <td>30720</td>\n",
       "      <td>3000</td>\n",
       "      <td>1950</td>\n",
       "      <td>150</td>\n",
       "      <td>1</td>\n",
       "      <td>1</td>\n",
       "    </tr>\n",
       "    <tr>\n",
       "      <th>3</th>\n",
       "      <td>1000</td>\n",
       "      <td>8</td>\n",
       "      <td>42.0</td>\n",
       "      <td>408.0</td>\n",
       "      <td>81.0</td>\n",
       "      <td>14.0</td>\n",
       "      <td>ultra</td>\n",
       "      <td>1000</td>\n",
       "      <td>30720</td>\n",
       "      <td>3000</td>\n",
       "      <td>1950</td>\n",
       "      <td>150</td>\n",
       "      <td>1</td>\n",
       "      <td>1</td>\n",
       "    </tr>\n",
       "    <tr>\n",
       "      <th>4</th>\n",
       "      <td>1000</td>\n",
       "      <td>9</td>\n",
       "      <td>46.0</td>\n",
       "      <td>466.0</td>\n",
       "      <td>57.0</td>\n",
       "      <td>15.0</td>\n",
       "      <td>ultra</td>\n",
       "      <td>1000</td>\n",
       "      <td>30720</td>\n",
       "      <td>3000</td>\n",
       "      <td>1950</td>\n",
       "      <td>150</td>\n",
       "      <td>1</td>\n",
       "      <td>1</td>\n",
       "    </tr>\n",
       "    <tr>\n",
       "      <th>...</th>\n",
       "      <td>...</td>\n",
       "      <td>...</td>\n",
       "      <td>...</td>\n",
       "      <td>...</td>\n",
       "      <td>...</td>\n",
       "      <td>...</td>\n",
       "      <td>...</td>\n",
       "      <td>...</td>\n",
       "      <td>...</td>\n",
       "      <td>...</td>\n",
       "      <td>...</td>\n",
       "      <td>...</td>\n",
       "      <td>...</td>\n",
       "      <td>...</td>\n",
       "    </tr>\n",
       "    <tr>\n",
       "      <th>3209</th>\n",
       "      <td>1498</td>\n",
       "      <td>10</td>\n",
       "      <td>30.0</td>\n",
       "      <td>247.0</td>\n",
       "      <td>42.0</td>\n",
       "      <td>21.0</td>\n",
       "      <td>smart</td>\n",
       "      <td>50</td>\n",
       "      <td>15360</td>\n",
       "      <td>500</td>\n",
       "      <td>550</td>\n",
       "      <td>200</td>\n",
       "      <td>3</td>\n",
       "      <td>3</td>\n",
       "    </tr>\n",
       "    <tr>\n",
       "      <th>3210</th>\n",
       "      <td>1499</td>\n",
       "      <td>9</td>\n",
       "      <td>8.0</td>\n",
       "      <td>70.0</td>\n",
       "      <td>11.0</td>\n",
       "      <td>2.0</td>\n",
       "      <td>smart</td>\n",
       "      <td>50</td>\n",
       "      <td>15360</td>\n",
       "      <td>500</td>\n",
       "      <td>550</td>\n",
       "      <td>200</td>\n",
       "      <td>3</td>\n",
       "      <td>3</td>\n",
       "    </tr>\n",
       "    <tr>\n",
       "      <th>3211</th>\n",
       "      <td>1499</td>\n",
       "      <td>10</td>\n",
       "      <td>44.0</td>\n",
       "      <td>449.0</td>\n",
       "      <td>48.0</td>\n",
       "      <td>18.0</td>\n",
       "      <td>smart</td>\n",
       "      <td>50</td>\n",
       "      <td>15360</td>\n",
       "      <td>500</td>\n",
       "      <td>550</td>\n",
       "      <td>200</td>\n",
       "      <td>3</td>\n",
       "      <td>3</td>\n",
       "    </tr>\n",
       "    <tr>\n",
       "      <th>3212</th>\n",
       "      <td>1499</td>\n",
       "      <td>11</td>\n",
       "      <td>62.0</td>\n",
       "      <td>612.0</td>\n",
       "      <td>59.0</td>\n",
       "      <td>18.0</td>\n",
       "      <td>smart</td>\n",
       "      <td>50</td>\n",
       "      <td>15360</td>\n",
       "      <td>500</td>\n",
       "      <td>550</td>\n",
       "      <td>200</td>\n",
       "      <td>3</td>\n",
       "      <td>3</td>\n",
       "    </tr>\n",
       "    <tr>\n",
       "      <th>3213</th>\n",
       "      <td>1499</td>\n",
       "      <td>12</td>\n",
       "      <td>56.0</td>\n",
       "      <td>492.0</td>\n",
       "      <td>66.0</td>\n",
       "      <td>13.0</td>\n",
       "      <td>smart</td>\n",
       "      <td>50</td>\n",
       "      <td>15360</td>\n",
       "      <td>500</td>\n",
       "      <td>550</td>\n",
       "      <td>200</td>\n",
       "      <td>3</td>\n",
       "      <td>3</td>\n",
       "    </tr>\n",
       "  </tbody>\n",
       "</table>\n",
       "<p>3214 rows × 14 columns</p>\n",
       "</div>"
      ],
      "text/plain": [
       "      user_id  month  call_count  call_sum  message_count  gb_used tariff  \\\n",
       "0        1000      5        17.0     159.0           22.0      3.0  ultra   \n",
       "1        1000      6        28.0     172.0           60.0     23.0  ultra   \n",
       "2        1000      7        41.0     340.0           75.0     14.0  ultra   \n",
       "3        1000      8        42.0     408.0           81.0     14.0  ultra   \n",
       "4        1000      9        46.0     466.0           57.0     15.0  ultra   \n",
       "...       ...    ...         ...       ...            ...      ...    ...   \n",
       "3209     1498     10        30.0     247.0           42.0     21.0  smart   \n",
       "3210     1499      9         8.0      70.0           11.0      2.0  smart   \n",
       "3211     1499     10        44.0     449.0           48.0     18.0  smart   \n",
       "3212     1499     11        62.0     612.0           59.0     18.0  smart   \n",
       "3213     1499     12        56.0     492.0           66.0     13.0  smart   \n",
       "\n",
       "      messages_included  mb_per_month_included  minutes_included  \\\n",
       "0                  1000                  30720              3000   \n",
       "1                  1000                  30720              3000   \n",
       "2                  1000                  30720              3000   \n",
       "3                  1000                  30720              3000   \n",
       "4                  1000                  30720              3000   \n",
       "...                 ...                    ...               ...   \n",
       "3209                 50                  15360               500   \n",
       "3210                 50                  15360               500   \n",
       "3211                 50                  15360               500   \n",
       "3212                 50                  15360               500   \n",
       "3213                 50                  15360               500   \n",
       "\n",
       "      rub_monthly_fee  rub_per_gb  rub_per_message  rub_per_minute  \n",
       "0                1950         150                1               1  \n",
       "1                1950         150                1               1  \n",
       "2                1950         150                1               1  \n",
       "3                1950         150                1               1  \n",
       "4                1950         150                1               1  \n",
       "...               ...         ...              ...             ...  \n",
       "3209              550         200                3               3  \n",
       "3210              550         200                3               3  \n",
       "3211              550         200                3               3  \n",
       "3212              550         200                3               3  \n",
       "3213              550         200                3               3  \n",
       "\n",
       "[3214 rows x 14 columns]"
      ]
     },
     "execution_count": 30,
     "metadata": {},
     "output_type": "execute_result"
    }
   ],
   "source": [
    "df_grouped = df_grouped.merge(df_tariffs, on='tariff', how='left')\n",
    "df_grouped"
   ]
  },
  {
   "cell_type": "markdown",
   "metadata": {},
   "source": [
    "Рассчитаем доход от СМС"
   ]
  },
  {
   "cell_type": "code",
   "execution_count": 31,
   "metadata": {},
   "outputs": [
    {
     "data": {
      "text/html": [
       "<div>\n",
       "<style scoped>\n",
       "    .dataframe tbody tr th:only-of-type {\n",
       "        vertical-align: middle;\n",
       "    }\n",
       "\n",
       "    .dataframe tbody tr th {\n",
       "        vertical-align: top;\n",
       "    }\n",
       "\n",
       "    .dataframe thead th {\n",
       "        text-align: right;\n",
       "    }\n",
       "</style>\n",
       "<table border=\"1\" class=\"dataframe\">\n",
       "  <thead>\n",
       "    <tr style=\"text-align: right;\">\n",
       "      <th></th>\n",
       "      <th>user_id</th>\n",
       "      <th>month</th>\n",
       "      <th>call_count</th>\n",
       "      <th>call_sum</th>\n",
       "      <th>message_count</th>\n",
       "      <th>gb_used</th>\n",
       "      <th>tariff</th>\n",
       "      <th>messages_included</th>\n",
       "      <th>mb_per_month_included</th>\n",
       "      <th>minutes_included</th>\n",
       "      <th>rub_monthly_fee</th>\n",
       "      <th>rub_per_gb</th>\n",
       "      <th>rub_per_message</th>\n",
       "      <th>rub_per_minute</th>\n",
       "      <th>message_profit</th>\n",
       "    </tr>\n",
       "  </thead>\n",
       "  <tbody>\n",
       "    <tr>\n",
       "      <th>0</th>\n",
       "      <td>1000</td>\n",
       "      <td>5</td>\n",
       "      <td>17.0</td>\n",
       "      <td>159.0</td>\n",
       "      <td>22.0</td>\n",
       "      <td>3.0</td>\n",
       "      <td>ultra</td>\n",
       "      <td>1000</td>\n",
       "      <td>30720</td>\n",
       "      <td>3000</td>\n",
       "      <td>1950</td>\n",
       "      <td>150</td>\n",
       "      <td>1</td>\n",
       "      <td>1</td>\n",
       "      <td>0.0</td>\n",
       "    </tr>\n",
       "    <tr>\n",
       "      <th>1</th>\n",
       "      <td>1000</td>\n",
       "      <td>6</td>\n",
       "      <td>28.0</td>\n",
       "      <td>172.0</td>\n",
       "      <td>60.0</td>\n",
       "      <td>23.0</td>\n",
       "      <td>ultra</td>\n",
       "      <td>1000</td>\n",
       "      <td>30720</td>\n",
       "      <td>3000</td>\n",
       "      <td>1950</td>\n",
       "      <td>150</td>\n",
       "      <td>1</td>\n",
       "      <td>1</td>\n",
       "      <td>0.0</td>\n",
       "    </tr>\n",
       "    <tr>\n",
       "      <th>2</th>\n",
       "      <td>1000</td>\n",
       "      <td>7</td>\n",
       "      <td>41.0</td>\n",
       "      <td>340.0</td>\n",
       "      <td>75.0</td>\n",
       "      <td>14.0</td>\n",
       "      <td>ultra</td>\n",
       "      <td>1000</td>\n",
       "      <td>30720</td>\n",
       "      <td>3000</td>\n",
       "      <td>1950</td>\n",
       "      <td>150</td>\n",
       "      <td>1</td>\n",
       "      <td>1</td>\n",
       "      <td>0.0</td>\n",
       "    </tr>\n",
       "    <tr>\n",
       "      <th>3</th>\n",
       "      <td>1000</td>\n",
       "      <td>8</td>\n",
       "      <td>42.0</td>\n",
       "      <td>408.0</td>\n",
       "      <td>81.0</td>\n",
       "      <td>14.0</td>\n",
       "      <td>ultra</td>\n",
       "      <td>1000</td>\n",
       "      <td>30720</td>\n",
       "      <td>3000</td>\n",
       "      <td>1950</td>\n",
       "      <td>150</td>\n",
       "      <td>1</td>\n",
       "      <td>1</td>\n",
       "      <td>0.0</td>\n",
       "    </tr>\n",
       "    <tr>\n",
       "      <th>4</th>\n",
       "      <td>1000</td>\n",
       "      <td>9</td>\n",
       "      <td>46.0</td>\n",
       "      <td>466.0</td>\n",
       "      <td>57.0</td>\n",
       "      <td>15.0</td>\n",
       "      <td>ultra</td>\n",
       "      <td>1000</td>\n",
       "      <td>30720</td>\n",
       "      <td>3000</td>\n",
       "      <td>1950</td>\n",
       "      <td>150</td>\n",
       "      <td>1</td>\n",
       "      <td>1</td>\n",
       "      <td>0.0</td>\n",
       "    </tr>\n",
       "    <tr>\n",
       "      <th>...</th>\n",
       "      <td>...</td>\n",
       "      <td>...</td>\n",
       "      <td>...</td>\n",
       "      <td>...</td>\n",
       "      <td>...</td>\n",
       "      <td>...</td>\n",
       "      <td>...</td>\n",
       "      <td>...</td>\n",
       "      <td>...</td>\n",
       "      <td>...</td>\n",
       "      <td>...</td>\n",
       "      <td>...</td>\n",
       "      <td>...</td>\n",
       "      <td>...</td>\n",
       "      <td>...</td>\n",
       "    </tr>\n",
       "    <tr>\n",
       "      <th>3209</th>\n",
       "      <td>1498</td>\n",
       "      <td>10</td>\n",
       "      <td>30.0</td>\n",
       "      <td>247.0</td>\n",
       "      <td>42.0</td>\n",
       "      <td>21.0</td>\n",
       "      <td>smart</td>\n",
       "      <td>50</td>\n",
       "      <td>15360</td>\n",
       "      <td>500</td>\n",
       "      <td>550</td>\n",
       "      <td>200</td>\n",
       "      <td>3</td>\n",
       "      <td>3</td>\n",
       "      <td>0.0</td>\n",
       "    </tr>\n",
       "    <tr>\n",
       "      <th>3210</th>\n",
       "      <td>1499</td>\n",
       "      <td>9</td>\n",
       "      <td>8.0</td>\n",
       "      <td>70.0</td>\n",
       "      <td>11.0</td>\n",
       "      <td>2.0</td>\n",
       "      <td>smart</td>\n",
       "      <td>50</td>\n",
       "      <td>15360</td>\n",
       "      <td>500</td>\n",
       "      <td>550</td>\n",
       "      <td>200</td>\n",
       "      <td>3</td>\n",
       "      <td>3</td>\n",
       "      <td>0.0</td>\n",
       "    </tr>\n",
       "    <tr>\n",
       "      <th>3211</th>\n",
       "      <td>1499</td>\n",
       "      <td>10</td>\n",
       "      <td>44.0</td>\n",
       "      <td>449.0</td>\n",
       "      <td>48.0</td>\n",
       "      <td>18.0</td>\n",
       "      <td>smart</td>\n",
       "      <td>50</td>\n",
       "      <td>15360</td>\n",
       "      <td>500</td>\n",
       "      <td>550</td>\n",
       "      <td>200</td>\n",
       "      <td>3</td>\n",
       "      <td>3</td>\n",
       "      <td>0.0</td>\n",
       "    </tr>\n",
       "    <tr>\n",
       "      <th>3212</th>\n",
       "      <td>1499</td>\n",
       "      <td>11</td>\n",
       "      <td>62.0</td>\n",
       "      <td>612.0</td>\n",
       "      <td>59.0</td>\n",
       "      <td>18.0</td>\n",
       "      <td>smart</td>\n",
       "      <td>50</td>\n",
       "      <td>15360</td>\n",
       "      <td>500</td>\n",
       "      <td>550</td>\n",
       "      <td>200</td>\n",
       "      <td>3</td>\n",
       "      <td>3</td>\n",
       "      <td>27.0</td>\n",
       "    </tr>\n",
       "    <tr>\n",
       "      <th>3213</th>\n",
       "      <td>1499</td>\n",
       "      <td>12</td>\n",
       "      <td>56.0</td>\n",
       "      <td>492.0</td>\n",
       "      <td>66.0</td>\n",
       "      <td>13.0</td>\n",
       "      <td>smart</td>\n",
       "      <td>50</td>\n",
       "      <td>15360</td>\n",
       "      <td>500</td>\n",
       "      <td>550</td>\n",
       "      <td>200</td>\n",
       "      <td>3</td>\n",
       "      <td>3</td>\n",
       "      <td>48.0</td>\n",
       "    </tr>\n",
       "  </tbody>\n",
       "</table>\n",
       "<p>3214 rows × 15 columns</p>\n",
       "</div>"
      ],
      "text/plain": [
       "      user_id  month  call_count  call_sum  message_count  gb_used tariff  \\\n",
       "0        1000      5        17.0     159.0           22.0      3.0  ultra   \n",
       "1        1000      6        28.0     172.0           60.0     23.0  ultra   \n",
       "2        1000      7        41.0     340.0           75.0     14.0  ultra   \n",
       "3        1000      8        42.0     408.0           81.0     14.0  ultra   \n",
       "4        1000      9        46.0     466.0           57.0     15.0  ultra   \n",
       "...       ...    ...         ...       ...            ...      ...    ...   \n",
       "3209     1498     10        30.0     247.0           42.0     21.0  smart   \n",
       "3210     1499      9         8.0      70.0           11.0      2.0  smart   \n",
       "3211     1499     10        44.0     449.0           48.0     18.0  smart   \n",
       "3212     1499     11        62.0     612.0           59.0     18.0  smart   \n",
       "3213     1499     12        56.0     492.0           66.0     13.0  smart   \n",
       "\n",
       "      messages_included  mb_per_month_included  minutes_included  \\\n",
       "0                  1000                  30720              3000   \n",
       "1                  1000                  30720              3000   \n",
       "2                  1000                  30720              3000   \n",
       "3                  1000                  30720              3000   \n",
       "4                  1000                  30720              3000   \n",
       "...                 ...                    ...               ...   \n",
       "3209                 50                  15360               500   \n",
       "3210                 50                  15360               500   \n",
       "3211                 50                  15360               500   \n",
       "3212                 50                  15360               500   \n",
       "3213                 50                  15360               500   \n",
       "\n",
       "      rub_monthly_fee  rub_per_gb  rub_per_message  rub_per_minute  \\\n",
       "0                1950         150                1               1   \n",
       "1                1950         150                1               1   \n",
       "2                1950         150                1               1   \n",
       "3                1950         150                1               1   \n",
       "4                1950         150                1               1   \n",
       "...               ...         ...              ...             ...   \n",
       "3209              550         200                3               3   \n",
       "3210              550         200                3               3   \n",
       "3211              550         200                3               3   \n",
       "3212              550         200                3               3   \n",
       "3213              550         200                3               3   \n",
       "\n",
       "      message_profit  \n",
       "0                0.0  \n",
       "1                0.0  \n",
       "2                0.0  \n",
       "3                0.0  \n",
       "4                0.0  \n",
       "...              ...  \n",
       "3209             0.0  \n",
       "3210             0.0  \n",
       "3211             0.0  \n",
       "3212            27.0  \n",
       "3213            48.0  \n",
       "\n",
       "[3214 rows x 15 columns]"
      ]
     },
     "execution_count": 31,
     "metadata": {},
     "output_type": "execute_result"
    }
   ],
   "source": [
    "df_grouped['message_profit'] = (df_grouped['message_count'] - df_grouped['messages_included']) * df_grouped['rub_per_message']\n",
    "df_grouped.loc[df_grouped['message_profit'] < 0,'message_profit'] = 0\n",
    "df_grouped"
   ]
  },
  {
   "cell_type": "markdown",
   "metadata": {},
   "source": [
    "Расчитаем доход от интернет трафика"
   ]
  },
  {
   "cell_type": "code",
   "execution_count": 32,
   "metadata": {
    "scrolled": true
   },
   "outputs": [
    {
     "data": {
      "text/html": [
       "<div>\n",
       "<style scoped>\n",
       "    .dataframe tbody tr th:only-of-type {\n",
       "        vertical-align: middle;\n",
       "    }\n",
       "\n",
       "    .dataframe tbody tr th {\n",
       "        vertical-align: top;\n",
       "    }\n",
       "\n",
       "    .dataframe thead th {\n",
       "        text-align: right;\n",
       "    }\n",
       "</style>\n",
       "<table border=\"1\" class=\"dataframe\">\n",
       "  <thead>\n",
       "    <tr style=\"text-align: right;\">\n",
       "      <th></th>\n",
       "      <th>user_id</th>\n",
       "      <th>month</th>\n",
       "      <th>call_count</th>\n",
       "      <th>call_sum</th>\n",
       "      <th>message_count</th>\n",
       "      <th>gb_used</th>\n",
       "      <th>tariff</th>\n",
       "      <th>messages_included</th>\n",
       "      <th>mb_per_month_included</th>\n",
       "      <th>minutes_included</th>\n",
       "      <th>rub_monthly_fee</th>\n",
       "      <th>rub_per_gb</th>\n",
       "      <th>rub_per_message</th>\n",
       "      <th>rub_per_minute</th>\n",
       "      <th>message_profit</th>\n",
       "      <th>internet_profit</th>\n",
       "    </tr>\n",
       "  </thead>\n",
       "  <tbody>\n",
       "    <tr>\n",
       "      <th>0</th>\n",
       "      <td>1000</td>\n",
       "      <td>5</td>\n",
       "      <td>17.0</td>\n",
       "      <td>159.0</td>\n",
       "      <td>22.0</td>\n",
       "      <td>3.0</td>\n",
       "      <td>ultra</td>\n",
       "      <td>1000</td>\n",
       "      <td>30720</td>\n",
       "      <td>3000</td>\n",
       "      <td>1950</td>\n",
       "      <td>150</td>\n",
       "      <td>1</td>\n",
       "      <td>1</td>\n",
       "      <td>0.0</td>\n",
       "      <td>0.0</td>\n",
       "    </tr>\n",
       "    <tr>\n",
       "      <th>1</th>\n",
       "      <td>1000</td>\n",
       "      <td>6</td>\n",
       "      <td>28.0</td>\n",
       "      <td>172.0</td>\n",
       "      <td>60.0</td>\n",
       "      <td>23.0</td>\n",
       "      <td>ultra</td>\n",
       "      <td>1000</td>\n",
       "      <td>30720</td>\n",
       "      <td>3000</td>\n",
       "      <td>1950</td>\n",
       "      <td>150</td>\n",
       "      <td>1</td>\n",
       "      <td>1</td>\n",
       "      <td>0.0</td>\n",
       "      <td>0.0</td>\n",
       "    </tr>\n",
       "    <tr>\n",
       "      <th>2</th>\n",
       "      <td>1000</td>\n",
       "      <td>7</td>\n",
       "      <td>41.0</td>\n",
       "      <td>340.0</td>\n",
       "      <td>75.0</td>\n",
       "      <td>14.0</td>\n",
       "      <td>ultra</td>\n",
       "      <td>1000</td>\n",
       "      <td>30720</td>\n",
       "      <td>3000</td>\n",
       "      <td>1950</td>\n",
       "      <td>150</td>\n",
       "      <td>1</td>\n",
       "      <td>1</td>\n",
       "      <td>0.0</td>\n",
       "      <td>0.0</td>\n",
       "    </tr>\n",
       "    <tr>\n",
       "      <th>3</th>\n",
       "      <td>1000</td>\n",
       "      <td>8</td>\n",
       "      <td>42.0</td>\n",
       "      <td>408.0</td>\n",
       "      <td>81.0</td>\n",
       "      <td>14.0</td>\n",
       "      <td>ultra</td>\n",
       "      <td>1000</td>\n",
       "      <td>30720</td>\n",
       "      <td>3000</td>\n",
       "      <td>1950</td>\n",
       "      <td>150</td>\n",
       "      <td>1</td>\n",
       "      <td>1</td>\n",
       "      <td>0.0</td>\n",
       "      <td>0.0</td>\n",
       "    </tr>\n",
       "    <tr>\n",
       "      <th>4</th>\n",
       "      <td>1000</td>\n",
       "      <td>9</td>\n",
       "      <td>46.0</td>\n",
       "      <td>466.0</td>\n",
       "      <td>57.0</td>\n",
       "      <td>15.0</td>\n",
       "      <td>ultra</td>\n",
       "      <td>1000</td>\n",
       "      <td>30720</td>\n",
       "      <td>3000</td>\n",
       "      <td>1950</td>\n",
       "      <td>150</td>\n",
       "      <td>1</td>\n",
       "      <td>1</td>\n",
       "      <td>0.0</td>\n",
       "      <td>0.0</td>\n",
       "    </tr>\n",
       "    <tr>\n",
       "      <th>...</th>\n",
       "      <td>...</td>\n",
       "      <td>...</td>\n",
       "      <td>...</td>\n",
       "      <td>...</td>\n",
       "      <td>...</td>\n",
       "      <td>...</td>\n",
       "      <td>...</td>\n",
       "      <td>...</td>\n",
       "      <td>...</td>\n",
       "      <td>...</td>\n",
       "      <td>...</td>\n",
       "      <td>...</td>\n",
       "      <td>...</td>\n",
       "      <td>...</td>\n",
       "      <td>...</td>\n",
       "      <td>...</td>\n",
       "    </tr>\n",
       "    <tr>\n",
       "      <th>3209</th>\n",
       "      <td>1498</td>\n",
       "      <td>10</td>\n",
       "      <td>30.0</td>\n",
       "      <td>247.0</td>\n",
       "      <td>42.0</td>\n",
       "      <td>21.0</td>\n",
       "      <td>smart</td>\n",
       "      <td>50</td>\n",
       "      <td>15360</td>\n",
       "      <td>500</td>\n",
       "      <td>550</td>\n",
       "      <td>200</td>\n",
       "      <td>3</td>\n",
       "      <td>3</td>\n",
       "      <td>0.0</td>\n",
       "      <td>1200.0</td>\n",
       "    </tr>\n",
       "    <tr>\n",
       "      <th>3210</th>\n",
       "      <td>1499</td>\n",
       "      <td>9</td>\n",
       "      <td>8.0</td>\n",
       "      <td>70.0</td>\n",
       "      <td>11.0</td>\n",
       "      <td>2.0</td>\n",
       "      <td>smart</td>\n",
       "      <td>50</td>\n",
       "      <td>15360</td>\n",
       "      <td>500</td>\n",
       "      <td>550</td>\n",
       "      <td>200</td>\n",
       "      <td>3</td>\n",
       "      <td>3</td>\n",
       "      <td>0.0</td>\n",
       "      <td>0.0</td>\n",
       "    </tr>\n",
       "    <tr>\n",
       "      <th>3211</th>\n",
       "      <td>1499</td>\n",
       "      <td>10</td>\n",
       "      <td>44.0</td>\n",
       "      <td>449.0</td>\n",
       "      <td>48.0</td>\n",
       "      <td>18.0</td>\n",
       "      <td>smart</td>\n",
       "      <td>50</td>\n",
       "      <td>15360</td>\n",
       "      <td>500</td>\n",
       "      <td>550</td>\n",
       "      <td>200</td>\n",
       "      <td>3</td>\n",
       "      <td>3</td>\n",
       "      <td>0.0</td>\n",
       "      <td>600.0</td>\n",
       "    </tr>\n",
       "    <tr>\n",
       "      <th>3212</th>\n",
       "      <td>1499</td>\n",
       "      <td>11</td>\n",
       "      <td>62.0</td>\n",
       "      <td>612.0</td>\n",
       "      <td>59.0</td>\n",
       "      <td>18.0</td>\n",
       "      <td>smart</td>\n",
       "      <td>50</td>\n",
       "      <td>15360</td>\n",
       "      <td>500</td>\n",
       "      <td>550</td>\n",
       "      <td>200</td>\n",
       "      <td>3</td>\n",
       "      <td>3</td>\n",
       "      <td>27.0</td>\n",
       "      <td>600.0</td>\n",
       "    </tr>\n",
       "    <tr>\n",
       "      <th>3213</th>\n",
       "      <td>1499</td>\n",
       "      <td>12</td>\n",
       "      <td>56.0</td>\n",
       "      <td>492.0</td>\n",
       "      <td>66.0</td>\n",
       "      <td>13.0</td>\n",
       "      <td>smart</td>\n",
       "      <td>50</td>\n",
       "      <td>15360</td>\n",
       "      <td>500</td>\n",
       "      <td>550</td>\n",
       "      <td>200</td>\n",
       "      <td>3</td>\n",
       "      <td>3</td>\n",
       "      <td>48.0</td>\n",
       "      <td>0.0</td>\n",
       "    </tr>\n",
       "  </tbody>\n",
       "</table>\n",
       "<p>3214 rows × 16 columns</p>\n",
       "</div>"
      ],
      "text/plain": [
       "      user_id  month  call_count  call_sum  message_count  gb_used tariff  \\\n",
       "0        1000      5        17.0     159.0           22.0      3.0  ultra   \n",
       "1        1000      6        28.0     172.0           60.0     23.0  ultra   \n",
       "2        1000      7        41.0     340.0           75.0     14.0  ultra   \n",
       "3        1000      8        42.0     408.0           81.0     14.0  ultra   \n",
       "4        1000      9        46.0     466.0           57.0     15.0  ultra   \n",
       "...       ...    ...         ...       ...            ...      ...    ...   \n",
       "3209     1498     10        30.0     247.0           42.0     21.0  smart   \n",
       "3210     1499      9         8.0      70.0           11.0      2.0  smart   \n",
       "3211     1499     10        44.0     449.0           48.0     18.0  smart   \n",
       "3212     1499     11        62.0     612.0           59.0     18.0  smart   \n",
       "3213     1499     12        56.0     492.0           66.0     13.0  smart   \n",
       "\n",
       "      messages_included  mb_per_month_included  minutes_included  \\\n",
       "0                  1000                  30720              3000   \n",
       "1                  1000                  30720              3000   \n",
       "2                  1000                  30720              3000   \n",
       "3                  1000                  30720              3000   \n",
       "4                  1000                  30720              3000   \n",
       "...                 ...                    ...               ...   \n",
       "3209                 50                  15360               500   \n",
       "3210                 50                  15360               500   \n",
       "3211                 50                  15360               500   \n",
       "3212                 50                  15360               500   \n",
       "3213                 50                  15360               500   \n",
       "\n",
       "      rub_monthly_fee  rub_per_gb  rub_per_message  rub_per_minute  \\\n",
       "0                1950         150                1               1   \n",
       "1                1950         150                1               1   \n",
       "2                1950         150                1               1   \n",
       "3                1950         150                1               1   \n",
       "4                1950         150                1               1   \n",
       "...               ...         ...              ...             ...   \n",
       "3209              550         200                3               3   \n",
       "3210              550         200                3               3   \n",
       "3211              550         200                3               3   \n",
       "3212              550         200                3               3   \n",
       "3213              550         200                3               3   \n",
       "\n",
       "      message_profit  internet_profit  \n",
       "0                0.0              0.0  \n",
       "1                0.0              0.0  \n",
       "2                0.0              0.0  \n",
       "3                0.0              0.0  \n",
       "4                0.0              0.0  \n",
       "...              ...              ...  \n",
       "3209             0.0           1200.0  \n",
       "3210             0.0              0.0  \n",
       "3211             0.0            600.0  \n",
       "3212            27.0            600.0  \n",
       "3213            48.0              0.0  \n",
       "\n",
       "[3214 rows x 16 columns]"
      ]
     },
     "execution_count": 32,
     "metadata": {},
     "output_type": "execute_result"
    }
   ],
   "source": [
    "df_grouped['internet_profit'] = (df_grouped['gb_used'] - df_grouped['mb_per_month_included'] / 1024) * df_grouped['rub_per_gb']\n",
    "df_grouped.loc[df_grouped['internet_profit'] < 0,'internet_profit'] = 0\n",
    "df_grouped"
   ]
  },
  {
   "cell_type": "markdown",
   "metadata": {},
   "source": [
    "Расчитаем доход от звонков"
   ]
  },
  {
   "cell_type": "code",
   "execution_count": 33,
   "metadata": {
    "scrolled": true
   },
   "outputs": [
    {
     "data": {
      "text/html": [
       "<div>\n",
       "<style scoped>\n",
       "    .dataframe tbody tr th:only-of-type {\n",
       "        vertical-align: middle;\n",
       "    }\n",
       "\n",
       "    .dataframe tbody tr th {\n",
       "        vertical-align: top;\n",
       "    }\n",
       "\n",
       "    .dataframe thead th {\n",
       "        text-align: right;\n",
       "    }\n",
       "</style>\n",
       "<table border=\"1\" class=\"dataframe\">\n",
       "  <thead>\n",
       "    <tr style=\"text-align: right;\">\n",
       "      <th></th>\n",
       "      <th>user_id</th>\n",
       "      <th>month</th>\n",
       "      <th>call_count</th>\n",
       "      <th>call_sum</th>\n",
       "      <th>message_count</th>\n",
       "      <th>gb_used</th>\n",
       "      <th>tariff</th>\n",
       "      <th>messages_included</th>\n",
       "      <th>mb_per_month_included</th>\n",
       "      <th>minutes_included</th>\n",
       "      <th>rub_monthly_fee</th>\n",
       "      <th>rub_per_gb</th>\n",
       "      <th>rub_per_message</th>\n",
       "      <th>rub_per_minute</th>\n",
       "      <th>message_profit</th>\n",
       "      <th>internet_profit</th>\n",
       "      <th>calls_profit</th>\n",
       "    </tr>\n",
       "  </thead>\n",
       "  <tbody>\n",
       "    <tr>\n",
       "      <th>0</th>\n",
       "      <td>1000</td>\n",
       "      <td>5</td>\n",
       "      <td>17.0</td>\n",
       "      <td>159.0</td>\n",
       "      <td>22.0</td>\n",
       "      <td>3.0</td>\n",
       "      <td>ultra</td>\n",
       "      <td>1000</td>\n",
       "      <td>30720</td>\n",
       "      <td>3000</td>\n",
       "      <td>1950</td>\n",
       "      <td>150</td>\n",
       "      <td>1</td>\n",
       "      <td>1</td>\n",
       "      <td>0.0</td>\n",
       "      <td>0.0</td>\n",
       "      <td>0.0</td>\n",
       "    </tr>\n",
       "    <tr>\n",
       "      <th>1</th>\n",
       "      <td>1000</td>\n",
       "      <td>6</td>\n",
       "      <td>28.0</td>\n",
       "      <td>172.0</td>\n",
       "      <td>60.0</td>\n",
       "      <td>23.0</td>\n",
       "      <td>ultra</td>\n",
       "      <td>1000</td>\n",
       "      <td>30720</td>\n",
       "      <td>3000</td>\n",
       "      <td>1950</td>\n",
       "      <td>150</td>\n",
       "      <td>1</td>\n",
       "      <td>1</td>\n",
       "      <td>0.0</td>\n",
       "      <td>0.0</td>\n",
       "      <td>0.0</td>\n",
       "    </tr>\n",
       "    <tr>\n",
       "      <th>2</th>\n",
       "      <td>1000</td>\n",
       "      <td>7</td>\n",
       "      <td>41.0</td>\n",
       "      <td>340.0</td>\n",
       "      <td>75.0</td>\n",
       "      <td>14.0</td>\n",
       "      <td>ultra</td>\n",
       "      <td>1000</td>\n",
       "      <td>30720</td>\n",
       "      <td>3000</td>\n",
       "      <td>1950</td>\n",
       "      <td>150</td>\n",
       "      <td>1</td>\n",
       "      <td>1</td>\n",
       "      <td>0.0</td>\n",
       "      <td>0.0</td>\n",
       "      <td>0.0</td>\n",
       "    </tr>\n",
       "    <tr>\n",
       "      <th>3</th>\n",
       "      <td>1000</td>\n",
       "      <td>8</td>\n",
       "      <td>42.0</td>\n",
       "      <td>408.0</td>\n",
       "      <td>81.0</td>\n",
       "      <td>14.0</td>\n",
       "      <td>ultra</td>\n",
       "      <td>1000</td>\n",
       "      <td>30720</td>\n",
       "      <td>3000</td>\n",
       "      <td>1950</td>\n",
       "      <td>150</td>\n",
       "      <td>1</td>\n",
       "      <td>1</td>\n",
       "      <td>0.0</td>\n",
       "      <td>0.0</td>\n",
       "      <td>0.0</td>\n",
       "    </tr>\n",
       "    <tr>\n",
       "      <th>4</th>\n",
       "      <td>1000</td>\n",
       "      <td>9</td>\n",
       "      <td>46.0</td>\n",
       "      <td>466.0</td>\n",
       "      <td>57.0</td>\n",
       "      <td>15.0</td>\n",
       "      <td>ultra</td>\n",
       "      <td>1000</td>\n",
       "      <td>30720</td>\n",
       "      <td>3000</td>\n",
       "      <td>1950</td>\n",
       "      <td>150</td>\n",
       "      <td>1</td>\n",
       "      <td>1</td>\n",
       "      <td>0.0</td>\n",
       "      <td>0.0</td>\n",
       "      <td>0.0</td>\n",
       "    </tr>\n",
       "    <tr>\n",
       "      <th>...</th>\n",
       "      <td>...</td>\n",
       "      <td>...</td>\n",
       "      <td>...</td>\n",
       "      <td>...</td>\n",
       "      <td>...</td>\n",
       "      <td>...</td>\n",
       "      <td>...</td>\n",
       "      <td>...</td>\n",
       "      <td>...</td>\n",
       "      <td>...</td>\n",
       "      <td>...</td>\n",
       "      <td>...</td>\n",
       "      <td>...</td>\n",
       "      <td>...</td>\n",
       "      <td>...</td>\n",
       "      <td>...</td>\n",
       "      <td>...</td>\n",
       "    </tr>\n",
       "    <tr>\n",
       "      <th>3209</th>\n",
       "      <td>1498</td>\n",
       "      <td>10</td>\n",
       "      <td>30.0</td>\n",
       "      <td>247.0</td>\n",
       "      <td>42.0</td>\n",
       "      <td>21.0</td>\n",
       "      <td>smart</td>\n",
       "      <td>50</td>\n",
       "      <td>15360</td>\n",
       "      <td>500</td>\n",
       "      <td>550</td>\n",
       "      <td>200</td>\n",
       "      <td>3</td>\n",
       "      <td>3</td>\n",
       "      <td>0.0</td>\n",
       "      <td>1200.0</td>\n",
       "      <td>0.0</td>\n",
       "    </tr>\n",
       "    <tr>\n",
       "      <th>3210</th>\n",
       "      <td>1499</td>\n",
       "      <td>9</td>\n",
       "      <td>8.0</td>\n",
       "      <td>70.0</td>\n",
       "      <td>11.0</td>\n",
       "      <td>2.0</td>\n",
       "      <td>smart</td>\n",
       "      <td>50</td>\n",
       "      <td>15360</td>\n",
       "      <td>500</td>\n",
       "      <td>550</td>\n",
       "      <td>200</td>\n",
       "      <td>3</td>\n",
       "      <td>3</td>\n",
       "      <td>0.0</td>\n",
       "      <td>0.0</td>\n",
       "      <td>0.0</td>\n",
       "    </tr>\n",
       "    <tr>\n",
       "      <th>3211</th>\n",
       "      <td>1499</td>\n",
       "      <td>10</td>\n",
       "      <td>44.0</td>\n",
       "      <td>449.0</td>\n",
       "      <td>48.0</td>\n",
       "      <td>18.0</td>\n",
       "      <td>smart</td>\n",
       "      <td>50</td>\n",
       "      <td>15360</td>\n",
       "      <td>500</td>\n",
       "      <td>550</td>\n",
       "      <td>200</td>\n",
       "      <td>3</td>\n",
       "      <td>3</td>\n",
       "      <td>0.0</td>\n",
       "      <td>600.0</td>\n",
       "      <td>0.0</td>\n",
       "    </tr>\n",
       "    <tr>\n",
       "      <th>3212</th>\n",
       "      <td>1499</td>\n",
       "      <td>11</td>\n",
       "      <td>62.0</td>\n",
       "      <td>612.0</td>\n",
       "      <td>59.0</td>\n",
       "      <td>18.0</td>\n",
       "      <td>smart</td>\n",
       "      <td>50</td>\n",
       "      <td>15360</td>\n",
       "      <td>500</td>\n",
       "      <td>550</td>\n",
       "      <td>200</td>\n",
       "      <td>3</td>\n",
       "      <td>3</td>\n",
       "      <td>27.0</td>\n",
       "      <td>600.0</td>\n",
       "      <td>336.0</td>\n",
       "    </tr>\n",
       "    <tr>\n",
       "      <th>3213</th>\n",
       "      <td>1499</td>\n",
       "      <td>12</td>\n",
       "      <td>56.0</td>\n",
       "      <td>492.0</td>\n",
       "      <td>66.0</td>\n",
       "      <td>13.0</td>\n",
       "      <td>smart</td>\n",
       "      <td>50</td>\n",
       "      <td>15360</td>\n",
       "      <td>500</td>\n",
       "      <td>550</td>\n",
       "      <td>200</td>\n",
       "      <td>3</td>\n",
       "      <td>3</td>\n",
       "      <td>48.0</td>\n",
       "      <td>0.0</td>\n",
       "      <td>0.0</td>\n",
       "    </tr>\n",
       "  </tbody>\n",
       "</table>\n",
       "<p>3214 rows × 17 columns</p>\n",
       "</div>"
      ],
      "text/plain": [
       "      user_id  month  call_count  call_sum  message_count  gb_used tariff  \\\n",
       "0        1000      5        17.0     159.0           22.0      3.0  ultra   \n",
       "1        1000      6        28.0     172.0           60.0     23.0  ultra   \n",
       "2        1000      7        41.0     340.0           75.0     14.0  ultra   \n",
       "3        1000      8        42.0     408.0           81.0     14.0  ultra   \n",
       "4        1000      9        46.0     466.0           57.0     15.0  ultra   \n",
       "...       ...    ...         ...       ...            ...      ...    ...   \n",
       "3209     1498     10        30.0     247.0           42.0     21.0  smart   \n",
       "3210     1499      9         8.0      70.0           11.0      2.0  smart   \n",
       "3211     1499     10        44.0     449.0           48.0     18.0  smart   \n",
       "3212     1499     11        62.0     612.0           59.0     18.0  smart   \n",
       "3213     1499     12        56.0     492.0           66.0     13.0  smart   \n",
       "\n",
       "      messages_included  mb_per_month_included  minutes_included  \\\n",
       "0                  1000                  30720              3000   \n",
       "1                  1000                  30720              3000   \n",
       "2                  1000                  30720              3000   \n",
       "3                  1000                  30720              3000   \n",
       "4                  1000                  30720              3000   \n",
       "...                 ...                    ...               ...   \n",
       "3209                 50                  15360               500   \n",
       "3210                 50                  15360               500   \n",
       "3211                 50                  15360               500   \n",
       "3212                 50                  15360               500   \n",
       "3213                 50                  15360               500   \n",
       "\n",
       "      rub_monthly_fee  rub_per_gb  rub_per_message  rub_per_minute  \\\n",
       "0                1950         150                1               1   \n",
       "1                1950         150                1               1   \n",
       "2                1950         150                1               1   \n",
       "3                1950         150                1               1   \n",
       "4                1950         150                1               1   \n",
       "...               ...         ...              ...             ...   \n",
       "3209              550         200                3               3   \n",
       "3210              550         200                3               3   \n",
       "3211              550         200                3               3   \n",
       "3212              550         200                3               3   \n",
       "3213              550         200                3               3   \n",
       "\n",
       "      message_profit  internet_profit  calls_profit  \n",
       "0                0.0              0.0           0.0  \n",
       "1                0.0              0.0           0.0  \n",
       "2                0.0              0.0           0.0  \n",
       "3                0.0              0.0           0.0  \n",
       "4                0.0              0.0           0.0  \n",
       "...              ...              ...           ...  \n",
       "3209             0.0           1200.0           0.0  \n",
       "3210             0.0              0.0           0.0  \n",
       "3211             0.0            600.0           0.0  \n",
       "3212            27.0            600.0         336.0  \n",
       "3213            48.0              0.0           0.0  \n",
       "\n",
       "[3214 rows x 17 columns]"
      ]
     },
     "execution_count": 33,
     "metadata": {},
     "output_type": "execute_result"
    }
   ],
   "source": [
    "df_grouped['calls_profit'] = (df_grouped['call_sum'] - df_grouped['minutes_included']) * df_grouped['rub_per_minute']\n",
    "df_grouped.loc[df_grouped['calls_profit'] < 0,'calls_profit'] = 0\n",
    "df_grouped"
   ]
  },
  {
   "cell_type": "code",
   "execution_count": 34,
   "metadata": {
    "scrolled": true
   },
   "outputs": [
    {
     "data": {
      "text/html": [
       "<div>\n",
       "<style scoped>\n",
       "    .dataframe tbody tr th:only-of-type {\n",
       "        vertical-align: middle;\n",
       "    }\n",
       "\n",
       "    .dataframe tbody tr th {\n",
       "        vertical-align: top;\n",
       "    }\n",
       "\n",
       "    .dataframe thead th {\n",
       "        text-align: right;\n",
       "    }\n",
       "</style>\n",
       "<table border=\"1\" class=\"dataframe\">\n",
       "  <thead>\n",
       "    <tr style=\"text-align: right;\">\n",
       "      <th></th>\n",
       "      <th>user_id</th>\n",
       "      <th>month</th>\n",
       "      <th>call_count</th>\n",
       "      <th>call_sum</th>\n",
       "      <th>message_count</th>\n",
       "      <th>gb_used</th>\n",
       "      <th>tariff</th>\n",
       "      <th>messages_included</th>\n",
       "      <th>mb_per_month_included</th>\n",
       "      <th>minutes_included</th>\n",
       "      <th>rub_monthly_fee</th>\n",
       "      <th>rub_per_gb</th>\n",
       "      <th>rub_per_message</th>\n",
       "      <th>rub_per_minute</th>\n",
       "      <th>message_profit</th>\n",
       "      <th>internet_profit</th>\n",
       "      <th>calls_profit</th>\n",
       "      <th>profit</th>\n",
       "    </tr>\n",
       "  </thead>\n",
       "  <tbody>\n",
       "    <tr>\n",
       "      <th>0</th>\n",
       "      <td>1000</td>\n",
       "      <td>5</td>\n",
       "      <td>17.0</td>\n",
       "      <td>159.0</td>\n",
       "      <td>22.0</td>\n",
       "      <td>3.0</td>\n",
       "      <td>ultra</td>\n",
       "      <td>1000</td>\n",
       "      <td>30720</td>\n",
       "      <td>3000</td>\n",
       "      <td>1950</td>\n",
       "      <td>150</td>\n",
       "      <td>1</td>\n",
       "      <td>1</td>\n",
       "      <td>0.0</td>\n",
       "      <td>0.0</td>\n",
       "      <td>0.0</td>\n",
       "      <td>1950.0</td>\n",
       "    </tr>\n",
       "    <tr>\n",
       "      <th>1</th>\n",
       "      <td>1000</td>\n",
       "      <td>6</td>\n",
       "      <td>28.0</td>\n",
       "      <td>172.0</td>\n",
       "      <td>60.0</td>\n",
       "      <td>23.0</td>\n",
       "      <td>ultra</td>\n",
       "      <td>1000</td>\n",
       "      <td>30720</td>\n",
       "      <td>3000</td>\n",
       "      <td>1950</td>\n",
       "      <td>150</td>\n",
       "      <td>1</td>\n",
       "      <td>1</td>\n",
       "      <td>0.0</td>\n",
       "      <td>0.0</td>\n",
       "      <td>0.0</td>\n",
       "      <td>1950.0</td>\n",
       "    </tr>\n",
       "    <tr>\n",
       "      <th>2</th>\n",
       "      <td>1000</td>\n",
       "      <td>7</td>\n",
       "      <td>41.0</td>\n",
       "      <td>340.0</td>\n",
       "      <td>75.0</td>\n",
       "      <td>14.0</td>\n",
       "      <td>ultra</td>\n",
       "      <td>1000</td>\n",
       "      <td>30720</td>\n",
       "      <td>3000</td>\n",
       "      <td>1950</td>\n",
       "      <td>150</td>\n",
       "      <td>1</td>\n",
       "      <td>1</td>\n",
       "      <td>0.0</td>\n",
       "      <td>0.0</td>\n",
       "      <td>0.0</td>\n",
       "      <td>1950.0</td>\n",
       "    </tr>\n",
       "    <tr>\n",
       "      <th>3</th>\n",
       "      <td>1000</td>\n",
       "      <td>8</td>\n",
       "      <td>42.0</td>\n",
       "      <td>408.0</td>\n",
       "      <td>81.0</td>\n",
       "      <td>14.0</td>\n",
       "      <td>ultra</td>\n",
       "      <td>1000</td>\n",
       "      <td>30720</td>\n",
       "      <td>3000</td>\n",
       "      <td>1950</td>\n",
       "      <td>150</td>\n",
       "      <td>1</td>\n",
       "      <td>1</td>\n",
       "      <td>0.0</td>\n",
       "      <td>0.0</td>\n",
       "      <td>0.0</td>\n",
       "      <td>1950.0</td>\n",
       "    </tr>\n",
       "    <tr>\n",
       "      <th>4</th>\n",
       "      <td>1000</td>\n",
       "      <td>9</td>\n",
       "      <td>46.0</td>\n",
       "      <td>466.0</td>\n",
       "      <td>57.0</td>\n",
       "      <td>15.0</td>\n",
       "      <td>ultra</td>\n",
       "      <td>1000</td>\n",
       "      <td>30720</td>\n",
       "      <td>3000</td>\n",
       "      <td>1950</td>\n",
       "      <td>150</td>\n",
       "      <td>1</td>\n",
       "      <td>1</td>\n",
       "      <td>0.0</td>\n",
       "      <td>0.0</td>\n",
       "      <td>0.0</td>\n",
       "      <td>1950.0</td>\n",
       "    </tr>\n",
       "    <tr>\n",
       "      <th>...</th>\n",
       "      <td>...</td>\n",
       "      <td>...</td>\n",
       "      <td>...</td>\n",
       "      <td>...</td>\n",
       "      <td>...</td>\n",
       "      <td>...</td>\n",
       "      <td>...</td>\n",
       "      <td>...</td>\n",
       "      <td>...</td>\n",
       "      <td>...</td>\n",
       "      <td>...</td>\n",
       "      <td>...</td>\n",
       "      <td>...</td>\n",
       "      <td>...</td>\n",
       "      <td>...</td>\n",
       "      <td>...</td>\n",
       "      <td>...</td>\n",
       "      <td>...</td>\n",
       "    </tr>\n",
       "    <tr>\n",
       "      <th>3209</th>\n",
       "      <td>1498</td>\n",
       "      <td>10</td>\n",
       "      <td>30.0</td>\n",
       "      <td>247.0</td>\n",
       "      <td>42.0</td>\n",
       "      <td>21.0</td>\n",
       "      <td>smart</td>\n",
       "      <td>50</td>\n",
       "      <td>15360</td>\n",
       "      <td>500</td>\n",
       "      <td>550</td>\n",
       "      <td>200</td>\n",
       "      <td>3</td>\n",
       "      <td>3</td>\n",
       "      <td>0.0</td>\n",
       "      <td>1200.0</td>\n",
       "      <td>0.0</td>\n",
       "      <td>1750.0</td>\n",
       "    </tr>\n",
       "    <tr>\n",
       "      <th>3210</th>\n",
       "      <td>1499</td>\n",
       "      <td>9</td>\n",
       "      <td>8.0</td>\n",
       "      <td>70.0</td>\n",
       "      <td>11.0</td>\n",
       "      <td>2.0</td>\n",
       "      <td>smart</td>\n",
       "      <td>50</td>\n",
       "      <td>15360</td>\n",
       "      <td>500</td>\n",
       "      <td>550</td>\n",
       "      <td>200</td>\n",
       "      <td>3</td>\n",
       "      <td>3</td>\n",
       "      <td>0.0</td>\n",
       "      <td>0.0</td>\n",
       "      <td>0.0</td>\n",
       "      <td>550.0</td>\n",
       "    </tr>\n",
       "    <tr>\n",
       "      <th>3211</th>\n",
       "      <td>1499</td>\n",
       "      <td>10</td>\n",
       "      <td>44.0</td>\n",
       "      <td>449.0</td>\n",
       "      <td>48.0</td>\n",
       "      <td>18.0</td>\n",
       "      <td>smart</td>\n",
       "      <td>50</td>\n",
       "      <td>15360</td>\n",
       "      <td>500</td>\n",
       "      <td>550</td>\n",
       "      <td>200</td>\n",
       "      <td>3</td>\n",
       "      <td>3</td>\n",
       "      <td>0.0</td>\n",
       "      <td>600.0</td>\n",
       "      <td>0.0</td>\n",
       "      <td>1150.0</td>\n",
       "    </tr>\n",
       "    <tr>\n",
       "      <th>3212</th>\n",
       "      <td>1499</td>\n",
       "      <td>11</td>\n",
       "      <td>62.0</td>\n",
       "      <td>612.0</td>\n",
       "      <td>59.0</td>\n",
       "      <td>18.0</td>\n",
       "      <td>smart</td>\n",
       "      <td>50</td>\n",
       "      <td>15360</td>\n",
       "      <td>500</td>\n",
       "      <td>550</td>\n",
       "      <td>200</td>\n",
       "      <td>3</td>\n",
       "      <td>3</td>\n",
       "      <td>27.0</td>\n",
       "      <td>600.0</td>\n",
       "      <td>336.0</td>\n",
       "      <td>1513.0</td>\n",
       "    </tr>\n",
       "    <tr>\n",
       "      <th>3213</th>\n",
       "      <td>1499</td>\n",
       "      <td>12</td>\n",
       "      <td>56.0</td>\n",
       "      <td>492.0</td>\n",
       "      <td>66.0</td>\n",
       "      <td>13.0</td>\n",
       "      <td>smart</td>\n",
       "      <td>50</td>\n",
       "      <td>15360</td>\n",
       "      <td>500</td>\n",
       "      <td>550</td>\n",
       "      <td>200</td>\n",
       "      <td>3</td>\n",
       "      <td>3</td>\n",
       "      <td>48.0</td>\n",
       "      <td>0.0</td>\n",
       "      <td>0.0</td>\n",
       "      <td>598.0</td>\n",
       "    </tr>\n",
       "  </tbody>\n",
       "</table>\n",
       "<p>3214 rows × 18 columns</p>\n",
       "</div>"
      ],
      "text/plain": [
       "      user_id  month  call_count  call_sum  message_count  gb_used tariff  \\\n",
       "0        1000      5        17.0     159.0           22.0      3.0  ultra   \n",
       "1        1000      6        28.0     172.0           60.0     23.0  ultra   \n",
       "2        1000      7        41.0     340.0           75.0     14.0  ultra   \n",
       "3        1000      8        42.0     408.0           81.0     14.0  ultra   \n",
       "4        1000      9        46.0     466.0           57.0     15.0  ultra   \n",
       "...       ...    ...         ...       ...            ...      ...    ...   \n",
       "3209     1498     10        30.0     247.0           42.0     21.0  smart   \n",
       "3210     1499      9         8.0      70.0           11.0      2.0  smart   \n",
       "3211     1499     10        44.0     449.0           48.0     18.0  smart   \n",
       "3212     1499     11        62.0     612.0           59.0     18.0  smart   \n",
       "3213     1499     12        56.0     492.0           66.0     13.0  smart   \n",
       "\n",
       "      messages_included  mb_per_month_included  minutes_included  \\\n",
       "0                  1000                  30720              3000   \n",
       "1                  1000                  30720              3000   \n",
       "2                  1000                  30720              3000   \n",
       "3                  1000                  30720              3000   \n",
       "4                  1000                  30720              3000   \n",
       "...                 ...                    ...               ...   \n",
       "3209                 50                  15360               500   \n",
       "3210                 50                  15360               500   \n",
       "3211                 50                  15360               500   \n",
       "3212                 50                  15360               500   \n",
       "3213                 50                  15360               500   \n",
       "\n",
       "      rub_monthly_fee  rub_per_gb  rub_per_message  rub_per_minute  \\\n",
       "0                1950         150                1               1   \n",
       "1                1950         150                1               1   \n",
       "2                1950         150                1               1   \n",
       "3                1950         150                1               1   \n",
       "4                1950         150                1               1   \n",
       "...               ...         ...              ...             ...   \n",
       "3209              550         200                3               3   \n",
       "3210              550         200                3               3   \n",
       "3211              550         200                3               3   \n",
       "3212              550         200                3               3   \n",
       "3213              550         200                3               3   \n",
       "\n",
       "      message_profit  internet_profit  calls_profit  profit  \n",
       "0                0.0              0.0           0.0  1950.0  \n",
       "1                0.0              0.0           0.0  1950.0  \n",
       "2                0.0              0.0           0.0  1950.0  \n",
       "3                0.0              0.0           0.0  1950.0  \n",
       "4                0.0              0.0           0.0  1950.0  \n",
       "...              ...              ...           ...     ...  \n",
       "3209             0.0           1200.0           0.0  1750.0  \n",
       "3210             0.0              0.0           0.0   550.0  \n",
       "3211             0.0            600.0           0.0  1150.0  \n",
       "3212            27.0            600.0         336.0  1513.0  \n",
       "3213            48.0              0.0           0.0   598.0  \n",
       "\n",
       "[3214 rows x 18 columns]"
      ]
     },
     "execution_count": 34,
     "metadata": {},
     "output_type": "execute_result"
    }
   ],
   "source": [
    "df_grouped['profit'] = df_grouped['rub_monthly_fee'] +  df_grouped['message_profit'] + df_grouped['internet_profit'] + df_grouped['calls_profit']\n",
    "df_grouped.reset_index(drop=True)\n",
    "df_grouped"
   ]
  },
  {
   "cell_type": "markdown",
   "metadata": {},
   "source": [
    "## Анализ данных"
   ]
  },
  {
   "cell_type": "markdown",
   "metadata": {},
   "source": [
    "**Проанализируем звонки**"
   ]
  },
  {
   "cell_type": "markdown",
   "metadata": {},
   "source": [
    "Определим среднее, медиану  и стандартное отклонение"
   ]
  },
  {
   "cell_type": "code",
   "execution_count": 35,
   "metadata": {},
   "outputs": [],
   "source": [
    "smart_calls = df_grouped[df_grouped['tariff'] == 'smart']['call_sum']\n",
    "ultra_calls = df_grouped[df_grouped['tariff'] == 'ultra']['call_sum']"
   ]
  },
  {
   "cell_type": "code",
   "execution_count": 36,
   "metadata": {},
   "outputs": [
    {
     "data": {
      "text/plain": [
       "count    2229.000000\n",
       "mean      417.934948\n",
       "std       190.313730\n",
       "min         0.000000\n",
       "25%       282.000000\n",
       "50%       422.000000\n",
       "75%       545.000000\n",
       "max      1435.000000\n",
       "Name: call_sum, dtype: float64"
      ]
     },
     "execution_count": 36,
     "metadata": {},
     "output_type": "execute_result"
    }
   ],
   "source": [
    "smart_calls.describe()"
   ]
  },
  {
   "cell_type": "code",
   "execution_count": 37,
   "metadata": {
    "scrolled": true
   },
   "outputs": [
    {
     "data": {
      "text/plain": [
       "count     985.000000\n",
       "mean      526.623350\n",
       "std       317.606098\n",
       "min         0.000000\n",
       "25%       284.000000\n",
       "50%       518.000000\n",
       "75%       752.000000\n",
       "max      1673.000000\n",
       "Name: call_sum, dtype: float64"
      ]
     },
     "execution_count": 37,
     "metadata": {},
     "output_type": "execute_result"
    }
   ],
   "source": [
    "ultra_calls.describe()"
   ]
  },
  {
   "cell_type": "markdown",
   "metadata": {},
   "source": [
    "Построим гистограмы"
   ]
  },
  {
   "cell_type": "code",
   "execution_count": 69,
   "metadata": {},
   "outputs": [
    {
     "data": {
      "image/png": "[encoded data removed]",
      "text/plain": [
       "<Figure size 432x288 with 1 Axes>"
      ]
     },
     "metadata": {
      "needs_background": "light"
     },
     "output_type": "display_data"
    }
   ],
   "source": [
    "smart_calls.hist(bins=30, label='smart')\n",
    "ultra_calls.hist(bins=30, alpha=0.5, label='ultra')\n",
    "plt.legend()\n",
    "plt.title('Длительность звонков, мин.')\n",
    "plt.show()"
   ]
  },
  {
   "cell_type": "markdown",
   "metadata": {},
   "source": [
    "Посчитаем дисперсию"
   ]
  },
  {
   "cell_type": "code",
   "execution_count": 39,
   "metadata": {
    "scrolled": true
   },
   "outputs": [
    {
     "data": {
      "text/plain": [
       "36203.06665209469"
      ]
     },
     "execution_count": 39,
     "metadata": {},
     "output_type": "execute_result"
    }
   ],
   "source": [
    "np.var(smart_calls)"
   ]
  },
  {
   "cell_type": "code",
   "execution_count": 40,
   "metadata": {},
   "outputs": [
    {
     "data": {
      "text/plain": [
       "100771.2236172022"
      ]
     },
     "execution_count": 40,
     "metadata": {},
     "output_type": "execute_result"
    }
   ],
   "source": [
    "np.var(ultra_calls)"
   ]
  },
  {
   "cell_type": "markdown",
   "metadata": {},
   "source": [
    "**Вывод: Звонки**<br>\n",
    "Распределение продолжительности звонков для тарифа smart скошено влево (среднее меньше медианы)\n",
    "Распределение продолжительности звонков для тарифа ultra скошено вправо (среднее больше медианы)\n",
    "Разброс значений для smart меньше чем для ultra (стандартное отклонение для smart  < стандартного отклонения для ultra).\n",
    "Клиенты тарифов smart чаще превышаю количество минут, заложенные тарифом"
   ]
  },
  {
   "cell_type": "code",
   "execution_count": 41,
   "metadata": {},
   "outputs": [
    {
     "data": {
      "text/html": [
       "<div>\n",
       "<style scoped>\n",
       "    .dataframe tbody tr th:only-of-type {\n",
       "        vertical-align: middle;\n",
       "    }\n",
       "\n",
       "    .dataframe tbody tr th {\n",
       "        vertical-align: top;\n",
       "    }\n",
       "\n",
       "    .dataframe thead tr th {\n",
       "        text-align: left;\n",
       "    }\n",
       "\n",
       "    .dataframe thead tr:last-of-type th {\n",
       "        text-align: right;\n",
       "    }\n",
       "</style>\n",
       "<table border=\"1\" class=\"dataframe\">\n",
       "  <thead>\n",
       "    <tr>\n",
       "      <th></th>\n",
       "      <th colspan=\"5\" halign=\"left\">mean</th>\n",
       "      <th colspan=\"5\" halign=\"left\">median</th>\n",
       "      <th colspan=\"5\" halign=\"left\">std</th>\n",
       "      <th colspan=\"5\" halign=\"left\">var</th>\n",
       "    </tr>\n",
       "    <tr>\n",
       "      <th></th>\n",
       "      <th>call_count</th>\n",
       "      <th>call_sum</th>\n",
       "      <th>gb_used</th>\n",
       "      <th>message_count</th>\n",
       "      <th>profit</th>\n",
       "      <th>call_count</th>\n",
       "      <th>call_sum</th>\n",
       "      <th>gb_used</th>\n",
       "      <th>message_count</th>\n",
       "      <th>profit</th>\n",
       "      <th>call_count</th>\n",
       "      <th>call_sum</th>\n",
       "      <th>gb_used</th>\n",
       "      <th>message_count</th>\n",
       "      <th>profit</th>\n",
       "      <th>call_count</th>\n",
       "      <th>call_sum</th>\n",
       "      <th>gb_used</th>\n",
       "      <th>message_count</th>\n",
       "      <th>profit</th>\n",
       "    </tr>\n",
       "    <tr>\n",
       "      <th>tariff</th>\n",
       "      <th></th>\n",
       "      <th></th>\n",
       "      <th></th>\n",
       "      <th></th>\n",
       "      <th></th>\n",
       "      <th></th>\n",
       "      <th></th>\n",
       "      <th></th>\n",
       "      <th></th>\n",
       "      <th></th>\n",
       "      <th></th>\n",
       "      <th></th>\n",
       "      <th></th>\n",
       "      <th></th>\n",
       "      <th></th>\n",
       "      <th></th>\n",
       "      <th></th>\n",
       "      <th></th>\n",
       "      <th></th>\n",
       "      <th></th>\n",
       "    </tr>\n",
       "  </thead>\n",
       "  <tbody>\n",
       "    <tr>\n",
       "      <th>smart</th>\n",
       "      <td>46.947510</td>\n",
       "      <td>417.934948</td>\n",
       "      <td>16.328847</td>\n",
       "      <td>33.384029</td>\n",
       "      <td>1289.973531</td>\n",
       "      <td>47.0</td>\n",
       "      <td>422.0</td>\n",
       "      <td>17.0</td>\n",
       "      <td>28.0</td>\n",
       "      <td>1023.0</td>\n",
       "      <td>21.039171</td>\n",
       "      <td>190.313730</td>\n",
       "      <td>5.747061</td>\n",
       "      <td>28.227876</td>\n",
       "      <td>818.404367</td>\n",
       "      <td>442.646705</td>\n",
       "      <td>36219.315784</td>\n",
       "      <td>33.028705</td>\n",
       "      <td>796.812958</td>\n",
       "      <td>669785.708006</td>\n",
       "    </tr>\n",
       "    <tr>\n",
       "      <th>ultra</th>\n",
       "      <td>59.236548</td>\n",
       "      <td>526.623350</td>\n",
       "      <td>19.494416</td>\n",
       "      <td>49.363452</td>\n",
       "      <td>2070.152284</td>\n",
       "      <td>58.0</td>\n",
       "      <td>518.0</td>\n",
       "      <td>19.0</td>\n",
       "      <td>38.0</td>\n",
       "      <td>1950.0</td>\n",
       "      <td>35.562722</td>\n",
       "      <td>317.606098</td>\n",
       "      <td>9.853511</td>\n",
       "      <td>47.804457</td>\n",
       "      <td>376.187114</td>\n",
       "      <td>1264.707199</td>\n",
       "      <td>100873.633397</td>\n",
       "      <td>97.091686</td>\n",
       "      <td>2285.266143</td>\n",
       "      <td>141516.745079</td>\n",
       "    </tr>\n",
       "  </tbody>\n",
       "</table>\n",
       "</div>"
      ],
      "text/plain": [
       "             mean                                                    \\\n",
       "       call_count    call_sum    gb_used message_count       profit   \n",
       "tariff                                                                \n",
       "smart   46.947510  417.934948  16.328847     33.384029  1289.973531   \n",
       "ultra   59.236548  526.623350  19.494416     49.363452  2070.152284   \n",
       "\n",
       "           median                                               std  \\\n",
       "       call_count call_sum gb_used message_count  profit call_count   \n",
       "tariff                                                                \n",
       "smart        47.0    422.0    17.0          28.0  1023.0  21.039171   \n",
       "ultra        58.0    518.0    19.0          38.0  1950.0  35.562722   \n",
       "\n",
       "                                                                var  \\\n",
       "          call_sum   gb_used message_count      profit   call_count   \n",
       "tariff                                                                \n",
       "smart   190.313730  5.747061     28.227876  818.404367   442.646705   \n",
       "ultra   317.606098  9.853511     47.804457  376.187114  1264.707199   \n",
       "\n",
       "                                                               \n",
       "             call_sum    gb_used message_count         profit  \n",
       "tariff                                                         \n",
       "smart    36219.315784  33.028705    796.812958  669785.708006  \n",
       "ultra   100873.633397  97.091686   2285.266143  141516.745079  "
      ]
     },
     "execution_count": 41,
     "metadata": {},
     "output_type": "execute_result"
    }
   ],
   "source": [
    "df_grouped.pivot_table(index='tariff', values=['call_count', 'call_sum', 'message_count', 'gb_used','profit'],aggfunc=['mean', 'median','std', 'var'])"
   ]
  },
  {
   "cell_type": "markdown",
   "metadata": {},
   "source": [
    "**Проанализруем сообщения**"
   ]
  },
  {
   "cell_type": "markdown",
   "metadata": {},
   "source": [
    "Определим среднее, медиану  и стандартное отклонение"
   ]
  },
  {
   "cell_type": "code",
   "execution_count": 42,
   "metadata": {},
   "outputs": [],
   "source": [
    "smart_msgs = df_grouped[df_grouped['tariff'] == 'smart']['message_count']\n",
    "ultra_msgs = df_grouped[df_grouped['tariff'] == 'ultra']['message_count']"
   ]
  },
  {
   "cell_type": "code",
   "execution_count": 43,
   "metadata": {},
   "outputs": [
    {
     "data": {
      "text/plain": [
       "count    2229.000000\n",
       "mean       33.384029\n",
       "std        28.227876\n",
       "min         0.000000\n",
       "25%        10.000000\n",
       "50%        28.000000\n",
       "75%        51.000000\n",
       "max       143.000000\n",
       "Name: message_count, dtype: float64"
      ]
     },
     "execution_count": 43,
     "metadata": {},
     "output_type": "execute_result"
    }
   ],
   "source": [
    "smart_msgs.describe()"
   ]
  },
  {
   "cell_type": "code",
   "execution_count": 44,
   "metadata": {},
   "outputs": [
    {
     "data": {
      "text/plain": [
       "count    985.000000\n",
       "mean      49.363452\n",
       "std       47.804457\n",
       "min        0.000000\n",
       "25%        6.000000\n",
       "50%       38.000000\n",
       "75%       79.000000\n",
       "max      224.000000\n",
       "Name: message_count, dtype: float64"
      ]
     },
     "execution_count": 44,
     "metadata": {},
     "output_type": "execute_result"
    }
   ],
   "source": [
    "ultra_msgs.describe()"
   ]
  },
  {
   "cell_type": "code",
   "execution_count": 45,
   "metadata": {},
   "outputs": [
    {
     "data": {
      "image/png": "[encoded data removed]",
      "text/plain": [
       "<Figure size 432x288 with 1 Axes>"
      ]
     },
     "metadata": {
      "needs_background": "light"
     },
     "output_type": "display_data"
    }
   ],
   "source": [
    "smart_msgs.hist(bins=20, label='smart')\n",
    "ultra_msgs.hist(bins=20, alpha=0.5, label='ultra')\n",
    "plt.legend()\n",
    "plt.title('Количество сообщений, шт')\n",
    "plt.show()\n"
   ]
  },
  {
   "cell_type": "markdown",
   "metadata": {},
   "source": [
    "Посчитаем дисперсию"
   ]
  },
  {
   "cell_type": "code",
   "execution_count": 46,
   "metadata": {
    "scrolled": true
   },
   "outputs": [
    {
     "data": {
      "text/plain": [
       "796.455482917076"
      ]
     },
     "execution_count": 46,
     "metadata": {},
     "output_type": "execute_result"
    }
   ],
   "source": [
    "np.var(smart_msgs)"
   ]
  },
  {
   "cell_type": "code",
   "execution_count": 47,
   "metadata": {},
   "outputs": [
    {
     "data": {
      "text/plain": [
       "2282.9460753948824"
      ]
     },
     "execution_count": 47,
     "metadata": {},
     "output_type": "execute_result"
    }
   ],
   "source": [
    "np.var(ultra_msgs)"
   ]
  },
  {
   "cell_type": "markdown",
   "metadata": {},
   "source": [
    "**Вывод: Сообщения**<br>\n",
    "Распределение количества сообщений для тарифов smart и ultra скошено вправо (среднее больше медианы)\n",
    "Разброс значений для smart меньше чем для ultra (стандартное отклонение для smart  < стандартного отклонения для ultra).\n",
    "Пользователи тарифов smart чаще превышаю количество сообщений, предусмотренных тарифом, чем пользователи тарифа ultra"
   ]
  },
  {
   "cell_type": "markdown",
   "metadata": {},
   "source": [
    "**Проанализруем объем интернет трафика**"
   ]
  },
  {
   "cell_type": "markdown",
   "metadata": {},
   "source": [
    "Определим среднее, медиану и стандартное отклонение"
   ]
  },
  {
   "cell_type": "code",
   "execution_count": 48,
   "metadata": {},
   "outputs": [],
   "source": [
    "smart_internet = df_grouped[df_grouped['tariff'] == 'smart']['gb_used']\n",
    "ultra_internet = df_grouped[df_grouped['tariff'] == 'ultra']['gb_used']"
   ]
  },
  {
   "cell_type": "code",
   "execution_count": 49,
   "metadata": {
    "scrolled": true
   },
   "outputs": [
    {
     "data": {
      "text/plain": [
       "count    2229.000000\n",
       "mean       16.328847\n",
       "std         5.747061\n",
       "min         0.000000\n",
       "25%        13.000000\n",
       "50%        17.000000\n",
       "75%        20.000000\n",
       "max        38.000000\n",
       "Name: gb_used, dtype: float64"
      ]
     },
     "execution_count": 49,
     "metadata": {},
     "output_type": "execute_result"
    }
   ],
   "source": [
    "smart_internet.describe()"
   ]
  },
  {
   "cell_type": "code",
   "execution_count": 50,
   "metadata": {
    "scrolled": true
   },
   "outputs": [
    {
     "data": {
      "text/plain": [
       "count    985.000000\n",
       "mean      19.494416\n",
       "std        9.853511\n",
       "min        0.000000\n",
       "25%       12.000000\n",
       "50%       19.000000\n",
       "75%       27.000000\n",
       "max       49.000000\n",
       "Name: gb_used, dtype: float64"
      ]
     },
     "execution_count": 50,
     "metadata": {},
     "output_type": "execute_result"
    }
   ],
   "source": [
    "ultra_internet.describe()"
   ]
  },
  {
   "cell_type": "code",
   "execution_count": 51,
   "metadata": {},
   "outputs": [
    {
     "data": {
      "image/png": "[encoded data removed]",
      "text/plain": [
       "<Figure size 432x288 with 1 Axes>"
      ]
     },
     "metadata": {
      "needs_background": "light"
     },
     "output_type": "display_data"
    }
   ],
   "source": [
    "smart_internet.hist(bins=30, label='smart')\n",
    "ultra_internet.hist(bins=30, alpha=0.5, label='ultra')\n",
    "plt.legend()\n",
    "plt.title('Использование интернета, Gb')\n",
    "plt.show()"
   ]
  },
  {
   "cell_type": "markdown",
   "metadata": {},
   "source": [
    "Посчитаем дисперсию"
   ]
  },
  {
   "cell_type": "code",
   "execution_count": 52,
   "metadata": {},
   "outputs": [
    {
     "data": {
      "text/plain": [
       "33.013887454837445"
      ]
     },
     "execution_count": 52,
     "metadata": {},
     "output_type": "execute_result"
    }
   ],
   "source": [
    "np.var(smart_internet)"
   ]
  },
  {
   "cell_type": "code",
   "execution_count": 53,
   "metadata": {},
   "outputs": [
    {
     "data": {
      "text/plain": [
       "96.99311602978692"
      ]
     },
     "execution_count": 53,
     "metadata": {},
     "output_type": "execute_result"
    }
   ],
   "source": [
    "np.var(ultra_internet)"
   ]
  },
  {
   "cell_type": "markdown",
   "metadata": {},
   "source": [
    "**Вывод: Интернет трафик**<br>\n",
    "Распределение объемаиспользуемого трафика практически не скошено (среднее совпадает с медианой)\n",
    "Разброс значений для smart меньше чем для ultra (стандартное отклонение для smart  < стандартного отклонения для ultra).\n",
    "Пользователи тарифа smart, чаще превышают объем интернета, предусмотренный тарифами, чем пользователи тарифа ultra."
   ]
  },
  {
   "cell_type": "markdown",
   "metadata": {},
   "source": [
    "**Проанализруем выручку**"
   ]
  },
  {
   "cell_type": "code",
   "execution_count": 54,
   "metadata": {},
   "outputs": [],
   "source": [
    "smart_profit = df_grouped[df_grouped['tariff'] == 'smart'].groupby('user_id')['profit'].sum()\n",
    "ultra_profit = df_grouped[df_grouped['tariff'] == 'ultra'].groupby('user_id')['profit'].sum()"
   ]
  },
  {
   "cell_type": "code",
   "execution_count": 55,
   "metadata": {
    "scrolled": true
   },
   "outputs": [
    {
     "data": {
      "text/plain": [
       "count      350.000000\n",
       "mean      8215.288571\n",
       "std       5404.259451\n",
       "min        550.000000\n",
       "25%       4191.250000\n",
       "50%       7259.500000\n",
       "75%      11199.500000\n",
       "max      28351.000000\n",
       "Name: profit, dtype: float64"
      ]
     },
     "execution_count": 55,
     "metadata": {},
     "output_type": "execute_result"
    }
   ],
   "source": [
    "smart_profit.describe()"
   ]
  },
  {
   "cell_type": "code",
   "execution_count": 56,
   "metadata": {},
   "outputs": [
    {
     "data": {
      "text/plain": [
       "count      148.000000\n",
       "mean     13777.702703\n",
       "std       6867.299729\n",
       "min       1950.000000\n",
       "25%       7800.000000\n",
       "50%      13725.000000\n",
       "75%      19500.000000\n",
       "max      32400.000000\n",
       "Name: profit, dtype: float64"
      ]
     },
     "execution_count": 56,
     "metadata": {},
     "output_type": "execute_result"
    }
   ],
   "source": [
    "ultra_profit.describe()"
   ]
  },
  {
   "cell_type": "code",
   "execution_count": 57,
   "metadata": {
    "scrolled": true
   },
   "outputs": [
    {
     "data": {
      "image/png": "[encoded data removed]",
      "text/plain": [
       "<Figure size 432x288 with 1 Axes>"
      ]
     },
     "metadata": {
      "needs_background": "light"
     },
     "output_type": "display_data"
    }
   ],
   "source": [
    "smart_profit.hist(bins=20, label='smart')\n",
    "ultra_profit.hist(bins=20, alpha=0.5, label='ultra')\n",
    "plt.legend()\n",
    "plt.title('Длительность звонков, мин.')\n",
    "plt.show()"
   ]
  },
  {
   "cell_type": "markdown",
   "metadata": {},
   "source": [
    "Медианное и среднее значение дохода у тарифа ultra, больше чем у тарифа smart"
   ]
  },
  {
   "cell_type": "code",
   "execution_count": 58,
   "metadata": {},
   "outputs": [
    {
     "data": {
      "text/html": [
       "<div>\n",
       "<style scoped>\n",
       "    .dataframe tbody tr th:only-of-type {\n",
       "        vertical-align: middle;\n",
       "    }\n",
       "\n",
       "    .dataframe tbody tr th {\n",
       "        vertical-align: top;\n",
       "    }\n",
       "\n",
       "    .dataframe thead th {\n",
       "        text-align: right;\n",
       "    }\n",
       "</style>\n",
       "<table border=\"1\" class=\"dataframe\">\n",
       "  <thead>\n",
       "    <tr style=\"text-align: right;\">\n",
       "      <th></th>\n",
       "      <th>call_sum</th>\n",
       "      <th>message_count</th>\n",
       "      <th>gb_used</th>\n",
       "    </tr>\n",
       "    <tr>\n",
       "      <th>user_id</th>\n",
       "      <th></th>\n",
       "      <th></th>\n",
       "      <th></th>\n",
       "    </tr>\n",
       "  </thead>\n",
       "  <tbody>\n",
       "    <tr>\n",
       "      <th>1000</th>\n",
       "      <td>2566.0</td>\n",
       "      <td>496.0</td>\n",
       "      <td>109.0</td>\n",
       "    </tr>\n",
       "    <tr>\n",
       "      <th>1001</th>\n",
       "      <td>844.0</td>\n",
       "      <td>0.0</td>\n",
       "      <td>32.0</td>\n",
       "    </tr>\n",
       "    <tr>\n",
       "      <th>1002</th>\n",
       "      <td>1517.0</td>\n",
       "      <td>70.0</td>\n",
       "      <td>117.0</td>\n",
       "    </tr>\n",
       "    <tr>\n",
       "      <th>1003</th>\n",
       "      <td>3822.0</td>\n",
       "      <td>380.0</td>\n",
       "      <td>59.0</td>\n",
       "    </tr>\n",
       "    <tr>\n",
       "      <th>1004</th>\n",
       "      <td>987.0</td>\n",
       "      <td>1192.0</td>\n",
       "      <td>150.0</td>\n",
       "    </tr>\n",
       "    <tr>\n",
       "      <th>...</th>\n",
       "      <td>...</td>\n",
       "      <td>...</td>\n",
       "      <td>...</td>\n",
       "    </tr>\n",
       "    <tr>\n",
       "      <th>1495</th>\n",
       "      <td>3920.0</td>\n",
       "      <td>340.0</td>\n",
       "      <td>127.0</td>\n",
       "    </tr>\n",
       "    <tr>\n",
       "      <th>1496</th>\n",
       "      <td>5984.0</td>\n",
       "      <td>468.0</td>\n",
       "      <td>270.0</td>\n",
       "    </tr>\n",
       "    <tr>\n",
       "      <th>1497</th>\n",
       "      <td>1406.0</td>\n",
       "      <td>51.0</td>\n",
       "      <td>46.0</td>\n",
       "    </tr>\n",
       "    <tr>\n",
       "      <th>1498</th>\n",
       "      <td>1293.0</td>\n",
       "      <td>168.0</td>\n",
       "      <td>75.0</td>\n",
       "    </tr>\n",
       "    <tr>\n",
       "      <th>1499</th>\n",
       "      <td>1623.0</td>\n",
       "      <td>184.0</td>\n",
       "      <td>51.0</td>\n",
       "    </tr>\n",
       "  </tbody>\n",
       "</table>\n",
       "<p>498 rows × 3 columns</p>\n",
       "</div>"
      ],
      "text/plain": [
       "         call_sum  message_count  gb_used\n",
       "user_id                                  \n",
       "1000       2566.0          496.0    109.0\n",
       "1001        844.0            0.0     32.0\n",
       "1002       1517.0           70.0    117.0\n",
       "1003       3822.0          380.0     59.0\n",
       "1004        987.0         1192.0    150.0\n",
       "...           ...            ...      ...\n",
       "1495       3920.0          340.0    127.0\n",
       "1496       5984.0          468.0    270.0\n",
       "1497       1406.0           51.0     46.0\n",
       "1498       1293.0          168.0     75.0\n",
       "1499       1623.0          184.0     51.0\n",
       "\n",
       "[498 rows x 3 columns]"
      ]
     },
     "execution_count": 58,
     "metadata": {},
     "output_type": "execute_result"
    }
   ],
   "source": [
    "df_users_grouped = df_grouped.groupby('user_id')[['call_sum','message_count', 'gb_used']].sum()\n",
    "df_users_grouped"
   ]
  },
  {
   "cell_type": "markdown",
   "metadata": {},
   "source": [
    "Процент пользователей, которые исользуют звонки:"
   ]
  },
  {
   "cell_type": "code",
   "execution_count": 59,
   "metadata": {},
   "outputs": [
    {
     "data": {
      "text/plain": [
       "0.9879518072289156"
      ]
     },
     "execution_count": 59,
     "metadata": {},
     "output_type": "execute_result"
    }
   ],
   "source": [
    "len(df_users_grouped[df_users_grouped['call_sum'] > 0]) / len(df_users_grouped)"
   ]
  },
  {
   "cell_type": "markdown",
   "metadata": {},
   "source": [
    "Процент пользователей, которые исользуют интернет:"
   ]
  },
  {
   "cell_type": "code",
   "execution_count": 60,
   "metadata": {
    "scrolled": true
   },
   "outputs": [
    {
     "data": {
      "text/plain": [
       "0.9979919678714859"
      ]
     },
     "execution_count": 60,
     "metadata": {},
     "output_type": "execute_result"
    }
   ],
   "source": [
    "len(df_users_grouped[df_users_grouped['gb_used'] > 0]) / len(df_users_grouped)"
   ]
  },
  {
   "cell_type": "markdown",
   "metadata": {},
   "source": [
    "Процент пользователей, которые исользуют сообщения:"
   ]
  },
  {
   "cell_type": "code",
   "execution_count": 61,
   "metadata": {},
   "outputs": [
    {
     "data": {
      "text/plain": [
       "0.8554216867469879"
      ]
     },
     "execution_count": 61,
     "metadata": {},
     "output_type": "execute_result"
    }
   ],
   "source": [
    "len(df_users_grouped[df_users_grouped['message_count'] > 0]) / len(df_users_grouped)"
   ]
  },
  {
   "cell_type": "markdown",
   "metadata": {},
   "source": [
    "Меньше всего пользуются смс-сообщениями."
   ]
  },
  {
   "cell_type": "markdown",
   "metadata": {},
   "source": [
    "## Проверка гипотез"
   ]
  },
  {
   "cell_type": "markdown",
   "metadata": {},
   "source": [
    "**Проверим, гипотезу, что средняя выручка пользователей тарифов «Ультра» и «Смарт» совпадает**"
   ]
  },
  {
   "cell_type": "code",
   "execution_count": 62,
   "metadata": {
    "scrolled": true
   },
   "outputs": [],
   "source": [
    "smart_profit = df_grouped[df_grouped['tariff'] == 'smart'].groupby('user_id')['profit'].sum()"
   ]
  },
  {
   "cell_type": "code",
   "execution_count": 63,
   "metadata": {},
   "outputs": [],
   "source": [
    "ultra_profit = df_grouped[df_grouped['tariff'] == 'ultra'].groupby('user_id')['profit'].sum()"
   ]
  },
  {
   "cell_type": "code",
   "execution_count": 64,
   "metadata": {},
   "outputs": [
    {
     "name": "stdout",
     "output_type": "stream",
     "text": [
      "p-значение: 4.1988922393814165e-16\n",
      "Отвергаем нулевую гипотезу\n"
     ]
    }
   ],
   "source": [
    "alpha = .05 # критический уровень статистической значимости\n",
    "# если p-value окажется меньше него - отвергнем гипотезу\n",
    "\n",
    "results = st.ttest_ind(\n",
    "    smart_profit, \n",
    "    ultra_profit,\n",
    "    equal_var = False)\n",
    "\n",
    "print('p-значение:', results.pvalue)\n",
    "\n",
    "if results.pvalue < alpha:\n",
    "    print(\"Отвергаем нулевую гипотезу\")\n",
    "else:\n",
    "    print(\"Не получилось отвергнуть нулевую гипотезу\")\n"
   ]
  },
  {
   "cell_type": "markdown",
   "metadata": {},
   "source": [
    "Т.к. p-значение ниже статистической значимости, то нулевую гипотезу отвергаем, получается, что средняя выручка пользователей тарифов \"Ультра\" и \"Смарт\" различаются."
   ]
  },
  {
   "cell_type": "markdown",
   "metadata": {},
   "source": [
    "**Проверим гипотезу: средняя выручка пользователей из Москвы не отличается от выручки пользователей из других регионов.**"
   ]
  },
  {
   "cell_type": "markdown",
   "metadata": {},
   "source": [
    "Нулевая гипотеза: средняя выручка пользователей из Москвы не отличается от выручки пользователей из других регионов. <br>\n",
    "Альтернативаня гипотеза: средняя выручка пользователей из Москвы отличается от выручки пользователей из других регионов."
   ]
  },
  {
   "cell_type": "code",
   "execution_count": 65,
   "metadata": {},
   "outputs": [],
   "source": [
    "df_grouped = df_grouped.merge(df_users[['user_id','city']], on='user_id', how='left')"
   ]
  },
  {
   "cell_type": "code",
   "execution_count": 66,
   "metadata": {},
   "outputs": [],
   "source": [
    "moscow = df_grouped[df_grouped['city'] == 'Москва']['profit']"
   ]
  },
  {
   "cell_type": "code",
   "execution_count": 67,
   "metadata": {},
   "outputs": [],
   "source": [
    "other_city = df_grouped[df_grouped['city'] != 'Москва']['profit']"
   ]
  },
  {
   "cell_type": "code",
   "execution_count": 68,
   "metadata": {
    "scrolled": true
   },
   "outputs": [
    {
     "name": "stdout",
     "output_type": "stream",
     "text": [
      "p-значение: 0.5257376663729298\n",
      "Не получилось отвергнуть нулевую гипотезу\n"
     ]
    }
   ],
   "source": [
    "alpha = .05 # критический уровень статистической значимости\n",
    "# если p-value окажется меньше него - отвергнем гипотезу\n",
    "\n",
    "results = st.ttest_ind(\n",
    "    moscow, \n",
    "    other_city,\n",
    "    equal_var = False)\n",
    "\n",
    "print('p-значение:', results.pvalue)\n",
    "\n",
    "if results.pvalue < alpha:\n",
    "    print(\"Отвергаем нулевую гипотезу\")\n",
    "else:\n",
    "    print(\"Не получилось отвергнуть нулевую гипотезу\")"
   ]
  },
  {
   "cell_type": "markdown",
   "metadata": {},
   "source": [
    "Т.к. p-значение больше статистической значимости, то нулевую гипотезу не получилось отвергнуть, получается, что средняя выручка пользователей из Москвы не отличается от выручки пользователей из других регионов."
   ]
  },
  {
   "cell_type": "markdown",
   "metadata": {},
   "source": [
    "## Вывод"
   ]
  },
  {
   "cell_type": "markdown",
   "metadata": {},
   "source": [
    "Cредняя выручка клиентов с тарифом smart и ultra различается (1300 и 2100 соответсвенно).<br>\n",
    "\n",
    "Пользователи тарифов smart чаще используют минуты, сообщения и интернет, сверх предусмотренного тарифом, чем пользователи тарифа ultra: при абонентской плате 500 рублей, клиенты в среднем переплаичивают 800 рублей за превышение лимитов.\n",
    "\n",
    "Выручка тарифа ultra больше выручки тарифа ultra, но для того чтобы оценить какой из тарифов в целом более выгодный нам не хватает информации о том, каким тарифом пользуются чаще - доля клиентов, пользующихся тарифом ultra, от общего числа клиентов, может оказаться недостаточно большой, в этом случае из-за популярности тарифа smart, тариф smart может оказаться более выгодным.  "
   ]
  }
 ],
 "metadata": {
  "ExecuteTimeLog": [
   {
    "duration": 3,
    "start_time": "2022-07-31T11:57:33.016Z"
   },
   {
    "duration": 343,
    "start_time": "2022-07-31T11:58:25.416Z"
   },
   {
    "duration": 236,
    "start_time": "2022-07-31T11:59:14.116Z"
   },
   {
    "duration": 572,
    "start_time": "2022-07-31T12:00:46.233Z"
   },
   {
    "duration": 719,
    "start_time": "2022-07-31T12:02:01.497Z"
   },
   {
    "duration": 424,
    "start_time": "2022-07-31T12:02:04.372Z"
   },
   {
    "duration": 68,
    "start_time": "2022-07-31T12:02:53.040Z"
   },
   {
    "duration": 27,
    "start_time": "2022-07-31T12:02:56.445Z"
   },
   {
    "duration": 11,
    "start_time": "2022-07-31T12:03:13.538Z"
   },
   {
    "duration": 8,
    "start_time": "2022-07-31T12:03:55.175Z"
   },
   {
    "duration": 24,
    "start_time": "2022-07-31T12:04:06.833Z"
   },
   {
    "duration": 8,
    "start_time": "2022-07-31T12:04:38.176Z"
   },
   {
    "duration": 25,
    "start_time": "2022-07-31T12:04:42.572Z"
   },
   {
    "duration": 7,
    "start_time": "2022-07-31T12:05:52.912Z"
   },
   {
    "duration": 13,
    "start_time": "2022-07-31T12:05:57.073Z"
   },
   {
    "duration": 23,
    "start_time": "2022-07-31T12:06:29.364Z"
   },
   {
    "duration": 35,
    "start_time": "2022-07-31T12:06:51.951Z"
   },
   {
    "duration": 10,
    "start_time": "2022-07-31T12:07:13.196Z"
   },
   {
    "duration": 18,
    "start_time": "2022-07-31T12:07:33.515Z"
   },
   {
    "duration": 19,
    "start_time": "2022-07-31T12:07:52.256Z"
   },
   {
    "duration": 6,
    "start_time": "2022-07-31T12:08:14.986Z"
   },
   {
    "duration": 8,
    "start_time": "2022-07-31T12:08:29.833Z"
   },
   {
    "duration": 12,
    "start_time": "2022-07-31T12:09:26.720Z"
   },
   {
    "duration": 10,
    "start_time": "2022-07-31T12:09:52.346Z"
   },
   {
    "duration": 10,
    "start_time": "2022-07-31T12:09:58.183Z"
   },
   {
    "duration": 5,
    "start_time": "2022-07-31T12:10:24.081Z"
   },
   {
    "duration": 6,
    "start_time": "2022-07-31T12:10:30.185Z"
   },
   {
    "duration": 12,
    "start_time": "2022-07-31T12:10:59.478Z"
   },
   {
    "duration": 5,
    "start_time": "2022-07-31T12:11:57.711Z"
   },
   {
    "duration": 10,
    "start_time": "2022-07-31T12:12:16.354Z"
   },
   {
    "duration": 4,
    "start_time": "2022-07-31T12:13:55.430Z"
   },
   {
    "duration": 12,
    "start_time": "2022-07-31T12:14:32.317Z"
   },
   {
    "duration": 5,
    "start_time": "2022-07-31T12:14:52.111Z"
   },
   {
    "duration": 6,
    "start_time": "2022-07-31T12:25:20.147Z"
   },
   {
    "duration": 11,
    "start_time": "2022-07-31T12:25:23.537Z"
   },
   {
    "duration": 5,
    "start_time": "2022-07-31T12:26:17.156Z"
   },
   {
    "duration": 4,
    "start_time": "2022-07-31T12:26:24.017Z"
   },
   {
    "duration": 11,
    "start_time": "2022-07-31T12:26:33.520Z"
   },
   {
    "duration": 6,
    "start_time": "2022-07-31T12:26:51.139Z"
   },
   {
    "duration": 25,
    "start_time": "2022-07-31T12:27:08.386Z"
   },
   {
    "duration": 12,
    "start_time": "2022-07-31T12:27:51.143Z"
   },
   {
    "duration": 30,
    "start_time": "2022-07-31T12:28:16.417Z"
   },
   {
    "duration": 6,
    "start_time": "2022-07-31T12:28:34.948Z"
   },
   {
    "duration": 9,
    "start_time": "2022-07-31T12:28:44.420Z"
   },
   {
    "duration": 12,
    "start_time": "2022-07-31T12:29:18.045Z"
   },
   {
    "duration": 37,
    "start_time": "2022-07-31T12:41:02.340Z"
   },
   {
    "duration": 22,
    "start_time": "2022-07-31T12:41:11.452Z"
   },
   {
    "duration": 18,
    "start_time": "2022-07-31T12:41:28.492Z"
   },
   {
    "duration": 68,
    "start_time": "2022-07-31T12:42:22.081Z"
   },
   {
    "duration": 16,
    "start_time": "2022-07-31T12:42:31.038Z"
   },
   {
    "duration": 862,
    "start_time": "2022-07-31T12:43:33.195Z"
   },
   {
    "duration": 917,
    "start_time": "2022-07-31T12:43:45.642Z"
   },
   {
    "duration": 38,
    "start_time": "2022-07-31T12:44:02.983Z"
   },
   {
    "duration": 37,
    "start_time": "2022-07-31T12:45:08.096Z"
   },
   {
    "duration": 72,
    "start_time": "2022-07-31T12:45:22.621Z"
   },
   {
    "duration": 35,
    "start_time": "2022-07-31T12:45:50.320Z"
   },
   {
    "duration": 25,
    "start_time": "2022-07-31T12:46:14.322Z"
   },
   {
    "duration": 16,
    "start_time": "2022-07-31T12:46:38.060Z"
   },
   {
    "duration": 24,
    "start_time": "2022-07-31T12:49:30.791Z"
   },
   {
    "duration": 21,
    "start_time": "2022-07-31T12:49:37.679Z"
   },
   {
    "duration": 23,
    "start_time": "2022-07-31T12:49:45.532Z"
   },
   {
    "duration": 25,
    "start_time": "2022-07-31T12:50:06.949Z"
   },
   {
    "duration": 15,
    "start_time": "2022-07-31T12:50:14.173Z"
   },
   {
    "duration": 5,
    "start_time": "2022-07-31T12:50:22.178Z"
   },
   {
    "duration": 5,
    "start_time": "2022-07-31T12:50:30.320Z"
   },
   {
    "duration": 40,
    "start_time": "2022-07-31T12:50:41.339Z"
   },
   {
    "duration": 6,
    "start_time": "2022-07-31T12:50:50.050Z"
   },
   {
    "duration": 5,
    "start_time": "2022-07-31T12:50:54.920Z"
   },
   {
    "duration": 14,
    "start_time": "2022-07-31T12:51:02.258Z"
   },
   {
    "duration": 21,
    "start_time": "2022-07-31T12:51:08.630Z"
   },
   {
    "duration": 24,
    "start_time": "2022-07-31T12:51:18.673Z"
   },
   {
    "duration": 7,
    "start_time": "2022-07-31T12:51:26.421Z"
   },
   {
    "duration": 5,
    "start_time": "2022-07-31T12:51:35.642Z"
   },
   {
    "duration": 380,
    "start_time": "2022-07-31T12:53:15.635Z"
   },
   {
    "duration": 486,
    "start_time": "2022-07-31T12:53:16.017Z"
   },
   {
    "duration": 79,
    "start_time": "2022-07-31T12:53:16.504Z"
   },
   {
    "duration": 8,
    "start_time": "2022-07-31T12:53:16.585Z"
   },
   {
    "duration": 6,
    "start_time": "2022-07-31T12:53:33.650Z"
   },
   {
    "duration": 16,
    "start_time": "2022-07-31T12:54:00.310Z"
   },
   {
    "duration": 12,
    "start_time": "2022-07-31T12:54:20.506Z"
   },
   {
    "duration": 2,
    "start_time": "2022-07-31T12:54:33.943Z"
   },
   {
    "duration": 433,
    "start_time": "2022-07-31T12:54:33.951Z"
   },
   {
    "duration": 55,
    "start_time": "2022-07-31T12:54:34.387Z"
   },
   {
    "duration": 11,
    "start_time": "2022-07-31T12:54:34.444Z"
   },
   {
    "duration": 9,
    "start_time": "2022-07-31T12:54:43.861Z"
   },
   {
    "duration": 430,
    "start_time": "2022-07-31T12:54:46.611Z"
   },
   {
    "duration": 62,
    "start_time": "2022-07-31T12:55:24.516Z"
   },
   {
    "duration": 11,
    "start_time": "2022-07-31T12:55:28.916Z"
   },
   {
    "duration": 17,
    "start_time": "2022-07-31T12:55:34.623Z"
   },
   {
    "duration": 93,
    "start_time": "2022-07-31T12:55:46.138Z"
   },
   {
    "duration": 27,
    "start_time": "2022-07-31T12:55:51.453Z"
   },
   {
    "duration": 22,
    "start_time": "2022-07-31T12:56:10.654Z"
   },
   {
    "duration": 3,
    "start_time": "2022-07-31T12:56:26.552Z"
   },
   {
    "duration": 447,
    "start_time": "2022-07-31T12:56:26.556Z"
   },
   {
    "duration": 77,
    "start_time": "2022-07-31T12:56:27.005Z"
   },
   {
    "duration": 11,
    "start_time": "2022-07-31T12:56:27.084Z"
   },
   {
    "duration": 15,
    "start_time": "2022-07-31T12:59:44.092Z"
   },
   {
    "duration": 11,
    "start_time": "2022-07-31T12:59:53.473Z"
   },
   {
    "duration": 14,
    "start_time": "2022-07-31T13:00:03.729Z"
   },
   {
    "duration": 7,
    "start_time": "2022-07-31T13:04:31.119Z"
   },
   {
    "duration": 25,
    "start_time": "2022-07-31T13:04:42.849Z"
   },
   {
    "duration": 2,
    "start_time": "2022-07-31T13:08:37.412Z"
   },
   {
    "duration": 2,
    "start_time": "2022-07-31T13:08:38.893Z"
   },
   {
    "duration": 1250,
    "start_time": "2022-07-31T13:10:58.676Z"
   },
   {
    "duration": 21,
    "start_time": "2022-07-31T13:11:34.594Z"
   },
   {
    "duration": 36,
    "start_time": "2022-07-31T13:11:38.284Z"
   },
   {
    "duration": 48,
    "start_time": "2022-07-31T13:11:41.415Z"
   },
   {
    "duration": 1235,
    "start_time": "2022-07-31T13:11:44.346Z"
   },
   {
    "duration": 54,
    "start_time": "2022-07-31T13:11:56.556Z"
   },
   {
    "duration": 54,
    "start_time": "2022-07-31T13:11:59.433Z"
   },
   {
    "duration": 7,
    "start_time": "2022-07-31T13:13:58.316Z"
   },
   {
    "duration": 8,
    "start_time": "2022-07-31T13:14:06.416Z"
   },
   {
    "duration": 3,
    "start_time": "2022-07-31T13:16:47.694Z"
   },
   {
    "duration": 4,
    "start_time": "2022-07-31T13:17:28.999Z"
   },
   {
    "duration": 5,
    "start_time": "2022-07-31T13:17:38.425Z"
   },
   {
    "duration": 3,
    "start_time": "2022-07-31T13:17:59.874Z"
   },
   {
    "duration": 466,
    "start_time": "2022-07-31T13:17:59.880Z"
   },
   {
    "duration": 83,
    "start_time": "2022-07-31T13:18:00.347Z"
   },
   {
    "duration": 13,
    "start_time": "2022-07-31T13:18:00.432Z"
   },
   {
    "duration": 29,
    "start_time": "2022-07-31T13:18:00.447Z"
   },
   {
    "duration": 33,
    "start_time": "2022-07-31T13:18:00.478Z"
   },
   {
    "duration": 75,
    "start_time": "2022-07-31T13:18:00.512Z"
   },
   {
    "duration": 3,
    "start_time": "2022-07-31T13:18:00.588Z"
   },
   {
    "duration": 1035,
    "start_time": "2022-07-31T13:18:00.593Z"
   },
   {
    "duration": 3,
    "start_time": "2022-07-31T13:18:19.336Z"
   },
   {
    "duration": 406,
    "start_time": "2022-07-31T13:18:19.345Z"
   },
   {
    "duration": 81,
    "start_time": "2022-07-31T13:18:19.752Z"
   },
   {
    "duration": 12,
    "start_time": "2022-07-31T13:18:19.835Z"
   },
   {
    "duration": 10,
    "start_time": "2022-07-31T13:18:19.864Z"
   },
   {
    "duration": 18,
    "start_time": "2022-07-31T13:18:19.876Z"
   },
   {
    "duration": 53,
    "start_time": "2022-07-31T13:18:19.895Z"
   },
   {
    "duration": 21,
    "start_time": "2022-07-31T13:18:19.950Z"
   },
   {
    "duration": 10,
    "start_time": "2022-07-31T13:18:19.973Z"
   },
   {
    "duration": 16,
    "start_time": "2022-07-31T13:18:25.721Z"
   },
   {
    "duration": 4,
    "start_time": "2022-07-31T13:18:39.438Z"
   },
   {
    "duration": 17,
    "start_time": "2022-07-31T13:18:41.266Z"
   },
   {
    "duration": 12,
    "start_time": "2022-07-31T13:23:40.473Z"
   },
   {
    "duration": 16,
    "start_time": "2022-07-31T13:24:46.966Z"
   },
   {
    "duration": 4,
    "start_time": "2022-07-31T13:26:24.828Z"
   },
   {
    "duration": 25,
    "start_time": "2022-07-31T13:26:38.548Z"
   },
   {
    "duration": 25,
    "start_time": "2022-07-31T13:27:44.858Z"
   },
   {
    "duration": 19,
    "start_time": "2022-07-31T13:28:12.608Z"
   },
   {
    "duration": 26,
    "start_time": "2022-07-31T13:29:53.546Z"
   },
   {
    "duration": 18,
    "start_time": "2022-07-31T13:38:50.615Z"
   },
   {
    "duration": 878,
    "start_time": "2022-07-31T13:40:48.029Z"
   },
   {
    "duration": 6,
    "start_time": "2022-07-31T13:41:02.638Z"
   },
   {
    "duration": 15,
    "start_time": "2022-07-31T13:45:03.910Z"
   },
   {
    "duration": 8,
    "start_time": "2022-07-31T13:45:25.057Z"
   },
   {
    "duration": 28,
    "start_time": "2022-07-31T13:45:34.390Z"
   },
   {
    "duration": 46,
    "start_time": "2022-07-31T13:47:34.673Z"
   },
   {
    "duration": 57,
    "start_time": "2022-07-31T13:50:34.018Z"
   },
   {
    "duration": 10,
    "start_time": "2022-07-31T13:53:05.986Z"
   },
   {
    "duration": 9,
    "start_time": "2022-07-31T13:53:58.725Z"
   },
   {
    "duration": 19,
    "start_time": "2022-07-31T13:54:22.127Z"
   },
   {
    "duration": 308,
    "start_time": "2022-07-31T13:56:18.439Z"
   },
   {
    "duration": 46,
    "start_time": "2022-08-03T08:22:05.431Z"
   },
   {
    "duration": 395,
    "start_time": "2022-08-03T08:22:10.425Z"
   },
   {
    "duration": 975,
    "start_time": "2022-08-03T08:22:10.822Z"
   },
   {
    "duration": 89,
    "start_time": "2022-08-03T08:22:11.799Z"
   },
   {
    "duration": 41,
    "start_time": "2022-08-03T08:22:11.890Z"
   },
   {
    "duration": 8,
    "start_time": "2022-08-03T08:22:11.933Z"
   },
   {
    "duration": 41,
    "start_time": "2022-08-03T08:22:11.943Z"
   },
   {
    "duration": 77,
    "start_time": "2022-08-03T08:22:11.985Z"
   },
   {
    "duration": 5,
    "start_time": "2022-08-03T08:22:12.064Z"
   },
   {
    "duration": 37,
    "start_time": "2022-08-03T08:22:12.070Z"
   },
   {
    "duration": 34,
    "start_time": "2022-08-03T08:22:12.109Z"
   },
   {
    "duration": 41,
    "start_time": "2022-08-03T08:22:12.145Z"
   },
   {
    "duration": 69,
    "start_time": "2022-08-03T08:22:12.188Z"
   },
   {
    "duration": 16,
    "start_time": "2022-08-03T08:22:12.259Z"
   },
   {
    "duration": 21,
    "start_time": "2022-08-03T08:22:12.276Z"
   },
   {
    "duration": 31,
    "start_time": "2022-08-03T08:33:49.320Z"
   },
   {
    "duration": 38,
    "start_time": "2022-08-03T08:34:16.594Z"
   },
   {
    "duration": 45,
    "start_time": "2022-08-03T08:34:23.233Z"
   },
   {
    "duration": 2,
    "start_time": "2022-08-03T08:34:37.664Z"
   },
   {
    "duration": 8,
    "start_time": "2022-08-03T08:35:50.887Z"
   },
   {
    "duration": 9,
    "start_time": "2022-08-03T08:36:00.256Z"
   },
   {
    "duration": 45,
    "start_time": "2022-08-03T08:36:02.592Z"
   },
   {
    "duration": 3,
    "start_time": "2022-08-03T08:36:04.013Z"
   },
   {
    "duration": 18,
    "start_time": "2022-08-03T08:36:07.351Z"
   },
   {
    "duration": 10,
    "start_time": "2022-08-03T08:36:23.538Z"
   },
   {
    "duration": 8,
    "start_time": "2022-08-03T08:36:25.864Z"
   },
   {
    "duration": 43,
    "start_time": "2022-08-03T08:36:30.327Z"
   },
   {
    "duration": 3,
    "start_time": "2022-08-03T08:36:31.769Z"
   },
   {
    "duration": 17,
    "start_time": "2022-08-03T08:41:37.872Z"
   },
   {
    "duration": 336,
    "start_time": "2022-08-03T08:41:43.381Z"
   },
   {
    "duration": 41,
    "start_time": "2022-08-03T08:42:31.342Z"
   },
   {
    "duration": 45,
    "start_time": "2022-08-03T08:42:55.870Z"
   },
   {
    "duration": 41,
    "start_time": "2022-08-03T08:43:12.840Z"
   },
   {
    "duration": 47,
    "start_time": "2022-08-03T08:43:19.691Z"
   },
   {
    "duration": 11,
    "start_time": "2022-08-03T08:43:46.228Z"
   },
   {
    "duration": 63,
    "start_time": "2022-08-03T08:50:54.498Z"
   },
   {
    "duration": 55,
    "start_time": "2022-08-03T08:51:04.826Z"
   },
   {
    "duration": 11,
    "start_time": "2022-08-03T08:51:14.193Z"
   },
   {
    "duration": 11,
    "start_time": "2022-08-03T08:51:20.584Z"
   },
   {
    "duration": 21,
    "start_time": "2022-08-03T08:53:08.501Z"
   },
   {
    "duration": 176,
    "start_time": "2022-08-03T09:03:15.852Z"
   },
   {
    "duration": 44,
    "start_time": "2022-08-03T09:03:20.085Z"
   },
   {
    "duration": 17,
    "start_time": "2022-08-03T09:03:38.483Z"
   },
   {
    "duration": 93,
    "start_time": "2022-08-03T09:13:08.753Z"
   },
   {
    "duration": 81,
    "start_time": "2022-08-03T09:13:45.220Z"
   },
   {
    "duration": 8,
    "start_time": "2022-08-03T09:14:04.821Z"
   },
   {
    "duration": 22,
    "start_time": "2022-08-03T09:14:09.120Z"
   },
   {
    "duration": 65,
    "start_time": "2022-08-03T09:20:19.281Z"
   },
   {
    "duration": 42,
    "start_time": "2022-08-03T09:20:25.031Z"
   },
   {
    "duration": 7,
    "start_time": "2022-08-03T09:21:58.019Z"
   },
   {
    "duration": 6,
    "start_time": "2022-08-03T09:22:01.264Z"
   },
   {
    "duration": 387,
    "start_time": "2022-08-03T09:22:07.260Z"
   },
   {
    "duration": 988,
    "start_time": "2022-08-03T09:22:07.649Z"
   },
   {
    "duration": 86,
    "start_time": "2022-08-03T09:22:08.639Z"
   },
   {
    "duration": 21,
    "start_time": "2022-08-03T09:22:08.728Z"
   },
   {
    "duration": 7,
    "start_time": "2022-08-03T09:22:08.750Z"
   },
   {
    "duration": 14,
    "start_time": "2022-08-03T09:22:08.758Z"
   },
   {
    "duration": 79,
    "start_time": "2022-08-03T09:22:08.774Z"
   },
   {
    "duration": 6,
    "start_time": "2022-08-03T09:22:08.855Z"
   },
   {
    "duration": 30,
    "start_time": "2022-08-03T09:22:08.862Z"
   },
   {
    "duration": 18,
    "start_time": "2022-08-03T09:22:08.894Z"
   },
   {
    "duration": 26,
    "start_time": "2022-08-03T09:22:08.913Z"
   },
   {
    "duration": 52,
    "start_time": "2022-08-03T09:22:08.940Z"
   },
   {
    "duration": 27,
    "start_time": "2022-08-03T09:22:08.994Z"
   },
   {
    "duration": 44,
    "start_time": "2022-08-03T09:22:09.023Z"
   },
   {
    "duration": 0,
    "start_time": "2022-08-03T09:22:09.068Z"
   },
   {
    "duration": 0,
    "start_time": "2022-08-03T09:22:09.069Z"
   },
   {
    "duration": 11,
    "start_time": "2022-08-03T09:22:19.344Z"
   },
   {
    "duration": 17,
    "start_time": "2022-08-03T09:23:53.859Z"
   },
   {
    "duration": 20,
    "start_time": "2022-08-03T09:24:10.031Z"
   },
   {
    "duration": 15,
    "start_time": "2022-08-03T09:25:05.919Z"
   },
   {
    "duration": 15,
    "start_time": "2022-08-03T09:25:14.624Z"
   },
   {
    "duration": 10,
    "start_time": "2022-08-03T09:25:52.184Z"
   },
   {
    "duration": 8,
    "start_time": "2022-08-03T09:26:13.326Z"
   },
   {
    "duration": 9,
    "start_time": "2022-08-03T09:26:17.142Z"
   },
   {
    "duration": 11,
    "start_time": "2022-08-03T09:26:42.926Z"
   },
   {
    "duration": 2,
    "start_time": "2022-08-03T09:26:58.630Z"
   },
   {
    "duration": 423,
    "start_time": "2022-08-03T09:26:58.634Z"
   },
   {
    "duration": 80,
    "start_time": "2022-08-03T09:26:59.059Z"
   },
   {
    "duration": 13,
    "start_time": "2022-08-03T09:26:59.140Z"
   },
   {
    "duration": 9,
    "start_time": "2022-08-03T09:26:59.155Z"
   },
   {
    "duration": 14,
    "start_time": "2022-08-03T09:26:59.165Z"
   },
   {
    "duration": 65,
    "start_time": "2022-08-03T09:26:59.181Z"
   },
   {
    "duration": 4,
    "start_time": "2022-08-03T09:26:59.248Z"
   },
   {
    "duration": 18,
    "start_time": "2022-08-03T09:26:59.254Z"
   },
   {
    "duration": 21,
    "start_time": "2022-08-03T09:26:59.273Z"
   },
   {
    "duration": 29,
    "start_time": "2022-08-03T09:26:59.295Z"
   },
   {
    "duration": 46,
    "start_time": "2022-08-03T09:26:59.326Z"
   },
   {
    "duration": 11,
    "start_time": "2022-08-03T09:26:59.373Z"
   },
   {
    "duration": 47,
    "start_time": "2022-08-03T09:26:59.385Z"
   },
   {
    "duration": 13,
    "start_time": "2022-08-03T09:26:59.434Z"
   },
   {
    "duration": 18,
    "start_time": "2022-08-03T09:26:59.448Z"
   },
   {
    "duration": 9,
    "start_time": "2022-08-03T09:27:36.467Z"
   },
   {
    "duration": 3,
    "start_time": "2022-08-03T09:27:40.255Z"
   },
   {
    "duration": 426,
    "start_time": "2022-08-03T09:27:40.262Z"
   },
   {
    "duration": 74,
    "start_time": "2022-08-03T09:27:40.690Z"
   },
   {
    "duration": 12,
    "start_time": "2022-08-03T09:27:40.766Z"
   },
   {
    "duration": 5,
    "start_time": "2022-08-03T09:27:40.780Z"
   },
   {
    "duration": 35,
    "start_time": "2022-08-03T09:27:40.787Z"
   },
   {
    "duration": 49,
    "start_time": "2022-08-03T09:27:40.824Z"
   },
   {
    "duration": 4,
    "start_time": "2022-08-03T09:27:40.875Z"
   },
   {
    "duration": 18,
    "start_time": "2022-08-03T09:27:40.880Z"
   },
   {
    "duration": 13,
    "start_time": "2022-08-03T09:27:40.917Z"
   },
   {
    "duration": 23,
    "start_time": "2022-08-03T09:27:40.931Z"
   },
   {
    "duration": 44,
    "start_time": "2022-08-03T09:27:40.956Z"
   },
   {
    "duration": 13,
    "start_time": "2022-08-03T09:27:41.013Z"
   },
   {
    "duration": 22,
    "start_time": "2022-08-03T09:27:41.027Z"
   },
   {
    "duration": 13,
    "start_time": "2022-08-03T09:27:41.051Z"
   },
   {
    "duration": 19,
    "start_time": "2022-08-03T09:27:41.066Z"
   },
   {
    "duration": 10,
    "start_time": "2022-08-03T09:28:31.433Z"
   },
   {
    "duration": 3,
    "start_time": "2022-08-03T09:28:38.225Z"
   },
   {
    "duration": 416,
    "start_time": "2022-08-03T09:28:38.232Z"
   },
   {
    "duration": 77,
    "start_time": "2022-08-03T09:28:38.649Z"
   },
   {
    "duration": 13,
    "start_time": "2022-08-03T09:28:38.727Z"
   },
   {
    "duration": 29,
    "start_time": "2022-08-03T09:28:38.742Z"
   },
   {
    "duration": 25,
    "start_time": "2022-08-03T09:28:38.772Z"
   },
   {
    "duration": 74,
    "start_time": "2022-08-03T09:28:38.799Z"
   },
   {
    "duration": 3,
    "start_time": "2022-08-03T09:28:38.875Z"
   },
   {
    "duration": 18,
    "start_time": "2022-08-03T09:28:38.880Z"
   },
   {
    "duration": 20,
    "start_time": "2022-08-03T09:28:38.900Z"
   },
   {
    "duration": 34,
    "start_time": "2022-08-03T09:28:38.923Z"
   },
   {
    "duration": 45,
    "start_time": "2022-08-03T09:28:38.959Z"
   },
   {
    "duration": 14,
    "start_time": "2022-08-03T09:28:39.006Z"
   },
   {
    "duration": 20,
    "start_time": "2022-08-03T09:28:39.023Z"
   },
   {
    "duration": 26,
    "start_time": "2022-08-03T09:28:39.044Z"
   },
   {
    "duration": 55,
    "start_time": "2022-08-03T09:28:39.072Z"
   },
   {
    "duration": 22,
    "start_time": "2022-08-03T09:34:30.520Z"
   },
   {
    "duration": 10,
    "start_time": "2022-08-03T09:35:35.180Z"
   },
   {
    "duration": 12,
    "start_time": "2022-08-03T09:35:59.861Z"
   },
   {
    "duration": 15,
    "start_time": "2022-08-03T09:36:35.954Z"
   },
   {
    "duration": 10,
    "start_time": "2022-08-03T09:37:01.974Z"
   },
   {
    "duration": 48,
    "start_time": "2022-08-03T09:37:45.641Z"
   },
   {
    "duration": 75,
    "start_time": "2022-08-03T09:37:55.002Z"
   },
   {
    "duration": 15,
    "start_time": "2022-08-03T09:39:53.209Z"
   },
   {
    "duration": 8,
    "start_time": "2022-08-03T09:40:33.247Z"
   },
   {
    "duration": 18,
    "start_time": "2022-08-03T09:40:51.380Z"
   },
   {
    "duration": 9,
    "start_time": "2022-08-03T09:41:54.985Z"
   },
   {
    "duration": 9,
    "start_time": "2022-08-03T09:42:09.116Z"
   },
   {
    "duration": 18,
    "start_time": "2022-08-03T09:42:20.265Z"
   },
   {
    "duration": 9,
    "start_time": "2022-08-03T09:43:29.327Z"
   },
   {
    "duration": 20,
    "start_time": "2022-08-03T09:43:36.464Z"
   },
   {
    "duration": 11,
    "start_time": "2022-08-03T09:44:26.275Z"
   },
   {
    "duration": 2,
    "start_time": "2022-08-03T09:44:31.654Z"
   },
   {
    "duration": 475,
    "start_time": "2022-08-03T09:44:31.660Z"
   },
   {
    "duration": 72,
    "start_time": "2022-08-03T09:44:32.136Z"
   },
   {
    "duration": 18,
    "start_time": "2022-08-03T09:44:32.212Z"
   },
   {
    "duration": 25,
    "start_time": "2022-08-03T09:44:32.232Z"
   },
   {
    "duration": 41,
    "start_time": "2022-08-03T09:44:32.259Z"
   },
   {
    "duration": 94,
    "start_time": "2022-08-03T09:44:32.302Z"
   },
   {
    "duration": 6,
    "start_time": "2022-08-03T09:44:32.397Z"
   },
   {
    "duration": 42,
    "start_time": "2022-08-03T09:44:32.404Z"
   },
   {
    "duration": 36,
    "start_time": "2022-08-03T09:44:32.448Z"
   },
   {
    "duration": 43,
    "start_time": "2022-08-03T09:44:32.486Z"
   },
   {
    "duration": 11,
    "start_time": "2022-08-03T09:44:32.530Z"
   },
   {
    "duration": 76,
    "start_time": "2022-08-03T09:44:32.542Z"
   },
   {
    "duration": 12,
    "start_time": "2022-08-03T09:44:32.620Z"
   },
   {
    "duration": 73,
    "start_time": "2022-08-03T09:44:32.634Z"
   },
   {
    "duration": 24,
    "start_time": "2022-08-03T09:44:32.711Z"
   },
   {
    "duration": 37,
    "start_time": "2022-08-03T09:44:32.737Z"
   },
   {
    "duration": 19,
    "start_time": "2022-08-03T09:44:32.776Z"
   },
   {
    "duration": 37,
    "start_time": "2022-08-03T09:44:32.797Z"
   },
   {
    "duration": 3,
    "start_time": "2022-08-03T09:47:21.728Z"
   },
   {
    "duration": 15,
    "start_time": "2022-08-03T09:47:41.327Z"
   },
   {
    "duration": 15,
    "start_time": "2022-08-03T09:47:55.919Z"
   },
   {
    "duration": 18,
    "start_time": "2022-08-03T09:48:06.580Z"
   },
   {
    "duration": 15,
    "start_time": "2022-08-03T09:48:35.127Z"
   },
   {
    "duration": 17,
    "start_time": "2022-08-03T09:50:37.819Z"
   },
   {
    "duration": 8,
    "start_time": "2022-08-03T09:58:02.244Z"
   },
   {
    "duration": 32,
    "start_time": "2022-08-03T09:58:10.775Z"
   },
   {
    "duration": 12,
    "start_time": "2022-08-03T09:58:49.929Z"
   },
   {
    "duration": 862,
    "start_time": "2022-08-03T09:59:15.211Z"
   },
   {
    "duration": 24,
    "start_time": "2022-08-03T09:59:23.870Z"
   },
   {
    "duration": 9,
    "start_time": "2022-08-03T10:00:01.744Z"
   },
   {
    "duration": 27,
    "start_time": "2022-08-03T10:00:05.115Z"
   },
   {
    "duration": 3,
    "start_time": "2022-08-03T10:00:12.770Z"
   },
   {
    "duration": 418,
    "start_time": "2022-08-03T10:00:12.776Z"
   },
   {
    "duration": 94,
    "start_time": "2022-08-03T10:00:13.196Z"
   },
   {
    "duration": 24,
    "start_time": "2022-08-03T10:00:13.293Z"
   },
   {
    "duration": 12,
    "start_time": "2022-08-03T10:00:13.319Z"
   },
   {
    "duration": 25,
    "start_time": "2022-08-03T10:00:13.333Z"
   },
   {
    "duration": 64,
    "start_time": "2022-08-03T10:00:13.361Z"
   },
   {
    "duration": 4,
    "start_time": "2022-08-03T10:00:13.427Z"
   },
   {
    "duration": 21,
    "start_time": "2022-08-03T10:00:13.433Z"
   },
   {
    "duration": 19,
    "start_time": "2022-08-03T10:00:13.455Z"
   },
   {
    "duration": 45,
    "start_time": "2022-08-03T10:00:13.476Z"
   },
   {
    "duration": 15,
    "start_time": "2022-08-03T10:00:13.522Z"
   },
   {
    "duration": 58,
    "start_time": "2022-08-03T10:00:13.539Z"
   },
   {
    "duration": 11,
    "start_time": "2022-08-03T10:00:13.608Z"
   },
   {
    "duration": 27,
    "start_time": "2022-08-03T10:00:13.621Z"
   },
   {
    "duration": 9,
    "start_time": "2022-08-03T10:00:13.649Z"
   },
   {
    "duration": 32,
    "start_time": "2022-08-03T10:00:13.660Z"
   },
   {
    "duration": 17,
    "start_time": "2022-08-03T10:00:13.693Z"
   },
   {
    "duration": 36,
    "start_time": "2022-08-03T10:00:13.712Z"
   },
   {
    "duration": 17,
    "start_time": "2022-08-03T10:00:13.750Z"
   },
   {
    "duration": 11,
    "start_time": "2022-08-03T10:01:33.440Z"
   },
   {
    "duration": 11,
    "start_time": "2022-08-03T10:01:39.180Z"
   },
   {
    "duration": 10,
    "start_time": "2022-08-03T10:01:57.746Z"
   },
   {
    "duration": 11,
    "start_time": "2022-08-03T10:02:13.954Z"
   },
   {
    "duration": 8,
    "start_time": "2022-08-03T10:04:37.618Z"
   },
   {
    "duration": 9,
    "start_time": "2022-08-03T10:05:11.835Z"
   },
   {
    "duration": 8,
    "start_time": "2022-08-03T10:05:20.931Z"
   },
   {
    "duration": 29,
    "start_time": "2022-08-03T10:05:31.818Z"
   },
   {
    "duration": 8,
    "start_time": "2022-08-03T10:08:01.678Z"
   },
   {
    "duration": 3,
    "start_time": "2022-08-03T10:28:09.733Z"
   },
   {
    "duration": 386,
    "start_time": "2022-08-03T10:28:09.739Z"
   },
   {
    "duration": 74,
    "start_time": "2022-08-03T10:28:10.127Z"
   },
   {
    "duration": 15,
    "start_time": "2022-08-03T10:28:10.202Z"
   },
   {
    "duration": 10,
    "start_time": "2022-08-03T10:28:10.220Z"
   },
   {
    "duration": 54,
    "start_time": "2022-08-03T10:28:10.232Z"
   },
   {
    "duration": 71,
    "start_time": "2022-08-03T10:28:10.288Z"
   },
   {
    "duration": 4,
    "start_time": "2022-08-03T10:28:10.361Z"
   },
   {
    "duration": 33,
    "start_time": "2022-08-03T10:28:10.367Z"
   },
   {
    "duration": 14,
    "start_time": "2022-08-03T10:28:10.402Z"
   },
   {
    "duration": 40,
    "start_time": "2022-08-03T10:28:10.418Z"
   },
   {
    "duration": 18,
    "start_time": "2022-08-03T10:28:10.460Z"
   },
   {
    "duration": 53,
    "start_time": "2022-08-03T10:28:10.480Z"
   },
   {
    "duration": 11,
    "start_time": "2022-08-03T10:28:10.535Z"
   },
   {
    "duration": 25,
    "start_time": "2022-08-03T10:28:10.547Z"
   },
   {
    "duration": 9,
    "start_time": "2022-08-03T10:28:10.573Z"
   },
   {
    "duration": 42,
    "start_time": "2022-08-03T10:28:10.584Z"
   },
   {
    "duration": 8,
    "start_time": "2022-08-03T10:28:10.628Z"
   },
   {
    "duration": 15,
    "start_time": "2022-08-03T10:28:10.638Z"
   },
   {
    "duration": 20,
    "start_time": "2022-08-03T10:28:10.654Z"
   },
   {
    "duration": 40,
    "start_time": "2022-08-03T10:28:10.676Z"
   },
   {
    "duration": 24,
    "start_time": "2022-08-03T10:28:10.718Z"
   },
   {
    "duration": 7,
    "start_time": "2022-08-03T10:30:12.680Z"
   },
   {
    "duration": 10,
    "start_time": "2022-08-03T10:30:23.169Z"
   },
   {
    "duration": 22,
    "start_time": "2022-08-03T10:30:41.917Z"
   },
   {
    "duration": 7,
    "start_time": "2022-08-03T10:32:00.634Z"
   },
   {
    "duration": 6,
    "start_time": "2022-08-03T10:32:23.434Z"
   },
   {
    "duration": 5,
    "start_time": "2022-08-03T10:32:30.127Z"
   },
   {
    "duration": 23,
    "start_time": "2022-08-03T10:32:39.135Z"
   },
   {
    "duration": 21,
    "start_time": "2022-08-03T10:33:32.038Z"
   },
   {
    "duration": 74,
    "start_time": "2022-08-03T10:48:30.180Z"
   },
   {
    "duration": 62,
    "start_time": "2022-08-03T10:50:35.328Z"
   },
   {
    "duration": 24,
    "start_time": "2022-08-03T10:50:53.032Z"
   },
   {
    "duration": 26,
    "start_time": "2022-08-03T10:53:36.884Z"
   },
   {
    "duration": 58,
    "start_time": "2022-08-03T10:55:31.553Z"
   },
   {
    "duration": 4,
    "start_time": "2022-08-03T10:55:40.360Z"
   },
   {
    "duration": 25,
    "start_time": "2022-08-03T10:55:46.336Z"
   },
   {
    "duration": 45,
    "start_time": "2022-08-03T13:49:19.273Z"
   },
   {
    "duration": 378,
    "start_time": "2022-08-03T13:49:29.949Z"
   },
   {
    "duration": 1002,
    "start_time": "2022-08-03T13:49:30.329Z"
   },
   {
    "duration": 77,
    "start_time": "2022-08-03T13:49:31.333Z"
   },
   {
    "duration": 19,
    "start_time": "2022-08-03T13:49:31.411Z"
   },
   {
    "duration": 9,
    "start_time": "2022-08-03T13:49:31.433Z"
   },
   {
    "duration": 28,
    "start_time": "2022-08-03T13:49:31.444Z"
   },
   {
    "duration": 71,
    "start_time": "2022-08-03T13:49:31.474Z"
   },
   {
    "duration": 6,
    "start_time": "2022-08-03T13:49:31.546Z"
   },
   {
    "duration": 18,
    "start_time": "2022-08-03T13:49:31.553Z"
   },
   {
    "duration": 25,
    "start_time": "2022-08-03T13:49:31.573Z"
   },
   {
    "duration": 31,
    "start_time": "2022-08-03T13:49:31.600Z"
   },
   {
    "duration": 11,
    "start_time": "2022-08-03T13:49:31.633Z"
   },
   {
    "duration": 71,
    "start_time": "2022-08-03T13:49:31.646Z"
   },
   {
    "duration": 12,
    "start_time": "2022-08-03T13:49:31.720Z"
   },
   {
    "duration": 28,
    "start_time": "2022-08-03T13:49:31.733Z"
   },
   {
    "duration": 24,
    "start_time": "2022-08-03T13:49:31.763Z"
   },
   {
    "duration": 17,
    "start_time": "2022-08-03T13:49:31.789Z"
   },
   {
    "duration": 7,
    "start_time": "2022-08-03T13:49:31.808Z"
   },
   {
    "duration": 15,
    "start_time": "2022-08-03T13:49:31.817Z"
   },
   {
    "duration": 55,
    "start_time": "2022-08-03T13:49:31.834Z"
   },
   {
    "duration": 25,
    "start_time": "2022-08-03T13:49:31.891Z"
   },
   {
    "duration": 30,
    "start_time": "2022-08-03T13:49:31.918Z"
   },
   {
    "duration": 24,
    "start_time": "2022-08-03T13:49:31.950Z"
   },
   {
    "duration": 33,
    "start_time": "2022-08-03T13:49:31.976Z"
   },
   {
    "duration": 26,
    "start_time": "2022-08-03T13:49:32.011Z"
   },
   {
    "duration": 49,
    "start_time": "2022-08-03T13:49:32.039Z"
   },
   {
    "duration": 27,
    "start_time": "2022-08-03T13:49:32.089Z"
   },
   {
    "duration": 20,
    "start_time": "2022-08-03T13:51:27.263Z"
   },
   {
    "duration": 16,
    "start_time": "2022-08-03T13:53:07.515Z"
   },
   {
    "duration": 16,
    "start_time": "2022-08-03T13:53:42.827Z"
   },
   {
    "duration": 6,
    "start_time": "2022-08-03T13:54:54.213Z"
   },
   {
    "duration": 45,
    "start_time": "2022-08-03T13:59:06.011Z"
   },
   {
    "duration": 21,
    "start_time": "2022-08-03T13:59:10.348Z"
   },
   {
    "duration": 53,
    "start_time": "2022-08-04T07:54:48.419Z"
   },
   {
    "duration": 418,
    "start_time": "2022-08-04T07:54:54.075Z"
   },
   {
    "duration": 1268,
    "start_time": "2022-08-04T07:54:54.495Z"
   },
   {
    "duration": 88,
    "start_time": "2022-08-04T07:54:55.765Z"
   },
   {
    "duration": 31,
    "start_time": "2022-08-04T07:54:55.855Z"
   },
   {
    "duration": 32,
    "start_time": "2022-08-04T07:54:55.889Z"
   },
   {
    "duration": 45,
    "start_time": "2022-08-04T07:54:55.922Z"
   },
   {
    "duration": 72,
    "start_time": "2022-08-04T07:54:55.969Z"
   },
   {
    "duration": 5,
    "start_time": "2022-08-04T07:54:56.043Z"
   },
   {
    "duration": 27,
    "start_time": "2022-08-04T07:54:56.051Z"
   },
   {
    "duration": 25,
    "start_time": "2022-08-04T07:54:56.082Z"
   },
   {
    "duration": 36,
    "start_time": "2022-08-04T07:54:56.110Z"
   },
   {
    "duration": 25,
    "start_time": "2022-08-04T07:54:56.148Z"
   },
   {
    "duration": 90,
    "start_time": "2022-08-04T07:54:56.176Z"
   },
   {
    "duration": 17,
    "start_time": "2022-08-04T07:54:56.268Z"
   },
   {
    "duration": 30,
    "start_time": "2022-08-04T07:54:56.287Z"
   },
   {
    "duration": 40,
    "start_time": "2022-08-04T07:54:56.319Z"
   },
   {
    "duration": 47,
    "start_time": "2022-08-04T07:54:56.361Z"
   },
   {
    "duration": 20,
    "start_time": "2022-08-04T07:54:56.410Z"
   },
   {
    "duration": 25,
    "start_time": "2022-08-04T07:54:56.433Z"
   },
   {
    "duration": 36,
    "start_time": "2022-08-04T07:54:56.460Z"
   },
   {
    "duration": 34,
    "start_time": "2022-08-04T07:54:56.498Z"
   },
   {
    "duration": 74,
    "start_time": "2022-08-04T07:54:56.534Z"
   },
   {
    "duration": 39,
    "start_time": "2022-08-04T07:54:56.611Z"
   },
   {
    "duration": 54,
    "start_time": "2022-08-04T07:54:56.652Z"
   },
   {
    "duration": 67,
    "start_time": "2022-08-04T07:54:56.709Z"
   },
   {
    "duration": 73,
    "start_time": "2022-08-04T07:54:56.780Z"
   },
   {
    "duration": 33,
    "start_time": "2022-08-04T07:54:56.855Z"
   },
   {
    "duration": 43,
    "start_time": "2022-08-04T07:54:56.892Z"
   },
   {
    "duration": 32,
    "start_time": "2022-08-04T08:05:01.834Z"
   },
   {
    "duration": 11,
    "start_time": "2022-08-04T08:05:15.316Z"
   },
   {
    "duration": 12,
    "start_time": "2022-08-04T08:06:04.837Z"
   },
   {
    "duration": 616,
    "start_time": "2022-08-04T08:07:41.128Z"
   },
   {
    "duration": 108,
    "start_time": "2022-08-04T08:07:52.301Z"
   },
   {
    "duration": 118,
    "start_time": "2022-08-04T08:08:02.612Z"
   },
   {
    "duration": 113,
    "start_time": "2022-08-04T08:12:45.640Z"
   },
   {
    "duration": 305,
    "start_time": "2022-08-04T08:13:42.983Z"
   },
   {
    "duration": 295,
    "start_time": "2022-08-04T08:14:01.149Z"
   },
   {
    "duration": 219,
    "start_time": "2022-08-04T08:16:29.939Z"
   },
   {
    "duration": 182,
    "start_time": "2022-08-04T08:16:51.403Z"
   },
   {
    "duration": 213,
    "start_time": "2022-08-04T08:17:05.149Z"
   },
   {
    "duration": 240,
    "start_time": "2022-08-04T08:17:40.227Z"
   },
   {
    "duration": 286,
    "start_time": "2022-08-04T08:17:59.411Z"
   },
   {
    "duration": 258,
    "start_time": "2022-08-04T08:18:08.771Z"
   },
   {
    "duration": 273,
    "start_time": "2022-08-04T08:18:22.615Z"
   },
   {
    "duration": 203,
    "start_time": "2022-08-04T08:18:29.740Z"
   },
   {
    "duration": 194,
    "start_time": "2022-08-04T08:18:36.221Z"
   },
   {
    "duration": 186,
    "start_time": "2022-08-04T08:20:17.283Z"
   },
   {
    "duration": 206,
    "start_time": "2022-08-04T08:21:09.179Z"
   },
   {
    "duration": 213,
    "start_time": "2022-08-04T08:24:54.877Z"
   },
   {
    "duration": 4,
    "start_time": "2022-08-04T08:25:35.811Z"
   },
   {
    "duration": 260,
    "start_time": "2022-08-04T08:25:41.712Z"
   },
   {
    "duration": 8,
    "start_time": "2022-08-04T08:27:22.778Z"
   },
   {
    "duration": 8,
    "start_time": "2022-08-04T08:27:35.936Z"
   },
   {
    "duration": 7,
    "start_time": "2022-08-04T08:27:50.974Z"
   },
   {
    "duration": 83,
    "start_time": "2022-08-04T08:48:38.664Z"
   },
   {
    "duration": 9,
    "start_time": "2022-08-04T09:17:35.050Z"
   },
   {
    "duration": 9,
    "start_time": "2022-08-04T09:17:40.054Z"
   },
   {
    "duration": 9,
    "start_time": "2022-08-04T09:17:47.426Z"
   },
   {
    "duration": 15,
    "start_time": "2022-08-04T09:17:48.871Z"
   },
   {
    "duration": 9,
    "start_time": "2022-08-04T09:17:56.579Z"
   },
   {
    "duration": 11,
    "start_time": "2022-08-04T09:18:09.477Z"
   },
   {
    "duration": 345,
    "start_time": "2022-08-04T09:18:25.752Z"
   },
   {
    "duration": 5,
    "start_time": "2022-08-04T09:18:37.061Z"
   },
   {
    "duration": 5,
    "start_time": "2022-08-04T09:18:46.218Z"
   },
   {
    "duration": 1377,
    "start_time": "2022-08-04T09:19:18.549Z"
   },
   {
    "duration": 1734,
    "start_time": "2022-08-04T09:19:44.585Z"
   },
   {
    "duration": 249,
    "start_time": "2022-08-04T09:22:15.139Z"
   },
   {
    "duration": 245,
    "start_time": "2022-08-04T09:22:26.003Z"
   },
   {
    "duration": 228,
    "start_time": "2022-08-04T09:26:53.352Z"
   },
   {
    "duration": 6,
    "start_time": "2022-08-04T09:32:49.925Z"
   },
   {
    "duration": 6,
    "start_time": "2022-08-04T09:33:09.363Z"
   },
   {
    "duration": 11,
    "start_time": "2022-08-04T09:33:13.825Z"
   },
   {
    "duration": 11,
    "start_time": "2022-08-04T09:33:25.277Z"
   },
   {
    "duration": 10,
    "start_time": "2022-08-04T09:33:31.024Z"
   },
   {
    "duration": 262,
    "start_time": "2022-08-04T09:34:33.157Z"
   },
   {
    "duration": 263,
    "start_time": "2022-08-04T09:34:49.682Z"
   },
   {
    "duration": 380,
    "start_time": "2022-08-04T09:35:04.443Z"
   },
   {
    "duration": 234,
    "start_time": "2022-08-04T09:35:18.746Z"
   },
   {
    "duration": 241,
    "start_time": "2022-08-04T09:36:41.846Z"
   },
   {
    "duration": 5,
    "start_time": "2022-08-04T09:37:05.485Z"
   },
   {
    "duration": 5,
    "start_time": "2022-08-04T09:37:24.085Z"
   },
   {
    "duration": 163,
    "start_time": "2022-08-04T09:40:34.962Z"
   },
   {
    "duration": 93,
    "start_time": "2022-08-04T09:46:10.265Z"
   },
   {
    "duration": 108,
    "start_time": "2022-08-04T09:46:49.347Z"
   },
   {
    "duration": 6,
    "start_time": "2022-08-04T09:47:12.328Z"
   },
   {
    "duration": 6,
    "start_time": "2022-08-04T09:47:49.635Z"
   },
   {
    "duration": 9,
    "start_time": "2022-08-04T09:48:04.862Z"
   },
   {
    "duration": 10,
    "start_time": "2022-08-04T09:48:32.269Z"
   },
   {
    "duration": 206,
    "start_time": "2022-08-04T09:49:09.857Z"
   },
   {
    "duration": 242,
    "start_time": "2022-08-04T09:49:27.190Z"
   },
   {
    "duration": 92,
    "start_time": "2022-08-04T09:51:26.408Z"
   },
   {
    "duration": 4,
    "start_time": "2022-08-04T09:51:46.454Z"
   },
   {
    "duration": 8,
    "start_time": "2022-08-04T09:52:16.148Z"
   },
   {
    "duration": 5,
    "start_time": "2022-08-04T09:52:20.282Z"
   },
   {
    "duration": 12,
    "start_time": "2022-08-04T10:12:29.169Z"
   },
   {
    "duration": 3,
    "start_time": "2022-08-04T10:13:14.919Z"
   },
   {
    "duration": 3,
    "start_time": "2022-08-04T10:13:16.555Z"
   },
   {
    "duration": 397,
    "start_time": "2022-08-04T10:14:59.714Z"
   },
   {
    "duration": 4,
    "start_time": "2022-08-04T10:17:31.532Z"
   },
   {
    "duration": 5,
    "start_time": "2022-08-04T10:17:35.933Z"
   },
   {
    "duration": 8,
    "start_time": "2022-08-04T10:18:58.465Z"
   },
   {
    "duration": 5,
    "start_time": "2022-08-04T10:19:47.215Z"
   },
   {
    "duration": 8,
    "start_time": "2022-08-04T10:29:50.212Z"
   },
   {
    "duration": 10,
    "start_time": "2022-08-04T10:30:20.759Z"
   },
   {
    "duration": 11,
    "start_time": "2022-08-04T10:30:35.425Z"
   },
   {
    "duration": 6,
    "start_time": "2022-08-04T10:31:05.180Z"
   },
   {
    "duration": 6,
    "start_time": "2022-08-04T10:31:12.949Z"
   },
   {
    "duration": 4,
    "start_time": "2022-08-04T10:31:30.480Z"
   },
   {
    "duration": 4,
    "start_time": "2022-08-04T10:31:55.189Z"
   },
   {
    "duration": 3,
    "start_time": "2022-08-04T10:32:31.894Z"
   },
   {
    "duration": 5,
    "start_time": "2022-08-04T10:32:38.785Z"
   },
   {
    "duration": 7,
    "start_time": "2022-08-04T10:35:37.700Z"
   },
   {
    "duration": 7,
    "start_time": "2022-08-04T10:35:39.185Z"
   },
   {
    "duration": 4,
    "start_time": "2022-08-04T10:35:52.980Z"
   },
   {
    "duration": 5,
    "start_time": "2022-08-04T10:47:29.959Z"
   },
   {
    "duration": 4,
    "start_time": "2022-08-04T10:48:36.161Z"
   },
   {
    "duration": 8,
    "start_time": "2022-08-04T10:51:21.741Z"
   },
   {
    "duration": 6,
    "start_time": "2022-08-04T10:52:41.059Z"
   },
   {
    "duration": 7,
    "start_time": "2022-08-04T10:52:46.715Z"
   },
   {
    "duration": 29,
    "start_time": "2022-08-04T10:52:55.622Z"
   },
   {
    "duration": 5,
    "start_time": "2022-08-04T10:53:28.423Z"
   },
   {
    "duration": 7,
    "start_time": "2022-08-04T10:53:38.992Z"
   },
   {
    "duration": 7,
    "start_time": "2022-08-04T10:53:55.393Z"
   },
   {
    "duration": 4,
    "start_time": "2022-08-04T10:53:59.855Z"
   },
   {
    "duration": 5,
    "start_time": "2022-08-04T10:54:20.888Z"
   },
   {
    "duration": 5,
    "start_time": "2022-08-04T10:54:54.155Z"
   },
   {
    "duration": 77,
    "start_time": "2022-08-04T10:58:40.873Z"
   },
   {
    "duration": 1229,
    "start_time": "2022-08-04T11:04:48.804Z"
   },
   {
    "duration": 8,
    "start_time": "2022-08-04T11:04:56.539Z"
   },
   {
    "duration": 10,
    "start_time": "2022-08-04T11:05:00.258Z"
   },
   {
    "duration": 3,
    "start_time": "2022-08-04T11:05:40.519Z"
   },
   {
    "duration": 442,
    "start_time": "2022-08-04T11:05:40.524Z"
   },
   {
    "duration": 82,
    "start_time": "2022-08-04T11:05:40.968Z"
   },
   {
    "duration": 32,
    "start_time": "2022-08-04T11:05:41.051Z"
   },
   {
    "duration": 11,
    "start_time": "2022-08-04T11:05:41.085Z"
   },
   {
    "duration": 14,
    "start_time": "2022-08-04T11:05:41.098Z"
   },
   {
    "duration": 83,
    "start_time": "2022-08-04T11:05:41.113Z"
   },
   {
    "duration": 5,
    "start_time": "2022-08-04T11:05:41.198Z"
   },
   {
    "duration": 20,
    "start_time": "2022-08-04T11:05:41.205Z"
   },
   {
    "duration": 15,
    "start_time": "2022-08-04T11:05:41.227Z"
   },
   {
    "duration": 31,
    "start_time": "2022-08-04T11:05:41.267Z"
   },
   {
    "duration": 12,
    "start_time": "2022-08-04T11:05:41.300Z"
   },
   {
    "duration": 81,
    "start_time": "2022-08-04T11:05:41.314Z"
   },
   {
    "duration": 13,
    "start_time": "2022-08-04T11:05:41.397Z"
   },
   {
    "duration": 21,
    "start_time": "2022-08-04T11:05:41.412Z"
   },
   {
    "duration": 41,
    "start_time": "2022-08-04T11:05:41.435Z"
   },
   {
    "duration": 26,
    "start_time": "2022-08-04T11:05:41.478Z"
   },
   {
    "duration": 12,
    "start_time": "2022-08-04T11:05:41.506Z"
   },
   {
    "duration": 57,
    "start_time": "2022-08-04T11:05:41.520Z"
   },
   {
    "duration": 24,
    "start_time": "2022-08-04T11:05:41.579Z"
   },
   {
    "duration": 10,
    "start_time": "2022-08-04T11:05:41.606Z"
   },
   {
    "duration": 51,
    "start_time": "2022-08-04T11:05:41.618Z"
   },
   {
    "duration": 32,
    "start_time": "2022-08-04T11:05:41.671Z"
   },
   {
    "duration": 27,
    "start_time": "2022-08-04T11:05:41.704Z"
   },
   {
    "duration": 62,
    "start_time": "2022-08-04T11:05:41.733Z"
   },
   {
    "duration": 28,
    "start_time": "2022-08-04T11:05:41.796Z"
   },
   {
    "duration": 6,
    "start_time": "2022-08-04T11:05:41.826Z"
   },
   {
    "duration": 37,
    "start_time": "2022-08-04T11:05:41.833Z"
   },
   {
    "duration": 35,
    "start_time": "2022-08-04T11:05:41.874Z"
   },
   {
    "duration": 254,
    "start_time": "2022-08-04T11:05:41.911Z"
   },
   {
    "duration": 178,
    "start_time": "2022-08-04T11:05:42.166Z"
   },
   {
    "duration": 0,
    "start_time": "2022-08-04T11:05:42.345Z"
   },
   {
    "duration": 0,
    "start_time": "2022-08-04T11:05:42.346Z"
   },
   {
    "duration": 0,
    "start_time": "2022-08-04T11:05:42.348Z"
   },
   {
    "duration": 0,
    "start_time": "2022-08-04T11:05:42.349Z"
   },
   {
    "duration": 0,
    "start_time": "2022-08-04T11:05:42.350Z"
   },
   {
    "duration": 0,
    "start_time": "2022-08-04T11:05:42.352Z"
   },
   {
    "duration": 0,
    "start_time": "2022-08-04T11:05:42.353Z"
   },
   {
    "duration": 0,
    "start_time": "2022-08-04T11:05:42.354Z"
   },
   {
    "duration": 0,
    "start_time": "2022-08-04T11:05:42.355Z"
   },
   {
    "duration": 0,
    "start_time": "2022-08-04T11:05:42.356Z"
   },
   {
    "duration": 0,
    "start_time": "2022-08-04T11:05:42.357Z"
   },
   {
    "duration": 0,
    "start_time": "2022-08-04T11:05:42.358Z"
   },
   {
    "duration": 0,
    "start_time": "2022-08-04T11:05:42.359Z"
   },
   {
    "duration": 0,
    "start_time": "2022-08-04T11:05:42.360Z"
   },
   {
    "duration": 0,
    "start_time": "2022-08-04T11:05:42.361Z"
   },
   {
    "duration": 0,
    "start_time": "2022-08-04T11:05:42.362Z"
   },
   {
    "duration": 0,
    "start_time": "2022-08-04T11:05:42.363Z"
   },
   {
    "duration": 0,
    "start_time": "2022-08-04T11:05:42.364Z"
   },
   {
    "duration": 0,
    "start_time": "2022-08-04T11:05:42.365Z"
   },
   {
    "duration": 0,
    "start_time": "2022-08-04T11:05:42.366Z"
   },
   {
    "duration": 0,
    "start_time": "2022-08-04T11:05:42.369Z"
   },
   {
    "duration": 7,
    "start_time": "2022-08-04T11:07:54.283Z"
   },
   {
    "duration": 28,
    "start_time": "2022-08-04T11:11:21.079Z"
   },
   {
    "duration": 26,
    "start_time": "2022-08-04T11:12:01.440Z"
   },
   {
    "duration": 3,
    "start_time": "2022-08-04T11:12:22.619Z"
   },
   {
    "duration": 531,
    "start_time": "2022-08-04T11:12:22.624Z"
   },
   {
    "duration": 82,
    "start_time": "2022-08-04T11:12:23.157Z"
   },
   {
    "duration": 28,
    "start_time": "2022-08-04T11:12:23.242Z"
   },
   {
    "duration": 64,
    "start_time": "2022-08-04T11:12:23.273Z"
   },
   {
    "duration": 30,
    "start_time": "2022-08-04T11:12:23.339Z"
   },
   {
    "duration": 80,
    "start_time": "2022-08-04T11:12:23.371Z"
   },
   {
    "duration": 4,
    "start_time": "2022-08-04T11:12:23.453Z"
   },
   {
    "duration": 35,
    "start_time": "2022-08-04T11:12:23.459Z"
   },
   {
    "duration": 32,
    "start_time": "2022-08-04T11:12:23.497Z"
   },
   {
    "duration": 40,
    "start_time": "2022-08-04T11:12:23.532Z"
   },
   {
    "duration": 18,
    "start_time": "2022-08-04T11:12:23.574Z"
   },
   {
    "duration": 76,
    "start_time": "2022-08-04T11:12:23.593Z"
   },
   {
    "duration": 19,
    "start_time": "2022-08-04T11:12:23.671Z"
   },
   {
    "duration": 33,
    "start_time": "2022-08-04T11:12:23.693Z"
   },
   {
    "duration": 39,
    "start_time": "2022-08-04T11:12:23.728Z"
   },
   {
    "duration": 23,
    "start_time": "2022-08-04T11:12:23.776Z"
   },
   {
    "duration": 12,
    "start_time": "2022-08-04T11:12:23.801Z"
   },
   {
    "duration": 19,
    "start_time": "2022-08-04T11:12:23.815Z"
   },
   {
    "duration": 27,
    "start_time": "2022-08-04T11:12:23.868Z"
   },
   {
    "duration": 11,
    "start_time": "2022-08-04T11:12:23.898Z"
   },
   {
    "duration": 56,
    "start_time": "2022-08-04T11:12:23.911Z"
   },
   {
    "duration": 30,
    "start_time": "2022-08-04T11:12:23.971Z"
   },
   {
    "duration": 28,
    "start_time": "2022-08-04T11:12:24.003Z"
   },
   {
    "duration": 63,
    "start_time": "2022-08-04T11:12:24.033Z"
   },
   {
    "duration": 30,
    "start_time": "2022-08-04T11:12:24.098Z"
   },
   {
    "duration": 7,
    "start_time": "2022-08-04T11:12:24.130Z"
   },
   {
    "duration": 12,
    "start_time": "2022-08-04T11:12:24.168Z"
   },
   {
    "duration": 13,
    "start_time": "2022-08-04T11:12:24.185Z"
   },
   {
    "duration": 321,
    "start_time": "2022-08-04T11:12:24.200Z"
   },
   {
    "duration": 81,
    "start_time": "2022-08-04T11:12:24.523Z"
   },
   {
    "duration": 0,
    "start_time": "2022-08-04T11:12:24.606Z"
   },
   {
    "duration": 0,
    "start_time": "2022-08-04T11:12:24.608Z"
   },
   {
    "duration": 0,
    "start_time": "2022-08-04T11:12:24.609Z"
   },
   {
    "duration": 0,
    "start_time": "2022-08-04T11:12:24.611Z"
   },
   {
    "duration": 0,
    "start_time": "2022-08-04T11:12:24.612Z"
   },
   {
    "duration": 1,
    "start_time": "2022-08-04T11:12:24.612Z"
   },
   {
    "duration": 0,
    "start_time": "2022-08-04T11:12:24.614Z"
   },
   {
    "duration": 0,
    "start_time": "2022-08-04T11:12:24.614Z"
   },
   {
    "duration": 0,
    "start_time": "2022-08-04T11:12:24.615Z"
   },
   {
    "duration": 0,
    "start_time": "2022-08-04T11:12:24.616Z"
   },
   {
    "duration": 0,
    "start_time": "2022-08-04T11:12:24.617Z"
   },
   {
    "duration": 0,
    "start_time": "2022-08-04T11:12:24.618Z"
   },
   {
    "duration": 0,
    "start_time": "2022-08-04T11:12:24.620Z"
   },
   {
    "duration": 0,
    "start_time": "2022-08-04T11:12:24.621Z"
   },
   {
    "duration": 0,
    "start_time": "2022-08-04T11:12:24.622Z"
   },
   {
    "duration": 0,
    "start_time": "2022-08-04T11:12:24.624Z"
   },
   {
    "duration": 0,
    "start_time": "2022-08-04T11:12:24.625Z"
   },
   {
    "duration": 0,
    "start_time": "2022-08-04T11:12:24.626Z"
   },
   {
    "duration": 0,
    "start_time": "2022-08-04T11:12:24.627Z"
   },
   {
    "duration": 0,
    "start_time": "2022-08-04T11:12:24.628Z"
   },
   {
    "duration": 0,
    "start_time": "2022-08-04T11:12:24.629Z"
   },
   {
    "duration": 5,
    "start_time": "2022-08-04T11:12:41.032Z"
   },
   {
    "duration": 6,
    "start_time": "2022-08-04T11:12:44.380Z"
   },
   {
    "duration": 1163,
    "start_time": "2022-08-04T11:13:04.079Z"
   },
   {
    "duration": 460,
    "start_time": "2022-08-04T11:13:05.244Z"
   },
   {
    "duration": 92,
    "start_time": "2022-08-04T11:13:05.706Z"
   },
   {
    "duration": 19,
    "start_time": "2022-08-04T11:13:05.800Z"
   },
   {
    "duration": 33,
    "start_time": "2022-08-04T11:13:05.821Z"
   },
   {
    "duration": 51,
    "start_time": "2022-08-04T11:13:05.856Z"
   },
   {
    "duration": 110,
    "start_time": "2022-08-04T11:13:05.909Z"
   },
   {
    "duration": 7,
    "start_time": "2022-08-04T11:13:06.021Z"
   },
   {
    "duration": 22,
    "start_time": "2022-08-04T11:13:06.030Z"
   },
   {
    "duration": 25,
    "start_time": "2022-08-04T11:13:06.055Z"
   },
   {
    "duration": 46,
    "start_time": "2022-08-04T11:13:06.082Z"
   },
   {
    "duration": 27,
    "start_time": "2022-08-04T11:13:06.129Z"
   },
   {
    "duration": 72,
    "start_time": "2022-08-04T11:13:06.158Z"
   },
   {
    "duration": 14,
    "start_time": "2022-08-04T11:13:06.232Z"
   },
   {
    "duration": 34,
    "start_time": "2022-08-04T11:13:06.248Z"
   },
   {
    "duration": 11,
    "start_time": "2022-08-04T11:13:06.284Z"
   },
   {
    "duration": 28,
    "start_time": "2022-08-04T11:13:06.297Z"
   },
   {
    "duration": 10,
    "start_time": "2022-08-04T11:13:06.327Z"
   },
   {
    "duration": 43,
    "start_time": "2022-08-04T11:13:06.338Z"
   },
   {
    "duration": 19,
    "start_time": "2022-08-04T11:13:06.383Z"
   },
   {
    "duration": 11,
    "start_time": "2022-08-04T11:13:06.404Z"
   },
   {
    "duration": 27,
    "start_time": "2022-08-04T11:13:06.417Z"
   },
   {
    "duration": 38,
    "start_time": "2022-08-04T11:13:06.469Z"
   },
   {
    "duration": 31,
    "start_time": "2022-08-04T11:13:06.509Z"
   },
   {
    "duration": 60,
    "start_time": "2022-08-04T11:13:06.542Z"
   },
   {
    "duration": 44,
    "start_time": "2022-08-04T11:13:06.604Z"
   },
   {
    "duration": 8,
    "start_time": "2022-08-04T11:13:06.667Z"
   },
   {
    "duration": 18,
    "start_time": "2022-08-04T11:13:06.679Z"
   },
   {
    "duration": 18,
    "start_time": "2022-08-04T11:13:06.699Z"
   },
   {
    "duration": 301,
    "start_time": "2022-08-04T11:13:06.718Z"
   },
   {
    "duration": 176,
    "start_time": "2022-08-04T11:13:07.021Z"
   },
   {
    "duration": 0,
    "start_time": "2022-08-04T11:13:07.199Z"
   },
   {
    "duration": 0,
    "start_time": "2022-08-04T11:13:07.200Z"
   },
   {
    "duration": 0,
    "start_time": "2022-08-04T11:13:07.201Z"
   },
   {
    "duration": 0,
    "start_time": "2022-08-04T11:13:07.202Z"
   },
   {
    "duration": 0,
    "start_time": "2022-08-04T11:13:07.203Z"
   },
   {
    "duration": 0,
    "start_time": "2022-08-04T11:13:07.205Z"
   },
   {
    "duration": 0,
    "start_time": "2022-08-04T11:13:07.206Z"
   },
   {
    "duration": 0,
    "start_time": "2022-08-04T11:13:07.208Z"
   },
   {
    "duration": 0,
    "start_time": "2022-08-04T11:13:07.210Z"
   },
   {
    "duration": 0,
    "start_time": "2022-08-04T11:13:07.211Z"
   },
   {
    "duration": 0,
    "start_time": "2022-08-04T11:13:07.213Z"
   },
   {
    "duration": 0,
    "start_time": "2022-08-04T11:13:07.214Z"
   },
   {
    "duration": 0,
    "start_time": "2022-08-04T11:13:07.216Z"
   },
   {
    "duration": 0,
    "start_time": "2022-08-04T11:13:07.217Z"
   },
   {
    "duration": 0,
    "start_time": "2022-08-04T11:13:07.219Z"
   },
   {
    "duration": 0,
    "start_time": "2022-08-04T11:13:07.220Z"
   },
   {
    "duration": 0,
    "start_time": "2022-08-04T11:13:07.222Z"
   },
   {
    "duration": 0,
    "start_time": "2022-08-04T11:13:07.223Z"
   },
   {
    "duration": 0,
    "start_time": "2022-08-04T11:13:07.225Z"
   },
   {
    "duration": 0,
    "start_time": "2022-08-04T11:13:07.226Z"
   },
   {
    "duration": 0,
    "start_time": "2022-08-04T11:13:07.228Z"
   },
   {
    "duration": 6,
    "start_time": "2022-08-04T11:17:28.621Z"
   },
   {
    "duration": 8,
    "start_time": "2022-08-04T11:17:30.127Z"
   },
   {
    "duration": 10,
    "start_time": "2022-08-04T11:17:33.621Z"
   },
   {
    "duration": 11,
    "start_time": "2022-08-04T11:17:47.436Z"
   },
   {
    "duration": 262,
    "start_time": "2022-08-04T11:17:48.972Z"
   },
   {
    "duration": 5,
    "start_time": "2022-08-04T11:18:06.329Z"
   },
   {
    "duration": 5,
    "start_time": "2022-08-04T11:18:08.282Z"
   },
   {
    "duration": 8,
    "start_time": "2022-08-04T11:18:13.107Z"
   },
   {
    "duration": 9,
    "start_time": "2022-08-04T11:18:15.458Z"
   },
   {
    "duration": 8,
    "start_time": "2022-08-04T11:18:17.367Z"
   },
   {
    "duration": 223,
    "start_time": "2022-08-04T11:18:19.519Z"
   },
   {
    "duration": 5,
    "start_time": "2022-08-04T11:18:22.252Z"
   },
   {
    "duration": 5,
    "start_time": "2022-08-04T11:18:23.826Z"
   },
   {
    "duration": 8,
    "start_time": "2022-08-04T11:18:26.645Z"
   },
   {
    "duration": 11,
    "start_time": "2022-08-04T11:18:29.583Z"
   },
   {
    "duration": 9,
    "start_time": "2022-08-04T11:18:31.359Z"
   },
   {
    "duration": 260,
    "start_time": "2022-08-04T11:18:33.939Z"
   },
   {
    "duration": 6,
    "start_time": "2022-08-04T11:18:37.960Z"
   },
   {
    "duration": 5,
    "start_time": "2022-08-04T11:18:39.327Z"
   },
   {
    "duration": 6,
    "start_time": "2022-08-04T11:18:42.553Z"
   },
   {
    "duration": 6,
    "start_time": "2022-08-04T11:18:44.378Z"
   },
   {
    "duration": 6,
    "start_time": "2022-08-04T11:18:46.022Z"
   },
   {
    "duration": 8,
    "start_time": "2022-08-04T11:18:51.120Z"
   },
   {
    "duration": 6,
    "start_time": "2022-08-04T11:18:52.540Z"
   },
   {
    "duration": 5,
    "start_time": "2022-08-04T11:18:54.070Z"
   },
   {
    "duration": 5,
    "start_time": "2022-08-04T11:18:55.904Z"
   },
   {
    "duration": 89,
    "start_time": "2022-08-04T11:23:07.729Z"
   },
   {
    "duration": 8,
    "start_time": "2022-08-04T11:23:47.991Z"
   },
   {
    "duration": 7,
    "start_time": "2022-08-04T11:24:09.354Z"
   },
   {
    "duration": 9,
    "start_time": "2022-08-04T11:24:22.280Z"
   },
   {
    "duration": 276,
    "start_time": "2022-08-04T11:25:11.149Z"
   },
   {
    "duration": 360,
    "start_time": "2022-08-04T11:25:22.544Z"
   },
   {
    "duration": 75,
    "start_time": "2022-08-04T11:29:49.035Z"
   },
   {
    "duration": 9,
    "start_time": "2022-08-04T11:30:01.955Z"
   },
   {
    "duration": 11,
    "start_time": "2022-08-04T11:30:06.561Z"
   },
   {
    "duration": 8,
    "start_time": "2022-08-04T11:30:09.746Z"
   },
   {
    "duration": 269,
    "start_time": "2022-08-04T11:30:22.217Z"
   },
   {
    "duration": 229,
    "start_time": "2022-08-04T11:30:42.735Z"
   },
   {
    "duration": 1274,
    "start_time": "2022-08-04T12:10:12.131Z"
   },
   {
    "duration": 1120,
    "start_time": "2022-08-04T12:10:13.407Z"
   },
   {
    "duration": 78,
    "start_time": "2022-08-04T12:10:14.529Z"
   },
   {
    "duration": 17,
    "start_time": "2022-08-04T12:10:14.609Z"
   },
   {
    "duration": 5,
    "start_time": "2022-08-04T12:10:14.638Z"
   },
   {
    "duration": 12,
    "start_time": "2022-08-04T12:10:14.645Z"
   },
   {
    "duration": 53,
    "start_time": "2022-08-04T12:10:14.658Z"
   },
   {
    "duration": 25,
    "start_time": "2022-08-04T12:10:14.713Z"
   },
   {
    "duration": 13,
    "start_time": "2022-08-04T12:10:14.740Z"
   },
   {
    "duration": 12,
    "start_time": "2022-08-04T12:10:14.756Z"
   },
   {
    "duration": 31,
    "start_time": "2022-08-04T12:10:14.769Z"
   },
   {
    "duration": 10,
    "start_time": "2022-08-04T12:10:14.801Z"
   },
   {
    "duration": 69,
    "start_time": "2022-08-04T12:10:14.812Z"
   },
   {
    "duration": 11,
    "start_time": "2022-08-04T12:10:14.883Z"
   },
   {
    "duration": 43,
    "start_time": "2022-08-04T12:10:14.896Z"
   },
   {
    "duration": 11,
    "start_time": "2022-08-04T12:10:14.941Z"
   },
   {
    "duration": 20,
    "start_time": "2022-08-04T12:10:14.954Z"
   },
   {
    "duration": 8,
    "start_time": "2022-08-04T12:10:14.975Z"
   },
   {
    "duration": 14,
    "start_time": "2022-08-04T12:10:14.985Z"
   },
   {
    "duration": 49,
    "start_time": "2022-08-04T12:10:15.000Z"
   },
   {
    "duration": 8,
    "start_time": "2022-08-04T12:10:15.050Z"
   },
   {
    "duration": 25,
    "start_time": "2022-08-04T12:10:15.059Z"
   },
   {
    "duration": 21,
    "start_time": "2022-08-04T12:10:15.085Z"
   },
   {
    "duration": 43,
    "start_time": "2022-08-04T12:10:15.107Z"
   },
   {
    "duration": 25,
    "start_time": "2022-08-04T12:10:15.151Z"
   },
   {
    "duration": 26,
    "start_time": "2022-08-04T12:10:15.177Z"
   },
   {
    "duration": 6,
    "start_time": "2022-08-04T12:10:15.204Z"
   },
   {
    "duration": 32,
    "start_time": "2022-08-04T12:10:15.213Z"
   },
   {
    "duration": 8,
    "start_time": "2022-08-04T12:10:15.247Z"
   },
   {
    "duration": 268,
    "start_time": "2022-08-04T12:10:15.257Z"
   },
   {
    "duration": 4,
    "start_time": "2022-08-04T12:10:15.526Z"
   },
   {
    "duration": 4,
    "start_time": "2022-08-04T12:10:15.538Z"
   },
   {
    "duration": 10,
    "start_time": "2022-08-04T12:10:15.543Z"
   },
   {
    "duration": 15,
    "start_time": "2022-08-04T12:10:15.555Z"
   },
   {
    "duration": 7,
    "start_time": "2022-08-04T12:10:15.572Z"
   },
   {
    "duration": 203,
    "start_time": "2022-08-04T12:10:15.581Z"
   },
   {
    "duration": 4,
    "start_time": "2022-08-04T12:10:15.785Z"
   },
   {
    "duration": 8,
    "start_time": "2022-08-04T12:10:15.790Z"
   },
   {
    "duration": 7,
    "start_time": "2022-08-04T12:10:15.799Z"
   },
   {
    "duration": 13,
    "start_time": "2022-08-04T12:10:15.808Z"
   },
   {
    "duration": 26,
    "start_time": "2022-08-04T12:10:15.823Z"
   },
   {
    "duration": 217,
    "start_time": "2022-08-04T12:10:15.851Z"
   },
   {
    "duration": 4,
    "start_time": "2022-08-04T12:10:16.070Z"
   },
   {
    "duration": 23,
    "start_time": "2022-08-04T12:10:16.076Z"
   },
   {
    "duration": 21,
    "start_time": "2022-08-04T12:10:16.101Z"
   },
   {
    "duration": 24,
    "start_time": "2022-08-04T12:10:16.123Z"
   },
   {
    "duration": 14,
    "start_time": "2022-08-04T12:10:16.149Z"
   },
   {
    "duration": 207,
    "start_time": "2022-08-04T12:10:16.165Z"
   },
   {
    "duration": 5,
    "start_time": "2022-08-04T12:10:16.374Z"
   },
   {
    "duration": 11,
    "start_time": "2022-08-04T12:10:16.381Z"
   },
   {
    "duration": 21,
    "start_time": "2022-08-04T12:10:16.394Z"
   },
   {
    "duration": 18,
    "start_time": "2022-08-04T12:10:16.416Z"
   },
   {
    "duration": 21,
    "start_time": "2022-08-04T12:10:16.435Z"
   },
   {
    "duration": 11,
    "start_time": "2022-08-04T12:10:16.457Z"
   },
   {
    "duration": 14,
    "start_time": "2022-08-04T12:10:16.470Z"
   },
   {
    "duration": 4,
    "start_time": "2022-08-04T13:03:52.013Z"
   },
   {
    "duration": 29,
    "start_time": "2022-08-04T16:20:08.219Z"
   },
   {
    "duration": 36,
    "start_time": "2022-08-04T16:21:11.535Z"
   },
   {
    "duration": 44,
    "start_time": "2022-08-05T08:30:47.036Z"
   },
   {
    "duration": 54,
    "start_time": "2022-08-05T08:33:18.649Z"
   },
   {
    "duration": 5,
    "start_time": "2022-08-05T08:37:39.237Z"
   },
   {
    "duration": 3,
    "start_time": "2022-08-05T08:38:00.192Z"
   },
   {
    "duration": 4,
    "start_time": "2022-08-05T08:38:08.253Z"
   },
   {
    "duration": 5,
    "start_time": "2022-08-05T08:38:15.261Z"
   },
   {
    "duration": 3,
    "start_time": "2022-08-05T08:38:20.259Z"
   },
   {
    "duration": 3,
    "start_time": "2022-08-05T08:38:34.284Z"
   },
   {
    "duration": 7,
    "start_time": "2022-08-05T08:38:45.839Z"
   },
   {
    "duration": 1178,
    "start_time": "2022-08-05T08:38:56.913Z"
   },
   {
    "duration": 897,
    "start_time": "2022-08-05T08:39:15.013Z"
   },
   {
    "duration": 55,
    "start_time": "2022-08-05T08:42:44.101Z"
   },
   {
    "duration": 105,
    "start_time": "2022-08-05T08:42:47.611Z"
   },
   {
    "duration": 50,
    "start_time": "2022-08-05T08:43:03.583Z"
   },
   {
    "duration": 68,
    "start_time": "2022-08-05T08:43:11.689Z"
   },
   {
    "duration": 6,
    "start_time": "2022-08-05T08:43:23.020Z"
   },
   {
    "duration": 14,
    "start_time": "2022-08-05T08:48:13.872Z"
   },
   {
    "duration": 3,
    "start_time": "2022-08-05T08:48:22.698Z"
   },
   {
    "duration": 367,
    "start_time": "2022-08-05T08:48:22.704Z"
   },
   {
    "duration": 70,
    "start_time": "2022-08-05T08:48:23.073Z"
   },
   {
    "duration": 15,
    "start_time": "2022-08-05T08:48:23.145Z"
   },
   {
    "duration": 6,
    "start_time": "2022-08-05T08:48:23.161Z"
   },
   {
    "duration": 13,
    "start_time": "2022-08-05T08:48:23.169Z"
   },
   {
    "duration": 100,
    "start_time": "2022-08-05T08:48:23.184Z"
   },
   {
    "duration": 34,
    "start_time": "2022-08-05T08:48:23.286Z"
   },
   {
    "duration": 53,
    "start_time": "2022-08-05T08:48:23.322Z"
   },
   {
    "duration": 7,
    "start_time": "2022-08-05T08:48:23.377Z"
   },
   {
    "duration": 53,
    "start_time": "2022-08-05T08:48:24.618Z"
   },
   {
    "duration": 20,
    "start_time": "2022-08-05T08:48:47.739Z"
   },
   {
    "duration": 31,
    "start_time": "2022-08-05T08:49:00.517Z"
   },
   {
    "duration": 54,
    "start_time": "2022-08-05T08:49:57.211Z"
   },
   {
    "duration": 54,
    "start_time": "2022-08-05T08:50:47.392Z"
   },
   {
    "duration": 8,
    "start_time": "2022-08-05T08:50:53.327Z"
   },
   {
    "duration": 8,
    "start_time": "2022-08-05T08:50:54.864Z"
   },
   {
    "duration": 4,
    "start_time": "2022-08-05T08:51:05.123Z"
   },
   {
    "duration": 10,
    "start_time": "2022-08-05T08:51:22.231Z"
   },
   {
    "duration": 4,
    "start_time": "2022-08-05T08:51:38.529Z"
   },
   {
    "duration": 6,
    "start_time": "2022-08-05T08:51:49.079Z"
   },
   {
    "duration": 5,
    "start_time": "2022-08-05T08:52:24.415Z"
   },
   {
    "duration": 7,
    "start_time": "2022-08-05T08:52:26.284Z"
   },
   {
    "duration": 66,
    "start_time": "2022-08-05T10:12:25.000Z"
   },
   {
    "duration": 8,
    "start_time": "2022-08-05T10:12:28.906Z"
   },
   {
    "duration": 2,
    "start_time": "2022-08-05T10:12:35.513Z"
   },
   {
    "duration": 436,
    "start_time": "2022-08-05T10:12:35.519Z"
   },
   {
    "duration": 67,
    "start_time": "2022-08-05T10:12:35.957Z"
   },
   {
    "duration": 13,
    "start_time": "2022-08-05T10:12:36.026Z"
   },
   {
    "duration": 19,
    "start_time": "2022-08-05T10:12:36.042Z"
   },
   {
    "duration": 18,
    "start_time": "2022-08-05T10:12:36.063Z"
   },
   {
    "duration": 111,
    "start_time": "2022-08-05T10:12:36.082Z"
   },
   {
    "duration": 36,
    "start_time": "2022-08-05T10:12:36.194Z"
   },
   {
    "duration": 55,
    "start_time": "2022-08-05T10:12:36.231Z"
   },
   {
    "duration": 7,
    "start_time": "2022-08-05T10:12:36.287Z"
   },
   {
    "duration": 68,
    "start_time": "2022-08-05T10:12:36.296Z"
   },
   {
    "duration": 7,
    "start_time": "2022-08-05T10:12:36.366Z"
   },
   {
    "duration": 24,
    "start_time": "2022-08-05T10:12:36.374Z"
   },
   {
    "duration": 24,
    "start_time": "2022-08-05T10:12:36.400Z"
   },
   {
    "duration": 40,
    "start_time": "2022-08-05T10:12:36.426Z"
   },
   {
    "duration": 13,
    "start_time": "2022-08-05T10:12:36.468Z"
   },
   {
    "duration": 51,
    "start_time": "2022-08-05T10:12:36.483Z"
   },
   {
    "duration": 30,
    "start_time": "2022-08-05T10:12:36.535Z"
   },
   {
    "duration": 18,
    "start_time": "2022-08-05T10:12:36.567Z"
   },
   {
    "duration": 9,
    "start_time": "2022-08-05T10:12:36.587Z"
   },
   {
    "duration": 17,
    "start_time": "2022-08-05T10:12:36.598Z"
   },
   {
    "duration": 46,
    "start_time": "2022-08-05T10:12:36.616Z"
   },
   {
    "duration": 17,
    "start_time": "2022-08-05T10:12:36.663Z"
   },
   {
    "duration": 8,
    "start_time": "2022-08-05T10:12:39.389Z"
   },
   {
    "duration": 4,
    "start_time": "2022-08-05T10:14:17.682Z"
   },
   {
    "duration": 5,
    "start_time": "2022-08-05T10:14:40.847Z"
   },
   {
    "duration": 4,
    "start_time": "2022-08-05T10:14:59.470Z"
   },
   {
    "duration": 919,
    "start_time": "2022-08-05T10:15:27.978Z"
   },
   {
    "duration": 980,
    "start_time": "2022-08-05T10:15:32.313Z"
   },
   {
    "duration": 8,
    "start_time": "2022-08-05T10:15:36.499Z"
   },
   {
    "duration": 4,
    "start_time": "2022-08-05T10:15:58.741Z"
   },
   {
    "duration": 13,
    "start_time": "2022-08-05T11:12:39.931Z"
   },
   {
    "duration": 3,
    "start_time": "2022-08-05T11:12:51.692Z"
   },
   {
    "duration": 392,
    "start_time": "2022-08-05T11:12:51.696Z"
   },
   {
    "duration": 72,
    "start_time": "2022-08-05T11:12:52.089Z"
   },
   {
    "duration": 12,
    "start_time": "2022-08-05T11:12:52.164Z"
   },
   {
    "duration": 10,
    "start_time": "2022-08-05T11:12:52.177Z"
   },
   {
    "duration": 15,
    "start_time": "2022-08-05T11:12:52.189Z"
   },
   {
    "duration": 114,
    "start_time": "2022-08-05T11:12:52.206Z"
   },
   {
    "duration": 49,
    "start_time": "2022-08-05T11:12:52.321Z"
   },
   {
    "duration": 35,
    "start_time": "2022-08-05T11:12:52.372Z"
   },
   {
    "duration": 6,
    "start_time": "2022-08-05T11:12:52.408Z"
   },
   {
    "duration": 71,
    "start_time": "2022-08-05T11:12:52.415Z"
   },
   {
    "duration": 3,
    "start_time": "2022-08-05T11:12:52.488Z"
   },
   {
    "duration": 17,
    "start_time": "2022-08-05T11:12:52.493Z"
   },
   {
    "duration": 17,
    "start_time": "2022-08-05T11:12:52.512Z"
   },
   {
    "duration": 36,
    "start_time": "2022-08-05T11:12:52.531Z"
   },
   {
    "duration": 10,
    "start_time": "2022-08-05T11:12:52.569Z"
   },
   {
    "duration": 56,
    "start_time": "2022-08-05T11:12:52.580Z"
   },
   {
    "duration": 22,
    "start_time": "2022-08-05T11:12:52.638Z"
   },
   {
    "duration": 30,
    "start_time": "2022-08-05T11:12:52.662Z"
   },
   {
    "duration": 9,
    "start_time": "2022-08-05T11:12:52.693Z"
   },
   {
    "duration": 18,
    "start_time": "2022-08-05T11:12:52.704Z"
   },
   {
    "duration": 9,
    "start_time": "2022-08-05T11:12:52.724Z"
   },
   {
    "duration": 35,
    "start_time": "2022-08-05T11:12:52.735Z"
   },
   {
    "duration": 7,
    "start_time": "2022-08-05T11:12:52.773Z"
   },
   {
    "duration": 8,
    "start_time": "2022-08-05T11:12:52.782Z"
   },
   {
    "duration": 6,
    "start_time": "2022-08-05T11:12:52.791Z"
   },
   {
    "duration": 10,
    "start_time": "2022-08-05T11:12:52.799Z"
   },
   {
    "duration": 30,
    "start_time": "2022-08-05T11:12:52.811Z"
   },
   {
    "duration": 19,
    "start_time": "2022-08-05T11:12:52.842Z"
   },
   {
    "duration": 29,
    "start_time": "2022-08-05T11:12:52.863Z"
   },
   {
    "duration": 21,
    "start_time": "2022-08-05T11:12:52.893Z"
   },
   {
    "duration": 44,
    "start_time": "2022-08-05T11:12:52.916Z"
   },
   {
    "duration": 25,
    "start_time": "2022-08-05T11:12:52.962Z"
   },
   {
    "duration": 27,
    "start_time": "2022-08-05T11:12:52.988Z"
   },
   {
    "duration": 5,
    "start_time": "2022-08-05T11:12:53.017Z"
   },
   {
    "duration": 23,
    "start_time": "2022-08-05T11:12:53.023Z"
   },
   {
    "duration": 8,
    "start_time": "2022-08-05T11:12:53.057Z"
   },
   {
    "duration": 267,
    "start_time": "2022-08-05T11:12:53.066Z"
   },
   {
    "duration": 5,
    "start_time": "2022-08-05T11:12:53.335Z"
   },
   {
    "duration": 7,
    "start_time": "2022-08-05T11:12:53.341Z"
   },
   {
    "duration": 33,
    "start_time": "2022-08-05T11:12:57.752Z"
   },
   {
    "duration": 53,
    "start_time": "2022-08-05T11:16:13.118Z"
   },
   {
    "duration": 47,
    "start_time": "2022-08-05T11:20:05.818Z"
   },
   {
    "duration": 11,
    "start_time": "2022-08-05T11:23:26.583Z"
   },
   {
    "duration": 3,
    "start_time": "2022-08-05T11:23:31.611Z"
   },
   {
    "duration": 392,
    "start_time": "2022-08-05T11:23:31.616Z"
   },
   {
    "duration": 73,
    "start_time": "2022-08-05T11:23:32.009Z"
   },
   {
    "duration": 13,
    "start_time": "2022-08-05T11:23:32.084Z"
   },
   {
    "duration": 10,
    "start_time": "2022-08-05T11:23:32.098Z"
   },
   {
    "duration": 20,
    "start_time": "2022-08-05T11:23:32.110Z"
   },
   {
    "duration": 105,
    "start_time": "2022-08-05T11:23:32.131Z"
   },
   {
    "duration": 39,
    "start_time": "2022-08-05T11:23:32.237Z"
   },
   {
    "duration": 37,
    "start_time": "2022-08-05T11:23:32.278Z"
   },
   {
    "duration": 8,
    "start_time": "2022-08-05T11:23:32.316Z"
   },
   {
    "duration": 70,
    "start_time": "2022-08-05T11:23:32.326Z"
   },
   {
    "duration": 4,
    "start_time": "2022-08-05T11:23:32.397Z"
   },
   {
    "duration": 20,
    "start_time": "2022-08-05T11:23:32.403Z"
   },
   {
    "duration": 12,
    "start_time": "2022-08-05T11:23:32.425Z"
   },
   {
    "duration": 42,
    "start_time": "2022-08-05T11:23:32.439Z"
   },
   {
    "duration": 13,
    "start_time": "2022-08-05T11:23:32.482Z"
   },
   {
    "duration": 103,
    "start_time": "2022-08-05T11:23:32.498Z"
   },
   {
    "duration": 18,
    "start_time": "2022-08-05T11:23:32.603Z"
   },
   {
    "duration": 34,
    "start_time": "2022-08-05T11:23:32.623Z"
   },
   {
    "duration": 9,
    "start_time": "2022-08-05T11:23:32.659Z"
   },
   {
    "duration": 20,
    "start_time": "2022-08-05T11:23:32.669Z"
   },
   {
    "duration": 8,
    "start_time": "2022-08-05T11:23:32.690Z"
   },
   {
    "duration": 16,
    "start_time": "2022-08-05T11:23:32.700Z"
   },
   {
    "duration": 43,
    "start_time": "2022-08-05T11:23:32.719Z"
   },
   {
    "duration": 17,
    "start_time": "2022-08-05T11:23:32.764Z"
   },
   {
    "duration": 9,
    "start_time": "2022-08-05T11:23:32.783Z"
   },
   {
    "duration": 12,
    "start_time": "2022-08-05T11:23:32.794Z"
   },
   {
    "duration": 28,
    "start_time": "2022-08-05T11:23:32.807Z"
   },
   {
    "duration": 10,
    "start_time": "2022-08-05T11:23:32.837Z"
   },
   {
    "duration": 43,
    "start_time": "2022-08-05T11:23:32.849Z"
   },
   {
    "duration": 26,
    "start_time": "2022-08-05T11:23:32.894Z"
   },
   {
    "duration": 59,
    "start_time": "2022-08-05T11:23:32.923Z"
   },
   {
    "duration": 26,
    "start_time": "2022-08-05T11:23:32.983Z"
   },
   {
    "duration": 52,
    "start_time": "2022-08-05T11:23:33.011Z"
   },
   {
    "duration": 6,
    "start_time": "2022-08-05T11:23:33.065Z"
   },
   {
    "duration": 18,
    "start_time": "2022-08-05T11:23:33.073Z"
   },
   {
    "duration": 14,
    "start_time": "2022-08-05T11:23:33.093Z"
   },
   {
    "duration": 260,
    "start_time": "2022-08-05T11:23:33.109Z"
   },
   {
    "duration": 4,
    "start_time": "2022-08-05T11:23:33.371Z"
   },
   {
    "duration": 18,
    "start_time": "2022-08-05T11:23:33.377Z"
   },
   {
    "duration": 45,
    "start_time": "2022-08-05T11:23:33.397Z"
   },
   {
    "duration": 19,
    "start_time": "2022-08-05T11:23:33.443Z"
   },
   {
    "duration": 9,
    "start_time": "2022-08-05T11:23:33.464Z"
   },
   {
    "duration": 8,
    "start_time": "2022-08-05T11:23:33.475Z"
   },
   {
    "duration": 324,
    "start_time": "2022-08-05T11:23:33.485Z"
   },
   {
    "duration": 4,
    "start_time": "2022-08-05T11:23:33.811Z"
   },
   {
    "duration": 10,
    "start_time": "2022-08-05T11:23:33.817Z"
   },
   {
    "duration": 7,
    "start_time": "2022-08-05T11:23:33.829Z"
   },
   {
    "duration": 21,
    "start_time": "2022-08-05T11:23:33.837Z"
   },
   {
    "duration": 7,
    "start_time": "2022-08-05T11:23:33.860Z"
   },
   {
    "duration": 237,
    "start_time": "2022-08-05T11:23:36.045Z"
   },
   {
    "duration": 247,
    "start_time": "2022-08-05T11:24:03.917Z"
   },
   {
    "duration": 256,
    "start_time": "2022-08-05T11:26:24.869Z"
   },
   {
    "duration": 195,
    "start_time": "2022-08-05T11:28:53.474Z"
   },
   {
    "duration": 9,
    "start_time": "2022-08-05T11:29:31.898Z"
   },
   {
    "duration": 11,
    "start_time": "2022-08-05T11:29:39.125Z"
   },
   {
    "duration": 3,
    "start_time": "2022-08-05T11:29:45.083Z"
   },
   {
    "duration": 490,
    "start_time": "2022-08-05T11:29:45.089Z"
   },
   {
    "duration": 76,
    "start_time": "2022-08-05T11:29:45.581Z"
   },
   {
    "duration": 17,
    "start_time": "2022-08-05T11:29:45.659Z"
   },
   {
    "duration": 13,
    "start_time": "2022-08-05T11:29:45.679Z"
   },
   {
    "duration": 26,
    "start_time": "2022-08-05T11:29:45.693Z"
   },
   {
    "duration": 101,
    "start_time": "2022-08-05T11:29:45.721Z"
   },
   {
    "duration": 40,
    "start_time": "2022-08-05T11:29:45.823Z"
   },
   {
    "duration": 35,
    "start_time": "2022-08-05T11:29:45.865Z"
   },
   {
    "duration": 6,
    "start_time": "2022-08-05T11:29:45.902Z"
   },
   {
    "duration": 70,
    "start_time": "2022-08-05T11:29:45.910Z"
   },
   {
    "duration": 4,
    "start_time": "2022-08-05T11:29:45.982Z"
   },
   {
    "duration": 21,
    "start_time": "2022-08-05T11:29:45.988Z"
   },
   {
    "duration": 13,
    "start_time": "2022-08-05T11:29:46.012Z"
   },
   {
    "duration": 42,
    "start_time": "2022-08-05T11:29:46.027Z"
   },
   {
    "duration": 10,
    "start_time": "2022-08-05T11:29:46.071Z"
   },
   {
    "duration": 48,
    "start_time": "2022-08-05T11:29:46.083Z"
   },
   {
    "duration": 34,
    "start_time": "2022-08-05T11:29:46.133Z"
   },
   {
    "duration": 30,
    "start_time": "2022-08-05T11:29:46.169Z"
   },
   {
    "duration": 10,
    "start_time": "2022-08-05T11:29:46.201Z"
   },
   {
    "duration": 22,
    "start_time": "2022-08-05T11:29:46.212Z"
   },
   {
    "duration": 23,
    "start_time": "2022-08-05T11:29:46.236Z"
   },
   {
    "duration": 15,
    "start_time": "2022-08-05T11:29:46.261Z"
   },
   {
    "duration": 6,
    "start_time": "2022-08-05T11:29:46.280Z"
   },
   {
    "duration": 6,
    "start_time": "2022-08-05T11:29:46.287Z"
   },
   {
    "duration": 6,
    "start_time": "2022-08-05T11:29:46.295Z"
   },
   {
    "duration": 8,
    "start_time": "2022-08-05T11:29:46.302Z"
   },
   {
    "duration": 52,
    "start_time": "2022-08-05T11:29:46.311Z"
   },
   {
    "duration": 11,
    "start_time": "2022-08-05T11:29:46.365Z"
   },
   {
    "duration": 22,
    "start_time": "2022-08-05T11:29:46.377Z"
   },
   {
    "duration": 24,
    "start_time": "2022-08-05T11:29:46.401Z"
   },
   {
    "duration": 52,
    "start_time": "2022-08-05T11:29:46.427Z"
   },
   {
    "duration": 26,
    "start_time": "2022-08-05T11:29:46.482Z"
   },
   {
    "duration": 48,
    "start_time": "2022-08-05T11:29:46.510Z"
   },
   {
    "duration": 5,
    "start_time": "2022-08-05T11:29:46.560Z"
   },
   {
    "duration": 11,
    "start_time": "2022-08-05T11:29:46.567Z"
   },
   {
    "duration": 10,
    "start_time": "2022-08-05T11:29:46.579Z"
   },
   {
    "duration": 239,
    "start_time": "2022-08-05T11:29:46.590Z"
   },
   {
    "duration": 4,
    "start_time": "2022-08-05T11:29:46.831Z"
   },
   {
    "duration": 7,
    "start_time": "2022-08-05T11:29:46.837Z"
   },
   {
    "duration": 43,
    "start_time": "2022-08-05T11:29:46.857Z"
   },
   {
    "duration": 5,
    "start_time": "2022-08-05T11:29:46.902Z"
   },
   {
    "duration": 7,
    "start_time": "2022-08-05T11:29:46.909Z"
   },
   {
    "duration": 7,
    "start_time": "2022-08-05T11:29:46.917Z"
   },
   {
    "duration": 215,
    "start_time": "2022-08-05T11:29:46.925Z"
   },
   {
    "duration": 4,
    "start_time": "2022-08-05T11:29:47.142Z"
   },
   {
    "duration": 11,
    "start_time": "2022-08-05T11:29:47.148Z"
   },
   {
    "duration": 7,
    "start_time": "2022-08-05T11:29:47.161Z"
   },
   {
    "duration": 10,
    "start_time": "2022-08-05T11:29:47.169Z"
   },
   {
    "duration": 8,
    "start_time": "2022-08-05T11:29:47.181Z"
   },
   {
    "duration": 357,
    "start_time": "2022-08-05T11:29:47.190Z"
   },
   {
    "duration": 9,
    "start_time": "2022-08-05T11:29:47.549Z"
   },
   {
    "duration": 5,
    "start_time": "2022-08-05T11:29:47.560Z"
   },
   {
    "duration": 8,
    "start_time": "2022-08-05T11:29:47.567Z"
   },
   {
    "duration": 10,
    "start_time": "2022-08-05T11:29:47.577Z"
   },
   {
    "duration": 8,
    "start_time": "2022-08-05T11:29:47.588Z"
   },
   {
    "duration": 185,
    "start_time": "2022-08-05T11:29:47.772Z"
   },
   {
    "duration": 5,
    "start_time": "2022-08-05T11:34:46.752Z"
   },
   {
    "duration": 8,
    "start_time": "2022-08-05T11:34:56.576Z"
   },
   {
    "duration": 4,
    "start_time": "2022-08-05T11:37:37.391Z"
   },
   {
    "duration": 5,
    "start_time": "2022-08-05T11:37:50.515Z"
   },
   {
    "duration": 14,
    "start_time": "2022-08-05T11:38:01.489Z"
   },
   {
    "duration": 12,
    "start_time": "2022-08-05T11:41:00.879Z"
   },
   {
    "duration": 5,
    "start_time": "2022-08-05T11:41:17.921Z"
   },
   {
    "duration": 6,
    "start_time": "2022-08-05T11:42:15.368Z"
   },
   {
    "duration": 5,
    "start_time": "2022-08-05T11:42:52.157Z"
   },
   {
    "duration": 47,
    "start_time": "2022-08-05T11:56:39.043Z"
   },
   {
    "duration": 84,
    "start_time": "2022-08-05T11:59:45.370Z"
   },
   {
    "duration": 132,
    "start_time": "2022-08-05T12:01:53.848Z"
   },
   {
    "duration": 49,
    "start_time": "2022-08-05T12:16:06.208Z"
   },
   {
    "duration": 95,
    "start_time": "2022-08-05T12:17:18.740Z"
   },
   {
    "duration": 1057,
    "start_time": "2022-08-05T12:20:17.171Z"
   },
   {
    "duration": 372,
    "start_time": "2022-08-05T12:20:18.230Z"
   },
   {
    "duration": 71,
    "start_time": "2022-08-05T12:20:18.603Z"
   },
   {
    "duration": 17,
    "start_time": "2022-08-05T12:20:18.676Z"
   },
   {
    "duration": 7,
    "start_time": "2022-08-05T12:20:18.695Z"
   },
   {
    "duration": 13,
    "start_time": "2022-08-05T12:20:18.703Z"
   },
   {
    "duration": 119,
    "start_time": "2022-08-05T12:20:18.718Z"
   },
   {
    "duration": 50,
    "start_time": "2022-08-05T12:20:18.839Z"
   },
   {
    "duration": 43,
    "start_time": "2022-08-05T12:20:18.891Z"
   },
   {
    "duration": 26,
    "start_time": "2022-08-05T12:20:18.937Z"
   },
   {
    "duration": 57,
    "start_time": "2022-08-05T12:20:18.964Z"
   },
   {
    "duration": 6,
    "start_time": "2022-08-05T12:20:19.023Z"
   },
   {
    "duration": 33,
    "start_time": "2022-08-05T12:20:19.030Z"
   },
   {
    "duration": 17,
    "start_time": "2022-08-05T12:20:19.065Z"
   },
   {
    "duration": 30,
    "start_time": "2022-08-05T12:20:19.084Z"
   },
   {
    "duration": 10,
    "start_time": "2022-08-05T12:20:19.116Z"
   },
   {
    "duration": 72,
    "start_time": "2022-08-05T12:20:19.128Z"
   },
   {
    "duration": 11,
    "start_time": "2022-08-05T12:20:19.202Z"
   },
   {
    "duration": 45,
    "start_time": "2022-08-05T12:20:19.214Z"
   },
   {
    "duration": 14,
    "start_time": "2022-08-05T12:20:19.261Z"
   },
   {
    "duration": 27,
    "start_time": "2022-08-05T12:20:19.277Z"
   },
   {
    "duration": 10,
    "start_time": "2022-08-05T12:20:19.306Z"
   },
   {
    "duration": 41,
    "start_time": "2022-08-05T12:20:19.318Z"
   },
   {
    "duration": 8,
    "start_time": "2022-08-05T12:20:19.361Z"
   },
   {
    "duration": 9,
    "start_time": "2022-08-05T12:20:19.370Z"
   },
   {
    "duration": 6,
    "start_time": "2022-08-05T12:20:19.380Z"
   },
   {
    "duration": 6,
    "start_time": "2022-08-05T12:20:19.388Z"
   },
   {
    "duration": 19,
    "start_time": "2022-08-05T12:20:19.398Z"
   },
   {
    "duration": 8,
    "start_time": "2022-08-05T12:20:19.419Z"
   },
   {
    "duration": 22,
    "start_time": "2022-08-05T12:20:19.458Z"
   },
   {
    "duration": 23,
    "start_time": "2022-08-05T12:20:19.482Z"
   },
   {
    "duration": 24,
    "start_time": "2022-08-05T12:20:19.507Z"
   },
   {
    "duration": 38,
    "start_time": "2022-08-05T12:20:19.558Z"
   },
   {
    "duration": 28,
    "start_time": "2022-08-05T12:20:19.598Z"
   },
   {
    "duration": 30,
    "start_time": "2022-08-05T12:20:19.627Z"
   },
   {
    "duration": 8,
    "start_time": "2022-08-05T12:20:19.659Z"
   },
   {
    "duration": 19,
    "start_time": "2022-08-05T12:20:19.669Z"
   },
   {
    "duration": 250,
    "start_time": "2022-08-05T12:20:19.689Z"
   },
   {
    "duration": 5,
    "start_time": "2022-08-05T12:20:19.942Z"
   },
   {
    "duration": 4,
    "start_time": "2022-08-05T12:20:19.956Z"
   },
   {
    "duration": 50,
    "start_time": "2022-08-05T12:20:19.962Z"
   },
   {
    "duration": 5,
    "start_time": "2022-08-05T12:20:20.014Z"
   },
   {
    "duration": 19,
    "start_time": "2022-08-05T12:20:20.021Z"
   },
   {
    "duration": 18,
    "start_time": "2022-08-05T12:20:20.041Z"
   },
   {
    "duration": 202,
    "start_time": "2022-08-05T12:20:20.061Z"
   },
   {
    "duration": 5,
    "start_time": "2022-08-05T12:20:20.264Z"
   },
   {
    "duration": 15,
    "start_time": "2022-08-05T12:20:20.271Z"
   },
   {
    "duration": 18,
    "start_time": "2022-08-05T12:20:20.289Z"
   },
   {
    "duration": 32,
    "start_time": "2022-08-05T12:20:20.309Z"
   },
   {
    "duration": 9,
    "start_time": "2022-08-05T12:20:20.342Z"
   },
   {
    "duration": 274,
    "start_time": "2022-08-05T12:20:20.352Z"
   },
   {
    "duration": 5,
    "start_time": "2022-08-05T12:20:20.627Z"
   },
   {
    "duration": 64,
    "start_time": "2022-08-05T12:20:20.633Z"
   },
   {
    "duration": 24,
    "start_time": "2022-08-05T12:20:20.698Z"
   },
   {
    "duration": 11,
    "start_time": "2022-08-05T12:20:20.723Z"
   },
   {
    "duration": 12,
    "start_time": "2022-08-05T12:20:20.736Z"
   },
   {
    "duration": 235,
    "start_time": "2022-08-05T12:20:20.749Z"
   },
   {
    "duration": 20,
    "start_time": "2022-08-05T12:20:20.986Z"
   },
   {
    "duration": 5,
    "start_time": "2022-08-05T12:20:21.008Z"
   },
   {
    "duration": 8,
    "start_time": "2022-08-05T12:20:21.015Z"
   },
   {
    "duration": 10,
    "start_time": "2022-08-05T12:20:21.025Z"
   },
   {
    "duration": 22,
    "start_time": "2022-08-05T12:20:21.036Z"
   },
   {
    "duration": 9,
    "start_time": "2022-08-05T12:20:21.060Z"
   },
   {
    "duration": 11,
    "start_time": "2022-08-05T12:20:21.071Z"
   },
   {
    "duration": 14,
    "start_time": "2022-08-05T12:20:21.084Z"
   },
   {
    "duration": 8,
    "start_time": "2022-08-05T12:20:21.100Z"
   },
   {
    "duration": 23,
    "start_time": "2022-08-05T12:20:21.109Z"
   },
   {
    "duration": 11,
    "start_time": "2022-08-05T12:20:21.134Z"
   },
   {
    "duration": 252,
    "start_time": "2022-08-05T12:22:26.350Z"
   },
   {
    "duration": 83,
    "start_time": "2022-08-05T14:45:19.926Z"
   },
   {
    "duration": 98,
    "start_time": "2022-08-05T14:46:37.413Z"
   },
   {
    "duration": 75,
    "start_time": "2022-08-05T15:46:59.633Z"
   },
   {
    "duration": 70,
    "start_time": "2022-08-05T15:58:32.983Z"
   },
   {
    "duration": 77,
    "start_time": "2022-08-05T15:59:06.722Z"
   },
   {
    "duration": 93,
    "start_time": "2022-08-06T05:00:29.566Z"
   }
  ],
  "kernelspec": {
   "display_name": "Python 3 (ipykernel)",
   "language": "python",
   "name": "python3"
  },
  "language_info": {
   "codemirror_mode": {
    "name": "ipython",
    "version": 3
   },
   "file_extension": ".py",
   "mimetype": "text/x-python",
   "name": "python",
   "nbconvert_exporter": "python",
   "pygments_lexer": "ipython3",
   "version": "3.9.16"
  },
  "toc": {
   "base_numbering": 1,
   "nav_menu": {
    "height": "72px",
    "width": "236px"
   },
   "number_sections": true,
   "sideBar": true,
   "skip_h1_title": true,
   "title_cell": "Table of Contents",
   "title_sidebar": "Contents",
   "toc_cell": true,
   "toc_position": {
    "height": "calc(100% - 180px)",
    "left": "10px",
    "top": "150px",
    "width": "650.391px"
   },
   "toc_section_display": true,
   "toc_window_display": true
  }
 },
 "nbformat": 4,
 "nbformat_minor": 2
}

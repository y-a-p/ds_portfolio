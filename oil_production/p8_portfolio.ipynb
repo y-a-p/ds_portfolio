{
 "cells": [
  {
   "cell_type": "markdown",
   "metadata": {
    "toc": true
   },
   "source": [
    "<h1>Table of Contents<span class=\"tocSkip\"></span></h1>\n",
    "<div class=\"toc\"><ul class=\"toc-item\"><li><span><a href=\"#Загрузка-и-подготовка-данных\" data-toc-modified-id=\"Загрузка-и-подготовка-данных-1\"><span class=\"toc-item-num\">1&nbsp;&nbsp;</span>Загрузка и подготовка данных</a></span><ul class=\"toc-item\"><li><span><a href=\"#Вывод\" data-toc-modified-id=\"Вывод-1.1\"><span class=\"toc-item-num\">1.1&nbsp;&nbsp;</span>Вывод</a></span></li></ul></li><li><span><a href=\"#Обучение-и-проверка-модели\" data-toc-modified-id=\"Обучение-и-проверка-модели-2\"><span class=\"toc-item-num\">2&nbsp;&nbsp;</span>Обучение и проверка модели</a></span><ul class=\"toc-item\"><li><span><a href=\"#Вывод\" data-toc-modified-id=\"Вывод-2.1\"><span class=\"toc-item-num\">2.1&nbsp;&nbsp;</span>Вывод</a></span></li></ul></li><li><span><a href=\"#Подготовка-к-расчёту-прибыли\" data-toc-modified-id=\"Подготовка-к-расчёту-прибыли-3\"><span class=\"toc-item-num\">3&nbsp;&nbsp;</span>Подготовка к расчёту прибыли</a></span><ul class=\"toc-item\"><li><span><a href=\"#Вывод\" data-toc-modified-id=\"Вывод-3.1\"><span class=\"toc-item-num\">3.1&nbsp;&nbsp;</span>Вывод</a></span></li></ul></li><li><span><a href=\"#Расчёт-прибыли-и-рисков\" data-toc-modified-id=\"Расчёт-прибыли-и-рисков-4\"><span class=\"toc-item-num\">4&nbsp;&nbsp;</span>Расчёт прибыли и рисков</a></span><ul class=\"toc-item\"><li><span><a href=\"#Вывод\" data-toc-modified-id=\"Вывод-4.1\"><span class=\"toc-item-num\">4.1&nbsp;&nbsp;</span>Вывод</a></span></li></ul></li><li><span><a href=\"#Чек-лист-готовности-проекта\" data-toc-modified-id=\"Чек-лист-готовности-проекта-5\"><span class=\"toc-item-num\">5&nbsp;&nbsp;</span>Чек-лист готовности проекта</a></span></li></ul></div>"
   ]
  },
  {
   "cell_type": "markdown",
   "metadata": {},
   "source": [
    "# Выбор локации для скважины"
   ]
  },
  {
   "cell_type": "markdown",
   "metadata": {},
   "source": [
    "Допустим, вы работаете в добывающей компании «ГлавРосГосНефть». Нужно решить, где бурить новую скважину.\n",
    "\n",
    "Вам предоставлены пробы нефти в трёх регионах: в каждом 10 000 месторождений, где измерили качество нефти и объём её запасов. Постройте модель машинного обучения, которая поможет определить регион, где добыча принесёт наибольшую прибыль. Проанализируйте возможную прибыль и риски техникой *Bootstrap.*\n",
    "\n",
    "Шаги для выбора локации:\n",
    "\n",
    "- В избранном регионе ищут месторождения, для каждого определяют значения признаков;\n",
    "- Строят модель и оценивают объём запасов;\n",
    "- Выбирают месторождения с самым высокими оценками значений. Количество месторождений зависит от бюджета компании и стоимости разработки одной скважины;\n",
    "- Прибыль равна суммарной прибыли отобранных месторождений.\n",
    "\n",
    "<b>Описание данных</b>\n",
    "\n",
    "Данные геологоразведки трёх регионов находятся в файлах:\n",
    "* `/datasets/geo_data_0.csv`\n",
    "* `/datasets/geo_data_1.csv`\n",
    "* `/datasets/geo_data_2.csv`<br>\n",
    "\n",
    "`id` — уникальный идентификатор скважины;<br>\n",
    "`f0`, `f1`, `f2` — три признака точек (неважно, что они означают, но сами признаки значимы);<br>\n",
    "`product` — объём запасов в скважине (тыс. баррелей).\n",
    "\n",
    "<b>Условия задачи:</b>\n",
    "* Для обучения модели подходит только линейная регрессия (остальные — недостаточно предсказуемые).\n",
    "* При разведке региона исследуют 500 точек, из которых с помощью машинного обучения выбирают 200 лучших для разработки.\n",
    "* Бюджет на разработку скважин в регионе — 10 млрд рублей.\n",
    "* При нынешних ценах один баррель сырья приносит 450 рублей дохода. Доход с каждой единицы продукта составляет 450 тыс. рублей, поскольку объём указан в тысячах баррелей.\n",
    "* После оценки рисков нужно оставить лишь те регионы, в которых вероятность убытков меньше 2.5%. * Среди них выбирают регион с наибольшей средней прибылью.<br>\n",
    "\n",
    "Данные синтетические: детали контрактов и характеристики месторождений не разглашаются."
   ]
  },
  {
   "cell_type": "markdown",
   "metadata": {},
   "source": [
    "## Загрузка и подготовка данных"
   ]
  },
  {
   "cell_type": "code",
   "execution_count": 5,
   "metadata": {},
   "outputs": [],
   "source": [
    "import pandas as pd\n",
    "import numpy as np\n",
    "from sklearn.model_selection import train_test_split\n",
    "from sklearn.linear_model import LinearRegression\n",
    "from sklearn.metrics import mean_squared_error"
   ]
  },
  {
   "cell_type": "code",
   "execution_count": 2,
   "metadata": {},
   "outputs": [],
   "source": [
    "try:\n",
    "    df_1 = pd.read_csv('/datasets/geo_data_0.csv')\n",
    "    df_2 = pd.read_csv('/datasets/geo_data_1.csv')\n",
    "    df_3 = pd.read_csv('/datasets/geo_data_2.csv')\n",
    "except:\n",
    "    print('При чтение файла возникал ошибка')"
   ]
  },
  {
   "cell_type": "markdown",
   "metadata": {},
   "source": [
    "Изучим представленные данные"
   ]
  },
  {
   "cell_type": "markdown",
   "metadata": {},
   "source": [
    "<b>Регион №1"
   ]
  },
  {
   "cell_type": "code",
   "execution_count": 3,
   "metadata": {
    "scrolled": false
   },
   "outputs": [
    {
     "data": {
      "text/html": [
       "<div>\n",
       "<style scoped>\n",
       "    .dataframe tbody tr th:only-of-type {\n",
       "        vertical-align: middle;\n",
       "    }\n",
       "\n",
       "    .dataframe tbody tr th {\n",
       "        vertical-align: top;\n",
       "    }\n",
       "\n",
       "    .dataframe thead th {\n",
       "        text-align: right;\n",
       "    }\n",
       "</style>\n",
       "<table border=\"1\" class=\"dataframe\">\n",
       "  <thead>\n",
       "    <tr style=\"text-align: right;\">\n",
       "      <th></th>\n",
       "      <th>id</th>\n",
       "      <th>f0</th>\n",
       "      <th>f1</th>\n",
       "      <th>f2</th>\n",
       "      <th>product</th>\n",
       "    </tr>\n",
       "  </thead>\n",
       "  <tbody>\n",
       "    <tr>\n",
       "      <th>0</th>\n",
       "      <td>txEyH</td>\n",
       "      <td>0.705745</td>\n",
       "      <td>-0.497823</td>\n",
       "      <td>1.221170</td>\n",
       "      <td>105.280062</td>\n",
       "    </tr>\n",
       "    <tr>\n",
       "      <th>1</th>\n",
       "      <td>2acmU</td>\n",
       "      <td>1.334711</td>\n",
       "      <td>-0.340164</td>\n",
       "      <td>4.365080</td>\n",
       "      <td>73.037750</td>\n",
       "    </tr>\n",
       "    <tr>\n",
       "      <th>2</th>\n",
       "      <td>409Wp</td>\n",
       "      <td>1.022732</td>\n",
       "      <td>0.151990</td>\n",
       "      <td>1.419926</td>\n",
       "      <td>85.265647</td>\n",
       "    </tr>\n",
       "    <tr>\n",
       "      <th>3</th>\n",
       "      <td>iJLyR</td>\n",
       "      <td>-0.032172</td>\n",
       "      <td>0.139033</td>\n",
       "      <td>2.978566</td>\n",
       "      <td>168.620776</td>\n",
       "    </tr>\n",
       "    <tr>\n",
       "      <th>4</th>\n",
       "      <td>Xdl7t</td>\n",
       "      <td>1.988431</td>\n",
       "      <td>0.155413</td>\n",
       "      <td>4.751769</td>\n",
       "      <td>154.036647</td>\n",
       "    </tr>\n",
       "  </tbody>\n",
       "</table>\n",
       "</div>"
      ],
      "text/plain": [
       "      id        f0        f1        f2     product\n",
       "0  txEyH  0.705745 -0.497823  1.221170  105.280062\n",
       "1  2acmU  1.334711 -0.340164  4.365080   73.037750\n",
       "2  409Wp  1.022732  0.151990  1.419926   85.265647\n",
       "3  iJLyR -0.032172  0.139033  2.978566  168.620776\n",
       "4  Xdl7t  1.988431  0.155413  4.751769  154.036647"
      ]
     },
     "execution_count": 3,
     "metadata": {},
     "output_type": "execute_result"
    }
   ],
   "source": [
    "df_1.head()"
   ]
  },
  {
   "cell_type": "code",
   "execution_count": 4,
   "metadata": {},
   "outputs": [
    {
     "name": "stdout",
     "output_type": "stream",
     "text": [
      "<class 'pandas.core.frame.DataFrame'>\n",
      "RangeIndex: 100000 entries, 0 to 99999\n",
      "Data columns (total 5 columns):\n",
      " #   Column   Non-Null Count   Dtype  \n",
      "---  ------   --------------   -----  \n",
      " 0   id       100000 non-null  object \n",
      " 1   f0       100000 non-null  float64\n",
      " 2   f1       100000 non-null  float64\n",
      " 3   f2       100000 non-null  float64\n",
      " 4   product  100000 non-null  float64\n",
      "dtypes: float64(4), object(1)\n",
      "memory usage: 3.8+ MB\n"
     ]
    }
   ],
   "source": [
    "df_1.info()"
   ]
  },
  {
   "cell_type": "code",
   "execution_count": 5,
   "metadata": {
    "scrolled": false
   },
   "outputs": [
    {
     "data": {
      "text/html": [
       "<div>\n",
       "<style scoped>\n",
       "    .dataframe tbody tr th:only-of-type {\n",
       "        vertical-align: middle;\n",
       "    }\n",
       "\n",
       "    .dataframe tbody tr th {\n",
       "        vertical-align: top;\n",
       "    }\n",
       "\n",
       "    .dataframe thead th {\n",
       "        text-align: right;\n",
       "    }\n",
       "</style>\n",
       "<table border=\"1\" class=\"dataframe\">\n",
       "  <thead>\n",
       "    <tr style=\"text-align: right;\">\n",
       "      <th></th>\n",
       "      <th>f0</th>\n",
       "      <th>f1</th>\n",
       "      <th>f2</th>\n",
       "      <th>product</th>\n",
       "    </tr>\n",
       "  </thead>\n",
       "  <tbody>\n",
       "    <tr>\n",
       "      <th>count</th>\n",
       "      <td>100000.000000</td>\n",
       "      <td>100000.000000</td>\n",
       "      <td>100000.000000</td>\n",
       "      <td>100000.000000</td>\n",
       "    </tr>\n",
       "    <tr>\n",
       "      <th>mean</th>\n",
       "      <td>0.500419</td>\n",
       "      <td>0.250143</td>\n",
       "      <td>2.502647</td>\n",
       "      <td>92.500000</td>\n",
       "    </tr>\n",
       "    <tr>\n",
       "      <th>std</th>\n",
       "      <td>0.871832</td>\n",
       "      <td>0.504433</td>\n",
       "      <td>3.248248</td>\n",
       "      <td>44.288691</td>\n",
       "    </tr>\n",
       "    <tr>\n",
       "      <th>min</th>\n",
       "      <td>-1.408605</td>\n",
       "      <td>-0.848218</td>\n",
       "      <td>-12.088328</td>\n",
       "      <td>0.000000</td>\n",
       "    </tr>\n",
       "    <tr>\n",
       "      <th>25%</th>\n",
       "      <td>-0.072580</td>\n",
       "      <td>-0.200881</td>\n",
       "      <td>0.287748</td>\n",
       "      <td>56.497507</td>\n",
       "    </tr>\n",
       "    <tr>\n",
       "      <th>50%</th>\n",
       "      <td>0.502360</td>\n",
       "      <td>0.250252</td>\n",
       "      <td>2.515969</td>\n",
       "      <td>91.849972</td>\n",
       "    </tr>\n",
       "    <tr>\n",
       "      <th>75%</th>\n",
       "      <td>1.073581</td>\n",
       "      <td>0.700646</td>\n",
       "      <td>4.715088</td>\n",
       "      <td>128.564089</td>\n",
       "    </tr>\n",
       "    <tr>\n",
       "      <th>max</th>\n",
       "      <td>2.362331</td>\n",
       "      <td>1.343769</td>\n",
       "      <td>16.003790</td>\n",
       "      <td>185.364347</td>\n",
       "    </tr>\n",
       "  </tbody>\n",
       "</table>\n",
       "</div>"
      ],
      "text/plain": [
       "                  f0             f1             f2        product\n",
       "count  100000.000000  100000.000000  100000.000000  100000.000000\n",
       "mean        0.500419       0.250143       2.502647      92.500000\n",
       "std         0.871832       0.504433       3.248248      44.288691\n",
       "min        -1.408605      -0.848218     -12.088328       0.000000\n",
       "25%        -0.072580      -0.200881       0.287748      56.497507\n",
       "50%         0.502360       0.250252       2.515969      91.849972\n",
       "75%         1.073581       0.700646       4.715088     128.564089\n",
       "max         2.362331       1.343769      16.003790     185.364347"
      ]
     },
     "execution_count": 5,
     "metadata": {},
     "output_type": "execute_result"
    }
   ],
   "source": [
    "df_1.describe()"
   ]
  },
  {
   "cell_type": "code",
   "execution_count": 6,
   "metadata": {
    "scrolled": true
   },
   "outputs": [
    {
     "data": {
      "text/plain": [
       "id          99990\n",
       "f0         100000\n",
       "f1         100000\n",
       "f2         100000\n",
       "product    100000\n",
       "dtype: int64"
      ]
     },
     "execution_count": 6,
     "metadata": {},
     "output_type": "execute_result"
    }
   ],
   "source": [
    "df_1.nunique()"
   ]
  },
  {
   "cell_type": "markdown",
   "metadata": {},
   "source": [
    "Вывод:<br>\n",
    "Критичных ошибок в данных не обнаружено. В 10 записях имеются повторяющиеся id скважин. "
   ]
  },
  {
   "cell_type": "markdown",
   "metadata": {},
   "source": [
    "<b> Регион №2"
   ]
  },
  {
   "cell_type": "code",
   "execution_count": 7,
   "metadata": {
    "scrolled": true
   },
   "outputs": [
    {
     "data": {
      "text/html": [
       "<div>\n",
       "<style scoped>\n",
       "    .dataframe tbody tr th:only-of-type {\n",
       "        vertical-align: middle;\n",
       "    }\n",
       "\n",
       "    .dataframe tbody tr th {\n",
       "        vertical-align: top;\n",
       "    }\n",
       "\n",
       "    .dataframe thead th {\n",
       "        text-align: right;\n",
       "    }\n",
       "</style>\n",
       "<table border=\"1\" class=\"dataframe\">\n",
       "  <thead>\n",
       "    <tr style=\"text-align: right;\">\n",
       "      <th></th>\n",
       "      <th>id</th>\n",
       "      <th>f0</th>\n",
       "      <th>f1</th>\n",
       "      <th>f2</th>\n",
       "      <th>product</th>\n",
       "    </tr>\n",
       "  </thead>\n",
       "  <tbody>\n",
       "    <tr>\n",
       "      <th>0</th>\n",
       "      <td>kBEdx</td>\n",
       "      <td>-15.001348</td>\n",
       "      <td>-8.276000</td>\n",
       "      <td>-0.005876</td>\n",
       "      <td>3.179103</td>\n",
       "    </tr>\n",
       "    <tr>\n",
       "      <th>1</th>\n",
       "      <td>62mP7</td>\n",
       "      <td>14.272088</td>\n",
       "      <td>-3.475083</td>\n",
       "      <td>0.999183</td>\n",
       "      <td>26.953261</td>\n",
       "    </tr>\n",
       "    <tr>\n",
       "      <th>2</th>\n",
       "      <td>vyE1P</td>\n",
       "      <td>6.263187</td>\n",
       "      <td>-5.948386</td>\n",
       "      <td>5.001160</td>\n",
       "      <td>134.766305</td>\n",
       "    </tr>\n",
       "    <tr>\n",
       "      <th>3</th>\n",
       "      <td>KcrkZ</td>\n",
       "      <td>-13.081196</td>\n",
       "      <td>-11.506057</td>\n",
       "      <td>4.999415</td>\n",
       "      <td>137.945408</td>\n",
       "    </tr>\n",
       "    <tr>\n",
       "      <th>4</th>\n",
       "      <td>AHL4O</td>\n",
       "      <td>12.702195</td>\n",
       "      <td>-8.147433</td>\n",
       "      <td>5.004363</td>\n",
       "      <td>134.766305</td>\n",
       "    </tr>\n",
       "  </tbody>\n",
       "</table>\n",
       "</div>"
      ],
      "text/plain": [
       "      id         f0         f1        f2     product\n",
       "0  kBEdx -15.001348  -8.276000 -0.005876    3.179103\n",
       "1  62mP7  14.272088  -3.475083  0.999183   26.953261\n",
       "2  vyE1P   6.263187  -5.948386  5.001160  134.766305\n",
       "3  KcrkZ -13.081196 -11.506057  4.999415  137.945408\n",
       "4  AHL4O  12.702195  -8.147433  5.004363  134.766305"
      ]
     },
     "execution_count": 7,
     "metadata": {},
     "output_type": "execute_result"
    }
   ],
   "source": [
    "df_2.head()"
   ]
  },
  {
   "cell_type": "code",
   "execution_count": 8,
   "metadata": {},
   "outputs": [
    {
     "name": "stdout",
     "output_type": "stream",
     "text": [
      "<class 'pandas.core.frame.DataFrame'>\n",
      "RangeIndex: 100000 entries, 0 to 99999\n",
      "Data columns (total 5 columns):\n",
      " #   Column   Non-Null Count   Dtype  \n",
      "---  ------   --------------   -----  \n",
      " 0   id       100000 non-null  object \n",
      " 1   f0       100000 non-null  float64\n",
      " 2   f1       100000 non-null  float64\n",
      " 3   f2       100000 non-null  float64\n",
      " 4   product  100000 non-null  float64\n",
      "dtypes: float64(4), object(1)\n",
      "memory usage: 3.8+ MB\n"
     ]
    }
   ],
   "source": [
    "df_2.info()"
   ]
  },
  {
   "cell_type": "code",
   "execution_count": 9,
   "metadata": {},
   "outputs": [
    {
     "data": {
      "text/html": [
       "<div>\n",
       "<style scoped>\n",
       "    .dataframe tbody tr th:only-of-type {\n",
       "        vertical-align: middle;\n",
       "    }\n",
       "\n",
       "    .dataframe tbody tr th {\n",
       "        vertical-align: top;\n",
       "    }\n",
       "\n",
       "    .dataframe thead th {\n",
       "        text-align: right;\n",
       "    }\n",
       "</style>\n",
       "<table border=\"1\" class=\"dataframe\">\n",
       "  <thead>\n",
       "    <tr style=\"text-align: right;\">\n",
       "      <th></th>\n",
       "      <th>f0</th>\n",
       "      <th>f1</th>\n",
       "      <th>f2</th>\n",
       "      <th>product</th>\n",
       "    </tr>\n",
       "  </thead>\n",
       "  <tbody>\n",
       "    <tr>\n",
       "      <th>count</th>\n",
       "      <td>100000.000000</td>\n",
       "      <td>100000.000000</td>\n",
       "      <td>100000.000000</td>\n",
       "      <td>100000.000000</td>\n",
       "    </tr>\n",
       "    <tr>\n",
       "      <th>mean</th>\n",
       "      <td>1.141296</td>\n",
       "      <td>-4.796579</td>\n",
       "      <td>2.494541</td>\n",
       "      <td>68.825000</td>\n",
       "    </tr>\n",
       "    <tr>\n",
       "      <th>std</th>\n",
       "      <td>8.965932</td>\n",
       "      <td>5.119872</td>\n",
       "      <td>1.703572</td>\n",
       "      <td>45.944423</td>\n",
       "    </tr>\n",
       "    <tr>\n",
       "      <th>min</th>\n",
       "      <td>-31.609576</td>\n",
       "      <td>-26.358598</td>\n",
       "      <td>-0.018144</td>\n",
       "      <td>0.000000</td>\n",
       "    </tr>\n",
       "    <tr>\n",
       "      <th>25%</th>\n",
       "      <td>-6.298551</td>\n",
       "      <td>-8.267985</td>\n",
       "      <td>1.000021</td>\n",
       "      <td>26.953261</td>\n",
       "    </tr>\n",
       "    <tr>\n",
       "      <th>50%</th>\n",
       "      <td>1.153055</td>\n",
       "      <td>-4.813172</td>\n",
       "      <td>2.011479</td>\n",
       "      <td>57.085625</td>\n",
       "    </tr>\n",
       "    <tr>\n",
       "      <th>75%</th>\n",
       "      <td>8.621015</td>\n",
       "      <td>-1.332816</td>\n",
       "      <td>3.999904</td>\n",
       "      <td>107.813044</td>\n",
       "    </tr>\n",
       "    <tr>\n",
       "      <th>max</th>\n",
       "      <td>29.421755</td>\n",
       "      <td>18.734063</td>\n",
       "      <td>5.019721</td>\n",
       "      <td>137.945408</td>\n",
       "    </tr>\n",
       "  </tbody>\n",
       "</table>\n",
       "</div>"
      ],
      "text/plain": [
       "                  f0             f1             f2        product\n",
       "count  100000.000000  100000.000000  100000.000000  100000.000000\n",
       "mean        1.141296      -4.796579       2.494541      68.825000\n",
       "std         8.965932       5.119872       1.703572      45.944423\n",
       "min       -31.609576     -26.358598      -0.018144       0.000000\n",
       "25%        -6.298551      -8.267985       1.000021      26.953261\n",
       "50%         1.153055      -4.813172       2.011479      57.085625\n",
       "75%         8.621015      -1.332816       3.999904     107.813044\n",
       "max        29.421755      18.734063       5.019721     137.945408"
      ]
     },
     "execution_count": 9,
     "metadata": {},
     "output_type": "execute_result"
    }
   ],
   "source": [
    "df_2.describe()"
   ]
  },
  {
   "cell_type": "code",
   "execution_count": 10,
   "metadata": {
    "scrolled": true
   },
   "outputs": [
    {
     "data": {
      "text/plain": [
       "id          99996\n",
       "f0         100000\n",
       "f1         100000\n",
       "f2         100000\n",
       "product        12\n",
       "dtype: int64"
      ]
     },
     "execution_count": 10,
     "metadata": {},
     "output_type": "execute_result"
    }
   ],
   "source": [
    "df_2.nunique()"
   ]
  },
  {
   "cell_type": "markdown",
   "metadata": {},
   "source": [
    "Вывод:<br>\n",
    "Значения объемов запасов во втором регионе представлены только 12ью значениями. 4 записи имеют задублированные id скважин."
   ]
  },
  {
   "cell_type": "markdown",
   "metadata": {},
   "source": [
    "<b> Регион №3"
   ]
  },
  {
   "cell_type": "code",
   "execution_count": 11,
   "metadata": {},
   "outputs": [
    {
     "data": {
      "text/html": [
       "<div>\n",
       "<style scoped>\n",
       "    .dataframe tbody tr th:only-of-type {\n",
       "        vertical-align: middle;\n",
       "    }\n",
       "\n",
       "    .dataframe tbody tr th {\n",
       "        vertical-align: top;\n",
       "    }\n",
       "\n",
       "    .dataframe thead th {\n",
       "        text-align: right;\n",
       "    }\n",
       "</style>\n",
       "<table border=\"1\" class=\"dataframe\">\n",
       "  <thead>\n",
       "    <tr style=\"text-align: right;\">\n",
       "      <th></th>\n",
       "      <th>id</th>\n",
       "      <th>f0</th>\n",
       "      <th>f1</th>\n",
       "      <th>f2</th>\n",
       "      <th>product</th>\n",
       "    </tr>\n",
       "  </thead>\n",
       "  <tbody>\n",
       "    <tr>\n",
       "      <th>0</th>\n",
       "      <td>fwXo0</td>\n",
       "      <td>-1.146987</td>\n",
       "      <td>0.963328</td>\n",
       "      <td>-0.828965</td>\n",
       "      <td>27.758673</td>\n",
       "    </tr>\n",
       "    <tr>\n",
       "      <th>1</th>\n",
       "      <td>WJtFt</td>\n",
       "      <td>0.262778</td>\n",
       "      <td>0.269839</td>\n",
       "      <td>-2.530187</td>\n",
       "      <td>56.069697</td>\n",
       "    </tr>\n",
       "    <tr>\n",
       "      <th>2</th>\n",
       "      <td>ovLUW</td>\n",
       "      <td>0.194587</td>\n",
       "      <td>0.289035</td>\n",
       "      <td>-5.586433</td>\n",
       "      <td>62.871910</td>\n",
       "    </tr>\n",
       "    <tr>\n",
       "      <th>3</th>\n",
       "      <td>q6cA6</td>\n",
       "      <td>2.236060</td>\n",
       "      <td>-0.553760</td>\n",
       "      <td>0.930038</td>\n",
       "      <td>114.572842</td>\n",
       "    </tr>\n",
       "    <tr>\n",
       "      <th>4</th>\n",
       "      <td>WPMUX</td>\n",
       "      <td>-0.515993</td>\n",
       "      <td>1.716266</td>\n",
       "      <td>5.899011</td>\n",
       "      <td>149.600746</td>\n",
       "    </tr>\n",
       "  </tbody>\n",
       "</table>\n",
       "</div>"
      ],
      "text/plain": [
       "      id        f0        f1        f2     product\n",
       "0  fwXo0 -1.146987  0.963328 -0.828965   27.758673\n",
       "1  WJtFt  0.262778  0.269839 -2.530187   56.069697\n",
       "2  ovLUW  0.194587  0.289035 -5.586433   62.871910\n",
       "3  q6cA6  2.236060 -0.553760  0.930038  114.572842\n",
       "4  WPMUX -0.515993  1.716266  5.899011  149.600746"
      ]
     },
     "execution_count": 11,
     "metadata": {},
     "output_type": "execute_result"
    }
   ],
   "source": [
    "df_3.head()"
   ]
  },
  {
   "cell_type": "code",
   "execution_count": 12,
   "metadata": {},
   "outputs": [
    {
     "name": "stdout",
     "output_type": "stream",
     "text": [
      "<class 'pandas.core.frame.DataFrame'>\n",
      "RangeIndex: 100000 entries, 0 to 99999\n",
      "Data columns (total 5 columns):\n",
      " #   Column   Non-Null Count   Dtype  \n",
      "---  ------   --------------   -----  \n",
      " 0   id       100000 non-null  object \n",
      " 1   f0       100000 non-null  float64\n",
      " 2   f1       100000 non-null  float64\n",
      " 3   f2       100000 non-null  float64\n",
      " 4   product  100000 non-null  float64\n",
      "dtypes: float64(4), object(1)\n",
      "memory usage: 3.8+ MB\n"
     ]
    }
   ],
   "source": [
    "df_3.info()"
   ]
  },
  {
   "cell_type": "code",
   "execution_count": 13,
   "metadata": {},
   "outputs": [
    {
     "data": {
      "text/html": [
       "<div>\n",
       "<style scoped>\n",
       "    .dataframe tbody tr th:only-of-type {\n",
       "        vertical-align: middle;\n",
       "    }\n",
       "\n",
       "    .dataframe tbody tr th {\n",
       "        vertical-align: top;\n",
       "    }\n",
       "\n",
       "    .dataframe thead th {\n",
       "        text-align: right;\n",
       "    }\n",
       "</style>\n",
       "<table border=\"1\" class=\"dataframe\">\n",
       "  <thead>\n",
       "    <tr style=\"text-align: right;\">\n",
       "      <th></th>\n",
       "      <th>f0</th>\n",
       "      <th>f1</th>\n",
       "      <th>f2</th>\n",
       "      <th>product</th>\n",
       "    </tr>\n",
       "  </thead>\n",
       "  <tbody>\n",
       "    <tr>\n",
       "      <th>count</th>\n",
       "      <td>100000.000000</td>\n",
       "      <td>100000.000000</td>\n",
       "      <td>100000.000000</td>\n",
       "      <td>100000.000000</td>\n",
       "    </tr>\n",
       "    <tr>\n",
       "      <th>mean</th>\n",
       "      <td>0.002023</td>\n",
       "      <td>-0.002081</td>\n",
       "      <td>2.495128</td>\n",
       "      <td>95.000000</td>\n",
       "    </tr>\n",
       "    <tr>\n",
       "      <th>std</th>\n",
       "      <td>1.732045</td>\n",
       "      <td>1.730417</td>\n",
       "      <td>3.473445</td>\n",
       "      <td>44.749921</td>\n",
       "    </tr>\n",
       "    <tr>\n",
       "      <th>min</th>\n",
       "      <td>-8.760004</td>\n",
       "      <td>-7.084020</td>\n",
       "      <td>-11.970335</td>\n",
       "      <td>0.000000</td>\n",
       "    </tr>\n",
       "    <tr>\n",
       "      <th>25%</th>\n",
       "      <td>-1.162288</td>\n",
       "      <td>-1.174820</td>\n",
       "      <td>0.130359</td>\n",
       "      <td>59.450441</td>\n",
       "    </tr>\n",
       "    <tr>\n",
       "      <th>50%</th>\n",
       "      <td>0.009424</td>\n",
       "      <td>-0.009482</td>\n",
       "      <td>2.484236</td>\n",
       "      <td>94.925613</td>\n",
       "    </tr>\n",
       "    <tr>\n",
       "      <th>75%</th>\n",
       "      <td>1.158535</td>\n",
       "      <td>1.163678</td>\n",
       "      <td>4.858794</td>\n",
       "      <td>130.595027</td>\n",
       "    </tr>\n",
       "    <tr>\n",
       "      <th>max</th>\n",
       "      <td>7.238262</td>\n",
       "      <td>7.844801</td>\n",
       "      <td>16.739402</td>\n",
       "      <td>190.029838</td>\n",
       "    </tr>\n",
       "  </tbody>\n",
       "</table>\n",
       "</div>"
      ],
      "text/plain": [
       "                  f0             f1             f2        product\n",
       "count  100000.000000  100000.000000  100000.000000  100000.000000\n",
       "mean        0.002023      -0.002081       2.495128      95.000000\n",
       "std         1.732045       1.730417       3.473445      44.749921\n",
       "min        -8.760004      -7.084020     -11.970335       0.000000\n",
       "25%        -1.162288      -1.174820       0.130359      59.450441\n",
       "50%         0.009424      -0.009482       2.484236      94.925613\n",
       "75%         1.158535       1.163678       4.858794     130.595027\n",
       "max         7.238262       7.844801      16.739402     190.029838"
      ]
     },
     "execution_count": 13,
     "metadata": {},
     "output_type": "execute_result"
    }
   ],
   "source": [
    "df_3.describe()"
   ]
  },
  {
   "cell_type": "code",
   "execution_count": 14,
   "metadata": {},
   "outputs": [
    {
     "data": {
      "text/plain": [
       "id          99996\n",
       "f0         100000\n",
       "f1         100000\n",
       "f2         100000\n",
       "product    100000\n",
       "dtype: int64"
      ]
     },
     "execution_count": 14,
     "metadata": {},
     "output_type": "execute_result"
    }
   ],
   "source": [
    "df_3.nunique()"
   ]
  },
  {
   "cell_type": "markdown",
   "metadata": {},
   "source": [
    "Вывод:<br>\n",
    "4 записи имеют задублированные id скважин."
   ]
  },
  {
   "cell_type": "markdown",
   "metadata": {},
   "source": [
    "Подготовим данные для обучения."
   ]
  },
  {
   "cell_type": "code",
   "execution_count": 15,
   "metadata": {},
   "outputs": [],
   "source": [
    "df_1 = df_1.drop(['id'], axis=1)\n",
    "df_2 = df_2.drop(['id'], axis=1)\n",
    "df_3 = df_3.drop(['id'], axis=1)"
   ]
  },
  {
   "cell_type": "markdown",
   "metadata": {},
   "source": [
    "### Вывод"
   ]
  },
  {
   "cell_type": "markdown",
   "metadata": {},
   "source": [
    "В незначительном количестве записей задублированы id скважин. Объемы запасов во втором регионе представлены только 12 значениями."
   ]
  },
  {
   "cell_type": "markdown",
   "metadata": {},
   "source": [
    "## Обучение и проверка модели"
   ]
  },
  {
   "cell_type": "markdown",
   "metadata": {},
   "source": [
    "Разделим данные на учебные и валидационные."
   ]
  },
  {
   "cell_type": "code",
   "execution_count": 16,
   "metadata": {},
   "outputs": [],
   "source": [
    "features_1 = df_1.drop(['product'] , axis=1)\n",
    "target_1 = df_1['product']\n",
    "\n",
    "features_2 = df_2.drop(['product'] , axis=1)\n",
    "target_2 = df_2['product']\n",
    "\n",
    "features_3 = df_3.drop(['product'] , axis=1)\n",
    "target_3 = df_3['product']"
   ]
  },
  {
   "cell_type": "code",
   "execution_count": 17,
   "metadata": {},
   "outputs": [],
   "source": [
    "features_train_1, features_valid_1, target_train_1, target_valid_1 = train_test_split(\n",
    "    features_1, target_1, test_size=0.25, random_state=12345)\n",
    "\n",
    "features_train_2, features_valid_2, target_train_2, target_valid_2 = train_test_split(\n",
    "    features_2, target_2, test_size=0.25, random_state=12345)\n",
    "\n",
    "features_train_3, features_valid_3, target_train_3, target_valid_3 = train_test_split(\n",
    "    features_3, target_3, test_size=0.25, random_state=12345)"
   ]
  },
  {
   "cell_type": "markdown",
   "metadata": {},
   "source": [
    "Проведем обучение."
   ]
  },
  {
   "cell_type": "code",
   "execution_count": 18,
   "metadata": {},
   "outputs": [],
   "source": [
    "model_1 = LinearRegression()\n",
    "model_1.fit(features_train_1,target_train_1)\n",
    "prediction_1 = model_1.predict(features_valid_1)\n",
    "rmse_1 = mean_squared_error(target_valid_1, prediction_1)**0.5\n",
    "mean_target_valid_1 = target_valid_1.mean()\n",
    "mean_prediction_1 = prediction_1.mean()\n",
    "\n",
    "model_2 = LinearRegression()\n",
    "model_2.fit(features_train_2,target_train_2)\n",
    "prediction_2 = model_2.predict(features_valid_2)\n",
    "rmse_2 = mean_squared_error(target_valid_2, prediction_2)**0.5\n",
    "mean_target_valid_2 = target_valid_2.mean()\n",
    "mean_prediction_2 = prediction_2.mean()\n",
    "\n",
    "model_3 = LinearRegression()\n",
    "model_3.fit(features_train_3,target_train_3)\n",
    "prediction_3 = model_3.predict(features_valid_3)\n",
    "rmse_3 = mean_squared_error(target_valid_3, prediction_3)**0.5\n",
    "mean_target_valid_3 = target_valid_3.mean()\n",
    "mean_prediction_3 = prediction_3.mean()"
   ]
  },
  {
   "cell_type": "markdown",
   "metadata": {},
   "source": [
    "Выведем результаты."
   ]
  },
  {
   "cell_type": "code",
   "execution_count": 19,
   "metadata": {},
   "outputs": [
    {
     "data": {
      "text/html": [
       "<div>\n",
       "<style scoped>\n",
       "    .dataframe tbody tr th:only-of-type {\n",
       "        vertical-align: middle;\n",
       "    }\n",
       "\n",
       "    .dataframe tbody tr th {\n",
       "        vertical-align: top;\n",
       "    }\n",
       "\n",
       "    .dataframe thead th {\n",
       "        text-align: right;\n",
       "    }\n",
       "</style>\n",
       "<table border=\"1\" class=\"dataframe\">\n",
       "  <thead>\n",
       "    <tr style=\"text-align: right;\">\n",
       "      <th></th>\n",
       "      <th>Регион №1</th>\n",
       "      <th>Регион №2</th>\n",
       "      <th>Регион №3</th>\n",
       "    </tr>\n",
       "  </thead>\n",
       "  <tbody>\n",
       "    <tr>\n",
       "      <th>средний запас сырья (факт)</th>\n",
       "      <td>92.078597</td>\n",
       "      <td>68.723136</td>\n",
       "      <td>94.884233</td>\n",
       "    </tr>\n",
       "    <tr>\n",
       "      <th>средний запас сырья (предсказание)</th>\n",
       "      <td>92.592568</td>\n",
       "      <td>68.728547</td>\n",
       "      <td>94.965046</td>\n",
       "    </tr>\n",
       "    <tr>\n",
       "      <th>RMSE</th>\n",
       "      <td>37.579422</td>\n",
       "      <td>0.893099</td>\n",
       "      <td>40.029709</td>\n",
       "    </tr>\n",
       "  </tbody>\n",
       "</table>\n",
       "</div>"
      ],
      "text/plain": [
       "                                    Регион №1  Регион №2  Регион №3\n",
       "средний запас сырья (факт)          92.078597  68.723136  94.884233\n",
       "средний запас сырья (предсказание)  92.592568  68.728547  94.965046\n",
       "RMSE                                37.579422   0.893099  40.029709"
      ]
     },
     "execution_count": 19,
     "metadata": {},
     "output_type": "execute_result"
    }
   ],
   "source": [
    "result_of_learning = pd.DataFrame(index=['средний запас сырья (факт)','средний запас сырья (предсказание)', 'RMSE'], columns=['Регион №1','Регион №2','Регион №3'])\n",
    "result_of_learning['Регион №1'] = mean_target_valid_1, mean_prediction_1, rmse_1\n",
    "result_of_learning['Регион №2'] = mean_target_valid_2, mean_prediction_2, rmse_2\n",
    "result_of_learning['Регион №3'] = mean_target_valid_3, mean_prediction_3, rmse_3\n",
    "result_of_learning"
   ]
  },
  {
   "cell_type": "markdown",
   "metadata": {},
   "source": [
    "### Вывод"
   ]
  },
  {
   "cell_type": "markdown",
   "metadata": {},
   "source": [
    "Средние значения запасов сырья фактические и предсказанные практически совпадают. Низкие (хорошие) оценки RMSE для модели Региона №2 скорее всего обусловленны особенностями данных, представляющих второй регион - все значения запасов в этом регионе представлены только 12тью значениями."
   ]
  },
  {
   "cell_type": "markdown",
   "metadata": {},
   "source": [
    "## Подготовка к расчёту прибыли"
   ]
  },
  {
   "cell_type": "markdown",
   "metadata": {},
   "source": [
    "Для разработки выбирают 200 лучших скважин в регионе.<br>\n",
    "Бюджет на разработку скважин в регионе — 10 млрд рублей.<br>\n",
    "Один баррель сырья приносит 450 рублей дохода.<br>\n",
    "Доход с каждой единицы продукта составляет 450 тыс. рублей, поскольку объём указан в тысячах баррелей."
   ]
  },
  {
   "cell_type": "code",
   "execution_count": 20,
   "metadata": {},
   "outputs": [],
   "source": [
    "budget = 10000000\n",
    "wells_for_production = 200\n",
    "profit_per_unit = 450"
   ]
  },
  {
   "cell_type": "code",
   "execution_count": 21,
   "metadata": {
    "scrolled": true
   },
   "outputs": [
    {
     "name": "stdout",
     "output_type": "stream",
     "text": [
      "Достаточный объём сырья для безубыточной разработки новой скважины: 111.11 тыс. баррелей\n",
      "Достаточный объём сырья для безубыточной разработки региона: 22222.22 тыс. баррелей\n"
     ]
    }
   ],
   "source": [
    "print('Достаточный объём сырья для безубыточной разработки новой скважины: {:.2f} тыс. баррелей'.format(budget / profit_per_unit / wells_for_production))\n",
    "print('Достаточный объём сырья для безубыточной разработки региона: {:.2f} тыс. баррелей'.format(budget / profit_per_unit))"
   ]
  },
  {
   "cell_type": "markdown",
   "metadata": {},
   "source": [
    "### Вывод\n"
   ]
  },
  {
   "cell_type": "markdown",
   "metadata": {},
   "source": [
    "Достаточный объём сырья для безубыточной разработки новой скважины должен составлять 111 тыс. баррелей, или 22 222 тыс. баррелей на 200 луших скважин одного региона. При этом как мы ранее выяснили, средний запас одной скважины не привышает 94 тыс. баррелей."
   ]
  },
  {
   "cell_type": "markdown",
   "metadata": {},
   "source": [
    "## Расчёт прибыли и рисков "
   ]
  },
  {
   "cell_type": "markdown",
   "metadata": {},
   "source": [
    "Сбросим индексы:"
   ]
  },
  {
   "cell_type": "code",
   "execution_count": 22,
   "metadata": {},
   "outputs": [],
   "source": [
    "target_valid_1 = target_valid_1.reset_index(drop=True)\n",
    "target_valid_2 = target_valid_2.reset_index(drop=True)\n",
    "target_valid_3 = target_valid_3.reset_index(drop=True)\n",
    "\n",
    "prediction_1 = pd.Series(prediction_1)\n",
    "prediction_2 = pd.Series(prediction_2)\n",
    "prediction_3 = pd.Series(prediction_3)"
   ]
  },
  {
   "cell_type": "markdown",
   "metadata": {},
   "source": [
    "Напишем функцию для расчёта прибыли по выбранным скважинам и предсказаниям модели"
   ]
  },
  {
   "cell_type": "code",
   "execution_count": 23,
   "metadata": {},
   "outputs": [],
   "source": [
    "def revenue(target, prediction, count):\n",
    "    prediction_sorted = prediction.sort_values(ascending=False)\n",
    "    selected = target[prediction_sorted.index][:count]\n",
    "    return profit_per_unit * selected.sum() - budget"
   ]
  },
  {
   "cell_type": "code",
   "execution_count": 24,
   "metadata": {
    "scrolled": true
   },
   "outputs": [
    {
     "name": "stdout",
     "output_type": "stream",
     "text": [
      "Прибыль региона № 1 (200 лучших скважин): 3.32 млрд.рублей\n",
      "Прибыль региона № 2 (200 лучших скважин): 2.42 млрд.рублей\n",
      "Прибыль региона № 3 (200 лучших скважин): 2.71 млрд.рублей\n"
     ]
    }
   ],
   "source": [
    "print('Прибыль региона № 1 (200 лучших скважин): {:.2f} млрд.рублей'.format(revenue(target_valid_1, prediction_1, 200) / 1000000))\n",
    "print('Прибыль региона № 2 (200 лучших скважин): {:.2f} млрд.рублей'.format(revenue(target_valid_2, prediction_2, 200) / 1000000))\n",
    "print('Прибыль региона № 3 (200 лучших скважин): {:.2f} млрд.рублей'.format(revenue(target_valid_3, prediction_3, 200) / 1000000))"
   ]
  },
  {
   "cell_type": "markdown",
   "metadata": {},
   "source": [
    "Вывод: все 3 региона выгодные, предварительно самый выгодный регион - первый."
   ]
  },
  {
   "cell_type": "markdown",
   "metadata": {},
   "source": [
    "Проведем процедуру Bootstrap"
   ]
  },
  {
   "cell_type": "code",
   "execution_count": 25,
   "metadata": {},
   "outputs": [],
   "source": [
    "state = np.random.RandomState(12345)\n",
    "\n",
    "def bootstrap_1000(target, prediction):\n",
    "    \n",
    "    values = []\n",
    "    lost = 0\n",
    "    \n",
    "    for i in range(1000):\n",
    "        target_subsample = target.sample(n=500, replace=True, random_state=state)\n",
    "        prediction_subsample = prediction[target_subsample.index] \n",
    "        profit= revenue(target_subsample, prediction_subsample, 200)\n",
    "        if profit < 0:\n",
    "            lost +=1\n",
    "        values.append(profit)\n",
    "\n",
    "    values = pd.Series(values)   \n",
    "    lower = values.quantile(0.025)\n",
    "    upper = values.quantile(0.975)\n",
    "    average = values.mean()\n",
    "    risk = lost / 1000\n",
    "    \n",
    "    print('Средняя прибыль по региону = {:.2f} млн.руб.'.format(average / 1000))\n",
    "    print('95% доверительный интервал от {:.2f} до {:.2f} млн.руб.'.format(lower / 1000, upper / 1000))\n",
    "    print('Процент риска {:.2%}'.format(risk))"
   ]
  },
  {
   "cell_type": "markdown",
   "metadata": {},
   "source": [
    "<b>Регион №1"
   ]
  },
  {
   "cell_type": "code",
   "execution_count": 26,
   "metadata": {
    "scrolled": true
   },
   "outputs": [
    {
     "name": "stdout",
     "output_type": "stream",
     "text": [
      "Средняя прибыль по региону = 425.94 млн.руб.\n",
      "95% доверительный интервал от -102.09 до 947.98 млн.руб.\n",
      "Процент риска 6.00%\n"
     ]
    }
   ],
   "source": [
    "bootstrap_1000(target_valid_1, prediction_1)"
   ]
  },
  {
   "cell_type": "markdown",
   "metadata": {},
   "source": [
    "<b>Регион №2"
   ]
  },
  {
   "cell_type": "code",
   "execution_count": 27,
   "metadata": {},
   "outputs": [
    {
     "name": "stdout",
     "output_type": "stream",
     "text": [
      "Средняя прибыль по региону = 518.26 млн.руб.\n",
      "95% доверительный интервал от 128.12 до 953.61 млн.руб.\n",
      "Процент риска 0.30%\n"
     ]
    }
   ],
   "source": [
    "bootstrap_1000(target_valid_2, prediction_2)"
   ]
  },
  {
   "cell_type": "markdown",
   "metadata": {},
   "source": [
    "<b>Регион №3"
   ]
  },
  {
   "cell_type": "code",
   "execution_count": 28,
   "metadata": {},
   "outputs": [
    {
     "name": "stdout",
     "output_type": "stream",
     "text": [
      "Средняя прибыль по региону = 420.19 млн.руб.\n",
      "95% доверительный интервал от -115.85 до 989.63 млн.руб.\n",
      "Процент риска 6.20%\n"
     ]
    }
   ],
   "source": [
    "bootstrap_1000(target_valid_3, prediction_3)"
   ]
  },
  {
   "cell_type": "markdown",
   "metadata": {},
   "source": [
    "### Вывод"
   ]
  },
  {
   "cell_type": "markdown",
   "metadata": {},
   "source": [
    " На основе проведенного анализа наиболее предпочительным оказался второй регион, т.к. он обладает самым низким процентом риска и наибольшей средней прибылью по сравнению с двумя другими регионами."
   ]
  }
 ],
 "metadata": {
  "ExecuteTimeLog": [
   {
    "duration": 422,
    "start_time": "2022-12-13T12:06:49.371Z"
   },
   {
    "duration": 594,
    "start_time": "2022-12-13T12:07:39.031Z"
   },
   {
    "duration": 14,
    "start_time": "2022-12-13T12:07:57.320Z"
   },
   {
    "duration": 8,
    "start_time": "2022-12-13T12:08:21.723Z"
   },
   {
    "duration": 9,
    "start_time": "2022-12-13T12:08:27.632Z"
   },
   {
    "duration": 9,
    "start_time": "2022-12-13T12:08:56.537Z"
   },
   {
    "duration": 10,
    "start_time": "2022-12-13T12:09:15.664Z"
   },
   {
    "duration": 8,
    "start_time": "2022-12-13T12:09:21.461Z"
   },
   {
    "duration": 14,
    "start_time": "2022-12-13T12:09:38.451Z"
   },
   {
    "duration": 15,
    "start_time": "2022-12-13T12:10:02.102Z"
   },
   {
    "duration": 13,
    "start_time": "2022-12-13T12:10:14.914Z"
   },
   {
    "duration": 34,
    "start_time": "2022-12-13T12:40:29.809Z"
   },
   {
    "duration": 59,
    "start_time": "2022-12-13T12:46:38.730Z"
   },
   {
    "duration": 42,
    "start_time": "2022-12-13T12:46:52.364Z"
   },
   {
    "duration": 2,
    "start_time": "2022-12-13T12:47:02.809Z"
   },
   {
    "duration": 343,
    "start_time": "2022-12-13T12:47:04.210Z"
   },
   {
    "duration": 9,
    "start_time": "2022-12-13T12:47:06.100Z"
   },
   {
    "duration": 13,
    "start_time": "2022-12-13T12:47:09.415Z"
   },
   {
    "duration": 35,
    "start_time": "2022-12-13T12:47:12.101Z"
   },
   {
    "duration": 48,
    "start_time": "2022-12-13T12:47:14.708Z"
   },
   {
    "duration": 6,
    "start_time": "2022-12-13T12:47:39.775Z"
   },
   {
    "duration": 43,
    "start_time": "2022-12-13T12:47:43.768Z"
   },
   {
    "duration": 19,
    "start_time": "2022-12-13T12:48:05.910Z"
   },
   {
    "duration": 9,
    "start_time": "2022-12-13T12:49:13.357Z"
   },
   {
    "duration": 39,
    "start_time": "2022-12-13T12:49:20.161Z"
   },
   {
    "duration": 52,
    "start_time": "2022-12-15T08:34:04.837Z"
   },
   {
    "duration": 418,
    "start_time": "2022-12-15T08:34:17.385Z"
   },
   {
    "duration": 661,
    "start_time": "2022-12-15T08:34:18.392Z"
   },
   {
    "duration": 15,
    "start_time": "2022-12-15T08:34:20.531Z"
   },
   {
    "duration": 18,
    "start_time": "2022-12-15T08:34:21.508Z"
   },
   {
    "duration": 43,
    "start_time": "2022-12-15T08:34:22.432Z"
   },
   {
    "duration": 54,
    "start_time": "2022-12-15T08:34:23.467Z"
   },
   {
    "duration": 9,
    "start_time": "2022-12-15T08:34:27.798Z"
   },
   {
    "duration": 16,
    "start_time": "2022-12-15T08:34:35.092Z"
   },
   {
    "duration": 9,
    "start_time": "2022-12-15T08:34:41.194Z"
   },
   {
    "duration": 40,
    "start_time": "2022-12-15T08:35:16.233Z"
   },
   {
    "duration": 56,
    "start_time": "2022-12-15T08:35:32.161Z"
   },
   {
    "duration": 10,
    "start_time": "2022-12-15T08:40:32.796Z"
   },
   {
    "duration": 16,
    "start_time": "2022-12-15T08:40:39.365Z"
   },
   {
    "duration": 48,
    "start_time": "2022-12-15T08:41:01.976Z"
   },
   {
    "duration": 40,
    "start_time": "2022-12-15T08:41:18.568Z"
   },
   {
    "duration": 50,
    "start_time": "2022-12-15T08:41:54.901Z"
   },
   {
    "duration": 60,
    "start_time": "2022-12-15T08:42:22.865Z"
   },
   {
    "duration": 12,
    "start_time": "2022-12-15T08:44:05.483Z"
   },
   {
    "duration": 29,
    "start_time": "2022-12-15T08:55:19.896Z"
   },
   {
    "duration": 11,
    "start_time": "2022-12-15T08:57:28.323Z"
   },
   {
    "duration": 3,
    "start_time": "2022-12-15T08:58:24.271Z"
   },
   {
    "duration": 3,
    "start_time": "2022-12-15T08:58:26.507Z"
   },
   {
    "duration": 356,
    "start_time": "2022-12-15T08:58:28.914Z"
   },
   {
    "duration": 10,
    "start_time": "2022-12-15T08:58:33.267Z"
   },
   {
    "duration": 15,
    "start_time": "2022-12-15T08:58:38.412Z"
   },
   {
    "duration": 41,
    "start_time": "2022-12-15T08:58:43.577Z"
   },
   {
    "duration": 43,
    "start_time": "2022-12-15T08:58:48.370Z"
   },
   {
    "duration": 10,
    "start_time": "2022-12-15T08:58:52.956Z"
   },
   {
    "duration": 15,
    "start_time": "2022-12-15T08:58:57.622Z"
   },
   {
    "duration": 38,
    "start_time": "2022-12-15T08:59:02.136Z"
   },
   {
    "duration": 45,
    "start_time": "2022-12-15T08:59:06.432Z"
   },
   {
    "duration": 9,
    "start_time": "2022-12-15T08:59:10.588Z"
   },
   {
    "duration": 14,
    "start_time": "2022-12-15T08:59:15.115Z"
   },
   {
    "duration": 44,
    "start_time": "2022-12-15T08:59:24.026Z"
   },
   {
    "duration": 43,
    "start_time": "2022-12-15T08:59:28.776Z"
   },
   {
    "duration": 11,
    "start_time": "2022-12-15T08:59:42.789Z"
   },
   {
    "duration": 12,
    "start_time": "2022-12-15T09:00:16.161Z"
   },
   {
    "duration": 8,
    "start_time": "2022-12-15T09:00:55.320Z"
   },
   {
    "duration": 754,
    "start_time": "2022-12-15T09:01:39.363Z"
   },
   {
    "duration": 34,
    "start_time": "2022-12-15T09:02:37.979Z"
   },
   {
    "duration": 1213,
    "start_time": "2022-12-15T13:58:53.739Z"
   },
   {
    "duration": 1640,
    "start_time": "2022-12-15T13:58:54.954Z"
   },
   {
    "duration": 21,
    "start_time": "2022-12-15T13:58:56.596Z"
   },
   {
    "duration": 25,
    "start_time": "2022-12-15T13:58:56.619Z"
   },
   {
    "duration": 42,
    "start_time": "2022-12-15T13:58:56.646Z"
   },
   {
    "duration": 71,
    "start_time": "2022-12-15T13:58:56.691Z"
   },
   {
    "duration": 11,
    "start_time": "2022-12-15T13:58:56.764Z"
   },
   {
    "duration": 45,
    "start_time": "2022-12-15T13:58:56.776Z"
   },
   {
    "duration": 50,
    "start_time": "2022-12-15T13:58:56.824Z"
   },
   {
    "duration": 57,
    "start_time": "2022-12-15T13:58:56.877Z"
   },
   {
    "duration": 13,
    "start_time": "2022-12-15T13:58:56.936Z"
   },
   {
    "duration": 41,
    "start_time": "2022-12-15T13:58:56.954Z"
   },
   {
    "duration": 40,
    "start_time": "2022-12-15T13:58:56.998Z"
   },
   {
    "duration": 56,
    "start_time": "2022-12-15T13:58:57.039Z"
   },
   {
    "duration": 37,
    "start_time": "2022-12-15T13:58:57.097Z"
   },
   {
    "duration": 22,
    "start_time": "2022-12-15T13:58:57.136Z"
   },
   {
    "duration": 39,
    "start_time": "2022-12-15T13:58:57.160Z"
   },
   {
    "duration": 126,
    "start_time": "2022-12-15T13:58:57.201Z"
   },
   {
    "duration": 69,
    "start_time": "2022-12-15T14:02:07.558Z"
   },
   {
    "duration": 94,
    "start_time": "2022-12-15T14:03:11.388Z"
   },
   {
    "duration": 1125,
    "start_time": "2022-12-15T14:04:56.356Z"
   },
   {
    "duration": 362,
    "start_time": "2022-12-15T14:04:57.483Z"
   },
   {
    "duration": 15,
    "start_time": "2022-12-15T14:04:57.847Z"
   },
   {
    "duration": 13,
    "start_time": "2022-12-15T14:04:57.864Z"
   },
   {
    "duration": 51,
    "start_time": "2022-12-15T14:04:57.878Z"
   },
   {
    "duration": 42,
    "start_time": "2022-12-15T14:04:57.930Z"
   },
   {
    "duration": 10,
    "start_time": "2022-12-15T14:04:57.973Z"
   },
   {
    "duration": 35,
    "start_time": "2022-12-15T14:04:57.985Z"
   },
   {
    "duration": 34,
    "start_time": "2022-12-15T14:04:58.021Z"
   },
   {
    "duration": 37,
    "start_time": "2022-12-15T14:04:58.057Z"
   },
   {
    "duration": 10,
    "start_time": "2022-12-15T14:04:58.112Z"
   },
   {
    "duration": 31,
    "start_time": "2022-12-15T14:04:58.123Z"
   },
   {
    "duration": 35,
    "start_time": "2022-12-15T14:04:58.156Z"
   },
   {
    "duration": 49,
    "start_time": "2022-12-15T14:04:58.193Z"
   },
   {
    "duration": 10,
    "start_time": "2022-12-15T14:04:58.244Z"
   },
   {
    "duration": 14,
    "start_time": "2022-12-15T14:04:58.256Z"
   },
   {
    "duration": 49,
    "start_time": "2022-12-15T14:04:58.271Z"
   },
   {
    "duration": 107,
    "start_time": "2022-12-15T14:04:58.322Z"
   },
   {
    "duration": 257,
    "start_time": "2022-12-15T14:06:02.681Z"
   },
   {
    "duration": 11,
    "start_time": "2022-12-15T14:14:01.794Z"
   },
   {
    "duration": 69,
    "start_time": "2022-12-15T14:22:25.169Z"
   },
   {
    "duration": 71,
    "start_time": "2022-12-15T15:02:14.350Z"
   },
   {
    "duration": 10,
    "start_time": "2022-12-15T15:13:07.375Z"
   },
   {
    "duration": 5,
    "start_time": "2022-12-15T15:13:15.730Z"
   },
   {
    "duration": 3,
    "start_time": "2022-12-15T15:13:18.148Z"
   },
   {
    "duration": 4,
    "start_time": "2022-12-15T15:13:58.359Z"
   },
   {
    "duration": 4,
    "start_time": "2022-12-15T15:21:13.202Z"
   },
   {
    "duration": 1091,
    "start_time": "2022-12-22T10:25:26.055Z"
   },
   {
    "duration": 1559,
    "start_time": "2022-12-22T10:25:27.148Z"
   },
   {
    "duration": 18,
    "start_time": "2022-12-22T10:25:28.709Z"
   },
   {
    "duration": 25,
    "start_time": "2022-12-22T10:25:28.728Z"
   },
   {
    "duration": 39,
    "start_time": "2022-12-22T10:25:28.755Z"
   },
   {
    "duration": 39,
    "start_time": "2022-12-22T10:25:28.795Z"
   },
   {
    "duration": 24,
    "start_time": "2022-12-22T10:25:28.835Z"
   },
   {
    "duration": 28,
    "start_time": "2022-12-22T10:25:28.861Z"
   },
   {
    "duration": 32,
    "start_time": "2022-12-22T10:25:28.891Z"
   },
   {
    "duration": 43,
    "start_time": "2022-12-22T10:25:28.924Z"
   },
   {
    "duration": 9,
    "start_time": "2022-12-22T10:25:28.969Z"
   },
   {
    "duration": 28,
    "start_time": "2022-12-22T10:25:28.980Z"
   },
   {
    "duration": 40,
    "start_time": "2022-12-22T10:25:29.010Z"
   },
   {
    "duration": 40,
    "start_time": "2022-12-22T10:25:29.053Z"
   },
   {
    "duration": 12,
    "start_time": "2022-12-22T10:25:29.095Z"
   },
   {
    "duration": 30,
    "start_time": "2022-12-22T10:25:29.109Z"
   },
   {
    "duration": 66,
    "start_time": "2022-12-22T10:25:29.140Z"
   },
   {
    "duration": 144,
    "start_time": "2022-12-22T10:25:29.208Z"
   },
   {
    "duration": 107,
    "start_time": "2022-12-22T10:25:29.354Z"
   },
   {
    "duration": 41,
    "start_time": "2022-12-22T10:25:29.463Z"
   },
   {
    "duration": 43,
    "start_time": "2022-12-22T10:25:29.506Z"
   },
   {
    "duration": 86,
    "start_time": "2022-12-22T10:48:26.679Z"
   },
   {
    "duration": 2,
    "start_time": "2022-12-22T10:48:29.334Z"
   },
   {
    "duration": 4,
    "start_time": "2022-12-22T10:48:31.573Z"
   },
   {
    "duration": 4,
    "start_time": "2022-12-22T10:49:35.229Z"
   },
   {
    "duration": 8,
    "start_time": "2022-12-22T10:56:39.295Z"
   },
   {
    "duration": 1088,
    "start_time": "2022-12-22T10:56:57.529Z"
   },
   {
    "duration": 359,
    "start_time": "2022-12-22T10:56:58.619Z"
   },
   {
    "duration": 17,
    "start_time": "2022-12-22T10:56:58.980Z"
   },
   {
    "duration": 14,
    "start_time": "2022-12-22T10:56:58.999Z"
   },
   {
    "duration": 52,
    "start_time": "2022-12-22T10:56:59.015Z"
   },
   {
    "duration": 40,
    "start_time": "2022-12-22T10:56:59.068Z"
   },
   {
    "duration": 9,
    "start_time": "2022-12-22T10:56:59.110Z"
   },
   {
    "duration": 34,
    "start_time": "2022-12-22T10:56:59.120Z"
   },
   {
    "duration": 33,
    "start_time": "2022-12-22T10:56:59.156Z"
   },
   {
    "duration": 37,
    "start_time": "2022-12-22T10:56:59.191Z"
   },
   {
    "duration": 29,
    "start_time": "2022-12-22T10:56:59.230Z"
   },
   {
    "duration": 20,
    "start_time": "2022-12-22T10:56:59.261Z"
   },
   {
    "duration": 38,
    "start_time": "2022-12-22T10:56:59.283Z"
   },
   {
    "duration": 60,
    "start_time": "2022-12-22T10:56:59.323Z"
   },
   {
    "duration": 11,
    "start_time": "2022-12-22T10:56:59.384Z"
   },
   {
    "duration": 40,
    "start_time": "2022-12-22T10:56:59.397Z"
   },
   {
    "duration": 42,
    "start_time": "2022-12-22T10:56:59.439Z"
   },
   {
    "duration": 171,
    "start_time": "2022-12-22T10:56:59.483Z"
   },
   {
    "duration": 101,
    "start_time": "2022-12-22T10:56:59.657Z"
   },
   {
    "duration": 92,
    "start_time": "2022-12-22T10:56:59.760Z"
   },
   {
    "duration": 3,
    "start_time": "2022-12-22T10:56:59.854Z"
   },
   {
    "duration": 5,
    "start_time": "2022-12-22T10:56:59.859Z"
   },
   {
    "duration": 96,
    "start_time": "2022-12-22T10:56:59.866Z"
   },
   {
    "duration": 11,
    "start_time": "2022-12-22T10:57:12.732Z"
   },
   {
    "duration": 3,
    "start_time": "2022-12-22T10:58:55.847Z"
   },
   {
    "duration": 12,
    "start_time": "2022-12-22T10:59:02.172Z"
   },
   {
    "duration": 2,
    "start_time": "2022-12-22T11:06:49.824Z"
   },
   {
    "duration": 11,
    "start_time": "2022-12-22T11:06:54.807Z"
   },
   {
    "duration": 119,
    "start_time": "2022-12-22T11:07:06.034Z"
   },
   {
    "duration": 4,
    "start_time": "2022-12-22T11:07:32.912Z"
   },
   {
    "duration": 9,
    "start_time": "2022-12-22T11:07:51.031Z"
   },
   {
    "duration": 3,
    "start_time": "2022-12-22T11:08:20.663Z"
   },
   {
    "duration": 11,
    "start_time": "2022-12-22T11:08:28.452Z"
   },
   {
    "duration": 9,
    "start_time": "2022-12-22T11:13:07.712Z"
   },
   {
    "duration": 10,
    "start_time": "2022-12-22T11:13:19.780Z"
   },
   {
    "duration": 9,
    "start_time": "2022-12-22T11:13:39.743Z"
   },
   {
    "duration": 9,
    "start_time": "2022-12-22T11:13:50.678Z"
   },
   {
    "duration": 13,
    "start_time": "2022-12-22T11:14:51.723Z"
   },
   {
    "duration": 9,
    "start_time": "2022-12-22T11:17:11.955Z"
   },
   {
    "duration": 12,
    "start_time": "2022-12-22T11:17:49.593Z"
   },
   {
    "duration": 9,
    "start_time": "2022-12-22T11:17:56.805Z"
   },
   {
    "duration": 8,
    "start_time": "2022-12-22T11:18:09.980Z"
   },
   {
    "duration": 12,
    "start_time": "2022-12-22T11:18:15.587Z"
   },
   {
    "duration": 3,
    "start_time": "2022-12-22T11:18:46.781Z"
   },
   {
    "duration": 410,
    "start_time": "2022-12-22T11:18:46.786Z"
   },
   {
    "duration": 10,
    "start_time": "2022-12-22T11:18:47.198Z"
   },
   {
    "duration": 18,
    "start_time": "2022-12-22T11:18:47.210Z"
   },
   {
    "duration": 55,
    "start_time": "2022-12-22T11:18:47.230Z"
   },
   {
    "duration": 46,
    "start_time": "2022-12-22T11:18:47.287Z"
   },
   {
    "duration": 26,
    "start_time": "2022-12-22T11:18:47.334Z"
   },
   {
    "duration": 25,
    "start_time": "2022-12-22T11:18:47.362Z"
   },
   {
    "duration": 48,
    "start_time": "2022-12-22T11:18:47.389Z"
   },
   {
    "duration": 64,
    "start_time": "2022-12-22T11:18:47.439Z"
   },
   {
    "duration": 10,
    "start_time": "2022-12-22T11:18:47.505Z"
   },
   {
    "duration": 36,
    "start_time": "2022-12-22T11:18:47.517Z"
   },
   {
    "duration": 38,
    "start_time": "2022-12-22T11:18:47.555Z"
   },
   {
    "duration": 60,
    "start_time": "2022-12-22T11:18:47.595Z"
   },
   {
    "duration": 11,
    "start_time": "2022-12-22T11:18:47.656Z"
   },
   {
    "duration": 12,
    "start_time": "2022-12-22T11:18:47.669Z"
   },
   {
    "duration": 28,
    "start_time": "2022-12-22T11:18:47.683Z"
   },
   {
    "duration": 248,
    "start_time": "2022-12-22T11:18:47.712Z"
   },
   {
    "duration": 12,
    "start_time": "2022-12-22T11:19:03.326Z"
   },
   {
    "duration": 11,
    "start_time": "2022-12-22T11:19:09.090Z"
   },
   {
    "duration": 3,
    "start_time": "2022-12-22T11:19:19.709Z"
   },
   {
    "duration": 9,
    "start_time": "2022-12-22T11:19:28.618Z"
   },
   {
    "duration": 11,
    "start_time": "2022-12-22T11:19:32.411Z"
   },
   {
    "duration": 3,
    "start_time": "2022-12-22T11:22:50.084Z"
   },
   {
    "duration": 12,
    "start_time": "2022-12-22T11:22:52.037Z"
   },
   {
    "duration": 3,
    "start_time": "2022-12-22T11:23:48.680Z"
   },
   {
    "duration": 11,
    "start_time": "2022-12-22T11:23:51.147Z"
   },
   {
    "duration": 4,
    "start_time": "2022-12-22T11:24:18.524Z"
   },
   {
    "duration": 13,
    "start_time": "2022-12-22T11:24:20.188Z"
   },
   {
    "duration": 1068,
    "start_time": "2022-12-27T10:04:18.226Z"
   },
   {
    "duration": 708,
    "start_time": "2022-12-27T10:04:19.296Z"
   },
   {
    "duration": 17,
    "start_time": "2022-12-27T10:04:20.005Z"
   },
   {
    "duration": 14,
    "start_time": "2022-12-27T10:04:20.024Z"
   },
   {
    "duration": 38,
    "start_time": "2022-12-27T10:04:20.040Z"
   },
   {
    "duration": 55,
    "start_time": "2022-12-27T10:04:20.080Z"
   },
   {
    "duration": 9,
    "start_time": "2022-12-27T10:04:20.136Z"
   },
   {
    "duration": 20,
    "start_time": "2022-12-27T10:04:20.146Z"
   },
   {
    "duration": 51,
    "start_time": "2022-12-27T10:04:20.168Z"
   },
   {
    "duration": 37,
    "start_time": "2022-12-27T10:04:20.223Z"
   },
   {
    "duration": 10,
    "start_time": "2022-12-27T10:04:20.262Z"
   },
   {
    "duration": 19,
    "start_time": "2022-12-27T10:04:20.273Z"
   },
   {
    "duration": 36,
    "start_time": "2022-12-27T10:04:20.312Z"
   },
   {
    "duration": 40,
    "start_time": "2022-12-27T10:04:20.349Z"
   },
   {
    "duration": 28,
    "start_time": "2022-12-27T10:04:20.391Z"
   },
   {
    "duration": 19,
    "start_time": "2022-12-27T10:04:20.420Z"
   },
   {
    "duration": 36,
    "start_time": "2022-12-27T10:04:20.440Z"
   },
   {
    "duration": 138,
    "start_time": "2022-12-27T10:04:20.478Z"
   },
   {
    "duration": 194,
    "start_time": "2022-12-27T10:04:20.619Z"
   },
   {
    "duration": 2,
    "start_time": "2022-12-27T10:04:20.815Z"
   },
   {
    "duration": 12,
    "start_time": "2022-12-27T10:04:20.819Z"
   },
   {
    "duration": 12,
    "start_time": "2022-12-27T10:04:20.833Z"
   },
   {
    "duration": 106,
    "start_time": "2022-12-27T10:04:20.846Z"
   },
   {
    "duration": 4,
    "start_time": "2022-12-27T10:07:45.287Z"
   },
   {
    "duration": 15,
    "start_time": "2022-12-27T10:07:47.501Z"
   },
   {
    "duration": 3,
    "start_time": "2022-12-27T10:08:21.566Z"
   },
   {
    "duration": 4,
    "start_time": "2022-12-27T10:08:41.919Z"
   },
   {
    "duration": 15,
    "start_time": "2022-12-27T10:08:44.406Z"
   },
   {
    "duration": 3,
    "start_time": "2022-12-27T10:08:52.594Z"
   },
   {
    "duration": 23,
    "start_time": "2022-12-27T10:08:54.684Z"
   },
   {
    "duration": 3,
    "start_time": "2022-12-27T10:11:42.637Z"
   },
   {
    "duration": 3,
    "start_time": "2022-12-27T10:16:16.863Z"
   },
   {
    "duration": 3,
    "start_time": "2022-12-27T10:16:19.109Z"
   },
   {
    "duration": 10,
    "start_time": "2022-12-27T10:16:21.080Z"
   },
   {
    "duration": 3,
    "start_time": "2022-12-27T10:16:31.558Z"
   },
   {
    "duration": 3,
    "start_time": "2022-12-27T10:16:33.360Z"
   },
   {
    "duration": 13,
    "start_time": "2022-12-27T10:16:34.974Z"
   },
   {
    "duration": 3,
    "start_time": "2022-12-27T10:16:50.758Z"
   },
   {
    "duration": 4,
    "start_time": "2022-12-27T10:17:18.964Z"
   },
   {
    "duration": 9,
    "start_time": "2022-12-27T10:17:21.781Z"
   },
   {
    "duration": 10,
    "start_time": "2022-12-27T10:18:43.845Z"
   },
   {
    "duration": 11,
    "start_time": "2022-12-27T10:18:45.808Z"
   },
   {
    "duration": 19,
    "start_time": "2022-12-27T10:22:07.708Z"
   },
   {
    "duration": 19,
    "start_time": "2022-12-27T10:23:10.617Z"
   },
   {
    "duration": 21,
    "start_time": "2022-12-27T10:23:23.645Z"
   },
   {
    "duration": 58,
    "start_time": "2022-12-27T10:26:18.516Z"
   },
   {
    "duration": 10,
    "start_time": "2022-12-27T10:46:59.137Z"
   },
   {
    "duration": 3,
    "start_time": "2022-12-27T10:47:50.342Z"
   },
   {
    "duration": 5,
    "start_time": "2022-12-27T10:47:55.102Z"
   },
   {
    "duration": 53,
    "start_time": "2022-12-27T10:48:25.759Z"
   },
   {
    "duration": 16,
    "start_time": "2022-12-27T10:48:56.483Z"
   },
   {
    "duration": 5,
    "start_time": "2022-12-27T10:49:56.637Z"
   },
   {
    "duration": 22,
    "start_time": "2022-12-27T10:49:59.181Z"
   },
   {
    "duration": 50,
    "start_time": "2022-12-27T11:18:14.859Z"
   },
   {
    "duration": 6,
    "start_time": "2022-12-27T11:18:56.817Z"
   },
   {
    "duration": 1053,
    "start_time": "2022-12-27T11:19:02.807Z"
   },
   {
    "duration": 1636,
    "start_time": "2022-12-27T11:19:03.862Z"
   },
   {
    "duration": 16,
    "start_time": "2022-12-27T11:19:05.500Z"
   },
   {
    "duration": 16,
    "start_time": "2022-12-27T11:19:05.518Z"
   },
   {
    "duration": 37,
    "start_time": "2022-12-27T11:19:05.536Z"
   },
   {
    "duration": 43,
    "start_time": "2022-12-27T11:19:05.577Z"
   },
   {
    "duration": 10,
    "start_time": "2022-12-27T11:19:05.621Z"
   },
   {
    "duration": 26,
    "start_time": "2022-12-27T11:19:05.632Z"
   },
   {
    "duration": 44,
    "start_time": "2022-12-27T11:19:05.661Z"
   },
   {
    "duration": 43,
    "start_time": "2022-12-27T11:19:05.706Z"
   },
   {
    "duration": 10,
    "start_time": "2022-12-27T11:19:05.751Z"
   },
   {
    "duration": 23,
    "start_time": "2022-12-27T11:19:05.778Z"
   },
   {
    "duration": 34,
    "start_time": "2022-12-27T11:19:05.803Z"
   },
   {
    "duration": 55,
    "start_time": "2022-12-27T11:19:05.839Z"
   },
   {
    "duration": 10,
    "start_time": "2022-12-27T11:19:05.896Z"
   },
   {
    "duration": 16,
    "start_time": "2022-12-27T11:19:05.907Z"
   },
   {
    "duration": 33,
    "start_time": "2022-12-27T11:19:05.925Z"
   },
   {
    "duration": 121,
    "start_time": "2022-12-27T11:19:05.960Z"
   },
   {
    "duration": 103,
    "start_time": "2022-12-27T11:19:06.083Z"
   },
   {
    "duration": 2,
    "start_time": "2022-12-27T11:19:06.278Z"
   },
   {
    "duration": 14,
    "start_time": "2022-12-27T11:19:06.282Z"
   },
   {
    "duration": 8,
    "start_time": "2022-12-27T11:19:06.298Z"
   },
   {
    "duration": 13,
    "start_time": "2022-12-27T11:19:06.308Z"
   },
   {
    "duration": 21,
    "start_time": "2022-12-27T11:19:06.323Z"
   },
   {
    "duration": 6,
    "start_time": "2022-12-27T11:19:06.346Z"
   },
   {
    "duration": 98,
    "start_time": "2022-12-27T11:19:06.354Z"
   },
   {
    "duration": 0,
    "start_time": "2022-12-27T11:19:06.454Z"
   },
   {
    "duration": 4,
    "start_time": "2022-12-27T11:19:37.437Z"
   },
   {
    "duration": 14,
    "start_time": "2022-12-27T11:19:39.584Z"
   },
   {
    "duration": 7,
    "start_time": "2022-12-27T11:21:56.969Z"
   },
   {
    "duration": 5,
    "start_time": "2022-12-27T11:21:59.316Z"
   },
   {
    "duration": 14,
    "start_time": "2022-12-27T11:22:01.114Z"
   },
   {
    "duration": 6,
    "start_time": "2022-12-27T11:22:22.894Z"
   },
   {
    "duration": 1336,
    "start_time": "2022-12-27T11:22:25.131Z"
   },
   {
    "duration": 6,
    "start_time": "2022-12-27T11:23:52.810Z"
   },
   {
    "duration": 1468,
    "start_time": "2022-12-27T11:23:55.985Z"
   },
   {
    "duration": 7,
    "start_time": "2022-12-27T11:24:48.298Z"
   },
   {
    "duration": 1385,
    "start_time": "2022-12-27T11:24:50.790Z"
   },
   {
    "duration": 5,
    "start_time": "2022-12-27T11:24:59.420Z"
   },
   {
    "duration": 1342,
    "start_time": "2022-12-27T11:25:03.036Z"
   },
   {
    "duration": 5,
    "start_time": "2022-12-27T11:26:10.505Z"
   },
   {
    "duration": 1317,
    "start_time": "2022-12-27T11:26:13.597Z"
   },
   {
    "duration": 5,
    "start_time": "2022-12-27T11:28:48.508Z"
   },
   {
    "duration": 3,
    "start_time": "2022-12-27T11:28:51.332Z"
   },
   {
    "duration": 17,
    "start_time": "2022-12-27T11:29:06.553Z"
   },
   {
    "duration": 5,
    "start_time": "2022-12-27T11:29:18.399Z"
   },
   {
    "duration": 1269,
    "start_time": "2022-12-27T11:29:24.435Z"
   },
   {
    "duration": 1311,
    "start_time": "2022-12-27T11:30:05.174Z"
   },
   {
    "duration": 3,
    "start_time": "2022-12-27T11:30:26.536Z"
   },
   {
    "duration": 72,
    "start_time": "2022-12-27T11:30:35.668Z"
   },
   {
    "duration": 1286,
    "start_time": "2022-12-27T11:30:48.917Z"
   },
   {
    "duration": 5,
    "start_time": "2022-12-27T11:37:28.749Z"
   },
   {
    "duration": 1297,
    "start_time": "2022-12-27T11:37:31.937Z"
   },
   {
    "duration": 1370,
    "start_time": "2022-12-27T11:38:42.913Z"
   },
   {
    "duration": 6,
    "start_time": "2022-12-27T11:38:47.077Z"
   },
   {
    "duration": 1342,
    "start_time": "2022-12-27T11:38:49.097Z"
   },
   {
    "duration": 5,
    "start_time": "2022-12-27T11:39:11.947Z"
   },
   {
    "duration": 1260,
    "start_time": "2022-12-27T11:39:14.193Z"
   },
   {
    "duration": 1215,
    "start_time": "2022-12-27T11:39:26.271Z"
   },
   {
    "duration": 350,
    "start_time": "2022-12-27T11:39:27.488Z"
   },
   {
    "duration": 16,
    "start_time": "2022-12-27T11:39:27.840Z"
   },
   {
    "duration": 21,
    "start_time": "2022-12-27T11:39:27.858Z"
   },
   {
    "duration": 39,
    "start_time": "2022-12-27T11:39:27.880Z"
   },
   {
    "duration": 64,
    "start_time": "2022-12-27T11:39:27.921Z"
   },
   {
    "duration": 10,
    "start_time": "2022-12-27T11:39:27.987Z"
   },
   {
    "duration": 32,
    "start_time": "2022-12-27T11:39:27.999Z"
   },
   {
    "duration": 33,
    "start_time": "2022-12-27T11:39:28.032Z"
   },
   {
    "duration": 43,
    "start_time": "2022-12-27T11:39:28.067Z"
   },
   {
    "duration": 8,
    "start_time": "2022-12-27T11:39:28.112Z"
   },
   {
    "duration": 17,
    "start_time": "2022-12-27T11:39:28.122Z"
   },
   {
    "duration": 51,
    "start_time": "2022-12-27T11:39:28.141Z"
   },
   {
    "duration": 38,
    "start_time": "2022-12-27T11:39:28.194Z"
   },
   {
    "duration": 9,
    "start_time": "2022-12-27T11:39:28.234Z"
   },
   {
    "duration": 33,
    "start_time": "2022-12-27T11:39:28.245Z"
   },
   {
    "duration": 35,
    "start_time": "2022-12-27T11:39:28.280Z"
   },
   {
    "duration": 76,
    "start_time": "2022-12-27T11:39:28.317Z"
   },
   {
    "duration": 14,
    "start_time": "2022-12-27T11:39:28.478Z"
   },
   {
    "duration": 2,
    "start_time": "2022-12-27T11:39:28.579Z"
   },
   {
    "duration": 11,
    "start_time": "2022-12-27T11:39:28.583Z"
   },
   {
    "duration": 107,
    "start_time": "2022-12-27T11:39:28.596Z"
   },
   {
    "duration": 0,
    "start_time": "2022-12-27T11:39:28.704Z"
   },
   {
    "duration": 0,
    "start_time": "2022-12-27T11:39:28.705Z"
   },
   {
    "duration": 0,
    "start_time": "2022-12-27T11:39:28.707Z"
   },
   {
    "duration": 0,
    "start_time": "2022-12-27T11:39:28.708Z"
   },
   {
    "duration": 0,
    "start_time": "2022-12-27T11:39:28.709Z"
   },
   {
    "duration": 0,
    "start_time": "2022-12-27T11:39:28.710Z"
   },
   {
    "duration": 4,
    "start_time": "2022-12-27T11:40:37.452Z"
   },
   {
    "duration": 1049,
    "start_time": "2022-12-27T11:40:43.512Z"
   },
   {
    "duration": 345,
    "start_time": "2022-12-27T11:40:44.564Z"
   },
   {
    "duration": 17,
    "start_time": "2022-12-27T11:40:44.911Z"
   },
   {
    "duration": 40,
    "start_time": "2022-12-27T11:40:44.931Z"
   },
   {
    "duration": 39,
    "start_time": "2022-12-27T11:40:44.973Z"
   },
   {
    "duration": 46,
    "start_time": "2022-12-27T11:40:45.013Z"
   },
   {
    "duration": 21,
    "start_time": "2022-12-27T11:40:45.060Z"
   },
   {
    "duration": 15,
    "start_time": "2022-12-27T11:40:45.083Z"
   },
   {
    "duration": 36,
    "start_time": "2022-12-27T11:40:45.100Z"
   },
   {
    "duration": 64,
    "start_time": "2022-12-27T11:40:45.139Z"
   },
   {
    "duration": 9,
    "start_time": "2022-12-27T11:40:45.205Z"
   },
   {
    "duration": 24,
    "start_time": "2022-12-27T11:40:45.217Z"
   },
   {
    "duration": 48,
    "start_time": "2022-12-27T11:40:45.243Z"
   },
   {
    "duration": 40,
    "start_time": "2022-12-27T11:40:45.293Z"
   },
   {
    "duration": 9,
    "start_time": "2022-12-27T11:40:45.335Z"
   },
   {
    "duration": 12,
    "start_time": "2022-12-27T11:40:45.345Z"
   },
   {
    "duration": 38,
    "start_time": "2022-12-27T11:40:45.379Z"
   },
   {
    "duration": 373,
    "start_time": "2022-12-27T11:40:45.419Z"
   },
   {
    "duration": 92,
    "start_time": "2022-12-27T11:40:45.794Z"
   },
   {
    "duration": 97,
    "start_time": "2022-12-27T11:40:45.888Z"
   },
   {
    "duration": 7,
    "start_time": "2022-12-27T11:40:45.987Z"
   },
   {
    "duration": 9,
    "start_time": "2022-12-27T11:40:45.995Z"
   },
   {
    "duration": 5,
    "start_time": "2022-12-27T11:40:46.005Z"
   },
   {
    "duration": 22,
    "start_time": "2022-12-27T11:40:46.012Z"
   },
   {
    "duration": 6,
    "start_time": "2022-12-27T11:40:46.036Z"
   },
   {
    "duration": 1338,
    "start_time": "2022-12-27T11:40:46.044Z"
   },
   {
    "duration": 1297,
    "start_time": "2022-12-27T11:40:47.384Z"
   },
   {
    "duration": 1378,
    "start_time": "2022-12-27T11:40:48.684Z"
   },
   {
    "duration": 64,
    "start_time": "2022-12-29T14:25:25.483Z"
   },
   {
    "duration": 433,
    "start_time": "2022-12-29T14:27:10.990Z"
   },
   {
    "duration": 52,
    "start_time": "2022-12-29T14:27:26.383Z"
   },
   {
    "duration": 8,
    "start_time": "2022-12-29T14:27:56.082Z"
   },
   {
    "duration": 789,
    "start_time": "2022-12-29T14:28:07.020Z"
   },
   {
    "duration": 52,
    "start_time": "2022-12-29T14:31:39.114Z"
   },
   {
    "duration": 46,
    "start_time": "2022-12-29T14:34:17.357Z"
   },
   {
    "duration": 43,
    "start_time": "2022-12-29T14:34:19.433Z"
   },
   {
    "duration": 79,
    "start_time": "2022-12-29T16:08:18.724Z"
   }
  ],
  "kernelspec": {
   "display_name": "Python 3 (ipykernel)",
   "language": "python",
   "name": "python3"
  },
  "language_info": {
   "codemirror_mode": {
    "name": "ipython",
    "version": 3
   },
   "file_extension": ".py",
   "mimetype": "text/x-python",
   "name": "python",
   "nbconvert_exporter": "python",
   "pygments_lexer": "ipython3",
   "version": "3.9.16"
  },
  "toc": {
   "base_numbering": 1,
   "nav_menu": {},
   "number_sections": true,
   "sideBar": true,
   "skip_h1_title": true,
   "title_cell": "Table of Contents",
   "title_sidebar": "Contents",
   "toc_cell": true,
   "toc_position": {
    "height": "calc(100% - 180px)",
    "left": "10px",
    "top": "150px",
    "width": "355px"
   },
   "toc_section_display": true,
   "toc_window_display": true
  }
 },
 "nbformat": 4,
 "nbformat_minor": 2
}

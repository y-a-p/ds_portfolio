{
 "cells": [
  {
   "cell_type": "markdown",
   "metadata": {
    "toc": true
   },
   "source": [
    "<h1>Содержание<span class=\"tocSkip\"></span></h1>\n",
    "<div class=\"toc\"><ul class=\"toc-item\"><li><span><a href=\"#Загрузка-данных\" data-toc-modified-id=\"Загрузка-данных-1\"><span class=\"toc-item-num\">1&nbsp;&nbsp;</span>Загрузка данных</a></span></li><li><span><a href=\"#Умножение-матриц\" data-toc-modified-id=\"Умножение-матриц-2\"><span class=\"toc-item-num\">2&nbsp;&nbsp;</span>Умножение матриц</a></span></li><li><span><a href=\"#Алгоритм-преобразования\" data-toc-modified-id=\"Алгоритм-преобразования-3\"><span class=\"toc-item-num\">3&nbsp;&nbsp;</span>Алгоритм преобразования</a></span></li><li><span><a href=\"#Проверка-алгоритма\" data-toc-modified-id=\"Проверка-алгоритма-4\"><span class=\"toc-item-num\">4&nbsp;&nbsp;</span>Проверка алгоритма</a></span></li><li><span><a href=\"#Чек-лист-проверки\" data-toc-modified-id=\"Чек-лист-проверки-5\"><span class=\"toc-item-num\">5&nbsp;&nbsp;</span>Чек-лист проверки</a></span></li></ul></div>"
   ]
  },
  {
   "cell_type": "markdown",
   "metadata": {},
   "source": [
    "# Защита персональных данных клиентов"
   ]
  },
  {
   "cell_type": "markdown",
   "metadata": {},
   "source": [
    "Вам нужно защитить данные клиентов страховой компании «Хоть потоп». Разработайте такой метод преобразования данных, чтобы по ним было сложно восстановить персональную информацию. Обоснуйте корректность его работы.\n",
    "\n",
    "Нужно защитить данные, чтобы при преобразовании качество моделей машинного обучения не ухудшилось. Подбирать наилучшую модель не требуется."
   ]
  },
  {
   "cell_type": "markdown",
   "metadata": {},
   "source": [
    "## Загрузка данных"
   ]
  },
  {
   "cell_type": "code",
   "execution_count": 78,
   "metadata": {},
   "outputs": [],
   "source": [
    "import pandas as pd\n",
    "import numpy as np\n",
    "from sklearn.linear_model import LinearRegression\n",
    "from sklearn.metrics import r2_score\n",
    "from sklearn.model_selection import train_test_split"
   ]
  },
  {
   "cell_type": "code",
   "execution_count": 79,
   "metadata": {},
   "outputs": [],
   "source": [
    "try:\n",
    "    df = pd.read_csv('/datasets/insurance.csv')\n",
    "except:\n",
    "    print('При чтение файла возникал ошибка')"
   ]
  },
  {
   "cell_type": "code",
   "execution_count": 80,
   "metadata": {},
   "outputs": [
    {
     "data": {
      "text/html": [
       "<div>\n",
       "<style scoped>\n",
       "    .dataframe tbody tr th:only-of-type {\n",
       "        vertical-align: middle;\n",
       "    }\n",
       "\n",
       "    .dataframe tbody tr th {\n",
       "        vertical-align: top;\n",
       "    }\n",
       "\n",
       "    .dataframe thead th {\n",
       "        text-align: right;\n",
       "    }\n",
       "</style>\n",
       "<table border=\"1\" class=\"dataframe\">\n",
       "  <thead>\n",
       "    <tr style=\"text-align: right;\">\n",
       "      <th></th>\n",
       "      <th>Пол</th>\n",
       "      <th>Возраст</th>\n",
       "      <th>Зарплата</th>\n",
       "      <th>Члены семьи</th>\n",
       "      <th>Страховые выплаты</th>\n",
       "    </tr>\n",
       "  </thead>\n",
       "  <tbody>\n",
       "    <tr>\n",
       "      <th>0</th>\n",
       "      <td>1</td>\n",
       "      <td>41.0</td>\n",
       "      <td>49600.0</td>\n",
       "      <td>1</td>\n",
       "      <td>0</td>\n",
       "    </tr>\n",
       "    <tr>\n",
       "      <th>1</th>\n",
       "      <td>0</td>\n",
       "      <td>46.0</td>\n",
       "      <td>38000.0</td>\n",
       "      <td>1</td>\n",
       "      <td>1</td>\n",
       "    </tr>\n",
       "    <tr>\n",
       "      <th>2</th>\n",
       "      <td>0</td>\n",
       "      <td>29.0</td>\n",
       "      <td>21000.0</td>\n",
       "      <td>0</td>\n",
       "      <td>0</td>\n",
       "    </tr>\n",
       "    <tr>\n",
       "      <th>3</th>\n",
       "      <td>0</td>\n",
       "      <td>21.0</td>\n",
       "      <td>41700.0</td>\n",
       "      <td>2</td>\n",
       "      <td>0</td>\n",
       "    </tr>\n",
       "    <tr>\n",
       "      <th>4</th>\n",
       "      <td>1</td>\n",
       "      <td>28.0</td>\n",
       "      <td>26100.0</td>\n",
       "      <td>0</td>\n",
       "      <td>0</td>\n",
       "    </tr>\n",
       "  </tbody>\n",
       "</table>\n",
       "</div>"
      ],
      "text/plain": [
       "   Пол  Возраст  Зарплата  Члены семьи  Страховые выплаты\n",
       "0    1     41.0   49600.0            1                  0\n",
       "1    0     46.0   38000.0            1                  1\n",
       "2    0     29.0   21000.0            0                  0\n",
       "3    0     21.0   41700.0            2                  0\n",
       "4    1     28.0   26100.0            0                  0"
      ]
     },
     "execution_count": 80,
     "metadata": {},
     "output_type": "execute_result"
    }
   ],
   "source": [
    "df.head()"
   ]
  },
  {
   "cell_type": "markdown",
   "metadata": {},
   "source": [
    "## Умножение матриц"
   ]
  },
  {
   "cell_type": "markdown",
   "metadata": {},
   "source": [
    "В этом задании вы можете записывать формулы в *Jupyter Notebook.*\n",
    "\n",
    "Чтобы записать формулу внутри текста, окружите её символами доллара \\\\$; если снаружи —  двойными символами \\\\$\\\\$. Эти формулы записываются на языке вёрстки *LaTeX.* \n",
    "\n",
    "Для примера мы записали формулы линейной регрессии. Можете их скопировать и отредактировать, чтобы решить задачу.\n",
    "\n",
    "Работать в *LaTeX* необязательно."
   ]
  },
  {
   "cell_type": "markdown",
   "metadata": {},
   "source": [
    "Обозначения:\n",
    "\n",
    "- $X$ — матрица признаков (нулевой столбец состоит из единиц)\n",
    "\n",
    "- $y$ — вектор целевого признака\n",
    "\n",
    "- $P$ — матрица, на которую умножаются признаки\n",
    "\n",
    "- $w$ — вектор весов линейной регрессии (нулевой элемент равен сдвигу)"
   ]
  },
  {
   "cell_type": "markdown",
   "metadata": {},
   "source": [
    "Предсказания:\n",
    "\n",
    "$$\n",
    "a = Xw\n",
    "$$\n",
    "\n",
    "Задача обучения:\n",
    "\n",
    "$$\n",
    "w = \\arg\\min_w MSE(Xw, y)\n",
    "$$\n",
    "\n",
    "Формула обучения:\n",
    "\n",
    "$$\n",
    "w = (X^T X)^{-1} X^T y\n",
    "$$"
   ]
  },
  {
   "cell_type": "markdown",
   "metadata": {},
   "source": [
    "**Ответ:** Не изменится.\n",
    "\n",
    "**Обоснование (версия 1):** $w' = ((XP)^T (XP))^{-1} (XP)^T y = (P^TX^TXP)^{-1}P^TX^Ty = P^{-1}X^{-1}(X^T)^{-1}(P^T)^{-1}P^TX^Ty = P^{-1}(X^TX)^{-1}X^Ty=P^{-1}w$\n",
    "\n",
    "**Обоснование (версия 2):** $w' = ((XP)^T (XP))^{-1} (XP)^T y = (P^TX^TXP)^{-1}P^TX^Ty = (X^TXP)^{-1}(P^T)^{-1}P^TX^Ty = P^{-1}(X^TX)^{-1}X^Ty=P^{-1}w$"
   ]
  },
  {
   "cell_type": "markdown",
   "metadata": {},
   "source": [
    "## Алгоритм преобразования"
   ]
  },
  {
   "cell_type": "markdown",
   "metadata": {},
   "source": [
    "**Алгоритм**\n",
    "\n",
    "1. Генерируем случайную обратимую квадратную матрицу P размера МхМ, где М - количество признаков в исходной матрице признаков \n",
    "2. Умножаем матрицу признаков на матрицу P, получаем зашифрованную матрицу признаков\n",
    "3. Обучаем линейную регрессию на зашифрованной матрице признаков\n",
    "4. Предсказания, полученные за зашифрованных данных, будут соответствовать предсказаниям, полученным на незашифрованных данных."
   ]
  },
  {
   "cell_type": "markdown",
   "metadata": {},
   "source": [
    "**Обоснование**\n",
    "\n",
    "При умножении признаков на обратимую матрицу, меняются только значения признаков,но не их взаимосвязь. Коэффициенты линейной регрессии определяются взаимосвязями между признаками. Поэтому параметры линейной регрессии на исходных данных и на преобразованных будут связаны линейным преобразованием, и качество модели не изменится.\n",
    "\n",
    "При использовании необратимой матрицы, некоторые признаки могут быть линейно выражены через другие, что приведет к потере информации и снижению качества линейной регрессии."
   ]
  },
  {
   "cell_type": "markdown",
   "metadata": {},
   "source": [
    "## Проверка алгоритма"
   ]
  },
  {
   "cell_type": "markdown",
   "metadata": {},
   "source": [
    "Рассчитаем метрику R2 на исходных данных"
   ]
  },
  {
   "cell_type": "code",
   "execution_count": 81,
   "metadata": {},
   "outputs": [],
   "source": [
    "features_train = df.drop(['Страховые выплаты'], axis=1)\n",
    "target_train = df['Страховые выплаты']"
   ]
  },
  {
   "cell_type": "code",
   "execution_count": 82,
   "metadata": {},
   "outputs": [],
   "source": [
    "features_train, features_valid, target_train, target_valid = train_test_split(\n",
    "    features_train, target_train, test_size=0.25, random_state=12345)"
   ]
  },
  {
   "cell_type": "code",
   "execution_count": 83,
   "metadata": {},
   "outputs": [],
   "source": [
    "model = LinearRegression()"
   ]
  },
  {
   "cell_type": "code",
   "execution_count": 84,
   "metadata": {},
   "outputs": [
    {
     "data": {
      "text/plain": [
       "LinearRegression()"
      ]
     },
     "execution_count": 84,
     "metadata": {},
     "output_type": "execute_result"
    }
   ],
   "source": [
    "model.fit(features_train,target_train)"
   ]
  },
  {
   "cell_type": "code",
   "execution_count": 85,
   "metadata": {},
   "outputs": [],
   "source": [
    "prediction = model.predict(features_valid)"
   ]
  },
  {
   "cell_type": "code",
   "execution_count": 86,
   "metadata": {
    "scrolled": true
   },
   "outputs": [
    {
     "name": "stdout",
     "output_type": "stream",
     "text": [
      "R2 score: 0.43523\n"
     ]
    }
   ],
   "source": [
    "r2 = r2_score(target_valid, prediction)\n",
    "print(f\"R2 score: {r2:.5f}\")"
   ]
  },
  {
   "cell_type": "markdown",
   "metadata": {},
   "source": [
    "Теперь расчитаем метрику R2 на данных умноженных на необратимую матрицу размерности равной количеству признаков."
   ]
  },
  {
   "cell_type": "code",
   "execution_count": 87,
   "metadata": {},
   "outputs": [],
   "source": [
    "d = features_train.shape[1]"
   ]
  },
  {
   "cell_type": "code",
   "execution_count": 88,
   "metadata": {},
   "outputs": [],
   "source": [
    "P = np.random.rand(d, d)\n",
    "while np.linalg.det(P) == 0:\n",
    "    P = np.random.rand(d, d)"
   ]
  },
  {
   "cell_type": "code",
   "execution_count": 89,
   "metadata": {},
   "outputs": [],
   "source": [
    "P_inv = np.linalg.inv(P)"
   ]
  },
  {
   "cell_type": "code",
   "execution_count": 90,
   "metadata": {},
   "outputs": [],
   "source": [
    "features_train_protected = features_train.dot(P)"
   ]
  },
  {
   "cell_type": "code",
   "execution_count": 91,
   "metadata": {},
   "outputs": [],
   "source": [
    "model_protected = LinearRegression().fit(features_train_protected, target_train)"
   ]
  },
  {
   "cell_type": "code",
   "execution_count": 92,
   "metadata": {},
   "outputs": [],
   "source": [
    "features_valid_protected = features_valid.dot(P)"
   ]
  },
  {
   "cell_type": "code",
   "execution_count": 93,
   "metadata": {},
   "outputs": [],
   "source": [
    "prediction_protected = model.predict(features_valid_protected)"
   ]
  },
  {
   "cell_type": "code",
   "execution_count": 94,
   "metadata": {
    "scrolled": true
   },
   "outputs": [
    {
     "name": "stdout",
     "output_type": "stream",
     "text": [
      "R2 score (protected): 0.43523\n"
     ]
    }
   ],
   "source": [
    "r2_protected = r2_score(target_valid, prediction_protected)\n",
    "print(f\"R2 score (protected): {r2:.5f}\")"
   ]
  },
  {
   "cell_type": "markdown",
   "metadata": {},
   "source": [
    "**Вывод**<br>\n",
    "Значение метрики R2 на исходных данных и на зашифрованных - совпали."
   ]
  }
 ],
 "metadata": {
  "ExecuteTimeLog": [
   {
    "duration": 498,
    "start_time": "2023-04-03T11:03:35.209Z"
   },
   {
    "duration": 470,
    "start_time": "2023-04-03T11:04:41.820Z"
   },
   {
    "duration": 127,
    "start_time": "2023-04-03T11:04:55.931Z"
   },
   {
    "duration": 33,
    "start_time": "2023-04-03T13:59:09.188Z"
   },
   {
    "duration": 17,
    "start_time": "2023-04-03T13:59:22.932Z"
   },
   {
    "duration": 957,
    "start_time": "2023-04-03T14:12:54.485Z"
   },
   {
    "duration": 198,
    "start_time": "2023-04-03T14:14:34.190Z"
   },
   {
    "duration": 9,
    "start_time": "2023-04-03T14:14:46.093Z"
   },
   {
    "duration": 19,
    "start_time": "2023-04-03T14:20:27.091Z"
   },
   {
    "duration": 4,
    "start_time": "2023-04-03T14:20:53.627Z"
   },
   {
    "duration": 10,
    "start_time": "2023-04-03T14:21:01.905Z"
   },
   {
    "duration": 3,
    "start_time": "2023-04-03T14:24:37.084Z"
   },
   {
    "duration": 10,
    "start_time": "2023-04-03T14:25:27.750Z"
   },
   {
    "duration": 8,
    "start_time": "2023-04-03T14:26:20.331Z"
   },
   {
    "duration": 4,
    "start_time": "2023-04-03T14:26:53.154Z"
   },
   {
    "duration": 5,
    "start_time": "2023-04-03T14:27:05.732Z"
   },
   {
    "duration": 5,
    "start_time": "2023-04-03T14:54:21.932Z"
   },
   {
    "duration": 7,
    "start_time": "2023-04-03T14:54:33.605Z"
   },
   {
    "duration": 6,
    "start_time": "2023-04-03T14:54:40.618Z"
   },
   {
    "duration": 7,
    "start_time": "2023-04-03T14:55:19.594Z"
   },
   {
    "duration": 3,
    "start_time": "2023-04-03T14:55:58.151Z"
   },
   {
    "duration": 18,
    "start_time": "2023-04-03T14:56:10.551Z"
   },
   {
    "duration": 24,
    "start_time": "2023-04-03T14:56:42.506Z"
   },
   {
    "duration": 13,
    "start_time": "2023-04-03T14:59:16.944Z"
   },
   {
    "duration": 23,
    "start_time": "2023-04-03T14:59:35.621Z"
   },
   {
    "duration": 4,
    "start_time": "2023-04-03T15:00:16.844Z"
   },
   {
    "duration": 28,
    "start_time": "2023-04-03T15:00:18.508Z"
   },
   {
    "duration": 6,
    "start_time": "2023-04-03T15:00:19.426Z"
   },
   {
    "duration": 12,
    "start_time": "2023-04-03T15:02:02.405Z"
   },
   {
    "duration": 4,
    "start_time": "2023-04-03T15:05:21.652Z"
   },
   {
    "duration": 6,
    "start_time": "2023-04-03T15:07:22.721Z"
   },
   {
    "duration": 5,
    "start_time": "2023-04-03T15:07:48.097Z"
   },
   {
    "duration": 9,
    "start_time": "2023-04-03T15:10:21.824Z"
   },
   {
    "duration": 14,
    "start_time": "2023-04-03T15:12:54.084Z"
   },
   {
    "duration": 6,
    "start_time": "2023-04-03T15:14:28.009Z"
   },
   {
    "duration": 27,
    "start_time": "2023-04-03T15:14:28.018Z"
   },
   {
    "duration": 12,
    "start_time": "2023-04-03T15:14:28.048Z"
   },
   {
    "duration": 11,
    "start_time": "2023-04-03T15:14:28.070Z"
   },
   {
    "duration": 28,
    "start_time": "2023-04-03T15:14:28.084Z"
   },
   {
    "duration": 11,
    "start_time": "2023-04-03T15:14:28.114Z"
   },
   {
    "duration": 9,
    "start_time": "2023-04-03T15:14:28.127Z"
   },
   {
    "duration": 7,
    "start_time": "2023-04-03T15:14:28.138Z"
   },
   {
    "duration": 5,
    "start_time": "2023-04-03T15:14:28.148Z"
   },
   {
    "duration": 9,
    "start_time": "2023-04-03T15:14:28.155Z"
   },
   {
    "duration": 17,
    "start_time": "2023-04-03T15:14:28.167Z"
   },
   {
    "duration": 8,
    "start_time": "2023-04-03T15:14:28.186Z"
   },
   {
    "duration": 8,
    "start_time": "2023-04-03T15:14:28.196Z"
   },
   {
    "duration": 5,
    "start_time": "2023-04-03T15:14:28.206Z"
   },
   {
    "duration": 11,
    "start_time": "2023-04-03T15:14:28.213Z"
   },
   {
    "duration": 46,
    "start_time": "2023-04-03T15:14:28.227Z"
   },
   {
    "duration": 17,
    "start_time": "2023-04-03T15:14:28.275Z"
   },
   {
    "duration": 11,
    "start_time": "2023-04-03T15:14:28.294Z"
   },
   {
    "duration": 62,
    "start_time": "2023-04-03T15:14:28.308Z"
   },
   {
    "duration": 9,
    "start_time": "2023-04-03T15:14:28.374Z"
   },
   {
    "duration": 5,
    "start_time": "2023-04-03T15:15:50.256Z"
   },
   {
    "duration": 5,
    "start_time": "2023-04-03T15:15:51.324Z"
   },
   {
    "duration": 5,
    "start_time": "2023-04-03T15:20:54.904Z"
   },
   {
    "duration": 27,
    "start_time": "2023-04-03T15:20:54.912Z"
   },
   {
    "duration": 11,
    "start_time": "2023-04-03T15:20:54.941Z"
   },
   {
    "duration": 9,
    "start_time": "2023-04-03T15:20:54.954Z"
   },
   {
    "duration": 10,
    "start_time": "2023-04-03T15:20:54.968Z"
   },
   {
    "duration": 4,
    "start_time": "2023-04-03T15:20:54.982Z"
   },
   {
    "duration": 22,
    "start_time": "2023-04-03T15:20:54.990Z"
   },
   {
    "duration": 14,
    "start_time": "2023-04-03T15:20:55.015Z"
   },
   {
    "duration": 14,
    "start_time": "2023-04-03T15:20:55.031Z"
   },
   {
    "duration": 8,
    "start_time": "2023-04-03T15:20:55.047Z"
   },
   {
    "duration": 11,
    "start_time": "2023-04-03T15:20:55.057Z"
   },
   {
    "duration": 20,
    "start_time": "2023-04-03T15:20:55.072Z"
   },
   {
    "duration": 6,
    "start_time": "2023-04-03T15:20:55.094Z"
   },
   {
    "duration": 4,
    "start_time": "2023-04-03T15:20:55.105Z"
   },
   {
    "duration": 5,
    "start_time": "2023-04-03T15:20:55.111Z"
   },
   {
    "duration": 5,
    "start_time": "2023-04-03T15:20:55.121Z"
   },
   {
    "duration": 17,
    "start_time": "2023-04-03T15:20:55.174Z"
   },
   {
    "duration": 72,
    "start_time": "2023-04-03T15:20:55.193Z"
   },
   {
    "duration": 11,
    "start_time": "2023-04-03T15:20:55.266Z"
   },
   {
    "duration": 16,
    "start_time": "2023-04-03T15:20:55.279Z"
   },
   {
    "duration": 5,
    "start_time": "2023-04-03T15:21:59.721Z"
   },
   {
    "duration": 6,
    "start_time": "2023-04-03T15:50:15.560Z"
   },
   {
    "duration": 60,
    "start_time": "2023-04-03T15:50:15.569Z"
   },
   {
    "duration": 11,
    "start_time": "2023-04-03T15:50:15.630Z"
   },
   {
    "duration": 5,
    "start_time": "2023-04-03T15:50:15.644Z"
   },
   {
    "duration": 6,
    "start_time": "2023-04-03T15:50:15.651Z"
   },
   {
    "duration": 11,
    "start_time": "2023-04-03T15:50:15.659Z"
   },
   {
    "duration": 13,
    "start_time": "2023-04-03T15:50:15.685Z"
   },
   {
    "duration": 10,
    "start_time": "2023-04-03T15:50:15.700Z"
   },
   {
    "duration": 15,
    "start_time": "2023-04-03T15:50:15.714Z"
   },
   {
    "duration": 13,
    "start_time": "2023-04-03T15:50:15.732Z"
   },
   {
    "duration": 6,
    "start_time": "2023-04-03T15:50:15.748Z"
   },
   {
    "duration": 5,
    "start_time": "2023-04-03T15:50:15.755Z"
   },
   {
    "duration": 8,
    "start_time": "2023-04-03T15:50:15.769Z"
   },
   {
    "duration": 12,
    "start_time": "2023-04-03T15:50:15.779Z"
   },
   {
    "duration": 8,
    "start_time": "2023-04-03T15:50:15.801Z"
   },
   {
    "duration": 55,
    "start_time": "2023-04-03T15:50:15.811Z"
   },
   {
    "duration": 16,
    "start_time": "2023-04-03T15:50:15.872Z"
   }
  ],
  "kernelspec": {
   "display_name": "Python 3 (ipykernel)",
   "language": "python",
   "name": "python3"
  },
  "language_info": {
   "codemirror_mode": {
    "name": "ipython",
    "version": 3
   },
   "file_extension": ".py",
   "mimetype": "text/x-python",
   "name": "python",
   "nbconvert_exporter": "python",
   "pygments_lexer": "ipython3",
   "version": "3.9.16"
  },
  "toc": {
   "base_numbering": 1,
   "nav_menu": {},
   "number_sections": true,
   "sideBar": true,
   "skip_h1_title": true,
   "title_cell": "Содержание",
   "title_sidebar": "Contents",
   "toc_cell": true,
   "toc_position": {},
   "toc_section_display": true,
   "toc_window_display": true
  }
 },
 "nbformat": 4,
 "nbformat_minor": 2
}

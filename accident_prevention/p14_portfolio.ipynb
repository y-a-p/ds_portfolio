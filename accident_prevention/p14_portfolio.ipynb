{
 "cells": [
  {
   "cell_type": "markdown",
   "id": "4aae1e40",
   "metadata": {
    "toc": true
   },
   "source": [
    "<h1>Table of Contents<span class=\"tocSkip\"></span></h1>\n",
    "<div class=\"toc\"><ul class=\"toc-item\"><li><span><a href=\"#Предсказание-риска-ДТП\" data-toc-modified-id=\"Предсказание-риска-ДТП-1\">Предсказание риска ДТП</a></span><ul class=\"toc-item\"><li><span><a href=\"#Подключитесь-к-базе.-Загрузите-таблицы-sql\" data-toc-modified-id=\"Подключитесь-к-базе.-Загрузите-таблицы-sql-1.1\">Подключитесь к базе. Загрузите таблицы sql</a></span></li><li><span><a href=\"#Проведите-первичное-исследование-таблиц\" data-toc-modified-id=\"Проведите-первичное-исследование-таблиц-1.2\">Проведите первичное исследование таблиц</a></span></li><li><span><a href=\"#Проведите-статистический-анализ-факторов-ДТП\" data-toc-modified-id=\"Проведите-статистический-анализ-факторов-ДТП-1.3\">Проведите статистический анализ факторов ДТП</a></span></li><li><span><a href=\"#Создайте-модель-для-оценки-водительского-риска\" data-toc-modified-id=\"Создайте-модель-для-оценки-водительского-риска-1.4\">Создайте модель для оценки водительского риска</a></span><ul class=\"toc-item\"><li><ul class=\"toc-item\"><li><span><a href=\"#Вывод\" data-toc-modified-id=\"Вывод-1.4.0.1\">Вывод</a></span></li></ul></li></ul></li><li><span><a href=\"#Обчение-моделей\" data-toc-modified-id=\"Обчение-моделей-1.5\">Обчение моделей</a></span><ul class=\"toc-item\"><li><span><a href=\"#LogisticRegression\" data-toc-modified-id=\"LogisticRegression-1.5.1\">LogisticRegression</a></span></li><li><span><a href=\"#LGBMClassifier\" data-toc-modified-id=\"LGBMClassifier-1.5.2\">LGBMClassifier</a></span></li><li><span><a href=\"#Neural-Net\" data-toc-modified-id=\"Neural-Net-1.5.3\">Neural Net</a></span></li></ul></li><li><span><a href=\"#Проведите-анализ-важности-факторов-ДТП\" data-toc-modified-id=\"Проведите-анализ-важности-факторов-ДТП-1.6\">Проведите анализ важности факторов ДТП</a></span></li><li><span><a href=\"#Выводы\" data-toc-modified-id=\"Выводы-1.7\">Выводы</a></span></li></ul></li></ul></div>"
   ]
  },
  {
   "cell_type": "markdown",
   "id": "23a5f897",
   "metadata": {},
   "source": [
    "# Предсказание риска ДТП"
   ]
  },
  {
   "cell_type": "markdown",
   "id": "21227c4a",
   "metadata": {},
   "source": [
    "Нужно создать систему, которая могла бы оценить риск ДТП по выбранному маршруту движения. Под риском понимается вероятность ДТП с любым повреждением транспортного средства. Как только водитель забронировал автомобиль, сел за руль и выбрал маршрут, система должна оценить уровень риска. Если уровень риска высок, водитель увидит предупреждение и рекомендации по маршруту.\n",
    "\n",
    "Идея создания такой системы находится в стадии предварительного обсуждения и проработки. Чёткого алгоритма работы и подобных решений на рынке ещё не существует. Текущая задача — понять, возможно ли предсказывать ДТП, опираясь на исторические данные одного из регионов.\n",
    "\n",
    "Идея решения задачи от заказчика:\n",
    "\n",
    "Создать модель предсказания ДТП (целевое значение — at_fault (виновник) в таблице parties)\n",
    "Для модели выбрать тип виновника — только машина (car).\n",
    "Выбрать случаи, когда ДТП привело к любым повреждениям транспортного средства, кроме типа SCRATCH (царапина).\n",
    "Для моделирования ограничиться данными за 2012 год — они самые свежие.\n",
    "Обязательное условие — учесть фактор возраста автомобиля.\n",
    "На основе модели исследовать основные факторы ДТП.\n",
    "Понять, помогут ли результаты моделирования и анализ важности факторов ответить на вопросы:\n",
    "\n",
    "Возможно ли создать адекватную системы оценки водительского риска при выдаче авто?\n",
    "Какие ещё факторы нужно учесть?\n",
    "Нужно ли оборудовать автомобиль какими-либо датчиками или камерой?\n",
    "\n",
    "\n",
    "<b>Краткое описание таблиц</b>\n",
    "- collisions — общая информация о ДТП\n",
    "    Имеет уникальный case_id. Эта таблица описывает общую информацию о ДТП. Например, где оно произошло и когда.\n",
    "- parties — информация об участниках ДТП\n",
    "    Имеет неуникальный case_id, который сопоставляется с соответствующим ДТП в таблице collisions. Каждая строка здесь описывает одну из сторон, участвующих в ДТП. Если столкнулись две машины, в этой таблице должно быть две строки с совпадением case_id. Если нужен уникальный идентификатор, это case_id and party_number.\n",
    "- vehicles — информация о пострадавших машинах\n",
    "    Имеет неуникальные case_id и неуникальные party_number, которые сопоставляются с таблицей collisions и таблицей parties. Если нужен уникальный идентификатор, это case_id and party_number."
   ]
  },
  {
   "cell_type": "markdown",
   "id": "6091672c",
   "metadata": {
    "ExecuteTime": {
     "end_time": "2022-05-05T04:58:05.692448Z",
     "start_time": "2022-05-05T04:58:05.688565Z"
    }
   },
   "source": [
    "## Подключитесь к базе. Загрузите таблицы sql"
   ]
  },
  {
   "cell_type": "code",
   "execution_count": 1,
   "id": "fe2cbee1",
   "metadata": {},
   "outputs": [
    {
     "name": "stdout",
     "output_type": "stream",
     "text": [
      "Requirement already satisfied: shap in /opt/conda/lib/python3.9/site-packages (0.44.0)\n",
      "Requirement already satisfied: cloudpickle in /opt/conda/lib/python3.9/site-packages (from shap) (3.0.0)\n",
      "Requirement already satisfied: packaging>20.9 in /opt/conda/lib/python3.9/site-packages (from shap) (21.3)\n",
      "Requirement already satisfied: tqdm>=4.27.0 in /opt/conda/lib/python3.9/site-packages (from shap) (4.61.2)\n",
      "Requirement already satisfied: scikit-learn in /opt/conda/lib/python3.9/site-packages (from shap) (0.24.1)\n",
      "Requirement already satisfied: scipy in /opt/conda/lib/python3.9/site-packages (from shap) (1.9.1)\n",
      "Requirement already satisfied: pandas in /opt/conda/lib/python3.9/site-packages (from shap) (1.2.4)\n",
      "Requirement already satisfied: numpy in /opt/conda/lib/python3.9/site-packages (from shap) (1.21.1)\n",
      "Requirement already satisfied: slicer==0.0.7 in /opt/conda/lib/python3.9/site-packages (from shap) (0.0.7)\n",
      "Requirement already satisfied: numba in /opt/conda/lib/python3.9/site-packages (from shap) (0.56.0)\n",
      "Requirement already satisfied: pyparsing!=3.0.5,>=2.0.2 in /opt/conda/lib/python3.9/site-packages (from packaging>20.9->shap) (2.4.7)\n",
      "Requirement already satisfied: llvmlite<0.40,>=0.39.0dev0 in /opt/conda/lib/python3.9/site-packages (from numba->shap) (0.39.0)\n",
      "Requirement already satisfied: setuptools in /opt/conda/lib/python3.9/site-packages (from numba->shap) (49.6.0.post20210108)\n",
      "Requirement already satisfied: python-dateutil>=2.7.3 in /opt/conda/lib/python3.9/site-packages (from pandas->shap) (2.8.1)\n",
      "Requirement already satisfied: pytz>=2017.3 in /opt/conda/lib/python3.9/site-packages (from pandas->shap) (2021.1)\n",
      "Requirement already satisfied: six>=1.5 in /opt/conda/lib/python3.9/site-packages (from python-dateutil>=2.7.3->pandas->shap) (1.16.0)\n",
      "Requirement already satisfied: threadpoolctl>=2.0.0 in /opt/conda/lib/python3.9/site-packages (from scikit-learn->shap) (3.1.0)\n",
      "Requirement already satisfied: joblib>=0.11 in /opt/conda/lib/python3.9/site-packages (from scikit-learn->shap) (1.1.0)\n",
      "Requirement already satisfied: torchmetrics in /opt/conda/lib/python3.9/site-packages (1.3.0)\n",
      "Requirement already satisfied: torch>=1.10.0 in /opt/conda/lib/python3.9/site-packages (from torchmetrics) (1.10.0)\n",
      "Requirement already satisfied: lightning-utilities>=0.8.0 in /opt/conda/lib/python3.9/site-packages (from torchmetrics) (0.10.0)\n",
      "Requirement already satisfied: numpy>1.20.0 in /opt/conda/lib/python3.9/site-packages (from torchmetrics) (1.21.1)\n",
      "Requirement already satisfied: packaging>17.1 in /opt/conda/lib/python3.9/site-packages (from torchmetrics) (21.3)\n",
      "Requirement already satisfied: typing-extensions in /opt/conda/lib/python3.9/site-packages (from lightning-utilities>=0.8.0->torchmetrics) (4.3.0)\n",
      "Requirement already satisfied: setuptools in /opt/conda/lib/python3.9/site-packages (from lightning-utilities>=0.8.0->torchmetrics) (49.6.0.post20210108)\n",
      "Requirement already satisfied: pyparsing!=3.0.5,>=2.0.2 in /opt/conda/lib/python3.9/site-packages (from packaging>17.1->torchmetrics) (2.4.7)\n"
     ]
    }
   ],
   "source": [
    "!pip install shap\n",
    "!pip install torchmetrics"
   ]
  },
  {
   "cell_type": "code",
   "execution_count": 2,
   "id": "4774a672",
   "metadata": {},
   "outputs": [],
   "source": [
    "import pandas as pd\n",
    "import random\n",
    "import numpy as np\n",
    "import seaborn as sns\n",
    "import matplotlib.pyplot as plt\n",
    "import warnings\n",
    "import shap\n",
    "\n",
    "import lightgbm as lgb\n",
    "import torch\n",
    "import torch.nn as nn\n",
    "import torch.optim as optim\n",
    "from torchmetrics import Recall\n",
    "\n",
    "from sklearn.metrics import recall_score, confusion_matrix, precision_score\n",
    "from sklearn.model_selection import train_test_split\n",
    "from sklearn.preprocessing import StandardScaler\n",
    "from sklearn.preprocessing import OneHotEncoder\n",
    "from sklearn.model_selection import GridSearchCV\n",
    "from sklearn.linear_model import LogisticRegression\n",
    "\n",
    "from sqlalchemy import create_engine "
   ]
  },
  {
   "cell_type": "code",
   "execution_count": 3,
   "id": "26d370e4",
   "metadata": {},
   "outputs": [],
   "source": [
    "random.seed(0)\n",
    "np.random.seed(0)\n",
    "torch.manual_seed(0)\n",
    "torch.use_deterministic_algorithms(True)"
   ]
  },
  {
   "cell_type": "code",
   "execution_count": 4,
   "id": "2721dca0",
   "metadata": {},
   "outputs": [],
   "source": [
    "db_config = {\n",
    "'user': 'xxxxxxxxxxxxxx', # имя пользователя,\n",
    "'pwd': 'xxxxxxxxxxxxxx', # пароль,\n",
    "'host': 'xxxxxxxxxxxxxx',\n",
    "'port': xxxxxxxxxxxxxx, # порт подключения,\n",
    "'db': 'xxxxxxxxxxxxxx' # название базы данных,\n",
    "} \n",
    "\n",
    "connection_string = 'postgresql://{}:{}@{}:{}/{}'.format(\n",
    "    db_config['user'],\n",
    "    db_config['pwd'],\n",
    "    db_config['host'],\n",
    "    db_config['port'],\n",
    "    db_config['db'],\n",
    ")\n",
    "\n",
    "engine = create_engine(connection_string) "
   ]
  },
  {
   "cell_type": "markdown",
   "id": "8e018c1e",
   "metadata": {},
   "source": [
    "## Проведите первичное исследование таблиц"
   ]
  },
  {
   "cell_type": "code",
   "execution_count": 5,
   "id": "818e1e99",
   "metadata": {},
   "outputs": [],
   "source": [
    "sql_query = \"\"\"\n",
    "SELECT *\n",
    "FROM collisions\n",
    "\"\"\"\n",
    "collisions = pd.read_sql_query(sql_query, con=engine)"
   ]
  },
  {
   "cell_type": "code",
   "execution_count": 6,
   "id": "977832db",
   "metadata": {},
   "outputs": [
    {
     "name": "stdout",
     "output_type": "stream",
     "text": [
      "<class 'pandas.core.frame.DataFrame'>\n",
      "RangeIndex: 1400000 entries, 0 to 1399999\n",
      "Data columns (total 20 columns):\n",
      " #   Column                       Non-Null Count    Dtype  \n",
      "---  ------                       --------------    -----  \n",
      " 0   case_id                      1400000 non-null  object \n",
      " 1   county_city_location         1400000 non-null  object \n",
      " 2   county_location              1400000 non-null  object \n",
      " 3   distance                     1400000 non-null  float64\n",
      " 4   direction                    1059358 non-null  object \n",
      " 5   intersection                 1387781 non-null  float64\n",
      " 6   weather_1                    1392741 non-null  object \n",
      " 7   location_type                518779 non-null   object \n",
      " 8   collision_damage             1400000 non-null  object \n",
      " 9   party_count                  1400000 non-null  int64  \n",
      " 10  primary_collision_factor     1391834 non-null  object \n",
      " 11  pcf_violation_category       1372046 non-null  object \n",
      " 12  type_of_collision            1388176 non-null  object \n",
      " 13  motor_vehicle_involved_with  1393181 non-null  object \n",
      " 14  road_surface                 1386907 non-null  object \n",
      " 15  road_condition_1             1388012 non-null  object \n",
      " 16  lighting                     1391407 non-null  object \n",
      " 17  control_device               1391593 non-null  object \n",
      " 18  collision_date               1400000 non-null  object \n",
      " 19  collision_time               1387692 non-null  object \n",
      "dtypes: float64(2), int64(1), object(17)\n",
      "memory usage: 213.6+ MB\n"
     ]
    },
    {
     "data": {
      "text/plain": [
       "None"
      ]
     },
     "metadata": {},
     "output_type": "display_data"
    },
    {
     "data": {
      "text/html": [
       "<div>\n",
       "<style scoped>\n",
       "    .dataframe tbody tr th:only-of-type {\n",
       "        vertical-align: middle;\n",
       "    }\n",
       "\n",
       "    .dataframe tbody tr th {\n",
       "        vertical-align: top;\n",
       "    }\n",
       "\n",
       "    .dataframe thead th {\n",
       "        text-align: right;\n",
       "    }\n",
       "</style>\n",
       "<table border=\"1\" class=\"dataframe\">\n",
       "  <thead>\n",
       "    <tr style=\"text-align: right;\">\n",
       "      <th></th>\n",
       "      <th>case_id</th>\n",
       "      <th>county_city_location</th>\n",
       "      <th>county_location</th>\n",
       "      <th>distance</th>\n",
       "      <th>direction</th>\n",
       "      <th>intersection</th>\n",
       "      <th>weather_1</th>\n",
       "      <th>location_type</th>\n",
       "      <th>collision_damage</th>\n",
       "      <th>party_count</th>\n",
       "      <th>primary_collision_factor</th>\n",
       "      <th>pcf_violation_category</th>\n",
       "      <th>type_of_collision</th>\n",
       "      <th>motor_vehicle_involved_with</th>\n",
       "      <th>road_surface</th>\n",
       "      <th>road_condition_1</th>\n",
       "      <th>lighting</th>\n",
       "      <th>control_device</th>\n",
       "      <th>collision_date</th>\n",
       "      <th>collision_time</th>\n",
       "    </tr>\n",
       "  </thead>\n",
       "  <tbody>\n",
       "    <tr>\n",
       "      <th>0</th>\n",
       "      <td>4083072</td>\n",
       "      <td>1942</td>\n",
       "      <td>los angeles</td>\n",
       "      <td>528.0</td>\n",
       "      <td>north</td>\n",
       "      <td>0.0</td>\n",
       "      <td>cloudy</td>\n",
       "      <td>highway</td>\n",
       "      <td>small damage</td>\n",
       "      <td>2</td>\n",
       "      <td>vehicle code violation</td>\n",
       "      <td>unsafe lane change</td>\n",
       "      <td>sideswipe</td>\n",
       "      <td>other motor vehicle</td>\n",
       "      <td>wet</td>\n",
       "      <td>normal</td>\n",
       "      <td>daylight</td>\n",
       "      <td>none</td>\n",
       "      <td>2009-01-22</td>\n",
       "      <td>07:25:00</td>\n",
       "    </tr>\n",
       "    <tr>\n",
       "      <th>1</th>\n",
       "      <td>4083075</td>\n",
       "      <td>4313</td>\n",
       "      <td>santa clara</td>\n",
       "      <td>0.0</td>\n",
       "      <td>None</td>\n",
       "      <td>1.0</td>\n",
       "      <td>clear</td>\n",
       "      <td>None</td>\n",
       "      <td>small damage</td>\n",
       "      <td>1</td>\n",
       "      <td>vehicle code violation</td>\n",
       "      <td>improper passing</td>\n",
       "      <td>hit object</td>\n",
       "      <td>fixed object</td>\n",
       "      <td>dry</td>\n",
       "      <td>normal</td>\n",
       "      <td>dark with street lights</td>\n",
       "      <td>functioning</td>\n",
       "      <td>2009-01-03</td>\n",
       "      <td>02:26:00</td>\n",
       "    </tr>\n",
       "    <tr>\n",
       "      <th>2</th>\n",
       "      <td>4083073</td>\n",
       "      <td>0109</td>\n",
       "      <td>alameda</td>\n",
       "      <td>0.0</td>\n",
       "      <td>None</td>\n",
       "      <td>1.0</td>\n",
       "      <td>clear</td>\n",
       "      <td>None</td>\n",
       "      <td>scratch</td>\n",
       "      <td>2</td>\n",
       "      <td>vehicle code violation</td>\n",
       "      <td>improper turning</td>\n",
       "      <td>broadside</td>\n",
       "      <td>other motor vehicle</td>\n",
       "      <td>dry</td>\n",
       "      <td>normal</td>\n",
       "      <td>dark with street lights</td>\n",
       "      <td>functioning</td>\n",
       "      <td>2009-01-11</td>\n",
       "      <td>03:32:00</td>\n",
       "    </tr>\n",
       "    <tr>\n",
       "      <th>3</th>\n",
       "      <td>4083077</td>\n",
       "      <td>0109</td>\n",
       "      <td>alameda</td>\n",
       "      <td>0.0</td>\n",
       "      <td>None</td>\n",
       "      <td>1.0</td>\n",
       "      <td>clear</td>\n",
       "      <td>None</td>\n",
       "      <td>scratch</td>\n",
       "      <td>2</td>\n",
       "      <td>vehicle code violation</td>\n",
       "      <td>automobile right of way</td>\n",
       "      <td>broadside</td>\n",
       "      <td>other motor vehicle</td>\n",
       "      <td>dry</td>\n",
       "      <td>normal</td>\n",
       "      <td>daylight</td>\n",
       "      <td>functioning</td>\n",
       "      <td>2009-01-11</td>\n",
       "      <td>10:35:00</td>\n",
       "    </tr>\n",
       "    <tr>\n",
       "      <th>4</th>\n",
       "      <td>4083087</td>\n",
       "      <td>4313</td>\n",
       "      <td>santa clara</td>\n",
       "      <td>0.0</td>\n",
       "      <td>None</td>\n",
       "      <td>1.0</td>\n",
       "      <td>clear</td>\n",
       "      <td>None</td>\n",
       "      <td>scratch</td>\n",
       "      <td>2</td>\n",
       "      <td>vehicle code violation</td>\n",
       "      <td>speeding</td>\n",
       "      <td>rear end</td>\n",
       "      <td>other motor vehicle</td>\n",
       "      <td>dry</td>\n",
       "      <td>None</td>\n",
       "      <td>dark with street lights</td>\n",
       "      <td>functioning</td>\n",
       "      <td>2009-01-02</td>\n",
       "      <td>22:43:00</td>\n",
       "    </tr>\n",
       "  </tbody>\n",
       "</table>\n",
       "</div>"
      ],
      "text/plain": [
       "   case_id county_city_location county_location  distance direction  \\\n",
       "0  4083072                 1942     los angeles     528.0     north   \n",
       "1  4083075                 4313     santa clara       0.0      None   \n",
       "2  4083073                 0109         alameda       0.0      None   \n",
       "3  4083077                 0109         alameda       0.0      None   \n",
       "4  4083087                 4313     santa clara       0.0      None   \n",
       "\n",
       "   intersection weather_1 location_type collision_damage  party_count  \\\n",
       "0           0.0    cloudy       highway     small damage            2   \n",
       "1           1.0     clear          None     small damage            1   \n",
       "2           1.0     clear          None          scratch            2   \n",
       "3           1.0     clear          None          scratch            2   \n",
       "4           1.0     clear          None          scratch            2   \n",
       "\n",
       "  primary_collision_factor   pcf_violation_category type_of_collision  \\\n",
       "0   vehicle code violation       unsafe lane change         sideswipe   \n",
       "1   vehicle code violation         improper passing        hit object   \n",
       "2   vehicle code violation         improper turning         broadside   \n",
       "3   vehicle code violation  automobile right of way         broadside   \n",
       "4   vehicle code violation                 speeding          rear end   \n",
       "\n",
       "  motor_vehicle_involved_with road_surface road_condition_1  \\\n",
       "0         other motor vehicle          wet           normal   \n",
       "1                fixed object          dry           normal   \n",
       "2         other motor vehicle          dry           normal   \n",
       "3         other motor vehicle          dry           normal   \n",
       "4         other motor vehicle          dry             None   \n",
       "\n",
       "                  lighting control_device collision_date collision_time  \n",
       "0                 daylight           none     2009-01-22       07:25:00  \n",
       "1  dark with street lights    functioning     2009-01-03       02:26:00  \n",
       "2  dark with street lights    functioning     2009-01-11       03:32:00  \n",
       "3                 daylight    functioning     2009-01-11       10:35:00  \n",
       "4  dark with street lights    functioning     2009-01-02       22:43:00  "
      ]
     },
     "metadata": {},
     "output_type": "display_data"
    }
   ],
   "source": [
    "display(collisions.info())\n",
    "display(collisions.head())"
   ]
  },
  {
   "cell_type": "code",
   "execution_count": 7,
   "id": "95863a07",
   "metadata": {},
   "outputs": [],
   "source": [
    "sql_query = \"\"\"\n",
    "SELECT *\n",
    "FROM parties\n",
    "\"\"\"\n",
    "parties = pd.read_sql_query(sql_query, con=engine)"
   ]
  },
  {
   "cell_type": "code",
   "execution_count": 8,
   "id": "a54d716c",
   "metadata": {},
   "outputs": [
    {
     "name": "stdout",
     "output_type": "stream",
     "text": [
      "<class 'pandas.core.frame.DataFrame'>\n",
      "RangeIndex: 2752408 entries, 0 to 2752407\n",
      "Data columns (total 9 columns):\n",
      " #   Column               Dtype  \n",
      "---  ------               -----  \n",
      " 0   id                   int64  \n",
      " 1   case_id              object \n",
      " 2   party_number         int64  \n",
      " 3   party_type           object \n",
      " 4   at_fault             int64  \n",
      " 5   insurance_premium    float64\n",
      " 6   party_sobriety       object \n",
      " 7   party_drug_physical  object \n",
      " 8   cellphone_in_use     float64\n",
      "dtypes: float64(2), int64(3), object(4)\n",
      "memory usage: 189.0+ MB\n"
     ]
    },
    {
     "data": {
      "text/plain": [
       "None"
      ]
     },
     "metadata": {},
     "output_type": "display_data"
    },
    {
     "data": {
      "text/html": [
       "<div>\n",
       "<style scoped>\n",
       "    .dataframe tbody tr th:only-of-type {\n",
       "        vertical-align: middle;\n",
       "    }\n",
       "\n",
       "    .dataframe tbody tr th {\n",
       "        vertical-align: top;\n",
       "    }\n",
       "\n",
       "    .dataframe thead th {\n",
       "        text-align: right;\n",
       "    }\n",
       "</style>\n",
       "<table border=\"1\" class=\"dataframe\">\n",
       "  <thead>\n",
       "    <tr style=\"text-align: right;\">\n",
       "      <th></th>\n",
       "      <th>id</th>\n",
       "      <th>case_id</th>\n",
       "      <th>party_number</th>\n",
       "      <th>party_type</th>\n",
       "      <th>at_fault</th>\n",
       "      <th>insurance_premium</th>\n",
       "      <th>party_sobriety</th>\n",
       "      <th>party_drug_physical</th>\n",
       "      <th>cellphone_in_use</th>\n",
       "    </tr>\n",
       "  </thead>\n",
       "  <tbody>\n",
       "    <tr>\n",
       "      <th>0</th>\n",
       "      <td>22</td>\n",
       "      <td>3899454</td>\n",
       "      <td>1</td>\n",
       "      <td>road signs</td>\n",
       "      <td>1</td>\n",
       "      <td>29.0</td>\n",
       "      <td>had not been drinking</td>\n",
       "      <td>None</td>\n",
       "      <td>0.0</td>\n",
       "    </tr>\n",
       "    <tr>\n",
       "      <th>1</th>\n",
       "      <td>23</td>\n",
       "      <td>3899454</td>\n",
       "      <td>2</td>\n",
       "      <td>road signs</td>\n",
       "      <td>0</td>\n",
       "      <td>7.0</td>\n",
       "      <td>had not been drinking</td>\n",
       "      <td>None</td>\n",
       "      <td>0.0</td>\n",
       "    </tr>\n",
       "    <tr>\n",
       "      <th>2</th>\n",
       "      <td>29</td>\n",
       "      <td>3899462</td>\n",
       "      <td>2</td>\n",
       "      <td>car</td>\n",
       "      <td>0</td>\n",
       "      <td>21.0</td>\n",
       "      <td>had not been drinking</td>\n",
       "      <td>None</td>\n",
       "      <td>0.0</td>\n",
       "    </tr>\n",
       "    <tr>\n",
       "      <th>3</th>\n",
       "      <td>31</td>\n",
       "      <td>3899465</td>\n",
       "      <td>2</td>\n",
       "      <td>road signs</td>\n",
       "      <td>0</td>\n",
       "      <td>24.0</td>\n",
       "      <td>had not been drinking</td>\n",
       "      <td>None</td>\n",
       "      <td>0.0</td>\n",
       "    </tr>\n",
       "    <tr>\n",
       "      <th>4</th>\n",
       "      <td>41</td>\n",
       "      <td>3899478</td>\n",
       "      <td>2</td>\n",
       "      <td>road bumper</td>\n",
       "      <td>0</td>\n",
       "      <td>NaN</td>\n",
       "      <td>not applicable</td>\n",
       "      <td>not applicable</td>\n",
       "      <td>0.0</td>\n",
       "    </tr>\n",
       "  </tbody>\n",
       "</table>\n",
       "</div>"
      ],
      "text/plain": [
       "   id  case_id  party_number   party_type  at_fault  insurance_premium  \\\n",
       "0  22  3899454             1   road signs         1               29.0   \n",
       "1  23  3899454             2   road signs         0                7.0   \n",
       "2  29  3899462             2          car         0               21.0   \n",
       "3  31  3899465             2   road signs         0               24.0   \n",
       "4  41  3899478             2  road bumper         0                NaN   \n",
       "\n",
       "          party_sobriety party_drug_physical  cellphone_in_use  \n",
       "0  had not been drinking                None               0.0  \n",
       "1  had not been drinking                None               0.0  \n",
       "2  had not been drinking                None               0.0  \n",
       "3  had not been drinking                None               0.0  \n",
       "4         not applicable      not applicable               0.0  "
      ]
     },
     "metadata": {},
     "output_type": "display_data"
    }
   ],
   "source": [
    "display(parties.info())\n",
    "display(parties.head())"
   ]
  },
  {
   "cell_type": "code",
   "execution_count": 9,
   "id": "89fc6f7f",
   "metadata": {},
   "outputs": [],
   "source": [
    "sql_query = \"\"\"\n",
    "SELECT *\n",
    "FROM vehicles\n",
    "\"\"\"\n",
    "vehicles = pd.read_sql_query(sql_query, con=engine)"
   ]
  },
  {
   "cell_type": "code",
   "execution_count": 10,
   "id": "92d81222",
   "metadata": {},
   "outputs": [
    {
     "name": "stdout",
     "output_type": "stream",
     "text": [
      "<class 'pandas.core.frame.DataFrame'>\n",
      "RangeIndex: 1021234 entries, 0 to 1021233\n",
      "Data columns (total 6 columns):\n",
      " #   Column                Non-Null Count    Dtype  \n",
      "---  ------                --------------    -----  \n",
      " 0   id                    1021234 non-null  int64  \n",
      " 1   case_id               1021234 non-null  object \n",
      " 2   party_number          1021234 non-null  int64  \n",
      " 3   vehicle_type          1021234 non-null  object \n",
      " 4   vehicle_transmission  997575 non-null   object \n",
      " 5   vehicle_age           996652 non-null   float64\n",
      "dtypes: float64(1), int64(2), object(3)\n",
      "memory usage: 46.7+ MB\n"
     ]
    },
    {
     "data": {
      "text/plain": [
       "None"
      ]
     },
     "metadata": {},
     "output_type": "display_data"
    },
    {
     "data": {
      "text/html": [
       "<div>\n",
       "<style scoped>\n",
       "    .dataframe tbody tr th:only-of-type {\n",
       "        vertical-align: middle;\n",
       "    }\n",
       "\n",
       "    .dataframe tbody tr th {\n",
       "        vertical-align: top;\n",
       "    }\n",
       "\n",
       "    .dataframe thead th {\n",
       "        text-align: right;\n",
       "    }\n",
       "</style>\n",
       "<table border=\"1\" class=\"dataframe\">\n",
       "  <thead>\n",
       "    <tr style=\"text-align: right;\">\n",
       "      <th></th>\n",
       "      <th>id</th>\n",
       "      <th>case_id</th>\n",
       "      <th>party_number</th>\n",
       "      <th>vehicle_type</th>\n",
       "      <th>vehicle_transmission</th>\n",
       "      <th>vehicle_age</th>\n",
       "    </tr>\n",
       "  </thead>\n",
       "  <tbody>\n",
       "    <tr>\n",
       "      <th>0</th>\n",
       "      <td>1175713</td>\n",
       "      <td>5305032</td>\n",
       "      <td>2</td>\n",
       "      <td>sedan</td>\n",
       "      <td>manual</td>\n",
       "      <td>3.0</td>\n",
       "    </tr>\n",
       "    <tr>\n",
       "      <th>1</th>\n",
       "      <td>1</td>\n",
       "      <td>3858022</td>\n",
       "      <td>1</td>\n",
       "      <td>sedan</td>\n",
       "      <td>auto</td>\n",
       "      <td>3.0</td>\n",
       "    </tr>\n",
       "    <tr>\n",
       "      <th>2</th>\n",
       "      <td>1175712</td>\n",
       "      <td>5305030</td>\n",
       "      <td>1</td>\n",
       "      <td>sedan</td>\n",
       "      <td>auto</td>\n",
       "      <td>3.0</td>\n",
       "    </tr>\n",
       "    <tr>\n",
       "      <th>3</th>\n",
       "      <td>1175717</td>\n",
       "      <td>5305033</td>\n",
       "      <td>3</td>\n",
       "      <td>sedan</td>\n",
       "      <td>auto</td>\n",
       "      <td>5.0</td>\n",
       "    </tr>\n",
       "    <tr>\n",
       "      <th>4</th>\n",
       "      <td>1175722</td>\n",
       "      <td>5305034</td>\n",
       "      <td>2</td>\n",
       "      <td>sedan</td>\n",
       "      <td>auto</td>\n",
       "      <td>5.0</td>\n",
       "    </tr>\n",
       "  </tbody>\n",
       "</table>\n",
       "</div>"
      ],
      "text/plain": [
       "        id  case_id  party_number vehicle_type vehicle_transmission  \\\n",
       "0  1175713  5305032             2        sedan               manual   \n",
       "1        1  3858022             1        sedan                 auto   \n",
       "2  1175712  5305030             1        sedan                 auto   \n",
       "3  1175717  5305033             3        sedan                 auto   \n",
       "4  1175722  5305034             2        sedan                 auto   \n",
       "\n",
       "   vehicle_age  \n",
       "0          3.0  \n",
       "1          3.0  \n",
       "2          3.0  \n",
       "3          5.0  \n",
       "4          5.0  "
      ]
     },
     "metadata": {},
     "output_type": "display_data"
    }
   ],
   "source": [
    "display(vehicles.info())\n",
    "display(vehicles.head())"
   ]
  },
  {
   "cell_type": "code",
   "execution_count": 11,
   "id": "5bf045c5",
   "metadata": {},
   "outputs": [],
   "source": [
    "sql_query = \"\"\"\n",
    "SELECT *\n",
    "FROM case_ids\n",
    "\"\"\"\n",
    "vehicles = pd.read_sql_query(sql_query, con=engine)"
   ]
  },
  {
   "cell_type": "code",
   "execution_count": 12,
   "id": "5b3500af",
   "metadata": {},
   "outputs": [
    {
     "name": "stdout",
     "output_type": "stream",
     "text": [
      "<class 'pandas.core.frame.DataFrame'>\n",
      "RangeIndex: 1400000 entries, 0 to 1399999\n",
      "Data columns (total 2 columns):\n",
      " #   Column   Non-Null Count    Dtype \n",
      "---  ------   --------------    ----- \n",
      " 0   case_id  1400000 non-null  object\n",
      " 1   db_year  1400000 non-null  object\n",
      "dtypes: object(2)\n",
      "memory usage: 21.4+ MB\n"
     ]
    },
    {
     "data": {
      "text/plain": [
       "None"
      ]
     },
     "metadata": {},
     "output_type": "display_data"
    },
    {
     "data": {
      "text/html": [
       "<div>\n",
       "<style scoped>\n",
       "    .dataframe tbody tr th:only-of-type {\n",
       "        vertical-align: middle;\n",
       "    }\n",
       "\n",
       "    .dataframe tbody tr th {\n",
       "        vertical-align: top;\n",
       "    }\n",
       "\n",
       "    .dataframe thead th {\n",
       "        text-align: right;\n",
       "    }\n",
       "</style>\n",
       "<table border=\"1\" class=\"dataframe\">\n",
       "  <thead>\n",
       "    <tr style=\"text-align: right;\">\n",
       "      <th></th>\n",
       "      <th>case_id</th>\n",
       "      <th>db_year</th>\n",
       "    </tr>\n",
       "  </thead>\n",
       "  <tbody>\n",
       "    <tr>\n",
       "      <th>0</th>\n",
       "      <td>0081715</td>\n",
       "      <td>2021</td>\n",
       "    </tr>\n",
       "    <tr>\n",
       "      <th>1</th>\n",
       "      <td>0726202</td>\n",
       "      <td>2021</td>\n",
       "    </tr>\n",
       "    <tr>\n",
       "      <th>2</th>\n",
       "      <td>3858022</td>\n",
       "      <td>2021</td>\n",
       "    </tr>\n",
       "    <tr>\n",
       "      <th>3</th>\n",
       "      <td>3899441</td>\n",
       "      <td>2021</td>\n",
       "    </tr>\n",
       "    <tr>\n",
       "      <th>4</th>\n",
       "      <td>3899442</td>\n",
       "      <td>2021</td>\n",
       "    </tr>\n",
       "  </tbody>\n",
       "</table>\n",
       "</div>"
      ],
      "text/plain": [
       "   case_id db_year\n",
       "0  0081715    2021\n",
       "1  0726202    2021\n",
       "2  3858022    2021\n",
       "3  3899441    2021\n",
       "4  3899442    2021"
      ]
     },
     "metadata": {},
     "output_type": "display_data"
    }
   ],
   "source": [
    "display(vehicles.info())\n",
    "display(vehicles.head())"
   ]
  },
  {
   "cell_type": "markdown",
   "id": "774d4dc3",
   "metadata": {},
   "source": [
    "<b>Вывод</b>\n",
    "\n",
    "В нашем распоряжение имеется 4 таблицы с данными о происшествиях, участниках, автомобялях, а также 4ая таблица case_ids, но данные в ней не соответсвуют описанию - вместо Case_id указан db_year.\n",
    "В некоторых столбцах таблиц имеются пропуски, но кажется их не так много и это не должно повлиять на дальнейшую работу.\n",
    "Все таблицы можно связать по ключу case_id.\n",
    "\n",
    "В соответсвии с постановакой задачи требуется определеить вероятность возникновения риска ДТП, но для этого не хватает данных о поездках, которые прошли без происшествий. Тем не менее, данных достаточно для того, чтобы попробовать предсказать вероятность того, что видетель будет виновником ДТП."
   ]
  },
  {
   "cell_type": "markdown",
   "id": "5925716f",
   "metadata": {},
   "source": [
    "##  Проведите статистический анализ факторов ДТП"
   ]
  },
  {
   "cell_type": "markdown",
   "id": "77a9d3fa",
   "metadata": {},
   "source": [
    " ###### Проверим в какие месяцы происходит наибольшее количество аварий."
   ]
  },
  {
   "cell_type": "code",
   "execution_count": 13,
   "id": "35facff4",
   "metadata": {},
   "outputs": [],
   "source": [
    "sql_query = \"\"\"\n",
    "select COUNT(case_id) as count, date_trunc('month', collision_date)::date as month\n",
    "from collisions\n",
    "group by date_trunc('month', collision_date)\n",
    "\"\"\"\n",
    "collisions_count = pd.read_sql_query(sql_query, con=engine)"
   ]
  },
  {
   "cell_type": "code",
   "execution_count": 14,
   "id": "044aa018",
   "metadata": {},
   "outputs": [
    {
     "data": {
      "text/html": [
       "<div>\n",
       "<style scoped>\n",
       "    .dataframe tbody tr th:only-of-type {\n",
       "        vertical-align: middle;\n",
       "    }\n",
       "\n",
       "    .dataframe tbody tr th {\n",
       "        vertical-align: top;\n",
       "    }\n",
       "\n",
       "    .dataframe thead th {\n",
       "        text-align: right;\n",
       "    }\n",
       "</style>\n",
       "<table border=\"1\" class=\"dataframe\">\n",
       "  <thead>\n",
       "    <tr style=\"text-align: right;\">\n",
       "      <th></th>\n",
       "      <th>count</th>\n",
       "      <th>month</th>\n",
       "    </tr>\n",
       "  </thead>\n",
       "  <tbody>\n",
       "    <tr>\n",
       "      <th>0</th>\n",
       "      <td>35062</td>\n",
       "      <td>2009-01-01</td>\n",
       "    </tr>\n",
       "    <tr>\n",
       "      <th>1</th>\n",
       "      <td>34480</td>\n",
       "      <td>2009-02-01</td>\n",
       "    </tr>\n",
       "    <tr>\n",
       "      <th>2</th>\n",
       "      <td>36648</td>\n",
       "      <td>2009-03-01</td>\n",
       "    </tr>\n",
       "    <tr>\n",
       "      <th>3</th>\n",
       "      <td>35239</td>\n",
       "      <td>2009-04-01</td>\n",
       "    </tr>\n",
       "    <tr>\n",
       "      <th>4</th>\n",
       "      <td>36916</td>\n",
       "      <td>2009-05-01</td>\n",
       "    </tr>\n",
       "  </tbody>\n",
       "</table>\n",
       "</div>"
      ],
      "text/plain": [
       "   count       month\n",
       "0  35062  2009-01-01\n",
       "1  34480  2009-02-01\n",
       "2  36648  2009-03-01\n",
       "3  35239  2009-04-01\n",
       "4  36916  2009-05-01"
      ]
     },
     "execution_count": 14,
     "metadata": {},
     "output_type": "execute_result"
    }
   ],
   "source": [
    "collisions_count.head()"
   ]
  },
  {
   "cell_type": "code",
   "execution_count": 15,
   "id": "3b36a14d",
   "metadata": {},
   "outputs": [
    {
     "data": {
      "text/plain": [
       "array([datetime.date(2009, 1, 1), datetime.date(2009, 2, 1),\n",
       "       datetime.date(2009, 3, 1), datetime.date(2009, 4, 1),\n",
       "       datetime.date(2009, 5, 1), datetime.date(2009, 6, 1),\n",
       "       datetime.date(2009, 7, 1), datetime.date(2009, 8, 1),\n",
       "       datetime.date(2009, 9, 1), datetime.date(2009, 10, 1),\n",
       "       datetime.date(2009, 11, 1), datetime.date(2009, 12, 1),\n",
       "       datetime.date(2010, 1, 1), datetime.date(2010, 2, 1),\n",
       "       datetime.date(2010, 3, 1), datetime.date(2010, 4, 1),\n",
       "       datetime.date(2010, 5, 1), datetime.date(2010, 6, 1),\n",
       "       datetime.date(2010, 7, 1), datetime.date(2010, 8, 1),\n",
       "       datetime.date(2010, 9, 1), datetime.date(2010, 10, 1),\n",
       "       datetime.date(2010, 11, 1), datetime.date(2010, 12, 1),\n",
       "       datetime.date(2011, 1, 1), datetime.date(2011, 2, 1),\n",
       "       datetime.date(2011, 3, 1), datetime.date(2011, 4, 1),\n",
       "       datetime.date(2011, 5, 1), datetime.date(2011, 6, 1),\n",
       "       datetime.date(2011, 7, 1), datetime.date(2011, 8, 1),\n",
       "       datetime.date(2011, 9, 1), datetime.date(2011, 10, 1),\n",
       "       datetime.date(2011, 11, 1), datetime.date(2011, 12, 1),\n",
       "       datetime.date(2012, 1, 1), datetime.date(2012, 2, 1),\n",
       "       datetime.date(2012, 3, 1), datetime.date(2012, 4, 1),\n",
       "       datetime.date(2012, 5, 1), datetime.date(2012, 6, 1),\n",
       "       datetime.date(2012, 7, 1), datetime.date(2012, 8, 1),\n",
       "       datetime.date(2012, 9, 1), datetime.date(2012, 10, 1),\n",
       "       datetime.date(2012, 11, 1), datetime.date(2012, 12, 1),\n",
       "       datetime.date(2013, 1, 1), datetime.date(2013, 2, 1),\n",
       "       datetime.date(2013, 3, 1), datetime.date(2013, 4, 1),\n",
       "       datetime.date(2013, 6, 1), datetime.date(2013, 7, 1),\n",
       "       datetime.date(2020, 3, 1), datetime.date(2020, 7, 1)], dtype=object)"
      ]
     },
     "execution_count": 15,
     "metadata": {},
     "output_type": "execute_result"
    }
   ],
   "source": [
    "collisions_count['month'].unique()"
   ]
  },
  {
   "cell_type": "code",
   "execution_count": 16,
   "id": "884b35ff",
   "metadata": {},
   "outputs": [
    {
     "data": {
      "image/png": "[encoded data removed]",
      "text/plain": [
       "<Figure size 1440x720 with 1 Axes>"
      ]
     },
     "metadata": {
      "needs_background": "light"
     },
     "output_type": "display_data"
    }
   ],
   "source": [
    "all_months = pd.date_range(start='01-01-2009', end='01-12-2012', freq='MS').to_period('M')\n",
    "if not pd.api.types.is_period_dtype(collisions_count['month']):\n",
    "    collisions_count['month'] = pd.to_datetime(collisions_count['month']).dt.to_period('M')\n",
    "merged_data = collisions_count.set_index('month').reindex(all_months, fill_value=0).reset_index()\n",
    "\n",
    "plt.figure(figsize=(20, 10))\n",
    "plt.bar(merged_data['index'].astype(str), merged_data['count'], color='skyblue')\n",
    "plt.title('Распределение аварий по месяцам')\n",
    "plt.xlabel('Месяц')\n",
    "plt.ylabel('Количество аварий')\n",
    "plt.xticks(rotation=45)\n",
    "plt.show()"
   ]
  },
  {
   "cell_type": "markdown",
   "id": "340458d3",
   "metadata": {},
   "source": [
    "<b>Вывод</b>\n",
    "\n",
    "На графике прослеживается сезонное увеличение количества аварий весене-осений периоды: с марта по май и с сентября по декабрь. "
   ]
  },
  {
   "cell_type": "markdown",
   "id": "0fedbca1",
   "metadata": {},
   "source": [
    "<b> Аналитические задачи</b>\n",
    " - Доля застрахованных автомобилей, среди виновых и невиновых участников\n",
    " - Автомобили с каким кузовом чаще всего попадают в аварии\n",
    " - Влияние дорожного состояния на количество аварий\n",
    " - Влияние погодных условий на количество аварий\n",
    " - Регионы с самым большим количеством аварий\n",
    " - В какое время суток (освещение) происходит больше всего аварий\n",
    "\n",
    "\n"
   ]
  },
  {
   "cell_type": "markdown",
   "id": "71c95997",
   "metadata": {},
   "source": [
    "##### Доля застрахованных автомобилей, среди виновых и невиновых участников"
   ]
  },
  {
   "cell_type": "code",
   "execution_count": 17,
   "id": "a0abf840",
   "metadata": {},
   "outputs": [],
   "source": [
    "query = \"\"\"\n",
    "SELECT \n",
    "    c.case_id,\n",
    "    p.at_fault,\n",
    "    CASE \n",
    "        WHEN p.insurance_premium IS NOT NULL AND p.insurance_premium > 0 THEN 1\n",
    "        ELSE 0 \n",
    "    END AS is_insured\n",
    "FROM \n",
    "    collisions c\n",
    "JOIN \n",
    "    parties p ON c.case_id = p.case_id \n",
    "WHERE p.party_type = 'car'\n",
    "\"\"\"\n",
    "df_ins = pd.read_sql_query(query, con=engine)"
   ]
  },
  {
   "cell_type": "code",
   "execution_count": 18,
   "id": "d2f34c43",
   "metadata": {},
   "outputs": [
    {
     "data": {
      "image/png": "[encoded data removed]",
      "text/plain": [
       "<Figure size 576x432 with 1 Axes>"
      ]
     },
     "metadata": {
      "needs_background": "light"
     },
     "output_type": "display_data"
    }
   ],
   "source": [
    "insured_stats = df_ins.groupby('at_fault')['is_insured'].mean()\n",
    "\n",
    "plt.figure(figsize=(8, 6))\n",
    "insured_stats.plot(kind='bar', color=['green', 'red'])\n",
    "plt.title('Доля застрахованных автомобилей среди виновных и невиновных участников')\n",
    "plt.xlabel('Виновность в ДТП (0 - Нет, 1 - Да)')\n",
    "plt.ylabel('Доля застрахованных автомобилей')\n",
    "plt.xticks(ticks=[0, 1], labels=['Невиновные', 'Виновные'], rotation=0)\n",
    "plt.show()"
   ]
  },
  {
   "cell_type": "markdown",
   "id": "38f9ce4f",
   "metadata": {},
   "source": [
    "<b>Вывод</b>\n",
    "\n",
    "Автомобили, которые являются виновниками ДТП, реже бывают застрахованы."
   ]
  },
  {
   "cell_type": "markdown",
   "id": "20382567",
   "metadata": {},
   "source": [
    "##### Автомобили с каким кузовом чаще всего попадают в аварии"
   ]
  },
  {
   "cell_type": "code",
   "execution_count": 19,
   "id": "e0264185",
   "metadata": {},
   "outputs": [],
   "source": [
    "query = \"\"\"\n",
    "SELECT \n",
    "    v.vehicle_type,\n",
    "    COUNT(*) AS accident_count\n",
    "FROM \n",
    "    vehicles v\n",
    "JOIN \n",
    "    collisions c ON v.case_id = c.case_id\n",
    "GROUP BY \n",
    "    v.vehicle_type\n",
    "ORDER BY \n",
    "    accident_count DESC\n",
    "\"\"\"\n",
    "df_vehicle_type = pd.read_sql_query(query, con=engine)"
   ]
  },
  {
   "cell_type": "code",
   "execution_count": 20,
   "id": "782463e0",
   "metadata": {},
   "outputs": [
    {
     "data": {
      "image/png": "[encoded data removed]",
      "text/plain": [
       "<Figure size 864x432 with 1 Axes>"
      ]
     },
     "metadata": {
      "needs_background": "light"
     },
     "output_type": "display_data"
    }
   ],
   "source": [
    "plt.figure(figsize=(12, 6))\n",
    "plt.bar(df_vehicle_type['vehicle_type'], df_vehicle_type['accident_count'], color='skyblue')\n",
    "plt.title('Частота аварий по типу кузова автомобиля')\n",
    "plt.xlabel('Тип кузова')\n",
    "plt.ylabel('Количество аварий')\n",
    "plt.xticks(rotation=45)\n",
    "plt.show()"
   ]
  },
  {
   "cell_type": "markdown",
   "id": "2ea14821",
   "metadata": {},
   "source": [
    "<b>Вывод </b>\n",
    "\n",
    "Из график видно, что чаще всего попадают в аварии седаны и купе."
   ]
  },
  {
   "cell_type": "markdown",
   "id": "362b16a1",
   "metadata": {},
   "source": [
    "<b>Общий вывод</b>\n",
    "\n",
    "- Было проведено три исследнования:\n",
    " - Количества аварий увеличивается весене-осений периоды: с марта по май и с сентября по декабрь.\n",
    " - Автомобили, которые являются виновниками ДТП, реже бывают застрахованы.\n",
    " - В аварии чаще попадают автомобили с типом кузова седан и купе.\n",
    " \n",
    " \n",
    "- Сформулированы задачи для дополнительного аналитического исследования:\n",
    " - Влияние дорожного состояния на количество аварий\n",
    " - Влияние погодных условий на количество аварий\n",
    " - Регионы с самым большим количеством аварий\n",
    " - В какое время суток (освещение) происходит больше всего аварий"
   ]
  },
  {
   "cell_type": "markdown",
   "id": "414d0f60",
   "metadata": {},
   "source": [
    "## Создайте модель для оценки водительского риска"
   ]
  },
  {
   "cell_type": "markdown",
   "id": "4e803ad9",
   "metadata": {},
   "source": [
    "Подготовим набор данных на основе первичного предположения заказчика:\n",
    " - Тип виновника — только машина (car). **\n",
    " - возьмем случаи, когда ДТП привело к любым значимым повреждениям автомобиля любого из участников — все, кроме типа SCRATCH (царапина).\n",
    " - Данные только за 2012 год."
   ]
  },
  {
   "cell_type": "code",
   "execution_count": 21,
   "id": "43375643",
   "metadata": {},
   "outputs": [],
   "source": [
    "query = '''\n",
    "SELECT\n",
    "    c.distance,\n",
    "    c.direction,\n",
    "    c.weather_1,\n",
    "    c.location_type,\n",
    "    c.road_surface,\n",
    "    c.road_condition_1,\n",
    "    c.lighting,\n",
    "    c.control_device,\n",
    "    c.collision_date,\n",
    "    p.at_fault,\n",
    "    p.insurance_premium,\n",
    "    p.party_sobriety,\n",
    "    p.party_drug_physical,\n",
    "    v.vehicle_type,\n",
    "    v.vehicle_transmission,\n",
    "    v.vehicle_age\n",
    "FROM\n",
    "    collisions c\n",
    "JOIN\n",
    "    parties p ON c.case_id = p.case_id\n",
    "JOIN \n",
    "    vehicles v ON c.case_id = v.case_id\n",
    "WHERE\n",
    "    p.party_type = 'car'\n",
    "    AND c.collision_damage != 'scratch'\n",
    "    AND c.collision_date BETWEEN '2012-01-01' AND '2012-12-31';\n",
    "'''\n",
    "df = pd.read_sql_query(query, con=engine)"
   ]
  },
  {
   "cell_type": "code",
   "execution_count": 22,
   "id": "13e22748",
   "metadata": {},
   "outputs": [
    {
     "name": "stdout",
     "output_type": "stream",
     "text": [
      "<class 'pandas.core.frame.DataFrame'>\n",
      "RangeIndex: 118411 entries, 0 to 118410\n",
      "Data columns (total 16 columns):\n",
      " #   Column                Non-Null Count   Dtype  \n",
      "---  ------                --------------   -----  \n",
      " 0   distance              118411 non-null  float64\n",
      " 1   direction             89466 non-null   object \n",
      " 2   weather_1             118022 non-null  object \n",
      " 3   location_type         55137 non-null   object \n",
      " 4   road_surface          117645 non-null  object \n",
      " 5   road_condition_1      117843 non-null  object \n",
      " 6   lighting              118080 non-null  object \n",
      " 7   control_device        117957 non-null  object \n",
      " 8   collision_date        118411 non-null  object \n",
      " 9   at_fault              118411 non-null  int64  \n",
      " 10  insurance_premium     113289 non-null  float64\n",
      " 11  party_sobriety        116682 non-null  object \n",
      " 12  party_drug_physical   8695 non-null    object \n",
      " 13  vehicle_type          118411 non-null  object \n",
      " 14  vehicle_transmission  116545 non-null  object \n",
      " 15  vehicle_age           115046 non-null  float64\n",
      "dtypes: float64(3), int64(1), object(12)\n",
      "memory usage: 14.5+ MB\n"
     ]
    }
   ],
   "source": [
    "df.info()"
   ]
  },
  {
   "cell_type": "code",
   "execution_count": 23,
   "id": "bc21870f",
   "metadata": {},
   "outputs": [
    {
     "data": {
      "text/html": [
       "<div>\n",
       "<style scoped>\n",
       "    .dataframe tbody tr th:only-of-type {\n",
       "        vertical-align: middle;\n",
       "    }\n",
       "\n",
       "    .dataframe tbody tr th {\n",
       "        vertical-align: top;\n",
       "    }\n",
       "\n",
       "    .dataframe thead th {\n",
       "        text-align: right;\n",
       "    }\n",
       "</style>\n",
       "<table border=\"1\" class=\"dataframe\">\n",
       "  <thead>\n",
       "    <tr style=\"text-align: right;\">\n",
       "      <th></th>\n",
       "      <th>distance</th>\n",
       "      <th>direction</th>\n",
       "      <th>weather_1</th>\n",
       "      <th>location_type</th>\n",
       "      <th>road_surface</th>\n",
       "      <th>road_condition_1</th>\n",
       "      <th>lighting</th>\n",
       "      <th>control_device</th>\n",
       "      <th>collision_date</th>\n",
       "      <th>at_fault</th>\n",
       "      <th>insurance_premium</th>\n",
       "      <th>party_sobriety</th>\n",
       "      <th>party_drug_physical</th>\n",
       "      <th>vehicle_type</th>\n",
       "      <th>vehicle_transmission</th>\n",
       "      <th>vehicle_age</th>\n",
       "    </tr>\n",
       "  </thead>\n",
       "  <tbody>\n",
       "    <tr>\n",
       "      <th>0</th>\n",
       "      <td>413.0</td>\n",
       "      <td>east</td>\n",
       "      <td>clear</td>\n",
       "      <td>None</td>\n",
       "      <td>dry</td>\n",
       "      <td>normal</td>\n",
       "      <td>daylight</td>\n",
       "      <td>none</td>\n",
       "      <td>2012-01-05</td>\n",
       "      <td>1</td>\n",
       "      <td>86.0</td>\n",
       "      <td>had not been drinking</td>\n",
       "      <td>None</td>\n",
       "      <td>coupe</td>\n",
       "      <td>auto</td>\n",
       "      <td>13.0</td>\n",
       "    </tr>\n",
       "    <tr>\n",
       "      <th>1</th>\n",
       "      <td>1079.0</td>\n",
       "      <td>north</td>\n",
       "      <td>clear</td>\n",
       "      <td>None</td>\n",
       "      <td>dry</td>\n",
       "      <td>normal</td>\n",
       "      <td>daylight</td>\n",
       "      <td>none</td>\n",
       "      <td>2012-01-01</td>\n",
       "      <td>0</td>\n",
       "      <td>53.0</td>\n",
       "      <td>had not been drinking</td>\n",
       "      <td>None</td>\n",
       "      <td>sedan</td>\n",
       "      <td>manual</td>\n",
       "      <td>3.0</td>\n",
       "    </tr>\n",
       "    <tr>\n",
       "      <th>2</th>\n",
       "      <td>1079.0</td>\n",
       "      <td>north</td>\n",
       "      <td>clear</td>\n",
       "      <td>None</td>\n",
       "      <td>dry</td>\n",
       "      <td>normal</td>\n",
       "      <td>daylight</td>\n",
       "      <td>none</td>\n",
       "      <td>2012-01-01</td>\n",
       "      <td>0</td>\n",
       "      <td>53.0</td>\n",
       "      <td>had not been drinking</td>\n",
       "      <td>None</td>\n",
       "      <td>coupe</td>\n",
       "      <td>manual</td>\n",
       "      <td>5.0</td>\n",
       "    </tr>\n",
       "    <tr>\n",
       "      <th>3</th>\n",
       "      <td>2534.0</td>\n",
       "      <td>south</td>\n",
       "      <td>clear</td>\n",
       "      <td>highway</td>\n",
       "      <td>dry</td>\n",
       "      <td>normal</td>\n",
       "      <td>daylight</td>\n",
       "      <td>none</td>\n",
       "      <td>2012-01-24</td>\n",
       "      <td>1</td>\n",
       "      <td>72.0</td>\n",
       "      <td>had not been drinking</td>\n",
       "      <td>None</td>\n",
       "      <td>coupe</td>\n",
       "      <td>manual</td>\n",
       "      <td>8.0</td>\n",
       "    </tr>\n",
       "    <tr>\n",
       "      <th>4</th>\n",
       "      <td>2534.0</td>\n",
       "      <td>south</td>\n",
       "      <td>clear</td>\n",
       "      <td>highway</td>\n",
       "      <td>dry</td>\n",
       "      <td>normal</td>\n",
       "      <td>daylight</td>\n",
       "      <td>none</td>\n",
       "      <td>2012-01-24</td>\n",
       "      <td>1</td>\n",
       "      <td>72.0</td>\n",
       "      <td>had not been drinking</td>\n",
       "      <td>None</td>\n",
       "      <td>coupe</td>\n",
       "      <td>auto</td>\n",
       "      <td>11.0</td>\n",
       "    </tr>\n",
       "  </tbody>\n",
       "</table>\n",
       "</div>"
      ],
      "text/plain": [
       "   distance direction weather_1 location_type road_surface road_condition_1  \\\n",
       "0     413.0      east     clear          None          dry           normal   \n",
       "1    1079.0     north     clear          None          dry           normal   \n",
       "2    1079.0     north     clear          None          dry           normal   \n",
       "3    2534.0     south     clear       highway          dry           normal   \n",
       "4    2534.0     south     clear       highway          dry           normal   \n",
       "\n",
       "   lighting control_device collision_date  at_fault  insurance_premium  \\\n",
       "0  daylight           none     2012-01-05         1               86.0   \n",
       "1  daylight           none     2012-01-01         0               53.0   \n",
       "2  daylight           none     2012-01-01         0               53.0   \n",
       "3  daylight           none     2012-01-24         1               72.0   \n",
       "4  daylight           none     2012-01-24         1               72.0   \n",
       "\n",
       "          party_sobriety party_drug_physical vehicle_type  \\\n",
       "0  had not been drinking                None        coupe   \n",
       "1  had not been drinking                None        sedan   \n",
       "2  had not been drinking                None        coupe   \n",
       "3  had not been drinking                None        coupe   \n",
       "4  had not been drinking                None        coupe   \n",
       "\n",
       "  vehicle_transmission  vehicle_age  \n",
       "0                 auto         13.0  \n",
       "1               manual          3.0  \n",
       "2               manual          5.0  \n",
       "3               manual          8.0  \n",
       "4                 auto         11.0  "
      ]
     },
     "metadata": {},
     "output_type": "display_data"
    },
    {
     "data": {
      "text/html": [
       "<div>\n",
       "<style scoped>\n",
       "    .dataframe tbody tr th:only-of-type {\n",
       "        vertical-align: middle;\n",
       "    }\n",
       "\n",
       "    .dataframe tbody tr th {\n",
       "        vertical-align: top;\n",
       "    }\n",
       "\n",
       "    .dataframe thead th {\n",
       "        text-align: right;\n",
       "    }\n",
       "</style>\n",
       "<table border=\"1\" class=\"dataframe\">\n",
       "  <thead>\n",
       "    <tr style=\"text-align: right;\">\n",
       "      <th></th>\n",
       "      <th>distance</th>\n",
       "      <th>direction</th>\n",
       "      <th>weather_1</th>\n",
       "      <th>location_type</th>\n",
       "      <th>road_surface</th>\n",
       "      <th>road_condition_1</th>\n",
       "      <th>lighting</th>\n",
       "      <th>control_device</th>\n",
       "      <th>collision_date</th>\n",
       "      <th>at_fault</th>\n",
       "      <th>insurance_premium</th>\n",
       "      <th>party_sobriety</th>\n",
       "      <th>party_drug_physical</th>\n",
       "      <th>vehicle_type</th>\n",
       "      <th>vehicle_transmission</th>\n",
       "      <th>vehicle_age</th>\n",
       "    </tr>\n",
       "  </thead>\n",
       "  <tbody>\n",
       "    <tr>\n",
       "      <th>118406</th>\n",
       "      <td>1056.0</td>\n",
       "      <td>east</td>\n",
       "      <td>clear</td>\n",
       "      <td>highway</td>\n",
       "      <td>dry</td>\n",
       "      <td>normal</td>\n",
       "      <td>daylight</td>\n",
       "      <td>none</td>\n",
       "      <td>2012-01-25</td>\n",
       "      <td>0</td>\n",
       "      <td>58.0</td>\n",
       "      <td>had not been drinking</td>\n",
       "      <td>None</td>\n",
       "      <td>sedan</td>\n",
       "      <td>manual</td>\n",
       "      <td>3.0</td>\n",
       "    </tr>\n",
       "    <tr>\n",
       "      <th>118407</th>\n",
       "      <td>1056.0</td>\n",
       "      <td>east</td>\n",
       "      <td>clear</td>\n",
       "      <td>highway</td>\n",
       "      <td>dry</td>\n",
       "      <td>normal</td>\n",
       "      <td>daylight</td>\n",
       "      <td>none</td>\n",
       "      <td>2012-01-25</td>\n",
       "      <td>1</td>\n",
       "      <td>22.0</td>\n",
       "      <td>had not been drinking</td>\n",
       "      <td>None</td>\n",
       "      <td>sedan</td>\n",
       "      <td>auto</td>\n",
       "      <td>7.0</td>\n",
       "    </tr>\n",
       "    <tr>\n",
       "      <th>118408</th>\n",
       "      <td>1056.0</td>\n",
       "      <td>east</td>\n",
       "      <td>clear</td>\n",
       "      <td>highway</td>\n",
       "      <td>dry</td>\n",
       "      <td>normal</td>\n",
       "      <td>daylight</td>\n",
       "      <td>none</td>\n",
       "      <td>2012-01-25</td>\n",
       "      <td>1</td>\n",
       "      <td>22.0</td>\n",
       "      <td>had not been drinking</td>\n",
       "      <td>None</td>\n",
       "      <td>sedan</td>\n",
       "      <td>manual</td>\n",
       "      <td>3.0</td>\n",
       "    </tr>\n",
       "    <tr>\n",
       "      <th>118409</th>\n",
       "      <td>1056.0</td>\n",
       "      <td>east</td>\n",
       "      <td>clear</td>\n",
       "      <td>highway</td>\n",
       "      <td>dry</td>\n",
       "      <td>normal</td>\n",
       "      <td>daylight</td>\n",
       "      <td>none</td>\n",
       "      <td>2012-01-25</td>\n",
       "      <td>0</td>\n",
       "      <td>59.0</td>\n",
       "      <td>had not been drinking</td>\n",
       "      <td>None</td>\n",
       "      <td>sedan</td>\n",
       "      <td>auto</td>\n",
       "      <td>7.0</td>\n",
       "    </tr>\n",
       "    <tr>\n",
       "      <th>118410</th>\n",
       "      <td>1056.0</td>\n",
       "      <td>east</td>\n",
       "      <td>clear</td>\n",
       "      <td>highway</td>\n",
       "      <td>dry</td>\n",
       "      <td>normal</td>\n",
       "      <td>daylight</td>\n",
       "      <td>none</td>\n",
       "      <td>2012-01-25</td>\n",
       "      <td>0</td>\n",
       "      <td>59.0</td>\n",
       "      <td>had not been drinking</td>\n",
       "      <td>None</td>\n",
       "      <td>sedan</td>\n",
       "      <td>manual</td>\n",
       "      <td>3.0</td>\n",
       "    </tr>\n",
       "  </tbody>\n",
       "</table>\n",
       "</div>"
      ],
      "text/plain": [
       "        distance direction weather_1 location_type road_surface  \\\n",
       "118406    1056.0      east     clear       highway          dry   \n",
       "118407    1056.0      east     clear       highway          dry   \n",
       "118408    1056.0      east     clear       highway          dry   \n",
       "118409    1056.0      east     clear       highway          dry   \n",
       "118410    1056.0      east     clear       highway          dry   \n",
       "\n",
       "       road_condition_1  lighting control_device collision_date  at_fault  \\\n",
       "118406           normal  daylight           none     2012-01-25         0   \n",
       "118407           normal  daylight           none     2012-01-25         1   \n",
       "118408           normal  daylight           none     2012-01-25         1   \n",
       "118409           normal  daylight           none     2012-01-25         0   \n",
       "118410           normal  daylight           none     2012-01-25         0   \n",
       "\n",
       "        insurance_premium         party_sobriety party_drug_physical  \\\n",
       "118406               58.0  had not been drinking                None   \n",
       "118407               22.0  had not been drinking                None   \n",
       "118408               22.0  had not been drinking                None   \n",
       "118409               59.0  had not been drinking                None   \n",
       "118410               59.0  had not been drinking                None   \n",
       "\n",
       "       vehicle_type vehicle_transmission  vehicle_age  \n",
       "118406        sedan               manual          3.0  \n",
       "118407        sedan                 auto          7.0  \n",
       "118408        sedan               manual          3.0  \n",
       "118409        sedan                 auto          7.0  \n",
       "118410        sedan               manual          3.0  "
      ]
     },
     "metadata": {},
     "output_type": "display_data"
    }
   ],
   "source": [
    "display(df.head())\n",
    "display(df.tail())"
   ]
  },
  {
   "cell_type": "markdown",
   "id": "c21bfc65",
   "metadata": {},
   "source": [
    "Проверим пропуски"
   ]
  },
  {
   "cell_type": "code",
   "execution_count": 24,
   "id": "119c2688",
   "metadata": {},
   "outputs": [
    {
     "data": {
      "text/plain": [
       "distance                     0\n",
       "direction                28945\n",
       "weather_1                  389\n",
       "location_type            63274\n",
       "road_surface               766\n",
       "road_condition_1           568\n",
       "lighting                   331\n",
       "control_device             454\n",
       "collision_date               0\n",
       "at_fault                     0\n",
       "insurance_premium         5122\n",
       "party_sobriety            1729\n",
       "party_drug_physical     109716\n",
       "vehicle_type                 0\n",
       "vehicle_transmission      1866\n",
       "vehicle_age               3365\n",
       "dtype: int64"
      ]
     },
     "execution_count": 24,
     "metadata": {},
     "output_type": "execute_result"
    }
   ],
   "source": [
    "df.isna().sum()"
   ]
  },
  {
   "cell_type": "markdown",
   "id": "3dea05f6",
   "metadata": {},
   "source": [
    "`distance`"
   ]
  },
  {
   "cell_type": "code",
   "execution_count": 25,
   "id": "24baeb6a",
   "metadata": {},
   "outputs": [
    {
     "data": {
      "image/png": "[encoded data removed]",
      "text/plain": [
       "<Figure size 432x288 with 1 Axes>"
      ]
     },
     "metadata": {
      "needs_background": "light"
     },
     "output_type": "display_data"
    },
    {
     "data": {
      "image/png": "[encoded data removed]",
      "text/plain": [
       "<Figure size 432x288 with 1 Axes>"
      ]
     },
     "metadata": {
      "needs_background": "light"
     },
     "output_type": "display_data"
    }
   ],
   "source": [
    "plt.hist(df['distance'])\n",
    "plt.xlabel('distance')\n",
    "plt.show()\n",
    "\n",
    "plt.boxplot(df['distance'])\n",
    "plt.title('Диаграмма размаха на столбце distance')\n",
    "plt.show()"
   ]
  },
  {
   "cell_type": "markdown",
   "id": "2688c26d",
   "metadata": {},
   "source": [
    "Удалим экстремальное значение"
   ]
  },
  {
   "cell_type": "code",
   "execution_count": 26,
   "id": "1b1459be",
   "metadata": {},
   "outputs": [],
   "source": [
    "df.drop(index=df[df['distance'] > df['distance'].quantile(0.99)].index, inplace=True)"
   ]
  },
  {
   "cell_type": "code",
   "execution_count": 27,
   "id": "5bb9c0de",
   "metadata": {},
   "outputs": [
    {
     "data": {
      "image/png": "[encoded data removed]",
      "text/plain": [
       "<Figure size 432x288 with 1 Axes>"
      ]
     },
     "metadata": {
      "needs_background": "light"
     },
     "output_type": "display_data"
    },
    {
     "data": {
      "image/png": "[encoded data removed]",
      "text/plain": [
       "<Figure size 432x288 with 1 Axes>"
      ]
     },
     "metadata": {
      "needs_background": "light"
     },
     "output_type": "display_data"
    }
   ],
   "source": [
    "plt.hist(df['distance'])\n",
    "plt.xlabel('distance')\n",
    "plt.show()\n",
    "\n",
    "plt.boxplot(df['distance'])\n",
    "plt.title('Диаграмма размаха на столбце distance')\n",
    "plt.show()"
   ]
  },
  {
   "cell_type": "markdown",
   "id": "e4378cfe",
   "metadata": {},
   "source": [
    " <b>direction</b>"
   ]
  },
  {
   "cell_type": "code",
   "execution_count": 28,
   "id": "c635026c",
   "metadata": {},
   "outputs": [
    {
     "data": {
      "text/plain": [
       "north    24808\n",
       "south    24448\n",
       "west     19878\n",
       "east     19197\n",
       "Name: direction, dtype: int64"
      ]
     },
     "execution_count": 28,
     "metadata": {},
     "output_type": "execute_result"
    }
   ],
   "source": [
    "df['direction'].value_counts()"
   ]
  },
  {
   "cell_type": "markdown",
   "id": "24f2476b",
   "metadata": {},
   "source": [
    "Заполним пропуски"
   ]
  },
  {
   "cell_type": "code",
   "execution_count": 29,
   "id": "d7be4b79",
   "metadata": {},
   "outputs": [],
   "source": [
    "df['direction'] = df['direction'].fillna('unknown')"
   ]
  },
  {
   "cell_type": "code",
   "execution_count": 30,
   "id": "bd0c3027",
   "metadata": {},
   "outputs": [
    {
     "data": {
      "text/plain": [
       "unknown    28944\n",
       "north      24808\n",
       "south      24448\n",
       "west       19878\n",
       "east       19197\n",
       "Name: direction, dtype: int64"
      ]
     },
     "execution_count": 30,
     "metadata": {},
     "output_type": "execute_result"
    }
   ],
   "source": [
    "df['direction'].value_counts()"
   ]
  },
  {
   "cell_type": "markdown",
   "id": "edb66750",
   "metadata": {},
   "source": [
    "<b>weather_1</b>"
   ]
  },
  {
   "cell_type": "code",
   "execution_count": 31,
   "id": "74e6a54a",
   "metadata": {},
   "outputs": [
    {
     "data": {
      "text/plain": [
       "clear      95161\n",
       "cloudy     16838\n",
       "raining     4177\n",
       "fog          383\n",
       "snowing      246\n",
       "other         58\n",
       "wind          23\n",
       "Name: weather_1, dtype: int64"
      ]
     },
     "execution_count": 31,
     "metadata": {},
     "output_type": "execute_result"
    }
   ],
   "source": [
    "df['weather_1'].value_counts()"
   ]
  },
  {
   "cell_type": "markdown",
   "id": "81c8641e",
   "metadata": {},
   "source": [
    "Объединим wind с other, пропуски заполним other"
   ]
  },
  {
   "cell_type": "code",
   "execution_count": 32,
   "id": "7400b27c",
   "metadata": {},
   "outputs": [],
   "source": [
    "df['weather_1'] = df['weather_1'].fillna('other')\n",
    "df[\"weather_1\"] = df[\"weather_1\"].replace(\"wind\", 'other')"
   ]
  },
  {
   "cell_type": "code",
   "execution_count": 33,
   "id": "13c4535d",
   "metadata": {},
   "outputs": [
    {
     "data": {
      "text/plain": [
       "clear      95161\n",
       "cloudy     16838\n",
       "raining     4177\n",
       "other        470\n",
       "fog          383\n",
       "snowing      246\n",
       "Name: weather_1, dtype: int64"
      ]
     },
     "execution_count": 33,
     "metadata": {},
     "output_type": "execute_result"
    }
   ],
   "source": [
    "df['weather_1'].value_counts()"
   ]
  },
  {
   "cell_type": "markdown",
   "id": "6198462f",
   "metadata": {},
   "source": [
    "<b>location_type</b>"
   ]
  },
  {
   "cell_type": "code",
   "execution_count": 34,
   "id": "269a4000",
   "metadata": {},
   "outputs": [
    {
     "data": {
      "text/plain": [
       "highway         45195\n",
       "ramp             6255\n",
       "intersection     2866\n",
       "Name: location_type, dtype: int64"
      ]
     },
     "execution_count": 34,
     "metadata": {},
     "output_type": "execute_result"
    }
   ],
   "source": [
    "df['location_type'].value_counts()"
   ]
  },
  {
   "cell_type": "markdown",
   "id": "7df881ce",
   "metadata": {},
   "source": [
    "Заполним пропуски"
   ]
  },
  {
   "cell_type": "code",
   "execution_count": 35,
   "id": "98e11ded",
   "metadata": {},
   "outputs": [],
   "source": [
    "df['location_type'] = df['location_type'].fillna('unknown')"
   ]
  },
  {
   "cell_type": "code",
   "execution_count": 36,
   "id": "fd61a06b",
   "metadata": {},
   "outputs": [
    {
     "data": {
      "text/plain": [
       "unknown         62959\n",
       "highway         45195\n",
       "ramp             6255\n",
       "intersection     2866\n",
       "Name: location_type, dtype: int64"
      ]
     },
     "execution_count": 36,
     "metadata": {},
     "output_type": "execute_result"
    }
   ],
   "source": [
    "df['location_type'].value_counts()"
   ]
  },
  {
   "cell_type": "markdown",
   "id": "0258cb0a",
   "metadata": {},
   "source": [
    "<b>road_surface</b>"
   ]
  },
  {
   "cell_type": "code",
   "execution_count": 41,
   "id": "55fa2ec7",
   "metadata": {},
   "outputs": [
    {
     "data": {
      "text/plain": [
       "dry         105958\n",
       "wet           9971\n",
       "snowy          515\n",
       "slippery        70\n",
       "Name: road_surface, dtype: int64"
      ]
     },
     "execution_count": 41,
     "metadata": {},
     "output_type": "execute_result"
    }
   ],
   "source": [
    "df['road_surface'].value_counts()"
   ]
  },
  {
   "cell_type": "markdown",
   "id": "4d2dee29",
   "metadata": {},
   "source": [
    "Заполним пропуски"
   ]
  },
  {
   "cell_type": "code",
   "execution_count": 42,
   "id": "f6562a49",
   "metadata": {},
   "outputs": [],
   "source": [
    "df['road_surface'] = df['road_surface'].fillna('unknown')"
   ]
  },
  {
   "cell_type": "code",
   "execution_count": 43,
   "id": "9e3ad630",
   "metadata": {},
   "outputs": [
    {
     "data": {
      "text/plain": [
       "dry         105958\n",
       "wet           9971\n",
       "unknown        761\n",
       "snowy          515\n",
       "slippery        70\n",
       "Name: road_surface, dtype: int64"
      ]
     },
     "execution_count": 43,
     "metadata": {},
     "output_type": "execute_result"
    }
   ],
   "source": [
    "df['road_surface'].value_counts()"
   ]
  },
  {
   "cell_type": "markdown",
   "id": "e451ee82",
   "metadata": {},
   "source": [
    "<b>road_condition_1</b>"
   ]
  },
  {
   "cell_type": "code",
   "execution_count": 44,
   "id": "ab5b118b",
   "metadata": {},
   "outputs": [
    {
     "data": {
      "text/plain": [
       "normal            112761\n",
       "construction        2261\n",
       "holes                469\n",
       "obstruction          444\n",
       "other                414\n",
       "loose material       175\n",
       "reduced width        127\n",
       "flooded               56\n",
       "Name: road_condition_1, dtype: int64"
      ]
     },
     "execution_count": 44,
     "metadata": {},
     "output_type": "execute_result"
    }
   ],
   "source": [
    "df['road_condition_1'].value_counts()"
   ]
  },
  {
   "cell_type": "markdown",
   "id": "466fdbbd",
   "metadata": {},
   "source": [
    "Заполним значения, которые встречаются меньше 1000 в категорию other, пропуски заполним other"
   ]
  },
  {
   "cell_type": "code",
   "execution_count": 45,
   "id": "b988f265",
   "metadata": {},
   "outputs": [],
   "source": [
    "df['road_condition_1'] = df['road_condition_1'].fillna('other')"
   ]
  },
  {
   "cell_type": "code",
   "execution_count": 46,
   "id": "d3c22113",
   "metadata": {},
   "outputs": [],
   "source": [
    "df[\"road_condition_1\"] = df[\"road_condition_1\"].replace([\"holes\", \n",
    "                                                        \"obstruction\", \n",
    "                                                        \"other equipment\", \n",
    "                                                        \"loose material\", \n",
    "                                                        \"reduced width\", \n",
    "                                                        \"flooded \"], 'other')"
   ]
  },
  {
   "cell_type": "code",
   "execution_count": 47,
   "id": "5685d762",
   "metadata": {},
   "outputs": [
    {
     "data": {
      "text/plain": [
       "normal          112761\n",
       "construction      2261\n",
       "other             2197\n",
       "flooded             56\n",
       "Name: road_condition_1, dtype: int64"
      ]
     },
     "execution_count": 47,
     "metadata": {},
     "output_type": "execute_result"
    }
   ],
   "source": [
    "df['road_condition_1'].value_counts()"
   ]
  },
  {
   "cell_type": "markdown",
   "id": "766e5beb",
   "metadata": {},
   "source": [
    "<b>lighting</b>"
   ]
  },
  {
   "cell_type": "code",
   "execution_count": 48,
   "id": "057fa14e",
   "metadata": {},
   "outputs": [
    {
     "data": {
      "text/plain": [
       "daylight                                   82185\n",
       "dark with street lights                    22030\n",
       "dark with no street lights                  8765\n",
       "dusk or dawn                                3679\n",
       "dark with street lights not functioning      287\n",
       "Name: lighting, dtype: int64"
      ]
     },
     "execution_count": 48,
     "metadata": {},
     "output_type": "execute_result"
    }
   ],
   "source": [
    "df['lighting'].value_counts()"
   ]
  },
  {
   "cell_type": "markdown",
   "id": "71b87259",
   "metadata": {},
   "source": [
    "Две последних категории объеденим в одну, пропуски заполним uknown"
   ]
  },
  {
   "cell_type": "code",
   "execution_count": 49,
   "id": "ef2c62c1",
   "metadata": {},
   "outputs": [],
   "source": [
    "df['lighting'] = df['lighting'].fillna('other')"
   ]
  },
  {
   "cell_type": "code",
   "execution_count": 50,
   "id": "16ca4606",
   "metadata": {},
   "outputs": [],
   "source": [
    "df[\"lighting\"] = df[\"lighting\"].replace(\"dark with street lights not functioning\", 'dusk or dawn')"
   ]
  },
  {
   "cell_type": "code",
   "execution_count": 51,
   "id": "85ccb945",
   "metadata": {},
   "outputs": [
    {
     "data": {
      "text/plain": [
       "daylight                      82185\n",
       "dark with street lights       22030\n",
       "dark with no street lights     8765\n",
       "dusk or dawn                   3966\n",
       "other                           329\n",
       "Name: lighting, dtype: int64"
      ]
     },
     "execution_count": 51,
     "metadata": {},
     "output_type": "execute_result"
    }
   ],
   "source": [
    "df['lighting'].value_counts()"
   ]
  },
  {
   "cell_type": "markdown",
   "id": "e7efc9f8",
   "metadata": {},
   "source": [
    "<b>control_device</b>"
   ]
  },
  {
   "cell_type": "code",
   "execution_count": 52,
   "id": "20ac4b44",
   "metadata": {},
   "outputs": [
    {
     "data": {
      "text/plain": [
       "none               75629\n",
       "functioning        40889\n",
       "not functioning      242\n",
       "obscured              62\n",
       "Name: control_device, dtype: int64"
      ]
     },
     "execution_count": 52,
     "metadata": {},
     "output_type": "execute_result"
    }
   ],
   "source": [
    "df['control_device'].value_counts()"
   ]
  },
  {
   "cell_type": "markdown",
   "id": "db164bd0",
   "metadata": {},
   "source": [
    "Заменим две последние категории и пропуски на none"
   ]
  },
  {
   "cell_type": "code",
   "execution_count": 53,
   "id": "b293776a",
   "metadata": {},
   "outputs": [],
   "source": [
    "df['control_device'] = df['control_device'].fillna('none')"
   ]
  },
  {
   "cell_type": "code",
   "execution_count": 54,
   "id": "f43ef551",
   "metadata": {},
   "outputs": [],
   "source": [
    "df[\"control_device\"] = df[\"control_device\"].replace([\"not functioning\", \"obscured\"], 'none')"
   ]
  },
  {
   "cell_type": "code",
   "execution_count": 55,
   "id": "d4e03aad",
   "metadata": {},
   "outputs": [
    {
     "data": {
      "text/plain": [
       "none           76386\n",
       "functioning    40889\n",
       "Name: control_device, dtype: int64"
      ]
     },
     "execution_count": 55,
     "metadata": {},
     "output_type": "execute_result"
    }
   ],
   "source": [
    "df['control_device'].value_counts()"
   ]
  },
  {
   "cell_type": "markdown",
   "id": "ab8d1fea",
   "metadata": {},
   "source": [
    "<b>collision_date</b>"
   ]
  },
  {
   "cell_type": "code",
   "execution_count": 56,
   "id": "fb9b0a61",
   "metadata": {},
   "outputs": [],
   "source": [
    "df['collision_date'] = pd.to_datetime(df['collision_date'])"
   ]
  },
  {
   "cell_type": "code",
   "execution_count": 57,
   "id": "fae0f494",
   "metadata": {},
   "outputs": [],
   "source": [
    "df['month'] = df['collision_date'].dt.month"
   ]
  },
  {
   "cell_type": "code",
   "execution_count": 58,
   "id": "882c71e8",
   "metadata": {},
   "outputs": [
    {
     "data": {
      "text/plain": [
       "1     22722\n",
       "2     21696\n",
       "3     24173\n",
       "4     22182\n",
       "5     20069\n",
       "6      2671\n",
       "7       668\n",
       "8       811\n",
       "9       750\n",
       "10      519\n",
       "11      562\n",
       "12      452\n",
       "Name: month, dtype: int64"
      ]
     },
     "execution_count": 58,
     "metadata": {},
     "output_type": "execute_result"
    }
   ],
   "source": [
    "df['month'].value_counts().sort_index()"
   ]
  },
  {
   "cell_type": "markdown",
   "id": "d5dce38e",
   "metadata": {},
   "source": [
    "За второе полугодие аномально мало значение, поэтому удалим этот столбец"
   ]
  },
  {
   "cell_type": "code",
   "execution_count": 59,
   "id": "e534aefe",
   "metadata": {},
   "outputs": [],
   "source": [
    "df = df.drop(columns=['month', 'collision_date'])"
   ]
  },
  {
   "cell_type": "markdown",
   "id": "a0caacb2",
   "metadata": {},
   "source": [
    "<b>insurance_premium</b>"
   ]
  },
  {
   "cell_type": "code",
   "execution_count": 60,
   "id": "21615ce4",
   "metadata": {},
   "outputs": [
    {
     "data": {
      "image/png": "[encoded data removed]",
      "text/plain": [
       "<Figure size 432x288 with 1 Axes>"
      ]
     },
     "metadata": {
      "needs_background": "light"
     },
     "output_type": "display_data"
    }
   ],
   "source": [
    "plt.hist(df['insurance_premium'])\n",
    "plt.xlabel('insurance_premium')\n",
    "plt.show()"
   ]
  },
  {
   "cell_type": "markdown",
   "id": "1a9913b0",
   "metadata": {},
   "source": [
    "Сделаем этого числового признака категориальный. 0 оставим нулем, пустые значения заполним unkown,  остальные - единицей"
   ]
  },
  {
   "cell_type": "code",
   "execution_count": 61,
   "id": "e2598efd",
   "metadata": {},
   "outputs": [],
   "source": [
    "df['insurance_premium'] = df['insurance_premium'].fillna(0)"
   ]
  },
  {
   "cell_type": "code",
   "execution_count": 62,
   "id": "b08e0215",
   "metadata": {},
   "outputs": [],
   "source": [
    "df['insurance_premium'] = df['insurance_premium'].apply(lambda x: 1 if isinstance(x, (int, float)) and x != 0 else x)"
   ]
  },
  {
   "cell_type": "code",
   "execution_count": 63,
   "id": "21bdc986",
   "metadata": {},
   "outputs": [
    {
     "data": {
      "text/plain": [
       "1.0    112160\n",
       "0.0      5115\n",
       "Name: insurance_premium, dtype: int64"
      ]
     },
     "execution_count": 63,
     "metadata": {},
     "output_type": "execute_result"
    }
   ],
   "source": [
    "df['insurance_premium'].value_counts()"
   ]
  },
  {
   "cell_type": "markdown",
   "id": "74fc324a",
   "metadata": {},
   "source": [
    " <b>party_sobriety</b>"
   ]
  },
  {
   "cell_type": "code",
   "execution_count": 64,
   "id": "9dc3114d",
   "metadata": {},
   "outputs": [
    {
     "data": {
      "text/plain": [
       "had not been drinking                     100990\n",
       "had been drinking, under influence          6424\n",
       "impairment unknown                          6058\n",
       "had been drinking, not under influence       963\n",
       "not applicable                               580\n",
       "had been drinking, impairment unknown        548\n",
       "Name: party_sobriety, dtype: int64"
      ]
     },
     "execution_count": 64,
     "metadata": {},
     "output_type": "execute_result"
    }
   ],
   "source": [
    "df['party_sobriety'].value_counts()"
   ]
  },
  {
   "cell_type": "markdown",
   "id": "9f0c06a4",
   "metadata": {},
   "source": [
    "Пропуски заполним impairment unknown "
   ]
  },
  {
   "cell_type": "code",
   "execution_count": 65,
   "id": "c3f94e7f",
   "metadata": {},
   "outputs": [],
   "source": [
    "df['party_sobriety'] = df['party_sobriety'].fillna('impairment unknown')"
   ]
  },
  {
   "cell_type": "code",
   "execution_count": 66,
   "id": "e08aea77",
   "metadata": {},
   "outputs": [
    {
     "data": {
      "text/plain": [
       "had not been drinking                     100990\n",
       "impairment unknown                          7770\n",
       "had been drinking, under influence          6424\n",
       "had been drinking, not under influence       963\n",
       "not applicable                               580\n",
       "had been drinking, impairment unknown        548\n",
       "Name: party_sobriety, dtype: int64"
      ]
     },
     "execution_count": 66,
     "metadata": {},
     "output_type": "execute_result"
    }
   ],
   "source": [
    "df['party_sobriety'].value_counts()"
   ]
  },
  {
   "cell_type": "markdown",
   "id": "c7ddd5e6",
   "metadata": {},
   "source": [
    "<b>party_drug_physical</b>"
   ]
  },
  {
   "cell_type": "code",
   "execution_count": 67,
   "id": "35ac7b6c",
   "metadata": {},
   "outputs": [
    {
     "data": {
      "text/plain": [
       "G                        6058\n",
       "under drug influence     1277\n",
       "not applicable            580\n",
       "sleepy/fatigued           506\n",
       "impairment - physical     175\n",
       "Name: party_drug_physical, dtype: int64"
      ]
     },
     "execution_count": 67,
     "metadata": {},
     "output_type": "execute_result"
    }
   ],
   "source": [
    "df['party_drug_physical'].value_counts()"
   ]
  },
  {
   "cell_type": "markdown",
   "id": "9405a16a",
   "metadata": {},
   "source": [
    "Заменим катерию not applicable, G и пропуски на  impairment_unknown"
   ]
  },
  {
   "cell_type": "code",
   "execution_count": 68,
   "id": "f89a1f30",
   "metadata": {},
   "outputs": [],
   "source": [
    "df['party_drug_physical'] = df['party_drug_physical'].fillna('impairment unknown')"
   ]
  },
  {
   "cell_type": "code",
   "execution_count": 69,
   "id": "52a57f14",
   "metadata": {},
   "outputs": [],
   "source": [
    "df[\"party_drug_physical\"] = df[\"party_drug_physical\"].replace([\"not applicable\", \"G\"], 'impairment unknown')"
   ]
  },
  {
   "cell_type": "code",
   "execution_count": 70,
   "id": "5195f931",
   "metadata": {},
   "outputs": [
    {
     "data": {
      "text/plain": [
       "impairment unknown       115317\n",
       "under drug influence       1277\n",
       "sleepy/fatigued             506\n",
       "impairment - physical       175\n",
       "Name: party_drug_physical, dtype: int64"
      ]
     },
     "execution_count": 70,
     "metadata": {},
     "output_type": "execute_result"
    }
   ],
   "source": [
    "df['party_drug_physical'].value_counts()"
   ]
  },
  {
   "cell_type": "markdown",
   "id": "5a3a44be",
   "metadata": {},
   "source": [
    "<b>vehicle_type</b>"
   ]
  },
  {
   "cell_type": "code",
   "execution_count": 71,
   "id": "183fd69f",
   "metadata": {},
   "outputs": [
    {
     "data": {
      "text/plain": [
       "sedan        76090\n",
       "coupe        35412\n",
       "hatchback     3282\n",
       "minivan       2433\n",
       "other           58\n",
       "Name: vehicle_type, dtype: int64"
      ]
     },
     "execution_count": 71,
     "metadata": {},
     "output_type": "execute_result"
    }
   ],
   "source": [
    "df['vehicle_type'].value_counts()"
   ]
  },
  {
   "cell_type": "markdown",
   "id": "06aab03c",
   "metadata": {},
   "source": [
    "Последние три категории заменим на other"
   ]
  },
  {
   "cell_type": "code",
   "execution_count": 72,
   "id": "c9f279bd",
   "metadata": {},
   "outputs": [],
   "source": [
    "df[\"vehicle_type\"] = df[\"vehicle_type\"].replace([\"hatchback\", \"minivan\"], 'other')"
   ]
  },
  {
   "cell_type": "code",
   "execution_count": 73,
   "id": "441e8402",
   "metadata": {},
   "outputs": [
    {
     "data": {
      "text/plain": [
       "sedan    76090\n",
       "coupe    35412\n",
       "other     5773\n",
       "Name: vehicle_type, dtype: int64"
      ]
     },
     "execution_count": 73,
     "metadata": {},
     "output_type": "execute_result"
    }
   ],
   "source": [
    "df['vehicle_type'].value_counts()"
   ]
  },
  {
   "cell_type": "markdown",
   "id": "d3b9a813",
   "metadata": {},
   "source": [
    "<b>vehicle_transmission</b>"
   ]
  },
  {
   "cell_type": "code",
   "execution_count": 74,
   "id": "9787fc86",
   "metadata": {},
   "outputs": [
    {
     "data": {
      "text/plain": [
       "manual    60251\n",
       "auto      55167\n",
       "Name: vehicle_transmission, dtype: int64"
      ]
     },
     "execution_count": 74,
     "metadata": {},
     "output_type": "execute_result"
    }
   ],
   "source": [
    "df['vehicle_transmission'].value_counts()"
   ]
  },
  {
   "cell_type": "markdown",
   "id": "c149ec43",
   "metadata": {},
   "source": [
    "Удалим строчки, в которых пропуски"
   ]
  },
  {
   "cell_type": "code",
   "execution_count": 75,
   "id": "c7ec185b",
   "metadata": {},
   "outputs": [],
   "source": [
    "df = df.dropna(subset=['vehicle_transmission'])"
   ]
  },
  {
   "cell_type": "code",
   "execution_count": 76,
   "id": "32551283",
   "metadata": {},
   "outputs": [],
   "source": [
    "df.reset_index(drop=True, inplace=True)"
   ]
  },
  {
   "cell_type": "markdown",
   "id": "d2e926cd",
   "metadata": {},
   "source": [
    "<b>vehicle_age</b>"
   ]
  },
  {
   "cell_type": "code",
   "execution_count": 77,
   "id": "42c113d9",
   "metadata": {},
   "outputs": [
    {
     "data": {
      "text/plain": [
       "count    112629.000000\n",
       "mean          4.899591\n",
       "std           3.270111\n",
       "min           0.000000\n",
       "25%           3.000000\n",
       "50%           4.000000\n",
       "75%           7.000000\n",
       "max         161.000000\n",
       "Name: vehicle_age, dtype: float64"
      ]
     },
     "execution_count": 77,
     "metadata": {},
     "output_type": "execute_result"
    }
   ],
   "source": [
    "df['vehicle_age'].describe()"
   ]
  },
  {
   "cell_type": "code",
   "execution_count": 78,
   "id": "1aa85a6c",
   "metadata": {},
   "outputs": [
    {
     "data": {
      "image/png": "[encoded data removed]",
      "text/plain": [
       "<Figure size 432x288 with 1 Axes>"
      ]
     },
     "metadata": {
      "needs_background": "light"
     },
     "output_type": "display_data"
    }
   ],
   "source": [
    "plt.hist(df['vehicle_age'])\n",
    "plt.xlabel('vehicle_age')\n",
    "plt.show()\n"
   ]
  },
  {
   "cell_type": "code",
   "execution_count": 79,
   "id": "074018c9",
   "metadata": {},
   "outputs": [
    {
     "data": {
      "image/png": "[encoded data removed]",
      "text/plain": [
       "<Figure size 432x288 with 1 Axes>"
      ]
     },
     "metadata": {
      "needs_background": "light"
     },
     "output_type": "display_data"
    }
   ],
   "source": [
    "df.boxplot(column = 'vehicle_age')\n",
    "plt.title('vehicle_age boxplot')\n",
    "plt.show()"
   ]
  },
  {
   "cell_type": "markdown",
   "id": "9ca17ffb",
   "metadata": {},
   "source": [
    "Заменим значения больше 15 на 15, пропуски медианой"
   ]
  },
  {
   "cell_type": "code",
   "execution_count": 80,
   "id": "a66a3f92",
   "metadata": {},
   "outputs": [],
   "source": [
    "df = df.copy()\n",
    "df.loc[:, 'vehicle_age'] = df['vehicle_age'].apply(lambda x: 15 if x > 15 else x)"
   ]
  },
  {
   "cell_type": "code",
   "execution_count": 81,
   "id": "49c62d13",
   "metadata": {},
   "outputs": [],
   "source": [
    "df['vehicle_age'] = df['vehicle_age'].fillna(df['vehicle_age'].median())"
   ]
  },
  {
   "cell_type": "code",
   "execution_count": 82,
   "id": "5c70025f",
   "metadata": {},
   "outputs": [
    {
     "data": {
      "image/png": "[encoded data removed]",
      "text/plain": [
       "<Figure size 432x288 with 1 Axes>"
      ]
     },
     "metadata": {
      "needs_background": "light"
     },
     "output_type": "display_data"
    }
   ],
   "source": [
    "df.boxplot(column = 'vehicle_age')\n",
    "plt.title('vehicle_age boxplot')\n",
    "plt.show()"
   ]
  },
  {
   "cell_type": "markdown",
   "id": "9ca57f07",
   "metadata": {},
   "source": [
    "Проверим пропуски и дубликаты"
   ]
  },
  {
   "cell_type": "code",
   "execution_count": 83,
   "id": "262dd710",
   "metadata": {},
   "outputs": [
    {
     "data": {
      "text/plain": [
       "distance                0\n",
       "direction               0\n",
       "weather_1               0\n",
       "location_type           0\n",
       "road_surface            0\n",
       "road_condition_1        0\n",
       "lighting                0\n",
       "control_device          0\n",
       "at_fault                0\n",
       "insurance_premium       0\n",
       "party_sobriety          0\n",
       "party_drug_physical     0\n",
       "vehicle_type            0\n",
       "vehicle_transmission    0\n",
       "vehicle_age             0\n",
       "dtype: int64"
      ]
     },
     "execution_count": 83,
     "metadata": {},
     "output_type": "execute_result"
    }
   ],
   "source": [
    "df.isna().sum()"
   ]
  },
  {
   "cell_type": "code",
   "execution_count": 84,
   "id": "af762b41",
   "metadata": {},
   "outputs": [
    {
     "data": {
      "text/plain": [
       "43653"
      ]
     },
     "execution_count": 84,
     "metadata": {},
     "output_type": "execute_result"
    }
   ],
   "source": [
    "df.duplicated().sum()"
   ]
  },
  {
   "cell_type": "markdown",
   "id": "fdfc4433",
   "metadata": {},
   "source": [
    "Удалим дубликаты"
   ]
  },
  {
   "cell_type": "code",
   "execution_count": 85,
   "id": "7330de2a",
   "metadata": {},
   "outputs": [],
   "source": [
    "df = df.drop_duplicates()\n",
    "df.reset_index(drop=True, inplace=True)"
   ]
  },
  {
   "cell_type": "code",
   "execution_count": 86,
   "id": "f5516da3",
   "metadata": {},
   "outputs": [
    {
     "data": {
      "text/plain": [
       "0"
      ]
     },
     "execution_count": 86,
     "metadata": {},
     "output_type": "execute_result"
    }
   ],
   "source": [
    "df.duplicated().sum()"
   ]
  },
  {
   "cell_type": "markdown",
   "id": "48f2d130",
   "metadata": {},
   "source": [
    "<b>at_fault</b>"
   ]
  },
  {
   "cell_type": "code",
   "execution_count": 87,
   "id": "43f4497c",
   "metadata": {},
   "outputs": [
    {
     "data": {
      "text/plain": [
       "1    0.553766\n",
       "0    0.446234\n",
       "Name: at_fault, dtype: float64"
      ]
     },
     "execution_count": 87,
     "metadata": {},
     "output_type": "execute_result"
    }
   ],
   "source": [
    "df.at_fault.value_counts(normalize = True)"
   ]
  },
  {
   "cell_type": "markdown",
   "id": "4db64a44",
   "metadata": {},
   "source": [
    "Есть небольшой перекос в классах, но не значительный, поэтому исправлять не будем."
   ]
  },
  {
   "cell_type": "markdown",
   "id": "4b5b6758",
   "metadata": {},
   "source": [
    "#####  Подготовка данных для обучения"
   ]
  },
  {
   "cell_type": "code",
   "execution_count": 88,
   "id": "fad79e77",
   "metadata": {},
   "outputs": [],
   "source": [
    "df = df.copy()"
   ]
  },
  {
   "cell_type": "code",
   "execution_count": 89,
   "id": "e9ee6b63",
   "metadata": {},
   "outputs": [
    {
     "data": {
      "text/plain": [
       "(['lighting',\n",
       "  'location_type',\n",
       "  'weather_1',\n",
       "  'road_condition_1',\n",
       "  'road_surface',\n",
       "  'party_drug_physical',\n",
       "  'insurance_premium',\n",
       "  'control_device',\n",
       "  'direction',\n",
       "  'party_sobriety',\n",
       "  'vehicle_type',\n",
       "  'vehicle_age',\n",
       "  'vehicle_transmission'],\n",
       " ['distance'])"
      ]
     },
     "execution_count": 89,
     "metadata": {},
     "output_type": "execute_result"
    }
   ],
   "source": [
    "target = ['at_fault']\n",
    "numeric = ['distance']\n",
    "category = list(set(df.columns) - set(numeric) - set(target))\n",
    "category, numeric"
   ]
  },
  {
   "cell_type": "code",
   "execution_count": 90,
   "id": "76a28220",
   "metadata": {},
   "outputs": [],
   "source": [
    "X = df.drop(target, axis = 1)\n",
    "y = df[target]\n",
    "\n",
    "X_train, X_test, y_train, y_test = train_test_split(X, y, test_size = 0.3, shuffle=True, random_state = 42)\n",
    "X_test, X_val, y_test, y_val = train_test_split(X_test, y_test, test_size = 0.5, shuffle=True, random_state = 42)"
   ]
  },
  {
   "cell_type": "markdown",
   "id": "accf44d7",
   "metadata": {},
   "source": [
    "Масштабируем признаки"
   ]
  },
  {
   "cell_type": "code",
   "execution_count": 91,
   "id": "73f41b6a",
   "metadata": {},
   "outputs": [
    {
     "name": "stderr",
     "output_type": "stream",
     "text": [
      "\n",
      "A value is trying to be set on a copy of a slice from a DataFrame.\n",
      "Try using .loc[row_indexer,col_indexer] = value instead\n",
      "\n",
      "See the caveats in the documentation: https://pandas.pydata.org/pandas-docs/stable/user_guide/indexing.html#returning-a-view-versus-a-copy\n",
      "\n",
      "A value is trying to be set on a copy of a slice from a DataFrame.\n",
      "Try using .loc[row_indexer,col_indexer] = value instead\n",
      "\n",
      "See the caveats in the documentation: https://pandas.pydata.org/pandas-docs/stable/user_guide/indexing.html#returning-a-view-versus-a-copy\n"
     ]
    }
   ],
   "source": [
    "scaler = StandardScaler()\n",
    "scaler.fit(X_train[numeric])\n",
    "X_train[numeric] = scaler.transform(X_train[numeric])\n",
    "X_test[numeric] = scaler.transform(X_test[numeric])\n",
    "X_val[numeric] = scaler.transform(X_val[numeric])"
   ]
  },
  {
   "cell_type": "markdown",
   "id": "2b427063",
   "metadata": {},
   "source": [
    "Категоризируем данные"
   ]
  },
  {
   "cell_type": "code",
   "execution_count": 92,
   "id": "fa2f00ad",
   "metadata": {},
   "outputs": [],
   "source": [
    "enc = OneHotEncoder(handle_unknown='error', sparse = 'False', drop='first')\n",
    "enc.fit(X_train[category])\n",
    "X_train_c =pd.DataFrame(enc.transform(X_train[category]).toarray(), index = X_train.index)\n",
    "X_val_c =pd.DataFrame(enc.transform(X_val[category]).toarray(), index = X_val.index)\n",
    "X_test_c =pd.DataFrame(enc.transform(X_test[category]).toarray(), index = X_test.index)\n",
    "\n",
    "X_train =  X_train.drop(category, axis = 1).join(X_train_c)\n",
    "X_val = X_val.drop(category, axis = 1).join(X_val_c)\n",
    "X_test = X_test.drop(category, axis = 1).join(X_test_c)"
   ]
  },
  {
   "cell_type": "code",
   "execution_count": 94,
   "id": "9d699ded",
   "metadata": {},
   "outputs": [],
   "source": [
    "y_train = y_train.values.ravel()\n",
    "y_test = y_test.values.ravel()\n",
    "y_val = y_val.values.ravel()"
   ]
  },
  {
   "cell_type": "markdown",
   "id": "faa0b5cc",
   "metadata": {},
   "source": [
    "#### Вывод"
   ]
  },
  {
   "cell_type": "markdown",
   "id": "fba93dc7",
   "metadata": {},
   "source": [
    "Были отобраные признаки для обучения модели, обработаны пропуски, выбросы и дубликаты. Сильного дисбаланса классов не налюдается. Проведено масштабирование числовых признаков и категоризация остальных"
   ]
  },
  {
   "cell_type": "markdown",
   "id": "97e2573c",
   "metadata": {},
   "source": [
    "## Обчение моделей"
   ]
  },
  {
   "cell_type": "markdown",
   "id": "bc46c77b",
   "metadata": {},
   "source": [
    "Обучим три модели: логистическа регрессия, градиетный бустинг, нейронная сеть.\n",
    "В качестве метрики выберем Recall потому исходя из постановки задачи нам важно минимизировать ложноотрицательные случаи."
   ]
  },
  {
   "cell_type": "markdown",
   "id": "fe7f5ce3",
   "metadata": {},
   "source": [
    "### LogisticRegression"
   ]
  },
  {
   "cell_type": "code",
   "execution_count": 95,
   "id": "4c6a8169",
   "metadata": {},
   "outputs": [],
   "source": [
    "model = LogisticRegression(random_state=42)"
   ]
  },
  {
   "cell_type": "code",
   "execution_count": 96,
   "id": "b7c0608b",
   "metadata": {},
   "outputs": [],
   "source": [
    "param_grid = {\n",
    "    'C': [0.1, 1.0, 10, 100], \n",
    "    'solver': ['liblinear', 'lbfgs'], \n",
    "    'max_iter': [100, 200, 300]  \n",
    "}\n",
    "\n",
    "# Создание scorer для использования Recall\n",
    "#scorer = make_scorer(recall_score)\n",
    "\n",
    "# Создание и запуск GridSearchCV\n",
    "grid_search = GridSearchCV(model, param_grid, scoring='recall', cv=5)\n"
   ]
  },
  {
   "cell_type": "code",
   "execution_count": 97,
   "id": "0de8e039",
   "metadata": {},
   "outputs": [
    {
     "name": "stderr",
     "output_type": "stream",
     "text": [
      "lbfgs failed to converge (status=1):\n",
      "STOP: TOTAL NO. of ITERATIONS REACHED LIMIT.\n",
      "\n",
      "Increase the number of iterations (max_iter) or scale the data as shown in:\n",
      "    https://scikit-learn.org/stable/modules/preprocessing.html\n",
      "Please also refer to the documentation for alternative solver options:\n",
      "    https://scikit-learn.org/stable/modules/linear_model.html#logistic-regression\n",
      "lbfgs failed to converge (status=1):\n",
      "STOP: TOTAL NO. of ITERATIONS REACHED LIMIT.\n",
      "\n",
      "Increase the number of iterations (max_iter) or scale the data as shown in:\n",
      "    https://scikit-learn.org/stable/modules/preprocessing.html\n",
      "Please also refer to the documentation for alternative solver options:\n",
      "    https://scikit-learn.org/stable/modules/linear_model.html#logistic-regression\n",
      "lbfgs failed to converge (status=1):\n",
      "STOP: TOTAL NO. of ITERATIONS REACHED LIMIT.\n",
      "\n",
      "Increase the number of iterations (max_iter) or scale the data as shown in:\n",
      "    https://scikit-learn.org/stable/modules/preprocessing.html\n",
      "Please also refer to the documentation for alternative solver options:\n",
      "    https://scikit-learn.org/stable/modules/linear_model.html#logistic-regression\n",
      "lbfgs failed to converge (status=1):\n",
      "STOP: TOTAL NO. of ITERATIONS REACHED LIMIT.\n",
      "\n",
      "Increase the number of iterations (max_iter) or scale the data as shown in:\n",
      "    https://scikit-learn.org/stable/modules/preprocessing.html\n",
      "Please also refer to the documentation for alternative solver options:\n",
      "    https://scikit-learn.org/stable/modules/linear_model.html#logistic-regression\n",
      "lbfgs failed to converge (status=1):\n",
      "STOP: TOTAL NO. of ITERATIONS REACHED LIMIT.\n",
      "\n",
      "Increase the number of iterations (max_iter) or scale the data as shown in:\n",
      "    https://scikit-learn.org/stable/modules/preprocessing.html\n",
      "Please also refer to the documentation for alternative solver options:\n",
      "    https://scikit-learn.org/stable/modules/linear_model.html#logistic-regression\n",
      "lbfgs failed to converge (status=1):\n",
      "STOP: TOTAL NO. of ITERATIONS REACHED LIMIT.\n",
      "\n",
      "Increase the number of iterations (max_iter) or scale the data as shown in:\n",
      "    https://scikit-learn.org/stable/modules/preprocessing.html\n",
      "Please also refer to the documentation for alternative solver options:\n",
      "    https://scikit-learn.org/stable/modules/linear_model.html#logistic-regression\n",
      "lbfgs failed to converge (status=1):\n",
      "STOP: TOTAL NO. of ITERATIONS REACHED LIMIT.\n",
      "\n",
      "Increase the number of iterations (max_iter) or scale the data as shown in:\n",
      "    https://scikit-learn.org/stable/modules/preprocessing.html\n",
      "Please also refer to the documentation for alternative solver options:\n",
      "    https://scikit-learn.org/stable/modules/linear_model.html#logistic-regression\n",
      "lbfgs failed to converge (status=1):\n",
      "STOP: TOTAL NO. of ITERATIONS REACHED LIMIT.\n",
      "\n",
      "Increase the number of iterations (max_iter) or scale the data as shown in:\n",
      "    https://scikit-learn.org/stable/modules/preprocessing.html\n",
      "Please also refer to the documentation for alternative solver options:\n",
      "    https://scikit-learn.org/stable/modules/linear_model.html#logistic-regression\n",
      "lbfgs failed to converge (status=1):\n",
      "STOP: TOTAL NO. of ITERATIONS REACHED LIMIT.\n",
      "\n",
      "Increase the number of iterations (max_iter) or scale the data as shown in:\n",
      "    https://scikit-learn.org/stable/modules/preprocessing.html\n",
      "Please also refer to the documentation for alternative solver options:\n",
      "    https://scikit-learn.org/stable/modules/linear_model.html#logistic-regression\n",
      "lbfgs failed to converge (status=1):\n",
      "STOP: TOTAL NO. of ITERATIONS REACHED LIMIT.\n",
      "\n",
      "Increase the number of iterations (max_iter) or scale the data as shown in:\n",
      "    https://scikit-learn.org/stable/modules/preprocessing.html\n",
      "Please also refer to the documentation for alternative solver options:\n",
      "    https://scikit-learn.org/stable/modules/linear_model.html#logistic-regression\n",
      "lbfgs failed to converge (status=1):\n",
      "STOP: TOTAL NO. of ITERATIONS REACHED LIMIT.\n",
      "\n",
      "Increase the number of iterations (max_iter) or scale the data as shown in:\n",
      "    https://scikit-learn.org/stable/modules/preprocessing.html\n",
      "Please also refer to the documentation for alternative solver options:\n",
      "    https://scikit-learn.org/stable/modules/linear_model.html#logistic-regression\n",
      "lbfgs failed to converge (status=1):\n",
      "STOP: TOTAL NO. of ITERATIONS REACHED LIMIT.\n",
      "\n",
      "Increase the number of iterations (max_iter) or scale the data as shown in:\n",
      "    https://scikit-learn.org/stable/modules/preprocessing.html\n",
      "Please also refer to the documentation for alternative solver options:\n",
      "    https://scikit-learn.org/stable/modules/linear_model.html#logistic-regression\n",
      "lbfgs failed to converge (status=1):\n",
      "STOP: TOTAL NO. of ITERATIONS REACHED LIMIT.\n",
      "\n",
      "Increase the number of iterations (max_iter) or scale the data as shown in:\n",
      "    https://scikit-learn.org/stable/modules/preprocessing.html\n",
      "Please also refer to the documentation for alternative solver options:\n",
      "    https://scikit-learn.org/stable/modules/linear_model.html#logistic-regression\n",
      "lbfgs failed to converge (status=1):\n",
      "STOP: TOTAL NO. of ITERATIONS REACHED LIMIT.\n",
      "\n",
      "Increase the number of iterations (max_iter) or scale the data as shown in:\n",
      "    https://scikit-learn.org/stable/modules/preprocessing.html\n",
      "Please also refer to the documentation for alternative solver options:\n",
      "    https://scikit-learn.org/stable/modules/linear_model.html#logistic-regression\n",
      "lbfgs failed to converge (status=1):\n",
      "STOP: TOTAL NO. of ITERATIONS REACHED LIMIT.\n",
      "\n",
      "Increase the number of iterations (max_iter) or scale the data as shown in:\n",
      "    https://scikit-learn.org/stable/modules/preprocessing.html\n",
      "Please also refer to the documentation for alternative solver options:\n",
      "    https://scikit-learn.org/stable/modules/linear_model.html#logistic-regression\n",
      "lbfgs failed to converge (status=1):\n",
      "STOP: TOTAL NO. of ITERATIONS REACHED LIMIT.\n",
      "\n",
      "Increase the number of iterations (max_iter) or scale the data as shown in:\n",
      "    https://scikit-learn.org/stable/modules/preprocessing.html\n",
      "Please also refer to the documentation for alternative solver options:\n",
      "    https://scikit-learn.org/stable/modules/linear_model.html#logistic-regression\n",
      "lbfgs failed to converge (status=1):\n",
      "STOP: TOTAL NO. of ITERATIONS REACHED LIMIT.\n",
      "\n",
      "Increase the number of iterations (max_iter) or scale the data as shown in:\n",
      "    https://scikit-learn.org/stable/modules/preprocessing.html\n",
      "Please also refer to the documentation for alternative solver options:\n",
      "    https://scikit-learn.org/stable/modules/linear_model.html#logistic-regression\n",
      "lbfgs failed to converge (status=1):\n",
      "STOP: TOTAL NO. of ITERATIONS REACHED LIMIT.\n",
      "\n",
      "Increase the number of iterations (max_iter) or scale the data as shown in:\n",
      "    https://scikit-learn.org/stable/modules/preprocessing.html\n",
      "Please also refer to the documentation for alternative solver options:\n",
      "    https://scikit-learn.org/stable/modules/linear_model.html#logistic-regression\n"
     ]
    },
    {
     "data": {
      "text/plain": [
       "GridSearchCV(cv=5, estimator=LogisticRegression(random_state=42),\n",
       "             param_grid={'C': [0.1, 1.0, 10, 100], 'max_iter': [100, 200, 300],\n",
       "                         'solver': ['liblinear', 'lbfgs']},\n",
       "             scoring='recall')"
      ]
     },
     "execution_count": 97,
     "metadata": {},
     "output_type": "execute_result"
    }
   ],
   "source": [
    "grid_search.fit(X_train, y_train)"
   ]
  },
  {
   "cell_type": "code",
   "execution_count": 100,
   "id": "a580e23b",
   "metadata": {},
   "outputs": [
    {
     "name": "stdout",
     "output_type": "stream",
     "text": [
      "Лучшие параметры: {'C': 0.1, 'max_iter': 100, 'solver': 'liblinear'}\n",
      "Recall на кросс-валидации: 0.615600201432838\n"
     ]
    }
   ],
   "source": [
    "lr_best_model = grid_search.best_estimator_\n",
    "\n",
    "lr_train_recall = grid_search.best_score_\n",
    "#val_pred = lr_best_model.predict(X_val)\n",
    "#lr_val_recall = recall_score(y_val, val_pred)\n",
    "\n",
    "print(\"Лучшие параметры:\", grid_search.best_params_)\n",
    "print(\"Recall на кросс-валидации:\", lr_train_recall)\n",
    "#print(\"Recall на валидационном наборе:\", lgb_val_recall)"
   ]
  },
  {
   "cell_type": "markdown",
   "id": "7c9d6234",
   "metadata": {},
   "source": [
    "### LGBMClassifier"
   ]
  },
  {
   "cell_type": "code",
   "execution_count": 101,
   "id": "2c1fa17f",
   "metadata": {},
   "outputs": [],
   "source": [
    "model = lgb.LGBMClassifier(random_state=42)"
   ]
  },
  {
   "cell_type": "code",
   "execution_count": 102,
   "id": "3960669f",
   "metadata": {},
   "outputs": [],
   "source": [
    "param_grid = {\n",
    "    'num_leaves': [31, 50, 100],\n",
    "    'learning_rate': [0.1, 0.01],\n",
    "    'n_estimators': [100, 200, 300]\n",
    "}\n",
    "\n",
    "#scorer = make_scorer(recall_score)"
   ]
  },
  {
   "cell_type": "code",
   "execution_count": 103,
   "id": "17e3ace6",
   "metadata": {},
   "outputs": [],
   "source": [
    "grid_search = GridSearchCV(model, param_grid, scoring='recall', cv=5)"
   ]
  },
  {
   "cell_type": "code",
   "execution_count": 104,
   "id": "ddfcf5d8",
   "metadata": {},
   "outputs": [
    {
     "data": {
      "text/plain": [
       "GridSearchCV(cv=5, estimator=LGBMClassifier(random_state=42),\n",
       "             param_grid={'learning_rate': [0.1, 0.01],\n",
       "                         'n_estimators': [100, 200, 300],\n",
       "                         'num_leaves': [31, 50, 100]},\n",
       "             scoring='recall')"
      ]
     },
     "execution_count": 104,
     "metadata": {},
     "output_type": "execute_result"
    }
   ],
   "source": [
    "grid_search.fit(X_train, y_train)"
   ]
  },
  {
   "cell_type": "code",
   "execution_count": 107,
   "id": "67238e95",
   "metadata": {},
   "outputs": [
    {
     "name": "stdout",
     "output_type": "stream",
     "text": [
      "Лучшие параметры: {'learning_rate': 0.01, 'n_estimators': 100, 'num_leaves': 31}\n",
      "Recall на кросс-валидации: 0.8693057564149698\n"
     ]
    }
   ],
   "source": [
    "lgb_best_model = grid_search.best_estimator_\n",
    "\n",
    "lgb_train_recall = grid_search.best_score_\n",
    "#val_pred = lgb_best_model.predict(X_val)\n",
    "#lgb_val_recall = recall_score(y_val, val_pred)\n",
    "\n",
    "print(\"Лучшие параметры:\", grid_search.best_params_)\n",
    "print(\"Recall на кросс-валидации:\", lgb_train_recall)\n",
    "#print(\"Recall на валидационном наборе:\", lgb_val_recall)"
   ]
  },
  {
   "cell_type": "markdown",
   "id": "49cc20b1",
   "metadata": {},
   "source": [
    " ### Neural Net"
   ]
  },
  {
   "cell_type": "code",
   "execution_count": 109,
   "id": "88efe5a2",
   "metadata": {},
   "outputs": [],
   "source": [
    "X_train_t = torch.FloatTensor(X_train.values)\n",
    "X_val_t = torch.FloatTensor(X_val.values)\n",
    "y_train_t = torch.FloatTensor(y_train).flatten()\n",
    "y_val_t = torch.FloatTensor(y_val).flatten()"
   ]
  },
  {
   "cell_type": "code",
   "execution_count": 110,
   "id": "060b4b42",
   "metadata": {},
   "outputs": [],
   "source": [
    "n_in_neurons = X_train.shape[1]\n",
    "n_hidden_neurons_1 = 25\n",
    "n_hidden_neurons_2 = 10\n",
    "n_out_neurons = 1 "
   ]
  },
  {
   "cell_type": "code",
   "execution_count": 111,
   "id": "4303b636",
   "metadata": {},
   "outputs": [],
   "source": [
    "net = nn.Sequential(\n",
    "    nn.Linear(n_in_neurons, n_hidden_neurons_1),\n",
    "    nn.ReLU(), \n",
    "    nn.Linear(n_hidden_neurons_1, n_hidden_neurons_2),\n",
    "    nn.ReLU(), \n",
    "    nn.Linear(n_hidden_neurons_2, n_out_neurons),\n",
    "    nn.Sigmoid()\n",
    ") \n",
    "loss = nn.BCELoss()\n",
    "optimizer = torch.optim.Adam(net.parameters(), lr=1e-3)"
   ]
  },
  {
   "cell_type": "code",
   "execution_count": 120,
   "id": "c2687a9b",
   "metadata": {},
   "outputs": [],
   "source": [
    "def net_train(num_epochs, num_test):\n",
    "    recall = Recall(num_classes=2, average='micro', task='binary')\n",
    "    for epoch in range(num_epochs):\n",
    "        net.train()\n",
    "        optimizer.zero_grad()\n",
    "        preds = net.forward(X_train_t).flatten()\n",
    "        loss_value = loss(preds, y_train_t)\n",
    "        loss_value.backward()\n",
    "        optimizer.step()\n",
    "\n",
    "        if epoch % num_test == 0 or epoch == num_epochs - 1:\n",
    "            net.eval()\n",
    "            with torch.no_grad():\n",
    "                test_preds = net.forward(X_val_t).flatten()\n",
    "                recall.update(test_preds, y_val_t)\n",
    "            test_recall = recall.compute()\n",
    "            #true_positives = ((test_preds >= 0.5) & (y_val_t == 1)).sum().item()\n",
    "            #false_negatives = ((test_preds < 0.5) & (y_val_t == 1)).sum().item()\n",
    "            #recall = true_positives / (true_positives + false_negatives)\n",
    "            print(f'Epoch {epoch}, Recall: {test_recall}')"
   ]
  },
  {
   "cell_type": "code",
   "execution_count": 121,
   "id": "e959f276",
   "metadata": {},
   "outputs": [
    {
     "name": "stdout",
     "output_type": "stream",
     "text": [
      "Epoch 0, Recall: 0.8244897723197937\n",
      "Epoch 10, Recall: 0.9122449159622192\n",
      "Epoch 20, Recall: 0.9414966106414795\n",
      "Epoch 30, Recall: 0.9561224579811096\n",
      "Epoch 40, Recall: 0.9648979306221008\n",
      "Epoch 50, Recall: 0.9679988622665405\n",
      "Epoch 60, Recall: 0.9584547877311707\n",
      "Epoch 70, Recall: 0.9346938729286194\n",
      "Epoch 80, Recall: 0.9079743027687073\n",
      "Epoch 90, Recall: 0.8822789192199707\n",
      "Epoch 100, Recall: 0.8589208126068115\n",
      "Epoch 110, Recall: 0.837740957736969\n",
      "Epoch 120, Recall: 0.8194400668144226\n",
      "Epoch 130, Recall: 0.8041423559188843\n",
      "Epoch 140, Recall: 0.7906008958816528\n",
      "Epoch 150, Recall: 0.7780718803405762\n",
      "Epoch 160, Recall: 0.766476571559906\n",
      "Epoch 170, Recall: 0.7559807300567627\n",
      "Epoch 180, Recall: 0.7463659048080444\n",
      "Epoch 190, Recall: 0.7375935316085815\n",
      "Epoch 200, Recall: 0.7296808958053589\n",
      "Epoch 210, Recall: 0.722510814666748\n",
      "Epoch 220, Recall: 0.7159124612808228\n",
      "Epoch 230, Recall: 0.7097930908203125\n",
      "Epoch 240, Recall: 0.7041020393371582\n",
      "Epoch 250, Recall: 0.6988422274589539\n",
      "Epoch 260, Recall: 0.6939594149589539\n",
      "Epoch 270, Recall: 0.6894314885139465\n",
      "Epoch 280, Recall: 0.6851512789726257\n",
      "Epoch 290, Recall: 0.6812188029289246\n",
      "Epoch 300, Recall: 0.6775400638580322\n",
      "Epoch 310, Recall: 0.6741177439689636\n",
      "Epoch 320, Recall: 0.6709132194519043\n",
      "Epoch 330, Recall: 0.6678921580314636\n",
      "Epoch 340, Recall: 0.6650680303573608\n",
      "Epoch 350, Recall: 0.6624763607978821\n",
      "Epoch 360, Recall: 0.660057008266449\n",
      "Epoch 370, Recall: 0.6578186750411987\n",
      "Epoch 380, Recall: 0.6557648777961731\n",
      "Epoch 390, Recall: 0.6538223028182983\n",
      "Epoch 400, Recall: 0.6519744396209717\n",
      "Epoch 410, Recall: 0.6502348780632019\n",
      "Epoch 420, Recall: 0.6485128998756409\n",
      "Epoch 430, Recall: 0.6468150615692139\n",
      "Epoch 440, Recall: 0.6454648375511169\n",
      "Epoch 450, Recall: 0.6439588665962219\n",
      "Epoch 460, Recall: 0.6428318023681641\n",
      "Epoch 470, Recall: 0.6415709853172302\n",
      "Epoch 480, Recall: 0.6405143737792969\n",
      "Epoch 490, Recall: 0.639401376247406\n",
      "Epoch 500, Recall: 0.6382853388786316\n",
      "Epoch 510, Recall: 0.6374836564064026\n",
      "Epoch 520, Recall: 0.6367924809455872\n",
      "Epoch 530, Recall: 0.6361111402511597\n",
      "Epoch 540, Recall: 0.6352102756500244\n",
      "Epoch 550, Recall: 0.6346908211708069\n",
      "Epoch 560, Recall: 0.6338703632354736\n",
      "Epoch 570, Recall: 0.6330870389938354\n",
      "Epoch 580, Recall: 0.6325175762176514\n",
      "Epoch 590, Recall: 0.63209468126297\n",
      "Epoch 600, Recall: 0.6312534809112549\n",
      "Epoch 610, Recall: 0.6309386491775513\n",
      "Epoch 620, Recall: 0.6301857233047485\n",
      "Epoch 630, Recall: 0.6297937631607056\n",
      "Epoch 640, Recall: 0.6291836500167847\n",
      "Epoch 650, Recall: 0.6286075115203857\n",
      "Epoch 660, Recall: 0.6280916929244995\n",
      "Epoch 670, Recall: 0.6271758675575256\n",
      "Epoch 680, Recall: 0.6265109181404114\n",
      "Epoch 690, Recall: 0.6259183883666992\n",
      "Epoch 700, Recall: 0.6254072189331055\n",
      "Epoch 710, Recall: 0.6249740123748779\n",
      "Epoch 720, Recall: 0.6246482133865356\n",
      "Epoch 730, Recall: 0.6241979002952576\n",
      "Epoch 740, Recall: 0.62376868724823\n",
      "Epoch 750, Recall: 0.6232970952987671\n",
      "Epoch 760, Recall: 0.6230607628822327\n",
      "Epoch 770, Recall: 0.6225013136863708\n",
      "Epoch 780, Recall: 0.6223413348197937\n",
      "Epoch 790, Recall: 0.6219217777252197\n",
      "Epoch 800, Recall: 0.6215104460716248\n",
      "Epoch 810, Recall: 0.6214181780815125\n",
      "Epoch 820, Recall: 0.6209695935249329\n",
      "Epoch 830, Recall: 0.6207766532897949\n",
      "Epoch 840, Recall: 0.6204281449317932\n",
      "Epoch 850, Recall: 0.62015700340271\n",
      "Epoch 860, Recall: 0.619983971118927\n",
      "Epoch 870, Recall: 0.6198786497116089\n",
      "Epoch 880, Recall: 0.6194565296173096\n",
      "Epoch 890, Recall: 0.6192762851715088\n",
      "Epoch 900, Recall: 0.6190943121910095\n",
      "Epoch 910, Recall: 0.6186834573745728\n",
      "Epoch 920, Recall: 0.6185959577560425\n",
      "Epoch 930, Recall: 0.6184053421020508\n",
      "Epoch 940, Recall: 0.6179860234260559\n",
      "Epoch 950, Recall: 0.6178287863731384\n",
      "Epoch 960, Recall: 0.6176134347915649\n",
      "Epoch 970, Recall: 0.6172844767570496\n",
      "Epoch 980, Recall: 0.617199182510376\n",
      "Epoch 990, Recall: 0.6169762015342712\n",
      "Epoch 999, Recall: 0.6170051097869873\n"
     ]
    }
   ],
   "source": [
    "num_epochs = 1000\n",
    "num_test = 10\n",
    "net_train(num_epochs, num_test)"
   ]
  },
  {
   "cell_type": "markdown",
   "id": "0c8dc4cd",
   "metadata": {},
   "source": [
    "<b>Вывод</b>"
   ]
  },
  {
   "cell_type": "markdown",
   "id": "a710e5d9",
   "metadata": {},
   "source": [
    "Модели Logistic Regression и NeuralNeet показали не очень высокие результаты на валидационных данных (recall 0.61).\n",
    "Лучший результат у модели LGB - recall 0.86"
   ]
  },
  {
   "cell_type": "markdown",
   "id": "75652480",
   "metadata": {},
   "source": [
    "Проверим модель на тестовых данных"
   ]
  },
  {
   "cell_type": "code",
   "execution_count": 124,
   "id": "4753076f",
   "metadata": {},
   "outputs": [
    {
     "name": "stdout",
     "output_type": "stream",
     "text": [
      "Recall на кросс-валидации: 0.8693057564149698\n",
      "Recall на тестовом наборе: 0.8640453182272576\n"
     ]
    }
   ],
   "source": [
    "lgb_test_pred = lgb_best_model.predict(X_test)\n",
    "lgb_test_recall = recall_score(y_test, lgb_test_pred)\n",
    "\n",
    "print(\"Recall на кросс-валидации:\", lgb_train_recall)\n",
    "print(\"Recall на тестовом наборе:\", lgb_test_recall)"
   ]
  },
  {
   "cell_type": "code",
   "execution_count": 125,
   "id": "772dd3d4",
   "metadata": {},
   "outputs": [
    {
     "data": {
      "image/png": "[encoded data removed]",
      "text/plain": [
       "<Figure size 432x288 with 2 Axes>"
      ]
     },
     "metadata": {
      "needs_background": "light"
     },
     "output_type": "display_data"
    },
    {
     "data": {
      "image/png": "[encoded data removed]",
      "text/plain": [
       "<Figure size 432x288 with 1 Axes>"
      ]
     },
     "metadata": {
      "needs_background": "light"
     },
     "output_type": "display_data"
    }
   ],
   "source": [
    "conf_matrix = confusion_matrix(y_test, lgb_test_pred)\n",
    "\n",
    "sns.heatmap(conf_matrix, annot=True, fmt='g')\n",
    "plt.xlabel('Предсказанные значения')\n",
    "plt.ylabel('Истинные значения')\n",
    "plt.title('Матрица ошибок')\n",
    "plt.show()\n",
    "\n",
    "recall = recall_score(y_test, lgb_test_pred)\n",
    "precision = precision_score(y_test, lgb_test_pred)\n",
    "\n",
    "plt.bar(['Полнота', 'Точность'], [recall, precision])\n",
    "plt.title('Полнота и Точность')\n",
    "plt.show()"
   ]
  },
  {
   "cell_type": "markdown",
   "id": "ae0cf3b2",
   "metadata": {},
   "source": [
    "Модель лучше справляется с обнаружением истинных случаев класса 1 (высокая полнота), чем с точностью их предсказания (средняя точность). Это подходит для решения нашей задачи, т.к. нам необходимо установить вероятность того, что водитель попадет в аварию."
   ]
  },
  {
   "cell_type": "markdown",
   "id": "1fe980b4",
   "metadata": {},
   "source": [
    "## Проведите анализ важности факторов ДТП"
   ]
  },
  {
   "cell_type": "code",
   "execution_count": 126,
   "id": "9a92eb37",
   "metadata": {},
   "outputs": [
    {
     "name": "stderr",
     "output_type": "stream",
     "text": [
      "LightGBM binary classifier with TreeExplainer shap values output has changed to a list of ndarray\n"
     ]
    },
    {
     "data": {
      "image/png": "[encoded data removed]",
      "text/plain": [
       "<Figure size 576x684 with 1 Axes>"
      ]
     },
     "metadata": {
      "needs_background": "light"
     },
     "output_type": "display_data"
    }
   ],
   "source": [
    "numeric_feature_names = numeric\n",
    "ohe_feature_names = enc.get_feature_names()\n",
    "all_feature_names = numeric_feature_names + ohe_feature_names.tolist()\n",
    "explainer = shap.Explainer(lgb_best_model)\n",
    "shap_values = explainer.shap_values(X_val)\n",
    "shap.summary_plot(shap_values, X_val, feature_names=all_feature_names, plot_type=\"bar\")"
   ]
  },
  {
   "cell_type": "markdown",
   "id": "a577f156",
   "metadata": {},
   "source": [
    "Самые важные факторы, влияющие на целевую метрику:  трезвость водителя, тип кузова и освещение на улице"
   ]
  },
  {
   "cell_type": "code",
   "execution_count": 127,
   "id": "1f639c56",
   "metadata": {},
   "outputs": [
    {
     "data": {
      "text/plain": [
       "<Figure size 2160x2160 with 0 Axes>"
      ]
     },
     "metadata": {},
     "output_type": "display_data"
    },
    {
     "data": {
      "image/png": "[encoded data removed]",
      "text/plain": [
       "<Figure size 432x288 with 1 Axes>"
      ]
     },
     "metadata": {
      "needs_background": "light"
     },
     "output_type": "display_data"
    }
   ],
   "source": [
    "grouped_data = df.groupby('party_sobriety')['at_fault'].value_counts().unstack()\n",
    "plt.figure(figsize=(30, 30))\n",
    "grouped_data.plot(kind='bar', stacked=True)\n",
    "plt.title('Зависимость at_fault от party_sobriety')\n",
    "plt.xlabel('Party Sobriety')\n",
    "plt.ylabel('Количество случаев')\n",
    "plt.show()"
   ]
  },
  {
   "cell_type": "markdown",
   "id": "6751f2cc",
   "metadata": {},
   "source": [
    "Из графика видно что среди трезвых водителей количество виновных и невиновых примерно одинаковое, однако если водитель выпил, то это значительно увеличивает вероятность быть виновником ДТП.\n",
    "\n",
    "В качестве меру уменьшающей количество нетрезвого вождения автомобиля, можно оборудовать автомобиль анализатором алкогольного опьянения. Измерение состояния при посадке сделать обязательным условием допуска за руль. А чтобы убедиться, что в трубку дышит именно водитель, добавить камеру, направленную на водительское место."
   ]
  },
  {
   "cell_type": "markdown",
   "id": "80f776f7",
   "metadata": {},
   "source": [
    "## Выводы"
   ]
  },
  {
   "cell_type": "markdown",
   "id": "ce1eaffd",
   "metadata": {},
   "source": [
    "В рамках данной работы было проведенно исследование следующих задач заказчика: разработать систему предсказания аварии и систему предсказания веротности того, что водитель будет виновным в ДТП.\n",
    "\n",
    "По результатам изучения данных пришли к выводу что первая задача на предоставленных данных не может быть решена, т.к. они содержать информацию только об авариях, в них нет данных о безаварийных поездках. Чтобы научить модель предсказывать вероятность ДТП необходимо использовать оба набора данных и об аварийных поездках и о безаварийных.\n",
    "\n",
    "Данных для второй задачи оказалось достаточно. Было обчено три модели LogisticRgression, LightGBM и NEuralNEt. ЛУчший результатам показала модель LightGBM с метрикой recall 0.86.\n",
    "\n",
    "По результатам обучения установлено, что на вероятность стать виновником ДТП влияют такие  факторы как: тип кузова и освещение на улице. В рамках работы предложено решение по снижению случаев управления автомобилем в нетрезвом виде."
   ]
  }
 ],
 "metadata": {
  "ExecuteTimeLog": [
   {
    "duration": 525,
    "start_time": "2024-01-12T08:29:36.929Z"
   },
   {
    "duration": 92,
    "start_time": "2024-01-12T08:30:36.691Z"
   },
   {
    "duration": 80,
    "start_time": "2024-01-12T08:31:01.695Z"
   },
   {
    "duration": 3,
    "start_time": "2024-01-12T08:32:16.827Z"
   },
   {
    "duration": 9116,
    "start_time": "2024-01-12T08:32:17.673Z"
   },
   {
    "duration": 3,
    "start_time": "2024-01-12T09:29:06.298Z"
   },
   {
    "duration": 24,
    "start_time": "2024-01-12T09:29:06.303Z"
   },
   {
    "duration": 490,
    "start_time": "2024-01-12T09:29:35.012Z"
   },
   {
    "duration": 14022,
    "start_time": "2024-01-12T09:29:35.504Z"
   },
   {
    "duration": 15708,
    "start_time": "2024-01-12T09:29:49.527Z"
   },
   {
    "duration": 2538,
    "start_time": "2024-01-12T09:30:05.237Z"
   },
   {
    "duration": 11045,
    "start_time": "2024-01-12T09:37:41.215Z"
   },
   {
    "duration": 21,
    "start_time": "2024-01-12T09:37:57.928Z"
   },
   {
    "duration": 3345,
    "start_time": "2024-01-12T09:43:59.633Z"
   },
   {
    "duration": 3459,
    "start_time": "2024-01-12T09:44:14.223Z"
   },
   {
    "duration": 224,
    "start_time": "2024-01-12T09:44:39.660Z"
   },
   {
    "duration": 3505,
    "start_time": "2024-01-12T09:45:42.990Z"
   },
   {
    "duration": 197,
    "start_time": "2024-01-12T09:45:50.438Z"
   },
   {
    "duration": 995,
    "start_time": "2024-01-12T10:00:14.166Z"
   },
   {
    "duration": 337,
    "start_time": "2024-01-12T12:50:48.560Z"
   },
   {
    "duration": 305,
    "start_time": "2024-01-12T12:50:55.021Z"
   },
   {
    "duration": 291,
    "start_time": "2024-01-12T12:55:14.957Z"
   },
   {
    "duration": 104,
    "start_time": "2024-01-12T12:56:20.265Z"
   },
   {
    "duration": 164,
    "start_time": "2024-01-12T12:56:45.316Z"
   },
   {
    "duration": 7,
    "start_time": "2024-01-12T12:57:04.550Z"
   },
   {
    "duration": 316,
    "start_time": "2024-01-12T13:01:40.181Z"
   },
   {
    "duration": 6,
    "start_time": "2024-01-12T13:01:42.150Z"
   },
   {
    "duration": 313,
    "start_time": "2024-01-12T13:02:34.305Z"
   },
   {
    "duration": 551,
    "start_time": "2024-01-12T13:03:26.637Z"
   },
   {
    "duration": 1818,
    "start_time": "2024-01-12T13:06:44.782Z"
   },
   {
    "duration": 15,
    "start_time": "2024-01-12T13:07:18.398Z"
   },
   {
    "duration": 14,
    "start_time": "2024-01-12T13:07:28.582Z"
   },
   {
    "duration": 1941,
    "start_time": "2024-01-12T13:08:43.282Z"
   },
   {
    "duration": 1963,
    "start_time": "2024-01-12T13:09:05.814Z"
   },
   {
    "duration": 2085,
    "start_time": "2024-01-12T13:09:16.339Z"
   },
   {
    "duration": 2013,
    "start_time": "2024-01-12T13:09:28.274Z"
   },
   {
    "duration": 7,
    "start_time": "2024-01-12T13:09:50.926Z"
   },
   {
    "duration": 10,
    "start_time": "2024-01-12T13:10:16.355Z"
   },
   {
    "duration": 5,
    "start_time": "2024-01-12T13:10:36.802Z"
   },
   {
    "duration": 534,
    "start_time": "2024-01-12T13:11:04.997Z"
   },
   {
    "duration": 469,
    "start_time": "2024-01-12T13:11:15.539Z"
   },
   {
    "duration": 371,
    "start_time": "2024-01-12T13:11:26.323Z"
   },
   {
    "duration": 439,
    "start_time": "2024-01-12T13:12:40.225Z"
   },
   {
    "duration": 4,
    "start_time": "2024-01-12T13:15:18.557Z"
   },
   {
    "duration": 9,
    "start_time": "2024-01-12T13:15:18.563Z"
   },
   {
    "duration": 2839,
    "start_time": "2024-01-12T13:15:45.570Z"
   },
   {
    "duration": 10045,
    "start_time": "2024-01-12T13:15:48.411Z"
   },
   {
    "duration": 16272,
    "start_time": "2024-01-12T13:15:58.457Z"
   },
   {
    "duration": 2542,
    "start_time": "2024-01-12T13:16:14.731Z"
   },
   {
    "duration": 10846,
    "start_time": "2024-01-12T13:16:17.275Z"
   },
   {
    "duration": 25,
    "start_time": "2024-01-12T13:16:28.122Z"
   },
   {
    "duration": 2893,
    "start_time": "2024-01-12T13:16:28.148Z"
   },
   {
    "duration": 225,
    "start_time": "2024-01-12T13:16:31.044Z"
   },
   {
    "duration": 3255,
    "start_time": "2024-01-12T13:16:31.270Z"
   },
   {
    "duration": 192,
    "start_time": "2024-01-12T13:16:34.526Z"
   },
   {
    "duration": 309,
    "start_time": "2024-01-12T13:16:34.719Z"
   },
   {
    "duration": 7,
    "start_time": "2024-01-12T13:16:35.029Z"
   },
   {
    "duration": 11,
    "start_time": "2024-01-12T13:16:35.037Z"
   },
   {
    "duration": 349,
    "start_time": "2024-01-12T13:16:35.050Z"
   },
   {
    "duration": 231,
    "start_time": "2024-01-12T13:50:03.660Z"
   },
   {
    "duration": 240,
    "start_time": "2024-01-12T13:53:04.291Z"
   },
   {
    "duration": 1656,
    "start_time": "2024-01-12T13:53:26.945Z"
   },
   {
    "duration": 13437,
    "start_time": "2024-01-12T13:56:02.023Z"
   },
   {
    "duration": 121,
    "start_time": "2024-01-12T13:58:37.594Z"
   },
   {
    "duration": 11878,
    "start_time": "2024-01-12T14:02:12.796Z"
   },
   {
    "duration": 152,
    "start_time": "2024-01-12T14:04:38.980Z"
   },
   {
    "duration": 143,
    "start_time": "2024-01-12T14:05:24.203Z"
   },
   {
    "duration": 127,
    "start_time": "2024-01-12T14:06:33.207Z"
   },
   {
    "duration": 476,
    "start_time": "2024-01-12T14:12:02.478Z"
   },
   {
    "duration": 130,
    "start_time": "2024-01-12T14:13:13.905Z"
   },
   {
    "duration": 86,
    "start_time": "2024-01-12T14:17:39.515Z"
   },
   {
    "duration": 8885,
    "start_time": "2024-01-12T15:05:28.454Z"
   },
   {
    "duration": 290,
    "start_time": "2024-01-12T15:05:56.206Z"
   },
   {
    "duration": 18,
    "start_time": "2024-01-12T15:08:03.894Z"
   },
   {
    "duration": 52,
    "start_time": "2024-01-12T15:10:32.450Z"
   },
   {
    "duration": 11986,
    "start_time": "2024-01-12T15:10:40.978Z"
   },
   {
    "duration": 1578,
    "start_time": "2024-01-12T15:11:43.845Z"
   },
   {
    "duration": 69,
    "start_time": "2024-01-12T15:13:55.299Z"
   },
   {
    "duration": 9,
    "start_time": "2024-01-12T15:14:07.060Z"
   },
   {
    "duration": 3,
    "start_time": "2024-01-12T15:14:11.824Z"
   },
   {
    "duration": 12973,
    "start_time": "2024-01-12T15:14:11.828Z"
   },
   {
    "duration": 16855,
    "start_time": "2024-01-12T15:14:24.803Z"
   },
   {
    "duration": 2505,
    "start_time": "2024-01-12T15:14:41.665Z"
   },
   {
    "duration": 12080,
    "start_time": "2024-01-12T15:14:44.172Z"
   },
   {
    "duration": 22,
    "start_time": "2024-01-12T15:14:56.258Z"
   },
   {
    "duration": 3215,
    "start_time": "2024-01-12T15:14:56.282Z"
   },
   {
    "duration": 228,
    "start_time": "2024-01-12T15:14:59.498Z"
   },
   {
    "duration": 3673,
    "start_time": "2024-01-12T15:14:59.728Z"
   },
   {
    "duration": 213,
    "start_time": "2024-01-12T15:15:03.402Z"
   },
   {
    "duration": 318,
    "start_time": "2024-01-12T15:15:03.617Z"
   },
   {
    "duration": 6,
    "start_time": "2024-01-12T15:15:03.936Z"
   },
   {
    "duration": 20,
    "start_time": "2024-01-12T15:15:03.944Z"
   },
   {
    "duration": 425,
    "start_time": "2024-01-12T15:15:03.966Z"
   },
   {
    "duration": 11212,
    "start_time": "2024-01-12T15:15:04.392Z"
   },
   {
    "duration": 179,
    "start_time": "2024-01-12T15:15:15.605Z"
   },
   {
    "duration": 444,
    "start_time": "2024-01-12T15:15:15.786Z"
   },
   {
    "duration": 147,
    "start_time": "2024-01-12T15:15:16.232Z"
   },
   {
    "duration": 8886,
    "start_time": "2024-01-12T15:15:16.380Z"
   },
   {
    "duration": 295,
    "start_time": "2024-01-12T15:15:25.267Z"
   },
   {
    "duration": 300,
    "start_time": "2024-01-12T15:15:25.566Z"
   },
   {
    "duration": 77,
    "start_time": "2024-01-12T15:15:25.894Z"
   },
   {
    "duration": 47,
    "start_time": "2024-01-12T15:15:35.966Z"
   },
   {
    "duration": 265,
    "start_time": "2024-01-12T15:26:30.242Z"
   },
   {
    "duration": 249,
    "start_time": "2024-01-12T15:27:04.529Z"
   },
   {
    "duration": 4,
    "start_time": "2024-01-12T15:29:18.958Z"
   },
   {
    "duration": 258,
    "start_time": "2024-01-12T15:29:21.267Z"
   },
   {
    "duration": 105,
    "start_time": "2024-01-12T15:30:38.868Z"
   },
   {
    "duration": 234,
    "start_time": "2024-01-12T15:30:50.840Z"
   },
   {
    "duration": 167,
    "start_time": "2024-01-12T15:33:22.118Z"
   },
   {
    "duration": 39,
    "start_time": "2024-01-12T15:34:34.238Z"
   },
   {
    "duration": 11,
    "start_time": "2024-01-12T15:34:57.097Z"
   },
   {
    "duration": 55,
    "start_time": "2024-01-12T15:35:57.015Z"
   },
   {
    "duration": 98,
    "start_time": "2024-01-12T15:36:58.261Z"
   },
   {
    "duration": 43,
    "start_time": "2024-01-12T15:37:02.108Z"
   },
   {
    "duration": 144,
    "start_time": "2024-01-12T15:38:21.549Z"
   },
   {
    "duration": 1288,
    "start_time": "2024-01-12T15:40:32.879Z"
   },
   {
    "duration": 41,
    "start_time": "2024-01-12T15:40:38.447Z"
   },
   {
    "duration": 34,
    "start_time": "2024-01-12T15:41:12.590Z"
   },
   {
    "duration": 41,
    "start_time": "2024-01-12T15:41:21.961Z"
   },
   {
    "duration": 44,
    "start_time": "2024-01-12T15:44:27.453Z"
   },
   {
    "duration": 51,
    "start_time": "2024-01-12T15:44:37.560Z"
   },
   {
    "duration": 64,
    "start_time": "2024-01-12T15:47:49.342Z"
   },
   {
    "duration": 40,
    "start_time": "2024-01-12T15:47:59.777Z"
   },
   {
    "duration": 58,
    "start_time": "2024-01-12T15:48:08.700Z"
   },
   {
    "duration": 29,
    "start_time": "2024-01-12T15:51:51.789Z"
   },
   {
    "duration": 44,
    "start_time": "2024-01-12T15:53:55.978Z"
   },
   {
    "duration": 28,
    "start_time": "2024-01-12T15:54:02.903Z"
   },
   {
    "duration": 48,
    "start_time": "2024-01-12T15:54:11.763Z"
   },
   {
    "duration": 48,
    "start_time": "2024-01-12T15:54:16.108Z"
   },
   {
    "duration": 35,
    "start_time": "2024-01-12T15:54:38.364Z"
   },
   {
    "duration": 33,
    "start_time": "2024-01-12T15:54:40.289Z"
   },
   {
    "duration": 75,
    "start_time": "2024-01-12T15:58:24.991Z"
   },
   {
    "duration": 45,
    "start_time": "2024-01-12T15:58:34.443Z"
   },
   {
    "duration": 112,
    "start_time": "2024-01-12T16:00:17.275Z"
   },
   {
    "duration": 28,
    "start_time": "2024-01-12T16:01:15.590Z"
   },
   {
    "duration": 99,
    "start_time": "2024-01-12T16:03:15.596Z"
   },
   {
    "duration": 97,
    "start_time": "2024-01-12T16:03:45.007Z"
   },
   {
    "duration": 31,
    "start_time": "2024-01-12T16:03:53.414Z"
   },
   {
    "duration": 3,
    "start_time": "2024-01-12T16:04:10.988Z"
   },
   {
    "duration": 24,
    "start_time": "2024-01-12T16:04:10.993Z"
   },
   {
    "duration": 1621,
    "start_time": "2024-01-12T16:04:24.339Z"
   },
   {
    "duration": 8706,
    "start_time": "2024-01-12T16:04:25.962Z"
   },
   {
    "duration": 16145,
    "start_time": "2024-01-12T16:04:34.670Z"
   },
   {
    "duration": 2358,
    "start_time": "2024-01-12T16:04:50.817Z"
   },
   {
    "duration": 10985,
    "start_time": "2024-01-12T16:04:53.177Z"
   },
   {
    "duration": 21,
    "start_time": "2024-01-12T16:05:04.164Z"
   },
   {
    "duration": 2909,
    "start_time": "2024-01-12T16:05:04.187Z"
   },
   {
    "duration": 224,
    "start_time": "2024-01-12T16:05:07.097Z"
   },
   {
    "duration": 3448,
    "start_time": "2024-01-12T16:05:07.322Z"
   },
   {
    "duration": 187,
    "start_time": "2024-01-12T16:05:10.773Z"
   },
   {
    "duration": 310,
    "start_time": "2024-01-12T16:05:10.962Z"
   },
   {
    "duration": 8,
    "start_time": "2024-01-12T16:05:11.274Z"
   },
   {
    "duration": 12,
    "start_time": "2024-01-12T16:05:11.283Z"
   },
   {
    "duration": 367,
    "start_time": "2024-01-12T16:05:11.297Z"
   },
   {
    "duration": 12617,
    "start_time": "2024-01-12T16:05:11.666Z"
   },
   {
    "duration": 172,
    "start_time": "2024-01-12T16:05:24.284Z"
   },
   {
    "duration": 458,
    "start_time": "2024-01-12T16:05:24.457Z"
   },
   {
    "duration": 125,
    "start_time": "2024-01-12T16:05:24.916Z"
   },
   {
    "duration": 8251,
    "start_time": "2024-01-12T16:05:25.042Z"
   },
   {
    "duration": 204,
    "start_time": "2024-01-12T16:05:33.294Z"
   },
   {
    "duration": 52,
    "start_time": "2024-01-12T16:05:33.500Z"
   },
   {
    "duration": 200,
    "start_time": "2024-01-12T16:05:33.553Z"
   },
   {
    "duration": 254,
    "start_time": "2024-01-12T16:05:33.754Z"
   },
   {
    "duration": 104,
    "start_time": "2024-01-12T16:05:34.009Z"
   },
   {
    "duration": 257,
    "start_time": "2024-01-12T16:05:34.114Z"
   },
   {
    "duration": 40,
    "start_time": "2024-01-12T16:05:34.372Z"
   },
   {
    "duration": 58,
    "start_time": "2024-01-12T16:05:34.414Z"
   },
   {
    "duration": 44,
    "start_time": "2024-01-12T16:05:34.476Z"
   },
   {
    "duration": 85,
    "start_time": "2024-01-12T16:05:34.521Z"
   },
   {
    "duration": 121,
    "start_time": "2024-01-12T16:05:34.607Z"
   },
   {
    "duration": 51,
    "start_time": "2024-01-12T16:05:34.729Z"
   },
   {
    "duration": 122,
    "start_time": "2024-01-12T16:05:34.782Z"
   },
   {
    "duration": 35,
    "start_time": "2024-01-12T16:05:34.905Z"
   },
   {
    "duration": 46,
    "start_time": "2024-01-12T16:05:34.942Z"
   },
   {
    "duration": 74,
    "start_time": "2024-01-12T16:05:34.990Z"
   },
   {
    "duration": 79,
    "start_time": "2024-01-12T16:05:35.065Z"
   },
   {
    "duration": 166,
    "start_time": "2024-01-12T16:05:35.145Z"
   },
   {
    "duration": 38,
    "start_time": "2024-01-12T16:05:35.312Z"
   },
   {
    "duration": 68,
    "start_time": "2024-01-12T16:06:13.441Z"
   },
   {
    "duration": 50,
    "start_time": "2024-01-12T16:06:56.145Z"
   },
   {
    "duration": 37,
    "start_time": "2024-01-12T16:08:18.095Z"
   },
   {
    "duration": 48,
    "start_time": "2024-01-12T16:08:24.880Z"
   },
   {
    "duration": 102,
    "start_time": "2024-01-12T16:10:00.342Z"
   },
   {
    "duration": 77,
    "start_time": "2024-01-12T16:10:33.813Z"
   },
   {
    "duration": 76,
    "start_time": "2024-01-12T16:10:38.781Z"
   },
   {
    "duration": 51,
    "start_time": "2024-01-12T16:11:22.448Z"
   },
   {
    "duration": 39,
    "start_time": "2024-01-12T16:11:54.416Z"
   },
   {
    "duration": 173,
    "start_time": "2024-01-12T16:13:50.972Z"
   },
   {
    "duration": 45,
    "start_time": "2024-01-12T16:13:58.276Z"
   },
   {
    "duration": 48,
    "start_time": "2024-01-12T16:15:28.898Z"
   },
   {
    "duration": 104,
    "start_time": "2024-01-12T16:16:18.795Z"
   },
   {
    "duration": 37,
    "start_time": "2024-01-12T16:17:14.391Z"
   },
   {
    "duration": 32,
    "start_time": "2024-01-12T16:17:53.838Z"
   },
   {
    "duration": 45,
    "start_time": "2024-01-12T16:18:03.032Z"
   },
   {
    "duration": 74,
    "start_time": "2024-01-12T16:19:51.055Z"
   },
   {
    "duration": 61,
    "start_time": "2024-01-12T16:20:12.940Z"
   },
   {
    "duration": 37,
    "start_time": "2024-01-12T16:21:36.012Z"
   },
   {
    "duration": 36,
    "start_time": "2024-01-12T16:22:22.893Z"
   },
   {
    "duration": 79,
    "start_time": "2024-01-12T16:22:56.818Z"
   },
   {
    "duration": 1205,
    "start_time": "2024-01-12T16:23:18.657Z"
   },
   {
    "duration": 8174,
    "start_time": "2024-01-12T16:23:19.864Z"
   },
   {
    "duration": 16252,
    "start_time": "2024-01-12T16:23:28.040Z"
   },
   {
    "duration": 2420,
    "start_time": "2024-01-12T16:23:44.294Z"
   },
   {
    "duration": 11041,
    "start_time": "2024-01-12T16:23:46.715Z"
   },
   {
    "duration": 25,
    "start_time": "2024-01-12T16:23:57.758Z"
   },
   {
    "duration": 2992,
    "start_time": "2024-01-12T16:23:57.784Z"
   },
   {
    "duration": 216,
    "start_time": "2024-01-12T16:24:00.778Z"
   },
   {
    "duration": 4063,
    "start_time": "2024-01-12T16:24:00.996Z"
   },
   {
    "duration": 198,
    "start_time": "2024-01-12T16:24:05.061Z"
   },
   {
    "duration": 560,
    "start_time": "2024-01-12T16:24:05.261Z"
   },
   {
    "duration": 7,
    "start_time": "2024-01-12T16:24:05.822Z"
   },
   {
    "duration": 21,
    "start_time": "2024-01-12T16:24:05.830Z"
   },
   {
    "duration": 394,
    "start_time": "2024-01-12T16:24:05.854Z"
   },
   {
    "duration": 12253,
    "start_time": "2024-01-12T16:24:06.251Z"
   },
   {
    "duration": 173,
    "start_time": "2024-01-12T16:24:18.506Z"
   },
   {
    "duration": 433,
    "start_time": "2024-01-12T16:24:18.681Z"
   },
   {
    "duration": 145,
    "start_time": "2024-01-12T16:24:19.115Z"
   },
   {
    "duration": 7119,
    "start_time": "2024-01-12T16:24:19.262Z"
   },
   {
    "duration": 204,
    "start_time": "2024-01-12T16:24:26.382Z"
   },
   {
    "duration": 44,
    "start_time": "2024-01-12T16:24:26.588Z"
   },
   {
    "duration": 203,
    "start_time": "2024-01-12T16:24:26.634Z"
   },
   {
    "duration": 258,
    "start_time": "2024-01-12T16:24:26.845Z"
   },
   {
    "duration": 108,
    "start_time": "2024-01-12T16:24:27.105Z"
   },
   {
    "duration": 243,
    "start_time": "2024-01-12T16:24:27.214Z"
   },
   {
    "duration": 44,
    "start_time": "2024-01-12T16:24:27.459Z"
   },
   {
    "duration": 46,
    "start_time": "2024-01-12T16:24:27.504Z"
   },
   {
    "duration": 57,
    "start_time": "2024-01-12T16:24:27.552Z"
   },
   {
    "duration": 70,
    "start_time": "2024-01-12T16:24:27.610Z"
   },
   {
    "duration": 67,
    "start_time": "2024-01-12T16:24:27.681Z"
   },
   {
    "duration": 49,
    "start_time": "2024-01-12T16:24:27.750Z"
   },
   {
    "duration": 37,
    "start_time": "2024-01-12T16:24:27.801Z"
   },
   {
    "duration": 61,
    "start_time": "2024-01-12T16:24:27.839Z"
   },
   {
    "duration": 30,
    "start_time": "2024-01-12T16:24:27.902Z"
   },
   {
    "duration": 47,
    "start_time": "2024-01-12T16:24:27.933Z"
   },
   {
    "duration": 53,
    "start_time": "2024-01-12T16:24:27.982Z"
   },
   {
    "duration": 169,
    "start_time": "2024-01-12T16:24:28.037Z"
   },
   {
    "duration": 44,
    "start_time": "2024-01-12T16:24:28.208Z"
   },
   {
    "duration": 83,
    "start_time": "2024-01-12T16:24:28.254Z"
   },
   {
    "duration": 45,
    "start_time": "2024-01-12T16:24:28.339Z"
   },
   {
    "duration": 51,
    "start_time": "2024-01-12T16:24:28.387Z"
   },
   {
    "duration": 50,
    "start_time": "2024-01-12T16:24:28.439Z"
   },
   {
    "duration": 37,
    "start_time": "2024-01-12T16:24:28.491Z"
   },
   {
    "duration": 164,
    "start_time": "2024-01-12T16:24:28.530Z"
   },
   {
    "duration": 51,
    "start_time": "2024-01-12T16:24:28.695Z"
   },
   {
    "duration": 51,
    "start_time": "2024-01-12T16:24:28.748Z"
   },
   {
    "duration": 48,
    "start_time": "2024-01-12T16:24:28.801Z"
   },
   {
    "duration": 38,
    "start_time": "2024-01-12T16:24:28.851Z"
   },
   {
    "duration": 46,
    "start_time": "2024-01-12T16:24:28.890Z"
   },
   {
    "duration": 60,
    "start_time": "2024-01-12T16:24:28.939Z"
   },
   {
    "duration": 39,
    "start_time": "2024-01-12T16:24:29.001Z"
   },
   {
    "duration": 78,
    "start_time": "2024-01-12T16:24:29.041Z"
   },
   {
    "duration": 58,
    "start_time": "2024-01-12T16:24:29.121Z"
   },
   {
    "duration": 74,
    "start_time": "2024-01-12T16:24:51.479Z"
   },
   {
    "duration": 46,
    "start_time": "2024-01-12T16:25:49.794Z"
   },
   {
    "duration": 24,
    "start_time": "2024-01-12T16:25:59.099Z"
   },
   {
    "duration": 100,
    "start_time": "2024-01-12T16:29:17.674Z"
   },
   {
    "duration": 13,
    "start_time": "2024-01-12T16:29:49.243Z"
   },
   {
    "duration": 4,
    "start_time": "2024-01-12T16:30:02.493Z"
   },
   {
    "duration": 5,
    "start_time": "2024-01-12T16:30:10.174Z"
   },
   {
    "duration": 6,
    "start_time": "2024-01-12T16:31:13.255Z"
   },
   {
    "duration": 72,
    "start_time": "2024-01-12T16:33:20.543Z"
   },
   {
    "duration": 211,
    "start_time": "2024-01-12T16:36:32.367Z"
   },
   {
    "duration": 118,
    "start_time": "2024-01-12T16:37:13.313Z"
   },
   {
    "duration": 18,
    "start_time": "2024-01-12T16:40:18.459Z"
   },
   {
    "duration": 33,
    "start_time": "2024-01-12T16:40:40.190Z"
   },
   {
    "duration": 13,
    "start_time": "2024-01-12T16:40:58.984Z"
   },
   {
    "duration": 1214,
    "start_time": "2024-01-12T16:42:41.914Z"
   },
   {
    "duration": 7831,
    "start_time": "2024-01-12T16:42:43.130Z"
   },
   {
    "duration": 15778,
    "start_time": "2024-01-12T16:42:50.962Z"
   },
   {
    "duration": 2348,
    "start_time": "2024-01-12T16:43:06.742Z"
   },
   {
    "duration": 11213,
    "start_time": "2024-01-12T16:43:09.092Z"
   },
   {
    "duration": 17,
    "start_time": "2024-01-12T16:43:20.307Z"
   },
   {
    "duration": 2858,
    "start_time": "2024-01-12T16:43:20.326Z"
   },
   {
    "duration": 216,
    "start_time": "2024-01-12T16:43:23.186Z"
   },
   {
    "duration": 3462,
    "start_time": "2024-01-12T16:43:23.404Z"
   },
   {
    "duration": 193,
    "start_time": "2024-01-12T16:43:26.868Z"
   },
   {
    "duration": 311,
    "start_time": "2024-01-12T16:43:27.062Z"
   },
   {
    "duration": 6,
    "start_time": "2024-01-12T16:43:27.375Z"
   },
   {
    "duration": 10,
    "start_time": "2024-01-12T16:43:27.383Z"
   },
   {
    "duration": 418,
    "start_time": "2024-01-12T16:43:27.394Z"
   },
   {
    "duration": 12140,
    "start_time": "2024-01-12T16:43:27.814Z"
   },
   {
    "duration": 165,
    "start_time": "2024-01-12T16:43:39.955Z"
   },
   {
    "duration": 441,
    "start_time": "2024-01-12T16:43:40.122Z"
   },
   {
    "duration": 128,
    "start_time": "2024-01-12T16:43:40.564Z"
   },
   {
    "duration": 5547,
    "start_time": "2024-01-12T16:43:40.693Z"
   },
   {
    "duration": 205,
    "start_time": "2024-01-12T16:43:46.242Z"
   },
   {
    "duration": 31,
    "start_time": "2024-01-12T16:43:46.449Z"
   },
   {
    "duration": 203,
    "start_time": "2024-01-12T16:43:46.481Z"
   },
   {
    "duration": 251,
    "start_time": "2024-01-12T16:43:46.685Z"
   },
   {
    "duration": 92,
    "start_time": "2024-01-12T16:43:46.938Z"
   },
   {
    "duration": 224,
    "start_time": "2024-01-12T16:43:47.032Z"
   },
   {
    "duration": 41,
    "start_time": "2024-01-12T16:43:47.258Z"
   },
   {
    "duration": 46,
    "start_time": "2024-01-12T16:43:47.301Z"
   },
   {
    "duration": 36,
    "start_time": "2024-01-12T16:43:47.351Z"
   },
   {
    "duration": 59,
    "start_time": "2024-01-12T16:43:47.389Z"
   },
   {
    "duration": 58,
    "start_time": "2024-01-12T16:43:47.449Z"
   },
   {
    "duration": 51,
    "start_time": "2024-01-12T16:43:47.508Z"
   },
   {
    "duration": 33,
    "start_time": "2024-01-12T16:43:47.560Z"
   },
   {
    "duration": 69,
    "start_time": "2024-01-12T16:43:47.594Z"
   },
   {
    "duration": 54,
    "start_time": "2024-01-12T16:43:47.665Z"
   },
   {
    "duration": 59,
    "start_time": "2024-01-12T16:43:47.721Z"
   },
   {
    "duration": 44,
    "start_time": "2024-01-12T16:43:47.782Z"
   },
   {
    "duration": 157,
    "start_time": "2024-01-12T16:43:47.828Z"
   },
   {
    "duration": 34,
    "start_time": "2024-01-12T16:43:47.986Z"
   },
   {
    "duration": 58,
    "start_time": "2024-01-12T16:43:48.022Z"
   },
   {
    "duration": 41,
    "start_time": "2024-01-12T16:43:48.082Z"
   },
   {
    "duration": 52,
    "start_time": "2024-01-12T16:43:48.125Z"
   },
   {
    "duration": 66,
    "start_time": "2024-01-12T16:43:48.178Z"
   },
   {
    "duration": 46,
    "start_time": "2024-01-12T16:43:48.246Z"
   },
   {
    "duration": 142,
    "start_time": "2024-01-12T16:43:48.293Z"
   },
   {
    "duration": 47,
    "start_time": "2024-01-12T16:43:48.437Z"
   },
   {
    "duration": 44,
    "start_time": "2024-01-12T16:43:48.486Z"
   },
   {
    "duration": 45,
    "start_time": "2024-01-12T16:43:48.531Z"
   },
   {
    "duration": 29,
    "start_time": "2024-01-12T16:43:48.578Z"
   },
   {
    "duration": 48,
    "start_time": "2024-01-12T16:43:48.608Z"
   },
   {
    "duration": 56,
    "start_time": "2024-01-12T16:43:48.657Z"
   },
   {
    "duration": 46,
    "start_time": "2024-01-12T16:43:48.715Z"
   },
   {
    "duration": 83,
    "start_time": "2024-01-12T16:43:48.763Z"
   },
   {
    "duration": 45,
    "start_time": "2024-01-12T16:43:48.848Z"
   },
   {
    "duration": 126,
    "start_time": "2024-01-12T16:43:48.895Z"
   },
   {
    "duration": 12,
    "start_time": "2024-01-12T16:43:49.022Z"
   },
   {
    "duration": 11,
    "start_time": "2024-01-12T16:43:49.035Z"
   },
   {
    "duration": 67,
    "start_time": "2024-01-12T16:43:49.048Z"
   },
   {
    "duration": 138,
    "start_time": "2024-01-12T16:43:49.116Z"
   },
   {
    "duration": 4,
    "start_time": "2024-01-12T16:43:49.256Z"
   },
   {
    "duration": 55,
    "start_time": "2024-01-12T16:43:49.261Z"
   },
   {
    "duration": 6,
    "start_time": "2024-01-12T16:43:49.318Z"
   },
   {
    "duration": 1270,
    "start_time": "2024-01-12T16:46:44.824Z"
   },
   {
    "duration": 20,
    "start_time": "2024-01-12T16:46:55.316Z"
   },
   {
    "duration": 22,
    "start_time": "2024-01-12T16:48:15.036Z"
   },
   {
    "duration": 15,
    "start_time": "2024-01-12T16:48:30.154Z"
   },
   {
    "duration": 18,
    "start_time": "2024-01-12T16:48:42.448Z"
   },
   {
    "duration": 98,
    "start_time": "2024-01-12T16:50:16.404Z"
   },
   {
    "duration": 10,
    "start_time": "2024-01-12T16:50:38.396Z"
   },
   {
    "duration": 8,
    "start_time": "2024-01-12T16:54:01.378Z"
   },
   {
    "duration": 17,
    "start_time": "2024-01-12T16:56:16.189Z"
   },
   {
    "duration": 15,
    "start_time": "2024-01-12T16:56:23.898Z"
   },
   {
    "duration": 75,
    "start_time": "2024-01-12T16:57:48.355Z"
   },
   {
    "duration": 53,
    "start_time": "2024-01-12T16:58:20.866Z"
   },
   {
    "duration": 79,
    "start_time": "2024-01-12T16:58:56.273Z"
   },
   {
    "duration": 79,
    "start_time": "2024-01-12T16:59:48.690Z"
   },
   {
    "duration": 47,
    "start_time": "2024-01-12T16:59:54.390Z"
   },
   {
    "duration": 53,
    "start_time": "2024-01-12T17:00:45.918Z"
   },
   {
    "duration": 88,
    "start_time": "2024-01-12T17:02:44.704Z"
   },
   {
    "duration": 2,
    "start_time": "2024-01-12T17:05:34.537Z"
   },
   {
    "duration": 214,
    "start_time": "2024-01-12T17:06:37.176Z"
   },
   {
    "duration": 17,
    "start_time": "2024-01-12T17:07:28.980Z"
   },
   {
    "duration": 128,
    "start_time": "2024-01-12T17:08:42.079Z"
   },
   {
    "duration": 95,
    "start_time": "2024-01-12T17:08:57.207Z"
   },
   {
    "duration": 195,
    "start_time": "2024-01-12T17:09:57.493Z"
   },
   {
    "duration": 78,
    "start_time": "2024-01-12T17:10:43.945Z"
   },
   {
    "duration": 34,
    "start_time": "2024-01-12T17:11:51.349Z"
   },
   {
    "duration": 37,
    "start_time": "2024-01-12T17:13:38.628Z"
   },
   {
    "duration": 95,
    "start_time": "2024-01-12T17:15:09.932Z"
   },
   {
    "duration": 208,
    "start_time": "2024-01-12T17:15:23.991Z"
   },
   {
    "duration": 1208,
    "start_time": "2024-01-13T08:32:59.273Z"
   },
   {
    "duration": 8302,
    "start_time": "2024-01-13T08:33:00.483Z"
   },
   {
    "duration": 16243,
    "start_time": "2024-01-13T08:33:08.787Z"
   },
   {
    "duration": 2339,
    "start_time": "2024-01-13T08:33:25.032Z"
   },
   {
    "duration": 11476,
    "start_time": "2024-01-13T08:33:27.373Z"
   },
   {
    "duration": 16,
    "start_time": "2024-01-13T08:33:38.851Z"
   },
   {
    "duration": 2809,
    "start_time": "2024-01-13T08:33:38.869Z"
   },
   {
    "duration": 208,
    "start_time": "2024-01-13T08:33:41.679Z"
   },
   {
    "duration": 3440,
    "start_time": "2024-01-13T08:33:41.888Z"
   },
   {
    "duration": 196,
    "start_time": "2024-01-13T08:33:45.331Z"
   },
   {
    "duration": 308,
    "start_time": "2024-01-13T08:33:45.528Z"
   },
   {
    "duration": 6,
    "start_time": "2024-01-13T08:33:45.838Z"
   },
   {
    "duration": 10,
    "start_time": "2024-01-13T08:33:45.846Z"
   },
   {
    "duration": 419,
    "start_time": "2024-01-13T08:33:45.859Z"
   },
   {
    "duration": 12477,
    "start_time": "2024-01-13T08:33:46.279Z"
   },
   {
    "duration": 171,
    "start_time": "2024-01-13T08:33:58.758Z"
   },
   {
    "duration": 435,
    "start_time": "2024-01-13T08:33:58.931Z"
   },
   {
    "duration": 136,
    "start_time": "2024-01-13T08:33:59.368Z"
   },
   {
    "duration": 7794,
    "start_time": "2024-01-13T08:33:59.505Z"
   },
   {
    "duration": 219,
    "start_time": "2024-01-13T08:34:07.300Z"
   },
   {
    "duration": 36,
    "start_time": "2024-01-13T08:34:07.521Z"
   },
   {
    "duration": 209,
    "start_time": "2024-01-13T08:34:07.558Z"
   },
   {
    "duration": 263,
    "start_time": "2024-01-13T08:34:07.769Z"
   },
   {
    "duration": 94,
    "start_time": "2024-01-13T08:34:08.033Z"
   },
   {
    "duration": 224,
    "start_time": "2024-01-13T08:34:08.129Z"
   },
   {
    "duration": 43,
    "start_time": "2024-01-13T08:34:08.354Z"
   },
   {
    "duration": 28,
    "start_time": "2024-01-13T08:34:08.399Z"
   },
   {
    "duration": 39,
    "start_time": "2024-01-13T08:34:08.444Z"
   },
   {
    "duration": 49,
    "start_time": "2024-01-13T08:34:08.484Z"
   },
   {
    "duration": 54,
    "start_time": "2024-01-13T08:34:08.545Z"
   },
   {
    "duration": 48,
    "start_time": "2024-01-13T08:34:08.600Z"
   },
   {
    "duration": 36,
    "start_time": "2024-01-13T08:34:08.650Z"
   },
   {
    "duration": 44,
    "start_time": "2024-01-13T08:34:08.687Z"
   },
   {
    "duration": 36,
    "start_time": "2024-01-13T08:34:08.732Z"
   },
   {
    "duration": 46,
    "start_time": "2024-01-13T08:34:08.769Z"
   },
   {
    "duration": 34,
    "start_time": "2024-01-13T08:34:08.817Z"
   },
   {
    "duration": 135,
    "start_time": "2024-01-13T08:34:08.854Z"
   },
   {
    "duration": 26,
    "start_time": "2024-01-13T08:34:08.991Z"
   },
   {
    "duration": 69,
    "start_time": "2024-01-13T08:34:09.019Z"
   },
   {
    "duration": 32,
    "start_time": "2024-01-13T08:34:09.090Z"
   },
   {
    "duration": 54,
    "start_time": "2024-01-13T08:34:09.124Z"
   },
   {
    "duration": 56,
    "start_time": "2024-01-13T08:34:09.179Z"
   },
   {
    "duration": 39,
    "start_time": "2024-01-13T08:34:09.237Z"
   },
   {
    "duration": 119,
    "start_time": "2024-01-13T08:34:09.278Z"
   },
   {
    "duration": 33,
    "start_time": "2024-01-13T08:34:09.398Z"
   },
   {
    "duration": 46,
    "start_time": "2024-01-13T08:34:09.445Z"
   },
   {
    "duration": 30,
    "start_time": "2024-01-13T08:34:09.492Z"
   },
   {
    "duration": 30,
    "start_time": "2024-01-13T08:34:09.524Z"
   },
   {
    "duration": 35,
    "start_time": "2024-01-13T08:34:09.555Z"
   },
   {
    "duration": 55,
    "start_time": "2024-01-13T08:34:09.591Z"
   },
   {
    "duration": 40,
    "start_time": "2024-01-13T08:34:09.648Z"
   },
   {
    "duration": 69,
    "start_time": "2024-01-13T08:34:09.689Z"
   },
   {
    "duration": 41,
    "start_time": "2024-01-13T08:34:09.760Z"
   },
   {
    "duration": 126,
    "start_time": "2024-01-13T08:34:09.803Z"
   },
   {
    "duration": 15,
    "start_time": "2024-01-13T08:34:09.930Z"
   },
   {
    "duration": 10,
    "start_time": "2024-01-13T08:34:09.946Z"
   },
   {
    "duration": 67,
    "start_time": "2024-01-13T08:34:09.958Z"
   },
   {
    "duration": 143,
    "start_time": "2024-01-13T08:34:10.026Z"
   },
   {
    "duration": 4,
    "start_time": "2024-01-13T08:34:10.170Z"
   },
   {
    "duration": 60,
    "start_time": "2024-01-13T08:34:10.175Z"
   },
   {
    "duration": 10,
    "start_time": "2024-01-13T08:34:10.236Z"
   },
   {
    "duration": 30,
    "start_time": "2024-01-13T08:34:10.248Z"
   },
   {
    "duration": 33,
    "start_time": "2024-01-13T08:34:10.280Z"
   },
   {
    "duration": 26,
    "start_time": "2024-01-13T08:34:10.314Z"
   },
   {
    "duration": 27,
    "start_time": "2024-01-13T08:34:10.341Z"
   },
   {
    "duration": 25,
    "start_time": "2024-01-13T08:34:10.369Z"
   },
   {
    "duration": 24,
    "start_time": "2024-01-13T08:34:10.396Z"
   },
   {
    "duration": 15,
    "start_time": "2024-01-13T08:34:10.421Z"
   },
   {
    "duration": 62,
    "start_time": "2024-01-13T08:34:10.438Z"
   },
   {
    "duration": 107,
    "start_time": "2024-01-13T08:34:10.501Z"
   },
   {
    "duration": 37,
    "start_time": "2024-01-13T08:34:10.609Z"
   },
   {
    "duration": 62,
    "start_time": "2024-01-13T08:34:10.648Z"
   },
   {
    "duration": 117,
    "start_time": "2024-01-13T08:34:10.712Z"
   },
   {
    "duration": 5,
    "start_time": "2024-01-13T08:34:10.830Z"
   },
   {
    "duration": 42,
    "start_time": "2024-01-13T08:34:10.836Z"
   },
   {
    "duration": 152,
    "start_time": "2024-01-13T08:34:10.880Z"
   },
   {
    "duration": 202,
    "start_time": "2024-01-13T08:34:11.033Z"
   },
   {
    "duration": 91,
    "start_time": "2024-01-13T08:34:11.236Z"
   },
   {
    "duration": 207,
    "start_time": "2024-01-13T08:34:11.328Z"
   },
   {
    "duration": 191,
    "start_time": "2024-01-13T08:34:11.536Z"
   },
   {
    "duration": 17,
    "start_time": "2024-01-13T08:34:11.729Z"
   },
   {
    "duration": 373,
    "start_time": "2024-01-13T08:34:11.753Z"
   },
   {
    "duration": 7,
    "start_time": "2024-01-13T08:35:06.613Z"
   },
   {
    "duration": 198,
    "start_time": "2024-01-13T08:35:07.418Z"
   },
   {
    "duration": 183,
    "start_time": "2024-01-13T08:35:12.768Z"
   },
   {
    "duration": 361,
    "start_time": "2024-01-13T08:35:52.954Z"
   },
   {
    "duration": 351,
    "start_time": "2024-01-13T08:36:03.355Z"
   },
   {
    "duration": 64,
    "start_time": "2024-01-13T08:36:40.624Z"
   },
   {
    "duration": 447,
    "start_time": "2024-01-13T08:37:56.561Z"
   },
   {
    "duration": 686,
    "start_time": "2024-01-13T08:37:57.359Z"
   },
   {
    "duration": 7,
    "start_time": "2024-01-13T08:38:23.356Z"
   },
   {
    "duration": 98,
    "start_time": "2024-01-13T08:39:00.106Z"
   },
   {
    "duration": 87,
    "start_time": "2024-01-13T08:39:38.999Z"
   },
   {
    "duration": 5293,
    "start_time": "2024-01-13T08:41:11.717Z"
   },
   {
    "duration": 353,
    "start_time": "2024-01-13T08:48:17.734Z"
   },
   {
    "duration": 103,
    "start_time": "2024-01-13T08:56:43.014Z"
   },
   {
    "duration": 3,
    "start_time": "2024-01-13T08:57:00.955Z"
   },
   {
    "duration": 20,
    "start_time": "2024-01-13T08:57:09.439Z"
   },
   {
    "duration": 256,
    "start_time": "2024-01-13T08:58:56.050Z"
   },
   {
    "duration": 17,
    "start_time": "2024-01-13T08:59:27.202Z"
   },
   {
    "duration": 9,
    "start_time": "2024-01-13T08:59:46.061Z"
   },
   {
    "duration": 13,
    "start_time": "2024-01-13T09:00:00.384Z"
   },
   {
    "duration": 8,
    "start_time": "2024-01-13T09:11:48.858Z"
   },
   {
    "duration": 12,
    "start_time": "2024-01-13T09:11:53.558Z"
   },
   {
    "duration": 74,
    "start_time": "2024-01-13T09:12:45.155Z"
   },
   {
    "duration": 9,
    "start_time": "2024-01-13T09:12:52.161Z"
   },
   {
    "duration": 3,
    "start_time": "2024-01-13T09:12:58.565Z"
   },
   {
    "duration": 11,
    "start_time": "2024-01-13T09:13:03.802Z"
   },
   {
    "duration": 9,
    "start_time": "2024-01-13T09:13:07.399Z"
   },
   {
    "duration": 13,
    "start_time": "2024-01-13T09:13:24.257Z"
   },
   {
    "duration": 15,
    "start_time": "2024-01-13T09:13:37.748Z"
   },
   {
    "duration": 10,
    "start_time": "2024-01-13T09:13:52.975Z"
   },
   {
    "duration": 13,
    "start_time": "2024-01-13T09:13:56.915Z"
   },
   {
    "duration": 27,
    "start_time": "2024-01-13T09:17:34.375Z"
   },
   {
    "duration": 29,
    "start_time": "2024-01-13T09:18:14.186Z"
   },
   {
    "duration": 74,
    "start_time": "2024-01-13T09:18:15.885Z"
   },
   {
    "duration": 33,
    "start_time": "2024-01-13T09:18:23.331Z"
   },
   {
    "duration": 26,
    "start_time": "2024-01-13T09:18:26.377Z"
   },
   {
    "duration": 28,
    "start_time": "2024-01-13T09:18:30.860Z"
   },
   {
    "duration": 28,
    "start_time": "2024-01-13T09:19:19.905Z"
   },
   {
    "duration": 32,
    "start_time": "2024-01-13T09:19:23.131Z"
   },
   {
    "duration": 27,
    "start_time": "2024-01-13T09:19:26.278Z"
   },
   {
    "duration": 4,
    "start_time": "2024-01-13T09:24:18.065Z"
   },
   {
    "duration": 52,
    "start_time": "2024-01-13T09:26:06.986Z"
   },
   {
    "duration": 75,
    "start_time": "2024-01-13T09:27:07.370Z"
   },
   {
    "duration": 8,
    "start_time": "2024-01-13T09:27:12.259Z"
   },
   {
    "duration": 132,
    "start_time": "2024-01-13T09:27:34.677Z"
   },
   {
    "duration": 3,
    "start_time": "2024-01-13T09:30:04.200Z"
   },
   {
    "duration": 28,
    "start_time": "2024-01-13T09:30:13.113Z"
   },
   {
    "duration": 1425,
    "start_time": "2024-01-13T09:30:58.558Z"
   },
   {
    "duration": 8741,
    "start_time": "2024-01-13T09:30:59.985Z"
   },
   {
    "duration": 16163,
    "start_time": "2024-01-13T09:31:08.727Z"
   },
   {
    "duration": 2472,
    "start_time": "2024-01-13T09:31:24.891Z"
   },
   {
    "duration": 12460,
    "start_time": "2024-01-13T09:31:27.365Z"
   },
   {
    "duration": 33,
    "start_time": "2024-01-13T09:31:39.826Z"
   },
   {
    "duration": 2940,
    "start_time": "2024-01-13T09:31:39.861Z"
   },
   {
    "duration": 226,
    "start_time": "2024-01-13T09:31:42.803Z"
   },
   {
    "duration": 3541,
    "start_time": "2024-01-13T09:31:43.031Z"
   },
   {
    "duration": 205,
    "start_time": "2024-01-13T09:31:46.575Z"
   },
   {
    "duration": 326,
    "start_time": "2024-01-13T09:31:46.781Z"
   },
   {
    "duration": 6,
    "start_time": "2024-01-13T09:31:47.109Z"
   },
   {
    "duration": 44,
    "start_time": "2024-01-13T09:31:47.116Z"
   },
   {
    "duration": 413,
    "start_time": "2024-01-13T09:31:47.162Z"
   },
   {
    "duration": 14921,
    "start_time": "2024-01-13T09:31:47.576Z"
   },
   {
    "duration": 187,
    "start_time": "2024-01-13T09:32:02.498Z"
   },
   {
    "duration": 482,
    "start_time": "2024-01-13T09:32:02.686Z"
   },
   {
    "duration": 129,
    "start_time": "2024-01-13T09:32:03.169Z"
   },
   {
    "duration": 8136,
    "start_time": "2024-01-13T09:32:03.299Z"
   },
   {
    "duration": 206,
    "start_time": "2024-01-13T09:32:11.437Z"
   },
   {
    "duration": 39,
    "start_time": "2024-01-13T09:32:11.653Z"
   },
   {
    "duration": 216,
    "start_time": "2024-01-13T09:32:11.693Z"
   },
   {
    "duration": 239,
    "start_time": "2024-01-13T09:32:11.911Z"
   },
   {
    "duration": 89,
    "start_time": "2024-01-13T09:32:12.152Z"
   },
   {
    "duration": 217,
    "start_time": "2024-01-13T09:32:12.246Z"
   },
   {
    "duration": 40,
    "start_time": "2024-01-13T09:32:12.464Z"
   },
   {
    "duration": 50,
    "start_time": "2024-01-13T09:32:12.506Z"
   },
   {
    "duration": 36,
    "start_time": "2024-01-13T09:32:12.560Z"
   },
   {
    "duration": 72,
    "start_time": "2024-01-13T09:32:12.597Z"
   },
   {
    "duration": 68,
    "start_time": "2024-01-13T09:32:12.671Z"
   },
   {
    "duration": 51,
    "start_time": "2024-01-13T09:32:12.740Z"
   },
   {
    "duration": 33,
    "start_time": "2024-01-13T09:32:12.792Z"
   },
   {
    "duration": 39,
    "start_time": "2024-01-13T09:32:12.826Z"
   },
   {
    "duration": 25,
    "start_time": "2024-01-13T09:32:12.866Z"
   },
   {
    "duration": 40,
    "start_time": "2024-01-13T09:32:12.893Z"
   },
   {
    "duration": 33,
    "start_time": "2024-01-13T09:32:12.946Z"
   },
   {
    "duration": 149,
    "start_time": "2024-01-13T09:32:12.980Z"
   },
   {
    "duration": 35,
    "start_time": "2024-01-13T09:32:13.131Z"
   },
   {
    "duration": 64,
    "start_time": "2024-01-13T09:32:13.167Z"
   },
   {
    "duration": 46,
    "start_time": "2024-01-13T09:32:13.233Z"
   },
   {
    "duration": 40,
    "start_time": "2024-01-13T09:32:13.280Z"
   },
   {
    "duration": 63,
    "start_time": "2024-01-13T09:32:13.321Z"
   },
   {
    "duration": 40,
    "start_time": "2024-01-13T09:32:13.386Z"
   },
   {
    "duration": 157,
    "start_time": "2024-01-13T09:32:13.427Z"
   },
   {
    "duration": 34,
    "start_time": "2024-01-13T09:32:13.585Z"
   },
   {
    "duration": 58,
    "start_time": "2024-01-13T09:32:13.620Z"
   },
   {
    "duration": 57,
    "start_time": "2024-01-13T09:32:13.680Z"
   },
   {
    "duration": 32,
    "start_time": "2024-01-13T09:32:13.739Z"
   },
   {
    "duration": 40,
    "start_time": "2024-01-13T09:32:13.772Z"
   },
   {
    "duration": 91,
    "start_time": "2024-01-13T09:32:13.814Z"
   },
   {
    "duration": 51,
    "start_time": "2024-01-13T09:32:13.907Z"
   },
   {
    "duration": 53,
    "start_time": "2024-01-13T09:32:13.960Z"
   },
   {
    "duration": 45,
    "start_time": "2024-01-13T09:32:14.014Z"
   },
   {
    "duration": 103,
    "start_time": "2024-01-13T09:32:14.060Z"
   },
   {
    "duration": 11,
    "start_time": "2024-01-13T09:32:14.164Z"
   },
   {
    "duration": 12,
    "start_time": "2024-01-13T09:32:14.177Z"
   },
   {
    "duration": 75,
    "start_time": "2024-01-13T09:32:14.190Z"
   },
   {
    "duration": 123,
    "start_time": "2024-01-13T09:32:14.267Z"
   },
   {
    "duration": 3,
    "start_time": "2024-01-13T09:32:14.391Z"
   },
   {
    "duration": 71,
    "start_time": "2024-01-13T09:32:14.396Z"
   },
   {
    "duration": 8,
    "start_time": "2024-01-13T09:32:14.468Z"
   },
   {
    "duration": 21,
    "start_time": "2024-01-13T09:32:14.477Z"
   },
   {
    "duration": 33,
    "start_time": "2024-01-13T09:32:14.499Z"
   },
   {
    "duration": 30,
    "start_time": "2024-01-13T09:32:14.534Z"
   },
   {
    "duration": 10,
    "start_time": "2024-01-13T09:32:14.566Z"
   },
   {
    "duration": 12,
    "start_time": "2024-01-13T09:32:14.578Z"
   },
   {
    "duration": 33,
    "start_time": "2024-01-13T09:32:14.592Z"
   },
   {
    "duration": 13,
    "start_time": "2024-01-13T09:32:14.626Z"
   },
   {
    "duration": 64,
    "start_time": "2024-01-13T09:32:14.641Z"
   },
   {
    "duration": 89,
    "start_time": "2024-01-13T09:32:14.707Z"
   },
   {
    "duration": 31,
    "start_time": "2024-01-13T09:32:14.798Z"
   },
   {
    "duration": 58,
    "start_time": "2024-01-13T09:32:14.831Z"
   },
   {
    "duration": 104,
    "start_time": "2024-01-13T09:32:14.891Z"
   },
   {
    "duration": 3,
    "start_time": "2024-01-13T09:32:14.996Z"
   },
   {
    "duration": 56,
    "start_time": "2024-01-13T09:32:15.001Z"
   },
   {
    "duration": 165,
    "start_time": "2024-01-13T09:32:15.058Z"
   },
   {
    "duration": 200,
    "start_time": "2024-01-13T09:32:15.225Z"
   },
   {
    "duration": 89,
    "start_time": "2024-01-13T09:32:15.426Z"
   },
   {
    "duration": 5,
    "start_time": "2024-01-13T09:32:15.516Z"
   },
   {
    "duration": 198,
    "start_time": "2024-01-13T09:32:15.522Z"
   },
   {
    "duration": 202,
    "start_time": "2024-01-13T09:32:15.721Z"
   },
   {
    "duration": 361,
    "start_time": "2024-01-13T09:32:15.927Z"
   },
   {
    "duration": 567,
    "start_time": "2024-01-13T09:32:16.290Z"
   },
   {
    "duration": 223,
    "start_time": "2024-01-13T09:32:16.859Z"
   },
   {
    "duration": 5,
    "start_time": "2024-01-13T09:32:17.084Z"
   },
   {
    "duration": 105,
    "start_time": "2024-01-13T09:32:17.090Z"
   },
   {
    "duration": 5,
    "start_time": "2024-01-13T09:32:17.196Z"
   },
   {
    "duration": 197,
    "start_time": "2024-01-13T09:32:17.202Z"
   },
   {
    "duration": 28,
    "start_time": "2024-01-13T09:32:17.401Z"
   },
   {
    "duration": 3,
    "start_time": "2024-01-13T09:32:45.536Z"
   },
   {
    "duration": 1006,
    "start_time": "2024-01-13T09:33:40.038Z"
   },
   {
    "duration": 88,
    "start_time": "2024-01-13T09:38:55.299Z"
   },
   {
    "duration": 98,
    "start_time": "2024-01-13T09:48:54.293Z"
   },
   {
    "duration": 12,
    "start_time": "2024-01-13T09:49:17.216Z"
   },
   {
    "duration": 3,
    "start_time": "2024-01-13T09:49:22.538Z"
   },
   {
    "duration": 9,
    "start_time": "2024-01-13T09:49:30.133Z"
   },
   {
    "duration": 11,
    "start_time": "2024-01-13T09:49:57.467Z"
   },
   {
    "duration": 10,
    "start_time": "2024-01-13T09:50:18.847Z"
   },
   {
    "duration": 9,
    "start_time": "2024-01-13T09:52:47.237Z"
   },
   {
    "duration": 20,
    "start_time": "2024-01-13T09:53:02.412Z"
   },
   {
    "duration": 2,
    "start_time": "2024-01-13T09:53:10.749Z"
   },
   {
    "duration": 12,
    "start_time": "2024-01-13T09:53:11.987Z"
   },
   {
    "duration": 4,
    "start_time": "2024-01-13T09:53:21.564Z"
   },
   {
    "duration": 31,
    "start_time": "2024-01-13T09:53:23.744Z"
   },
   {
    "duration": 3,
    "start_time": "2024-01-13T09:54:27.785Z"
   },
   {
    "duration": 4,
    "start_time": "2024-01-13T09:54:28.565Z"
   },
   {
    "duration": 25,
    "start_time": "2024-01-13T09:54:43.995Z"
   },
   {
    "duration": 4,
    "start_time": "2024-01-13T09:57:02.249Z"
   },
   {
    "duration": 147409,
    "start_time": "2024-01-13T09:57:02.938Z"
   },
   {
    "duration": 17,
    "start_time": "2024-01-13T09:59:49.281Z"
   },
   {
    "duration": 8,
    "start_time": "2024-01-13T10:01:47.118Z"
   },
   {
    "duration": 3,
    "start_time": "2024-01-13T10:01:52.668Z"
   },
   {
    "duration": 8,
    "start_time": "2024-01-13T10:02:02.939Z"
   },
   {
    "duration": 10,
    "start_time": "2024-01-13T10:03:16.390Z"
   },
   {
    "duration": 8,
    "start_time": "2024-01-13T10:03:54.907Z"
   },
   {
    "duration": 3,
    "start_time": "2024-01-13T10:04:38.258Z"
   },
   {
    "duration": 3,
    "start_time": "2024-01-13T10:05:31.326Z"
   },
   {
    "duration": 3,
    "start_time": "2024-01-13T10:05:32.275Z"
   },
   {
    "duration": 9,
    "start_time": "2024-01-13T10:05:33.104Z"
   },
   {
    "duration": 8,
    "start_time": "2024-01-13T10:05:38.345Z"
   },
   {
    "duration": 1998471,
    "start_time": "2024-01-13T10:05:44.090Z"
   },
   {
    "duration": 0,
    "start_time": "2024-01-13T10:39:02.563Z"
   },
   {
    "duration": 0,
    "start_time": "2024-01-13T10:39:02.565Z"
   },
   {
    "duration": 5,
    "start_time": "2024-01-13T10:39:12.679Z"
   },
   {
    "duration": 687288,
    "start_time": "2024-01-13T10:39:14.365Z"
   },
   {
    "duration": 191,
    "start_time": "2024-01-13T10:50:41.655Z"
   },
   {
    "duration": 25,
    "start_time": "2024-01-13T10:50:54.487Z"
   },
   {
    "duration": 2,
    "start_time": "2024-01-13T10:50:59.545Z"
   },
   {
    "duration": 3,
    "start_time": "2024-01-13T10:51:00.189Z"
   },
   {
    "duration": 2,
    "start_time": "2024-01-13T10:51:00.807Z"
   },
   {
    "duration": 622227,
    "start_time": "2024-01-13T10:51:01.327Z"
   },
   {
    "duration": 99,
    "start_time": "2024-01-13T11:01:23.556Z"
   },
   {
    "duration": 383,
    "start_time": "2024-01-13T11:11:29.432Z"
   },
   {
    "duration": 40,
    "start_time": "2024-01-13T11:11:47.478Z"
   },
   {
    "duration": 9,
    "start_time": "2024-01-13T11:15:56.416Z"
   },
   {
    "duration": 9,
    "start_time": "2024-01-13T11:16:01.744Z"
   },
   {
    "duration": 166,
    "start_time": "2024-01-13T11:16:28.748Z"
   },
   {
    "duration": 83,
    "start_time": "2024-01-13T11:16:39.135Z"
   },
   {
    "duration": 29,
    "start_time": "2024-01-13T11:18:17.704Z"
   },
   {
    "duration": 26,
    "start_time": "2024-01-13T11:18:23.078Z"
   },
   {
    "duration": 862,
    "start_time": "2024-01-13T11:18:27.612Z"
   },
   {
    "duration": 39,
    "start_time": "2024-01-13T11:18:34.862Z"
   },
   {
    "duration": 2,
    "start_time": "2024-01-13T11:18:36.680Z"
   },
   {
    "duration": 71,
    "start_time": "2024-01-13T11:18:39.006Z"
   },
   {
    "duration": 4,
    "start_time": "2024-01-13T11:18:45.854Z"
   },
   {
    "duration": 4,
    "start_time": "2024-01-13T11:18:47.842Z"
   },
   {
    "duration": 21,
    "start_time": "2024-01-13T11:18:50.634Z"
   },
   {
    "duration": 10,
    "start_time": "2024-01-13T11:23:27.824Z"
   },
   {
    "duration": 126,
    "start_time": "2024-01-13T11:23:39.693Z"
   },
   {
    "duration": 25,
    "start_time": "2024-01-13T11:23:41.325Z"
   },
   {
    "duration": 819,
    "start_time": "2024-01-13T11:23:43.956Z"
   },
   {
    "duration": 35,
    "start_time": "2024-01-13T11:23:49.462Z"
   },
   {
    "duration": 2,
    "start_time": "2024-01-13T11:23:50.525Z"
   },
   {
    "duration": 4,
    "start_time": "2024-01-13T11:23:51.136Z"
   },
   {
    "duration": 4,
    "start_time": "2024-01-13T11:23:52.639Z"
   },
   {
    "duration": 23,
    "start_time": "2024-01-13T11:23:54.797Z"
   },
   {
    "duration": 4,
    "start_time": "2024-01-13T11:25:53.364Z"
   },
   {
    "duration": 15,
    "start_time": "2024-01-13T11:25:54.556Z"
   },
   {
    "duration": 24,
    "start_time": "2024-01-13T11:26:05.722Z"
   },
   {
    "duration": 53,
    "start_time": "2024-01-13T11:26:13.012Z"
   },
   {
    "duration": 136,
    "start_time": "2024-01-13T11:26:21.828Z"
   },
   {
    "duration": 449,
    "start_time": "2024-01-13T11:26:28.506Z"
   },
   {
    "duration": 3941,
    "start_time": "2024-01-13T11:26:45.208Z"
   },
   {
    "duration": 42380,
    "start_time": "2024-01-13T11:27:01.772Z"
   },
   {
    "duration": 73,
    "start_time": "2024-01-13T11:34:14.291Z"
   },
   {
    "duration": 77,
    "start_time": "2024-01-13T11:34:38.823Z"
   },
   {
    "duration": 57,
    "start_time": "2024-01-13T11:35:48.593Z"
   },
   {
    "duration": 89,
    "start_time": "2024-01-13T11:39:34.857Z"
   },
   {
    "duration": 108,
    "start_time": "2024-01-13T11:39:46.038Z"
   },
   {
    "duration": 11,
    "start_time": "2024-01-13T11:47:36.880Z"
   },
   {
    "duration": 10,
    "start_time": "2024-01-13T11:47:50.511Z"
   },
   {
    "duration": 3,
    "start_time": "2024-01-13T11:48:41.020Z"
   },
   {
    "duration": 336,
    "start_time": "2024-01-13T11:48:45.451Z"
   },
   {
    "duration": 11,
    "start_time": "2024-01-13T11:56:21.166Z"
   },
   {
    "duration": 11,
    "start_time": "2024-01-13T11:57:25.402Z"
   },
   {
    "duration": 1181,
    "start_time": "2024-01-13T11:58:32.688Z"
   },
   {
    "duration": 191,
    "start_time": "2024-01-13T11:59:45.238Z"
   },
   {
    "duration": 13,
    "start_time": "2024-01-13T12:02:45.700Z"
   },
   {
    "duration": 4749,
    "start_time": "2024-01-13T12:02:58.134Z"
   },
   {
    "duration": 570,
    "start_time": "2024-01-13T12:03:06.669Z"
   },
   {
    "duration": 2553,
    "start_time": "2024-01-13T12:03:20.010Z"
   },
   {
    "duration": 22404,
    "start_time": "2024-01-13T12:03:48.724Z"
   },
   {
    "duration": 43,
    "start_time": "2024-01-13T12:05:51.769Z"
   },
   {
    "duration": 11,
    "start_time": "2024-01-13T12:06:03.889Z"
   },
   {
    "duration": 22065,
    "start_time": "2024-01-13T12:10:20.916Z"
   },
   {
    "duration": 15,
    "start_time": "2024-01-13T12:13:06.925Z"
   },
   {
    "duration": 548,
    "start_time": "2024-01-13T12:13:54.206Z"
   },
   {
    "duration": 750,
    "start_time": "2024-01-13T12:14:39.420Z"
   },
   {
    "duration": 593,
    "start_time": "2024-01-13T12:15:39.244Z"
   },
   {
    "duration": 99,
    "start_time": "2024-01-13T12:22:16.368Z"
   },
   {
    "duration": 20,
    "start_time": "2024-01-13T12:23:51.449Z"
   },
   {
    "duration": 11,
    "start_time": "2024-01-13T12:29:11.982Z"
   },
   {
    "duration": 10,
    "start_time": "2024-01-13T12:29:34.395Z"
   },
   {
    "duration": 3,
    "start_time": "2024-01-13T12:30:47.363Z"
   },
   {
    "duration": 11,
    "start_time": "2024-01-13T12:31:03.747Z"
   },
   {
    "duration": 46,
    "start_time": "2024-01-13T12:31:25.788Z"
   },
   {
    "duration": 1397,
    "start_time": "2024-01-13T12:31:37.459Z"
   },
   {
    "duration": 24054,
    "start_time": "2024-01-13T12:33:02.411Z"
   },
   {
    "duration": 21251,
    "start_time": "2024-01-13T12:33:53.338Z"
   },
   {
    "duration": 10,
    "start_time": "2024-01-13T12:34:49.369Z"
   },
   {
    "duration": 10,
    "start_time": "2024-01-13T12:34:56.088Z"
   },
   {
    "duration": 11,
    "start_time": "2024-01-13T12:35:02.935Z"
   },
   {
    "duration": 530,
    "start_time": "2024-01-13T12:35:08.586Z"
   },
   {
    "duration": 584,
    "start_time": "2024-01-13T12:35:20.632Z"
   },
   {
    "duration": 221,
    "start_time": "2024-01-13T12:41:24.016Z"
   },
   {
    "duration": 27,
    "start_time": "2024-01-13T12:41:25.275Z"
   },
   {
    "duration": 866,
    "start_time": "2024-01-13T12:41:29.408Z"
   },
   {
    "duration": 2,
    "start_time": "2024-01-13T12:41:40.465Z"
   },
   {
    "duration": 3,
    "start_time": "2024-01-13T12:41:41.784Z"
   },
   {
    "duration": 2,
    "start_time": "2024-01-13T12:41:42.823Z"
   },
   {
    "duration": 615040,
    "start_time": "2024-01-13T12:41:44.817Z"
   },
   {
    "duration": 711,
    "start_time": "2024-01-13T12:52:42.184Z"
   },
   {
    "duration": 539,
    "start_time": "2024-01-13T12:53:23.071Z"
   },
   {
    "duration": 74,
    "start_time": "2024-01-13T13:06:08.665Z"
   },
   {
    "duration": 15,
    "start_time": "2024-01-13T13:06:14.681Z"
   },
   {
    "duration": 180,
    "start_time": "2024-01-13T13:09:40.903Z"
   },
   {
    "duration": 186,
    "start_time": "2024-01-13T13:11:32.612Z"
   },
   {
    "duration": 191,
    "start_time": "2024-01-13T13:11:40.991Z"
   },
   {
    "duration": 182,
    "start_time": "2024-01-13T13:12:01.733Z"
   },
   {
    "duration": 187,
    "start_time": "2024-01-13T13:12:06.839Z"
   },
   {
    "duration": 78,
    "start_time": "2024-01-13T13:15:06.854Z"
   },
   {
    "duration": 2331,
    "start_time": "2024-01-13T13:26:43.914Z"
   },
   {
    "duration": 2386,
    "start_time": "2024-01-13T13:26:46.247Z"
   },
   {
    "duration": 151,
    "start_time": "2024-01-13T13:26:48.635Z"
   },
   {
    "duration": 0,
    "start_time": "2024-01-13T13:26:48.790Z"
   },
   {
    "duration": 0,
    "start_time": "2024-01-13T13:26:48.791Z"
   },
   {
    "duration": 0,
    "start_time": "2024-01-13T13:26:48.792Z"
   },
   {
    "duration": 0,
    "start_time": "2024-01-13T13:26:48.793Z"
   },
   {
    "duration": 0,
    "start_time": "2024-01-13T13:26:48.795Z"
   },
   {
    "duration": 0,
    "start_time": "2024-01-13T13:26:48.796Z"
   },
   {
    "duration": 0,
    "start_time": "2024-01-13T13:26:48.797Z"
   },
   {
    "duration": 0,
    "start_time": "2024-01-13T13:26:48.798Z"
   },
   {
    "duration": 0,
    "start_time": "2024-01-13T13:26:48.798Z"
   },
   {
    "duration": 0,
    "start_time": "2024-01-13T13:26:48.799Z"
   },
   {
    "duration": 0,
    "start_time": "2024-01-13T13:26:48.800Z"
   },
   {
    "duration": 0,
    "start_time": "2024-01-13T13:26:48.801Z"
   },
   {
    "duration": 0,
    "start_time": "2024-01-13T13:26:48.802Z"
   },
   {
    "duration": 0,
    "start_time": "2024-01-13T13:26:48.803Z"
   },
   {
    "duration": 0,
    "start_time": "2024-01-13T13:26:48.803Z"
   },
   {
    "duration": 0,
    "start_time": "2024-01-13T13:26:48.804Z"
   },
   {
    "duration": 0,
    "start_time": "2024-01-13T13:26:48.805Z"
   },
   {
    "duration": 0,
    "start_time": "2024-01-13T13:26:48.806Z"
   },
   {
    "duration": 0,
    "start_time": "2024-01-13T13:26:48.807Z"
   },
   {
    "duration": 0,
    "start_time": "2024-01-13T13:26:48.808Z"
   },
   {
    "duration": 0,
    "start_time": "2024-01-13T13:26:48.809Z"
   },
   {
    "duration": 0,
    "start_time": "2024-01-13T13:26:48.809Z"
   },
   {
    "duration": 0,
    "start_time": "2024-01-13T13:26:48.810Z"
   },
   {
    "duration": 0,
    "start_time": "2024-01-13T13:26:48.811Z"
   },
   {
    "duration": 0,
    "start_time": "2024-01-13T13:26:48.812Z"
   },
   {
    "duration": 0,
    "start_time": "2024-01-13T13:26:48.845Z"
   },
   {
    "duration": 0,
    "start_time": "2024-01-13T13:26:48.846Z"
   },
   {
    "duration": 0,
    "start_time": "2024-01-13T13:26:48.847Z"
   },
   {
    "duration": 0,
    "start_time": "2024-01-13T13:26:48.847Z"
   },
   {
    "duration": 0,
    "start_time": "2024-01-13T13:26:48.848Z"
   },
   {
    "duration": 0,
    "start_time": "2024-01-13T13:26:48.849Z"
   },
   {
    "duration": 0,
    "start_time": "2024-01-13T13:26:48.850Z"
   },
   {
    "duration": 0,
    "start_time": "2024-01-13T13:26:48.851Z"
   },
   {
    "duration": 0,
    "start_time": "2024-01-13T13:26:48.852Z"
   },
   {
    "duration": 0,
    "start_time": "2024-01-13T13:26:48.852Z"
   },
   {
    "duration": 0,
    "start_time": "2024-01-13T13:26:48.853Z"
   },
   {
    "duration": 0,
    "start_time": "2024-01-13T13:26:48.854Z"
   },
   {
    "duration": 0,
    "start_time": "2024-01-13T13:26:48.855Z"
   },
   {
    "duration": 0,
    "start_time": "2024-01-13T13:26:48.856Z"
   },
   {
    "duration": 0,
    "start_time": "2024-01-13T13:26:48.856Z"
   },
   {
    "duration": 0,
    "start_time": "2024-01-13T13:26:48.857Z"
   },
   {
    "duration": 0,
    "start_time": "2024-01-13T13:26:48.859Z"
   },
   {
    "duration": 0,
    "start_time": "2024-01-13T13:26:48.860Z"
   },
   {
    "duration": 0,
    "start_time": "2024-01-13T13:26:48.860Z"
   },
   {
    "duration": 0,
    "start_time": "2024-01-13T13:26:48.861Z"
   },
   {
    "duration": 0,
    "start_time": "2024-01-13T13:26:48.862Z"
   },
   {
    "duration": 0,
    "start_time": "2024-01-13T13:26:48.863Z"
   },
   {
    "duration": 0,
    "start_time": "2024-01-13T13:26:48.864Z"
   },
   {
    "duration": 0,
    "start_time": "2024-01-13T13:26:48.864Z"
   },
   {
    "duration": 0,
    "start_time": "2024-01-13T13:26:48.865Z"
   },
   {
    "duration": 0,
    "start_time": "2024-01-13T13:26:48.866Z"
   },
   {
    "duration": 0,
    "start_time": "2024-01-13T13:26:48.867Z"
   },
   {
    "duration": 0,
    "start_time": "2024-01-13T13:26:48.868Z"
   },
   {
    "duration": 0,
    "start_time": "2024-01-13T13:26:48.869Z"
   },
   {
    "duration": 0,
    "start_time": "2024-01-13T13:26:48.870Z"
   },
   {
    "duration": 0,
    "start_time": "2024-01-13T13:26:48.870Z"
   },
   {
    "duration": 0,
    "start_time": "2024-01-13T13:26:48.871Z"
   },
   {
    "duration": 0,
    "start_time": "2024-01-13T13:26:48.872Z"
   },
   {
    "duration": 0,
    "start_time": "2024-01-13T13:26:48.873Z"
   },
   {
    "duration": 0,
    "start_time": "2024-01-13T13:26:48.874Z"
   },
   {
    "duration": 0,
    "start_time": "2024-01-13T13:26:48.874Z"
   },
   {
    "duration": 0,
    "start_time": "2024-01-13T13:26:48.875Z"
   },
   {
    "duration": 0,
    "start_time": "2024-01-13T13:26:48.876Z"
   },
   {
    "duration": 0,
    "start_time": "2024-01-13T13:26:48.877Z"
   },
   {
    "duration": 0,
    "start_time": "2024-01-13T13:26:48.878Z"
   },
   {
    "duration": 0,
    "start_time": "2024-01-13T13:26:48.879Z"
   },
   {
    "duration": 0,
    "start_time": "2024-01-13T13:26:48.880Z"
   },
   {
    "duration": 0,
    "start_time": "2024-01-13T13:26:48.944Z"
   },
   {
    "duration": 0,
    "start_time": "2024-01-13T13:26:48.946Z"
   },
   {
    "duration": 0,
    "start_time": "2024-01-13T13:26:48.947Z"
   },
   {
    "duration": 0,
    "start_time": "2024-01-13T13:26:48.948Z"
   },
   {
    "duration": 0,
    "start_time": "2024-01-13T13:26:48.949Z"
   },
   {
    "duration": 0,
    "start_time": "2024-01-13T13:26:48.950Z"
   },
   {
    "duration": 0,
    "start_time": "2024-01-13T13:26:48.951Z"
   },
   {
    "duration": 0,
    "start_time": "2024-01-13T13:26:48.952Z"
   },
   {
    "duration": 0,
    "start_time": "2024-01-13T13:26:48.954Z"
   },
   {
    "duration": 0,
    "start_time": "2024-01-13T13:26:48.956Z"
   },
   {
    "duration": 0,
    "start_time": "2024-01-13T13:26:48.957Z"
   },
   {
    "duration": 0,
    "start_time": "2024-01-13T13:26:48.958Z"
   },
   {
    "duration": 0,
    "start_time": "2024-01-13T13:26:48.959Z"
   },
   {
    "duration": 0,
    "start_time": "2024-01-13T13:26:48.960Z"
   },
   {
    "duration": 0,
    "start_time": "2024-01-13T13:26:48.961Z"
   },
   {
    "duration": 0,
    "start_time": "2024-01-13T13:26:48.961Z"
   },
   {
    "duration": 0,
    "start_time": "2024-01-13T13:26:48.962Z"
   },
   {
    "duration": 0,
    "start_time": "2024-01-13T13:26:48.963Z"
   },
   {
    "duration": 0,
    "start_time": "2024-01-13T13:26:48.964Z"
   },
   {
    "duration": 1,
    "start_time": "2024-01-13T13:26:48.964Z"
   },
   {
    "duration": 0,
    "start_time": "2024-01-13T13:26:48.965Z"
   },
   {
    "duration": 0,
    "start_time": "2024-01-13T13:26:48.966Z"
   },
   {
    "duration": 0,
    "start_time": "2024-01-13T13:26:48.967Z"
   },
   {
    "duration": 0,
    "start_time": "2024-01-13T13:26:48.968Z"
   },
   {
    "duration": 0,
    "start_time": "2024-01-13T13:26:48.969Z"
   },
   {
    "duration": 1,
    "start_time": "2024-01-13T13:26:48.969Z"
   },
   {
    "duration": 0,
    "start_time": "2024-01-13T13:26:48.970Z"
   },
   {
    "duration": 0,
    "start_time": "2024-01-13T13:26:48.972Z"
   },
   {
    "duration": 0,
    "start_time": "2024-01-13T13:26:48.972Z"
   },
   {
    "duration": 0,
    "start_time": "2024-01-13T13:26:48.973Z"
   },
   {
    "duration": 0,
    "start_time": "2024-01-13T13:26:48.974Z"
   },
   {
    "duration": 0,
    "start_time": "2024-01-13T13:26:48.975Z"
   },
   {
    "duration": 0,
    "start_time": "2024-01-13T13:26:48.976Z"
   },
   {
    "duration": 0,
    "start_time": "2024-01-13T13:26:48.977Z"
   },
   {
    "duration": 0,
    "start_time": "2024-01-13T13:26:48.978Z"
   },
   {
    "duration": 0,
    "start_time": "2024-01-13T13:26:48.979Z"
   },
   {
    "duration": 0,
    "start_time": "2024-01-13T13:26:48.980Z"
   },
   {
    "duration": 0,
    "start_time": "2024-01-13T13:26:48.981Z"
   },
   {
    "duration": 0,
    "start_time": "2024-01-13T13:26:48.982Z"
   },
   {
    "duration": 0,
    "start_time": "2024-01-13T13:26:48.983Z"
   },
   {
    "duration": 2284,
    "start_time": "2024-01-13T13:27:24.838Z"
   },
   {
    "duration": 2278,
    "start_time": "2024-01-13T13:27:27.124Z"
   },
   {
    "duration": 3,
    "start_time": "2024-01-13T13:27:29.404Z"
   },
   {
    "duration": 7765,
    "start_time": "2024-01-13T13:27:29.409Z"
   },
   {
    "duration": 15582,
    "start_time": "2024-01-13T13:27:37.176Z"
   },
   {
    "duration": 2294,
    "start_time": "2024-01-13T13:27:52.760Z"
   },
   {
    "duration": 10395,
    "start_time": "2024-01-13T13:27:55.056Z"
   },
   {
    "duration": 20,
    "start_time": "2024-01-13T13:28:05.452Z"
   },
   {
    "duration": 3372,
    "start_time": "2024-01-13T13:28:05.474Z"
   },
   {
    "duration": 212,
    "start_time": "2024-01-13T13:28:08.847Z"
   },
   {
    "duration": 3584,
    "start_time": "2024-01-13T13:28:09.061Z"
   },
   {
    "duration": 182,
    "start_time": "2024-01-13T13:28:12.646Z"
   },
   {
    "duration": 312,
    "start_time": "2024-01-13T13:28:12.830Z"
   },
   {
    "duration": 6,
    "start_time": "2024-01-13T13:28:13.145Z"
   },
   {
    "duration": 12,
    "start_time": "2024-01-13T13:28:13.153Z"
   },
   {
    "duration": 353,
    "start_time": "2024-01-13T13:28:13.166Z"
   },
   {
    "duration": 12282,
    "start_time": "2024-01-13T13:28:13.520Z"
   },
   {
    "duration": 165,
    "start_time": "2024-01-13T13:28:25.804Z"
   },
   {
    "duration": 450,
    "start_time": "2024-01-13T13:28:25.970Z"
   },
   {
    "duration": 124,
    "start_time": "2024-01-13T13:28:26.421Z"
   },
   {
    "duration": 7995,
    "start_time": "2024-01-13T13:28:26.546Z"
   },
   {
    "duration": 198,
    "start_time": "2024-01-13T13:28:34.543Z"
   },
   {
    "duration": 48,
    "start_time": "2024-01-13T13:28:34.744Z"
   },
   {
    "duration": 184,
    "start_time": "2024-01-13T13:28:34.794Z"
   },
   {
    "duration": 229,
    "start_time": "2024-01-13T13:28:34.979Z"
   },
   {
    "duration": 91,
    "start_time": "2024-01-13T13:28:35.209Z"
   },
   {
    "duration": 196,
    "start_time": "2024-01-13T13:28:35.302Z"
   },
   {
    "duration": 47,
    "start_time": "2024-01-13T13:28:35.499Z"
   },
   {
    "duration": 34,
    "start_time": "2024-01-13T13:28:35.547Z"
   },
   {
    "duration": 31,
    "start_time": "2024-01-13T13:28:35.582Z"
   },
   {
    "duration": 65,
    "start_time": "2024-01-13T13:28:35.614Z"
   },
   {
    "duration": 81,
    "start_time": "2024-01-13T13:28:35.681Z"
   },
   {
    "duration": 30,
    "start_time": "2024-01-13T13:28:35.764Z"
   },
   {
    "duration": 37,
    "start_time": "2024-01-13T13:28:35.795Z"
   },
   {
    "duration": 39,
    "start_time": "2024-01-13T13:28:35.834Z"
   },
   {
    "duration": 25,
    "start_time": "2024-01-13T13:28:35.875Z"
   },
   {
    "duration": 49,
    "start_time": "2024-01-13T13:28:35.901Z"
   },
   {
    "duration": 29,
    "start_time": "2024-01-13T13:28:35.952Z"
   },
   {
    "duration": 112,
    "start_time": "2024-01-13T13:28:35.982Z"
   },
   {
    "duration": 26,
    "start_time": "2024-01-13T13:28:36.096Z"
   },
   {
    "duration": 52,
    "start_time": "2024-01-13T13:28:36.126Z"
   },
   {
    "duration": 40,
    "start_time": "2024-01-13T13:28:36.179Z"
   },
   {
    "duration": 36,
    "start_time": "2024-01-13T13:28:36.221Z"
   },
   {
    "duration": 58,
    "start_time": "2024-01-13T13:28:36.258Z"
   },
   {
    "duration": 34,
    "start_time": "2024-01-13T13:28:36.317Z"
   },
   {
    "duration": 109,
    "start_time": "2024-01-13T13:28:36.352Z"
   },
   {
    "duration": 32,
    "start_time": "2024-01-13T13:28:36.463Z"
   },
   {
    "duration": 42,
    "start_time": "2024-01-13T13:28:36.497Z"
   },
   {
    "duration": 37,
    "start_time": "2024-01-13T13:28:36.540Z"
   },
   {
    "duration": 20,
    "start_time": "2024-01-13T13:28:36.578Z"
   },
   {
    "duration": 31,
    "start_time": "2024-01-13T13:28:36.600Z"
   },
   {
    "duration": 48,
    "start_time": "2024-01-13T13:28:36.645Z"
   },
   {
    "duration": 45,
    "start_time": "2024-01-13T13:28:36.695Z"
   },
   {
    "duration": 54,
    "start_time": "2024-01-13T13:28:36.741Z"
   },
   {
    "duration": 32,
    "start_time": "2024-01-13T13:28:36.797Z"
   },
   {
    "duration": 108,
    "start_time": "2024-01-13T13:28:36.830Z"
   },
   {
    "duration": 11,
    "start_time": "2024-01-13T13:28:36.940Z"
   },
   {
    "duration": 5,
    "start_time": "2024-01-13T13:28:36.953Z"
   },
   {
    "duration": 69,
    "start_time": "2024-01-13T13:28:36.959Z"
   },
   {
    "duration": 126,
    "start_time": "2024-01-13T13:28:37.029Z"
   },
   {
    "duration": 3,
    "start_time": "2024-01-13T13:28:37.156Z"
   },
   {
    "duration": 108,
    "start_time": "2024-01-13T13:28:37.161Z"
   },
   {
    "duration": 6,
    "start_time": "2024-01-13T13:28:37.271Z"
   },
   {
    "duration": 21,
    "start_time": "2024-01-13T13:28:37.278Z"
   },
   {
    "duration": 24,
    "start_time": "2024-01-13T13:28:37.300Z"
   },
   {
    "duration": 26,
    "start_time": "2024-01-13T13:28:37.325Z"
   },
   {
    "duration": 16,
    "start_time": "2024-01-13T13:28:37.353Z"
   },
   {
    "duration": 11,
    "start_time": "2024-01-13T13:28:37.371Z"
   },
   {
    "duration": 15,
    "start_time": "2024-01-13T13:28:37.383Z"
   },
   {
    "duration": 22,
    "start_time": "2024-01-13T13:28:37.399Z"
   },
   {
    "duration": 75,
    "start_time": "2024-01-13T13:28:37.422Z"
   },
   {
    "duration": 85,
    "start_time": "2024-01-13T13:28:37.499Z"
   },
   {
    "duration": 32,
    "start_time": "2024-01-13T13:28:37.585Z"
   },
   {
    "duration": 64,
    "start_time": "2024-01-13T13:28:37.618Z"
   },
   {
    "duration": 137,
    "start_time": "2024-01-13T13:28:37.684Z"
   },
   {
    "duration": 3,
    "start_time": "2024-01-13T13:28:37.822Z"
   },
   {
    "duration": 36,
    "start_time": "2024-01-13T13:28:37.827Z"
   },
   {
    "duration": 132,
    "start_time": "2024-01-13T13:28:37.864Z"
   },
   {
    "duration": 182,
    "start_time": "2024-01-13T13:28:37.998Z"
   },
   {
    "duration": 102,
    "start_time": "2024-01-13T13:28:38.182Z"
   },
   {
    "duration": 7,
    "start_time": "2024-01-13T13:28:38.285Z"
   },
   {
    "duration": 191,
    "start_time": "2024-01-13T13:28:38.294Z"
   },
   {
    "duration": 181,
    "start_time": "2024-01-13T13:28:38.487Z"
   },
   {
    "duration": 325,
    "start_time": "2024-01-13T13:28:38.670Z"
   },
   {
    "duration": 417,
    "start_time": "2024-01-13T13:28:38.996Z"
   },
   {
    "duration": 212,
    "start_time": "2024-01-13T13:28:39.415Z"
   },
   {
    "duration": 16,
    "start_time": "2024-01-13T13:28:39.629Z"
   },
   {
    "duration": 44,
    "start_time": "2024-01-13T13:28:39.647Z"
   },
   {
    "duration": 6,
    "start_time": "2024-01-13T13:28:39.692Z"
   },
   {
    "duration": 128,
    "start_time": "2024-01-13T13:28:39.699Z"
   },
   {
    "duration": 33,
    "start_time": "2024-01-13T13:28:39.829Z"
   },
   {
    "duration": 860,
    "start_time": "2024-01-13T13:28:39.864Z"
   },
   {
    "duration": 3,
    "start_time": "2024-01-13T13:28:40.725Z"
   },
   {
    "duration": 11,
    "start_time": "2024-01-13T13:28:40.729Z"
   },
   {
    "duration": 681806,
    "start_time": "2024-01-13T13:28:40.741Z"
   },
   {
    "duration": 253,
    "start_time": "2024-01-13T13:40:02.549Z"
   },
   {
    "duration": 0,
    "start_time": "2024-01-13T13:40:02.804Z"
   },
   {
    "duration": 0,
    "start_time": "2024-01-13T13:40:02.805Z"
   },
   {
    "duration": 0,
    "start_time": "2024-01-13T13:40:02.806Z"
   },
   {
    "duration": 0,
    "start_time": "2024-01-13T13:40:02.807Z"
   },
   {
    "duration": 0,
    "start_time": "2024-01-13T13:40:02.809Z"
   },
   {
    "duration": 0,
    "start_time": "2024-01-13T13:40:02.810Z"
   },
   {
    "duration": 0,
    "start_time": "2024-01-13T13:40:02.811Z"
   },
   {
    "duration": 0,
    "start_time": "2024-01-13T13:40:02.813Z"
   },
   {
    "duration": 0,
    "start_time": "2024-01-13T13:40:02.814Z"
   },
   {
    "duration": 0,
    "start_time": "2024-01-13T13:40:02.815Z"
   },
   {
    "duration": 0,
    "start_time": "2024-01-13T13:40:02.816Z"
   },
   {
    "duration": 0,
    "start_time": "2024-01-13T13:40:02.818Z"
   },
   {
    "duration": 0,
    "start_time": "2024-01-13T13:40:02.845Z"
   },
   {
    "duration": 0,
    "start_time": "2024-01-13T13:40:02.846Z"
   },
   {
    "duration": 16,
    "start_time": "2024-01-13T13:41:11.242Z"
   },
   {
    "duration": 2,
    "start_time": "2024-01-13T13:41:22.707Z"
   },
   {
    "duration": 28,
    "start_time": "2024-01-13T13:41:22.711Z"
   },
   {
    "duration": 34,
    "start_time": "2024-01-13T13:41:22.741Z"
   },
   {
    "duration": 219791,
    "start_time": "2024-01-13T13:41:22.777Z"
   },
   {
    "duration": 29,
    "start_time": "2024-01-13T13:45:02.646Z"
   },
   {
    "duration": 70,
    "start_time": "2024-01-13T13:45:02.678Z"
   },
   {
    "duration": 6,
    "start_time": "2024-01-13T13:45:02.749Z"
   },
   {
    "duration": 6,
    "start_time": "2024-01-13T13:45:02.756Z"
   },
   {
    "duration": 19,
    "start_time": "2024-01-13T13:45:02.763Z"
   },
   {
    "duration": 44480,
    "start_time": "2024-01-13T13:45:02.784Z"
   },
   {
    "duration": 102,
    "start_time": "2024-01-13T13:45:47.266Z"
   },
   {
    "duration": 430,
    "start_time": "2024-01-13T13:45:47.369Z"
   },
   {
    "duration": 10,
    "start_time": "2024-01-13T13:45:47.800Z"
   },
   {
    "duration": 0,
    "start_time": "2024-01-13T13:45:47.812Z"
   },
   {
    "duration": 19169,
    "start_time": "2024-01-13T13:48:26.341Z"
   },
   {
    "duration": 19496,
    "start_time": "2024-01-13T13:49:02.769Z"
   },
   {
    "duration": 18827,
    "start_time": "2024-01-13T13:51:00.761Z"
   },
   {
    "duration": 19495,
    "start_time": "2024-01-13T13:51:22.902Z"
   },
   {
    "duration": 19048,
    "start_time": "2024-01-13T13:51:52.265Z"
   },
   {
    "duration": 48,
    "start_time": "2024-01-13T13:52:50.862Z"
   },
   {
    "duration": 4,
    "start_time": "2024-01-13T13:52:54.275Z"
   },
   {
    "duration": 18722,
    "start_time": "2024-01-13T13:53:07.051Z"
   },
   {
    "duration": 11,
    "start_time": "2024-01-13T13:54:23.094Z"
   },
   {
    "duration": 16,
    "start_time": "2024-01-13T13:57:51.809Z"
   },
   {
    "duration": 22105,
    "start_time": "2024-01-13T13:58:43.228Z"
   },
   {
    "duration": 22310,
    "start_time": "2024-01-13T14:00:28.459Z"
   },
   {
    "duration": 22308,
    "start_time": "2024-01-13T14:01:12.326Z"
   },
   {
    "duration": 22274,
    "start_time": "2024-01-13T14:02:42.299Z"
   },
   {
    "duration": 10,
    "start_time": "2024-01-13T14:03:29.276Z"
   },
   {
    "duration": 2413,
    "start_time": "2024-01-13T14:06:16.917Z"
   },
   {
    "duration": 2378,
    "start_time": "2024-01-13T14:06:19.332Z"
   },
   {
    "duration": 4,
    "start_time": "2024-01-13T14:06:21.711Z"
   },
   {
    "duration": 8051,
    "start_time": "2024-01-13T14:06:21.717Z"
   },
   {
    "duration": 15899,
    "start_time": "2024-01-13T14:06:29.769Z"
   },
   {
    "duration": 2346,
    "start_time": "2024-01-13T14:06:45.670Z"
   },
   {
    "duration": 10632,
    "start_time": "2024-01-13T14:06:48.018Z"
   },
   {
    "duration": 18,
    "start_time": "2024-01-13T14:06:58.651Z"
   },
   {
    "duration": 3465,
    "start_time": "2024-01-13T14:06:58.671Z"
   },
   {
    "duration": 196,
    "start_time": "2024-01-13T14:07:02.138Z"
   },
   {
    "duration": 3661,
    "start_time": "2024-01-13T14:07:02.336Z"
   },
   {
    "duration": 191,
    "start_time": "2024-01-13T14:07:05.999Z"
   },
   {
    "duration": 307,
    "start_time": "2024-01-13T14:07:06.192Z"
   },
   {
    "duration": 7,
    "start_time": "2024-01-13T14:07:06.500Z"
   },
   {
    "duration": 4,
    "start_time": "2024-01-13T14:07:06.509Z"
   },
   {
    "duration": 334,
    "start_time": "2024-01-13T14:07:06.515Z"
   },
   {
    "duration": 11933,
    "start_time": "2024-01-13T14:07:06.851Z"
   },
   {
    "duration": 168,
    "start_time": "2024-01-13T14:07:18.786Z"
   },
   {
    "duration": 432,
    "start_time": "2024-01-13T14:07:18.957Z"
   },
   {
    "duration": 133,
    "start_time": "2024-01-13T14:07:19.391Z"
   },
   {
    "duration": 7988,
    "start_time": "2024-01-13T14:07:19.525Z"
   },
   {
    "duration": 197,
    "start_time": "2024-01-13T14:07:27.515Z"
   },
   {
    "duration": 37,
    "start_time": "2024-01-13T14:07:27.714Z"
   },
   {
    "duration": 214,
    "start_time": "2024-01-13T14:07:27.753Z"
   },
   {
    "duration": 247,
    "start_time": "2024-01-13T14:07:27.969Z"
   },
   {
    "duration": 99,
    "start_time": "2024-01-13T14:07:28.218Z"
   },
   {
    "duration": 204,
    "start_time": "2024-01-13T14:07:28.318Z"
   },
   {
    "duration": 47,
    "start_time": "2024-01-13T14:07:28.526Z"
   },
   {
    "duration": 62,
    "start_time": "2024-01-13T14:07:28.574Z"
   },
   {
    "duration": 46,
    "start_time": "2024-01-13T14:07:28.637Z"
   },
   {
    "duration": 70,
    "start_time": "2024-01-13T14:07:28.684Z"
   },
   {
    "duration": 87,
    "start_time": "2024-01-13T14:07:28.755Z"
   },
   {
    "duration": 52,
    "start_time": "2024-01-13T14:07:28.844Z"
   },
   {
    "duration": 28,
    "start_time": "2024-01-13T14:07:28.897Z"
   },
   {
    "duration": 43,
    "start_time": "2024-01-13T14:07:28.927Z"
   },
   {
    "duration": 24,
    "start_time": "2024-01-13T14:07:28.972Z"
   },
   {
    "duration": 76,
    "start_time": "2024-01-13T14:07:28.997Z"
   },
   {
    "duration": 53,
    "start_time": "2024-01-13T14:07:29.074Z"
   },
   {
    "duration": 122,
    "start_time": "2024-01-13T14:07:29.128Z"
   },
   {
    "duration": 32,
    "start_time": "2024-01-13T14:07:29.252Z"
   },
   {
    "duration": 61,
    "start_time": "2024-01-13T14:07:29.285Z"
   },
   {
    "duration": 58,
    "start_time": "2024-01-13T14:07:29.347Z"
   },
   {
    "duration": 43,
    "start_time": "2024-01-13T14:07:29.406Z"
   },
   {
    "duration": 74,
    "start_time": "2024-01-13T14:07:29.452Z"
   },
   {
    "duration": 38,
    "start_time": "2024-01-13T14:07:29.528Z"
   },
   {
    "duration": 150,
    "start_time": "2024-01-13T14:07:29.568Z"
   },
   {
    "duration": 45,
    "start_time": "2024-01-13T14:07:29.719Z"
   },
   {
    "duration": 59,
    "start_time": "2024-01-13T14:07:29.765Z"
   },
   {
    "duration": 52,
    "start_time": "2024-01-13T14:07:29.826Z"
   },
   {
    "duration": 23,
    "start_time": "2024-01-13T14:07:29.879Z"
   },
   {
    "duration": 60,
    "start_time": "2024-01-13T14:07:29.904Z"
   },
   {
    "duration": 59,
    "start_time": "2024-01-13T14:07:29.966Z"
   },
   {
    "duration": 77,
    "start_time": "2024-01-13T14:07:30.027Z"
   },
   {
    "duration": 107,
    "start_time": "2024-01-13T14:07:30.105Z"
   },
   {
    "duration": 156,
    "start_time": "2024-01-13T14:07:30.214Z"
   },
   {
    "duration": 169,
    "start_time": "2024-01-13T14:07:30.372Z"
   },
   {
    "duration": 12,
    "start_time": "2024-01-13T14:07:30.542Z"
   },
   {
    "duration": 23,
    "start_time": "2024-01-13T14:07:30.555Z"
   },
   {
    "duration": 139,
    "start_time": "2024-01-13T14:07:30.579Z"
   },
   {
    "duration": 118,
    "start_time": "2024-01-13T14:07:30.719Z"
   },
   {
    "duration": 9,
    "start_time": "2024-01-13T14:07:30.838Z"
   },
   {
    "duration": 127,
    "start_time": "2024-01-13T14:07:30.848Z"
   },
   {
    "duration": 7,
    "start_time": "2024-01-13T14:07:30.976Z"
   },
   {
    "duration": 56,
    "start_time": "2024-01-13T14:07:30.984Z"
   },
   {
    "duration": 41,
    "start_time": "2024-01-13T14:07:31.042Z"
   },
   {
    "duration": 43,
    "start_time": "2024-01-13T14:07:31.085Z"
   },
   {
    "duration": 65,
    "start_time": "2024-01-13T14:07:31.130Z"
   },
   {
    "duration": 107,
    "start_time": "2024-01-13T14:07:31.197Z"
   },
   {
    "duration": 42,
    "start_time": "2024-01-13T14:07:31.306Z"
   },
   {
    "duration": 68,
    "start_time": "2024-01-13T14:07:31.350Z"
   },
   {
    "duration": 101,
    "start_time": "2024-01-13T14:07:31.419Z"
   },
   {
    "duration": 111,
    "start_time": "2024-01-13T14:07:31.522Z"
   },
   {
    "duration": 38,
    "start_time": "2024-01-13T14:07:31.635Z"
   },
   {
    "duration": 69,
    "start_time": "2024-01-13T14:07:31.675Z"
   },
   {
    "duration": 120,
    "start_time": "2024-01-13T14:07:31.745Z"
   },
   {
    "duration": 3,
    "start_time": "2024-01-13T14:07:31.866Z"
   },
   {
    "duration": 39,
    "start_time": "2024-01-13T14:07:31.871Z"
   },
   {
    "duration": 167,
    "start_time": "2024-01-13T14:07:31.912Z"
   },
   {
    "duration": 199,
    "start_time": "2024-01-13T14:07:32.080Z"
   },
   {
    "duration": 102,
    "start_time": "2024-01-13T14:07:32.281Z"
   },
   {
    "duration": 6,
    "start_time": "2024-01-13T14:07:32.385Z"
   },
   {
    "duration": 217,
    "start_time": "2024-01-13T14:07:32.398Z"
   },
   {
    "duration": 189,
    "start_time": "2024-01-13T14:07:32.616Z"
   },
   {
    "duration": 349,
    "start_time": "2024-01-13T14:07:32.807Z"
   },
   {
    "duration": 433,
    "start_time": "2024-01-13T14:07:33.157Z"
   },
   {
    "duration": 250,
    "start_time": "2024-01-13T14:07:33.591Z"
   },
   {
    "duration": 6,
    "start_time": "2024-01-13T14:07:33.845Z"
   },
   {
    "duration": 44,
    "start_time": "2024-01-13T14:07:33.853Z"
   },
   {
    "duration": 5,
    "start_time": "2024-01-13T14:07:33.898Z"
   },
   {
    "duration": 137,
    "start_time": "2024-01-13T14:07:33.904Z"
   },
   {
    "duration": 29,
    "start_time": "2024-01-13T14:07:34.042Z"
   },
   {
    "duration": 909,
    "start_time": "2024-01-13T14:07:34.073Z"
   },
   {
    "duration": 7,
    "start_time": "2024-01-13T14:07:34.984Z"
   },
   {
    "duration": 163,
    "start_time": "2024-01-13T14:07:34.992Z"
   },
   {
    "duration": 0,
    "start_time": "2024-01-13T14:07:35.157Z"
   },
   {
    "duration": 0,
    "start_time": "2024-01-13T14:07:35.158Z"
   },
   {
    "duration": 0,
    "start_time": "2024-01-13T14:07:35.159Z"
   },
   {
    "duration": 0,
    "start_time": "2024-01-13T14:07:35.160Z"
   },
   {
    "duration": 0,
    "start_time": "2024-01-13T14:07:35.161Z"
   },
   {
    "duration": 0,
    "start_time": "2024-01-13T14:07:35.163Z"
   },
   {
    "duration": 0,
    "start_time": "2024-01-13T14:07:35.164Z"
   },
   {
    "duration": 0,
    "start_time": "2024-01-13T14:07:35.164Z"
   },
   {
    "duration": 0,
    "start_time": "2024-01-13T14:07:35.166Z"
   },
   {
    "duration": 0,
    "start_time": "2024-01-13T14:07:35.167Z"
   },
   {
    "duration": 0,
    "start_time": "2024-01-13T14:07:35.168Z"
   },
   {
    "duration": 0,
    "start_time": "2024-01-13T14:07:35.169Z"
   },
   {
    "duration": 0,
    "start_time": "2024-01-13T14:07:35.170Z"
   },
   {
    "duration": 0,
    "start_time": "2024-01-13T14:07:35.171Z"
   },
   {
    "duration": 0,
    "start_time": "2024-01-13T14:07:35.172Z"
   },
   {
    "duration": 0,
    "start_time": "2024-01-13T14:07:35.173Z"
   },
   {
    "duration": 3,
    "start_time": "2024-01-13T14:09:27.995Z"
   },
   {
    "duration": 30,
    "start_time": "2024-01-13T14:09:28.000Z"
   },
   {
    "duration": 0,
    "start_time": "2024-01-13T14:09:28.032Z"
   },
   {
    "duration": 0,
    "start_time": "2024-01-13T14:09:28.034Z"
   },
   {
    "duration": 0,
    "start_time": "2024-01-13T14:09:28.035Z"
   },
   {
    "duration": 0,
    "start_time": "2024-01-13T14:09:28.037Z"
   },
   {
    "duration": 0,
    "start_time": "2024-01-13T14:09:28.038Z"
   },
   {
    "duration": 0,
    "start_time": "2024-01-13T14:09:28.039Z"
   },
   {
    "duration": 0,
    "start_time": "2024-01-13T14:09:28.040Z"
   },
   {
    "duration": 0,
    "start_time": "2024-01-13T14:09:28.041Z"
   },
   {
    "duration": 0,
    "start_time": "2024-01-13T14:09:28.042Z"
   },
   {
    "duration": 0,
    "start_time": "2024-01-13T14:09:28.043Z"
   },
   {
    "duration": 0,
    "start_time": "2024-01-13T14:09:28.044Z"
   },
   {
    "duration": 0,
    "start_time": "2024-01-13T14:09:28.045Z"
   },
   {
    "duration": 0,
    "start_time": "2024-01-13T14:09:28.046Z"
   },
   {
    "duration": 0,
    "start_time": "2024-01-13T14:09:28.047Z"
   },
   {
    "duration": 0,
    "start_time": "2024-01-13T14:09:28.048Z"
   },
   {
    "duration": 0,
    "start_time": "2024-01-13T14:09:28.049Z"
   },
   {
    "duration": 12,
    "start_time": "2024-01-13T14:10:04.812Z"
   },
   {
    "duration": 3,
    "start_time": "2024-01-13T14:10:46.467Z"
   },
   {
    "duration": 3,
    "start_time": "2024-01-13T14:11:03.435Z"
   },
   {
    "duration": 26,
    "start_time": "2024-01-13T14:11:03.440Z"
   },
   {
    "duration": 727685,
    "start_time": "2024-01-13T14:11:03.468Z"
   },
   {
    "duration": 201,
    "start_time": "2024-01-13T14:23:11.156Z"
   },
   {
    "duration": 87,
    "start_time": "2024-01-13T14:23:11.359Z"
   },
   {
    "duration": 9,
    "start_time": "2024-01-13T14:23:11.448Z"
   },
   {
    "duration": 16,
    "start_time": "2024-01-13T14:23:11.458Z"
   },
   {
    "duration": 321087,
    "start_time": "2024-01-13T14:23:11.475Z"
   },
   {
    "duration": 104,
    "start_time": "2024-01-13T14:28:32.568Z"
   },
   {
    "duration": 88,
    "start_time": "2024-01-13T14:28:32.674Z"
   },
   {
    "duration": 0,
    "start_time": "2024-01-13T14:28:32.766Z"
   },
   {
    "duration": 0,
    "start_time": "2024-01-13T14:28:32.767Z"
   },
   {
    "duration": 0,
    "start_time": "2024-01-13T14:28:32.769Z"
   },
   {
    "duration": 0,
    "start_time": "2024-01-13T14:28:32.770Z"
   },
   {
    "duration": 0,
    "start_time": "2024-01-13T14:28:32.771Z"
   },
   {
    "duration": 0,
    "start_time": "2024-01-13T14:28:32.772Z"
   },
   {
    "duration": 0,
    "start_time": "2024-01-13T14:28:32.773Z"
   },
   {
    "duration": 0,
    "start_time": "2024-01-13T14:28:32.774Z"
   },
   {
    "duration": 6,
    "start_time": "2024-01-14T08:05:33.069Z"
   },
   {
    "duration": 5,
    "start_time": "2024-01-14T08:05:42.558Z"
   },
   {
    "duration": 17,
    "start_time": "2024-01-14T08:05:42.565Z"
   },
   {
    "duration": 11,
    "start_time": "2024-01-14T08:05:42.584Z"
   },
   {
    "duration": 7,
    "start_time": "2024-01-14T08:05:42.597Z"
   },
   {
    "duration": 39,
    "start_time": "2024-01-14T08:05:42.605Z"
   },
   {
    "duration": 0,
    "start_time": "2024-01-14T08:05:42.646Z"
   },
   {
    "duration": 0,
    "start_time": "2024-01-14T08:05:42.647Z"
   },
   {
    "duration": 0,
    "start_time": "2024-01-14T08:05:42.648Z"
   },
   {
    "duration": 0,
    "start_time": "2024-01-14T08:05:42.649Z"
   },
   {
    "duration": 4,
    "start_time": "2024-01-14T08:08:53.501Z"
   },
   {
    "duration": 23,
    "start_time": "2024-01-14T08:08:55.029Z"
   },
   {
    "duration": 76,
    "start_time": "2024-01-14T08:10:14.866Z"
   },
   {
    "duration": 5,
    "start_time": "2024-01-14T08:10:20.490Z"
   },
   {
    "duration": 3,
    "start_time": "2024-01-14T08:10:21.507Z"
   },
   {
    "duration": 4,
    "start_time": "2024-01-14T08:10:22.094Z"
   },
   {
    "duration": 4,
    "start_time": "2024-01-14T08:10:25.488Z"
   },
   {
    "duration": 47635,
    "start_time": "2024-01-14T08:10:27.025Z"
   },
   {
    "duration": 71,
    "start_time": "2024-01-14T08:11:59.274Z"
   },
   {
    "duration": 338,
    "start_time": "2024-01-14T08:11:59.347Z"
   },
   {
    "duration": 47337,
    "start_time": "2024-01-14T08:11:59.687Z"
   },
   {
    "duration": 203,
    "start_time": "2024-01-14T08:12:47.026Z"
   },
   {
    "duration": 46625,
    "start_time": "2024-01-14T08:12:57.606Z"
   },
   {
    "duration": 0,
    "start_time": "2024-01-14T08:16:26.177Z"
   },
   {
    "duration": 2360,
    "start_time": "2024-01-14T08:20:14.398Z"
   },
   {
    "duration": 2341,
    "start_time": "2024-01-14T08:20:16.760Z"
   },
   {
    "duration": 3,
    "start_time": "2024-01-14T08:20:19.103Z"
   },
   {
    "duration": 8885,
    "start_time": "2024-01-14T08:20:19.108Z"
   },
   {
    "duration": 16163,
    "start_time": "2024-01-14T08:20:27.995Z"
   },
   {
    "duration": 2289,
    "start_time": "2024-01-14T08:20:44.160Z"
   },
   {
    "duration": 10627,
    "start_time": "2024-01-14T08:20:46.450Z"
   },
   {
    "duration": 16,
    "start_time": "2024-01-14T08:20:57.079Z"
   },
   {
    "duration": 3392,
    "start_time": "2024-01-14T08:20:57.096Z"
   },
   {
    "duration": 212,
    "start_time": "2024-01-14T08:21:00.489Z"
   },
   {
    "duration": 3693,
    "start_time": "2024-01-14T08:21:00.702Z"
   },
   {
    "duration": 184,
    "start_time": "2024-01-14T08:21:04.396Z"
   },
   {
    "duration": 379,
    "start_time": "2024-01-14T08:21:04.581Z"
   },
   {
    "duration": 6,
    "start_time": "2024-01-14T08:21:04.962Z"
   },
   {
    "duration": 62,
    "start_time": "2024-01-14T08:21:04.970Z"
   },
   {
    "duration": 333,
    "start_time": "2024-01-14T08:21:05.034Z"
   },
   {
    "duration": 12400,
    "start_time": "2024-01-14T08:21:05.369Z"
   },
   {
    "duration": 170,
    "start_time": "2024-01-14T08:21:17.770Z"
   },
   {
    "duration": 444,
    "start_time": "2024-01-14T08:21:17.942Z"
   },
   {
    "duration": 140,
    "start_time": "2024-01-14T08:21:18.388Z"
   },
   {
    "duration": 4944,
    "start_time": "2024-01-14T08:21:18.530Z"
   },
   {
    "duration": 196,
    "start_time": "2024-01-14T08:21:23.475Z"
   },
   {
    "duration": 26,
    "start_time": "2024-01-14T08:21:23.673Z"
   },
   {
    "duration": 203,
    "start_time": "2024-01-14T08:21:23.700Z"
   },
   {
    "duration": 258,
    "start_time": "2024-01-14T08:21:23.904Z"
   },
   {
    "duration": 95,
    "start_time": "2024-01-14T08:21:24.163Z"
   },
   {
    "duration": 222,
    "start_time": "2024-01-14T08:21:24.260Z"
   },
   {
    "duration": 41,
    "start_time": "2024-01-14T08:21:24.484Z"
   },
   {
    "duration": 44,
    "start_time": "2024-01-14T08:21:24.527Z"
   },
   {
    "duration": 34,
    "start_time": "2024-01-14T08:21:24.572Z"
   },
   {
    "duration": 63,
    "start_time": "2024-01-14T08:21:24.607Z"
   },
   {
    "duration": 79,
    "start_time": "2024-01-14T08:21:24.671Z"
   },
   {
    "duration": 43,
    "start_time": "2024-01-14T08:21:24.751Z"
   },
   {
    "duration": 30,
    "start_time": "2024-01-14T08:21:24.795Z"
   },
   {
    "duration": 39,
    "start_time": "2024-01-14T08:21:24.827Z"
   },
   {
    "duration": 29,
    "start_time": "2024-01-14T08:21:24.868Z"
   },
   {
    "duration": 56,
    "start_time": "2024-01-14T08:21:24.899Z"
   },
   {
    "duration": 44,
    "start_time": "2024-01-14T08:21:24.957Z"
   },
   {
    "duration": 144,
    "start_time": "2024-01-14T08:21:25.003Z"
   },
   {
    "duration": 33,
    "start_time": "2024-01-14T08:21:25.149Z"
   },
   {
    "duration": 59,
    "start_time": "2024-01-14T08:21:25.187Z"
   },
   {
    "duration": 36,
    "start_time": "2024-01-14T08:21:25.247Z"
   },
   {
    "duration": 39,
    "start_time": "2024-01-14T08:21:25.284Z"
   },
   {
    "duration": 65,
    "start_time": "2024-01-14T08:21:25.324Z"
   },
   {
    "duration": 39,
    "start_time": "2024-01-14T08:21:25.391Z"
   },
   {
    "duration": 148,
    "start_time": "2024-01-14T08:21:25.432Z"
   },
   {
    "duration": 41,
    "start_time": "2024-01-14T08:21:25.581Z"
   },
   {
    "duration": 59,
    "start_time": "2024-01-14T08:21:25.624Z"
   },
   {
    "duration": 37,
    "start_time": "2024-01-14T08:21:25.685Z"
   },
   {
    "duration": 36,
    "start_time": "2024-01-14T08:21:25.724Z"
   },
   {
    "duration": 43,
    "start_time": "2024-01-14T08:21:25.762Z"
   },
   {
    "duration": 65,
    "start_time": "2024-01-14T08:21:25.807Z"
   },
   {
    "duration": 38,
    "start_time": "2024-01-14T08:21:25.874Z"
   },
   {
    "duration": 73,
    "start_time": "2024-01-14T08:21:25.913Z"
   },
   {
    "duration": 38,
    "start_time": "2024-01-14T08:21:25.987Z"
   },
   {
    "duration": 105,
    "start_time": "2024-01-14T08:21:26.027Z"
   },
   {
    "duration": 20,
    "start_time": "2024-01-14T08:21:26.133Z"
   },
   {
    "duration": 6,
    "start_time": "2024-01-14T08:21:26.155Z"
   },
   {
    "duration": 65,
    "start_time": "2024-01-14T08:21:26.163Z"
   },
   {
    "duration": 138,
    "start_time": "2024-01-14T08:21:26.230Z"
   },
   {
    "duration": 4,
    "start_time": "2024-01-14T08:21:26.370Z"
   },
   {
    "duration": 69,
    "start_time": "2024-01-14T08:21:26.376Z"
   },
   {
    "duration": 7,
    "start_time": "2024-01-14T08:21:26.447Z"
   },
   {
    "duration": 21,
    "start_time": "2024-01-14T08:21:26.456Z"
   },
   {
    "duration": 16,
    "start_time": "2024-01-14T08:21:26.478Z"
   },
   {
    "duration": 53,
    "start_time": "2024-01-14T08:21:26.496Z"
   },
   {
    "duration": 10,
    "start_time": "2024-01-14T08:21:26.551Z"
   },
   {
    "duration": 8,
    "start_time": "2024-01-14T08:21:26.562Z"
   },
   {
    "duration": 22,
    "start_time": "2024-01-14T08:21:26.572Z"
   },
   {
    "duration": 14,
    "start_time": "2024-01-14T08:21:26.596Z"
   },
   {
    "duration": 66,
    "start_time": "2024-01-14T08:21:26.611Z"
   },
   {
    "duration": 84,
    "start_time": "2024-01-14T08:21:26.678Z"
   },
   {
    "duration": 43,
    "start_time": "2024-01-14T08:21:26.763Z"
   },
   {
    "duration": 62,
    "start_time": "2024-01-14T08:21:26.808Z"
   },
   {
    "duration": 109,
    "start_time": "2024-01-14T08:21:26.872Z"
   },
   {
    "duration": 3,
    "start_time": "2024-01-14T08:21:26.983Z"
   },
   {
    "duration": 15,
    "start_time": "2024-01-14T08:21:26.987Z"
   },
   {
    "duration": 135,
    "start_time": "2024-01-14T08:21:27.003Z"
   },
   {
    "duration": 212,
    "start_time": "2024-01-14T08:21:27.140Z"
   },
   {
    "duration": 94,
    "start_time": "2024-01-14T08:21:27.354Z"
   },
   {
    "duration": 8,
    "start_time": "2024-01-14T08:21:27.450Z"
   },
   {
    "duration": 212,
    "start_time": "2024-01-14T08:21:27.459Z"
   },
   {
    "duration": 186,
    "start_time": "2024-01-14T08:21:27.672Z"
   },
   {
    "duration": 315,
    "start_time": "2024-01-14T08:21:27.860Z"
   },
   {
    "duration": 416,
    "start_time": "2024-01-14T08:21:28.176Z"
   },
   {
    "duration": 263,
    "start_time": "2024-01-14T08:21:28.593Z"
   },
   {
    "duration": 6,
    "start_time": "2024-01-14T08:21:28.858Z"
   },
   {
    "duration": 53,
    "start_time": "2024-01-14T08:21:28.866Z"
   },
   {
    "duration": 5,
    "start_time": "2024-01-14T08:21:28.921Z"
   },
   {
    "duration": 139,
    "start_time": "2024-01-14T08:21:28.928Z"
   },
   {
    "duration": 25,
    "start_time": "2024-01-14T08:21:29.069Z"
   },
   {
    "duration": 919,
    "start_time": "2024-01-14T08:21:29.096Z"
   },
   {
    "duration": 3,
    "start_time": "2024-01-14T08:21:30.016Z"
   },
   {
    "duration": 53,
    "start_time": "2024-01-14T08:21:30.021Z"
   },
   {
    "duration": 690814,
    "start_time": "2024-01-14T08:21:30.075Z"
   },
   {
    "duration": 55,
    "start_time": "2024-01-14T08:33:00.891Z"
   },
   {
    "duration": 147,
    "start_time": "2024-01-14T08:33:00.948Z"
   },
   {
    "duration": 30,
    "start_time": "2024-01-14T08:33:01.096Z"
   },
   {
    "duration": 28,
    "start_time": "2024-01-14T08:33:01.128Z"
   },
   {
    "duration": 228706,
    "start_time": "2024-01-14T08:33:01.158Z"
   },
   {
    "duration": 102,
    "start_time": "2024-01-14T08:36:49.865Z"
   },
   {
    "duration": 78,
    "start_time": "2024-01-14T08:36:49.969Z"
   },
   {
    "duration": 3,
    "start_time": "2024-01-14T08:36:50.048Z"
   },
   {
    "duration": 30,
    "start_time": "2024-01-14T08:36:50.053Z"
   },
   {
    "duration": 34,
    "start_time": "2024-01-14T08:36:50.085Z"
   },
   {
    "duration": 42332,
    "start_time": "2024-01-14T08:36:50.120Z"
   },
   {
    "duration": 107,
    "start_time": "2024-01-14T08:37:32.453Z"
   },
   {
    "duration": 342,
    "start_time": "2024-01-14T08:37:32.561Z"
   },
   {
    "duration": 96907,
    "start_time": "2024-01-14T08:37:32.904Z"
   },
   {
    "duration": 216,
    "start_time": "2024-01-14T08:39:09.812Z"
   },
   {
    "duration": 20292,
    "start_time": "2024-01-14T08:45:34.638Z"
   },
   {
    "duration": 99,
    "start_time": "2024-01-15T16:05:36.805Z"
   },
   {
    "duration": 43,
    "start_time": "2024-01-15T16:12:55.930Z"
   },
   {
    "duration": 63,
    "start_time": "2024-01-15T16:22:00.856Z"
   },
   {
    "duration": 4068,
    "start_time": "2024-01-15T16:23:19.263Z"
   },
   {
    "duration": 2612,
    "start_time": "2024-01-15T16:23:23.333Z"
   },
   {
    "duration": 0,
    "start_time": "2024-01-15T16:23:25.950Z"
   },
   {
    "duration": 0,
    "start_time": "2024-01-15T16:23:25.951Z"
   },
   {
    "duration": 0,
    "start_time": "2024-01-15T16:23:25.952Z"
   },
   {
    "duration": 0,
    "start_time": "2024-01-15T16:23:25.954Z"
   },
   {
    "duration": 0,
    "start_time": "2024-01-15T16:23:25.955Z"
   },
   {
    "duration": 0,
    "start_time": "2024-01-15T16:23:25.956Z"
   },
   {
    "duration": 0,
    "start_time": "2024-01-15T16:23:25.957Z"
   },
   {
    "duration": 0,
    "start_time": "2024-01-15T16:23:25.958Z"
   },
   {
    "duration": 0,
    "start_time": "2024-01-15T16:23:25.959Z"
   },
   {
    "duration": 0,
    "start_time": "2024-01-15T16:23:25.960Z"
   },
   {
    "duration": 0,
    "start_time": "2024-01-15T16:23:25.961Z"
   },
   {
    "duration": 0,
    "start_time": "2024-01-15T16:23:25.962Z"
   },
   {
    "duration": 0,
    "start_time": "2024-01-15T16:23:25.963Z"
   },
   {
    "duration": 0,
    "start_time": "2024-01-15T16:23:25.964Z"
   },
   {
    "duration": 0,
    "start_time": "2024-01-15T16:23:25.965Z"
   },
   {
    "duration": 0,
    "start_time": "2024-01-15T16:23:25.966Z"
   },
   {
    "duration": 0,
    "start_time": "2024-01-15T16:23:25.967Z"
   },
   {
    "duration": 0,
    "start_time": "2024-01-15T16:23:25.968Z"
   },
   {
    "duration": 0,
    "start_time": "2024-01-15T16:23:25.969Z"
   },
   {
    "duration": 0,
    "start_time": "2024-01-15T16:23:25.970Z"
   },
   {
    "duration": 0,
    "start_time": "2024-01-15T16:23:25.971Z"
   },
   {
    "duration": 0,
    "start_time": "2024-01-15T16:23:25.972Z"
   },
   {
    "duration": 0,
    "start_time": "2024-01-15T16:23:25.973Z"
   },
   {
    "duration": 0,
    "start_time": "2024-01-15T16:23:26.011Z"
   },
   {
    "duration": 0,
    "start_time": "2024-01-15T16:23:26.012Z"
   },
   {
    "duration": 0,
    "start_time": "2024-01-15T16:23:26.013Z"
   },
   {
    "duration": 0,
    "start_time": "2024-01-15T16:23:26.014Z"
   },
   {
    "duration": 0,
    "start_time": "2024-01-15T16:23:26.015Z"
   },
   {
    "duration": 0,
    "start_time": "2024-01-15T16:23:26.016Z"
   },
   {
    "duration": 0,
    "start_time": "2024-01-15T16:23:26.018Z"
   },
   {
    "duration": 0,
    "start_time": "2024-01-15T16:23:26.019Z"
   },
   {
    "duration": 0,
    "start_time": "2024-01-15T16:23:26.020Z"
   },
   {
    "duration": 0,
    "start_time": "2024-01-15T16:23:26.020Z"
   },
   {
    "duration": 0,
    "start_time": "2024-01-15T16:23:26.022Z"
   },
   {
    "duration": 0,
    "start_time": "2024-01-15T16:23:26.023Z"
   },
   {
    "duration": 0,
    "start_time": "2024-01-15T16:23:26.024Z"
   },
   {
    "duration": 0,
    "start_time": "2024-01-15T16:23:26.025Z"
   },
   {
    "duration": 0,
    "start_time": "2024-01-15T16:23:26.026Z"
   },
   {
    "duration": 0,
    "start_time": "2024-01-15T16:23:26.027Z"
   },
   {
    "duration": 0,
    "start_time": "2024-01-15T16:23:26.028Z"
   },
   {
    "duration": 0,
    "start_time": "2024-01-15T16:23:26.029Z"
   },
   {
    "duration": 0,
    "start_time": "2024-01-15T16:23:26.030Z"
   },
   {
    "duration": 0,
    "start_time": "2024-01-15T16:23:26.031Z"
   },
   {
    "duration": 0,
    "start_time": "2024-01-15T16:23:26.032Z"
   },
   {
    "duration": 0,
    "start_time": "2024-01-15T16:23:26.033Z"
   },
   {
    "duration": 1,
    "start_time": "2024-01-15T16:23:26.033Z"
   },
   {
    "duration": 0,
    "start_time": "2024-01-15T16:23:26.034Z"
   },
   {
    "duration": 0,
    "start_time": "2024-01-15T16:23:26.035Z"
   },
   {
    "duration": 0,
    "start_time": "2024-01-15T16:23:26.037Z"
   },
   {
    "duration": 0,
    "start_time": "2024-01-15T16:23:26.038Z"
   },
   {
    "duration": 0,
    "start_time": "2024-01-15T16:23:26.039Z"
   },
   {
    "duration": 0,
    "start_time": "2024-01-15T16:23:26.040Z"
   },
   {
    "duration": 0,
    "start_time": "2024-01-15T16:23:26.041Z"
   },
   {
    "duration": 0,
    "start_time": "2024-01-15T16:23:26.042Z"
   },
   {
    "duration": 0,
    "start_time": "2024-01-15T16:23:26.043Z"
   },
   {
    "duration": 0,
    "start_time": "2024-01-15T16:23:26.044Z"
   },
   {
    "duration": 0,
    "start_time": "2024-01-15T16:23:26.046Z"
   },
   {
    "duration": 0,
    "start_time": "2024-01-15T16:23:26.047Z"
   },
   {
    "duration": 0,
    "start_time": "2024-01-15T16:23:26.048Z"
   },
   {
    "duration": 0,
    "start_time": "2024-01-15T16:23:26.049Z"
   },
   {
    "duration": 60,
    "start_time": "2024-01-15T16:23:26.050Z"
   },
   {
    "duration": 0,
    "start_time": "2024-01-15T16:23:26.111Z"
   },
   {
    "duration": 0,
    "start_time": "2024-01-15T16:23:26.112Z"
   },
   {
    "duration": 0,
    "start_time": "2024-01-15T16:23:26.113Z"
   },
   {
    "duration": 0,
    "start_time": "2024-01-15T16:23:26.114Z"
   },
   {
    "duration": 0,
    "start_time": "2024-01-15T16:23:26.115Z"
   },
   {
    "duration": 0,
    "start_time": "2024-01-15T16:23:26.116Z"
   },
   {
    "duration": 0,
    "start_time": "2024-01-15T16:23:26.116Z"
   },
   {
    "duration": 0,
    "start_time": "2024-01-15T16:23:26.117Z"
   },
   {
    "duration": 0,
    "start_time": "2024-01-15T16:23:26.118Z"
   },
   {
    "duration": 0,
    "start_time": "2024-01-15T16:23:26.119Z"
   },
   {
    "duration": 0,
    "start_time": "2024-01-15T16:23:26.120Z"
   },
   {
    "duration": 0,
    "start_time": "2024-01-15T16:23:26.120Z"
   },
   {
    "duration": 0,
    "start_time": "2024-01-15T16:23:26.121Z"
   },
   {
    "duration": 0,
    "start_time": "2024-01-15T16:23:26.122Z"
   },
   {
    "duration": 0,
    "start_time": "2024-01-15T16:23:26.123Z"
   },
   {
    "duration": 0,
    "start_time": "2024-01-15T16:23:26.124Z"
   },
   {
    "duration": 0,
    "start_time": "2024-01-15T16:23:26.125Z"
   },
   {
    "duration": 0,
    "start_time": "2024-01-15T16:23:26.126Z"
   },
   {
    "duration": 0,
    "start_time": "2024-01-15T16:23:26.126Z"
   },
   {
    "duration": 0,
    "start_time": "2024-01-15T16:23:26.127Z"
   },
   {
    "duration": 0,
    "start_time": "2024-01-15T16:23:26.128Z"
   },
   {
    "duration": 0,
    "start_time": "2024-01-15T16:23:26.129Z"
   },
   {
    "duration": 0,
    "start_time": "2024-01-15T16:23:26.130Z"
   },
   {
    "duration": 0,
    "start_time": "2024-01-15T16:23:26.131Z"
   },
   {
    "duration": 0,
    "start_time": "2024-01-15T16:23:26.132Z"
   },
   {
    "duration": 0,
    "start_time": "2024-01-15T16:23:26.133Z"
   },
   {
    "duration": 0,
    "start_time": "2024-01-15T16:23:26.134Z"
   },
   {
    "duration": 0,
    "start_time": "2024-01-15T16:23:26.135Z"
   },
   {
    "duration": 0,
    "start_time": "2024-01-15T16:23:26.136Z"
   },
   {
    "duration": 0,
    "start_time": "2024-01-15T16:23:26.136Z"
   },
   {
    "duration": 0,
    "start_time": "2024-01-15T16:23:26.137Z"
   },
   {
    "duration": 0,
    "start_time": "2024-01-15T16:23:26.138Z"
   },
   {
    "duration": 0,
    "start_time": "2024-01-15T16:23:26.139Z"
   },
   {
    "duration": 0,
    "start_time": "2024-01-15T16:23:26.140Z"
   },
   {
    "duration": 0,
    "start_time": "2024-01-15T16:23:26.141Z"
   },
   {
    "duration": 0,
    "start_time": "2024-01-15T16:23:26.142Z"
   },
   {
    "duration": 0,
    "start_time": "2024-01-15T16:23:26.142Z"
   },
   {
    "duration": 0,
    "start_time": "2024-01-15T16:23:26.143Z"
   },
   {
    "duration": 0,
    "start_time": "2024-01-15T16:23:26.144Z"
   },
   {
    "duration": 0,
    "start_time": "2024-01-15T16:23:26.145Z"
   },
   {
    "duration": 0,
    "start_time": "2024-01-15T16:23:26.146Z"
   },
   {
    "duration": 0,
    "start_time": "2024-01-15T16:23:26.212Z"
   },
   {
    "duration": 0,
    "start_time": "2024-01-15T16:23:26.213Z"
   },
   {
    "duration": 0,
    "start_time": "2024-01-15T16:23:26.214Z"
   },
   {
    "duration": 0,
    "start_time": "2024-01-15T16:23:26.215Z"
   },
   {
    "duration": 0,
    "start_time": "2024-01-15T16:23:26.216Z"
   },
   {
    "duration": 0,
    "start_time": "2024-01-15T16:23:26.217Z"
   },
   {
    "duration": 6310,
    "start_time": "2024-01-15T16:25:01.770Z"
   },
   {
    "duration": 74,
    "start_time": "2024-01-15T16:25:12.887Z"
   },
   {
    "duration": 2328,
    "start_time": "2024-01-15T16:25:27.723Z"
   },
   {
    "duration": 5,
    "start_time": "2024-01-15T16:25:34.115Z"
   },
   {
    "duration": 4,
    "start_time": "2024-01-15T16:25:34.122Z"
   },
   {
    "duration": 11103,
    "start_time": "2024-01-15T16:25:34.128Z"
   },
   {
    "duration": 16266,
    "start_time": "2024-01-15T16:25:45.233Z"
   },
   {
    "duration": 2475,
    "start_time": "2024-01-15T16:26:01.500Z"
   },
   {
    "duration": 11139,
    "start_time": "2024-01-15T16:26:03.976Z"
   },
   {
    "duration": 17,
    "start_time": "2024-01-15T16:26:15.117Z"
   },
   {
    "duration": 3133,
    "start_time": "2024-01-15T16:26:15.135Z"
   },
   {
    "duration": 228,
    "start_time": "2024-01-15T16:26:18.270Z"
   },
   {
    "duration": 3535,
    "start_time": "2024-01-15T16:26:18.511Z"
   },
   {
    "duration": 194,
    "start_time": "2024-01-15T16:26:22.047Z"
   },
   {
    "duration": 293,
    "start_time": "2024-01-15T16:26:22.242Z"
   },
   {
    "duration": 6,
    "start_time": "2024-01-15T16:26:22.537Z"
   },
   {
    "duration": 8,
    "start_time": "2024-01-15T16:26:22.544Z"
   },
   {
    "duration": 348,
    "start_time": "2024-01-15T16:26:22.553Z"
   },
   {
    "duration": 11559,
    "start_time": "2024-01-15T16:26:22.903Z"
   },
   {
    "duration": 164,
    "start_time": "2024-01-15T16:26:34.464Z"
   },
   {
    "duration": 410,
    "start_time": "2024-01-15T16:26:34.630Z"
   },
   {
    "duration": 130,
    "start_time": "2024-01-15T16:26:35.041Z"
   },
   {
    "duration": 1512,
    "start_time": "2024-01-15T16:26:35.173Z"
   },
   {
    "duration": 194,
    "start_time": "2024-01-15T16:26:36.686Z"
   },
   {
    "duration": 37,
    "start_time": "2024-01-15T16:26:36.881Z"
   },
   {
    "duration": 201,
    "start_time": "2024-01-15T16:26:36.920Z"
   },
   {
    "duration": 245,
    "start_time": "2024-01-15T16:26:37.122Z"
   },
   {
    "duration": 88,
    "start_time": "2024-01-15T16:26:37.369Z"
   },
   {
    "duration": 222,
    "start_time": "2024-01-15T16:26:37.458Z"
   },
   {
    "duration": 50,
    "start_time": "2024-01-15T16:26:37.682Z"
   },
   {
    "duration": 34,
    "start_time": "2024-01-15T16:26:37.737Z"
   },
   {
    "duration": 253,
    "start_time": "2024-01-15T16:26:37.773Z"
   },
   {
    "duration": 53,
    "start_time": "2024-01-15T16:26:38.028Z"
   },
   {
    "duration": 75,
    "start_time": "2024-01-15T16:26:38.082Z"
   },
   {
    "duration": 53,
    "start_time": "2024-01-15T16:26:38.159Z"
   },
   {
    "duration": 42,
    "start_time": "2024-01-15T16:26:38.213Z"
   },
   {
    "duration": 26,
    "start_time": "2024-01-15T16:26:38.256Z"
   },
   {
    "duration": 24,
    "start_time": "2024-01-15T16:26:38.283Z"
   },
   {
    "duration": 3261,
    "start_time": "2024-01-15T16:26:38.311Z"
   },
   {
    "duration": 0,
    "start_time": "2024-01-15T16:26:41.575Z"
   },
   {
    "duration": 0,
    "start_time": "2024-01-15T16:26:41.576Z"
   },
   {
    "duration": 0,
    "start_time": "2024-01-15T16:26:41.577Z"
   },
   {
    "duration": 0,
    "start_time": "2024-01-15T16:26:41.578Z"
   },
   {
    "duration": 0,
    "start_time": "2024-01-15T16:26:41.579Z"
   },
   {
    "duration": 0,
    "start_time": "2024-01-15T16:26:41.580Z"
   },
   {
    "duration": 0,
    "start_time": "2024-01-15T16:26:41.581Z"
   },
   {
    "duration": 0,
    "start_time": "2024-01-15T16:26:41.582Z"
   },
   {
    "duration": 0,
    "start_time": "2024-01-15T16:26:41.583Z"
   },
   {
    "duration": 0,
    "start_time": "2024-01-15T16:26:41.584Z"
   },
   {
    "duration": 0,
    "start_time": "2024-01-15T16:26:41.585Z"
   },
   {
    "duration": 0,
    "start_time": "2024-01-15T16:26:41.586Z"
   },
   {
    "duration": 0,
    "start_time": "2024-01-15T16:26:41.587Z"
   },
   {
    "duration": 0,
    "start_time": "2024-01-15T16:26:41.588Z"
   },
   {
    "duration": 0,
    "start_time": "2024-01-15T16:26:41.589Z"
   },
   {
    "duration": 0,
    "start_time": "2024-01-15T16:26:41.591Z"
   },
   {
    "duration": 0,
    "start_time": "2024-01-15T16:26:41.591Z"
   },
   {
    "duration": 0,
    "start_time": "2024-01-15T16:26:41.592Z"
   },
   {
    "duration": 0,
    "start_time": "2024-01-15T16:26:41.594Z"
   },
   {
    "duration": 0,
    "start_time": "2024-01-15T16:26:41.595Z"
   },
   {
    "duration": 0,
    "start_time": "2024-01-15T16:26:41.596Z"
   },
   {
    "duration": 0,
    "start_time": "2024-01-15T16:26:41.597Z"
   },
   {
    "duration": 0,
    "start_time": "2024-01-15T16:26:41.598Z"
   },
   {
    "duration": 0,
    "start_time": "2024-01-15T16:26:41.599Z"
   },
   {
    "duration": 0,
    "start_time": "2024-01-15T16:26:41.600Z"
   },
   {
    "duration": 0,
    "start_time": "2024-01-15T16:26:41.601Z"
   },
   {
    "duration": 0,
    "start_time": "2024-01-15T16:26:41.602Z"
   },
   {
    "duration": 0,
    "start_time": "2024-01-15T16:26:41.603Z"
   },
   {
    "duration": 0,
    "start_time": "2024-01-15T16:26:41.604Z"
   },
   {
    "duration": 0,
    "start_time": "2024-01-15T16:26:41.605Z"
   },
   {
    "duration": 0,
    "start_time": "2024-01-15T16:26:41.606Z"
   },
   {
    "duration": 0,
    "start_time": "2024-01-15T16:26:41.607Z"
   },
   {
    "duration": 0,
    "start_time": "2024-01-15T16:26:41.609Z"
   },
   {
    "duration": 0,
    "start_time": "2024-01-15T16:26:41.610Z"
   },
   {
    "duration": 0,
    "start_time": "2024-01-15T16:26:41.611Z"
   },
   {
    "duration": 0,
    "start_time": "2024-01-15T16:26:41.612Z"
   },
   {
    "duration": 0,
    "start_time": "2024-01-15T16:26:41.613Z"
   },
   {
    "duration": 0,
    "start_time": "2024-01-15T16:26:41.614Z"
   },
   {
    "duration": 0,
    "start_time": "2024-01-15T16:26:41.614Z"
   },
   {
    "duration": 0,
    "start_time": "2024-01-15T16:26:41.616Z"
   },
   {
    "duration": 0,
    "start_time": "2024-01-15T16:26:41.617Z"
   },
   {
    "duration": 0,
    "start_time": "2024-01-15T16:26:41.618Z"
   },
   {
    "duration": 0,
    "start_time": "2024-01-15T16:26:41.619Z"
   },
   {
    "duration": 1,
    "start_time": "2024-01-15T16:26:41.620Z"
   },
   {
    "duration": 0,
    "start_time": "2024-01-15T16:26:41.621Z"
   },
   {
    "duration": 0,
    "start_time": "2024-01-15T16:26:41.623Z"
   },
   {
    "duration": 0,
    "start_time": "2024-01-15T16:26:41.624Z"
   },
   {
    "duration": 0,
    "start_time": "2024-01-15T16:26:41.627Z"
   },
   {
    "duration": 0,
    "start_time": "2024-01-15T16:26:41.628Z"
   },
   {
    "duration": 0,
    "start_time": "2024-01-15T16:26:41.629Z"
   },
   {
    "duration": 0,
    "start_time": "2024-01-15T16:26:41.631Z"
   },
   {
    "duration": 0,
    "start_time": "2024-01-15T16:26:41.633Z"
   },
   {
    "duration": 0,
    "start_time": "2024-01-15T16:26:41.634Z"
   },
   {
    "duration": 0,
    "start_time": "2024-01-15T16:26:41.636Z"
   },
   {
    "duration": 0,
    "start_time": "2024-01-15T16:26:41.637Z"
   },
   {
    "duration": 0,
    "start_time": "2024-01-15T16:26:41.638Z"
   },
   {
    "duration": 0,
    "start_time": "2024-01-15T16:26:41.639Z"
   },
   {
    "duration": 0,
    "start_time": "2024-01-15T16:26:41.640Z"
   },
   {
    "duration": 0,
    "start_time": "2024-01-15T16:26:41.641Z"
   },
   {
    "duration": 0,
    "start_time": "2024-01-15T16:26:41.641Z"
   },
   {
    "duration": 0,
    "start_time": "2024-01-15T16:26:41.642Z"
   },
   {
    "duration": 0,
    "start_time": "2024-01-15T16:26:41.644Z"
   },
   {
    "duration": 0,
    "start_time": "2024-01-15T16:26:41.645Z"
   },
   {
    "duration": 0,
    "start_time": "2024-01-15T16:26:41.645Z"
   },
   {
    "duration": 0,
    "start_time": "2024-01-15T16:26:41.646Z"
   },
   {
    "duration": 0,
    "start_time": "2024-01-15T16:26:41.647Z"
   },
   {
    "duration": 0,
    "start_time": "2024-01-15T16:26:41.648Z"
   },
   {
    "duration": 0,
    "start_time": "2024-01-15T16:26:41.649Z"
   },
   {
    "duration": 0,
    "start_time": "2024-01-15T16:26:41.650Z"
   },
   {
    "duration": 0,
    "start_time": "2024-01-15T16:26:41.711Z"
   },
   {
    "duration": 0,
    "start_time": "2024-01-15T16:26:41.712Z"
   },
   {
    "duration": 0,
    "start_time": "2024-01-15T16:26:41.713Z"
   },
   {
    "duration": 0,
    "start_time": "2024-01-15T16:26:41.714Z"
   },
   {
    "duration": 2,
    "start_time": "2024-01-15T16:28:59.512Z"
   },
   {
    "duration": 5,
    "start_time": "2024-01-15T16:28:59.516Z"
   },
   {
    "duration": 3,
    "start_time": "2024-01-15T16:28:59.523Z"
   },
   {
    "duration": 3,
    "start_time": "2024-01-15T16:28:59.528Z"
   },
   {
    "duration": 54,
    "start_time": "2024-01-15T16:28:59.532Z"
   },
   {
    "duration": 43,
    "start_time": "2024-01-15T16:28:59.611Z"
   },
   {
    "duration": 79,
    "start_time": "2024-01-15T16:28:59.657Z"
   },
   {
    "duration": 53,
    "start_time": "2024-01-15T16:28:59.737Z"
   },
   {
    "duration": 45,
    "start_time": "2024-01-15T16:28:59.810Z"
   },
   {
    "duration": 158,
    "start_time": "2024-01-15T16:28:59.857Z"
   },
   {
    "duration": 49,
    "start_time": "2024-01-15T16:29:00.017Z"
   },
   {
    "duration": 70,
    "start_time": "2024-01-15T16:29:00.068Z"
   },
   {
    "duration": 71,
    "start_time": "2024-01-15T16:29:00.140Z"
   },
   {
    "duration": 33,
    "start_time": "2024-01-15T16:29:00.213Z"
   },
   {
    "duration": 58,
    "start_time": "2024-01-15T16:29:00.247Z"
   },
   {
    "duration": 66,
    "start_time": "2024-01-15T16:29:00.306Z"
   },
   {
    "duration": 69,
    "start_time": "2024-01-15T16:29:00.373Z"
   },
   {
    "duration": 97,
    "start_time": "2024-01-15T16:29:00.443Z"
   },
   {
    "duration": 47,
    "start_time": "2024-01-15T16:29:00.542Z"
   },
   {
    "duration": 132,
    "start_time": "2024-01-15T16:29:00.590Z"
   },
   {
    "duration": 14,
    "start_time": "2024-01-15T16:29:00.723Z"
   },
   {
    "duration": 44,
    "start_time": "2024-01-15T16:29:00.741Z"
   },
   {
    "duration": 85,
    "start_time": "2024-01-15T16:29:00.787Z"
   },
   {
    "duration": 126,
    "start_time": "2024-01-15T16:29:00.874Z"
   },
   {
    "duration": 4,
    "start_time": "2024-01-15T16:29:01.001Z"
   },
   {
    "duration": 102,
    "start_time": "2024-01-15T16:29:01.007Z"
   },
   {
    "duration": 7,
    "start_time": "2024-01-15T16:29:01.111Z"
   },
   {
    "duration": 62,
    "start_time": "2024-01-15T16:29:01.120Z"
   },
   {
    "duration": 39,
    "start_time": "2024-01-15T16:29:01.183Z"
   },
   {
    "duration": 35,
    "start_time": "2024-01-15T16:29:01.224Z"
   },
   {
    "duration": 43,
    "start_time": "2024-01-15T16:29:01.261Z"
   },
   {
    "duration": 38,
    "start_time": "2024-01-15T16:29:01.305Z"
   },
   {
    "duration": 39,
    "start_time": "2024-01-15T16:29:01.344Z"
   },
   {
    "duration": 35,
    "start_time": "2024-01-15T16:29:01.385Z"
   },
   {
    "duration": 77,
    "start_time": "2024-01-15T16:29:01.422Z"
   },
   {
    "duration": 119,
    "start_time": "2024-01-15T16:29:01.501Z"
   },
   {
    "duration": 45,
    "start_time": "2024-01-15T16:29:01.622Z"
   },
   {
    "duration": 76,
    "start_time": "2024-01-15T16:29:01.669Z"
   },
   {
    "duration": 129,
    "start_time": "2024-01-15T16:29:01.747Z"
   },
   {
    "duration": 2,
    "start_time": "2024-01-15T16:29:01.878Z"
   },
   {
    "duration": 40,
    "start_time": "2024-01-15T16:29:01.882Z"
   },
   {
    "duration": 148,
    "start_time": "2024-01-15T16:29:01.924Z"
   },
   {
    "duration": 203,
    "start_time": "2024-01-15T16:29:02.073Z"
   },
   {
    "duration": 99,
    "start_time": "2024-01-15T16:29:02.278Z"
   },
   {
    "duration": 7,
    "start_time": "2024-01-15T16:29:02.379Z"
   },
   {
    "duration": 212,
    "start_time": "2024-01-15T16:29:02.387Z"
   },
   {
    "duration": 199,
    "start_time": "2024-01-15T16:29:02.601Z"
   },
   {
    "duration": 325,
    "start_time": "2024-01-15T16:29:02.802Z"
   },
   {
    "duration": 382,
    "start_time": "2024-01-15T16:29:03.129Z"
   },
   {
    "duration": 241,
    "start_time": "2024-01-15T16:29:03.513Z"
   },
   {
    "duration": 6,
    "start_time": "2024-01-15T16:29:03.755Z"
   },
   {
    "duration": 53,
    "start_time": "2024-01-15T16:29:03.763Z"
   },
   {
    "duration": 4,
    "start_time": "2024-01-15T16:29:03.818Z"
   },
   {
    "duration": 101,
    "start_time": "2024-01-15T16:29:03.823Z"
   },
   {
    "duration": 26,
    "start_time": "2024-01-15T16:29:03.926Z"
   },
   {
    "duration": 796,
    "start_time": "2024-01-15T16:29:03.954Z"
   },
   {
    "duration": 3,
    "start_time": "2024-01-15T16:29:04.752Z"
   },
   {
    "duration": 19,
    "start_time": "2024-01-15T16:29:04.757Z"
   },
   {
    "duration": 0,
    "start_time": "2024-01-15T16:29:04.778Z"
   },
   {
    "duration": 0,
    "start_time": "2024-01-15T16:29:04.780Z"
   },
   {
    "duration": 0,
    "start_time": "2024-01-15T16:29:04.781Z"
   },
   {
    "duration": 0,
    "start_time": "2024-01-15T16:29:04.782Z"
   },
   {
    "duration": 0,
    "start_time": "2024-01-15T16:29:04.783Z"
   },
   {
    "duration": 0,
    "start_time": "2024-01-15T16:29:04.784Z"
   },
   {
    "duration": 0,
    "start_time": "2024-01-15T16:29:04.785Z"
   },
   {
    "duration": 0,
    "start_time": "2024-01-15T16:29:04.811Z"
   },
   {
    "duration": 0,
    "start_time": "2024-01-15T16:29:04.813Z"
   },
   {
    "duration": 0,
    "start_time": "2024-01-15T16:29:04.814Z"
   },
   {
    "duration": 0,
    "start_time": "2024-01-15T16:29:04.815Z"
   },
   {
    "duration": 0,
    "start_time": "2024-01-15T16:29:04.816Z"
   },
   {
    "duration": 0,
    "start_time": "2024-01-15T16:29:04.817Z"
   },
   {
    "duration": 0,
    "start_time": "2024-01-15T16:29:04.818Z"
   },
   {
    "duration": 0,
    "start_time": "2024-01-15T16:29:04.819Z"
   },
   {
    "duration": 0,
    "start_time": "2024-01-15T16:29:04.820Z"
   },
   {
    "duration": 3,
    "start_time": "2024-01-15T16:31:24.740Z"
   },
   {
    "duration": 3,
    "start_time": "2024-01-15T16:31:29.763Z"
   },
   {
    "duration": 463986,
    "start_time": "2024-01-15T16:31:29.768Z"
   },
   {
    "duration": 56,
    "start_time": "2024-01-15T16:39:13.756Z"
   },
   {
    "duration": 4,
    "start_time": "2024-01-15T16:39:13.816Z"
   },
   {
    "duration": 3,
    "start_time": "2024-01-15T16:39:13.913Z"
   },
   {
    "duration": 3,
    "start_time": "2024-01-15T16:39:13.917Z"
   },
   {
    "duration": 64819,
    "start_time": "2024-01-15T16:39:13.922Z"
   },
   {
    "duration": 0,
    "start_time": "2024-01-15T16:40:18.743Z"
   },
   {
    "duration": 0,
    "start_time": "2024-01-15T16:40:18.744Z"
   },
   {
    "duration": 0,
    "start_time": "2024-01-15T16:40:18.745Z"
   },
   {
    "duration": 0,
    "start_time": "2024-01-15T16:40:18.746Z"
   },
   {
    "duration": 0,
    "start_time": "2024-01-15T16:40:18.747Z"
   },
   {
    "duration": 0,
    "start_time": "2024-01-15T16:40:18.748Z"
   },
   {
    "duration": 0,
    "start_time": "2024-01-15T16:40:18.749Z"
   },
   {
    "duration": 0,
    "start_time": "2024-01-15T16:40:18.750Z"
   },
   {
    "duration": 0,
    "start_time": "2024-01-15T16:40:18.751Z"
   },
   {
    "duration": 0,
    "start_time": "2024-01-15T16:40:18.752Z"
   },
   {
    "duration": 20,
    "start_time": "2024-01-15T16:45:09.208Z"
   },
   {
    "duration": 17,
    "start_time": "2024-01-15T16:45:30.095Z"
   },
   {
    "duration": 186073,
    "start_time": "2024-01-15T16:46:02.881Z"
   },
   {
    "duration": 0,
    "start_time": "2024-01-15T16:49:08.955Z"
   },
   {
    "duration": 17,
    "start_time": "2024-01-15T16:49:14.571Z"
   },
   {
    "duration": 5339,
    "start_time": "2024-01-15T16:49:24.151Z"
   },
   {
    "duration": 5,
    "start_time": "2024-01-15T16:49:29.492Z"
   },
   {
    "duration": 7,
    "start_time": "2024-01-15T16:49:29.499Z"
   },
   {
    "duration": 9,
    "start_time": "2024-01-15T16:49:29.507Z"
   },
   {
    "duration": 44,
    "start_time": "2024-01-15T16:50:54.118Z"
   },
   {
    "duration": 4964,
    "start_time": "2024-01-15T16:51:18.183Z"
   },
   {
    "duration": 5158,
    "start_time": "2024-01-15T16:51:23.149Z"
   },
   {
    "duration": 4,
    "start_time": "2024-01-15T16:51:28.308Z"
   },
   {
    "duration": 8032,
    "start_time": "2024-01-15T16:51:28.314Z"
   },
   {
    "duration": 16377,
    "start_time": "2024-01-15T16:51:36.347Z"
   },
   {
    "duration": 2499,
    "start_time": "2024-01-15T16:51:52.726Z"
   },
   {
    "duration": 11044,
    "start_time": "2024-01-15T16:51:55.227Z"
   },
   {
    "duration": 16,
    "start_time": "2024-01-15T16:52:06.272Z"
   },
   {
    "duration": 2729,
    "start_time": "2024-01-15T16:52:06.290Z"
   },
   {
    "duration": 222,
    "start_time": "2024-01-15T16:52:09.022Z"
   },
   {
    "duration": 4096,
    "start_time": "2024-01-15T16:52:09.246Z"
   },
   {
    "duration": 210,
    "start_time": "2024-01-15T16:52:13.343Z"
   },
   {
    "duration": 303,
    "start_time": "2024-01-15T16:52:13.555Z"
   },
   {
    "duration": 6,
    "start_time": "2024-01-15T16:52:13.860Z"
   },
   {
    "duration": 5,
    "start_time": "2024-01-15T16:52:13.867Z"
   },
   {
    "duration": 354,
    "start_time": "2024-01-15T16:52:13.873Z"
   },
   {
    "duration": 12040,
    "start_time": "2024-01-15T16:52:14.229Z"
   },
   {
    "duration": 183,
    "start_time": "2024-01-15T16:52:26.271Z"
   },
   {
    "duration": 407,
    "start_time": "2024-01-15T16:52:26.456Z"
   },
   {
    "duration": 128,
    "start_time": "2024-01-15T16:52:26.865Z"
   },
   {
    "duration": 1506,
    "start_time": "2024-01-15T16:52:26.994Z"
   },
   {
    "duration": 224,
    "start_time": "2024-01-15T16:52:28.501Z"
   },
   {
    "duration": 28,
    "start_time": "2024-01-15T16:52:28.727Z"
   },
   {
    "duration": 216,
    "start_time": "2024-01-15T16:52:28.756Z"
   },
   {
    "duration": 244,
    "start_time": "2024-01-15T16:52:28.973Z"
   },
   {
    "duration": 78,
    "start_time": "2024-01-15T16:52:29.219Z"
   },
   {
    "duration": 218,
    "start_time": "2024-01-15T16:52:29.298Z"
   },
   {
    "duration": 42,
    "start_time": "2024-01-15T16:52:29.520Z"
   },
   {
    "duration": 51,
    "start_time": "2024-01-15T16:52:29.564Z"
   },
   {
    "duration": 42,
    "start_time": "2024-01-15T16:52:29.616Z"
   },
   {
    "duration": 60,
    "start_time": "2024-01-15T16:52:29.660Z"
   },
   {
    "duration": 63,
    "start_time": "2024-01-15T16:52:29.722Z"
   },
   {
    "duration": 54,
    "start_time": "2024-01-15T16:52:29.786Z"
   },
   {
    "duration": 31,
    "start_time": "2024-01-15T16:52:29.841Z"
   },
   {
    "duration": 40,
    "start_time": "2024-01-15T16:52:29.873Z"
   },
   {
    "duration": 24,
    "start_time": "2024-01-15T16:52:29.915Z"
   },
   {
    "duration": 2,
    "start_time": "2024-01-15T16:52:29.941Z"
   },
   {
    "duration": 7,
    "start_time": "2024-01-15T16:52:29.944Z"
   },
   {
    "duration": 10,
    "start_time": "2024-01-15T16:52:29.952Z"
   },
   {
    "duration": 8,
    "start_time": "2024-01-15T16:52:29.963Z"
   },
   {
    "duration": 63,
    "start_time": "2024-01-15T16:52:29.972Z"
   },
   {
    "duration": 79,
    "start_time": "2024-01-15T16:52:30.037Z"
   },
   {
    "duration": 69,
    "start_time": "2024-01-15T16:52:30.118Z"
   },
   {
    "duration": 66,
    "start_time": "2024-01-15T16:52:30.188Z"
   },
   {
    "duration": 59,
    "start_time": "2024-01-15T16:52:30.256Z"
   },
   {
    "duration": 142,
    "start_time": "2024-01-15T16:52:30.316Z"
   },
   {
    "duration": 53,
    "start_time": "2024-01-15T16:52:30.459Z"
   },
   {
    "duration": 64,
    "start_time": "2024-01-15T16:52:30.513Z"
   },
   {
    "duration": 63,
    "start_time": "2024-01-15T16:52:30.579Z"
   },
   {
    "duration": 37,
    "start_time": "2024-01-15T16:52:30.643Z"
   },
   {
    "duration": 63,
    "start_time": "2024-01-15T16:52:30.682Z"
   },
   {
    "duration": 85,
    "start_time": "2024-01-15T16:52:30.746Z"
   },
   {
    "duration": 67,
    "start_time": "2024-01-15T16:52:30.833Z"
   },
   {
    "duration": 95,
    "start_time": "2024-01-15T16:52:30.902Z"
   },
   {
    "duration": 48,
    "start_time": "2024-01-15T16:52:30.999Z"
   },
   {
    "duration": 129,
    "start_time": "2024-01-15T16:52:31.049Z"
   },
   {
    "duration": 12,
    "start_time": "2024-01-15T16:52:31.179Z"
   },
   {
    "duration": 25,
    "start_time": "2024-01-15T16:52:31.193Z"
   },
   {
    "duration": 92,
    "start_time": "2024-01-15T16:52:31.220Z"
   },
   {
    "duration": 121,
    "start_time": "2024-01-15T16:52:31.314Z"
   },
   {
    "duration": 3,
    "start_time": "2024-01-15T16:52:31.437Z"
   },
   {
    "duration": 77,
    "start_time": "2024-01-15T16:52:31.441Z"
   },
   {
    "duration": 7,
    "start_time": "2024-01-15T16:52:31.519Z"
   },
   {
    "duration": 41,
    "start_time": "2024-01-15T16:52:31.527Z"
   },
   {
    "duration": 36,
    "start_time": "2024-01-15T16:52:31.569Z"
   },
   {
    "duration": 19,
    "start_time": "2024-01-15T16:52:31.606Z"
   },
   {
    "duration": 28,
    "start_time": "2024-01-15T16:52:31.626Z"
   },
   {
    "duration": 15,
    "start_time": "2024-01-15T16:52:31.656Z"
   },
   {
    "duration": 16,
    "start_time": "2024-01-15T16:52:31.673Z"
   },
   {
    "duration": 14,
    "start_time": "2024-01-15T16:52:31.690Z"
   },
   {
    "duration": 61,
    "start_time": "2024-01-15T16:52:31.706Z"
   },
   {
    "duration": 87,
    "start_time": "2024-01-15T16:52:31.769Z"
   },
   {
    "duration": 40,
    "start_time": "2024-01-15T16:52:31.858Z"
   },
   {
    "duration": 76,
    "start_time": "2024-01-15T16:52:31.900Z"
   },
   {
    "duration": 145,
    "start_time": "2024-01-15T16:52:31.978Z"
   },
   {
    "duration": 3,
    "start_time": "2024-01-15T16:52:32.124Z"
   },
   {
    "duration": 35,
    "start_time": "2024-01-15T16:52:32.128Z"
   },
   {
    "duration": 115,
    "start_time": "2024-01-15T16:52:32.164Z"
   },
   {
    "duration": 195,
    "start_time": "2024-01-15T16:52:32.280Z"
   },
   {
    "duration": 97,
    "start_time": "2024-01-15T16:52:32.476Z"
   },
   {
    "duration": 6,
    "start_time": "2024-01-15T16:52:32.575Z"
   },
   {
    "duration": 207,
    "start_time": "2024-01-15T16:52:32.587Z"
   },
   {
    "duration": 174,
    "start_time": "2024-01-15T16:52:32.795Z"
   },
   {
    "duration": 299,
    "start_time": "2024-01-15T16:52:32.970Z"
   },
   {
    "duration": 376,
    "start_time": "2024-01-15T16:52:33.270Z"
   },
   {
    "duration": 202,
    "start_time": "2024-01-15T16:52:33.647Z"
   },
   {
    "duration": 5,
    "start_time": "2024-01-15T16:52:33.850Z"
   },
   {
    "duration": 48,
    "start_time": "2024-01-15T16:52:33.857Z"
   },
   {
    "duration": 4,
    "start_time": "2024-01-15T16:52:33.907Z"
   },
   {
    "duration": 100,
    "start_time": "2024-01-15T16:52:33.913Z"
   },
   {
    "duration": 25,
    "start_time": "2024-01-15T16:52:34.014Z"
   },
   {
    "duration": 722,
    "start_time": "2024-01-15T16:52:34.041Z"
   },
   {
    "duration": 352,
    "start_time": "2024-01-15T16:52:39.276Z"
   },
   {
    "duration": 3,
    "start_time": "2024-01-15T16:53:53.433Z"
   },
   {
    "duration": 3,
    "start_time": "2024-01-15T16:53:56.941Z"
   },
   {
    "duration": 3,
    "start_time": "2024-01-15T16:53:57.578Z"
   },
   {
    "duration": 505446,
    "start_time": "2024-01-15T16:54:00.913Z"
   },
   {
    "duration": 19,
    "start_time": "2024-01-15T17:02:54.379Z"
   },
   {
    "duration": 4,
    "start_time": "2024-01-15T17:03:08.496Z"
   },
   {
    "duration": 3,
    "start_time": "2024-01-15T17:03:24.930Z"
   },
   {
    "duration": 4,
    "start_time": "2024-01-15T17:03:24.935Z"
   },
   {
    "duration": 4,
    "start_time": "2024-01-15T17:03:24.940Z"
   },
   {
    "duration": 3,
    "start_time": "2024-01-15T17:03:24.946Z"
   },
   {
    "duration": 229374,
    "start_time": "2024-01-15T17:03:24.951Z"
   },
   {
    "duration": 3,
    "start_time": "2024-01-15T17:07:14.327Z"
   },
   {
    "duration": 93,
    "start_time": "2024-01-15T17:07:14.332Z"
   },
   {
    "duration": 0,
    "start_time": "2024-01-15T17:07:14.427Z"
   },
   {
    "duration": 0,
    "start_time": "2024-01-15T17:07:14.428Z"
   },
   {
    "duration": 0,
    "start_time": "2024-01-15T17:07:14.428Z"
   },
   {
    "duration": 0,
    "start_time": "2024-01-15T17:07:14.430Z"
   },
   {
    "duration": 0,
    "start_time": "2024-01-15T17:07:14.431Z"
   },
   {
    "duration": 0,
    "start_time": "2024-01-15T17:07:14.432Z"
   },
   {
    "duration": 0,
    "start_time": "2024-01-15T17:07:14.433Z"
   },
   {
    "duration": 0,
    "start_time": "2024-01-15T17:07:14.434Z"
   },
   {
    "duration": 5,
    "start_time": "2024-01-15T17:07:50.727Z"
   },
   {
    "duration": 5,
    "start_time": "2024-01-15T17:11:00.512Z"
   },
   {
    "duration": 5,
    "start_time": "2024-01-15T17:11:06.106Z"
   },
   {
    "duration": 25,
    "start_time": "2024-01-15T17:11:06.113Z"
   },
   {
    "duration": 27,
    "start_time": "2024-01-15T17:11:06.140Z"
   },
   {
    "duration": 20,
    "start_time": "2024-01-15T17:11:06.169Z"
   },
   {
    "duration": 57,
    "start_time": "2024-01-15T17:11:06.190Z"
   },
   {
    "duration": 0,
    "start_time": "2024-01-15T17:11:06.249Z"
   },
   {
    "duration": 0,
    "start_time": "2024-01-15T17:11:06.250Z"
   },
   {
    "duration": 0,
    "start_time": "2024-01-15T17:11:06.252Z"
   },
   {
    "duration": 0,
    "start_time": "2024-01-15T17:11:06.253Z"
   },
   {
    "duration": 4,
    "start_time": "2024-01-15T17:13:21.945Z"
   },
   {
    "duration": 24,
    "start_time": "2024-01-15T17:13:24.804Z"
   },
   {
    "duration": 5,
    "start_time": "2024-01-15T17:14:49.476Z"
   },
   {
    "duration": 27,
    "start_time": "2024-01-15T17:14:52.163Z"
   },
   {
    "duration": 4,
    "start_time": "2024-01-15T17:19:55.053Z"
   },
   {
    "duration": 48,
    "start_time": "2024-01-15T17:19:58.501Z"
   },
   {
    "duration": 4,
    "start_time": "2024-01-15T17:20:07.107Z"
   },
   {
    "duration": 43609,
    "start_time": "2024-01-15T17:20:10.203Z"
   },
   {
    "duration": 44,
    "start_time": "2024-01-15T17:21:26.839Z"
   },
   {
    "duration": 0,
    "start_time": "2024-01-15T17:21:26.911Z"
   },
   {
    "duration": 0,
    "start_time": "2024-01-15T17:21:26.912Z"
   },
   {
    "duration": 0,
    "start_time": "2024-01-15T17:21:26.913Z"
   },
   {
    "duration": 29,
    "start_time": "2024-01-15T17:22:42.541Z"
   },
   {
    "duration": 31,
    "start_time": "2024-01-15T17:23:00.966Z"
   },
   {
    "duration": 382,
    "start_time": "2024-01-15T17:23:00.999Z"
   },
   {
    "duration": 13705,
    "start_time": "2024-01-15T17:23:01.383Z"
   },
   {
    "duration": 208,
    "start_time": "2024-01-15T17:23:15.090Z"
   }
  ],
  "kernelspec": {
   "display_name": "Python 3 (ipykernel)",
   "language": "python",
   "name": "python3"
  },
  "language_info": {
   "codemirror_mode": {
    "name": "ipython",
    "version": 3
   },
   "file_extension": ".py",
   "mimetype": "text/x-python",
   "name": "python",
   "nbconvert_exporter": "python",
   "pygments_lexer": "ipython3",
   "version": "3.9.16"
  },
  "toc": {
   "base_numbering": 1,
   "nav_menu": {},
   "number_sections": false,
   "sideBar": true,
   "skip_h1_title": false,
   "title_cell": "Table of Contents",
   "title_sidebar": "Contents",
   "toc_cell": true,
   "toc_position": {
    "height": "calc(100% - 180px)",
    "left": "10px",
    "top": "150px",
    "width": "384px"
   },
   "toc_section_display": true,
   "toc_window_display": true
  },
  "varInspector": {
   "cols": {
    "lenName": 16,
    "lenType": 16,
    "lenVar": 40
   },
   "kernels_config": {
    "python": {
     "delete_cmd_postfix": "",
     "delete_cmd_prefix": "del ",
     "library": "var_list.py",
     "varRefreshCmd": "print(var_dic_list())"
    },
    "r": {
     "delete_cmd_postfix": ") ",
     "delete_cmd_prefix": "rm(",
     "library": "var_list.r",
     "varRefreshCmd": "cat(var_dic_list()) "
    }
   },
   "types_to_exclude": [
    "module",
    "function",
    "builtin_function_or_method",
    "instance",
    "_Feature"
   ],
   "window_display": false
  }
 },
 "nbformat": 4,
 "nbformat_minor": 5
}

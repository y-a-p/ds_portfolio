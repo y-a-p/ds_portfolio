{
 "cells": [
  {
   "cell_type": "markdown",
   "metadata": {
    "toc": true
   },
   "source": [
    "<h1>Содержание<span class=\"tocSkip\"></span></h1>\n",
    "<div class=\"toc\"><ul class=\"toc-item\"><li><span><a href=\"#Подготовка-данных\" data-toc-modified-id=\"Подготовка-данных-1\"><span class=\"toc-item-num\">1&nbsp;&nbsp;</span>Подготовка данных</a></span></li><li><span><a href=\"#Обучение-моделей\" data-toc-modified-id=\"Обучение-моделей-2\"><span class=\"toc-item-num\">2&nbsp;&nbsp;</span>Обучение моделей</a></span></li><li><span><a href=\"#Анализ-моделей\" data-toc-modified-id=\"Анализ-моделей-3\"><span class=\"toc-item-num\">3&nbsp;&nbsp;</span>Анализ моделей</a></span></li><li><span><a href=\"#Тестирование-лучшей-модели\" data-toc-modified-id=\"Тестирование-лучшей-модели-4\"><span class=\"toc-item-num\">4&nbsp;&nbsp;</span>Тестирование лучшей модели</a></span></li><li><span><a href=\"#Чек-лист-проверки\" data-toc-modified-id=\"Чек-лист-проверки-5\"><span class=\"toc-item-num\">5&nbsp;&nbsp;</span>Чек-лист проверки</a></span></li></ul></div>"
   ]
  },
  {
   "cell_type": "markdown",
   "metadata": {},
   "source": [
    "# Определение стоимости автомобилей"
   ]
  },
  {
   "cell_type": "markdown",
   "metadata": {},
   "source": [
    "Сервис по продаже автомобилей с пробегом «Не бит, не крашен» разрабатывает приложение для привлечения новых клиентов. В нём можно быстро узнать рыночную стоимость своего автомобиля. В вашем распоряжении исторические данные: технические характеристики, комплектации и цены автомобилей. Вам нужно построить модель для определения стоимости. \n",
    "\n",
    "Заказчику важны:\n",
    "\n",
    "- качество предсказания;\n",
    "- скорость предсказания;\n",
    "- время обучения."
   ]
  },
  {
   "cell_type": "markdown",
   "metadata": {},
   "source": [
    "## Подготовка данных"
   ]
  },
  {
   "cell_type": "code",
   "execution_count": 1,
   "metadata": {},
   "outputs": [],
   "source": [
    "import pandas as pd\n",
    "import numpy as np\n",
    "import lightgbm as lgb\n",
    "import time\n",
    "from sklearn.model_selection import train_test_split, GridSearchCV, RandomizedSearchCV\n",
    "from sklearn.metrics import mean_squared_error\n",
    "from sklearn.preprocessing import OneHotEncoder\n",
    "from sklearn.preprocessing import OrdinalEncoder\n",
    "from sklearn.linear_model import LinearRegression\n",
    "from sklearn.tree import DecisionTreeRegressor"
   ]
  },
  {
   "cell_type": "code",
   "execution_count": 2,
   "metadata": {},
   "outputs": [],
   "source": [
    "df = pd.read_csv('/datasets/autos.csv')"
   ]
  },
  {
   "cell_type": "code",
   "execution_count": 3,
   "metadata": {
    "scrolled": false
   },
   "outputs": [
    {
     "name": "stdout",
     "output_type": "stream",
     "text": [
      "<class 'pandas.core.frame.DataFrame'>\n",
      "RangeIndex: 354369 entries, 0 to 354368\n",
      "Data columns (total 16 columns):\n",
      " #   Column             Non-Null Count   Dtype \n",
      "---  ------             --------------   ----- \n",
      " 0   DateCrawled        354369 non-null  object\n",
      " 1   Price              354369 non-null  int64 \n",
      " 2   VehicleType        316879 non-null  object\n",
      " 3   RegistrationYear   354369 non-null  int64 \n",
      " 4   Gearbox            334536 non-null  object\n",
      " 5   Power              354369 non-null  int64 \n",
      " 6   Model              334664 non-null  object\n",
      " 7   Kilometer          354369 non-null  int64 \n",
      " 8   RegistrationMonth  354369 non-null  int64 \n",
      " 9   FuelType           321474 non-null  object\n",
      " 10  Brand              354369 non-null  object\n",
      " 11  Repaired           283215 non-null  object\n",
      " 12  DateCreated        354369 non-null  object\n",
      " 13  NumberOfPictures   354369 non-null  int64 \n",
      " 14  PostalCode         354369 non-null  int64 \n",
      " 15  LastSeen           354369 non-null  object\n",
      "dtypes: int64(7), object(9)\n",
      "memory usage: 43.3+ MB\n"
     ]
    }
   ],
   "source": [
    "df.info()"
   ]
  },
  {
   "cell_type": "markdown",
   "metadata": {},
   "source": [
    "DateCrawled, RegistrationMonth, DateCreated, NumberOfPictures, PostalCode, LastSeen - удалим эти столбцы, т.к. не содержат характеристик, описывающих автомобиль."
   ]
  },
  {
   "cell_type": "code",
   "execution_count": 4,
   "metadata": {},
   "outputs": [],
   "source": [
    "df.drop(['DateCrawled', 'RegistrationMonth', 'DateCreated', 'NumberOfPictures', 'PostalCode', 'LastSeen'], axis=1, inplace=True)"
   ]
  },
  {
   "cell_type": "code",
   "execution_count": 5,
   "metadata": {},
   "outputs": [
    {
     "name": "stdout",
     "output_type": "stream",
     "text": [
      "<class 'pandas.core.frame.DataFrame'>\n",
      "RangeIndex: 354369 entries, 0 to 354368\n",
      "Data columns (total 10 columns):\n",
      " #   Column            Non-Null Count   Dtype \n",
      "---  ------            --------------   ----- \n",
      " 0   Price             354369 non-null  int64 \n",
      " 1   VehicleType       316879 non-null  object\n",
      " 2   RegistrationYear  354369 non-null  int64 \n",
      " 3   Gearbox           334536 non-null  object\n",
      " 4   Power             354369 non-null  int64 \n",
      " 5   Model             334664 non-null  object\n",
      " 6   Kilometer         354369 non-null  int64 \n",
      " 7   FuelType          321474 non-null  object\n",
      " 8   Brand             354369 non-null  object\n",
      " 9   Repaired          283215 non-null  object\n",
      "dtypes: int64(4), object(6)\n",
      "memory usage: 27.0+ MB\n"
     ]
    }
   ],
   "source": [
    "df.info()"
   ]
  },
  {
   "cell_type": "markdown",
   "metadata": {},
   "source": [
    "**VehicleType**"
   ]
  },
  {
   "cell_type": "code",
   "execution_count": 6,
   "metadata": {
    "scrolled": true
   },
   "outputs": [
    {
     "data": {
      "text/plain": [
       "array([nan, 'coupe', 'suv', 'small', 'sedan', 'convertible', 'bus',\n",
       "       'wagon', 'other'], dtype=object)"
      ]
     },
     "execution_count": 6,
     "metadata": {},
     "output_type": "execute_result"
    }
   ],
   "source": [
    "df['VehicleType'].unique()"
   ]
  },
  {
   "cell_type": "markdown",
   "metadata": {},
   "source": [
    "Заменим пропуски в `VehicleType` на 'other'"
   ]
  },
  {
   "cell_type": "code",
   "execution_count": 7,
   "metadata": {
    "scrolled": true
   },
   "outputs": [],
   "source": [
    "df['VehicleType'] = df['VehicleType'].fillna('other')"
   ]
  },
  {
   "cell_type": "code",
   "execution_count": 8,
   "metadata": {
    "scrolled": true
   },
   "outputs": [
    {
     "data": {
      "text/plain": [
       "array(['other', 'coupe', 'suv', 'small', 'sedan', 'convertible', 'bus',\n",
       "       'wagon'], dtype=object)"
      ]
     },
     "execution_count": 8,
     "metadata": {},
     "output_type": "execute_result"
    }
   ],
   "source": [
    "df['VehicleType'].unique()"
   ]
  },
  {
   "cell_type": "markdown",
   "metadata": {},
   "source": [
    "**RegistrationYear**"
   ]
  },
  {
   "cell_type": "code",
   "execution_count": 9,
   "metadata": {
    "scrolled": true
   },
   "outputs": [
    {
     "data": {
      "text/plain": [
       "array([1000, 1001, 1039, 1111, 1200, 1234, 1253, 1255, 1300, 1400, 1500,\n",
       "       1600, 1602, 1688, 1800, 1910, 1915, 1919, 1920, 1923, 1925, 1927,\n",
       "       1928, 1929, 1930, 1931, 1932, 1933, 1934, 1935, 1936, 1937, 1938,\n",
       "       1940, 1941, 1942, 1943, 1944, 1945, 1946, 1947, 1948, 1949, 1950,\n",
       "       1951, 1952, 1953, 1954, 1955, 1956, 1957, 1958, 1959, 1960, 1961,\n",
       "       1962, 1963, 1964, 1965, 1966, 1967, 1968, 1969, 1970, 1971, 1972,\n",
       "       1973, 1974, 1975, 1976, 1977, 1978, 1979, 1980, 1981, 1982, 1983,\n",
       "       1984, 1985, 1986, 1987, 1988, 1989, 1990, 1991, 1992, 1993, 1994,\n",
       "       1995, 1996, 1997, 1998, 1999, 2000, 2001, 2002, 2003, 2004, 2005,\n",
       "       2006, 2007, 2008, 2009, 2010, 2011, 2012, 2013, 2014, 2015, 2016,\n",
       "       2017, 2018, 2019, 2066, 2200, 2222, 2290, 2500, 2800, 2900, 3000,\n",
       "       3200, 3500, 3700, 3800, 4000, 4100, 4500, 4800, 5000, 5300, 5555,\n",
       "       5600, 5900, 5911, 6000, 6500, 7000, 7100, 7500, 7800, 8000, 8200,\n",
       "       8455, 8500, 8888, 9000, 9229, 9450, 9996, 9999])"
      ]
     },
     "execution_count": 9,
     "metadata": {},
     "output_type": "execute_result"
    }
   ],
   "source": [
    "df['RegistrationYear'].sort_values().unique()"
   ]
  },
  {
   "cell_type": "code",
   "execution_count": 10,
   "metadata": {
    "scrolled": true
   },
   "outputs": [
    {
     "data": {
      "text/plain": [
       "0.0040720266163236625"
      ]
     },
     "execution_count": 10,
     "metadata": {},
     "output_type": "execute_result"
    }
   ],
   "source": [
    "df[(df['RegistrationYear'] <= 1969) | (df['RegistrationYear'] > 2019)]['RegistrationYear'].count()/len(df)"
   ]
  },
  {
   "cell_type": "markdown",
   "metadata": {},
   "source": [
    "Оставим данные о машинах, зарегистрированных  в период с 1970 по 2019,  т.к. это практически 99% датасета"
   ]
  },
  {
   "cell_type": "code",
   "execution_count": 11,
   "metadata": {},
   "outputs": [],
   "source": [
    "df = df[(df['RegistrationYear'] > 1969) | (df['RegistrationYear'] <= 2019)]"
   ]
  },
  {
   "cell_type": "markdown",
   "metadata": {},
   "source": [
    "**Gearbox**"
   ]
  },
  {
   "cell_type": "code",
   "execution_count": 12,
   "metadata": {
    "scrolled": true
   },
   "outputs": [
    {
     "data": {
      "text/plain": [
       "manual    268251\n",
       "auto       66285\n",
       "NaN        19833\n",
       "Name: Gearbox, dtype: int64"
      ]
     },
     "execution_count": 12,
     "metadata": {},
     "output_type": "execute_result"
    }
   ],
   "source": [
    "df['Gearbox'].value_counts(dropna=False)"
   ]
  },
  {
   "cell_type": "markdown",
   "metadata": {},
   "source": [
    "Заменим NaN на категорию 'NAN'"
   ]
  },
  {
   "cell_type": "code",
   "execution_count": 13,
   "metadata": {},
   "outputs": [],
   "source": [
    "df['Gearbox'] = df['Gearbox'].fillna('NAN')"
   ]
  },
  {
   "cell_type": "markdown",
   "metadata": {},
   "source": [
    "**Model**"
   ]
  },
  {
   "cell_type": "code",
   "execution_count": 14,
   "metadata": {
    "scrolled": true
   },
   "outputs": [
    {
     "data": {
      "text/plain": [
       "array(['100', '145', '147', '156', '159', '1_reihe', '1er', '200',\n",
       "       '2_reihe', '300c', '3_reihe', '3er', '4_reihe', '500', '5_reihe',\n",
       "       '5er', '601', '6_reihe', '6er', '7er', '80', '850', '90', '900',\n",
       "       '9000', '911', 'a1', 'a2', 'a3', 'a4', 'a5', 'a6', 'a8',\n",
       "       'a_klasse', 'accord', 'agila', 'alhambra', 'almera', 'altea',\n",
       "       'amarok', 'antara', 'arosa', 'astra', 'auris', 'avensis', 'aveo',\n",
       "       'aygo', 'b_klasse', 'b_max', 'beetle', 'berlingo', 'bora',\n",
       "       'boxster', 'bravo', 'c1', 'c2', 'c3', 'c4', 'c5', 'c_klasse',\n",
       "       'c_max', 'c_reihe', 'caddy', 'calibra', 'captiva', 'carisma',\n",
       "       'carnival', 'cayenne', 'cc', 'ceed', 'charade', 'cherokee',\n",
       "       'citigo', 'civic', 'cl', 'clio', 'clk', 'clubman', 'colt', 'combo',\n",
       "       'cooper', 'cordoba', 'corolla', 'corsa', 'cr_reihe', 'croma',\n",
       "       'crossfire', 'cuore', 'cx_reihe', 'defender', 'delta', 'discovery',\n",
       "       'doblo', 'ducato', 'duster', 'e_klasse', 'elefantino', 'eos',\n",
       "       'escort', 'espace', 'exeo', 'fabia', 'fiesta', 'focus', 'forester',\n",
       "       'forfour', 'fortwo', 'fox', 'freelander', 'fusion', 'g_klasse',\n",
       "       'galant', 'galaxy', 'getz', 'gl', 'glk', 'golf', 'grand', 'i3',\n",
       "       'i_reihe', 'ibiza', 'impreza', 'insignia', 'jazz', 'jetta',\n",
       "       'jimny', 'juke', 'justy', 'ka', 'kadett', 'kaefer', 'kalina',\n",
       "       'kalos', 'kangoo', 'kappa', 'kuga', 'laguna', 'lancer', 'lanos',\n",
       "       'legacy', 'leon', 'lodgy', 'logan', 'lupo', 'lybra', 'm_klasse',\n",
       "       'm_reihe', 'materia', 'matiz', 'megane', 'meriva', 'micra', 'mii',\n",
       "       'modus', 'mondeo', 'move', 'musa', 'mustang', 'mx_reihe', 'navara',\n",
       "       'niva', 'note', 'nubira', 'octavia', 'omega', 'one', 'other',\n",
       "       'outlander', 'pajero', 'panda', 'passat', 'phaeton', 'picanto',\n",
       "       'polo', 'primera', 'ptcruiser', 'punto', 'q3', 'q5', 'q7',\n",
       "       'qashqai', 'r19', 'range_rover', 'range_rover_evoque',\n",
       "       'range_rover_sport', 'rangerover', 'rav', 'rio', 'roadster',\n",
       "       'roomster', 'rx_reihe', 's60', 's_klasse', 's_max', 's_type',\n",
       "       'samara', 'sandero', 'santa', 'scenic', 'scirocco', 'seicento',\n",
       "       'serie_1', 'serie_2', 'serie_3', 'sharan', 'signum', 'sirion',\n",
       "       'sl', 'slk', 'sorento', 'spark', 'spider', 'sportage', 'sprinter',\n",
       "       'stilo', 'superb', 'swift', 'terios', 'tigra', 'tiguan', 'toledo',\n",
       "       'touareg', 'touran', 'transit', 'transporter', 'tt', 'tucson',\n",
       "       'twingo', 'up', 'v40', 'v50', 'v60', 'v70', 'v_klasse', 'vectra',\n",
       "       'verso', 'viano', 'vito', 'vivaro', 'voyager', 'wrangler',\n",
       "       'x_reihe', 'x_trail', 'x_type', 'xc_reihe', 'yaris', 'yeti',\n",
       "       'ypsilon', 'z_reihe', 'zafira', nan], dtype=object)"
      ]
     },
     "execution_count": 14,
     "metadata": {},
     "output_type": "execute_result"
    }
   ],
   "source": [
    "df['Model'].sort_values().unique()"
   ]
  },
  {
   "cell_type": "code",
   "execution_count": 15,
   "metadata": {
    "scrolled": true
   },
   "outputs": [
    {
     "data": {
      "text/plain": [
       "19705"
      ]
     },
     "execution_count": 15,
     "metadata": {},
     "output_type": "execute_result"
    }
   ],
   "source": [
    "df['Model'].isna().sum()"
   ]
  },
  {
   "cell_type": "markdown",
   "metadata": {},
   "source": [
    "Заменим пропуски на 'other'"
   ]
  },
  {
   "cell_type": "code",
   "execution_count": 16,
   "metadata": {},
   "outputs": [],
   "source": [
    "df['Model'] = df['Model'].fillna('other')"
   ]
  },
  {
   "cell_type": "code",
   "execution_count": 17,
   "metadata": {
    "scrolled": true
   },
   "outputs": [
    {
     "data": {
      "text/plain": [
       "array(['100', '145', '147', '156', '159', '1_reihe', '1er', '200',\n",
       "       '2_reihe', '300c', '3_reihe', '3er', '4_reihe', '500', '5_reihe',\n",
       "       '5er', '601', '6_reihe', '6er', '7er', '80', '850', '90', '900',\n",
       "       '9000', '911', 'a1', 'a2', 'a3', 'a4', 'a5', 'a6', 'a8',\n",
       "       'a_klasse', 'accord', 'agila', 'alhambra', 'almera', 'altea',\n",
       "       'amarok', 'antara', 'arosa', 'astra', 'auris', 'avensis', 'aveo',\n",
       "       'aygo', 'b_klasse', 'b_max', 'beetle', 'berlingo', 'bora',\n",
       "       'boxster', 'bravo', 'c1', 'c2', 'c3', 'c4', 'c5', 'c_klasse',\n",
       "       'c_max', 'c_reihe', 'caddy', 'calibra', 'captiva', 'carisma',\n",
       "       'carnival', 'cayenne', 'cc', 'ceed', 'charade', 'cherokee',\n",
       "       'citigo', 'civic', 'cl', 'clio', 'clk', 'clubman', 'colt', 'combo',\n",
       "       'cooper', 'cordoba', 'corolla', 'corsa', 'cr_reihe', 'croma',\n",
       "       'crossfire', 'cuore', 'cx_reihe', 'defender', 'delta', 'discovery',\n",
       "       'doblo', 'ducato', 'duster', 'e_klasse', 'elefantino', 'eos',\n",
       "       'escort', 'espace', 'exeo', 'fabia', 'fiesta', 'focus', 'forester',\n",
       "       'forfour', 'fortwo', 'fox', 'freelander', 'fusion', 'g_klasse',\n",
       "       'galant', 'galaxy', 'getz', 'gl', 'glk', 'golf', 'grand', 'i3',\n",
       "       'i_reihe', 'ibiza', 'impreza', 'insignia', 'jazz', 'jetta',\n",
       "       'jimny', 'juke', 'justy', 'ka', 'kadett', 'kaefer', 'kalina',\n",
       "       'kalos', 'kangoo', 'kappa', 'kuga', 'laguna', 'lancer', 'lanos',\n",
       "       'legacy', 'leon', 'lodgy', 'logan', 'lupo', 'lybra', 'm_klasse',\n",
       "       'm_reihe', 'materia', 'matiz', 'megane', 'meriva', 'micra', 'mii',\n",
       "       'modus', 'mondeo', 'move', 'musa', 'mustang', 'mx_reihe', 'navara',\n",
       "       'niva', 'note', 'nubira', 'octavia', 'omega', 'one', 'other',\n",
       "       'outlander', 'pajero', 'panda', 'passat', 'phaeton', 'picanto',\n",
       "       'polo', 'primera', 'ptcruiser', 'punto', 'q3', 'q5', 'q7',\n",
       "       'qashqai', 'r19', 'range_rover', 'range_rover_evoque',\n",
       "       'range_rover_sport', 'rangerover', 'rav', 'rio', 'roadster',\n",
       "       'roomster', 'rx_reihe', 's60', 's_klasse', 's_max', 's_type',\n",
       "       'samara', 'sandero', 'santa', 'scenic', 'scirocco', 'seicento',\n",
       "       'serie_1', 'serie_2', 'serie_3', 'sharan', 'signum', 'sirion',\n",
       "       'sl', 'slk', 'sorento', 'spark', 'spider', 'sportage', 'sprinter',\n",
       "       'stilo', 'superb', 'swift', 'terios', 'tigra', 'tiguan', 'toledo',\n",
       "       'touareg', 'touran', 'transit', 'transporter', 'tt', 'tucson',\n",
       "       'twingo', 'up', 'v40', 'v50', 'v60', 'v70', 'v_klasse', 'vectra',\n",
       "       'verso', 'viano', 'vito', 'vivaro', 'voyager', 'wrangler',\n",
       "       'x_reihe', 'x_trail', 'x_type', 'xc_reihe', 'yaris', 'yeti',\n",
       "       'ypsilon', 'z_reihe', 'zafira'], dtype=object)"
      ]
     },
     "execution_count": 17,
     "metadata": {},
     "output_type": "execute_result"
    }
   ],
   "source": [
    "df['Model'].sort_values().unique()"
   ]
  },
  {
   "cell_type": "markdown",
   "metadata": {},
   "source": [
    "**Kilometer**"
   ]
  },
  {
   "cell_type": "code",
   "execution_count": 18,
   "metadata": {
    "scrolled": true
   },
   "outputs": [
    {
     "data": {
      "text/plain": [
       "count    354369.000000\n",
       "mean     128211.172535\n",
       "std       37905.341530\n",
       "min        5000.000000\n",
       "25%      125000.000000\n",
       "50%      150000.000000\n",
       "75%      150000.000000\n",
       "max      150000.000000\n",
       "Name: Kilometer, dtype: float64"
      ]
     },
     "execution_count": 18,
     "metadata": {},
     "output_type": "execute_result"
    }
   ],
   "source": [
    "df['Kilometer'].describe()"
   ]
  },
  {
   "cell_type": "markdown",
   "metadata": {},
   "source": [
    "Проблем не обнаружено"
   ]
  },
  {
   "cell_type": "markdown",
   "metadata": {},
   "source": [
    "**FuelType**"
   ]
  },
  {
   "cell_type": "code",
   "execution_count": 19,
   "metadata": {
    "scrolled": true
   },
   "outputs": [
    {
     "data": {
      "text/plain": [
       "array(['petrol', 'gasoline', nan, 'lpg', 'other', 'hybrid', 'cng',\n",
       "       'electric'], dtype=object)"
      ]
     },
     "execution_count": 19,
     "metadata": {},
     "output_type": "execute_result"
    }
   ],
   "source": [
    "df['FuelType'].unique()"
   ]
  },
  {
   "cell_type": "markdown",
   "metadata": {},
   "source": [
    "Заменим пропуски на 'other'"
   ]
  },
  {
   "cell_type": "code",
   "execution_count": 20,
   "metadata": {},
   "outputs": [],
   "source": [
    "df['FuelType'] = df['FuelType'].fillna('other')"
   ]
  },
  {
   "cell_type": "markdown",
   "metadata": {},
   "source": [
    "**Brand**"
   ]
  },
  {
   "cell_type": "code",
   "execution_count": 21,
   "metadata": {
    "scrolled": true
   },
   "outputs": [
    {
     "data": {
      "text/plain": [
       "array(['volkswagen', 'audi', 'jeep', 'skoda', 'bmw', 'peugeot', 'ford',\n",
       "       'mazda', 'nissan', 'renault', 'mercedes_benz', 'opel', 'seat',\n",
       "       'citroen', 'honda', 'fiat', 'mini', 'smart', 'hyundai',\n",
       "       'sonstige_autos', 'alfa_romeo', 'subaru', 'volvo', 'mitsubishi',\n",
       "       'kia', 'suzuki', 'lancia', 'toyota', 'chevrolet', 'dacia',\n",
       "       'daihatsu', 'trabant', 'saab', 'chrysler', 'jaguar', 'daewoo',\n",
       "       'porsche', 'rover', 'land_rover', 'lada'], dtype=object)"
      ]
     },
     "execution_count": 21,
     "metadata": {},
     "output_type": "execute_result"
    }
   ],
   "source": [
    "df['Brand'].unique()"
   ]
  },
  {
   "cell_type": "markdown",
   "metadata": {},
   "source": [
    "Исправления не требуются"
   ]
  },
  {
   "cell_type": "markdown",
   "metadata": {},
   "source": [
    "**Repaired**"
   ]
  },
  {
   "cell_type": "code",
   "execution_count": 22,
   "metadata": {
    "scrolled": true
   },
   "outputs": [
    {
     "data": {
      "text/plain": [
       "array([nan, 'yes', 'no'], dtype=object)"
      ]
     },
     "execution_count": 22,
     "metadata": {},
     "output_type": "execute_result"
    }
   ],
   "source": [
    "df['Repaired'].unique()"
   ]
  },
  {
   "cell_type": "markdown",
   "metadata": {},
   "source": [
    "Заменим пропуски на 'NAN'"
   ]
  },
  {
   "cell_type": "code",
   "execution_count": 23,
   "metadata": {},
   "outputs": [],
   "source": [
    "df['Repaired'] = df['Repaired'].fillna('NAN')"
   ]
  },
  {
   "cell_type": "markdown",
   "metadata": {},
   "source": [
    "**Power**"
   ]
  },
  {
   "cell_type": "code",
   "execution_count": 24,
   "metadata": {
    "scrolled": true
   },
   "outputs": [
    {
     "data": {
      "text/plain": [
       "array([    0,     1,     2,     3,     4,     5,     6,     7,     8,\n",
       "           9,    10,    11,    12,    13,    14,    15,    16,    17,\n",
       "          18,    19,    20,    21,    22,    23,    24,    25,    26,\n",
       "          27,    28,    29,    30,    31,    32,    33,    34,    35,\n",
       "          36,    37,    38,    39,    40,    41,    42,    43,    44,\n",
       "          45,    46,    47,    48,    49,    50,    51,    52,    53,\n",
       "          54,    55,    56,    57,    58,    59,    60,    61,    62,\n",
       "          63,    64,    65,    66,    67,    68,    69,    70,    71,\n",
       "          72,    73,    74,    75,    76,    77,    78,    79,    80,\n",
       "          81,    82,    83,    84,    85,    86,    87,    88,    89,\n",
       "          90,    91,    92,    93,    94,    95,    96,    97,    98,\n",
       "          99,   100,   101,   102,   103,   104,   105,   106,   107,\n",
       "         108,   109,   110,   111,   112,   113,   114,   115,   116,\n",
       "         117,   118,   119,   120,   121,   122,   123,   124,   125,\n",
       "         126,   127,   128,   129,   130,   131,   132,   133,   134,\n",
       "         135,   136,   137,   138,   139,   140,   141,   142,   143,\n",
       "         144,   145,   146,   147,   148,   149,   150,   151,   152,\n",
       "         153,   154,   155,   156,   157,   158,   159,   160,   161,\n",
       "         162,   163,   164,   165,   166,   167,   168,   169,   170,\n",
       "         171,   172,   173,   174,   175,   176,   177,   178,   179,\n",
       "         180,   181,   182,   183,   184,   185,   186,   187,   188,\n",
       "         189,   190,   191,   192,   193,   194,   195,   196,   197,\n",
       "         198,   199,   200,   201,   202,   203,   204,   205,   206,\n",
       "         207,   208,   209,   210,   211,   212,   213,   214,   215,\n",
       "         216,   217,   218,   219,   220,   221,   222,   223,   224,\n",
       "         225,   226,   227,   228,   229,   230,   231,   232,   233,\n",
       "         234,   235,   236,   237,   238,   239,   240,   241,   242,\n",
       "         243,   244,   245,   246,   247,   248,   249,   250,   251,\n",
       "         252,   253,   254,   255,   256,   257,   258,   259,   260,\n",
       "         261,   262,   264,   265,   266,   267,   268,   269,   270,\n",
       "         271,   272,   273,   274,   275,   276,   277,   278,   279,\n",
       "         280,   281,   282,   283,   284,   285,   286,   287,   288,\n",
       "         289,   290,   292,   293,   294,   295,   296,   297,   298,\n",
       "         299,   300,   301,   303,   304,   305,   306,   307,   308,\n",
       "         309,   310,   311,   313,   314,   315,   316,   317,   318,\n",
       "         320,   321,   322,   323,   324,   325,   326,   327,   328,\n",
       "         329,   330,   331,   332,   333,   334,   335,   336,   337,\n",
       "         338,   339,   340,   341,   343,   344,   345,   346,   347,\n",
       "         348,   349,   350,   351,   352,   353,   354,   355,   356,\n",
       "         357,   358,   360,   361,   362,   363,   364,   365,   367,\n",
       "         368,   370,   371,   374,   375,   376,   377,   379,   380,\n",
       "         381,   382,   385,   386,   387,   388,   390,   392,   394,\n",
       "         396,   398,   399,   400,   401,   402,   405,   408,   409,\n",
       "         411,   416,   420,   421,   425,   426,   428,   430,   431,\n",
       "         435,   440,   442,   445,   449,   450,   454,   457,   459,\n",
       "         460,   475,   476,   485,   487,   489,   490,   500,   504,\n",
       "         505,   507,   508,   510,   514,   515,   517,   519,   520,\n",
       "         521,   525,   530,   540,   541,   544,   550,   551,   553,\n",
       "         560,   572,   574,   579,   580,   584,   585,   599,   600,\n",
       "         601,   602,   603,   604,   606,   607,   610,   612,   620,\n",
       "         640,   645,   650,   651,   671,   678,   682,   685,   696,\n",
       "         700,   702,   703,   732,   743,   750,   751,   754,   771,\n",
       "         776,   800,   805,   808,   850,   851,   871,   900,   901,\n",
       "         902,   903,   907,   909,   923,   950,   952,   953,   960,\n",
       "         998,   999,  1000,  1001,  1002,  1003,  1004,  1005,  1011,\n",
       "        1012,  1016,  1017,  1021,  1024,  1054,  1055,  1056,  1062,\n",
       "        1079,  1082,  1090,  1100,  1102,  1103,  1105,  1111,  1115,\n",
       "        1120,  1149,  1151,  1158,  1160,  1162,  1164,  1199,  1200,\n",
       "        1202,  1221,  1223,  1230,  1239,  1240,  1241,  1250,  1252,\n",
       "        1256,  1275,  1288,  1299,  1300,  1312,  1317,  1324,  1339,\n",
       "        1351,  1360,  1362,  1363,  1367,  1390,  1394,  1398,  1399,\n",
       "        1400,  1401,  1403,  1405,  1416,  1432,  1433,  1436,  1500,\n",
       "        1501,  1502,  1503,  1506,  1521,  1548,  1595,  1596,  1597,\n",
       "        1598,  1600,  1625,  1631,  1653,  1659,  1689,  1700,  1701,\n",
       "        1703,  1704,  1707,  1753,  1771,  1779,  1780,  1781,  1783,\n",
       "        1793,  1796,  1799,  1800,  1801,  1870,  1895,  1896,  1900,\n",
       "        1910,  1920,  1922,  1933,  1937,  1968,  1986,  1988,  1992,\n",
       "        1993,  1995,  1998,  1999,  2000,  2004,  2005,  2007,  2009,\n",
       "        2016,  2017,  2018,  2172,  2200,  2201,  2331,  2340,  2389,\n",
       "        2402,  2461,  2598,  2729,  2789,  2792,  2799,  3000,  3199,\n",
       "        3454,  3500,  3750,  4400,  4507,  4700,  5000,  5411,  5420,\n",
       "        5575,  5809,  5815,  5867,  6006,  6010,  6011,  6012,  6018,\n",
       "        6045,  6062,  6226,  6512,  6920,  7508,  7511,  7512,  7515,\n",
       "        7518,  7529,  7544,  8011,  8259,  8404,  8500,  9000,  9007,\n",
       "        9010,  9011,  9012,  9013,  9710, 10000, 10110, 10218, 10311,\n",
       "       10317, 10520, 10522, 10710, 10910, 10912, 11011, 11025, 11111,\n",
       "       11509, 11530, 11635, 12012, 12510, 12512, 12684, 13616, 13636,\n",
       "       14009, 15001, 15016, 15017, 15020, 15033, 16011, 16051, 16311,\n",
       "       16312, 17011, 17019, 17410, 17700, 17932, 19208, 19211, 19312,\n",
       "       20000])"
      ]
     },
     "execution_count": 24,
     "metadata": {},
     "output_type": "execute_result"
    }
   ],
   "source": [
    "df['Power'].sort_values().unique()"
   ]
  },
  {
   "cell_type": "markdown",
   "metadata": {},
   "source": [
    "Заменим значения мощности двигателя меньшие 50 и большие 500 на медианные значения характерные для этих моделей"
   ]
  },
  {
   "cell_type": "code",
   "execution_count": 25,
   "metadata": {},
   "outputs": [],
   "source": [
    "for col in df['Model'].unique():\n",
    "    df.loc[(df['Model'] == col) & ((df['Power'] <=50) | (df['Power'] >=500)), 'Power'] = \\\n",
    "    df.loc[(df['Model'] == col), 'Power'].median()\n"
   ]
  },
  {
   "cell_type": "code",
   "execution_count": 26,
   "metadata": {
    "scrolled": true
   },
   "outputs": [
    {
     "data": {
      "text/plain": [
       "array([  0. ,  26. ,  34. ,  42. ,  50. ,  51. ,  52. ,  53. ,  54. ,\n",
       "        55. ,  56. ,  57. ,  58. ,  59. ,  60. ,  61. ,  62. ,  63. ,\n",
       "        64. ,  65. ,  66. ,  67. ,  68. ,  68.5,  69. ,  70. ,  71. ,\n",
       "        72. ,  73. ,  74. ,  75. ,  76. ,  77. ,  78. ,  79. ,  80. ,\n",
       "        81. ,  82. ,  83. ,  84. ,  85. ,  86. ,  87. ,  88. ,  89. ,\n",
       "        90. ,  91. ,  92. ,  93. ,  94. ,  95. ,  96. ,  97. ,  97.5,\n",
       "        98. ,  99. , 100. , 101. , 102. , 103. , 104. , 105. , 106. ,\n",
       "       107. , 108. , 109. , 110. , 111. , 112. , 113. , 114. , 115. ,\n",
       "       115.5, 116. , 117. , 118. , 119. , 120. , 121. , 122. , 123. ,\n",
       "       124. , 125. , 126. , 127. , 128. , 129. , 130. , 131. , 132. ,\n",
       "       133. , 134. , 135. , 136. , 137. , 138. , 139. , 140. , 141. ,\n",
       "       142. , 143. , 144. , 145. , 146. , 147. , 148. , 149. , 150. ,\n",
       "       151. , 152. , 153. , 154. , 155. , 156. , 157. , 158. , 159. ,\n",
       "       160. , 161. , 162. , 163. , 164. , 165. , 166. , 167. , 168. ,\n",
       "       169. , 170. , 171. , 172. , 173. , 174. , 175. , 176. , 177. ,\n",
       "       178. , 179. , 180. , 180.5, 181. , 182. , 183. , 184. , 185. ,\n",
       "       186. , 187. , 188. , 189. , 190. , 191. , 192. , 193. , 194. ,\n",
       "       195. , 196. , 197. , 198. , 199. , 200. , 201. , 202. , 203. ,\n",
       "       204. , 205. , 206. , 207. , 208. , 209. , 210. , 211. , 212. ,\n",
       "       213. , 214. , 215. , 216. , 217. , 218. , 219. , 220. , 221. ,\n",
       "       222. , 223. , 224. , 225. , 226. , 227. , 228. , 229. , 230. ,\n",
       "       231. , 232. , 233. , 234. , 235. , 236. , 237. , 238. , 239. ,\n",
       "       240. , 241. , 242. , 243. , 244. , 245. , 246. , 247. , 248. ,\n",
       "       249. , 250. , 251. , 252. , 253. , 254. , 255. , 256. , 257. ,\n",
       "       258. , 259. , 260. , 261. , 262. , 264. , 265. , 266. , 267. ,\n",
       "       268. , 269. , 270. , 271. , 272. , 273. , 274. , 275. , 276. ,\n",
       "       277. , 278. , 279. , 280. , 281. , 282. , 283. , 284. , 285. ,\n",
       "       286. , 287. , 288. , 289. , 290. , 292. , 293. , 294. , 295. ,\n",
       "       296. , 297. , 298. , 299. , 300. , 301. , 303. , 304. , 305. ,\n",
       "       306. , 307. , 308. , 309. , 310. , 311. , 313. , 314. , 315. ,\n",
       "       316. , 317. , 318. , 320. , 321. , 322. , 323. , 324. , 325. ,\n",
       "       326. , 327. , 328. , 329. , 330. , 331. , 332. , 333. , 334. ,\n",
       "       335. , 336. , 337. , 338. , 339. , 340. , 341. , 343. , 344. ,\n",
       "       345. , 346. , 347. , 348. , 349. , 350. , 351. , 352. , 353. ,\n",
       "       354. , 355. , 356. , 357. , 358. , 360. , 361. , 362. , 363. ,\n",
       "       364. , 365. , 367. , 368. , 370. , 371. , 374. , 375. , 376. ,\n",
       "       377. , 379. , 380. , 381. , 382. , 385. , 386. , 387. , 388. ,\n",
       "       390. , 392. , 394. , 396. , 398. , 399. , 400. , 401. , 402. ,\n",
       "       405. , 408. , 409. , 411. , 416. , 420. , 421. , 425. , 426. ,\n",
       "       428. , 430. , 431. , 435. , 440. , 442. , 445. , 449. , 450. ,\n",
       "       454. , 457. , 459. , 460. , 475. , 476. , 485. , 487. , 489. ,\n",
       "       490. ])"
      ]
     },
     "execution_count": 26,
     "metadata": {},
     "output_type": "execute_result"
    }
   ],
   "source": [
    "df['Power'].sort_values().unique()"
   ]
  },
  {
   "cell_type": "markdown",
   "metadata": {},
   "source": [
    "Для тех моделей, у которых мощность двигателя меньше 50, заменим значение на максимальное значание, характерное для это модели."
   ]
  },
  {
   "cell_type": "code",
   "execution_count": 27,
   "metadata": {},
   "outputs": [],
   "source": [
    "for col in df['Model'].unique():\n",
    "    df.loc[(df['Model'] == col) & ((df['Power'] <=50)), 'Power'] = \\\n",
    "    df.loc[(df['Model'] == col), 'Power'].max()\n"
   ]
  },
  {
   "cell_type": "code",
   "execution_count": 28,
   "metadata": {
    "scrolled": true
   },
   "outputs": [
    {
     "data": {
      "text/html": [
       "<div>\n",
       "<style scoped>\n",
       "    .dataframe tbody tr th:only-of-type {\n",
       "        vertical-align: middle;\n",
       "    }\n",
       "\n",
       "    .dataframe tbody tr th {\n",
       "        vertical-align: top;\n",
       "    }\n",
       "\n",
       "    .dataframe thead th {\n",
       "        text-align: right;\n",
       "    }\n",
       "</style>\n",
       "<table border=\"1\" class=\"dataframe\">\n",
       "  <thead>\n",
       "    <tr style=\"text-align: right;\">\n",
       "      <th></th>\n",
       "      <th>Price</th>\n",
       "      <th>VehicleType</th>\n",
       "      <th>RegistrationYear</th>\n",
       "      <th>Gearbox</th>\n",
       "      <th>Power</th>\n",
       "      <th>Model</th>\n",
       "      <th>Kilometer</th>\n",
       "      <th>FuelType</th>\n",
       "      <th>Brand</th>\n",
       "      <th>Repaired</th>\n",
       "    </tr>\n",
       "  </thead>\n",
       "  <tbody>\n",
       "    <tr>\n",
       "      <th>234296</th>\n",
       "      <td>3800</td>\n",
       "      <td>wagon</td>\n",
       "      <td>1978</td>\n",
       "      <td>manual</td>\n",
       "      <td>0.0</td>\n",
       "      <td>serie_1</td>\n",
       "      <td>30000</td>\n",
       "      <td>gasoline</td>\n",
       "      <td>land_rover</td>\n",
       "      <td>NAN</td>\n",
       "    </tr>\n",
       "    <tr>\n",
       "      <th>280216</th>\n",
       "      <td>0</td>\n",
       "      <td>other</td>\n",
       "      <td>1970</td>\n",
       "      <td>NAN</td>\n",
       "      <td>0.0</td>\n",
       "      <td>serie_1</td>\n",
       "      <td>100000</td>\n",
       "      <td>petrol</td>\n",
       "      <td>land_rover</td>\n",
       "      <td>NAN</td>\n",
       "    </tr>\n",
       "  </tbody>\n",
       "</table>\n",
       "</div>"
      ],
      "text/plain": [
       "        Price VehicleType  RegistrationYear Gearbox  Power    Model  \\\n",
       "234296   3800       wagon              1978  manual    0.0  serie_1   \n",
       "280216      0       other              1970     NAN    0.0  serie_1   \n",
       "\n",
       "        Kilometer  FuelType       Brand Repaired  \n",
       "234296      30000  gasoline  land_rover      NAN  \n",
       "280216     100000    petrol  land_rover      NAN  "
      ]
     },
     "execution_count": 28,
     "metadata": {},
     "output_type": "execute_result"
    }
   ],
   "source": [
    "df[df['Power'] == 0]"
   ]
  },
  {
   "cell_type": "markdown",
   "metadata": {},
   "source": [
    "Эти записи удалим"
   ]
  },
  {
   "cell_type": "code",
   "execution_count": 29,
   "metadata": {},
   "outputs": [],
   "source": [
    "df = df[df['Power'] > 0]"
   ]
  },
  {
   "cell_type": "markdown",
   "metadata": {},
   "source": [
    "**Price**"
   ]
  },
  {
   "cell_type": "code",
   "execution_count": 30,
   "metadata": {
    "scrolled": true
   },
   "outputs": [
    {
     "data": {
      "text/plain": [
       "Price               12749\n",
       "VehicleType         12749\n",
       "RegistrationYear    12749\n",
       "Gearbox             12749\n",
       "Power               12749\n",
       "Model               12749\n",
       "Kilometer           12749\n",
       "FuelType            12749\n",
       "Brand               12749\n",
       "Repaired            12749\n",
       "dtype: int64"
      ]
     },
     "execution_count": 30,
     "metadata": {},
     "output_type": "execute_result"
    }
   ],
   "source": [
    "df[df['Price'] <= 50].count()"
   ]
  },
  {
   "cell_type": "markdown",
   "metadata": {},
   "source": [
    "Удалим записи со стоимостью автомобиля меньше 50"
   ]
  },
  {
   "cell_type": "code",
   "execution_count": 31,
   "metadata": {},
   "outputs": [],
   "source": [
    "df = df[df['Power'] >= 50]"
   ]
  },
  {
   "cell_type": "markdown",
   "metadata": {},
   "source": [
    "**Дубликаты**"
   ]
  },
  {
   "cell_type": "code",
   "execution_count": 32,
   "metadata": {},
   "outputs": [
    {
     "data": {
      "text/plain": [
       "47577"
      ]
     },
     "execution_count": 32,
     "metadata": {},
     "output_type": "execute_result"
    }
   ],
   "source": [
    "df.duplicated().sum()"
   ]
  },
  {
   "cell_type": "code",
   "execution_count": 33,
   "metadata": {},
   "outputs": [],
   "source": [
    "df = df.drop_duplicates().reset_index(drop=True)"
   ]
  },
  {
   "cell_type": "markdown",
   "metadata": {},
   "source": [
    "**Кодирование категориальных признаков**"
   ]
  },
  {
   "cell_type": "markdown",
   "metadata": {},
   "source": [
    "```python\n",
    "# порядковое кодирование\n",
    "encoder = OrdinalEncoder(handle_unknown='use_encoded_value', unknown_value=9999)\n",
    "cat_columns = [список всех категориальных признаков]\n",
    "encoder.fit(features_train[cat_columns])\n",
    "\n",
    "features_train_ord = features_train.copy()\n",
    "features_valid_ord = features_valid.copy()\n",
    "features_test_ord = features_test.copy()\n",
    "\n",
    "features_train_ord[cat_columns] = encoder.transform(features_train_ord[cat_columns])\n",
    "features_valid_ord[cat_columns] = encoder.transform(features_valid_ord[cat_columns])\n",
    "features_test_ord[cat_columns] = encoder.transform(features_test_ord[cat_columns])\n",
    "```"
   ]
  },
  {
   "cell_type": "markdown",
   "metadata": {},
   "source": [
    "**Вывод:**\n",
    "\n",
    "1. Были обработаны пропуски, в основном пропуски не удалялись, а заменялись на NAN или other\n",
    "2. Не типчные значения мощностей были заменены на медианные значения, характерные для этих моделей\n",
    "3. Удалено 12 тыс. записей с ценой меньше 50\n",
    "4. Удалено 47 тыс. дубликатов\n",
    "5. Осуществлено кодирование категориальных признаков методом OHE"
   ]
  },
  {
   "cell_type": "markdown",
   "metadata": {},
   "source": [
    "## Обучение моделей"
   ]
  },
  {
   "cell_type": "code",
   "execution_count": 35,
   "metadata": {},
   "outputs": [],
   "source": [
    "features = df.drop(['Price'], axis=1)\n",
    "target = df['Price']"
   ]
  },
  {
   "cell_type": "code",
   "execution_count": 36,
   "metadata": {},
   "outputs": [],
   "source": [
    "features_train, features_test, target_train, target_test = train_test_split(features, target, test_size=0.2, random_state=12345)\n",
    "features_train, features_val, target_train, target_val = train_test_split(features_train, target_train, test_size=0.25, random_state=12345)"
   ]
  },
  {
   "cell_type": "markdown",
   "metadata": {},
   "source": [
    "**Кодирование категориальных признаков**"
   ]
  },
  {
   "cell_type": "code",
   "execution_count": 37,
   "metadata": {},
   "outputs": [],
   "source": [
    "cat_columns = ['VehicleType', 'Gearbox', 'Model', 'FuelType', 'Brand', 'Repaired']"
   ]
  },
  {
   "cell_type": "markdown",
   "metadata": {},
   "source": [
    "OneHotEncoder - для градиентного бустинга"
   ]
  },
  {
   "cell_type": "code",
   "execution_count": 38,
   "metadata": {},
   "outputs": [],
   "source": [
    "ohe_encoder = OneHotEncoder(sparse=False, handle_unknown='ignore')\n",
    "ohe_encoder.fit(features_train[cat_columns])\n",
    "\n",
    "features_train_ohe = ohe_encoder.transform(features_train[cat_columns])\n",
    "features_train_ohe = pd.DataFrame(features_train_ohe, columns=ohe_encoder.get_feature_names(cat_columns))\n",
    "features_train_ohe.index = features_train.index\n",
    "features_train_ohe = pd.concat([features_train.drop(cat_columns, axis=1), features_train_ohe], axis=1)\n",
    "\n",
    "features_val_ohe = ohe_encoder.transform(features_val[cat_columns])\n",
    "features_val_ohe = pd.DataFrame(features_val_ohe, columns=ohe_encoder.get_feature_names(cat_columns))\n",
    "features_val_ohe.index = features_val.index\n",
    "features_val_ohe = pd.concat([features_val.drop(cat_columns, axis=1), features_val_ohe], axis=1)\n",
    "\n",
    "features_test_ohe = ohe_encoder.transform(features_test[cat_columns])\n",
    "features_test_ohe = pd.DataFrame(features_test_ohe, columns=ohe_encoder.get_feature_names(cat_columns))\n",
    "features_test_ohe.index = features_test.index\n",
    "features_test_ohe = pd.concat([features_test.drop(cat_columns, axis=1), features_test_ohe], axis=1)"
   ]
  },
  {
   "cell_type": "markdown",
   "metadata": {},
   "source": [
    "OrdinalEncoder - для деревьев"
   ]
  },
  {
   "cell_type": "code",
   "execution_count": 39,
   "metadata": {},
   "outputs": [],
   "source": [
    "oe_encoder = OrdinalEncoder(handle_unknown='use_encoded_value', unknown_value=9999)\n",
    "cat_columns = ['VehicleType', 'Gearbox', 'Model', 'FuelType', 'Brand', 'Repaired']\n",
    "oe_encoder.fit(features_train[cat_columns])\n",
    "\n",
    "features_train_oe = features_train.copy()\n",
    "features_val_oe = features_val.copy()\n",
    "features_test_oe = features_test.copy()\n",
    "\n",
    "features_train_oe[cat_columns] = oe_encoder.transform(features_train_oe[cat_columns])\n",
    "features_val_oe[cat_columns] = oe_encoder.transform(features_val_oe[cat_columns])\n",
    "features_test_oe[cat_columns] = oe_encoder.transform(features_test_oe[cat_columns])"
   ]
  },
  {
   "cell_type": "markdown",
   "metadata": {},
   "source": [
    "**LightGBM**"
   ]
  },
  {
   "cell_type": "code",
   "execution_count": 40,
   "metadata": {},
   "outputs": [],
   "source": [
    "data = lgb.Dataset(features_train_ohe, label=target_train)"
   ]
  },
  {
   "cell_type": "markdown",
   "metadata": {},
   "source": [
    "Осуществим подбор с помощью GridsearchCV"
   ]
  },
  {
   "cell_type": "code",
   "execution_count": 41,
   "metadata": {},
   "outputs": [],
   "source": [
    "model = lgb.LGBMRegressor()"
   ]
  },
  {
   "cell_type": "code",
   "execution_count": 42,
   "metadata": {},
   "outputs": [],
   "source": [
    "param_grid = {\n",
    "    'num_leaves': [20, 40],\n",
    "    'learning_rate': [0.01, 0.1],\n",
    "    'n_estimators': [100],\n",
    "    'reg_alpha': [0.0, 0.1],\n",
    "    'random_state': [12345]\n",
    "}"
   ]
  },
  {
   "cell_type": "code",
   "execution_count": 43,
   "metadata": {},
   "outputs": [],
   "source": [
    "grid_search = GridSearchCV(model, param_grid, scoring='neg_mean_squared_error', verbose=2)"
   ]
  },
  {
   "cell_type": "code",
   "execution_count": 44,
   "metadata": {},
   "outputs": [
    {
     "name": "stdout",
     "output_type": "stream",
     "text": [
      "Fitting 5 folds for each of 8 candidates, totalling 40 fits\n",
      "[CV] END learning_rate=0.01, n_estimators=100, num_leaves=20, random_state=12345, reg_alpha=0.0; total time= 4.1min\n",
      "[CV] END learning_rate=0.01, n_estimators=100, num_leaves=20, random_state=12345, reg_alpha=0.0; total time= 2.2min\n",
      "[CV] END learning_rate=0.01, n_estimators=100, num_leaves=20, random_state=12345, reg_alpha=0.0; total time=  40.7s\n",
      "[CV] END learning_rate=0.01, n_estimators=100, num_leaves=20, random_state=12345, reg_alpha=0.0; total time=   6.8s\n",
      "[CV] END learning_rate=0.01, n_estimators=100, num_leaves=20, random_state=12345, reg_alpha=0.0; total time=   6.2s\n",
      "[CV] END learning_rate=0.01, n_estimators=100, num_leaves=20, random_state=12345, reg_alpha=0.1; total time=   7.3s\n",
      "[CV] END learning_rate=0.01, n_estimators=100, num_leaves=20, random_state=12345, reg_alpha=0.1; total time=  51.8s\n",
      "[CV] END learning_rate=0.01, n_estimators=100, num_leaves=20, random_state=12345, reg_alpha=0.1; total time= 2.1min\n",
      "[CV] END learning_rate=0.01, n_estimators=100, num_leaves=20, random_state=12345, reg_alpha=0.1; total time=  34.8s\n",
      "[CV] END learning_rate=0.01, n_estimators=100, num_leaves=20, random_state=12345, reg_alpha=0.1; total time=  36.6s\n",
      "[CV] END learning_rate=0.01, n_estimators=100, num_leaves=40, random_state=12345, reg_alpha=0.0; total time=  56.4s\n",
      "[CV] END learning_rate=0.01, n_estimators=100, num_leaves=40, random_state=12345, reg_alpha=0.0; total time= 1.8min\n",
      "[CV] END learning_rate=0.01, n_estimators=100, num_leaves=40, random_state=12345, reg_alpha=0.0; total time=  50.2s\n",
      "[CV] END learning_rate=0.01, n_estimators=100, num_leaves=40, random_state=12345, reg_alpha=0.0; total time= 1.3min\n",
      "[CV] END learning_rate=0.01, n_estimators=100, num_leaves=40, random_state=12345, reg_alpha=0.0; total time=  51.7s\n",
      "[CV] END learning_rate=0.01, n_estimators=100, num_leaves=40, random_state=12345, reg_alpha=0.1; total time=  48.9s\n",
      "[CV] END learning_rate=0.01, n_estimators=100, num_leaves=40, random_state=12345, reg_alpha=0.1; total time=  50.5s\n",
      "[CV] END learning_rate=0.01, n_estimators=100, num_leaves=40, random_state=12345, reg_alpha=0.1; total time= 1.1min\n",
      "[CV] END learning_rate=0.01, n_estimators=100, num_leaves=40, random_state=12345, reg_alpha=0.1; total time=  47.6s\n",
      "[CV] END learning_rate=0.01, n_estimators=100, num_leaves=40, random_state=12345, reg_alpha=0.1; total time= 1.1min\n",
      "[CV] END learning_rate=0.1, n_estimators=100, num_leaves=20, random_state=12345, reg_alpha=0.0; total time=  58.1s\n",
      "[CV] END learning_rate=0.1, n_estimators=100, num_leaves=20, random_state=12345, reg_alpha=0.0; total time= 1.1min\n",
      "[CV] END learning_rate=0.1, n_estimators=100, num_leaves=20, random_state=12345, reg_alpha=0.0; total time= 1.3min\n",
      "[CV] END learning_rate=0.1, n_estimators=100, num_leaves=20, random_state=12345, reg_alpha=0.0; total time=  41.4s\n",
      "[CV] END learning_rate=0.1, n_estimators=100, num_leaves=20, random_state=12345, reg_alpha=0.0; total time=   6.3s\n",
      "[CV] END learning_rate=0.1, n_estimators=100, num_leaves=20, random_state=12345, reg_alpha=0.1; total time=   5.3s\n",
      "[CV] END learning_rate=0.1, n_estimators=100, num_leaves=20, random_state=12345, reg_alpha=0.1; total time=   6.4s\n",
      "[CV] END learning_rate=0.1, n_estimators=100, num_leaves=20, random_state=12345, reg_alpha=0.1; total time=   5.3s\n",
      "[CV] END learning_rate=0.1, n_estimators=100, num_leaves=20, random_state=12345, reg_alpha=0.1; total time=   5.3s\n",
      "[CV] END learning_rate=0.1, n_estimators=100, num_leaves=20, random_state=12345, reg_alpha=0.1; total time=   6.1s\n",
      "[CV] END learning_rate=0.1, n_estimators=100, num_leaves=40, random_state=12345, reg_alpha=0.0; total time=   6.1s\n",
      "[CV] END learning_rate=0.1, n_estimators=100, num_leaves=40, random_state=12345, reg_alpha=0.0; total time=   6.6s\n",
      "[CV] END learning_rate=0.1, n_estimators=100, num_leaves=40, random_state=12345, reg_alpha=0.0; total time=   6.6s\n",
      "[CV] END learning_rate=0.1, n_estimators=100, num_leaves=40, random_state=12345, reg_alpha=0.0; total time=   6.2s\n",
      "[CV] END learning_rate=0.1, n_estimators=100, num_leaves=40, random_state=12345, reg_alpha=0.0; total time=   6.1s\n",
      "[CV] END learning_rate=0.1, n_estimators=100, num_leaves=40, random_state=12345, reg_alpha=0.1; total time=   6.4s\n",
      "[CV] END learning_rate=0.1, n_estimators=100, num_leaves=40, random_state=12345, reg_alpha=0.1; total time=   6.5s\n",
      "[CV] END learning_rate=0.1, n_estimators=100, num_leaves=40, random_state=12345, reg_alpha=0.1; total time=   6.7s\n",
      "[CV] END learning_rate=0.1, n_estimators=100, num_leaves=40, random_state=12345, reg_alpha=0.1; total time=   6.5s\n",
      "[CV] END learning_rate=0.1, n_estimators=100, num_leaves=40, random_state=12345, reg_alpha=0.1; total time=   6.3s\n"
     ]
    },
    {
     "data": {
      "text/plain": [
       "GridSearchCV(estimator=LGBMRegressor(),\n",
       "             param_grid={'learning_rate': [0.01, 0.1], 'n_estimators': [100],\n",
       "                         'num_leaves': [20, 40], 'random_state': [12345],\n",
       "                         'reg_alpha': [0.0, 0.1]},\n",
       "             scoring='neg_mean_squared_error', verbose=2)"
      ]
     },
     "execution_count": 44,
     "metadata": {},
     "output_type": "execute_result"
    }
   ],
   "source": [
    "grid_search.fit(features_train_ohe, target_train)"
   ]
  },
  {
   "cell_type": "code",
   "execution_count": 45,
   "metadata": {},
   "outputs": [
    {
     "name": "stdout",
     "output_type": "stream",
     "text": [
      "Наилучшие параметры  для LGM: {'learning_rate': 0.1, 'n_estimators': 100, 'num_leaves': 40, 'random_state': 12345, 'reg_alpha': 0.0}\n"
     ]
    }
   ],
   "source": [
    "best_params_lgbm = grid_search.best_params_\n",
    "print(\"Наилучшие параметры  для LGM:\", best_params_lgbm)"
   ]
  },
  {
   "cell_type": "code",
   "execution_count": 46,
   "metadata": {},
   "outputs": [],
   "source": [
    "model_1 = lgb.LGBMRegressor(learning_rate=0.1, n_estimators=100, num_leaves=40, reg_alpha=0.0, random_state=12345)"
   ]
  },
  {
   "cell_type": "markdown",
   "metadata": {},
   "source": [
    "Замерим время обучения модели с лучшеми параметрами."
   ]
  },
  {
   "cell_type": "code",
   "execution_count": 47,
   "metadata": {},
   "outputs": [],
   "source": [
    "start_time = time.time()\n",
    "model_1.fit(features_train_ohe, target_train)\n",
    "end_time = time.time()\n",
    "time_train_1 = end_time-start_time"
   ]
  },
  {
   "cell_type": "markdown",
   "metadata": {},
   "source": [
    "Замерим время предсказания модели на валидационной выборке"
   ]
  },
  {
   "cell_type": "code",
   "execution_count": 49,
   "metadata": {},
   "outputs": [],
   "source": [
    "start_time = time.time()\n",
    "y_pred_1 = model_1.predict(features_val_ohe)\n",
    "end_time = time.time()\n",
    "time_prediction_1 = end_time-start_time"
   ]
  },
  {
   "cell_type": "markdown",
   "metadata": {},
   "source": [
    "Вычеслим RMSE на валидационной выборке"
   ]
  },
  {
   "cell_type": "code",
   "execution_count": 51,
   "metadata": {},
   "outputs": [],
   "source": [
    "# Вычисление метрики RMSE\n",
    "rmse_valid_1 = mean_squared_error(target_val, y_pred_1, squared=False)"
   ]
  },
  {
   "cell_type": "markdown",
   "metadata": {},
   "source": [
    "**DecisionTreeRegressor**"
   ]
  },
  {
   "cell_type": "code",
   "execution_count": 59,
   "metadata": {},
   "outputs": [],
   "source": [
    "model = DecisionTreeRegressor()"
   ]
  },
  {
   "cell_type": "code",
   "execution_count": 60,
   "metadata": {},
   "outputs": [],
   "source": [
    "param_dist = {\n",
    "    'max_depth': [None, 5, 10, 20, 30],\n",
    "    'min_samples_split': [2, 5, 10],\n",
    "    'min_samples_leaf': [1, 2, 4],\n",
    "    'max_features': ['auto', 'sqrt', 'log2'],\n",
    "    'random_state': [12345]\n",
    "}"
   ]
  },
  {
   "cell_type": "code",
   "execution_count": 61,
   "metadata": {},
   "outputs": [],
   "source": [
    "random_search = RandomizedSearchCV(model, param_distributions=param_dist, n_iter=50, scoring='neg_mean_squared_error', random_state=12345)"
   ]
  },
  {
   "cell_type": "code",
   "execution_count": 62,
   "metadata": {},
   "outputs": [
    {
     "data": {
      "text/plain": [
       "RandomizedSearchCV(estimator=DecisionTreeRegressor(), n_iter=50,\n",
       "                   param_distributions={'max_depth': [None, 5, 10, 20, 30],\n",
       "                                        'max_features': ['auto', 'sqrt',\n",
       "                                                         'log2'],\n",
       "                                        'min_samples_leaf': [1, 2, 4],\n",
       "                                        'min_samples_split': [2, 5, 10],\n",
       "                                        'random_state': [12345]},\n",
       "                   random_state=12345, scoring='neg_mean_squared_error')"
      ]
     },
     "execution_count": 62,
     "metadata": {},
     "output_type": "execute_result"
    }
   ],
   "source": [
    "random_search.fit(features_train_oe, target_train)"
   ]
  },
  {
   "cell_type": "code",
   "execution_count": 63,
   "metadata": {},
   "outputs": [
    {
     "name": "stdout",
     "output_type": "stream",
     "text": [
      "Наилучшие параметры: {'random_state': 12345, 'min_samples_split': 10, 'min_samples_leaf': 4, 'max_features': 'auto', 'max_depth': 20}\n"
     ]
    }
   ],
   "source": [
    "best_params_dtr = random_search.best_params_\n",
    "print(\"Наилучшие параметры:\", best_params_dtr)"
   ]
  },
  {
   "cell_type": "code",
   "execution_count": 64,
   "metadata": {},
   "outputs": [],
   "source": [
    "model_2 = DecisionTreeRegressor(random_state=12345, min_samples_split=10, min_samples_leaf=4, max_features='sqrt', max_depth=20)"
   ]
  },
  {
   "cell_type": "code",
   "execution_count": 65,
   "metadata": {},
   "outputs": [],
   "source": [
    "start_time = time.time()\n",
    "model_2.fit(features_train_oe, target_train)\n",
    "end_time = time.time()\n",
    "time_train_2 = end_time-start_time"
   ]
  },
  {
   "cell_type": "code",
   "execution_count": 66,
   "metadata": {},
   "outputs": [],
   "source": [
    "start_time = time.time()\n",
    "#Делаем предсказание на валидационной выборке\n",
    "y_pred_2 = model_2.predict(features_val_oe)\n",
    "end_time = time.time()\n",
    "time_prediction_2 = end_time-start_time"
   ]
  },
  {
   "cell_type": "code",
   "execution_count": 67,
   "metadata": {},
   "outputs": [],
   "source": [
    "# Вычисляем RMSE\n",
    "rmse_valid_2 = mean_squared_error(target_val, y_pred_2, squared=False)"
   ]
  },
  {
   "cell_type": "markdown",
   "metadata": {},
   "source": [
    "**Вывод**\n",
    " \n",
    " 1. Было обучено 2 модели\n",
    "     - LightGBM, параметры подбирались с помощью GridSearch\n",
    "     - DecisionTreeRegressor, параметры подбирались с помощью RandomSearch\n",
    " 2. На валидационной выборке расчитаны метрики RMSE\n",
    " 3. Измерены время обучения и время предсказания моделей"
   ]
  },
  {
   "cell_type": "markdown",
   "metadata": {},
   "source": [
    "## Анализ моделей"
   ]
  },
  {
   "cell_type": "markdown",
   "metadata": {},
   "source": [
    "Сравним результаты, полученые на предыдущем шаге."
   ]
  },
  {
   "cell_type": "code",
   "execution_count": 68,
   "metadata": {
    "scrolled": false
   },
   "outputs": [
    {
     "data": {
      "text/html": [
       "<div>\n",
       "<style scoped>\n",
       "    .dataframe tbody tr th:only-of-type {\n",
       "        vertical-align: middle;\n",
       "    }\n",
       "\n",
       "    .dataframe tbody tr th {\n",
       "        vertical-align: top;\n",
       "    }\n",
       "\n",
       "    .dataframe thead th {\n",
       "        text-align: right;\n",
       "    }\n",
       "</style>\n",
       "<table border=\"1\" class=\"dataframe\">\n",
       "  <thead>\n",
       "    <tr style=\"text-align: right;\">\n",
       "      <th></th>\n",
       "      <th>Время обучения</th>\n",
       "      <th>Время предсказания</th>\n",
       "      <th>RMSE-val</th>\n",
       "    </tr>\n",
       "  </thead>\n",
       "  <tbody>\n",
       "    <tr>\n",
       "      <th>LightGBM</th>\n",
       "      <td>6.772949</td>\n",
       "      <td>2.329466</td>\n",
       "      <td>1845.362749</td>\n",
       "    </tr>\n",
       "    <tr>\n",
       "      <th>DTR</th>\n",
       "      <td>0.206056</td>\n",
       "      <td>0.023076</td>\n",
       "      <td>2090.722556</td>\n",
       "    </tr>\n",
       "  </tbody>\n",
       "</table>\n",
       "</div>"
      ],
      "text/plain": [
       "          Время обучения  Время предсказания     RMSE-val\n",
       "LightGBM        6.772949            2.329466  1845.362749\n",
       "DTR             0.206056            0.023076  2090.722556"
      ]
     },
     "execution_count": 68,
     "metadata": {},
     "output_type": "execute_result"
    }
   ],
   "source": [
    "index = ['LightGBM', 'DTR']\n",
    "columns = ['Время обучения', 'Время предсказания', 'RMSE-val']\n",
    "data = np.array([\n",
    "        [time_train_1, time_train_2],\n",
    "        [time_prediction_1, time_prediction_2],\n",
    "        [rmse_valid_1, rmse_valid_2]])\n",
    "\n",
    "result = pd.DataFrame(data=data.T, columns=columns, index=index)\n",
    "result"
   ]
  },
  {
   "cell_type": "markdown",
   "metadata": {},
   "source": [
    "**Вывод**"
   ]
  },
  {
   "cell_type": "markdown",
   "metadata": {},
   "source": [
    "Обе модели проходят по критерию оценки, но т.к. для заказчика также важны скорость обучения и предсказания, то для тестирования отбираем модель DTR"
   ]
  },
  {
   "cell_type": "markdown",
   "metadata": {},
   "source": [
    "## Тестирование лучшей модели"
   ]
  },
  {
   "cell_type": "markdown",
   "metadata": {},
   "source": [
    "Получим RMSE на тестовых данных."
   ]
  },
  {
   "cell_type": "code",
   "execution_count": 69,
   "metadata": {},
   "outputs": [
    {
     "name": "stdout",
     "output_type": "stream",
     "text": [
      "RMSE DTR  на тестовых данных 2101.2095932121388\n"
     ]
    }
   ],
   "source": [
    "y_pred_2 = model_2.predict(features_test_oe)\n",
    "rmse_test_2 = mean_squared_error(target_test, y_pred_2, squared=False)\n",
    "print('RMSE DTR  на тестовых данных', rmse_test_2)"
   ]
  },
  {
   "cell_type": "markdown",
   "metadata": {},
   "source": [
    "**Вывод:**\n",
    "- модель  DTR на тестовых данных удовлетворяет требованиям к оценке, при этом показывает более высокую скорость по сравнению с моделью LGBM. "
   ]
  }
 ],
 "metadata": {
  "ExecuteTimeLog": [
   {
    "duration": 368,
    "start_time": "2023-04-21T09:56:29.026Z"
   },
   {
    "duration": 3099,
    "start_time": "2023-04-21T09:56:56.504Z"
   },
   {
    "duration": 105,
    "start_time": "2023-04-21T09:57:08.572Z"
   },
   {
    "duration": 788,
    "start_time": "2023-04-21T10:53:11.885Z"
   },
   {
    "duration": 103,
    "start_time": "2023-04-21T10:53:18.530Z"
   },
   {
    "duration": 53,
    "start_time": "2023-04-21T14:26:27.328Z"
   },
   {
    "duration": 409,
    "start_time": "2023-04-21T14:26:32.339Z"
   },
   {
    "duration": 3326,
    "start_time": "2023-04-21T14:26:33.608Z"
   },
   {
    "duration": 165,
    "start_time": "2023-04-21T14:26:36.937Z"
   },
   {
    "duration": 36,
    "start_time": "2023-04-21T14:26:39.699Z"
   },
   {
    "duration": 53,
    "start_time": "2023-04-21T14:27:55.927Z"
   },
   {
    "duration": 42,
    "start_time": "2023-04-21T14:31:25.627Z"
   },
   {
    "duration": 23,
    "start_time": "2023-04-21T14:31:39.785Z"
   },
   {
    "duration": 28,
    "start_time": "2023-04-21T14:31:52.386Z"
   },
   {
    "duration": 27,
    "start_time": "2023-04-21T14:31:54.656Z"
   },
   {
    "duration": 7,
    "start_time": "2023-04-21T14:32:57.231Z"
   },
   {
    "duration": 76,
    "start_time": "2023-04-21T14:33:18.873Z"
   },
   {
    "duration": 34,
    "start_time": "2023-04-21T14:33:37.779Z"
   },
   {
    "duration": 39,
    "start_time": "2023-04-21T14:34:05.360Z"
   },
   {
    "duration": 26,
    "start_time": "2023-04-21T14:35:18.670Z"
   },
   {
    "duration": 26,
    "start_time": "2023-04-21T14:37:10.925Z"
   },
   {
    "duration": 70,
    "start_time": "2023-04-21T14:37:38.394Z"
   },
   {
    "duration": 29,
    "start_time": "2023-04-21T14:37:41.407Z"
   },
   {
    "duration": 13,
    "start_time": "2023-04-21T14:45:19.664Z"
   },
   {
    "duration": 6,
    "start_time": "2023-04-21T14:50:20.896Z"
   },
   {
    "duration": 39,
    "start_time": "2023-04-21T14:59:29.324Z"
   },
   {
    "duration": 3,
    "start_time": "2023-04-21T15:01:35.996Z"
   },
   {
    "duration": 4,
    "start_time": "2023-04-21T15:01:58.034Z"
   },
   {
    "duration": 7,
    "start_time": "2023-04-21T15:02:29.821Z"
   },
   {
    "duration": 13,
    "start_time": "2023-04-21T15:02:50.642Z"
   },
   {
    "duration": 11,
    "start_time": "2023-04-21T15:03:25.847Z"
   },
   {
    "duration": 12,
    "start_time": "2023-04-21T15:03:44.423Z"
   },
   {
    "duration": 19,
    "start_time": "2023-04-21T15:04:23.014Z"
   },
   {
    "duration": 43,
    "start_time": "2023-04-21T15:06:15.807Z"
   },
   {
    "duration": 16,
    "start_time": "2023-04-21T15:06:38.735Z"
   },
   {
    "duration": 15,
    "start_time": "2023-04-21T15:06:48.617Z"
   },
   {
    "duration": 11,
    "start_time": "2023-04-21T15:06:54.082Z"
   },
   {
    "duration": 10,
    "start_time": "2023-04-21T15:07:47.370Z"
   },
   {
    "duration": 10,
    "start_time": "2023-04-21T15:07:59.860Z"
   },
   {
    "duration": 12,
    "start_time": "2023-04-21T15:08:22.298Z"
   },
   {
    "duration": 14,
    "start_time": "2023-04-21T15:08:26.788Z"
   },
   {
    "duration": 10,
    "start_time": "2023-04-21T15:08:34.250Z"
   },
   {
    "duration": 12,
    "start_time": "2023-04-21T15:08:43.578Z"
   },
   {
    "duration": 16,
    "start_time": "2023-04-21T15:09:28.146Z"
   },
   {
    "duration": 77,
    "start_time": "2023-04-21T15:11:38.181Z"
   },
   {
    "duration": 60,
    "start_time": "2023-04-21T15:11:53.291Z"
   },
   {
    "duration": 24,
    "start_time": "2023-04-21T15:12:51.045Z"
   },
   {
    "duration": 25,
    "start_time": "2023-04-21T15:13:53.637Z"
   },
   {
    "duration": 13,
    "start_time": "2023-04-21T15:15:33.744Z"
   },
   {
    "duration": 42,
    "start_time": "2023-04-21T15:15:40.937Z"
   },
   {
    "duration": 35,
    "start_time": "2023-04-21T15:16:35.670Z"
   },
   {
    "duration": 23,
    "start_time": "2023-04-21T15:17:36.381Z"
   },
   {
    "duration": 26,
    "start_time": "2023-04-21T15:17:45.360Z"
   },
   {
    "duration": 8,
    "start_time": "2023-04-21T15:18:28.361Z"
   },
   {
    "duration": 19,
    "start_time": "2023-04-21T15:25:00.735Z"
   },
   {
    "duration": 5,
    "start_time": "2023-04-21T15:25:01.710Z"
   },
   {
    "duration": 4,
    "start_time": "2023-04-21T15:25:02.970Z"
   },
   {
    "duration": 52,
    "start_time": "2023-04-21T15:29:12.175Z"
   },
   {
    "duration": 21,
    "start_time": "2023-04-21T15:29:20.118Z"
   },
   {
    "duration": 4,
    "start_time": "2023-04-21T15:29:22.644Z"
   },
   {
    "duration": 8,
    "start_time": "2023-04-21T15:29:23.918Z"
   },
   {
    "duration": 26,
    "start_time": "2023-04-21T15:35:11.064Z"
   },
   {
    "duration": 29,
    "start_time": "2023-04-21T15:35:32.862Z"
   },
   {
    "duration": 16,
    "start_time": "2023-04-21T15:36:05.362Z"
   },
   {
    "duration": 31,
    "start_time": "2023-04-21T15:36:34.713Z"
   },
   {
    "duration": 10,
    "start_time": "2023-04-21T15:39:56.920Z"
   },
   {
    "duration": 17,
    "start_time": "2023-04-21T15:40:04.099Z"
   },
   {
    "duration": 10,
    "start_time": "2023-04-21T15:40:54.569Z"
   },
   {
    "duration": 17,
    "start_time": "2023-04-21T15:40:56.929Z"
   },
   {
    "duration": 67,
    "start_time": "2023-04-21T15:41:40.189Z"
   },
   {
    "duration": 23,
    "start_time": "2023-04-21T15:42:05.331Z"
   },
   {
    "duration": 79,
    "start_time": "2023-04-21T15:42:19.142Z"
   },
   {
    "duration": 3,
    "start_time": "2023-04-21T15:44:48.302Z"
   },
   {
    "duration": 51,
    "start_time": "2023-04-21T15:45:07.724Z"
   },
   {
    "duration": 69,
    "start_time": "2023-04-21T15:45:24.670Z"
   },
   {
    "duration": 55,
    "start_time": "2023-04-21T15:45:38.644Z"
   },
   {
    "duration": 412,
    "start_time": "2023-04-21T15:46:35.005Z"
   },
   {
    "duration": 348,
    "start_time": "2023-04-21T15:46:48.126Z"
   },
   {
    "duration": 356,
    "start_time": "2023-04-21T15:46:54.010Z"
   },
   {
    "duration": 45,
    "start_time": "2023-04-21T15:48:15.850Z"
   },
   {
    "duration": 54,
    "start_time": "2023-04-21T15:49:33.197Z"
   },
   {
    "duration": 494,
    "start_time": "2023-04-21T15:49:52.808Z"
   },
   {
    "duration": 19,
    "start_time": "2023-04-21T15:50:54.772Z"
   },
   {
    "duration": 25,
    "start_time": "2023-04-21T15:51:57.661Z"
   },
   {
    "duration": 24,
    "start_time": "2023-04-21T15:53:46.759Z"
   },
   {
    "duration": 421,
    "start_time": "2023-04-21T15:54:06.045Z"
   },
   {
    "duration": 20,
    "start_time": "2023-04-21T15:55:58.340Z"
   },
   {
    "duration": 18,
    "start_time": "2023-04-21T15:57:18.062Z"
   },
   {
    "duration": 15,
    "start_time": "2023-04-21T15:58:18.541Z"
   },
   {
    "duration": 27,
    "start_time": "2023-04-21T15:58:59.994Z"
   },
   {
    "duration": 22,
    "start_time": "2023-04-21T16:00:13.162Z"
   },
   {
    "duration": 36,
    "start_time": "2023-04-21T16:00:23.794Z"
   },
   {
    "duration": 17,
    "start_time": "2023-04-21T16:02:05.710Z"
   },
   {
    "duration": 32,
    "start_time": "2023-04-21T16:02:21.798Z"
   },
   {
    "duration": 19,
    "start_time": "2023-04-21T16:02:58.275Z"
   },
   {
    "duration": 31,
    "start_time": "2023-04-21T16:03:22.036Z"
   },
   {
    "duration": 91,
    "start_time": "2023-04-21T16:03:37.689Z"
   },
   {
    "duration": 36,
    "start_time": "2023-04-21T16:04:57.838Z"
   },
   {
    "duration": 23,
    "start_time": "2023-04-21T16:05:56.095Z"
   },
   {
    "duration": 26,
    "start_time": "2023-04-21T16:10:29.567Z"
   },
   {
    "duration": 121,
    "start_time": "2023-04-21T16:10:30.969Z"
   },
   {
    "duration": 17,
    "start_time": "2023-04-21T17:09:16.060Z"
   },
   {
    "duration": 166,
    "start_time": "2023-04-21T17:13:45.226Z"
   },
   {
    "duration": 19405,
    "start_time": "2023-04-21T17:13:50.036Z"
   },
   {
    "duration": 15,
    "start_time": "2023-04-21T17:14:23.589Z"
   },
   {
    "duration": 29,
    "start_time": "2023-04-21T17:15:39.769Z"
   },
   {
    "duration": 93,
    "start_time": "2023-04-21T17:15:50.039Z"
   },
   {
    "duration": 30,
    "start_time": "2023-04-21T17:17:18.600Z"
   },
   {
    "duration": 87,
    "start_time": "2023-04-21T17:18:17.096Z"
   },
   {
    "duration": 19031,
    "start_time": "2023-04-21T17:19:42.972Z"
   },
   {
    "duration": 85,
    "start_time": "2023-04-21T17:20:02.010Z"
   },
   {
    "duration": 20,
    "start_time": "2023-04-21T17:20:22.568Z"
   },
   {
    "duration": 234,
    "start_time": "2023-04-21T17:21:02.517Z"
   },
   {
    "duration": 49,
    "start_time": "2023-04-21T17:24:02.049Z"
   },
   {
    "duration": 58,
    "start_time": "2023-04-21T17:26:06.140Z"
   },
   {
    "duration": 7,
    "start_time": "2023-04-21T17:26:44.889Z"
   },
   {
    "duration": 6,
    "start_time": "2023-04-21T17:27:02.902Z"
   },
   {
    "duration": 81,
    "start_time": "2023-04-21T17:27:50.098Z"
   },
   {
    "duration": 3517,
    "start_time": "2023-04-21T17:28:33.289Z"
   },
   {
    "duration": 31,
    "start_time": "2023-04-21T17:29:01.999Z"
   },
   {
    "duration": 16,
    "start_time": "2023-04-21T17:29:05.880Z"
   },
   {
    "duration": 17,
    "start_time": "2023-04-21T17:29:08.993Z"
   },
   {
    "duration": 39,
    "start_time": "2023-04-21T17:29:15.136Z"
   },
   {
    "duration": 15,
    "start_time": "2023-04-21T17:29:18.078Z"
   },
   {
    "duration": 42,
    "start_time": "2023-04-21T17:29:22.648Z"
   },
   {
    "duration": 27,
    "start_time": "2023-04-21T17:29:29.093Z"
   },
   {
    "duration": 17,
    "start_time": "2023-04-21T17:29:32.480Z"
   },
   {
    "duration": 15,
    "start_time": "2023-04-21T17:29:36.590Z"
   },
   {
    "duration": 26,
    "start_time": "2023-04-21T17:29:45.504Z"
   },
   {
    "duration": 17,
    "start_time": "2023-04-21T17:29:56.883Z"
   },
   {
    "duration": 9,
    "start_time": "2023-04-21T17:30:39.891Z"
   },
   {
    "duration": 40,
    "start_time": "2023-04-21T17:31:30.456Z"
   },
   {
    "duration": 99,
    "start_time": "2023-04-21T17:33:46.905Z"
   },
   {
    "duration": 193,
    "start_time": "2023-04-21T17:33:54.735Z"
   },
   {
    "duration": 236,
    "start_time": "2023-04-21T17:34:47.453Z"
   },
   {
    "duration": 16,
    "start_time": "2023-04-21T17:35:51.042Z"
   },
   {
    "duration": 837,
    "start_time": "2023-04-21T17:38:23.447Z"
   },
   {
    "duration": 148,
    "start_time": "2023-04-21T17:40:21.081Z"
   },
   {
    "duration": 134,
    "start_time": "2023-04-21T17:45:03.518Z"
   },
   {
    "duration": 48,
    "start_time": "2023-04-21T17:47:34.441Z"
   },
   {
    "duration": 28,
    "start_time": "2023-04-21T17:47:55.136Z"
   },
   {
    "duration": 72,
    "start_time": "2023-04-21T17:52:51.394Z"
   },
   {
    "duration": 3,
    "start_time": "2023-04-21T17:53:25.737Z"
   },
   {
    "duration": 10,
    "start_time": "2023-04-21T17:54:50.835Z"
   },
   {
    "duration": 26,
    "start_time": "2023-04-21T17:55:26.912Z"
   },
   {
    "duration": 4,
    "start_time": "2023-04-21T17:56:02.762Z"
   },
   {
    "duration": 1123,
    "start_time": "2023-04-21T17:56:02.767Z"
   },
   {
    "duration": 186,
    "start_time": "2023-04-21T17:56:03.892Z"
   },
   {
    "duration": 69,
    "start_time": "2023-04-21T17:56:04.080Z"
   },
   {
    "duration": 105,
    "start_time": "2023-04-21T17:56:04.152Z"
   },
   {
    "duration": 33,
    "start_time": "2023-04-21T17:56:04.259Z"
   },
   {
    "duration": 63,
    "start_time": "2023-04-21T17:56:04.294Z"
   },
   {
    "duration": 23,
    "start_time": "2023-04-21T17:56:04.359Z"
   },
   {
    "duration": 53,
    "start_time": "2023-04-21T17:56:04.384Z"
   },
   {
    "duration": 964,
    "start_time": "2023-04-21T17:56:04.441Z"
   },
   {
    "duration": 0,
    "start_time": "2023-04-21T17:56:05.408Z"
   },
   {
    "duration": 0,
    "start_time": "2023-04-21T17:56:05.409Z"
   },
   {
    "duration": 0,
    "start_time": "2023-04-21T17:56:05.410Z"
   },
   {
    "duration": 0,
    "start_time": "2023-04-21T17:56:05.413Z"
   },
   {
    "duration": 0,
    "start_time": "2023-04-21T17:56:05.415Z"
   },
   {
    "duration": 0,
    "start_time": "2023-04-21T17:56:05.416Z"
   },
   {
    "duration": 0,
    "start_time": "2023-04-21T17:56:05.417Z"
   },
   {
    "duration": 0,
    "start_time": "2023-04-21T17:56:05.419Z"
   },
   {
    "duration": 0,
    "start_time": "2023-04-21T17:56:05.420Z"
   },
   {
    "duration": 0,
    "start_time": "2023-04-21T17:56:05.422Z"
   },
   {
    "duration": 0,
    "start_time": "2023-04-21T17:56:05.423Z"
   },
   {
    "duration": 0,
    "start_time": "2023-04-21T17:56:05.424Z"
   },
   {
    "duration": 0,
    "start_time": "2023-04-21T17:56:05.425Z"
   },
   {
    "duration": 0,
    "start_time": "2023-04-21T17:56:05.427Z"
   },
   {
    "duration": 0,
    "start_time": "2023-04-21T17:56:05.428Z"
   },
   {
    "duration": 0,
    "start_time": "2023-04-21T17:56:05.429Z"
   },
   {
    "duration": 0,
    "start_time": "2023-04-21T17:56:05.430Z"
   },
   {
    "duration": 0,
    "start_time": "2023-04-21T17:56:05.432Z"
   },
   {
    "duration": 0,
    "start_time": "2023-04-21T17:56:05.433Z"
   },
   {
    "duration": 0,
    "start_time": "2023-04-21T17:56:05.434Z"
   },
   {
    "duration": 0,
    "start_time": "2023-04-21T17:56:05.436Z"
   },
   {
    "duration": 0,
    "start_time": "2023-04-21T17:56:05.437Z"
   },
   {
    "duration": 0,
    "start_time": "2023-04-21T17:56:05.438Z"
   },
   {
    "duration": 0,
    "start_time": "2023-04-21T17:56:05.439Z"
   },
   {
    "duration": 0,
    "start_time": "2023-04-21T17:56:05.441Z"
   },
   {
    "duration": 0,
    "start_time": "2023-04-21T17:56:05.442Z"
   },
   {
    "duration": 0,
    "start_time": "2023-04-21T17:56:05.443Z"
   },
   {
    "duration": 9,
    "start_time": "2023-04-21T17:56:41.882Z"
   },
   {
    "duration": 3,
    "start_time": "2023-04-21T17:56:51.270Z"
   },
   {
    "duration": 984,
    "start_time": "2023-04-21T17:56:51.275Z"
   },
   {
    "duration": 178,
    "start_time": "2023-04-21T17:56:52.260Z"
   },
   {
    "duration": 38,
    "start_time": "2023-04-21T17:56:52.440Z"
   },
   {
    "duration": 122,
    "start_time": "2023-04-21T17:56:52.480Z"
   },
   {
    "duration": 50,
    "start_time": "2023-04-21T17:56:52.603Z"
   },
   {
    "duration": 25,
    "start_time": "2023-04-21T17:56:52.654Z"
   },
   {
    "duration": 37,
    "start_time": "2023-04-21T17:56:52.681Z"
   },
   {
    "duration": 36,
    "start_time": "2023-04-21T17:56:52.723Z"
   },
   {
    "duration": 8,
    "start_time": "2023-04-21T17:56:52.761Z"
   },
   {
    "duration": 52,
    "start_time": "2023-04-21T17:56:52.771Z"
   },
   {
    "duration": 48,
    "start_time": "2023-04-21T17:56:52.824Z"
   },
   {
    "duration": 46,
    "start_time": "2023-04-21T17:56:52.873Z"
   },
   {
    "duration": 402,
    "start_time": "2023-04-21T17:56:52.924Z"
   },
   {
    "duration": 28,
    "start_time": "2023-04-21T17:56:53.328Z"
   },
   {
    "duration": 43,
    "start_time": "2023-04-21T17:56:53.358Z"
   },
   {
    "duration": 402,
    "start_time": "2023-04-21T17:56:53.403Z"
   },
   {
    "duration": 36,
    "start_time": "2023-04-21T17:56:53.807Z"
   },
   {
    "duration": 25,
    "start_time": "2023-04-21T17:56:53.844Z"
   },
   {
    "duration": 21,
    "start_time": "2023-04-21T17:56:53.871Z"
   },
   {
    "duration": 40,
    "start_time": "2023-04-21T17:56:53.894Z"
   },
   {
    "duration": 25,
    "start_time": "2023-04-21T17:56:53.938Z"
   },
   {
    "duration": 23,
    "start_time": "2023-04-21T17:56:53.964Z"
   },
   {
    "duration": 61,
    "start_time": "2023-04-21T17:56:53.989Z"
   },
   {
    "duration": 11854,
    "start_time": "2023-04-21T17:56:54.052Z"
   },
   {
    "duration": 51,
    "start_time": "2023-04-21T17:57:05.908Z"
   },
   {
    "duration": 11597,
    "start_time": "2023-04-21T17:57:05.961Z"
   },
   {
    "duration": 13,
    "start_time": "2023-04-21T17:57:17.560Z"
   },
   {
    "duration": 39,
    "start_time": "2023-04-21T17:57:17.574Z"
   },
   {
    "duration": 22,
    "start_time": "2023-04-21T17:57:17.617Z"
   },
   {
    "duration": 25,
    "start_time": "2023-04-21T17:57:17.642Z"
   },
   {
    "duration": 203,
    "start_time": "2023-04-21T17:57:17.669Z"
   },
   {
    "duration": 231,
    "start_time": "2023-04-21T17:57:17.874Z"
   },
   {
    "duration": 13,
    "start_time": "2023-04-21T17:57:18.107Z"
   },
   {
    "duration": 0,
    "start_time": "2023-04-21T17:57:18.122Z"
   },
   {
    "duration": 0,
    "start_time": "2023-04-21T17:57:18.128Z"
   },
   {
    "duration": 0,
    "start_time": "2023-04-21T17:57:18.129Z"
   },
   {
    "duration": 5884,
    "start_time": "2023-04-21T18:01:01.850Z"
   },
   {
    "duration": 895,
    "start_time": "2023-04-21T18:01:20.206Z"
   },
   {
    "duration": 1963,
    "start_time": "2023-04-21T18:01:23.908Z"
   },
   {
    "duration": 54,
    "start_time": "2023-04-21T18:01:52.477Z"
   },
   {
    "duration": 7,
    "start_time": "2023-04-21T18:06:19.120Z"
   },
   {
    "duration": 1231,
    "start_time": "2023-04-21T18:06:29.181Z"
   },
   {
    "duration": 70,
    "start_time": "2023-04-21T18:06:34.079Z"
   },
   {
    "duration": 3,
    "start_time": "2023-04-21T18:06:44.580Z"
   },
   {
    "duration": 2996,
    "start_time": "2023-04-21T18:06:44.585Z"
   },
   {
    "duration": 133,
    "start_time": "2023-04-21T18:06:47.583Z"
   },
   {
    "duration": 46,
    "start_time": "2023-04-21T18:06:47.718Z"
   },
   {
    "duration": 100,
    "start_time": "2023-04-21T18:06:47.766Z"
   },
   {
    "duration": 26,
    "start_time": "2023-04-21T18:06:47.868Z"
   },
   {
    "duration": 35,
    "start_time": "2023-04-21T18:06:47.896Z"
   },
   {
    "duration": 24,
    "start_time": "2023-04-21T18:06:47.933Z"
   },
   {
    "duration": 56,
    "start_time": "2023-04-21T18:06:47.959Z"
   },
   {
    "duration": 12,
    "start_time": "2023-04-21T18:06:48.016Z"
   },
   {
    "duration": 40,
    "start_time": "2023-04-21T18:06:48.029Z"
   },
   {
    "duration": 56,
    "start_time": "2023-04-21T18:06:48.070Z"
   },
   {
    "duration": 22,
    "start_time": "2023-04-21T18:06:48.127Z"
   },
   {
    "duration": 323,
    "start_time": "2023-04-21T18:06:48.153Z"
   },
   {
    "duration": 18,
    "start_time": "2023-04-21T18:06:48.478Z"
   },
   {
    "duration": 33,
    "start_time": "2023-04-21T18:06:48.497Z"
   },
   {
    "duration": 346,
    "start_time": "2023-04-21T18:06:48.532Z"
   },
   {
    "duration": 34,
    "start_time": "2023-04-21T18:06:48.880Z"
   },
   {
    "duration": 30,
    "start_time": "2023-04-21T18:06:48.916Z"
   },
   {
    "duration": 26,
    "start_time": "2023-04-21T18:06:48.948Z"
   },
   {
    "duration": 49,
    "start_time": "2023-04-21T18:06:48.976Z"
   },
   {
    "duration": 29,
    "start_time": "2023-04-21T18:06:49.027Z"
   },
   {
    "duration": 56,
    "start_time": "2023-04-21T18:06:49.059Z"
   },
   {
    "duration": 34,
    "start_time": "2023-04-21T18:06:49.117Z"
   },
   {
    "duration": 10042,
    "start_time": "2023-04-21T18:06:49.153Z"
   },
   {
    "duration": 45,
    "start_time": "2023-04-21T18:06:59.198Z"
   },
   {
    "duration": 9954,
    "start_time": "2023-04-21T18:06:59.245Z"
   },
   {
    "duration": 27,
    "start_time": "2023-04-21T18:07:09.201Z"
   },
   {
    "duration": 31,
    "start_time": "2023-04-21T18:07:09.229Z"
   },
   {
    "duration": 17,
    "start_time": "2023-04-21T18:07:09.262Z"
   },
   {
    "duration": 52,
    "start_time": "2023-04-21T18:07:09.281Z"
   },
   {
    "duration": 167,
    "start_time": "2023-04-21T18:07:09.335Z"
   },
   {
    "duration": 208,
    "start_time": "2023-04-21T18:07:09.512Z"
   },
   {
    "duration": 5684,
    "start_time": "2023-04-21T18:07:09.722Z"
   },
   {
    "duration": 894,
    "start_time": "2023-04-21T18:07:15.408Z"
   },
   {
    "duration": 1544,
    "start_time": "2023-04-21T18:07:16.304Z"
   },
   {
    "duration": 159682,
    "start_time": "2023-04-21T18:07:17.850Z"
   },
   {
    "duration": 27,
    "start_time": "2023-04-21T18:32:02.068Z"
   },
   {
    "duration": 1162,
    "start_time": "2023-04-22T16:28:40.541Z"
   },
   {
    "duration": 2964,
    "start_time": "2023-04-22T16:28:41.706Z"
   },
   {
    "duration": 112,
    "start_time": "2023-04-22T16:28:44.672Z"
   },
   {
    "duration": 47,
    "start_time": "2023-04-22T16:28:44.787Z"
   },
   {
    "duration": 86,
    "start_time": "2023-04-22T16:28:44.836Z"
   },
   {
    "duration": 26,
    "start_time": "2023-04-22T16:28:44.924Z"
   },
   {
    "duration": 41,
    "start_time": "2023-04-22T16:28:44.952Z"
   },
   {
    "duration": 23,
    "start_time": "2023-04-22T16:28:44.995Z"
   },
   {
    "duration": 58,
    "start_time": "2023-04-22T16:28:45.020Z"
   },
   {
    "duration": 11,
    "start_time": "2023-04-22T16:28:45.081Z"
   },
   {
    "duration": 49,
    "start_time": "2023-04-22T16:28:45.093Z"
   },
   {
    "duration": 31,
    "start_time": "2023-04-22T16:28:45.144Z"
   },
   {
    "duration": 20,
    "start_time": "2023-04-22T16:28:45.176Z"
   },
   {
    "duration": 290,
    "start_time": "2023-04-22T16:28:45.197Z"
   },
   {
    "duration": 15,
    "start_time": "2023-04-22T16:28:45.493Z"
   },
   {
    "duration": 21,
    "start_time": "2023-04-22T16:28:45.511Z"
   },
   {
    "duration": 302,
    "start_time": "2023-04-22T16:28:45.533Z"
   },
   {
    "duration": 17,
    "start_time": "2023-04-22T16:28:45.837Z"
   },
   {
    "duration": 19,
    "start_time": "2023-04-22T16:28:45.856Z"
   },
   {
    "duration": 20,
    "start_time": "2023-04-22T16:28:45.894Z"
   },
   {
    "duration": 24,
    "start_time": "2023-04-22T16:28:45.916Z"
   },
   {
    "duration": 19,
    "start_time": "2023-04-22T16:28:45.943Z"
   },
   {
    "duration": 20,
    "start_time": "2023-04-22T16:28:45.993Z"
   },
   {
    "duration": 44,
    "start_time": "2023-04-22T16:28:46.014Z"
   },
   {
    "duration": 9075,
    "start_time": "2023-04-22T16:28:46.060Z"
   },
   {
    "duration": 40,
    "start_time": "2023-04-22T16:28:55.137Z"
   },
   {
    "duration": 8923,
    "start_time": "2023-04-22T16:28:55.179Z"
   },
   {
    "duration": 12,
    "start_time": "2023-04-22T16:29:04.105Z"
   },
   {
    "duration": 34,
    "start_time": "2023-04-22T16:29:04.119Z"
   },
   {
    "duration": 15,
    "start_time": "2023-04-22T16:29:04.154Z"
   },
   {
    "duration": 38,
    "start_time": "2023-04-22T16:29:04.171Z"
   },
   {
    "duration": 168,
    "start_time": "2023-04-22T16:29:04.211Z"
   },
   {
    "duration": 198,
    "start_time": "2023-04-22T16:29:04.381Z"
   },
   {
    "duration": 5207,
    "start_time": "2023-04-22T16:29:04.581Z"
   },
   {
    "duration": 894,
    "start_time": "2023-04-22T16:29:09.789Z"
   },
   {
    "duration": 1522,
    "start_time": "2023-04-22T16:29:10.685Z"
   },
   {
    "duration": 40195,
    "start_time": "2023-04-22T16:29:12.209Z"
   },
   {
    "duration": 7071,
    "start_time": "2023-04-22T16:33:34.535Z"
   },
   {
    "duration": 7280,
    "start_time": "2023-04-22T16:34:22.219Z"
   },
   {
    "duration": 7008,
    "start_time": "2023-04-22T16:34:38.186Z"
   },
   {
    "duration": 2831,
    "start_time": "2023-04-22T16:35:07.162Z"
   },
   {
    "duration": 3081,
    "start_time": "2023-04-22T16:35:14.317Z"
   },
   {
    "duration": 7345,
    "start_time": "2023-04-22T16:35:20.861Z"
   },
   {
    "duration": 39029,
    "start_time": "2023-04-22T16:35:33.384Z"
   },
   {
    "duration": 78078,
    "start_time": "2023-04-22T16:36:24.336Z"
   },
   {
    "duration": 38587,
    "start_time": "2023-04-22T16:38:48.742Z"
   },
   {
    "duration": 20358,
    "start_time": "2023-04-22T16:40:17.939Z"
   },
   {
    "duration": 19880,
    "start_time": "2023-04-22T16:41:10.714Z"
   },
   {
    "duration": 20315,
    "start_time": "2023-04-22T16:41:40.394Z"
   },
   {
    "duration": 14139,
    "start_time": "2023-04-22T16:42:17.855Z"
   },
   {
    "duration": 15454,
    "start_time": "2023-04-22T16:43:27.849Z"
   },
   {
    "duration": 17441,
    "start_time": "2023-04-22T16:43:50.575Z"
   },
   {
    "duration": 22371,
    "start_time": "2023-04-22T16:44:20.257Z"
   },
   {
    "duration": 66,
    "start_time": "2023-04-22T16:44:57.380Z"
   },
   {
    "duration": 3152,
    "start_time": "2023-04-22T16:45:03.850Z"
   },
   {
    "duration": 18797,
    "start_time": "2023-04-22T16:46:15.506Z"
   },
   {
    "duration": 22156,
    "start_time": "2023-04-22T16:46:59.638Z"
   },
   {
    "duration": 15233,
    "start_time": "2023-04-22T16:47:56.361Z"
   },
   {
    "duration": 15080,
    "start_time": "2023-04-22T16:48:22.235Z"
   },
   {
    "duration": 24810,
    "start_time": "2023-04-22T16:48:57.794Z"
   },
   {
    "duration": 5305,
    "start_time": "2023-04-22T16:50:00.603Z"
   },
   {
    "duration": 5007,
    "start_time": "2023-04-22T16:50:41.902Z"
   },
   {
    "duration": 2982,
    "start_time": "2023-04-22T16:50:58.931Z"
   },
   {
    "duration": 541,
    "start_time": "2023-04-22T16:51:09.570Z"
   },
   {
    "duration": 895,
    "start_time": "2023-04-22T16:51:15.098Z"
   },
   {
    "duration": 945,
    "start_time": "2023-04-22T16:51:20.757Z"
   },
   {
    "duration": 1413,
    "start_time": "2023-04-22T16:51:26.389Z"
   },
   {
    "duration": 4060,
    "start_time": "2023-04-22T16:52:10.438Z"
   },
   {
    "duration": 2,
    "start_time": "2023-04-22T16:52:26.983Z"
   },
   {
    "duration": 3147,
    "start_time": "2023-04-22T16:54:03.746Z"
   },
   {
    "duration": 415,
    "start_time": "2023-04-22T16:54:22.579Z"
   },
   {
    "duration": 96,
    "start_time": "2023-04-22T17:01:35.059Z"
   },
   {
    "duration": 2,
    "start_time": "2023-04-22T17:01:42.113Z"
   },
   {
    "duration": 1098,
    "start_time": "2023-04-22T17:01:50.605Z"
   },
   {
    "duration": 390,
    "start_time": "2023-04-22T17:01:58.508Z"
   },
   {
    "duration": 1111,
    "start_time": "2023-04-22T17:05:50.990Z"
   },
   {
    "duration": 368,
    "start_time": "2023-04-22T17:05:53.533Z"
   },
   {
    "duration": 27850,
    "start_time": "2023-04-22T17:07:32.646Z"
   },
   {
    "duration": 7266,
    "start_time": "2023-04-22T17:08:05.829Z"
   },
   {
    "duration": 1011,
    "start_time": "2023-04-22T17:08:30.083Z"
   },
   {
    "duration": 421,
    "start_time": "2023-04-22T17:08:36.972Z"
   },
   {
    "duration": 53,
    "start_time": "2023-04-22T17:09:45.348Z"
   },
   {
    "duration": 392,
    "start_time": "2023-04-22T17:09:47.915Z"
   },
   {
    "duration": 81,
    "start_time": "2023-04-22T17:10:01.158Z"
   },
   {
    "duration": 389,
    "start_time": "2023-04-22T17:10:02.813Z"
   },
   {
    "duration": 50,
    "start_time": "2023-04-22T17:10:12.646Z"
   },
   {
    "duration": 840,
    "start_time": "2023-04-22T17:10:17.860Z"
   },
   {
    "duration": 405,
    "start_time": "2023-04-22T17:10:20.295Z"
   },
   {
    "duration": 842,
    "start_time": "2023-04-22T17:10:28.956Z"
   },
   {
    "duration": 386,
    "start_time": "2023-04-22T17:10:29.913Z"
   },
   {
    "duration": 829,
    "start_time": "2023-04-22T17:11:18.873Z"
   },
   {
    "duration": 371,
    "start_time": "2023-04-22T17:11:20.532Z"
   },
   {
    "duration": 1054,
    "start_time": "2023-04-22T17:11:43.440Z"
   },
   {
    "duration": 403,
    "start_time": "2023-04-22T17:11:44.496Z"
   },
   {
    "duration": 1248,
    "start_time": "2023-04-22T17:12:15.147Z"
   },
   {
    "duration": 402,
    "start_time": "2023-04-22T17:12:16.397Z"
   },
   {
    "duration": 860,
    "start_time": "2023-04-22T17:12:38.051Z"
   },
   {
    "duration": 404,
    "start_time": "2023-04-22T17:12:39.891Z"
   },
   {
    "duration": 914,
    "start_time": "2023-04-22T17:12:58.883Z"
   },
   {
    "duration": 450,
    "start_time": "2023-04-22T17:13:00.546Z"
   },
   {
    "duration": 951,
    "start_time": "2023-04-22T17:13:15.545Z"
   },
   {
    "duration": 332,
    "start_time": "2023-04-22T17:13:18.576Z"
   },
   {
    "duration": 4318,
    "start_time": "2023-04-22T17:13:33.585Z"
   },
   {
    "duration": 902,
    "start_time": "2023-04-22T17:13:37.905Z"
   },
   {
    "duration": 2929,
    "start_time": "2023-04-22T17:13:53.968Z"
   },
   {
    "duration": 704,
    "start_time": "2023-04-22T17:13:56.900Z"
   },
   {
    "duration": 25621,
    "start_time": "2023-04-22T17:14:06.790Z"
   },
   {
    "duration": 6369,
    "start_time": "2023-04-22T17:14:34.825Z"
   },
   {
    "duration": 39912,
    "start_time": "2023-04-22T17:14:57.090Z"
   },
   {
    "duration": 9826,
    "start_time": "2023-04-22T17:15:48.894Z"
   },
   {
    "duration": 40217,
    "start_time": "2023-04-22T17:16:09.588Z"
   },
   {
    "duration": 8363,
    "start_time": "2023-04-22T17:16:58.259Z"
   },
   {
    "duration": 31144,
    "start_time": "2023-04-22T17:17:26.852Z"
   },
   {
    "duration": 8848,
    "start_time": "2023-04-22T17:18:01.274Z"
   },
   {
    "duration": 30150,
    "start_time": "2023-04-22T17:18:19.866Z"
   },
   {
    "duration": 8502,
    "start_time": "2023-04-22T17:18:51.194Z"
   },
   {
    "duration": 28002,
    "start_time": "2023-04-22T17:19:13.101Z"
   },
   {
    "duration": 8199,
    "start_time": "2023-04-22T17:19:45.012Z"
   },
   {
    "duration": 27497,
    "start_time": "2023-04-22T17:20:03.303Z"
   },
   {
    "duration": 7882,
    "start_time": "2023-04-22T17:20:32.436Z"
   },
   {
    "duration": 26756,
    "start_time": "2023-04-22T17:20:52.942Z"
   },
   {
    "duration": 7914,
    "start_time": "2023-04-22T17:21:19.700Z"
   },
   {
    "duration": 50,
    "start_time": "2023-04-22T17:23:04.657Z"
   },
   {
    "duration": 13983,
    "start_time": "2023-04-22T17:23:09.011Z"
   },
   {
    "duration": 2740,
    "start_time": "2023-04-22T17:23:34.781Z"
   },
   {
    "duration": 53,
    "start_time": "2023-04-22T17:26:06.705Z"
   },
   {
    "duration": 33496,
    "start_time": "2023-04-22T17:26:11.605Z"
   },
   {
    "duration": 7523,
    "start_time": "2023-04-22T17:26:49.198Z"
   },
   {
    "duration": 27887,
    "start_time": "2023-04-22T17:27:44.716Z"
   },
   {
    "duration": 8109,
    "start_time": "2023-04-22T17:28:22.123Z"
   },
   {
    "duration": 27747,
    "start_time": "2023-04-22T17:28:40.456Z"
   },
   {
    "duration": 7994,
    "start_time": "2023-04-22T17:29:10.101Z"
   },
   {
    "duration": 23,
    "start_time": "2023-04-22T17:34:07.506Z"
   },
   {
    "duration": 16606,
    "start_time": "2023-04-22T17:39:25.890Z"
   },
   {
    "duration": 119,
    "start_time": "2023-04-22T17:39:44.379Z"
   },
   {
    "duration": 92,
    "start_time": "2023-04-22T17:44:48.175Z"
   },
   {
    "duration": 1230,
    "start_time": "2023-04-22T17:54:34.268Z"
   },
   {
    "duration": 2957,
    "start_time": "2023-04-22T17:54:35.500Z"
   },
   {
    "duration": 116,
    "start_time": "2023-04-22T17:54:38.459Z"
   },
   {
    "duration": 53,
    "start_time": "2023-04-22T17:54:38.577Z"
   },
   {
    "duration": 84,
    "start_time": "2023-04-22T17:54:38.633Z"
   },
   {
    "duration": 25,
    "start_time": "2023-04-22T17:54:38.719Z"
   },
   {
    "duration": 25,
    "start_time": "2023-04-22T17:54:38.745Z"
   },
   {
    "duration": 36,
    "start_time": "2023-04-22T17:54:38.772Z"
   },
   {
    "duration": 31,
    "start_time": "2023-04-22T17:54:38.809Z"
   },
   {
    "duration": 9,
    "start_time": "2023-04-22T17:54:38.842Z"
   },
   {
    "duration": 56,
    "start_time": "2023-04-22T17:54:38.853Z"
   },
   {
    "duration": 31,
    "start_time": "2023-04-22T17:54:38.910Z"
   },
   {
    "duration": 19,
    "start_time": "2023-04-22T17:54:38.943Z"
   },
   {
    "duration": 290,
    "start_time": "2023-04-22T17:54:38.965Z"
   },
   {
    "duration": 14,
    "start_time": "2023-04-22T17:54:39.257Z"
   },
   {
    "duration": 26,
    "start_time": "2023-04-22T17:54:39.273Z"
   },
   {
    "duration": 279,
    "start_time": "2023-04-22T17:54:39.301Z"
   },
   {
    "duration": 20,
    "start_time": "2023-04-22T17:54:39.582Z"
   },
   {
    "duration": 20,
    "start_time": "2023-04-22T17:54:39.604Z"
   },
   {
    "duration": 20,
    "start_time": "2023-04-22T17:54:39.625Z"
   },
   {
    "duration": 24,
    "start_time": "2023-04-22T17:54:39.646Z"
   },
   {
    "duration": 20,
    "start_time": "2023-04-22T17:54:39.692Z"
   },
   {
    "duration": 24,
    "start_time": "2023-04-22T17:54:39.714Z"
   },
   {
    "duration": 108,
    "start_time": "2023-04-22T17:54:39.740Z"
   },
   {
    "duration": 8894,
    "start_time": "2023-04-22T17:54:39.850Z"
   },
   {
    "duration": 49,
    "start_time": "2023-04-22T17:54:48.745Z"
   },
   {
    "duration": 8779,
    "start_time": "2023-04-22T17:54:48.795Z"
   },
   {
    "duration": 12,
    "start_time": "2023-04-22T17:54:57.576Z"
   },
   {
    "duration": 31,
    "start_time": "2023-04-22T17:54:57.593Z"
   },
   {
    "duration": 15,
    "start_time": "2023-04-22T17:54:57.626Z"
   },
   {
    "duration": 25,
    "start_time": "2023-04-22T17:54:57.643Z"
   },
   {
    "duration": 159,
    "start_time": "2023-04-22T17:54:57.694Z"
   },
   {
    "duration": 202,
    "start_time": "2023-04-22T17:54:57.855Z"
   },
   {
    "duration": 5644,
    "start_time": "2023-04-22T17:54:58.059Z"
   },
   {
    "duration": 891,
    "start_time": "2023-04-22T17:55:03.705Z"
   },
   {
    "duration": 1508,
    "start_time": "2023-04-22T17:55:04.597Z"
   },
   {
    "duration": 3,
    "start_time": "2023-04-22T17:55:06.107Z"
   },
   {
    "duration": 3387,
    "start_time": "2023-04-22T17:55:06.111Z"
   },
   {
    "duration": 407,
    "start_time": "2023-04-22T17:55:09.500Z"
   },
   {
    "duration": 25987,
    "start_time": "2023-04-22T17:55:09.909Z"
   },
   {
    "duration": 6510,
    "start_time": "2023-04-22T17:55:35.900Z"
   },
   {
    "duration": 162907,
    "start_time": "2023-04-22T17:55:42.411Z"
   },
   {
    "duration": 0,
    "start_time": "2023-04-22T17:58:25.320Z"
   },
   {
    "duration": 49,
    "start_time": "2023-04-22T17:58:41.145Z"
   },
   {
    "duration": 1160,
    "start_time": "2023-04-22T17:58:46.711Z"
   },
   {
    "duration": 2986,
    "start_time": "2023-04-22T17:58:47.873Z"
   },
   {
    "duration": 121,
    "start_time": "2023-04-22T17:58:50.861Z"
   },
   {
    "duration": 51,
    "start_time": "2023-04-22T17:58:50.984Z"
   },
   {
    "duration": 104,
    "start_time": "2023-04-22T17:58:51.037Z"
   },
   {
    "duration": 29,
    "start_time": "2023-04-22T17:58:51.142Z"
   },
   {
    "duration": 30,
    "start_time": "2023-04-22T17:58:51.173Z"
   },
   {
    "duration": 28,
    "start_time": "2023-04-22T17:58:51.205Z"
   },
   {
    "duration": 32,
    "start_time": "2023-04-22T17:58:51.235Z"
   },
   {
    "duration": 26,
    "start_time": "2023-04-22T17:58:51.270Z"
   },
   {
    "duration": 37,
    "start_time": "2023-04-22T17:58:51.297Z"
   },
   {
    "duration": 29,
    "start_time": "2023-04-22T17:58:51.336Z"
   },
   {
    "duration": 35,
    "start_time": "2023-04-22T17:58:51.367Z"
   },
   {
    "duration": 280,
    "start_time": "2023-04-22T17:58:51.403Z"
   },
   {
    "duration": 19,
    "start_time": "2023-04-22T17:58:51.685Z"
   },
   {
    "duration": 53,
    "start_time": "2023-04-22T17:58:51.705Z"
   },
   {
    "duration": 289,
    "start_time": "2023-04-22T17:58:51.761Z"
   },
   {
    "duration": 15,
    "start_time": "2023-04-22T17:58:52.052Z"
   },
   {
    "duration": 30,
    "start_time": "2023-04-22T17:58:52.069Z"
   },
   {
    "duration": 21,
    "start_time": "2023-04-22T17:58:52.100Z"
   },
   {
    "duration": 23,
    "start_time": "2023-04-22T17:58:52.123Z"
   },
   {
    "duration": 19,
    "start_time": "2023-04-22T17:58:52.148Z"
   },
   {
    "duration": 43,
    "start_time": "2023-04-22T17:58:52.169Z"
   },
   {
    "duration": 36,
    "start_time": "2023-04-22T17:58:52.214Z"
   },
   {
    "duration": 9145,
    "start_time": "2023-04-22T17:58:52.252Z"
   },
   {
    "duration": 39,
    "start_time": "2023-04-22T17:59:01.399Z"
   },
   {
    "duration": 8782,
    "start_time": "2023-04-22T17:59:01.440Z"
   },
   {
    "duration": 12,
    "start_time": "2023-04-22T17:59:10.226Z"
   },
   {
    "duration": 31,
    "start_time": "2023-04-22T17:59:10.240Z"
   },
   {
    "duration": 28,
    "start_time": "2023-04-22T17:59:10.272Z"
   },
   {
    "duration": 24,
    "start_time": "2023-04-22T17:59:10.302Z"
   },
   {
    "duration": 172,
    "start_time": "2023-04-22T17:59:10.327Z"
   },
   {
    "duration": 192,
    "start_time": "2023-04-22T17:59:10.501Z"
   },
   {
    "duration": 5430,
    "start_time": "2023-04-22T17:59:10.695Z"
   },
   {
    "duration": 889,
    "start_time": "2023-04-22T17:59:16.126Z"
   },
   {
    "duration": 1530,
    "start_time": "2023-04-22T17:59:17.017Z"
   },
   {
    "duration": 3,
    "start_time": "2023-04-22T17:59:18.549Z"
   },
   {
    "duration": 3343,
    "start_time": "2023-04-22T17:59:18.553Z"
   },
   {
    "duration": 408,
    "start_time": "2023-04-22T17:59:21.897Z"
   },
   {
    "duration": 27098,
    "start_time": "2023-04-22T17:59:22.306Z"
   },
   {
    "duration": 6701,
    "start_time": "2023-04-22T17:59:49.405Z"
   },
   {
    "duration": 225044,
    "start_time": "2023-04-22T17:59:56.107Z"
   },
   {
    "duration": 752,
    "start_time": "2023-04-22T18:03:41.152Z"
   },
   {
    "duration": 71,
    "start_time": "2023-04-22T18:05:37.302Z"
   },
   {
    "duration": 10,
    "start_time": "2023-04-22T18:05:43.713Z"
   },
   {
    "duration": 4,
    "start_time": "2023-04-22T18:06:24.295Z"
   },
   {
    "duration": 9,
    "start_time": "2023-04-22T18:06:45.256Z"
   },
   {
    "duration": 4,
    "start_time": "2023-04-22T18:06:54.973Z"
   },
   {
    "duration": 6367,
    "start_time": "2023-04-22T18:07:06.883Z"
   },
   {
    "duration": 151,
    "start_time": "2023-04-22T18:07:15.871Z"
   },
   {
    "duration": 6126,
    "start_time": "2023-04-22T18:08:56.047Z"
   },
   {
    "duration": 154,
    "start_time": "2023-04-22T18:09:04.045Z"
   },
   {
    "duration": 5781,
    "start_time": "2023-04-22T18:09:13.179Z"
   },
   {
    "duration": 145,
    "start_time": "2023-04-22T18:09:19.818Z"
   },
   {
    "duration": 5784,
    "start_time": "2023-04-22T18:09:25.898Z"
   },
   {
    "duration": 141,
    "start_time": "2023-04-22T18:09:32.439Z"
   },
   {
    "duration": 5544,
    "start_time": "2023-04-22T18:09:37.904Z"
   },
   {
    "duration": 136,
    "start_time": "2023-04-22T18:09:44.342Z"
   },
   {
    "duration": 5449,
    "start_time": "2023-04-22T18:09:51.189Z"
   },
   {
    "duration": 136,
    "start_time": "2023-04-22T18:09:58.244Z"
   },
   {
    "duration": 5575,
    "start_time": "2023-04-22T18:10:05.148Z"
   },
   {
    "duration": 135,
    "start_time": "2023-04-22T18:10:11.575Z"
   },
   {
    "duration": 5135,
    "start_time": "2023-04-22T18:11:03.546Z"
   },
   {
    "duration": 139,
    "start_time": "2023-04-22T18:11:11.725Z"
   },
   {
    "duration": 4836,
    "start_time": "2023-04-22T18:11:18.887Z"
   },
   {
    "duration": 130,
    "start_time": "2023-04-22T18:11:25.716Z"
   },
   {
    "duration": 5008,
    "start_time": "2023-04-22T18:11:31.613Z"
   },
   {
    "duration": 134,
    "start_time": "2023-04-22T18:11:38.393Z"
   },
   {
    "duration": 4906,
    "start_time": "2023-04-22T18:11:46.362Z"
   },
   {
    "duration": 130,
    "start_time": "2023-04-22T18:11:53.444Z"
   },
   {
    "duration": 5129,
    "start_time": "2023-04-22T18:12:00.017Z"
   },
   {
    "duration": 135,
    "start_time": "2023-04-22T18:12:05.366Z"
   },
   {
    "duration": 739,
    "start_time": "2023-04-22T18:21:39.340Z"
   },
   {
    "duration": 7762,
    "start_time": "2023-04-22T18:23:42.828Z"
   },
   {
    "duration": 8498,
    "start_time": "2023-04-22T18:24:17.316Z"
   },
   {
    "duration": 7893,
    "start_time": "2023-04-22T18:24:36.698Z"
   },
   {
    "duration": 11,
    "start_time": "2023-04-22T18:33:34.858Z"
   },
   {
    "duration": 3,
    "start_time": "2023-04-22T18:33:44.218Z"
   },
   {
    "duration": 1852,
    "start_time": "2023-04-22T18:33:44.236Z"
   },
   {
    "duration": 110,
    "start_time": "2023-04-22T18:33:46.090Z"
   },
   {
    "duration": 37,
    "start_time": "2023-04-22T18:33:46.202Z"
   },
   {
    "duration": 84,
    "start_time": "2023-04-22T18:33:46.241Z"
   },
   {
    "duration": 20,
    "start_time": "2023-04-22T18:33:46.327Z"
   },
   {
    "duration": 19,
    "start_time": "2023-04-22T18:33:46.349Z"
   },
   {
    "duration": 40,
    "start_time": "2023-04-22T18:33:46.369Z"
   },
   {
    "duration": 32,
    "start_time": "2023-04-22T18:33:46.410Z"
   },
   {
    "duration": 8,
    "start_time": "2023-04-22T18:33:46.443Z"
   },
   {
    "duration": 55,
    "start_time": "2023-04-22T18:33:46.452Z"
   },
   {
    "duration": 30,
    "start_time": "2023-04-22T18:33:46.509Z"
   },
   {
    "duration": 18,
    "start_time": "2023-04-22T18:33:46.540Z"
   },
   {
    "duration": 291,
    "start_time": "2023-04-22T18:33:46.560Z"
   },
   {
    "duration": 15,
    "start_time": "2023-04-22T18:33:46.854Z"
   },
   {
    "duration": 27,
    "start_time": "2023-04-22T18:33:46.871Z"
   },
   {
    "duration": 275,
    "start_time": "2023-04-22T18:33:46.900Z"
   },
   {
    "duration": 24,
    "start_time": "2023-04-22T18:33:47.177Z"
   },
   {
    "duration": 20,
    "start_time": "2023-04-22T18:33:47.203Z"
   },
   {
    "duration": 20,
    "start_time": "2023-04-22T18:33:47.225Z"
   },
   {
    "duration": 24,
    "start_time": "2023-04-22T18:33:47.247Z"
   },
   {
    "duration": 37,
    "start_time": "2023-04-22T18:33:47.272Z"
   },
   {
    "duration": 20,
    "start_time": "2023-04-22T18:33:47.311Z"
   },
   {
    "duration": 33,
    "start_time": "2023-04-22T18:33:47.333Z"
   },
   {
    "duration": 9002,
    "start_time": "2023-04-22T18:33:47.368Z"
   },
   {
    "duration": 45,
    "start_time": "2023-04-22T18:33:56.372Z"
   },
   {
    "duration": 8875,
    "start_time": "2023-04-22T18:33:56.419Z"
   },
   {
    "duration": 12,
    "start_time": "2023-04-22T18:34:05.296Z"
   },
   {
    "duration": 25,
    "start_time": "2023-04-22T18:34:05.309Z"
   },
   {
    "duration": 16,
    "start_time": "2023-04-22T18:34:05.336Z"
   },
   {
    "duration": 51,
    "start_time": "2023-04-22T18:34:05.353Z"
   },
   {
    "duration": 166,
    "start_time": "2023-04-22T18:34:05.405Z"
   },
   {
    "duration": 204,
    "start_time": "2023-04-22T18:34:05.572Z"
   },
   {
    "duration": 4883,
    "start_time": "2023-04-22T18:34:05.778Z"
   },
   {
    "duration": 1186,
    "start_time": "2023-04-22T18:34:50.511Z"
   },
   {
    "duration": 2976,
    "start_time": "2023-04-22T18:34:51.699Z"
   },
   {
    "duration": 114,
    "start_time": "2023-04-22T18:34:54.677Z"
   },
   {
    "duration": 50,
    "start_time": "2023-04-22T18:34:54.793Z"
   },
   {
    "duration": 81,
    "start_time": "2023-04-22T18:34:54.846Z"
   },
   {
    "duration": 31,
    "start_time": "2023-04-22T18:34:54.928Z"
   },
   {
    "duration": 32,
    "start_time": "2023-04-22T18:34:54.961Z"
   },
   {
    "duration": 23,
    "start_time": "2023-04-22T18:34:54.995Z"
   },
   {
    "duration": 45,
    "start_time": "2023-04-22T18:34:55.019Z"
   },
   {
    "duration": 9,
    "start_time": "2023-04-22T18:34:55.066Z"
   },
   {
    "duration": 51,
    "start_time": "2023-04-22T18:34:55.077Z"
   },
   {
    "duration": 29,
    "start_time": "2023-04-22T18:34:55.130Z"
   },
   {
    "duration": 20,
    "start_time": "2023-04-22T18:34:55.161Z"
   },
   {
    "duration": 293,
    "start_time": "2023-04-22T18:34:55.194Z"
   },
   {
    "duration": 16,
    "start_time": "2023-04-22T18:34:55.489Z"
   },
   {
    "duration": 30,
    "start_time": "2023-04-22T18:34:55.506Z"
   },
   {
    "duration": 285,
    "start_time": "2023-04-22T18:34:55.538Z"
   },
   {
    "duration": 16,
    "start_time": "2023-04-22T18:34:55.825Z"
   },
   {
    "duration": 21,
    "start_time": "2023-04-22T18:34:55.843Z"
   },
   {
    "duration": 34,
    "start_time": "2023-04-22T18:34:55.865Z"
   },
   {
    "duration": 24,
    "start_time": "2023-04-22T18:34:55.901Z"
   },
   {
    "duration": 20,
    "start_time": "2023-04-22T18:34:55.926Z"
   },
   {
    "duration": 47,
    "start_time": "2023-04-22T18:34:55.949Z"
   },
   {
    "duration": 97,
    "start_time": "2023-04-22T18:34:55.998Z"
   },
   {
    "duration": 9213,
    "start_time": "2023-04-22T18:34:56.097Z"
   },
   {
    "duration": 40,
    "start_time": "2023-04-22T18:35:05.311Z"
   },
   {
    "duration": 8895,
    "start_time": "2023-04-22T18:35:05.353Z"
   },
   {
    "duration": 12,
    "start_time": "2023-04-22T18:35:14.250Z"
   },
   {
    "duration": 39,
    "start_time": "2023-04-22T18:35:14.264Z"
   },
   {
    "duration": 15,
    "start_time": "2023-04-22T18:35:14.305Z"
   },
   {
    "duration": 24,
    "start_time": "2023-04-22T18:35:14.322Z"
   },
   {
    "duration": 179,
    "start_time": "2023-04-22T18:35:14.347Z"
   },
   {
    "duration": 198,
    "start_time": "2023-04-22T18:35:14.528Z"
   },
   {
    "duration": 5604,
    "start_time": "2023-04-22T18:35:14.728Z"
   },
   {
    "duration": 921,
    "start_time": "2023-04-22T18:35:20.333Z"
   },
   {
    "duration": 1543,
    "start_time": "2023-04-22T18:35:21.256Z"
   },
   {
    "duration": 3,
    "start_time": "2023-04-22T18:35:22.801Z"
   },
   {
    "duration": 3096,
    "start_time": "2023-04-22T18:35:22.805Z"
   },
   {
    "duration": 495,
    "start_time": "2023-04-22T18:35:25.904Z"
   },
   {
    "duration": 27801,
    "start_time": "2023-04-22T18:35:26.401Z"
   },
   {
    "duration": 6410,
    "start_time": "2023-04-22T18:35:54.205Z"
   },
   {
    "duration": 224514,
    "start_time": "2023-04-22T18:36:00.617Z"
   },
   {
    "duration": 743,
    "start_time": "2023-04-22T18:39:45.133Z"
   },
   {
    "duration": 5005,
    "start_time": "2023-04-22T18:39:45.878Z"
   },
   {
    "duration": 139,
    "start_time": "2023-04-22T18:39:50.885Z"
   },
   {
    "duration": 59,
    "start_time": "2023-04-22T18:39:51.026Z"
   },
   {
    "duration": 1,
    "start_time": "2023-04-22T18:39:51.086Z"
   },
   {
    "duration": 0,
    "start_time": "2023-04-22T18:39:51.088Z"
   },
   {
    "duration": 106,
    "start_time": "2023-04-22T18:40:15.461Z"
   },
   {
    "duration": 7781,
    "start_time": "2023-04-22T18:40:28.172Z"
   },
   {
    "duration": 10,
    "start_time": "2023-04-22T18:40:50.341Z"
   },
   {
    "duration": 12,
    "start_time": "2023-04-22T18:41:02.500Z"
   },
   {
    "duration": 12,
    "start_time": "2023-04-22T18:41:35.815Z"
   },
   {
    "duration": 4,
    "start_time": "2023-04-22T18:41:56.423Z"
   },
   {
    "duration": 14,
    "start_time": "2023-04-22T18:42:02.651Z"
   },
   {
    "duration": 11,
    "start_time": "2023-04-22T18:42:28.493Z"
   },
   {
    "duration": 49,
    "start_time": "2023-04-22T19:07:23.261Z"
   },
   {
    "duration": 1156,
    "start_time": "2023-04-25T14:55:23.703Z"
   },
   {
    "duration": 2801,
    "start_time": "2023-04-25T14:55:24.861Z"
   },
   {
    "duration": 127,
    "start_time": "2023-04-25T14:55:27.664Z"
   },
   {
    "duration": 40,
    "start_time": "2023-04-25T14:55:27.793Z"
   },
   {
    "duration": 104,
    "start_time": "2023-04-25T14:55:27.836Z"
   },
   {
    "duration": 35,
    "start_time": "2023-04-25T14:55:27.942Z"
   },
   {
    "duration": 24,
    "start_time": "2023-04-25T14:55:27.978Z"
   },
   {
    "duration": 22,
    "start_time": "2023-04-25T14:55:28.004Z"
   },
   {
    "duration": 51,
    "start_time": "2023-04-25T14:55:28.027Z"
   },
   {
    "duration": 11,
    "start_time": "2023-04-25T14:55:28.080Z"
   },
   {
    "duration": 48,
    "start_time": "2023-04-25T14:55:28.093Z"
   },
   {
    "duration": 74,
    "start_time": "2023-04-25T14:55:28.143Z"
   },
   {
    "duration": 27,
    "start_time": "2023-04-25T14:55:28.219Z"
   },
   {
    "duration": 366,
    "start_time": "2023-04-25T14:55:28.266Z"
   },
   {
    "duration": 18,
    "start_time": "2023-04-25T14:55:28.634Z"
   },
   {
    "duration": 29,
    "start_time": "2023-04-25T14:55:28.653Z"
   },
   {
    "duration": 314,
    "start_time": "2023-04-25T14:55:28.684Z"
   },
   {
    "duration": 17,
    "start_time": "2023-04-25T14:55:29.000Z"
   },
   {
    "duration": 24,
    "start_time": "2023-04-25T14:55:29.019Z"
   },
   {
    "duration": 32,
    "start_time": "2023-04-25T14:55:29.064Z"
   },
   {
    "duration": 35,
    "start_time": "2023-04-25T14:55:29.098Z"
   },
   {
    "duration": 51,
    "start_time": "2023-04-25T14:55:29.135Z"
   },
   {
    "duration": 31,
    "start_time": "2023-04-25T14:55:29.188Z"
   },
   {
    "duration": 48,
    "start_time": "2023-04-25T14:55:29.220Z"
   },
   {
    "duration": 10586,
    "start_time": "2023-04-25T14:55:29.269Z"
   },
   {
    "duration": 40,
    "start_time": "2023-04-25T14:55:39.856Z"
   },
   {
    "duration": 9893,
    "start_time": "2023-04-25T14:55:39.898Z"
   },
   {
    "duration": 19,
    "start_time": "2023-04-25T14:55:49.793Z"
   },
   {
    "duration": 61,
    "start_time": "2023-04-25T14:55:49.814Z"
   },
   {
    "duration": 17,
    "start_time": "2023-04-25T14:55:49.878Z"
   },
   {
    "duration": 32,
    "start_time": "2023-04-25T14:55:49.897Z"
   },
   {
    "duration": 164,
    "start_time": "2023-04-25T14:55:49.931Z"
   },
   {
    "duration": 186,
    "start_time": "2023-04-25T14:55:50.097Z"
   },
   {
    "duration": 2,
    "start_time": "2023-04-25T14:55:50.285Z"
   },
   {
    "duration": 23,
    "start_time": "2023-04-25T14:55:50.288Z"
   },
   {
    "duration": 122,
    "start_time": "2023-04-25T14:55:50.313Z"
   },
   {
    "duration": 4,
    "start_time": "2023-04-25T14:55:50.437Z"
   },
   {
    "duration": 159,
    "start_time": "2023-04-25T14:56:00.530Z"
   },
   {
    "duration": 382,
    "start_time": "2023-04-25T14:56:24.622Z"
   },
   {
    "duration": 436,
    "start_time": "2023-04-25T15:00:19.988Z"
   },
   {
    "duration": 4,
    "start_time": "2023-04-25T15:00:26.788Z"
   },
   {
    "duration": 16,
    "start_time": "2023-04-25T15:09:38.663Z"
   },
   {
    "duration": 127,
    "start_time": "2023-04-25T15:09:40.108Z"
   },
   {
    "duration": 458,
    "start_time": "2023-04-25T15:09:50.244Z"
   },
   {
    "duration": 19,
    "start_time": "2023-04-25T15:10:20.143Z"
   },
   {
    "duration": 168,
    "start_time": "2023-04-25T15:10:20.759Z"
   },
   {
    "duration": 479,
    "start_time": "2023-04-25T15:10:23.495Z"
   },
   {
    "duration": 24,
    "start_time": "2023-04-25T15:13:49.316Z"
   },
   {
    "duration": 108,
    "start_time": "2023-04-25T15:13:49.853Z"
   },
   {
    "duration": 443,
    "start_time": "2023-04-25T15:13:52.295Z"
   },
   {
    "duration": 7815,
    "start_time": "2023-04-25T15:15:15.287Z"
   },
   {
    "duration": 26,
    "start_time": "2023-04-25T15:17:05.931Z"
   },
   {
    "duration": 166,
    "start_time": "2023-04-25T15:17:06.423Z"
   },
   {
    "duration": 7487,
    "start_time": "2023-04-25T15:17:08.111Z"
   },
   {
    "duration": 7752,
    "start_time": "2023-04-25T15:18:09.439Z"
   },
   {
    "duration": 7743,
    "start_time": "2023-04-25T15:20:32.143Z"
   },
   {
    "duration": 17,
    "start_time": "2023-04-25T15:20:43.380Z"
   },
   {
    "duration": 135,
    "start_time": "2023-04-25T15:20:44.347Z"
   },
   {
    "duration": 7528,
    "start_time": "2023-04-25T15:20:49.632Z"
   },
   {
    "duration": 56,
    "start_time": "2023-04-25T16:12:27.593Z"
   },
   {
    "duration": 150,
    "start_time": "2023-04-25T16:12:28.071Z"
   },
   {
    "duration": 4,
    "start_time": "2023-04-25T16:12:30.203Z"
   },
   {
    "duration": 58,
    "start_time": "2023-04-25T16:12:31.984Z"
   },
   {
    "duration": 52,
    "start_time": "2023-04-25T16:12:47.614Z"
   },
   {
    "duration": 53,
    "start_time": "2023-04-25T16:13:17.676Z"
   },
   {
    "duration": 49,
    "start_time": "2023-04-25T16:13:29.308Z"
   },
   {
    "duration": 68,
    "start_time": "2023-04-25T16:14:12.346Z"
   },
   {
    "duration": 26,
    "start_time": "2023-04-25T16:14:36.423Z"
   },
   {
    "duration": 127,
    "start_time": "2023-04-25T16:14:36.929Z"
   },
   {
    "duration": 7637,
    "start_time": "2023-04-25T16:14:40.433Z"
   },
   {
    "duration": 8364,
    "start_time": "2023-04-25T16:20:42.546Z"
   },
   {
    "duration": 19,
    "start_time": "2023-04-25T16:21:49.434Z"
   },
   {
    "duration": 133,
    "start_time": "2023-04-25T16:21:50.324Z"
   },
   {
    "duration": 332,
    "start_time": "2023-04-25T16:21:52.229Z"
   },
   {
    "duration": 9203,
    "start_time": "2023-04-25T16:23:10.205Z"
   },
   {
    "duration": 22,
    "start_time": "2023-04-25T16:29:15.142Z"
   },
   {
    "duration": 205,
    "start_time": "2023-04-25T16:29:15.776Z"
   },
   {
    "duration": 4,
    "start_time": "2023-04-25T16:29:19.086Z"
   },
   {
    "duration": 9094,
    "start_time": "2023-04-25T16:29:21.041Z"
   },
   {
    "duration": 12,
    "start_time": "2023-04-25T16:29:50.982Z"
   },
   {
    "duration": 15,
    "start_time": "2023-04-25T16:30:03.102Z"
   },
   {
    "duration": 5,
    "start_time": "2023-04-25T16:30:42.975Z"
   },
   {
    "duration": 12,
    "start_time": "2023-04-25T16:31:05.093Z"
   },
   {
    "duration": 6,
    "start_time": "2023-04-25T16:31:18.883Z"
   },
   {
    "duration": 7,
    "start_time": "2023-04-25T16:31:29.374Z"
   },
   {
    "duration": 7,
    "start_time": "2023-04-25T16:31:53.577Z"
   },
   {
    "duration": 27,
    "start_time": "2023-04-25T16:32:07.590Z"
   },
   {
    "duration": 24,
    "start_time": "2023-04-25T16:32:22.691Z"
   },
   {
    "duration": 194,
    "start_time": "2023-04-25T16:32:23.206Z"
   },
   {
    "duration": 9232,
    "start_time": "2023-04-25T16:32:28.891Z"
   },
   {
    "duration": 365,
    "start_time": "2023-04-25T16:33:25.378Z"
   },
   {
    "duration": 329,
    "start_time": "2023-04-25T16:33:31.133Z"
   },
   {
    "duration": 9522,
    "start_time": "2023-04-25T16:33:37.919Z"
   },
   {
    "duration": 17,
    "start_time": "2023-04-25T16:34:36.525Z"
   },
   {
    "duration": 184,
    "start_time": "2023-04-25T16:34:37.000Z"
   },
   {
    "duration": 4,
    "start_time": "2023-04-25T16:34:39.774Z"
   },
   {
    "duration": 8992,
    "start_time": "2023-04-25T16:34:41.736Z"
   },
   {
    "duration": 1630,
    "start_time": "2023-04-25T16:35:00.201Z"
   },
   {
    "duration": 3854,
    "start_time": "2023-04-25T16:36:38.002Z"
   },
   {
    "duration": 5746,
    "start_time": "2023-04-25T16:37:48.320Z"
   },
   {
    "duration": 11,
    "start_time": "2023-04-25T16:40:35.942Z"
   },
   {
    "duration": 5,
    "start_time": "2023-04-25T16:41:12.920Z"
   },
   {
    "duration": 13,
    "start_time": "2023-04-25T16:41:25.227Z"
   },
   {
    "duration": 91,
    "start_time": "2023-04-25T16:41:44.846Z"
   },
   {
    "duration": 788,
    "start_time": "2023-04-25T16:41:56.082Z"
   },
   {
    "duration": 1116,
    "start_time": "2023-04-25T16:42:06.632Z"
   },
   {
    "duration": 5,
    "start_time": "2023-04-25T16:42:24.433Z"
   },
   {
    "duration": 89966,
    "start_time": "2023-04-25T16:42:32.391Z"
   },
   {
    "duration": 633,
    "start_time": "2023-04-25T16:44:02.393Z"
   },
   {
    "duration": 85926,
    "start_time": "2023-04-25T16:44:35.025Z"
   },
   {
    "duration": 590,
    "start_time": "2023-04-25T16:46:03.045Z"
   },
   {
    "duration": 150176,
    "start_time": "2023-04-25T16:46:13.286Z"
   },
   {
    "duration": 3,
    "start_time": "2023-04-25T16:48:51.440Z"
   },
   {
    "duration": 76147,
    "start_time": "2023-04-25T16:48:53.584Z"
   },
   {
    "duration": 64,
    "start_time": "2023-04-25T16:50:14.349Z"
   },
   {
    "duration": 355728,
    "start_time": "2023-04-25T16:50:31.117Z"
   },
   {
    "duration": 40144,
    "start_time": "2023-04-25T16:57:08.684Z"
   },
   {
    "duration": 434,
    "start_time": "2023-04-25T16:57:51.878Z"
   },
   {
    "duration": 4,
    "start_time": "2023-04-25T16:58:16.033Z"
   },
   {
    "duration": 48419,
    "start_time": "2023-04-25T16:58:19.028Z"
   },
   {
    "duration": 588,
    "start_time": "2023-04-25T16:59:10.210Z"
   },
   {
    "duration": 418611,
    "start_time": "2023-04-25T16:59:43.136Z"
   },
   {
    "duration": 937,
    "start_time": "2023-04-25T17:11:33.813Z"
   },
   {
    "duration": 31742,
    "start_time": "2023-04-25T17:13:19.778Z"
   },
   {
    "duration": 598,
    "start_time": "2023-04-25T17:13:51.522Z"
   },
   {
    "duration": 670,
    "start_time": "2023-04-25T17:19:41.937Z"
   },
   {
    "duration": 26,
    "start_time": "2023-04-25T17:19:48.860Z"
   },
   {
    "duration": 2152,
    "start_time": "2023-04-25T17:20:47.125Z"
   },
   {
    "duration": 13,
    "start_time": "2023-04-25T17:20:58.283Z"
   },
   {
    "duration": 68,
    "start_time": "2023-04-25T17:23:21.242Z"
   },
   {
    "duration": 1516,
    "start_time": "2023-07-12T15:09:02.094Z"
   },
   {
    "duration": 1205,
    "start_time": "2023-07-12T15:09:06.352Z"
   },
   {
    "duration": 118,
    "start_time": "2023-07-12T15:09:10.700Z"
   },
   {
    "duration": 46,
    "start_time": "2023-07-12T15:09:18.794Z"
   },
   {
    "duration": 78,
    "start_time": "2023-07-12T15:09:22.079Z"
   },
   {
    "duration": 28,
    "start_time": "2023-07-12T15:09:26.301Z"
   },
   {
    "duration": 21,
    "start_time": "2023-07-12T15:09:29.547Z"
   },
   {
    "duration": 23,
    "start_time": "2023-07-12T15:09:32.397Z"
   },
   {
    "duration": 38,
    "start_time": "2023-07-12T15:09:35.611Z"
   },
   {
    "duration": 13,
    "start_time": "2023-07-12T15:09:44.941Z"
   },
   {
    "duration": 39,
    "start_time": "2023-07-12T15:09:51.248Z"
   },
   {
    "duration": 34,
    "start_time": "2023-07-12T15:09:54.738Z"
   },
   {
    "duration": 20,
    "start_time": "2023-07-12T15:10:01.208Z"
   },
   {
    "duration": 318,
    "start_time": "2023-07-12T15:10:07.148Z"
   },
   {
    "duration": 17,
    "start_time": "2023-07-12T15:10:11.466Z"
   },
   {
    "duration": 18,
    "start_time": "2023-07-12T15:10:13.429Z"
   },
   {
    "duration": 301,
    "start_time": "2023-07-12T15:10:14.694Z"
   },
   {
    "duration": 19,
    "start_time": "2023-07-12T15:10:17.613Z"
   },
   {
    "duration": 22,
    "start_time": "2023-07-12T15:10:22.955Z"
   },
   {
    "duration": 23,
    "start_time": "2023-07-12T15:10:25.928Z"
   },
   {
    "duration": 25,
    "start_time": "2023-07-12T15:10:29.500Z"
   },
   {
    "duration": 20,
    "start_time": "2023-07-12T15:10:32.595Z"
   },
   {
    "duration": 31,
    "start_time": "2023-07-12T15:10:36.634Z"
   },
   {
    "duration": 38,
    "start_time": "2023-07-12T15:10:38.792Z"
   },
   {
    "duration": 9499,
    "start_time": "2023-07-12T15:10:44.221Z"
   },
   {
    "duration": 9455,
    "start_time": "2023-07-12T15:11:08.027Z"
   },
   {
    "duration": 14,
    "start_time": "2023-07-12T15:11:18.344Z"
   },
   {
    "duration": 32,
    "start_time": "2023-07-12T15:11:21.022Z"
   },
   {
    "duration": 17,
    "start_time": "2023-07-12T15:11:23.033Z"
   },
   {
    "duration": 28,
    "start_time": "2023-07-12T15:11:25.243Z"
   },
   {
    "duration": 167,
    "start_time": "2023-07-12T15:11:27.444Z"
   },
   {
    "duration": 200,
    "start_time": "2023-07-12T15:11:28.093Z"
   },
   {
    "duration": 3,
    "start_time": "2023-07-12T15:11:40.700Z"
   },
   {
    "duration": 17,
    "start_time": "2023-07-12T15:12:04.060Z"
   },
   {
    "duration": 150,
    "start_time": "2023-07-12T15:12:05.592Z"
   },
   {
    "duration": 3,
    "start_time": "2023-07-12T15:12:09.563Z"
   },
   {
    "duration": 4048,
    "start_time": "2023-07-12T15:12:11.506Z"
   },
   {
    "duration": 1177,
    "start_time": "2023-07-12T15:12:15.557Z"
   },
   {
    "duration": 3,
    "start_time": "2023-07-12T15:20:08.304Z"
   },
   {
    "duration": 1538,
    "start_time": "2023-07-25T13:06:44.730Z"
   },
   {
    "duration": 2764,
    "start_time": "2023-07-25T13:06:46.270Z"
   },
   {
    "duration": 147,
    "start_time": "2023-07-25T13:06:49.036Z"
   },
   {
    "duration": 71,
    "start_time": "2023-07-25T13:06:49.185Z"
   },
   {
    "duration": 77,
    "start_time": "2023-07-25T13:06:49.260Z"
   },
   {
    "duration": 57,
    "start_time": "2023-07-25T13:06:49.338Z"
   },
   {
    "duration": 24,
    "start_time": "2023-07-25T13:06:49.397Z"
   },
   {
    "duration": 34,
    "start_time": "2023-07-25T13:06:49.423Z"
   },
   {
    "duration": 38,
    "start_time": "2023-07-25T13:06:49.458Z"
   },
   {
    "duration": 9,
    "start_time": "2023-07-25T13:06:49.498Z"
   },
   {
    "duration": 48,
    "start_time": "2023-07-25T13:06:49.509Z"
   },
   {
    "duration": 30,
    "start_time": "2023-07-25T13:06:49.559Z"
   },
   {
    "duration": 34,
    "start_time": "2023-07-25T13:06:49.590Z"
   },
   {
    "duration": 268,
    "start_time": "2023-07-25T13:06:49.627Z"
   },
   {
    "duration": 14,
    "start_time": "2023-07-25T13:06:49.897Z"
   },
   {
    "duration": 28,
    "start_time": "2023-07-25T13:06:49.913Z"
   },
   {
    "duration": 269,
    "start_time": "2023-07-25T13:06:49.944Z"
   },
   {
    "duration": 16,
    "start_time": "2023-07-25T13:06:50.214Z"
   },
   {
    "duration": 31,
    "start_time": "2023-07-25T13:06:50.231Z"
   },
   {
    "duration": 30,
    "start_time": "2023-07-25T13:06:50.263Z"
   },
   {
    "duration": 22,
    "start_time": "2023-07-25T13:06:50.295Z"
   },
   {
    "duration": 20,
    "start_time": "2023-07-25T13:06:50.319Z"
   },
   {
    "duration": 37,
    "start_time": "2023-07-25T13:06:50.340Z"
   },
   {
    "duration": 45,
    "start_time": "2023-07-25T13:06:50.378Z"
   },
   {
    "duration": 8435,
    "start_time": "2023-07-25T13:06:50.425Z"
   },
   {
    "duration": 51,
    "start_time": "2023-07-25T13:06:58.862Z"
   },
   {
    "duration": 8220,
    "start_time": "2023-07-25T13:06:58.915Z"
   },
   {
    "duration": 20,
    "start_time": "2023-07-25T13:07:07.137Z"
   },
   {
    "duration": 28,
    "start_time": "2023-07-25T13:07:07.159Z"
   },
   {
    "duration": 15,
    "start_time": "2023-07-25T13:07:07.189Z"
   },
   {
    "duration": 24,
    "start_time": "2023-07-25T13:07:07.205Z"
   },
   {
    "duration": 182,
    "start_time": "2023-07-25T13:07:07.231Z"
   },
   {
    "duration": 193,
    "start_time": "2023-07-25T13:07:07.415Z"
   },
   {
    "duration": 2,
    "start_time": "2023-07-25T13:07:07.610Z"
   },
   {
    "duration": 20,
    "start_time": "2023-07-25T13:07:07.613Z"
   },
   {
    "duration": 132,
    "start_time": "2023-07-25T13:07:07.635Z"
   },
   {
    "duration": 3,
    "start_time": "2023-07-25T13:07:07.769Z"
   },
   {
    "duration": 3711,
    "start_time": "2023-07-25T13:07:07.774Z"
   },
   {
    "duration": 831,
    "start_time": "2023-07-25T13:07:11.487Z"
   },
   {
    "duration": 3,
    "start_time": "2023-07-25T13:07:12.319Z"
   },
   {
    "duration": 46,
    "start_time": "2023-07-25T13:07:12.325Z"
   },
   {
    "duration": 49,
    "start_time": "2023-07-25T13:07:12.373Z"
   },
   {
    "duration": 112,
    "start_time": "2023-07-25T13:07:12.424Z"
   },
   {
    "duration": 0,
    "start_time": "2023-07-25T13:07:12.538Z"
   },
   {
    "duration": 3,
    "start_time": "2023-07-25T13:07:47.360Z"
   },
   {
    "duration": 3,
    "start_time": "2023-07-25T13:07:58.113Z"
   },
   {
    "duration": 453025,
    "start_time": "2023-07-25T13:08:05.254Z"
   },
   {
    "duration": 3,
    "start_time": "2023-07-25T13:16:09.454Z"
   },
   {
    "duration": 786,
    "start_time": "2023-07-25T13:16:09.459Z"
   },
   {
    "duration": 110,
    "start_time": "2023-07-25T13:16:10.247Z"
   },
   {
    "duration": 36,
    "start_time": "2023-07-25T13:16:10.359Z"
   },
   {
    "duration": 83,
    "start_time": "2023-07-25T13:16:10.397Z"
   },
   {
    "duration": 18,
    "start_time": "2023-07-25T13:16:10.482Z"
   },
   {
    "duration": 20,
    "start_time": "2023-07-25T13:16:10.502Z"
   },
   {
    "duration": 40,
    "start_time": "2023-07-25T13:16:10.524Z"
   },
   {
    "duration": 40,
    "start_time": "2023-07-25T13:16:10.565Z"
   },
   {
    "duration": 8,
    "start_time": "2023-07-25T13:16:10.606Z"
   },
   {
    "duration": 29,
    "start_time": "2023-07-25T13:16:10.616Z"
   },
   {
    "duration": 30,
    "start_time": "2023-07-25T13:16:10.657Z"
   },
   {
    "duration": 18,
    "start_time": "2023-07-25T13:16:10.688Z"
   },
   {
    "duration": 272,
    "start_time": "2023-07-25T13:16:10.709Z"
   },
   {
    "duration": 13,
    "start_time": "2023-07-25T13:16:10.982Z"
   },
   {
    "duration": 20,
    "start_time": "2023-07-25T13:16:10.997Z"
   },
   {
    "duration": 301,
    "start_time": "2023-07-25T13:16:11.019Z"
   },
   {
    "duration": 16,
    "start_time": "2023-07-25T13:16:11.322Z"
   },
   {
    "duration": 34,
    "start_time": "2023-07-25T13:16:11.339Z"
   },
   {
    "duration": 29,
    "start_time": "2023-07-25T13:16:11.375Z"
   },
   {
    "duration": 46,
    "start_time": "2023-07-25T13:16:11.406Z"
   },
   {
    "duration": 19,
    "start_time": "2023-07-25T13:16:11.455Z"
   },
   {
    "duration": 25,
    "start_time": "2023-07-25T13:16:11.476Z"
   },
   {
    "duration": 32,
    "start_time": "2023-07-25T13:16:11.502Z"
   },
   {
    "duration": 8625,
    "start_time": "2023-07-25T13:16:11.535Z"
   },
   {
    "duration": 40,
    "start_time": "2023-07-25T13:16:20.162Z"
   },
   {
    "duration": 8549,
    "start_time": "2023-07-25T13:16:20.204Z"
   },
   {
    "duration": 13,
    "start_time": "2023-07-25T13:16:28.757Z"
   },
   {
    "duration": 33,
    "start_time": "2023-07-25T13:16:28.771Z"
   },
   {
    "duration": 19,
    "start_time": "2023-07-25T13:16:28.807Z"
   },
   {
    "duration": 52,
    "start_time": "2023-07-25T13:16:28.828Z"
   },
   {
    "duration": 192,
    "start_time": "2023-07-25T13:16:28.882Z"
   },
   {
    "duration": 224,
    "start_time": "2023-07-25T13:16:29.076Z"
   },
   {
    "duration": 2,
    "start_time": "2023-07-25T13:16:29.302Z"
   },
   {
    "duration": 35,
    "start_time": "2023-07-25T13:16:29.306Z"
   },
   {
    "duration": 127,
    "start_time": "2023-07-25T13:16:29.343Z"
   },
   {
    "duration": 2,
    "start_time": "2023-07-25T13:16:29.472Z"
   },
   {
    "duration": 4208,
    "start_time": "2023-07-25T13:16:29.476Z"
   },
   {
    "duration": 1046,
    "start_time": "2023-07-25T13:16:33.687Z"
   },
   {
    "duration": 3,
    "start_time": "2023-07-25T13:16:34.735Z"
   },
   {
    "duration": 14,
    "start_time": "2023-07-25T13:16:34.742Z"
   },
   {
    "duration": 23,
    "start_time": "2023-07-25T13:16:34.758Z"
   },
   {
    "duration": 22,
    "start_time": "2023-07-25T13:16:34.783Z"
   },
   {
    "duration": 7072,
    "start_time": "2023-07-25T13:16:34.807Z"
   },
   {
    "duration": 3,
    "start_time": "2023-07-25T13:17:38.019Z"
   },
   {
    "duration": 1421,
    "start_time": "2023-07-25T13:18:10.923Z"
   },
   {
    "duration": 2757,
    "start_time": "2023-07-25T13:18:12.346Z"
   },
   {
    "duration": 128,
    "start_time": "2023-07-25T13:18:15.105Z"
   },
   {
    "duration": 57,
    "start_time": "2023-07-25T13:18:15.235Z"
   },
   {
    "duration": 75,
    "start_time": "2023-07-25T13:18:15.294Z"
   },
   {
    "duration": 23,
    "start_time": "2023-07-25T13:18:15.371Z"
   },
   {
    "duration": 22,
    "start_time": "2023-07-25T13:18:15.395Z"
   },
   {
    "duration": 43,
    "start_time": "2023-07-25T13:18:15.419Z"
   },
   {
    "duration": 30,
    "start_time": "2023-07-25T13:18:15.464Z"
   },
   {
    "duration": 10,
    "start_time": "2023-07-25T13:18:15.495Z"
   },
   {
    "duration": 58,
    "start_time": "2023-07-25T13:18:15.506Z"
   },
   {
    "duration": 30,
    "start_time": "2023-07-25T13:18:15.565Z"
   },
   {
    "duration": 36,
    "start_time": "2023-07-25T13:18:15.596Z"
   },
   {
    "duration": 269,
    "start_time": "2023-07-25T13:18:15.635Z"
   },
   {
    "duration": 15,
    "start_time": "2023-07-25T13:18:15.906Z"
   },
   {
    "duration": 29,
    "start_time": "2023-07-25T13:18:15.922Z"
   },
   {
    "duration": 274,
    "start_time": "2023-07-25T13:18:15.953Z"
   },
   {
    "duration": 16,
    "start_time": "2023-07-25T13:18:16.229Z"
   },
   {
    "duration": 19,
    "start_time": "2023-07-25T13:18:16.257Z"
   },
   {
    "duration": 30,
    "start_time": "2023-07-25T13:18:16.277Z"
   },
   {
    "duration": 25,
    "start_time": "2023-07-25T13:18:16.309Z"
   },
   {
    "duration": 28,
    "start_time": "2023-07-25T13:18:16.335Z"
   },
   {
    "duration": 28,
    "start_time": "2023-07-25T13:18:16.364Z"
   },
   {
    "duration": 35,
    "start_time": "2023-07-25T13:18:16.394Z"
   },
   {
    "duration": 8832,
    "start_time": "2023-07-25T13:18:16.430Z"
   },
   {
    "duration": 48,
    "start_time": "2023-07-25T13:18:25.264Z"
   },
   {
    "duration": 8565,
    "start_time": "2023-07-25T13:18:25.314Z"
   },
   {
    "duration": 12,
    "start_time": "2023-07-25T13:18:33.881Z"
   },
   {
    "duration": 42,
    "start_time": "2023-07-25T13:18:33.895Z"
   },
   {
    "duration": 28,
    "start_time": "2023-07-25T13:18:33.939Z"
   },
   {
    "duration": 27,
    "start_time": "2023-07-25T13:18:33.969Z"
   },
   {
    "duration": 174,
    "start_time": "2023-07-25T13:18:33.998Z"
   },
   {
    "duration": 194,
    "start_time": "2023-07-25T13:18:34.174Z"
   },
   {
    "duration": 2,
    "start_time": "2023-07-25T13:18:34.370Z"
   },
   {
    "duration": 19,
    "start_time": "2023-07-25T13:18:34.374Z"
   },
   {
    "duration": 135,
    "start_time": "2023-07-25T13:18:34.395Z"
   },
   {
    "duration": 3,
    "start_time": "2023-07-25T13:18:34.531Z"
   },
   {
    "duration": 3755,
    "start_time": "2023-07-25T13:18:34.536Z"
   },
   {
    "duration": 949,
    "start_time": "2023-07-25T13:18:38.293Z"
   },
   {
    "duration": 3,
    "start_time": "2023-07-25T13:18:39.243Z"
   },
   {
    "duration": 5,
    "start_time": "2023-07-25T13:18:39.256Z"
   },
   {
    "duration": 8,
    "start_time": "2023-07-25T13:18:39.262Z"
   },
   {
    "duration": 8,
    "start_time": "2023-07-25T13:18:39.271Z"
   },
   {
    "duration": 84915,
    "start_time": "2023-07-25T13:18:51.327Z"
   },
   {
    "duration": 3,
    "start_time": "2023-07-25T13:20:33.148Z"
   },
   {
    "duration": 3,
    "start_time": "2023-07-25T13:20:35.012Z"
   },
   {
    "duration": 264539,
    "start_time": "2023-07-25T13:20:37.228Z"
   },
   {
    "duration": 4,
    "start_time": "2023-07-25T13:25:03.958Z"
   },
   {
    "duration": 4,
    "start_time": "2023-07-25T13:25:06.607Z"
   },
   {
    "duration": 253122,
    "start_time": "2023-07-25T13:25:07.346Z"
   },
   {
    "duration": 4,
    "start_time": "2023-07-25T13:30:04.033Z"
   },
   {
    "duration": 6452,
    "start_time": "2023-07-25T13:40:28.513Z"
   },
   {
    "duration": 10,
    "start_time": "2023-07-25T13:40:40.046Z"
   },
   {
    "duration": 962,
    "start_time": "2023-07-25T13:43:25.619Z"
   },
   {
    "duration": 4,
    "start_time": "2023-07-25T13:43:29.116Z"
   },
   {
    "duration": 3,
    "start_time": "2023-07-25T13:43:30.733Z"
   },
   {
    "duration": 70,
    "start_time": "2023-07-25T13:53:49.146Z"
   },
   {
    "duration": 61,
    "start_time": "2023-07-25T13:54:13.845Z"
   },
   {
    "duration": 97,
    "start_time": "2023-07-25T13:54:22.928Z"
   },
   {
    "duration": 89,
    "start_time": "2023-07-25T14:08:52.509Z"
   },
   {
    "duration": 5,
    "start_time": "2023-07-25T14:18:05.347Z"
   },
   {
    "duration": 22,
    "start_time": "2023-07-25T14:20:32.866Z"
   },
   {
    "duration": 65,
    "start_time": "2023-07-25T14:33:29.531Z"
   },
   {
    "duration": 3,
    "start_time": "2023-07-25T14:33:35.131Z"
   },
   {
    "duration": 3,
    "start_time": "2023-07-25T14:33:36.526Z"
   },
   {
    "duration": 3,
    "start_time": "2023-07-25T14:33:38.632Z"
   },
   {
    "duration": 23,
    "start_time": "2023-07-25T14:33:41.565Z"
   },
   {
    "duration": 4,
    "start_time": "2023-07-25T14:34:13.936Z"
   },
   {
    "duration": 3,
    "start_time": "2023-07-25T14:34:16.721Z"
   },
   {
    "duration": 2153,
    "start_time": "2023-07-25T14:34:19.545Z"
   },
   {
    "duration": 6,
    "start_time": "2023-07-25T14:34:35.760Z"
   },
   {
    "duration": 3,
    "start_time": "2023-07-25T14:35:07.871Z"
   },
   {
    "duration": 3,
    "start_time": "2023-07-25T14:35:09.913Z"
   },
   {
    "duration": 1953,
    "start_time": "2023-07-25T14:35:11.284Z"
   },
   {
    "duration": 4,
    "start_time": "2023-07-25T14:36:00.248Z"
   },
   {
    "duration": 3,
    "start_time": "2023-07-25T14:36:01.028Z"
   },
   {
    "duration": 60183,
    "start_time": "2023-07-25T14:36:01.648Z"
   },
   {
    "duration": 4,
    "start_time": "2023-07-25T14:37:58.012Z"
   },
   {
    "duration": 3,
    "start_time": "2023-07-25T14:38:06.139Z"
   },
   {
    "duration": 17,
    "start_time": "2023-07-25T14:39:26.454Z"
   },
   {
    "duration": 15,
    "start_time": "2023-07-25T14:39:35.766Z"
   },
   {
    "duration": 3,
    "start_time": "2023-07-25T14:39:42.816Z"
   },
   {
    "duration": 265,
    "start_time": "2023-07-25T14:39:49.435Z"
   },
   {
    "duration": 24,
    "start_time": "2023-07-25T14:39:55.916Z"
   },
   {
    "duration": 6,
    "start_time": "2023-07-25T14:39:59.967Z"
   },
   {
    "duration": 4,
    "start_time": "2023-07-25T14:40:01.844Z"
   },
   {
    "duration": 69,
    "start_time": "2023-07-25T14:47:09.187Z"
   },
   {
    "duration": 135,
    "start_time": "2023-07-25T14:48:58.084Z"
   },
   {
    "duration": 68,
    "start_time": "2023-07-25T14:49:15.817Z"
   },
   {
    "duration": 6,
    "start_time": "2023-07-25T14:49:25.935Z"
   },
   {
    "duration": 10,
    "start_time": "2023-07-25T14:49:41.722Z"
   },
   {
    "duration": 28,
    "start_time": "2023-07-25T14:53:42.734Z"
   },
   {
    "duration": 71,
    "start_time": "2023-07-25T15:03:31.922Z"
   },
   {
    "duration": 1216,
    "start_time": "2023-07-25T15:07:35.939Z"
   },
   {
    "duration": 822,
    "start_time": "2023-07-25T15:07:37.157Z"
   },
   {
    "duration": 121,
    "start_time": "2023-07-25T15:07:37.981Z"
   },
   {
    "duration": 53,
    "start_time": "2023-07-25T15:07:38.104Z"
   },
   {
    "duration": 156,
    "start_time": "2023-07-25T15:07:38.159Z"
   },
   {
    "duration": 22,
    "start_time": "2023-07-25T15:07:38.317Z"
   },
   {
    "duration": 31,
    "start_time": "2023-07-25T15:07:38.341Z"
   },
   {
    "duration": 25,
    "start_time": "2023-07-25T15:07:38.374Z"
   },
   {
    "duration": 58,
    "start_time": "2023-07-25T15:07:38.401Z"
   },
   {
    "duration": 14,
    "start_time": "2023-07-25T15:07:38.462Z"
   },
   {
    "duration": 38,
    "start_time": "2023-07-25T15:07:38.477Z"
   },
   {
    "duration": 44,
    "start_time": "2023-07-25T15:07:38.517Z"
   },
   {
    "duration": 18,
    "start_time": "2023-07-25T15:07:38.563Z"
   },
   {
    "duration": 281,
    "start_time": "2023-07-25T15:07:38.584Z"
   },
   {
    "duration": 22,
    "start_time": "2023-07-25T15:07:38.867Z"
   },
   {
    "duration": 24,
    "start_time": "2023-07-25T15:07:38.891Z"
   },
   {
    "duration": 351,
    "start_time": "2023-07-25T15:07:38.918Z"
   },
   {
    "duration": 16,
    "start_time": "2023-07-25T15:07:39.271Z"
   },
   {
    "duration": 20,
    "start_time": "2023-07-25T15:07:39.289Z"
   },
   {
    "duration": 23,
    "start_time": "2023-07-25T15:07:39.310Z"
   },
   {
    "duration": 36,
    "start_time": "2023-07-25T15:07:39.335Z"
   },
   {
    "duration": 18,
    "start_time": "2023-07-25T15:07:39.372Z"
   },
   {
    "duration": 20,
    "start_time": "2023-07-25T15:07:39.391Z"
   },
   {
    "duration": 52,
    "start_time": "2023-07-25T15:07:39.413Z"
   },
   {
    "duration": 8583,
    "start_time": "2023-07-25T15:07:39.467Z"
   },
   {
    "duration": 43,
    "start_time": "2023-07-25T15:07:48.052Z"
   },
   {
    "duration": 8668,
    "start_time": "2023-07-25T15:07:48.097Z"
   },
   {
    "duration": 12,
    "start_time": "2023-07-25T15:07:56.767Z"
   },
   {
    "duration": 57,
    "start_time": "2023-07-25T15:07:56.781Z"
   },
   {
    "duration": 45,
    "start_time": "2023-07-25T15:07:56.839Z"
   },
   {
    "duration": 95,
    "start_time": "2023-07-25T15:07:56.885Z"
   },
   {
    "duration": 153,
    "start_time": "2023-07-25T15:07:56.982Z"
   },
   {
    "duration": 195,
    "start_time": "2023-07-25T15:07:57.137Z"
   },
   {
    "duration": 3,
    "start_time": "2023-07-25T15:07:57.335Z"
   },
   {
    "duration": 33,
    "start_time": "2023-07-25T15:07:57.340Z"
   },
   {
    "duration": 132,
    "start_time": "2023-07-25T15:07:57.375Z"
   },
   {
    "duration": 3,
    "start_time": "2023-07-25T15:07:57.509Z"
   },
   {
    "duration": 3836,
    "start_time": "2023-07-25T15:07:57.514Z"
   },
   {
    "duration": 890,
    "start_time": "2023-07-25T15:08:01.353Z"
   },
   {
    "duration": 10,
    "start_time": "2023-07-25T15:08:02.246Z"
   },
   {
    "duration": 30,
    "start_time": "2023-07-25T15:08:02.261Z"
   },
   {
    "duration": 36,
    "start_time": "2023-07-25T15:08:02.293Z"
   },
   {
    "duration": 126,
    "start_time": "2023-07-25T15:08:02.331Z"
   },
   {
    "duration": 0,
    "start_time": "2023-07-25T15:08:02.459Z"
   },
   {
    "duration": 0,
    "start_time": "2023-07-25T15:08:02.460Z"
   },
   {
    "duration": 0,
    "start_time": "2023-07-25T15:08:02.461Z"
   },
   {
    "duration": 0,
    "start_time": "2023-07-25T15:08:02.462Z"
   },
   {
    "duration": 0,
    "start_time": "2023-07-25T15:08:02.463Z"
   },
   {
    "duration": 0,
    "start_time": "2023-07-25T15:08:02.464Z"
   },
   {
    "duration": 0,
    "start_time": "2023-07-25T15:08:02.465Z"
   },
   {
    "duration": 0,
    "start_time": "2023-07-25T15:08:02.466Z"
   },
   {
    "duration": 0,
    "start_time": "2023-07-25T15:08:02.467Z"
   },
   {
    "duration": 0,
    "start_time": "2023-07-25T15:08:02.468Z"
   },
   {
    "duration": 0,
    "start_time": "2023-07-25T15:08:02.469Z"
   },
   {
    "duration": 0,
    "start_time": "2023-07-25T15:08:02.470Z"
   },
   {
    "duration": 0,
    "start_time": "2023-07-25T15:08:02.471Z"
   },
   {
    "duration": 0,
    "start_time": "2023-07-25T15:08:02.472Z"
   },
   {
    "duration": 0,
    "start_time": "2023-07-25T15:08:02.473Z"
   },
   {
    "duration": 0,
    "start_time": "2023-07-25T15:08:02.474Z"
   },
   {
    "duration": 0,
    "start_time": "2023-07-25T15:08:02.475Z"
   },
   {
    "duration": 0,
    "start_time": "2023-07-25T15:08:02.476Z"
   },
   {
    "duration": 0,
    "start_time": "2023-07-25T15:08:02.477Z"
   },
   {
    "duration": 0,
    "start_time": "2023-07-25T15:08:02.478Z"
   },
   {
    "duration": 0,
    "start_time": "2023-07-25T15:08:02.480Z"
   },
   {
    "duration": 0,
    "start_time": "2023-07-25T15:08:02.481Z"
   },
   {
    "duration": 0,
    "start_time": "2023-07-25T15:08:02.482Z"
   },
   {
    "duration": 0,
    "start_time": "2023-07-25T15:08:02.483Z"
   },
   {
    "duration": 0,
    "start_time": "2023-07-25T15:08:02.484Z"
   },
   {
    "duration": 1262,
    "start_time": "2023-07-25T15:08:18.539Z"
   },
   {
    "duration": 821,
    "start_time": "2023-07-25T15:08:19.803Z"
   },
   {
    "duration": 135,
    "start_time": "2023-07-25T15:08:20.625Z"
   },
   {
    "duration": 53,
    "start_time": "2023-07-25T15:08:20.762Z"
   },
   {
    "duration": 91,
    "start_time": "2023-07-25T15:08:20.817Z"
   },
   {
    "duration": 27,
    "start_time": "2023-07-25T15:08:20.910Z"
   },
   {
    "duration": 29,
    "start_time": "2023-07-25T15:08:20.939Z"
   },
   {
    "duration": 30,
    "start_time": "2023-07-25T15:08:20.970Z"
   },
   {
    "duration": 32,
    "start_time": "2023-07-25T15:08:21.002Z"
   },
   {
    "duration": 23,
    "start_time": "2023-07-25T15:08:21.037Z"
   },
   {
    "duration": 37,
    "start_time": "2023-07-25T15:08:21.061Z"
   },
   {
    "duration": 32,
    "start_time": "2023-07-25T15:08:21.100Z"
   },
   {
    "duration": 40,
    "start_time": "2023-07-25T15:08:21.134Z"
   },
   {
    "duration": 281,
    "start_time": "2023-07-25T15:08:21.176Z"
   },
   {
    "duration": 14,
    "start_time": "2023-07-25T15:08:21.459Z"
   },
   {
    "duration": 25,
    "start_time": "2023-07-25T15:08:21.474Z"
   },
   {
    "duration": 266,
    "start_time": "2023-07-25T15:08:21.501Z"
   },
   {
    "duration": 16,
    "start_time": "2023-07-25T15:08:21.769Z"
   },
   {
    "duration": 29,
    "start_time": "2023-07-25T15:08:21.786Z"
   },
   {
    "duration": 33,
    "start_time": "2023-07-25T15:08:21.817Z"
   },
   {
    "duration": 22,
    "start_time": "2023-07-25T15:08:21.852Z"
   },
   {
    "duration": 29,
    "start_time": "2023-07-25T15:08:21.876Z"
   },
   {
    "duration": 36,
    "start_time": "2023-07-25T15:08:21.907Z"
   },
   {
    "duration": 53,
    "start_time": "2023-07-25T15:08:21.945Z"
   },
   {
    "duration": 8693,
    "start_time": "2023-07-25T15:08:22.000Z"
   },
   {
    "duration": 39,
    "start_time": "2023-07-25T15:08:30.695Z"
   },
   {
    "duration": 8631,
    "start_time": "2023-07-25T15:08:30.736Z"
   },
   {
    "duration": 87,
    "start_time": "2023-07-25T15:08:39.371Z"
   },
   {
    "duration": 30,
    "start_time": "2023-07-25T15:08:39.460Z"
   },
   {
    "duration": 16,
    "start_time": "2023-07-25T15:08:39.492Z"
   },
   {
    "duration": 53,
    "start_time": "2023-07-25T15:08:39.509Z"
   },
   {
    "duration": 155,
    "start_time": "2023-07-25T15:08:39.564Z"
   },
   {
    "duration": 196,
    "start_time": "2023-07-25T15:08:39.720Z"
   },
   {
    "duration": 3,
    "start_time": "2023-07-25T15:08:39.918Z"
   },
   {
    "duration": 18,
    "start_time": "2023-07-25T15:08:39.922Z"
   },
   {
    "duration": 131,
    "start_time": "2023-07-25T15:08:39.942Z"
   },
   {
    "duration": 3,
    "start_time": "2023-07-25T15:08:40.075Z"
   },
   {
    "duration": 3782,
    "start_time": "2023-07-25T15:08:40.080Z"
   },
   {
    "duration": 838,
    "start_time": "2023-07-25T15:08:43.865Z"
   },
   {
    "duration": 3,
    "start_time": "2023-07-25T15:08:44.704Z"
   },
   {
    "duration": 8,
    "start_time": "2023-07-25T15:08:44.709Z"
   },
   {
    "duration": 5,
    "start_time": "2023-07-25T15:08:44.718Z"
   },
   {
    "duration": 112,
    "start_time": "2023-07-25T15:08:44.724Z"
   },
   {
    "duration": 0,
    "start_time": "2023-07-25T15:08:44.838Z"
   },
   {
    "duration": 0,
    "start_time": "2023-07-25T15:08:44.839Z"
   },
   {
    "duration": 0,
    "start_time": "2023-07-25T15:08:44.840Z"
   },
   {
    "duration": 0,
    "start_time": "2023-07-25T15:08:44.841Z"
   },
   {
    "duration": 0,
    "start_time": "2023-07-25T15:08:44.842Z"
   },
   {
    "duration": 0,
    "start_time": "2023-07-25T15:08:44.843Z"
   },
   {
    "duration": 0,
    "start_time": "2023-07-25T15:08:44.856Z"
   },
   {
    "duration": 0,
    "start_time": "2023-07-25T15:08:44.857Z"
   },
   {
    "duration": 0,
    "start_time": "2023-07-25T15:08:44.858Z"
   },
   {
    "duration": 0,
    "start_time": "2023-07-25T15:08:44.858Z"
   },
   {
    "duration": 0,
    "start_time": "2023-07-25T15:08:44.860Z"
   },
   {
    "duration": 0,
    "start_time": "2023-07-25T15:08:44.861Z"
   },
   {
    "duration": 0,
    "start_time": "2023-07-25T15:08:44.862Z"
   },
   {
    "duration": 0,
    "start_time": "2023-07-25T15:08:44.863Z"
   },
   {
    "duration": 0,
    "start_time": "2023-07-25T15:08:44.865Z"
   },
   {
    "duration": 0,
    "start_time": "2023-07-25T15:08:44.866Z"
   },
   {
    "duration": 0,
    "start_time": "2023-07-25T15:08:44.867Z"
   },
   {
    "duration": 0,
    "start_time": "2023-07-25T15:08:44.878Z"
   },
   {
    "duration": 0,
    "start_time": "2023-07-25T15:08:44.879Z"
   },
   {
    "duration": 0,
    "start_time": "2023-07-25T15:08:44.881Z"
   },
   {
    "duration": 0,
    "start_time": "2023-07-25T15:08:44.882Z"
   },
   {
    "duration": 0,
    "start_time": "2023-07-25T15:08:44.883Z"
   },
   {
    "duration": 0,
    "start_time": "2023-07-25T15:08:44.885Z"
   },
   {
    "duration": 0,
    "start_time": "2023-07-25T15:08:44.886Z"
   },
   {
    "duration": 0,
    "start_time": "2023-07-25T15:08:44.887Z"
   },
   {
    "duration": 1211,
    "start_time": "2023-07-25T15:09:45.826Z"
   },
   {
    "duration": 827,
    "start_time": "2023-07-25T15:09:47.039Z"
   },
   {
    "duration": 119,
    "start_time": "2023-07-25T15:09:47.867Z"
   },
   {
    "duration": 49,
    "start_time": "2023-07-25T15:09:47.987Z"
   },
   {
    "duration": 75,
    "start_time": "2023-07-25T15:09:48.056Z"
   },
   {
    "duration": 42,
    "start_time": "2023-07-25T15:09:48.132Z"
   },
   {
    "duration": 23,
    "start_time": "2023-07-25T15:09:48.176Z"
   },
   {
    "duration": 49,
    "start_time": "2023-07-25T15:09:48.201Z"
   },
   {
    "duration": 55,
    "start_time": "2023-07-25T15:09:48.252Z"
   },
   {
    "duration": 9,
    "start_time": "2023-07-25T15:09:48.309Z"
   },
   {
    "duration": 49,
    "start_time": "2023-07-25T15:09:48.320Z"
   },
   {
    "duration": 36,
    "start_time": "2023-07-25T15:09:48.371Z"
   },
   {
    "duration": 22,
    "start_time": "2023-07-25T15:09:48.409Z"
   },
   {
    "duration": 305,
    "start_time": "2023-07-25T15:09:48.434Z"
   },
   {
    "duration": 19,
    "start_time": "2023-07-25T15:09:48.741Z"
   },
   {
    "duration": 29,
    "start_time": "2023-07-25T15:09:48.761Z"
   },
   {
    "duration": 349,
    "start_time": "2023-07-25T15:09:48.792Z"
   },
   {
    "duration": 25,
    "start_time": "2023-07-25T15:09:49.143Z"
   },
   {
    "duration": 20,
    "start_time": "2023-07-25T15:09:49.169Z"
   },
   {
    "duration": 32,
    "start_time": "2023-07-25T15:09:49.190Z"
   },
   {
    "duration": 25,
    "start_time": "2023-07-25T15:09:49.224Z"
   },
   {
    "duration": 21,
    "start_time": "2023-07-25T15:09:49.256Z"
   },
   {
    "duration": 25,
    "start_time": "2023-07-25T15:09:49.278Z"
   },
   {
    "duration": 34,
    "start_time": "2023-07-25T15:09:49.305Z"
   },
   {
    "duration": 8640,
    "start_time": "2023-07-25T15:09:49.356Z"
   },
   {
    "duration": 38,
    "start_time": "2023-07-25T15:09:57.998Z"
   },
   {
    "duration": 8532,
    "start_time": "2023-07-25T15:09:58.038Z"
   },
   {
    "duration": 12,
    "start_time": "2023-07-25T15:10:06.572Z"
   },
   {
    "duration": 37,
    "start_time": "2023-07-25T15:10:06.586Z"
   },
   {
    "duration": 14,
    "start_time": "2023-07-25T15:10:06.625Z"
   },
   {
    "duration": 87,
    "start_time": "2023-07-25T15:10:06.657Z"
   },
   {
    "duration": 148,
    "start_time": "2023-07-25T15:10:06.756Z"
   },
   {
    "duration": 178,
    "start_time": "2023-07-25T15:10:06.906Z"
   },
   {
    "duration": 2,
    "start_time": "2023-07-25T15:10:07.086Z"
   },
   {
    "duration": 18,
    "start_time": "2023-07-25T15:10:07.090Z"
   },
   {
    "duration": 131,
    "start_time": "2023-07-25T15:10:07.109Z"
   },
   {
    "duration": 3,
    "start_time": "2023-07-25T15:10:07.242Z"
   },
   {
    "duration": 3630,
    "start_time": "2023-07-25T15:10:07.247Z"
   },
   {
    "duration": 840,
    "start_time": "2023-07-25T15:10:10.878Z"
   },
   {
    "duration": 3,
    "start_time": "2023-07-25T15:10:11.720Z"
   },
   {
    "duration": 6,
    "start_time": "2023-07-25T15:10:11.726Z"
   },
   {
    "duration": 21,
    "start_time": "2023-07-25T15:10:11.733Z"
   },
   {
    "duration": 100,
    "start_time": "2023-07-25T15:10:11.756Z"
   },
   {
    "duration": 0,
    "start_time": "2023-07-25T15:10:11.857Z"
   },
   {
    "duration": 0,
    "start_time": "2023-07-25T15:10:11.858Z"
   },
   {
    "duration": 0,
    "start_time": "2023-07-25T15:10:11.859Z"
   },
   {
    "duration": 0,
    "start_time": "2023-07-25T15:10:11.860Z"
   },
   {
    "duration": 0,
    "start_time": "2023-07-25T15:10:11.861Z"
   },
   {
    "duration": 0,
    "start_time": "2023-07-25T15:10:11.862Z"
   },
   {
    "duration": 0,
    "start_time": "2023-07-25T15:10:11.863Z"
   },
   {
    "duration": 0,
    "start_time": "2023-07-25T15:10:11.864Z"
   },
   {
    "duration": 0,
    "start_time": "2023-07-25T15:10:11.865Z"
   },
   {
    "duration": 0,
    "start_time": "2023-07-25T15:10:11.866Z"
   },
   {
    "duration": 0,
    "start_time": "2023-07-25T15:10:11.867Z"
   },
   {
    "duration": 0,
    "start_time": "2023-07-25T15:10:11.868Z"
   },
   {
    "duration": 0,
    "start_time": "2023-07-25T15:10:11.869Z"
   },
   {
    "duration": 0,
    "start_time": "2023-07-25T15:10:11.870Z"
   },
   {
    "duration": 0,
    "start_time": "2023-07-25T15:10:11.871Z"
   },
   {
    "duration": 0,
    "start_time": "2023-07-25T15:10:11.872Z"
   },
   {
    "duration": 0,
    "start_time": "2023-07-25T15:10:11.873Z"
   },
   {
    "duration": 0,
    "start_time": "2023-07-25T15:10:11.874Z"
   },
   {
    "duration": 0,
    "start_time": "2023-07-25T15:10:11.875Z"
   },
   {
    "duration": 0,
    "start_time": "2023-07-25T15:10:11.876Z"
   },
   {
    "duration": 0,
    "start_time": "2023-07-25T15:10:11.877Z"
   },
   {
    "duration": 0,
    "start_time": "2023-07-25T15:10:11.878Z"
   },
   {
    "duration": 0,
    "start_time": "2023-07-25T15:10:11.879Z"
   },
   {
    "duration": 0,
    "start_time": "2023-07-25T15:10:11.881Z"
   },
   {
    "duration": 0,
    "start_time": "2023-07-25T15:10:11.882Z"
   },
   {
    "duration": 1175,
    "start_time": "2023-07-25T15:10:49.087Z"
   },
   {
    "duration": 833,
    "start_time": "2023-07-25T15:10:50.264Z"
   },
   {
    "duration": 125,
    "start_time": "2023-07-25T15:10:51.098Z"
   },
   {
    "duration": 61,
    "start_time": "2023-07-25T15:10:51.226Z"
   },
   {
    "duration": 85,
    "start_time": "2023-07-25T15:10:51.289Z"
   },
   {
    "duration": 35,
    "start_time": "2023-07-25T15:10:51.376Z"
   },
   {
    "duration": 22,
    "start_time": "2023-07-25T15:10:51.413Z"
   },
   {
    "duration": 35,
    "start_time": "2023-07-25T15:10:51.437Z"
   },
   {
    "duration": 44,
    "start_time": "2023-07-25T15:10:51.473Z"
   },
   {
    "duration": 10,
    "start_time": "2023-07-25T15:10:51.519Z"
   },
   {
    "duration": 46,
    "start_time": "2023-07-25T15:10:51.530Z"
   },
   {
    "duration": 28,
    "start_time": "2023-07-25T15:10:51.578Z"
   },
   {
    "duration": 27,
    "start_time": "2023-07-25T15:10:51.608Z"
   },
   {
    "duration": 279,
    "start_time": "2023-07-25T15:10:51.638Z"
   },
   {
    "duration": 14,
    "start_time": "2023-07-25T15:10:51.919Z"
   },
   {
    "duration": 37,
    "start_time": "2023-07-25T15:10:51.935Z"
   },
   {
    "duration": 485,
    "start_time": "2023-07-25T15:10:51.974Z"
   },
   {
    "duration": 17,
    "start_time": "2023-07-25T15:10:52.461Z"
   },
   {
    "duration": 25,
    "start_time": "2023-07-25T15:10:52.479Z"
   },
   {
    "duration": 31,
    "start_time": "2023-07-25T15:10:52.557Z"
   },
   {
    "duration": 67,
    "start_time": "2023-07-25T15:10:52.590Z"
   },
   {
    "duration": 20,
    "start_time": "2023-07-25T15:10:52.659Z"
   },
   {
    "duration": 87,
    "start_time": "2023-07-25T15:10:52.680Z"
   },
   {
    "duration": 90,
    "start_time": "2023-07-25T15:10:52.769Z"
   },
   {
    "duration": 9022,
    "start_time": "2023-07-25T15:10:52.860Z"
   },
   {
    "duration": 39,
    "start_time": "2023-07-25T15:11:01.884Z"
   },
   {
    "duration": 6812,
    "start_time": "2023-07-25T15:11:01.925Z"
   },
   {
    "duration": 0,
    "start_time": "2023-07-25T15:11:08.739Z"
   },
   {
    "duration": 0,
    "start_time": "2023-07-25T15:11:08.740Z"
   },
   {
    "duration": 0,
    "start_time": "2023-07-25T15:11:08.740Z"
   },
   {
    "duration": 0,
    "start_time": "2023-07-25T15:11:08.741Z"
   },
   {
    "duration": 0,
    "start_time": "2023-07-25T15:11:08.742Z"
   },
   {
    "duration": 0,
    "start_time": "2023-07-25T15:11:08.743Z"
   },
   {
    "duration": 0,
    "start_time": "2023-07-25T15:11:08.816Z"
   },
   {
    "duration": 0,
    "start_time": "2023-07-25T15:11:08.818Z"
   },
   {
    "duration": 0,
    "start_time": "2023-07-25T15:11:08.819Z"
   },
   {
    "duration": 0,
    "start_time": "2023-07-25T15:11:08.820Z"
   },
   {
    "duration": 0,
    "start_time": "2023-07-25T15:11:08.821Z"
   },
   {
    "duration": 0,
    "start_time": "2023-07-25T15:11:08.822Z"
   },
   {
    "duration": 0,
    "start_time": "2023-07-25T15:11:08.823Z"
   },
   {
    "duration": 0,
    "start_time": "2023-07-25T15:11:08.824Z"
   },
   {
    "duration": 0,
    "start_time": "2023-07-25T15:11:08.825Z"
   },
   {
    "duration": 0,
    "start_time": "2023-07-25T15:11:08.827Z"
   },
   {
    "duration": 0,
    "start_time": "2023-07-25T15:11:08.857Z"
   },
   {
    "duration": 0,
    "start_time": "2023-07-25T15:11:08.858Z"
   },
   {
    "duration": 0,
    "start_time": "2023-07-25T15:11:08.859Z"
   },
   {
    "duration": 0,
    "start_time": "2023-07-25T15:11:08.861Z"
   },
   {
    "duration": 0,
    "start_time": "2023-07-25T15:11:08.862Z"
   },
   {
    "duration": 0,
    "start_time": "2023-07-25T15:11:08.864Z"
   },
   {
    "duration": 0,
    "start_time": "2023-07-25T15:11:08.866Z"
   },
   {
    "duration": 0,
    "start_time": "2023-07-25T15:11:08.867Z"
   },
   {
    "duration": 0,
    "start_time": "2023-07-25T15:11:08.868Z"
   },
   {
    "duration": 0,
    "start_time": "2023-07-25T15:11:08.870Z"
   },
   {
    "duration": 0,
    "start_time": "2023-07-25T15:11:08.872Z"
   },
   {
    "duration": 0,
    "start_time": "2023-07-25T15:11:08.874Z"
   },
   {
    "duration": 0,
    "start_time": "2023-07-25T15:11:08.874Z"
   },
   {
    "duration": 0,
    "start_time": "2023-07-25T15:11:08.876Z"
   },
   {
    "duration": 0,
    "start_time": "2023-07-25T15:11:08.877Z"
   },
   {
    "duration": 0,
    "start_time": "2023-07-25T15:11:08.878Z"
   },
   {
    "duration": 0,
    "start_time": "2023-07-25T15:11:08.880Z"
   },
   {
    "duration": 0,
    "start_time": "2023-07-25T15:11:08.881Z"
   },
   {
    "duration": 0,
    "start_time": "2023-07-25T15:11:08.882Z"
   },
   {
    "duration": 0,
    "start_time": "2023-07-25T15:11:08.883Z"
   },
   {
    "duration": 0,
    "start_time": "2023-07-25T15:11:08.885Z"
   },
   {
    "duration": 0,
    "start_time": "2023-07-25T15:11:08.886Z"
   },
   {
    "duration": 0,
    "start_time": "2023-07-25T15:11:08.888Z"
   },
   {
    "duration": 0,
    "start_time": "2023-07-25T15:11:08.889Z"
   },
   {
    "duration": 0,
    "start_time": "2023-07-25T15:11:08.890Z"
   },
   {
    "duration": 1189,
    "start_time": "2023-07-25T15:11:16.858Z"
   },
   {
    "duration": 1310,
    "start_time": "2023-07-25T15:11:18.049Z"
   },
   {
    "duration": 215,
    "start_time": "2023-07-25T15:11:19.361Z"
   },
   {
    "duration": 102,
    "start_time": "2023-07-25T15:11:19.579Z"
   },
   {
    "duration": 181,
    "start_time": "2023-07-25T15:11:19.683Z"
   },
   {
    "duration": 23,
    "start_time": "2023-07-25T15:11:19.865Z"
   },
   {
    "duration": 73,
    "start_time": "2023-07-25T15:11:19.889Z"
   },
   {
    "duration": 25,
    "start_time": "2023-07-25T15:11:19.964Z"
   },
   {
    "duration": 83,
    "start_time": "2023-07-25T15:11:19.991Z"
   },
   {
    "duration": 10,
    "start_time": "2023-07-25T15:11:20.077Z"
   },
   {
    "duration": 101,
    "start_time": "2023-07-25T15:11:20.088Z"
   },
   {
    "duration": 28,
    "start_time": "2023-07-25T15:11:20.191Z"
   },
   {
    "duration": 52,
    "start_time": "2023-07-25T15:11:20.220Z"
   },
   {
    "duration": 251,
    "start_time": "2023-07-25T15:11:20.274Z"
   },
   {
    "duration": 15,
    "start_time": "2023-07-25T15:11:20.528Z"
   },
   {
    "duration": 19,
    "start_time": "2023-07-25T15:11:20.557Z"
   },
   {
    "duration": 425,
    "start_time": "2023-07-25T15:11:20.578Z"
   },
   {
    "duration": 17,
    "start_time": "2023-07-25T15:11:21.057Z"
   },
   {
    "duration": 18,
    "start_time": "2023-07-25T15:11:21.075Z"
   },
   {
    "duration": 75,
    "start_time": "2023-07-25T15:11:21.094Z"
   },
   {
    "duration": 22,
    "start_time": "2023-07-25T15:11:21.171Z"
   },
   {
    "duration": 72,
    "start_time": "2023-07-25T15:11:21.195Z"
   },
   {
    "duration": 18,
    "start_time": "2023-07-25T15:11:21.269Z"
   },
   {
    "duration": 85,
    "start_time": "2023-07-25T15:11:21.289Z"
   },
   {
    "duration": 9031,
    "start_time": "2023-07-25T15:11:21.375Z"
   },
   {
    "duration": 38,
    "start_time": "2023-07-25T15:11:30.408Z"
   },
   {
    "duration": 8328,
    "start_time": "2023-07-25T15:11:30.456Z"
   },
   {
    "duration": 97,
    "start_time": "2023-07-25T15:11:38.788Z"
   },
   {
    "duration": 34,
    "start_time": "2023-07-25T15:11:38.887Z"
   },
   {
    "duration": 36,
    "start_time": "2023-07-25T15:11:38.924Z"
   },
   {
    "duration": 30,
    "start_time": "2023-07-25T15:11:38.962Z"
   },
   {
    "duration": 192,
    "start_time": "2023-07-25T15:11:38.995Z"
   },
   {
    "duration": 211,
    "start_time": "2023-07-25T15:11:39.190Z"
   },
   {
    "duration": 3,
    "start_time": "2023-07-25T15:11:39.402Z"
   },
   {
    "duration": 18,
    "start_time": "2023-07-25T15:11:39.407Z"
   },
   {
    "duration": 134,
    "start_time": "2023-07-25T15:11:39.427Z"
   },
   {
    "duration": 2,
    "start_time": "2023-07-25T15:11:39.563Z"
   },
   {
    "duration": 3832,
    "start_time": "2023-07-25T15:11:39.567Z"
   },
   {
    "duration": 906,
    "start_time": "2023-07-25T15:11:43.401Z"
   },
   {
    "duration": 2,
    "start_time": "2023-07-25T15:11:44.309Z"
   },
   {
    "duration": 6,
    "start_time": "2023-07-25T15:11:44.313Z"
   },
   {
    "duration": 9,
    "start_time": "2023-07-25T15:11:44.321Z"
   },
   {
    "duration": 113,
    "start_time": "2023-07-25T15:11:44.332Z"
   },
   {
    "duration": 0,
    "start_time": "2023-07-25T15:11:44.447Z"
   },
   {
    "duration": 0,
    "start_time": "2023-07-25T15:11:44.457Z"
   },
   {
    "duration": 0,
    "start_time": "2023-07-25T15:11:44.458Z"
   },
   {
    "duration": 0,
    "start_time": "2023-07-25T15:11:44.459Z"
   },
   {
    "duration": 0,
    "start_time": "2023-07-25T15:11:44.459Z"
   },
   {
    "duration": 0,
    "start_time": "2023-07-25T15:11:44.461Z"
   },
   {
    "duration": 0,
    "start_time": "2023-07-25T15:11:44.462Z"
   },
   {
    "duration": 0,
    "start_time": "2023-07-25T15:11:44.463Z"
   },
   {
    "duration": 0,
    "start_time": "2023-07-25T15:11:44.464Z"
   },
   {
    "duration": 0,
    "start_time": "2023-07-25T15:11:44.465Z"
   },
   {
    "duration": 0,
    "start_time": "2023-07-25T15:11:44.466Z"
   },
   {
    "duration": 0,
    "start_time": "2023-07-25T15:11:44.467Z"
   },
   {
    "duration": 0,
    "start_time": "2023-07-25T15:11:44.468Z"
   },
   {
    "duration": 0,
    "start_time": "2023-07-25T15:11:44.469Z"
   },
   {
    "duration": 0,
    "start_time": "2023-07-25T15:11:44.469Z"
   },
   {
    "duration": 0,
    "start_time": "2023-07-25T15:11:44.470Z"
   },
   {
    "duration": 0,
    "start_time": "2023-07-25T15:11:44.471Z"
   },
   {
    "duration": 0,
    "start_time": "2023-07-25T15:11:44.473Z"
   },
   {
    "duration": 0,
    "start_time": "2023-07-25T15:11:44.473Z"
   },
   {
    "duration": 0,
    "start_time": "2023-07-25T15:11:44.474Z"
   },
   {
    "duration": 0,
    "start_time": "2023-07-25T15:11:44.475Z"
   },
   {
    "duration": 0,
    "start_time": "2023-07-25T15:11:44.476Z"
   },
   {
    "duration": 0,
    "start_time": "2023-07-25T15:11:44.477Z"
   },
   {
    "duration": 0,
    "start_time": "2023-07-25T15:11:44.477Z"
   },
   {
    "duration": 0,
    "start_time": "2023-07-25T15:11:44.478Z"
   },
   {
    "duration": 3,
    "start_time": "2023-07-25T15:12:14.202Z"
   },
   {
    "duration": 6804,
    "start_time": "2023-07-25T15:12:15.258Z"
   },
   {
    "duration": 1183,
    "start_time": "2023-07-25T15:12:26.254Z"
   },
   {
    "duration": 813,
    "start_time": "2023-07-25T15:12:27.439Z"
   },
   {
    "duration": 117,
    "start_time": "2023-07-25T15:12:28.253Z"
   },
   {
    "duration": 48,
    "start_time": "2023-07-25T15:12:28.373Z"
   },
   {
    "duration": 108,
    "start_time": "2023-07-25T15:12:28.423Z"
   },
   {
    "duration": 34,
    "start_time": "2023-07-25T15:12:28.533Z"
   },
   {
    "duration": 21,
    "start_time": "2023-07-25T15:12:28.569Z"
   },
   {
    "duration": 30,
    "start_time": "2023-07-25T15:12:28.592Z"
   },
   {
    "duration": 47,
    "start_time": "2023-07-25T15:12:28.624Z"
   },
   {
    "duration": 11,
    "start_time": "2023-07-25T15:12:28.675Z"
   },
   {
    "duration": 41,
    "start_time": "2023-07-25T15:12:28.688Z"
   },
   {
    "duration": 45,
    "start_time": "2023-07-25T15:12:28.731Z"
   },
   {
    "duration": 32,
    "start_time": "2023-07-25T15:12:28.778Z"
   },
   {
    "duration": 309,
    "start_time": "2023-07-25T15:12:28.813Z"
   },
   {
    "duration": 15,
    "start_time": "2023-07-25T15:12:29.124Z"
   },
   {
    "duration": 30,
    "start_time": "2023-07-25T15:12:29.140Z"
   },
   {
    "duration": 272,
    "start_time": "2023-07-25T15:12:29.172Z"
   },
   {
    "duration": 20,
    "start_time": "2023-07-25T15:12:29.446Z"
   },
   {
    "duration": 19,
    "start_time": "2023-07-25T15:12:29.468Z"
   },
   {
    "duration": 47,
    "start_time": "2023-07-25T15:12:29.489Z"
   },
   {
    "duration": 26,
    "start_time": "2023-07-25T15:12:29.538Z"
   },
   {
    "duration": 18,
    "start_time": "2023-07-25T15:12:29.565Z"
   },
   {
    "duration": 26,
    "start_time": "2023-07-25T15:12:29.584Z"
   },
   {
    "duration": 36,
    "start_time": "2023-07-25T15:12:29.612Z"
   },
   {
    "duration": 8599,
    "start_time": "2023-07-25T15:12:29.657Z"
   },
   {
    "duration": 41,
    "start_time": "2023-07-25T15:12:38.258Z"
   },
   {
    "duration": 8398,
    "start_time": "2023-07-25T15:12:38.301Z"
   },
   {
    "duration": 90,
    "start_time": "2023-07-25T15:12:46.702Z"
   },
   {
    "duration": 31,
    "start_time": "2023-07-25T15:12:46.794Z"
   },
   {
    "duration": 30,
    "start_time": "2023-07-25T15:12:46.827Z"
   },
   {
    "duration": 28,
    "start_time": "2023-07-25T15:12:46.859Z"
   },
   {
    "duration": 163,
    "start_time": "2023-07-25T15:12:46.888Z"
   },
   {
    "duration": 191,
    "start_time": "2023-07-25T15:12:47.053Z"
   },
   {
    "duration": 11,
    "start_time": "2023-07-25T15:12:47.246Z"
   },
   {
    "duration": 29,
    "start_time": "2023-07-25T15:12:47.259Z"
   },
   {
    "duration": 145,
    "start_time": "2023-07-25T15:12:47.290Z"
   },
   {
    "duration": 3,
    "start_time": "2023-07-25T15:12:47.437Z"
   },
   {
    "duration": 3819,
    "start_time": "2023-07-25T15:12:47.441Z"
   },
   {
    "duration": 835,
    "start_time": "2023-07-25T15:12:51.262Z"
   },
   {
    "duration": 2,
    "start_time": "2023-07-25T15:12:52.100Z"
   },
   {
    "duration": 36,
    "start_time": "2023-07-25T15:12:52.104Z"
   },
   {
    "duration": 13,
    "start_time": "2023-07-25T15:12:52.141Z"
   },
   {
    "duration": 4,
    "start_time": "2023-07-25T15:12:52.156Z"
   },
   {
    "duration": 437601,
    "start_time": "2023-07-25T15:12:52.162Z"
   },
   {
    "duration": 3,
    "start_time": "2023-07-25T15:20:09.765Z"
   },
   {
    "duration": 5,
    "start_time": "2023-07-25T15:20:09.769Z"
   },
   {
    "duration": 147,
    "start_time": "2023-07-25T15:20:09.775Z"
   },
   {
    "duration": 0,
    "start_time": "2023-07-25T15:20:09.924Z"
   },
   {
    "duration": 0,
    "start_time": "2023-07-25T15:20:09.926Z"
   },
   {
    "duration": 0,
    "start_time": "2023-07-25T15:20:09.927Z"
   },
   {
    "duration": 0,
    "start_time": "2023-07-25T15:20:09.928Z"
   },
   {
    "duration": 0,
    "start_time": "2023-07-25T15:20:09.930Z"
   },
   {
    "duration": 0,
    "start_time": "2023-07-25T15:20:09.931Z"
   },
   {
    "duration": 0,
    "start_time": "2023-07-25T15:20:09.932Z"
   },
   {
    "duration": 0,
    "start_time": "2023-07-25T15:20:09.934Z"
   },
   {
    "duration": 0,
    "start_time": "2023-07-25T15:20:09.956Z"
   },
   {
    "duration": 0,
    "start_time": "2023-07-25T15:20:09.958Z"
   },
   {
    "duration": 0,
    "start_time": "2023-07-25T15:20:09.959Z"
   },
   {
    "duration": 0,
    "start_time": "2023-07-25T15:20:09.962Z"
   },
   {
    "duration": 0,
    "start_time": "2023-07-25T15:20:09.963Z"
   },
   {
    "duration": 0,
    "start_time": "2023-07-25T15:20:09.964Z"
   },
   {
    "duration": 0,
    "start_time": "2023-07-25T15:20:09.966Z"
   },
   {
    "duration": 0,
    "start_time": "2023-07-25T15:20:09.967Z"
   },
   {
    "duration": 0,
    "start_time": "2023-07-25T15:20:09.969Z"
   },
   {
    "duration": 0,
    "start_time": "2023-07-25T15:20:09.970Z"
   },
   {
    "duration": 0,
    "start_time": "2023-07-25T15:20:09.972Z"
   },
   {
    "duration": 0,
    "start_time": "2023-07-25T15:20:09.973Z"
   },
   {
    "duration": 0,
    "start_time": "2023-07-25T15:20:09.975Z"
   },
   {
    "duration": 1618,
    "start_time": "2023-07-25T16:40:00.628Z"
   },
   {
    "duration": 923,
    "start_time": "2023-07-25T16:40:02.248Z"
   },
   {
    "duration": 138,
    "start_time": "2023-07-25T16:40:03.173Z"
   },
   {
    "duration": 57,
    "start_time": "2023-07-25T16:40:03.313Z"
   },
   {
    "duration": 87,
    "start_time": "2023-07-25T16:40:03.373Z"
   },
   {
    "duration": 28,
    "start_time": "2023-07-25T16:40:03.461Z"
   },
   {
    "duration": 28,
    "start_time": "2023-07-25T16:40:03.491Z"
   },
   {
    "duration": 25,
    "start_time": "2023-07-25T16:40:03.521Z"
   },
   {
    "duration": 44,
    "start_time": "2023-07-25T16:40:03.547Z"
   },
   {
    "duration": 10,
    "start_time": "2023-07-25T16:40:03.593Z"
   },
   {
    "duration": 38,
    "start_time": "2023-07-25T16:40:03.604Z"
   },
   {
    "duration": 43,
    "start_time": "2023-07-25T16:40:03.644Z"
   },
   {
    "duration": 19,
    "start_time": "2023-07-25T16:40:03.688Z"
   },
   {
    "duration": 302,
    "start_time": "2023-07-25T16:40:03.711Z"
   },
   {
    "duration": 16,
    "start_time": "2023-07-25T16:40:04.015Z"
   },
   {
    "duration": 39,
    "start_time": "2023-07-25T16:40:04.033Z"
   },
   {
    "duration": 305,
    "start_time": "2023-07-25T16:40:04.074Z"
   },
   {
    "duration": 16,
    "start_time": "2023-07-25T16:40:04.381Z"
   },
   {
    "duration": 21,
    "start_time": "2023-07-25T16:40:04.398Z"
   },
   {
    "duration": 38,
    "start_time": "2023-07-25T16:40:04.421Z"
   },
   {
    "duration": 26,
    "start_time": "2023-07-25T16:40:04.464Z"
   },
   {
    "duration": 19,
    "start_time": "2023-07-25T16:40:04.492Z"
   },
   {
    "duration": 32,
    "start_time": "2023-07-25T16:40:04.512Z"
   },
   {
    "duration": 43,
    "start_time": "2023-07-25T16:40:04.546Z"
   },
   {
    "duration": 9136,
    "start_time": "2023-07-25T16:40:04.591Z"
   },
   {
    "duration": 50,
    "start_time": "2023-07-25T16:40:13.729Z"
   },
   {
    "duration": 9548,
    "start_time": "2023-07-25T16:40:13.781Z"
   },
   {
    "duration": 14,
    "start_time": "2023-07-25T16:40:23.331Z"
   },
   {
    "duration": 33,
    "start_time": "2023-07-25T16:40:23.357Z"
   },
   {
    "duration": 15,
    "start_time": "2023-07-25T16:40:23.392Z"
   },
   {
    "duration": 27,
    "start_time": "2023-07-25T16:40:23.409Z"
   },
   {
    "duration": 257,
    "start_time": "2023-07-25T16:40:23.438Z"
   },
   {
    "duration": 232,
    "start_time": "2023-07-25T16:40:23.696Z"
   },
   {
    "duration": 3,
    "start_time": "2023-07-25T16:40:23.929Z"
   },
   {
    "duration": 39,
    "start_time": "2023-07-25T16:40:23.934Z"
   },
   {
    "duration": 142,
    "start_time": "2023-07-25T16:40:23.975Z"
   },
   {
    "duration": 3,
    "start_time": "2023-07-25T16:40:24.119Z"
   },
   {
    "duration": 4044,
    "start_time": "2023-07-25T16:40:24.124Z"
   },
   {
    "duration": 1010,
    "start_time": "2023-07-25T16:40:28.171Z"
   },
   {
    "duration": 3,
    "start_time": "2023-07-25T16:40:29.183Z"
   },
   {
    "duration": 10,
    "start_time": "2023-07-25T16:40:29.189Z"
   },
   {
    "duration": 9,
    "start_time": "2023-07-25T16:40:29.200Z"
   },
   {
    "duration": 5,
    "start_time": "2023-07-25T16:40:29.210Z"
   },
   {
    "duration": 1269,
    "start_time": "2023-07-25T17:15:15.020Z"
   },
   {
    "duration": 977,
    "start_time": "2023-07-25T17:15:16.291Z"
   },
   {
    "duration": 298,
    "start_time": "2023-07-25T17:15:17.275Z"
   },
   {
    "duration": 96,
    "start_time": "2023-07-25T17:15:17.575Z"
   },
   {
    "duration": 124,
    "start_time": "2023-07-25T17:15:17.674Z"
   },
   {
    "duration": 89,
    "start_time": "2023-07-25T17:15:17.800Z"
   },
   {
    "duration": 77,
    "start_time": "2023-07-25T17:15:17.890Z"
   },
   {
    "duration": 30,
    "start_time": "2023-07-25T17:15:17.969Z"
   },
   {
    "duration": 94,
    "start_time": "2023-07-25T17:15:18.001Z"
   },
   {
    "duration": 12,
    "start_time": "2023-07-25T17:15:18.097Z"
   },
   {
    "duration": 53,
    "start_time": "2023-07-25T17:15:18.161Z"
   },
   {
    "duration": 78,
    "start_time": "2023-07-25T17:15:18.216Z"
   },
   {
    "duration": 69,
    "start_time": "2023-07-25T17:15:18.296Z"
   },
   {
    "duration": 716,
    "start_time": "2023-07-25T17:15:18.369Z"
   },
   {
    "duration": 25,
    "start_time": "2023-07-25T17:15:19.087Z"
   },
   {
    "duration": 57,
    "start_time": "2023-07-25T17:15:19.114Z"
   },
   {
    "duration": 288,
    "start_time": "2023-07-25T17:15:19.173Z"
   },
   {
    "duration": 17,
    "start_time": "2023-07-25T17:15:19.464Z"
   },
   {
    "duration": 19,
    "start_time": "2023-07-25T17:15:19.482Z"
   },
   {
    "duration": 37,
    "start_time": "2023-07-25T17:15:19.503Z"
   },
   {
    "duration": 34,
    "start_time": "2023-07-25T17:15:19.542Z"
   },
   {
    "duration": 18,
    "start_time": "2023-07-25T17:15:19.578Z"
   },
   {
    "duration": 86,
    "start_time": "2023-07-25T17:15:19.597Z"
   },
   {
    "duration": 37,
    "start_time": "2023-07-25T17:15:19.685Z"
   },
   {
    "duration": 9603,
    "start_time": "2023-07-25T17:15:19.723Z"
   },
   {
    "duration": 51,
    "start_time": "2023-07-25T17:15:29.328Z"
   },
   {
    "duration": 9418,
    "start_time": "2023-07-25T17:15:29.381Z"
   },
   {
    "duration": 14,
    "start_time": "2023-07-25T17:15:38.801Z"
   },
   {
    "duration": 58,
    "start_time": "2023-07-25T17:15:38.817Z"
   },
   {
    "duration": 23,
    "start_time": "2023-07-25T17:15:38.881Z"
   },
   {
    "duration": 38,
    "start_time": "2023-07-25T17:15:38.907Z"
   },
   {
    "duration": 276,
    "start_time": "2023-07-25T17:15:38.947Z"
   },
   {
    "duration": 204,
    "start_time": "2023-07-25T17:15:39.225Z"
   },
   {
    "duration": 2,
    "start_time": "2023-07-25T17:15:39.431Z"
   },
   {
    "duration": 31,
    "start_time": "2023-07-25T17:15:39.435Z"
   },
   {
    "duration": 138,
    "start_time": "2023-07-25T17:15:39.471Z"
   },
   {
    "duration": 3,
    "start_time": "2023-07-25T17:15:39.611Z"
   },
   {
    "duration": 3281,
    "start_time": "2023-07-25T17:15:39.615Z"
   },
   {
    "duration": 923,
    "start_time": "2023-07-25T17:15:42.898Z"
   },
   {
    "duration": 2,
    "start_time": "2023-07-25T17:15:43.824Z"
   },
   {
    "duration": 14,
    "start_time": "2023-07-25T17:15:43.832Z"
   },
   {
    "duration": 15,
    "start_time": "2023-07-25T17:15:43.848Z"
   },
   {
    "duration": 10,
    "start_time": "2023-07-25T17:15:43.865Z"
   },
   {
    "duration": 1658887,
    "start_time": "2023-07-25T17:15:43.877Z"
   },
   {
    "duration": 3,
    "start_time": "2023-07-25T17:43:22.766Z"
   },
   {
    "duration": 8,
    "start_time": "2023-07-25T17:43:22.770Z"
   },
   {
    "duration": 6782,
    "start_time": "2023-07-25T17:43:22.779Z"
   },
   {
    "duration": 58,
    "start_time": "2023-07-25T17:43:29.563Z"
   },
   {
    "duration": 0,
    "start_time": "2023-07-25T17:43:29.622Z"
   },
   {
    "duration": 0,
    "start_time": "2023-07-25T17:43:29.624Z"
   },
   {
    "duration": 0,
    "start_time": "2023-07-25T17:43:29.625Z"
   },
   {
    "duration": 0,
    "start_time": "2023-07-25T17:43:29.626Z"
   },
   {
    "duration": 0,
    "start_time": "2023-07-25T17:43:29.627Z"
   },
   {
    "duration": 0,
    "start_time": "2023-07-25T17:43:29.628Z"
   },
   {
    "duration": 0,
    "start_time": "2023-07-25T17:43:29.629Z"
   },
   {
    "duration": 0,
    "start_time": "2023-07-25T17:43:29.630Z"
   },
   {
    "duration": 0,
    "start_time": "2023-07-25T17:43:29.631Z"
   },
   {
    "duration": 0,
    "start_time": "2023-07-25T17:43:29.632Z"
   },
   {
    "duration": 0,
    "start_time": "2023-07-25T17:43:29.633Z"
   },
   {
    "duration": 0,
    "start_time": "2023-07-25T17:43:29.634Z"
   },
   {
    "duration": 0,
    "start_time": "2023-07-25T17:43:29.635Z"
   },
   {
    "duration": 0,
    "start_time": "2023-07-25T17:43:29.636Z"
   },
   {
    "duration": 0,
    "start_time": "2023-07-25T17:43:29.656Z"
   },
   {
    "duration": 0,
    "start_time": "2023-07-25T17:43:29.657Z"
   },
   {
    "duration": 0,
    "start_time": "2023-07-25T17:43:29.658Z"
   },
   {
    "duration": 0,
    "start_time": "2023-07-25T17:43:29.659Z"
   },
   {
    "duration": 0,
    "start_time": "2023-07-25T17:43:29.660Z"
   },
   {
    "duration": 0,
    "start_time": "2023-07-25T17:43:29.661Z"
   },
   {
    "duration": 2333,
    "start_time": "2023-07-25T18:49:13.044Z"
   },
   {
    "duration": 75,
    "start_time": "2023-07-25T18:49:16.598Z"
   },
   {
    "duration": 4,
    "start_time": "2023-07-25T18:49:22.670Z"
   },
   {
    "duration": 63,
    "start_time": "2023-07-25T18:49:23.919Z"
   },
   {
    "duration": 4,
    "start_time": "2023-07-25T18:50:00.661Z"
   },
   {
    "duration": 3,
    "start_time": "2023-07-25T18:50:02.918Z"
   },
   {
    "duration": 2,
    "start_time": "2023-07-25T18:50:03.903Z"
   },
   {
    "duration": 5,
    "start_time": "2023-07-25T18:50:15.264Z"
   },
   {
    "duration": 2,
    "start_time": "2023-07-25T18:50:20.522Z"
   },
   {
    "duration": 3,
    "start_time": "2023-07-25T18:50:21.007Z"
   },
   {
    "duration": 6,
    "start_time": "2023-07-25T18:50:25.577Z"
   },
   {
    "duration": 3,
    "start_time": "2023-07-25T18:50:26.312Z"
   },
   {
    "duration": 5,
    "start_time": "2023-07-25T18:50:26.980Z"
   },
   {
    "duration": 59437,
    "start_time": "2023-07-25T18:50:27.714Z"
   },
   {
    "duration": 4,
    "start_time": "2023-07-25T18:51:51.599Z"
   },
   {
    "duration": 4,
    "start_time": "2023-07-25T18:52:16.771Z"
   },
   {
    "duration": 209,
    "start_time": "2023-07-25T18:52:18.089Z"
   },
   {
    "duration": 27,
    "start_time": "2023-07-25T18:52:18.738Z"
   },
   {
    "duration": 4,
    "start_time": "2023-07-25T18:52:20.917Z"
   },
   {
    "duration": 9,
    "start_time": "2023-07-25T18:52:28.232Z"
   },
   {
    "duration": 34,
    "start_time": "2023-07-25T18:52:43.758Z"
   }
  ],
  "kernelspec": {
   "display_name": "Python 3 (ipykernel)",
   "language": "python",
   "name": "python3"
  },
  "language_info": {
   "codemirror_mode": {
    "name": "ipython",
    "version": 3
   },
   "file_extension": ".py",
   "mimetype": "text/x-python",
   "name": "python",
   "nbconvert_exporter": "python",
   "pygments_lexer": "ipython3",
   "version": "3.9.16"
  },
  "toc": {
   "base_numbering": 1,
   "nav_menu": {},
   "number_sections": true,
   "sideBar": true,
   "skip_h1_title": true,
   "title_cell": "Содержание",
   "title_sidebar": "Contents",
   "toc_cell": true,
   "toc_position": {
    "height": "calc(100% - 180px)",
    "left": "10px",
    "top": "150px",
    "width": "164.984px"
   },
   "toc_section_display": true,
   "toc_window_display": true
  }
 },
 "nbformat": 4,
 "nbformat_minor": 2
}
